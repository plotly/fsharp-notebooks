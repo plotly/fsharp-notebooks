{
 "cells": [
  {
   "cell_type": "code",
   "execution_count": null,
   "metadata": {
    "dotnet_interactive": {
     "language": "fsharp"
    }
   },
   "outputs": [
    {
     "data": {
      "text/html": [
       "<div><div></div><div></div><div><strong>Installed Packages</strong><ul><li><span>FSharp.Data, 4.2.4</span></li><li><span>Plotly.NET, 2.0.0-preview.10</span></li><li><span>Plotly.NET.Interactive, 2.0.0-preview.10</span></li></ul></div></div>"
      ]
     },
     "metadata": {},
     "output_type": "display_data"
    }
   ],
   "source": [
    "#r \"nuget: Plotly.NET, 2.0.0-preview.10\"\n",
    "#r \"nuget: Plotly.NET.Interactive, 2.0.0-preview.10\"\n",
    "#r \"nuget: FSharp.Data\""
   ]
  },
  {
   "cell_type": "markdown",
   "metadata": {},
   "source": [
    "For functions representing 2D data points such as Chart.Scatter, Chart.Line, Chart.Bar etc., error bars are given by setting the ErrorX (for the error on x position) and ErrorY (for the error on y position)."
   ]
  },
  {
   "cell_type": "markdown",
   "metadata": {},
   "source": [
    "# Basic Symmetric Error Bars"
   ]
  },
  {
   "cell_type": "code",
   "execution_count": null,
   "metadata": {
    "dotnet_interactive": {
     "language": "fsharp"
    }
   },
   "outputs": [
    {
     "data": {
      "text/html": [
       "<div id=\"f57d90af-6b7e-412f-9376-435d3685050d\" style=\"width: 600px; height: 600px;\"><!-- Plotly chart will be drawn inside this DIV --></div>\r\n",
       "<script type=\"text/javascript\">\r\n",
       "\n",
       "            var renderPlotly_f57d90af6b7e412f9376435d3685050d = function() {\n",
       "            var fsharpPlotlyRequire = requirejs.config({context:'fsharp-plotly',paths:{plotly:'https://cdn.plot.ly/plotly-2.4.2.min'}}) || require;\n",
       "            fsharpPlotlyRequire(['plotly'], function(Plotly) {\r\n",
       "\n",
       "            var data = [{\"type\":\"scatter\",\"mode\":\"lines+markers\",\"x\":[0,1,2],\"y\":[6,10,2],\"line\":{},\"marker\":{},\"error_y\":{\"array\":[1,2,3]}}];\n",
       "            var layout = {};\n",
       "            var config = {};\n",
       "            Plotly.newPlot('f57d90af-6b7e-412f-9376-435d3685050d', data, layout, config);\r\n",
       "});\n",
       "            };\n",
       "            if ((typeof(requirejs) !==  typeof(Function)) || (typeof(requirejs.config) !== typeof(Function))) {\n",
       "                var script = document.createElement(\"script\");\n",
       "                script.setAttribute(\"src\", \"https://cdnjs.cloudflare.com/ajax/libs/require.js/2.3.6/require.min.js\");\n",
       "                script.onload = function(){\n",
       "                    renderPlotly_f57d90af6b7e412f9376435d3685050d();\n",
       "                };\n",
       "                document.getElementsByTagName(\"head\")[0].appendChild(script);\n",
       "            }\n",
       "            else {\n",
       "                renderPlotly_f57d90af6b7e412f9376435d3685050d();\n",
       "            }\r\n",
       "</script>\r\n"
      ]
     },
     "metadata": {},
     "output_type": "display_data"
    }
   ],
   "source": [
    "open Plotly.NET\n",
    "\n",
    "Chart.Scatter(x = [ 0; 1; 2 ], y = [ 6; 10; 2 ], mode = StyleParam.Mode.Lines_Markers)\n",
    "|> Chart.withYErrorStyle (Array = [ 1; 2; 3 ])"
   ]
  },
  {
   "cell_type": "markdown",
   "metadata": {},
   "source": [
    "# Asymmetric Error Bars"
   ]
  },
  {
   "cell_type": "code",
   "execution_count": null,
   "metadata": {
    "dotnet_interactive": {
     "language": "csharp"
    }
   },
   "outputs": [
    {
     "data": {
      "text/html": [
       "<div id=\"11ec0a42-fc01-48fc-8e21-1a76f4e101d3\" style=\"width: 600px; height: 600px;\"><!-- Plotly chart will be drawn inside this DIV --></div>\r\n",
       "<script type=\"text/javascript\">\r\n",
       "\n",
       "            var renderPlotly_11ec0a42fc0148fc8e211a76f4e101d3 = function() {\n",
       "            var fsharpPlotlyRequire = requirejs.config({context:'fsharp-plotly',paths:{plotly:'https://cdn.plot.ly/plotly-2.4.2.min'}}) || require;\n",
       "            fsharpPlotlyRequire(['plotly'], function(Plotly) {\r\n",
       "\n",
       "            var data = [{\"type\":\"scatter\",\"mode\":\"lines+markers\",\"x\":[1,2,3,4],\"y\":[2,1,3,4],\"line\":{},\"marker\":{},\"error_y\":{\"symmetric\":false,\"array\":[0.1,0.2,0.1,0.1],\"arrayminus\":[0.2,0.4,1.0,0.2]}}];\n",
       "            var layout = {};\n",
       "            var config = {};\n",
       "            Plotly.newPlot('11ec0a42-fc01-48fc-8e21-1a76f4e101d3', data, layout, config);\r\n",
       "});\n",
       "            };\n",
       "            if ((typeof(requirejs) !==  typeof(Function)) || (typeof(requirejs.config) !== typeof(Function))) {\n",
       "                var script = document.createElement(\"script\");\n",
       "                script.setAttribute(\"src\", \"https://cdnjs.cloudflare.com/ajax/libs/require.js/2.3.6/require.min.js\");\n",
       "                script.onload = function(){\n",
       "                    renderPlotly_11ec0a42fc0148fc8e211a76f4e101d3();\n",
       "                };\n",
       "                document.getElementsByTagName(\"head\")[0].appendChild(script);\n",
       "            }\n",
       "            else {\n",
       "                renderPlotly_11ec0a42fc0148fc8e211a76f4e101d3();\n",
       "            }\r\n",
       "</script>\r\n"
      ]
     },
     "metadata": {},
     "output_type": "display_data"
    }
   ],
   "source": [
    "open Plotly.NET\n",
    "\n",
    "Chart.Scatter(x = [ 1; 2; 3; 4 ], y = [ 2; 1; 3; 4 ], mode = StyleParam.Mode.Lines_Markers)\n",
    "|> Chart.withYErrorStyle (Array = [ 0.1; 0.2; 0.1; 0.1 ], Arrayminus = [ 0.2; 0.4; 1.; 0.2 ], Symmetric = false)"
   ]
  },
  {
   "cell_type": "markdown",
   "metadata": {},
   "source": [
    "# Error Bars as a Percentage of the y Value"
   ]
  },
  {
   "cell_type": "code",
   "execution_count": null,
   "metadata": {
    "dotnet_interactive": {
     "language": "fsharp"
    }
   },
   "outputs": [
    {
     "data": {
      "text/html": [
       "<div id=\"877a5515-81a1-433d-b3b2-3e9cec85061c\" style=\"width: 600px; height: 600px;\"><!-- Plotly chart will be drawn inside this DIV --></div>\r\n",
       "<script type=\"text/javascript\">\r\n",
       "\n",
       "            var renderPlotly_877a551581a1433db3b23e9cec85061c = function() {\n",
       "            var fsharpPlotlyRequire = requirejs.config({context:'fsharp-plotly',paths:{plotly:'https://cdn.plot.ly/plotly-2.4.2.min'}}) || require;\n",
       "            fsharpPlotlyRequire(['plotly'], function(Plotly) {\r\n",
       "\n",
       "            var data = [{\"type\":\"scatter\",\"mode\":\"lines+markers\",\"x\":[0,1,2],\"y\":[6,10,2],\"line\":{},\"marker\":{},\"error_y\":{\"value\":10.0}}];\n",
       "            var layout = {};\n",
       "            var config = {};\n",
       "            Plotly.newPlot('877a5515-81a1-433d-b3b2-3e9cec85061c', data, layout, config);\r\n",
       "});\n",
       "            };\n",
       "            if ((typeof(requirejs) !==  typeof(Function)) || (typeof(requirejs.config) !== typeof(Function))) {\n",
       "                var script = document.createElement(\"script\");\n",
       "                script.setAttribute(\"src\", \"https://cdnjs.cloudflare.com/ajax/libs/require.js/2.3.6/require.min.js\");\n",
       "                script.onload = function(){\n",
       "                    renderPlotly_877a551581a1433db3b23e9cec85061c();\n",
       "                };\n",
       "                document.getElementsByTagName(\"head\")[0].appendChild(script);\n",
       "            }\n",
       "            else {\n",
       "                renderPlotly_877a551581a1433db3b23e9cec85061c();\n",
       "            }\r\n",
       "</script>\r\n"
      ]
     },
     "metadata": {},
     "output_type": "display_data"
    }
   ],
   "source": [
    "open Plotly.NET\n",
    "open Plotly.NET.TraceObjects\n",
    "\n",
    "Chart.Scatter(x = [ 0; 1; 2 ], y = [ 6; 10; 2 ], mode = StyleParam.Mode.Lines_Markers)\n",
    "|> Chart.withYError (Error.init (Type = StyleParam.ErrorType.Percent, Value = 50.)) // value of error bar given as percentage of y value"
   ]
  },
  {
   "cell_type": "markdown",
   "metadata": {},
   "source": [
    "# Asymmetric Error Bars with a Constant Offset"
   ]
  },
  {
   "cell_type": "code",
   "execution_count": null,
   "metadata": {
    "dotnet_interactive": {
     "language": "fsharp"
    }
   },
   "outputs": [
    {
     "data": {
      "text/html": [
       "<div id=\"e6de78a7-1d2b-4e68-a11c-188e4ea1ebdf\" style=\"width: 600px; height: 600px;\"><!-- Plotly chart will be drawn inside this DIV --></div>\r\n",
       "<script type=\"text/javascript\">\r\n",
       "\n",
       "            var renderPlotly_e6de78a71d2b4e68a11c188e4ea1ebdf = function() {\n",
       "            var fsharpPlotlyRequire = requirejs.config({context:'fsharp-plotly',paths:{plotly:'https://cdn.plot.ly/plotly-2.4.2.min'}}) || require;\n",
       "            fsharpPlotlyRequire(['plotly'], function(Plotly) {\r\n",
       "\n",
       "            var data = [{\"type\":\"scatter\",\"mode\":\"lines+markers\",\"x\":[1,2,3,4],\"y\":[2,1,3,4],\"line\":{},\"marker\":{},\"error_y\":{\"symmetric\":false,\"array\":[0.1,0.2,0.1,0.1],\"arrayminus\":[0.2,0.4,1.0,0.2],\"value\":15.0,\"valueminus\":25.0}}];\n",
       "            var layout = {};\n",
       "            var config = {};\n",
       "            Plotly.newPlot('e6de78a7-1d2b-4e68-a11c-188e4ea1ebdf', data, layout, config);\r\n",
       "});\n",
       "            };\n",
       "            if ((typeof(requirejs) !==  typeof(Function)) || (typeof(requirejs.config) !== typeof(Function))) {\n",
       "                var script = document.createElement(\"script\");\n",
       "                script.setAttribute(\"src\", \"https://cdnjs.cloudflare.com/ajax/libs/require.js/2.3.6/require.min.js\");\n",
       "                script.onload = function(){\n",
       "                    renderPlotly_e6de78a71d2b4e68a11c188e4ea1ebdf();\n",
       "                };\n",
       "                document.getElementsByTagName(\"head\")[0].appendChild(script);\n",
       "            }\n",
       "            else {\n",
       "                renderPlotly_e6de78a71d2b4e68a11c188e4ea1ebdf();\n",
       "            }\r\n",
       "</script>\r\n"
      ]
     },
     "metadata": {},
     "output_type": "display_data"
    }
   ],
   "source": [
    "open Plotly.NET\n",
    "\n",
    "Chart.Scatter(x = [ 1; 2; 3; 4 ], y = [ 2; 1; 3; 4 ], mode = StyleParam.Mode.Lines_Markers)\n",
    "|> Chart.withYError (\n",
    "    Error.init (\n",
    "        Array = [ 0.1; 0.2; 0.1; 0.1 ],\n",
    "        Arrayminus = [ 0.2; 0.4; 1.; 0.2 ],\n",
    "        Symmetric = false,\n",
    "        Value = 15.,\n",
    "        Valueminus = 25.\n",
    "    )\n",
    ")"
   ]
  },
  {
   "cell_type": "markdown",
   "metadata": {},
   "source": [
    "# Horizontal Error Bars"
   ]
  },
  {
   "cell_type": "code",
   "execution_count": null,
   "metadata": {
    "dotnet_interactive": {
     "language": "fsharp"
    }
   },
   "outputs": [
    {
     "data": {
      "text/html": [
       "<div id=\"0e190f90-faf5-4b61-bc64-20ae3da3a2e0\" style=\"width: 600px; height: 600px;\"><!-- Plotly chart will be drawn inside this DIV --></div>\r\n",
       "<script type=\"text/javascript\">\r\n",
       "\n",
       "            var renderPlotly_0e190f90faf54b61bc6420ae3da3a2e0 = function() {\n",
       "            var fsharpPlotlyRequire = requirejs.config({context:'fsharp-plotly',paths:{plotly:'https://cdn.plot.ly/plotly-2.4.2.min'}}) || require;\n",
       "            fsharpPlotlyRequire(['plotly'], function(Plotly) {\r\n",
       "\n",
       "            var data = [{\"type\":\"scatter\",\"mode\":\"lines+markers\",\"x\":[1,2,3,4],\"y\":[2,1,3,4],\"line\":{},\"marker\":{},\"error_x\":{\"value\":10.0}}];\n",
       "            var layout = {};\n",
       "            var config = {};\n",
       "            Plotly.newPlot('0e190f90-faf5-4b61-bc64-20ae3da3a2e0', data, layout, config);\r\n",
       "});\n",
       "            };\n",
       "            if ((typeof(requirejs) !==  typeof(Function)) || (typeof(requirejs.config) !== typeof(Function))) {\n",
       "                var script = document.createElement(\"script\");\n",
       "                script.setAttribute(\"src\", \"https://cdnjs.cloudflare.com/ajax/libs/require.js/2.3.6/require.min.js\");\n",
       "                script.onload = function(){\n",
       "                    renderPlotly_0e190f90faf54b61bc6420ae3da3a2e0();\n",
       "                };\n",
       "                document.getElementsByTagName(\"head\")[0].appendChild(script);\n",
       "            }\n",
       "            else {\n",
       "                renderPlotly_0e190f90faf54b61bc6420ae3da3a2e0();\n",
       "            }\r\n",
       "</script>\r\n"
      ]
     },
     "metadata": {},
     "output_type": "display_data"
    }
   ],
   "source": [
    "open Plotly.NET\n",
    "\n",
    "Chart.Scatter(x = [ 1; 2; 3; 4 ], y = [ 2; 1; 3; 4 ], mode = StyleParam.Mode.Lines_Markers)\n",
    "|> Chart.withXError (Error.init (Type = StyleParam.ErrorType.Percent, Value = 10.))"
   ]
  },
  {
   "cell_type": "markdown",
   "metadata": {},
   "source": [
    "# Bar Chart with Error Bars"
   ]
  },
  {
   "cell_type": "code",
   "execution_count": null,
   "metadata": {
    "dotnet_interactive": {
     "language": "fsharp"
    }
   },
   "outputs": [
    {
     "data": {
      "text/html": [
       "<div id=\"60b71d46-0d98-4573-ae30-44712c2cd0db\" style=\"width: 600px; height: 600px;\"><!-- Plotly chart will be drawn inside this DIV --></div>\r\n",
       "<script type=\"text/javascript\">\r\n",
       "\n",
       "            var renderPlotly_60b71d460d984573ae3044712c2cd0db = function() {\n",
       "            var fsharpPlotlyRequire = requirejs.config({context:'fsharp-plotly',paths:{plotly:'https://cdn.plot.ly/plotly-2.4.2.min'}}) || require;\n",
       "            fsharpPlotlyRequire(['plotly'], function(Plotly) {\r\n",
       "\n",
       "            var data = [{\"type\":\"bar\",\"name\":\"Control\",\"showlegend\":true,\"x\":[\"Trial 1\",\"Trial 2\",\"Trial 3\"],\"y\":[3,6,4],\"orientation\":\"v\",\"marker\":{\"pattern\":{}},\"error_y\":{\"array\":[1.0,0.5,1.5]}},{\"type\":\"bar\",\"name\":\"Experimental\",\"showlegend\":true,\"x\":[\"Trial 1\",\"Trial 2\",\"Trial 3\"],\"y\":[4,7,3],\"orientation\":\"v\",\"marker\":{\"pattern\":{}},\"error_y\":{\"array\":[0.5,1.0,2.0]}}];\n",
       "            var layout = {};\n",
       "            var config = {};\n",
       "            Plotly.newPlot('60b71d46-0d98-4573-ae30-44712c2cd0db', data, layout, config);\r\n",
       "});\n",
       "            };\n",
       "            if ((typeof(requirejs) !==  typeof(Function)) || (typeof(requirejs.config) !== typeof(Function))) {\n",
       "                var script = document.createElement(\"script\");\n",
       "                script.setAttribute(\"src\", \"https://cdnjs.cloudflare.com/ajax/libs/require.js/2.3.6/require.min.js\");\n",
       "                script.onload = function(){\n",
       "                    renderPlotly_60b71d460d984573ae3044712c2cd0db();\n",
       "                };\n",
       "                document.getElementsByTagName(\"head\")[0].appendChild(script);\n",
       "            }\n",
       "            else {\n",
       "                renderPlotly_60b71d460d984573ae3044712c2cd0db();\n",
       "            }\r\n",
       "</script>\r\n"
      ]
     },
     "metadata": {},
     "output_type": "display_data"
    }
   ],
   "source": [
    "open Plotly.NET\n",
    "\n",
    "[ \n",
    "    Chart.Column(Keys = [ \"Trial 1\"; \"Trial 2\"; \"Trial 3\" ], values = [ 3; 6; 4 ], Name = \"Control\", ShowLegend = true)\n",
    "    |> Chart.withYErrorStyle (Array = [ 1.; 0.5; 1.5 ])\n",
    "\n",
    "    Chart.Column(\n",
    "      Keys = [ \"Trial 1\"; \"Trial 2\"; \"Trial 3\" ],\n",
    "      values = [ 4; 7; 3 ],\n",
    "      Name = \"Experimental\",\n",
    "      ShowLegend = true)\n",
    "    |> Chart.withYErrorStyle (Array = [ 0.5; 1.; 2. ])\n",
    "]\n",
    "|> Chart.combine"
   ]
  },
  {
   "cell_type": "markdown",
   "metadata": {},
   "source": [
    "# Colored and Styled Error Bars"
   ]
  },
  {
   "cell_type": "code",
   "execution_count": null,
   "metadata": {
    "dotnet_interactive": {
     "language": "fsharp"
    }
   },
   "outputs": [
    {
     "data": {
      "text/html": [
       "<div id=\"dcd86d96-f23d-4001-b692-fa1667db86f8\" style=\"width: 600px; height: 600px;\"><!-- Plotly chart will be drawn inside this DIV --></div>\r\n",
       "<script type=\"text/javascript\">\r\n",
       "\n",
       "            var renderPlotly_dcd86d96f23d4001b692fa1667db86f8 = function() {\n",
       "            var fsharpPlotlyRequire = requirejs.config({context:'fsharp-plotly',paths:{plotly:'https://cdn.plot.ly/plotly-2.4.2.min'}}) || require;\n",
       "            fsharpPlotlyRequire(['plotly'], function(Plotly) {\r\n",
       "\n",
       "            var data = [{\"type\":\"scatter\",\"mode\":\"lines\",\"x\":[-4.0,-3.92,-3.84,-3.76,-3.68,-3.6,-3.52,-3.44,-3.36,-3.2800000000000002,-3.2,-3.12,-3.04,-2.96,-2.88,-2.8,-2.7199999999999998,-2.6399999999999997,-2.56,-2.48,-2.4,-2.3200000000000003,-2.24,-2.16,-2.08,-2.0,-1.92,-1.8399999999999999,-1.7599999999999998,-1.6800000000000002,-1.6,-1.52,-1.44,-1.3599999999999999,-1.2799999999999998,-1.1999999999999997,-1.12,-1.04,-0.96,-0.8799999999999999,-0.7999999999999998,-0.7199999999999998,-0.6400000000000001,-0.56,-0.48,-0.3999999999999999,-0.31999999999999984,-0.23999999999999977,-0.16000000000000014,-0.08000000000000007,0.0,0.08000000000000007,0.16000000000000014,0.2400000000000002,0.3200000000000003,0.40000000000000036,0.4800000000000004,0.5600000000000005,0.6399999999999997,0.7199999999999998,0.7999999999999998,0.8799999999999999,0.96,1.04,1.12,1.2000000000000002,1.2800000000000002,1.3600000000000003,1.4400000000000004,1.5200000000000005,1.6000000000000005,1.6799999999999997,1.7599999999999998,1.8399999999999999,1.92,2.0,2.08,2.16,2.24,2.3200000000000003,2.4000000000000004,2.4800000000000004,2.5600000000000005,2.6400000000000006,2.7199999999999998,2.8,2.88,2.96,3.04,3.12,3.2,3.2800000000000002,3.3600000000000003,3.4400000000000004,3.5200000000000005,3.6000000000000005,3.6799999999999997,3.76,3.84,3.92,4.0],\"y\":[-3.8981718325193755E-17,-0.02019399226492473,-0.03993410343019279,-0.05795162536585227,-0.07303204507291917,-0.0840918587378508,-0.09025050407226821,-0.09089294854047603,-0.08571886788287895,-0.0747749946984954,-0.05846808023678991,-0.037556950149525155,-0.013123291878585462,0.01347797544287163,0.040686695995318996,0.06682066312775996,0.0901698465481857,0.10909674094184608,0.12213739960126466,0.12809748965096132,0.12613778810677617,0.11584393356394075,0.09727594257839481,0.07099396165367597,0.038057908499281104,-3.8981718325193755E-17,-0.04122940087422128,-0.08334073759344579,-0.12380574509977531,-0.15997495587401336,-0.18920668216016426,-0.2090011673252527,-0.21713315484669274,-0.21177602653417163,-0.1916109239148944,-0.15591488063143966,-0.10462293255939178,-0.038360391645096296,0.04155709094885441,0.13315645962104422,0.23387232094715998,0.3406416425153684,0.4500240563851147,0.5583423981772098,0.6618370298633003,0.7568267286406571,0.8398685183385706,0.9079087973983508,0.9584184823246248,0.9895056209813083,\"NaN\",0.9895056209813083,0.9584184823246248,0.9079087973983506,0.8398685183385701,0.7568267286406566,0.6618370298632997,0.5583423981772092,0.45002405638511533,0.3406416425153684,0.23387232094715998,0.13315645962104422,0.04155709094885441,-0.038360391645096296,-0.10462293255939178,-0.15591488063143988,-0.1916109239148945,-0.2117760265341717,-0.21713315484669274,-0.20900116732525262,-0.1892066821601641,-0.1599749558740135,-0.12380574509977531,-0.08334073759344579,-0.04122940087422128,-3.8981718325193755E-17,0.038057908499281104,0.07099396165367597,0.09727594257839481,0.11584393356394075,0.12613778810677617,0.12809748965096132,0.12213739960126466,0.10909674094184596,0.0901698465481857,0.06682066312775996,0.040686695995318996,0.01347797544287163,-0.013123291878585462,-0.037556950149525155,-0.05846808023678991,-0.0747749946984954,-0.08571886788287902,-0.09089294854047604,-0.09025050407226819,-0.08409185873785073,-0.07303204507291926,-0.05795162536585227,-0.03993410343019279,-0.02019399226492473,-3.8981718325193755E-17],\"name\":\"sinc(x)\",\"line\":{},\"marker\":{}},{\"type\":\"scatter\",\"mode\":\"markers\",\"x\":[-3.8,-3.03,-1.91,-1.46,-0.89,-0.24,-0.0,0.41,0.89,1.01,1.91,2.28,2.79,3.56],\"y\":[-0.02,0.04,-0.01,-0.27,0.36,0.75,1.03,0.65,0.28,0.02,-0.11,0.16,0.04,-0.15],\"name\":\"measured\",\"line\":{},\"marker\":{\"color\":\"purple\",\"size\":8},\"error_y\":{\"value\":0.1,\"color\":\"purple\",\"thickness\":1.5,\"width\":3.0},\"error_x\":{\"value\":0.2,\"color\":\"purple\",\"thickness\":1.5,\"width\":3.0}}];\n",
       "            var layout = {};\n",
       "            var config = {};\n",
       "            Plotly.newPlot('dcd86d96-f23d-4001-b692-fa1667db86f8', data, layout, config);\r\n",
       "});\n",
       "            };\n",
       "            if ((typeof(requirejs) !==  typeof(Function)) || (typeof(requirejs.config) !== typeof(Function))) {\n",
       "                var script = document.createElement(\"script\");\n",
       "                script.setAttribute(\"src\", \"https://cdnjs.cloudflare.com/ajax/libs/require.js/2.3.6/require.min.js\");\n",
       "                script.onload = function(){\n",
       "                    renderPlotly_dcd86d96f23d4001b692fa1667db86f8();\n",
       "                };\n",
       "                document.getElementsByTagName(\"head\")[0].appendChild(script);\n",
       "            }\n",
       "            else {\n",
       "                renderPlotly_dcd86d96f23d4001b692fa1667db86f8();\n",
       "            }\r\n",
       "</script>\r\n"
      ]
     },
     "metadata": {},
     "output_type": "display_data"
    }
   ],
   "source": [
    "open Plotly.NET\n",
    "open System\n",
    "\n",
    "let x_theo = [-4. .. 0.08 ..4.]\n",
    "let sincx = [for x in x_theo -> Math.Sin(Math.PI*x)/(Math.PI*x)]\n",
    "\n",
    "let x = [-3.8; -3.03; -1.91; -1.46; -0.89; -0.24; -0.0; 0.41; 0.89; 1.01; 1.91; 2.28; 2.79; 3.56]\n",
    "let y = [-0.02; 0.04; -0.01; -0.27; 0.36; 0.75; 1.03; 0.65; 0.28; 0.02; -0.11; 0.16; 0.04; -0.15]\n",
    "\n",
    "[ Chart.Scatter(x = x_theo, y = sincx, mode = StyleParam.Mode.Lines, Name = \"sinc(x)\")\n",
    "\n",
    "  Chart.Scatter(x = x, y = y, mode = StyleParam.Mode.Markers, Name = \"measured\")\n",
    "  |> Chart.withYError (\n",
    "      Error.init (\n",
    "          Type = StyleParam.ErrorType.Constant,\n",
    "          Value = 0.1,\n",
    "          Color = Color.fromString \"purple\",\n",
    "          Thickness = 1.5,\n",
    "          Width = 3.\n",
    "      )\n",
    "  )\n",
    "  |> Chart.withXError (\n",
    "      Error.init (\n",
    "          Type = StyleParam.ErrorType.Constant,\n",
    "          Value = 0.2,\n",
    "          Color = Color.fromString \"purple\",\n",
    "          Thickness = 1.5,\n",
    "          Width = 3.\n",
    "      )\n",
    "  )\n",
    "  |> Chart.withMarkerStyle (Size = 8, Color = Color.fromString \"purple\") ]\n",
    "|> Chart.combine"
   ]
  },
  {
   "cell_type": "code",
   "execution_count": null,
   "metadata": {
    "dotnet_interactive": {
     "language": "fsharp"
    }
   },
   "outputs": [
    {
     "data": {
      "text/html": [
       "<div id=\"e90f3c0f-15da-4880-8da2-5e2189b85f69\" style=\"width: 600px; height: 600px;\"><!-- Plotly chart will be drawn inside this DIV --></div>\r\n",
       "<script type=\"text/javascript\">\r\n",
       "\n",
       "            var renderPlotly_e90f3c0f15da48808da25e2189b85f69 = function() {\n",
       "            var fsharpPlotlyRequire = requirejs.config({context:'fsharp-plotly',paths:{plotly:'https://cdn.plot.ly/plotly-2.4.2.min'}}) || require;\n",
       "            fsharpPlotlyRequire(['plotly'], function(Plotly) {\r\n",
       "\n",
       "            var data = [{\"type\":\"scatter\",\"mode\":\"markers\",\"x\":[3.5,3.0,3.2,3.1,3.6,3.9,3.4,3.4,2.9,3.1,3.7,3.4,3.0,3.0,4.0,4.4,3.9,3.5,3.8,3.8,3.4,3.7,3.6,3.3,3.4,3.0,3.4,3.5,3.4,3.2,3.1,3.4,4.1,4.2,3.1,3.2,3.5,3.1,3.0,3.4,3.5,2.3,3.2,3.5,3.8,3.0,3.8,3.2,3.7,3.3,3.2,3.2,3.1,2.3,2.8,2.8,3.3,2.4,2.9,2.7,2.0,3.0,2.2,2.9,2.9,3.1,3.0,2.7,2.2,2.5,3.2,2.8,2.5,2.8,2.9,3.0,2.8,3.0,2.9,2.6,2.4,2.4,2.7,2.7,3.0,3.4,3.1,2.3,3.0,2.5,2.6,3.0,2.6,2.3,2.7,3.0,2.9,2.9,2.5,2.8,3.3,2.7,3.0,2.9,3.0,3.0,2.5,2.9,2.5,3.6,3.2,2.7,3.0,2.5,2.8,3.2,3.0,3.8,2.6,2.2,3.2,2.8,2.8,2.7,3.3,3.2,2.8,3.0,2.8,3.0,2.8,3.8,2.8,2.8,2.6,3.0,3.4,3.1,3.0,3.1,3.1,3.1,2.7,3.2,3.3,3.0,2.5,3.0,3.4,3.0],\"y\":[5.1,4.9,4.7,4.6,5.0,5.4,4.6,5.0,4.4,4.9,5.4,4.8,4.8,4.3,5.8,5.7,5.4,5.1,5.7,5.1,5.4,5.1,4.6,5.1,4.8,5.0,5.0,5.2,5.2,4.7,4.8,5.4,5.2,5.5,4.9,5.0,5.5,4.9,4.4,5.1,5.0,4.5,4.4,5.0,5.1,4.8,5.1,4.6,5.3,5.0,7.0,6.4,6.9,5.5,6.5,5.7,6.3,4.9,6.6,5.2,5.0,5.9,6.0,6.1,5.6,6.7,5.6,5.8,6.2,5.6,5.9,6.1,6.3,6.1,6.4,6.6,6.8,6.7,6.0,5.7,5.5,5.5,5.8,6.0,5.4,6.0,6.7,6.3,5.6,5.5,5.5,6.1,5.8,5.0,5.6,5.7,5.7,6.2,5.1,5.7,6.3,5.8,7.1,6.3,6.5,7.6,4.9,7.3,6.7,7.2,6.5,6.4,6.8,5.7,5.8,6.4,6.5,7.7,7.7,6.0,6.9,5.6,7.7,6.3,6.7,7.2,6.2,6.1,6.4,7.2,7.4,7.9,6.4,6.3,6.1,7.7,6.3,6.4,6.0,6.9,6.7,6.9,5.8,6.8,6.7,6.7,6.3,6.5,6.2,5.9],\"line\":{\"color\":[\"red\",\"red\",\"red\",\"red\",\"red\",\"red\",\"red\",\"red\",\"red\",\"red\",\"red\",\"red\",\"red\",\"red\",\"red\",\"red\",\"red\",\"red\",\"red\",\"red\",\"red\",\"red\",\"red\",\"red\",\"red\",\"red\",\"red\",\"red\",\"red\",\"red\",\"red\",\"red\",\"red\",\"red\",\"red\",\"red\",\"red\",\"red\",\"red\",\"red\",\"red\",\"red\",\"red\",\"red\",\"red\",\"red\",\"red\",\"red\",\"red\",\"red\",\"blue\",\"blue\",\"blue\",\"blue\",\"blue\",\"blue\",\"blue\",\"blue\",\"blue\",\"blue\",\"blue\",\"blue\",\"blue\",\"blue\",\"blue\",\"blue\",\"blue\",\"blue\",\"blue\",\"blue\",\"blue\",\"blue\",\"blue\",\"blue\",\"blue\",\"blue\",\"blue\",\"blue\",\"blue\",\"blue\",\"blue\",\"blue\",\"blue\",\"blue\",\"blue\",\"blue\",\"blue\",\"blue\",\"blue\",\"blue\",\"blue\",\"blue\",\"blue\",\"blue\",\"blue\",\"blue\",\"blue\",\"blue\",\"blue\",\"blue\",\"yellow\",\"yellow\",\"yellow\",\"yellow\",\"yellow\",\"yellow\",\"yellow\",\"yellow\",\"yellow\",\"yellow\",\"yellow\",\"yellow\",\"yellow\",\"yellow\",\"yellow\",\"yellow\",\"yellow\",\"yellow\",\"yellow\",\"yellow\",\"yellow\",\"yellow\",\"yellow\",\"yellow\",\"yellow\",\"yellow\",\"yellow\",\"yellow\",\"yellow\",\"yellow\",\"yellow\",\"yellow\",\"yellow\",\"yellow\",\"yellow\",\"yellow\",\"yellow\",\"yellow\",\"yellow\",\"yellow\",\"yellow\",\"yellow\",\"yellow\",\"yellow\",\"yellow\",\"yellow\",\"yellow\",\"yellow\",\"yellow\",\"yellow\"]},\"marker\":{\"color\":[\"red\",\"red\",\"red\",\"red\",\"red\",\"red\",\"red\",\"red\",\"red\",\"red\",\"red\",\"red\",\"red\",\"red\",\"red\",\"red\",\"red\",\"red\",\"red\",\"red\",\"red\",\"red\",\"red\",\"red\",\"red\",\"red\",\"red\",\"red\",\"red\",\"red\",\"red\",\"red\",\"red\",\"red\",\"red\",\"red\",\"red\",\"red\",\"red\",\"red\",\"red\",\"red\",\"red\",\"red\",\"red\",\"red\",\"red\",\"red\",\"red\",\"red\",\"blue\",\"blue\",\"blue\",\"blue\",\"blue\",\"blue\",\"blue\",\"blue\",\"blue\",\"blue\",\"blue\",\"blue\",\"blue\",\"blue\",\"blue\",\"blue\",\"blue\",\"blue\",\"blue\",\"blue\",\"blue\",\"blue\",\"blue\",\"blue\",\"blue\",\"blue\",\"blue\",\"blue\",\"blue\",\"blue\",\"blue\",\"blue\",\"blue\",\"blue\",\"blue\",\"blue\",\"blue\",\"blue\",\"blue\",\"blue\",\"blue\",\"blue\",\"blue\",\"blue\",\"blue\",\"blue\",\"blue\",\"blue\",\"blue\",\"blue\",\"yellow\",\"yellow\",\"yellow\",\"yellow\",\"yellow\",\"yellow\",\"yellow\",\"yellow\",\"yellow\",\"yellow\",\"yellow\",\"yellow\",\"yellow\",\"yellow\",\"yellow\",\"yellow\",\"yellow\",\"yellow\",\"yellow\",\"yellow\",\"yellow\",\"yellow\",\"yellow\",\"yellow\",\"yellow\",\"yellow\",\"yellow\",\"yellow\",\"yellow\",\"yellow\",\"yellow\",\"yellow\",\"yellow\",\"yellow\",\"yellow\",\"yellow\",\"yellow\",\"yellow\",\"yellow\",\"yellow\",\"yellow\",\"yellow\",\"yellow\",\"yellow\",\"yellow\",\"yellow\",\"yellow\",\"yellow\",\"yellow\",\"yellow\"]},\"error_x\":{\"array\":[0.035,0.03,0.032,0.031,0.036000000000000004,0.039,0.034,0.034,0.028999999999999998,0.031,0.037000000000000005,0.034,0.03,0.03,0.04,0.044000000000000004,0.039,0.035,0.038,0.038,0.034,0.037000000000000005,0.036000000000000004,0.033,0.034,0.03,0.034,0.035,0.034,0.032,0.031,0.034,0.040999999999999995,0.042,0.031,0.032,0.035,0.031,0.03,0.034,0.035,0.023,0.032,0.035,0.038,0.03,0.038,0.032,0.037000000000000005,0.033,0.032,0.032,0.031,0.023,0.027999999999999997,0.027999999999999997,0.033,0.024,0.028999999999999998,0.027000000000000003,0.02,0.03,0.022000000000000002,0.028999999999999998,0.028999999999999998,0.031,0.03,0.027000000000000003,0.022000000000000002,0.025,0.032,0.027999999999999997,0.025,0.027999999999999997,0.028999999999999998,0.03,0.027999999999999997,0.03,0.028999999999999998,0.026000000000000002,0.024,0.024,0.027000000000000003,0.027000000000000003,0.03,0.034,0.031,0.023,0.03,0.025,0.026000000000000002,0.03,0.026000000000000002,0.023,0.027000000000000003,0.03,0.028999999999999998,0.028999999999999998,0.025,0.027999999999999997,0.033,0.027000000000000003,0.03,0.028999999999999998,0.03,0.03,0.025,0.028999999999999998,0.025,0.036000000000000004,0.032,0.027000000000000003,0.03,0.025,0.027999999999999997,0.032,0.03,0.038,0.026000000000000002,0.022000000000000002,0.032,0.027999999999999997,0.027999999999999997,0.027000000000000003,0.033,0.032,0.027999999999999997,0.03,0.027999999999999997,0.03,0.027999999999999997,0.038,0.027999999999999997,0.027999999999999997,0.026000000000000002,0.03,0.034,0.031,0.03,0.031,0.031,0.031,0.027000000000000003,0.032,0.033,0.03,0.025,0.03,0.034,0.03]},\"error_y\":{\"array\":[0.035,0.03,0.032,0.031,0.036000000000000004,0.039,0.034,0.034,0.028999999999999998,0.031,0.037000000000000005,0.034,0.03,0.03,0.04,0.044000000000000004,0.039,0.035,0.038,0.038,0.034,0.037000000000000005,0.036000000000000004,0.033,0.034,0.03,0.034,0.035,0.034,0.032,0.031,0.034,0.040999999999999995,0.042,0.031,0.032,0.035,0.031,0.03,0.034,0.035,0.023,0.032,0.035,0.038,0.03,0.038,0.032,0.037000000000000005,0.033,0.032,0.032,0.031,0.023,0.027999999999999997,0.027999999999999997,0.033,0.024,0.028999999999999998,0.027000000000000003,0.02,0.03,0.022000000000000002,0.028999999999999998,0.028999999999999998,0.031,0.03,0.027000000000000003,0.022000000000000002,0.025,0.032,0.027999999999999997,0.025,0.027999999999999997,0.028999999999999998,0.03,0.027999999999999997,0.03,0.028999999999999998,0.026000000000000002,0.024,0.024,0.027000000000000003,0.027000000000000003,0.03,0.034,0.031,0.023,0.03,0.025,0.026000000000000002,0.03,0.026000000000000002,0.023,0.027000000000000003,0.03,0.028999999999999998,0.028999999999999998,0.025,0.027999999999999997,0.033,0.027000000000000003,0.03,0.028999999999999998,0.03,0.03,0.025,0.028999999999999998,0.025,0.036000000000000004,0.032,0.027000000000000003,0.03,0.025,0.027999999999999997,0.032,0.03,0.038,0.026000000000000002,0.022000000000000002,0.032,0.027999999999999997,0.027999999999999997,0.027000000000000003,0.033,0.032,0.027999999999999997,0.03,0.027999999999999997,0.03,0.027999999999999997,0.038,0.027999999999999997,0.027999999999999997,0.026000000000000002,0.03,0.034,0.031,0.03,0.031,0.031,0.031,0.027000000000000003,0.032,0.033,0.03,0.025,0.03,0.034,0.03]}}];\n",
       "            var layout = {\"width\":800};\n",
       "            var config = {};\n",
       "            Plotly.newPlot('e90f3c0f-15da-4880-8da2-5e2189b85f69', data, layout, config);\r\n",
       "});\n",
       "            };\n",
       "            if ((typeof(requirejs) !==  typeof(Function)) || (typeof(requirejs.config) !== typeof(Function))) {\n",
       "                var script = document.createElement(\"script\");\n",
       "                script.setAttribute(\"src\", \"https://cdnjs.cloudflare.com/ajax/libs/require.js/2.3.6/require.min.js\");\n",
       "                script.onload = function(){\n",
       "                    renderPlotly_e90f3c0f15da48808da25e2189b85f69();\n",
       "                };\n",
       "                document.getElementsByTagName(\"head\")[0].appendChild(script);\n",
       "            }\n",
       "            else {\n",
       "                renderPlotly_e90f3c0f15da48808da25e2189b85f69();\n",
       "            }\r\n",
       "</script>\r\n"
      ]
     },
     "metadata": {},
     "output_type": "display_data"
    }
   ],
   "source": [
    "open FSharp.Data\n",
    "\n",
    "let data= CsvFile.Load(\"https://raw.githubusercontent.com/plotly/datasets/master/iris.csv\")\n",
    "\n",
    "let sepalWidth = data.Rows |> Seq.map (fun row -> float <| row.GetColumn(\"SepalWidth\"))\n",
    "let sepalLength = data.Rows |> Seq.map (fun row -> float <| row.GetColumn(\"SepalLength\"))\n",
    "let color = data.Rows \n",
    "                |> Seq.map (fun row -> row.GetColumn(\"Name\"))\n",
    "                |> Seq.map (function\n",
    "                                    |\"Iris-setosa\" -> Color.fromString \"red\"\n",
    "                                    |\"Iris-versicolor\" -> Color.fromString \"blue\"\n",
    "                                    |_ -> Color.fromString \"yellow\")\n",
    "                |> Color.fromColors\n",
    "\n",
    "let error = sepalWidth |> Seq.map (fun w -> float w/100.)\n",
    "Chart.Scatter(x=sepalWidth,y=sepalLength,mode=StyleParam.Mode.Markers,Color=color)\n",
    "|>Chart.withXErrorStyle(Array=error)\n",
    "|>Chart.withYErrorStyle(Array=error)\n",
    "|>Chart.withSize(Width=800)"
   ]
  }
 ],
 "metadata": {
  "kernelspec": {
   "display_name": ".NET (C#)",
   "language": "C#",
   "name": ".net-csharp"
  },
  "language_info": {
   "file_extension": ".cs",
   "mimetype": "text/x-csharp",
   "name": "C#",
   "pygments_lexer": "csharp",
   "version": "9.0"
  },
  "orig_nbformat": 4
 },
 "nbformat": 4,
 "nbformat_minor": 2
}
