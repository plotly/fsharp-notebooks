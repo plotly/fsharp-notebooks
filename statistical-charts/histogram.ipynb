{
 "metadata": {
  "kernelspec": {
   "display_name": ".NET (F#)",
   "language": "F#",
   "name": ".net-fsharp"
  },
  "language_info": {
   "name": "F#"
  }
 },
 "cells": [
  {
   "cell_type": "code",
   "execution_count": null,
   "source": [
    "#r \"nuget: Plotly.NET, 2.0.0-preview.7\"\r\n",
    "#r \"nuget: Plotly.NET.Interactive, 2.0.0-preview.7\"\r\n",
    "#r \"nuget: newtonsoft.json\"\r\n",
    "open Plotly.NET"
   ],
   "outputs": [
    {
     "output_type": "display_data",
     "data": {
      "text/html": ""
     },
     "metadata": {}
    }
   ],
   "metadata": {
    "dotnet_interactive": {
     "language": "fsharp"
    }
   }
  },
  {
   "cell_type": "markdown",
   "source": [
    "# Basic Histogram"
   ],
   "metadata": {}
  },
  {
   "cell_type": "code",
   "execution_count": null,
   "source": [
    "let N = 500\r\n",
    "let rnd = System.Random()\r\n",
    "let x = Array.init N (fun _ -> rnd.NextDouble())\r\n",
    "Chart.Histogram(x)"
   ],
   "outputs": [
    {
     "output_type": "display_data",
     "data": {
      "text/html": ""
     },
     "metadata": {}
    }
   ],
   "metadata": {
    "dotnet_interactive": {
     "language": "fsharp"
    }
   }
  },
  {
   "cell_type": "markdown",
   "source": [
    "# Normalized Histogram\r\n"
   ],
   "metadata": {}
  },
  {
   "cell_type": "code",
   "execution_count": null,
   "source": [
    "let N = 500\r\n",
    "let rnd = System.Random()\r\n",
    "let x = Array.init N (fun _ -> rnd.NextDouble())\r\n",
    "Chart.Histogram(\r\n",
    "               x,\r\n",
    "               HistNorm=StyleParam.HistNorm.Probability\r\n",
    "               )"
   ],
   "outputs": [
    {
     "output_type": "display_data",
     "data": {
      "text/html": ""
     },
     "metadata": {}
    }
   ],
   "metadata": {
    "dotnet_interactive": {
     "language": "fsharp"
    }
   }
  },
  {
   "cell_type": "markdown",
   "source": [
    "# Horizontal Histogram\r\n"
   ],
   "metadata": {}
  },
  {
   "cell_type": "code",
   "execution_count": null,
   "source": [
    "open Plotly.NET\r\n",
    "let N = 500\r\n",
    "let rnd = System.Random()\r\n",
    "let x = Array.init N (fun _ -> rnd.NextDouble())"
   ],
   "outputs": [],
   "metadata": {
    "dotnet_interactive": {
     "language": "fsharp"
    }
   }
  },
  {
   "cell_type": "code",
   "execution_count": null,
   "source": [
    "Chart.Histogram(\r\n",
    "               x,\r\n",
    "               Orientation=StyleParam.Orientation.Horizontal\r\n",
    "               )  // issue with horizental allign"
   ],
   "outputs": [
    {
     "output_type": "display_data",
     "data": {
      "text/html": ""
     },
     "metadata": {}
    }
   ],
   "metadata": {
    "dotnet_interactive": {
     "language": "fsharp"
    }
   }
  },
  {
   "cell_type": "markdown",
   "source": [
    "# Overlaid Histogram\r\n"
   ],
   "metadata": {}
  },
  {
   "cell_type": "code",
   "execution_count": null,
   "source": [
    "let N = 500\r\n",
    "let rnd = System.Random()\r\n",
    "let x0 = Array.init N (fun _ -> rnd.NextDouble())\r\n",
    "let x1= Array.init N (fun _ -> rnd.NextDouble())\r\n",
    "[\r\n",
    "    Chart.Histogram(x0)\r\n",
    "    |> GenericChart.mapTrace(fun x -> \r\n",
    "        x.SetValue(\"name\", \"trace 0\")\r\n",
    "        x.SetValue(\"marker\", {| color = \"rgba(103, 102, 255,1)\"; line = {| color = \"rgba(103, 102, 255, 1)\"; width = 3 |} |})\r\n",
    "        x)\r\n",
    "    Chart.Histogram(x1)\r\n",
    "    |> GenericChart.mapTrace(fun x -> \r\n",
    "        x.SetValue(\"name\", \"trace 1\")\r\n",
    "        x.SetValue(\"marker\", {| color = \"rgba(255, 70, 51, 1)\"; line = {| color = \"rgba(255, 70, 51, 1)\"; width = 3 |} |})\r\n",
    "        x)\r\n",
    "]\r\n",
    "|> Chart.combine\r\n",
    "|> Chart.withLayout(Layout.init(Barmode = StyleParam.Barmode.Overlay))"
   ],
   "outputs": [
    {
     "output_type": "display_data",
     "data": {
      "text/html": ""
     },
     "metadata": {}
    }
   ],
   "metadata": {
    "dotnet_interactive": {
     "language": "fsharp"
    }
   }
  },
  {
   "cell_type": "markdown",
   "source": [
    "# Stacked Histograms\r\n"
   ],
   "metadata": {}
  },
  {
   "cell_type": "code",
   "execution_count": null,
   "source": [
    "open Plotly.NET \r\n",
    "\r\n",
    "let N = 500\r\n",
    "let rnd = System.Random()\r\n",
    "let x0 = Array.init N (fun _ -> rnd.NextDouble())\r\n",
    "let x1= Array.init N (fun _ -> rnd.NextDouble())\r\n",
    "[\r\n",
    "    Chart.Histogram(x0)\r\n",
    "    |> GenericChart.mapTrace(fun x -> \r\n",
    "        x.SetValue(\"name\", \"trace 0\")\r\n",
    "        x.SetValue(\"marker\", {| color = \"rgba(103, 102, 255,1)\"; line = {| color = \"rgba(103, 102, 255, 1)\"; width = 3 |} |})\r\n",
    "        x)\r\n",
    "    Chart.Histogram(x1)\r\n",
    "    |> GenericChart.mapTrace(fun x -> \r\n",
    "        x.SetValue(\"name\", \"trace 1\")\r\n",
    "        x.SetValue(\"marker\", {| color = \"rgba(255, 70, 51, 1)\"; line = {| color = \"rgba(255, 70, 51, 1)\"; width = 3 |} |})\r\n",
    "        x)\r\n",
    "]\r\n",
    "|> Chart.combine\r\n",
    "|> Chart.withLayout(Layout.init(Barmode = StyleParam.Barmode.Stack))"
   ],
   "outputs": [
    {
     "output_type": "display_data",
     "data": {
      "text/html": ""
     },
     "metadata": {}
    }
   ],
   "metadata": {
    "dotnet_interactive": {
     "language": "fsharp"
    }
   }
  },
  {
   "cell_type": "markdown",
   "source": [
    "# Styled Histogram\r\n"
   ],
   "metadata": {}
  },
  {
   "cell_type": "code",
   "execution_count": null,
   "source": [
    "let N = 500\r\n",
    "let rnd = System.Random()\r\n",
    "let x0 = Array.init N (fun _ -> rnd.NextDouble())\r\n",
    "let x1= Array.init N (fun _ -> rnd.NextDouble())\r\n",
    "\r\n",
    "let layout =\r\n",
    "    let temp = Layout()\r\n",
    "    temp?barmode <- \"Overlay\"\r\n",
    "    temp?bargap <- 0.5\r\n",
    "    temp?bargroupgap <- 0.1\r\n",
    "    temp\r\n",
    "[\r\n",
    "    Chart.Histogram(x0,Xbins=StyleParam.)                  // Issues setting the xbins start,end and size=0.5\r\n",
    "    |> GenericChart.mapTrace(fun x -> \r\n",
    "        x.SetValue(\"name\", \"control\")\r\n",
    "        x.SetValue(\"HistNorm\",\"percent\")\r\n",
    "        x.SetValue(\"Opacity\",\"0.75\")\r\n",
    "        x.SetValue(\"marker\", {| color = \"rgba(255, 69, 246, 0.35)\"; line = {| color = \"rgba(255, 69, 246, 0.35)\"; width = 5 |} |})\r\n",
    "        x)\r\n",
    "    Chart.Histogram(x1)\r\n",
    "    |> GenericChart.mapTrace(fun x -> \r\n",
    "        x.SetValue(\"name\", \"experimental\")\r\n",
    "        x.SetValue(\"HistNorm\",\"percent\")\r\n",
    "        x.SetValue(\"Opacity\",\"0.75\")\r\n",
    "        x.SetValue(\"marker\", {| color = \"rgba(103, 102, 255,1)\"; line = {| color = \"rgba(103, 102, 255,1)\"; width = 5 |} |})\r\n",
    "        x)\r\n",
    "]\r\n",
    "\r\n",
    "\r\n",
    "|> Chart.combine\r\n",
    "|> Chart.withTitle(\"Sample Result\")\r\n",
    "|> Chart.withXAxisStyle(\"Value\")\r\n",
    "|> Chart.withYAxisStyle(\"Count\")\r\n",
    "//|> Chart.withLayout(Layout.init(Barmode = StyleParam.Barmode.Overlay))\r\n",
    "|> Chart.withLayout(layout)   // Issues setting the xbins start,end and size=0.5\r\n"
   ],
   "outputs": [
    {
     "output_type": "display_data",
     "data": {
      "text/html": ""
     },
     "metadata": {}
    }
   ],
   "metadata": {
    "dotnet_interactive": {
     "language": "fsharp"
    }
   }
  },
  {
   "cell_type": "markdown",
   "source": [
    "# Cumulative Histogram\r\n"
   ],
   "metadata": {}
  },
  {
   "cell_type": "code",
   "execution_count": null,
   "source": [
    "let N = 500\r\n",
    "let rnd = System.Random()\r\n",
    "let x = Array.init N (fun _ -> rnd.NextDouble())"
   ],
   "outputs": [],
   "metadata": {
    "dotnet_interactive": {
     "language": "fsharp"
    }
   }
  },
  {
   "cell_type": "code",
   "execution_count": null,
   "source": [
    "Chart.Histogram(x)     // issue with not find cumulative in histogram"
   ],
   "outputs": [
    {
     "output_type": "display_data",
     "data": {
      "text/html": ""
     },
     "metadata": {}
    }
   ],
   "metadata": {
    "dotnet_interactive": {
     "language": "fsharp"
    }
   }
  },
  {
   "cell_type": "markdown",
   "source": [
    "# Specify Aggregation Function\r\n"
   ],
   "metadata": {}
  },
  {
   "cell_type": "code",
   "execution_count": null,
   "source": [
    "let fruits =  [\"Apples\";\"Apples\";\"Apples\";\"Oranges\"; \"Bananas\"];\r\n",
    "let counts = [\"5\";\"10\";\"3\";\"10\";\"5\"]\r\n",
    "[\r\n",
    "Chart.Histogram(\r\n",
    "              fruits,\r\n",
    "               Name = \"Sum\"\r\n",
    "               );\r\n",
    "Chart.Histogram(\r\n",
    "              counts ,\r\n",
    "               Name = \"Count\"\r\n",
    "               );\r\n",
    "]\r\n",
    "|> Chart.combine"
   ],
   "outputs": [
    {
     "output_type": "error",
     "ename": "Error",
     "evalue": "input.fsx (4,1)-(4,6) typecheck error The value, namespace, type or module 'Chart' is not defined. Maybe you want one of the following:\r\n   Char\r\n   char\r\n   Char\r\n   char\r\n   CharEnumerator\ninput.fsx (8,1)-(8,6) typecheck error The value, namespace, type or module 'Chart' is not defined. Maybe you want one of the following:\r\n   Char\r\n   char\r\n   Char\r\n   char\r\n   CharEnumerator\ninput.fsx (13,4)-(13,9) typecheck error The value, namespace, type or module 'Chart' is not defined. Maybe you want one of the following:\r\n   Char\r\n   char\r\n   Char\r\n   char\r\n   CharEnumerator",
     "traceback": [
      "input.fsx (4,1)-(4,6) typecheck error The value, namespace, type or module 'Chart' is not defined. Maybe you want one of the following:\r\n",
      "   Char\r\n",
      "   char\r\n",
      "   Char\r\n",
      "   char\r\n",
      "   CharEnumerator\n",
      "input.fsx (8,1)-(8,6) typecheck error The value, namespace, type or module 'Chart' is not defined. Maybe you want one of the following:\r\n",
      "   Char\r\n",
      "   char\r\n",
      "   Char\r\n",
      "   char\r\n",
      "   CharEnumerator\n",
      "input.fsx (13,4)-(13,9) typecheck error The value, namespace, type or module 'Chart' is not defined. Maybe you want one of the following:\r\n",
      "   Char\r\n",
      "   char\r\n",
      "   Char\r\n",
      "   char\r\n",
      "   CharEnumerator"
     ]
    }
   ],
   "metadata": {
    "dotnet_interactive": {
     "language": "fsharp"
    }
   }
  },
  {
   "cell_type": "markdown",
   "source": [
    "# Share bins between histograms\r\n",
    "\r\n"
   ],
   "metadata": {}
  },
  {
   "cell_type": "code",
   "execution_count": null,
   "source": [
    "let N = 500\r\n",
    "let rnd = System.Random()\r\n",
    "let x0 = Array.init N (fun _ -> rnd.Next(7, 20))\r\n",
    "let x1 = Array.init N (fun _ -> rnd.Next(7, 20))\r\n",
    "let layout =\r\n",
    "    let obj = Layout()\r\n",
    "    obj?bargap <- 0.5\r\n",
    "    obj?bargroupgap <- 0.1\r\n",
    "    obj\r\n",
    "[\r\n",
    "    Chart.Histogram(x0)                  \r\n",
    "    |> GenericChart.mapTrace(fun x -> \r\n",
    "        x.SetValue(\"name\", \"trace 0\")\r\n",
    "        x.SetValue(\"marker\", {| color = \"rgba(103, 102, 255, 1)\"; line = {| color = \"rgba(103, 102, 255, 1)\"; width = 5 |} |})\r\n",
    "        x)\r\n",
    "    Chart.Histogram(x1)\r\n",
    "    |> GenericChart.mapTrace(fun x -> \r\n",
    "        x.SetValue(\"name\", \"trace 1\")\r\n",
    "        x.SetValue(\"marker\", {| color = \"rgba(255, 70, 51, 1)\"; line = {| color = \"rgba(255, 70, 51, 1)\"; width = 5 |} |})\r\n",
    "        x)\r\n",
    "]\r\n",
    "\r\n",
    "|> Chart.combine\r\n",
    "|> Chart.withLayout(Layout.init(Barmode = StyleParam.Barmode.Stack))"
   ],
   "outputs": [
    {
     "output_type": "display_data",
     "data": {
      "text/html": ""
     },
     "metadata": {}
    }
   ],
   "metadata": {
    "dotnet_interactive": {
     "language": "fsharp"
    }
   }
  }
 ],
 "nbformat": 4,
 "nbformat_minor": 2
}