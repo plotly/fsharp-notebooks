{
 "cells": [
  {
   "cell_type": "code",
   "execution_count": null,
   "metadata": {
    "dotnet_interactive": {
     "language": "fsharp"
    }
   },
   "outputs": [
    {
     "data": {
      "text/html": [
       "<div><div></div><div></div><div><strong>Installed Packages</strong><ul><li><span>FSharp.Data, 4.2.4</span></li><li><span>Plotly.NET, 2.0.0-preview.10</span></li><li><span>Plotly.NET.Interactive, 2.0.0-preview.10</span></li></ul></div></div>"
      ]
     },
     "metadata": {},
     "output_type": "display_data"
    },
    {
     "data": {
      "text/markdown": [
       "Loading extensions from `Plotly.NET.Interactive.dll`"
      ]
     },
     "metadata": {},
     "output_type": "display_data"
    },
    {
     "data": {
      "text/markdown": [
       "Added Kernel Extension including formatters for Plotly.NET charts."
      ]
     },
     "metadata": {},
     "output_type": "display_data"
    }
   ],
   "source": [
    "#r \"nuget: Newtonsoft.Json, 12.0.3\"\n",
    "#r \"nuget: Plotly.NET, 2.0.0-preview.10\"\n",
    "#r \"nuget: Plotly.NET.Interactive, 2.0.0-preview.10\"\n",
    "#r \"nuget: FSharp.Data\""
   ]
  },
  {
   "cell_type": "markdown",
   "metadata": {},
   "source": [
    "# Basic Contour Plot\n",
    "\n",
    "A 2D contour plot shows the <a href=\"https://en.wikipedia.org/wiki/Contour_line\" target=\"_blank\">contour lines</a> of a 2D numerical array z, i.e. interpolated lines of isovalues of z."
   ]
  },
  {
   "cell_type": "code",
   "execution_count": null,
   "metadata": {
    "dotnet_interactive": {
     "language": "fsharp"
    }
   },
   "outputs": [
    {
     "data": {
      "text/html": [
       "<div id=\"fcb26c64-9380-4d7d-9a50-8a781e25f361\" style=\"width: 600px; height: 600px;\"><!-- Plotly chart will be drawn inside this DIV --></div>\r\n",
       "<script type=\"text/javascript\">\r\n",
       "\n",
       "            var renderPlotly_fcb26c6493804d7d9a508a781e25f361 = function() {\n",
       "            var fsharpPlotlyRequire = requirejs.config({context:'fsharp-plotly',paths:{plotly:'https://cdn.plot.ly/plotly-2.4.2.min'}}) || require;\n",
       "            fsharpPlotlyRequire(['plotly'], function(Plotly) {\r\n",
       "\n",
       "            var data = [{\"type\":\"contour\",\"z\":[[10.0,10.625,12.5,15.625,20.0],[5.625,6.25,8.125,11.25,15.625],[2.5,3.125,5.0,8.125,12.5],[0.625,1.25,3.125,6.25,10.625],[0.0,0.625,2.5,5.625,10.0]]}];\n",
       "            var layout = {};\n",
       "            var config = {};\n",
       "            Plotly.newPlot('fcb26c64-9380-4d7d-9a50-8a781e25f361', data, layout, config);\r\n",
       "});\n",
       "            };\n",
       "            if ((typeof(requirejs) !==  typeof(Function)) || (typeof(requirejs.config) !== typeof(Function))) {\n",
       "                var script = document.createElement(\"script\");\n",
       "                script.setAttribute(\"src\", \"https://cdnjs.cloudflare.com/ajax/libs/require.js/2.3.6/require.min.js\");\n",
       "                script.onload = function(){\n",
       "                    renderPlotly_fcb26c6493804d7d9a508a781e25f361();\n",
       "                };\n",
       "                document.getElementsByTagName(\"head\")[0].appendChild(script);\n",
       "            }\n",
       "            else {\n",
       "                renderPlotly_fcb26c6493804d7d9a508a781e25f361();\n",
       "            }\r\n",
       "</script>\r\n"
      ]
     },
     "metadata": {},
     "output_type": "display_data"
    }
   ],
   "source": [
    "open Plotly.NET\n",
    "\n",
    "let z = [[10.; 10.625; 12.5; 15.625; 20.];\n",
    "           [5.625; 6.25;8.125;11.25;15.625];\n",
    "           [2.5; 3.125; 5.; 8.125; 12.5];\n",
    "           [0.625; 1.25; 3.125; 6.25; 10.625];\n",
    "           [0.; 0.625; 2.5; 5.625; 10.]]\n",
    "\n",
    "z|> Chart.Contour"
   ]
  },
  {
   "cell_type": "markdown",
   "metadata": {},
   "source": [
    "# Setting X and Y Coordinates in a Contour Plot"
   ]
  },
  {
   "cell_type": "code",
   "execution_count": null,
   "metadata": {
    "dotnet_interactive": {
     "language": "fsharp"
    }
   },
   "outputs": [
    {
     "data": {
      "text/html": [
       "<div id=\"4c574aa6-ec38-4026-a6a3-49e3921f50a5\" style=\"width: 600px; height: 600px;\"><!-- Plotly chart will be drawn inside this DIV --></div>\r\n",
       "<script type=\"text/javascript\">\r\n",
       "\n",
       "            var renderPlotly_4c574aa6ec384026a6a349e3921f50a5 = function() {\n",
       "            var fsharpPlotlyRequire = requirejs.config({context:'fsharp-plotly',paths:{plotly:'https://cdn.plot.ly/plotly-2.4.2.min'}}) || require;\n",
       "            fsharpPlotlyRequire(['plotly'], function(Plotly) {\r\n",
       "\n",
       "            var data = [{\"type\":\"contour\",\"z\":[[10.0,10.625,12.5,15.625,20.0],[5.625,6.25,8.125,11.25,15.625],[2.5,3.125,5.0,8.125,12.5],[0.625,1.25,3.125,6.25,10.625],[0.0,0.625,2.5,5.625,10.0]],\"x\":[-9,-6,-5,-3,-1],\"y\":[0,1,4,5,7],\"zsmooth\":\"best\"}];\n",
       "            var layout = {};\n",
       "            var config = {};\n",
       "            Plotly.newPlot('4c574aa6-ec38-4026-a6a3-49e3921f50a5', data, layout, config);\r\n",
       "});\n",
       "            };\n",
       "            if ((typeof(requirejs) !==  typeof(Function)) || (typeof(requirejs.config) !== typeof(Function))) {\n",
       "                var script = document.createElement(\"script\");\n",
       "                script.setAttribute(\"src\", \"https://cdnjs.cloudflare.com/ajax/libs/require.js/2.3.6/require.min.js\");\n",
       "                script.onload = function(){\n",
       "                    renderPlotly_4c574aa6ec384026a6a349e3921f50a5();\n",
       "                };\n",
       "                document.getElementsByTagName(\"head\")[0].appendChild(script);\n",
       "            }\n",
       "            else {\n",
       "                renderPlotly_4c574aa6ec384026a6a349e3921f50a5();\n",
       "            }\r\n",
       "</script>\r\n"
      ]
     },
     "metadata": {},
     "output_type": "display_data"
    }
   ],
   "source": [
    "open Plotly.NET\n",
    "\n",
    "let z = [[10.; 10.625; 12.5; 15.625; 20.];\n",
    "           [5.625; 6.25;8.125;11.25;15.625];\n",
    "           [2.5; 3.125; 5.; 8.125; 12.5];\n",
    "           [0.625; 1.25; 3.125; 6.25; 10.625];\n",
    "           [0.; 0.625; 2.5; 5.625; 10.]]\n",
    "\n",
    "Chart.Contour(data=z,X=[-9; -6; -5 ; -3; -1],Y=[0; 1; 4; 5; 7],zSmooth=StyleParam.SmoothAlg.Best)"
   ]
  },
  {
   "cell_type": "markdown",
   "metadata": {},
   "source": [
    "# Colorscale for Contour Plot"
   ]
  },
  {
   "cell_type": "code",
   "execution_count": null,
   "metadata": {
    "dotnet_interactive": {
     "language": "fsharp"
    }
   },
   "outputs": [
    {
     "data": {
      "text/html": [
       "<div id=\"80260e1d-c714-4dd1-8085-e9c40516c51d\" style=\"width: 600px; height: 600px;\"><!-- Plotly chart will be drawn inside this DIV --></div>\r\n",
       "<script type=\"text/javascript\">\r\n",
       "\n",
       "            var renderPlotly_80260e1dc7144dd18085e9c40516c51d = function() {\n",
       "            var fsharpPlotlyRequire = requirejs.config({context:'fsharp-plotly',paths:{plotly:'https://cdn.plot.ly/plotly-2.4.2.min'}}) || require;\n",
       "            fsharpPlotlyRequire(['plotly'], function(Plotly) {\r\n",
       "\n",
       "            var data = [{\"type\":\"contour\",\"z\":[[10.0,10.625,12.5,15.625,20.0],[5.625,6.25,8.125,11.25,15.625],[2.5,3.125,5.0,8.125,12.5],[0.625,1.25,3.125,6.25,10.625],[0.0,0.625,2.5,5.625,10.0]],\"colorscale\":\"Electric\"}];\n",
       "            var layout = {};\n",
       "            var config = {};\n",
       "            Plotly.newPlot('80260e1d-c714-4dd1-8085-e9c40516c51d', data, layout, config);\r\n",
       "});\n",
       "            };\n",
       "            if ((typeof(requirejs) !==  typeof(Function)) || (typeof(requirejs.config) !== typeof(Function))) {\n",
       "                var script = document.createElement(\"script\");\n",
       "                script.setAttribute(\"src\", \"https://cdnjs.cloudflare.com/ajax/libs/require.js/2.3.6/require.min.js\");\n",
       "                script.onload = function(){\n",
       "                    renderPlotly_80260e1dc7144dd18085e9c40516c51d();\n",
       "                };\n",
       "                document.getElementsByTagName(\"head\")[0].appendChild(script);\n",
       "            }\n",
       "            else {\n",
       "                renderPlotly_80260e1dc7144dd18085e9c40516c51d();\n",
       "            }\r\n",
       "</script>\r\n"
      ]
     },
     "metadata": {},
     "output_type": "display_data"
    }
   ],
   "source": [
    "open Plotly.NET\n",
    "\n",
    "let z = [[10.; 10.625; 12.5; 15.625; 20.];\n",
    "           [5.625; 6.25;8.125;11.25;15.625];\n",
    "           [2.5; 3.125; 5.; 8.125; 12.5];\n",
    "           [0.625; 1.25; 3.125; 6.25; 10.625];\n",
    "           [0.; 0.625; 2.5; 5.625; 10.]]\n",
    "\n",
    "Chart.Contour(data=z,Colorscale=StyleParam.Colorscale.Electric)"
   ]
  },
  {
   "cell_type": "markdown",
   "metadata": {},
   "source": [
    "# Customizing Size and Range of a Contour Plot's Contours (ABSTRACTION MISSING)"
   ]
  },
  {
   "cell_type": "markdown",
   "metadata": {},
   "source": [
    "# Customizing Spacing Between X and Y Axis Ticks"
   ]
  },
  {
   "cell_type": "code",
   "execution_count": null,
   "metadata": {
    "dotnet_interactive": {
     "language": "fsharp"
    }
   },
   "outputs": [
    {
     "data": {
      "text/html": [
       "<div id=\"f87f42dc-f6a3-4eb2-b026-16c9ccd76b67\" style=\"width: 600px; height: 600px;\"><!-- Plotly chart will be drawn inside this DIV --></div>\r\n",
       "<script type=\"text/javascript\">\r\n",
       "\n",
       "            var renderPlotly_f87f42dcf6a34eb2b02616c9ccd76b67 = function() {\n",
       "            var fsharpPlotlyRequire = requirejs.config({context:'fsharp-plotly',paths:{plotly:'https://cdn.plot.ly/plotly-2.4.2.min'}}) || require;\n",
       "            fsharpPlotlyRequire(['plotly'], function(Plotly) {\r\n",
       "\n",
       "            var data = [{\"type\":\"contour\",\"z\":[[10.0,10.625,12.5,15.625,20.0],[5.625,6.25,8.125,11.25,15.625],[2.5,3.125,5.0,8.125,12.5],[0.625,1.25,3.125,6.25,10.625],[0.0,0.625,2.5,5.625,10.0]],\"colorscale\":\"Electric\",\"x0\":5,\"dx\":10,\"y0\":10,\"dy\":10}];\n",
       "            var layout = {};\n",
       "            var config = {};\n",
       "            Plotly.newPlot('f87f42dc-f6a3-4eb2-b026-16c9ccd76b67', data, layout, config);\r\n",
       "});\n",
       "            };\n",
       "            if ((typeof(requirejs) !==  typeof(Function)) || (typeof(requirejs.config) !== typeof(Function))) {\n",
       "                var script = document.createElement(\"script\");\n",
       "                script.setAttribute(\"src\", \"https://cdnjs.cloudflare.com/ajax/libs/require.js/2.3.6/require.min.js\");\n",
       "                script.onload = function(){\n",
       "                    renderPlotly_f87f42dcf6a34eb2b02616c9ccd76b67();\n",
       "                };\n",
       "                document.getElementsByTagName(\"head\")[0].appendChild(script);\n",
       "            }\n",
       "            else {\n",
       "                renderPlotly_f87f42dcf6a34eb2b02616c9ccd76b67();\n",
       "            }\r\n",
       "</script>\r\n"
      ]
     },
     "metadata": {},
     "output_type": "display_data"
    }
   ],
   "source": [
    "open Plotly.NET\n",
    "\n",
    "let z = [[10.; 10.625; 12.5; 15.625; 20.];\n",
    "           [5.625; 6.25;8.125;11.25;15.625];\n",
    "           [2.5; 3.125; 5.; 8.125; 12.5];\n",
    "           [0.625; 1.25; 3.125; 6.25; 10.625];\n",
    "           [0.; 0.625; 2.5; 5.625; 10.]]\n",
    "\n",
    "Chart.Contour(data=z,Colorscale=StyleParam.Colorscale.Electric)\n",
    "|> GenericChart.mapTrace (Trace2DStyle.Contour(X0=5,dX=10,Y0=10,dY=10))"
   ]
  },
  {
   "cell_type": "markdown",
   "metadata": {},
   "source": [
    "# Connect the Gaps Between None Values in the Z Matrix"
   ]
  },
  {
   "cell_type": "code",
   "execution_count": null,
   "metadata": {
    "dotnet_interactive": {
     "language": "fsharp"
    }
   },
   "outputs": [
    {
     "data": {
      "text/html": [
       "<div id=\"25dda09a-a356-454f-b04d-2d3d065fb5ea\" style=\"width: 600px; height: 600px;\"><!-- Plotly chart will be drawn inside this DIV --></div>\r\n",
       "<script type=\"text/javascript\">\r\n",
       "\n",
       "            var renderPlotly_25dda09aa356454fb04d2d3d065fb5ea = function() {\n",
       "            var fsharpPlotlyRequire = requirejs.config({context:'fsharp-plotly',paths:{plotly:'https://cdn.plot.ly/plotly-2.4.2.min'}}) || require;\n",
       "            fsharpPlotlyRequire(['plotly'], function(Plotly) {\r\n",
       "\n",
       "            var data = [{\"type\":\"contour\",\"z\":[[\"NaN\",\"NaN\",\"NaN\",12.0,13.0,14.0,15.0,16.0],[\"NaN\",1.0,\"NaN\",11.0,\"NaN\",\"NaN\",\"NaN\",17.0],[\"NaN\",2.0,6.0,7.0,\"NaN\",\"NaN\",\"NaN\",18.0],[\"NaN\",3.0,\"NaN\",8.0,\"NaN\",\"NaN\",\"NaN\",19.0],[5.0,4.0,10.0,9.0,\"NaN\",\"NaN\",\"NaN\",20.0],[\"NaN\",\"NaN\",\"NaN\",27.0,\"NaN\",\"NaN\",\"NaN\",21.0],[\"NaN\",\"NaN\",\"NaN\",26.0,25.0,24.0,23.0,22.0]],\"showscale\":false,\"xaxis\":\"x\",\"yaxis\":\"y\"},{\"type\":\"contour\",\"z\":[[\"NaN\",\"NaN\",\"NaN\",12.0,13.0,14.0,15.0,16.0],[\"NaN\",1.0,\"NaN\",11.0,\"NaN\",\"NaN\",\"NaN\",17.0],[\"NaN\",2.0,6.0,7.0,\"NaN\",\"NaN\",\"NaN\",18.0],[\"NaN\",3.0,\"NaN\",8.0,\"NaN\",\"NaN\",\"NaN\",19.0],[5.0,4.0,10.0,9.0,\"NaN\",\"NaN\",\"NaN\",20.0],[\"NaN\",\"NaN\",\"NaN\",27.0,\"NaN\",\"NaN\",\"NaN\",21.0],[\"NaN\",\"NaN\",\"NaN\",26.0,25.0,24.0,23.0,22.0]],\"showscale\":false,\"connectgaps\":true,\"xaxis\":\"x2\",\"yaxis\":\"y2\"},{\"type\":\"contour\",\"z\":[[\"NaN\",\"NaN\",\"NaN\",12.0,13.0,14.0,15.0,16.0],[\"NaN\",1.0,\"NaN\",11.0,\"NaN\",\"NaN\",\"NaN\",17.0],[\"NaN\",2.0,6.0,7.0,\"NaN\",\"NaN\",\"NaN\",18.0],[\"NaN\",3.0,\"NaN\",8.0,\"NaN\",\"NaN\",\"NaN\",19.0],[5.0,4.0,10.0,9.0,\"NaN\",\"NaN\",\"NaN\",20.0],[\"NaN\",\"NaN\",\"NaN\",27.0,\"NaN\",\"NaN\",\"NaN\",21.0],[\"NaN\",\"NaN\",\"NaN\",26.0,25.0,24.0,23.0,22.0]],\"showscale\":false,\"zsmooth\":\"best\",\"xaxis\":\"x3\",\"yaxis\":\"y3\"},{\"type\":\"contour\",\"z\":[[\"NaN\",\"NaN\",\"NaN\",12.0,13.0,14.0,15.0,16.0],[\"NaN\",1.0,\"NaN\",11.0,\"NaN\",\"NaN\",\"NaN\",17.0],[\"NaN\",2.0,6.0,7.0,\"NaN\",\"NaN\",\"NaN\",18.0],[\"NaN\",3.0,\"NaN\",8.0,\"NaN\",\"NaN\",\"NaN\",19.0],[5.0,4.0,10.0,9.0,\"NaN\",\"NaN\",\"NaN\",20.0],[\"NaN\",\"NaN\",\"NaN\",27.0,\"NaN\",\"NaN\",\"NaN\",21.0],[\"NaN\",\"NaN\",\"NaN\",26.0,25.0,24.0,23.0,22.0]],\"showscale\":false,\"zsmooth\":\"best\",\"connectgaps\":true,\"xaxis\":\"x4\",\"yaxis\":\"y4\"}];\n",
       "            var layout = {\"xaxis\":{},\"yaxis\":{},\"xaxis2\":{},\"yaxis2\":{},\"xaxis3\":{},\"yaxis3\":{},\"xaxis4\":{},\"yaxis4\":{},\"grid\":{\"rows\":2,\"columns\":2,\"pattern\":\"independent\"}};\n",
       "            var config = {};\n",
       "            Plotly.newPlot('25dda09a-a356-454f-b04d-2d3d065fb5ea', data, layout, config);\r\n",
       "});\n",
       "            };\n",
       "            if ((typeof(requirejs) !==  typeof(Function)) || (typeof(requirejs.config) !== typeof(Function))) {\n",
       "                var script = document.createElement(\"script\");\n",
       "                script.setAttribute(\"src\", \"https://cdnjs.cloudflare.com/ajax/libs/require.js/2.3.6/require.min.js\");\n",
       "                script.onload = function(){\n",
       "                    renderPlotly_25dda09aa356454fb04d2d3d065fb5ea();\n",
       "                };\n",
       "                document.getElementsByTagName(\"head\")[0].appendChild(script);\n",
       "            }\n",
       "            else {\n",
       "                renderPlotly_25dda09aa356454fb04d2d3d065fb5ea();\n",
       "            }\r\n",
       "</script>\r\n"
      ]
     },
     "metadata": {},
     "output_type": "display_data"
    }
   ],
   "source": [
    "open Plotly.NET\n",
    "\n",
    "let z = [[Double.NaN;Double.NaN ; Double.NaN; 12.; 13.; 14.; 15.; 16.];\n",
    "     [Double.NaN; 1.; Double.NaN; 11.; Double.NaN; Double.NaN; Double.NaN; 17.];\n",
    "     [Double.NaN; 2.; 6.; 7.; Double.NaN; Double.NaN; Double.NaN; 18.];\n",
    "     [Double.NaN; 3.; Double.NaN; 8.; Double.NaN; Double.NaN; Double.NaN; 19.];\n",
    "     [5.; 4.; 10.; 9.; Double.NaN; Double.NaN; Double.NaN; 20.];\n",
    "     [Double.NaN; Double.NaN; Double.NaN; 27.; Double.NaN; Double.NaN; Double.NaN; 21.];\n",
    "     [Double.NaN; Double.NaN; Double.NaN; 26.; 25.; 24.; 23.; 22.]]\n",
    "\n",
    "[\n",
    "    Chart.Contour(data=z,Showscale=false)\n",
    "    Chart.Contour(data=z,Showscale=false)\n",
    "    |> GenericChart.mapTrace(fun t -> t?connectgaps<-true;t)\n",
    "    Chart.Contour(data=z,Showscale=false,zSmooth=StyleParam.SmoothAlg.Best)\n",
    "    Chart.Contour(data=z,Showscale=false,zSmooth=StyleParam.SmoothAlg.Best)\n",
    "    |> GenericChart.mapTrace(fun t -> t?connectgaps<-true;t)\n",
    "] |> Chart.Grid(2,2)\n"
   ]
  },
  {
   "cell_type": "markdown",
   "metadata": {},
   "source": [
    "# Smoothing the Contour lines (ABSTRACTION MISSING) (NOT WORKING)"
   ]
  },
  {
   "cell_type": "code",
   "execution_count": null,
   "metadata": {
    "dotnet_interactive": {
     "language": "fsharp"
    }
   },
   "outputs": [
    {
     "data": {
      "text/html": [
       "<div id=\"76ee8422-b078-4fce-9cdc-8093c87da6c1\" style=\"width: 600px; height: 600px;\"><!-- Plotly chart will be drawn inside this DIV --></div>\r\n",
       "<script type=\"text/javascript\">\r\n",
       "\n",
       "            var renderPlotly_76ee8422b0784fce9cdc8093c87da6c1 = function() {\n",
       "            var fsharpPlotlyRequire = requirejs.config({context:'fsharp-plotly',paths:{plotly:'https://cdn.plot.ly/plotly-2.4.2.min'}}) || require;\n",
       "            fsharpPlotlyRequire(['plotly'], function(Plotly) {\r\n",
       "\n",
       "            var data = [{\"type\":\"contour\",\"z\":[[2,4,7,12,13,14,15,16],[3,1,6,11,12,13,16,17],[4,2,7,7,11,14,17,18],[5,3,8,8,13,15,18,19],[7,4,10,9,16,18,20,19],[9,10,5,27,23,21,21,21],[11,14,17,26,25,24,23,22]],\"name\":\"Without Smoothing\",\"line_smoothing\":0,\"xaxis\":\"x\",\"yaxis\":\"y\"},{\"type\":\"contour\",\"z\":[[2,4,7,12,13,14,15,16],[3,1,6,11,12,13,16,17],[4,2,7,7,11,14,17,18],[5,3,8,8,13,15,18,19],[7,4,10,9,16,18,20,19],[9,10,5,27,23,21,21,21],[11,14,17,26,25,24,23,22]],\"name\":\"With Smoothing\",\"line_smoothing\":0.85,\"xaxis\":\"x2\",\"yaxis\":\"y2\"}];\n",
       "            var layout = {\"xaxis\":{},\"yaxis\":{},\"xaxis2\":{},\"yaxis2\":{},\"grid\":{\"rows\":1,\"columns\":2,\"pattern\":\"independent\"}};\n",
       "            var config = {};\n",
       "            Plotly.newPlot('76ee8422-b078-4fce-9cdc-8093c87da6c1', data, layout, config);\r\n",
       "});\n",
       "            };\n",
       "            if ((typeof(requirejs) !==  typeof(Function)) || (typeof(requirejs.config) !== typeof(Function))) {\n",
       "                var script = document.createElement(\"script\");\n",
       "                script.setAttribute(\"src\", \"https://cdnjs.cloudflare.com/ajax/libs/require.js/2.3.6/require.min.js\");\n",
       "                script.onload = function(){\n",
       "                    renderPlotly_76ee8422b0784fce9cdc8093c87da6c1();\n",
       "                };\n",
       "                document.getElementsByTagName(\"head\")[0].appendChild(script);\n",
       "            }\n",
       "            else {\n",
       "                renderPlotly_76ee8422b0784fce9cdc8093c87da6c1();\n",
       "            }\r\n",
       "</script>\r\n"
      ]
     },
     "metadata": {},
     "output_type": "display_data"
    }
   ],
   "source": [
    "open Plotly.NET\n",
    "\n",
    "let z =   [[2; 4; 7; 12; 13; 14; 15; 16];\n",
    "       [3; 1; 6; 11; 12; 13; 16; 17];\n",
    "       [4; 2; 7; 7; 11; 14; 17; 18];\n",
    "       [5; 3; 8; 8; 13; 15; 18; 19];\n",
    "       [7; 4; 10; 9; 16; 18; 20; 19];\n",
    "       [9; 10; 5; 27; 23; 21; 21; 21];\n",
    "       [11; 14; 17; 26; 25; 24; 23; 22]]\n",
    "\n",
    "\n",
    "[\n",
    "Chart.Contour(z,Name=\"Without Smoothing\")\n",
    "|> GenericChart.mapTrace (fun t -> t?line_smoothing <- 0;t)\n",
    "Chart.Contour(z,Name=\"With Smoothing\")\n",
    "|> GenericChart.mapTrace (fun t -> t?line_smoothing <- 0.85;t)\n",
    "]|> Chart.Grid(1,2)"
   ]
  },
  {
   "cell_type": "markdown",
   "metadata": {},
   "source": [
    "# Smooth Contour Coloring (ABSTRACTION MISSING)"
   ]
  },
  {
   "cell_type": "markdown",
   "metadata": {},
   "source": [
    "# Contour Line Labels (ABSTRACTION MISSING)"
   ]
  },
  {
   "cell_type": "markdown",
   "metadata": {},
   "source": [
    "# Contour Lines (ABSTRACTION MISSING)"
   ]
  },
  {
   "cell_type": "markdown",
   "metadata": {},
   "source": [
    "# Custom Contour Plot Colorscale"
   ]
  },
  {
   "cell_type": "code",
   "execution_count": null,
   "metadata": {
    "dotnet_interactive": {
     "language": "fsharp"
    }
   },
   "outputs": [
    {
     "data": {
      "text/html": [
       "<div id=\"e518be25-210f-489f-a96b-1fb2f8828872\" style=\"width: 600px; height: 600px;\"><!-- Plotly chart will be drawn inside this DIV --></div>\r\n",
       "<script type=\"text/javascript\">\r\n",
       "\n",
       "            var renderPlotly_e518be25210f489fa96b1fb2f8828872 = function() {\n",
       "            var fsharpPlotlyRequire = requirejs.config({context:'fsharp-plotly',paths:{plotly:'https://cdn.plot.ly/plotly-2.4.2.min'}}) || require;\n",
       "            fsharpPlotlyRequire(['plotly'], function(Plotly) {\r\n",
       "\n",
       "            var data = [{\"type\":\"contour\",\"z\":[[10.0,10.625,12.5,15.625,20.0],[5.625,6.25,8.125,11.25,15.625],[2.5,3.125,5.0,8.125,12.5],[0.625,1.25,3.125,6.25,10.625],[0.0,0.625,2.5,5.625,10.0]],\"colorscale\":[[0.0,\"gold\"],[0.5,\"mediumturquoise\"],[1.0,\"lightsalmon\"]]}];\n",
       "            var layout = {};\n",
       "            var config = {};\n",
       "            Plotly.newPlot('e518be25-210f-489f-a96b-1fb2f8828872', data, layout, config);\r\n",
       "});\n",
       "            };\n",
       "            if ((typeof(requirejs) !==  typeof(Function)) || (typeof(requirejs.config) !== typeof(Function))) {\n",
       "                var script = document.createElement(\"script\");\n",
       "                script.setAttribute(\"src\", \"https://cdnjs.cloudflare.com/ajax/libs/require.js/2.3.6/require.min.js\");\n",
       "                script.onload = function(){\n",
       "                    renderPlotly_e518be25210f489fa96b1fb2f8828872();\n",
       "                };\n",
       "                document.getElementsByTagName(\"head\")[0].appendChild(script);\n",
       "            }\n",
       "            else {\n",
       "                renderPlotly_e518be25210f489fa96b1fb2f8828872();\n",
       "            }\r\n",
       "</script>\r\n"
      ]
     },
     "metadata": {},
     "output_type": "display_data"
    }
   ],
   "source": [
    "open Plotly.NET\n",
    "\n",
    "let z = [[10.; 10.625; 12.5; 15.625; 20.];\n",
    "           [5.625; 6.25;8.125;11.25;15.625];\n",
    "           [2.5; 3.125; 5.; 8.125; 12.5];\n",
    "           [0.625; 1.25; 3.125; 6.25; 10.625];\n",
    "           [0.; 0.625; 2.5; 5.625; 10.]]\n",
    "\n",
    "let colorscale = StyleParam.Colorscale.Custom([(0., \"gold\"); (0.5, \"mediumturquoise\"); (1., \"lightsalmon\")])\n",
    "\n",
    "Chart.Contour(data=z,Colorscale=colorscale)\n"
   ]
  },
  {
   "cell_type": "markdown",
   "metadata": {},
   "source": [
    "# Color Bar Title"
   ]
  },
  {
   "cell_type": "code",
   "execution_count": null,
   "metadata": {
    "dotnet_interactive": {
     "language": "fsharp"
    }
   },
   "outputs": [
    {
     "data": {
      "text/html": [
       "<div id=\"2fab4355-e275-4cc4-8c56-279e3b2a9a47\" style=\"width: 600px; height: 600px;\"><!-- Plotly chart will be drawn inside this DIV --></div>\r\n",
       "<script type=\"text/javascript\">\r\n",
       "\n",
       "            var renderPlotly_2fab4355e2754cc48c56279e3b2a9a47 = function() {\n",
       "            var fsharpPlotlyRequire = requirejs.config({context:'fsharp-plotly',paths:{plotly:'https://cdn.plot.ly/plotly-2.4.2.min'}}) || require;\n",
       "            fsharpPlotlyRequire(['plotly'], function(Plotly) {\r\n",
       "\n",
       "            var data = [{\"type\":\"contour\",\"z\":[[10.0,10.625,12.5,15.625,20.0],[5.625,6.25,8.125,11.25,15.625],[2.5,3.125,5.0,8.125,12.5],[0.625,1.25,3.125,6.25,10.625],[0.0,0.625,2.5,5.625,10.0]],\"colorbar\":{\"title\":{\"text\":\"Color bar Title\",\"font\":{\"family\":\"Arial\",\"size\":14.0},\"side\":{\"Case\":\"Right\"}}}}];\n",
       "            var layout = {};\n",
       "            var config = {};\n",
       "            Plotly.newPlot('2fab4355-e275-4cc4-8c56-279e3b2a9a47', data, layout, config);\r\n",
       "});\n",
       "            };\n",
       "            if ((typeof(requirejs) !==  typeof(Function)) || (typeof(requirejs.config) !== typeof(Function))) {\n",
       "                var script = document.createElement(\"script\");\n",
       "                script.setAttribute(\"src\", \"https://cdnjs.cloudflare.com/ajax/libs/require.js/2.3.6/require.min.js\");\n",
       "                script.onload = function(){\n",
       "                    renderPlotly_2fab4355e2754cc48c56279e3b2a9a47();\n",
       "                };\n",
       "                document.getElementsByTagName(\"head\")[0].appendChild(script);\n",
       "            }\n",
       "            else {\n",
       "                renderPlotly_2fab4355e2754cc48c56279e3b2a9a47();\n",
       "            }\r\n",
       "</script>\r\n"
      ]
     },
     "metadata": {},
     "output_type": "display_data"
    }
   ],
   "source": [
    "open Plotly.NET\n",
    "open Plotly.NET.TraceObjects\n",
    "open Plotly.NET.LayoutObjects\n",
    "\n",
    "let z = [[10.; 10.625; 12.5; 15.625; 20.];\n",
    "           [5.625; 6.25;8.125;11.25;15.625];\n",
    "           [2.5; 3.125; 5.; 8.125; 12.5];\n",
    "           [0.625; 1.25; 3.125; 6.25; 10.625];\n",
    "           [0.; 0.625; 2.5; 5.625; 10.]]\n",
    "\n",
    "let colorBar =\n",
    "    ColorBar.init (\n",
    "        Title =\n",
    "            Title.init (\n",
    "                \"Color bar Title\",\n",
    "                Side = StyleParam.Side.Right,\n",
    "                Font = Font.init (Family = StyleParam.FontFamily.Arial, Size = 14.)\n",
    "            )\n",
    "    )\n",
    "\n",
    "Chart.Contour(data=z,ColorBar=colorBar)"
   ]
  },
  {
   "cell_type": "markdown",
   "metadata": {},
   "source": [
    "# Color Bar Size for Contour Plots\n",
    "\n",
    "In the example below, both the thickness (given here in pixels) and the length (given here as a fraction of the plot height) are set."
   ]
  },
  {
   "cell_type": "code",
   "execution_count": null,
   "metadata": {
    "dotnet_interactive": {
     "language": "fsharp"
    }
   },
   "outputs": [
    {
     "data": {
      "text/html": [
       "<div id=\"a1fa2cb9-0e3b-4581-bb5d-faa0ef8bdd81\" style=\"width: 600px; height: 600px;\"><!-- Plotly chart will be drawn inside this DIV --></div>\r\n",
       "<script type=\"text/javascript\">\r\n",
       "\n",
       "            var renderPlotly_a1fa2cb90e3b4581bb5dfaa0ef8bdd81 = function() {\n",
       "            var fsharpPlotlyRequire = requirejs.config({context:'fsharp-plotly',paths:{plotly:'https://cdn.plot.ly/plotly-2.4.2.min'}}) || require;\n",
       "            fsharpPlotlyRequire(['plotly'], function(Plotly) {\r\n",
       "\n",
       "            var data = [{\"type\":\"contour\",\"z\":[[10.0,10.625,12.5,15.625,20.0],[5.625,6.25,8.125,11.25,15.625],[2.5,3.125,5.0,8.125,12.5],[0.625,1.25,3.125,6.25,10.625],[0.0,0.625,2.5,5.625,10.0]],\"colorbar\":{\"len\":0.6,\"lenmode\":{\"Case\":\"Fraction\"},\"outlinewidth\":0.0,\"thickness\":25.0,\"thicknessmode\":{\"Case\":\"Pixels\"}}}];\n",
       "            var layout = {};\n",
       "            var config = {};\n",
       "            Plotly.newPlot('a1fa2cb9-0e3b-4581-bb5d-faa0ef8bdd81', data, layout, config);\r\n",
       "});\n",
       "            };\n",
       "            if ((typeof(requirejs) !==  typeof(Function)) || (typeof(requirejs.config) !== typeof(Function))) {\n",
       "                var script = document.createElement(\"script\");\n",
       "                script.setAttribute(\"src\", \"https://cdnjs.cloudflare.com/ajax/libs/require.js/2.3.6/require.min.js\");\n",
       "                script.onload = function(){\n",
       "                    renderPlotly_a1fa2cb90e3b4581bb5dfaa0ef8bdd81();\n",
       "                };\n",
       "                document.getElementsByTagName(\"head\")[0].appendChild(script);\n",
       "            }\n",
       "            else {\n",
       "                renderPlotly_a1fa2cb90e3b4581bb5dfaa0ef8bdd81();\n",
       "            }\r\n",
       "</script>\r\n"
      ]
     },
     "metadata": {},
     "output_type": "display_data"
    }
   ],
   "source": [
    "open Plotly.NET\n",
    "open Plotly.NET.TraceObjects\n",
    "open Plotly.NET.LayoutObjects\n",
    "\n",
    "let z = [[10.; 10.625; 12.5; 15.625; 20.];\n",
    "           [5.625; 6.25;8.125;11.25;15.625];\n",
    "           [2.5; 3.125; 5.; 8.125; 12.5];\n",
    "           [0.625; 1.25; 3.125; 6.25; 10.625];\n",
    "           [0.; 0.625; 2.5; 5.625; 10.]]\n",
    "\n",
    "let colorBar =\n",
    "    ColorBar.init (\n",
    "        Thickness = 25.,\n",
    "        ThicknessMode = StyleParam.UnitMode.Pixels,\n",
    "        Len = 0.6,\n",
    "        LenMode = StyleParam.UnitMode.Fraction,\n",
    "        OutlineWidth = 0.\n",
    "    )\n",
    "\n",
    "Chart.Contour(data=z,ColorBar=colorBar)"
   ]
  },
  {
   "cell_type": "markdown",
   "metadata": {},
   "source": [
    "# Styling Color Bar Ticks for Contour Plots"
   ]
  },
  {
   "cell_type": "code",
   "execution_count": null,
   "metadata": {
    "dotnet_interactive": {
     "language": "fsharp"
    }
   },
   "outputs": [
    {
     "data": {
      "text/html": [
       "<div id=\"7df8e2a2-c183-4212-9acc-66eef9e0f803\" style=\"width: 600px; height: 600px;\"><!-- Plotly chart will be drawn inside this DIV --></div>\r\n",
       "<script type=\"text/javascript\">\r\n",
       "\n",
       "            var renderPlotly_7df8e2a2c18342129acc66eef9e0f803 = function() {\n",
       "            var fsharpPlotlyRequire = requirejs.config({context:'fsharp-plotly',paths:{plotly:'https://cdn.plot.ly/plotly-2.4.2.min'}}) || require;\n",
       "            fsharpPlotlyRequire(['plotly'], function(Plotly) {\r\n",
       "\n",
       "            var data = [{\"type\":\"contour\",\"z\":[[10.0,10.625,12.5,15.625,20.0],[5.625,6.25,8.125,11.25,15.625],[2.5,3.125,5.0,8.125,12.5],[0.625,1.25,3.125,6.25,10.625],[0.0,0.625,2.5,5.625,10.0]],\"colorbar\":{\"nticks\":10,\"showticklabels\":true,\"tickangle\":0,\"tickfont\":{\"size\":12.0},\"ticklen\":5.0,\"ticks\":{\"Case\":\"Outside\"},\"tickwidth\":1.0}}];\n",
       "            var layout = {};\n",
       "            var config = {};\n",
       "            Plotly.newPlot('7df8e2a2-c183-4212-9acc-66eef9e0f803', data, layout, config);\r\n",
       "});\n",
       "            };\n",
       "            if ((typeof(requirejs) !==  typeof(Function)) || (typeof(requirejs.config) !== typeof(Function))) {\n",
       "                var script = document.createElement(\"script\");\n",
       "                script.setAttribute(\"src\", \"https://cdnjs.cloudflare.com/ajax/libs/require.js/2.3.6/require.min.js\");\n",
       "                script.onload = function(){\n",
       "                    renderPlotly_7df8e2a2c18342129acc66eef9e0f803();\n",
       "                };\n",
       "                document.getElementsByTagName(\"head\")[0].appendChild(script);\n",
       "            }\n",
       "            else {\n",
       "                renderPlotly_7df8e2a2c18342129acc66eef9e0f803();\n",
       "            }\r\n",
       "</script>\r\n"
      ]
     },
     "metadata": {},
     "output_type": "display_data"
    }
   ],
   "source": [
    "open Plotly.NET\n",
    "open Plotly.NET.TraceObjects\n",
    "open Plotly.NET.LayoutObjects\n",
    "\n",
    "let z = [[10.; 10.625; 12.5; 15.625; 20.];\n",
    "           [5.625; 6.25;8.125;11.25;15.625];\n",
    "           [2.5; 3.125; 5.; 8.125; 12.5];\n",
    "           [0.625; 1.25; 3.125; 6.25; 10.625];\n",
    "           [0.; 0.625; 2.5; 5.625; 10.]]\n",
    "\n",
    "let colorBar =\n",
    "    ColorBar.init (\n",
    "        NTicks = 10,\n",
    "        Ticks = StyleParam.TickOptions.Outside,\n",
    "        TickLen = 5.,\n",
    "        TickWidth = 1.,\n",
    "        ShowTickLabels = true,\n",
    "        TickAngle = 0,\n",
    "        TickFont = Font.init (Size = 12.)\n",
    "    )\n",
    "\n",
    "Chart.Contour(data=z,ColorBar=colorBar)"
   ]
  }
 ],
 "metadata": {
  "kernelspec": {
   "display_name": ".NET (C#)",
   "language": "C#",
   "name": ".net-csharp"
  },
  "language_info": {
   "file_extension": ".cs",
   "mimetype": "text/x-csharp",
   "name": "C#",
   "pygments_lexer": "csharp",
   "version": "9.0"
  },
  "orig_nbformat": 4
 },
 "nbformat": 4,
 "nbformat_minor": 2
}
