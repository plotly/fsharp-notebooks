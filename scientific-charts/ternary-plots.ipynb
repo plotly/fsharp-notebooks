{
 "cells": [
  {
   "cell_type": "code",
   "execution_count": null,
   "metadata": {
    "dotnet_interactive": {
     "language": "fsharp"
    }
   },
   "outputs": [
    {
     "data": {
      "text/html": [
       "<div><div></div><div></div><div><strong>Installed Packages</strong><ul><li><span>Newtonsoft.Json, 12.0.3</span></li><li><span>Plotly.NET, 2.0.0-preview.10</span></li><li><span>Plotly.NET.Interactive, 2.0.0-preview.10</span></li></ul></div></div>"
      ]
     },
     "metadata": {},
     "output_type": "display_data"
    },
    {
     "data": {
      "text/markdown": [
       "Loading extensions from `Plotly.NET.Interactive.dll`"
      ]
     },
     "metadata": {},
     "output_type": "display_data"
    },
    {
     "data": {
      "text/markdown": [
       "Added Kernel Extension including formatters for Plotly.NET charts."
      ]
     },
     "metadata": {},
     "output_type": "display_data"
    }
   ],
   "source": [
    "#r \"nuget: Newtonsoft.Json, 12.0.3\"\n",
    "#r \"nuget: Plotly.NET, 2.0.0-preview.10\"\n",
    "#r \"nuget: Plotly.NET.Interactive, 2.0.0-preview.10\""
   ]
  },
  {
   "cell_type": "markdown",
   "metadata": {},
   "source": [
    "# Ternary Plots\n",
    "\n",
    "A ternary plot depicts the ratios of three variables as positions in an equilateral triangle.\n",
    "\n",
    "It graphically depicts the ratios of the three variables as positions in an equilateral triangle. \n",
    "It is used in physical chemistry, petrology, mineralogy, metallurgy, and other physical sciences to show the compositions of systems composed of three species. \n",
    "In population genetics, a triangle plot of genotype frequencies is called a de Finetti diagram. In game theory, it is often called a simplex plot.\n",
    "Ternary plots are tools for analyzing compositional data in the three-dimensional case."
   ]
  },
  {
   "cell_type": "markdown",
   "metadata": {},
   "source": [
    "# Basic Ternary point charts"
   ]
  },
  {
   "cell_type": "code",
   "execution_count": null,
   "metadata": {
    "dotnet_interactive": {
     "language": "fsharp"
    }
   },
   "outputs": [
    {
     "data": {
      "text/html": [
       "<div id=\"c015a64d-56e6-42ba-9cb3-096f9774de1c\" style=\"width: 600px; height: 600px;\"><!-- Plotly chart will be drawn inside this DIV --></div>\r\n",
       "<script type=\"text/javascript\">\r\n",
       "\n",
       "            var renderPlotly_c015a64d56e642ba9cb3096f9774de1c = function() {\n",
       "            var fsharpPlotlyRequire = requirejs.config({context:'fsharp-plotly',paths:{plotly:'https://cdn.plot.ly/plotly-2.4.2.min'}}) || require;\n",
       "            fsharpPlotlyRequire(['plotly'], function(Plotly) {\r\n",
       "\n",
       "            var data = [{\"type\":\"scatterternary\",\"mode\":\"markers\",\"a\":[1,2,3,4,5,6,7],\"b\":[7,6,5,4,3,2,1],\"c\":[2,2,2,2,2,2,2],\"marker\":{}}];\n",
       "            var layout = {};\n",
       "            var config = {};\n",
       "            Plotly.newPlot('c015a64d-56e6-42ba-9cb3-096f9774de1c', data, layout, config);\r\n",
       "});\n",
       "            };\n",
       "            if ((typeof(requirejs) !==  typeof(Function)) || (typeof(requirejs.config) !== typeof(Function))) {\n",
       "                var script = document.createElement(\"script\");\n",
       "                script.setAttribute(\"src\", \"https://cdnjs.cloudflare.com/ajax/libs/require.js/2.3.6/require.min.js\");\n",
       "                script.onload = function(){\n",
       "                    renderPlotly_c015a64d56e642ba9cb3096f9774de1c();\n",
       "                };\n",
       "                document.getElementsByTagName(\"head\")[0].appendChild(script);\n",
       "            }\n",
       "            else {\n",
       "                renderPlotly_c015a64d56e642ba9cb3096f9774de1c();\n",
       "            }\r\n",
       "</script>\r\n"
      ]
     },
     "metadata": {},
     "output_type": "display_data"
    }
   ],
   "source": [
    "open Plotly.NET\n",
    "\n",
    "// a coordinates\n",
    "let a  = [ 1; 2; 3; 4; 5; 6; 7;]\n",
    "// b coordinates\n",
    "let b  = a |> List.rev\n",
    "//c\n",
    "let c  = [ 2; 2; 2; 2; 2; 2; 2;]\n",
    "\n",
    "Chart.PointTernary(a,b,c)"
   ]
  },
  {
   "cell_type": "code",
   "execution_count": null,
   "metadata": {
    "dotnet_interactive": {
     "language": "fsharp"
    }
   },
   "outputs": [
    {
     "data": {
      "text/html": [
       "<div id=\"94f2ccf0-d5c0-4807-8095-dd18f841212f\" style=\"width: 600px; height: 600px;\"><!-- Plotly chart will be drawn inside this DIV --></div>\r\n",
       "<script type=\"text/javascript\">\r\n",
       "\n",
       "            var renderPlotly_94f2ccf0d5c048078095dd18f841212f = function() {\n",
       "            var fsharpPlotlyRequire = requirejs.config({context:'fsharp-plotly',paths:{plotly:'https://cdn.plot.ly/plotly-2.4.2.min'}}) || require;\n",
       "            fsharpPlotlyRequire(['plotly'], function(Plotly) {\r\n",
       "\n",
       "            var data = [{\"type\":\"scatterternary\",\"mode\":\"markers\",\"a\":[75,70,75,5,10,10,10,10,15,10,20],\"b\":[25,10,20,60,80,90,70,20,5,10,10],\"c\":[0,20,5,35,10,0,10,70,80,80,70],\"sum\":100.0,\"line\":{},\"marker\":{\"color\":\"#DB7365\",\"line\":{\"width\":2.0},\"size\":14,\"symbol\":\"100\"}}];\n",
       "            var layout = {\"ternary\":{\"aaxis\":{\"title\":{\"text\":\"Journalist\",\"font\":{\"size\":20.0}},\"ticklen\":5,\"tickcolor\":\"rgba(0,0,0,0)\",\"tickfont\":{\"size\":15.0},\"tickangle\":0,\"showline\":true,\"showgrid\":true},\"baxis\":{\"title\":{\"text\":\"<br>Developer\",\"font\":{\"size\":20.0}},\"ticklen\":5,\"tickcolor\":\"rgba(0,0,0,0)\",\"tickfont\":{\"size\":15.0},\"tickangle\":45,\"showline\":true,\"showgrid\":true},\"caxis\":{\"title\":{\"text\":\"<br>Designer\",\"font\":{\"size\":20.0}},\"ticklen\":5,\"tickcolor\":\"rgba(0,0,0,0)\",\"tickfont\":{\"size\":15.0},\"tickangle\":-45,\"showline\":true,\"showgrid\":true}}};\n",
       "            var config = {};\n",
       "            Plotly.newPlot('94f2ccf0-d5c0-4807-8095-dd18f841212f', data, layout, config);\r\n",
       "});\n",
       "            };\n",
       "            if ((typeof(requirejs) !==  typeof(Function)) || (typeof(requirejs.config) !== typeof(Function))) {\n",
       "                var script = document.createElement(\"script\");\n",
       "                script.setAttribute(\"src\", \"https://cdnjs.cloudflare.com/ajax/libs/require.js/2.3.6/require.min.js\");\n",
       "                script.onload = function(){\n",
       "                    renderPlotly_94f2ccf0d5c048078095dd18f841212f();\n",
       "                };\n",
       "                document.getElementsByTagName(\"head\")[0].appendChild(script);\n",
       "            }\n",
       "            else {\n",
       "                renderPlotly_94f2ccf0d5c048078095dd18f841212f();\n",
       "            }\r\n",
       "</script>\r\n"
      ]
     },
     "metadata": {},
     "output_type": "display_data"
    }
   ],
   "source": [
    "open Plotly.NET\n",
    "open Plotly.NET.TraceObjects\n",
    "open Plotly.NET.LayoutObjects\n",
    "\n",
    "let rawData = [\n",
    "    {|journalist=75;developer=25;designer=0;label=\"point 1\" |}\n",
    "    {|journalist=70;developer=10;designer=20;label=\"point 2\" |}\n",
    "    {|journalist=75;developer=20;designer=5;label=\"point 3\" |}\n",
    "    {|journalist=5;developer=60;designer=35;label=\"point 4\" |}\n",
    "    {|journalist=10;developer=80;designer=10;label=\"point 5\" |}\n",
    "    {|journalist=10;developer=90;designer=0;label=\"point 6\" |}\n",
    "    {|journalist=10;developer=70;designer=10;label=\"point 7\" |}\n",
    "    {|journalist=10;developer=20;designer=70;label=\"point 8\" |}\n",
    "    {|journalist=15;developer=5;designer=80;label=\"point 9\" |}\n",
    "    {|journalist=10;developer=10;designer=80;label=\"point 10\" |}\n",
    "    {|journalist=20;developer=10;designer=70;label=\"point 11\" |}\n",
    "    ]\n",
    "\n",
    "let A= [for item in rawData -> item.journalist]\n",
    "let B = [for item in rawData -> item.developer]\n",
    "let C = [for item in rawData -> item.designer]\n",
    "\n",
    "let makeAxis title tickAngle=\n",
    "    LinearAxis.init(Title=Title.init(title,Font = Font.init(Size=20.)),TickAngle=tickAngle,TickFont=Font.init(Size=15.),TickColor=Color.fromString \"rgba(0,0,0,0)\",TickLen=5,ShowLine=true,ShowGrid=true)\n",
    "\n",
    "let markerSymbol =  StyleParam.MarkerSymbol.Modified(StyleParam.MarkerSymbol.Circle, StyleParam.SymbolStyle.Open)\n",
    "\n",
    "Chart.ScatterTernary(A=A,B=B,C=C,Mode=StyleParam.Mode.Markers,Sum=100.)\n",
    "|> Chart.withMarkerStyle(Size=14,Color=Color.fromString \"#DB7365\",Outline=Line.init(Width=2.),Symbol=markerSymbol)\n",
    "|> Chart.withAAxis(makeAxis \"Journalist\" 0)\n",
    "|> Chart.withBAxis(makeAxis \"<br>Developer\" 45)\n",
    "|> Chart.withCAxis(makeAxis \"<br>Designer\" -45)"
   ]
  }
 ],
 "metadata": {
  "kernelspec": {
   "display_name": ".NET (C#)",
   "language": "C#",
   "name": ".net-csharp"
  },
  "language_info": {
   "file_extension": ".cs",
   "mimetype": "text/x-csharp",
   "name": "C#",
   "pygments_lexer": "csharp",
   "version": "9.0"
  },
  "orig_nbformat": 4
 },
 "nbformat": 4,
 "nbformat_minor": 2
}
