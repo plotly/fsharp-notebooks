{
 "cells": [
  {
   "cell_type": "code",
   "execution_count": null,
   "source": [
    "#r \"nuget: Plotly.NET,  2.0.0-preview.8\"\r\n",
    "#r \"nuget: Plotly.NET.Interactive,  2.0.0-preview.8\""
   ],
   "outputs": [
    {
     "data": {
      "text/html": [
       "<div><div></div><div></div><div><strong>Installed Packages</strong><ul><li><span>Plotly.NET, 2.0.0-preview.8</span></li><li><span>Plotly.NET.Interactive, 2.0.0-preview.8</span></li></ul></div></div>"
      ]
     },
     "metadata": {},
     "output_type": "display_data"
    },
    {
     "data": {
      "text/markdown": [
       "Loading extensions from `Plotly.NET.Interactive.dll`"
      ]
     },
     "metadata": {},
     "output_type": "display_data"
    },
    {
     "data": {
      "text/markdown": [
       "Added Kernel Extension including formatters for Plotly.NET charts."
      ]
     },
     "metadata": {},
     "output_type": "display_data"
    }
   ],
   "metadata": {
    "dotnet_interactive": {
     "language": "fsharp"
    }
   }
  },
  {
   "cell_type": "markdown",
   "source": [
    "# Create Nodes"
   ],
   "metadata": {}
  },
  {
   "cell_type": "code",
   "execution_count": null,
   "source": [
    "//open QuickGraph\r\n",
    "open Plotly.NET\r\n",
    "open Plotly.NET.LayoutObjects\r\n",
    "\r\n",
    "\r\n",
    "let x = [2;3;5;1;10;3]\r\n",
    "let y = [12;14;7;2;15;4]\r\n",
    "\r\n",
    "Chart.Point(x,y)\r\n",
    "|> Chart.withMarkerStyle(Size=10)\r\n",
    "|> Chart.withXAxis(LinearAxis.init(ShowTickLabels=false,ShowGrid=false,ShowLine=false))\r\n",
    "|> Chart.withYAxis(LinearAxis.init(ShowTickLabels=false,ShowGrid=false,ShowLine=false))\r\n"
   ],
   "outputs": [
    {
     "data": {
      "text/html": [
       "<div id=\"99ac91c9-9707-4550-81b5-d4fd2632db08\" style=\"width: 600px; height: 600px;\"><!-- Plotly chart will be drawn inside this DIV --></div>\r\n",
       "<script type=\"text/javascript\">\r\n",
       "\n",
       "            var renderPlotly_99ac91c99707455081b5d4fd2632db08 = function() {\n",
       "            var fsharpPlotlyRequire = requirejs.config({context:'fsharp-plotly',paths:{plotly:'https://cdn.plot.ly/plotly-latest.min'}}) || require;\n",
       "            fsharpPlotlyRequire(['plotly'], function(Plotly) {\r\n",
       "\n",
       "            var data = [{\"type\":\"scatter\",\"mode\":\"markers\",\"x\":[2,3,5,1,10,3],\"y\":[12,14,7,2,15,4],\"marker\":{\"size\":10}}];\n",
       "            var layout = {\"xaxis\":{\"showticklabels\":false,\"showline\":false,\"showgrid\":false},\"yaxis\":{\"showticklabels\":false,\"showline\":false,\"showgrid\":false}};\n",
       "            var config = {};\n",
       "            Plotly.newPlot('99ac91c9-9707-4550-81b5-d4fd2632db08', data, layout, config);\r\n",
       "});\n",
       "            };\n",
       "            if ((typeof(requirejs) !==  typeof(Function)) || (typeof(requirejs.config) !== typeof(Function))) {\n",
       "                var script = document.createElement(\"script\");\n",
       "                script.setAttribute(\"src\", \"https://cdnjs.cloudflare.com/ajax/libs/require.js/2.3.6/require.min.js\");\n",
       "                script.onload = function(){\n",
       "                    renderPlotly_99ac91c99707455081b5d4fd2632db08();\n",
       "                };\n",
       "                document.getElementsByTagName(\"head\")[0].appendChild(script);\n",
       "            }\n",
       "            else {\n",
       "                renderPlotly_99ac91c99707455081b5d4fd2632db08();\n",
       "            }\r\n",
       "</script>\r\n"
      ]
     },
     "metadata": {},
     "output_type": "display_data"
    }
   ],
   "metadata": {
    "dotnet_interactive": {
     "language": "fsharp"
    }
   }
  },
  {
   "cell_type": "markdown",
   "source": [
    "# Create Edges"
   ],
   "metadata": {}
  },
  {
   "cell_type": "code",
   "execution_count": null,
   "source": [
    "\r\n",
    "open System\r\n",
    "\r\n",
    "let rand = new Random()\r\n",
    "\r\n",
    "let x = [for i in 0..100 -> rand.Next(0,100) ]\r\n",
    "let y = [for i in x -> rand.Next(0,100) ]\r\n",
    "\r\n",
    "let edges = [for i in x ->  let i = rand.Next(0,100)\r\n",
    "                            let j = rand.Next(0,100)                            \r\n",
    "                            Shape.init(StyleParam.ShapeType.Line,X0=x.[i],X1=x.[j],Y0=y.[i],Y1=y.[j],Line=Line.init(Color=Color.fromString \"#888\",Width=0.5))]\r\n",
    "\r\n",
    "\r\n",
    "Chart.Point(x,y)\r\n",
    "|> Chart.withMarkerStyle(Size=10)\r\n",
    "|> Chart.withXAxis(LinearAxis.init(ShowTickLabels=false,ShowGrid=false,ShowLine=false,ZeroLine=false))\r\n",
    "|> Chart.withYAxis(LinearAxis.init(ShowTickLabels=false,ShowGrid=false,ShowLine=false,ZeroLine=false))\r\n",
    "|> Chart.withShapes edges"
   ],
   "outputs": [
    {
     "data": {
      "text/html": [
       "<div id=\"74ca397c-6926-4889-98ef-1af9ae894473\" style=\"width: 600px; height: 600px;\"><!-- Plotly chart will be drawn inside this DIV --></div>\r\n",
       "<script type=\"text/javascript\">\r\n",
       "\n",
       "            var renderPlotly_74ca397c6926488998ef1af9ae894473 = function() {\n",
       "            var fsharpPlotlyRequire = requirejs.config({context:'fsharp-plotly',paths:{plotly:'https://cdn.plot.ly/plotly-latest.min'}}) || require;\n",
       "            fsharpPlotlyRequire(['plotly'], function(Plotly) {\r\n",
       "\n",
       "            var data = [{\"type\":\"scatter\",\"mode\":\"markers\",\"x\":[62,6,39,94,71,31,41,9,15,26,31,86,7,92,66,41,38,27,90,12,92,3,2,37,75,21,62,49,40,11,16,49,9,96,60,47,25,53,11,55,37,86,77,84,23,87,84,5,71,96,81,92,41,37,12,58,3,2,18,50,69,91,68,3,10,82,77,10,32,19,15,85,16,34,74,5,26,18,14,87,36,57,77,43,30,23,7,72,84,1,43,23,34,61,86,45,18,73,74,40,10],\"y\":[73,73,52,80,95,76,7,62,6,32,85,88,30,13,11,14,24,72,86,75,4,26,30,75,92,51,54,47,28,87,52,43,73,77,63,84,25,63,35,47,99,9,78,69,57,35,3,48,74,31,93,0,87,64,5,46,42,76,88,44,21,59,34,19,79,41,14,53,49,27,88,61,37,39,76,94,48,60,17,57,47,6,72,96,94,51,56,9,71,16,41,48,74,90,25,39,75,58,89,16,20],\"marker\":{\"size\":10}}];\n",
       "            var layout = {\"xaxis\":{\"showticklabels\":false,\"showline\":false,\"showgrid\":false,\"zeroline\":false},\"yaxis\":{\"showticklabels\":false,\"showline\":false,\"showgrid\":false,\"zeroline\":false},\"shapes\":[{\"type\":\"line\",\"x0\":96,\"x1\":74,\"y0\":31,\"y1\":89,\"line\":{\"color\":\"#888\",\"width\":0.5}},{\"type\":\"line\",\"x0\":84,\"x1\":84,\"y0\":3,\"y1\":69,\"line\":{\"color\":\"#888\",\"width\":0.5}},{\"type\":\"line\",\"x0\":49,\"x1\":3,\"y0\":43,\"y1\":19,\"line\":{\"color\":\"#888\",\"width\":0.5}},{\"type\":\"line\",\"x0\":5,\"x1\":84,\"y0\":48,\"y1\":71,\"line\":{\"color\":\"#888\",\"width\":0.5}},{\"type\":\"line\",\"x0\":31,\"x1\":74,\"y0\":85,\"y1\":89,\"line\":{\"color\":\"#888\",\"width\":0.5}},{\"type\":\"line\",\"x0\":77,\"x1\":18,\"y0\":72,\"y1\":88,\"line\":{\"color\":\"#888\",\"width\":0.5}},{\"type\":\"line\",\"x0\":49,\"x1\":73,\"y0\":43,\"y1\":58,\"line\":{\"color\":\"#888\",\"width\":0.5}},{\"type\":\"line\",\"x0\":41,\"x1\":7,\"y0\":14,\"y1\":56,\"line\":{\"color\":\"#888\",\"width\":0.5}},{\"type\":\"line\",\"x0\":53,\"x1\":21,\"y0\":63,\"y1\":51,\"line\":{\"color\":\"#888\",\"width\":0.5}},{\"type\":\"line\",\"x0\":40,\"x1\":23,\"y0\":28,\"y1\":51,\"line\":{\"color\":\"#888\",\"width\":0.5}},{\"type\":\"line\",\"x0\":71,\"x1\":57,\"y0\":95,\"y1\":6,\"line\":{\"color\":\"#888\",\"width\":0.5}},{\"type\":\"line\",\"x0\":9,\"x1\":7,\"y0\":73,\"y1\":56,\"line\":{\"color\":\"#888\",\"width\":0.5}},{\"type\":\"line\",\"x0\":55,\"x1\":72,\"y0\":47,\"y1\":9,\"line\":{\"color\":\"#888\",\"width\":0.5}},{\"type\":\"line\",\"x0\":84,\"x1\":92,\"y0\":3,\"y1\":13,\"line\":{\"color\":\"#888\",\"width\":0.5}},{\"type\":\"line\",\"x0\":25,\"x1\":90,\"y0\":25,\"y1\":86,\"line\":{\"color\":\"#888\",\"width\":0.5}},{\"type\":\"line\",\"x0\":1,\"x1\":15,\"y0\":16,\"y1\":88,\"line\":{\"color\":\"#888\",\"width\":0.5}},{\"type\":\"line\",\"x0\":6,\"x1\":25,\"y0\":73,\"y1\":25,\"line\":{\"color\":\"#888\",\"width\":0.5}},{\"type\":\"line\",\"x0\":73,\"x1\":9,\"y0\":58,\"y1\":62,\"line\":{\"color\":\"#888\",\"width\":0.5}},{\"type\":\"line\",\"x0\":21,\"x1\":37,\"y0\":51,\"y1\":64,\"line\":{\"color\":\"#888\",\"width\":0.5}},{\"type\":\"line\",\"x0\":68,\"x1\":84,\"y0\":34,\"y1\":71,\"line\":{\"color\":\"#888\",\"width\":0.5}},{\"type\":\"line\",\"x0\":15,\"x1\":3,\"y0\":6,\"y1\":26,\"line\":{\"color\":\"#888\",\"width\":0.5}},{\"type\":\"line\",\"x0\":69,\"x1\":90,\"y0\":21,\"y1\":86,\"line\":{\"color\":\"#888\",\"width\":0.5}},{\"type\":\"line\",\"x0\":50,\"x1\":1,\"y0\":44,\"y1\":16,\"line\":{\"color\":\"#888\",\"width\":0.5}},{\"type\":\"line\",\"x0\":77,\"x1\":61,\"y0\":78,\"y1\":90,\"line\":{\"color\":\"#888\",\"width\":0.5}},{\"type\":\"line\",\"x0\":31,\"x1\":41,\"y0\":85,\"y1\":87,\"line\":{\"color\":\"#888\",\"width\":0.5}},{\"type\":\"line\",\"x0\":11,\"x1\":96,\"y0\":35,\"y1\":77,\"line\":{\"color\":\"#888\",\"width\":0.5}},{\"type\":\"line\",\"x0\":91,\"x1\":49,\"y0\":59,\"y1\":43,\"line\":{\"color\":\"#888\",\"width\":0.5}},{\"type\":\"line\",\"x0\":41,\"x1\":10,\"y0\":14,\"y1\":53,\"line\":{\"color\":\"#888\",\"width\":0.5}},{\"type\":\"line\",\"x0\":77,\"x1\":69,\"y0\":14,\"y1\":21,\"line\":{\"color\":\"#888\",\"width\":0.5}},{\"type\":\"line\",\"x0\":94,\"x1\":23,\"y0\":80,\"y1\":57,\"line\":{\"color\":\"#888\",\"width\":0.5}},{\"type\":\"line\",\"x0\":38,\"x1\":60,\"y0\":24,\"y1\":63,\"line\":{\"color\":\"#888\",\"width\":0.5}},{\"type\":\"line\",\"x0\":92,\"x1\":34,\"y0\":0,\"y1\":74,\"line\":{\"color\":\"#888\",\"width\":0.5}},{\"type\":\"line\",\"x0\":26,\"x1\":86,\"y0\":32,\"y1\":88,\"line\":{\"color\":\"#888\",\"width\":0.5}},{\"type\":\"line\",\"x0\":2,\"x1\":45,\"y0\":76,\"y1\":39,\"line\":{\"color\":\"#888\",\"width\":0.5}},{\"type\":\"line\",\"x0\":40,\"x1\":9,\"y0\":16,\"y1\":62,\"line\":{\"color\":\"#888\",\"width\":0.5}},{\"type\":\"line\",\"x0\":69,\"x1\":43,\"y0\":21,\"y1\":96,\"line\":{\"color\":\"#888\",\"width\":0.5}},{\"type\":\"line\",\"x0\":68,\"x1\":37,\"y0\":34,\"y1\":99,\"line\":{\"color\":\"#888\",\"width\":0.5}},{\"type\":\"line\",\"x0\":26,\"x1\":43,\"y0\":48,\"y1\":96,\"line\":{\"color\":\"#888\",\"width\":0.5}},{\"type\":\"line\",\"x0\":3,\"x1\":66,\"y0\":26,\"y1\":11,\"line\":{\"color\":\"#888\",\"width\":0.5}},{\"type\":\"line\",\"x0\":49,\"x1\":81,\"y0\":47,\"y1\":93,\"line\":{\"color\":\"#888\",\"width\":0.5}},{\"type\":\"line\",\"x0\":23,\"x1\":37,\"y0\":57,\"y1\":64,\"line\":{\"color\":\"#888\",\"width\":0.5}},{\"type\":\"line\",\"x0\":39,\"x1\":43,\"y0\":52,\"y1\":96,\"line\":{\"color\":\"#888\",\"width\":0.5}},{\"type\":\"line\",\"x0\":36,\"x1\":58,\"y0\":47,\"y1\":46,\"line\":{\"color\":\"#888\",\"width\":0.5}},{\"type\":\"line\",\"x0\":26,\"x1\":15,\"y0\":32,\"y1\":88,\"line\":{\"color\":\"#888\",\"width\":0.5}},{\"type\":\"line\",\"x0\":92,\"x1\":11,\"y0\":4,\"y1\":87,\"line\":{\"color\":\"#888\",\"width\":0.5}},{\"type\":\"line\",\"x0\":86,\"x1\":82,\"y0\":9,\"y1\":41,\"line\":{\"color\":\"#888\",\"width\":0.5}},{\"type\":\"line\",\"x0\":81,\"x1\":90,\"y0\":93,\"y1\":86,\"line\":{\"color\":\"#888\",\"width\":0.5}},{\"type\":\"line\",\"x0\":85,\"x1\":74,\"y0\":61,\"y1\":76,\"line\":{\"color\":\"#888\",\"width\":0.5}},{\"type\":\"line\",\"x0\":15,\"x1\":32,\"y0\":88,\"y1\":49,\"line\":{\"color\":\"#888\",\"width\":0.5}},{\"type\":\"line\",\"x0\":26,\"x1\":71,\"y0\":32,\"y1\":74,\"line\":{\"color\":\"#888\",\"width\":0.5}},{\"type\":\"line\",\"x0\":9,\"x1\":5,\"y0\":73,\"y1\":48,\"line\":{\"color\":\"#888\",\"width\":0.5}},{\"type\":\"line\",\"x0\":86,\"x1\":94,\"y0\":25,\"y1\":80,\"line\":{\"color\":\"#888\",\"width\":0.5}},{\"type\":\"line\",\"x0\":23,\"x1\":58,\"y0\":48,\"y1\":46,\"line\":{\"color\":\"#888\",\"width\":0.5}},{\"type\":\"line\",\"x0\":15,\"x1\":3,\"y0\":88,\"y1\":26,\"line\":{\"color\":\"#888\",\"width\":0.5}},{\"type\":\"line\",\"x0\":12,\"x1\":9,\"y0\":5,\"y1\":73,\"line\":{\"color\":\"#888\",\"width\":0.5}},{\"type\":\"line\",\"x0\":84,\"x1\":41,\"y0\":3,\"y1\":87,\"line\":{\"color\":\"#888\",\"width\":0.5}},{\"type\":\"line\",\"x0\":96,\"x1\":37,\"y0\":77,\"y1\":64,\"line\":{\"color\":\"#888\",\"width\":0.5}},{\"type\":\"line\",\"x0\":40,\"x1\":68,\"y0\":16,\"y1\":34,\"line\":{\"color\":\"#888\",\"width\":0.5}},{\"type\":\"line\",\"x0\":49,\"x1\":10,\"y0\":43,\"y1\":53,\"line\":{\"color\":\"#888\",\"width\":0.5}},{\"type\":\"line\",\"x0\":7,\"x1\":37,\"y0\":30,\"y1\":64,\"line\":{\"color\":\"#888\",\"width\":0.5}},{\"type\":\"line\",\"x0\":6,\"x1\":7,\"y0\":73,\"y1\":56,\"line\":{\"color\":\"#888\",\"width\":0.5}},{\"type\":\"line\",\"x0\":74,\"x1\":19,\"y0\":76,\"y1\":27,\"line\":{\"color\":\"#888\",\"width\":0.5}},{\"type\":\"line\",\"x0\":77,\"x1\":45,\"y0\":14,\"y1\":39,\"line\":{\"color\":\"#888\",\"width\":0.5}},{\"type\":\"line\",\"x0\":96,\"x1\":23,\"y0\":77,\"y1\":57,\"line\":{\"color\":\"#888\",\"width\":0.5}},{\"type\":\"line\",\"x0\":32,\"x1\":6,\"y0\":49,\"y1\":73,\"line\":{\"color\":\"#888\",\"width\":0.5}},{\"type\":\"line\",\"x0\":92,\"x1\":41,\"y0\":13,\"y1\":87,\"line\":{\"color\":\"#888\",\"width\":0.5}},{\"type\":\"line\",\"x0\":71,\"x1\":87,\"y0\":95,\"y1\":57,\"line\":{\"color\":\"#888\",\"width\":0.5}},{\"type\":\"line\",\"x0\":27,\"x1\":73,\"y0\":72,\"y1\":58,\"line\":{\"color\":\"#888\",\"width\":0.5}},{\"type\":\"line\",\"x0\":18,\"x1\":40,\"y0\":88,\"y1\":16,\"line\":{\"color\":\"#888\",\"width\":0.5}},{\"type\":\"line\",\"x0\":34,\"x1\":21,\"y0\":74,\"y1\":51,\"line\":{\"color\":\"#888\",\"width\":0.5}},{\"type\":\"line\",\"x0\":23,\"x1\":84,\"y0\":51,\"y1\":71,\"line\":{\"color\":\"#888\",\"width\":0.5}},{\"type\":\"line\",\"x0\":41,\"x1\":72,\"y0\":14,\"y1\":9,\"line\":{\"color\":\"#888\",\"width\":0.5}},{\"type\":\"line\",\"x0\":43,\"x1\":1,\"y0\":96,\"y1\":16,\"line\":{\"color\":\"#888\",\"width\":0.5}},{\"type\":\"line\",\"x0\":9,\"x1\":73,\"y0\":73,\"y1\":58,\"line\":{\"color\":\"#888\",\"width\":0.5}},{\"type\":\"line\",\"x0\":12,\"x1\":15,\"y0\":75,\"y1\":6,\"line\":{\"color\":\"#888\",\"width\":0.5}},{\"type\":\"line\",\"x0\":84,\"x1\":39,\"y0\":69,\"y1\":52,\"line\":{\"color\":\"#888\",\"width\":0.5}},{\"type\":\"line\",\"x0\":3,\"x1\":58,\"y0\":42,\"y1\":46,\"line\":{\"color\":\"#888\",\"width\":0.5}},{\"type\":\"line\",\"x0\":84,\"x1\":84,\"y0\":3,\"y1\":3,\"line\":{\"color\":\"#888\",\"width\":0.5}},{\"type\":\"line\",\"x0\":16,\"x1\":75,\"y0\":37,\"y1\":92,\"line\":{\"color\":\"#888\",\"width\":0.5}},{\"type\":\"line\",\"x0\":25,\"x1\":18,\"y0\":25,\"y1\":75,\"line\":{\"color\":\"#888\",\"width\":0.5}},{\"type\":\"line\",\"x0\":3,\"x1\":62,\"y0\":26,\"y1\":54,\"line\":{\"color\":\"#888\",\"width\":0.5}},{\"type\":\"line\",\"x0\":41,\"x1\":41,\"y0\":87,\"y1\":87,\"line\":{\"color\":\"#888\",\"width\":0.5}},{\"type\":\"line\",\"x0\":12,\"x1\":61,\"y0\":75,\"y1\":90,\"line\":{\"color\":\"#888\",\"width\":0.5}},{\"type\":\"line\",\"x0\":5,\"x1\":37,\"y0\":48,\"y1\":64,\"line\":{\"color\":\"#888\",\"width\":0.5}},{\"type\":\"line\",\"x0\":47,\"x1\":6,\"y0\":84,\"y1\":73,\"line\":{\"color\":\"#888\",\"width\":0.5}},{\"type\":\"line\",\"x0\":94,\"x1\":49,\"y0\":80,\"y1\":43,\"line\":{\"color\":\"#888\",\"width\":0.5}},{\"type\":\"line\",\"x0\":5,\"x1\":7,\"y0\":94,\"y1\":56,\"line\":{\"color\":\"#888\",\"width\":0.5}},{\"type\":\"line\",\"x0\":32,\"x1\":7,\"y0\":49,\"y1\":30,\"line\":{\"color\":\"#888\",\"width\":0.5}},{\"type\":\"line\",\"x0\":15,\"x1\":7,\"y0\":88,\"y1\":56,\"line\":{\"color\":\"#888\",\"width\":0.5}},{\"type\":\"line\",\"x0\":7,\"x1\":18,\"y0\":56,\"y1\":60,\"line\":{\"color\":\"#888\",\"width\":0.5}},{\"type\":\"line\",\"x0\":68,\"x1\":47,\"y0\":34,\"y1\":84,\"line\":{\"color\":\"#888\",\"width\":0.5}},{\"type\":\"line\",\"x0\":21,\"x1\":50,\"y0\":51,\"y1\":44,\"line\":{\"color\":\"#888\",\"width\":0.5}},{\"type\":\"line\",\"x0\":18,\"x1\":31,\"y0\":88,\"y1\":85,\"line\":{\"color\":\"#888\",\"width\":0.5}},{\"type\":\"line\",\"x0\":18,\"x1\":71,\"y0\":75,\"y1\":74,\"line\":{\"color\":\"#888\",\"width\":0.5}},{\"type\":\"line\",\"x0\":9,\"x1\":85,\"y0\":73,\"y1\":61,\"line\":{\"color\":\"#888\",\"width\":0.5}},{\"type\":\"line\",\"x0\":75,\"x1\":60,\"y0\":92,\"y1\":63,\"line\":{\"color\":\"#888\",\"width\":0.5}},{\"type\":\"line\",\"x0\":68,\"x1\":45,\"y0\":34,\"y1\":39,\"line\":{\"color\":\"#888\",\"width\":0.5}},{\"type\":\"line\",\"x0\":94,\"x1\":18,\"y0\":80,\"y1\":88,\"line\":{\"color\":\"#888\",\"width\":0.5}},{\"type\":\"line\",\"x0\":25,\"x1\":68,\"y0\":25,\"y1\":34,\"line\":{\"color\":\"#888\",\"width\":0.5}},{\"type\":\"line\",\"x0\":32,\"x1\":1,\"y0\":49,\"y1\":16,\"line\":{\"color\":\"#888\",\"width\":0.5}},{\"type\":\"line\",\"x0\":86,\"x1\":14,\"y0\":9,\"y1\":17,\"line\":{\"color\":\"#888\",\"width\":0.5}}]};\n",
       "            var config = {};\n",
       "            Plotly.newPlot('74ca397c-6926-4889-98ef-1af9ae894473', data, layout, config);\r\n",
       "});\n",
       "            };\n",
       "            if ((typeof(requirejs) !==  typeof(Function)) || (typeof(requirejs.config) !== typeof(Function))) {\n",
       "                var script = document.createElement(\"script\");\n",
       "                script.setAttribute(\"src\", \"https://cdnjs.cloudflare.com/ajax/libs/require.js/2.3.6/require.min.js\");\n",
       "                script.onload = function(){\n",
       "                    renderPlotly_74ca397c6926488998ef1af9ae894473();\n",
       "                };\n",
       "                document.getElementsByTagName(\"head\")[0].appendChild(script);\n",
       "            }\n",
       "            else {\n",
       "                renderPlotly_74ca397c6926488998ef1af9ae894473();\n",
       "            }\r\n",
       "</script>\r\n"
      ]
     },
     "metadata": {},
     "output_type": "display_data"
    }
   ],
   "metadata": {
    "dotnet_interactive": {
     "language": "fsharp"
    }
   }
  }
 ],
 "metadata": {
  "orig_nbformat": 4,
  "language_info": {
   "file_extension": ".cs",
   "mimetype": "text/x-csharp",
   "name": "C#",
   "pygments_lexer": "csharp",
   "version": "9.0"
  },
  "kernelspec": {
   "display_name": ".NET (C#)",
   "language": "C#",
   "name": ".net-csharp"
  }
 },
 "nbformat": 4,
 "nbformat_minor": 2
}