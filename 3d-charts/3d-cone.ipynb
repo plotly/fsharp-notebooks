{
 "cells": [
  {
   "cell_type": "code",
   "execution_count": null,
   "source": [
    "#r \"nuget: Plotly.NET, 2.0.0-preview.6\"\r\n",
    "#r \"nuget: Plotly.NET.Interactive, 2.0.0-preview.6\"\r\n",
    "#r \"nuget: FSharp.Data, 4.2.2\""
   ],
   "outputs": [
    {
     "data": {
      "text/html": [
       "<div><div></div><div></div><div><strong>Installed Packages</strong><ul><li><span>FSharp.Data, 4.2.2</span></li><li><span>Plotly.NET, 2.0.0-preview.6</span></li><li><span>Plotly.NET.Interactive, 2.0.0-preview.6</span></li></ul></div></div>"
      ]
     },
     "metadata": {},
     "output_type": "display_data"
    }
   ],
   "metadata": {
    "dotnet_interactive": {
     "language": "fsharp"
    }
   }
  },
  {
   "cell_type": "markdown",
   "source": [
    "# Basic 3D Cone\r\n"
   ],
   "metadata": {}
  },
  {
   "cell_type": "code",
   "execution_count": null,
   "source": [
    "open System\r\n",
    "open Plotly.NET \r\n",
    "\r\n",
    "\r\n",
    "let cone3d =\r\n",
    "    Trace3d.initCone \r\n",
    "        (fun cone3d ->\r\n",
    "            cone3d?x <- [1]\r\n",
    "            cone3d?y <- [1]\r\n",
    "            cone3d?z <- [1]\r\n",
    "            cone3d?u <- [1]\r\n",
    "            cone3d?v <- [1]\r\n",
    "            cone3d?w <- [0]\r\n",
    "            cone3d?colorscale<-\"Blues\"\r\n",
    "            cone3d?sizemode<-\"absolute\"\r\n",
    "            cone3d?sizeref<- 20,\r\n",
    "            cone3d?anchor<-\"tip\"\r\n",
    "            cone3d\r\n",
    "            )\r\n",
    "    |> GenericChart.ofTraceObject "
   ],
   "outputs": [],
   "metadata": {
    "dotnet_interactive": {
     "language": "fsharp"
    }
   }
  },
  {
   "cell_type": "code",
   "execution_count": null,
   "source": [
    "cone3d\r\n"
   ],
   "outputs": [
    {
     "data": {
      "text/html": [
       "<div id=\"ebb4cb78-f8d8-475f-98be-81d0a833308f\" style=\"width: 600px; height: 600px;\"><!-- Plotly chart will be drawn inside this DIV --></div>\r\n",
       "<script type=\"text/javascript\">\r\n",
       "\n",
       "            var renderPlotly_ebb4cb78f8d8475f98be81d0a833308f = function() {\n",
       "            var fsharpPlotlyRequire = requirejs.config({context:'fsharp-plotly',paths:{plotly:'https://cdn.plot.ly/plotly-latest.min'}}) || require;\n",
       "            fsharpPlotlyRequire(['plotly'], function(Plotly) {\r\n",
       "\n",
       "            var data = [{\"type\":\"cone\",\"x\":[1],\"y\":[1],\"z\":[1],\"u\":[1],\"v\":[1],\"w\":[0],\"colorscale\":\"Blues\",\"sizemode\":\"absolute\",\"anchor\":\"tip\",\"sizeref\":{\"Item1\":20,\"Item2\":null}}];\n",
       "            var layout = {};\n",
       "            var config = {};\n",
       "            Plotly.newPlot('ebb4cb78-f8d8-475f-98be-81d0a833308f', data, layout, config);\r\n",
       "});\n",
       "            };\n",
       "            if ((typeof(requirejs) !==  typeof(Function)) || (typeof(requirejs.config) !== typeof(Function))) {\n",
       "                var script = document.createElement(\"script\");\n",
       "                script.setAttribute(\"src\", \"https://cdnjs.cloudflare.com/ajax/libs/require.js/2.3.6/require.min.js\");\n",
       "                script.onload = function(){\n",
       "                    renderPlotly_ebb4cb78f8d8475f98be81d0a833308f();\n",
       "                };\n",
       "                document.getElementsByTagName(\"head\")[0].appendChild(script);\n",
       "            }\n",
       "            else {\n",
       "                renderPlotly_ebb4cb78f8d8475f98be81d0a833308f();\n",
       "            }\r\n",
       "</script>\r\n"
      ]
     },
     "metadata": {},
     "output_type": "display_data"
    }
   ],
   "metadata": {
    "dotnet_interactive": {
     "language": "fsharp"
    }
   }
  },
  {
   "cell_type": "markdown",
   "source": [
    "# Multiple 3D Cones\r\n"
   ],
   "metadata": {}
  },
  {
   "cell_type": "code",
   "execution_count": null,
   "source": [
    "open System\r\n",
    "open Plotly.NET \r\n",
    "\r\n",
    "let cone3d =\r\n",
    "    Trace3d.initCone \r\n",
    "        (fun cone3d ->\r\n",
    "            cone3d?x<-[1, 2, 3]\r\n",
    "            cone3d?y<-[1, 2, 3]\r\n",
    "            cone3d?z<-[1, 2, 3]\r\n",
    "            cone3d?u<-[1, 0, 0]\r\n",
    "            cone3d?v<-[0, 3, 0]\r\n",
    "            cone3d?w<-[0, 0, 2]\r\n",
    "            cone3d?sizemode<-\"absolute\"\r\n",
    "            cone3d?sizeref<-2\r\n",
    "            cone3d?anchor<-\"tip\"\r\n",
    "            cone3d\r\n",
    "            )\r\n",
    "    |> GenericChart.ofTraceObject "
   ],
   "outputs": [],
   "metadata": {
    "dotnet_interactive": {
     "language": "fsharp"
    }
   }
  },
  {
   "cell_type": "code",
   "execution_count": null,
   "source": [
    "cone3d"
   ],
   "outputs": [
    {
     "data": {
      "text/html": [
       "<div id=\"f63792a9-6543-47a0-84af-681ae9c7d4c3\" style=\"width: 600px; height: 600px;\"><!-- Plotly chart will be drawn inside this DIV --></div>\r\n",
       "<script type=\"text/javascript\">\r\n",
       "\n",
       "            var renderPlotly_f63792a9654347a084af681ae9c7d4c3 = function() {\n",
       "            var fsharpPlotlyRequire = requirejs.config({context:'fsharp-plotly',paths:{plotly:'https://cdn.plot.ly/plotly-latest.min'}}) || require;\n",
       "            fsharpPlotlyRequire(['plotly'], function(Plotly) {\r\n",
       "\n",
       "            var data = [{\"type\":\"cone\",\"x\":[{\"Item1\":1,\"Item2\":2,\"Item3\":3}],\"y\":[{\"Item1\":1,\"Item2\":2,\"Item3\":3}],\"z\":[{\"Item1\":1,\"Item2\":2,\"Item3\":3}],\"u\":[{\"Item1\":1,\"Item2\":0,\"Item3\":0}],\"v\":[{\"Item1\":0,\"Item2\":3,\"Item3\":0}],\"w\":[{\"Item1\":0,\"Item2\":0,\"Item3\":2}],\"sizemode\":\"absolute\",\"sizeref\":2,\"anchor\":\"tip\"}];\n",
       "            var layout = {};\n",
       "            var config = {};\n",
       "            Plotly.newPlot('f63792a9-6543-47a0-84af-681ae9c7d4c3', data, layout, config);\r\n",
       "});\n",
       "            };\n",
       "            if ((typeof(requirejs) !==  typeof(Function)) || (typeof(requirejs.config) !== typeof(Function))) {\n",
       "                var script = document.createElement(\"script\");\n",
       "                script.setAttribute(\"src\", \"https://cdnjs.cloudflare.com/ajax/libs/require.js/2.3.6/require.min.js\");\n",
       "                script.onload = function(){\n",
       "                    renderPlotly_f63792a9654347a084af681ae9c7d4c3();\n",
       "                };\n",
       "                document.getElementsByTagName(\"head\")[0].appendChild(script);\n",
       "            }\n",
       "            else {\n",
       "                renderPlotly_f63792a9654347a084af681ae9c7d4c3();\n",
       "            }\r\n",
       "</script>\r\n"
      ]
     },
     "metadata": {},
     "output_type": "display_data"
    }
   ],
   "metadata": {
    "dotnet_interactive": {
     "language": "fsharp"
    }
   }
  },
  {
   "cell_type": "markdown",
   "source": [
    "# 3D Cone Vortex"
   ],
   "metadata": {}
  },
  {
   "cell_type": "code",
   "execution_count": null,
   "source": [
    "open System\r\n",
    "open Plotly.NET \r\n",
    "open FSharp.Data"
   ],
   "outputs": [],
   "metadata": {
    "dotnet_interactive": {
     "language": "fsharp"
    }
   }
  },
  {
   "cell_type": "code",
   "execution_count": null,
   "source": [
    "type ConVortexDataset = CsvProvider<\"https://raw.githubusercontent.com/plotly/datasets/master/vortex.csv\">\r\n",
    " "
   ],
   "outputs": [],
   "metadata": {
    "dotnet_interactive": {
     "language": "fsharp"
    }
   }
  },
  {
   "cell_type": "code",
   "execution_count": null,
   "source": [
    "let data = UsaStatesDataset.GetSample()\r\n",
    "data"
   ],
   "outputs": [
    {
     "data": {
      "text/html": [
       "<table><thead><tr><th>Rows</th><th>Headers</th><th>NumberOfColumns</th><th>Separators</th><th>Quote</th></tr></thead><tbody><tr><td><div class=\"dni-plaintext\">[ ( -7.13951683, -8.66400623, -14.8824177, 0.636595734325, -0.324044287677, -0.250673631839 ), ( -5.24462366, -6.92718697, -14.3522158, 0.636745245098, -0.192036234451, -0.0187747072907 ), ( -6.84395361, -7.60949898, -14.3269711, 0.691551450053, -0.265829350456, -0.211760615595 ), ( -4.89705944, -7.08333731, -11.0781069, 0.671393551295, -0.289265112232, 0.0999093778387 ), ( -3.0303309, -6.39436293, -10.9577656, 0.689872210199, -0.170497018057, 0.155503781324 ), ( -2.14634943, -4.48561573, -9.44124222, 0.757648691248, 0.000434055918941, 0.424106581211 ), ( -6.59258652, -8.86267281, -16.6560211, 0.584532299738, -0.309348315489, -0.36293131839 ), ( -4.84378672, -7.13383389, -13.4711409, 0.557488286184, -0.187580060573, -0.0495474443949 ), ( -5.30990458, -6.17098284, -11.8602114, 0.603381896356, -0.0554052527341, -0.00149966511741 ), ( -4.8454113, -7.38433838, -13.0952721, 0.723036605134, -0.183967278879, -0.0552639735554 ), ( -4.1225853, -5.92169523, -15.5013676, 0.685560303898, -0.285587794199, -0.217587726585 ), ( -1.04960942, -5.69824409, -11.1695013, 0.753038741889, -0.0982529656207, 0.198056871047 ), ( -3.20321441, -7.88769293, -10.64252, 0.582589659567, -0.0280835896225, 0.265890092616 ), ( -4.76058102, -5.72930622, -15.2878056, 0.51092524396, -0.223229449991, -0.172097155473 ), ( 0.652336478, -5.73936653, -9.44340229, 0.733985662617, 0.101275532124, 0.51186880494 ), ( -10.4123688, -6.81269503, -17.785635, 0.407112081668, -0.347888028004, -0.546211077097 ), ( 1.67122483, -4.60524654, -9.17808342, 0.671172038804, 0.128642808052, 0.649980915913 ), ( -4.25003147, -7.16837502, -13.5680304, 0.748572555355, -0.263755719128, -0.141499835698 ), ( -5.04904079, -5.63792896, -11.716404, 0.585700918757, -0.0492453151617, 0.161293504996 ), ( -4.34066772, -7.81686783, -12.676754, 0.536578759205, -0.284909148322, -0.00276136716278 ) ... (1980 more) ]</div></td><td><div class=\"dni-plaintext\">{ Some(System.String[]): Value: [ x, y, z, u, v, w ] }</div></td><td><div class=\"dni-plaintext\">6</div></td><td><div class=\"dni-plaintext\">,</div></td><td><div class=\"dni-plaintext\">&quot;</div></td></tr></tbody></table>"
      ]
     },
     "metadata": {},
     "output_type": "display_data"
    }
   ],
   "metadata": {
    "dotnet_interactive": {
     "language": "fsharp"
    }
   }
  },
  {
   "cell_type": "code",
   "execution_count": null,
   "source": [
    "let cone3d =\r\n",
    "    Trace3d.initCone \r\n",
    "        (fun cone3d ->\r\n",
    "            cone3d?x <- [1]\r\n",
    "            cone3d?y <- [1]\r\n",
    "            cone3d?z <- [1]\r\n",
    "            cone3d?u <- [1]\r\n",
    "            cone3d?v <- [1]\r\n",
    "            cone3d?w <- [0]\r\n",
    "            cone3d?colorscale<-\"Blues\"\r\n",
    "            cone3d?sizemode<-\"absolute\"\r\n",
    "            cone3d?sizeref<- 20,\r\n",
    "            cone3d?anchor<-\"tip\"\r\n",
    "            cone3d\r\n",
    "            )\r\n",
    "    |> GenericChart.ofTraceObject "
   ],
   "outputs": [],
   "metadata": {
    "dotnet_interactive": {
     "language": "fsharp"
    }
   }
  }
 ],
 "metadata": {
  "kernelspec": {
   "name": ".net-csharp",
   "display_name": ".NET (C#)",
   "language": "C#"
  },
  "langauge_info": {
   "file_extension": ".fs",
   "mimetype": "text/x-fsharp",
   "name": "C#",
   "pygments_lexer": "fsharp",
   "version": "4.5"
  },
  "language_info": {
   "file_extension": ".cs",
   "mimetype": "text/x-csharp",
   "name": "C#",
   "pygments_lexer": "csharp",
   "version": "9.0"
  },
  "interpreter": {
   "hash": "a7396d70d75e9feef5572c1270d0e25eb59b5df4cfba1077f052c893e36b892f"
  }
 },
 "nbformat": 4,
 "nbformat_minor": 1
}