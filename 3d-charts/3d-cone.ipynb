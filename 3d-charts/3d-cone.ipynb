{
 "cells": [
  {
   "cell_type": "code",
   "execution_count": null,
   "source": [
    "#r \"nuget: Plotly.NET, 2.0.0-preview.6\"\r\n",
    "#r \"nuget: Plotly.NET.Interactive, 2.0.0-preview.6\"\r\n",
    "#r \"nuget: FSharp.Data, 4.2.2\""
   ],
   "outputs": [
    {
     "output_type": "display_data",
     "data": {
      "text/html": [
       "<div><div></div><div></div><div><strong>Installed Packages</strong><ul><li><span>FSharp.Data, 4.2.2</span></li><li><span>Plotly.NET, 2.0.0-preview.6</span></li><li><span>Plotly.NET.Interactive, 2.0.0-preview.6</span></li></ul></div></div>"
      ]
     },
     "metadata": {}
    }
   ],
   "metadata": {
    "dotnet_interactive": {
     "language": "fsharp"
    }
   }
  },
  {
   "cell_type": "markdown",
   "source": [
    "# Basic 3D Cone\r\n"
   ],
   "metadata": {}
  },
  {
   "cell_type": "code",
   "execution_count": null,
   "source": [
    "open System\r\n",
    "open Plotly.NET \r\n",
    "\r\n",
    "\r\n",
    "let cone3d =\r\n",
    "    Trace3d.initCone \r\n",
    "        (fun cone3d ->\r\n",
    "            cone3d?x <- [1]\r\n",
    "            cone3d?y <- [1]\r\n",
    "            cone3d?z <- [1]\r\n",
    "            cone3d?u <- [1]\r\n",
    "            cone3d?v <- [1]\r\n",
    "            cone3d?w <- [0]\r\n",
    "            cone3d?colorscale<-\"Blues\"\r\n",
    "            cone3d?sizemode<-\"absolute\"\r\n",
    "            cone3d?sizeref<- 20,\r\n",
    "            cone3d?anchor<-\"tip\"\r\n",
    "            cone3d\r\n",
    "            )\r\n",
    "    |> GenericChart.ofTraceObject "
   ],
   "outputs": [],
   "metadata": {
    "dotnet_interactive": {
     "language": "fsharp"
    }
   }
  },
  {
   "cell_type": "code",
   "execution_count": null,
   "source": [
    "cone3d\r\n"
   ],
   "outputs": [
    {
     "output_type": "display_data",
     "data": {
      "text/html": [
       "<div id=\"ebb4cb78-f8d8-475f-98be-81d0a833308f\" style=\"width: 600px; height: 600px;\"><!-- Plotly chart will be drawn inside this DIV --></div>\r\n",
       "<script type=\"text/javascript\">\r\n",
       "\n",
       "            var renderPlotly_ebb4cb78f8d8475f98be81d0a833308f = function() {\n",
       "            var fsharpPlotlyRequire = requirejs.config({context:'fsharp-plotly',paths:{plotly:'https://cdn.plot.ly/plotly-latest.min'}}) || require;\n",
       "            fsharpPlotlyRequire(['plotly'], function(Plotly) {\r\n",
       "\n",
       "            var data = [{\"type\":\"cone\",\"x\":[1],\"y\":[1],\"z\":[1],\"u\":[1],\"v\":[1],\"w\":[0],\"colorscale\":\"Blues\",\"sizemode\":\"absolute\",\"anchor\":\"tip\",\"sizeref\":{\"Item1\":20,\"Item2\":null}}];\n",
       "            var layout = {};\n",
       "            var config = {};\n",
       "            Plotly.newPlot('ebb4cb78-f8d8-475f-98be-81d0a833308f', data, layout, config);\r\n",
       "});\n",
       "            };\n",
       "            if ((typeof(requirejs) !==  typeof(Function)) || (typeof(requirejs.config) !== typeof(Function))) {\n",
       "                var script = document.createElement(\"script\");\n",
       "                script.setAttribute(\"src\", \"https://cdnjs.cloudflare.com/ajax/libs/require.js/2.3.6/require.min.js\");\n",
       "                script.onload = function(){\n",
       "                    renderPlotly_ebb4cb78f8d8475f98be81d0a833308f();\n",
       "                };\n",
       "                document.getElementsByTagName(\"head\")[0].appendChild(script);\n",
       "            }\n",
       "            else {\n",
       "                renderPlotly_ebb4cb78f8d8475f98be81d0a833308f();\n",
       "            }\r\n",
       "</script>\r\n"
      ]
     },
     "metadata": {}
    }
   ],
   "metadata": {
    "dotnet_interactive": {
     "language": "fsharp"
    }
   }
  },
  {
   "cell_type": "markdown",
   "source": [
    "# Multiple 3D Cones\r\n"
   ],
   "metadata": {}
  },
  {
   "cell_type": "code",
   "execution_count": null,
   "source": [
    "open System\r\n",
    "open Plotly.NET \r\n",
    "\r\n",
    "let cone3d =\r\n",
    "    Trace3d.initCone \r\n",
    "        (fun cone3d ->\r\n",
    "            cone3d?x<-[1, 2, 3]\r\n",
    "            cone3d?y<-[1, 2, 3]\r\n",
    "            cone3d?z<-[1, 2, 3]\r\n",
    "            cone3d?u<-[1, 0, 0]\r\n",
    "            cone3d?v<-[0, 3, 0]\r\n",
    "            cone3d?w<-[0, 0, 2]\r\n",
    "            cone3d?sizemode<-\"absolute\"\r\n",
    "            cone3d?sizeref<-2\r\n",
    "            cone3d?anchor<-\"tip\"\r\n",
    "            cone3d\r\n",
    "            )\r\n",
    "    |> GenericChart.ofTraceObject "
   ],
   "outputs": [],
   "metadata": {
    "dotnet_interactive": {
     "language": "fsharp"
    }
   }
  },
  {
   "cell_type": "code",
   "execution_count": null,
   "source": [
    "cone3d"
   ],
   "outputs": [
    {
     "output_type": "display_data",
     "data": {
      "text/html": [
       "<div id=\"f63792a9-6543-47a0-84af-681ae9c7d4c3\" style=\"width: 600px; height: 600px;\"><!-- Plotly chart will be drawn inside this DIV --></div>\r\n",
       "<script type=\"text/javascript\">\r\n",
       "\n",
       "            var renderPlotly_f63792a9654347a084af681ae9c7d4c3 = function() {\n",
       "            var fsharpPlotlyRequire = requirejs.config({context:'fsharp-plotly',paths:{plotly:'https://cdn.plot.ly/plotly-latest.min'}}) || require;\n",
       "            fsharpPlotlyRequire(['plotly'], function(Plotly) {\r\n",
       "\n",
       "            var data = [{\"type\":\"cone\",\"x\":[{\"Item1\":1,\"Item2\":2,\"Item3\":3}],\"y\":[{\"Item1\":1,\"Item2\":2,\"Item3\":3}],\"z\":[{\"Item1\":1,\"Item2\":2,\"Item3\":3}],\"u\":[{\"Item1\":1,\"Item2\":0,\"Item3\":0}],\"v\":[{\"Item1\":0,\"Item2\":3,\"Item3\":0}],\"w\":[{\"Item1\":0,\"Item2\":0,\"Item3\":2}],\"sizemode\":\"absolute\",\"sizeref\":2,\"anchor\":\"tip\"}];\n",
       "            var layout = {};\n",
       "            var config = {};\n",
       "            Plotly.newPlot('f63792a9-6543-47a0-84af-681ae9c7d4c3', data, layout, config);\r\n",
       "});\n",
       "            };\n",
       "            if ((typeof(requirejs) !==  typeof(Function)) || (typeof(requirejs.config) !== typeof(Function))) {\n",
       "                var script = document.createElement(\"script\");\n",
       "                script.setAttribute(\"src\", \"https://cdnjs.cloudflare.com/ajax/libs/require.js/2.3.6/require.min.js\");\n",
       "                script.onload = function(){\n",
       "                    renderPlotly_f63792a9654347a084af681ae9c7d4c3();\n",
       "                };\n",
       "                document.getElementsByTagName(\"head\")[0].appendChild(script);\n",
       "            }\n",
       "            else {\n",
       "                renderPlotly_f63792a9654347a084af681ae9c7d4c3();\n",
       "            }\r\n",
       "</script>\r\n"
      ]
     },
     "metadata": {}
    }
   ],
   "metadata": {
    "dotnet_interactive": {
     "language": "fsharp"
    }
   }
  }
 ],
 "metadata": {
  "kernelspec": {
   "name": ".net-csharp",
   "display_name": ".NET (C#)",
   "language": "C#"
  },
  "langauge_info": {
   "file_extension": ".fs",
   "mimetype": "text/x-fsharp",
   "name": "C#",
   "pygments_lexer": "fsharp",
   "version": "4.5"
  },
  "language_info": {
   "file_extension": ".cs",
   "mimetype": "text/x-csharp",
   "name": "C#",
   "pygments_lexer": "csharp",
   "version": "9.0"
  },
  "interpreter": {
   "hash": "a7396d70d75e9feef5572c1270d0e25eb59b5df4cfba1077f052c893e36b892f"
  }
 },
 "nbformat": 4,
 "nbformat_minor": 1
}