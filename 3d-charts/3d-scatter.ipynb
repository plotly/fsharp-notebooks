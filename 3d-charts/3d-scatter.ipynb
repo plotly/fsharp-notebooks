{
 "metadata": {
  "kernelspec": {
   "display_name": ".NET (F#)",
   "language": "F#",
   "name": ".net-fsharp"
  },
  "language_info": {
   "name": "F#"
  }
 },
 "cells": [
  {
   "cell_type": "code",
   "execution_count": null,
   "source": [
    "#r \"nuget: Plotly.NET, 2.0.0-preview.6\"\r\n",
    "#r \"nuget: Plotly.NET.Interactive, 2.0.0-preview.6\""
   ],
   "outputs": [
    {
     "data": {
      "text/html": [
       "<div><div></div><div></div><div><strong>Installed Packages</strong><ul><li><span>Plotly.NET, 2.0.0-preview.6</span></li><li><span>Plotly.NET.Interactive, 2.0.0-preview.6</span></li></ul></div></div>"
      ]
     },
     "metadata": {},
     "output_type": "display_data"
    }
   ],
   "metadata": {
    "dotnet_interactive": {
     "language": "fsharp"
    }
   }
  },
  {
   "cell_type": "markdown",
   "source": [
    "# Basic 3D Scatter Plot"
   ],
   "metadata": {}
  },
  {
   "cell_type": "markdown",
   "source": [
    "### Basic 3D Scatter Plot\r\n"
   ],
   "metadata": {}
  },
  {
   "cell_type": "markdown",
   "source": [
    "If Plotly Express does not provide a good starting point, it is also possible to use the more generic go.Scatter3D class from plotly.graph_objects. Like the 2D scatter plot go.Scatter, go.Scatter3d plots individual data in three-dimensional space."
   ],
   "metadata": {}
  },
  {
   "cell_type": "code",
   "execution_count": null,
   "source": [
    "open Plotly.NET \r\n",
    "open System\r\n",
    "\r\n",
    "let t = [0. .. 0.5 .. 10.]\r\n",
    "\r\n",
    "let x,y,z =  \r\n",
    "    t\r\n",
    "    |> List.map (fun i ->\r\n",
    "        let i' = float i \r\n",
    "        let r = 10. * Math.Cos (i' / 10.)\r\n",
    "        (r*Math.Cos i',r*Math.Sin i',i')\r\n",
    "    )\r\n",
    "    |> List.unzip3\r\n",
    "\r\n",
    "let scatter3dLine = \r\n",
    "    Chart.Scatter3d(x,y,z,mode = StyleParam.Mode.Markers)"
   ],
   "outputs": [],
   "metadata": {
    "dotnet_interactive": {
     "language": "fsharp"
    }
   }
  },
  {
   "cell_type": "code",
   "execution_count": null,
   "source": [
    "scatter3dLine"
   ],
   "outputs": [
    {
     "data": {
      "text/html": [
       "<div id=\"2806cddc-15d0-455e-aa0b-01a6e6c351de\" style=\"width: 600px; height: 600px;\"><!-- Plotly chart will be drawn inside this DIV --></div>\r\n",
       "<script type=\"text/javascript\">\r\n",
       "\n",
       "            var renderPlotly_2806cddc15d0455eaa0b01a6e6c351de = function() {\n",
       "            var fsharpPlotlyRequire = requirejs.config({context:'fsharp-plotly',paths:{plotly:'https://cdn.plot.ly/plotly-latest.min'}}) || require;\n",
       "            fsharpPlotlyRequire(['plotly'], function(Plotly) {\r\n",
       "\n",
       "            var data = [{\"type\":\"scatter3d\",\"x\":[10.0,8.764858122060915,5.37603044848121,0.699428991431538,-4.078516059742164,-7.762380006776013,-9.457759559629629,-8.796818588044248,-6.020456431562834,-1.8981046678556164,2.4893698743024015,6.041583606256742,7.924627339505819,7.774455867055685,5.766162492106399,2.5362920361842747,-1.0137084976470045,-3.9731770939413367,-5.663676531805762,-5.800381805436715,-4.533522819483131],\"y\":[0.0,4.788263815209447,8.372671348444594,9.862941931402888,8.911720173488927,5.798670944701265,1.3481709304529075,-3.2951619221615798,-6.970612585921842,-8.802141619140079,-8.415352216177444,-6.014904288506064,-2.306115620213046,1.712535372607758,5.024910671806752,6.86324142009979,6.892925283704576,5.269880365378672,2.561769585348826,-0.437141359268977,-2.939358606544734],\"z\":[0.0,0.5,1.0,1.5,2.0,2.5,3.0,3.5,4.0,4.5,5.0,5.5,6.0,6.5,7.0,7.5,8.0,8.5,9.0,9.5,10.0],\"mode\":\"markers\",\"line\":{},\"marker\":{}}];\n",
       "            var layout = {};\n",
       "            var config = {};\n",
       "            Plotly.newPlot('2806cddc-15d0-455e-aa0b-01a6e6c351de', data, layout, config);\r\n",
       "});\n",
       "            };\n",
       "            if ((typeof(requirejs) !==  typeof(Function)) || (typeof(requirejs.config) !== typeof(Function))) {\n",
       "                var script = document.createElement(\"script\");\n",
       "                script.setAttribute(\"src\", \"https://cdnjs.cloudflare.com/ajax/libs/require.js/2.3.6/require.min.js\");\n",
       "                script.onload = function(){\n",
       "                    renderPlotly_2806cddc15d0455eaa0b01a6e6c351de();\n",
       "                };\n",
       "                document.getElementsByTagName(\"head\")[0].appendChild(script);\n",
       "            }\n",
       "            else {\n",
       "                renderPlotly_2806cddc15d0455eaa0b01a6e6c351de();\n",
       "            }\r\n",
       "</script>\r\n"
      ]
     },
     "metadata": {},
     "output_type": "display_data"
    }
   ],
   "metadata": {
    "dotnet_interactive": {
     "language": "fsharp"
    }
   }
  },
  {
   "cell_type": "markdown",
   "source": [
    "# 3D Scatter Plot with Colorscaling and Marker Styling\r\n"
   ],
   "metadata": {}
  },
  {
   "cell_type": "code",
   "execution_count": null,
   "source": [
    "open Plotly.NET \r\n",
    "open System\r\n",
    " \r\n",
    " \r\n",
    "let c = [0. .. 0.5 .. 10.]\r\n",
    "\r\n",
    "let x,y,z =  \r\n",
    "    c\r\n",
    "    |> List.map (fun i ->\r\n",
    "        let i' = float i \r\n",
    "        let r = 10. * Math.Cos (i' / 10.)\r\n",
    "        (r*Math.Cos i',r*Math.Sin i',i')\r\n",
    "    )\r\n",
    "    |> List.unzip3\r\n",
    "\r\n",
    "let marker = Marker.init(Size =12,Opacity=0.8, Colorscale = StyleParam.Colorscale.Viridis  )\r\n",
    "let margin =Margin.init(Left =0., Bottom=0.,Top =0., Right  = 0. )\r\n",
    "let layout = Layout.init(  Margin=margin)\r\n",
    "\r\n",
    "let scatter3dLine = \r\n",
    "    Chart.Scatter3d(x,y,z,mode = StyleParam.Mode.Markers)\r\n",
    "    |> Chart.withMarker marker\r\n",
    "    |> Chart.withLayout layout\r\n"
   ],
   "outputs": [],
   "metadata": {
    "dotnet_interactive": {
     "language": "fsharp"
    }
   }
  },
  {
   "cell_type": "code",
   "execution_count": null,
   "source": [
    "scatter3dLine"
   ],
   "outputs": [
    {
     "data": {
      "text/html": [
       "<div id=\"267c115d-e8d0-4cd1-a439-e9d70f603b6c\" style=\"width: 600px; height: 600px;\"><!-- Plotly chart will be drawn inside this DIV --></div>\r\n",
       "<script type=\"text/javascript\">\r\n",
       "\n",
       "            var renderPlotly_267c115de8d04cd1a439e9d70f603b6c = function() {\n",
       "            var fsharpPlotlyRequire = requirejs.config({context:'fsharp-plotly',paths:{plotly:'https://cdn.plot.ly/plotly-latest.min'}}) || require;\n",
       "            fsharpPlotlyRequire(['plotly'], function(Plotly) {\r\n",
       "\n",
       "            var data = [{\"type\":\"scatter3d\",\"x\":[10.0,8.764858122060915,5.37603044848121,0.699428991431538,-4.078516059742164,-7.762380006776013,-9.457759559629629,-8.796818588044248,-6.020456431562834,-1.8981046678556164,2.4893698743024015,6.041583606256742,7.924627339505819,7.774455867055685,5.766162492106399,2.5362920361842747,-1.0137084976470045,-3.9731770939413367,-5.663676531805762,-5.800381805436715,-4.533522819483131],\"y\":[0.0,4.788263815209447,8.372671348444594,9.862941931402888,8.911720173488927,5.798670944701265,1.3481709304529075,-3.2951619221615798,-6.970612585921842,-8.802141619140079,-8.415352216177444,-6.014904288506064,-2.306115620213046,1.712535372607758,5.024910671806752,6.86324142009979,6.892925283704576,5.269880365378672,2.561769585348826,-0.437141359268977,-2.939358606544734],\"z\":[0.0,0.5,1.0,1.5,2.0,2.5,3.0,3.5,4.0,4.5,5.0,5.5,6.0,6.5,7.0,7.5,8.0,8.5,9.0,9.5,10.0],\"mode\":\"markers\",\"line\":{},\"marker\":{\"size\":12,\"opacity\":0.8,\"colorscale\":\"Viridis\"}}];\n",
       "            var layout = {\"margin\":{\"l\":0.0,\"r\":0.0,\"t\":0.0,\"b\":0.0}};\n",
       "            var config = {};\n",
       "            Plotly.newPlot('267c115d-e8d0-4cd1-a439-e9d70f603b6c', data, layout, config);\r\n",
       "});\n",
       "            };\n",
       "            if ((typeof(requirejs) !==  typeof(Function)) || (typeof(requirejs.config) !== typeof(Function))) {\n",
       "                var script = document.createElement(\"script\");\n",
       "                script.setAttribute(\"src\", \"https://cdnjs.cloudflare.com/ajax/libs/require.js/2.3.6/require.min.js\");\n",
       "                script.onload = function(){\n",
       "                    renderPlotly_267c115de8d04cd1a439e9d70f603b6c();\n",
       "                };\n",
       "                document.getElementsByTagName(\"head\")[0].appendChild(script);\n",
       "            }\n",
       "            else {\n",
       "                renderPlotly_267c115de8d04cd1a439e9d70f603b6c();\n",
       "            }\r\n",
       "</script>\r\n"
      ]
     },
     "metadata": {},
     "output_type": "display_data"
    }
   ],
   "metadata": {
    "dotnet_interactive": {
     "language": "fsharp"
    }
   }
  }
 ],
 "nbformat": 4,
 "nbformat_minor": 2
}