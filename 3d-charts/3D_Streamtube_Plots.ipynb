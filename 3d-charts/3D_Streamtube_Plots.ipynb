{
 "cells": [
  {
   "cell_type": "markdown",
   "source": [
    "// can't yet format YamlFrontmatter ([\"title: 3D Mesh plots\"; \"category: 3D Charts\"; \"categoryindex: 4\"; \"index: 4\"], Some { StartLine = 2 StartColumn = 0 EndLine = 6 EndColumn = 8 }) to pynb markdown\n",
    "\n"
   ],
   "metadata": {}
  },
  {
   "cell_type": "code",
   "execution_count": null,
   "source": [
    "#r \"nuget: Plotly.NET, 2.0.0-preview.6\"\r\n",
    "#r \"nuget: Plotly.NET.Interactive, 2.0.0-preview.6\"\r\n",
    "#r \"nuget: FSharp.Data\""
   ],
   "outputs": [
    {
     "output_type": "display_data",
     "data": {
      "text/html": ""
     },
     "metadata": {}
    }
   ],
   "metadata": {
    "dotnet_interactive": {
     "language": "fsharp"
    }
   }
  },
  {
   "cell_type": "markdown",
   "source": [
    "# Basic Streamtube Plot\r\n"
   ],
   "metadata": {}
  },
  {
   "cell_type": "code",
   "execution_count": null,
   "source": [
    "open System\r\n",
    "open Plotly.NET \r\n",
    "open FSharp.Data\r\n",
    "\r\n",
    "let x=[0, 0, 0]\r\n",
    "let y=[0, 1, 2]\r\n",
    "let z=[0, 0, 0]\r\n",
    "let u=[0, 0, 0]\r\n",
    "let v=[1, 1, 1]\r\n",
    "let w=[0, 0, 0]\r\n",
    "let margin =Margin.init(Left =20.0, Bottom=20.0,Top =20.0, Right  = 20.0 )\r\n",
    "let layout = Layout.init(  Margin=margin)\r\n",
    "\r\n",
    "\r\n",
    "let mesh3d  =\r\n",
    "        Trace3d.initStreamTube (fun mesh3d ->\r\n",
    "            mesh3d?x <- x\r\n",
    "            mesh3d?y <-y\r\n",
    "            mesh3d?z <-z\r\n",
    "            mesh3d?u <- u\r\n",
    "            mesh3d?v <-v\r\n",
    "            mesh3d?w <-w\r\n",
    "            mesh3d?sizeref <- 0.3\r\n",
    "            mesh3d?colorscale <- \"Portland\"\r\n",
    "            mesh3d?showscale <- false\r\n",
    "            mesh3d?maxdisplayed <- 3000\r\n",
    "            mesh3d\r\n",
    "            )         \r\n",
    "        |> GenericChart.ofTraceObject\r\n",
    "        |> Chart.withLayout layout"
   ],
   "outputs": [],
   "metadata": {
    "dotnet_interactive": {
     "language": "fsharp"
    }
   }
  },
  {
   "cell_type": "code",
   "execution_count": null,
   "source": [
    "mesh3d"
   ],
   "outputs": [
    {
     "output_type": "display_data",
     "data": {
      "text/html": ""
     },
     "metadata": {}
    }
   ],
   "metadata": {
    "dotnet_interactive": {
     "language": "fsharp"
    }
   }
  },
  {
   "cell_type": "markdown",
   "source": [
    "# Simple 3D Mesh example\r\n"
   ],
   "metadata": {}
  },
  {
   "cell_type": "code",
   "execution_count": null,
   "source": [
    "open System\r\n",
    "open Plotly.NET \r\n",
    "open FSharp.Data\r\n",
    "\r\n",
    "type DFI = CsvProvider<\"https://raw.githubusercontent.com/plotly/datasets/master/streamtube-wind.csv\">\r\n",
    "let df1 = DFI.Load(\"https://raw.githubusercontent.com/plotly/datasets/master/streamtube-wind.csv\")\r\n",
    "\r\n",
    "let x=[for row in df1.Rows do row.X]\r\n",
    "let y=[for row in df1.Rows do row.Y]\r\n",
    "let z=[for row in df1.Rows do row.Z]\r\n",
    "let u=[for row in df1.Rows do row.U]\r\n",
    "let v=[for row in df1.Rows do row.V]\r\n",
    "let w=[for row in df1.Rows do row.W]\r\n",
    "let margin =Margin.init(Left =20.0, Bottom=20.0,Top =20.0, Right  = 20.0 )\r\n",
    "let layout = Layout.init(  Margin=margin)\r\n",
    "\r\n",
    "\r\n",
    "let mesh3d  =\r\n",
    "        Trace3d.initStreamTube (fun mesh3d ->\r\n",
    "            mesh3d?x <- x\r\n",
    "            mesh3d?y <-y\r\n",
    "            mesh3d?z <-z\r\n",
    "            mesh3d?u <- u\r\n",
    "            mesh3d?v <-v\r\n",
    "            mesh3d?w <-w\r\n",
    "            mesh3d?sizeref <- 0.3\r\n",
    "            mesh3d?colorscale <- \"Portland\"\r\n",
    "            mesh3d?showscale <- false\r\n",
    "            mesh3d?maxdisplayed <- 3000\r\n",
    "            mesh3d\r\n",
    "            )         \r\n",
    "        |> GenericChart.ofTraceObject\r\n",
    "        |> Chart.withLayout layout"
   ],
   "outputs": [],
   "metadata": {
    "dotnet_interactive": {
     "language": "fsharp"
    }
   }
  },
  {
   "cell_type": "code",
   "execution_count": null,
   "source": [
    "mesh3d"
   ],
   "outputs": [
    {
     "output_type": "display_data",
     "data": {
      "text/html": ""
     },
     "metadata": {}
    }
   ],
   "metadata": {
    "dotnet_interactive": {
     "language": "fsharp"
    }
   }
  }
 ],
 "metadata": {
  "kernelspec": {
   "display_name": ".NET (F#)",
   "language": "F#",
   "name": ".net-fsharp"
  },
  "langauge_info": {
   "file_extension": ".fs",
   "mimetype": "text/x-fsharp",
   "name": "C#",
   "pygments_lexer": "fsharp",
   "version": "4.5"
  }
 },
 "nbformat": 4,
 "nbformat_minor": 1
}