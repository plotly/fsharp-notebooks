{
 "metadata": {
  "kernelspec": {
   "display_name": ".NET (F#)",
   "language": "F#",
   "name": ".net-fsharp"
  },
  "language_info": {
   "name": "F#"
  }
 },
 "cells": [
  {
   "cell_type": "code",
   "execution_count": null,
   "source": [
    "#r \"nuget: Plotly.NET, 2.0.0-preview.6\"\r\n",
    "#r \"nuget: Plotly.NET.Interactive, 2.0.0-preview.6\""
   ],
   "outputs": [
    {
     "output_type": "display_data",
     "data": {
      "text/html": [
       "<div><div></div><div></div><div><strong>Installed Packages</strong><ul><li><span>Plotly.NET, 2.0.0-preview.6</span></li><li><span>Plotly.NET.Interactive, 2.0.0-preview.6</span></li></ul></div></div>"
      ]
     },
     "metadata": {}
    },
    {
     "output_type": "display_data",
     "data": {
      "text/markdown": [
       "Loading extensions from `Plotly.NET.Interactive.dll`"
      ]
     },
     "metadata": {}
    },
    {
     "output_type": "display_data",
     "data": {
      "text/markdown": [
       "Added Kernel Extension including formatters for Plotly.NET charts."
      ]
     },
     "metadata": {}
    }
   ],
   "metadata": {
    "dotnet_interactive": {
     "language": "fsharp"
    }
   }
  },
  {
   "cell_type": "markdown",
   "source": [
    "# Range of axes\r\n",
    " 3D figures have an attribute in layout called scene, which contains attributes such as xaxis, yaxis and zaxis parameters, in order to set the range, title, ticks, color etc. of the axes."
   ],
   "metadata": {}
  },
  {
   "cell_type": "code",
   "execution_count": null,
   "source": [
    "open System\r\n",
    "open Plotly.NET \r\n",
    "\r\n",
    "     \r\n",
    "                   \r\n",
    "let N = 70\r\n",
    "let rnd = System.Random()\r\n",
    "let x = Array.init N (fun _ -> rnd.Next(-70, 100))\r\n",
    "let y = Array.init N (fun _ -> rnd.Next(-60, 100))\r\n",
    "let z = Array.init N (fun _ -> rnd.Next(-40, 100))\r\n",
    "let color = \"rgba(244,22,100,0.6)\"\r\n",
    "\r\n",
    "let mirroredXAxis =\r\n",
    "    Axis.LinearAxis.init(\r\n",
    "       \r\n",
    "        Showline = true,\r\n",
    "        Mirror = StyleParam.Mirror.AllTicks,\r\n",
    "        Showgrid = true,\r\n",
    "        Backgroundcolor =\"rgb(229, 236, 246)\",\r\n",
    "        Gridcolor=\"white\",\r\n",
    "        Showbackground=true,\r\n",
    "        Zerolinecolor=\"white\"\r\n",
    "        \r\n",
    "    )\r\n",
    "\r\n",
    "let mirroredLogYAxis = \r\n",
    "    Axis.LinearAxis.init(\r\n",
    "      \r\n",
    "        Showline = true,\r\n",
    "        Mirror = StyleParam.Mirror.AllTicks,\r\n",
    "        Showgrid = true,\r\n",
    "        Backgroundcolor =\"rgb(229, 236, 246)\",\r\n",
    "        Gridcolor=\"white\",\r\n",
    "        Showbackground=true,\r\n",
    "        Zerolinecolor=\"white\"\r\n",
    "       \r\n",
    "    )\r\n",
    "let mirroredZAxis =\r\n",
    "    Axis.LinearAxis.init(\r\n",
    "       \r\n",
    "        Showline = true,\r\n",
    "        Mirror = StyleParam.Mirror.AllTicks,\r\n",
    "        Showgrid = true,\r\n",
    "        Backgroundcolor =\"rgb(229, 236, 246)\",\r\n",
    "        Gridcolor=\"white\",\r\n",
    "        Showbackground=true,\r\n",
    "        Zerolinecolor=\"white\"\r\n",
    "    )\r\n",
    "\r\n",
    "let margin =Margin.init(Left =10.0, Bottom=10.0,Top =10.0, Right  = 20.0 )\r\n",
    "let layout = Layout.init(Width= 700.,  Margin=margin)\r\n",
    "\r\n",
    "let mesh3d =\r\n",
    "        Trace3d.initMesh3d (fun mesh3d ->\r\n",
    "            mesh3d?x <- x\r\n",
    "            mesh3d?y <-y\r\n",
    "            mesh3d?z <- z\r\n",
    "            mesh3d?flatshading <- true\r\n",
    "            mesh3d?contour <- Contours.initXyz(Show=true)\r\n",
    "            mesh3d?color <- \"rgba(244,22,100,0.6)\"\r\n",
    "            mesh3d?opacity<-0.5\r\n",
    "            mesh3d\r\n",
    "            )         \r\n",
    "        |> GenericChart.ofTraceObject\r\n",
    "        |> Chart.withX_Axis  mirroredXAxis\r\n",
    "        |> Chart.withY_Axis  mirroredLogYAxis\r\n",
    "        |> Chart.withZ_Axis  mirroredZAxis\r\n",
    "        |> Chart.withX_AxisStyle (\"X\", MinMax = (-100.,100.))\r\n",
    "        |> Chart.withY_AxisStyle (\"Y\", MinMax = (-50.,100.))\r\n",
    "        |> Chart.withZ_AxisStyle (\"Z\", MinMax = (-100.,100.))\r\n",
    "        |> Chart.withLayout layout"
   ],
   "outputs": [],
   "metadata": {
    "dotnet_interactive": {
     "language": "fsharp"
    }
   }
  },
  {
   "cell_type": "code",
   "execution_count": null,
   "source": [
    "mesh3d"
   ],
   "outputs": [
    {
     "output_type": "display_data",
     "data": {
      "text/html": [
       "<div id=\"ef4e89bb-31c3-4bd1-8084-e14d3fff5b92\" style=\"width: 600px; height: 600px;\"><!-- Plotly chart will be drawn inside this DIV --></div>\r\n",
       "<script type=\"text/javascript\">\r\n",
       "\n",
       "            var renderPlotly_ef4e89bb31c34bd18084e14d3fff5b92 = function() {\n",
       "            var fsharpPlotlyRequire = requirejs.config({context:'fsharp-plotly',paths:{plotly:'https://cdn.plot.ly/plotly-latest.min'}}) || require;\n",
       "            fsharpPlotlyRequire(['plotly'], function(Plotly) {\r\n",
       "\n",
       "            var data = [{\"type\":\"mesh3d\",\"x\":[-69,47,34,8,-54,88,8,33,8,25,-29,52,-64,97,35,80,-25,71,55,-45,94,40,-18,-12,36,62,58,35,96,-48,22,84,14,-22,-57,31,69,-49,-31,65,50,90,-20,85,-25,-16,-41,-65,-69,-12,-8,-1,78,-30,82,-9,-6,-25,71,-17,-41,72,37,-15,-68,-14,-33,58,83,-66],\"y\":[-50,-38,35,90,10,-56,-4,3,-48,-11,37,55,38,41,62,-39,-55,-18,2,55,-26,28,-13,87,39,79,-10,94,84,89,-44,7,-40,97,-16,-23,70,89,66,79,-60,97,-30,24,53,12,-25,99,30,80,-13,93,-2,-31,68,21,74,47,-9,31,54,2,18,-38,-28,-31,35,41,-4,25],\"z\":[5,-26,25,32,60,-8,11,68,-11,-17,50,4,16,-37,49,-20,-33,92,-16,68,14,-21,45,-10,-19,46,29,-34,4,33,80,42,50,-36,37,-14,27,78,25,40,-21,-31,24,-19,89,15,97,24,30,-32,-22,50,23,41,-21,-15,29,-5,10,-26,63,4,23,56,3,-32,54,12,26,22],\"flatshading\":true,\"contour\":{\"x\":{\"show\":true},\"y\":{\"show\":true},\"z\":{\"show\":true}},\"color\":\"rgba(244,22,100,0.6)\",\"opacity\":0.5}];\n",
       "            var layout = {\"scene\":{\"xaxis\":{\"mirror\":\"allticks\",\"showline\":true,\"showgrid\":true,\"gridcolor\":\"white\",\"zerolinecolor\":\"white\",\"showbackground\":true,\"backgroundcolor\":\"rgb(229, 236, 246)\",\"title\":\"X\",\"range\":[-100.0,100.0]},\"yaxis\":{\"mirror\":\"allticks\",\"showline\":true,\"showgrid\":true,\"gridcolor\":\"white\",\"zerolinecolor\":\"white\",\"showbackground\":true,\"backgroundcolor\":\"rgb(229, 236, 246)\",\"title\":\"Y\",\"range\":[-50.0,100.0]},\"zaxis\":{\"mirror\":\"allticks\",\"showline\":true,\"showgrid\":true,\"gridcolor\":\"white\",\"zerolinecolor\":\"white\",\"showbackground\":true,\"backgroundcolor\":\"rgb(229, 236, 246)\",\"title\":\"Z\",\"range\":[-100.0,100.0]}},\"width\":700.0,\"margin\":{\"l\":10.0,\"r\":20.0,\"t\":10.0,\"b\":10.0}};\n",
       "            var config = {};\n",
       "            Plotly.newPlot('ef4e89bb-31c3-4bd1-8084-e14d3fff5b92', data, layout, config);\r\n",
       "});\n",
       "            };\n",
       "            if ((typeof(requirejs) !==  typeof(Function)) || (typeof(requirejs.config) !== typeof(Function))) {\n",
       "                var script = document.createElement(\"script\");\n",
       "                script.setAttribute(\"src\", \"https://cdnjs.cloudflare.com/ajax/libs/require.js/2.3.6/require.min.js\");\n",
       "                script.onload = function(){\n",
       "                    renderPlotly_ef4e89bb31c34bd18084e14d3fff5b92();\n",
       "                };\n",
       "                document.getElementsByTagName(\"head\")[0].appendChild(script);\n",
       "            }\n",
       "            else {\n",
       "                renderPlotly_ef4e89bb31c34bd18084e14d3fff5b92();\n",
       "            }\r\n",
       "</script>\r\n"
      ]
     },
     "metadata": {}
    }
   ],
   "metadata": {
    "dotnet_interactive": {
     "language": "fsharp"
    }
   }
  },
  {
   "cell_type": "markdown",
   "source": [
    "# Set Axes Title\r\n"
   ],
   "metadata": {}
  },
  {
   "cell_type": "code",
   "execution_count": null,
   "source": [
    "open System\r\n",
    "open Plotly.NET \r\n",
    "\r\n",
    "                   \r\n",
    "let N = 50\r\n",
    "let rnd = System.Random()\r\n",
    "let x = Array.init N (fun _ -> rnd.Next(-60, 100))\r\n",
    "let y = Array.init N (fun _ -> rnd.Next(-25, 100))\r\n",
    "let z = Array.init N (fun _ -> rnd.Next(-40, 100))\r\n",
    "let color = \"rgba(244,22,100,0.6)\"\r\n",
    "\r\n",
    "let mirroredXAxis =\r\n",
    "    Axis.LinearAxis.init(\r\n",
    "       Title=\"X AXIS TITLE\",\r\n",
    "       Showline = true,\r\n",
    "        Mirror = StyleParam.Mirror.AllTicks,\r\n",
    "        Showgrid = true,\r\n",
    "        Backgroundcolor =\"rgb(200, 200, 230)\",\r\n",
    "        Gridcolor=\"white\",\r\n",
    "        Showbackground=true,\r\n",
    "        Zerolinecolor=\"white\"\r\n",
    "        \r\n",
    "    )\r\n",
    "\r\n",
    "let mirroredLogYAxis = \r\n",
    "    Axis.LinearAxis.init(\r\n",
    "       Title=\"Y AXIS TITLE\",\r\n",
    "        Showline = true,\r\n",
    "        Mirror = StyleParam.Mirror.AllTicks,\r\n",
    "        Showgrid = true,\r\n",
    "        Backgroundcolor =\"rgb(200, 200, 230)\",\r\n",
    "        Gridcolor=\"white\",\r\n",
    "        Showbackground=true,\r\n",
    "        Zerolinecolor=\"white\"\r\n",
    "       \r\n",
    "    )\r\n",
    "let mirroredZAxis =\r\n",
    "    Axis.LinearAxis.init(\r\n",
    "        Title=\"Z AXIS TITLE\",\r\n",
    "        Showline = true,\r\n",
    "        Mirror = StyleParam.Mirror.AllTicks,\r\n",
    "        Showgrid = true,\r\n",
    "        Backgroundcolor =\"rgb(200, 200, 230)\",\r\n",
    "        Gridcolor=\"white\",\r\n",
    "        Showbackground=true,\r\n",
    "        Zerolinecolor=\"white\"\r\n",
    "       \r\n",
    "    )\r\n",
    "\r\n",
    "let margin =Margin.init(Left =10.0, Bottom=10.0,Top =10.0, Right  = 20.0 )\r\n",
    "let layout = Layout.init(Width= 700.,  Margin=margin)\r\n",
    "\r\n",
    "let mesh3d1 =\r\n",
    "        Trace3d.initMesh3d (fun mesh3d ->\r\n",
    "            mesh3d?x <- Array.init N (fun _ -> rnd.Next(-60, 100))\r\n",
    "            mesh3d?y <- Array.init N (fun _ -> rnd.Next(-25, 100))\r\n",
    "            mesh3d?z <- Array.init N (fun _ -> rnd.Next(-40, 100))\r\n",
    "            mesh3d?flatshading <- true\r\n",
    "            mesh3d?contour <- Contours.initXyz(Show=true)\r\n",
    "            mesh3d?color <- \"yellow\"\r\n",
    "            mesh3d?opacity<-0.5\r\n",
    "            mesh3d\r\n",
    "            )\r\n",
    "            |> GenericChart.ofTraceObject\r\n",
    "        \r\n",
    "mesh3d1"
   ],
   "outputs": [
    {
     "output_type": "display_data",
     "data": {
      "text/html": [
       "<div id=\"dca3b1ef-4f31-45be-a5ce-0132b5d910a2\" style=\"width: 600px; height: 600px;\"><!-- Plotly chart will be drawn inside this DIV --></div>\r\n",
       "<script type=\"text/javascript\">\r\n",
       "\n",
       "            var renderPlotly_dca3b1ef4f3145bea5ce0132b5d910a2 = function() {\n",
       "            var fsharpPlotlyRequire = requirejs.config({context:'fsharp-plotly',paths:{plotly:'https://cdn.plot.ly/plotly-latest.min'}}) || require;\n",
       "            fsharpPlotlyRequire(['plotly'], function(Plotly) {\r\n",
       "\n",
       "            var data = [{\"type\":\"mesh3d\",\"x\":[-38,21,-49,-15,91,63,-57,14,-22,80,37,-52,-12,28,21,-51,85,27,62,39,14,-14,-19,-52,25,72,-36,3,16,-10,4,63,-57,53,-22,80,48,83,49,86,47,-55,79,-13,16,-9,-28,59,23,-38],\"y\":[39,40,14,77,69,81,5,-23,68,-11,52,53,98,90,34,79,-21,48,14,54,22,-24,82,80,93,28,27,95,46,1,53,26,84,16,74,85,31,0,93,23,53,57,-7,46,12,-20,-20,93,78,55],\"z\":[0,45,20,84,66,30,52,25,81,5,21,0,22,34,27,-11,65,51,-23,43,13,76,49,89,-40,61,80,0,36,87,13,25,-22,90,90,-38,96,98,40,0,-9,97,7,47,92,7,-11,46,-29,-28],\"flatshading\":true,\"contour\":{\"x\":{\"show\":true},\"y\":{\"show\":true},\"z\":{\"show\":true}},\"color\":\"yellow\",\"opacity\":0.5}];\n",
       "            var layout = {};\n",
       "            var config = {};\n",
       "            Plotly.newPlot('dca3b1ef-4f31-45be-a5ce-0132b5d910a2', data, layout, config);\r\n",
       "});\n",
       "            };\n",
       "            if ((typeof(requirejs) !==  typeof(Function)) || (typeof(requirejs.config) !== typeof(Function))) {\n",
       "                var script = document.createElement(\"script\");\n",
       "                script.setAttribute(\"src\", \"https://cdnjs.cloudflare.com/ajax/libs/require.js/2.3.6/require.min.js\");\n",
       "                script.onload = function(){\n",
       "                    renderPlotly_dca3b1ef4f3145bea5ce0132b5d910a2();\n",
       "                };\n",
       "                document.getElementsByTagName(\"head\")[0].appendChild(script);\n",
       "            }\n",
       "            else {\n",
       "                renderPlotly_dca3b1ef4f3145bea5ce0132b5d910a2();\n",
       "            }\r\n",
       "</script>\r\n"
      ]
     },
     "metadata": {}
    }
   ],
   "metadata": {
    "dotnet_interactive": {
     "language": "fsharp"
    }
   }
  },
  {
   "cell_type": "code",
   "execution_count": null,
   "source": [
    "let mesh3d2 =\r\n",
    "        Trace3d.initMesh3d (fun mesh3d ->\r\n",
    "            mesh3d?x <- Array.init N (fun _ -> rnd.Next(-70, 100))\r\n",
    "            mesh3d?y <- Array.init N (fun _ -> rnd.Next(-55, 100))\r\n",
    "            mesh3d?z <- Array.init N (fun _ -> rnd.Next(-30, 100))\r\n",
    "            mesh3d?flatshading <- true\r\n",
    "            mesh3d?contour <- Contours.initXyz(Show=true)\r\n",
    "            mesh3d?color <- \"pink\"\r\n",
    "            mesh3d?opacity<-0.5\r\n",
    "            mesh3d\r\n",
    "            )\r\n",
    "            |> GenericChart.ofTraceObject\r\n",
    "     \r\n",
    "mesh3d2\r\n"
   ],
   "outputs": [
    {
     "output_type": "display_data",
     "data": {
      "text/html": [
       "<div id=\"3a5c2b72-863f-4431-bf83-1b7d740cef59\" style=\"width: 600px; height: 600px;\"><!-- Plotly chart will be drawn inside this DIV --></div>\r\n",
       "<script type=\"text/javascript\">\r\n",
       "\n",
       "            var renderPlotly_3a5c2b72863f4431bf831b7d740cef59 = function() {\n",
       "            var fsharpPlotlyRequire = requirejs.config({context:'fsharp-plotly',paths:{plotly:'https://cdn.plot.ly/plotly-latest.min'}}) || require;\n",
       "            fsharpPlotlyRequire(['plotly'], function(Plotly) {\r\n",
       "\n",
       "            var data = [{\"type\":\"mesh3d\",\"x\":[12,-2,-46,-19,-57,-49,52,66,3,94,54,71,-26,80,-25,-54,-26,80,20,59,62,98,-38,-34,60,71,-38,-8,-70,-3,75,18,52,95,71,1,35,-33,74,47,-64,-24,-38,-6,66,-51,-58,13,-31,-47],\"y\":[41,91,-32,29,80,21,-22,89,28,-17,89,-1,68,-51,-39,-23,-38,-10,-47,76,18,-49,-50,76,57,23,68,70,8,45,62,53,-35,79,64,86,1,-28,-41,-2,-23,51,50,38,62,51,19,-30,-13,36],\"z\":[-30,71,27,20,55,45,88,10,76,18,59,22,38,85,33,0,-2,90,3,-5,79,90,-5,62,53,72,17,25,-19,-25,-27,52,39,76,53,96,3,67,-4,-5,99,-23,17,64,54,73,-10,73,-16,38],\"flatshading\":true,\"contour\":{\"x\":{\"show\":true},\"y\":{\"show\":true},\"z\":{\"show\":true}},\"color\":\"pink\",\"opacity\":0.5}];\n",
       "            var layout = {};\n",
       "            var config = {};\n",
       "            Plotly.newPlot('3a5c2b72-863f-4431-bf83-1b7d740cef59', data, layout, config);\r\n",
       "});\n",
       "            };\n",
       "            if ((typeof(requirejs) !==  typeof(Function)) || (typeof(requirejs.config) !== typeof(Function))) {\n",
       "                var script = document.createElement(\"script\");\n",
       "                script.setAttribute(\"src\", \"https://cdnjs.cloudflare.com/ajax/libs/require.js/2.3.6/require.min.js\");\n",
       "                script.onload = function(){\n",
       "                    renderPlotly_3a5c2b72863f4431bf831b7d740cef59();\n",
       "                };\n",
       "                document.getElementsByTagName(\"head\")[0].appendChild(script);\n",
       "            }\n",
       "            else {\n",
       "                renderPlotly_3a5c2b72863f4431bf831b7d740cef59();\n",
       "            }\r\n",
       "</script>\r\n"
      ]
     },
     "metadata": {}
    }
   ],
   "metadata": {
    "dotnet_interactive": {
     "language": "fsharp"
    }
   }
  },
  {
   "cell_type": "code",
   "execution_count": null,
   "source": [
    "let mesh3d =\r\n",
    "        [\r\n",
    "            mesh3d1 \r\n",
    "            mesh3d2\r\n",
    "        ]\r\n",
    "        |> Chart.Combine    \r\n",
    "        |> Chart.withX_Axis  mirroredXAxis\r\n",
    "        |> Chart.withY_Axis  mirroredLogYAxis\r\n",
    "        |> Chart.withZ_Axis  mirroredZAxis\r\n",
    "        |> Chart.withLayout layout "
   ],
   "outputs": [],
   "metadata": {
    "dotnet_interactive": {
     "language": "fsharp"
    }
   }
  },
  {
   "cell_type": "code",
   "execution_count": null,
   "source": [
    "mesh3d"
   ],
   "outputs": [
    {
     "output_type": "display_data",
     "data": {
      "text/html": [
       "<div id=\"5ee113e9-08ab-4d81-a8df-5ca7a95d0f48\" style=\"width: 600px; height: 600px;\"><!-- Plotly chart will be drawn inside this DIV --></div>\r\n",
       "<script type=\"text/javascript\">\r\n",
       "\n",
       "            var renderPlotly_5ee113e908ab4d81a8df5ca7a95d0f48 = function() {\n",
       "            var fsharpPlotlyRequire = requirejs.config({context:'fsharp-plotly',paths:{plotly:'https://cdn.plot.ly/plotly-latest.min'}}) || require;\n",
       "            fsharpPlotlyRequire(['plotly'], function(Plotly) {\r\n",
       "\n",
       "            var data = [{\"type\":\"mesh3d\",\"x\":[-38,21,-49,-15,91,63,-57,14,-22,80,37,-52,-12,28,21,-51,85,27,62,39,14,-14,-19,-52,25,72,-36,3,16,-10,4,63,-57,53,-22,80,48,83,49,86,47,-55,79,-13,16,-9,-28,59,23,-38],\"y\":[39,40,14,77,69,81,5,-23,68,-11,52,53,98,90,34,79,-21,48,14,54,22,-24,82,80,93,28,27,95,46,1,53,26,84,16,74,85,31,0,93,23,53,57,-7,46,12,-20,-20,93,78,55],\"z\":[0,45,20,84,66,30,52,25,81,5,21,0,22,34,27,-11,65,51,-23,43,13,76,49,89,-40,61,80,0,36,87,13,25,-22,90,90,-38,96,98,40,0,-9,97,7,47,92,7,-11,46,-29,-28],\"flatshading\":true,\"contour\":{\"x\":{\"show\":true},\"y\":{\"show\":true},\"z\":{\"show\":true}},\"color\":\"yellow\",\"opacity\":0.5},{\"type\":\"mesh3d\",\"x\":[12,-2,-46,-19,-57,-49,52,66,3,94,54,71,-26,80,-25,-54,-26,80,20,59,62,98,-38,-34,60,71,-38,-8,-70,-3,75,18,52,95,71,1,35,-33,74,47,-64,-24,-38,-6,66,-51,-58,13,-31,-47],\"y\":[41,91,-32,29,80,21,-22,89,28,-17,89,-1,68,-51,-39,-23,-38,-10,-47,76,18,-49,-50,76,57,23,68,70,8,45,62,53,-35,79,64,86,1,-28,-41,-2,-23,51,50,38,62,51,19,-30,-13,36],\"z\":[-30,71,27,20,55,45,88,10,76,18,59,22,38,85,33,0,-2,90,3,-5,79,90,-5,62,53,72,17,25,-19,-25,-27,52,39,76,53,96,3,67,-4,-5,99,-23,17,64,54,73,-10,73,-16,38],\"flatshading\":true,\"contour\":{\"x\":{\"show\":true},\"y\":{\"show\":true},\"z\":{\"show\":true}},\"color\":\"pink\",\"opacity\":0.5}];\n",
       "            var layout = {\"scene\":{\"xaxis\":{\"title\":\"X AXIS TITLE\",\"mirror\":\"allticks\",\"showline\":true,\"showgrid\":true,\"gridcolor\":\"white\",\"zerolinecolor\":\"white\",\"showbackground\":true,\"backgroundcolor\":\"rgb(200, 200, 230)\"},\"yaxis\":{\"title\":\"Y AXIS TITLE\",\"mirror\":\"allticks\",\"showline\":true,\"showgrid\":true,\"gridcolor\":\"white\",\"zerolinecolor\":\"white\",\"showbackground\":true,\"backgroundcolor\":\"rgb(200, 200, 230)\"},\"zaxis\":{\"title\":\"Z AXIS TITLE\",\"mirror\":\"allticks\",\"showline\":true,\"showgrid\":true,\"gridcolor\":\"white\",\"zerolinecolor\":\"white\",\"showbackground\":true,\"backgroundcolor\":\"rgb(200, 200, 230)\"}},\"width\":700.0,\"margin\":{\"l\":10.0,\"r\":20.0,\"t\":10.0,\"b\":10.0}};\n",
       "            var config = {};\n",
       "            Plotly.newPlot('5ee113e9-08ab-4d81-a8df-5ca7a95d0f48', data, layout, config);\r\n",
       "});\n",
       "            };\n",
       "            if ((typeof(requirejs) !==  typeof(Function)) || (typeof(requirejs.config) !== typeof(Function))) {\n",
       "                var script = document.createElement(\"script\");\n",
       "                script.setAttribute(\"src\", \"https://cdnjs.cloudflare.com/ajax/libs/require.js/2.3.6/require.min.js\");\n",
       "                script.onload = function(){\n",
       "                    renderPlotly_5ee113e908ab4d81a8df5ca7a95d0f48();\n",
       "                };\n",
       "                document.getElementsByTagName(\"head\")[0].appendChild(script);\n",
       "            }\n",
       "            else {\n",
       "                renderPlotly_5ee113e908ab4d81a8df5ca7a95d0f48();\n",
       "            }\r\n",
       "</script>\r\n"
      ]
     },
     "metadata": {}
    }
   ],
   "metadata": {
    "dotnet_interactive": {
     "language": "fsharp"
    }
   }
  },
  {
   "cell_type": "markdown",
   "source": [
    "# Ticks Formatting\r\n"
   ],
   "metadata": {}
  },
  {
   "cell_type": "code",
   "execution_count": null,
   "source": [
    "open System\r\n",
    "open Plotly.NET \r\n",
    "\r\n",
    "     \r\n",
    "                   \r\n",
    "let N = 50\r\n",
    "let rnd = System.Random()\r\n",
    "\r\n",
    "let ticktext = seq {\"TICKS\";\"MESH\";\"PLOTLY\";\"PYTHON\"}\r\n",
    "let tickvals= seq{0;50;75;-50}\r\n",
    "let mirroredXAxis =\r\n",
    "    Axis.LinearAxis.init(\r\n",
    "        Showspikes = false,\r\n",
    "        Backgroundcolor =\"rgb(229, 236, 246)\",\r\n",
    "        Showbackground=true,\r\n",
    "        Ticktext =ticktext,\r\n",
    "        Tickvals=tickvals\r\n",
    "    )\r\n",
    "let font = Font.init( StyleParam.FontFamily.Droid_Serif, 12.0,\"green\" )\r\n",
    "let mirroredLogYAxis = \r\n",
    "    Axis.LinearAxis.init(\r\n",
    "        Showspikes = false,\r\n",
    "        Backgroundcolor =\"rgb(229, 236, 246)\",\r\n",
    "        Showbackground=true,\r\n",
    "        Tickfont=font\r\n",
    "    )\r\n",
    "let mirroredZAxis =\r\n",
    "    Axis.LinearAxis.init(\r\n",
    "        Showspikes = false,\r\n",
    "        Backgroundcolor =\"rgb(229, 236, 246)\",\r\n",
    "        Showbackground=true,\r\n",
    "        nTicks=4,\r\n",
    "        Ticks=StyleParam.TickOptions.Outside ,\r\n",
    "        Tick0=0, \r\n",
    "        Tickwidth=4.0\r\n",
    "    )\r\n",
    "\r\n",
    "let margin =Margin.init(Left =10.0, Bottom=10.0,Top =10.0, Right  = 20.0 )\r\n",
    "let layout = Layout.init(Width= 700.,  Margin=margin)\r\n",
    "\r\n",
    "let mesh3d =\r\n",
    "        Trace3d.initMesh3d (fun mesh3d ->\r\n",
    "            mesh3d?x <-Array.init N (fun _ -> rnd.Next(-60, 100))\r\n",
    "            mesh3d?y <- Array.init N (fun _ -> rnd.Next(-50, 100))\r\n",
    "            mesh3d?z <-  Array.init N (fun _ -> rnd.Next(-50, 100))\r\n",
    "            mesh3d?opacity<-0.5\r\n",
    "            mesh3d\r\n",
    "            )         \r\n",
    "        |> GenericChart.ofTraceObject\r\n",
    "        |> Chart.withX_Axis  mirroredXAxis\r\n",
    "        |> Chart.withY_Axis  mirroredLogYAxis\r\n",
    "        |> Chart.withZ_Axis  mirroredZAxis\r\n",
    "        |> Chart.withLayout layout"
   ],
   "outputs": [],
   "metadata": {
    "dotnet_interactive": {
     "language": "fsharp"
    }
   }
  },
  {
   "cell_type": "code",
   "execution_count": null,
   "source": [
    "mesh3d"
   ],
   "outputs": [
    {
     "output_type": "display_data",
     "data": {
      "text/html": [
       "<div id=\"f14faba7-8073-4fdf-892c-178cd9447483\" style=\"width: 600px; height: 600px;\"><!-- Plotly chart will be drawn inside this DIV --></div>\r\n",
       "<script type=\"text/javascript\">\r\n",
       "\n",
       "            var renderPlotly_f14faba780734fdf892c178cd9447483 = function() {\n",
       "            var fsharpPlotlyRequire = requirejs.config({context:'fsharp-plotly',paths:{plotly:'https://cdn.plot.ly/plotly-latest.min'}}) || require;\n",
       "            fsharpPlotlyRequire(['plotly'], function(Plotly) {\r\n",
       "\n",
       "            var data = [{\"type\":\"mesh3d\",\"x\":[-21,36,-2,34,61,84,98,-12,98,32,-54,-34,-50,-32,81,-26,-26,-41,-20,58,-33,36,-56,87,6,-10,45,-7,-6,74,-2,-54,-11,-2,-30,23,76,68,-12,-21,24,-59,-34,32,68,98,39,2,36,53],\"y\":[42,73,-21,58,21,46,35,17,-24,16,-14,48,93,-28,-19,99,78,54,98,4,4,12,72,-49,-18,-26,15,17,-33,13,54,-9,59,44,-17,31,77,37,83,32,92,10,43,79,-50,80,-43,-48,5,71],\"z\":[-30,88,10,-14,2,-21,-49,-22,26,-4,-19,-32,0,63,61,95,88,-2,88,49,-28,-10,71,15,12,93,68,92,-50,2,-33,12,-39,-5,-8,66,80,23,-8,-47,30,49,-39,36,0,74,-40,80,-32,-45],\"opacity\":0.5}];\n",
       "            var layout = {\"scene\":{\"xaxis\":{\"tickvals\":[0,50,75,-50],\"ticktext\":[\"TICKS\",\"MESH\",\"PLOTLY\",\"PYTHON\"],\"showspikes\":false,\"showbackground\":true,\"backgroundcolor\":\"rgb(229, 236, 246)\"},\"yaxis\":{\"showspikes\":false,\"showbackground\":true,\"backgroundcolor\":\"rgb(229, 236, 246)\",\"tickfont\":{\"family\":\"Droid Serif\",\"size\":12.0,\"color\":\"green\"}},\"zaxis\":{\"nticks\":4,\"tick0\":0,\"ticks\":\"outside\",\"tickwidth\":4.0,\"showspikes\":false,\"showbackground\":true,\"backgroundcolor\":\"rgb(229, 236, 246)\"}},\"width\":700.0,\"margin\":{\"l\":10.0,\"r\":20.0,\"t\":10.0,\"b\":10.0}};\n",
       "            var config = {};\n",
       "            Plotly.newPlot('f14faba7-8073-4fdf-892c-178cd9447483', data, layout, config);\r\n",
       "});\n",
       "            };\n",
       "            if ((typeof(requirejs) !==  typeof(Function)) || (typeof(requirejs.config) !== typeof(Function))) {\n",
       "                var script = document.createElement(\"script\");\n",
       "                script.setAttribute(\"src\", \"https://cdnjs.cloudflare.com/ajax/libs/require.js/2.3.6/require.min.js\");\n",
       "                script.onload = function(){\n",
       "                    renderPlotly_f14faba780734fdf892c178cd9447483();\n",
       "                };\n",
       "                document.getElementsByTagName(\"head\")[0].appendChild(script);\n",
       "            }\n",
       "            else {\n",
       "                renderPlotly_f14faba780734fdf892c178cd9447483();\n",
       "            }\r\n",
       "</script>\r\n"
      ]
     },
     "metadata": {}
    }
   ],
   "metadata": {
    "dotnet_interactive": {
     "language": "fsharp"
    }
   }
  },
  {
   "cell_type": "markdown",
   "source": [
    "# Background and Grid Color\r\n"
   ],
   "metadata": {}
  },
  {
   "cell_type": "code",
   "execution_count": null,
   "source": [
    "open System\r\n",
    "open Plotly.NET \r\n",
    "\r\n",
    "     \r\n",
    "                   \r\n",
    "let N = 50\r\n",
    "let rnd = System.Random()\r\n",
    "let x = Array.init N (fun _ -> rnd.Next(-30, 100))\r\n",
    "let y = Array.init N (fun _ -> rnd.Next(-25, 100))\r\n",
    "let z = Array.init N (fun _ -> rnd.Next(-30, 100))\r\n",
    "let color = \"rgba(244,22,100,0.6)\"\r\n",
    "\r\n",
    "let mirroredXAxis =\r\n",
    "    Axis.LinearAxis.init(\r\n",
    "        Showline = true,\r\n",
    "        Mirror = StyleParam.Mirror.AllTicks,\r\n",
    "        Showgrid = true,\r\n",
    "        Backgroundcolor =\"rgb(200, 200, 230)\",\r\n",
    "        Gridcolor=\"white\",\r\n",
    "        Showbackground=true,\r\n",
    "        Zerolinecolor=\"white\"\r\n",
    "        \r\n",
    "    )\r\n",
    "\r\n",
    "let mirroredLogYAxis = \r\n",
    "    Axis.LinearAxis.init(\r\n",
    "        Showline = true,\r\n",
    "        Mirror = StyleParam.Mirror.AllTicks,\r\n",
    "        Showgrid = true,\r\n",
    "        Backgroundcolor =\"rgb(230, 200,230)\",\r\n",
    "        Gridcolor=\"white\",\r\n",
    "        Showbackground=true,\r\n",
    "        Zerolinecolor=\"white\"\r\n",
    "       \r\n",
    "    )\r\n",
    "let mirroredZAxis =\r\n",
    "    Axis.LinearAxis.init(\r\n",
    "        Showline = true,\r\n",
    "        Mirror = StyleParam.Mirror.AllTicks,\r\n",
    "        Showgrid = true,\r\n",
    "        Backgroundcolor =\"rgb(230, 230,200)\",\r\n",
    "        Gridcolor=\"white\",\r\n",
    "        Showbackground=true,\r\n",
    "        Zerolinecolor=\"white\"\r\n",
    "       \r\n",
    "    )\r\n",
    "\r\n",
    "let margin =Margin.init(Left =10.0, Bottom=10.0,Top =10.0, Right  = 20.0 )\r\n",
    "let layout = Layout.init(Width= 700.,  Margin=margin)\r\n",
    "\r\n",
    "     \r\n",
    "let mesh3d =\r\n",
    "        Trace3d.initMesh3d (fun mesh3d ->\r\n",
    "            mesh3d?x <- x\r\n",
    "            mesh3d?y <-y\r\n",
    "            mesh3d?z <- z\r\n",
    "            mesh3d?flatshading <- true\r\n",
    "            mesh3d?contour <- Contours.initXyz(Show=true)\r\n",
    "            mesh3d?opacity<-0.5\r\n",
    "            mesh3d\r\n",
    "            )         \r\n",
    "        |> GenericChart.ofTraceObject\r\n",
    "        |> Chart.withX_Axis  mirroredXAxis\r\n",
    "        |> Chart.withY_Axis  mirroredLogYAxis\r\n",
    "        |> Chart.withZ_Axis  mirroredZAxis\r\n",
    "        |> Chart.withLayout layout"
   ],
   "outputs": [],
   "metadata": {
    "dotnet_interactive": {
     "language": "fsharp"
    }
   }
  },
  {
   "cell_type": "code",
   "execution_count": null,
   "source": [
    "mesh3d"
   ],
   "outputs": [
    {
     "output_type": "display_data",
     "data": {
      "text/html": [
       "<div id=\"cef75b0c-1778-4664-b0cd-22bb8af771e8\" style=\"width: 600px; height: 600px;\"><!-- Plotly chart will be drawn inside this DIV --></div>\r\n",
       "<script type=\"text/javascript\">\r\n",
       "\n",
       "            var renderPlotly_cef75b0c17784664b0cd22bb8af771e8 = function() {\n",
       "            var fsharpPlotlyRequire = requirejs.config({context:'fsharp-plotly',paths:{plotly:'https://cdn.plot.ly/plotly-latest.min'}}) || require;\n",
       "            fsharpPlotlyRequire(['plotly'], function(Plotly) {\r\n",
       "\n",
       "            var data = [{\"type\":\"mesh3d\",\"x\":[38,13,-17,-15,37,93,36,67,85,48,16,13,8,69,-30,-14,16,10,97,84,29,-12,48,46,12,76,-21,63,22,-6,21,16,77,40,93,77,-23,28,-3,17,77,45,51,58,83,93,90,72,13,85],\"y\":[11,4,83,55,76,22,65,39,74,62,84,74,18,62,1,99,38,69,76,-3,-17,88,-14,52,-18,84,38,90,64,21,86,10,22,38,86,-6,35,-3,66,46,-13,43,56,38,35,-22,4,91,33,84],\"z\":[27,-8,97,-10,77,20,-13,2,45,91,83,74,73,25,76,47,23,78,74,-23,36,12,-27,1,-20,37,2,46,-14,-27,53,45,28,79,90,62,9,-1,59,35,-28,0,48,73,60,8,67,0,60,85],\"flatshading\":true,\"contour\":{\"x\":{\"show\":true},\"y\":{\"show\":true},\"z\":{\"show\":true}},\"opacity\":0.5}];\n",
       "            var layout = {\"scene\":{\"xaxis\":{\"mirror\":\"allticks\",\"showline\":true,\"showgrid\":true,\"gridcolor\":\"white\",\"zerolinecolor\":\"white\",\"showbackground\":true,\"backgroundcolor\":\"rgb(200, 200, 230)\"},\"yaxis\":{\"mirror\":\"allticks\",\"showline\":true,\"showgrid\":true,\"gridcolor\":\"white\",\"zerolinecolor\":\"white\",\"showbackground\":true,\"backgroundcolor\":\"rgb(230, 200,230)\"},\"zaxis\":{\"mirror\":\"allticks\",\"showline\":true,\"showgrid\":true,\"gridcolor\":\"white\",\"zerolinecolor\":\"white\",\"showbackground\":true,\"backgroundcolor\":\"rgb(230, 230,200)\"}},\"width\":700.0,\"margin\":{\"l\":10.0,\"r\":20.0,\"t\":10.0,\"b\":10.0}};\n",
       "            var config = {};\n",
       "            Plotly.newPlot('cef75b0c-1778-4664-b0cd-22bb8af771e8', data, layout, config);\r\n",
       "});\n",
       "            };\n",
       "            if ((typeof(requirejs) !==  typeof(Function)) || (typeof(requirejs.config) !== typeof(Function))) {\n",
       "                var script = document.createElement(\"script\");\n",
       "                script.setAttribute(\"src\", \"https://cdnjs.cloudflare.com/ajax/libs/require.js/2.3.6/require.min.js\");\n",
       "                script.onload = function(){\n",
       "                    renderPlotly_cef75b0c17784664b0cd22bb8af771e8();\n",
       "                };\n",
       "                document.getElementsByTagName(\"head\")[0].appendChild(script);\n",
       "            }\n",
       "            else {\n",
       "                renderPlotly_cef75b0c17784664b0cd22bb8af771e8();\n",
       "            }\r\n",
       "</script>\r\n"
      ]
     },
     "metadata": {}
    }
   ],
   "metadata": {
    "dotnet_interactive": {
     "language": "fsharp"
    }
   }
  },
  {
   "cell_type": "markdown",
   "source": [
    "# Disabling tooltip spikes\r\n",
    "By default, guidelines originating from the tooltip point are drawn. It is possible to disable this behaviour with the showspikes parameter. In this example we only keep the z spikes (projection of the tooltip on the x-y plane). Hover on the data to show this behaviour.\r\n",
    "\r\n"
   ],
   "metadata": {}
  },
  {
   "cell_type": "code",
   "execution_count": null,
   "source": [
    "open System\r\n",
    "open Plotly.NET \r\n",
    "\r\n",
    "     \r\n",
    "                   \r\n",
    "let N = 50\r\n",
    "let rnd = System.Random()\r\n",
    "\r\n",
    "let mirroredXAxis =\r\n",
    "    Axis.LinearAxis.init(\r\n",
    "        Showspikes = false,\r\n",
    "        Backgroundcolor =\"rgb(229, 236, 246)\",\r\n",
    "        Showbackground=true\r\n",
    "    )\r\n",
    "\r\n",
    "let mirroredLogYAxis = \r\n",
    "    Axis.LinearAxis.init(\r\n",
    "        Showspikes = false,\r\n",
    "        Backgroundcolor =\"rgb(229, 236, 246)\",\r\n",
    "        Showbackground=true\r\n",
    "    )\r\n",
    "let mirroredZAxis =\r\n",
    "    Axis.LinearAxis.init(\r\n",
    "        Showspikes = false,\r\n",
    "        Backgroundcolor =\"rgb(229, 236, 246)\",\r\n",
    "        Showbackground=true\r\n",
    "    )\r\n",
    "\r\n",
    "let margin =Margin.init(Left =10.0, Bottom=10.0,Top =10.0, Right  = 20.0 )\r\n",
    "let layout = Layout.init(Width= 700.,  Margin=margin)\r\n",
    "\r\n",
    "let mesh3d =\r\n",
    "        Trace3d.initMesh3d (fun mesh3d ->\r\n",
    "            mesh3d?x <-Array.init N (fun _ -> rnd.Next(-30, 30))\r\n",
    "            mesh3d?y <- Array.init N (fun _ -> rnd.Next(-25, 25))\r\n",
    "            mesh3d?z <-  Array.init N (fun _ -> rnd.Next(-30, 30))\r\n",
    "            mesh3d?opacity<-0.5\r\n",
    "            mesh3d\r\n",
    "            )         \r\n",
    "        |> GenericChart.ofTraceObject\r\n",
    "        |> Chart.withX_Axis  mirroredXAxis\r\n",
    "        |> Chart.withY_Axis  mirroredLogYAxis\r\n",
    "        |> Chart.withZ_Axis  mirroredZAxis\r\n",
    "        |> Chart.withLayout layout"
   ],
   "outputs": [],
   "metadata": {
    "dotnet_interactive": {
     "language": "fsharp"
    }
   }
  },
  {
   "cell_type": "code",
   "execution_count": null,
   "source": [
    "mesh3d"
   ],
   "outputs": [
    {
     "output_type": "display_data",
     "data": {
      "text/html": [
       "<div id=\"31cb96e8-7f78-4263-8acc-0413f115fce0\" style=\"width: 600px; height: 600px;\"><!-- Plotly chart will be drawn inside this DIV --></div>\r\n",
       "<script type=\"text/javascript\">\r\n",
       "\n",
       "            var renderPlotly_31cb96e87f7842638acc0413f115fce0 = function() {\n",
       "            var fsharpPlotlyRequire = requirejs.config({context:'fsharp-plotly',paths:{plotly:'https://cdn.plot.ly/plotly-latest.min'}}) || require;\n",
       "            fsharpPlotlyRequire(['plotly'], function(Plotly) {\r\n",
       "\n",
       "            var data = [{\"type\":\"mesh3d\",\"x\":[-25,-18,0,20,18,-9,-8,-22,-27,15,-21,25,15,-29,-17,-17,11,13,-20,-15,-8,-12,-1,20,15,26,7,26,-16,-28,25,2,8,-18,27,29,11,8,24,0,15,23,-8,1,13,-19,2,17,-27,19],\"y\":[-8,-5,5,20,-5,14,11,8,-21,18,11,-4,19,-25,17,6,-11,1,-22,-13,2,-23,15,8,-1,-2,21,23,-20,3,-5,17,19,-5,9,0,21,11,15,-17,-12,-24,3,-23,13,-9,-25,-7,9,-20],\"z\":[25,29,13,18,-14,-12,5,25,-6,26,21,15,2,1,-3,22,2,-2,-12,-10,11,3,14,23,28,1,-2,16,23,-20,-2,4,-14,-30,8,-6,-23,-26,-22,-7,24,-30,-12,21,-11,0,-2,-28,5,24],\"opacity\":0.5}];\n",
       "            var layout = {\"scene\":{\"xaxis\":{\"showspikes\":false,\"showbackground\":true,\"backgroundcolor\":\"rgb(229, 236, 246)\"},\"yaxis\":{\"showspikes\":false,\"showbackground\":true,\"backgroundcolor\":\"rgb(229, 236, 246)\"},\"zaxis\":{\"showspikes\":false,\"showbackground\":true,\"backgroundcolor\":\"rgb(229, 236, 246)\"}},\"width\":700.0,\"margin\":{\"l\":10.0,\"r\":20.0,\"t\":10.0,\"b\":10.0}};\n",
       "            var config = {};\n",
       "            Plotly.newPlot('31cb96e8-7f78-4263-8acc-0413f115fce0', data, layout, config);\r\n",
       "});\n",
       "            };\n",
       "            if ((typeof(requirejs) !==  typeof(Function)) || (typeof(requirejs.config) !== typeof(Function))) {\n",
       "                var script = document.createElement(\"script\");\n",
       "                script.setAttribute(\"src\", \"https://cdnjs.cloudflare.com/ajax/libs/require.js/2.3.6/require.min.js\");\n",
       "                script.onload = function(){\n",
       "                    renderPlotly_31cb96e87f7842638acc0413f115fce0();\n",
       "                };\n",
       "                document.getElementsByTagName(\"head\")[0].appendChild(script);\n",
       "            }\n",
       "            else {\n",
       "                renderPlotly_31cb96e87f7842638acc0413f115fce0();\n",
       "            }\r\n",
       "</script>\r\n"
      ]
     },
     "metadata": {}
    }
   ],
   "metadata": {
    "dotnet_interactive": {
     "language": "fsharp"
    }
   }
  }
 ],
 "nbformat": 4,
 "nbformat_minor": 2
}