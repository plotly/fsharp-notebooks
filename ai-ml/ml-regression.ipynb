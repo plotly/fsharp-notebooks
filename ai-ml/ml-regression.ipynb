{
 "cells": [
  {
   "cell_type": "code",
   "execution_count": null,
   "source": [
    "#r \"nuget: Plotly.NET,  2.0.0-preview.8\"\r\n",
    "#r \"nuget: Plotly.NET.Interactive,  2.0.0-preview.8\"\r\n",
    "#r \"nuget: FSharp.Stats\"\r\n",
    "#r \"nuget: Deedle\"\r\n"
   ],
   "outputs": [
    {
     "output_type": "display_data",
     "data": {
      "text/html": ""
     },
     "metadata": {}
    }
   ],
   "metadata": {
    "dotnet_interactive": {
     "language": "fsharp"
    }
   }
  },
  {
   "cell_type": "markdown",
   "source": [
    "# Basic linear regression plots"
   ],
   "metadata": {}
  },
  {
   "cell_type": "code",
   "execution_count": null,
   "source": [
    "open Deedle\r\n",
    "open FSharp.Data\r\n",
    "open FSharp.Stats\r\n",
    "open FSharp.Stats.Fitting.LinearRegression\r\n",
    "open Plotly.NET\r\n",
    "\r\n",
    "let data=\r\n",
    "    Http.RequestString \"https://raw.githubusercontent.com/plotly/datasets/master/tips.csv\"\r\n",
    "    |> fun csv -> Frame.ReadCsvString(csv,true,separators=\",\")\r\n",
    "    \r\n",
    "\r\n",
    "let getColumnData column=\r\n",
    "        data\r\n",
    "        |> Frame.getCol column\r\n",
    "        |> Series.values\r\n",
    "        |> Array.ofSeq\r\n",
    "\r\n",
    "let y = vector <| getColumnData \"tip\"\r\n",
    "let x = vector <| getColumnData \"total_bill\"\r\n",
    "\r\n",
    "let coefs = OrdinaryLeastSquares.Linear.Univariable.coefficient x y\r\n",
    "let fittinFunc x= OrdinaryLeastSquares.Linear.Univariable.fit coefs x\r\n",
    "\r\n",
    "let xRange = [for i in Seq.min(x)..Seq.max(x) -> i]\r\n",
    "let yPredicted = [for x in xRange -> fittinFunc x]\r\n",
    "\r\n",
    "let xy = Seq.zip xRange yPredicted\r\n",
    "[\r\n",
    "    Chart.Point(x,y,ShowLegend=true,Name=\"Tips\")\r\n",
    "    |> Chart.withXAxisStyle(title=\"total_bill\")\r\n",
    "    |> Chart.withYAxisStyle(title=\"tip\");\r\n",
    "\r\n",
    "    Chart.Line(xy,ShowLegend=true,Name=\"Regression Fit\")\r\n",
    "]\r\n",
    "|> Chart.combine\r\n",
    "\r\n"
   ],
   "outputs": [
    {
     "output_type": "display_data",
     "data": {
      "text/html": ""
     },
     "metadata": {}
    }
   ],
   "metadata": {
    "dotnet_interactive": {
     "language": "fsharp"
    }
   }
  },
  {
   "cell_type": "markdown",
   "source": [
    "# Model generalization on unseen data"
   ],
   "metadata": {}
  },
  {
   "cell_type": "code",
   "execution_count": null,
   "source": [
    "open Deedle\r\n",
    "open FSharp.Data\r\n",
    "open FSharp.Stats\r\n",
    "open FSharp.Stats.Fitting\r\n",
    "open FSharp.Stats.Fitting.LinearRegression\r\n",
    "open Plotly.NET\r\n",
    "\r\n",
    "let data=\r\n",
    "    Http.RequestString \"https://raw.githubusercontent.com/plotly/datasets/master/tips.csv\"\r\n",
    "    |> fun csv -> Frame.ReadCsvString(csv,true,separators=\",\")\r\n",
    "    \r\n",
    "\r\n",
    "let getColumnData column=\r\n",
    "        data\r\n",
    "        |> Frame.getCol column\r\n",
    "        |> Series.values\r\n",
    "        |> Array.ofSeq\r\n",
    "\r\n",
    "let y = vector <| getColumnData \"tip\"\r\n",
    "let x = vector <| getColumnData \"total_bill\"\r\n",
    "\r\n",
    "let splitPercetage = 0.2\r\n",
    "let n = x.NumRows\r\n",
    "let m = float n * splitPercetage |> ceil |> int\r\n",
    "\r\n",
    "let chunkIndices =\r\n",
    "                [|0 .. n-1|]\r\n",
    "                |> FSharp.Stats.Array.shuffleFisherYates\r\n",
    "                |> Array.take m\r\n",
    "\r\n",
    "let xTest,xTrain = x |> Vector.splitVector chunkIndices\r\n",
    "let yTest,yTrain = y |> Vector.splitVector chunkIndices\r\n",
    "\r\n",
    "let coefs = OrdinaryLeastSquares.Linear.Univariable.coefficient xTrain yTrain\r\n",
    "let fittinFunc x= OrdinaryLeastSquares.Linear.Univariable.fit coefs x\r\n",
    "\r\n",
    "let xRange = [for i in Seq.min(x)..((Seq.max(x)-Seq.min(x))/100.)..Seq.max(x) -> i]\r\n",
    "let yPredicted = [for x in xRange -> fittinFunc x]\r\n",
    "\r\n",
    "let xy = Seq.zip xRange yPredicted\r\n",
    "\r\n",
    "[\r\n",
    "    Chart.Point(xTrain,yTrain,ShowLegend=true,Name=\"train\")\r\n",
    "    |> Chart.withXAxisStyle(title=\"total_bill\")\r\n",
    "    |> Chart.withYAxisStyle(title=\"tip\");\r\n",
    "\r\n",
    "    Chart.Point(xTest,yTest,ShowLegend=true,Name=\"test\")\r\n",
    "\r\n",
    "    Chart.Line(xy,ShowLegend=true,Name=\"Regression Fit\")\r\n",
    "]\r\n",
    "|> Chart.combine"
   ],
   "outputs": [
    {
     "output_type": "display_data",
     "data": {
      "text/html": ""
     },
     "metadata": {}
    }
   ],
   "metadata": {
    "dotnet_interactive": {
     "language": "fsharp"
    }
   }
  },
  {
   "cell_type": "markdown",
   "source": [
    "# Comparing different models parameters"
   ],
   "metadata": {}
  },
  {
   "cell_type": "code",
   "execution_count": null,
   "source": [
    "open Deedle\r\n",
    "open FSharp.Data\r\n",
    "open FSharp.Stats\r\n",
    "open FSharp.Stats.Fitting.LinearRegression\r\n",
    "open Plotly.NET\r\n",
    "\r\n",
    "let data=\r\n",
    "    Http.RequestString \"https://raw.githubusercontent.com/plotly/datasets/master/tips.csv\"\r\n",
    "    |> fun csv -> Frame.ReadCsvString(csv,true,separators=\",\")\r\n",
    "    \r\n",
    "\r\n",
    "let getColumnData column=\r\n",
    "        data\r\n",
    "        |> Frame.getCol column\r\n",
    "        |> Series.values\r\n",
    "        |> Array.ofSeq\r\n",
    "\r\n",
    "let y = vector <| getColumnData \"tip\"\r\n",
    "let x = vector <| getColumnData \"total_bill\"\r\n",
    "\r\n",
    "let order = 5\r\n",
    "\r\n",
    "let coefs = OrdinaryLeastSquares.Polynomial.coefficient order x y\r\n",
    "let fittinFunc x= OrdinaryLeastSquares.Polynomial.fit order coefs x\r\n",
    "\r\n",
    "let xRange = [for i in Seq.min(x)..((Seq.max(x)-Seq.min(x))/100.)..Seq.max(x) -> i]\r\n",
    "let yPredicted = [for x in xRange -> fittinFunc x]\r\n",
    "\r\n",
    "let weights = y |> Vector.map (fun y -> 1. / y)\r\n",
    "let coefsWeighted = OrdinaryLeastSquares.Polynomial.coefficientsWithWeighting order weights x y\r\n",
    "let fittingWeightedFunc x= OrdinaryLeastSquares.Polynomial.fit order coefsWeighted x\r\n",
    "\r\n",
    "let yPredictedWeighted = [for x in xRange -> fittingWeightedFunc x]\r\n",
    "\r\n",
    "let xy = Seq.zip xRange yPredicted\r\n",
    "let xyWeighted = Seq.zip xRange yPredictedWeighted\r\n",
    "[\r\n",
    "    Chart.Point(x,y,ShowLegend=true,Name=\"Tips\")\r\n",
    "    |> Chart.withXAxisStyle(title=\"total_bill\")\r\n",
    "    |> Chart.withYAxisStyle(title=\"tip\");\r\n",
    "\r\n",
    "    Chart.Line(xy,ShowLegend=true,Name=\"Polynomial Fit\");\r\n",
    "    Chart.Line(xyWeighted,ShowLegend=true,Name=\"Weighted Polynomial Fit\")\r\n",
    "]\r\n",
    "|> Chart.combine\r\n"
   ],
   "outputs": [
    {
     "output_type": "display_data",
     "data": {
      "text/html": ""
     },
     "metadata": {}
    }
   ],
   "metadata": {
    "dotnet_interactive": {
     "language": "fsharp"
    }
   }
  },
  {
   "cell_type": "markdown",
   "source": [
    "# 3D regression surface"
   ],
   "metadata": {}
  },
  {
   "cell_type": "code",
   "execution_count": null,
   "source": [
    "#r \"nuget:libsvm.net\""
   ],
   "outputs": [
    {
     "output_type": "display_data",
     "data": {
      "text/html": ""
     },
     "metadata": {}
    }
   ],
   "metadata": {
    "dotnet_interactive": {
     "language": "fsharp"
    }
   }
  },
  {
   "cell_type": "code",
   "execution_count": null,
   "source": [
    "open libsvm\r\n",
    "open System.Collections.Generic\r\n",
    "\r\n",
    "open Deedle\r\n",
    "open FSharp.Data\r\n",
    "open FSharp.Stats\r\n",
    "open FSharp.Stats.Fitting\r\n",
    "open FSharp.Stats.Fitting.NonLinearRegression\r\n",
    "open Plotly.NET\r\n",
    "\r\n",
    "open libsvm\r\n",
    "\r\n",
    "type DataPoint={\r\n",
    "    SepalWidth:float\r\n",
    "    SepalLength:float\r\n",
    "    PetalWidth : float\r\n",
    "}\r\n",
    "\r\n",
    "let linspace (min,max,n) = \r\n",
    "    if n <= 2 then failwithf \"n needs to be larger then 2\"\r\n",
    "    let bw = float (max - min) / (float n - 1.0)\r\n",
    "    Array.init n (fun i -> min + (bw * float i))\r\n",
    "\r\n",
    "let data=\r\n",
    "    Http.RequestString \"https://raw.githubusercontent.com/plotly/datasets/master/iris.csv\"\r\n",
    "    |> fun csv -> Frame.ReadCsvString(csv,true,separators=\",\")\r\n",
    "\r\n",
    "let getColumnData column=\r\n",
    "        data\r\n",
    "        |> Frame.getCol column\r\n",
    "        |> Series.values\r\n",
    "        |> Array.ofSeq\r\n",
    "\r\n",
    "let petalWidth= getColumnData \"PetalWidth\"\r\n",
    "let sepalWidth = getColumnData \"SepalWidth\"\r\n",
    "let sepalLength = getColumnData \"SepalLength\"\r\n",
    "\r\n",
    "let xData = Array.map3 (fun x y z-> {SepalWidth=x;SepalLength=y;PetalWidth=z})  sepalWidth sepalLength petalWidth\r\n",
    "\r\n",
    "let features = [|for x in xData -> new List<float>([|x.PetalWidth; x.SepalWidth;x.SepalLength|]) |]\r\n",
    "\r\n",
    "\r\n",
    "let X = new List<List<float>>(features)\r\n",
    "\r\n",
    "let xRange = linspace(Seq.min(sepalWidth),Seq.max(sepalWidth),100)\r\n",
    "let yRange = linspace(Seq.min(sepalLength),Seq.max(sepalLength),100)\r\n",
    "\r\n",
    "let xyz = Array.zip3 sepalWidth sepalLength petalWidth\r\n",
    "\r\n",
    "\r\n",
    "let gamma = 1.0\r\n",
    "let C= 1.\r\n",
    "let epsilon = 0.1\r\n",
    "\r\n",
    "let prob = ProblemHelper.ReadProblem(X)\r\n",
    "\r\n",
    "let svm = new Epsilon_SVR(prob, KernelHelper.RadialBasisFunctionKernel(gamma), C, epsilon)\r\n",
    "\r\n",
    "let z = Array.map (fun y -> Array.map (fun x -> svm.Predict([|new svm_node(index=1,value=x);new svm_node(index=2,value=y)|])) xRange) yRange \r\n",
    "\r\n",
    "[\r\n",
    "Chart.Surface(X=xRange,Y=yRange, zData=z);\r\n",
    "Chart.Point3d(xyz=xyz)\r\n",
    "|> Chart.withXAxisStyle(title=\"Sepal Width\",Id=StyleParam.SubPlotId.Scene 1)\r\n",
    "|> Chart.withYAxisStyle(title=\"Sepal Length\",Id=StyleParam.SubPlotId.Scene 1)\r\n",
    "|> Chart.withZAxisStyle(title=\"Petal Width\")\r\n",
    "|> Chart.withMarkerStyle(Size=5)\r\n",
    "|> Chart.withSize(width=1100.,height=700.)]\r\n",
    "|> Chart.combine\r\n",
    "\r\n"
   ],
   "outputs": [
    {
     "output_type": "display_data",
     "data": {
      "text/html": ""
     },
     "metadata": {}
    }
   ],
   "metadata": {
    "dotnet_interactive": {
     "language": "fsharp"
    }
   }
  },
  {
   "cell_type": "markdown",
   "source": [
    "# Simple actual vs predicted plot"
   ],
   "metadata": {}
  },
  {
   "cell_type": "code",
   "execution_count": null,
   "source": [
    "open Deedle\r\n",
    "open FSharp.Data\r\n",
    "open FSharp.Stats\r\n",
    "open FSharp.Stats.Fitting\r\n",
    "open FSharp.Stats.Fitting.NonLinearRegression\r\n",
    "open Plotly.NET\r\n",
    "open Plotly.NET.LayoutObjects\r\n",
    "\r\n",
    "let linspace (min,max,n) = \r\n",
    "    if n <= 2 then failwithf \"n needs to be larger then 2\"\r\n",
    "    let bw = float (max - min) / (float n - 1.0)\r\n",
    "    Array.init n (fun i -> min + (bw * float i))\r\n",
    "\r\n",
    "let data=\r\n",
    "    Http.RequestString \"https://raw.githubusercontent.com/plotly/datasets/master/iris.csv\"\r\n",
    "    |> fun csv -> Frame.ReadCsvString(csv,true,separators=\",\")\r\n",
    "\r\n",
    "let getColumnData column=\r\n",
    "        data\r\n",
    "        |> Frame.getCol column\r\n",
    "        |> Series.values\r\n",
    "        |> Array.ofSeq\r\n",
    "\r\n",
    "let petalWidth= getColumnData \"PetalWidth\"\r\n",
    "let sepalWidth = getColumnData \"SepalWidth\"\r\n",
    "let sepalLength = getColumnData \"SepalLength\"\r\n",
    "\r\n",
    "let xData = Array.map2 (fun x y -> [|x;y|]) sepalWidth sepalLength\r\n",
    "let X =  xData |> Matrix.ofJaggedArray\r\n",
    "let Y = vector petalWidth \r\n",
    "let coefs = OrdinaryLeastSquares.Linear.Multivariable.coefficients X Y\r\n",
    "let fittinFunc x= OrdinaryLeastSquares.Linear.Multivariable.fit coefs x\r\n",
    "\r\n",
    "let YPredicted = [|for x in xData -> fittinFunc (vector x) |]\r\n",
    "\r\n",
    "let xy = Array.zip petalWidth YPredicted\r\n",
    "\r\n",
    "let yMin = Array.min(petalWidth)\r\n",
    "let yMax = Array.max(petalWidth)\r\n",
    "\r\n",
    "let labels = xy |> Array.map (fun item -> $\"Ground Truth:{fst item} </br>Prediction: {snd item}\")\r\n",
    "\r\n",
    "Chart.Point(xy,Labels=labels,Color=Color.fromString \"orange\")\r\n",
    "|> Chart.withSize(width=1100.,height=700.)\r\n",
    "|> Chart.withShape(Shape.init(ShapeType=StyleParam.ShapeType.Line,X0=yMin,Y0=yMin,X1=yMax,Y1=yMax,Line=Line.init(Dash=StyleParam.DrawingStyle.Dash)))"
   ],
   "outputs": [
    {
     "output_type": "display_data",
     "data": {
      "text/html": ""
     },
     "metadata": {}
    }
   ],
   "metadata": {
    "dotnet_interactive": {
     "language": "fsharp"
    }
   }
  },
  {
   "cell_type": "markdown",
   "source": [
    "# Enhanced prediction error analysis (Not finished)"
   ],
   "metadata": {}
  },
  {
   "cell_type": "code",
   "execution_count": null,
   "source": [
    "open Plotly.NET\r\n",
    "let values = [1; 2; 3;]\r\n",
    "let keys   = [\"Product A\"; \"Product B\"; \"Product C\";]\r\n",
    "\r\n",
    "let x = [for i in 0..10 -> i]\r\n",
    "let y = [for i in x -> 2*i*i+3*i+5]\r\n",
    "\r\n",
    "Chart.Histogram(x,Orientation=StyleParam.Orientation.Horizontal)\r\n",
    "\r\n",
    "// [\r\n",
    "\r\n",
    "// Chart.Point(x,y)\r\n",
    "// ]\r\n",
    "// |> Chart.SingleStack(Pattern= StyleParam.LayoutGridPattern.Coupled)\r\n",
    "// |> Chart.withLayoutGridStyle(YGap= 0.1)\r\n",
    "// |> Chart.withTitle(\"Hi i am the new SingleStackChart\")\r\n",
    "// |> Chart.withXAxisStyle(\"im the shared xAxis\")"
   ],
   "outputs": [
    {
     "output_type": "display_data",
     "data": {
      "text/html": ""
     },
     "metadata": {}
    }
   ],
   "metadata": {
    "dotnet_interactive": {
     "language": "fsharp"
    }
   }
  },
  {
   "cell_type": "markdown",
   "source": [
    "# Residual Plots"
   ],
   "metadata": {}
  },
  {
   "cell_type": "code",
   "execution_count": null,
   "source": [
    "open Deedle\r\n",
    "open FSharp.Data\r\n",
    "open FSharp.Stats\r\n",
    "open FSharp.Stats.Fitting\r\n",
    "open FSharp.Stats.Fitting.NonLinearRegression\r\n",
    "open Plotly.NET\r\n",
    "\r\n",
    "\r\n",
    "let data=\r\n",
    "    Http.RequestString \"https://raw.githubusercontent.com/plotly/datasets/master/iris.csv\"\r\n",
    "    |> fun csv -> Frame.ReadCsvString(csv,true,separators=\",\")\r\n",
    "\r\n",
    "let getColumnData column=\r\n",
    "        data\r\n",
    "        |> Frame.getCol column\r\n",
    "        |> Series.values\r\n",
    "        |> Array.ofSeq\r\n",
    "\r\n",
    "let petalWidth= getColumnData \"PetalWidth\"\r\n",
    "let sepalWidth = getColumnData \"SepalWidth\"\r\n",
    "let sepalLength = getColumnData \"SepalLength\"\r\n",
    "\r\n",
    "let splitPercetage = 0.2\r\n",
    "let n = sepalWidth.Length\r\n",
    "let m = float n * splitPercetage |> ceil |> int\r\n",
    "\r\n",
    "let chunkIndices =\r\n",
    "                [|0 .. n-1|]\r\n",
    "                |> FSharp.Stats.Array.shuffleFisherYates\r\n",
    "                |> Array.take m\r\n",
    "\r\n",
    "let xData = Array.map2 (fun x y -> [|x;y|]) sepalWidth sepalLength\r\n",
    "let Y = vector petalWidth \r\n",
    "\r\n",
    "let X =  xData |> Matrix.ofJaggedArray\r\n",
    "\r\n",
    "let xTest,xTrain = Matrix.splitRows chunkIndices X\r\n",
    "let yTest,yTrain = (vector Y) |> Vector.splitVector chunkIndices\r\n",
    "\r\n",
    "let fittinFunc X Y x= \r\n",
    "    let coefs = OrdinaryLeastSquares.Linear.Multivariable.coefficients X Y\r\n",
    "    OrdinaryLeastSquares.Linear.Multivariable.fit coefs x\r\n",
    "\r\n",
    "let fittingLinearFunc X Y x=\r\n",
    "    let coef = OrdinaryLeastSquares.Linear.Univariable.coefficient X Y\r\n",
    "    OrdinaryLeastSquares.Linear.Univariable.fit coef x\r\n",
    "\r\n",
    "let fittingFuncTrain = fittinFunc xTrain yTrain\r\n",
    "let fittingFuncTest = fittinFunc xTest yTest\r\n",
    "\r\n",
    "let yTrainPredicted = [|for x in Matrix.toJaggedArray xTrain -> fittingFuncTrain (vector <| x) |]\r\n",
    "let residualTrain = yTrainPredicted |> Array.mapi (fun i x -> x - yTrain.[i])\r\n",
    "\r\n",
    "let yTestPredicted = [|for x in (Matrix.toJaggedArray xTest) -> fittingFuncTest (vector <| x) |]\r\n",
    "let residualTest = yTestPredicted |> Array.mapi (fun i x -> x - yTest.[i])\r\n",
    "\r\n",
    "\r\n",
    "let xTrend = Array.concat [yTrainPredicted;yTestPredicted]\r\n",
    "let fittingTrend = fittingLinearFunc (vector xTrend) (vector (Array.concat [residualTrain;residualTest]))\r\n",
    "let yTrend = xTrend |> Array.map (fun x -> fittingTrend x)\r\n",
    "\r\n",
    "let violinChart =   [\r\n",
    "                        Chart.Violin(y=residualTrain,Name=\"Train\",ShowLegend=false);\r\n",
    "                        Chart.Violin(y=residualTest,Name=\"Test\",ShowLegend=false);\r\n",
    "                    ]\r\n",
    "                    |>Chart.combine\r\n",
    "\r\n",
    "let scatterPlot =   [\r\n",
    "                        Chart.Point(yTrainPredicted,residualTrain,Name=\"Train\");\r\n",
    "                        Chart.Point(yTestPredicted,residualTest,Name=\"Test\");\r\n",
    "                        Chart.Line(xTrend,yTrend,ShowLegend=false);\r\n",
    "                    ]\r\n",
    "                    |>Chart.combine\r\n",
    "                    |>Chart.withXAxisStyle(title=\"Prediction\")\r\n",
    "                    |>Chart.withYAxisStyle(title=\"Residual\");\r\n",
    "\r\n",
    "[\r\n",
    "scatterPlot;\r\n",
    "violinChart\r\n",
    "]\r\n",
    "|>\r\n",
    "Chart.Grid(1,2)\r\n",
    "|> Chart.withSize(1100.,700.)\r\n"
   ],
   "outputs": [
    {
     "output_type": "display_data",
     "data": {
      "text/html": ""
     },
     "metadata": {}
    }
   ],
   "metadata": {
    "dotnet_interactive": {
     "language": "fsharp"
    }
   }
  }
 ],
 "metadata": {
  "orig_nbformat": 4,
  "language_info": {
   "file_extension": ".cs",
   "mimetype": "text/x-csharp",
   "name": "C#",
   "pygments_lexer": "csharp",
   "version": "9.0"
  },
  "kernelspec": {
   "display_name": ".NET (C#)",
   "language": "C#",
   "name": ".net-csharp"
  }
 },
 "nbformat": 4,
 "nbformat_minor": 2
}