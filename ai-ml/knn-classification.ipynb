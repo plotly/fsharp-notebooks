{
 "cells": [
  {
   "cell_type": "code",
   "execution_count": null,
   "source": [
    "#r \"nuget: Plotly.NET,  2.0.0-preview.8\"\r\n",
    "#r \"nuget: Plotly.NET.Interactive,  2.0.0-preview.8\"\r\n",
    "#r \"nuget: FSharp.Stats\"\r\n",
    "#r \"nuget: Deedle\"\r\n",
    "#r \"nuget: Microsoft.ML\""
   ],
   "outputs": [
    {
     "output_type": "display_data",
     "data": {
      "text/html": ""
     },
     "metadata": {}
    },
    {
     "output_type": "display_data",
     "data": {
      "text/markdown": ""
     },
     "metadata": {}
    },
    {
     "output_type": "display_data",
     "data": {
      "text/markdown": ""
     },
     "metadata": {}
    }
   ],
   "metadata": {
    "dotnet_interactive": {
     "language": "fsharp"
    }
   }
  },
  {
   "cell_type": "markdown",
   "source": [
    "# Display training and test splits"
   ],
   "metadata": {}
  },
  {
   "cell_type": "code",
   "execution_count": null,
   "source": [
    "open Deedle\r\n",
    "open FSharp.Data\r\n",
    "open FSharp.Stats\r\n",
    "open FSharp.Stats.Fitting.LinearRegression\r\n",
    "open Plotly.NET\r\n",
    "\r\n",
    "let data=\r\n",
    "    Http.RequestString \"https://raw.githubusercontent.com/plotly/datasets/master/diabetes.csv\"\r\n",
    "    |> fun csv -> Frame.ReadCsvString(csv,true,separators=\",\")\r\n",
    "\r\n",
    "let getColumnData column=\r\n",
    "        data\r\n",
    "        |> Frame.getCol column\r\n",
    "        |> Series.values\r\n",
    "        |> Array.ofSeq\r\n",
    "\r\n",
    "let X1 = getColumnData \"Glucose\" |> Array.take 100\r\n",
    "let X2 = getColumnData \"BloodPressure\" |> Array.take 100\r\n",
    "let Y = getColumnData \"Outcome\" |> Array.take 100\r\n",
    "\r\n",
    "let Data = Array.map3 (fun x1 x2 y -> [|x1;x2;y|]) X1 X2 Y\r\n",
    "\r\n",
    "let splitPercetage = 0.2\r\n",
    "let n = Data.Length\r\n",
    "let m = float n * splitPercetage |> ceil |> int\r\n",
    "\r\n",
    "let chunkIndices =\r\n",
    "                [|0 .. n-1|]\r\n",
    "                |> FSharp.Stats.Array.shuffleFisherYates\r\n",
    "                |> Array.take m\r\n",
    "\r\n",
    "let testData,trainData = Data |> Matrix.ofJaggedArray |> Matrix.splitRows chunkIndices\r\n",
    "\r\n",
    "let getLabelData data label=\r\n",
    "            data\r\n",
    "                |> Matrix.toJaggedArray\r\n",
    "                |> Array.filter (fun x -> x.[2] = label)\r\n",
    "                |> Array.map (fun x -> (x.[0],x.[1]))\r\n",
    "\r\n",
    "let trainLabel_0 = getLabelData trainData 0.\r\n",
    "let trainLabel_1 = getLabelData trainData 1.\r\n",
    "\r\n",
    "let testLabel_0 = getLabelData testData 0.\r\n",
    "let testLabel_1 = getLabelData testData 1.\r\n",
    "\r\n",
    "[\r\n",
    "Chart.Point(trainLabel_0,Name=\"Train Label 0\") |> Chart.withMarkerStyle(Size=12,Symbol=StyleParam.Symbol.Square)\r\n",
    "Chart.Point(trainLabel_1,Name=\"Train Label 1\") |> Chart.withMarkerStyle(Size=12,Symbol=StyleParam.Symbol.Circle)\r\n",
    "Chart.Point(testLabel_0,Name=\"Test Label 0\") |> Chart.withMarkerStyle(Size=12,Symbol=StyleParam.Symbol.SquareCross) \r\n",
    "Chart.Point(testLabel_1,Name=\"Test Label 1\") |> Chart.withMarkerStyle(Size=12,Symbol=StyleParam.Symbol.CircleCross)\r\n",
    "]\r\n",
    "|> Chart.combine\r\n",
    "|> Chart.withSize(1100.,700.)\r\n",
    "\r\n"
   ],
   "outputs": [
    {
     "output_type": "display_data",
     "data": {
      "text/html": ""
     },
     "metadata": {}
    }
   ],
   "metadata": {
    "dotnet_interactive": {
     "language": "fsharp"
    }
   }
  },
  {
   "cell_type": "markdown",
   "source": [
    "# Visualize Predictions on test split"
   ],
   "metadata": {}
  },
  {
   "cell_type": "code",
   "execution_count": null,
   "source": [
    "open Deedle\r\n",
    "open FSharp.Data\r\n",
    "open FSharp.Stats\r\n",
    "open FSharp.Stats.ML\r\n",
    "open FSharp.Stats.ML.Unsupervised\r\n",
    "open FSharp.Stats.ML.Unsupervised.HierarchicalClustering\r\n",
    "\r\n",
    "open Plotly.NET\r\n",
    "\r\n",
    "let data=\r\n",
    "    Http.RequestString \"https://raw.githubusercontent.com/plotly/datasets/master/iris.csv\"\r\n",
    "    |> fun csv -> Frame.ReadCsvString(csv,true,separators=\",\")\r\n",
    "\r\n",
    "let getColumnData column=\r\n",
    "        data\r\n",
    "        |> Frame.getCol column\r\n",
    "        |> Series.values\r\n",
    "        |> Array.ofSeq\r\n",
    "\r\n",
    "let X1 = getColumnData \"SepalWidth\" \r\n",
    "let X2 = getColumnData \"SepalLength\"\r\n",
    "let Y = getColumnData \"Name\" \r\n",
    "\r\n",
    "let getLabel y = if y = \"Iris-setosa\" then 1. else 0.\r\n",
    "\r\n",
    "let Data = Array.map3 (fun x1 x2 y -> [|x1;x2; getLabel y|]) X1 X2 Y\r\n",
    "\r\n",
    "let splitPercetage = 0.2\r\n",
    "let n = Data.Length\r\n",
    "let m = float n * splitPercetage |> ceil |> int\r\n",
    "\r\n",
    "let chunkIndices =\r\n",
    "                [|0 .. n-1|]\r\n",
    "                |> FSharp.Stats.Array.shuffleFisherYates\r\n",
    "                |> Array.take m\r\n",
    "\r\n",
    "let testData,trainData = Data |> Matrix.ofJaggedArray |> Matrix.splitRows chunkIndices\r\n",
    "\r\n",
    "let InputData = trainData |> Matrix.toJaggedArray |> Array.map (fun x -> x |> Array.take 2)\r\n",
    "\r\n",
    "let rnd = new System.Random()\r\n",
    "let randomInitFactory : IterativeClustering.CentroidsFactory<float []> = \r\n",
    "    IterativeClustering.randomCentroids<float []> rnd\r\n",
    "\r\n",
    "let kmeansResult = IterativeClustering.kmeans DistanceMetrics.euclidean randomInitFactory InputData 2\r\n",
    "\r\n",
    "let centroids= Array.map (fun x ->  let z:float[] = snd x \r\n",
    "                                    (z.[0],z.[1]) ) kmeansResult.Centroids\r\n",
    "\r\n",
    "\r\n",
    "let results = testData  \r\n",
    "                |> Matrix.toJaggedArray \r\n",
    "                |> Array.map  (fun row -> \r\n",
    "                                        let input = [|row.[0];row.[1]|]\r\n",
    "                                        fst (kmeansResult.Classifier input)) \r\n",
    "\r\n",
    "let getLabelData label=\r\n",
    "    testData |>  Matrix.toJaggedArray          \r\n",
    "                |> Array.mapi (fun i x -> if(results.[i] = label) then Some(x)\r\n",
    "                                          else None)\r\n",
    "                |> Array.filter (fun x -> x.IsSome)\r\n",
    "                |> Array.map (fun x -> (x.Value.[0],x.Value.[1]) )\r\n",
    "\r\n",
    "\r\n",
    "let label_1 = getLabelData 1\r\n",
    "let label_2 = getLabelData 2\r\n",
    "\r\n",
    "[\r\n",
    "    Chart.Point(centroids,Name=\"Centroid\") |> Chart.withMarkerStyle(Symbol=StyleParam.Symbol.Cross,Size=12)\r\n",
    "    Chart.Point(label_1,Name=\"Label 1\") |> Chart.withMarkerStyle(Symbol=StyleParam.Symbol.Square,Size=12)\r\n",
    "    Chart.Point(label_2,Name=\"Label 2\") |> Chart.withMarkerStyle(Symbol=StyleParam.Symbol.Circle,Size=12)\r\n",
    "\r\n",
    "]|> Chart.combine\r\n",
    "|> Chart.withSize(1100.,700.)\r\n",
    "|> Chart.withXAxisStyle(title=\"X1\")\r\n",
    "|> Chart.withYAxisStyle(title=\"X2\")"
   ],
   "outputs": [
    {
     "output_type": "display_data",
     "data": {
      "text/html": ""
     },
     "metadata": {}
    }
   ],
   "metadata": {
    "dotnet_interactive": {
     "language": "fsharp"
    }
   }
  },
  {
   "cell_type": "markdown",
   "source": [
    "# Probability Estimates with Contour"
   ],
   "metadata": {}
  },
  {
   "cell_type": "code",
   "execution_count": null,
   "source": [
    "open Microsoft.ML\r\n",
    "open Microsoft.ML.Data\r\n",
    "open Microsoft.ML.Trainers\r\n",
    "\r\n",
    "let data=\r\n",
    "    Http.RequestString \"https://raw.githubusercontent.com/plotly/datasets/master/iris.csv\"\r\n",
    "    |> fun csv -> Frame.ReadCsvString(csv,true,separators=\",\")\r\n",
    "\r\n",
    "let getColumnData column=\r\n",
    "        data\r\n",
    "        |> Frame.getCol column\r\n",
    "        |> Series.values\r\n",
    "        |> Array.ofSeq\r\n",
    "\r\n",
    "type ModelInput = \r\n",
    "    { X1: float32\r\n",
    "      X2: float32\r\n",
    "      Y: float32 }\r\n",
    "\r\n",
    "[<CLIMutable>]\r\n",
    "type ModelOutput = {    \r\n",
    "    PredictedLabel: uint32\r\n",
    "    Score : float32[]\r\n",
    "}\r\n",
    "\r\n",
    "let X1 = getColumnData \"SepalWidth\" \r\n",
    "let X2 = getColumnData \"SepalLength\"\r\n",
    "let Y = getColumnData \"Name\"  \r\n",
    "\r\n",
    "let getLabel y = if y = \"Iris-setosa\" then 1.f else 0.f\r\n",
    "\r\n",
    "let Input = Array.map3 (fun x1 x2 y -> {X1=x1;X2=x2;Y=getLabel y}) X1 X2 Y\r\n",
    "\r\n",
    "let linspace (min,max,n) = \r\n",
    "    if n <= 2 then failwithf \"n needs to be larger then 2\"\r\n",
    "    let bw = float32 (max - min) / (float32 n - 1.0f)\r\n",
    "    Array.init n (fun i -> min + (bw * float32 i))\r\n",
    "\r\n",
    "let ctx = MLContext()\r\n",
    "\r\n",
    "let dataView = ctx.Data.LoadFromEnumerable<ModelInput>(Input)\r\n",
    "\r\n",
    "let pipeline = \r\n",
    "        EstimatorChain()\r\n",
    "            .Append(ctx.Transforms.Concatenate(\"Features\", \"X1\", \"X2\"))            \r\n",
    "            .Append(ctx.Transforms.NormalizeMinMax(outputColumnName = \"FeaturesNorm\", inputColumnName = \"Features\"))\r\n",
    "            .Append(ctx.Clustering.Trainers.KMeans(new KMeansTrainer.Options(FeatureColumnName=\"FeaturesNorm\",NumberOfClusters=2)))\r\n",
    "\r\n",
    "let trainedModel = pipeline.Fit(dataView)\r\n",
    "\r\n",
    "let predictionEngine = ctx.Model.CreatePredictionEngine<ModelInput, ModelOutput>(trainedModel)\r\n",
    "\r\n",
    "let xRange = linspace(Seq.min(X1),Seq.max(X1),200)\r\n",
    "let yRange = linspace(Seq.min(X2),Seq.max(X2),200)\r\n",
    "\r\n",
    "let z = Array.map (fun y -> Array.map (fun x -> let score = predictionEngine.Predict({X1=x;X2=y;Y=0.f}).Score\r\n",
    "                                                score.[0]/(Array.sum score)) xRange) yRange\r\n",
    "\r\n",
    "Chart.Contour(z,X=xRange,Y=yRange)\r\n",
    "|> Chart.withSize(1100.,700.)"
   ],
   "outputs": [
    {
     "output_type": "display_data",
     "data": {
      "text/html": ""
     },
     "metadata": {}
    }
   ],
   "metadata": {
    "dotnet_interactive": {
     "language": "fsharp"
    }
   }
  },
  {
   "cell_type": "markdown",
   "source": [
    "Now, let's try to combine our Contour plot with the first scatter plot of our data points, so that we can visually compare the confidence of our model with the true labels."
   ],
   "metadata": {}
  },
  {
   "cell_type": "code",
   "execution_count": null,
   "source": [
    "open Microsoft.ML\r\n",
    "open Microsoft.ML.Data\r\n",
    "open Microsoft.ML.Trainers\r\n",
    "\r\n",
    "let data=\r\n",
    "    Http.RequestString \"https://raw.githubusercontent.com/plotly/datasets/master/iris.csv\"\r\n",
    "    |> fun csv -> Frame.ReadCsvString(csv,true,separators=\",\")\r\n",
    "\r\n",
    "let getColumnData column=\r\n",
    "        data\r\n",
    "        |> Frame.getCol column\r\n",
    "        |> Series.values\r\n",
    "        |> Array.ofSeq\r\n",
    "\r\n",
    "[<CLIMutable>]\r\n",
    "type ModelInput = \r\n",
    "    { X1: float32\r\n",
    "      X2: float32\r\n",
    "      Y: float32 }\r\n",
    "\r\n",
    "[<CLIMutable>]\r\n",
    "type ModelOutput = {    \r\n",
    "    PredictedLabel: uint32\r\n",
    "    Score : float32[]\r\n",
    "}\r\n",
    "\r\n",
    "let X1 = getColumnData \"SepalWidth\" \r\n",
    "let X2 = getColumnData \"SepalLength\"\r\n",
    "let Y = getColumnData \"Name\"  \r\n",
    "\r\n",
    "let getLabel y = if y = \"Iris-setosa\" then 1.f else 0.f\r\n",
    "\r\n",
    "let Input = Array.map3 (fun x1 x2 y -> {X1=x1;X2=x2;Y=getLabel y}) X1 X2 Y\r\n",
    "\r\n",
    "let linspace (min,max,n) = \r\n",
    "    if n <= 2 then failwithf \"n needs to be larger then 2\"\r\n",
    "    let bw = float32 (max - min) / (float32 n - 1.0f)\r\n",
    "    Array.init n (fun i -> min + (bw * float32 i))\r\n",
    "\r\n",
    "let ctx = MLContext()\r\n",
    "\r\n",
    "let dataView = ctx.Data.LoadFromEnumerable<ModelInput>(Input)\r\n",
    "\r\n",
    "let split = ctx.Data.TrainTestSplit(dataView, testFraction= 0.2)\r\n",
    "\r\n",
    "let pipeline = \r\n",
    "        EstimatorChain()\r\n",
    "            .Append(ctx.Transforms.Concatenate(\"Features\", \"X1\", \"X2\"))            \r\n",
    "            .Append(ctx.Transforms.NormalizeMinMax(outputColumnName = \"FeaturesNorm\", inputColumnName = \"Features\"))\r\n",
    "            .Append(ctx.Clustering.Trainers.KMeans(new KMeansTrainer.Options(FeatureColumnName=\"FeaturesNorm\",NumberOfClusters=2)))\r\n",
    "\r\n",
    "let trainedModel = pipeline.Fit(split.TrainSet)\r\n",
    "\r\n",
    "let predictionEngine = ctx.Model.CreatePredictionEngine<ModelInput, ModelOutput>(trainedModel)\r\n",
    "\r\n",
    "let xRange = linspace(Seq.min(X1),Seq.max(X1),200)\r\n",
    "let yRange = linspace(Seq.min(X2),Seq.max(X2),200)\r\n",
    "\r\n",
    "let z = Array.map (fun y -> Array.map (fun x -> let score = predictionEngine.Predict({X1=x;X2=y;Y=0.f}).Score\r\n",
    "                                                score.[0]/(Array.sum score)) xRange) yRange\r\n",
    "\r\n",
    "let testSet = ctx.Data.CreateEnumerable<ModelInput>(split.TestSet,reuseRowObject= false)\r\n",
    "\r\n",
    "let testLabels = [|for x in testSet -> ((x.X1,x.X2),predictionEngine.Predict(x))|]\r\n",
    "                    |> Array.groupBy (fun x -> (snd x).PredictedLabel)\r\n",
    "                    |> Array.map (fun group -> snd group \r\n",
    "                                                |> Array.map (fun x ->  fst x) )\r\n",
    "\r\n",
    "let labelColors = [|\"black\";\"deeppink\"|]\r\n",
    "let symbols = [|StyleParam.Symbol.Circle;StyleParam.Symbol.Square|]\r\n",
    "[\r\n",
    "testLabels |> Array.mapi (fun i test -> Chart.Point(test,Name= $\"Label {i+1}\",ShowLegend=false) \r\n",
    "                                        |> Chart.withMarkerStyle(Size=12,Symbol=symbols.[i],Color=Color.fromString labelColors.[i]))  \r\n",
    "|> Chart.combine\r\n",
    "Chart.Contour(z,X=xRange,Y=yRange,Colorscale=StyleParam.Colorscale.RdBu)\r\n",
    "]\r\n",
    "|> Chart.combine\r\n",
    "|> Chart.withSize(1100.,700.)"
   ],
   "outputs": [
    {
     "output_type": "display_data",
     "data": {
      "text/html": ""
     },
     "metadata": {}
    }
   ],
   "metadata": {
    "dotnet_interactive": {
     "language": "fsharp"
    }
   }
  },
  {
   "cell_type": "markdown",
   "source": [
    "# Multi-class prediction confidence with Heatmap"
   ],
   "metadata": {}
  },
  {
   "cell_type": "code",
   "execution_count": null,
   "source": [
    "open Microsoft.ML\r\n",
    "open Microsoft.ML.Data\r\n",
    "open Microsoft.ML.Trainers\r\n",
    "\r\n",
    "let data=\r\n",
    "    Http.RequestString \"https://raw.githubusercontent.com/plotly/datasets/master/iris.csv\"\r\n",
    "    |> fun csv -> Frame.ReadCsvString(csv,true,separators=\",\")\r\n",
    "\r\n",
    "let getColumnData column=\r\n",
    "        data\r\n",
    "        |> Frame.getCol column\r\n",
    "        |> Series.values\r\n",
    "        |> Array.ofSeq\r\n",
    "\r\n",
    "[<CLIMutable>]\r\n",
    "type ModelInput = \r\n",
    "    { X1: float32\r\n",
    "      X2: float32\r\n",
    "      Y: float32 }\r\n",
    "\r\n",
    "[<CLIMutable>]\r\n",
    "type ModelOutput = {    \r\n",
    "    PredictedLabel: uint32\r\n",
    "    Score : float32[]\r\n",
    "    Probability:float32[]\r\n",
    "}\r\n",
    "\r\n",
    "let X1 = getColumnData \"SepalWidth\" \r\n",
    "let X2 = getColumnData \"SepalLength\"\r\n",
    "let Y = getColumnData \"Name\"  \r\n",
    "\r\n",
    "let getLabel y = if y = \"Iris-setosa\" then 1f elif y = \"Iris-versicolor\" then 2f else 3f\r\n",
    "\r\n",
    "let Input = Array.map3 (fun x1 x2 y -> {X1=x1;X2=x2;Y=getLabel y}) X1 X2 Y\r\n",
    "\r\n",
    "let linspace (min,max,n) = \r\n",
    "    if n <= 2 then failwithf \"n needs to be larger then 2\"\r\n",
    "    let bw = float32 (max - min) / (float32 n - 1.0f)\r\n",
    "    Array.init n (fun i -> min + (bw * float32 i))\r\n",
    "\r\n",
    "let ctx = MLContext()\r\n",
    "\r\n",
    "let dataView = ctx.Data.LoadFromEnumerable<ModelInput>(Input)\r\n",
    "\r\n",
    "let split = ctx.Data.TrainTestSplit(dataView, testFraction= 0.2)\r\n",
    "\r\n",
    "let pipeline = \r\n",
    "        EstimatorChain()\r\n",
    "            .Append(ctx.Transforms.Conversion.MapValueToKey(\"LabelKey\",\"Y\"))\r\n",
    "            .Append(ctx.Transforms.Concatenate(\"Features\", \"X1\", \"X2\"))            \r\n",
    "            .Append(ctx.Transforms.NormalizeMinMax(outputColumnName = \"FeaturesNorm\", inputColumnName = \"Features\"))\r\n",
    "            .Append(ctx.MulticlassClassification.Trainers.SdcaMaximumEntropy(featureColumnName=\"FeaturesNorm\",labelColumnName=\"LabelKey\"))\r\n",
    "\r\n",
    "let trainedModel = pipeline.Fit(split.TrainSet)\r\n",
    "\r\n",
    "let predictionEngine = ctx.Model.CreatePredictionEngine<ModelInput, ModelOutput>(trainedModel)\r\n",
    "\r\n",
    "\r\n",
    "let xRange = linspace(Seq.min(X1),Seq.max(X1),200)\r\n",
    "let yRange = linspace(Seq.min(X2),Seq.max(X2),200)\r\n",
    "\r\n",
    "let z = Array.map (fun y -> Array.map (fun x -> let score = predictionEngine.Predict({X1=x;X2=y;Y=0f}).Score\r\n",
    "                                                \r\n",
    "                                                Array.max(score) - (Array.sum score - Array.max(score))) xRange) yRange\r\n",
    "\r\n",
    "let testSet = ctx.Data.CreateEnumerable<ModelInput>(split.TestSet,reuseRowObject= false)\r\n",
    "\r\n",
    "let testLabels = [|for x in testSet -> ((x.X1,x.X2),predictionEngine.Predict(x))|]\r\n",
    "                    |> Array.groupBy (fun x -> (snd x).PredictedLabel)\r\n",
    "                    |> Array.map (fun group -> snd group \r\n",
    "                                                |> Array.map (fun x ->  fst x) )\r\n",
    "\r\n",
    "let labelColors = [|\"black\";\"deeppink\";\"green\"|]\r\n",
    "let symbols = [|StyleParam.Symbol.Circle;StyleParam.Symbol.Square;StyleParam.Symbol.Diamond|]\r\n",
    "[\r\n",
    "testLabels |> Array.mapi (fun i test -> Chart.Point(test,Name= $\"Label {i+1}\",ShowLegend=false) \r\n",
    "                                        |> Chart.withMarkerStyle(Size=12,Symbol=symbols.[i],Color=Color.fromString labelColors.[i]))  \r\n",
    "|> Chart.combine\r\n",
    "Chart.Heatmap(z,ColNames=xRange,RowNames=yRange,Colorscale=StyleParam.Colorscale.RdBu)\r\n",
    "]\r\n",
    "|> Chart.combine\r\n",
    "|> Chart.withSize(1100.,700.)\r\n",
    "\r\n",
    "                    \r\n",
    "\r\n"
   ],
   "outputs": [
    {
     "output_type": "display_data",
     "data": {
      "text/html": ""
     },
     "metadata": {}
    }
   ],
   "metadata": {
    "dotnet_interactive": {
     "language": "fsharp"
    }
   }
  }
 ],
 "metadata": {
  "orig_nbformat": 4,
  "language_info": {
   "file_extension": ".cs",
   "mimetype": "text/x-csharp",
   "name": "C#",
   "pygments_lexer": "csharp",
   "version": "9.0"
  },
  "kernelspec": {
   "display_name": ".NET (C#)",
   "language": "C#",
   "name": ".net-csharp"
  }
 },
 "nbformat": 4,
 "nbformat_minor": 2
}