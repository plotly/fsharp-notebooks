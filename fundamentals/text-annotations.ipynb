{
 "metadata": {
  "kernelspec": {
   "display_name": ".NET (F#)",
   "language": "F#",
   "name": ".net-fsharp"
  },
  "language_info": {
   "name": "F#"
  }
 },
 "cells": [
  {
   "cell_type": "code",
   "execution_count": null,
   "source": [
    "#r \"nuget: Plotly.NET, 2.0.0-preview.6\"\r\n",
    "#r \"nuget: newtonsoft.json\"\r\n",
    "#r \"nuget: Plotly.NET.Interactive, 2.0.0-preview.6\"\r\n",
    "open Plotly.NET"
   ],
   "outputs": [
    {
     "output_type": "display_data",
     "data": {
      "text/html": ""
     },
     "metadata": {}
    },
    {
     "output_type": "display_data",
     "data": {
      "text/markdown": ""
     },
     "metadata": {}
    },
    {
     "output_type": "display_data",
     "data": {
      "text/markdown": ""
     },
     "metadata": {}
    }
   ],
   "metadata": {
    "dotnet_interactive": {
     "language": "fsharp"
    }
   }
  },
  {
   "cell_type": "markdown",
   "source": [
    "# Text on scatter plots with Graph Objects\r\n"
   ],
   "metadata": {}
  },
  {
   "cell_type": "code",
   "execution_count": null,
   "source": [
    "let x=[|0; 1; 2;|]\r\n",
    "[\r\n",
    "Chart.Scatter(x,[|1; 1; 1|], StyleParam.Mode.Lines, Name=\"Lines, Markers and Text\")\r\n",
    "// |> GenericChart.mapTrace(fun x -> \r\n",
    "//         x.SetValue(\"text\",[\r\n",
    "//              \"Text A\";\r\n",
    "//              \"Text B\";\r\n",
    "//              \"Text C\";\r\n",
    "//              ])   \r\n",
    "//         x)\r\n",
    "Chart.Scatter(x,[|2; 2; 2; 1|], StyleParam.Mode.Lines,Name=\"Markers and Text\")\r\n",
    " ]\r\n",
    "|> Chart.Combine"
   ],
   "outputs": [
    {
     "output_type": "display_data",
     "data": {
      "text/html": ""
     },
     "metadata": {}
    }
   ],
   "metadata": {
    "dotnet_interactive": {
     "language": "fsharp"
    }
   }
  },
  {
   "cell_type": "markdown",
   "source": [
    "# Text Annotations\r\n"
   ],
   "metadata": {}
  },
  {
   "cell_type": "code",
   "execution_count": null,
   "source": [
    "let x=[|0;1; 2; 3; 4; 5;6;7;8;|]\r\n",
    "let layout =\r\n",
    "    let temp = Layout()\r\n",
    "    temp?annotations <- [{|text = \"Text annotation with arrow\"; x = 2; y = 5;showarrow = true; arrowhead = 1|};\r\n",
    "                          {|text = \"Text annotation without arrow\"; x = 4; y = 4; showarrow = false ; arrowhead = 1|}]\r\n",
    "    temp\r\n",
    "[\r\n",
    "Chart.Scatter(x,[|0; 1; 3; 2; 4; 3; 4; 6; 5|], StyleParam.Mode.Lines, Showlegend=false)\r\n",
    "\r\n",
    "Chart.Scatter(x,[|0; 4; 5; 1; 2; 2; 3; 4; 2|], StyleParam.Mode.Lines, Showlegend=false)\r\n",
    "]\r\n",
    "|> Chart.Combine\r\n",
    "|> Chart.withLayout(layout)\r\n",
    "\r\n"
   ],
   "outputs": [
    {
     "output_type": "display_data",
     "data": {
      "text/html": ""
     },
     "metadata": {}
    }
   ],
   "metadata": {
    "dotnet_interactive": {
     "language": "fsharp"
    }
   }
  },
  {
   "cell_type": "markdown",
   "source": [
    "# 3D Annotations\r\n"
   ],
   "metadata": {}
  },
  {
   "cell_type": "code",
   "execution_count": null,
   "source": [
    "let x=[\"2017-01-01\"; \"2017-02-10\"; \"2017-03-20\"]\r\n",
    "let y=[\"A\"; \"B\"; \"C\"]\r\n",
    "let z=[1; 1000; 100000]\r\n",
    "\r\n",
    "let layout =\r\n",
    "    let temp = Layout()\r\n",
    "    temp?annotations <- [{|text = \"Point 1\";\r\n",
    "                         x = \"2017-01-01\";\r\n",
    "                         y = \"A\";\r\n",
    "                         z = 0; \r\n",
    "                        showarrow = false;\r\n",
    "                        arrowcolor=\"\";\r\n",
    "                        arrowsize=0;\r\n",
    "                        arrowwidth=0;\r\n",
    "                        arrowhead=0;\r\n",
    "                        xanchor=\"left\";\r\n",
    "                        yanchor=\"\";\r\n",
    "                        xshift=10;\r\n",
    "                        opacity=0.7|};\r\n",
    "\r\n",
    "                        {|text = \"Point 2\"; \r\n",
    "                        x = \"2017-02-10\"; \r\n",
    "                        y = \"B\";\r\n",
    "                        z = 4; \r\n",
    "                        showarrow = true;\r\n",
    "                        arrowcolor=\"black\";\r\n",
    "                        arrowsize=3;\r\n",
    "                        arrowwidth=1;\r\n",
    "                        arrowhead=1;\r\n",
    "                        xanchor=\"\";\r\n",
    "                        yanchor=\"\"; \r\n",
    "                        xshift=0;\r\n",
    "                        opacity=0.7 |};\r\n",
    "                        \r\n",
    "                        {|text = \"Point 3\";\r\n",
    "                        x = \"2017-03-20\";\r\n",
    "                        y = \"C\";\r\n",
    "                        z = 5;  \r\n",
    "                        showarrow = true;\r\n",
    "                        arrowcolor=\"black\";\r\n",
    "                        arrowsize=3;\r\n",
    "                        arrowwidth=1;\r\n",
    "                        arrowhead=1;\r\n",
    "                        xanchor=\"left\";\r\n",
    "                        yanchor=\"bottom\";\r\n",
    "                        xshift=0;\r\n",
    "                        opacity=0.7|};\r\n",
    "                        ]\r\n",
    "    temp                    // Issue to set arrow position on plots\r\n",
    "\r\n",
    "Chart.Scatter3d(x,y,z,StyleParam.Mode.Lines,Name=\"z\")\r\n",
    "\r\n",
    "|> Chart.withLayout(layout)"
   ],
   "outputs": [
    {
     "output_type": "display_data",
     "data": {
      "text/html": ""
     },
     "metadata": {}
    }
   ],
   "metadata": {
    "dotnet_interactive": {
     "language": "fsharp"
    }
   }
  },
  {
   "cell_type": "markdown",
   "source": [
    "# Customize Displayed Text with a Text Template\r\n"
   ],
   "metadata": {}
  },
  {
   "cell_type": "code",
   "execution_count": null,
   "source": [
    "let labels = [\"Wages\"; \"Operating expenses\"; \"Cost of sales\"; \"Insurance\"]\r\n",
    "let values = [40000000; 20000000; 30000000; 10000000]\r\n",
    "\r\n",
    "let layout = \r\n",
    "    let temp = Layout()\r\n",
    "    temp?hoverinfo <- \"label+percent\"\r\n",
    "    temp?textinfo <- \"value\"\r\n",
    "    temp?textfont_size <- 20\r\n",
    "    temp\r\n",
    "\r\n",
    "Chart.Pie(values=values,Labels=labels)  // Issue with values + percent displaying\r\n",
    "|> Chart.withLayout(layout)"
   ],
   "outputs": [
    {
     "output_type": "display_data",
     "data": {
      "text/html": ""
     },
     "metadata": {}
    }
   ],
   "metadata": {
    "dotnet_interactive": {
     "language": "fsharp"
    }
   }
  },
  {
   "cell_type": "markdown",
   "source": [
    "# Text Font as an Array - Styling Each Text Element\r\n"
   ],
   "metadata": {}
  },
  {
   "cell_type": "code",
   "execution_count": null,
   "source": [
    "let lat=[45.5; 43.4; 49.13; 51.1; 53.34; 45.24; 44.64; 48.25; 49.89; 50.45]\r\n",
    "let lon=[-73.57; -79.24; -123.06; -114.1; -113.28; -75.43; -63.57; -123.21; -97.13;104.6]\r\n",
    "let states=[\"Montreal\"; \"Toronto\"; \"Vancouver\"; \"Calgary\"; \"Edmonton\"; \"Ottawa\"; \"Halifax\";\r\n",
    "          \"Victoria\"; \"Winnepeg\"; \"Regina\"]\r\n",
    "\r\n",
    "let colors=[\"MidnightBlue\"; \"IndianRed\"; \"MediumPurple\"; \"Orange\"; \"Crimson\";\r\n",
    "            \"LightSeaGreen\"; \"RoyalBlue\"; \"LightSalmon\"; \"DarkOrange\"; \"MediumSlateBlue\"]\r\n",
    "\r\n",
    "let textposition=[\"top center\"; \"middle left\"; \"top center\"; \"bottom center\";\r\n",
    "                  \"top right\";\r\n",
    "                  \"middle left\"; \"bottom right\"; \"bottom left\"; \"top right\";\r\n",
    "                  \"top right\"]\r\n",
    "let N = 30\r\n",
    "let rnd = System.Random()\r\n",
    "let lataxis = Array.init N (fun _ -> rnd.Next(40, 70))\r\n",
    "let lonaxis = Array.init N (fun _ -> rnd.Next(-130, -55))\r\n",
    "\r\n",
    "\r\n",
    "let marker = Marker.init();\r\n",
    "marker?color <- colors\r\n",
    "marker?size <- 20\r\n",
    "\r\n",
    "let layout =  \r\n",
    "    let temp = Layout()   // Some circumvent\r\n",
    "    temp?textposition <- textposition   //  Issue with lataxis and lonaxis\r\n",
    "    temp?lataxis <- lataxis \r\n",
    "    temp?lonaxis <- lonaxis \r\n",
    "    temp?textposition <- textposition \r\n",
    "    temp\r\n",
    "\r\n",
    "Chart.ScatterGeo(lat,lon,StyleParam.Mode.Markers_Text,Labels=states)\r\n",
    "|> Chart.withTitle(title=\"Canadian cities\")\r\n",
    "|> Chart.withMarker(marker)\r\n",
    "|> Chart.withLayout(layout)\r\n"
   ],
   "outputs": [
    {
     "output_type": "display_data",
     "data": {
      "text/html": ""
     },
     "metadata": {}
    }
   ],
   "metadata": {
    "dotnet_interactive": {
     "language": "fsharp"
    }
   }
  },
  {
   "cell_type": "markdown",
   "source": [
    "# Set Date in Text Template\r\n"
   ],
   "metadata": {}
  },
  {
   "cell_type": "code",
   "execution_count": null,
   "source": [],
   "outputs": [],
   "metadata": {
    "dotnet_interactive": {
     "language": "fsharp"
    }
   }
  },
  {
   "cell_type": "code",
   "execution_count": null,
   "source": [
    "let x0 = [100; 60; 40; 20]\r\n",
    "let x1 =[90; 70; 50; 10]\r\n",
    "let y = [\"2018-01-01\"; \"2018-07-01\"; \"2019-01-01\"; \"2020-01-01\"]\r\n",
    "\r\n",
    "[   \r\n",
    "Chart.Funnel(x0,y,Name=\"Montreal\",Orientation=StyleParam.Orientation.Horizontal,Color=\"rgba(103, 102, 255,1)\" )\r\n",
    "Chart.Funnel(x1,y,Name=\"Vancouver\",Orientation=StyleParam.Orientation.Horizontal,Color=\"rgba(255, 70, 51, 1)\" )\r\n",
    "]\r\n",
    "|> Chart.Combine\r\n",
    "//|> Chart.withLayout(layout)"
   ],
   "outputs": [
    {
     "output_type": "display_data",
     "data": {
      "text/html": ""
     },
     "metadata": {}
    }
   ],
   "metadata": {
    "dotnet_interactive": {
     "language": "fsharp"
    }
   }
  }
 ],
 "nbformat": 4,
 "nbformat_minor": 2
}