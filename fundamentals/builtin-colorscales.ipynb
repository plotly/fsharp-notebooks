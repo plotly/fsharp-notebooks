{
 "cells": [
  {
   "cell_type": "code",
   "execution_count": null,
   "source": [
    "#r \"nuget: Plotly.NET,  2.0.0-preview.8\"\r\n",
    "#r \"nuget: Plotly.NET.Interactive,  2.0.0-preview.8\"\r\n",
    "    "
   ],
   "outputs": [
    {
     "output_type": "display_data",
     "data": {
      "text/html": ""
     },
     "metadata": {}
    },
    {
     "output_type": "display_data",
     "data": {
      "text/markdown": ""
     },
     "metadata": {}
    },
    {
     "output_type": "display_data",
     "data": {
      "text/markdown": ""
     },
     "metadata": {}
    }
   ],
   "metadata": {
    "dotnet_interactive": {
     "language": "fsharp"
    }
   }
  },
  {
   "cell_type": "markdown",
   "source": [
    "# Built-in and Custom color scales"
   ],
   "metadata": {}
  },
  {
   "cell_type": "code",
   "execution_count": null,
   "source": [
    "open Plotly.NET \r\n",
    "\r\n",
    "let matrix =\r\n",
    "    [[1.;1.5;0.7;2.7];\r\n",
    "    [2.;0.5;1.2;1.4];\r\n",
    "    [0.1;2.6;2.4;3.0];]\r\n",
    "\r\n",
    "let rownames = [\"p3\";\"p2\";\"p1\"]\r\n",
    "let colnames = [\"Tp0\";\"Tp30\";\"Tp60\";\"Tp160\"]\r\n",
    "\r\n",
    "let colorscaleValue = \r\n",
    "    StyleParam.Colorscale.Custom [(0.0,\"#3D9970\");(1.0,\"#001f3f\")] //StyleParam.Colorscale.Blackbody or StyleParam.Colorscale.Bluered etc\r\n",
    "\r\n",
    "Chart.Heatmap(\r\n",
    "    data=matrix,ColNames=colnames,RowNames=rownames,\r\n",
    "    Colorscale=colorscaleValue,\r\n",
    "    Showscale=true\r\n",
    ")\r\n",
    "|> Chart.withSize(700.,500.)\r\n",
    "|> Chart.withMarginSize(Left=200.)\r\n"
   ],
   "outputs": [
    {
     "output_type": "display_data",
     "data": {
      "text/html": ""
     },
     "metadata": {}
    }
   ],
   "metadata": {
    "dotnet_interactive": {
     "language": "fsharp"
    }
   }
  }
 ],
 "metadata": {
  "orig_nbformat": 4,
  "language_info": {
   "file_extension": ".cs",
   "mimetype": "text/x-csharp",
   "name": "C#",
   "pygments_lexer": "csharp",
   "version": "9.0"
  },
  "kernelspec": {
   "display_name": ".NET (C#)",
   "language": "C#",
   "name": ".net-csharp"
  }
 },
 "nbformat": 4,
 "nbformat_minor": 2
}