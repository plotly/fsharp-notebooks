{
 "cells": [
  {
   "cell_type": "code",
   "execution_count": null,
   "source": [
    "#r \"nuget: Plotly.NET, *-*\"\r\n",
    "#r \"nuget: Plotly.NET.Interactive, *-*\"\r\n",
    "    "
   ],
   "outputs": [
    {
     "output_type": "error",
     "ename": "Error",
     "evalue": "Plotly.NET version *-* cannot be added because version 2.0.0-preview.7 was added previously.",
     "traceback": [
      "Plotly.NET version *-* cannot be added because version 2.0.0-preview.7 was added previously."
     ]
    }
   ],
   "metadata": {
    "dotnet_interactive": {
     "language": "fsharp"
    }
   }
  },
  {
   "cell_type": "code",
   "execution_count": null,
   "source": [
    "\r\n",
    "open Plotly.NET\r\n",
    "\r\n",
    "let dims =\r\n",
    "    [\r\n",
    "        Dimensions.init([\"Cat1\";\"Cat1\";\"Cat1\";\"Cat1\";\"Cat2\";\"Cat2\";\"Cat3\"],Label=\"A\")\r\n",
    "        Dimensions.init([0;1;0;1;0;0;0],Label=\"B\",TickText=[\"YES\";\"NO\"])\r\n",
    "    ]\r\n",
    "\r\n",
    "Chart.Point()\r\n"
   ],
   "outputs": [
    {
     "data": {
      "text/html": [
       "<div id=\"18bcd67a-6df8-4de4-a229-d36d367b19f3\" style=\"width: 600px; height: 600px;\"><!-- Plotly chart will be drawn inside this DIV --></div>\r\n",
       "<script type=\"text/javascript\">\r\n",
       "\n",
       "            var renderPlotly_18bcd67a6df84de4a229d36d367b19f3 = function() {\n",
       "            var fsharpPlotlyRequire = requirejs.config({context:'fsharp-plotly',paths:{plotly:'https://cdn.plot.ly/plotly-latest.min'}}) || require;\n",
       "            fsharpPlotlyRequire(['plotly'], function(Plotly) {\r\n",
       "\n",
       "            var data = [{\"type\":\"parcats\",\"dimensions\":[{\"values\":[\"Cat1\",\"Cat1\",\"Cat1\",\"Cat1\",\"Cat2\",\"Cat2\",\"Cat3\"],\"label\":\"A\"},{\"values\":[0,1,0,1,0,0,0],\"label\":\"B\",\"ticktext\":[\"YES\",\"NO\"]}],\"color\":[0.0,1.0,0.0,1.0,0.0,0.0,0.0],\"line\":{\"colorscale\":\"Bluered\"}}];\n",
       "            var layout = {};\n",
       "            var config = {};\n",
       "            Plotly.newPlot('18bcd67a-6df8-4de4-a229-d36d367b19f3', data, layout, config);\r\n",
       "});\n",
       "            };\n",
       "            if ((typeof(requirejs) !==  typeof(Function)) || (typeof(requirejs.config) !== typeof(Function))) {\n",
       "                var script = document.createElement(\"script\");\n",
       "                script.setAttribute(\"src\", \"https://cdnjs.cloudflare.com/ajax/libs/require.js/2.3.6/require.min.js\");\n",
       "                script.onload = function(){\n",
       "                    renderPlotly_18bcd67a6df84de4a229d36d367b19f3();\n",
       "                };\n",
       "                document.getElementsByTagName(\"head\")[0].appendChild(script);\n",
       "            }\n",
       "            else {\n",
       "                renderPlotly_18bcd67a6df84de4a229d36d367b19f3();\n",
       "            }\r\n",
       "</script>\r\n"
      ]
     },
     "metadata": {},
     "output_type": "display_data"
    }
   ],
   "metadata": {
    "dotnet_interactive": {
     "language": "fsharp"
    }
   }
  }
 ],
 "metadata": {
  "orig_nbformat": 4,
  "language_info": {
   "file_extension": ".cs",
   "mimetype": "text/x-csharp",
   "name": "C#",
   "pygments_lexer": "csharp",
   "version": "9.0"
  },
  "kernelspec": {
   "display_name": ".NET (C#)",
   "language": "C#",
   "name": ".net-csharp"
  }
 },
 "nbformat": 4,
 "nbformat_minor": 2
}