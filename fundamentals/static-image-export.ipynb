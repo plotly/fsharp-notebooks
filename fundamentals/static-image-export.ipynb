{
 "metadata": {
  "kernelspec": {
   "display_name": ".NET (F#)",
   "language": "F#",
   "name": ".net-fsharp"
  },
  "language_info": {
   "name": "F#"
  }
 },
 "cells": [
  {
   "cell_type": "code",
   "execution_count": null,
   "source": [
    "#r \"nuget: Plotly.NET,  2.0.0-preview.8\"\r\n",
    "#r \"nuget: Plotly.NET.Interactive,  2.0.0-preview.8\"\r\n",
    "open Plotly.NET\r\n"
   ],
   "outputs": [
    {
     "data": {
      "text/html": [
       "<div><div></div><div></div><div><strong>Installed Packages</strong><ul><li><span>Plotly.NET, 2.0.0-preview.8</span></li><li><span>Plotly.NET.Interactive, 2.0.0-preview.8</span></li></ul></div></div>"
      ]
     },
     "metadata": {},
     "output_type": "display_data"
    },
    {
     "data": {
      "text/markdown": [
       "Loading extensions from `Plotly.NET.Interactive.dll`"
      ]
     },
     "metadata": {},
     "output_type": "display_data"
    },
    {
     "data": {
      "text/markdown": [
       "Added Kernel Extension including formatters for Plotly.NET charts."
      ]
     },
     "metadata": {},
     "output_type": "display_data"
    }
   ],
   "metadata": {
    "dotnet_interactive": {
     "language": "fsharp"
    }
   }
  },
  {
   "cell_type": "markdown",
   "source": [
    "# Create a Figure\r\n"
   ],
   "metadata": {}
  },
  {
   "cell_type": "code",
   "execution_count": null,
   "source": [
    "open Plotly.NET.TraceObjects\r\n",
    "let N = 100\r\n",
    "let rnd = System.Random()\r\n",
    "let x = Array.init N (fun _ -> rnd.NextDouble())\r\n",
    "let y = Array.init N (fun _ -> rnd.NextDouble())\r\n",
    "\r\n",
    "let marker = Marker.init(Size= 30,Colorscale=StyleParam.Colorscale.Viridis);\r\n",
    "marker?color <- x\r\n",
    "let scatter =\r\n",
    "  Chart.Scatter(x,y,StyleParam.Mode.Markers,Opacity=0.6)\r\n",
    "  |> Chart.withMarker(marker)\r\n",
    "  // |> Chart.withSize(800.,500.)\r\n"
   ],
   "outputs": [],
   "metadata": {
    "dotnet_interactive": {
     "language": "fsharp"
    }
   }
  },
  {
   "cell_type": "code",
   "execution_count": null,
   "source": [
    "scatter"
   ],
   "outputs": [
    {
     "data": {
      "text/html": [
       "<div id=\"16b95b9b-9816-4107-8083-bb7ef5d2f285\" style=\"width: 600px; height: 600px;\"><!-- Plotly chart will be drawn inside this DIV --></div>\r\n",
       "<script type=\"text/javascript\">\r\n",
       "\n",
       "            var renderPlotly_16b95b9b981641078083bb7ef5d2f285 = function() {\n",
       "            var fsharpPlotlyRequire = requirejs.config({context:'fsharp-plotly',paths:{plotly:'https://cdn.plot.ly/plotly-latest.min'}}) || require;\n",
       "            fsharpPlotlyRequire(['plotly'], function(Plotly) {\r\n",
       "\n",
       "            var data = [{\"type\":\"scatter\",\"mode\":\"markers\",\"x\":[0.3191547558266459,0.5643064652403381,0.7098421727818633,0.827785102104668,0.22915649983526976,0.49751286278362983,0.8583571784470031,0.3238288077171095,0.0744596538480649,0.1368695912588712,0.42048644061222973,0.7905871792652585,0.7005023149310157,0.09893025834994869,0.8372183734724383,0.9616988235906226,0.6632474775720609,0.7716589308211854,0.4361171519551972,0.910899250260973,0.35100500907330073,0.6770773500563005,0.4911014039493638,0.9733759448739588,0.8635059207973563,0.16444907158820382,0.06611919545853473,0.7233641318620015,0.437977653666389,0.3531437783283851,0.19737854888540626,0.8788703502523109,0.5168139895036882,0.986316877876556,0.5098732237284412,0.813123496162297,0.35983787260942063,0.76724437054584,0.7678307452089297,0.2125623334257688,0.29815833144735465,0.2212595786998326,0.2541351468554396,0.8397953509538413,0.7603451454827307,0.765046131687726,0.997128662186269,0.2884145403692567,0.10511524607665615,0.70825100024615,0.3455092657103712,0.6491860992504219,0.07043125250862504,0.5840137799196009,0.8413137322484114,0.6420774057703453,0.07320506129097429,0.7364662279079045,0.9642791813073117,0.06470742824706595,0.4313936673250951,0.13499304658500155,0.8858511540507205,0.7213158755196798,0.9394910423734649,0.5416160903599189,0.2737731897615703,0.7141854370544597,0.5890570346215074,0.0240948773101414,0.6018609509812021,0.8960031070262208,0.003828185612255794,0.22355481852942835,0.6127409188136184,0.12974543037346817,0.42294220320086096,0.6513060529955226,0.21303079939122815,0.09845978910963041,0.1673204094019348,0.7777046550892781,0.6182488857853454,0.729726653420239,0.0076345126180138966,0.5481924496349844,0.8084390977436858,0.9328002095840873,0.14500314562814456,0.8677958179580959,0.7399184348713227,0.6233716447015161,0.8029651892385283,0.7031233169618637,0.7811686661006737,0.16316528486235313,0.33540842464911214,0.5328192713357598,0.9003043085803764,0.21872905512281185],\"y\":[0.49127294192615567,0.28294322513180936,0.6993575057477492,0.08102036876651475,0.10639004926494791,0.4495061586841504,0.6453579136381661,0.8468764339791967,0.9712728611059827,0.7115683018749432,0.21913520256948435,0.42189900829545174,0.5234354285166763,0.8658193921976813,0.8973870188451312,0.653689012235817,0.5167441607996561,0.1561245006304814,0.713681362901666,0.3912985927384806,0.7331769926162329,0.34097298017748306,0.5691822914263152,0.7212612166634115,0.28417644243881873,0.978489306279686,0.09303791778769246,0.3007048686503921,0.4423861524287547,0.4495756339512652,0.7943370057243561,0.8901229318651012,0.7510017444151462,0.9943017442684163,0.6071868471834747,0.8843771842701255,0.07834714934152884,0.5372285170188307,0.6233366041552911,0.5581283539338635,0.9028345359968183,0.9615626637644892,0.9615273484781046,0.43343484375320135,0.6486606153886116,0.3180194265758709,0.09993621618483971,0.937145797040847,0.8057362981167325,0.12747965386485666,0.646421124062697,0.17928392401863072,0.8191379084340938,0.5090057158418958,0.4855520625065789,0.15029996174867263,0.7137609337054942,0.9780962890843378,0.7968439263276961,0.12790074298526194,0.3564682408964579,0.344653044987774,0.404490281550442,0.5216972271547174,0.9172312961505872,0.32901227070438316,0.6708972638803056,0.5291336842482601,0.25863254501420657,0.01300983457500573,0.5753418628942882,0.9795156437808255,0.5327878964751902,0.1555530089678024,0.4884640567416623,0.7716143288517437,0.37944563169937845,0.13574744767311375,0.07260060127479984,0.9661570158629478,0.8785530900948463,0.15589212074684544,0.49496857053365956,0.314906498563898,0.8031545098885682,0.6150530817057254,0.0709850234310073,0.24199602857325042,0.5087496817618374,0.4568868854348021,0.1706162505646312,0.10025086025719106,0.7403845906911346,0.4954358611700292,0.20166011303740558,0.5581814910090442,0.5570723822140472,0.43983012132338717,0.5162035476026142,0.3196483446842285],\"opacity\":0.6,\"line\":{},\"marker\":{\"size\":30,\"colorscale\":\"Viridis\",\"color\":[0.3191547558266459,0.5643064652403381,0.7098421727818633,0.827785102104668,0.22915649983526976,0.49751286278362983,0.8583571784470031,0.3238288077171095,0.0744596538480649,0.1368695912588712,0.42048644061222973,0.7905871792652585,0.7005023149310157,0.09893025834994869,0.8372183734724383,0.9616988235906226,0.6632474775720609,0.7716589308211854,0.4361171519551972,0.910899250260973,0.35100500907330073,0.6770773500563005,0.4911014039493638,0.9733759448739588,0.8635059207973563,0.16444907158820382,0.06611919545853473,0.7233641318620015,0.437977653666389,0.3531437783283851,0.19737854888540626,0.8788703502523109,0.5168139895036882,0.986316877876556,0.5098732237284412,0.813123496162297,0.35983787260942063,0.76724437054584,0.7678307452089297,0.2125623334257688,0.29815833144735465,0.2212595786998326,0.2541351468554396,0.8397953509538413,0.7603451454827307,0.765046131687726,0.997128662186269,0.2884145403692567,0.10511524607665615,0.70825100024615,0.3455092657103712,0.6491860992504219,0.07043125250862504,0.5840137799196009,0.8413137322484114,0.6420774057703453,0.07320506129097429,0.7364662279079045,0.9642791813073117,0.06470742824706595,0.4313936673250951,0.13499304658500155,0.8858511540507205,0.7213158755196798,0.9394910423734649,0.5416160903599189,0.2737731897615703,0.7141854370544597,0.5890570346215074,0.0240948773101414,0.6018609509812021,0.8960031070262208,0.003828185612255794,0.22355481852942835,0.6127409188136184,0.12974543037346817,0.42294220320086096,0.6513060529955226,0.21303079939122815,0.09845978910963041,0.1673204094019348,0.7777046550892781,0.6182488857853454,0.729726653420239,0.0076345126180138966,0.5481924496349844,0.8084390977436858,0.9328002095840873,0.14500314562814456,0.8677958179580959,0.7399184348713227,0.6233716447015161,0.8029651892385283,0.7031233169618637,0.7811686661006737,0.16316528486235313,0.33540842464911214,0.5328192713357598,0.9003043085803764,0.21872905512281185]}}];\n",
       "            var layout = {};\n",
       "            var config = {};\n",
       "            Plotly.newPlot('16b95b9b-9816-4107-8083-bb7ef5d2f285', data, layout, config);\r\n",
       "});\n",
       "            };\n",
       "            if ((typeof(requirejs) !==  typeof(Function)) || (typeof(requirejs.config) !== typeof(Function))) {\n",
       "                var script = document.createElement(\"script\");\n",
       "                script.setAttribute(\"src\", \"https://cdnjs.cloudflare.com/ajax/libs/require.js/2.3.6/require.min.js\");\n",
       "                script.onload = function(){\n",
       "                    renderPlotly_16b95b9b981641078083bb7ef5d2f285();\n",
       "                };\n",
       "                document.getElementsByTagName(\"head\")[0].appendChild(script);\n",
       "            }\n",
       "            else {\n",
       "                renderPlotly_16b95b9b981641078083bb7ef5d2f285();\n",
       "            }\r\n",
       "</script>\r\n"
      ]
     },
     "metadata": {},
     "output_type": "display_data"
    }
   ],
   "metadata": {
    "dotnet_interactive": {
     "language": "fsharp"
    }
   }
  },
  {
   "cell_type": "markdown",
   "source": [
    "# Write Image File\r\n"
   ],
   "metadata": {}
  },
  {
   "cell_type": "code",
   "execution_count": null,
   "source": [
    "open System.IO\r\n",
    "\r\n",
    "let srcPath=\"static/images/\"\r\n",
    "\r\n",
    "if not <| Directory.Exists(srcPath) then\r\n",
    "        Directory.CreateDirectory(srcPath) |> ignore    "
   ],
   "outputs": [],
   "metadata": {
    "dotnet_interactive": {
     "language": "fsharp"
    }
   }
  },
  {
   "cell_type": "markdown",
   "source": [
    "# Raster Formats: PNG, JPEG, SVG and PDF\r\n"
   ],
   "metadata": {}
  },
  {
   "cell_type": "code",
   "execution_count": null,
   "source": [
    "let fileName = \"fig1.png\";\r\n",
    "let imagePath = srcPath + fileName;\r\n",
    "let path = Path.Combine(imagePath);\r\n",
    "File.Create(path);"
   ],
   "outputs": [
    {
     "output_type": "error",
     "ename": "Error",
     "evalue": "System.IO.IOException: The process cannot access the file 'd:\\Projects\\Plotly_notebook\\fsharp-notebooks\\fundamentals\\static\\images\\fig1.png' because it is being used by another process.\r\n   at System.IO.FileStream.ValidateFileHandle(SafeFileHandle fileHandle)\r\n   at System.IO.FileStream.CreateFileOpenHandle(FileMode mode, FileShare share, FileOptions options)\r\n   at System.IO.FileStream..ctor(String path, FileMode mode, FileAccess access, FileShare share, Int32 bufferSize, FileOptions options)\r\n   at System.IO.FileStream..ctor(String path, FileMode mode, FileAccess access, FileShare share, Int32 bufferSize)\r\n   at System.IO.File.Create(String path)\r\n   at <StartupCode$FSI_0027>.$FSI_0027.main@()",
     "traceback": [
      "System.IO.IOException: The process cannot access the file 'd:\\Projects\\Plotly_notebook\\fsharp-notebooks\\fundamentals\\static\\images\\fig1.png' because it is being used by another process.\r\n",
      "   at System.IO.FileStream.ValidateFileHandle(SafeFileHandle fileHandle)\r\n",
      "   at System.IO.FileStream.CreateFileOpenHandle(FileMode mode, FileShare share, FileOptions options)\r\n",
      "   at System.IO.FileStream..ctor(String path, FileMode mode, FileAccess access, FileShare share, Int32 bufferSize, FileOptions options)\r\n",
      "   at System.IO.FileStream..ctor(String path, FileMode mode, FileAccess access, FileShare share, Int32 bufferSize)\r\n",
      "   at System.IO.File.Create(String path)\r\n",
      "   at <StartupCode$FSI_0027>.$FSI_0027.main@()"
     ]
    }
   ],
   "metadata": {
    "dotnet_interactive": {
     "language": "fsharp"
    }
   }
  },
  {
   "cell_type": "code",
   "execution_count": null,
   "source": [
    "let fileName = \"fig1.jpeg\";\r\n",
    "let imagePath = srcPath + fileName;\r\n",
    "let path = Path.Combine(imagePath);\r\n",
    "File.Create(path);"
   ],
   "outputs": [
    {
     "output_type": "error",
     "ename": "Error",
     "evalue": "System.IO.IOException: The process cannot access the file 'd:\\Projects\\Plotly_notebook\\fsharp-notebooks\\fundamentals\\static\\images\\fig1.jpeg' because it is being used by another process.\r\n   at System.IO.FileStream.ValidateFileHandle(SafeFileHandle fileHandle)\r\n   at System.IO.FileStream.CreateFileOpenHandle(FileMode mode, FileShare share, FileOptions options)\r\n   at System.IO.FileStream..ctor(String path, FileMode mode, FileAccess access, FileShare share, Int32 bufferSize, FileOptions options)\r\n   at System.IO.FileStream..ctor(String path, FileMode mode, FileAccess access, FileShare share, Int32 bufferSize)\r\n   at System.IO.File.Create(String path)\r\n   at <StartupCode$FSI_0022>.$FSI_0022.main@()",
     "traceback": [
      "System.IO.IOException: The process cannot access the file 'd:\\Projects\\Plotly_notebook\\fsharp-notebooks\\fundamentals\\static\\images\\fig1.jpeg' because it is being used by another process.\r\n",
      "   at System.IO.FileStream.ValidateFileHandle(SafeFileHandle fileHandle)\r\n",
      "   at System.IO.FileStream.CreateFileOpenHandle(FileMode mode, FileShare share, FileOptions options)\r\n",
      "   at System.IO.FileStream..ctor(String path, FileMode mode, FileAccess access, FileShare share, Int32 bufferSize, FileOptions options)\r\n",
      "   at System.IO.FileStream..ctor(String path, FileMode mode, FileAccess access, FileShare share, Int32 bufferSize)\r\n",
      "   at System.IO.File.Create(String path)\r\n",
      "   at <StartupCode$FSI_0022>.$FSI_0022.main@()"
     ]
    }
   ],
   "metadata": {
    "dotnet_interactive": {
     "language": "fsharp"
    }
   }
  },
  {
   "cell_type": "code",
   "execution_count": null,
   "source": [
    "let fileName = \"fig1.svg\";\r\n",
    "let imagePath = srcPath + fileName;\r\n",
    "let path = Path.Combine(imagePath);\r\n",
    "File.Create(path);"
   ],
   "outputs": [
    {
     "output_type": "error",
     "ename": "Error",
     "evalue": "System.IO.IOException: The process cannot access the file 'd:\\Projects\\Plotly_notebook\\fsharp-notebooks\\fundamentals\\static\\images\\fig1.svg' because it is being used by another process.\r\n   at System.IO.FileStream.ValidateFileHandle(SafeFileHandle fileHandle)\r\n   at System.IO.FileStream.CreateFileOpenHandle(FileMode mode, FileShare share, FileOptions options)\r\n   at System.IO.FileStream..ctor(String path, FileMode mode, FileAccess access, FileShare share, Int32 bufferSize, FileOptions options)\r\n   at System.IO.FileStream..ctor(String path, FileMode mode, FileAccess access, FileShare share, Int32 bufferSize)\r\n   at System.IO.File.Create(String path)\r\n   at <StartupCode$FSI_0023>.$FSI_0023.main@()",
     "traceback": [
      "System.IO.IOException: The process cannot access the file 'd:\\Projects\\Plotly_notebook\\fsharp-notebooks\\fundamentals\\static\\images\\fig1.svg' because it is being used by another process.\r\n",
      "   at System.IO.FileStream.ValidateFileHandle(SafeFileHandle fileHandle)\r\n",
      "   at System.IO.FileStream.CreateFileOpenHandle(FileMode mode, FileShare share, FileOptions options)\r\n",
      "   at System.IO.FileStream..ctor(String path, FileMode mode, FileAccess access, FileShare share, Int32 bufferSize, FileOptions options)\r\n",
      "   at System.IO.FileStream..ctor(String path, FileMode mode, FileAccess access, FileShare share, Int32 bufferSize)\r\n",
      "   at System.IO.File.Create(String path)\r\n",
      "   at <StartupCode$FSI_0023>.$FSI_0023.main@()"
     ]
    }
   ],
   "metadata": {
    "dotnet_interactive": {
     "language": "fsharp"
    }
   }
  },
  {
   "cell_type": "code",
   "execution_count": null,
   "source": [
    "let fileName = \"fig1.pdf\";\r\n",
    "let imagePath = srcPath + fileName;\r\n",
    "let path = Path.Combine(imagePath);\r\n",
    "File.Create(path);"
   ],
   "outputs": [
    {
     "output_type": "error",
     "ename": "Error",
     "evalue": "System.IO.IOException: The process cannot access the file 'd:\\Projects\\Plotly_notebook\\fsharp-notebooks\\fundamentals\\static\\images\\fig1.pdf' because it is being used by another process.\r\n   at System.IO.FileStream.ValidateFileHandle(SafeFileHandle fileHandle)\r\n   at System.IO.FileStream.CreateFileOpenHandle(FileMode mode, FileShare share, FileOptions options)\r\n   at System.IO.FileStream..ctor(String path, FileMode mode, FileAccess access, FileShare share, Int32 bufferSize, FileOptions options)\r\n   at System.IO.FileStream..ctor(String path, FileMode mode, FileAccess access, FileShare share, Int32 bufferSize)\r\n   at System.IO.File.Create(String path)\r\n   at <StartupCode$FSI_0024>.$FSI_0024.main@()",
     "traceback": [
      "System.IO.IOException: The process cannot access the file 'd:\\Projects\\Plotly_notebook\\fsharp-notebooks\\fundamentals\\static\\images\\fig1.pdf' because it is being used by another process.\r\n",
      "   at System.IO.FileStream.ValidateFileHandle(SafeFileHandle fileHandle)\r\n",
      "   at System.IO.FileStream.CreateFileOpenHandle(FileMode mode, FileShare share, FileOptions options)\r\n",
      "   at System.IO.FileStream..ctor(String path, FileMode mode, FileAccess access, FileShare share, Int32 bufferSize, FileOptions options)\r\n",
      "   at System.IO.FileStream..ctor(String path, FileMode mode, FileAccess access, FileShare share, Int32 bufferSize)\r\n",
      "   at System.IO.File.Create(String path)\r\n",
      "   at <StartupCode$FSI_0024>.$FSI_0024.main@()"
     ]
    }
   ],
   "metadata": {
    "dotnet_interactive": {
     "language": "fsharp"
    }
   }
  },
  {
   "cell_type": "markdown",
   "source": [
    "# Change Image Dimensions and Scale\r\n"
   ],
   "metadata": {}
  },
  {
   "cell_type": "markdown",
   "source": [
    "In addition to the image format, we can provide arguments to specify the image width and height in logical pixels. They also provide a scale parameter that can be used to increase (scale > 1) or decrease (scale < 1) the physical resolution of the resulting image."
   ],
   "metadata": {}
  },
  {
   "cell_type": "code",
   "execution_count": null,
   "source": [
    "let N = 100\r\n",
    "let rnd = System.Random()\r\n",
    "let x = Array.init N (fun _ -> rnd.NextDouble())\r\n",
    "let y = Array.init N (fun _ -> rnd.NextDouble())\r\n",
    "\r\n",
    "let marker = Marker.init(Size= 30,Colorscale=StyleParam.Colorscale.Viridis);\r\n",
    "marker?color <- x\r\n",
    "marker?scale <- 2\r\n",
    "\r\n",
    "let scatter =\r\n",
    "  Chart.Scatter(x,y,StyleParam.Mode.Markers)\r\n",
    "  |>Chart.withMarker(marker)\r\n",
    "  |> Chart.withSize(800.,500.)\r\n",
    "  |>Chart.showAsImage(StyleParam.ImageFormat.PNG)"
   ],
   "outputs": [],
   "metadata": {
    "dotnet_interactive": {
     "language": "fsharp"
    }
   }
  },
  {
   "cell_type": "code",
   "execution_count": null,
   "source": [
    "scatter"
   ],
   "outputs": [],
   "metadata": {
    "dotnet_interactive": {
     "language": "fsharp"
    }
   }
  },
  {
   "cell_type": "markdown",
   "source": [],
   "metadata": {}
  }
 ],
 "nbformat": 4,
 "nbformat_minor": 2
}