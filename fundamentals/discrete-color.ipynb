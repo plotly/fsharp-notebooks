{
 "cells": [
  {
   "cell_type": "code",
   "execution_count": null,
   "source": [
    "#r \"nuget: Plotly.NET,  2.0.0-preview.8\"\r\n",
    "#r \"nuget: Plotly.NET.Interactive,  2.0.0-preview.8\"\r\n",
    "\r\n",
    "#r \"nuget: Deedle\"\r\n",
    "#r \"nuget: FSharp.Data\""
   ],
   "outputs": [
    {
     "data": {
      "text/html": [
       "<div><div></div><div></div><div><strong>Installed Packages</strong><ul><li><span>Deedle, 2.4.3</span></li><li><span>FSharp.Data, 4.2.3</span></li><li><span>Plotly.NET, 2.0.0-preview.8</span></li><li><span>Plotly.NET.Interactive, 2.0.0-preview.8</span></li></ul></div></div>"
      ]
     },
     "metadata": {},
     "output_type": "display_data"
    },
    {
     "data": {
      "text/markdown": [
       "Loading extensions from `Plotly.NET.Interactive.dll`"
      ]
     },
     "metadata": {},
     "output_type": "display_data"
    },
    {
     "data": {
      "text/markdown": [
       "Added Kernel Extension including formatters for Plotly.NET charts."
      ]
     },
     "metadata": {},
     "output_type": "display_data"
    }
   ],
   "metadata": {
    "dotnet_interactive": {
     "language": "fsharp"
    }
   }
  },
  {
   "cell_type": "markdown",
   "source": [
    "color can be used to represent continuous or discrete data.\r\n",
    "Marker Color can be used to set discrete colors to individual points as shown in the below example. This page is about using color to represent categorical data using discrete colors, but Plotly can also represent continuous values with color."
   ],
   "metadata": {}
  },
  {
   "cell_type": "code",
   "execution_count": null,
   "source": [
    "open Deedle\r\n",
    "open FSharp.Data\r\n",
    "open Plotly.NET\r\n",
    "\r\n",
    "let data=\r\n",
    "    Http.RequestString \"https://raw.githubusercontent.com/plotly/datasets/master/tips.csv\"\r\n",
    "    |> fun csv -> Frame.ReadCsvString(csv,true,separators=\",\")\r\n",
    "    \r\n",
    "\r\n",
    "let getColumnData column=\r\n",
    "        data\r\n",
    "        |> Frame.getCol column\r\n",
    "        |> Series.values\r\n",
    "        |> Array.ofSeq\r\n",
    "\r\n",
    "let x  = [1.; 2.; 3.; 4.; 5.; 6.; 7.; 8.; 9.; 10.; ]\r\n",
    "let y = [2.; 1.5; 5.; 1.5; 3.; 2.5; 2.5; 1.5; 3.5; 1.]\r\n",
    "\r\n",
    "let colors = [\"red\"; \"magenta\"; \"yellow\"; \"blue\"; \"deeppink\";\r\n",
    "                \"orangered\"; \"black\"; \"gray\"; \"aliceblue\"; \"cyan\"]\r\n",
    "                |> Seq.map (fun c -> Color.fromString c)\r\n",
    "                |> Color.fromColors\r\n",
    "\r\n",
    "Chart.Point(x,y,Name=\"line\",Color=colors)  \r\n",
    "\r\n"
   ],
   "outputs": [
    {
     "data": {
      "text/html": [
       "<div id=\"a7ba748e-2f9e-4da6-8d3c-2d1ec1eb2a92\" style=\"width: 600px; height: 600px;\"><!-- Plotly chart will be drawn inside this DIV --></div>\r\n",
       "<script type=\"text/javascript\">\r\n",
       "\n",
       "            var renderPlotly_a7ba748e2f9e4da68d3c2d1ec1eb2a92 = function() {\n",
       "            var fsharpPlotlyRequire = requirejs.config({context:'fsharp-plotly',paths:{plotly:'https://cdn.plot.ly/plotly-latest.min'}}) || require;\n",
       "            fsharpPlotlyRequire(['plotly'], function(Plotly) {\r\n",
       "\n",
       "            var data = [{\"type\":\"scatter\",\"mode\":\"markers\",\"x\":[1.0,2.0,3.0,4.0,5.0,6.0,7.0,8.0,9.0,10.0],\"y\":[2.0,1.5,5.0,1.5,3.0,2.5,2.5,1.5,3.5,1.0],\"name\":\"line\",\"marker\":{\"color\":[\"red\",\"magenta\",\"yellow\",\"blue\",\"deeppink\",\"orangered\",\"black\",\"gray\",\"aliceblue\",\"cyan\"]}}];\n",
       "            var layout = {};\n",
       "            var config = {};\n",
       "            Plotly.newPlot('a7ba748e-2f9e-4da6-8d3c-2d1ec1eb2a92', data, layout, config);\r\n",
       "});\n",
       "            };\n",
       "            if ((typeof(requirejs) !==  typeof(Function)) || (typeof(requirejs.config) !== typeof(Function))) {\n",
       "                var script = document.createElement(\"script\");\n",
       "                script.setAttribute(\"src\", \"https://cdnjs.cloudflare.com/ajax/libs/require.js/2.3.6/require.min.js\");\n",
       "                script.onload = function(){\n",
       "                    renderPlotly_a7ba748e2f9e4da68d3c2d1ec1eb2a92();\n",
       "                };\n",
       "                document.getElementsByTagName(\"head\")[0].appendChild(script);\n",
       "            }\n",
       "            else {\n",
       "                renderPlotly_a7ba748e2f9e4da68d3c2d1ec1eb2a92();\n",
       "            }\r\n",
       "</script>\r\n"
      ]
     },
     "metadata": {},
     "output_type": "display_data"
    }
   ],
   "metadata": {
    "dotnet_interactive": {
     "language": "fsharp"
    }
   }
  },
  {
   "cell_type": "code",
   "execution_count": null,
   "source": [
    "open Plotly.NET.TraceObjects\r\n",
    "\r\n",
    "let x=[1; 2; 3; 4]\r\n",
    "let y=[10; 11; 12; 13]\r\n",
    "\r\n",
    "let colors = \r\n",
    "    [\"rgb(160, 164, 214)\"; \"rgb(255, 144, 14)\";  \"rgb(44, 160, 101)\"; \"rgb(255, 65, 54)\"]\r\n",
    "    |> Seq.map (fun c -> Color.fromString(c))\r\n",
    "    |> Color.fromColors\r\n",
    "\r\n",
    "let marker = Marker.init(Color=colors)\r\n",
    "\r\n",
    "Chart.Scatter(x,y,StyleParam.Mode.Markers)\r\n",
    "    |> Chart.withMarker(marker)"
   ],
   "outputs": [
    {
     "data": {
      "text/html": [
       "<div id=\"94c5903b-08e0-45fd-b002-0b08d4ff788a\" style=\"width: 600px; height: 600px;\"><!-- Plotly chart will be drawn inside this DIV --></div>\r\n",
       "<script type=\"text/javascript\">\r\n",
       "\n",
       "            var renderPlotly_94c5903b08e045fdb0020b08d4ff788a = function() {\n",
       "            var fsharpPlotlyRequire = requirejs.config({context:'fsharp-plotly',paths:{plotly:'https://cdn.plot.ly/plotly-latest.min'}}) || require;\n",
       "            fsharpPlotlyRequire(['plotly'], function(Plotly) {\r\n",
       "\n",
       "            var data = [{\"type\":\"scatter\",\"mode\":\"markers\",\"x\":[1,2,3,4],\"y\":[10,11,12,13],\"line\":{},\"marker\":{\"color\":[\"rgb(160, 164, 214)\",\"rgb(255, 144, 14)\",\"rgb(44, 160, 101)\",\"rgb(255, 65, 54)\"]}}];\n",
       "            var layout = {};\n",
       "            var config = {};\n",
       "            Plotly.newPlot('94c5903b-08e0-45fd-b002-0b08d4ff788a', data, layout, config);\r\n",
       "});\n",
       "            };\n",
       "            if ((typeof(requirejs) !==  typeof(Function)) || (typeof(requirejs.config) !== typeof(Function))) {\n",
       "                var script = document.createElement(\"script\");\n",
       "                script.setAttribute(\"src\", \"https://cdnjs.cloudflare.com/ajax/libs/require.js/2.3.6/require.min.js\");\n",
       "                script.onload = function(){\n",
       "                    renderPlotly_94c5903b08e045fdb0020b08d4ff788a();\n",
       "                };\n",
       "                document.getElementsByTagName(\"head\")[0].appendChild(script);\n",
       "            }\n",
       "            else {\n",
       "                renderPlotly_94c5903b08e045fdb0020b08d4ff788a();\n",
       "            }\r\n",
       "</script>\r\n"
      ]
     },
     "metadata": {},
     "output_type": "display_data"
    }
   ],
   "metadata": {
    "dotnet_interactive": {
     "language": "fsharp"
    }
   }
  }
 ],
 "metadata": {
  "orig_nbformat": 4,
  "language_info": {
   "file_extension": ".cs",
   "mimetype": "text/x-csharp",
   "name": "C#",
   "pygments_lexer": "csharp",
   "version": "9.0"
  },
  "kernelspec": {
   "display_name": ".NET (C#)",
   "language": "C#",
   "name": ".net-csharp"
  }
 },
 "nbformat": 4,
 "nbformat_minor": 2
}