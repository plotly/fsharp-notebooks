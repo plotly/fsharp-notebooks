{
 "cells": [
  {
   "cell_type": "code",
   "execution_count": null,
   "source": [
    "#r \"nuget: Plotly.NET, *-*\"\r\n",
    "#r \"nuget: Plotly.NET.Interactive, *-*\""
   ],
   "outputs": [
    {
     "data": {
      "text/html": [
       "<div><div></div><div></div><div><strong>Installed Packages</strong><ul><li><span>Plotly.NET, 2.0.0-preview.7</span></li><li><span>Plotly.NET.Interactive, 2.0.0-preview.7</span></li></ul></div></div>"
      ]
     },
     "metadata": {},
     "output_type": "display_data"
    },
    {
     "data": {
      "text/markdown": [
       "Loading extensions from `Plotly.NET.Interactive.dll`"
      ]
     },
     "metadata": {},
     "output_type": "display_data"
    },
    {
     "data": {
      "text/markdown": [
       "Added Kernel Extension including formatters for Plotly.NET charts."
      ]
     },
     "metadata": {},
     "output_type": "display_data"
    }
   ],
   "metadata": {
    "dotnet_interactive": {
     "language": "fsharp"
    }
   }
  },
  {
   "cell_type": "markdown",
   "source": [
    "# Lines"
   ],
   "metadata": {}
  },
  {
   "cell_type": "code",
   "execution_count": null,
   "source": [
    "open System\r\n",
    "open Plotly.NET\r\n",
    "\r\n",
    "let rand = new Random()\r\n",
    "\r\n",
    "let x  = [for i in 0..20 -> i]\r\n",
    "let y = [for i in 0..20 -> Math.Sin(float(i))]\r\n",
    "\r\n",
    "let lines = [\r\n",
    "        Shape.init(StyleParam.ShapeType.Line,0,5.,0.5,0.5,Line=Line.init(Color=\"red\"));\r\n",
    "        Shape.init(StyleParam.ShapeType.Line,5,10.,-0.5,-0.5,Line=Line.init(Color=\"green\"));\r\n",
    "        Shape.init(StyleParam.ShapeType.Line,10,15.,1,1,Line=Line.init(Color=\"orange\"));\r\n",
    "        Shape.init(StyleParam.ShapeType.Line,15,20.,-1,-1,Line=Line.init(Color=\"blue\")) ]\r\n",
    "\r\n",
    "Chart.Line(x,y)\r\n",
    "|> Chart.withShapes lines"
   ],
   "outputs": [
    {
     "data": {
      "text/html": [
       "<div id=\"abd832d4-3b5f-4892-b434-6ffbf1b7f800\" style=\"width: 600px; height: 600px;\"><!-- Plotly chart will be drawn inside this DIV --></div>\r\n",
       "<script type=\"text/javascript\">\r\n",
       "\n",
       "            var renderPlotly_abd832d43b5f4892b4346ffbf1b7f800 = function() {\n",
       "            var fsharpPlotlyRequire = requirejs.config({context:'fsharp-plotly',paths:{plotly:'https://cdn.plot.ly/plotly-latest.min'}}) || require;\n",
       "            fsharpPlotlyRequire(['plotly'], function(Plotly) {\r\n",
       "\n",
       "            var data = [{\"type\":\"scatter\",\"x\":[0,1,2,3,4,5,6,7,8,9,10,11,12,13,14,15,16,17,18,19,20],\"y\":[0.0,0.8414709848078965,0.9092974268256817,0.1411200080598672,-0.7568024953079282,-0.9589242746631385,-0.27941549819892586,0.6569865987187891,0.9893582466233818,0.4121184852417566,-0.5440211108893698,-0.9999902065507035,-0.5365729180004349,0.4201670368266409,0.9906073556948704,0.6502878401571168,-0.2879033166650653,-0.9613974918795568,-0.7509872467716762,0.14987720966295234,0.9129452507276277],\"mode\":\"lines\",\"line\":{},\"marker\":{}}];\n",
       "            var layout = {\"shapes\":[{\"type\":\"line\",\"x0\":0,\"x1\":5.0,\"y0\":0.5,\"y1\":0.5,\"line\":{\"color\":\"red\"}},{\"type\":\"line\",\"x0\":5,\"x1\":10.0,\"y0\":-0.5,\"y1\":-0.5,\"line\":{\"color\":\"green\"}},{\"type\":\"line\",\"x0\":10,\"x1\":15.0,\"y0\":1,\"y1\":1,\"line\":{\"color\":\"orange\"}},{\"type\":\"line\",\"x0\":15,\"x1\":20.0,\"y0\":-1,\"y1\":-1,\"line\":{\"color\":\"blue\"}}]};\n",
       "            var config = {};\n",
       "            Plotly.newPlot('abd832d4-3b5f-4892-b434-6ffbf1b7f800', data, layout, config);\r\n",
       "});\n",
       "            };\n",
       "            if ((typeof(requirejs) !==  typeof(Function)) || (typeof(requirejs.config) !== typeof(Function))) {\n",
       "                var script = document.createElement(\"script\");\n",
       "                script.setAttribute(\"src\", \"https://cdnjs.cloudflare.com/ajax/libs/require.js/2.3.6/require.min.js\");\n",
       "                script.onload = function(){\n",
       "                    renderPlotly_abd832d43b5f4892b4346ffbf1b7f800();\n",
       "                };\n",
       "                document.getElementsByTagName(\"head\")[0].appendChild(script);\n",
       "            }\n",
       "            else {\n",
       "                renderPlotly_abd832d43b5f4892b4346ffbf1b7f800();\n",
       "            }\r\n",
       "</script>\r\n"
      ]
     },
     "metadata": {},
     "output_type": "display_data"
    }
   ],
   "metadata": {
    "dotnet_interactive": {
     "language": "fsharp"
    }
   }
  }
 ],
 "metadata": {
  "orig_nbformat": 4,
  "language_info": {
   "file_extension": ".cs",
   "mimetype": "text/x-csharp",
   "name": "C#",
   "pygments_lexer": "csharp",
   "version": "9.0"
  },
  "kernelspec": {
   "display_name": ".NET (C#)",
   "language": "C#",
   "name": ".net-csharp"
  }
 },
 "nbformat": 4,
 "nbformat_minor": 2
}