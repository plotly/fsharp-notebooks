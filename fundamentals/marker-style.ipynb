{
 "cells": [
  {
   "cell_type": "code",
   "execution_count": null,
   "source": [
    "#r \"nuget: Plotly.NET,  2.0.0-preview.8\"\r\n",
    "#r \"nuget: Plotly.NET.Interactive,  2.0.0-preview.8\"\r\n"
   ],
   "outputs": [
    {
     "data": {
      "text/html": [
       "<div><div></div><div></div><div><strong>Installed Packages</strong><ul><li><span>Plotly.NET, 2.0.0-preview.8</span></li><li><span>Plotly.NET.Interactive, 2.0.0-preview.8</span></li></ul></div></div>"
      ]
     },
     "metadata": {},
     "output_type": "display_data"
    },
    {
     "data": {
      "text/markdown": [
       "Loading extensions from `Plotly.NET.Interactive.dll`"
      ]
     },
     "metadata": {},
     "output_type": "display_data"
    },
    {
     "data": {
      "text/markdown": [
       "Added Kernel Extension including formatters for Plotly.NET charts."
      ]
     },
     "metadata": {},
     "output_type": "display_data"
    }
   ],
   "metadata": {
    "dotnet_interactive": {
     "language": "fsharp"
    }
   }
  },
  {
   "cell_type": "markdown",
   "source": [
    "# Add Marker Border"
   ],
   "metadata": {}
  },
  {
   "cell_type": "markdown",
   "source": [
    "In order to make markers distinct, you can add a border to the markers"
   ],
   "metadata": {}
  },
  {
   "cell_type": "code",
   "execution_count": null,
   "source": [
    "\r\n",
    "open Plotly.NET\r\n",
    "\r\n",
    "let x  = [1.; 2.; 3.; 4.; 5.; 6.; 7.; 8.; 9.; 10.; ]\r\n",
    "let y1 = [2.; 1.5; 5.; 1.5; 3.; 2.5; 2.5; 1.5; 3.5; 1.]\r\n",
    "let y2 = [1.; 2.5; 4.; 2.5; 4.; 6.5; 3.5; 5.5; 4.5; 6.]\r\n",
    "\r\n",
    "[\r\n",
    "    Chart.Point(x,y1,Name=\"plot-1\") |> Chart.withMarkerStyle(Size=10,Color=Color.fromString \"deeppink\",Symbol=StyleParam.Symbol.Cross);\r\n",
    "    Chart.Point(x,y2,Name=\"plot-2\") |> Chart.withMarkerStyle(Size=20,Color=Color.fromString \"blue\",Symbol=StyleParam.Symbol.Diamond)\r\n",
    "]\r\n",
    "|> Chart.combine"
   ],
   "outputs": [
    {
     "output_type": "error",
     "ename": "Error",
     "evalue": "input.fsx (9,76)-(9,86) typecheck error The type 'string' is not compatible with the type 'Color'\ninput.fsx (9,76)-(9,86) typecheck error Type constraint mismatch. The type \n    'string'    \nis not compatible with type\n    'Color'    \n\ninput.fsx (10,76)-(10,82) typecheck error The type 'string' is not compatible with the type 'Color'\ninput.fsx (10,76)-(10,82) typecheck error Type constraint mismatch. The type \n    'string'    \nis not compatible with type\n    'Color'    \n",
     "traceback": [
      "input.fsx (9,76)-(9,86) typecheck error The type 'string' is not compatible with the type 'Color'\n",
      "input.fsx (9,76)-(9,86) typecheck error Type constraint mismatch. The type \n",
      "    'string'    \n",
      "is not compatible with type\n",
      "    'Color'    \n",
      "\n",
      "input.fsx (10,76)-(10,82) typecheck error The type 'string' is not compatible with the type 'Color'\n",
      "input.fsx (10,76)-(10,82) typecheck error Type constraint mismatch. The type \n",
      "    'string'    \n",
      "is not compatible with type\n",
      "    'Color'    \n"
     ]
    }
   ],
   "metadata": {
    "dotnet_interactive": {
     "language": "fsharp"
    }
   }
  },
  {
   "cell_type": "markdown",
   "source": [
    "# Marker Opacity"
   ],
   "metadata": {}
  },
  {
   "cell_type": "markdown",
   "source": [
    "To maximise visibility of density, it is recommended to set the opacity inside the marker marker:{opacity:0.5}. If mulitple traces exist with high density, consider using marker opacity in conjunction with trace opacity."
   ],
   "metadata": {}
  },
  {
   "cell_type": "code",
   "execution_count": null,
   "source": [
    "open Plotly.NET\r\n",
    "open System\r\n",
    "open Plotly.NET.TraceObjects\r\n",
    "\r\n",
    "let rand = new Random()\r\n",
    "\r\n",
    "let x  = [for i in 0..100 -> 100+i]\r\n",
    "let y1 = [for i in 0..100 -> rand.NextDouble()]\r\n",
    "let y2 = [for i in 0..100 -> rand.NextDouble()]\r\n",
    "\r\n",
    "[\r\n",
    "    Chart.Point([for i in 0..2 -> 50+i],[0.5;0.8],Name=\"plot-1\",ShowLegend=false) |> Chart.withMarker(Marker.init(Size=150,Color=Color.fromString \"green\",Opacity=0.5, Symbol=StyleParam.Symbol.Circle,Line=Line.init(Width=10.,Color=Color.fromString \"red\")));\r\n",
    "    Chart.Point(x,y1,Name=\"plot-2\",ShowLegend=false) |> Chart.withMarkerStyle(Size=25,Color=Color.fromString \"deeppink\",Opacity=0.5, Symbol=StyleParam.Symbol.Circle);\r\n",
    "    Chart.Point(x,y2,Name=\"plot-3\",ShowLegend=false) |> Chart.withMarkerStyle(Size=25,Color=Color.fromString \"blue\",Opacity=0.5, Symbol=StyleParam.Symbol.Circle)\r\n",
    "]\r\n",
    "|> Chart.combine"
   ],
   "outputs": [
    {
     "data": {
      "text/html": [
       "<div id=\"ac1cde8b-bca7-43f6-8adc-f713e1a26878\" style=\"width: 600px; height: 600px;\"><!-- Plotly chart will be drawn inside this DIV --></div>\r\n",
       "<script type=\"text/javascript\">\r\n",
       "\n",
       "            var renderPlotly_ac1cde8bbca743f68adcf713e1a26878 = function() {\n",
       "            var fsharpPlotlyRequire = requirejs.config({context:'fsharp-plotly',paths:{plotly:'https://cdn.plot.ly/plotly-latest.min'}}) || require;\n",
       "            fsharpPlotlyRequire(['plotly'], function(Plotly) {\r\n",
       "\n",
       "            var data = [{\"type\":\"scatter\",\"mode\":\"markers\",\"x\":[50,51,52],\"y\":[0.5,0.8],\"name\":\"plot-1\",\"showlegend\":false,\"marker\":{\"size\":150,\"color\":\"green\",\"symbol\":0,\"opacity\":0.5,\"line\":{\"color\":\"red\",\"width\":10.0}}},{\"type\":\"scatter\",\"mode\":\"markers\",\"x\":[100,101,102,103,104,105,106,107,108,109,110,111,112,113,114,115,116,117,118,119,120,121,122,123,124,125,126,127,128,129,130,131,132,133,134,135,136,137,138,139,140,141,142,143,144,145,146,147,148,149,150,151,152,153,154,155,156,157,158,159,160,161,162,163,164,165,166,167,168,169,170,171,172,173,174,175,176,177,178,179,180,181,182,183,184,185,186,187,188,189,190,191,192,193,194,195,196,197,198,199,200],\"y\":[0.8261770456219917,0.058677017716074836,0.441930752453362,0.9522265936025542,0.1275986070407548,0.42992201234676036,0.09692454435719389,0.5415906219471203,0.6829145381613236,0.01617199788623117,0.5287679073069095,0.8212826213898522,0.39875214705185597,0.8949612793023518,0.4063207560248304,0.5103023739113949,0.45238798505272154,0.4921015913095798,0.004078722560814919,0.725182718935042,0.986104642034557,0.6404608519004942,0.9021453754520721,0.02282107762192426,0.8241775896512799,0.5672116035442853,0.7728253043130158,0.3291163269100321,0.266343438190568,0.6190502348444659,0.888055345457073,0.37878891284521155,0.9770049862456531,0.9840547107085841,0.8508432981794901,0.9441796098575832,0.37031915521729697,0.30325169363210525,0.9010084545710163,0.7688654036116159,0.7468796445740757,0.09445427222850465,0.21537340442434577,0.5802660382260876,0.5766756895820963,0.882786873207794,0.9938928112359219,0.2697754182246399,0.3305454511803321,0.13928308065015965,0.33076909944916566,0.1754409690273185,0.3719082634765228,0.5083273251114074,0.6641190734990495,0.18571619372149753,0.15653164226400276,0.41910967483143774,0.12804900395127433,0.5603870034964694,0.6570967080337445,0.7678082174471618,0.27524718375655227,0.0638643033168578,0.12811665242915818,0.149978994461698,0.8442776351441991,0.41469743634327194,0.04411798112286161,0.46214114616724716,0.13998321869409794,0.14913629142061635,0.5910931367385635,0.23521331894919897,0.9783030743609662,0.8916503698060524,0.42508744747614835,0.3218793372259845,0.446145388039828,0.9413907164434859,0.5733187923083635,0.5030498860883759,0.9985708757297,0.12706035754040831,0.28828113539530015,0.7126143764297544,0.006880649368688766,0.46867766113424564,0.3199356372095345,0.6651271044579926,0.7876479675935805,0.9512094803858593,0.1752026896808309,0.3406214510745469,0.11176869557787138,0.979071427126914,0.8192070884719524,0.15150910110748797,0.4521493857969294,0.42669669512039826,0.0385092380635949],\"name\":\"plot-2\",\"showlegend\":false,\"marker\":{\"size\":25,\"color\":\"deeppink\",\"symbol\":0,\"opacity\":0.5}},{\"type\":\"scatter\",\"mode\":\"markers\",\"x\":[100,101,102,103,104,105,106,107,108,109,110,111,112,113,114,115,116,117,118,119,120,121,122,123,124,125,126,127,128,129,130,131,132,133,134,135,136,137,138,139,140,141,142,143,144,145,146,147,148,149,150,151,152,153,154,155,156,157,158,159,160,161,162,163,164,165,166,167,168,169,170,171,172,173,174,175,176,177,178,179,180,181,182,183,184,185,186,187,188,189,190,191,192,193,194,195,196,197,198,199,200],\"y\":[0.5791953748926498,0.22565743710177832,0.868404305013085,0.9992998619560617,0.18163280802854934,0.584347832288755,0.1366949445273238,0.5300242507504412,0.7724687036929972,0.7606287462453492,0.8346523050380183,0.9729642867916097,0.1866582875077884,0.987068211188106,0.1540468219453687,0.7692373417174617,0.14818682621614393,0.7755831679215577,0.4155022759994037,0.14309834509300923,0.37559997400995343,0.09476179913373747,0.37899087666486897,0.6744931785736666,0.18877373830823868,0.9739336017397855,0.2504716856640166,0.12344462337132758,0.9992316472340522,0.07244328133409995,0.2735783463686604,0.8697299514290551,0.019448692919429713,0.902881478379891,0.9941234174157136,0.2773924489865976,0.1301665707166151,0.12776049558434657,0.10664832736675084,0.12826654414099947,0.8701857048413649,0.9386534103838045,0.5474669335165373,0.9044983582126435,0.9529956625555622,0.9782451935942496,0.9885444021730425,0.35355323988644094,0.9577218736325027,0.20983408540945225,0.6710202622558085,0.3759259331859303,0.03664710979752574,0.28359835002738903,0.6629092640536415,0.4844335757589124,0.8466665604369094,0.19391112643941824,0.8105261236478231,0.20769920628876387,0.3338761466247384,0.013250321155996211,0.530792603516389,0.7000254223588972,0.4870503998766888,0.9649223536089633,0.95351559387218,0.2837768091278974,0.9929447937723923,0.8766543729587711,0.6390707710008466,0.020426330631797357,0.6689348405548068,0.28723573185840423,0.27291264025164425,0.436946563626149,0.5472948656172002,0.4744925184522255,0.7214975160181045,0.21052854471398916,0.985389199566743,0.8969184457775757,0.1657227497388249,0.7893975618246,0.4014230190782915,0.89765241318273,0.8330828416315293,0.7358503428920407,0.23997221432624954,0.5096898416568012,0.43072588854968824,0.9362554442771969,0.31723437193652354,0.898949121077987,0.7943903975162611,0.8569353836853688,0.40786080686741544,0.84744151115764,0.41744795833595466,0.988073308946599,0.024729599722069503],\"name\":\"plot-3\",\"showlegend\":false,\"marker\":{\"size\":25,\"color\":\"blue\",\"symbol\":0,\"opacity\":0.5}}];\n",
       "            var layout = {};\n",
       "            var config = {};\n",
       "            Plotly.newPlot('ac1cde8b-bca7-43f6-8adc-f713e1a26878', data, layout, config);\r\n",
       "});\n",
       "            };\n",
       "            if ((typeof(requirejs) !==  typeof(Function)) || (typeof(requirejs.config) !== typeof(Function))) {\n",
       "                var script = document.createElement(\"script\");\n",
       "                script.setAttribute(\"src\", \"https://cdnjs.cloudflare.com/ajax/libs/require.js/2.3.6/require.min.js\");\n",
       "                script.onload = function(){\n",
       "                    renderPlotly_ac1cde8bbca743f68adcf713e1a26878();\n",
       "                };\n",
       "                document.getElementsByTagName(\"head\")[0].appendChild(script);\n",
       "            }\n",
       "            else {\n",
       "                renderPlotly_ac1cde8bbca743f68adcf713e1a26878();\n",
       "            }\r\n",
       "</script>\r\n"
      ]
     },
     "metadata": {},
     "output_type": "display_data"
    }
   ],
   "metadata": {
    "dotnet_interactive": {
     "language": "fsharp"
    }
   }
  },
  {
   "cell_type": "markdown",
   "source": [
    "# Color Opacity"
   ],
   "metadata": {}
  },
  {
   "cell_type": "markdown",
   "source": [
    "To maximise visibility of each point, set the color opacity by using alpha: marker:{color: 'rgba(0,0,0,0.5)'}. Here, the marker line will remain opaque."
   ],
   "metadata": {}
  },
  {
   "cell_type": "code",
   "execution_count": null,
   "source": [
    "open Plotly.NET\r\n",
    "open System\r\n",
    "\r\n",
    "let rand = new Random()\r\n",
    "\r\n",
    "let x  = [for i in 0..100 -> 100+i]\r\n",
    "let y1 = [for i in 0..100 -> rand.NextDouble()]\r\n",
    "let y2 = [for i in 0..100 -> rand.NextDouble()]\r\n",
    "\r\n",
    "[\r\n",
    "    Chart.Point([for i in 0..2 -> 50+i],[0.5;0.8],Name=\"plot-1\",ShowLegend=false) |> Chart.withMarker(Marker.init(Size=150,Color=Color.fromString \"rgba(17, 157, 255,0.5)\",Opacity=0.5, Symbol=StyleParam.Symbol.Circle,Line=Line.init(Width=10.,Color=Color.fromString \"red\")));\r\n",
    "    Chart.Point(x,y1,Name=\"plot-2\",ShowLegend=false) |> Chart.withMarkerStyle(Size=25,Color=Color.fromString \"rgba(17, 157, 255,0.5)\",Opacity=0.5, Symbol=StyleParam.Symbol.Circle);\r\n",
    "    Chart.Point(x,y2,Name=\"plot-3\",ShowLegend=false) |> Chart.withMarkerStyle(Size=25,Color=Color.fromString \"rgba(17, 157, 255,0.5)\",Opacity=0.5, Symbol=StyleParam.Symbol.Circle)\r\n",
    "]\r\n",
    "|> Chart.combine"
   ],
   "outputs": [
    {
     "data": {
      "text/html": [
       "<div id=\"250b788b-5bec-4634-a213-38e30c87ed41\" style=\"width: 600px; height: 600px;\"><!-- Plotly chart will be drawn inside this DIV --></div>\r\n",
       "<script type=\"text/javascript\">\r\n",
       "\n",
       "            var renderPlotly_250b788b5bec4634a21338e30c87ed41 = function() {\n",
       "            var fsharpPlotlyRequire = requirejs.config({context:'fsharp-plotly',paths:{plotly:'https://cdn.plot.ly/plotly-latest.min'}}) || require;\n",
       "            fsharpPlotlyRequire(['plotly'], function(Plotly) {\r\n",
       "\n",
       "            var data = [{\"type\":\"scatter\",\"mode\":\"markers\",\"x\":[50,51,52],\"y\":[0.5,0.8],\"name\":\"plot-1\",\"showlegend\":false,\"marker\":{\"size\":150,\"color\":\"rgba(17, 157, 255,0.5)\",\"symbol\":0,\"opacity\":0.5,\"line\":{\"color\":\"red\",\"width\":10.0}}},{\"type\":\"scatter\",\"mode\":\"markers\",\"x\":[100,101,102,103,104,105,106,107,108,109,110,111,112,113,114,115,116,117,118,119,120,121,122,123,124,125,126,127,128,129,130,131,132,133,134,135,136,137,138,139,140,141,142,143,144,145,146,147,148,149,150,151,152,153,154,155,156,157,158,159,160,161,162,163,164,165,166,167,168,169,170,171,172,173,174,175,176,177,178,179,180,181,182,183,184,185,186,187,188,189,190,191,192,193,194,195,196,197,198,199,200],\"y\":[0.5108342233630057,0.6586334890027686,0.27246914956368,0.2558428697548075,0.2720058282241252,0.35075873851345796,0.6530038680196758,0.2583333022232788,0.2757227450030496,0.4005627885463474,0.2896394004531388,0.3790111445724085,0.7634830883534081,0.3674978848395394,0.21640400691721776,0.9829599452125654,0.13730164064900094,0.6922310845424566,0.13842033694424682,0.047466478332628716,0.12045115983134655,0.4494638524248562,0.7044131814988391,0.03468905484056522,0.6232284571152313,0.7441147466861245,0.6130511335158028,0.5416828401115178,0.5644180139361034,0.5773797829530107,0.43186105854430284,0.5540931981774481,0.03058985808426042,0.9603239293025452,0.04099936319561646,0.8048055571526315,0.7656403960500101,0.424702770740121,0.042684277539460115,0.35743676096081584,0.718314978628566,0.8116091842817186,0.022668316505229248,0.021935445732407015,0.22737670421012524,0.432612898960995,0.7713997078926301,0.42599273632559587,0.5016734695535495,0.7553710130766831,0.23337182180647356,0.042100590673322134,0.6064622600592963,0.13691913668854122,0.6200639971625358,0.061370370938149454,0.9542203075039295,0.2377800947231148,0.6326144126395762,0.5278910815380007,0.7377076049976552,0.11132102790815804,0.6939152882871755,0.6983429620500389,0.9687017300020446,0.7355462022756907,0.3484212864881481,0.8031591590508629,0.3264985216439229,0.41159844976458626,0.21731954916255528,0.7125988699088799,0.6495468070029965,0.780983575983431,0.3291514997040627,0.308841975549628,0.42679553591962693,0.6824777357664321,0.8073123506304399,0.1906155581542363,0.9727150387934945,0.18705839719020687,0.04000937055796821,0.8090470008594203,0.3440079611465372,0.38976046787098073,0.9476309381181518,0.8936707213957192,0.34025993214000944,0.979628992257467,0.850585249648702,0.5278603013268953,0.7920883581005448,0.5147931960014595,0.6197291559631606,0.606993950720408,0.11769389599454305,0.3243253544551904,0.05323371573036244,0.4918305019344345,0.08419161247284693],\"name\":\"plot-2\",\"showlegend\":false,\"marker\":{\"size\":25,\"color\":\"rgba(17, 157, 255,0.5)\",\"symbol\":0,\"opacity\":0.5}},{\"type\":\"scatter\",\"mode\":\"markers\",\"x\":[100,101,102,103,104,105,106,107,108,109,110,111,112,113,114,115,116,117,118,119,120,121,122,123,124,125,126,127,128,129,130,131,132,133,134,135,136,137,138,139,140,141,142,143,144,145,146,147,148,149,150,151,152,153,154,155,156,157,158,159,160,161,162,163,164,165,166,167,168,169,170,171,172,173,174,175,176,177,178,179,180,181,182,183,184,185,186,187,188,189,190,191,192,193,194,195,196,197,198,199,200],\"y\":[0.9682405488417672,0.09949421468167297,0.09007501978896326,0.5380514639141277,0.5207729518975937,0.3925537836703257,0.8254786840758653,0.8077676369844785,0.3112220216129078,0.6345748350185225,0.2717425717374974,0.4304677440926748,0.4419988544853399,0.5551760427445062,0.5506492078074483,0.07131165735018982,0.8848682874277553,0.3543350009035016,0.5789412621310639,0.7879152641575389,0.45475056509242884,0.4628992269108534,0.34686952938645593,0.5610132001158843,0.68945924783566,0.9205105118083351,0.134753611001537,0.16125442002027035,0.7221575489836547,0.19114807955508498,0.10247018146443655,0.6292440200360697,0.3154818486960055,0.1064239456813894,0.004474489951727209,0.0875641825085339,0.9499343507690049,0.2709955369452925,0.8232350092489436,0.9972066842006551,0.12215225404228655,0.08590308441124068,0.029037910527101675,0.3450541572389445,0.5788426779112046,0.09739255723422047,0.35008950361520497,0.9596171532569533,0.0690799481557123,0.5356822933702181,0.23282560856678786,0.9699903535516887,0.47429245359929856,0.7039152377768956,0.6294410473804181,0.5053413219309139,0.7526246852952171,0.529061819673079,0.8485922160784678,0.6002624400892586,0.2578001726687887,0.6642242640555949,0.08561008800082379,0.1200739420578228,0.532104653554086,0.6424985517014277,0.11498589539666934,0.33557490880395047,0.550701552792779,0.46308502529891443,0.12137730658118488,0.6138727504824627,0.5310999916545581,0.5817345779304088,0.6657630101152523,0.36884748068118817,0.43386131638375175,0.0018153721475113985,0.9821705222046797,0.5920666906014396,0.5704210081931301,0.1751364577445837,0.09217447186455804,0.18647525561343659,0.9583224709882971,0.1324798279127478,0.1549515664367711,0.6115666109191098,0.47698289830097135,0.4991331680208133,0.33493949721331684,0.420872531095926,0.42240332086682475,0.22297256915968497,0.7394065115318664,0.4579279899866916,0.00029299641041690317,0.9089639684692788,0.8129495036848585,0.9363441262097769,0.9824066618375511],\"name\":\"plot-3\",\"showlegend\":false,\"marker\":{\"size\":25,\"color\":\"rgba(17, 157, 255,0.5)\",\"symbol\":0,\"opacity\":0.5}}];\n",
       "            var layout = {};\n",
       "            var config = {};\n",
       "            Plotly.newPlot('250b788b-5bec-4634-a213-38e30c87ed41', data, layout, config);\r\n",
       "});\n",
       "            };\n",
       "            if ((typeof(requirejs) !==  typeof(Function)) || (typeof(requirejs.config) !== typeof(Function))) {\n",
       "                var script = document.createElement(\"script\");\n",
       "                script.setAttribute(\"src\", \"https://cdnjs.cloudflare.com/ajax/libs/require.js/2.3.6/require.min.js\");\n",
       "                script.onload = function(){\n",
       "                    renderPlotly_250b788b5bec4634a21338e30c87ed41();\n",
       "                };\n",
       "                document.getElementsByTagName(\"head\")[0].appendChild(script);\n",
       "            }\n",
       "            else {\n",
       "                renderPlotly_250b788b5bec4634a21338e30c87ed41();\n",
       "            }\r\n",
       "</script>\r\n"
      ]
     },
     "metadata": {},
     "output_type": "display_data"
    }
   ],
   "metadata": {
    "dotnet_interactive": {
     "language": "fsharp"
    }
   }
  }
 ],
 "metadata": {
  "orig_nbformat": 4,
  "language_info": {
   "file_extension": ".cs",
   "mimetype": "text/x-csharp",
   "name": "C#",
   "pygments_lexer": "csharp",
   "version": "9.0"
  },
  "kernelspec": {
   "display_name": ".NET (C#)",
   "language": "C#",
   "name": ".net-csharp"
  }
 },
 "nbformat": 4,
 "nbformat_minor": 2
}