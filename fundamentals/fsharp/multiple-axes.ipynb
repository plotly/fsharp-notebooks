{
 "cells": [
  {
   "cell_type": "code",
   "execution_count": null,
   "metadata": {
    "dotnet_interactive": {
     "language": "fsharp"
    }
   },
   "outputs": [
    {
     "data": {
      "text/html": [
       "<div><div></div><div></div><div><strong>Installed Packages</strong><ul><li><span>Plotly.NET, 2.0.0-preview.9</span></li><li><span>Plotly.NET.Interactive, 2.0.0-preview.9</span></li></ul></div></div>"
      ]
     },
     "metadata": {},
     "output_type": "display_data"
    },
    {
     "data": {
      "text/markdown": [
       "Loading extensions from `Plotly.NET.Interactive.dll`"
      ]
     },
     "metadata": {},
     "output_type": "display_data"
    },
    {
     "data": {
      "text/markdown": [
       "Added Kernel Extension including formatters for Plotly.NET charts."
      ]
     },
     "metadata": {},
     "output_type": "display_data"
    }
   ],
   "source": [
    "#r \"nuget: Plotly.NET,  2.0.0-preview.9\"\n",
    "#r \"nuget: Plotly.NET.Interactive,  2.0.0-preview.9\""
   ]
  },
  {
   "cell_type": "markdown",
   "metadata": {},
   "source": [
    "# Two Y Axes\n",
    "\n",
    "Multiple Axes are created by defining AxisAnchor for the plot as shown below"
   ]
  },
  {
   "cell_type": "code",
   "execution_count": null,
   "metadata": {
    "dotnet_interactive": {
     "language": "fsharp"
    }
   },
   "outputs": [
    {
     "data": {
      "text/html": [
       "<div id=\"ec9dda04-ecbc-468e-aa27-8ea7d1259436\" style=\"width: 600px; height: 600px;\"><!-- Plotly chart will be drawn inside this DIV --></div>\r\n",
       "<script type=\"text/javascript\">\r\n",
       "\n",
       "            var renderPlotly_ec9dda04ecbc468eaa278ea7d1259436 = function() {\n",
       "            var fsharpPlotlyRequire = requirejs.config({context:'fsharp-plotly',paths:{plotly:'https://cdn.plot.ly/plotly-2.4.2.min'}}) || require;\n",
       "            fsharpPlotlyRequire(['plotly'], function(Plotly) {\r\n",
       "\n",
       "            var data = [{\"type\":\"scatter\",\"mode\":\"lines+markers\",\"x\":[0,1,2,3,4,5,6,7,8,9,10],\"y\":[0.0,1.0,4.0,9.0,16.0,25.0,36.0,49.0,64.0,81.0,100.0],\"line\":{},\"name\":\"anchor 1\",\"marker\":{},\"yaxis\":\"y\"},{\"type\":\"scatter\",\"mode\":\"lines+markers\",\"x\":[0,1,2,3,4,5,6,7,8,9,10],\"y\":[0.0,1.0,8.0,27.0,64.0,125.0,216.0,343.0,512.0,729.0,1000.0],\"line\":{},\"name\":\"anchor 2\",\"marker\":{},\"yaxis\":\"y2\"}];\n",
       "            var layout = {\"plot_bgcolor\":\"#e5ecf6\",\"yaxis\":{\"title\":{\"text\":\"axis 1\"},\"side\":\"left\"},\"yaxis2\":{\"title\":{\"text\":\"axis2\"},\"side\":\"right\",\"overlaying\":\"y\"}};\n",
       "            var config = {};\n",
       "            Plotly.newPlot('ec9dda04-ecbc-468e-aa27-8ea7d1259436', data, layout, config);\r\n",
       "});\n",
       "            };\n",
       "            if ((typeof(requirejs) !==  typeof(Function)) || (typeof(requirejs.config) !== typeof(Function))) {\n",
       "                var script = document.createElement(\"script\");\n",
       "                script.setAttribute(\"src\", \"https://cdnjs.cloudflare.com/ajax/libs/require.js/2.3.6/require.min.js\");\n",
       "                script.onload = function(){\n",
       "                    renderPlotly_ec9dda04ecbc468eaa278ea7d1259436();\n",
       "                };\n",
       "                document.getElementsByTagName(\"head\")[0].appendChild(script);\n",
       "            }\n",
       "            else {\n",
       "                renderPlotly_ec9dda04ecbc468eaa278ea7d1259436();\n",
       "            }\r\n",
       "</script>\r\n"
      ]
     },
     "metadata": {},
     "output_type": "display_data"
    }
   ],
   "source": [
    "open Plotly.NET\n",
    "open Plotly.NET.TraceObjects\n",
    "open Plotly.NET.LayoutObjects\n",
    "\n",
    "\n",
    "let x = [for i in 0..10 -> i]\n",
    "let y1 = [for i in x -> Math.Pow(float i,2.0)]\n",
    "let y2 = [for i in x -> Math.Pow(float i,3.0)]\n",
    "\n",
    "[\n",
    "    Chart.Line(x,y1,Name=\"anchor 1\",ShowMarkers=true) |> Chart.withAxisAnchor(Y=1);\n",
    "    Chart.Line(x,y2,Name=\"anchor 2\",ShowMarkers=true) |> Chart.withAxisAnchor(Y=2)       \n",
    "]\n",
    "|> Chart.combine\n",
    "|> Chart.withLayout(Layout.init(PlotBGColor=Color.fromString \"#e5ecf6\"))\n",
    "|> Chart.withYAxisStyle(\n",
    "        \"axis 1\",\n",
    "        Side=StyleParam.Side.Left,\n",
    "        Id=StyleParam.SubPlotId.YAxis 1\n",
    "    )\n",
    "|> Chart.withYAxisStyle(\n",
    "        \"axis2\",\n",
    "        Side=StyleParam.Side.Right,\n",
    "        Id=StyleParam.SubPlotId.YAxis 2,\n",
    "        Overlaying=StyleParam.LinearAxisId.Y 1\n",
    "    )"
   ]
  },
  {
   "cell_type": "markdown",
   "metadata": {},
   "source": [
    "# Multiple Axes"
   ]
  },
  {
   "cell_type": "code",
   "execution_count": null,
   "metadata": {
    "dotnet_interactive": {
     "language": "fsharp"
    }
   },
   "outputs": [
    {
     "data": {
      "text/html": [
       "<div id=\"7b678939-8af6-40c9-9b29-20b91c025a41\" style=\"width: 600px; height: 600px;\"><!-- Plotly chart will be drawn inside this DIV --></div>\r\n",
       "<script type=\"text/javascript\">\r\n",
       "\n",
       "            var renderPlotly_7b6789398af640c99b2920b91c025a41 = function() {\n",
       "            var fsharpPlotlyRequire = requirejs.config({context:'fsharp-plotly',paths:{plotly:'https://cdn.plot.ly/plotly-2.4.2.min'}}) || require;\n",
       "            fsharpPlotlyRequire(['plotly'], function(Plotly) {\r\n",
       "\n",
       "            var data = [{\"type\":\"scatter\",\"mode\":\"lines+markers\",\"x\":[1,2,3,4,5],\"y\":[5,14,27,44,65],\"line\":{},\"name\":\"anchor 1\",\"marker\":{},\"yaxis\":\"y\"},{\"type\":\"scatter\",\"mode\":\"lines+markers\",\"x\":[2,3,4,5,6],\"y\":[14,27,44,65,90],\"line\":{},\"name\":\"anchor 2\",\"marker\":{},\"yaxis\":\"y2\"},{\"type\":\"scatter\",\"mode\":\"lines+markers\",\"x\":[3,4,5,6,7],\"y\":[27,44,65,90,119],\"line\":{},\"name\":\"anchor 3\",\"marker\":{},\"yaxis\":\"y3\"},{\"type\":\"scatter\",\"mode\":\"lines+markers\",\"x\":[4,5,6,7,8],\"y\":[44,65,90,119,152],\"line\":{},\"name\":\"anchor 4\",\"marker\":{},\"yaxis\":\"y4\"}];\n",
       "            var layout = {\"xaxis\":{\"title\":{\"text\":\"x-axis\"},\"domain\":[0.3,0.7]},\"plot_bgcolor\":\"#e5ecf6\",\"yaxis\":{\"title\":{\"text\":\"y axis 1\"},\"side\":\"left\"},\"yaxis2\":{\"title\":{\"text\":\"y axis 2\"},\"side\":\"left\",\"overlaying\":\"y\",\"position\":0.1},\"yaxis3\":{\"title\":{\"text\":\"y axis 3\"},\"side\":\"right\",\"overlaying\":\"y\"},\"yaxis4\":{\"title\":{\"text\":\"y axis 4\"},\"side\":\"right\",\"overlaying\":\"y\",\"position\":0.85}};\n",
       "            var config = {};\n",
       "            Plotly.newPlot('7b678939-8af6-40c9-9b29-20b91c025a41', data, layout, config);\r\n",
       "});\n",
       "            };\n",
       "            if ((typeof(requirejs) !==  typeof(Function)) || (typeof(requirejs.config) !== typeof(Function))) {\n",
       "                var script = document.createElement(\"script\");\n",
       "                script.setAttribute(\"src\", \"https://cdnjs.cloudflare.com/ajax/libs/require.js/2.3.6/require.min.js\");\n",
       "                script.onload = function(){\n",
       "                    renderPlotly_7b6789398af640c99b2920b91c025a41();\n",
       "                };\n",
       "                document.getElementsByTagName(\"head\")[0].appendChild(script);\n",
       "            }\n",
       "            else {\n",
       "                renderPlotly_7b6789398af640c99b2920b91c025a41();\n",
       "            }\r\n",
       "</script>\r\n"
      ]
     },
     "metadata": {},
     "output_type": "display_data"
    }
   ],
   "source": [
    "open Plotly.NET\n",
    "\n",
    "[\n",
    "    for i in 1..4 -> \n",
    "                    Chart.Line(x=[for j in i..(i+4) -> j],y=[for j in i..(i+4) -> 2*j*j+3*j],Name=String.Format(\"anchor {0}\",i),ShowMarkers=true ) \n",
    "                    |> Chart.withAxisAnchor(Y=i)      \n",
    "]\n",
    "|> Chart.combine\n",
    "|> Chart.withXAxisStyle(\"x-axis\",Domain=(0.3, 0.7))\n",
    "|> Chart.withLayout(Layout.init(PlotBGColor=Color.fromString \"#e5ecf6\"))\n",
    "|> Chart.withYAxisStyle(\n",
    "        \"y axis 1\",\n",
    "        Side=StyleParam.Side.Left,\n",
    "        Id=StyleParam.SubPlotId.YAxis 1\n",
    "    )\n",
    "|> Chart.withYAxisStyle(\n",
    "        \"y axis 2\",\n",
    "        Side=StyleParam.Side.Left,\n",
    "        Id=StyleParam.SubPlotId.YAxis 2,\n",
    "        Position= 0.1,        \n",
    "        Overlaying=StyleParam.LinearAxisId.Y 1\n",
    "    )\n",
    "|> Chart.withYAxisStyle(\n",
    "        \"y axis 3\",\n",
    "        Side=StyleParam.Side.Right,\n",
    "        Id=StyleParam.SubPlotId.YAxis 3,\n",
    "        Overlaying=StyleParam.LinearAxisId.Y 1   \n",
    "    )\n",
    "|> Chart.withYAxisStyle(\n",
    "        \"y axis 4\",\n",
    "        Side=StyleParam.Side.Right,\n",
    "        Id=StyleParam.SubPlotId.YAxis 4,\n",
    "        Position= 0.85,\n",
    "        Overlaying=StyleParam.LinearAxisId.Y 1\n",
    "    )\n",
    "    "
   ]
  },
  {
   "cell_type": "markdown",
   "metadata": {},
   "source": [
    "# Multiple Y-Axes Subplots"
   ]
  },
  {
   "cell_type": "code",
   "execution_count": null,
   "metadata": {
    "dotnet_interactive": {
     "language": "fsharp"
    }
   },
   "outputs": [
    {
     "data": {
      "text/html": [
       "<div id=\"c07568b9-8948-421c-9383-50a07204604a\" style=\"width: 600px; height: 600px;\"><!-- Plotly chart will be drawn inside this DIV --></div>\r\n",
       "<script type=\"text/javascript\">\r\n",
       "\n",
       "            var renderPlotly_c07568b98948421c938350a07204604a = function() {\n",
       "            var fsharpPlotlyRequire = requirejs.config({context:'fsharp-plotly',paths:{plotly:'https://cdn.plot.ly/plotly-2.4.2.min'}}) || require;\n",
       "            fsharpPlotlyRequire(['plotly'], function(Plotly) {\r\n",
       "\n",
       "            var data = [{\"type\":\"scatter\",\"mode\":\"markers\",\"x\":[0,1,2,3,4,5,6,7,8,9,10],\"y\":[0.0,1.0,4.0,9.0,16.0,25.0,36.0,49.0,64.0,81.0,100.0],\"name\":\"1,1\",\"marker\":{},\"yaxis\":\"y2\"},{\"type\":\"scatter\",\"mode\":\"markers\",\"x\":[0,1,2,3,4,5,6,7,8,9,10],\"y\":[0.0,1.0,8.0,27.0,64.0,125.0,216.0,343.0,512.0,729.0,1000.0],\"name\":\"1,2\",\"marker\":{},\"yaxis\":\"y\"}];\n",
       "            var layout = {\"yaxis\":{\"title\":{\"text\":\"y1\"},\"side\":\"left\"},\"yaxis2\":{\"title\":{\"text\":\"y2\"},\"side\":\"right\"},\"grid\":{\"subplots\":[[\"xy2\",\"xy\"]],\"rows\":1,\"columns\":2}};\n",
       "            var config = {};\n",
       "            Plotly.newPlot('c07568b9-8948-421c-9383-50a07204604a', data, layout, config);\r\n",
       "});\n",
       "            };\n",
       "            if ((typeof(requirejs) !==  typeof(Function)) || (typeof(requirejs.config) !== typeof(Function))) {\n",
       "                var script = document.createElement(\"script\");\n",
       "                script.setAttribute(\"src\", \"https://cdnjs.cloudflare.com/ajax/libs/require.js/2.3.6/require.min.js\");\n",
       "                script.onload = function(){\n",
       "                    renderPlotly_c07568b98948421c938350a07204604a();\n",
       "                };\n",
       "                document.getElementsByTagName(\"head\")[0].appendChild(script);\n",
       "            }\n",
       "            else {\n",
       "                renderPlotly_c07568b98948421c938350a07204604a();\n",
       "            }\r\n",
       "</script>\r\n"
      ]
     },
     "metadata": {},
     "output_type": "display_data"
    }
   ],
   "source": [
    "open Plotly.NET\n",
    "\n",
    "let x = [for i in 0..10 -> i]\n",
    "let y = [for i in x -> Math.Pow(float i,2.0)]\n",
    "let y2 = [for i in x -> Math.Pow(float i,3.0)]\n",
    "\n",
    "let chartGrid =\n",
    "    LayoutGrid.init(\n",
    "        Rows = 1,\n",
    "        Columns = 2,\n",
    "        SubPlots = [|\n",
    "            [|\n",
    "                StyleParam.LinearAxisId.X 1, StyleParam.LinearAxisId.Y 2\n",
    "                StyleParam.LinearAxisId.X 1, StyleParam.LinearAxisId.Y 1                \n",
    "            |]\n",
    "        |]\n",
    "    )\n",
    "\n",
    "[\n",
    "    [\n",
    "        Chart.Point(x,y,Name=\"1,1\") |> Chart.withAxisAnchor(Y=1) \n",
    "        Chart.Point(x,y2,Name=\"1,2\") |> Chart.withAxisAnchor(Y=2) \n",
    "    ]\n",
    "    |> Chart.combine\n",
    "    |> Chart.withYAxisStyle(\"y1\",Side=StyleParam.Side.Left,Id=StyleParam.SubPlotId.YAxis 1)    \n",
    "    |> Chart.withYAxisStyle(\"y2\", Side=StyleParam.Side.Right,Id=StyleParam.SubPlotId.YAxis 2)   \n",
    "\n",
    "]\n",
    "|> Chart.combine\n",
    "|> Chart.withLayoutGrid chartGrid\n",
    "\n",
    "\n",
    "\n",
    "// let getChart i =\n",
    "//     [\n",
    "//         Chart.Line(x,y1,Name=\"anchor \"+string i,ShowMarkers=true) |> Chart.withAxisAnchor(Y=i);\n",
    "//         Chart.Line(x,y2,Name=\"anchor \"+string (i+1),ShowMarkers=true) |> Chart.withAxisAnchor(Y=i+1)       \n",
    "//     ]\n",
    "//     |> Chart.combine\n",
    "//     |> Chart.withLayout(Layout.init(PlotBGColor=Color.fromString \"#e5ecf6\"))\n",
    "//     |> Chart.withYAxisStyle(\n",
    "//             \"axis 1\",\n",
    "//             Side=StyleParam.Side.Left,\n",
    "//             Id=StyleParam.SubPlotId.YAxis i\n",
    "//         )\n",
    "//     |> Chart.withYAxisStyle(\n",
    "//             \"axis 2\",\n",
    "//             Side=StyleParam.Side.Right,\n",
    "//             Id=StyleParam.SubPlotId.YAxis (i+1),\n",
    "//             Overlaying=StyleParam.LinearAxisId.Y 1\n",
    "//         )\n",
    "\n",
    "// let grid = \n",
    "//     [\n",
    "//         for i in 1..2 -> (getChart i)\n",
    "//     ]\n",
    "//     |> Chart.Grid(2,2)\n",
    "\n",
    "// grid\n"
   ]
  }
 ],
 "metadata": {
  "kernelspec": {
   "display_name": ".NET (C#)",
   "language": "C#",
   "name": ".net-csharp"
  },
  "language_info": {
   "file_extension": ".cs",
   "mimetype": "text/x-csharp",
   "name": "C#",
   "pygments_lexer": "csharp",
   "version": "9.0"
  },
  "orig_nbformat": 4
 },
 "nbformat": 4,
 "nbformat_minor": 2
}
