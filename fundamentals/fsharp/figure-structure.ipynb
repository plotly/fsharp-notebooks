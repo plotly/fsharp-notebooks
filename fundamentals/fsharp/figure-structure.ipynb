{
 "cells": [
  {
   "cell_type": "code",
   "execution_count": null,
   "metadata": {
    "dotnet_interactive": {
     "language": "fsharp"
    }
   },
   "outputs": [
    {
     "data": {
      "text/html": [
       "<div><div></div><div></div><div><strong>Installed Packages</strong><ul><li><span>Plotly.NET, 2.0.0-preview.8</span></li><li><span>Plotly.NET.Interactive, 2.0.0-preview.8</span></li></ul></div></div>"
      ]
     },
     "metadata": {},
     "output_type": "display_data"
    },
    {
     "data": {
      "text/markdown": [
       "Loading extensions from `Plotly.NET.Interactive.dll`"
      ]
     },
     "metadata": {},
     "output_type": "display_data"
    },
    {
     "data": {
      "text/markdown": [
       "Added Kernel Extension including formatters for Plotly.NET charts."
      ]
     },
     "metadata": {},
     "output_type": "display_data"
    }
   ],
   "source": [
    "#r \"nuget: Plotly.NET,  2.0.0-preview.8\"\n",
    "#r \"nuget: Plotly.NET.Interactive,  2.0.0-preview.8\""
   ]
  },
  {
   "cell_type": "markdown",
   "metadata": {},
   "source": [
    "Plotly.NET graphing library can create various graphical figures (i.e. charts, plots, maps and diagrams). The rendering process uses the Plotly.js JavaScript library under the hood. Figures can be represented in F# and serialized as text in JavaScript Object Notation (JSON) before being passed to Plotly.js.\n",
    "\n",
    "Viewing the underlying data structure for any plotly chart, can be done via GenericChart.toFigure, which gives access to Figure object"
   ]
  },
  {
   "cell_type": "markdown",
   "metadata": {},
   "source": [
    "# Figures as Trees of Attributes\n",
    "\n",
    "Plotly.js supports inputs adhering to a well-defined schema, whose overall architecture is explained in this page and which is exhaustively documented in the Figure Reference (which is itself generated from a machine-readable JSON representation of the schema). Figures are represented as trees with named nodes called \"attributes\". The root node of the tree has three top-level attributes: data, layout and frames (see below)."
   ]
  },
  {
   "cell_type": "markdown",
   "metadata": {},
   "source": [
    "# Figure Data Structure"
   ]
  },
  {
   "cell_type": "code",
   "execution_count": null,
   "metadata": {
    "dotnet_interactive": {
     "language": "fsharp"
    }
   },
   "outputs": [
    {
     "data": {
      "text/html": [
       "<table><thead><tr><th>Data</th><th>Layout</th><th>Frames</th></tr></thead><tbody><tr><td><div class=\"dni-plaintext\">[ { Plotly.NET.Trace2D: type: scatter } ]</div></td><td><div class=\"dni-plaintext\">Plotly.NET.Layout</div></td><td><div class=\"dni-plaintext\">[  ]</div></td></tr></tbody></table>"
      ]
     },
     "metadata": {},
     "output_type": "display_data"
    }
   ],
   "source": [
    "open Plotly.NET\n",
    "\n",
    "let x  = [for i in 0..20 -> i]\n",
    "let y = [for i in 0..20 -> 2*i*2+3*i+10]\n",
    "\n",
    "let figure = Chart.Line(x,y)\n",
    "            |> Chart.withLayout(Layout.init(Width=500,Height=500))\n",
    "            |> GenericChart.toFigure\n",
    "\n",
    "\n",
    "figure.Display()"
   ]
  },
  {
   "cell_type": "markdown",
   "metadata": {},
   "source": [
    "# The Top-Level Data Attribute\n",
    "The first of the three top-level attributes of a figure is Data, whose value must be a list of dicts referred to as \"traces\".\n",
    "\n",
    "* Each trace has one of more than 40 possible types (see below for a list organized by subplot type, including e.g. scatter, bar, pie, surface, choropleth etc), and represents a set of related graphical marks in a figure. Each trace * must have a type attribute which defines the other allowable attributes.\n",
    "* Each trace is drawn on a single subplot whose type must be compatible with the trace's type, or is its own subplot (see below).\n",
    "* Traces may have a single legend entry, with the exception of pie and funnelarea traces (see below).\n",
    "* Certain trace types support continuous color, with an associated colorbar, which can be controlled by attributes either within the trace, or within the layout when using the coloraxis attribute."
   ]
  },
  {
   "cell_type": "code",
   "execution_count": null,
   "metadata": {
    "dotnet_interactive": {
     "language": "fsharp"
    }
   },
   "outputs": [
    {
     "data": {
      "text/html": [
       "<table><thead><tr><th><i>index</i></th><th>Key</th><th>Value</th></tr></thead><tbody><tr><td>0</td><td>type</td><td>scatter</td></tr><tr><td>1</td><td>mode</td><td>lines</td></tr><tr><td>2</td><td>x</td><td><div class=\"dni-plaintext\">[ 0, 1, 2, 3, 4, 5, 6, 7, 8, 9, 10, 11, 12, 13, 14, 15, 16, 17, 18, 19 ... (1 more) ]</div></td></tr><tr><td>3</td><td>y</td><td><div class=\"dni-plaintext\">[ 10, 17, 24, 31, 38, 45, 52, 59, 66, 73, 80, 87, 94, 101, 108, 115, 122, 129, 136, 143 ... (1 more) ]</div></td></tr><tr><td>4</td><td>line</td><td><div class=\"dni-plaintext\">Plotly.NET.Line</div></td></tr><tr><td>5</td><td>marker</td><td><div class=\"dni-plaintext\">Plotly.NET.TraceObjects.Marker</div></td></tr></tbody></table>"
      ]
     },
     "metadata": {},
     "output_type": "display_data"
    }
   ],
   "source": [
    "figure.Data.[0].GetProperties(true)"
   ]
  },
  {
   "cell_type": "markdown",
   "metadata": {},
   "source": [
    "# The Top-Level Layout Attribute\n",
    "The second of the three top-level attributes of a figure is Layout, whose value is referred to in text as \"the layout\" and must be a dict, containing attributes that control positioning and configuration of non-data-related parts of the figure such as:\n",
    "\n",
    "* Dimensions and margins, which define the bounds of \"paper coordinates\" (see below)\n",
    "* Figure-wide defaults: templates, fonts, colors, hover-label and modebar defaults\n",
    "* Title and legend (positionable in container and/or paper coordinates)\n",
    "* Color axes and associated color bars (positionable in paper coordinates)\n",
    "* Subplots of various types on which can be drawn multiple traces and which are positioned in paper coordinates:\n",
    "* xaxis, yaxis, xaxis2, yaxis3 etc: X and Y cartesian axes, the intersections of which are cartesian subplots\n",
    "* scene, scene2, scene3 etc: 3d scene subplots\n",
    "* ternary, ternary2, ternary3, polar, polar2, polar3, geo, geo2, geo3, mapbox, mapbox2, mabox3 etc: ternary, polar, geo or mapbox subplots\n",
    "* Non-data marks which can be positioned in paper coordinates, or in data coordinates linked to 2d cartesian subplots:\n",
    "* annotations: textual annotations with or without arrows\n",
    "* shapes: lines, rectangles, ellipses or open or closed paths\n",
    "* images: background or decorative images\n",
    "* Controls which can be positioned in paper coordinates and which can trigger Plotly.js functions when interacted with by a user:\n",
    "* updatemenus: single buttons, toggles and dropdown menus\n",
    "* sliders: slider controls"
   ]
  },
  {
   "cell_type": "code",
   "execution_count": null,
   "metadata": {
    "dotnet_interactive": {
     "language": "fsharp"
    }
   },
   "outputs": [
    {
     "data": {
      "text/html": [
       "<table><thead><tr><th><i>index</i></th><th>Key</th><th>Value</th></tr></thead><tbody><tr><td>0</td><td>width</td><td><div class=\"dni-plaintext\">500</div></td></tr><tr><td>1</td><td>height</td><td><div class=\"dni-plaintext\">500</div></td></tr></tbody></table>"
      ]
     },
     "metadata": {},
     "output_type": "display_data"
    }
   ],
   "source": [
    "figure.Layout.GetProperties(true)"
   ]
  },
  {
   "cell_type": "markdown",
   "metadata": {},
   "source": [
    "# The Top-Level frames Attribute\n",
    "The third of the three top-level attributes of a figure is Frames, whose value must be a list of dicts that define sequential frames in an animated plot. Each frame contains its own data attribute as well as other parameters. Animations are usually triggered and controlled via controls defined in layout.sliders and/or layout.updatemenus"
   ]
  },
  {
   "cell_type": "code",
   "execution_count": null,
   "metadata": {
    "dotnet_interactive": {
     "language": "fsharp"
    }
   },
   "outputs": [],
   "source": [
    "//figure.Frames.[0].GetProperties(true)"
   ]
  }
 ],
 "metadata": {
  "kernelspec": {
   "display_name": ".NET (C#)",
   "language": "C#",
   "name": ".net-csharp"
  },
  "language_info": {
   "file_extension": ".cs",
   "mimetype": "text/x-csharp",
   "name": "C#",
   "pygments_lexer": "csharp",
   "version": "9.0"
  },
  "orig_nbformat": 4
 },
 "nbformat": 4,
 "nbformat_minor": 2
}
