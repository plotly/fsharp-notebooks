{
 "cells": [
  {
   "cell_type": "code",
   "execution_count": null,
   "metadata": {
    "dotnet_interactive": {
     "language": "fsharp"
    }
   },
   "outputs": [
    {
     "data": {
      "text/html": []
     },
     "metadata": {},
     "output_type": "display_data"
    },
    {
     "data": {
      "text/markdown": []
     },
     "metadata": {},
     "output_type": "display_data"
    },
    {
     "data": {
      "text/markdown": []
     },
     "metadata": {},
     "output_type": "display_data"
    }
   ],
   "source": [
    "#r \"nuget: Plotly.NET, 2.0.0-preview.8\"\n",
    "#r \"nuget: Plotly.NET.Interactive, 2.0.0-preview.8\"\n",
    "#r \"nuget: FSharp.Data\"\n",
    "#r \"nuget:Deedle\""
   ]
  },
  {
   "cell_type": "markdown",
   "metadata": {},
   "source": [
    "# Plot from CSV with Plotly"
   ]
  },
  {
   "cell_type": "code",
   "execution_count": null,
   "metadata": {
    "dotnet_interactive": {
     "language": "fsharp"
    }
   },
   "outputs": [
    {
     "data": {
      "text/html": []
     },
     "metadata": {},
     "output_type": "display_data"
    }
   ],
   "source": [
    "open FSharp.Data\n",
    "open Deedle\n",
    "open Plotly.NET\n",
    "open Plotly.NET.LayoutObjects\n",
    "\n",
    "let dataset = \n",
    "  Http.RequestString \"https://raw.githubusercontent.com/plotly/datasets/master/2014_apple_stock.csv\"\n",
    "   |> fun csv -> Frame.ReadCsvString(csv,true,separators=\",\")\n",
    "\n",
    "let getColumn column=\n",
    "        dataset\n",
    "        |> Frame.getCol column\n",
    "        |> Series.values\n",
    "         \n",
    "let xy = Seq.zip  (getColumn \"AAPL_x\" :> seq<DateTime>) (getColumn \"AAPL_y\" :> seq<float>) \n",
    "Chart.Line(xy,Name=\"Share Prices (in USD)\")\n",
    "|>Chart.withLayout(Layout.init(Title.init(\"Apple Share Prices over time (2014)\"),PlotBGColor=Color.fromString \"#e5ecf6\",ShowLegend=true,Width=1100))\n",
    "|>Chart.withXAxis(LinearAxis.init(Title=Title.init(\"AAPL_x\"),ZeroLineColor=Color.fromString\"#ffff\",ZeroLineWidth=2.,GridColor=Color.fromString\"#ffff\" ))\n",
    "|>Chart.withYAxis(LinearAxis.init(Title=Title.init(\"AAPL_y\"),ZeroLineColor=Color.fromString\"#ffff\",ZeroLineWidth=2.,GridColor=Color.fromString\"#ffff\" ))\n"
   ]
  }
 ],
 "metadata": {
  "kernelspec": {
   "display_name": ".NET (C#)",
   "language": "C#",
   "name": ".net-csharp"
  },
  "language_info": {
   "file_extension": ".cs",
   "mimetype": "text/x-csharp",
   "name": "C#",
   "pygments_lexer": "csharp",
   "version": "9.0"
  },
  "orig_nbformat": 4
 },
 "nbformat": 4,
 "nbformat_minor": 2
}
