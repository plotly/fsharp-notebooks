{
 "cells": [
  {
   "cell_type": "code",
   "execution_count": null,
   "metadata": {
    "dotnet_interactive": {
     "language": "fsharp"
    }
   },
   "outputs": [
    {
     "data": {
      "text/html": [
       "<div><div></div><div></div><div><strong>Installed Packages</strong><ul><li><span>Plotly.NET, 2.0.0-preview.8</span></li><li><span>Plotly.NET.Interactive, 2.0.0-preview.8</span></li></ul></div></div>"
      ]
     },
     "metadata": {},
     "output_type": "display_data"
    },
    {
     "data": {
      "text/markdown": [
       "Loading extensions from `Plotly.NET.Interactive.dll`"
      ]
     },
     "metadata": {},
     "output_type": "display_data"
    },
    {
     "data": {
      "text/markdown": [
       "Added Kernel Extension including formatters for Plotly.NET charts."
      ]
     },
     "metadata": {},
     "output_type": "display_data"
    }
   ],
   "source": [
    "#r \"nuget: Plotly.NET,  2.0.0-preview.8\"\n",
    "#r \"nuget: Plotly.NET.Interactive,  2.0.0-preview.8\"\n",
    "open Plotly.NET\n"
   ]
  },
  {
   "cell_type": "markdown",
   "metadata": {},
   "source": [
    "# Displaying Figures\n"
   ]
  },
  {
   "cell_type": "code",
   "execution_count": null,
   "metadata": {
    "dotnet_interactive": {
     "language": "fsharp"
    }
   },
   "outputs": [
    {
     "data": {
      "text/html": [
       "<div id=\"f494d31a-e51c-4b60-a072-f8ff6f8cdd73\" style=\"width: 600px; height: 600px;\"><!-- Plotly chart will be drawn inside this DIV --></div>\r\n",
       "<script type=\"text/javascript\">\r\n",
       "\n",
       "            var renderPlotly_f494d31ae51c4b60a072f8ff6f8cdd73 = function() {\n",
       "            var fsharpPlotlyRequire = requirejs.config({context:'fsharp-plotly',paths:{plotly:'https://cdn.plot.ly/plotly-latest.min'}}) || require;\n",
       "            fsharpPlotlyRequire(['plotly'], function(Plotly) {\r\n",
       "\n",
       "            var data = [{\"type\":\"bar\",\"x\":[1,2,3],\"y\":[1,2,3],\"marker\":{}}];\n",
       "            var layout = {\"title\":{\"text\":\"A Figure Displaying Itself\"}};\n",
       "            var config = {};\n",
       "            Plotly.newPlot('f494d31a-e51c-4b60-a072-f8ff6f8cdd73', data, layout, config);\r\n",
       "});\n",
       "            };\n",
       "            if ((typeof(requirejs) !==  typeof(Function)) || (typeof(requirejs.config) !== typeof(Function))) {\n",
       "                var script = document.createElement(\"script\");\n",
       "                script.setAttribute(\"src\", \"https://cdnjs.cloudflare.com/ajax/libs/require.js/2.3.6/require.min.js\");\n",
       "                script.onload = function(){\n",
       "                    renderPlotly_f494d31ae51c4b60a072f8ff6f8cdd73();\n",
       "                };\n",
       "                document.getElementsByTagName(\"head\")[0].appendChild(script);\n",
       "            }\n",
       "            else {\n",
       "                renderPlotly_f494d31ae51c4b60a072f8ff6f8cdd73();\n",
       "            }\r\n",
       "</script>\r\n"
      ]
     },
     "metadata": {},
     "output_type": "display_data"
    }
   ],
   "source": [
    "let x = [for i in 1..3 -> i] \n",
    "let y=[for i in 1..3 -> i]\n",
    "Chart.Column(x,y)    \n",
    "        |>Chart.withTitle(\"A Figure Displaying Itself\")\n"
   ]
  },
  {
   "cell_type": "markdown",
   "metadata": {},
   "source": [
    "# Overriding The Default Renderer\n"
   ]
  },
  {
   "cell_type": "code",
   "execution_count": null,
   "metadata": {
    "dotnet_interactive": {
     "language": "fsharp"
    }
   },
   "outputs": [],
   "source": [
    "let x = [for i in 1..3 -> i] \n",
    "let y=[for i in 1..3 -> i]\n",
    "Chart.Column(x,y,Name=\"SVG\")    \n",
    "        |>Chart.withTitle(\"A Figure Displayed with the 'svg' Renderer\")\n",
    "        //|> Chart.withMarker (Marker.init (Color=\"Blues\"))\n",
    "        |>Chart.showAsImage(StyleParam.ImageFormat.SVG)\n"
   ]
  },
  {
   "cell_type": "markdown",
   "metadata": {},
   "source": [
    "# Static Image Renderers\n"
   ]
  },
  {
   "cell_type": "code",
   "execution_count": null,
   "metadata": {
    "dotnet_interactive": {
     "language": "fsharp"
    }
   },
   "outputs": [],
   "source": [
    "let x = [for i in 1..3 -> i] \n",
    "let y=[for i in 1..3 -> i]\n",
    "Chart.Column(x,y,Name=\"SVG\")    \n",
    "        |>Chart.withTitle(\"A Figure Displayed with the 'png' Renderer\")\n",
    "        |> Chart.withSize(800.,300.)\n",
    "        |>Chart.showAsImage(StyleParam.ImageFormat.PNG)"
   ]
  },
  {
   "cell_type": "code",
   "execution_count": null,
   "metadata": {
    "dotnet_interactive": {
     "language": "fsharp"
    }
   },
   "outputs": [],
   "source": [
    "let x = [for i in 1..3 -> i] \n",
    "let y=[for i in 1..3 -> i]\n",
    "Chart.Column(x,y,Name=\"SVG\")    \n",
    "        |>Chart.withTitle(\"A Figure Displayed with the 'jpeg' Renderer\")\n",
    "        |> Chart.withSize(800.,300.)\n",
    "        |>Chart.showAsImage(StyleParam.ImageFormat.JPEG)"
   ]
  }
 ],
 "metadata": {
  "kernelspec": {
   "display_name": ".NET (F#)",
   "language": "F#",
   "name": ".net-fsharp"
  },
  "language_info": {
   "name": "F#"
  }
 },
 "nbformat": 4,
 "nbformat_minor": 2
}
