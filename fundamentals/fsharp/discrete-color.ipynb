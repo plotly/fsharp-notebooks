{
 "cells": [
  {
   "cell_type": "code",
   "execution_count": null,
   "metadata": {
    "dotnet_interactive": {
     "language": "fsharp"
    }
   },
   "outputs": [
    {
     "data": {
      "text/html": []
     },
     "metadata": {},
     "output_type": "display_data"
    },
    {
     "data": {
      "text/markdown": []
     },
     "metadata": {},
     "output_type": "display_data"
    },
    {
     "data": {
      "text/markdown": []
     },
     "metadata": {},
     "output_type": "display_data"
    }
   ],
   "source": [
    "#r \"nuget: Plotly.NET,  2.0.0-preview.8\"\n",
    "#r \"nuget: Plotly.NET.Interactive,  2.0.0-preview.8\"\n",
    "\n",
    "#r \"nuget: Deedle\"\n",
    "#r \"nuget: FSharp.Data\""
   ]
  },
  {
   "cell_type": "markdown",
   "metadata": {},
   "source": [
    "color can be used to represent continuous or discrete data.\n",
    "Marker Color can be used to set discrete colors to individual points as shown in the below example. This page is about using color to represent categorical data using discrete colors, but Plotly can also represent continuous values with color."
   ]
  },
  {
   "cell_type": "code",
   "execution_count": null,
   "metadata": {
    "dotnet_interactive": {
     "language": "fsharp"
    }
   },
   "outputs": [
    {
     "data": {
      "text/html": []
     },
     "metadata": {},
     "output_type": "display_data"
    }
   ],
   "source": [
    "open Deedle\n",
    "open FSharp.Data\n",
    "open Plotly.NET\n",
    "\n",
    "let data=\n",
    "    Http.RequestString \"https://raw.githubusercontent.com/plotly/datasets/master/tips.csv\"\n",
    "    |> fun csv -> Frame.ReadCsvString(csv,true,separators=\",\")\n",
    "    \n",
    "\n",
    "let getColumnData column=\n",
    "        data\n",
    "        |> Frame.getCol column\n",
    "        |> Series.values\n",
    "        |> Array.ofSeq\n",
    "\n",
    "let x  = [1.; 2.; 3.; 4.; 5.; 6.; 7.; 8.; 9.; 10.; ]\n",
    "let y = [2.; 1.5; 5.; 1.5; 3.; 2.5; 2.5; 1.5; 3.5; 1.]\n",
    "\n",
    "let colors = [\"red\"; \"magenta\"; \"yellow\"; \"blue\"; \"deeppink\";\n",
    "                \"orangered\"; \"black\"; \"gray\"; \"aliceblue\"; \"cyan\"]\n",
    "                |> Seq.map (fun c -> Color.fromString c)\n",
    "                |> Color.fromColors\n",
    "\n",
    "Chart.Point(x,y,Name=\"line\",Color=colors)  \n",
    "\n"
   ]
  },
  {
   "cell_type": "code",
   "execution_count": null,
   "metadata": {
    "dotnet_interactive": {
     "language": "fsharp"
    }
   },
   "outputs": [
    {
     "data": {
      "text/html": []
     },
     "metadata": {},
     "output_type": "display_data"
    }
   ],
   "source": [
    "open Plotly.NET.TraceObjects\n",
    "\n",
    "let x=[1; 2; 3; 4]\n",
    "let y=[10; 11; 12; 13]\n",
    "\n",
    "let colors = \n",
    "    [\"rgb(160, 164, 214)\"; \"rgb(255, 144, 14)\";  \"rgb(44, 160, 101)\"; \"rgb(255, 65, 54)\"]\n",
    "    |> Seq.map (fun c -> Color.fromString(c))\n",
    "    |> Color.fromColors\n",
    "\n",
    "let marker = Marker.init(Color=colors)\n",
    "\n",
    "Chart.Scatter(x,y,StyleParam.Mode.Markers)\n",
    "    |> Chart.withMarker(marker)"
   ]
  }
 ],
 "metadata": {
  "kernelspec": {
   "display_name": ".NET (C#)",
   "language": "C#",
   "name": ".net-csharp"
  },
  "language_info": {
   "file_extension": ".cs",
   "mimetype": "text/x-csharp",
   "name": "C#",
   "pygments_lexer": "csharp",
   "version": "9.0"
  },
  "orig_nbformat": 4
 },
 "nbformat": 4,
 "nbformat_minor": 2
}
