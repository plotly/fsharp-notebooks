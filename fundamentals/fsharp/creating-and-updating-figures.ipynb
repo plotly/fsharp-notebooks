{
 "cells": [
  {
   "cell_type": "code",
   "execution_count": null,
   "metadata": {
    "dotnet_interactive": {
     "language": "fsharp"
    }
   },
   "outputs": [
    {
     "data": {
      "text/html": [
       "<div><div></div><div></div><div><strong>Installed Packages</strong><ul><li><span>Deedle, 2.4.3</span></li><li><span>FSharp.Data, 4.2.3</span></li><li><span>Plotly.NET, 2.0.0-preview.9</span></li><li><span>Plotly.NET.Interactive, 2.0.0-preview.9</span></li></ul></div></div>"
      ]
     },
     "metadata": {},
     "output_type": "display_data"
    }
   ],
   "source": [
    "#r \"nuget: Plotly.NET, 2.0.0-preview.9\"\n",
    "#r \"nuget: Plotly.NET.Interactive, 2.0.0-preview.9\"\n",
    "#r \"nuget: Deedle\"\n",
    "#r \"nuget: FSharp.Data\""
   ]
  },
  {
   "cell_type": "markdown",
   "metadata": {},
   "source": [
    "The plotly.NET package exists to create, manipulate and render graphical figures (i.e. charts, plots, maps and diagrams) represented by data structures also referred to as figures. The rendering process uses the Plotly.js JavaScript library under the hood although .NET developers using this module very rarely need to interact with the Javascript library directly, if ever. Figures can be represented as 'DynamicObj' an extension of `DynamicObject` which makes it possible to set arbitraryly named and typed properties of these objects via the `?` operator, and are serialized as text in JavaScript Object Notation (JSON) before being passed to Plotly.js."
   ]
  },
  {
   "cell_type": "markdown",
   "metadata": {},
   "source": [
    "# Creating Figures using DynamicObject"
   ]
  },
  {
   "cell_type": "code",
   "execution_count": null,
   "metadata": {
    "dotnet_interactive": {
     "language": "fsharp"
    }
   },
   "outputs": [
    {
     "data": {
      "text/html": [
       "<div id=\"4c414773-73c9-49cf-ad7b-e7c746e41936\" style=\"width: 600px; height: 600px;\"><!-- Plotly chart will be drawn inside this DIV --></div>\r\n",
       "<script type=\"text/javascript\">\r\n",
       "\n",
       "            var renderPlotly_4c41477373c949cfad7be7c746e41936 = function() {\n",
       "            var fsharpPlotlyRequire = requirejs.config({context:'fsharp-plotly',paths:{plotly:'https://cdn.plot.ly/plotly-2.4.2.min'}}) || require;\n",
       "            fsharpPlotlyRequire(['plotly'], function(Plotly) {\r\n",
       "\n",
       "            var data = [{\"type\":\"bar\",\"x\":[1,2,3],\"y\":[1,3,2]}];\n",
       "            var layout = {\"title\":\"A Figure Specified by DynamicObj\",\"plot_bgcolor\":\"#e5ecf6\",\"xaxis\":{\"title\":\"xAxis\",\"zerolinecolor\":\"#ffff\",\"showline\":true,\"gridcolor\":\"ffff\",\"zerolinewidth\":{\"Item1\":2,\"Item2\":null}},\"yaxis\":{\"title\":\"yAxis\",\"zerolinecolor\":\"#ffff\",\"showline\":true,\"gridcolor\":\"ffff\",\"zerolinewidth\":{\"Item1\":2,\"Item2\":null}},\"showlegend\":true};\n",
       "            var config = {};\n",
       "            Plotly.newPlot('4c414773-73c9-49cf-ad7b-e7c746e41936', data, layout, config);\r\n",
       "});\n",
       "            };\n",
       "            if ((typeof(requirejs) !==  typeof(Function)) || (typeof(requirejs.config) !== typeof(Function))) {\n",
       "                var script = document.createElement(\"script\");\n",
       "                script.setAttribute(\"src\", \"https://cdnjs.cloudflare.com/ajax/libs/require.js/2.3.6/require.min.js\");\n",
       "                script.onload = function(){\n",
       "                    renderPlotly_4c41477373c949cfad7be7c746e41936();\n",
       "                };\n",
       "                document.getElementsByTagName(\"head\")[0].appendChild(script);\n",
       "            }\n",
       "            else {\n",
       "                renderPlotly_4c41477373c949cfad7be7c746e41936();\n",
       "            }\r\n",
       "</script>\r\n"
      ]
     },
     "metadata": {},
     "output_type": "display_data"
    }
   ],
   "source": [
    "open Plotly.NET\n",
    "open Plotly.NET.TraceObjects\n",
    "open Plotly.NET.LayoutObjects\n",
    "\n",
    "let xAxis = \n",
    "    let tmp = LinearAxis()\n",
    "    tmp?title <- \"xAxis\"\n",
    "    tmp?zerolinecolor  <- \"#ffff\"\n",
    "    tmp?showline <- true    \n",
    "    tmp?zerolinewidth <- 2, \n",
    "    tmp?gridcolor <- \"ffff\"\n",
    "    tmp\n",
    "\n",
    "let yAxis =\n",
    "    let tmp = LinearAxis()\n",
    "    tmp?title <- \"yAxis\"\n",
    "    tmp?zerolinecolor  <- \"#ffff\"\n",
    "    tmp?showline <- true    \n",
    "    tmp?zerolinewidth <- 2, \n",
    "    tmp?gridcolor <- \"ffff\"   \n",
    "    tmp\n",
    "\n",
    "let trace = \n",
    "    let tmp = Trace(\"bar\")\n",
    "    tmp?x <- [1;2;3]\n",
    "    tmp?y <- [1;3;2]\n",
    "    tmp\n",
    "\n",
    "let layout =\n",
    "    let tmp = Layout()\n",
    "    tmp?title <- \"A Figure Specified by DynamicObj\"\n",
    "    tmp?plot_bgcolor <- \"#e5ecf6\"\n",
    "    tmp?xaxis <- xAxis\n",
    "    tmp?yaxis <- yAxis    \n",
    "    tmp?showlegend <- true\n",
    "    tmp\n",
    "\n",
    "\n",
    "GenericChart.Figure.create [trace] layout\n",
    "|> GenericChart.fromFigure"
   ]
  },
  {
   "cell_type": "markdown",
   "metadata": {},
   "source": [
    "# Figures as GenericChart Objects\n",
    "\n",
    "Plotly.NET is a .NET wrapper for creation of `plotly charts`() written in F#. This means that, under the hood, all functionality creates JSON objects that can be rendered by plotly.\n",
    "The central type that gets created by all Chart constructors is `GenericChart`, which itself represents either a single chart or a multi chart (as a Discriminate Union type). Plotly.NET has multiple abstraction layers to work with `GenericChart`s.\n",
    "\n",
    "Chart type provides an F# convience layer that abstracts dynamic object creation. Chart type covers all the plot types(i.e Scatter,Line,3D, Heatmap etc).\n",
    "The main benefit of creating charts using Chart type is; It provides strongly typed access to all the properties of Plotly figure "
   ]
  },
  {
   "cell_type": "code",
   "execution_count": null,
   "metadata": {
    "dotnet_interactive": {
     "language": "fsharp"
    }
   },
   "outputs": [
    {
     "data": {
      "text/html": [
       "<div id=\"28394d01-3637-4499-bec5-3c7c1d8a8ddb\" style=\"width: 600px; height: 600px;\"><!-- Plotly chart will be drawn inside this DIV --></div>\r\n",
       "<script type=\"text/javascript\">\r\n",
       "\n",
       "            var renderPlotly_28394d0136374499bec53c7c1d8a8ddb = function() {\n",
       "            var fsharpPlotlyRequire = requirejs.config({context:'fsharp-plotly',paths:{plotly:'https://cdn.plot.ly/plotly-2.4.2.min'}}) || require;\n",
       "            fsharpPlotlyRequire(['plotly'], function(Plotly) {\r\n",
       "\n",
       "            var data = [{\"type\":\"bar\",\"x\":[1,2,3],\"y\":[1,3,2],\"orientation\":\"v\",\"marker\":{\"pattern\":{}}}];\n",
       "            var layout = {\"xaxis\":{\"title\":{\"text\":\"xAxis\"},\"gridcolor\":\"#ffff\",\"zerolinecolor\":\"#ffff\",\"zerolinewidth\":2.0},\"yaxis\":{\"title\":{\"text\":\"Axis\"},\"gridcolor\":\"#ffff\",\"zerolinecolor\":\"#ffff\",\"zerolinewidth\":2.0},\"title\":{\"text\":\"A Plotly.NET Chart\"},\"plot_bgcolor\":\"#e5ecf6\"};\n",
       "            var config = {};\n",
       "            Plotly.newPlot('28394d01-3637-4499-bec5-3c7c1d8a8ddb', data, layout, config);\r\n",
       "});\n",
       "            };\n",
       "            if ((typeof(requirejs) !==  typeof(Function)) || (typeof(requirejs.config) !== typeof(Function))) {\n",
       "                var script = document.createElement(\"script\");\n",
       "                script.setAttribute(\"src\", \"https://cdnjs.cloudflare.com/ajax/libs/require.js/2.3.6/require.min.js\");\n",
       "                script.onload = function(){\n",
       "                    renderPlotly_28394d0136374499bec53c7c1d8a8ddb();\n",
       "                };\n",
       "                document.getElementsByTagName(\"head\")[0].appendChild(script);\n",
       "            }\n",
       "            else {\n",
       "                renderPlotly_28394d0136374499bec53c7c1d8a8ddb();\n",
       "            }\r\n",
       "</script>\r\n"
      ]
     },
     "metadata": {},
     "output_type": "display_data"
    }
   ],
   "source": [
    "Chart.Column(Keys = [ 1; 2; 3 ], values = [ 1; 3; 2 ])\n",
    "|> Chart.withXAxis (\n",
    "    LinearAxis.init (\n",
    "        Title = Title.init (\"xAxis\"),\n",
    "        ZeroLineColor = Color.fromString \"#ffff\",\n",
    "        GridColor = Color.fromString \"#ffff\",\n",
    "        ZeroLineWidth = 2.\n",
    "    )\n",
    ")\n",
    "|> Chart.withYAxis (\n",
    "    LinearAxis.init (\n",
    "        Title = Title.init (\"Axis\"),\n",
    "        ZeroLineColor = Color.fromString \"#ffff\",\n",
    "        GridColor = Color.fromString \"#ffff\",\n",
    "        ZeroLineWidth = 2.\n",
    "    )\n",
    ")\n",
    "|> Chart.withLayout (Layout.init (Title = Title.init (\"A Plotly.NET Chart\"), PlotBGColor = Color.fromString \"#e5ecf6\"))"
   ]
  },
  {
   "cell_type": "markdown",
   "metadata": {},
   "source": [
    "# Creating Figures/Charts\n",
    "\n",
    "This section summarizes several ways to create new Plotly figures with the Plotly.NET."
   ]
  },
  {
   "cell_type": "markdown",
   "metadata": {},
   "source": [
    "## Scatter Plot"
   ]
  },
  {
   "cell_type": "code",
   "execution_count": null,
   "metadata": {
    "dotnet_interactive": {
     "language": "fsharp"
    }
   },
   "outputs": [
    {
     "data": {
      "text/html": [
       "<div id=\"d81da6e5-91c2-49de-adee-404539c6320d\" style=\"width: 600px; height: 600px;\"><!-- Plotly chart will be drawn inside this DIV --></div>\r\n",
       "<script type=\"text/javascript\">\r\n",
       "\n",
       "            var renderPlotly_d81da6e591c249deadee404539c6320d = function() {\n",
       "            var fsharpPlotlyRequire = requirejs.config({context:'fsharp-plotly',paths:{plotly:'https://cdn.plot.ly/plotly-2.4.2.min'}}) || require;\n",
       "            fsharpPlotlyRequire(['plotly'], function(Plotly) {\r\n",
       "\n",
       "            var data = [{\"type\":\"scatter\",\"mode\":\"markers\",\"x\":[3.5,3.0,3.2,3.1,3.6,3.9,3.4,3.4,2.9,3.1,3.7,3.4,3.0,3.0,4.0,4.4,3.9,3.5,3.8,3.8,3.4,3.7,3.6,3.3,3.4,3.0,3.4,3.5,3.4,3.2,3.1,3.4,4.1,4.2,3.1,3.2,3.5,3.1,3.0,3.4,3.5,2.3,3.2,3.5,3.8,3.0,3.8,3.2,3.7,3.3,3.2,3.2,3.1,2.3,2.8,2.8,3.3,2.4,2.9,2.7,2.0,3.0,2.2,2.9,2.9,3.1,3.0,2.7,2.2,2.5,3.2,2.8,2.5,2.8,2.9,3.0,2.8,3.0,2.9,2.6,2.4,2.4,2.7,2.7,3.0,3.4,3.1,2.3,3.0,2.5,2.6,3.0,2.6,2.3,2.7,3.0,2.9,2.9,2.5,2.8,3.3,2.7,3.0,2.9,3.0,3.0,2.5,2.9,2.5,3.6,3.2,2.7,3.0,2.5,2.8,3.2,3.0,3.8,2.6,2.2,3.2,2.8,2.8,2.7,3.3,3.2,2.8,3.0,2.8,3.0,2.8,3.8,2.8,2.8,2.6,3.0,3.4,3.1,3.0,3.1,3.1,3.1,2.7,3.2,3.3,3.0,2.5,3.0,3.4,3.0],\"y\":[5.1,4.9,4.7,4.6,5.0,5.4,4.6,5.0,4.4,4.9,5.4,4.8,4.8,4.3,5.8,5.7,5.4,5.1,5.7,5.1,5.4,5.1,4.6,5.1,4.8,5.0,5.0,5.2,5.2,4.7,4.8,5.4,5.2,5.5,4.9,5.0,5.5,4.9,4.4,5.1,5.0,4.5,4.4,5.0,5.1,4.8,5.1,4.6,5.3,5.0,7.0,6.4,6.9,5.5,6.5,5.7,6.3,4.9,6.6,5.2,5.0,5.9,6.0,6.1,5.6,6.7,5.6,5.8,6.2,5.6,5.9,6.1,6.3,6.1,6.4,6.6,6.8,6.7,6.0,5.7,5.5,5.5,5.8,6.0,5.4,6.0,6.7,6.3,5.6,5.5,5.5,6.1,5.8,5.0,5.6,5.7,5.7,6.2,5.1,5.7,6.3,5.8,7.1,6.3,6.5,7.6,4.9,7.3,6.7,7.2,6.5,6.4,6.8,5.7,5.8,6.4,6.5,7.7,7.7,6.0,6.9,5.6,7.7,6.3,6.7,7.2,6.2,6.1,6.4,7.2,7.4,7.9,6.4,6.3,6.1,7.7,6.3,6.4,6.0,6.9,6.7,6.9,5.8,6.8,6.7,6.7,6.3,6.5,6.2,5.9],\"line\":{\"color\":[\"blue\",\"blue\",\"blue\",\"blue\",\"blue\",\"blue\",\"blue\",\"blue\",\"blue\",\"blue\",\"blue\",\"blue\",\"blue\",\"blue\",\"blue\",\"blue\",\"blue\",\"blue\",\"blue\",\"blue\",\"blue\",\"blue\",\"blue\",\"blue\",\"blue\",\"blue\",\"blue\",\"blue\",\"blue\",\"blue\",\"blue\",\"blue\",\"blue\",\"blue\",\"blue\",\"blue\",\"blue\",\"blue\",\"blue\",\"blue\",\"blue\",\"blue\",\"blue\",\"blue\",\"blue\",\"blue\",\"blue\",\"blue\",\"blue\",\"blue\",\"orange\",\"orange\",\"orange\",\"orange\",\"orange\",\"orange\",\"orange\",\"orange\",\"orange\",\"orange\",\"orange\",\"orange\",\"orange\",\"orange\",\"orange\",\"orange\",\"orange\",\"orange\",\"orange\",\"orange\",\"orange\",\"orange\",\"orange\",\"orange\",\"orange\",\"orange\",\"orange\",\"orange\",\"orange\",\"orange\",\"orange\",\"orange\",\"orange\",\"orange\",\"orange\",\"orange\",\"orange\",\"orange\",\"orange\",\"orange\",\"orange\",\"orange\",\"orange\",\"orange\",\"orange\",\"orange\",\"orange\",\"orange\",\"orange\",\"orange\",\"deeppink\",\"deeppink\",\"deeppink\",\"deeppink\",\"deeppink\",\"deeppink\",\"deeppink\",\"deeppink\",\"deeppink\",\"deeppink\",\"deeppink\",\"deeppink\",\"deeppink\",\"deeppink\",\"deeppink\",\"deeppink\",\"deeppink\",\"deeppink\",\"deeppink\",\"deeppink\",\"deeppink\",\"deeppink\",\"deeppink\",\"deeppink\",\"deeppink\",\"deeppink\",\"deeppink\",\"deeppink\",\"deeppink\",\"deeppink\",\"deeppink\",\"deeppink\",\"deeppink\",\"deeppink\",\"deeppink\",\"deeppink\",\"deeppink\",\"deeppink\",\"deeppink\",\"deeppink\",\"deeppink\",\"deeppink\",\"deeppink\",\"deeppink\",\"deeppink\",\"deeppink\",\"deeppink\",\"deeppink\",\"deeppink\",\"deeppink\"]},\"marker\":{\"color\":[\"blue\",\"blue\",\"blue\",\"blue\",\"blue\",\"blue\",\"blue\",\"blue\",\"blue\",\"blue\",\"blue\",\"blue\",\"blue\",\"blue\",\"blue\",\"blue\",\"blue\",\"blue\",\"blue\",\"blue\",\"blue\",\"blue\",\"blue\",\"blue\",\"blue\",\"blue\",\"blue\",\"blue\",\"blue\",\"blue\",\"blue\",\"blue\",\"blue\",\"blue\",\"blue\",\"blue\",\"blue\",\"blue\",\"blue\",\"blue\",\"blue\",\"blue\",\"blue\",\"blue\",\"blue\",\"blue\",\"blue\",\"blue\",\"blue\",\"blue\",\"orange\",\"orange\",\"orange\",\"orange\",\"orange\",\"orange\",\"orange\",\"orange\",\"orange\",\"orange\",\"orange\",\"orange\",\"orange\",\"orange\",\"orange\",\"orange\",\"orange\",\"orange\",\"orange\",\"orange\",\"orange\",\"orange\",\"orange\",\"orange\",\"orange\",\"orange\",\"orange\",\"orange\",\"orange\",\"orange\",\"orange\",\"orange\",\"orange\",\"orange\",\"orange\",\"orange\",\"orange\",\"orange\",\"orange\",\"orange\",\"orange\",\"orange\",\"orange\",\"orange\",\"orange\",\"orange\",\"orange\",\"orange\",\"orange\",\"orange\",\"deeppink\",\"deeppink\",\"deeppink\",\"deeppink\",\"deeppink\",\"deeppink\",\"deeppink\",\"deeppink\",\"deeppink\",\"deeppink\",\"deeppink\",\"deeppink\",\"deeppink\",\"deeppink\",\"deeppink\",\"deeppink\",\"deeppink\",\"deeppink\",\"deeppink\",\"deeppink\",\"deeppink\",\"deeppink\",\"deeppink\",\"deeppink\",\"deeppink\",\"deeppink\",\"deeppink\",\"deeppink\",\"deeppink\",\"deeppink\",\"deeppink\",\"deeppink\",\"deeppink\",\"deeppink\",\"deeppink\",\"deeppink\",\"deeppink\",\"deeppink\",\"deeppink\",\"deeppink\",\"deeppink\",\"deeppink\",\"deeppink\",\"deeppink\",\"deeppink\",\"deeppink\",\"deeppink\",\"deeppink\",\"deeppink\",\"deeppink\"]}}];\n",
       "            var layout = {\"title\":{\"text\":\"A Plotly Figure\"},\"plot_bgcolor\":\"#e5ecf6\",\"xaxis\":{\"title\":{\"text\":\"SepalWidth\"},\"gridcolor\":\"#ffff\",\"zerolinecolor\":\"#ffff\",\"zerolinewidth\":2.0},\"yaxis\":{\"title\":{\"text\":\"SepalLength\"},\"gridcolor\":\"#ffff\",\"zerolinecolor\":\"#ffff\",\"zerolinewidth\":2.0}};\n",
       "            var config = {};\n",
       "            Plotly.newPlot('d81da6e5-91c2-49de-adee-404539c6320d', data, layout, config);\r\n",
       "});\n",
       "            };\n",
       "            if ((typeof(requirejs) !==  typeof(Function)) || (typeof(requirejs.config) !== typeof(Function))) {\n",
       "                var script = document.createElement(\"script\");\n",
       "                script.setAttribute(\"src\", \"https://cdnjs.cloudflare.com/ajax/libs/require.js/2.3.6/require.min.js\");\n",
       "                script.onload = function(){\n",
       "                    renderPlotly_d81da6e591c249deadee404539c6320d();\n",
       "                };\n",
       "                document.getElementsByTagName(\"head\")[0].appendChild(script);\n",
       "            }\n",
       "            else {\n",
       "                renderPlotly_d81da6e591c249deadee404539c6320d();\n",
       "            }\r\n",
       "</script>\r\n"
      ]
     },
     "metadata": {},
     "output_type": "display_data"
    }
   ],
   "source": [
    "open FSharp.Data\n",
    "open Deedle\n",
    "open Plotly.NET\n",
    "\n",
    "let data =\n",
    "    Http.RequestString \"https://raw.githubusercontent.com/plotly/datasets/master/iris.csv\"\n",
    "    |> fun csv -> Frame.ReadCsvString(csv, true, separators = \",\")\n",
    "\n",
    "let getColumnData column =\n",
    "    data\n",
    "    |> Frame.getCol column\n",
    "    |> Series.values\n",
    "    |> Array.ofSeq\n",
    "\n",
    "let X: float [] = getColumnData \"SepalWidth\"\n",
    "let Y: float [] = getColumnData \"SepalLength\"\n",
    "\n",
    "let Colors =\n",
    "    getColumnData \"Name\"\n",
    "    |> Seq.map\n",
    "        (function\n",
    "        | \"Iris-setosa\" -> Color.fromString \"blue\"\n",
    "        | \"Iris-versicolor\" -> Color.fromString \"orange\"\n",
    "        | _ -> Color.fromString \"deeppink\")\n",
    "    |> Color.fromColors\n",
    "\n",
    "Chart.Scatter(x = X, y = Y, mode = StyleParam.Mode.Markers, Color = Colors)\n",
    "|> Chart.withLayout (\n",
    "    Layout.init (Title = Title.init (Text = \"A Plotly Figure\"), PlotBGColor = Color.fromString \"#e5ecf6\")\n",
    ")\n",
    "|> Chart.withXAxis (\n",
    "    LinearAxis.init (\n",
    "        Title = Title.init (Text = \"SepalWidth\"),\n",
    "        ZeroLineColor = Color.fromString \"#ffff\",\n",
    "        ZeroLineWidth = 2.,\n",
    "        GridColor = Color.fromString \"#ffff\"\n",
    "    )\n",
    ")\n",
    "|> Chart.withYAxis (\n",
    "    LinearAxis.init (\n",
    "        Title = Title.init (Text = \"SepalLength\"),\n",
    "        ZeroLineColor = Color.fromString \"#ffff\",\n",
    "        ZeroLineWidth = 2.,\n",
    "        GridColor = Color.fromString \"#ffff\"\n",
    "    )\n",
    ")\n"
   ]
  },
  {
   "cell_type": "markdown",
   "metadata": {},
   "source": [
    "## Make Subplots\n",
    "\n",
    "Chart.Grid creates a grid of subplots that traces can be added to"
   ]
  },
  {
   "cell_type": "code",
   "execution_count": null,
   "metadata": {
    "dotnet_interactive": {
     "language": "fsharp"
    }
   },
   "outputs": [
    {
     "data": {
      "text/html": [
       "<div id=\"6b196964-1a4e-4488-b5ff-43f99eefb755\" style=\"width: 600px; height: 600px;\"><!-- Plotly chart will be drawn inside this DIV --></div>\r\n",
       "<script type=\"text/javascript\">\r\n",
       "\n",
       "            var renderPlotly_6b1969641a4e4488b5ff43f99eefb755 = function() {\n",
       "            var fsharpPlotlyRequire = requirejs.config({context:'fsharp-plotly',paths:{plotly:'https://cdn.plot.ly/plotly-2.4.2.min'}}) || require;\n",
       "            fsharpPlotlyRequire(['plotly'], function(Plotly) {\r\n",
       "\n",
       "            var data = [{\"type\":\"scatter\",\"mode\":\"markers\",\"x\":[1,2,3],\"y\":[4,2,1],\"name\":\"Scatter\",\"line\":{},\"marker\":{},\"xaxis\":\"x\",\"yaxis\":\"y\"},{\"type\":\"bar\",\"name\":\"Bar\",\"x\":[4,2,1],\"y\":[1,2,3],\"orientation\":\"v\",\"marker\":{\"pattern\":{}},\"xaxis\":\"x2\",\"yaxis\":\"y2\"}];\n",
       "            var layout = {\"xaxis\":{},\"yaxis\":{},\"xaxis2\":{},\"yaxis2\":{},\"grid\":{\"rows\":1,\"columns\":2,\"pattern\":\"independent\"}};\n",
       "            var config = {};\n",
       "            Plotly.newPlot('6b196964-1a4e-4488-b5ff-43f99eefb755', data, layout, config);\r\n",
       "});\n",
       "            };\n",
       "            if ((typeof(requirejs) !==  typeof(Function)) || (typeof(requirejs.config) !== typeof(Function))) {\n",
       "                var script = document.createElement(\"script\");\n",
       "                script.setAttribute(\"src\", \"https://cdnjs.cloudflare.com/ajax/libs/require.js/2.3.6/require.min.js\");\n",
       "                script.onload = function(){\n",
       "                    renderPlotly_6b1969641a4e4488b5ff43f99eefb755();\n",
       "                };\n",
       "                document.getElementsByTagName(\"head\")[0].appendChild(script);\n",
       "            }\n",
       "            else {\n",
       "                renderPlotly_6b1969641a4e4488b5ff43f99eefb755();\n",
       "            }\r\n",
       "</script>\r\n"
      ]
     },
     "metadata": {},
     "output_type": "display_data"
    }
   ],
   "source": [
    "open Plotly.NET\n",
    "\n",
    "let scatter =\n",
    "    Chart.Scatter(x = [ 1; 2; 3 ], y = [ 4; 2; 1 ], mode = StyleParam.Mode.Markers, Name = \"Scatter\")\n",
    "\n",
    "let bar =\n",
    "    Chart.Column([ 1; 2; 3 ], [ 4; 2; 1 ], Name = \"Bar\")\n",
    "\n",
    "[ scatter; bar ] |> Chart.Grid(1, 2)"
   ]
  },
  {
   "cell_type": "markdown",
   "metadata": {},
   "source": [
    "# Updating Figures"
   ]
  },
  {
   "cell_type": "markdown",
   "metadata": {},
   "source": [
    "## Adding Traces\n",
    "\n",
    "Traces can be added using Chart.combine that creates a GenericChart object"
   ]
  },
  {
   "cell_type": "code",
   "execution_count": null,
   "metadata": {
    "dotnet_interactive": {
     "language": "fsharp"
    }
   },
   "outputs": [
    {
     "data": {
      "text/html": [
       "<div id=\"73945fe1-3ed5-4e2f-8888-2a6ae66fcee8\" style=\"width: 600px; height: 600px;\"><!-- Plotly chart will be drawn inside this DIV --></div>\r\n",
       "<script type=\"text/javascript\">\r\n",
       "\n",
       "            var renderPlotly_73945fe13ed54e2f88882a6ae66fcee8 = function() {\n",
       "            var fsharpPlotlyRequire = requirejs.config({context:'fsharp-plotly',paths:{plotly:'https://cdn.plot.ly/plotly-2.4.2.min'}}) || require;\n",
       "            fsharpPlotlyRequire(['plotly'], function(Plotly) {\r\n",
       "\n",
       "            var data = [{\"type\":\"scatter\",\"mode\":\"markers\",\"x\":[1,2,3],\"y\":[4,2,1],\"name\":\"Scatter\",\"line\":{},\"marker\":{\"size\":10}},{\"type\":\"bar\",\"name\":\"Bar\",\"x\":[1,2,3],\"y\":[4,2,1],\"orientation\":\"v\",\"marker\":{\"pattern\":{}}}];\n",
       "            var layout = {};\n",
       "            var config = {};\n",
       "            Plotly.newPlot('73945fe1-3ed5-4e2f-8888-2a6ae66fcee8', data, layout, config);\r\n",
       "});\n",
       "            };\n",
       "            if ((typeof(requirejs) !==  typeof(Function)) || (typeof(requirejs.config) !== typeof(Function))) {\n",
       "                var script = document.createElement(\"script\");\n",
       "                script.setAttribute(\"src\", \"https://cdnjs.cloudflare.com/ajax/libs/require.js/2.3.6/require.min.js\");\n",
       "                script.onload = function(){\n",
       "                    renderPlotly_73945fe13ed54e2f88882a6ae66fcee8();\n",
       "                };\n",
       "                document.getElementsByTagName(\"head\")[0].appendChild(script);\n",
       "            }\n",
       "            else {\n",
       "                renderPlotly_73945fe13ed54e2f88882a6ae66fcee8();\n",
       "            }\r\n",
       "</script>\r\n"
      ]
     },
     "metadata": {},
     "output_type": "display_data"
    }
   ],
   "source": [
    "open Plotly.NET\n",
    "\n",
    "let scatter =\n",
    "    Chart.Scatter(x = [ 1; 2; 3 ], y = [ 4; 2; 1 ], mode = StyleParam.Mode.Markers, Name = \"Scatter\")\n",
    "    |> Chart.withMarkerStyle (Size = 10)\n",
    "\n",
    "let bar =\n",
    "    Chart.Column(Keys = [ 1; 2; 3 ], values = [ 4; 2; 1 ], Name = \"Bar\")\n",
    "\n",
    "[ scatter; bar ] |> Chart.combine\n"
   ]
  },
  {
   "cell_type": "markdown",
   "metadata": {},
   "source": [
    "## Updating Figure Layouts\n",
    "\n",
    "Chart.withLayout updates the default Layout for the plot"
   ]
  },
  {
   "cell_type": "code",
   "execution_count": null,
   "metadata": {
    "dotnet_interactive": {
     "language": "fsharp"
    }
   },
   "outputs": [
    {
     "data": {
      "text/html": [
       "<div id=\"59344914-94d8-49a0-ac6a-114056244fe6\" style=\"width: 600px; height: 600px;\"><!-- Plotly chart will be drawn inside this DIV --></div>\r\n",
       "<script type=\"text/javascript\">\r\n",
       "\n",
       "            var renderPlotly_5934491494d849a0ac6a114056244fe6 = function() {\n",
       "            var fsharpPlotlyRequire = requirejs.config({context:'fsharp-plotly',paths:{plotly:'https://cdn.plot.ly/plotly-2.4.2.min'}}) || require;\n",
       "            fsharpPlotlyRequire(['plotly'], function(Plotly) {\r\n",
       "\n",
       "            var data = [{\"type\":\"bar\",\"name\":\"Bar\",\"x\":[1,2,3],\"y\":[4,2,1],\"orientation\":\"v\",\"marker\":{\"pattern\":{}}}];\n",
       "            var layout = {\"title\":{\"text\":\"Using Layout() With Plotly Figures\"},\"font\":{\"size\":17.0},\"plot_bgcolor\":\"#e5ecf6\"};\n",
       "            var config = {};\n",
       "            Plotly.newPlot('59344914-94d8-49a0-ac6a-114056244fe6', data, layout, config);\r\n",
       "});\n",
       "            };\n",
       "            if ((typeof(requirejs) !==  typeof(Function)) || (typeof(requirejs.config) !== typeof(Function))) {\n",
       "                var script = document.createElement(\"script\");\n",
       "                script.setAttribute(\"src\", \"https://cdnjs.cloudflare.com/ajax/libs/require.js/2.3.6/require.min.js\");\n",
       "                script.onload = function(){\n",
       "                    renderPlotly_5934491494d849a0ac6a114056244fe6();\n",
       "                };\n",
       "                document.getElementsByTagName(\"head\")[0].appendChild(script);\n",
       "            }\n",
       "            else {\n",
       "                renderPlotly_5934491494d849a0ac6a114056244fe6();\n",
       "            }\r\n",
       "</script>\r\n"
      ]
     },
     "metadata": {},
     "output_type": "display_data"
    }
   ],
   "source": [
    "open Plotly.NET\n",
    "\n",
    "let layout =\n",
    "    Layout.init (\n",
    "        Title = Title.init (Text = \"Using Layout() With Plotly Figures\"),\n",
    "        Font = Font.init (Size = 17.),\n",
    "        PlotBGColor = Color.fromString \"#e5ecf6\"\n",
    "    )\n",
    "\n",
    "Chart.Column(Keys = [ 1; 2; 3 ], values = [ 4; 2; 1 ], Name = \"Bar\")\n",
    "|> Chart.withLayout (layout)\n"
   ]
  },
  {
   "cell_type": "markdown",
   "metadata": {},
   "source": [
    "# Updating Traces\n",
    "\n",
    "Plotly.NET provides extensions for updating properties of GenericChart\n",
    "\n",
    "To show some examples, we will start with a chart that contains bar and scatter traces across two subplots."
   ]
  },
  {
   "cell_type": "code",
   "execution_count": null,
   "metadata": {
    "dotnet_interactive": {
     "language": "fsharp"
    }
   },
   "outputs": [
    {
     "data": {
      "text/html": [
       "<div id=\"6a252d54-a5a1-4282-989f-6617ecc82b6c\" style=\"width: 600px; height: 600px;\"><!-- Plotly chart will be drawn inside this DIV --></div>\r\n",
       "<script type=\"text/javascript\">\r\n",
       "\n",
       "            var renderPlotly_6a252d54a5a14282989f6617ecc82b6c = function() {\n",
       "            var fsharpPlotlyRequire = requirejs.config({context:'fsharp-plotly',paths:{plotly:'https://cdn.plot.ly/plotly-2.4.2.min'}}) || require;\n",
       "            fsharpPlotlyRequire(['plotly'], function(Plotly) {\r\n",
       "\n",
       "            var data = [{\"type\":\"bar\",\"name\":\"b\",\"x\":[0,1,2],\"y\":[2,1,3],\"orientation\":\"v\",\"marker\":{\"color\":\"red\",\"pattern\":{}},\"xaxis\":\"x\",\"yaxis\":\"y\"},{\"type\":\"scatter\",\"mode\":\"markers\",\"x\":[0,1,2],\"y\":[4.0,2.0,3.5],\"name\":\"a\",\"line\":{},\"marker\":{\"color\":\"rgb(51, 204, 51)\",\"size\":20},\"xaxis\":\"x\",\"yaxis\":\"y\"},{\"type\":\"bar\",\"name\":\"c\",\"x\":[0,1,2],\"y\":[1,3,2],\"orientation\":\"v\",\"marker\":{\"color\":\"#33cc33\",\"pattern\":{}},\"xaxis\":\"x2\",\"yaxis\":\"y2\"},{\"type\":\"scatter\",\"mode\":\"markers\",\"x\":[0,1,2],\"y\":[2.0,3.5,4.0],\"name\":\"d\",\"line\":{},\"marker\":{\"color\":\"rgb(255, 0,0)\",\"size\":20},\"xaxis\":\"x2\",\"yaxis\":\"y2\"}];\n",
       "            var layout = {\"xaxis\":{},\"yaxis\":{},\"xaxis2\":{},\"yaxis2\":{},\"grid\":{\"rows\":1,\"columns\":2,\"pattern\":\"independent\"}};\n",
       "            var config = {};\n",
       "            Plotly.newPlot('6a252d54-a5a1-4282-989f-6617ecc82b6c', data, layout, config);\r\n",
       "});\n",
       "            };\n",
       "            if ((typeof(requirejs) !==  typeof(Function)) || (typeof(requirejs.config) !== typeof(Function))) {\n",
       "                var script = document.createElement(\"script\");\n",
       "                script.setAttribute(\"src\", \"https://cdnjs.cloudflare.com/ajax/libs/require.js/2.3.6/require.min.js\");\n",
       "                script.onload = function(){\n",
       "                    renderPlotly_6a252d54a5a14282989f6617ecc82b6c();\n",
       "                };\n",
       "                document.getElementsByTagName(\"head\")[0].appendChild(script);\n",
       "            }\n",
       "            else {\n",
       "                renderPlotly_6a252d54a5a14282989f6617ecc82b6c();\n",
       "            }\r\n",
       "</script>\r\n"
      ]
     },
     "metadata": {},
     "output_type": "display_data"
    }
   ],
   "source": [
    "open Plotly.NET\n",
    "\n",
    "let fig1 =\n",
    "    [ Chart.Column(Keys = [ 0; 1; 2 ], values = [ 2; 1; 3 ], Name = \"b\", Color = Color.fromString \"red\")\n",
    "      Chart.Scatter(x = [ 0; 1; 2 ], y = [ 4.; 2.; 3.5 ], mode = StyleParam.Mode.Markers, Name = \"a\")\n",
    "      |> Chart.withMarkerStyle (Size = 20, Color = Color.fromString \"rgb(51, 204, 51)\") ]\n",
    "    |> Chart.combine\n",
    "    \n",
    "let fig2 =\n",
    "    [ Chart.Column(Keys = [ 0; 1; 2 ], values = [ 1; 3; 2 ], Name = \"c\", Color = Color.fromString \"#33cc33\")\n",
    "      Chart.Scatter(x = [ 0; 1; 2 ], y = [ 2.; 3.5; 4. ], mode = StyleParam.Mode.Markers, Name = \"d\")\n",
    "      |> Chart.withMarkerStyle (Size = 20, Color = Color.fromString \"rgb(255, 0,0)\") ]\n",
    "    |> Chart.combine\n",
    "    \n",
    "\n",
    "[ fig1; fig2 ] |> Chart.Grid(1, 2)\n"
   ]
  },
  {
   "cell_type": "markdown",
   "metadata": {},
   "source": [
    "Note that both scatter and bar traces have a Marker Color property to control their coloring. Here is an example of using markerStyle() to modify the color of all traces."
   ]
  },
  {
   "cell_type": "code",
   "execution_count": null,
   "metadata": {
    "dotnet_interactive": {
     "language": "fsharp"
    }
   },
   "outputs": [
    {
     "data": {
      "text/html": [
       "<div id=\"2690be4d-c5e4-43af-be23-0550ea7ca8f6\" style=\"width: 600px; height: 600px;\"><!-- Plotly chart will be drawn inside this DIV --></div>\r\n",
       "<script type=\"text/javascript\">\r\n",
       "\n",
       "            var renderPlotly_2690be4dc5e443afbe230550ea7ca8f6 = function() {\n",
       "            var fsharpPlotlyRequire = requirejs.config({context:'fsharp-plotly',paths:{plotly:'https://cdn.plot.ly/plotly-2.4.2.min'}}) || require;\n",
       "            fsharpPlotlyRequire(['plotly'], function(Plotly) {\r\n",
       "\n",
       "            var data = [{\"type\":\"bar\",\"name\":\"b\",\"x\":[0,1,2],\"y\":[2,1,3],\"orientation\":\"v\",\"marker\":{\"color\":\"blue\",\"pattern\":{},\"size\":20},\"xaxis\":\"x\",\"yaxis\":\"y\"},{\"type\":\"scatter\",\"mode\":\"markers\",\"x\":[0,1,2],\"y\":[4.0,2.0,3.5],\"name\":\"a\",\"line\":{},\"marker\":{\"color\":\"blue\",\"size\":20},\"xaxis\":\"x\",\"yaxis\":\"y\"},{\"type\":\"bar\",\"name\":\"c\",\"x\":[0,1,2],\"y\":[1,3,2],\"orientation\":\"v\",\"marker\":{\"color\":\"blue\",\"pattern\":{},\"size\":20},\"xaxis\":\"x2\",\"yaxis\":\"y2\"},{\"type\":\"scatter\",\"mode\":\"markers\",\"x\":[0,1,2],\"y\":[2.0,3.5,4.0],\"name\":\"d\",\"line\":{},\"marker\":{\"color\":\"blue\",\"size\":20},\"xaxis\":\"x2\",\"yaxis\":\"y2\"}];\n",
       "            var layout = {\"xaxis\":{},\"yaxis\":{},\"xaxis2\":{},\"yaxis2\":{},\"grid\":{\"rows\":1,\"columns\":2,\"pattern\":\"independent\"}};\n",
       "            var config = {};\n",
       "            Plotly.newPlot('2690be4d-c5e4-43af-be23-0550ea7ca8f6', data, layout, config);\r\n",
       "});\n",
       "            };\n",
       "            if ((typeof(requirejs) !==  typeof(Function)) || (typeof(requirejs.config) !== typeof(Function))) {\n",
       "                var script = document.createElement(\"script\");\n",
       "                script.setAttribute(\"src\", \"https://cdnjs.cloudflare.com/ajax/libs/require.js/2.3.6/require.min.js\");\n",
       "                script.onload = function(){\n",
       "                    renderPlotly_2690be4dc5e443afbe230550ea7ca8f6();\n",
       "                };\n",
       "                document.getElementsByTagName(\"head\")[0].appendChild(script);\n",
       "            }\n",
       "            else {\n",
       "                renderPlotly_2690be4dc5e443afbe230550ea7ca8f6();\n",
       "            }\r\n",
       "</script>\r\n"
      ]
     },
     "metadata": {},
     "output_type": "display_data"
    }
   ],
   "source": [
    "open Plotly.NET\n",
    "\n",
    "let fig1 =\n",
    "    [ Chart.Column(Keys = [ 0; 1; 2 ], values = [ 2; 1; 3 ], Name = \"b\", Color = Color.fromString \"red\")\n",
    "      Chart.Scatter(x = [ 0; 1; 2 ], y = [ 4.; 2.; 3.5 ], mode = StyleParam.Mode.Markers, Name = \"a\")\n",
    "      |> Chart.withMarkerStyle (Size = 20, Color = Color.fromString \"rgb(51, 204, 51)\") ]\n",
    "    |> Chart.combine\n",
    "    |> Chart.withMarkerStyle(Size=20,Color=Color.fromString \"blue\")\n",
    "    \n",
    "let fig2 =\n",
    "    [ Chart.Column(Keys = [ 0; 1; 2 ], values = [ 1; 3; 2 ], Name = \"c\", Color = Color.fromString \"#33cc33\")\n",
    "      Chart.Scatter(x = [ 0; 1; 2 ], y = [ 2.; 3.5; 4. ], mode = StyleParam.Mode.Markers, Name = \"d\")\n",
    "      |> Chart.withMarkerStyle (Size = 20, Color = Color.fromString \"rgb(255, 0,0)\") ]\n",
    "    |> Chart.combine\n",
    "    |> Chart.withMarkerStyle(Size=20,Color=Color.fromString \"blue\")\n",
    "    \n",
    "\n",
    "[ fig1; fig2 ] |> Chart.Grid(1, 2)"
   ]
  },
  {
   "cell_type": "markdown",
   "metadata": {},
   "source": [
    "Individual trace marker styles can be updated with markerStyle like as shown above"
   ]
  },
  {
   "cell_type": "markdown",
   "metadata": {},
   "source": [
    "# Overwrite Existing Properties\n",
    "\n",
    "It is possible to overwrite the defined properties with the corresponding extension methods / abstractions\n",
    "\n",
    "For example, Chart.withMarker() overwrites the red color of markers as shown below"
   ]
  },
  {
   "cell_type": "code",
   "execution_count": null,
   "metadata": {
    "dotnet_interactive": {
     "language": "fsharp"
    }
   },
   "outputs": [
    {
     "data": {
      "text/html": [
       "<div id=\"6f7ef036-d31b-44d1-93be-6e501f5f2643\" style=\"width: 600px; height: 600px;\"><!-- Plotly chart will be drawn inside this DIV --></div>\r\n",
       "<script type=\"text/javascript\">\r\n",
       "\n",
       "            var renderPlotly_6f7ef036d31b44d193be6e501f5f2643 = function() {\n",
       "            var fsharpPlotlyRequire = requirejs.config({context:'fsharp-plotly',paths:{plotly:'https://cdn.plot.ly/plotly-2.4.2.min'}}) || require;\n",
       "            fsharpPlotlyRequire(['plotly'], function(Plotly) {\r\n",
       "\n",
       "            var data = [{\"type\":\"bar\",\"x\":[1,3,2],\"y\":[1,2,3],\"orientation\":\"v\",\"marker\":{\"opacity\":0.4}}];\n",
       "            var layout = {};\n",
       "            var config = {};\n",
       "            Plotly.newPlot('6f7ef036-d31b-44d1-93be-6e501f5f2643', data, layout, config);\r\n",
       "});\n",
       "            };\n",
       "            if ((typeof(requirejs) !==  typeof(Function)) || (typeof(requirejs.config) !== typeof(Function))) {\n",
       "                var script = document.createElement(\"script\");\n",
       "                script.setAttribute(\"src\", \"https://cdnjs.cloudflare.com/ajax/libs/require.js/2.3.6/require.min.js\");\n",
       "                script.onload = function(){\n",
       "                    renderPlotly_6f7ef036d31b44d193be6e501f5f2643();\n",
       "                };\n",
       "                document.getElementsByTagName(\"head\")[0].appendChild(script);\n",
       "            }\n",
       "            else {\n",
       "                renderPlotly_6f7ef036d31b44d193be6e501f5f2643();\n",
       "            }\r\n",
       "</script>\r\n"
      ]
     },
     "metadata": {},
     "output_type": "display_data"
    }
   ],
   "source": [
    "open Plotly.NET\n",
    "\n",
    "Chart.Column([1;2;3],[1;3;2],Color=Color.fromString \"red\")\n",
    "|> Chart.withMarker(Marker.init(Opacity=0.4))"
   ]
  },
  {
   "cell_type": "markdown",
   "metadata": {},
   "source": [
    "# Updating Figure Axes\n",
    "\n",
    "Here is an example of using Chart.withXAxis to disable the vertical grid lines across the subplots in a figure produced by Plotly.NET"
   ]
  },
  {
   "cell_type": "code",
   "execution_count": null,
   "metadata": {
    "dotnet_interactive": {
     "language": "fsharp"
    }
   },
   "outputs": [
    {
     "data": {
      "text/html": [
       "<div id=\"fe5a9e09-5d22-4169-9e43-2b189755b19a\" style=\"width: 600px; height: 600px;\"><!-- Plotly chart will be drawn inside this DIV --></div>\r\n",
       "<script type=\"text/javascript\">\r\n",
       "\n",
       "            var renderPlotly_fe5a9e095d2241699e432b189755b19a = function() {\n",
       "            var fsharpPlotlyRequire = requirejs.config({context:'fsharp-plotly',paths:{plotly:'https://cdn.plot.ly/plotly-2.4.2.min'}}) || require;\n",
       "            fsharpPlotlyRequire(['plotly'], function(Plotly) {\r\n",
       "\n",
       "            var data = [{\"type\":\"scatter\",\"mode\":\"markers\",\"x\":[0,1,2,3,4,5,6,7,8,9,10,11,12,13,14,15,16,17,18,19,20,21,22,23,24,25,26,27,28,29,30,31,32,33,34,35,36,37,38,39,40,41,42,43,44,45,46,47,48,49,50,51,52,53,54,55,56,57,58,59,60,61,62,63,64,65,66,67,68,69,70,71,72,73,74,75,76,77,78,79,80,81,82,83,84,85,86,87,88,89,90,91,92,93,94,95,96,97,98,99,100],\"y\":[14.70596609157788,12.588974045398167,13.478007897957232,9.620083297891581,7.328731460649861,14.549865643284221,8.626384331670769,11.511168254777402,8.097631280821576,13.228493387917286,6.469704877338235,12.283419038766723,5.949539491417603,7.575924416340852,12.567671564206329,13.705452498377046,11.112839503266308,14.7593608590585,13.012698058976186,13.523984881361939,7.6529860229478155,11.452364123637027,11.016359392561185,10.696138672389155,6.7632145675659245,7.416187684245495,12.637124647217394,12.027885921778104,8.431774598281725,12.597569649851682,14.526273389126303,7.27080220462326,14.127701487917314,9.918869796636919,8.976706421923222,13.10695161023501,8.799355204123703,13.103463267024356,5.3781376501443505,8.615763040080555,11.960683808178027,8.854001175544226,12.173097607294608,6.550905500329521,14.360243952535207,11.578318363324888,7.306927308583132,13.700236090785003,8.739049841528317,5.669755018628088,8.795724652612453,12.390002923733556,10.137328442715727,14.059782325783644,9.047452189981684,8.253601967940853,6.5726146528369815,7.781869225568077,7.856868730325656,14.912543776404366,6.912740996066826,11.598498409892665,8.079393656495677,10.500061630969896,13.702219998790985,14.198902672714974,13.15571755084941,11.030669694780684,13.59921799441763,14.460719953971319,9.906097294253343,13.009376236241952,14.381223208914149,9.396935018895629,6.563301073183911,13.79898484740359,14.279266516342418,9.465453892231665,11.335894719853949,10.184896204241038,5.1092603756623625,13.936888556432393,8.288836080249789,7.7620195796536375,8.801844997239227,7.136270465392745,12.133473761907535,5.067919162133671,5.871417606655237,5.723104453982368,11.534336957398029,6.0174859785556265,10.2465945366987,5.4655938737399845,6.70302204401373,5.362185398285363,5.7746075190485495,6.673035976324713,7.848685501538537,5.161341279820232,13.422600812475476],\"name\":\"1,1\",\"marker\":{},\"xaxis\":\"x\"},{\"type\":\"scatter\",\"mode\":\"markers\",\"x\":[0,1,2,3,4,5,6,7,8,9,10,11,12,13,14,15,16,17,18,19,20,21,22,23,24,25,26,27,28,29,30,31,32,33,34,35,36,37,38,39,40,41,42,43,44,45,46,47,48,49,50,51,52,53,54,55,56,57,58,59,60,61,62,63,64,65,66,67,68,69,70,71,72,73,74,75,76,77,78,79,80,81,82,83,84,85,86,87,88,89,90,91,92,93,94,95,96,97,98,99,100],\"y\":[3.138128806901224,0.05050904818368566,2.1391649437784985,2.8818288621873727,2.8931742081852505,4.004389857409704,0.3701967119100488,3.7482406262998658,2.6242336712890464,1.9871677257992175,3.5535803803026584,3.222987252857065,3.83598626304231,4.901641700371002,1.4879262198172167,1.654831164821438,0.15868703842101944,0.8491083168653345,3.28297476669912,1.0327144554037202,4.04389919435787,2.5796260440627234,3.938056770217631,1.4631914982866456,1.9443056578488582,1.3813908497716256,4.4578146675870824,1.3469564874409494,0.6005578374492739,4.01218866417752,3.803115270008852,0.8083841953465641,3.087276720016858,3.38114769588278,1.916501380929957,4.417935230032511,4.5052530963463955,3.499180927639446,4.007748290434362,2.0637453752866692,3.196540169043718,1.2857189547669696,2.8114751320385722,3.3743845011919666,4.713588098396356,2.285755736420749,3.787311005307041,0.33115523649899065,4.363584802189648,3.526261534321244,0.22861672110325504,4.987409671297022,3.141367984070148,4.047956184506396,0.16740121187986862,0.558502762838501,1.1124522779660542,0.6759734454918529,0.9375232043385149,1.5117833584136253,4.546575189822621,4.0232402244691,3.147682788850592,3.6120450071115258,3.1840524557903653,2.745196184956094,0.13571053284020654,0.4548385671595291,2.9851403194410446,2.069990989784706,2.1495780684750425,1.6595061107815736,1.8413600264309717,1.2192293914124506,2.836174286360002,2.7581802395909,4.768150912024151,0.5636722690256649,1.7496033998902902,4.65854992142811,2.594079844464585,4.1266594310880915,1.983371685251301,2.0742963031280306,3.783571943074265,3.8157055987118307,2.6670162112764157,4.039320535510463,3.213746484002912,1.357998618091456,3.3054829520664564,3.829279650854543,2.5616577233009306,2.4959649320207373,2.517170185464048,4.173299944574619,3.138036165916378,4.199430124927047,0.19033204540160112,1.9683919134402612,2.150045203580542],\"name\":\"1,2\",\"marker\":{},\"xaxis\":\"x2\"}];\n",
       "            var layout = {\"grid\":{\"subplots\":[[\"xy\",\"x2y\"]],\"rows\":1,\"columns\":2},\"xaxis\":{\"showgrid\":false},\"xaxis2\":{\"showgrid\":false}};\n",
       "            var config = {};\n",
       "            Plotly.newPlot('fe5a9e09-5d22-4169-9e43-2b189755b19a', data, layout, config);\r\n",
       "});\n",
       "            };\n",
       "            if ((typeof(requirejs) !==  typeof(Function)) || (typeof(requirejs.config) !== typeof(Function))) {\n",
       "                var script = document.createElement(\"script\");\n",
       "                script.setAttribute(\"src\", \"https://cdnjs.cloudflare.com/ajax/libs/require.js/2.3.6/require.min.js\");\n",
       "                script.onload = function(){\n",
       "                    renderPlotly_fe5a9e095d2241699e432b189755b19a();\n",
       "                };\n",
       "                document.getElementsByTagName(\"head\")[0].appendChild(script);\n",
       "            }\n",
       "            else {\n",
       "                renderPlotly_fe5a9e095d2241699e432b189755b19a();\n",
       "            }\r\n",
       "</script>\r\n"
      ]
     },
     "metadata": {},
     "output_type": "display_data"
    }
   ],
   "source": [
    "open System\n",
    "open Plotly.NET\n",
    "\n",
    "let rand = new Random()\n",
    "let x = [for i in 0..100 -> i]\n",
    "let y = [for i in x -> rand.NextDouble()*10.+5.]\n",
    "let y2 = [for i in x -> rand.NextDouble()*5.]\n",
    "\n",
    "let chartGrid =\n",
    "    LayoutGrid.init(\n",
    "        Rows = 1,\n",
    "        Columns = 2,\n",
    "        SubPlots = [|\n",
    "            [|\n",
    "                StyleParam.LinearAxisId.X 1, StyleParam.LinearAxisId.Y 1\n",
    "                StyleParam.LinearAxisId.X 2, StyleParam.LinearAxisId.Y 1\n",
    "            |]\n",
    "        |]\n",
    "    )\n",
    "\n",
    "[\n",
    "    Chart.Point(x,y,Name=\"1,1\") |> Chart.withAxisAnchor(X=1) \n",
    "    Chart.Point(x,y2,Name=\"1,2\") |> Chart.withAxisAnchor(X=2) \n",
    "]\n",
    "|> Chart.combine\n",
    "|> Chart.withLayoutGrid chartGrid   \n",
    "|> Chart.withXAxis(LinearAxis.init(ShowGrid=false),StyleParam.SubPlotId.XAxis 1)\n",
    "|> Chart.withXAxis(LinearAxis.init(ShowGrid=false),StyleParam.SubPlotId.XAxis 2)"
   ]
  },
  {
   "cell_type": "markdown",
   "metadata": {},
   "source": [
    "# Other Update Methods\n",
    "GenericCharts created with the Plotly.NET graphing library also support:\n",
    "\n",
    "the Chart.withLayoutImages() method in order to update background layout images,\n",
    "Chart.withAnnotations() in order to update annotations,\n",
    "and Chart.withShapes() in order to update shapes."
   ]
  },
  {
   "cell_type": "markdown",
   "metadata": {},
   "source": [
    "# Chaining Figure Operations\n",
    "\n",
    "All of the Chart update operations described above are methods that return a reference to the Chart being modified. This makes it possible to chain multiple figure modification operations together into a single expression.\n",
    "\n",
    "Here is an example of a chained expression that:\n",
    "\n",
    "sets the title font size using Chart.withTitle,\n",
    "disables vertical grid lines using LinearAxis,\n",
    "updates the size and color of the markers and bar,\n",
    "and then displaying the Chart."
   ]
  },
  {
   "cell_type": "code",
   "execution_count": null,
   "metadata": {
    "dotnet_interactive": {
     "language": "fsharp"
    }
   },
   "outputs": [
    {
     "data": {
      "text/html": [
       "<div id=\"e71a9fc6-d10e-4cfd-9e09-d11e5f163e8b\" style=\"width: 600px; height: 600px;\"><!-- Plotly chart will be drawn inside this DIV --></div>\r\n",
       "<script type=\"text/javascript\">\r\n",
       "\n",
       "            var renderPlotly_e71a9fc6d10e4cfd9e09d11e5f163e8b = function() {\n",
       "            var fsharpPlotlyRequire = requirejs.config({context:'fsharp-plotly',paths:{plotly:'https://cdn.plot.ly/plotly-2.4.2.min'}}) || require;\n",
       "            fsharpPlotlyRequire(['plotly'], function(Plotly) {\r\n",
       "\n",
       "            var data = [{\"type\":\"bar\",\"name\":\"b\",\"x\":[0,1,2],\"y\":[2,1,3],\"orientation\":\"v\",\"marker\":{\"color\":\"yellow\",\"pattern\":{},\"line\":{\"width\":1.5},\"size\":20}},{\"type\":\"scatter\",\"mode\":\"markers\",\"x\":[0,1,2],\"y\":[4.0,2.0,3.5],\"name\":\"a\",\"line\":{},\"marker\":{\"color\":\"blue\",\"size\":20}}];\n",
       "            var layout = {\"title\":{\"text\":\"Chaining Multiple Chart Operations With A Plotly Chart\",\"font\":{\"size\":15.0}},\"xaxis\":{\"showgrid\":false}};\n",
       "            var config = {};\n",
       "            Plotly.newPlot('e71a9fc6-d10e-4cfd-9e09-d11e5f163e8b', data, layout, config);\r\n",
       "});\n",
       "            };\n",
       "            if ((typeof(requirejs) !==  typeof(Function)) || (typeof(requirejs.config) !== typeof(Function))) {\n",
       "                var script = document.createElement(\"script\");\n",
       "                script.setAttribute(\"src\", \"https://cdnjs.cloudflare.com/ajax/libs/require.js/2.3.6/require.min.js\");\n",
       "                script.onload = function(){\n",
       "                    renderPlotly_e71a9fc6d10e4cfd9e09d11e5f163e8b();\n",
       "                };\n",
       "                document.getElementsByTagName(\"head\")[0].appendChild(script);\n",
       "            }\n",
       "            else {\n",
       "                renderPlotly_e71a9fc6d10e4cfd9e09d11e5f163e8b();\n",
       "            }\r\n",
       "</script>\r\n"
      ]
     },
     "metadata": {},
     "output_type": "display_data"
    }
   ],
   "source": [
    "open Plotly.NET\n",
    "\n",
    "[\n",
    "    Chart.Column(Keys = [ 0; 1; 2 ], values = [ 2; 1; 3 ], Name = \"b\", Color = Color.fromString \"red\")\n",
    "    |> Chart.withMarkerStyle (Size = 20, Color = Color.fromString \"yellow\",Outline=Line.init(Width=1.5))\n",
    "    Chart.Scatter(x = [ 0; 1; 2 ], y = [ 4.; 2.; 3.5 ], mode = StyleParam.Mode.Markers, Name = \"a\")\n",
    "      |> Chart.withMarkerStyle (Size = 20, Color = Color.fromString \"blue\") ]\n",
    "      \n",
    "|> Chart.combine\n",
    "|> Chart.withTitle(title=\"Chaining Multiple Chart Operations With A Plotly Chart\",TitleFont=Font.init(Size=15.))\n",
    "|> Chart.withXAxis(LinearAxis.init(ShowGrid=false))"
   ]
  },
  {
   "cell_type": "markdown",
   "metadata": {},
   "source": [
    "# Property Assignment\n",
    "\n",
    "Trace and layout properties can be updated using property assignment syntax. Here is an example of setting the figure title using property assignment.\n",
    "\n",
    "As TraceObjects and LayoutObjects are of DynamicObj, they can be set through dynamic property assignment. But this is not a preferred way, consider using appropriate F# abstractions to set the properties"
   ]
  },
  {
   "cell_type": "code",
   "execution_count": null,
   "metadata": {
    "dotnet_interactive": {
     "language": "fsharp"
    }
   },
   "outputs": [
    {
     "data": {
      "text/html": [
       "<div id=\"e5cb5700-f192-4a2a-b6ab-0726d4f7e46d\" style=\"width: 600px; height: 600px;\"><!-- Plotly chart will be drawn inside this DIV --></div>\r\n",
       "<script type=\"text/javascript\">\r\n",
       "\n",
       "            var renderPlotly_e5cb5700f1924a2ab6ab0726d4f7e46d = function() {\n",
       "            var fsharpPlotlyRequire = requirejs.config({context:'fsharp-plotly',paths:{plotly:'https://cdn.plot.ly/plotly-2.4.2.min'}}) || require;\n",
       "            fsharpPlotlyRequire(['plotly'], function(Plotly) {\r\n",
       "\n",
       "            var data = [{\"type\":\"bar\",\"x\":[1,3,2],\"y\":[1,2,3],\"orientation\":\"v\",\"marker\":{\"color\":\"red\",\"pattern\":{}}}];\n",
       "            var layout = {\"title\":{\"text\":\"Using Property Assignment Syntax With GenericChart Object\"}};\n",
       "            var config = {};\n",
       "            Plotly.newPlot('e5cb5700-f192-4a2a-b6ab-0726d4f7e46d', data, layout, config);\r\n",
       "});\n",
       "            };\n",
       "            if ((typeof(requirejs) !==  typeof(Function)) || (typeof(requirejs.config) !== typeof(Function))) {\n",
       "                var script = document.createElement(\"script\");\n",
       "                script.setAttribute(\"src\", \"https://cdnjs.cloudflare.com/ajax/libs/require.js/2.3.6/require.min.js\");\n",
       "                script.onload = function(){\n",
       "                    renderPlotly_e5cb5700f1924a2ab6ab0726d4f7e46d();\n",
       "                };\n",
       "                document.getElementsByTagName(\"head\")[0].appendChild(script);\n",
       "            }\n",
       "            else {\n",
       "                renderPlotly_e5cb5700f1924a2ab6ab0726d4f7e46d();\n",
       "            }\r\n",
       "</script>\r\n"
      ]
     },
     "metadata": {},
     "output_type": "display_data"
    }
   ],
   "source": [
    "let chart = Chart.Column([1;2;3],[1;3;2],Color=Color.fromString \"red\")\n",
    "\n",
    "let layout = \n",
    "    let tmp = new Layout()\n",
    "    let title = new Title()\n",
    "    title?text <- \"Using Property Assignment Syntax With GenericChart Object\"\n",
    "    tmp?title <- title\n",
    "    tmp\n",
    "\n",
    "chart\n",
    "|> Chart.withLayout(layout)"
   ]
  },
  {
   "cell_type": "markdown",
   "metadata": {},
   "source": [
    "And here is an example of updating the bar outline using property assignment."
   ]
  },
  {
   "cell_type": "code",
   "execution_count": null,
   "metadata": {
    "dotnet_interactive": {
     "language": "fsharp"
    }
   },
   "outputs": [
    {
     "data": {
      "text/html": [
       "<div id=\"4f93cca8-eb80-4428-803a-15fc000b17be\" style=\"width: 600px; height: 600px;\"><!-- Plotly chart will be drawn inside this DIV --></div>\r\n",
       "<script type=\"text/javascript\">\r\n",
       "\n",
       "            var renderPlotly_4f93cca8eb804428803a15fc000b17be = function() {\n",
       "            var fsharpPlotlyRequire = requirejs.config({context:'fsharp-plotly',paths:{plotly:'https://cdn.plot.ly/plotly-2.4.2.min'}}) || require;\n",
       "            fsharpPlotlyRequire(['plotly'], function(Plotly) {\r\n",
       "\n",
       "            var data = [{\"type\":\"bar\",\"x\":[1,3,2],\"y\":[1,2,3],\"orientation\":\"v\",\"marker\":{\"line\":{\"width\":4,\"color\":\"black\"}}}];\n",
       "            var layout = {};\n",
       "            var config = {};\n",
       "            Plotly.newPlot('4f93cca8-eb80-4428-803a-15fc000b17be', data, layout, config);\r\n",
       "});\n",
       "            };\n",
       "            if ((typeof(requirejs) !==  typeof(Function)) || (typeof(requirejs.config) !== typeof(Function))) {\n",
       "                var script = document.createElement(\"script\");\n",
       "                script.setAttribute(\"src\", \"https://cdnjs.cloudflare.com/ajax/libs/require.js/2.3.6/require.min.js\");\n",
       "                script.onload = function(){\n",
       "                    renderPlotly_4f93cca8eb804428803a15fc000b17be();\n",
       "                };\n",
       "                document.getElementsByTagName(\"head\")[0].appendChild(script);\n",
       "            }\n",
       "            else {\n",
       "                renderPlotly_4f93cca8eb804428803a15fc000b17be();\n",
       "            }\r\n",
       "</script>\r\n"
      ]
     },
     "metadata": {},
     "output_type": "display_data"
    }
   ],
   "source": [
    "let chart = Chart.Column([1;2;3],[1;3;2],Color=Color.fromString \"red\")\n",
    "\n",
    "let marker =\n",
    "    let tmp = new Marker()\n",
    "    let line = new Line()\n",
    "    line?width <- 4\n",
    "    line?color <- \"black\"\n",
    "    tmp?line <- line\n",
    "    tmp\n",
    "\n",
    "chart\n",
    "|> Chart.withMarker(marker)"
   ]
  }
 ],
 "metadata": {
  "kernelspec": {
   "display_name": ".NET (C#)",
   "language": "C#",
   "name": ".net-csharp"
  },
  "language_info": {
   "file_extension": ".cs",
   "mimetype": "text/x-csharp",
   "name": "C#",
   "pygments_lexer": "csharp",
   "version": "9.0"
  },
  "orig_nbformat": 4
 },
 "nbformat": 4,
 "nbformat_minor": 2
}
