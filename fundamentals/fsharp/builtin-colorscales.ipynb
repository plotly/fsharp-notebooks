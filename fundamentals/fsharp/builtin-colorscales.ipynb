{
 "cells": [
  {
   "cell_type": "code",
   "execution_count": null,
   "source": [
    "#r \"nuget: Plotly.NET,  2.0.0-preview.8\"\r\n",
    "#r \"nuget: Plotly.NET.Interactive,  2.0.0-preview.8\"\r\n",
    "    "
   ],
   "outputs": [
    {
     "data": {
      "text/html": [
       "<div><div></div><div></div><div><strong>Installed Packages</strong><ul><li><span>Plotly.NET, 2.0.0-preview.8</span></li><li><span>Plotly.NET.Interactive, 2.0.0-preview.8</span></li></ul></div></div>"
      ]
     },
     "metadata": {},
     "output_type": "display_data"
    },
    {
     "data": {
      "text/markdown": [
       "Loading extensions from `Plotly.NET.Interactive.dll`"
      ]
     },
     "metadata": {},
     "output_type": "display_data"
    },
    {
     "data": {
      "text/markdown": [
       "Added Kernel Extension including formatters for Plotly.NET charts."
      ]
     },
     "metadata": {},
     "output_type": "display_data"
    }
   ],
   "metadata": {
    "dotnet_interactive": {
     "language": "fsharp"
    }
   }
  },
  {
   "cell_type": "markdown",
   "source": [
    "# Built-in and Custom color scales\r\n",
    "\r\n",
    "The following built-in continuous color scales are available. Through Custom Colorscale, you can define custom colors"
   ],
   "metadata": {}
  },
  {
   "cell_type": "code",
   "execution_count": null,
   "source": [
    "open Microsoft.FSharp.Reflection\r\n",
    "open Plotly.NET\r\n",
    "\r\n",
    "let builtinColorScales = FSharpType.GetUnionCases typeof<StyleParam.Colorscale>\r\n",
    "\r\n",
    "for case in builtinColorScales do printfn \"%s\" case.Name\r\n"
   ],
   "outputs": [
    {
     "output_type": "stream",
     "name": "stdout",
     "text": [
      "Custom\r\n",
      "RdBu\r\n",
      "Earth\r\n",
      "Blackbody\r\n",
      "YIOrRd\r\n",
      "YIGnBu\r\n",
      "Bluered\r\n",
      "Portland\r\n",
      "Electric\r\n",
      "Jet\r\n",
      "Hot\r\n",
      "Greys\r\n",
      "Greens\r\n",
      "Picnic\r\n",
      "Rainbow\r\n",
      "Viridis\r\n",
      "Cividis\r\n"
     ]
    }
   ],
   "metadata": {
    "dotnet_interactive": {
     "language": "fsharp"
    }
   }
  },
  {
   "cell_type": "code",
   "execution_count": null,
   "source": [
    "open Plotly.NET \r\n",
    "\r\n",
    "let matrix =\r\n",
    "    [[1.;1.5;0.7;2.7];\r\n",
    "    [2.;0.5;1.2;1.4];\r\n",
    "    [0.1;2.6;2.4;3.0];]\r\n",
    "\r\n",
    "let rownames = [\"p3\";\"p2\";\"p1\"]\r\n",
    "let colnames = [\"Tp0\";\"Tp30\";\"Tp60\";\"Tp160\"]\r\n",
    "\r\n",
    "let colorscaleValue = \r\n",
    "    StyleParam.Colorscale.Custom [(0.0,\"#3D9970\");(1.0,\"#001f3f\")] //StyleParam.Colorscale.Blackbody or StyleParam.Colorscale.Bluered etc\r\n",
    "\r\n",
    "Chart.Heatmap(\r\n",
    "    data=matrix,ColNames=colnames,RowNames=rownames,\r\n",
    "    Colorscale=colorscaleValue,\r\n",
    "    Showscale=true\r\n",
    ")\r\n",
    "|> Chart.withSize(700.,500.)\r\n",
    "|> Chart.withMarginSize(Left=200.)\r\n"
   ],
   "outputs": [
    {
     "data": {
      "text/html": [
       "<div id=\"64a9e259-22e7-4362-9991-4e6e695205fa\" style=\"width: 600px; height: 600px;\"><!-- Plotly chart will be drawn inside this DIV --></div>\r\n",
       "<script type=\"text/javascript\">\r\n",
       "\n",
       "            var renderPlotly_64a9e25922e7436299914e6e695205fa = function() {\n",
       "            var fsharpPlotlyRequire = requirejs.config({context:'fsharp-plotly',paths:{plotly:'https://cdn.plot.ly/plotly-latest.min'}}) || require;\n",
       "            fsharpPlotlyRequire(['plotly'], function(Plotly) {\r\n",
       "\n",
       "            var data = [{\"type\":\"heatmap\",\"z\":[[1.0,1.5,0.7,2.7],[2.0,0.5,1.2,1.4],[0.1,2.6,2.4,3.0]],\"x\":[\"Tp0\",\"Tp30\",\"Tp60\",\"Tp160\"],\"y\":[\"p3\",\"p2\",\"p1\"],\"colorscale\":[[0.0,\"#3D9970\"],[1.0,\"#001f3f\"]],\"showscale\":true}];\n",
       "            var layout = {\"width\":700,\"height\":500,\"margin\":{\"l\":200.0}};\n",
       "            var config = {};\n",
       "            Plotly.newPlot('64a9e259-22e7-4362-9991-4e6e695205fa', data, layout, config);\r\n",
       "});\n",
       "            };\n",
       "            if ((typeof(requirejs) !==  typeof(Function)) || (typeof(requirejs.config) !== typeof(Function))) {\n",
       "                var script = document.createElement(\"script\");\n",
       "                script.setAttribute(\"src\", \"https://cdnjs.cloudflare.com/ajax/libs/require.js/2.3.6/require.min.js\");\n",
       "                script.onload = function(){\n",
       "                    renderPlotly_64a9e25922e7436299914e6e695205fa();\n",
       "                };\n",
       "                document.getElementsByTagName(\"head\")[0].appendChild(script);\n",
       "            }\n",
       "            else {\n",
       "                renderPlotly_64a9e25922e7436299914e6e695205fa();\n",
       "            }\r\n",
       "</script>\r\n"
      ]
     },
     "metadata": {},
     "output_type": "display_data"
    }
   ],
   "metadata": {
    "dotnet_interactive": {
     "language": "fsharp"
    }
   }
  }
 ],
 "metadata": {
  "orig_nbformat": 4,
  "language_info": {
   "file_extension": ".cs",
   "mimetype": "text/x-csharp",
   "name": "C#",
   "pygments_lexer": "csharp",
   "version": "9.0"
  },
  "kernelspec": {
   "display_name": ".NET (C#)",
   "language": "C#",
   "name": ".net-csharp"
  }
 },
 "nbformat": 4,
 "nbformat_minor": 2
}