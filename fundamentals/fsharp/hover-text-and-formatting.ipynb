{
 "cells": [
  {
   "cell_type": "code",
   "execution_count": null,
   "source": [
    "#r \"nuget: Plotly.NET,  2.0.0-preview.9\"\r\n",
    "#r \"nuget: Plotly.NET.Interactive,  2.0.0-preview.9\"\r\n",
    "#r \"nuget: FSharp.Data\""
   ],
   "outputs": [
    {
     "data": {
      "text/html": [
       "<div><div></div><div></div><div><strong>Installed Packages</strong><ul><li><span>FSharp.Data, 4.2.3</span></li><li><span>Plotly.NET, 2.0.0-preview.9</span></li><li><span>Plotly.NET.Interactive, 2.0.0-preview.9</span></li></ul></div></div>"
      ]
     },
     "metadata": {},
     "output_type": "display_data"
    },
    {
     "data": {
      "text/markdown": [
       "Loading extensions from `Plotly.NET.Interactive.dll`"
      ]
     },
     "metadata": {},
     "output_type": "display_data"
    },
    {
     "data": {
      "text/markdown": [
       "Added Kernel Extension including formatters for Plotly.NET charts."
      ]
     },
     "metadata": {},
     "output_type": "display_data"
    }
   ],
   "metadata": {
    "dotnet_interactive": {
     "language": "fsharp"
    }
   }
  },
  {
   "cell_type": "markdown",
   "source": [
    "# Hover Labels\r\n",
    "\r\n",
    "One of the most deceptively-powerful features of interactive visualization using Plotly.NET is the ability for the user to reveal more information about a data point by moving their mouse cursor over the point and having a hover label appear."
   ],
   "metadata": {}
  },
  {
   "cell_type": "code",
   "execution_count": null,
   "source": [
    "open Plotly.NET\r\n",
    "\r\n",
    "let x = [for i in 0..10 -> i]\r\n",
    "let y = [for i in x -> i*2]\r\n",
    "let labels = [for i in x -> \"Text \"+ string i]\r\n",
    "\r\n",
    "Chart.Point(x,y,Labels=labels)"
   ],
   "outputs": [
    {
     "data": {
      "text/html": [
       "<div id=\"630afbf0-3d51-46e1-b46e-c94df9855f6b\" style=\"width: 600px; height: 600px;\"><!-- Plotly chart will be drawn inside this DIV --></div>\r\n",
       "<script type=\"text/javascript\">\r\n",
       "\n",
       "            var renderPlotly_630afbf03d5146e1b46ec94df9855f6b = function() {\n",
       "            var fsharpPlotlyRequire = requirejs.config({context:'fsharp-plotly',paths:{plotly:'https://cdn.plot.ly/plotly-2.4.2.min'}}) || require;\n",
       "            fsharpPlotlyRequire(['plotly'], function(Plotly) {\r\n",
       "\n",
       "            var data = [{\"type\":\"scatter\",\"mode\":\"markers\",\"x\":[0,1,2,3,4,5,6,7,8,9,10],\"y\":[0,2,4,6,8,10,12,14,16,18,20],\"marker\":{},\"text\":[\"Text 0\",\"Text 1\",\"Text 2\",\"Text 3\",\"Text 4\",\"Text 5\",\"Text 6\",\"Text 7\",\"Text 8\",\"Text 9\",\"Text 10\"]}];\n",
       "            var layout = {};\n",
       "            var config = {};\n",
       "            Plotly.newPlot('630afbf0-3d51-46e1-b46e-c94df9855f6b', data, layout, config);\r\n",
       "});\n",
       "            };\n",
       "            if ((typeof(requirejs) !==  typeof(Function)) || (typeof(requirejs.config) !== typeof(Function))) {\n",
       "                var script = document.createElement(\"script\");\n",
       "                script.setAttribute(\"src\", \"https://cdnjs.cloudflare.com/ajax/libs/require.js/2.3.6/require.min.js\");\n",
       "                script.onload = function(){\n",
       "                    renderPlotly_630afbf03d5146e1b46ec94df9855f6b();\n",
       "                };\n",
       "                document.getElementsByTagName(\"head\")[0].appendChild(script);\n",
       "            }\n",
       "            else {\n",
       "                renderPlotly_630afbf03d5146e1b46ec94df9855f6b();\n",
       "            }\r\n",
       "</script>\r\n"
      ]
     },
     "metadata": {},
     "output_type": "display_data"
    }
   ],
   "metadata": {
    "dotnet_interactive": {
     "language": "fsharp"
    }
   }
  },
  {
   "cell_type": "markdown",
   "source": [
    "# Customizing Hover Mode\r\n",
    "\r\n",
    "There are three hover modes available in Plotly.NET. The default setting is Layout.HoverMode='Closest', wherein a single hover label appears for the point directly underneath the cursor."
   ],
   "metadata": {}
  },
  {
   "cell_type": "code",
   "execution_count": null,
   "source": [
    "open Plotly.NET\r\n",
    "\r\n",
    "let x = [for i in 0..10 -> i]\r\n",
    "let y1 = [for i in x -> 2.0*Math.Cos(float i)]\r\n",
    "let y2 = [for i in x -> 5.0*Math.Sin(float i)]\r\n",
    "\r\n",
    "let labels = [for i in x -> \"Text \"+ string i]\r\n",
    "\r\n",
    "[\r\n",
    "Chart.Line(x,y1,Labels=labels,ShowMarkers=true);\r\n",
    "Chart.Line(x,y2,Labels=labels,ShowMarkers=true);\r\n",
    "]\r\n",
    "|> Chart.combine\r\n",
    "|> Chart.withLayout(Layout.init(HoverMode=StyleParam.HoverMode.Closest))"
   ],
   "outputs": [
    {
     "data": {
      "text/html": [
       "<div id=\"31c3c293-b236-4f7c-b6b8-f9506edda9ef\" style=\"width: 600px; height: 600px;\"><!-- Plotly chart will be drawn inside this DIV --></div>\r\n",
       "<script type=\"text/javascript\">\r\n",
       "\n",
       "            var renderPlotly_31c3c293b2364f7cb6b8f9506edda9ef = function() {\n",
       "            var fsharpPlotlyRequire = requirejs.config({context:'fsharp-plotly',paths:{plotly:'https://cdn.plot.ly/plotly-2.4.2.min'}}) || require;\n",
       "            fsharpPlotlyRequire(['plotly'], function(Plotly) {\r\n",
       "\n",
       "            var data = [{\"type\":\"scatter\",\"mode\":\"lines+markers\",\"x\":[0,1,2,3,4,5,6,7,8,9,10],\"y\":[2.0,1.0806046117362795,-0.8322936730942848,-1.9799849932008908,-1.3072872417272239,0.5673243709264525,1.920340573300732,1.5078045086866092,-0.2910000676172271,-1.8222605237693539,-1.6781430581529049],\"line\":{},\"marker\":{},\"text\":[\"Text 0\",\"Text 1\",\"Text 2\",\"Text 3\",\"Text 4\",\"Text 5\",\"Text 6\",\"Text 7\",\"Text 8\",\"Text 9\",\"Text 10\"]},{\"type\":\"scatter\",\"mode\":\"lines+markers\",\"x\":[0,1,2,3,4,5,6,7,8,9,10],\"y\":[0.0,4.207354924039483,4.546487134128409,0.7056000402993361,-3.7840124765396412,-4.794621373315692,-1.3970774909946293,3.2849329935939453,4.946791233116909,2.060592426208783,-2.7201055544468487],\"line\":{},\"marker\":{},\"text\":[\"Text 0\",\"Text 1\",\"Text 2\",\"Text 3\",\"Text 4\",\"Text 5\",\"Text 6\",\"Text 7\",\"Text 8\",\"Text 9\",\"Text 10\"]}];\n",
       "            var layout = {\"hovermode\":\"closest\"};\n",
       "            var config = {};\n",
       "            Plotly.newPlot('31c3c293-b236-4f7c-b6b8-f9506edda9ef', data, layout, config);\r\n",
       "});\n",
       "            };\n",
       "            if ((typeof(requirejs) !==  typeof(Function)) || (typeof(requirejs.config) !== typeof(Function))) {\n",
       "                var script = document.createElement(\"script\");\n",
       "                script.setAttribute(\"src\", \"https://cdnjs.cloudflare.com/ajax/libs/require.js/2.3.6/require.min.js\");\n",
       "                script.onload = function(){\n",
       "                    renderPlotly_31c3c293b2364f7cb6b8f9506edda9ef();\n",
       "                };\n",
       "                document.getElementsByTagName(\"head\")[0].appendChild(script);\n",
       "            }\n",
       "            else {\n",
       "                renderPlotly_31c3c293b2364f7cb6b8f9506edda9ef();\n",
       "            }\r\n",
       "</script>\r\n"
      ]
     },
     "metadata": {},
     "output_type": "display_data"
    }
   ],
   "metadata": {
    "dotnet_interactive": {
     "language": "fsharp"
    }
   }
  },
  {
   "cell_type": "markdown",
   "source": [
    "# HoverMode X or Y\r\n",
    "\r\n",
    "If Layout.HoverMode='X' (or 'Y'), a single hover label appears per trace, for points at the same x (or y) value as the cursor. \r\n",
    "If multiple points in a given trace exist at the same coordinate, only one will get a hover label. In the line plot below we have forced markers to appear, to make it clearer what can be hovered over:"
   ],
   "metadata": {}
  },
  {
   "cell_type": "code",
   "execution_count": null,
   "source": [
    "open FSharp.Data\r\n",
    "\r\n",
    "let csv = CsvFile.Load(\"https://raw.githubusercontent.com/plotly/datasets/master/gapminderDataFiveYear.csv\")\r\n",
    "\r\n",
    "let Oceania = Seq.filter (fun (row:CsvRow) -> row.GetColumn(\"continent\") = \"Oceania\") csv.Rows\r\n",
    "                |> Seq.groupBy (fun c -> c.GetColumn(\"country\"))\r\n",
    "\r\n",
    "[for country,countryDetails in Oceania -> \r\n",
    "                let x = countryDetails |> Seq.map (fun x -> x.GetColumn(\"year\"))\r\n",
    "                let y = countryDetails |> Seq.map (fun x -> x.GetColumn(\"lifeExp\"))\r\n",
    "                \r\n",
    "                Chart.Line(x,y,Name=country,ShowMarkers=true)]\r\n",
    "|> Chart.combine\r\n",
    "|> Chart.withLayout(Layout.init(HoverMode=StyleParam.HoverMode.X))\r\n",
    "|> Chart.withTitle(\"LayoutMode.HoverMode='X'\")"
   ],
   "outputs": [
    {
     "data": {
      "text/html": [
       "<div id=\"b6cc032f-0c90-4027-bbda-14a9e167db5b\" style=\"width: 600px; height: 600px;\"><!-- Plotly chart will be drawn inside this DIV --></div>\r\n",
       "<script type=\"text/javascript\">\r\n",
       "\n",
       "            var renderPlotly_b6cc032f0c904027bbda14a9e167db5b = function() {\n",
       "            var fsharpPlotlyRequire = requirejs.config({context:'fsharp-plotly',paths:{plotly:'https://cdn.plot.ly/plotly-2.4.2.min'}}) || require;\n",
       "            fsharpPlotlyRequire(['plotly'], function(Plotly) {\r\n",
       "\n",
       "            var data = [{\"type\":\"scatter\",\"mode\":\"lines+markers\",\"x\":[\"1952\",\"1957\",\"1962\",\"1967\",\"1972\",\"1977\",\"1982\",\"1987\",\"1992\",\"1997\",\"2002\",\"2007\"],\"y\":[\"69.12\",\"70.33\",\"70.93\",\"71.1\",\"71.93\",\"73.49\",\"74.74\",\"76.32\",\"77.56\",\"78.83\",\"80.37\",\"81.235\"],\"line\":{},\"name\":\"Australia\",\"marker\":{}},{\"type\":\"scatter\",\"mode\":\"lines+markers\",\"x\":[\"1952\",\"1957\",\"1962\",\"1967\",\"1972\",\"1977\",\"1982\",\"1987\",\"1992\",\"1997\",\"2002\",\"2007\"],\"y\":[\"69.39\",\"70.26\",\"71.24\",\"71.52\",\"71.89\",\"72.22\",\"73.84\",\"74.32\",\"76.33\",\"77.55\",\"79.11\",\"80.204\"],\"line\":{},\"name\":\"New Zealand\",\"marker\":{}}];\n",
       "            var layout = {\"hovermode\":\"x\",\"title\":{\"text\":\"LayoutMode.HoverMode='X'\"}};\n",
       "            var config = {};\n",
       "            Plotly.newPlot('b6cc032f-0c90-4027-bbda-14a9e167db5b', data, layout, config);\r\n",
       "});\n",
       "            };\n",
       "            if ((typeof(requirejs) !==  typeof(Function)) || (typeof(requirejs.config) !== typeof(Function))) {\n",
       "                var script = document.createElement(\"script\");\n",
       "                script.setAttribute(\"src\", \"https://cdnjs.cloudflare.com/ajax/libs/require.js/2.3.6/require.min.js\");\n",
       "                script.onload = function(){\n",
       "                    renderPlotly_b6cc032f0c904027bbda14a9e167db5b();\n",
       "                };\n",
       "                document.getElementsByTagName(\"head\")[0].appendChild(script);\n",
       "            }\n",
       "            else {\n",
       "                renderPlotly_b6cc032f0c904027bbda14a9e167db5b();\n",
       "            }\r\n",
       "</script>\r\n"
      ]
     },
     "metadata": {},
     "output_type": "display_data"
    }
   ],
   "metadata": {
    "dotnet_interactive": {
     "language": "fsharp"
    }
   }
  },
  {
   "cell_type": "markdown",
   "source": [
    "# HoverMode = XUnified (Will Be Implemented)"
   ],
   "metadata": {}
  },
  {
   "cell_type": "markdown",
   "source": [
    "# Customizing Hover Label Appearance\r\n",
    "\r\n",
    "Hover Label color and font can be set through Layout.HoverLabel attribute as shown below"
   ],
   "metadata": {}
  },
  {
   "cell_type": "code",
   "execution_count": null,
   "source": [
    "open FSharp.Data\r\n",
    "open Plotly.NET.LayoutObjects\r\n",
    "\r\n",
    "let csv = CsvFile.Load(\"https://raw.githubusercontent.com/plotly/datasets/master/gapminderDataFiveYear.csv\")\r\n",
    "\r\n",
    "let Oceania = Seq.filter (fun (row:CsvRow) -> row.GetColumn(\"continent\") = \"Oceania\") csv.Rows\r\n",
    "                |> Seq.groupBy (fun c -> c.GetColumn(\"country\"))\r\n",
    "\r\n",
    "\r\n",
    "let hoverLabel = Hoverlabel.init(BgColor=Color.fromString \"white\",\r\n",
    "                                    Font=Font.init(Size=16.,Family=StyleParam.FontFamily.Custom \"Rockwell\"))\r\n",
    "\r\n",
    "[for country,countryDetails in Oceania -> \r\n",
    "                let x = countryDetails |> Seq.map (fun x -> x.GetColumn(\"year\"))\r\n",
    "                let y = countryDetails |> Seq.map (fun x -> x.GetColumn(\"lifeExp\"))\r\n",
    "                \r\n",
    "                Chart.Line(x,y,Name=country,ShowMarkers=true)]\r\n",
    "|> Chart.combine\r\n",
    "|> Chart.withLayout(Layout.init(Hoverlabel=hoverLabel))\r\n",
    "|> Chart.withTitle(\"LayoutMode.HoverMode='X'\")"
   ],
   "outputs": [
    {
     "data": {
      "text/html": [
       "<div id=\"3767a2af-5613-44e9-9700-392f6b5152a2\" style=\"width: 600px; height: 600px;\"><!-- Plotly chart will be drawn inside this DIV --></div>\r\n",
       "<script type=\"text/javascript\">\r\n",
       "\n",
       "            var renderPlotly_3767a2af561344e99700392f6b5152a2 = function() {\n",
       "            var fsharpPlotlyRequire = requirejs.config({context:'fsharp-plotly',paths:{plotly:'https://cdn.plot.ly/plotly-2.4.2.min'}}) || require;\n",
       "            fsharpPlotlyRequire(['plotly'], function(Plotly) {\r\n",
       "\n",
       "            var data = [{\"type\":\"scatter\",\"mode\":\"lines+markers\",\"x\":[\"1952\",\"1957\",\"1962\",\"1967\",\"1972\",\"1977\",\"1982\",\"1987\",\"1992\",\"1997\",\"2002\",\"2007\"],\"y\":[\"69.12\",\"70.33\",\"70.93\",\"71.1\",\"71.93\",\"73.49\",\"74.74\",\"76.32\",\"77.56\",\"78.83\",\"80.37\",\"81.235\"],\"line\":{},\"name\":\"Australia\",\"marker\":{}},{\"type\":\"scatter\",\"mode\":\"lines+markers\",\"x\":[\"1952\",\"1957\",\"1962\",\"1967\",\"1972\",\"1977\",\"1982\",\"1987\",\"1992\",\"1997\",\"2002\",\"2007\"],\"y\":[\"69.39\",\"70.26\",\"71.24\",\"71.52\",\"71.89\",\"72.22\",\"73.84\",\"74.32\",\"76.33\",\"77.55\",\"79.11\",\"80.204\"],\"line\":{},\"name\":\"New Zealand\",\"marker\":{}}];\n",
       "            var layout = {\"hoverlabel\":{\"bgcolor\":\"white\",\"font\":{\"family\":\"Rockwell\",\"size\":16.0}},\"title\":{\"text\":\"LayoutMode.HoverMode='X'\"}};\n",
       "            var config = {};\n",
       "            Plotly.newPlot('3767a2af-5613-44e9-9700-392f6b5152a2', data, layout, config);\r\n",
       "});\n",
       "            };\n",
       "            if ((typeof(requirejs) !==  typeof(Function)) || (typeof(requirejs.config) !== typeof(Function))) {\n",
       "                var script = document.createElement(\"script\");\n",
       "                script.setAttribute(\"src\", \"https://cdnjs.cloudflare.com/ajax/libs/require.js/2.3.6/require.min.js\");\n",
       "                script.onload = function(){\n",
       "                    renderPlotly_3767a2af561344e99700392f6b5152a2();\n",
       "                };\n",
       "                document.getElementsByTagName(\"head\")[0].appendChild(script);\n",
       "            }\n",
       "            else {\n",
       "                renderPlotly_3767a2af561344e99700392f6b5152a2();\n",
       "            }\r\n",
       "</script>\r\n"
      ]
     },
     "metadata": {},
     "output_type": "display_data"
    }
   ],
   "metadata": {
    "dotnet_interactive": {
     "language": "fsharp"
    }
   }
  },
  {
   "cell_type": "markdown",
   "source": [
    "# Customizing hover text with a HoverTemplate\r\n",
    "\r\n",
    "To customize the tooltip on your graph you can use the HoverTemplate attribute of corresponding TraceStyle (i.e Trace2DStyle,TraceDomainStyle etc), which is a template string used for rendering the information that appear on hoverbox. This template string can include variables in %{variable} format, numbers in d3-format's syntax, and date in d3-time-format's syntax. In the example below, the empty <extra></extra> tag removes the part of the hover where the trace name is usually displayed in a contrasting color. The <extra> tag can be used to display other parts of the hovertemplate, it is not reserved for the trace name.\r\n",
    "\r\n",
    "Note that a HoverTemplate customizes the tooltip text, while a TextTemplate customizes the text that appears on your chart.\r\n",
    "\r\n",
    "Set the horizontal alignment of the text within tooltip with Hoverlabel.Align."
   ],
   "metadata": {}
  },
  {
   "cell_type": "code",
   "execution_count": null,
   "source": [
    "let hoverLabel = Hoverlabel.init(BgColor=Color.fromString \"white\",\r\n",
    "                                   Align=StyleParam.Align.Right)\r\n",
    "\r\n",
    "let hoverTemplate = \"<i>Price</i>: $%{y:.2f}\"+\r\n",
    "                    \"<br><b>X</b>: %{x}<br>\"+\r\n",
    "                    \"<b>%{text}</b>\";\r\n",
    "\r\n",
    "let text = [for i in 1..5 -> $\"Custom text {i+1}\"] \r\n",
    "\r\n",
    "let chart1 = Chart.Line(x=[1..5],\r\n",
    "                        y = [2.02825;1.63728;6.83839;4.8485;4.73463],\r\n",
    "                        ShowMarkers=true, ShowLegend=false)\r\n",
    "                \r\n",
    "                |> GenericChart.mapTrace (Trace2DStyle.Scatter(HoverTemplate=hoverTemplate,MultiText=text))\r\n",
    "\r\n",
    "let chart2 = Chart.Line(x=[1..5],\r\n",
    "                        y = [3.02825;2.63728;4.83839;3.8485;1.73463],\r\n",
    "                        ShowMarkers=true, ShowLegend=false)\r\n",
    "                \r\n",
    "                |> GenericChart.mapTrace (Trace2DStyle.Scatter(HoverTemplate=\"Price: %{y:$.2f}<extra></extra>\"))\r\n",
    "\r\n",
    "[chart1;chart2]\r\n",
    "|> Chart.combine\r\n",
    "|> Chart.withLayout(Layout.init(Hoverlabel=hoverLabel))\r\n",
    "|> Chart.withTitle(\"Set hover text with HoverTemplate\")"
   ],
   "outputs": [
    {
     "data": {
      "text/html": [
       "<div id=\"1f3f37b2-8732-4cdc-915f-21de77fbda08\" style=\"width: 600px; height: 600px;\"><!-- Plotly chart will be drawn inside this DIV --></div>\r\n",
       "<script type=\"text/javascript\">\r\n",
       "\n",
       "            var renderPlotly_1f3f37b287324cdc915f21de77fbda08 = function() {\n",
       "            var fsharpPlotlyRequire = requirejs.config({context:'fsharp-plotly',paths:{plotly:'https://cdn.plot.ly/plotly-2.4.2.min'}}) || require;\n",
       "            fsharpPlotlyRequire(['plotly'], function(Plotly) {\r\n",
       "\n",
       "            var data = [{\"type\":\"scatter\",\"mode\":\"lines+markers\",\"x\":[1,2,3,4,5],\"y\":[2.02825,1.63728,6.83839,4.8485,4.73463],\"line\":{},\"showlegend\":false,\"marker\":{},\"text\":[\"Custom text 2\",\"Custom text 3\",\"Custom text 4\",\"Custom text 5\",\"Custom text 6\"],\"hovertemplate\":\"<i>Price</i>: $%{y:.2f}<br><b>X</b>: %{x}<br><b>%{text}</b>\"},{\"type\":\"scatter\",\"mode\":\"lines+markers\",\"x\":[1,2,3,4,5],\"y\":[3.02825,2.63728,4.83839,3.8485,1.73463],\"line\":{},\"showlegend\":false,\"marker\":{},\"hovertemplate\":\"Price: %{y:$.2f}<extra></extra>\"}];\n",
       "            var layout = {\"hoverlabel\":{\"bgcolor\":\"white\",\"align\":\"right\"},\"title\":{\"text\":\"Set hover text with HoverTemplate\"}};\n",
       "            var config = {};\n",
       "            Plotly.newPlot('1f3f37b2-8732-4cdc-915f-21de77fbda08', data, layout, config);\r\n",
       "});\n",
       "            };\n",
       "            if ((typeof(requirejs) !==  typeof(Function)) || (typeof(requirejs.config) !== typeof(Function))) {\n",
       "                var script = document.createElement(\"script\");\n",
       "                script.setAttribute(\"src\", \"https://cdnjs.cloudflare.com/ajax/libs/require.js/2.3.6/require.min.js\");\n",
       "                script.onload = function(){\n",
       "                    renderPlotly_1f3f37b287324cdc915f21de77fbda08();\n",
       "                };\n",
       "                document.getElementsByTagName(\"head\")[0].appendChild(script);\n",
       "            }\n",
       "            else {\n",
       "                renderPlotly_1f3f37b287324cdc915f21de77fbda08();\n",
       "            }\r\n",
       "</script>\r\n"
      ]
     },
     "metadata": {},
     "output_type": "display_data"
    }
   ],
   "metadata": {
    "dotnet_interactive": {
     "language": "fsharp"
    }
   }
  },
  {
   "cell_type": "code",
   "execution_count": null,
   "source": [
    "open Plotly.NET\r\n",
    "\r\n",
    "Chart.Pie(values=[2.; 5.; 3.; 2.5],Name=\"\",\r\n",
    "            Labels = [\"R\"; \"Python\"; \"Java Script\"; \"Matlab\"])\r\n",
    "    |> GenericChart.mapTrace(TraceDomainStyle.Pie(Text=[\"TextA\"; \"TextB\"; \"TextC\"; \"TextD\"],\r\n",
    "                                                    HoverTemplate=\"%{label}: <br>Popularity: %{percent} </br> %{text}\"))"
   ],
   "outputs": [
    {
     "data": {
      "text/html": [
       "<div id=\"a28bdea5-cc14-4403-9418-1d01583c5127\" style=\"width: 600px; height: 600px;\"><!-- Plotly chart will be drawn inside this DIV --></div>\r\n",
       "<script type=\"text/javascript\">\r\n",
       "\n",
       "            var renderPlotly_a28bdea5cc14440394181d01583c5127 = function() {\n",
       "            var fsharpPlotlyRequire = requirejs.config({context:'fsharp-plotly',paths:{plotly:'https://cdn.plot.ly/plotly-2.4.2.min'}}) || require;\n",
       "            fsharpPlotlyRequire(['plotly'], function(Plotly) {\r\n",
       "\n",
       "            var data = [{\"type\":\"pie\",\"name\":\"\",\"values\":[2.0,5.0,3.0,2.5],\"labels\":[\"R\",\"Python\",\"Java Script\",\"Matlab\"],\"marker\":{},\"text\":[\"TextA\",\"TextB\",\"TextC\",\"TextD\"],\"hovertemplate\":\"%{label}: <br>Popularity: %{percent} </br> %{text}\"}];\n",
       "            var layout = {};\n",
       "            var config = {};\n",
       "            Plotly.newPlot('a28bdea5-cc14-4403-9418-1d01583c5127', data, layout, config);\r\n",
       "});\n",
       "            };\n",
       "            if ((typeof(requirejs) !==  typeof(Function)) || (typeof(requirejs.config) !== typeof(Function))) {\n",
       "                var script = document.createElement(\"script\");\n",
       "                script.setAttribute(\"src\", \"https://cdnjs.cloudflare.com/ajax/libs/require.js/2.3.6/require.min.js\");\n",
       "                script.onload = function(){\n",
       "                    renderPlotly_a28bdea5cc14440394181d01583c5127();\n",
       "                };\n",
       "                document.getElementsByTagName(\"head\")[0].appendChild(script);\n",
       "            }\n",
       "            else {\n",
       "                renderPlotly_a28bdea5cc14440394181d01583c5127();\n",
       "            }\r\n",
       "</script>\r\n"
      ]
     },
     "metadata": {},
     "output_type": "display_data"
    }
   ],
   "metadata": {
    "dotnet_interactive": {
     "language": "fsharp"
    }
   }
  },
  {
   "cell_type": "markdown",
   "source": [
    "# Hover Templates with Mixtures of Period data\r\n",
    "\r\n",
    "When displaying periodic data with mixed-sized periods (i.e. quarterly and monthly) in conjunction with x or x unified hovermodes and using hovertemplate, the XHoverFormat attribute can be used to control how each period's X value is displayed, and the special %{xother} hover-template directive can be used to control how the X value is displayed for points that do not share the exact X coordinate with the point that is being hovered on. %{xother} will return an empty string when the X value is the one being hovered on, otherwise it will return (%{x}). The special %{_xother}, %{xother_} and %{_xother_} variations will display with spaces before, after or around the parentheses, respectively."
   ],
   "metadata": {}
  },
  {
   "cell_type": "code",
   "execution_count": null,
   "source": [
    "open Plotly.NET.LayoutObjects\r\n",
    "\r\n",
    "let chart1 = Chart.Column([1000; 1500; 1700],[\"2020-01-01\"; \"2020-04-01\"; \"2020-07-01\"])\r\n",
    "                |> GenericChart.mapTrace(Trace2DStyle.Bar(XPeriod=\"M3\",\r\n",
    "                                            XPeriodAlignment=StyleParam.PeriodAlignment.Middle,\r\n",
    "                                            XHoverFormat=\"Q%q\",\r\n",
    "                                            HoverTemplate = \"%{y}%{_xother}\"))\r\n",
    "                                            \r\n",
    "let x=[\"2020-01-01\"; \"2020-02-01\"; \"2020-03-01\";\r\n",
    "                            \"2020-04-01\"; \"2020-05-01\"; \"2020-06-01\";\r\n",
    "                            \"2020-07-01\"; \"2020-08-01\"; \"2020-09-01\"]\r\n",
    "let y=[1100;1050;1200;1300;1400;1700;1500;1400;1600]\r\n",
    "\r\n",
    "let chart2 =Chart.Line(x=x,y=y,ShowMarkers=true)\r\n",
    "                |> GenericChart.mapTrace(Trace2DStyle.Scatter(XPeriod=\"M1\",\r\n",
    "                                            XPeriodAlignment=StyleParam.PeriodAlignment.Middle,\r\n",
    "                                            XHoverFormat=\"Q%q\",\r\n",
    "                                            HoverTemplate = \"%{y}%{_xother}\"))\r\n",
    "\r\n",
    "let layout = //Workaround\r\n",
    "    let tmp  = new Layout()\r\n",
    "    tmp?hovermode <- \"x unified\"\r\n",
    "    tmp\r\n",
    "\r\n",
    "[chart1;chart2]\r\n",
    "|>  Chart.combine\r\n",
    "|>  Chart.withLayout(layout)\r\n"
   ],
   "outputs": [
    {
     "data": {
      "text/html": [
       "<div id=\"1831aa71-7963-4492-aa7f-aad99266f477\" style=\"width: 600px; height: 600px;\"><!-- Plotly chart will be drawn inside this DIV --></div>\r\n",
       "<script type=\"text/javascript\">\r\n",
       "\n",
       "            var renderPlotly_1831aa7179634492aa7faad99266f477 = function() {\n",
       "            var fsharpPlotlyRequire = requirejs.config({context:'fsharp-plotly',paths:{plotly:'https://cdn.plot.ly/plotly-2.4.2.min'}}) || require;\n",
       "            fsharpPlotlyRequire(['plotly'], function(Plotly) {\r\n",
       "\n",
       "            var data = [{\"type\":\"bar\",\"x\":[\"2020-01-01\",\"2020-04-01\",\"2020-07-01\"],\"y\":[1000,1500,1700],\"orientation\":\"v\",\"marker\":{\"pattern\":{}},\"hovertemplate\":\"%{y}%{_xother}\",\"xhoverformat\":\"Q%q\",\"xperiod\":\"M3\",\"xperiodalignment\":\"middle\"},{\"type\":\"scatter\",\"mode\":\"lines+markers\",\"x\":[\"2020-01-01\",\"2020-02-01\",\"2020-03-01\",\"2020-04-01\",\"2020-05-01\",\"2020-06-01\",\"2020-07-01\",\"2020-08-01\",\"2020-09-01\"],\"y\":[1100,1050,1200,1300,1400,1700,1500,1400,1600],\"line\":{},\"marker\":{},\"hovertemplate\":\"%{y}%{_xother}\",\"xhoverformat\":\"Q%q\",\"xperiod\":\"M1\",\"xperiodalignment\":\"middle\"}];\n",
       "            var layout = {\"hovermode\":\"x unified\"};\n",
       "            var config = {};\n",
       "            Plotly.newPlot('1831aa71-7963-4492-aa7f-aad99266f477', data, layout, config);\r\n",
       "});\n",
       "            };\n",
       "            if ((typeof(requirejs) !==  typeof(Function)) || (typeof(requirejs.config) !== typeof(Function))) {\n",
       "                var script = document.createElement(\"script\");\n",
       "                script.setAttribute(\"src\", \"https://cdnjs.cloudflare.com/ajax/libs/require.js/2.3.6/require.min.js\");\n",
       "                script.onload = function(){\n",
       "                    renderPlotly_1831aa7179634492aa7faad99266f477();\n",
       "                };\n",
       "                document.getElementsByTagName(\"head\")[0].appendChild(script);\n",
       "            }\n",
       "            else {\n",
       "                renderPlotly_1831aa7179634492aa7faad99266f477();\n",
       "            }\r\n",
       "</script>\r\n"
      ]
     },
     "metadata": {},
     "output_type": "display_data"
    }
   ],
   "metadata": {
    "dotnet_interactive": {
     "language": "fsharp"
    }
   }
  },
  {
   "cell_type": "markdown",
   "source": [
    "# Advanced Hover Template\r\n",
    "\r\n",
    "The following example shows how to format a hover template."
   ],
   "metadata": {}
  },
  {
   "cell_type": "code",
   "execution_count": null,
   "source": [
    "open Plotly.NET.TraceObjects\r\n",
    "open Plotly.NET.LayoutObjects   \r\n",
    "\r\n",
    "let csv = CsvFile.Load(\"https://raw.githubusercontent.com/plotly/datasets/master/gapminderDataFiveYear.csv\")\r\n",
    "\r\n",
    "let continentNames = [\"Africa\"; \"Americas\";\"Asia\"; \"Europe\"; \"Oceania\"]\r\n",
    "\r\n",
    "let contientGrouping = csv.Rows |> Seq.groupBy (fun row -> row.GetColumn(\"continent\")) \r\n",
    "\r\n",
    "let hoverTemplate = \"<b>%{text}</b><br><br>\" +\r\n",
    "                        \"GDP per Capita: %{x:$,.0f}<br>\" +\r\n",
    "                        \"Life Expectation: %{y:.0%}<br>\" +\r\n",
    "                        \"Population: %{marker.size:,}\" +\r\n",
    "                        \"<extra></extra>\"\r\n",
    "\r\n",
    "let rand = new Random()\r\n",
    "\r\n",
    "[for continent,countryList in contientGrouping -> \r\n",
    "                                                    let x = [for (row:CsvRow) in countryList -> row.GetColumn(\"gdpPercap\")]\r\n",
    "                                                    let y = [for (row:CsvRow) in countryList -> row.GetColumn(\"lifeExp\")]\r\n",
    "                                                    let size = [for (row:CsvRow) in countryList -> int <| rand.NextDouble()*300. ]\r\n",
    "                                                    let text = countryList |> Seq.map (fun c -> c.GetColumn(\"continent\"))\r\n",
    "                                                    Chart.Scatter(x,y,StyleParam.Mode.Markers,Name=continent)                                                    \r\n",
    "                                                    |> Chart.withMarkerStyle(MultiSize=size,SizeMode=StyleParam.MarkerSizeMode.Area,SizeRef=10)\r\n",
    "                                                    |> GenericChart.mapTrace(Trace2DStyle.Scatter(HoverTemplate=hoverTemplate,MultiText=text))]\r\n",
    "\r\n",
    "|> Chart.combine\r\n",
    "|> Chart.withXAxis(LinearAxis.init(AxisType=StyleParam.AxisType.Log))       "
   ],
   "outputs": [
    {
     "data": {
      "text/html": [
       "<div id=\"c9887239-7a6f-4bb2-99d3-a51b0e562fd1\" style=\"width: 600px; height: 600px;\"><!-- Plotly chart will be drawn inside this DIV --></div>\r\n",
       "<script type=\"text/javascript\">\r\n",
       "\n",
       "            var renderPlotly_c98872397a6f4bb299d3a51b0e562fd1 = function() {\n",
       "            var fsharpPlotlyRequire = requirejs.config({context:'fsharp-plotly',paths:{plotly:'https://cdn.plot.ly/plotly-2.4.2.min'}}) || require;\n",
       "            fsharpPlotlyRequire(['plotly'], function(Plotly) {\r\n",
       "\n",
       "            var data = [{\"type\":\"scatter\",\"mode\":\"markers\",\"x\":[\"779.4453145\",\"820.8530296\",\"853.10071\",\"836.1971382\",\"739.9811058\",\"786.11336\",\"978.0114388\",\"852.3959448\",\"649.3413952\",\"635.341351\",\"726.7340548\",\"974.5803384\",\"9867.084765\",\"11635.79945\",\"12753.27514\",\"14804.6727\",\"18268.65839\",\"19340.10196\",\"19211.14731\",\"18524.02406\",\"19035.57917\",\"20292.01679\",\"23403.55927\",\"29796.04834\",\"684.2441716\",\"661.6374577\",\"686.3415538\",\"721.1860862\",\"630.2336265\",\"659.8772322\",\"676.9818656\",\"751.9794035\",\"837.8101643\",\"972.7700352\",\"1136.39043\",\"1391.253792\",\"368.4692856\",\"434.0383364\",\"496.9136476\",\"523.4323142\",\"421.6240257\",\"524.9721832\",\"624.4754784\",\"683.8955732\",\"682.3031755\",\"734.28517\",\"896.2260153\",\"1713.778686\",\"400.4486107\",\"575.9870009\",\"487.6740183\",\"612.7056934\",\"676.9000921\",\"741.2374699\",\"962.4213805\",\"1378.904018\",\"1655.784158\",\"2289.234136\",\"3119.280896\",\"4959.114854\",\"3054.421209\",\"3629.076457\",\"4692.648272\",\"6197.962814\",\"8315.928145\",\"11186.14125\",\"14560.53051\",\"20038.47269\",\"24757.60301\",\"28377.63219\",\"30209.01516\",\"39724.97867\",\"546.5657493\",\"590.061996\",\"658.3471509\",\"700.7706107\",\"724.032527\",\"813.337323\",\"855.7235377\",\"976.5126756\",\"1164.406809\",\"1458.817442\",\"1746.769454\",\"2452.210407\",\"749.6816546\",\"858.9002707\",\"849.2897701\",\"762.4317721\",\"1111.107907\",\"1382.702056\",\"1516.872988\",\"1748.356961\",\"2383.140898\",\"3119.335603\",\"2873.91287\",\"3540.651564\",\"3035.326002\",\"3290.257643\",\"4187.329802\",\"5906.731805\",\"9613.818607\",\"11888.59508\",\"7608.334602\",\"6642.881371\",\"7235.653188\",\"8263.590301\",\"9240.761975\",\"11605.71449\",\"4129.766056\",\"6229.333562\",\"8341.737815\",\"8931.459811\",\"9576.037596\",\"14688.23507\",\"14517.90711\",\"11643.57268\",\"3745.640687\",\"3076.239795\",\"4390.717312\",\"4471.061906\",\"4086.522128\",\"5385.278451\",\"7105.630706\",\"8393.741404\",\"12786.93223\",\"13306.61921\",\"15367.0292\",\"17122.47986\",\"18051.52254\",\"20896.60924\",\"21905.59514\",\"25523.2771\",\"3216.956347\",\"4317.694365\",\"6576.649461\",\"9847.788607\",\"14778.78636\",\"16610.37701\",\"19384.10571\",\"22375.94189\",\"26824.89511\",\"28816.58499\",\"28604.5919\",\"31656.06806\",\"1546.907807\",\"1886.080591\",\"2348.009158\",\"2741.796252\",\"2110.856309\",\"2852.351568\",\"4161.415959\",\"4448.679912\",\"3431.593647\",\"3645.379572\",\"3844.917194\",\"4519.461171\",\"1088.277758\",\"1571.134655\",\"1621.693598\",\"2143.540609\",\"3701.621503\",\"4106.301249\",\"4106.525293\",\"4106.492315\",\"3726.063507\",\"1690.756814\",\"1646.758151\",\"1593.06548\",\"1030.592226\",\"1487.593537\",\"1536.344387\",\"2029.228142\",\"3030.87665\",\"4657.22102\",\"5622.942464\",\"8533.088805\",\"12104.27872\",\"15993.52796\",\"19233.98818\",\"23348.13973\",\"108382.3529\",\"113523.1329\",\"95458.11176\",\"80894.88326\",\"109347.867\",\"59265.47714\",\"31354.03573\",\"28118.42998\",\"34932.91959\",\"40300.61996\",\"35110.10566\",\"47306.98978\",\"4834.804067\",\"6089.786934\",\"5714.560611\",\"6006.983042\",\"7486.384341\",\"8659.696836\",\"7640.519521\",\"5377.091329\",\"6890.806854\",\"8754.96385\",\"9313.93883\",\"10461.05868\",\"1831.132894\",\"1810.066992\",\"2036.884944\",\"2277.742396\",\"2849.09478\",\"3827.921571\",\"4920.355951\",\"5249.802653\",\"7277.912802\",\"10132.90964\",\"10206.97794\",\"12451.6558\",\"786.5668575\",\"912.6626085\",\"1056.353958\",\"1226.04113\",\"1421.741975\",\"1647.511665\",\"2000.603139\",\"2338.008304\",\"1785.402016\",\"1902.2521\",\"2140.739323\",\"3095.772271\",\"331\",\"350\",\"388\",\"349\",\"357\",\"371\",\"424\",\"385\",\"347\",\"415\",\"611\",\"944\",\"545.8657229\",\"597.9363558\",\"652.3968593\",\"676.4422254\",\"674.7881296\",\"694.1124398\",\"718.3730947\",\"775.6324501\",\"897.7403604\",\"1010.892138\",\"1057.206311\",\"1091.359778\",\"1828.230307\",\"2242.746551\",\"2924.638113\",\"4720.942687\",\"10618.03855\",\"11848.34392\",\"12954.79101\",\"18115.22313\",\"18616.70691\",\"19702.05581\",\"19774.83687\",\"22316.19287\",\"684.5971438\",\"747.0835292\",\"803.3427418\",\"942.4082588\",\"1049.938981\",\"1175.921193\",\"1443.429832\",\"1704.686583\",\"1971.829464\",\"2049.350521\",\"2092.712441\",\"2605.94758\",\"1272.880995\",\"1547.944844\",\"1649.552153\",\"1814.12743\",\"1989.37407\",\"2373.204287\",\"2603.273765\",\"2189.634995\",\"2279.324017\",\"2536.534925\",\"2650.921068\",\"3190.481016\",\"6459.554823\",\"8157.591248\",\"11626.41975\",\"16903.04886\",\"24837.42865\",\"34167.7626\",\"33693.17525\",\"21198.26136\",\"24841.61777\",\"20586.69019\",\"19014.54118\",\"21654.83194\",\"2315.138227\",\"2843.104409\",\"3674.735572\",\"4977.41854\",\"8597.756202\",\"11210.08948\",\"15169.16112\",\"18861.53081\",\"24769.8912\",\"33519.4766\",\"36023.1054\",\"47143.17964\",\"1083.53203\",\"1072.546602\",\"1074.47196\",\"1135.514326\",\"1213.39553\",\"1348.775651\",\"1648.079789\",\"1876.766827\",\"2153.739222\",\"2664.477257\",\"3015.378833\",\"3970.095407\",\"1643.485354\",\"2117.234893\",\"2193.037133\",\"1881.923632\",\"2571.423014\",\"3195.484582\",\"3761.837715\",\"3116.774285\",\"3340.542768\",\"4014.238972\",\"4090.925331\",\"4184.548089\",\"1206.947913\",\"1507.86129\",\"1822.879028\",\"2643.858681\",\"4062.523897\",\"5596.519826\",\"7426.354774\",\"11054.56175\",\"15215.6579\",\"20206.82098\",\"23235.42329\",\"28718.27684\",\"757.7974177\",\"793.5774148\",\"1002.199172\",\"1295.46066\",\"1524.358936\",\"1961.224635\",\"2393.219781\",\"2982.653773\",\"4616.896545\",\"5852.625497\",\"5913.187529\",\"7458.396327\",\"605.0664917\",\"676.2854478\",\"772.0491602\",\"637.1232887\",\"699.5016441\",\"713.5371196\",\"707.2357863\",\"820.7994449\",\"989.0231487\",\"1385.896769\",\"1764.456677\",\"2441.576404\",\"1515.592329\",\"1827.067742\",\"2198.956312\",\"2649.715007\",\"3133.409277\",\"3682.831494\",\"4336.032082\",\"5107.197384\",\"6017.654756\",\"7110.667619\",\"4515.487575\",\"3025.349798\",\"781.7175761\",\"804.8304547\",\"825.6232006\",\"862.4421463\",\"1265.047031\",\"1829.765177\",\"1977.55701\",\"1971.741538\",\"1879.496673\",\"2117.484526\",\"2234.820827\",\"2280.769906\"],\"y\":[\"28.801\",\"30.332\",\"31.997\",\"34.02\",\"36.088\",\"38.438\",\"39.854\",\"40.822\",\"41.674\",\"41.763\",\"42.129\",\"43.828\",\"50.939\",\"53.832\",\"56.923\",\"59.923\",\"63.3\",\"65.593\",\"69.052\",\"70.75\",\"72.601\",\"73.925\",\"74.795\",\"75.635\",\"37.484\",\"39.348\",\"41.216\",\"43.453\",\"45.252\",\"46.923\",\"50.009\",\"52.819\",\"56.018\",\"59.412\",\"62.013\",\"64.062\",\"39.417\",\"41.366\",\"43.415\",\"45.415\",\"40.317\",\"31.22\",\"50.957\",\"53.914\",\"55.803\",\"56.534\",\"56.752\",\"59.723\",\"44\",\"50.54896\",\"44.50136\",\"58.38112\",\"63.11888\",\"63.96736\",\"65.525\",\"67.274\",\"68.69\",\"70.426\",\"72.028\",\"72.961\",\"60.96\",\"64.75\",\"67.65\",\"70\",\"72\",\"73.6\",\"75.45\",\"76.2\",\"77.601\",\"80\",\"81.495\",\"82.208\",\"37.373\",\"40.249\",\"43.605\",\"47.193\",\"50.651\",\"54.208\",\"56.596\",\"58.553\",\"60.223\",\"61.765\",\"62.879\",\"64.698\",\"37.468\",\"39.918\",\"42.518\",\"45.964\",\"49.203\",\"52.702\",\"56.159\",\"60.137\",\"62.681\",\"66.041\",\"68.588\",\"70.65\",\"44.869\",\"47.181\",\"49.325\",\"52.469\",\"55.234\",\"57.702\",\"59.62\",\"63.04\",\"65.742\",\"68.042\",\"69.451\",\"70.964\",\"45.32\",\"48.437\",\"51.457\",\"54.459\",\"56.95\",\"60.413\",\"62.038\",\"65.044\",\"59.461\",\"58.811\",\"57.046\",\"59.545\",\"65.39\",\"67.84\",\"69.39\",\"70.75\",\"71.63\",\"73.06\",\"74.45\",\"75.6\",\"76.93\",\"78.269\",\"79.696\",\"80.745\",\"63.03\",\"65.5\",\"68.73\",\"71.43\",\"73.42\",\"75.38\",\"77.11\",\"78.67\",\"79.36\",\"80.69\",\"82\",\"82.603\",\"43.158\",\"45.669\",\"48.126\",\"51.629\",\"56.528\",\"61.134\",\"63.739\",\"65.869\",\"68.015\",\"69.772\",\"71.263\",\"72.535\",\"50.056\",\"54.081\",\"56.656\",\"59.942\",\"63.983\",\"67.159\",\"69.1\",\"70.647\",\"69.978\",\"67.727\",\"66.662\",\"67.297\",\"47.453\",\"52.681\",\"55.292\",\"57.716\",\"62.612\",\"64.766\",\"67.123\",\"69.81\",\"72.244\",\"74.647\",\"77.045\",\"78.623\",\"55.565\",\"58.033\",\"60.47\",\"64.624\",\"67.712\",\"69.343\",\"71.309\",\"74.174\",\"75.19\",\"76.156\",\"76.904\",\"77.588\",\"55.928\",\"59.489\",\"62.094\",\"63.87\",\"65.421\",\"66.099\",\"66.983\",\"67.926\",\"69.292\",\"70.265\",\"71.028\",\"71.993\",\"48.463\",\"52.102\",\"55.737\",\"59.371\",\"63.01\",\"65.256\",\"68\",\"69.5\",\"70.693\",\"71.938\",\"73.044\",\"74.241\",\"42.244\",\"45.248\",\"48.251\",\"51.253\",\"53.754\",\"55.491\",\"57.489\",\"60.222\",\"61.271\",\"63.625\",\"65.033\",\"66.803\",\"36.319\",\"41.905\",\"45.108\",\"49.379\",\"53.07\",\"56.059\",\"58.056\",\"58.339\",\"59.32\",\"60.328\",\"59.908\",\"62.069\",\"36.157\",\"37.686\",\"39.393\",\"41.472\",\"43.971\",\"46.748\",\"49.594\",\"52.537\",\"55.727\",\"59.426\",\"61.34\",\"63.785\",\"37.578\",\"40.08\",\"43.165\",\"46.988\",\"52.143\",\"57.367\",\"62.728\",\"67.734\",\"71.197\",\"72.499\",\"74.193\",\"75.64\",\"43.436\",\"45.557\",\"47.67\",\"49.8\",\"51.929\",\"54.043\",\"56.158\",\"58.245\",\"60.838\",\"61.818\",\"63.61\",\"65.483\",\"47.752\",\"51.334\",\"54.757\",\"56.393\",\"58.065\",\"60.06\",\"62.082\",\"64.151\",\"66.458\",\"68.564\",\"70.303\",\"71.688\",\"39.875\",\"42.868\",\"45.914\",\"49.901\",\"53.886\",\"58.69\",\"63.012\",\"66.295\",\"68.768\",\"70.533\",\"71.626\",\"72.777\",\"60.396\",\"63.179\",\"65.798\",\"67.946\",\"69.521\",\"70.795\",\"71.76\",\"73.56\",\"75.788\",\"77.158\",\"78.77\",\"79.972\",\"57.593\",\"61.456\",\"62.192\",\"64.266\",\"65.042\",\"65.949\",\"68.757\",\"69.011\",\"70.379\",\"70.457\",\"70.815\",\"72.396\",\"45.883\",\"48.284\",\"50.305\",\"53.655\",\"57.296\",\"61.195\",\"64.59\",\"66.974\",\"69.249\",\"71.527\",\"73.053\",\"74.143\",\"58.5\",\"62.4\",\"65.2\",\"67.5\",\"69.39\",\"70.59\",\"72.16\",\"73.4\",\"74.26\",\"75.25\",\"76.99\",\"78.4\",\"50.848\",\"53.63\",\"56.061\",\"58.285\",\"60.405\",\"62.494\",\"64.597\",\"66.084\",\"67.298\",\"67.521\",\"68.564\",\"70.616\",\"40.412\",\"42.887\",\"45.363\",\"47.838\",\"50.254\",\"55.764\",\"58.816\",\"62.82\",\"67.662\",\"70.672\",\"73.017\",\"74.249\",\"43.16\",\"45.671\",\"48.127\",\"51.631\",\"56.532\",\"60.765\",\"64.406\",\"67.046\",\"69.718\",\"71.096\",\"72.37\",\"73.422\",\"32.548\",\"33.97\",\"35.18\",\"36.984\",\"39.848\",\"44.175\",\"49.113\",\"52.922\",\"55.599\",\"58.02\",\"60.308\",\"62.698\"],\"name\":\"Asia\",\"line\":{},\"marker\":{\"size\":[101,299,296,247,228,80,262,205,54,103,205,32,135,149,80,15,102,79,246,145,29,9,155,24,283,158,205,97,1,254,258,197,209,33,262,26,79,14,284,147,7,171,263,214,49,208,212,209,17,139,25,23,238,111,278,92,143,271,263,70,174,164,204,100,145,8,122,101,186,53,236,88,95,99,138,158,46,240,275,75,245,296,79,161,228,235,258,98,55,170,182,107,50,213,272,142,266,162,69,41,85,111,22,264,202,237,227,139,272,119,46,202,296,188,125,178,85,42,172,209,49,24,45,16,171,128,37,181,127,296,191,183,171,234,289,133,274,115,259,290,7,118,125,235,124,279,111,162,88,93,57,223,290,159,291,61,65,5,93,74,200,46,12,276,227,162,31,62,198,291,203,269,83,181,202,231,198,110,192,191,17,174,92,33,239,268,193,12,242,227,67,268,22,184,89,261,106,149,7,261,248,48,264,97,190,87,139,108,257,60,163,255,113,201,56,25,253,279,37,259,269,18,119,270,223,235,247,198,91,240,124,49,102,230,242,269,210,294,143,152,128,84,55,182,64,112,155,120,128,64,7,126,112,48,292,229,228,293,174,254,139,241,16,16,235,113,153,182,258,87,115,258,136,184,130,184,263,237,206,111,80,127,70,27,233,298,236,53,238,13,40,217,120,188,12,187,68,39,247,251,258,272,161,41,248,48,290,227,217,108,265,291,87,62,174,12,170,288,82,237,176,99,243,245,46,197,137,247,171,243,116,224,289,254,152,107,265,29,79,184,7,9,136,130,47,49,130,58,14,0,16,79,256,10,74,158,28,216,294,50,210,42,55,273,291,41,1,132,209,66,46,141,209,198,229,167,263,113,197,297,67,79,233,171,226,36,268,279,180,293,79,49,34,28,273,264],\"sizemode\":{\"Case\":\"Area\"},\"sizeref\":10},\"text\":[\"Asia\",\"Asia\",\"Asia\",\"Asia\",\"Asia\",\"Asia\",\"Asia\",\"Asia\",\"Asia\",\"Asia\",\"Asia\",\"Asia\",\"Asia\",\"Asia\",\"Asia\",\"Asia\",\"Asia\",\"Asia\",\"Asia\",\"Asia\",\"Asia\",\"Asia\",\"Asia\",\"Asia\",\"Asia\",\"Asia\",\"Asia\",\"Asia\",\"Asia\",\"Asia\",\"Asia\",\"Asia\",\"Asia\",\"Asia\",\"Asia\",\"Asia\",\"Asia\",\"Asia\",\"Asia\",\"Asia\",\"Asia\",\"Asia\",\"Asia\",\"Asia\",\"Asia\",\"Asia\",\"Asia\",\"Asia\",\"Asia\",\"Asia\",\"Asia\",\"Asia\",\"Asia\",\"Asia\",\"Asia\",\"Asia\",\"Asia\",\"Asia\",\"Asia\",\"Asia\",\"Asia\",\"Asia\",\"Asia\",\"Asia\",\"Asia\",\"Asia\",\"Asia\",\"Asia\",\"Asia\",\"Asia\",\"Asia\",\"Asia\",\"Asia\",\"Asia\",\"Asia\",\"Asia\",\"Asia\",\"Asia\",\"Asia\",\"Asia\",\"Asia\",\"Asia\",\"Asia\",\"Asia\",\"Asia\",\"Asia\",\"Asia\",\"Asia\",\"Asia\",\"Asia\",\"Asia\",\"Asia\",\"Asia\",\"Asia\",\"Asia\",\"Asia\",\"Asia\",\"Asia\",\"Asia\",\"Asia\",\"Asia\",\"Asia\",\"Asia\",\"Asia\",\"Asia\",\"Asia\",\"Asia\",\"Asia\",\"Asia\",\"Asia\",\"Asia\",\"Asia\",\"Asia\",\"Asia\",\"Asia\",\"Asia\",\"Asia\",\"Asia\",\"Asia\",\"Asia\",\"Asia\",\"Asia\",\"Asia\",\"Asia\",\"Asia\",\"Asia\",\"Asia\",\"Asia\",\"Asia\",\"Asia\",\"Asia\",\"Asia\",\"Asia\",\"Asia\",\"Asia\",\"Asia\",\"Asia\",\"Asia\",\"Asia\",\"Asia\",\"Asia\",\"Asia\",\"Asia\",\"Asia\",\"Asia\",\"Asia\",\"Asia\",\"Asia\",\"Asia\",\"Asia\",\"Asia\",\"Asia\",\"Asia\",\"Asia\",\"Asia\",\"Asia\",\"Asia\",\"Asia\",\"Asia\",\"Asia\",\"Asia\",\"Asia\",\"Asia\",\"Asia\",\"Asia\",\"Asia\",\"Asia\",\"Asia\",\"Asia\",\"Asia\",\"Asia\",\"Asia\",\"Asia\",\"Asia\",\"Asia\",\"Asia\",\"Asia\",\"Asia\",\"Asia\",\"Asia\",\"Asia\",\"Asia\",\"Asia\",\"Asia\",\"Asia\",\"Asia\",\"Asia\",\"Asia\",\"Asia\",\"Asia\",\"Asia\",\"Asia\",\"Asia\",\"Asia\",\"Asia\",\"Asia\",\"Asia\",\"Asia\",\"Asia\",\"Asia\",\"Asia\",\"Asia\",\"Asia\",\"Asia\",\"Asia\",\"Asia\",\"Asia\",\"Asia\",\"Asia\",\"Asia\",\"Asia\",\"Asia\",\"Asia\",\"Asia\",\"Asia\",\"Asia\",\"Asia\",\"Asia\",\"Asia\",\"Asia\",\"Asia\",\"Asia\",\"Asia\",\"Asia\",\"Asia\",\"Asia\",\"Asia\",\"Asia\",\"Asia\",\"Asia\",\"Asia\",\"Asia\",\"Asia\",\"Asia\",\"Asia\",\"Asia\",\"Asia\",\"Asia\",\"Asia\",\"Asia\",\"Asia\",\"Asia\",\"Asia\",\"Asia\",\"Asia\",\"Asia\",\"Asia\",\"Asia\",\"Asia\",\"Asia\",\"Asia\",\"Asia\",\"Asia\",\"Asia\",\"Asia\",\"Asia\",\"Asia\",\"Asia\",\"Asia\",\"Asia\",\"Asia\",\"Asia\",\"Asia\",\"Asia\",\"Asia\",\"Asia\",\"Asia\",\"Asia\",\"Asia\",\"Asia\",\"Asia\",\"Asia\",\"Asia\",\"Asia\",\"Asia\",\"Asia\",\"Asia\",\"Asia\",\"Asia\",\"Asia\",\"Asia\",\"Asia\",\"Asia\",\"Asia\",\"Asia\",\"Asia\",\"Asia\",\"Asia\",\"Asia\",\"Asia\",\"Asia\",\"Asia\",\"Asia\",\"Asia\",\"Asia\",\"Asia\",\"Asia\",\"Asia\",\"Asia\",\"Asia\",\"Asia\",\"Asia\",\"Asia\",\"Asia\",\"Asia\",\"Asia\",\"Asia\",\"Asia\",\"Asia\",\"Asia\",\"Asia\",\"Asia\",\"Asia\",\"Asia\",\"Asia\",\"Asia\",\"Asia\",\"Asia\",\"Asia\",\"Asia\",\"Asia\",\"Asia\",\"Asia\",\"Asia\",\"Asia\",\"Asia\",\"Asia\",\"Asia\",\"Asia\",\"Asia\",\"Asia\",\"Asia\",\"Asia\",\"Asia\",\"Asia\",\"Asia\",\"Asia\",\"Asia\",\"Asia\",\"Asia\",\"Asia\",\"Asia\",\"Asia\",\"Asia\",\"Asia\",\"Asia\",\"Asia\",\"Asia\",\"Asia\",\"Asia\",\"Asia\",\"Asia\",\"Asia\",\"Asia\",\"Asia\",\"Asia\",\"Asia\",\"Asia\",\"Asia\",\"Asia\",\"Asia\",\"Asia\",\"Asia\",\"Asia\",\"Asia\",\"Asia\",\"Asia\",\"Asia\",\"Asia\",\"Asia\",\"Asia\",\"Asia\",\"Asia\",\"Asia\",\"Asia\",\"Asia\",\"Asia\",\"Asia\",\"Asia\",\"Asia\",\"Asia\",\"Asia\",\"Asia\",\"Asia\",\"Asia\",\"Asia\",\"Asia\",\"Asia\",\"Asia\",\"Asia\",\"Asia\",\"Asia\",\"Asia\",\"Asia\",\"Asia\",\"Asia\"],\"hovertemplate\":\"<b>%{text}</b><br><br>GDP per Capita: %{x:$,.0f}<br>Life Expectation: %{y:.0%}<br>Population: %{marker.size:,}<extra></extra>\"},{\"type\":\"scatter\",\"mode\":\"markers\",\"x\":[\"1601.056136\",\"1942.284244\",\"2312.888958\",\"2760.196931\",\"3313.422188\",\"3533.00391\",\"3630.880722\",\"3738.932735\",\"2497.437901\",\"3193.054604\",\"4604.211737\",\"5937.029526\",\"6137.076492\",\"8842.59803\",\"10750.72111\",\"12834.6024\",\"16661.6256\",\"19749.4223\",\"21597.08362\",\"23687.82607\",\"27042.01868\",\"29095.92066\",\"32417.60769\",\"36126.4927\",\"8343.105127\",\"9714.960623\",\"10991.20676\",\"13149.04119\",\"16672.14356\",\"19117.97448\",\"20979.84589\",\"22525.56308\",\"25575.57069\",\"27561.19663\",\"30485.88375\",\"33692.60508\",\"973.5331948\",\"1353.989176\",\"1709.683679\",\"2172.352423\",\"2860.16975\",\"3528.481305\",\"4126.613157\",\"4314.114757\",\"2546.781445\",\"4766.355904\",\"6018.975239\",\"7446.298803\",\"2444.286648\",\"3008.670727\",\"4254.337839\",\"5577.0028\",\"6597.494398\",\"7612.240438\",\"8224.191647\",\"8239.854824\",\"6302.623438\",\"5970.38876\",\"7696.777725\",\"10680.79282\",\"3119.23652\",\"4338.231617\",\"5477.890018\",\"6960.297861\",\"9164.090127\",\"11305.38517\",\"13221.82184\",\"13822.58394\",\"8447.794873\",\"9875.604515\",\"11628.38895\",\"14619.22272\",\"6876.14025\",\"8256.343918\",\"10136.86713\",\"11399.44489\",\"13108.4536\",\"14800.16062\",\"15377.22855\",\"16310.4434\",\"14297.02122\",\"16048.51424\",\"17596.21022\",\"22833.30851\",\"9692.385245\",\"11099.65935\",\"13583.31351\",\"15937.21123\",\"18866.20721\",\"20422.9015\",\"21688.04048\",\"25116.17581\",\"26406.73985\",\"29804.34567\",\"32166.50006\",\"35278.41874\",\"6424.519071\",\"7545.415386\",\"9371.842561\",\"10921.63626\",\"14358.8759\",\"15605.42283\",\"18533.15761\",\"21141.01223\",\"20647.16499\",\"23723.9502\",\"28204.59057\",\"33207.0844\",\"7029.809327\",\"8662.834898\",\"10560.48553\",\"12999.91766\",\"16107.19171\",\"18292.63514\",\"20293.89746\",\"22066.44214\",\"24703.79615\",\"25889.78487\",\"28926.03234\",\"30470.0167\",\"7144.114393\",\"10187.82665\",\"12902.46291\",\"14745.62561\",\"18016.18027\",\"20512.92123\",\"22031.53274\",\"24639.18566\",\"26505.30317\",\"27788.88416\",\"30035.80198\",\"32170.37442\",\"3530.690067\",\"4916.299889\",\"6017.190733\",\"8513.097016\",\"12724.82957\",\"14195.52428\",\"15268.42089\",\"16120.52839\",\"17541.49634\",\"18747.69814\",\"22514.2548\",\"27538.41188\",\"5263.673816\",\"6040.180011\",\"7550.359877\",\"9326.64467\",\"10168.65611\",\"11674.83737\",\"12545.99066\",\"12986.47998\",\"10535.62855\",\"11712.7768\",\"14843.93556\",\"18008.94444\",\"7267.688428\",\"9244.001412\",\"10350.15906\",\"13319.89568\",\"15798.06362\",\"19654.96247\",\"23269.6075\",\"26923.20628\",\"25144.39201\",\"28061.09966\",\"31163.20196\",\"36180.78919\",\"5210.280328\",\"5599.077872\",\"6631.597314\",\"7655.568963\",\"9530.772896\",\"11150.98113\",\"12618.32141\",\"13872.86652\",\"17558.81555\",\"24521.94713\",\"34077.04939\",\"40675.99635\",\"4931.404155\",\"6248.656232\",\"8243.58234\",\"10022.40131\",\"12269.27378\",\"14255.98475\",\"16537.4835\",\"19207.23482\",\"22013.64486\",\"24675.02446\",\"27968.09817\",\"28569.7197\",\"2647.585601\",\"3682.259903\",\"4649.593785\",\"5907.850937\",\"7778.414017\",\"9595.929905\",\"11222.58762\",\"11732.51017\",\"7003.339037\",\"6465.613349\",\"6557.194282\",\"9253.896111\",\"8941.571858\",\"11276.19344\",\"12790.84956\",\"15363.25136\",\"18794.74567\",\"21209.0592\",\"21399.46046\",\"23651.32361\",\"26790.94961\",\"30246.13063\",\"33724.75778\",\"36797.93332\",\"10095.42172\",\"11653.97304\",\"13450.40151\",\"16361.87647\",\"18965.05551\",\"23311.34939\",\"26298.63531\",\"31540.9748\",\"33965.66115\",\"41283.16433\",\"44683.97525\",\"49357.19017\",\"4029.329699\",\"4734.253019\",\"5338.752143\",\"6557.152776\",\"8006.506993\",\"9508.141454\",\"8451.531004\",\"9082.351172\",\"7738.881247\",\"10159.58368\",\"12002.23908\",\"15389.92468\",\"3068.319867\",\"3774.571743\",\"4727.954889\",\"6361.517993\",\"9022.247417\",\"10172.48572\",\"11753.84291\",\"13039.30876\",\"16207.26663\",\"17641.03156\",\"19970.90787\",\"20509.64777\",\"3144.613186\",\"3943.370225\",\"4734.997586\",\"6470.866545\",\"8011.414402\",\"9356.39724\",\"9605.314053\",\"9696.273295\",\"6598.409903\",\"7346.547557\",\"7885.360081\",\"10808.47561\",\"3581.459448\",\"4981.090891\",\"6289.629157\",\"7991.707066\",\"10522.06749\",\"12980.66956\",\"15181.0927\",\"15870.87851\",\"9325.068238\",\"7914.320304\",\"7236.075251\",\"9786.534714\",\"5074.659104\",\"6093.26298\",\"7481.107598\",\"8412.902397\",\"9674.167626\",\"10922.66404\",\"11348.54585\",\"12037.26758\",\"9498.467723\",\"12126.23065\",\"13638.77837\",\"18678.31435\",\"4215.041741\",\"5862.276629\",\"7402.303395\",\"9405.489397\",\"12383.4862\",\"15277.03017\",\"17866.72175\",\"18678.53492\",\"14214.71681\",\"17161.10735\",\"20660.01936\",\"25768.25759\",\"3834.034742\",\"4564.80241\",\"5693.843879\",\"7993.512294\",\"10638.75131\",\"13236.92117\",\"13926.16997\",\"15764.98313\",\"18603.06452\",\"20445.29896\",\"24835.47166\",\"28821.0637\",\"8527.844662\",\"9911.878226\",\"12329.44192\",\"15258.29697\",\"17832.02464\",\"18855.72521\",\"20667.38125\",\"23586.92927\",\"23880.01683\",\"25266.59499\",\"29341.63093\",\"33859.74835\",\"14734.23275\",\"17909.48973\",\"20431.0927\",\"22966.14432\",\"27195.11304\",\"26982.29052\",\"28397.71512\",\"30281.70459\",\"31871.5303\",\"32135.32301\",\"34480.95771\",\"37506.41907\",\"1969.10098\",\"2218.754257\",\"2322.869908\",\"2826.356387\",\"3450.69638\",\"4269.122326\",\"4241.356344\",\"5089.043686\",\"5678.348271\",\"6601.429915\",\"6508.085718\",\"8458.276384\",\"9979.508487\",\"11283.17795\",\"12477.17707\",\"14142.85089\",\"15895.11641\",\"17428.74846\",\"18232.42452\",\"21664.78767\",\"22705.09254\",\"26074.53136\",\"29478.99919\",\"33203.26128\"],\"y\":[\"55.23\",\"59.28\",\"64.82\",\"66.22\",\"67.69\",\"68.93\",\"70.42\",\"72\",\"71.581\",\"72.95\",\"75.651\",\"76.423\",\"66.8\",\"67.48\",\"69.54\",\"70.14\",\"70.63\",\"72.17\",\"73.18\",\"74.94\",\"76.04\",\"77.51\",\"78.98\",\"79.829\",\"68\",\"69.24\",\"70.25\",\"70.94\",\"71.44\",\"72.8\",\"73.93\",\"75.35\",\"76.46\",\"77.53\",\"78.32\",\"79.441\",\"53.82\",\"58.45\",\"61.93\",\"64.79\",\"67.45\",\"69.86\",\"70.69\",\"71.14\",\"72.178\",\"73.244\",\"74.09\",\"74.852\",\"59.6\",\"66.61\",\"69.51\",\"70.42\",\"70.9\",\"70.81\",\"71.08\",\"71.34\",\"71.19\",\"70.32\",\"72.14\",\"73.005\",\"61.21\",\"64.77\",\"67.13\",\"68.5\",\"69.61\",\"70.64\",\"70.46\",\"71.52\",\"72.527\",\"73.68\",\"74.876\",\"75.748\",\"66.87\",\"69.03\",\"69.9\",\"70.38\",\"70.29\",\"70.71\",\"70.96\",\"71.58\",\"72.4\",\"74.01\",\"75.51\",\"76.486\",\"70.78\",\"71.81\",\"72.35\",\"72.96\",\"73.47\",\"74.69\",\"74.63\",\"74.8\",\"75.33\",\"76.11\",\"77.18\",\"78.332\",\"66.55\",\"67.49\",\"68.75\",\"69.83\",\"70.87\",\"72.52\",\"74.55\",\"74.83\",\"75.7\",\"77.13\",\"78.37\",\"79.313\",\"67.41\",\"68.93\",\"70.51\",\"71.55\",\"72.38\",\"73.83\",\"74.89\",\"76.34\",\"77.46\",\"78.64\",\"79.59\",\"80.657\",\"67.5\",\"69.1\",\"70.3\",\"70.8\",\"71\",\"72.5\",\"73.8\",\"74.847\",\"76.07\",\"77.34\",\"78.67\",\"79.406\",\"65.86\",\"67.86\",\"69.51\",\"71\",\"72.34\",\"73.68\",\"75.24\",\"76.67\",\"77.03\",\"77.869\",\"78.256\",\"79.483\",\"64.03\",\"66.41\",\"67.96\",\"69.5\",\"69.76\",\"69.95\",\"69.39\",\"69.58\",\"69.17\",\"71.04\",\"72.59\",\"73.338\",\"72.49\",\"73.47\",\"73.68\",\"73.73\",\"74.46\",\"76.11\",\"76.99\",\"77.23\",\"78.77\",\"78.95\",\"80.5\",\"81.757\",\"66.91\",\"68.9\",\"70.29\",\"71.08\",\"71.28\",\"72.03\",\"73.1\",\"74.36\",\"75.467\",\"76.122\",\"77.783\",\"78.885\",\"65.94\",\"67.81\",\"69.24\",\"71.06\",\"72.19\",\"73.48\",\"74.98\",\"76.42\",\"77.44\",\"78.82\",\"80.24\",\"80.546\",\"59.164\",\"61.448\",\"63.728\",\"67.178\",\"70.636\",\"73.066\",\"74.101\",\"74.865\",\"75.435\",\"75.445\",\"73.981\",\"74.543\",\"72.13\",\"72.99\",\"73.23\",\"73.82\",\"73.75\",\"75.24\",\"76.05\",\"76.83\",\"77.42\",\"78.03\",\"78.53\",\"79.762\",\"72.67\",\"73.44\",\"73.47\",\"74.08\",\"74.34\",\"75.37\",\"75.97\",\"75.89\",\"77.32\",\"78.32\",\"79.05\",\"80.196\",\"61.31\",\"65.77\",\"67.64\",\"69.61\",\"70.85\",\"70.67\",\"71.32\",\"70.98\",\"70.99\",\"72.75\",\"74.67\",\"75.563\",\"59.82\",\"61.51\",\"64.39\",\"66.6\",\"69.26\",\"70.41\",\"72.77\",\"74.06\",\"74.86\",\"75.97\",\"77.29\",\"78.098\",\"61.05\",\"64.1\",\"66.8\",\"66.8\",\"69.21\",\"69.46\",\"69.66\",\"69.53\",\"69.36\",\"69.72\",\"71.322\",\"72.476\",\"57.996\",\"61.685\",\"64.531\",\"66.914\",\"68.7\",\"70.3\",\"70.162\",\"71.218\",\"71.659\",\"72.232\",\"73.213\",\"74.002\",\"64.36\",\"67.45\",\"70.33\",\"70.98\",\"70.35\",\"70.45\",\"70.8\",\"71.08\",\"71.38\",\"72.71\",\"73.8\",\"74.663\",\"65.57\",\"67.85\",\"69.15\",\"69.18\",\"69.82\",\"70.97\",\"71.063\",\"72.25\",\"73.64\",\"75.13\",\"76.66\",\"77.926\",\"64.94\",\"66.66\",\"69.69\",\"71.44\",\"73.06\",\"74.39\",\"76.3\",\"76.9\",\"77.57\",\"78.77\",\"79.78\",\"80.941\",\"71.86\",\"72.49\",\"73.37\",\"74.16\",\"74.72\",\"75.44\",\"76.42\",\"77.19\",\"78.16\",\"79.39\",\"80.04\",\"80.884\",\"69.62\",\"70.56\",\"71.32\",\"72.77\",\"73.78\",\"75.39\",\"76.21\",\"77.41\",\"78.03\",\"79.37\",\"80.62\",\"81.701\",\"43.585\",\"48.079\",\"52.098\",\"54.336\",\"57.005\",\"59.507\",\"61.036\",\"63.108\",\"66.146\",\"68.835\",\"70.845\",\"71.777\",\"69.18\",\"70.42\",\"70.76\",\"71.36\",\"72.01\",\"72.76\",\"74.04\",\"75.007\",\"76.42\",\"77.218\",\"78.471\",\"79.425\"],\"name\":\"Europe\",\"line\":{},\"marker\":{\"size\":[253,162,138,6,47,297,148,248,254,175,169,57,80,206,195,215,18,296,283,131,109,184,47,254,72,21,251,215,287,297,106,181,225,264,213,100,274,191,250,69,230,285,216,50,167,210,199,274,98,163,31,38,45,142,155,68,115,183,233,25,46,232,261,257,69,287,132,115,292,95,240,126,46,213,200,124,268,296,87,161,122,277,117,123,265,68,136,83,109,144,285,91,257,224,23,297,23,259,281,180,78,83,281,2,222,204,291,131,241,31,100,118,96,72,202,69,115,137,291,0,150,49,5,148,110,149,169,122,189,202,100,8,14,206,83,39,295,115,200,61,76,4,141,78,43,167,294,185,21,254,182,186,267,281,29,28,77,133,192,72,35,169,241,38,230,92,103,189,289,163,73,0,236,230,223,146,207,227,104,242,155,284,100,235,20,214,40,33,177,54,261,162,222,128,26,207,62,103,147,251,63,105,196,157,180,182,249,37,57,183,120,150,29,249,217,50,69,6,18,16,51,69,11,234,202,210,77,108,203,16,83,104,79,152,179,50,88,242,54,137,264,3,276,294,233,110,133,273,210,275,138,56,84,131,200,294,93,261,255,270,104,141,133,41,100,15,70,176,70,167,262,126,251,180,51,48,93,17,0,91,77,104,197,228,178,26,19,248,251,184,257,126,286,84,33,123,169,235,193,218,40,256,202,43,12,11,105,204,79,152,200,75,261,163,193,0,243,205,162,73,295,122,225,185,210,136,139,166,147,228,178,158,124,82,51,120,201,154,215,166,221,115,168,99,283,181,165,122,191,32,180,264,72,120,222,217,31,16,132,176],\"sizemode\":{\"Case\":\"Area\"},\"sizeref\":10},\"text\":[\"Europe\",\"Europe\",\"Europe\",\"Europe\",\"Europe\",\"Europe\",\"Europe\",\"Europe\",\"Europe\",\"Europe\",\"Europe\",\"Europe\",\"Europe\",\"Europe\",\"Europe\",\"Europe\",\"Europe\",\"Europe\",\"Europe\",\"Europe\",\"Europe\",\"Europe\",\"Europe\",\"Europe\",\"Europe\",\"Europe\",\"Europe\",\"Europe\",\"Europe\",\"Europe\",\"Europe\",\"Europe\",\"Europe\",\"Europe\",\"Europe\",\"Europe\",\"Europe\",\"Europe\",\"Europe\",\"Europe\",\"Europe\",\"Europe\",\"Europe\",\"Europe\",\"Europe\",\"Europe\",\"Europe\",\"Europe\",\"Europe\",\"Europe\",\"Europe\",\"Europe\",\"Europe\",\"Europe\",\"Europe\",\"Europe\",\"Europe\",\"Europe\",\"Europe\",\"Europe\",\"Europe\",\"Europe\",\"Europe\",\"Europe\",\"Europe\",\"Europe\",\"Europe\",\"Europe\",\"Europe\",\"Europe\",\"Europe\",\"Europe\",\"Europe\",\"Europe\",\"Europe\",\"Europe\",\"Europe\",\"Europe\",\"Europe\",\"Europe\",\"Europe\",\"Europe\",\"Europe\",\"Europe\",\"Europe\",\"Europe\",\"Europe\",\"Europe\",\"Europe\",\"Europe\",\"Europe\",\"Europe\",\"Europe\",\"Europe\",\"Europe\",\"Europe\",\"Europe\",\"Europe\",\"Europe\",\"Europe\",\"Europe\",\"Europe\",\"Europe\",\"Europe\",\"Europe\",\"Europe\",\"Europe\",\"Europe\",\"Europe\",\"Europe\",\"Europe\",\"Europe\",\"Europe\",\"Europe\",\"Europe\",\"Europe\",\"Europe\",\"Europe\",\"Europe\",\"Europe\",\"Europe\",\"Europe\",\"Europe\",\"Europe\",\"Europe\",\"Europe\",\"Europe\",\"Europe\",\"Europe\",\"Europe\",\"Europe\",\"Europe\",\"Europe\",\"Europe\",\"Europe\",\"Europe\",\"Europe\",\"Europe\",\"Europe\",\"Europe\",\"Europe\",\"Europe\",\"Europe\",\"Europe\",\"Europe\",\"Europe\",\"Europe\",\"Europe\",\"Europe\",\"Europe\",\"Europe\",\"Europe\",\"Europe\",\"Europe\",\"Europe\",\"Europe\",\"Europe\",\"Europe\",\"Europe\",\"Europe\",\"Europe\",\"Europe\",\"Europe\",\"Europe\",\"Europe\",\"Europe\",\"Europe\",\"Europe\",\"Europe\",\"Europe\",\"Europe\",\"Europe\",\"Europe\",\"Europe\",\"Europe\",\"Europe\",\"Europe\",\"Europe\",\"Europe\",\"Europe\",\"Europe\",\"Europe\",\"Europe\",\"Europe\",\"Europe\",\"Europe\",\"Europe\",\"Europe\",\"Europe\",\"Europe\",\"Europe\",\"Europe\",\"Europe\",\"Europe\",\"Europe\",\"Europe\",\"Europe\",\"Europe\",\"Europe\",\"Europe\",\"Europe\",\"Europe\",\"Europe\",\"Europe\",\"Europe\",\"Europe\",\"Europe\",\"Europe\",\"Europe\",\"Europe\",\"Europe\",\"Europe\",\"Europe\",\"Europe\",\"Europe\",\"Europe\",\"Europe\",\"Europe\",\"Europe\",\"Europe\",\"Europe\",\"Europe\",\"Europe\",\"Europe\",\"Europe\",\"Europe\",\"Europe\",\"Europe\",\"Europe\",\"Europe\",\"Europe\",\"Europe\",\"Europe\",\"Europe\",\"Europe\",\"Europe\",\"Europe\",\"Europe\",\"Europe\",\"Europe\",\"Europe\",\"Europe\",\"Europe\",\"Europe\",\"Europe\",\"Europe\",\"Europe\",\"Europe\",\"Europe\",\"Europe\",\"Europe\",\"Europe\",\"Europe\",\"Europe\",\"Europe\",\"Europe\",\"Europe\",\"Europe\",\"Europe\",\"Europe\",\"Europe\",\"Europe\",\"Europe\",\"Europe\",\"Europe\",\"Europe\",\"Europe\",\"Europe\",\"Europe\",\"Europe\",\"Europe\",\"Europe\",\"Europe\",\"Europe\",\"Europe\",\"Europe\",\"Europe\",\"Europe\",\"Europe\",\"Europe\",\"Europe\",\"Europe\",\"Europe\",\"Europe\",\"Europe\",\"Europe\",\"Europe\",\"Europe\",\"Europe\",\"Europe\",\"Europe\",\"Europe\",\"Europe\",\"Europe\",\"Europe\",\"Europe\",\"Europe\",\"Europe\",\"Europe\",\"Europe\",\"Europe\",\"Europe\",\"Europe\",\"Europe\",\"Europe\",\"Europe\",\"Europe\",\"Europe\",\"Europe\",\"Europe\",\"Europe\",\"Europe\",\"Europe\",\"Europe\",\"Europe\",\"Europe\",\"Europe\",\"Europe\",\"Europe\",\"Europe\",\"Europe\",\"Europe\",\"Europe\",\"Europe\",\"Europe\",\"Europe\",\"Europe\",\"Europe\",\"Europe\",\"Europe\",\"Europe\",\"Europe\",\"Europe\",\"Europe\",\"Europe\",\"Europe\",\"Europe\",\"Europe\",\"Europe\",\"Europe\",\"Europe\",\"Europe\",\"Europe\",\"Europe\",\"Europe\",\"Europe\",\"Europe\",\"Europe\",\"Europe\",\"Europe\",\"Europe\",\"Europe\",\"Europe\",\"Europe\",\"Europe\",\"Europe\",\"Europe\",\"Europe\",\"Europe\",\"Europe\"],\"hovertemplate\":\"<b>%{text}</b><br><br>GDP per Capita: %{x:$,.0f}<br>Life Expectation: %{y:.0%}<br>Population: %{marker.size:,}<extra></extra>\"},{\"type\":\"scatter\",\"mode\":\"markers\",\"x\":[\"2449.008185\",\"3013.976023\",\"2550.81688\",\"3246.991771\",\"4182.663766\",\"4910.416756\",\"5745.160213\",\"5681.358539\",\"5023.216647\",\"4797.295051\",\"5288.040382\",\"6223.367465\",\"3520.610273\",\"3827.940465\",\"4269.276742\",\"5522.776375\",\"5473.288005\",\"3008.647355\",\"2756.953672\",\"2430.208311\",\"2627.845685\",\"2277.140884\",\"2773.287312\",\"4797.231267\",\"1062.7522\",\"959.6010805\",\"949.4990641\",\"1035.831411\",\"1085.796879\",\"1029.161251\",\"1277.897616\",\"1225.85601\",\"1191.207681\",\"1232.975292\",\"1372.877931\",\"1441.284873\",\"851.2411407\",\"918.2325349\",\"983.6539764\",\"1214.709294\",\"2263.611114\",\"3214.857818\",\"4551.14215\",\"6205.88385\",\"7954.111645\",\"8647.142313\",\"11003.60508\",\"12569.85177\",\"543.2552413\",\"617.1834648\",\"722.5120206\",\"794.8265597\",\"854.7359763\",\"743.3870368\",\"807.1985855\",\"912.0631417\",\"931.7527731\",\"946.2949618\",\"1037.645221\",\"1217.032994\",\"339.2964587\",\"379.5646281\",\"355.2032273\",\"412.9775136\",\"464.0995039\",\"556.1032651\",\"559.603231\",\"621.8188189\",\"631.6998778\",\"463.1151478\",\"446.4035126\",\"430.0706916\",\"1172.667655\",\"1313.048099\",\"1399.607441\",\"1508.453148\",\"1684.146528\",\"1783.432873\",\"2367.983282\",\"2602.664206\",\"1793.163278\",\"1694.337469\",\"1934.011449\",\"2042.09524\",\"1071.310713\",\"1190.844328\",\"1193.068753\",\"1136.056615\",\"1070.013275\",\"1109.374338\",\"956.7529907\",\"844.8763504\",\"747.9055252\",\"740.5063317\",\"738.6906068\",\"706.016537\",\"1178.665927\",\"1308.495577\",\"1389.817618\",\"1196.810565\",\"1104.103987\",\"1133.98495\",\"797.9081006\",\"952.386129\",\"1058.0643\",\"1004.961353\",\"1156.18186\",\"1704.063724\",\"1102.990936\",\"1211.148548\",\"1406.648278\",\"1876.029643\",\"1937.577675\",\"1172.603047\",\"1267.100083\",\"1315.980812\",\"1246.90737\",\"1173.618235\",\"1075.811558\",\"986.1478792\",\"780.5423257\",\"905.8602303\",\"896.3146335\",\"861.5932424\",\"904.8960685\",\"795.757282\",\"673.7478181\",\"672.774812\",\"457.7191807\",\"312.188423\",\"241.1658765\",\"277.5518587\",\"2125.621418\",\"2315.056572\",\"2464.783157\",\"2677.939642\",\"3213.152683\",\"3259.178978\",\"4879.507522\",\"4201.194937\",\"4016.239529\",\"3484.164376\",\"3484.06197\",\"3632.557798\",\"1388.594732\",\"1500.895925\",\"1728.869428\",\"2052.050473\",\"2378.201111\",\"2517.736547\",\"2602.710169\",\"2156.956069\",\"1648.073791\",\"1786.265407\",\"1648.800823\",\"1544.750112\",\"2669.529475\",\"2864.969076\",\"3020.989263\",\"3020.050513\",\"3694.212352\",\"3081.761022\",\"2879.468067\",\"2880.102568\",\"2377.156192\",\"1895.016984\",\"1908.260867\",\"2082.481567\",\"1418.822445\",\"1458.915272\",\"1693.335853\",\"1814.880728\",\"2024.008147\",\"2785.493582\",\"3503.729636\",\"3885.46071\",\"3794.755195\",\"4173.181797\",\"4754.604414\",\"5581.180998\",\"375.6431231\",\"426.0964081\",\"582.8419714\",\"915.5960025\",\"672.4122571\",\"958.5668124\",\"927.8253427\",\"966.8968149\",\"1132.055034\",\"2814.480755\",\"7703.4959\",\"12154.08975\",\"328.9405571\",\"344.1618859\",\"380.9958433\",\"468.7949699\",\"514.3242082\",\"505.7538077\",\"524.8758493\",\"521.1341333\",\"582.8585102\",\"913.47079\",\"765.3500015\",\"641.3695236\",\"362.1462796\",\"378.9041632\",\"419.4564161\",\"516.1186438\",\"566.2439442\",\"556.8083834\",\"577.8607471\",\"573.7413142\",\"421.3534653\",\"515.8894013\",\"530.0535319\",\"690.8055759\",\"4293.476475\",\"4976.198099\",\"6631.459222\",\"8358.761987\",\"11401.94841\",\"21745.57328\",\"15113.36194\",\"11864.40844\",\"13522.15752\",\"14722.84188\",\"12521.71392\",\"13206.48452\",\"485.2306591\",\"520.9267111\",\"599.650276\",\"734.7829124\",\"756.0868363\",\"884.7552507\",\"835.8096108\",\"611.6588611\",\"665.6244126\",\"653.7301704\",\"660.5855997\",\"752.7497265\",\"911.2989371\",\"1043.561537\",\"1190.041118\",\"1125.69716\",\"1178.223708\",\"993.2239571\",\"876.032569\",\"847.0061135\",\"925.060154\",\"1005.245812\",\"1111.984578\",\"1327.60891\",\"510.1964923\",\"576.2670245\",\"686.3736739\",\"708.7595409\",\"741.6662307\",\"874.6858643\",\"857.2503577\",\"805.5724718\",\"794.3484384\",\"869.4497668\",\"945.5835837\",\"942.6542111\",\"299.850319\",\"431.7904566\",\"522.0343725\",\"715.5806402\",\"820.2245876\",\"764.7259628\",\"838.1239671\",\"736.4153921\",\"745.5398706\",\"796.6644681\",\"575.7047176\",\"579.231743\",\"853.540919\",\"944.4383152\",\"896.9663732\",\"1056.736457\",\"1222.359968\",\"1267.613204\",\"1348.225791\",\"1361.936856\",\"1341.921721\",\"1360.485021\",\"1287.514732\",\"1463.249282\",\"298.8462121\",\"335.9971151\",\"411.8006266\",\"498.6390265\",\"496.5815922\",\"745.3695408\",\"797.2631074\",\"773.9932141\",\"977.4862725\",\"1186.147994\",\"1275.184575\",\"1569.331442\",\"575.5729961\",\"620.9699901\",\"634.1951625\",\"713.6036483\",\"803.0054535\",\"640.3224383\",\"572.1995694\",\"506.1138573\",\"636.6229191\",\"609.1739508\",\"531.4823679\",\"414.5073415\",\"2387.54806\",\"3448.284395\",\"6757.030816\",\"18772.75169\",\"21011.49721\",\"21951.21176\",\"17364.27538\",\"11770.5898\",\"9640.138501\",\"9467.446056\",\"9534.677467\",\"12057.49928\",\"1443.011715\",\"1589.20275\",\"1643.38711\",\"1634.047282\",\"1748.562982\",\"1544.228586\",\"1302.878658\",\"1155.441948\",\"1040.67619\",\"986.2958956\",\"894.6370822\",\"1044.770126\",\"369.1650802\",\"416.3698064\",\"427.9010856\",\"495.5147806\",\"584.6219709\",\"663.2236766\",\"632.8039209\",\"635.5173634\",\"563.2000145\",\"692.2758103\",\"665.4231186\",\"759.3499101\",\"452.3369807\",\"490.3821867\",\"496.1743428\",\"545.0098873\",\"581.3688761\",\"686.3952693\",\"618.0140641\",\"684.1715576\",\"739.014375\",\"790.2579846\",\"951.4097518\",\"1042.581557\",\"743.1159097\",\"846.1202613\",\"1055.896036\",\"1421.145193\",\"1586.851781\",\"1497.492223\",\"1481.150189\",\"1421.603576\",\"1361.369784\",\"1483.136136\",\"1579.019543\",\"1803.151496\",\"1967.955707\",\"2034.037981\",\"2529.067487\",\"2475.387562\",\"2575.484158\",\"3710.982963\",\"3688.037739\",\"4783.586903\",\"6058.253846\",\"7425.705295\",\"9021.815894\",\"10956.99112\",\"1688.20357\",\"1642.002314\",\"1566.353493\",\"1711.04477\",\"1930.194975\",\"2370.619976\",\"2702.620356\",\"2755.046991\",\"2948.047252\",\"2982.101858\",\"3258.495584\",\"3820.17523\",\"468.5260381\",\"495.5868333\",\"556.6863539\",\"566.6691539\",\"724.9178037\",\"502.3197334\",\"462.2114149\",\"389.8761846\",\"410.8968239\",\"472.3460771\",\"633.6179466\",\"823.6856205\",\"2423.780443\",\"2621.448058\",\"3173.215595\",\"3793.694753\",\"3746.080948\",\"3876.485958\",\"4191.100511\",\"3693.731337\",\"3804.537999\",\"3899.52426\",\"4072.324751\",\"4811.060429\",\"761.879376\",\"835.5234025\",\"997.7661127\",\"1054.384891\",\"954.2092363\",\"808.8970728\",\"909.7221354\",\"668.3000228\",\"581.182725\",\"580.3052092\",\"601.0745012\",\"619.6768924\",\"1077.281856\",\"1100.592563\",\"1150.927478\",\"1014.514104\",\"1698.388838\",\"1981.951806\",\"1576.97375\",\"1385.029563\",\"1619.848217\",\"1624.941275\",\"1615.286395\",\"2013.977305\",\"2718.885295\",\"2769.451844\",\"3173.72334\",\"4021.175739\",\"5047.658563\",\"4319.804067\",\"5267.219353\",\"5303.377488\",\"6101.255823\",\"6071.941411\",\"6316.1652\",\"7670.122558\",\"493.3238752\",\"540.2893983\",\"597.4730727\",\"510.9637142\",\"590.5806638\",\"670.0806011\",\"881.5706467\",\"847.991217\",\"737.0685949\",\"589.9445051\",\"785.6537648\",\"863.0884639\",\"879.5835855\",\"860.7369026\",\"1071.551119\",\"1384.840593\",\"1532.985254\",\"1737.561657\",\"1890.218117\",\"1516.525457\",\"1428.777814\",\"1339.076036\",\"1353.09239\",\"1598.435089\",\"1450.356983\",\"1567.653006\",\"1654.988723\",\"1612.404632\",\"1597.712056\",\"1561.769116\",\"1518.479984\",\"1441.72072\",\"1367.899369\",\"1392.368347\",\"1519.635262\",\"1712.472136\",\"879.7877358\",\"1004.484437\",\"1116.639877\",\"1206.043465\",\"1353.759762\",\"1348.285159\",\"1465.010784\",\"1294.447788\",\"1068.696278\",\"574.6481576\",\"699.489713\",\"862.5407561\",\"1135.749842\",\"1258.147413\",\"1369.488336\",\"1284.73318\",\"1254.576127\",\"1450.992513\",\"1176.807031\",\"1093.244963\",\"926.9602964\",\"930.5964284\",\"882.0818218\",\"926.1410683\",\"4725.295531\",\"5487.104219\",\"5768.729717\",\"7114.477971\",\"7765.962636\",\"8028.651439\",\"8568.266228\",\"7825.823398\",\"7225.069258\",\"7479.188244\",\"7710.946444\",\"9269.657808\",\"1615.991129\",\"1770.337074\",\"1959.593767\",\"1687.997641\",\"1659.652775\",\"2202.988423\",\"1895.544073\",\"1507.819159\",\"1492.197043\",\"1632.210764\",\"1993.398314\",\"2602.394995\",\"1148.376626\",\"1244.708364\",\"1856.182125\",\"2613.101665\",\"3364.836625\",\"3781.410618\",\"3895.384018\",\"3984.839812\",\"3553.0224\",\"3876.76846\",\"4128.116943\",\"4513.480643\",\"716.6500721\",\"698.5356073\",\"722.0038073\",\"848.2186575\",\"915.9850592\",\"962.4922932\",\"874.2426069\",\"831.8220794\",\"825.682454\",\"789.1862231\",\"899.0742111\",\"1107.482182\",\"859.8086567\",\"925.9083202\",\"1067.53481\",\"1477.59676\",\"1649.660188\",\"1532.776998\",\"1344.577953\",\"1202.201361\",\"1034.298904\",\"982.2869243\",\"886.2205765\",\"882.9699438\",\"1468.475631\",\"1395.232468\",\"1660.30321\",\"1932.360167\",\"2753.285994\",\"3120.876811\",\"3560.233174\",\"3810.419296\",\"4332.720164\",\"4876.798614\",\"5722.895655\",\"7092.923025\",\"734.753484\",\"774.3710692\",\"767.2717398\",\"908.9185217\",\"950.735869\",\"843.7331372\",\"682.2662268\",\"617.7244065\",\"644.1707969\",\"816.559081\",\"927.7210018\",\"1056.380121\",\"1147.388831\",\"1311.956766\",\"1452.725766\",\"1777.077318\",\"1773.498265\",\"1588.688299\",\"1408.678565\",\"1213.315116\",\"1210.884633\",\"1071.353818\",\"1071.613938\",\"1271.211593\",\"406.8841148\",\"518.7642681\",\"527.2721818\",\"569.7950712\",\"799.3621758\",\"685.5876821\",\"788.8550411\",\"706.1573059\",\"693.4207856\",\"792.4499603\",\"672.0386227\",\"469.7092981\"],\"y\":[\"43.077\",\"45.685\",\"48.303\",\"51.407\",\"54.518\",\"58.014\",\"61.368\",\"65.799\",\"67.744\",\"69.152\",\"70.994\",\"72.301\",\"30.015\",\"31.999\",\"34\",\"35.985\",\"37.928\",\"39.483\",\"39.942\",\"39.906\",\"40.647\",\"40.963\",\"41.003\",\"42.731\",\"38.223\",\"40.358\",\"42.618\",\"44.885\",\"47.014\",\"49.19\",\"50.904\",\"52.337\",\"53.919\",\"54.777\",\"54.406\",\"56.728\",\"47.622\",\"49.618\",\"51.52\",\"53.298\",\"56.024\",\"59.319\",\"61.484\",\"63.622\",\"62.745\",\"52.556\",\"46.634\",\"50.728\",\"31.975\",\"34.906\",\"37.814\",\"40.697\",\"43.591\",\"46.137\",\"48.122\",\"49.557\",\"50.26\",\"50.324\",\"50.65\",\"52.295\",\"39.031\",\"40.533\",\"42.045\",\"43.548\",\"44.057\",\"45.91\",\"47.471\",\"48.211\",\"44.736\",\"45.326\",\"47.36\",\"49.58\",\"38.523\",\"40.428\",\"42.643\",\"44.799\",\"47.049\",\"49.355\",\"52.961\",\"54.985\",\"54.314\",\"52.199\",\"49.856\",\"50.43\",\"35.463\",\"37.464\",\"39.475\",\"41.478\",\"43.457\",\"46.775\",\"48.295\",\"50.485\",\"49.396\",\"46.066\",\"43.308\",\"44.741\",\"38.092\",\"39.881\",\"41.716\",\"43.601\",\"45.569\",\"47.383\",\"49.517\",\"51.051\",\"51.724\",\"51.573\",\"50.525\",\"50.651\",\"40.715\",\"42.46\",\"44.467\",\"46.472\",\"48.944\",\"50.939\",\"52.933\",\"54.926\",\"57.939\",\"60.66\",\"62.974\",\"65.152\",\"39.143\",\"40.652\",\"42.122\",\"44.056\",\"45.989\",\"47.804\",\"47.784\",\"47.412\",\"45.548\",\"42.587\",\"44.966\",\"46.462\",\"42.111\",\"45.053\",\"48.435\",\"52.04\",\"54.907\",\"55.625\",\"56.695\",\"57.47\",\"56.433\",\"52.962\",\"52.97\",\"55.322\",\"40.477\",\"42.469\",\"44.93\",\"47.35\",\"49.801\",\"52.374\",\"53.983\",\"54.655\",\"52.044\",\"47.991\",\"46.832\",\"48.328\",\"34.812\",\"37.328\",\"39.693\",\"42.074\",\"44.366\",\"46.519\",\"48.812\",\"50.04\",\"51.604\",\"53.157\",\"53.373\",\"54.791\",\"41.893\",\"44.444\",\"46.992\",\"49.293\",\"51.137\",\"53.319\",\"56.006\",\"59.797\",\"63.674\",\"67.217\",\"69.806\",\"71.338\",\"34.482\",\"35.983\",\"37.485\",\"38.987\",\"40.516\",\"42.024\",\"43.662\",\"45.664\",\"47.545\",\"48.245\",\"49.348\",\"51.579\",\"35.928\",\"38.047\",\"40.158\",\"42.189\",\"44.142\",\"44.535\",\"43.89\",\"46.453\",\"49.991\",\"53.378\",\"55.24\",\"58.04\",\"34.078\",\"36.667\",\"40.059\",\"42.115\",\"43.515\",\"44.51\",\"44.916\",\"46.684\",\"48.091\",\"49.402\",\"50.725\",\"52.947\",\"37.003\",\"38.999\",\"40.489\",\"44.598\",\"48.69\",\"52.79\",\"56.564\",\"60.19\",\"61.366\",\"60.461\",\"56.761\",\"56.735\",\"30\",\"32.065\",\"33.896\",\"35.857\",\"38.308\",\"41.842\",\"45.58\",\"49.265\",\"52.644\",\"55.861\",\"58.041\",\"59.448\",\"43.149\",\"44.779\",\"46.452\",\"48.072\",\"49.875\",\"51.756\",\"53.744\",\"55.729\",\"57.501\",\"58.556\",\"58.453\",\"60.022\",\"33.609\",\"34.558\",\"35.753\",\"37.197\",\"38.842\",\"40.762\",\"42.891\",\"45.552\",\"48.576\",\"51.455\",\"53.676\",\"56.007\",\"32.5\",\"33.489\",\"34.488\",\"35.492\",\"36.486\",\"37.465\",\"39.327\",\"41.245\",\"43.266\",\"44.873\",\"45.504\",\"46.388\",\"42.27\",\"44.686\",\"47.949\",\"50.654\",\"53.559\",\"56.155\",\"58.766\",\"59.339\",\"59.285\",\"54.407\",\"50.992\",\"54.11\",\"42.138\",\"45.047\",\"47.747\",\"48.492\",\"49.767\",\"52.208\",\"55.078\",\"57.18\",\"59.685\",\"55.558\",\"44.593\",\"42.592\",\"38.48\",\"39.486\",\"40.502\",\"41.536\",\"42.614\",\"43.764\",\"44.852\",\"46.027\",\"40.802\",\"42.221\",\"43.753\",\"45.678\",\"42.723\",\"45.289\",\"47.808\",\"50.227\",\"52.773\",\"57.442\",\"62.155\",\"66.234\",\"68.755\",\"71.555\",\"72.737\",\"73.952\",\"36.681\",\"38.865\",\"40.848\",\"42.881\",\"44.851\",\"46.881\",\"48.969\",\"49.35\",\"52.214\",\"54.978\",\"57.286\",\"59.443\",\"36.256\",\"37.207\",\"38.41\",\"39.487\",\"41.766\",\"43.767\",\"45.642\",\"47.457\",\"49.42\",\"47.495\",\"45.009\",\"48.303\",\"33.685\",\"35.307\",\"36.936\",\"38.487\",\"39.977\",\"41.714\",\"43.916\",\"46.364\",\"48.388\",\"49.903\",\"51.818\",\"54.467\",\"40.543\",\"42.338\",\"44.248\",\"46.289\",\"48.437\",\"50.852\",\"53.599\",\"56.145\",\"58.333\",\"60.43\",\"62.247\",\"64.164\",\"50.986\",\"58.089\",\"60.246\",\"61.557\",\"62.944\",\"64.93\",\"66.711\",\"68.74\",\"69.745\",\"70.736\",\"71.954\",\"72.801\",\"42.873\",\"45.423\",\"47.924\",\"50.335\",\"52.862\",\"55.73\",\"59.65\",\"62.677\",\"65.393\",\"67.66\",\"69.615\",\"71.164\",\"31.286\",\"33.779\",\"36.161\",\"38.113\",\"40.328\",\"42.495\",\"42.795\",\"42.861\",\"44.284\",\"46.344\",\"44.026\",\"42.082\",\"41.725\",\"45.226\",\"48.386\",\"51.159\",\"53.867\",\"56.437\",\"58.968\",\"60.835\",\"61.999\",\"58.909\",\"51.479\",\"52.906\",\"37.444\",\"38.598\",\"39.487\",\"40.118\",\"40.546\",\"41.291\",\"42.598\",\"44.555\",\"47.391\",\"51.313\",\"54.496\",\"56.867\",\"36.324\",\"37.802\",\"39.36\",\"41.04\",\"42.821\",\"44.514\",\"45.826\",\"46.886\",\"47.472\",\"47.464\",\"46.608\",\"46.859\",\"52.724\",\"55.09\",\"57.666\",\"60.542\",\"64.274\",\"67.064\",\"69.885\",\"71.913\",\"73.615\",\"74.772\",\"75.744\",\"76.442\",\"40\",\"41.5\",\"43\",\"44.1\",\"44.6\",\"45\",\"46.218\",\"44.02\",\"23.599\",\"36.087\",\"43.413\",\"46.242\",\"46.471\",\"48.945\",\"51.893\",\"54.425\",\"56.48\",\"58.55\",\"60.351\",\"61.728\",\"62.742\",\"63.306\",\"64.337\",\"65.528\",\"37.278\",\"39.329\",\"41.454\",\"43.563\",\"45.815\",\"48.879\",\"52.379\",\"55.769\",\"58.196\",\"60.187\",\"61.6\",\"63.062\",\"30.331\",\"31.57\",\"32.767\",\"34.113\",\"35.4\",\"36.788\",\"38.445\",\"40.006\",\"38.333\",\"39.897\",\"41.012\",\"42.568\",\"32.978\",\"34.977\",\"36.981\",\"38.977\",\"40.973\",\"41.974\",\"42.955\",\"44.501\",\"39.658\",\"43.795\",\"45.936\",\"48.159\",\"45.009\",\"47.985\",\"49.951\",\"51.927\",\"53.696\",\"55.527\",\"58.161\",\"60.834\",\"61.888\",\"60.236\",\"53.365\",\"49.339\",\"38.635\",\"39.624\",\"40.87\",\"42.858\",\"45.083\",\"47.8\",\"50.338\",\"51.744\",\"53.556\",\"55.373\",\"56.369\",\"58.556\",\"41.407\",\"43.424\",\"44.992\",\"46.633\",\"49.552\",\"52.537\",\"55.561\",\"57.678\",\"58.474\",\"54.289\",\"43.869\",\"39.613\",\"41.215\",\"42.974\",\"44.246\",\"45.757\",\"47.62\",\"49.919\",\"50.608\",\"51.535\",\"50.44\",\"48.466\",\"49.651\",\"52.517\",\"38.596\",\"41.208\",\"43.922\",\"46.769\",\"49.759\",\"52.887\",\"55.471\",\"56.941\",\"58.061\",\"58.39\",\"57.561\",\"58.42\",\"44.6\",\"47.1\",\"49.579\",\"52.053\",\"55.602\",\"59.837\",\"64.048\",\"66.894\",\"70.001\",\"71.973\",\"73.042\",\"73.923\",\"39.978\",\"42.571\",\"45.344\",\"48.051\",\"51.016\",\"50.35\",\"49.849\",\"51.509\",\"48.825\",\"44.578\",\"47.813\",\"51.542\",\"42.038\",\"44.077\",\"46.023\",\"47.768\",\"50.107\",\"51.386\",\"51.821\",\"50.821\",\"46.1\",\"40.238\",\"39.193\",\"42.384\",\"48.451\",\"50.469\",\"52.358\",\"53.995\",\"55.635\",\"57.674\",\"60.363\",\"62.351\",\"60.377\",\"46.809\",\"39.989\",\"43.487\"],\"name\":\"Africa\",\"line\":{},\"marker\":{\"size\":[171,238,57,150,273,42,251,178,112,72,98,88,289,296,152,180,254,125,201,28,270,17,275,114,48,214,86,3,160,134,88,184,22,39,295,283,57,18,125,241,230,286,10,118,233,91,274,75,268,41,263,205,114,104,205,154,262,243,102,59,256,247,18,278,283,214,66,249,0,169,122,235,299,260,97,284,6,157,180,257,239,10,35,118,171,183,69,218,134,141,20,114,215,66,284,283,268,32,134,19,25,24,75,98,218,27,206,154,6,221,147,105,62,145,119,245,211,199,107,100,144,148,115,159,148,8,20,233,275,114,15,274,22,161,231,214,234,236,199,143,276,215,212,213,293,214,52,70,246,39,71,68,225,34,175,177,209,216,250,210,7,272,178,191,205,173,83,200,213,204,10,274,299,263,123,228,236,202,165,234,255,249,286,236,43,247,49,288,286,54,5,18,286,289,136,4,37,20,7,120,131,151,157,42,28,96,68,261,210,246,241,6,50,16,254,58,285,241,148,258,123,95,214,158,198,292,288,10,126,119,191,215,194,45,102,104,91,244,208,246,178,87,77,39,113,298,268,270,34,78,19,95,172,49,296,35,236,299,143,35,108,58,135,91,55,25,112,5,213,150,266,40,32,201,79,36,17,175,45,199,23,17,276,47,100,95,43,144,48,67,167,92,101,172,137,119,251,286,284,88,186,263,57,183,112,278,62,270,269,259,17,61,253,243,12,90,82,87,291,260,282,267,256,145,283,174,239,160,63,259,84,31,190,257,13,60,259,92,235,121,32,72,174,88,49,105,138,157,160,47,37,163,295,24,105,218,7,211,200,237,38,202,206,9,175,286,170,296,229,251,130,289,152,169,227,209,93,167,96,177,35,82,299,16,222,221,35,166,151,95,53,48,191,297,83,129,165,164,213,62,234,141,227,208,216,48,11,126,96,195,125,139,115,23,202,255,203,190,87,254,250,4,145,134,198,82,98,154,85,98,44,228,253,34,242,194,154,90,100,173,209,209,69,255,269,213,233,167,95,127,225,275,76,259,111,230,296,92,10,133,249,156,40,298,151,197,185,81,81,8,101,112,89,213,44,41,234,189,164,284,149,230,59,257,172,68,151,294,222,11,197,61,80,267,223,52,169,71,104,72,28,151,86,86,26,113,186,162,215,70,296,106,228,25,283,19,97,83,126,82,45,191,158,69,110,39,32,121,290,291,171,162,85,92,256,297,143,272,230,59,182,288,79,151,15,91,133,55,283,204,255,85,245,21,27,136,292,17,276,287,81,64,172,223,198,133,21,135,68,285,176,124,152,67,200,57,112,7,53,18,205,276,138,85,36,86,217,63,64,119,4,125,295,243,277,118,115,155,252,182,70,297,286,297,27,130,233,178,121,270,24,285,264,258,81,104,225,87,187,112,216,257,71,249],\"sizemode\":{\"Case\":\"Area\"},\"sizeref\":10},\"text\":[\"Africa\",\"Africa\",\"Africa\",\"Africa\",\"Africa\",\"Africa\",\"Africa\",\"Africa\",\"Africa\",\"Africa\",\"Africa\",\"Africa\",\"Africa\",\"Africa\",\"Africa\",\"Africa\",\"Africa\",\"Africa\",\"Africa\",\"Africa\",\"Africa\",\"Africa\",\"Africa\",\"Africa\",\"Africa\",\"Africa\",\"Africa\",\"Africa\",\"Africa\",\"Africa\",\"Africa\",\"Africa\",\"Africa\",\"Africa\",\"Africa\",\"Africa\",\"Africa\",\"Africa\",\"Africa\",\"Africa\",\"Africa\",\"Africa\",\"Africa\",\"Africa\",\"Africa\",\"Africa\",\"Africa\",\"Africa\",\"Africa\",\"Africa\",\"Africa\",\"Africa\",\"Africa\",\"Africa\",\"Africa\",\"Africa\",\"Africa\",\"Africa\",\"Africa\",\"Africa\",\"Africa\",\"Africa\",\"Africa\",\"Africa\",\"Africa\",\"Africa\",\"Africa\",\"Africa\",\"Africa\",\"Africa\",\"Africa\",\"Africa\",\"Africa\",\"Africa\",\"Africa\",\"Africa\",\"Africa\",\"Africa\",\"Africa\",\"Africa\",\"Africa\",\"Africa\",\"Africa\",\"Africa\",\"Africa\",\"Africa\",\"Africa\",\"Africa\",\"Africa\",\"Africa\",\"Africa\",\"Africa\",\"Africa\",\"Africa\",\"Africa\",\"Africa\",\"Africa\",\"Africa\",\"Africa\",\"Africa\",\"Africa\",\"Africa\",\"Africa\",\"Africa\",\"Africa\",\"Africa\",\"Africa\",\"Africa\",\"Africa\",\"Africa\",\"Africa\",\"Africa\",\"Africa\",\"Africa\",\"Africa\",\"Africa\",\"Africa\",\"Africa\",\"Africa\",\"Africa\",\"Africa\",\"Africa\",\"Africa\",\"Africa\",\"Africa\",\"Africa\",\"Africa\",\"Africa\",\"Africa\",\"Africa\",\"Africa\",\"Africa\",\"Africa\",\"Africa\",\"Africa\",\"Africa\",\"Africa\",\"Africa\",\"Africa\",\"Africa\",\"Africa\",\"Africa\",\"Africa\",\"Africa\",\"Africa\",\"Africa\",\"Africa\",\"Africa\",\"Africa\",\"Africa\",\"Africa\",\"Africa\",\"Africa\",\"Africa\",\"Africa\",\"Africa\",\"Africa\",\"Africa\",\"Africa\",\"Africa\",\"Africa\",\"Africa\",\"Africa\",\"Africa\",\"Africa\",\"Africa\",\"Africa\",\"Africa\",\"Africa\",\"Africa\",\"Africa\",\"Africa\",\"Africa\",\"Africa\",\"Africa\",\"Africa\",\"Africa\",\"Africa\",\"Africa\",\"Africa\",\"Africa\",\"Africa\",\"Africa\",\"Africa\",\"Africa\",\"Africa\",\"Africa\",\"Africa\",\"Africa\",\"Africa\",\"Africa\",\"Africa\",\"Africa\",\"Africa\",\"Africa\",\"Africa\",\"Africa\",\"Africa\",\"Africa\",\"Africa\",\"Africa\",\"Africa\",\"Africa\",\"Africa\",\"Africa\",\"Africa\",\"Africa\",\"Africa\",\"Africa\",\"Africa\",\"Africa\",\"Africa\",\"Africa\",\"Africa\",\"Africa\",\"Africa\",\"Africa\",\"Africa\",\"Africa\",\"Africa\",\"Africa\",\"Africa\",\"Africa\",\"Africa\",\"Africa\",\"Africa\",\"Africa\",\"Africa\",\"Africa\",\"Africa\",\"Africa\",\"Africa\",\"Africa\",\"Africa\",\"Africa\",\"Africa\",\"Africa\",\"Africa\",\"Africa\",\"Africa\",\"Africa\",\"Africa\",\"Africa\",\"Africa\",\"Africa\",\"Africa\",\"Africa\",\"Africa\",\"Africa\",\"Africa\",\"Africa\",\"Africa\",\"Africa\",\"Africa\",\"Africa\",\"Africa\",\"Africa\",\"Africa\",\"Africa\",\"Africa\",\"Africa\",\"Africa\",\"Africa\",\"Africa\",\"Africa\",\"Africa\",\"Africa\",\"Africa\",\"Africa\",\"Africa\",\"Africa\",\"Africa\",\"Africa\",\"Africa\",\"Africa\",\"Africa\",\"Africa\",\"Africa\",\"Africa\",\"Africa\",\"Africa\",\"Africa\",\"Africa\",\"Africa\",\"Africa\",\"Africa\",\"Africa\",\"Africa\",\"Africa\",\"Africa\",\"Africa\",\"Africa\",\"Africa\",\"Africa\",\"Africa\",\"Africa\",\"Africa\",\"Africa\",\"Africa\",\"Africa\",\"Africa\",\"Africa\",\"Africa\",\"Africa\",\"Africa\",\"Africa\",\"Africa\",\"Africa\",\"Africa\",\"Africa\",\"Africa\",\"Africa\",\"Africa\",\"Africa\",\"Africa\",\"Africa\",\"Africa\",\"Africa\",\"Africa\",\"Africa\",\"Africa\",\"Africa\",\"Africa\",\"Africa\",\"Africa\",\"Africa\",\"Africa\",\"Africa\",\"Africa\",\"Africa\",\"Africa\",\"Africa\",\"Africa\",\"Africa\",\"Africa\",\"Africa\",\"Africa\",\"Africa\",\"Africa\",\"Africa\",\"Africa\",\"Africa\",\"Africa\",\"Africa\",\"Africa\",\"Africa\",\"Africa\",\"Africa\",\"Africa\",\"Africa\",\"Africa\",\"Africa\",\"Africa\",\"Africa\",\"Africa\",\"Africa\",\"Africa\",\"Africa\",\"Africa\",\"Africa\",\"Africa\",\"Africa\",\"Africa\",\"Africa\",\"Africa\",\"Africa\",\"Africa\",\"Africa\",\"Africa\",\"Africa\",\"Africa\",\"Africa\",\"Africa\",\"Africa\",\"Africa\",\"Africa\",\"Africa\",\"Africa\",\"Africa\",\"Africa\",\"Africa\",\"Africa\",\"Africa\",\"Africa\",\"Africa\",\"Africa\",\"Africa\",\"Africa\",\"Africa\",\"Africa\",\"Africa\",\"Africa\",\"Africa\",\"Africa\",\"Africa\",\"Africa\",\"Africa\",\"Africa\",\"Africa\",\"Africa\",\"Africa\",\"Africa\",\"Africa\",\"Africa\",\"Africa\",\"Africa\",\"Africa\",\"Africa\",\"Africa\",\"Africa\",\"Africa\",\"Africa\",\"Africa\",\"Africa\",\"Africa\",\"Africa\",\"Africa\",\"Africa\",\"Africa\",\"Africa\",\"Africa\",\"Africa\",\"Africa\",\"Africa\",\"Africa\",\"Africa\",\"Africa\",\"Africa\",\"Africa\",\"Africa\",\"Africa\",\"Africa\",\"Africa\",\"Africa\",\"Africa\",\"Africa\",\"Africa\",\"Africa\",\"Africa\",\"Africa\",\"Africa\",\"Africa\",\"Africa\",\"Africa\",\"Africa\",\"Africa\",\"Africa\",\"Africa\",\"Africa\",\"Africa\",\"Africa\",\"Africa\",\"Africa\",\"Africa\",\"Africa\",\"Africa\",\"Africa\",\"Africa\",\"Africa\",\"Africa\",\"Africa\",\"Africa\",\"Africa\",\"Africa\",\"Africa\",\"Africa\",\"Africa\",\"Africa\",\"Africa\",\"Africa\",\"Africa\",\"Africa\",\"Africa\",\"Africa\",\"Africa\",\"Africa\",\"Africa\",\"Africa\",\"Africa\",\"Africa\",\"Africa\",\"Africa\",\"Africa\",\"Africa\",\"Africa\",\"Africa\",\"Africa\",\"Africa\",\"Africa\",\"Africa\",\"Africa\",\"Africa\",\"Africa\",\"Africa\",\"Africa\",\"Africa\",\"Africa\",\"Africa\",\"Africa\",\"Africa\",\"Africa\",\"Africa\",\"Africa\",\"Africa\",\"Africa\",\"Africa\",\"Africa\",\"Africa\",\"Africa\",\"Africa\",\"Africa\",\"Africa\",\"Africa\",\"Africa\",\"Africa\",\"Africa\",\"Africa\",\"Africa\",\"Africa\",\"Africa\",\"Africa\",\"Africa\",\"Africa\",\"Africa\",\"Africa\",\"Africa\",\"Africa\",\"Africa\",\"Africa\",\"Africa\",\"Africa\",\"Africa\",\"Africa\",\"Africa\",\"Africa\",\"Africa\",\"Africa\",\"Africa\",\"Africa\",\"Africa\",\"Africa\",\"Africa\",\"Africa\",\"Africa\",\"Africa\",\"Africa\",\"Africa\",\"Africa\",\"Africa\",\"Africa\",\"Africa\",\"Africa\",\"Africa\",\"Africa\",\"Africa\",\"Africa\",\"Africa\",\"Africa\",\"Africa\",\"Africa\",\"Africa\",\"Africa\",\"Africa\",\"Africa\",\"Africa\",\"Africa\",\"Africa\",\"Africa\",\"Africa\",\"Africa\",\"Africa\",\"Africa\",\"Africa\",\"Africa\",\"Africa\",\"Africa\",\"Africa\",\"Africa\",\"Africa\",\"Africa\",\"Africa\",\"Africa\",\"Africa\",\"Africa\",\"Africa\",\"Africa\",\"Africa\",\"Africa\",\"Africa\",\"Africa\",\"Africa\",\"Africa\",\"Africa\",\"Africa\",\"Africa\",\"Africa\",\"Africa\",\"Africa\",\"Africa\",\"Africa\",\"Africa\",\"Africa\",\"Africa\",\"Africa\",\"Africa\",\"Africa\",\"Africa\",\"Africa\",\"Africa\",\"Africa\",\"Africa\",\"Africa\",\"Africa\",\"Africa\",\"Africa\",\"Africa\",\"Africa\",\"Africa\",\"Africa\",\"Africa\",\"Africa\",\"Africa\",\"Africa\",\"Africa\"],\"hovertemplate\":\"<b>%{text}</b><br><br>GDP per Capita: %{x:$,.0f}<br>Life Expectation: %{y:.0%}<br>Population: %{marker.size:,}<extra></extra>\"},{\"type\":\"scatter\",\"mode\":\"markers\",\"x\":[\"5911.315053\",\"6856.856212\",\"7133.166023\",\"8052.953021\",\"9443.038526\",\"10079.02674\",\"8997.897412\",\"9139.671389\",\"9308.41871\",\"10967.28195\",\"8797.640716\",\"12779.37964\",\"2677.326347\",\"2127.686326\",\"2180.972546\",\"2586.886053\",\"2980.331339\",\"3548.097832\",\"3156.510452\",\"2753.69149\",\"2961.699694\",\"3326.143191\",\"3413.26269\",\"3822.137084\",\"2108.944355\",\"2487.365989\",\"3336.585802\",\"3429.864357\",\"4985.711467\",\"6660.118654\",\"7030.835878\",\"7807.095818\",\"6950.283021\",\"7957.980824\",\"8131.212843\",\"9065.800825\",\"11367.16112\",\"12489.95006\",\"13462.48555\",\"16076.58803\",\"18970.57086\",\"22090.88306\",\"22898.79214\",\"26626.51503\",\"26342.88426\",\"28954.92589\",\"33328.96507\",\"36319.23501\",\"3939.978789\",\"4315.622723\",\"4519.094331\",\"5106.654313\",\"5494.024437\",\"4756.763836\",\"5095.665738\",\"5547.063754\",\"7596.125964\",\"10118.05318\",\"10778.78385\",\"13171.63885\",\"2144.115096\",\"2323.805581\",\"2492.351109\",\"2678.729839\",\"3264.660041\",\"3815.80787\",\"4397.575659\",\"4903.2191\",\"5444.648617\",\"6117.361746\",\"5755.259962\",\"7006.580419\",\"2627.009471\",\"2990.010802\",\"3460.937025\",\"4161.727834\",\"5118.146939\",\"5926.876967\",\"5262.734751\",\"5629.915318\",\"6160.416317\",\"6677.045314\",\"7723.447195\",\"9645.06142\",\"5586.53878\",\"6092.174359\",\"5180.75591\",\"5690.268015\",\"5305.445256\",\"6380.494966\",\"7316.918107\",\"7532.924763\",\"5592.843963\",\"5431.990415\",\"6340.646683\",\"8948.102923\",\"1397.717137\",\"1544.402995\",\"1662.137359\",\"1653.723003\",\"2189.874499\",\"2681.9889\",\"2861.092386\",\"2899.842175\",\"3044.214214\",\"3614.101285\",\"4563.808154\",\"6025.374752\",\"3522.110717\",\"3780.546651\",\"4086.114078\",\"4579.074215\",\"5280.99471\",\"6679.62326\",\"7213.791267\",\"6481.776993\",\"7103.702595\",\"7429.455877\",\"5773.044512\",\"6873.262326\",\"3048.3029\",\"3421.523218\",\"3776.803627\",\"4358.595393\",\"4520.246008\",\"5138.922374\",\"4098.344175\",\"4140.442097\",\"4444.2317\",\"5154.825496\",\"5351.568666\",\"5728.353514\",\"2428.237769\",\"2617.155967\",\"2750.364446\",\"3242.531147\",\"4031.408271\",\"4879.992748\",\"4820.49479\",\"4246.485974\",\"4439.45084\",\"4684.313807\",\"4858.347495\",\"5186.050003\",\"1840.366939\",\"1726.887882\",\"1796.589032\",\"1452.057666\",\"1654.456946\",\"1874.298931\",\"2011.159549\",\"1823.015995\",\"1456.309517\",\"1341.726931\",\"1270.364932\",\"1201.637154\",\"2194.926204\",\"2220.487682\",\"2291.156835\",\"2538.269358\",\"2529.842345\",\"3203.208066\",\"3121.760794\",\"3023.096699\",\"3081.694603\",\"3160.454906\",\"3099.72866\",\"3548.330846\",\"2898.530881\",\"4756.525781\",\"5246.107524\",\"6124.703451\",\"7433.889293\",\"6650.195573\",\"6068.05135\",\"6351.237495\",\"7404.923685\",\"7121.924704\",\"6994.774861\",\"7320.880262\",\"3478.125529\",\"4131.546641\",\"4581.609385\",\"5754.733883\",\"6809.40669\",\"7674.929108\",\"9611.147541\",\"8688.156003\",\"9472.384295\",\"9767.29753\",\"10742.44053\",\"11977.57496\",\"3112.363948\",\"3457.415947\",\"3634.364406\",\"4643.393534\",\"4688.593267\",\"5486.371089\",\"3470.338156\",\"2955.984375\",\"2170.151724\",\"2253.023004\",\"2474.548819\",\"2749.320965\",\"2480.380334\",\"2961.800905\",\"3536.540301\",\"4421.009084\",\"5364.249663\",\"5351.912144\",\"7009.601598\",\"7034.779161\",\"6618.74305\",\"7113.692252\",\"7356.031934\",\"9809.185636\",\"1952.308701\",\"2046.154706\",\"2148.027146\",\"2299.376311\",\"2523.337977\",\"3248.373311\",\"4258.503604\",\"3998.875695\",\"4196.411078\",\"4247.400261\",\"3783.674243\",\"4172.838464\",\"3758.523437\",\"4245.256698\",\"4957.037982\",\"5788.09333\",\"5937.827283\",\"6281.290855\",\"6434.501797\",\"6360.943444\",\"4446.380924\",\"5838.347657\",\"5909.020073\",\"7408.905561\",\"3081.959785\",\"3907.156189\",\"5108.34463\",\"6929.277714\",\"9123.041742\",\"9770.524921\",\"10330.98915\",\"12281.34191\",\"14641.58711\",\"16999.4333\",\"18855.60618\",\"19328.70901\",\"3023.271928\",\"4100.3934\",\"4997.523971\",\"5621.368472\",\"6619.551419\",\"7899.554209\",\"9119.528607\",\"7388.597823\",\"7370.990932\",\"8792.573126\",\"11460.60023\",\"18008.50924\",\"13990.48208\",\"14847.12712\",\"16173.14586\",\"19530.36557\",\"21806.03594\",\"24072.63213\",\"25009.55914\",\"29884.35041\",\"32003.93224\",\"35767.43303\",\"39097.09955\",\"42951.65309\",\"5716.766744\",\"6150.772969\",\"5603.357717\",\"5444.61962\",\"5703.408898\",\"6504.339663\",\"6920.223051\",\"7452.398969\",\"8137.004775\",\"9230.240708\",\"7727.002004\",\"10611.46299\",\"7689.799761\",\"9802.466526\",\"8422.974165\",\"9541.474188\",\"10505.25966\",\"13143.95095\",\"11152.41011\",\"9883.584648\",\"10733.92631\",\"10165.49518\",\"8605.047831\",\"11415.80569\"],\"y\":[\"62.485\",\"64.399\",\"65.142\",\"65.634\",\"67.065\",\"68.481\",\"69.942\",\"70.774\",\"71.868\",\"73.275\",\"74.34\",\"75.32\",\"40.414\",\"41.89\",\"43.428\",\"45.032\",\"46.714\",\"50.023\",\"53.859\",\"57.251\",\"59.957\",\"62.05\",\"63.883\",\"65.554\",\"50.917\",\"53.285\",\"55.665\",\"57.632\",\"59.504\",\"61.489\",\"63.336\",\"65.205\",\"67.057\",\"69.388\",\"71.006\",\"72.39\",\"68.75\",\"69.96\",\"71.3\",\"72.13\",\"72.88\",\"74.21\",\"75.76\",\"76.86\",\"77.95\",\"78.61\",\"79.77\",\"80.653\",\"54.745\",\"56.074\",\"57.924\",\"60.523\",\"63.441\",\"67.052\",\"70.565\",\"72.492\",\"74.126\",\"75.816\",\"77.86\",\"78.553\",\"50.643\",\"55.118\",\"57.863\",\"59.963\",\"61.623\",\"63.837\",\"66.653\",\"67.768\",\"68.421\",\"70.313\",\"71.682\",\"72.889\",\"57.206\",\"60.026\",\"62.842\",\"65.424\",\"67.849\",\"70.75\",\"73.45\",\"74.752\",\"75.713\",\"77.26\",\"78.123\",\"78.782\",\"59.421\",\"62.325\",\"65.246\",\"68.29\",\"70.723\",\"72.649\",\"73.717\",\"74.174\",\"74.414\",\"76.151\",\"77.158\",\"78.273\",\"45.928\",\"49.828\",\"53.459\",\"56.751\",\"59.631\",\"61.788\",\"63.727\",\"66.046\",\"68.457\",\"69.957\",\"70.847\",\"72.235\",\"48.357\",\"51.356\",\"54.64\",\"56.678\",\"58.796\",\"61.31\",\"64.342\",\"67.231\",\"69.613\",\"72.312\",\"74.173\",\"74.994\",\"45.262\",\"48.57\",\"52.307\",\"55.855\",\"58.207\",\"56.696\",\"56.604\",\"63.154\",\"66.798\",\"69.535\",\"70.734\",\"71.878\",\"42.023\",\"44.142\",\"46.954\",\"50.016\",\"53.738\",\"56.029\",\"58.137\",\"60.782\",\"63.373\",\"66.322\",\"68.978\",\"70.259\",\"37.579\",\"40.696\",\"43.59\",\"46.243\",\"48.042\",\"49.923\",\"51.461\",\"53.636\",\"55.089\",\"56.671\",\"58.137\",\"60.916\",\"41.912\",\"44.665\",\"48.041\",\"50.924\",\"53.884\",\"57.402\",\"60.909\",\"64.492\",\"66.399\",\"67.659\",\"68.565\",\"70.198\",\"58.53\",\"62.61\",\"65.61\",\"67.51\",\"69\",\"70.11\",\"71.21\",\"71.77\",\"71.766\",\"72.262\",\"72.047\",\"72.567\",\"50.789\",\"55.19\",\"58.299\",\"60.11\",\"62.361\",\"65.032\",\"67.405\",\"69.498\",\"71.455\",\"73.67\",\"74.902\",\"76.195\",\"42.314\",\"45.432\",\"48.632\",\"51.884\",\"55.151\",\"57.47\",\"59.298\",\"62.008\",\"65.843\",\"68.426\",\"70.836\",\"72.899\",\"55.191\",\"59.201\",\"61.817\",\"64.071\",\"66.216\",\"68.681\",\"70.472\",\"71.523\",\"72.462\",\"73.738\",\"74.712\",\"75.537\",\"62.649\",\"63.196\",\"64.361\",\"64.951\",\"65.815\",\"66.353\",\"66.874\",\"67.378\",\"68.225\",\"69.4\",\"70.755\",\"71.752\",\"43.902\",\"46.263\",\"49.096\",\"51.445\",\"55.448\",\"58.447\",\"61.406\",\"64.134\",\"66.458\",\"68.386\",\"69.906\",\"71.421\",\"64.28\",\"68.54\",\"69.62\",\"71.1\",\"72.16\",\"73.44\",\"73.75\",\"74.63\",\"73.911\",\"74.917\",\"77.778\",\"78.746\",\"59.1\",\"61.8\",\"64.9\",\"65.4\",\"65.9\",\"68.3\",\"68.832\",\"69.582\",\"69.862\",\"69.465\",\"68.976\",\"69.819\",\"68.44\",\"69.49\",\"70.21\",\"70.76\",\"71.34\",\"73.38\",\"74.65\",\"75.02\",\"76.09\",\"76.81\",\"77.31\",\"78.242\",\"66.071\",\"67.044\",\"68.253\",\"68.468\",\"68.673\",\"69.481\",\"70.805\",\"71.918\",\"72.752\",\"74.223\",\"75.307\",\"76.384\",\"55.088\",\"57.907\",\"60.77\",\"63.479\",\"65.712\",\"67.456\",\"68.557\",\"70.19\",\"71.15\",\"72.146\",\"72.766\",\"73.747\"],\"name\":\"Americas\",\"line\":{},\"marker\":{\"size\":[281,50,128,209,89,81,241,256,54,170,247,207,290,140,57,205,152,38,241,94,94,19,161,37,161,173,192,28,268,140,266,113,226,37,16,277,1,23,89,40,28,68,231,93,10,173,113,85,29,281,259,177,16,276,154,261,189,91,48,215,189,212,287,213,204,134,281,253,123,80,203,129,249,201,66,25,87,67,27,287,60,106,299,287,180,88,96,250,182,54,88,210,275,174,150,115,81,17,189,175,192,160,261,248,78,130,228,114,209,128,174,121,63,60,154,82,213,0,33,116,37,30,70,68,292,292,153,74,50,250,244,70,178,152,94,200,145,50,208,50,159,282,40,54,180,266,146,214,19,68,202,81,284,73,137,162,89,192,256,85,276,153,63,259,184,103,243,211,266,254,237,163,91,282,256,55,289,16,187,26,145,239,55,282,48,162,85,105,14,232,110,252,93,123,73,6,218,81,170,77,22,235,247,64,130,38,290,1,116,81,172,73,5,230,239,37,98,81,211,21,17,138,197,34,143,285,69,267,208,250,137,208,146,110,3,210,291,290,152,9,172,84,288,232,59,37,246,163,183,36,207,136,169,148,59,184,37,213,220,144,269,22,92,166,244,263,227,194,226,28,46,107,229,202,149,233,149,264,274,106,38,205,84,172,42,0,38,297,51,119,173,77,70,7,39,149,291,121,287,95],\"sizemode\":{\"Case\":\"Area\"},\"sizeref\":10},\"text\":[\"Americas\",\"Americas\",\"Americas\",\"Americas\",\"Americas\",\"Americas\",\"Americas\",\"Americas\",\"Americas\",\"Americas\",\"Americas\",\"Americas\",\"Americas\",\"Americas\",\"Americas\",\"Americas\",\"Americas\",\"Americas\",\"Americas\",\"Americas\",\"Americas\",\"Americas\",\"Americas\",\"Americas\",\"Americas\",\"Americas\",\"Americas\",\"Americas\",\"Americas\",\"Americas\",\"Americas\",\"Americas\",\"Americas\",\"Americas\",\"Americas\",\"Americas\",\"Americas\",\"Americas\",\"Americas\",\"Americas\",\"Americas\",\"Americas\",\"Americas\",\"Americas\",\"Americas\",\"Americas\",\"Americas\",\"Americas\",\"Americas\",\"Americas\",\"Americas\",\"Americas\",\"Americas\",\"Americas\",\"Americas\",\"Americas\",\"Americas\",\"Americas\",\"Americas\",\"Americas\",\"Americas\",\"Americas\",\"Americas\",\"Americas\",\"Americas\",\"Americas\",\"Americas\",\"Americas\",\"Americas\",\"Americas\",\"Americas\",\"Americas\",\"Americas\",\"Americas\",\"Americas\",\"Americas\",\"Americas\",\"Americas\",\"Americas\",\"Americas\",\"Americas\",\"Americas\",\"Americas\",\"Americas\",\"Americas\",\"Americas\",\"Americas\",\"Americas\",\"Americas\",\"Americas\",\"Americas\",\"Americas\",\"Americas\",\"Americas\",\"Americas\",\"Americas\",\"Americas\",\"Americas\",\"Americas\",\"Americas\",\"Americas\",\"Americas\",\"Americas\",\"Americas\",\"Americas\",\"Americas\",\"Americas\",\"Americas\",\"Americas\",\"Americas\",\"Americas\",\"Americas\",\"Americas\",\"Americas\",\"Americas\",\"Americas\",\"Americas\",\"Americas\",\"Americas\",\"Americas\",\"Americas\",\"Americas\",\"Americas\",\"Americas\",\"Americas\",\"Americas\",\"Americas\",\"Americas\",\"Americas\",\"Americas\",\"Americas\",\"Americas\",\"Americas\",\"Americas\",\"Americas\",\"Americas\",\"Americas\",\"Americas\",\"Americas\",\"Americas\",\"Americas\",\"Americas\",\"Americas\",\"Americas\",\"Americas\",\"Americas\",\"Americas\",\"Americas\",\"Americas\",\"Americas\",\"Americas\",\"Americas\",\"Americas\",\"Americas\",\"Americas\",\"Americas\",\"Americas\",\"Americas\",\"Americas\",\"Americas\",\"Americas\",\"Americas\",\"Americas\",\"Americas\",\"Americas\",\"Americas\",\"Americas\",\"Americas\",\"Americas\",\"Americas\",\"Americas\",\"Americas\",\"Americas\",\"Americas\",\"Americas\",\"Americas\",\"Americas\",\"Americas\",\"Americas\",\"Americas\",\"Americas\",\"Americas\",\"Americas\",\"Americas\",\"Americas\",\"Americas\",\"Americas\",\"Americas\",\"Americas\",\"Americas\",\"Americas\",\"Americas\",\"Americas\",\"Americas\",\"Americas\",\"Americas\",\"Americas\",\"Americas\",\"Americas\",\"Americas\",\"Americas\",\"Americas\",\"Americas\",\"Americas\",\"Americas\",\"Americas\",\"Americas\",\"Americas\",\"Americas\",\"Americas\",\"Americas\",\"Americas\",\"Americas\",\"Americas\",\"Americas\",\"Americas\",\"Americas\",\"Americas\",\"Americas\",\"Americas\",\"Americas\",\"Americas\",\"Americas\",\"Americas\",\"Americas\",\"Americas\",\"Americas\",\"Americas\",\"Americas\",\"Americas\",\"Americas\",\"Americas\",\"Americas\",\"Americas\",\"Americas\",\"Americas\",\"Americas\",\"Americas\",\"Americas\",\"Americas\",\"Americas\",\"Americas\",\"Americas\",\"Americas\",\"Americas\",\"Americas\",\"Americas\",\"Americas\",\"Americas\",\"Americas\",\"Americas\",\"Americas\",\"Americas\",\"Americas\",\"Americas\",\"Americas\",\"Americas\",\"Americas\",\"Americas\",\"Americas\",\"Americas\",\"Americas\",\"Americas\",\"Americas\",\"Americas\",\"Americas\",\"Americas\",\"Americas\",\"Americas\",\"Americas\",\"Americas\",\"Americas\",\"Americas\",\"Americas\",\"Americas\",\"Americas\",\"Americas\",\"Americas\",\"Americas\",\"Americas\",\"Americas\",\"Americas\",\"Americas\",\"Americas\",\"Americas\",\"Americas\",\"Americas\",\"Americas\",\"Americas\",\"Americas\",\"Americas\",\"Americas\",\"Americas\",\"Americas\",\"Americas\",\"Americas\",\"Americas\",\"Americas\",\"Americas\",\"Americas\"],\"hovertemplate\":\"<b>%{text}</b><br><br>GDP per Capita: %{x:$,.0f}<br>Life Expectation: %{y:.0%}<br>Population: %{marker.size:,}<extra></extra>\"},{\"type\":\"scatter\",\"mode\":\"markers\",\"x\":[\"10039.59564\",\"10949.64959\",\"12217.22686\",\"14526.12465\",\"16788.62948\",\"18334.19751\",\"19477.00928\",\"21888.88903\",\"23424.76683\",\"26997.93657\",\"30687.75473\",\"34435.36744\",\"10556.57566\",\"12247.39532\",\"13175.678\",\"14463.91893\",\"16046.03728\",\"16233.7177\",\"17632.4104\",\"19007.19129\",\"18363.32494\",\"21050.41377\",\"23189.80135\",\"25185.00911\"],\"y\":[\"69.12\",\"70.33\",\"70.93\",\"71.1\",\"71.93\",\"73.49\",\"74.74\",\"76.32\",\"77.56\",\"78.83\",\"80.37\",\"81.235\",\"69.39\",\"70.26\",\"71.24\",\"71.52\",\"71.89\",\"72.22\",\"73.84\",\"74.32\",\"76.33\",\"77.55\",\"79.11\",\"80.204\"],\"name\":\"Oceania\",\"line\":{},\"marker\":{\"size\":[110,52,236,154,290,100,207,267,299,125,34,72,238,114,106,63,237,220,124,244,224,229,143,107],\"sizemode\":{\"Case\":\"Area\"},\"sizeref\":10},\"text\":[\"Oceania\",\"Oceania\",\"Oceania\",\"Oceania\",\"Oceania\",\"Oceania\",\"Oceania\",\"Oceania\",\"Oceania\",\"Oceania\",\"Oceania\",\"Oceania\",\"Oceania\",\"Oceania\",\"Oceania\",\"Oceania\",\"Oceania\",\"Oceania\",\"Oceania\",\"Oceania\",\"Oceania\",\"Oceania\",\"Oceania\",\"Oceania\"],\"hovertemplate\":\"<b>%{text}</b><br><br>GDP per Capita: %{x:$,.0f}<br>Life Expectation: %{y:.0%}<br>Population: %{marker.size:,}<extra></extra>\"}];\n",
       "            var layout = {\"xaxis\":{\"type\":\"log\"}};\n",
       "            var config = {};\n",
       "            Plotly.newPlot('c9887239-7a6f-4bb2-99d3-a51b0e562fd1', data, layout, config);\r\n",
       "});\n",
       "            };\n",
       "            if ((typeof(requirejs) !==  typeof(Function)) || (typeof(requirejs.config) !== typeof(Function))) {\n",
       "                var script = document.createElement(\"script\");\n",
       "                script.setAttribute(\"src\", \"https://cdnjs.cloudflare.com/ajax/libs/require.js/2.3.6/require.min.js\");\n",
       "                script.onload = function(){\n",
       "                    renderPlotly_c98872397a6f4bb299d3a51b0e562fd1();\n",
       "                };\n",
       "                document.getElementsByTagName(\"head\")[0].appendChild(script);\n",
       "            }\n",
       "            else {\n",
       "                renderPlotly_c98872397a6f4bb299d3a51b0e562fd1();\n",
       "            }\r\n",
       "</script>\r\n"
      ]
     },
     "metadata": {},
     "output_type": "display_data"
    }
   ],
   "metadata": {
    "dotnet_interactive": {
     "language": "fsharp"
    }
   }
  },
  {
   "cell_type": "markdown",
   "source": [
    "# Adding other data to the hover with CustomData and a HoverTemplate\r\n",
    "\r\n",
    "You can then use CustomData inside a HoverTemplate to display the value of CustomData."
   ],
   "metadata": {}
  },
  {
   "cell_type": "code",
   "execution_count": null,
   "source": [
    "open System\r\n",
    "\r\n",
    "let rand = new Random()\r\n",
    "let hoverTemplate =\"<b>y:%{y:.3f}</b><br> custom:%{customdata:.3f}}\"\r\n",
    "\r\n",
    "let customdata = [|for i in 1..5 -> rand.NextDouble()|]\r\n",
    "\r\n",
    "Chart.Line(x=[1..5],\r\n",
    "            y = [2.02825;1.63728;6.83839;4.8485;4.73463],\r\n",
    "            ShowMarkers=true, ShowLegend=false)\r\n",
    "                \r\n",
    "|> GenericChart.mapTrace (Trace2DStyle.Scatter(HoverTemplate=hoverTemplate,CustomData=customdata))\r\n"
   ],
   "outputs": [
    {
     "data": {
      "text/html": [
       "<div id=\"6e6914cc-7280-4739-98fb-2bc2941d4a2c\" style=\"width: 600px; height: 600px;\"><!-- Plotly chart will be drawn inside this DIV --></div>\r\n",
       "<script type=\"text/javascript\">\r\n",
       "\n",
       "            var renderPlotly_6e6914cc7280473998fb2bc2941d4a2c = function() {\n",
       "            var fsharpPlotlyRequire = requirejs.config({context:'fsharp-plotly',paths:{plotly:'https://cdn.plot.ly/plotly-2.4.2.min'}}) || require;\n",
       "            fsharpPlotlyRequire(['plotly'], function(Plotly) {\r\n",
       "\n",
       "            var data = [{\"type\":\"scatter\",\"mode\":\"lines+markers\",\"x\":[1,2,3,4,5],\"y\":[2.02825,1.63728,6.83839,4.8485,4.73463],\"line\":{},\"showlegend\":false,\"marker\":{},\"hovertemplate\":\"<b>y:%{y:.3f}</b><br> custom:%{customdata:.3f}}\",\"customdata\":[0.07162022640538412,0.9853932931951216,0.4290827822075611,0.8912451909348579,0.9630395280956475]}];\n",
       "            var layout = {};\n",
       "            var config = {};\n",
       "            Plotly.newPlot('6e6914cc-7280-4739-98fb-2bc2941d4a2c', data, layout, config);\r\n",
       "});\n",
       "            };\n",
       "            if ((typeof(requirejs) !==  typeof(Function)) || (typeof(requirejs.config) !== typeof(Function))) {\n",
       "                var script = document.createElement(\"script\");\n",
       "                script.setAttribute(\"src\", \"https://cdnjs.cloudflare.com/ajax/libs/require.js/2.3.6/require.min.js\");\n",
       "                script.onload = function(){\n",
       "                    renderPlotly_6e6914cc7280473998fb2bc2941d4a2c();\n",
       "                };\n",
       "                document.getElementsByTagName(\"head\")[0].appendChild(script);\n",
       "            }\n",
       "            else {\n",
       "                renderPlotly_6e6914cc7280473998fb2bc2941d4a2c();\n",
       "            }\r\n",
       "</script>\r\n"
      ]
     },
     "metadata": {},
     "output_type": "display_data"
    }
   ],
   "metadata": {
    "dotnet_interactive": {
     "language": "fsharp"
    }
   }
  },
  {
   "cell_type": "markdown",
   "source": [
    "# Setting the Hover Template in Mapbox Maps (Missing Abstraction)"
   ],
   "metadata": {}
  },
  {
   "cell_type": "code",
   "execution_count": null,
   "source": [
    "// let cityNames = [\r\n",
    "//         \"Montreal\"; \"Toronto\"; \"Vancouver\"; \"Calgary\"; \"Edmonton\";\r\n",
    "//         \"Ottawa\"; \"Halifax\"; \"Victoria\"; \"Winnepeg\"; \"Regina\"\r\n",
    "//     ]\r\n",
    "// let hoverTemplate = \"<b>%{marker.symbol} </b><br><br>\" +\r\n",
    "//                     \"longitude: %{lon}<br>\" +\r\n",
    "//                     \"latitude: %{lat}<br>\"  \r\n",
    "\r\n",
    "// Chart.ScatterMapbox(longitudes=[-75; -80; -50],\r\n",
    "//                     latitudes=[45; 20; -20],\r\n",
    "//                     mode=StyleParam.Mode.Lines_Markers_Text)\r\n",
    "// |> Chart.withMarker(Marker.init(Size=20))\r\n",
    "// |> GenericChart.mapTrace (TraceMapboxStyle.ScatterMapbox())\r\n",
    "// |> Chart.withMapbox(\r\n",
    "//     Mapbox.init(Style=StyleParam.MapboxStyle.OpenStreetMap,\r\n",
    "//                 Zoom=1.,\r\n",
    "//                 Center=(-84.6,30.45)\r\n",
    "//     )\r\n",
    "// )"
   ],
   "outputs": [
    {
     "data": {
      "text/html": [
       "<div id=\"8d3b9cd8-e090-4a3a-bacc-1ef8d9fff41f\" style=\"width: 600px; height: 600px;\"><!-- Plotly chart will be drawn inside this DIV --></div>\r\n",
       "<script type=\"text/javascript\">\r\n",
       "\n",
       "            var renderPlotly_8d3b9cd8e0904a3abacc1ef8d9fff41f = function() {\n",
       "            var fsharpPlotlyRequire = requirejs.config({context:'fsharp-plotly',paths:{plotly:'https://cdn.plot.ly/plotly-2.4.2.min'}}) || require;\n",
       "            fsharpPlotlyRequire(['plotly'], function(Plotly) {\r\n",
       "\n",
       "            var data = [{\"type\":\"scattermapbox\",\"mode\":\"lines+markers+text\",\"lon\":[-75,-80,-50],\"lat\":[45,20,-20],\"line\":{},\"marker\":{\"size\":20}}];\n",
       "            var layout = {\"mapbox\":{\"style\":\"open-street-map\",\"center\":{\"lon\":-84.6,\"lat\":30.45},\"zoom\":1.0}};\n",
       "            var config = {};\n",
       "            Plotly.newPlot('8d3b9cd8-e090-4a3a-bacc-1ef8d9fff41f', data, layout, config);\r\n",
       "});\n",
       "            };\n",
       "            if ((typeof(requirejs) !==  typeof(Function)) || (typeof(requirejs.config) !== typeof(Function))) {\n",
       "                var script = document.createElement(\"script\");\n",
       "                script.setAttribute(\"src\", \"https://cdnjs.cloudflare.com/ajax/libs/require.js/2.3.6/require.min.js\");\n",
       "                script.onload = function(){\n",
       "                    renderPlotly_8d3b9cd8e0904a3abacc1ef8d9fff41f();\n",
       "                };\n",
       "                document.getElementsByTagName(\"head\")[0].appendChild(script);\n",
       "            }\n",
       "            else {\n",
       "                renderPlotly_8d3b9cd8e0904a3abacc1ef8d9fff41f();\n",
       "            }\r\n",
       "</script>\r\n"
      ]
     },
     "metadata": {},
     "output_type": "display_data"
    }
   ],
   "metadata": {
    "dotnet_interactive": {
     "language": "fsharp"
    }
   }
  },
  {
   "cell_type": "markdown",
   "source": [
    "# Spike lines\r\n",
    "\r\n",
    "Plotly.NET supports \"spike lines\" which link a point to the axis on hover, and can be configured per axis."
   ],
   "metadata": {}
  },
  {
   "cell_type": "code",
   "execution_count": null,
   "source": [
    "open FSharp.Data\r\n",
    "\r\n",
    "let csv = CsvFile.Load(\"https://raw.githubusercontent.com/plotly/datasets/master/gapminderDataFiveYear.csv\")\r\n",
    "\r\n",
    "let Oceania = Seq.filter (fun (row:CsvRow) -> row.GetColumn(\"continent\") = \"Oceania\") csv.Rows\r\n",
    "                |> Seq.groupBy (fun c -> c.GetColumn(\"country\"))\r\n",
    "\r\n",
    "[for country,countryDetails in Oceania -> \r\n",
    "                let x = countryDetails |> Seq.map (fun x -> x.GetColumn(\"year\"))\r\n",
    "                let y = countryDetails |> Seq.map (fun x -> x.GetColumn(\"lifeExp\"))\r\n",
    "                \r\n",
    "                Chart.Line(x,y,Name=country,ShowMarkers=true)]\r\n",
    "|> Chart.combine\r\n",
    "|> Chart.withXAxis(LinearAxis.init(ShowSpikes=true))\r\n",
    "|> Chart.withYAxis(LinearAxis.init(ShowSpikes=true))\r\n",
    "|> Chart.withTitle(\"Spike lines active\")"
   ],
   "outputs": [
    {
     "data": {
      "text/html": [
       "<div id=\"4699b481-d09c-4b27-a33d-095ec74de1f6\" style=\"width: 600px; height: 600px;\"><!-- Plotly chart will be drawn inside this DIV --></div>\r\n",
       "<script type=\"text/javascript\">\r\n",
       "\n",
       "            var renderPlotly_4699b481d09c4b27a33d095ec74de1f6 = function() {\n",
       "            var fsharpPlotlyRequire = requirejs.config({context:'fsharp-plotly',paths:{plotly:'https://cdn.plot.ly/plotly-2.4.2.min'}}) || require;\n",
       "            fsharpPlotlyRequire(['plotly'], function(Plotly) {\r\n",
       "\n",
       "            var data = [{\"type\":\"scatter\",\"mode\":\"lines+markers\",\"x\":[\"1952\",\"1957\",\"1962\",\"1967\",\"1972\",\"1977\",\"1982\",\"1987\",\"1992\",\"1997\",\"2002\",\"2007\"],\"y\":[\"69.12\",\"70.33\",\"70.93\",\"71.1\",\"71.93\",\"73.49\",\"74.74\",\"76.32\",\"77.56\",\"78.83\",\"80.37\",\"81.235\"],\"line\":{},\"name\":\"Australia\",\"marker\":{}},{\"type\":\"scatter\",\"mode\":\"lines+markers\",\"x\":[\"1952\",\"1957\",\"1962\",\"1967\",\"1972\",\"1977\",\"1982\",\"1987\",\"1992\",\"1997\",\"2002\",\"2007\"],\"y\":[\"69.39\",\"70.26\",\"71.24\",\"71.52\",\"71.89\",\"72.22\",\"73.84\",\"74.32\",\"76.33\",\"77.55\",\"79.11\",\"80.204\"],\"line\":{},\"name\":\"New Zealand\",\"marker\":{}}];\n",
       "            var layout = {\"xaxis\":{\"showspikes\":true},\"yaxis\":{\"showspikes\":true},\"title\":{\"text\":\"Spike lines active\"}};\n",
       "            var config = {};\n",
       "            Plotly.newPlot('4699b481-d09c-4b27-a33d-095ec74de1f6', data, layout, config);\r\n",
       "});\n",
       "            };\n",
       "            if ((typeof(requirejs) !==  typeof(Function)) || (typeof(requirejs.config) !== typeof(Function))) {\n",
       "                var script = document.createElement(\"script\");\n",
       "                script.setAttribute(\"src\", \"https://cdnjs.cloudflare.com/ajax/libs/require.js/2.3.6/require.min.js\");\n",
       "                script.onload = function(){\n",
       "                    renderPlotly_4699b481d09c4b27a33d095ec74de1f6();\n",
       "                };\n",
       "                document.getElementsByTagName(\"head\")[0].appendChild(script);\n",
       "            }\n",
       "            else {\n",
       "                renderPlotly_4699b481d09c4b27a33d095ec74de1f6();\n",
       "            }\r\n",
       "</script>\r\n"
      ]
     },
     "metadata": {},
     "output_type": "display_data"
    }
   ],
   "metadata": {
    "dotnet_interactive": {
     "language": "fsharp"
    }
   }
  }
 ],
 "metadata": {
  "orig_nbformat": 4,
  "language_info": {
   "file_extension": ".cs",
   "mimetype": "text/x-csharp",
   "name": "C#",
   "pygments_lexer": "csharp",
   "version": "9.0"
  },
  "kernelspec": {
   "display_name": ".NET (C#)",
   "language": "C#",
   "name": ".net-csharp"
  }
 },
 "nbformat": 4,
 "nbformat_minor": 2
}