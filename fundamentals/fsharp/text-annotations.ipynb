{
 "cells": [
  {
   "cell_type": "code",
   "execution_count": null,
   "metadata": {
    "dotnet_interactive": {
     "language": "fsharp"
    }
   },
   "outputs": [
    {
     "data": {
      "text/html": []
     },
     "metadata": {},
     "output_type": "display_data"
    },
    {
     "data": {
      "text/markdown": []
     },
     "metadata": {},
     "output_type": "display_data"
    },
    {
     "data": {
      "text/markdown": []
     },
     "metadata": {},
     "output_type": "display_data"
    }
   ],
   "source": [
    "#r \"nuget: Plotly.NET, 2.0.0-preview.6\"\n",
    "#r \"nuget: newtonsoft.json\"\n",
    "#r \"nuget: Plotly.NET.Interactive, 2.0.0-preview.6\"\n",
    "open Plotly.NET"
   ]
  },
  {
   "cell_type": "markdown",
   "metadata": {},
   "source": [
    "# Text on scatter plots with Graph Objects\n"
   ]
  },
  {
   "cell_type": "code",
   "execution_count": null,
   "metadata": {
    "dotnet_interactive": {
     "language": "fsharp"
    }
   },
   "outputs": [
    {
     "data": {
      "text/html": []
     },
     "metadata": {},
     "output_type": "display_data"
    }
   ],
   "source": [
    "let x=[|0; 1; 2;|]\n",
    "[\n",
    "Chart.Scatter(x,[|1; 1; 1|], StyleParam.Mode.Lines, Name=\"Lines, Markers and Text\")\n",
    "// |> GenericChart.mapTrace(fun x -> \n",
    "//         x.SetValue(\"text\",[\n",
    "//              \"Text A\";\n",
    "//              \"Text B\";\n",
    "//              \"Text C\";\n",
    "//              ])   \n",
    "//         x)\n",
    "Chart.Scatter(x,[|2; 2; 2; 1|], StyleParam.Mode.Lines,Name=\"Markers and Text\")\n",
    " ]\n",
    "|> Chart.Combine"
   ]
  },
  {
   "cell_type": "markdown",
   "metadata": {},
   "source": [
    "# Text Annotations\n"
   ]
  },
  {
   "cell_type": "code",
   "execution_count": null,
   "metadata": {
    "dotnet_interactive": {
     "language": "fsharp"
    }
   },
   "outputs": [
    {
     "data": {
      "text/html": []
     },
     "metadata": {},
     "output_type": "display_data"
    }
   ],
   "source": [
    "let x=[|0;1; 2; 3; 4; 5;6;7;8;|]\n",
    "let layout =\n",
    "    let temp = Layout()\n",
    "    temp?annotations <- [{|text = \"Text annotation with arrow\"; x = 2; y = 5;showarrow = true; arrowhead = 1|};\n",
    "                          {|text = \"Text annotation without arrow\"; x = 4; y = 4; showarrow = false ; arrowhead = 1|}]\n",
    "    temp\n",
    "[\n",
    "Chart.Scatter(x,[|0; 1; 3; 2; 4; 3; 4; 6; 5|], StyleParam.Mode.Lines, Showlegend=false)\n",
    "\n",
    "Chart.Scatter(x,[|0; 4; 5; 1; 2; 2; 3; 4; 2|], StyleParam.Mode.Lines, Showlegend=false)\n",
    "]\n",
    "|> Chart.Combine\n",
    "|> Chart.withLayout(layout)\n",
    "\n"
   ]
  },
  {
   "cell_type": "markdown",
   "metadata": {},
   "source": [
    "# 3D Annotations\n"
   ]
  },
  {
   "cell_type": "code",
   "execution_count": null,
   "metadata": {
    "dotnet_interactive": {
     "language": "fsharp"
    }
   },
   "outputs": [
    {
     "data": {
      "text/html": []
     },
     "metadata": {},
     "output_type": "display_data"
    }
   ],
   "source": [
    "let x=[\"2017-01-01\"; \"2017-02-10\"; \"2017-03-20\"]\n",
    "let y=[\"A\"; \"B\"; \"C\"]\n",
    "let z=[1; 1000; 100000]\n",
    "\n",
    "let layout =\n",
    "    let temp = Layout()\n",
    "    temp?annotations <- [{|text = \"Point 1\";\n",
    "                         x = \"2017-01-01\";\n",
    "                         y = \"A\";\n",
    "                         z = 0; \n",
    "                        showarrow = false;\n",
    "                        arrowcolor=\"\";\n",
    "                        arrowsize=0;\n",
    "                        arrowwidth=0;\n",
    "                        arrowhead=0;\n",
    "                        xanchor=\"left\";\n",
    "                        yanchor=\"\";\n",
    "                        xshift=10;\n",
    "                        opacity=0.7|};\n",
    "\n",
    "                        {|text = \"Point 2\"; \n",
    "                        x = \"2017-02-10\"; \n",
    "                        y = \"B\";\n",
    "                        z = 4; \n",
    "                        showarrow = true;\n",
    "                        arrowcolor=\"black\";\n",
    "                        arrowsize=3;\n",
    "                        arrowwidth=1;\n",
    "                        arrowhead=1;\n",
    "                        xanchor=\"\";\n",
    "                        yanchor=\"\"; \n",
    "                        xshift=0;\n",
    "                        opacity=0.7 |};\n",
    "                        \n",
    "                        {|text = \"Point 3\";\n",
    "                        x = \"2017-03-20\";\n",
    "                        y = \"C\";\n",
    "                        z = 5;  \n",
    "                        showarrow = true;\n",
    "                        arrowcolor=\"black\";\n",
    "                        arrowsize=3;\n",
    "                        arrowwidth=1;\n",
    "                        arrowhead=1;\n",
    "                        xanchor=\"left\";\n",
    "                        yanchor=\"bottom\";\n",
    "                        xshift=0;\n",
    "                        opacity=0.7|};\n",
    "                        ]\n",
    "    temp                    // Issue to set arrow position on plots\n",
    "\n",
    "Chart.Scatter3d(x,y,z,StyleParam.Mode.Lines,Name=\"z\")\n",
    "\n",
    "|> Chart.withLayout(layout)"
   ]
  },
  {
   "cell_type": "markdown",
   "metadata": {},
   "source": [
    "# Customize Displayed Text with a Text Template\n"
   ]
  },
  {
   "cell_type": "code",
   "execution_count": null,
   "metadata": {
    "dotnet_interactive": {
     "language": "fsharp"
    }
   },
   "outputs": [
    {
     "data": {
      "text/html": []
     },
     "metadata": {},
     "output_type": "display_data"
    }
   ],
   "source": [
    "let labels = [\"Wages\"; \"Operating expenses\"; \"Cost of sales\"; \"Insurance\"]\n",
    "let values = [40000000; 20000000; 30000000; 10000000]\n",
    "\n",
    "let layout = \n",
    "    let temp = Layout()\n",
    "    temp?hoverinfo <- \"label+percent\"\n",
    "    temp?textinfo <- \"value\"\n",
    "    temp?textfont_size <- 20\n",
    "    temp\n",
    "\n",
    "Chart.Pie(values=values,Labels=labels)  // Issue with values + percent displaying\n",
    "|> Chart.withLayout(layout)"
   ]
  },
  {
   "cell_type": "markdown",
   "metadata": {},
   "source": [
    "# Text Font as an Array - Styling Each Text Element\n"
   ]
  },
  {
   "cell_type": "code",
   "execution_count": null,
   "metadata": {
    "dotnet_interactive": {
     "language": "fsharp"
    }
   },
   "outputs": [
    {
     "data": {
      "text/html": []
     },
     "metadata": {},
     "output_type": "display_data"
    }
   ],
   "source": [
    "let lat=[45.5; 43.4; 49.13; 51.1; 53.34; 45.24; 44.64; 48.25; 49.89; 50.45]\n",
    "let lon=[-73.57; -79.24; -123.06; -114.1; -113.28; -75.43; -63.57; -123.21; -97.13;104.6]\n",
    "let states=[\"Montreal\"; \"Toronto\"; \"Vancouver\"; \"Calgary\"; \"Edmonton\"; \"Ottawa\"; \"Halifax\";\n",
    "          \"Victoria\"; \"Winnepeg\"; \"Regina\"]\n",
    "\n",
    "let colors=[\"MidnightBlue\"; \"IndianRed\"; \"MediumPurple\"; \"Orange\"; \"Crimson\";\n",
    "            \"LightSeaGreen\"; \"RoyalBlue\"; \"LightSalmon\"; \"DarkOrange\"; \"MediumSlateBlue\"]\n",
    "\n",
    "let textposition=[\"top center\"; \"middle left\"; \"top center\"; \"bottom center\";\n",
    "                  \"top right\";\n",
    "                  \"middle left\"; \"bottom right\"; \"bottom left\"; \"top right\";\n",
    "                  \"top right\"]\n",
    "let N = 30\n",
    "let rnd = System.Random()\n",
    "let lataxis = Array.init N (fun _ -> rnd.Next(40, 70))\n",
    "let lonaxis = Array.init N (fun _ -> rnd.Next(-130, -55))\n",
    "\n",
    "\n",
    "let marker = Marker.init();\n",
    "marker?color <- colors\n",
    "marker?size <- 20\n",
    "\n",
    "let layout =  \n",
    "    let temp = Layout()   // Some circumvent\n",
    "    temp?textposition <- textposition   //  Issue with lataxis and lonaxis\n",
    "    temp?lataxis <- lataxis \n",
    "    temp?lonaxis <- lonaxis \n",
    "    temp?textposition <- textposition \n",
    "    temp\n",
    "\n",
    "Chart.ScatterGeo(lat,lon,StyleParam.Mode.Markers_Text,Labels=states)\n",
    "|> Chart.withTitle(title=\"Canadian cities\")\n",
    "|> Chart.withMarker(marker)\n",
    "|> Chart.withLayout(layout)\n"
   ]
  },
  {
   "cell_type": "markdown",
   "metadata": {},
   "source": [
    "# Set Date in Text Template\n"
   ]
  },
  {
   "cell_type": "code",
   "execution_count": null,
   "metadata": {
    "dotnet_interactive": {
     "language": "fsharp"
    }
   },
   "outputs": [],
   "source": []
  },
  {
   "cell_type": "code",
   "execution_count": null,
   "metadata": {
    "dotnet_interactive": {
     "language": "fsharp"
    }
   },
   "outputs": [
    {
     "data": {
      "text/html": []
     },
     "metadata": {},
     "output_type": "display_data"
    }
   ],
   "source": [
    "let x0 = [100; 60; 40; 20]\n",
    "let x1 =[90; 70; 50; 10]\n",
    "let y = [\"2018-01-01\"; \"2018-07-01\"; \"2019-01-01\"; \"2020-01-01\"]\n",
    "\n",
    "[   \n",
    "Chart.Funnel(x0,y,Name=\"Montreal\",Orientation=StyleParam.Orientation.Horizontal,Color=\"rgba(103, 102, 255,1)\" )\n",
    "Chart.Funnel(x1,y,Name=\"Vancouver\",Orientation=StyleParam.Orientation.Horizontal,Color=\"rgba(255, 70, 51, 1)\" )\n",
    "]\n",
    "|> Chart.Combine\n",
    "//|> Chart.withLayout(layout)"
   ]
  }
 ],
 "metadata": {
  "kernelspec": {
   "display_name": ".NET (F#)",
   "language": "F#",
   "name": ".net-fsharp"
  },
  "language_info": {
   "name": "F#"
  }
 },
 "nbformat": 4,
 "nbformat_minor": 2
}
