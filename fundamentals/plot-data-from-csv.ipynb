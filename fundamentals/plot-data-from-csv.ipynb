{
 "cells": [
  {
   "cell_type": "code",
   "execution_count": null,
   "source": [
    "#r \"nuget: Plotly.NET, 2.0.0-preview.8\"\r\n",
    "#r \"nuget: Plotly.NET.Interactive, 2.0.0-preview.8\"\r\n",
    "#r \"nuget: FSharp.Data\"\r\n",
    "#r \"nuget:Deedle\""
   ],
   "outputs": [
    {
     "output_type": "display_data",
     "data": {
      "text/html": ""
     },
     "metadata": {}
    },
    {
     "output_type": "display_data",
     "data": {
      "text/markdown": ""
     },
     "metadata": {}
    },
    {
     "output_type": "display_data",
     "data": {
      "text/markdown": ""
     },
     "metadata": {}
    }
   ],
   "metadata": {
    "dotnet_interactive": {
     "language": "fsharp"
    }
   }
  },
  {
   "cell_type": "markdown",
   "source": [
    "# Plot from CSV with Plotly"
   ],
   "metadata": {}
  },
  {
   "cell_type": "code",
   "execution_count": null,
   "source": [
    "open FSharp.Data\r\n",
    "open Deedle\r\n",
    "open Plotly.NET\r\n",
    "open Plotly.NET.LayoutObjects\r\n",
    "\r\n",
    "let dataset = \r\n",
    "  Http.RequestString \"https://raw.githubusercontent.com/plotly/datasets/master/2014_apple_stock.csv\"\r\n",
    "   |> fun csv -> Frame.ReadCsvString(csv,true,separators=\",\")\r\n",
    "\r\n",
    "let getColumn column=\r\n",
    "        dataset\r\n",
    "        |> Frame.getCol column\r\n",
    "        |> Series.values\r\n",
    "         \r\n",
    "let xy = Seq.zip  (getColumn \"AAPL_x\" :> seq<DateTime>) (getColumn \"AAPL_y\" :> seq<float>) \r\n",
    "Chart.Line(xy,Name=\"Share Prices (in USD)\")\r\n",
    "|>Chart.withLayout(Layout.init(Title.init(\"Apple Share Prices over time (2014)\"),PlotBGColor=Color.fromString \"#e5ecf6\",ShowLegend=true,Width=1100))\r\n",
    "|>Chart.withXAxis(LinearAxis.init(Title=Title.init(\"AAPL_x\"),ZeroLineColor=Color.fromString\"#ffff\",ZeroLineWidth=2.,GridColor=Color.fromString\"#ffff\" ))\r\n",
    "|>Chart.withYAxis(LinearAxis.init(Title=Title.init(\"AAPL_y\"),ZeroLineColor=Color.fromString\"#ffff\",ZeroLineWidth=2.,GridColor=Color.fromString\"#ffff\" ))\r\n"
   ],
   "outputs": [
    {
     "output_type": "display_data",
     "data": {
      "text/html": ""
     },
     "metadata": {}
    }
   ],
   "metadata": {
    "dotnet_interactive": {
     "language": "fsharp"
    }
   }
  }
 ],
 "metadata": {
  "orig_nbformat": 4,
  "language_info": {
   "file_extension": ".cs",
   "mimetype": "text/x-csharp",
   "name": "C#",
   "pygments_lexer": "csharp",
   "version": "9.0"
  },
  "kernelspec": {
   "display_name": ".NET (C#)",
   "language": "C#",
   "name": ".net-csharp"
  }
 },
 "nbformat": 4,
 "nbformat_minor": 2
}