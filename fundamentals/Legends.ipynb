{
 "metadata": {
  "kernelspec": {
   "display_name": ".NET (F#)",
   "language": "F#",
   "name": ".net-fsharp"
  },
  "language_info": {
   "name": "F#"
  }
 },
 "cells": [
  {
   "cell_type": "code",
   "execution_count": null,
   "source": [
    "#r \"nuget: Plotly.NET, 2.0.0-preview.7\"\r\n",
    "#r \"nuget: Plotly.NET.Interactive, 2.0.0-preview.7\"\r\n",
    "#r \"nuget: newtonsoft.json\"\r\n",
    "open Plotly.NET"
   ],
   "outputs": [
    {
     "data": {
      "text/html": [
       "<div><div></div><div></div><div><strong>Installed Packages</strong><ul><li><span>newtonsoft.json, 13.0.1</span></li><li><span>Plotly.NET, 2.0.0-preview.7</span></li><li><span>Plotly.NET.Interactive, 2.0.0-preview.7</span></li></ul></div></div>"
      ]
     },
     "metadata": {},
     "output_type": "display_data"
    },
    {
     "data": {
      "text/markdown": [
       "Loading extensions from `Plotly.NET.Interactive.dll`"
      ]
     },
     "metadata": {},
     "output_type": "display_data"
    },
    {
     "data": {
      "text/markdown": [
       "Added Kernel Extension including formatters for Plotly.NET charts."
      ]
     },
     "metadata": {},
     "output_type": "display_data"
    }
   ],
   "metadata": {
    "dotnet_interactive": {
     "language": "fsharp"
    }
   }
  },
  {
   "cell_type": "markdown",
   "source": [
    "# Legend Order\r\n",
    "\r\n"
   ],
   "metadata": {}
  },
  {
   "cell_type": "code",
   "execution_count": null,
   "source": [
    "let x=[\"a\"; \"b\"]\r\n",
    "[\r\n",
    "Chart.Bar(x,[1;2], Name = \"first\")\r\n",
    "Chart.Bar(x,[2;1], Name = \"second\")  \r\n",
    "Chart.Bar(x,[1;2], Name = \"third\")\r\n",
    "Chart.Bar(x,[2;1], Name = \"fourth\")  \r\n",
    "]\r\n",
    "|> Chart.combine\r\n"
   ],
   "outputs": [
    {
     "data": {
      "text/html": [
       "<div id=\"6a08ea04-d587-4d03-8feb-44a6624380b5\" style=\"width: 600px; height: 600px;\"><!-- Plotly chart will be drawn inside this DIV --></div>\r\n",
       "<script type=\"text/javascript\">\r\n",
       "\n",
       "            var renderPlotly_6a08ea04d5874d038feb44a6624380b5 = function() {\n",
       "            var fsharpPlotlyRequire = requirejs.config({context:'fsharp-plotly',paths:{plotly:'https://cdn.plot.ly/plotly-latest.min'}}) || require;\n",
       "            fsharpPlotlyRequire(['plotly'], function(Plotly) {\r\n",
       "\n",
       "            var data = [{\"type\":\"bar\",\"x\":[1,2],\"y\":[\"a\",\"b\"],\"orientation\":\"h\",\"marker\":{},\"name\":\"first\"},{\"type\":\"bar\",\"x\":[2,1],\"y\":[\"a\",\"b\"],\"orientation\":\"h\",\"marker\":{},\"name\":\"second\"},{\"type\":\"bar\",\"x\":[1,2],\"y\":[\"a\",\"b\"],\"orientation\":\"h\",\"marker\":{},\"name\":\"third\"},{\"type\":\"bar\",\"x\":[2,1],\"y\":[\"a\",\"b\"],\"orientation\":\"h\",\"marker\":{},\"name\":\"fourth\"}];\n",
       "            var layout = {};\n",
       "            var config = {};\n",
       "            Plotly.newPlot('6a08ea04-d587-4d03-8feb-44a6624380b5', data, layout, config);\r\n",
       "});\n",
       "            };\n",
       "            if ((typeof(requirejs) !==  typeof(Function)) || (typeof(requirejs.config) !== typeof(Function))) {\n",
       "                var script = document.createElement(\"script\");\n",
       "                script.setAttribute(\"src\", \"https://cdnjs.cloudflare.com/ajax/libs/require.js/2.3.6/require.min.js\");\n",
       "                script.onload = function(){\n",
       "                    renderPlotly_6a08ea04d5874d038feb44a6624380b5();\n",
       "                };\n",
       "                document.getElementsByTagName(\"head\")[0].appendChild(script);\n",
       "            }\n",
       "            else {\n",
       "                renderPlotly_6a08ea04d5874d038feb44a6624380b5();\n",
       "            }\r\n",
       "</script>\r\n"
      ]
     },
     "metadata": {},
     "output_type": "display_data"
    }
   ],
   "metadata": {
    "dotnet_interactive": {
     "language": "fsharp"
    }
   }
  },
  {
   "cell_type": "markdown",
   "source": [
    "# Legend Item Names"
   ],
   "metadata": {}
  },
  {
   "cell_type": "markdown",
   "source": [
    "Legend items appear per trace, and the legend item name is taken from the trace's name attribute.\r\n",
    "\r\n"
   ],
   "metadata": {}
  },
  {
   "cell_type": "code",
   "execution_count": null,
   "source": [
    "let x=[|1; 2; 3; 4; 5|]\r\n",
    "[\r\n",
    "Chart.Scatter(x,[|1; 2; 3; 4; 5|], StyleParam.Mode.Lines,Name=\"Positive\")\r\n",
    "Chart.Scatter(x,[|5; 4; 3; 2; 1|], StyleParam.Mode.Lines,Name=\"Negative\")\r\n",
    " ]\r\n",
    "|> Chart.combine\r\n"
   ],
   "outputs": [
    {
     "data": {
      "text/html": [
       "<div id=\"29d497ab-14a1-4c86-a72d-9e3509c8c8a2\" style=\"width: 600px; height: 600px;\"><!-- Plotly chart will be drawn inside this DIV --></div>\r\n",
       "<script type=\"text/javascript\">\r\n",
       "\n",
       "            var renderPlotly_29d497ab14a14c86a72d9e3509c8c8a2 = function() {\n",
       "            var fsharpPlotlyRequire = requirejs.config({context:'fsharp-plotly',paths:{plotly:'https://cdn.plot.ly/plotly-latest.min'}}) || require;\n",
       "            fsharpPlotlyRequire(['plotly'], function(Plotly) {\r\n",
       "\n",
       "            var data = [{\"type\":\"scatter\",\"x\":[1,2,3,4,5],\"y\":[1,2,3,4,5],\"mode\":\"lines\",\"name\":\"Positive\",\"line\":{},\"marker\":{}},{\"type\":\"scatter\",\"x\":[1,2,3,4,5],\"y\":[5,4,3,2,1],\"mode\":\"lines\",\"name\":\"Negative\",\"line\":{},\"marker\":{}}];\n",
       "            var layout = {};\n",
       "            var config = {};\n",
       "            Plotly.newPlot('29d497ab-14a1-4c86-a72d-9e3509c8c8a2', data, layout, config);\r\n",
       "});\n",
       "            };\n",
       "            if ((typeof(requirejs) !==  typeof(Function)) || (typeof(requirejs.config) !== typeof(Function))) {\n",
       "                var script = document.createElement(\"script\");\n",
       "                script.setAttribute(\"src\", \"https://cdnjs.cloudflare.com/ajax/libs/require.js/2.3.6/require.min.js\");\n",
       "                script.onload = function(){\n",
       "                    renderPlotly_29d497ab14a14c86a72d9e3509c8c8a2();\n",
       "                };\n",
       "                document.getElementsByTagName(\"head\")[0].appendChild(script);\n",
       "            }\n",
       "            else {\n",
       "                renderPlotly_29d497ab14a14c86a72d9e3509c8c8a2();\n",
       "            }\r\n",
       "</script>\r\n"
      ]
     },
     "metadata": {},
     "output_type": "display_data"
    }
   ],
   "metadata": {
    "dotnet_interactive": {
     "language": "fsharp"
    }
   }
  },
  {
   "cell_type": "markdown",
   "source": [
    "# Legend titles\r\n"
   ],
   "metadata": {}
  },
  {
   "cell_type": "code",
   "execution_count": null,
   "source": [
    "let x=[|1; 2; 3; 4; 5|]\r\n",
    "[\r\n",
    "Chart.Scatter(x,[|1; 2; 3; 4; 5|], StyleParam.Mode.Lines,Name=\"Increasing\")\r\n",
    "Chart.Scatter(x,[|5; 4; 3; 2; 1|], StyleParam.Mode.Lines,Name=\"Decreasing\")\r\n",
    " ]\r\n",
    "|> Chart.combine\r\n",
    "|> Chart.withTitle(\"Trend\")"
   ],
   "outputs": [
    {
     "data": {
      "text/html": [
       "<div id=\"e7a39b28-cf36-41ef-a330-a8caae4995da\" style=\"width: 600px; height: 600px;\"><!-- Plotly chart will be drawn inside this DIV --></div>\r\n",
       "<script type=\"text/javascript\">\r\n",
       "\n",
       "            var renderPlotly_e7a39b28cf3641efa330a8caae4995da = function() {\n",
       "            var fsharpPlotlyRequire = requirejs.config({context:'fsharp-plotly',paths:{plotly:'https://cdn.plot.ly/plotly-latest.min'}}) || require;\n",
       "            fsharpPlotlyRequire(['plotly'], function(Plotly) {\r\n",
       "\n",
       "            var data = [{\"type\":\"scatter\",\"x\":[1,2,3,4,5],\"y\":[1,2,3,4,5],\"mode\":\"lines\",\"name\":\"Increasing\",\"line\":{},\"marker\":{}},{\"type\":\"scatter\",\"x\":[1,2,3,4,5],\"y\":[5,4,3,2,1],\"mode\":\"lines\",\"name\":\"Decreasing\",\"line\":{},\"marker\":{}}];\n",
       "            var layout = {\"title\":{\"text\":\"Trend\"}};\n",
       "            var config = {};\n",
       "            Plotly.newPlot('e7a39b28-cf36-41ef-a330-a8caae4995da', data, layout, config);\r\n",
       "});\n",
       "            };\n",
       "            if ((typeof(requirejs) !==  typeof(Function)) || (typeof(requirejs.config) !== typeof(Function))) {\n",
       "                var script = document.createElement(\"script\");\n",
       "                script.setAttribute(\"src\", \"https://cdnjs.cloudflare.com/ajax/libs/require.js/2.3.6/require.min.js\");\n",
       "                script.onload = function(){\n",
       "                    renderPlotly_e7a39b28cf3641efa330a8caae4995da();\n",
       "                };\n",
       "                document.getElementsByTagName(\"head\")[0].appendChild(script);\n",
       "            }\n",
       "            else {\n",
       "                renderPlotly_e7a39b28cf3641efa330a8caae4995da();\n",
       "            }\r\n",
       "</script>\r\n"
      ]
     },
     "metadata": {},
     "output_type": "display_data"
    }
   ],
   "metadata": {
    "dotnet_interactive": {
     "language": "fsharp"
    }
   }
  },
  {
   "cell_type": "markdown",
   "source": [
    "# Hiding Legend Items\r\n"
   ],
   "metadata": {}
  },
  {
   "cell_type": "code",
   "execution_count": null,
   "source": [
    "let x=[|1; 2; 3; 4; 5|]\r\n",
    "[\r\n",
    "Chart.Scatter(x,[|1; 2; 3; 4; 5|], StyleParam.Mode.Lines,Showlegend=false)\r\n",
    "Chart.Scatter(x,[|5; 4; 3; 2; 1|], StyleParam.Mode.Lines)\r\n",
    " ]\r\n",
    "|> Chart.combine"
   ],
   "outputs": [
    {
     "output_type": "display_data",
     "data": {
      "text/html": [
       "<div id=\"694080e2-69ba-49c0-8d03-cb49d3c0864a\" style=\"width: 600px; height: 600px;\"><!-- Plotly chart will be drawn inside this DIV --></div>\r\n",
       "<script type=\"text/javascript\">\r\n",
       "\n",
       "            var renderPlotly_694080e269ba49c08d03cb49d3c0864a = function() {\n",
       "            var fsharpPlotlyRequire = requirejs.config({context:'fsharp-plotly',paths:{plotly:'https://cdn.plot.ly/plotly-latest.min'}}) || require;\n",
       "            fsharpPlotlyRequire(['plotly'], function(Plotly) {\r\n",
       "\n",
       "            var data = [{\"type\":\"scatter\",\"x\":[1,2,3,4,5],\"y\":[1,2,3,4,5],\"mode\":\"lines\",\"showlegend\":false,\"line\":{},\"marker\":{}},{\"type\":\"scatter\",\"x\":[1,2,3,4,5],\"y\":[5,4,3,2,1],\"mode\":\"lines\",\"line\":{},\"marker\":{}}];\n",
       "            var layout = {};\n",
       "            var config = {};\n",
       "            Plotly.newPlot('694080e2-69ba-49c0-8d03-cb49d3c0864a', data, layout, config);\r\n",
       "});\n",
       "            };\n",
       "            if ((typeof(requirejs) !==  typeof(Function)) || (typeof(requirejs.config) !== typeof(Function))) {\n",
       "                var script = document.createElement(\"script\");\n",
       "                script.setAttribute(\"src\", \"https://cdnjs.cloudflare.com/ajax/libs/require.js/2.3.6/require.min.js\");\n",
       "                script.onload = function(){\n",
       "                    renderPlotly_694080e269ba49c08d03cb49d3c0864a();\n",
       "                };\n",
       "                document.getElementsByTagName(\"head\")[0].appendChild(script);\n",
       "            }\n",
       "            else {\n",
       "                renderPlotly_694080e269ba49c08d03cb49d3c0864a();\n",
       "            }\r\n",
       "</script>\r\n"
      ]
     },
     "metadata": {}
    }
   ],
   "metadata": {
    "dotnet_interactive": {
     "language": "fsharp"
    }
   }
  },
  {
   "cell_type": "markdown",
   "source": [
    "# Hiding the Trace Initially\r\n"
   ],
   "metadata": {}
  },
  {
   "cell_type": "code",
   "execution_count": null,
   "source": [
    "let x=[|1; 2; 3; 4; 5|]\r\n",
    "[\r\n",
    "Chart.Scatter(x,[|1; 2; 3; 4; 5|], StyleParam.Mode.Lines)\r\n",
    "Chart.Scatter(x,[|5; 4; 3; 2; 1|], StyleParam.Mode.Lines)\r\n",
    " ]\r\n",
    "|> Chart.combine\r\n",
    "\r\n",
    "// visible='legendonly' neeed to be implemented"
   ],
   "outputs": [
    {
     "output_type": "display_data",
     "data": {
      "text/html": [
       "<div id=\"5baa58f4-8da3-4d07-a144-0e203080b9ea\" style=\"width: 600px; height: 600px;\"><!-- Plotly chart will be drawn inside this DIV --></div>\r\n",
       "<script type=\"text/javascript\">\r\n",
       "\n",
       "            var renderPlotly_5baa58f48da34d07a1440e203080b9ea = function() {\n",
       "            var fsharpPlotlyRequire = requirejs.config({context:'fsharp-plotly',paths:{plotly:'https://cdn.plot.ly/plotly-latest.min'}}) || require;\n",
       "            fsharpPlotlyRequire(['plotly'], function(Plotly) {\r\n",
       "\n",
       "            var data = [{\"type\":\"scatter\",\"x\":[1,2,3,4,5],\"y\":[1,2,3,4,5],\"mode\":\"lines\",\"line\":{},\"marker\":{}},{\"type\":\"scatter\",\"x\":[1,2,3,4,5],\"y\":[5,4,3,2,1],\"mode\":\"lines\",\"line\":{},\"marker\":{}}];\n",
       "            var layout = {};\n",
       "            var config = {};\n",
       "            Plotly.newPlot('5baa58f4-8da3-4d07-a144-0e203080b9ea', data, layout, config);\r\n",
       "});\n",
       "            };\n",
       "            if ((typeof(requirejs) !==  typeof(Function)) || (typeof(requirejs.config) !== typeof(Function))) {\n",
       "                var script = document.createElement(\"script\");\n",
       "                script.setAttribute(\"src\", \"https://cdnjs.cloudflare.com/ajax/libs/require.js/2.3.6/require.min.js\");\n",
       "                script.onload = function(){\n",
       "                    renderPlotly_5baa58f48da34d07a1440e203080b9ea();\n",
       "                };\n",
       "                document.getElementsByTagName(\"head\")[0].appendChild(script);\n",
       "            }\n",
       "            else {\n",
       "                renderPlotly_5baa58f48da34d07a1440e203080b9ea();\n",
       "            }\r\n",
       "</script>\r\n"
      ]
     },
     "metadata": {}
    }
   ],
   "metadata": {
    "dotnet_interactive": {
     "language": "fsharp"
    }
   }
  },
  {
   "cell_type": "markdown",
   "source": [
    "# Size of Legend Items\r\n"
   ],
   "metadata": {}
  },
  {
   "cell_type": "markdown",
   "source": [
    "In this example itemsizing attribute determines the legend items symbols remain constant, regardless of how tiny/huge the bubbles would be in the graph.\r\n",
    "\r\n"
   ],
   "metadata": {}
  },
  {
   "cell_type": "code",
   "execution_count": null,
   "source": [
    "let x=[|1; 2; 3; 4; 5|]\r\n",
    "let marker = Marker.init(MultiSizes=[40; 60; 80; 100]);\r\n",
    "\r\n",
    "[\r\n",
    "Chart.Scatter(x,[|1; 2; 3; 4; 5|], StyleParam.Mode.Markers)\r\n",
    "Chart.Scatter(x,[|5; 4; 3; 2; 1|], StyleParam.Mode.Markers)\r\n",
    " ]\r\n",
    "|> Chart.combine\r\n",
    "|> Chart.withMarker(marker)"
   ],
   "outputs": [
    {
     "data": {
      "text/html": [
       "<div id=\"02bbfecd-3146-4021-a50f-88cec5ff0fd1\" style=\"width: 600px; height: 600px;\"><!-- Plotly chart will be drawn inside this DIV --></div>\r\n",
       "<script type=\"text/javascript\">\r\n",
       "\n",
       "            var renderPlotly_02bbfecd31464021a50f88cec5ff0fd1 = function() {\n",
       "            var fsharpPlotlyRequire = requirejs.config({context:'fsharp-plotly',paths:{plotly:'https://cdn.plot.ly/plotly-latest.min'}}) || require;\n",
       "            fsharpPlotlyRequire(['plotly'], function(Plotly) {\r\n",
       "\n",
       "            var data = [{\"type\":\"scatter\",\"x\":[1,2,3,4,5],\"y\":[1,2,3,4,5],\"mode\":\"markers\",\"line\":{},\"marker\":{\"size\":[40,60,80,100]}},{\"type\":\"scatter\",\"x\":[1,2,3,4,5],\"y\":[5,4,3,2,1],\"mode\":\"markers\",\"line\":{},\"marker\":{\"size\":[40,60,80,100]}}];\n",
       "            var layout = {};\n",
       "            var config = {};\n",
       "            Plotly.newPlot('02bbfecd-3146-4021-a50f-88cec5ff0fd1', data, layout, config);\r\n",
       "});\n",
       "            };\n",
       "            if ((typeof(requirejs) !==  typeof(Function)) || (typeof(requirejs.config) !== typeof(Function))) {\n",
       "                var script = document.createElement(\"script\");\n",
       "                script.setAttribute(\"src\", \"https://cdnjs.cloudflare.com/ajax/libs/require.js/2.3.6/require.min.js\");\n",
       "                script.onload = function(){\n",
       "                    renderPlotly_02bbfecd31464021a50f88cec5ff0fd1();\n",
       "                };\n",
       "                document.getElementsByTagName(\"head\")[0].appendChild(script);\n",
       "            }\n",
       "            else {\n",
       "                renderPlotly_02bbfecd31464021a50f88cec5ff0fd1();\n",
       "            }\r\n",
       "</script>\r\n"
      ]
     },
     "metadata": {},
     "output_type": "display_data"
    }
   ],
   "metadata": {
    "dotnet_interactive": {
     "language": "fsharp"
    }
   }
  },
  {
   "cell_type": "markdown",
   "source": [
    "# Grouped Legend Items\r\n"
   ],
   "metadata": {}
  },
  {
   "cell_type": "markdown",
   "source": [
    "Grouping legend items together by setting the legendgroup attribute of traces causes their legend entries to be next to each other, and clicking on any legend entry in the group will show or hide the whole group. The legendgrouptitle attribute can be used to give titles to groups.\r\n",
    "\r\n"
   ],
   "metadata": {}
  },
  {
   "cell_type": "code",
   "execution_count": null,
   "source": [
    "let x=[|1; 2; 3|]\r\n",
    "let marker = Marker.init(MultiSizes=[40; 60; 80; 100]);\r\n",
    "\r\n",
    "[\r\n",
    "Chart.Scatter(x,[|2;1;3;|], StyleParam.Mode.Markers, Name=\"first legend group\",Color=\"Crimson\")\r\n",
    "|> GenericChart.mapTrace(fun x -> \r\n",
    "        x.SetValue(\"legendgroup\", \"group\")\r\n",
    "        x.SetValue(\"legendgrouptitletext\", \"First Group Title\")\r\n",
    "        x)\r\n",
    "Chart.Scatter(x,[|2; 2; 2;|], StyleParam.Mode.Lines, Name=\"first legend group - average\",Color=\"Crimson\")\r\n",
    "|> GenericChart.mapTrace(fun x -> \r\n",
    "        x.SetValue(\"legendgroup\", \"group\")\r\n",
    "        x.SetValue(\"legendgrouptitletext\", \"first legend group - average\")\r\n",
    "        x)\r\n",
    "\r\n",
    "\r\n",
    "Chart.Scatter(x,[|4;9;2;|], StyleParam.Mode.Markers, Name=\"group2\",Color=\"MediumPurple\")\r\n",
    "|> GenericChart.mapTrace(fun x -> \r\n",
    "        x.SetValue(\"legendgroup\", \"group2\")\r\n",
    "        x.SetValue(\"legendgrouptitletext\", \"First Group Title\")\r\n",
    "        x)\r\n",
    "Chart.Scatter(x,[|5; 5; 5;|], StyleParam.Mode.Lines, Name=\"second legend group - average\",Color=\"MediumPurple\")\r\n",
    "|> GenericChart.mapTrace(fun x -> \r\n",
    "        x.SetValue(\"legendgroup\", \"group2\")\r\n",
    "        x.SetValue(\"legendgrouptitletext\", \"second legend group - average\")\r\n",
    "        x)\r\n",
    " ]\r\n",
    "\r\n",
    "|> Chart.combine\r\n",
    "|> Chart.withTitle(\"Try Clicking on the Legend Items!\")"
   ],
   "outputs": [
    {
     "data": {
      "text/html": [
       "<div id=\"8e755e81-688f-40b8-b103-4a3f30c50160\" style=\"width: 600px; height: 600px;\"><!-- Plotly chart will be drawn inside this DIV --></div>\r\n",
       "<script type=\"text/javascript\">\r\n",
       "\n",
       "            var renderPlotly_8e755e81688f40b8b1034a3f30c50160 = function() {\n",
       "            var fsharpPlotlyRequire = requirejs.config({context:'fsharp-plotly',paths:{plotly:'https://cdn.plot.ly/plotly-latest.min'}}) || require;\n",
       "            fsharpPlotlyRequire(['plotly'], function(Plotly) {\r\n",
       "\n",
       "            var data = [{\"type\":\"scatter\",\"x\":[1,2,3],\"y\":[2,1,3],\"mode\":\"markers\",\"name\":\"first legend group\",\"line\":{\"color\":\"Crimson\"},\"marker\":{\"color\":\"Crimson\"},\"legendgroup\":\"group\",\"legendgrouptitletext\":\"First Group Title\"},{\"type\":\"scatter\",\"x\":[1,2,3],\"y\":[2,2,2],\"mode\":\"lines\",\"name\":\"first legend group - average\",\"line\":{\"color\":\"Crimson\"},\"marker\":{\"color\":\"Crimson\"},\"legendgroup\":\"group\",\"legendgrouptitletext\":\"first legend group - average\"},{\"type\":\"scatter\",\"x\":[1,2,3],\"y\":[4,9,2],\"mode\":\"markers\",\"name\":\"group2\",\"line\":{\"color\":\"MediumPurple\"},\"marker\":{\"color\":\"MediumPurple\"},\"legendgroup\":\"group2\",\"legendgrouptitletext\":\"First Group Title\"},{\"type\":\"scatter\",\"x\":[1,2,3],\"y\":[5,5,5],\"mode\":\"lines\",\"name\":\"second legend group - average\",\"line\":{\"color\":\"MediumPurple\"},\"marker\":{\"color\":\"MediumPurple\"},\"legendgroup\":\"group2\",\"legendgrouptitletext\":\"second legend group - average\"}];\n",
       "            var layout = {\"title\":{\"text\":\"Try Clicking on the Legend Items!\"}};\n",
       "            var config = {};\n",
       "            Plotly.newPlot('8e755e81-688f-40b8-b103-4a3f30c50160', data, layout, config);\r\n",
       "});\n",
       "            };\n",
       "            if ((typeof(requirejs) !==  typeof(Function)) || (typeof(requirejs.config) !== typeof(Function))) {\n",
       "                var script = document.createElement(\"script\");\n",
       "                script.setAttribute(\"src\", \"https://cdnjs.cloudflare.com/ajax/libs/require.js/2.3.6/require.min.js\");\n",
       "                script.onload = function(){\n",
       "                    renderPlotly_8e755e81688f40b8b1034a3f30c50160();\n",
       "                };\n",
       "                document.getElementsByTagName(\"head\")[0].appendChild(script);\n",
       "            }\n",
       "            else {\n",
       "                renderPlotly_8e755e81688f40b8b1034a3f30c50160();\n",
       "            }\r\n",
       "</script>\r\n"
      ]
     },
     "metadata": {},
     "output_type": "display_data"
    }
   ],
   "metadata": {
    "dotnet_interactive": {
     "language": "fsharp"
    }
   }
  },
  {
   "cell_type": "markdown",
   "source": [
    "You can also hide entries in grouped legends, preserving the grouped show/hide behaviour. This is what Plotly Express does with its legends.\r\n",
    "\r\n"
   ],
   "metadata": {}
  },
  {
   "cell_type": "code",
   "execution_count": null,
   "source": [
    "let x=[|1; 2; 3|]\r\n",
    "let marker = Marker.init(MultiSizes=[40; 60; 80; 100]);\r\n",
    "\r\n",
    "[\r\n",
    "Chart.Scatter(x,[|2;1;3;|], StyleParam.Mode.Markers, Name=\"first legend group\",Color=\"Crimson\")\r\n",
    "|> GenericChart.mapTrace(fun x -> \r\n",
    "        x.SetValue(\"legendgroup\", \"group\")\r\n",
    "        x)\r\n",
    "Chart.Scatter(x,[|2; 2; 2;|], StyleParam.Mode.Lines, Name=\"first legend group - average\",Color=\"Crimson\")\r\n",
    "|> GenericChart.mapTrace(fun x -> \r\n",
    "        x.SetValue(\"legendgroup\", \"group\")\r\n",
    "        x)\r\n",
    "\r\n",
    "\r\n",
    "Chart.Scatter(x,[|4;9;2;|], StyleParam.Mode.Markers, Name=\"group2\",Color=\"MediumPurple\")\r\n",
    "|> GenericChart.mapTrace(fun x -> \r\n",
    "        x.SetValue(\"legendgroup\", \"group2\")\r\n",
    "        x)\r\n",
    "Chart.Scatter(x,[|5; 5; 5;|], StyleParam.Mode.Lines, Name=\"second legend group - average\",Color=\"MediumPurple\")\r\n",
    "|> GenericChart.mapTrace(fun x -> \r\n",
    "        x.SetValue(\"legendgroup\", \"group2\")\r\n",
    "        x)\r\n",
    " ]\r\n",
    "\r\n",
    "|> Chart.combine\r\n",
    "|> Chart.withTitle(\"Try Clicking on the Legend Items!\")"
   ],
   "outputs": [
    {
     "data": {
      "text/html": [
       "<div id=\"5ccfcf9e-b5f2-4d0a-98af-6f9ca909b77e\" style=\"width: 600px; height: 600px;\"><!-- Plotly chart will be drawn inside this DIV --></div>\r\n",
       "<script type=\"text/javascript\">\r\n",
       "\n",
       "            var renderPlotly_5ccfcf9eb5f24d0a98af6f9ca909b77e = function() {\n",
       "            var fsharpPlotlyRequire = requirejs.config({context:'fsharp-plotly',paths:{plotly:'https://cdn.plot.ly/plotly-latest.min'}}) || require;\n",
       "            fsharpPlotlyRequire(['plotly'], function(Plotly) {\r\n",
       "\n",
       "            var data = [{\"type\":\"scatter\",\"x\":[1,2,3],\"y\":[2,1,3],\"mode\":\"markers\",\"name\":\"first legend group\",\"line\":{\"color\":\"Crimson\"},\"marker\":{\"color\":\"Crimson\"},\"legendgroup\":\"group\"},{\"type\":\"scatter\",\"x\":[1,2,3],\"y\":[2,2,2],\"mode\":\"lines\",\"name\":\"first legend group - average\",\"line\":{\"color\":\"Crimson\"},\"marker\":{\"color\":\"Crimson\"},\"legendgroup\":\"group\"},{\"type\":\"scatter\",\"x\":[1,2,3],\"y\":[4,9,2],\"mode\":\"markers\",\"name\":\"group2\",\"line\":{\"color\":\"MediumPurple\"},\"marker\":{\"color\":\"MediumPurple\"},\"legendgroup\":\"group2\"},{\"type\":\"scatter\",\"x\":[1,2,3],\"y\":[5,5,5],\"mode\":\"lines\",\"name\":\"second legend group - average\",\"line\":{\"color\":\"MediumPurple\"},\"marker\":{\"color\":\"MediumPurple\"},\"legendgroup\":\"group2\"}];\n",
       "            var layout = {\"title\":{\"text\":\"Try Clicking on the Legend Items!\"}};\n",
       "            var config = {};\n",
       "            Plotly.newPlot('5ccfcf9e-b5f2-4d0a-98af-6f9ca909b77e', data, layout, config);\r\n",
       "});\n",
       "            };\n",
       "            if ((typeof(requirejs) !==  typeof(Function)) || (typeof(requirejs.config) !== typeof(Function))) {\n",
       "                var script = document.createElement(\"script\");\n",
       "                script.setAttribute(\"src\", \"https://cdnjs.cloudflare.com/ajax/libs/require.js/2.3.6/require.min.js\");\n",
       "                script.onload = function(){\n",
       "                    renderPlotly_5ccfcf9eb5f24d0a98af6f9ca909b77e();\n",
       "                };\n",
       "                document.getElementsByTagName(\"head\")[0].appendChild(script);\n",
       "            }\n",
       "            else {\n",
       "                renderPlotly_5ccfcf9eb5f24d0a98af6f9ca909b77e();\n",
       "            }\r\n",
       "</script>\r\n"
      ]
     },
     "metadata": {},
     "output_type": "display_data"
    }
   ],
   "metadata": {
    "dotnet_interactive": {
     "language": "fsharp"
    }
   }
  }
 ],
 "nbformat": 4,
 "nbformat_minor": 2
}