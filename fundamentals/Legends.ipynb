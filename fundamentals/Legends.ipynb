{
 "metadata": {
  "kernelspec": {
   "display_name": ".NET (F#)",
   "language": "F#",
   "name": ".net-fsharp"
  },
  "language_info": {
   "name": "F#"
  }
 },
 "cells": [
  {
   "cell_type": "code",
   "execution_count": null,
   "source": [
    "#r \"nuget: Plotly.NET, 2.0.0-preview.7\"\r\n",
    "#r \"nuget: Plotly.NET.Interactive, 2.0.0-preview.7\"\r\n",
    "#r \"nuget: newtonsoft.json\"\r\n",
    "open Plotly.NET"
   ],
   "outputs": [
    {
     "data": {
      "text/html": [
       "<div><div></div><div></div><div><strong>Installed Packages</strong><ul><li><span>newtonsoft.json, 13.0.1</span></li><li><span>Plotly.NET, 2.0.0-preview.7</span></li><li><span>Plotly.NET.Interactive, 2.0.0-preview.7</span></li></ul></div></div>"
      ]
     },
     "metadata": {},
     "output_type": "display_data"
    },
    {
     "data": {
      "text/markdown": [
       "Loading extensions from `Plotly.NET.Interactive.dll`"
      ]
     },
     "metadata": {},
     "output_type": "display_data"
    },
    {
     "data": {
      "text/markdown": [
       "Added Kernel Extension including formatters for Plotly.NET charts."
      ]
     },
     "metadata": {},
     "output_type": "display_data"
    }
   ],
   "metadata": {
    "dotnet_interactive": {
     "language": "fsharp"
    }
   }
  },
  {
   "cell_type": "markdown",
   "source": [
    "# Legend Order\r\n",
    "\r\n"
   ],
   "metadata": {}
  },
  {
   "cell_type": "code",
   "execution_count": null,
   "source": [
    "let x=[\"a\"; \"b\"]\r\n",
    "[\r\n",
    "Chart.Column(x,[1;2], Name = \"first\")\r\n",
    "Chart.Column(x,[2;1], Name = \"second\")  \r\n",
    "Chart.Column(x,[1;2], Name = \"third\")\r\n",
    "Chart.Column(x,[2;1], Name = \"fourth\")  \r\n",
    "]\r\n",
    "|> Chart.combine\r\n"
   ],
   "outputs": [
    {
     "data": {
      "text/html": [
       "<div id=\"0f32031f-1291-43ec-a064-775c09f0f18c\" style=\"width: 600px; height: 600px;\"><!-- Plotly chart will be drawn inside this DIV --></div>\r\n",
       "<script type=\"text/javascript\">\r\n",
       "\n",
       "            var renderPlotly_0f32031f129143eca064775c09f0f18c = function() {\n",
       "            var fsharpPlotlyRequire = requirejs.config({context:'fsharp-plotly',paths:{plotly:'https://cdn.plot.ly/plotly-latest.min'}}) || require;\n",
       "            fsharpPlotlyRequire(['plotly'], function(Plotly) {\r\n",
       "\n",
       "            var data = [{\"type\":\"bar\",\"x\":[\"a\",\"b\"],\"y\":[1,2],\"marker\":{},\"name\":\"first\"},{\"type\":\"bar\",\"x\":[\"a\",\"b\"],\"y\":[2,1],\"marker\":{},\"name\":\"second\"},{\"type\":\"bar\",\"x\":[\"a\",\"b\"],\"y\":[1,2],\"marker\":{},\"name\":\"third\"},{\"type\":\"bar\",\"x\":[\"a\",\"b\"],\"y\":[2,1],\"marker\":{},\"name\":\"fourth\"}];\n",
       "            var layout = {};\n",
       "            var config = {};\n",
       "            Plotly.newPlot('0f32031f-1291-43ec-a064-775c09f0f18c', data, layout, config);\r\n",
       "});\n",
       "            };\n",
       "            if ((typeof(requirejs) !==  typeof(Function)) || (typeof(requirejs.config) !== typeof(Function))) {\n",
       "                var script = document.createElement(\"script\");\n",
       "                script.setAttribute(\"src\", \"https://cdnjs.cloudflare.com/ajax/libs/require.js/2.3.6/require.min.js\");\n",
       "                script.onload = function(){\n",
       "                    renderPlotly_0f32031f129143eca064775c09f0f18c();\n",
       "                };\n",
       "                document.getElementsByTagName(\"head\")[0].appendChild(script);\n",
       "            }\n",
       "            else {\n",
       "                renderPlotly_0f32031f129143eca064775c09f0f18c();\n",
       "            }\r\n",
       "</script>\r\n"
      ]
     },
     "metadata": {},
     "output_type": "display_data"
    }
   ],
   "metadata": {
    "dotnet_interactive": {
     "language": "fsharp"
    }
   }
  },
  {
   "cell_type": "code",
   "execution_count": null,
   "source": [
    "// let x=[\"a\"; \"b\"]\r\n",
    "// [\r\n",
    "\r\n",
    "// Chart.Column(x,[2;1], Name = \"fourth\")\r\n",
    "// |> GenericChart.mapTrace(fun x -> \r\n",
    "//      x.SetValue(\"legendrank\", 4)\r\n",
    "//      x)\r\n",
    "// Chart.Column(x,[2;1], Name = \"second\")\r\n",
    "// |> GenericChart.mapTrace(fun x -> \r\n",
    "//      x.SetValue(\"legendrank\", 2)\r\n",
    "//      x)\r\n",
    "\r\n",
    "// Chart.Column(x,[1;2], Name = \"first\")\r\n",
    "// |> GenericChart.mapTrace(fun x -> \r\n",
    "//      x.SetValue(\"legendrank\", 1)\r\n",
    "//      x)\r\n",
    "\r\n",
    "// Chart.Column(x,[1;2], Name = \"third\")\r\n",
    "// |> GenericChart.mapTrace(fun x -> \r\n",
    "//      x.SetValue(\"legendrank\", 3)\r\n",
    "//      x)\r\n",
    "// ]\r\n",
    "// |> Chart.combine"
   ],
   "outputs": [],
   "metadata": {
    "dotnet_interactive": {
     "language": "fsharp"
    }
   }
  },
  {
   "cell_type": "markdown",
   "source": [
    "# Legend Item Names"
   ],
   "metadata": {}
  },
  {
   "cell_type": "markdown",
   "source": [
    "Legend items appear per trace, and the legend item name is taken from the trace's name attribute.\r\n",
    "\r\n"
   ],
   "metadata": {}
  },
  {
   "cell_type": "code",
   "execution_count": null,
   "source": [
    "let x=[|1; 2; 3; 4; 5|]\r\n",
    "[\r\n",
    "Chart.Scatter(x,[|1; 2; 3; 4; 5|], StyleParam.Mode.Lines,Name=\"Positive\")\r\n",
    "Chart.Scatter(x,[|5; 4; 3; 2; 1|], StyleParam.Mode.Lines,Name=\"Negative\")\r\n",
    " ]\r\n",
    "|> Chart.combine\r\n"
   ],
   "outputs": [
    {
     "data": {
      "text/html": [
       "<div id=\"4bc36329-2fde-450a-9ef8-1eb8e4fbe96b\" style=\"width: 600px; height: 600px;\"><!-- Plotly chart will be drawn inside this DIV --></div>\r\n",
       "<script type=\"text/javascript\">\r\n",
       "\n",
       "            var renderPlotly_4bc363292fde450a9ef81eb8e4fbe96b = function() {\n",
       "            var fsharpPlotlyRequire = requirejs.config({context:'fsharp-plotly',paths:{plotly:'https://cdn.plot.ly/plotly-latest.min'}}) || require;\n",
       "            fsharpPlotlyRequire(['plotly'], function(Plotly) {\r\n",
       "\n",
       "            var data = [{\"type\":\"scatter\",\"x\":[1,2,3,4,5],\"y\":[1,2,3,4,5],\"mode\":\"lines\",\"name\":\"Positive\",\"line\":{},\"marker\":{}},{\"type\":\"scatter\",\"x\":[1,2,3,4,5],\"y\":[5,4,3,2,1],\"mode\":\"lines\",\"name\":\"Negative\",\"line\":{},\"marker\":{}}];\n",
       "            var layout = {};\n",
       "            var config = {};\n",
       "            Plotly.newPlot('4bc36329-2fde-450a-9ef8-1eb8e4fbe96b', data, layout, config);\r\n",
       "});\n",
       "            };\n",
       "            if ((typeof(requirejs) !==  typeof(Function)) || (typeof(requirejs.config) !== typeof(Function))) {\n",
       "                var script = document.createElement(\"script\");\n",
       "                script.setAttribute(\"src\", \"https://cdnjs.cloudflare.com/ajax/libs/require.js/2.3.6/require.min.js\");\n",
       "                script.onload = function(){\n",
       "                    renderPlotly_4bc363292fde450a9ef81eb8e4fbe96b();\n",
       "                };\n",
       "                document.getElementsByTagName(\"head\")[0].appendChild(script);\n",
       "            }\n",
       "            else {\n",
       "                renderPlotly_4bc363292fde450a9ef81eb8e4fbe96b();\n",
       "            }\r\n",
       "</script>\r\n"
      ]
     },
     "metadata": {},
     "output_type": "display_data"
    }
   ],
   "metadata": {
    "dotnet_interactive": {
     "language": "fsharp"
    }
   }
  },
  {
   "cell_type": "markdown",
   "source": [
    "# Legend titles\r\n"
   ],
   "metadata": {}
  },
  {
   "cell_type": "code",
   "execution_count": null,
   "source": [
    "let x=[|1; 2; 3; 4; 5|]\r\n",
    "let layout =\r\n",
    "    let temp = Layout()\r\n",
    "    temp?legend_title_text <- \"Trend\"\r\n",
    "    temp\r\n",
    "[\r\n",
    "Chart.Scatter(x,[|1; 2; 3; 4; 5|], StyleParam.Mode.Lines,Name=\"Increasing\")\r\n",
    "Chart.Scatter(x,[|5; 4; 3; 2; 1|], StyleParam.Mode.Lines,Name=\"Decreasing\")\r\n",
    " ]\r\n",
    "|> Chart.combine\r\n",
    "|> Chart.withTitle(\"Trend\")\r\n",
    "|> Chart.withLayout(layout)\r\n"
   ],
   "outputs": [
    {
     "data": {
      "text/html": [
       "<div id=\"538f2e2a-202b-4a85-9528-7c069747fb8f\" style=\"width: 600px; height: 600px;\"><!-- Plotly chart will be drawn inside this DIV --></div>\r\n",
       "<script type=\"text/javascript\">\r\n",
       "\n",
       "            var renderPlotly_538f2e2a202b4a8595287c069747fb8f = function() {\n",
       "            var fsharpPlotlyRequire = requirejs.config({context:'fsharp-plotly',paths:{plotly:'https://cdn.plot.ly/plotly-latest.min'}}) || require;\n",
       "            fsharpPlotlyRequire(['plotly'], function(Plotly) {\r\n",
       "\n",
       "            var data = [{\"type\":\"scatter\",\"x\":[1,2,3,4,5],\"y\":[1,2,3,4,5],\"mode\":\"lines\",\"name\":\"Increasing\",\"line\":{},\"marker\":{}},{\"type\":\"scatter\",\"x\":[1,2,3,4,5],\"y\":[5,4,3,2,1],\"mode\":\"lines\",\"name\":\"Decreasing\",\"line\":{},\"marker\":{}}];\n",
       "            var layout = {\"title\":{\"text\":\"Trend\"},\"legend_title_text\":\"Trend\"};\n",
       "            var config = {};\n",
       "            Plotly.newPlot('538f2e2a-202b-4a85-9528-7c069747fb8f', data, layout, config);\r\n",
       "});\n",
       "            };\n",
       "            if ((typeof(requirejs) !==  typeof(Function)) || (typeof(requirejs.config) !== typeof(Function))) {\n",
       "                var script = document.createElement(\"script\");\n",
       "                script.setAttribute(\"src\", \"https://cdnjs.cloudflare.com/ajax/libs/require.js/2.3.6/require.min.js\");\n",
       "                script.onload = function(){\n",
       "                    renderPlotly_538f2e2a202b4a8595287c069747fb8f();\n",
       "                };\n",
       "                document.getElementsByTagName(\"head\")[0].appendChild(script);\n",
       "            }\n",
       "            else {\n",
       "                renderPlotly_538f2e2a202b4a8595287c069747fb8f();\n",
       "            }\r\n",
       "</script>\r\n"
      ]
     },
     "metadata": {},
     "output_type": "display_data"
    }
   ],
   "metadata": {
    "dotnet_interactive": {
     "language": "fsharp"
    }
   }
  },
  {
   "cell_type": "markdown",
   "source": [
    "# Hiding Legend Items\r\n"
   ],
   "metadata": {}
  },
  {
   "cell_type": "code",
   "execution_count": null,
   "source": [
    "let x=[|1; 2; 3; 4; 5|]\r\n",
    "[\r\n",
    "Chart.Scatter(x,[|1; 2; 3; 4; 5|], StyleParam.Mode.Lines,Showlegend=false)\r\n",
    "Chart.Scatter(x,[|5; 4; 3; 2; 1|], StyleParam.Mode.Lines)\r\n",
    " ]\r\n",
    "|> Chart.combine"
   ],
   "outputs": [
    {
     "output_type": "display_data",
     "data": {
      "text/html": [
       "<div id=\"694080e2-69ba-49c0-8d03-cb49d3c0864a\" style=\"width: 600px; height: 600px;\"><!-- Plotly chart will be drawn inside this DIV --></div>\r\n",
       "<script type=\"text/javascript\">\r\n",
       "\n",
       "            var renderPlotly_694080e269ba49c08d03cb49d3c0864a = function() {\n",
       "            var fsharpPlotlyRequire = requirejs.config({context:'fsharp-plotly',paths:{plotly:'https://cdn.plot.ly/plotly-latest.min'}}) || require;\n",
       "            fsharpPlotlyRequire(['plotly'], function(Plotly) {\r\n",
       "\n",
       "            var data = [{\"type\":\"scatter\",\"x\":[1,2,3,4,5],\"y\":[1,2,3,4,5],\"mode\":\"lines\",\"showlegend\":false,\"line\":{},\"marker\":{}},{\"type\":\"scatter\",\"x\":[1,2,3,4,5],\"y\":[5,4,3,2,1],\"mode\":\"lines\",\"line\":{},\"marker\":{}}];\n",
       "            var layout = {};\n",
       "            var config = {};\n",
       "            Plotly.newPlot('694080e2-69ba-49c0-8d03-cb49d3c0864a', data, layout, config);\r\n",
       "});\n",
       "            };\n",
       "            if ((typeof(requirejs) !==  typeof(Function)) || (typeof(requirejs.config) !== typeof(Function))) {\n",
       "                var script = document.createElement(\"script\");\n",
       "                script.setAttribute(\"src\", \"https://cdnjs.cloudflare.com/ajax/libs/require.js/2.3.6/require.min.js\");\n",
       "                script.onload = function(){\n",
       "                    renderPlotly_694080e269ba49c08d03cb49d3c0864a();\n",
       "                };\n",
       "                document.getElementsByTagName(\"head\")[0].appendChild(script);\n",
       "            }\n",
       "            else {\n",
       "                renderPlotly_694080e269ba49c08d03cb49d3c0864a();\n",
       "            }\r\n",
       "</script>\r\n"
      ]
     },
     "metadata": {}
    }
   ],
   "metadata": {
    "dotnet_interactive": {
     "language": "fsharp"
    }
   }
  },
  {
   "cell_type": "markdown",
   "source": [
    "# Hiding the Trace Initially\r\n"
   ],
   "metadata": {}
  },
  {
   "cell_type": "code",
   "execution_count": null,
   "source": [
    "let x=[|1; 2; 3; 4; 5|]\r\n",
    "let layout =\r\n",
    "    let temp = Layout()\r\n",
    "    temp?Visible <- \"legendonly\"\r\n",
    "    temp\r\n",
    "[\r\n",
    "Chart.Scatter(x,[|1; 2; 3; 4; 5|], StyleParam.Mode.Lines)\r\n",
    "Chart.Scatter(x,[|5; 4; 3; 2; 1|], StyleParam.Mode.Lines)\r\n",
    " ]\r\n",
    "|> Chart.combine\r\n",
    "|> Chart.withLayout(layout)\r\n",
    "\r\n",
    "\r\n",
    "\r\n",
    "// visible='legendonly' neeed to be implemented"
   ],
   "outputs": [
    {
     "data": {
      "text/html": [
       "<div id=\"15f09aa7-8634-4424-944f-28a0b77f0282\" style=\"width: 600px; height: 600px;\"><!-- Plotly chart will be drawn inside this DIV --></div>\r\n",
       "<script type=\"text/javascript\">\r\n",
       "\n",
       "            var renderPlotly_15f09aa786344424944f28a0b77f0282 = function() {\n",
       "            var fsharpPlotlyRequire = requirejs.config({context:'fsharp-plotly',paths:{plotly:'https://cdn.plot.ly/plotly-latest.min'}}) || require;\n",
       "            fsharpPlotlyRequire(['plotly'], function(Plotly) {\r\n",
       "\n",
       "            var data = [{\"type\":\"scatter\",\"x\":[1,2,3,4,5],\"y\":[1,2,3,4,5],\"mode\":\"lines\",\"line\":{},\"marker\":{}},{\"type\":\"scatter\",\"x\":[1,2,3,4,5],\"y\":[5,4,3,2,1],\"mode\":\"lines\",\"line\":{},\"marker\":{}}];\n",
       "            var layout = {\"Visible\":\"legendonly\"};\n",
       "            var config = {};\n",
       "            Plotly.newPlot('15f09aa7-8634-4424-944f-28a0b77f0282', data, layout, config);\r\n",
       "});\n",
       "            };\n",
       "            if ((typeof(requirejs) !==  typeof(Function)) || (typeof(requirejs.config) !== typeof(Function))) {\n",
       "                var script = document.createElement(\"script\");\n",
       "                script.setAttribute(\"src\", \"https://cdnjs.cloudflare.com/ajax/libs/require.js/2.3.6/require.min.js\");\n",
       "                script.onload = function(){\n",
       "                    renderPlotly_15f09aa786344424944f28a0b77f0282();\n",
       "                };\n",
       "                document.getElementsByTagName(\"head\")[0].appendChild(script);\n",
       "            }\n",
       "            else {\n",
       "                renderPlotly_15f09aa786344424944f28a0b77f0282();\n",
       "            }\r\n",
       "</script>\r\n"
      ]
     },
     "metadata": {},
     "output_type": "display_data"
    }
   ],
   "metadata": {
    "dotnet_interactive": {
     "language": "fsharp"
    }
   }
  },
  {
   "cell_type": "markdown",
   "source": [
    "# Size of Legend Items\r\n"
   ],
   "metadata": {}
  },
  {
   "cell_type": "markdown",
   "source": [
    "In this example itemsizing attribute determines the legend items symbols remain constant, regardless of how tiny/huge the bubbles would be in the graph.\r\n",
    "\r\n"
   ],
   "metadata": {}
  },
  {
   "cell_type": "code",
   "execution_count": null,
   "source": [
    "let x=[|1; 2; 3; 4; 5|]\r\n",
    "\r\n",
    "[\r\n",
    "Chart.Scatter(x,[|1; 2; 3; 4; 5|], StyleParam.Mode.Markers)\r\n",
    "|> Chart.withMarkerStyle(Size=10,Color=\"#636EFA\");\r\n",
    "\r\n",
    "Chart.Scatter(x,[|5; 4; 3; 2; 1|], StyleParam.Mode.Markers)\r\n",
    "|> Chart.withMarkerStyle(Size=100,Color=\"#EF553B\");\r\n",
    "\r\n",
    " ]\r\n",
    "|> Chart.combine\r\n",
    "//|> Chart.withMarker(marker)"
   ],
   "outputs": [
    {
     "data": {
      "text/html": [
       "<div id=\"8dad437f-ee4a-4c3a-8c69-907bba64346d\" style=\"width: 600px; height: 600px;\"><!-- Plotly chart will be drawn inside this DIV --></div>\r\n",
       "<script type=\"text/javascript\">\r\n",
       "\n",
       "            var renderPlotly_8dad437fee4a4c3a8c69907bba64346d = function() {\n",
       "            var fsharpPlotlyRequire = requirejs.config({context:'fsharp-plotly',paths:{plotly:'https://cdn.plot.ly/plotly-latest.min'}}) || require;\n",
       "            fsharpPlotlyRequire(['plotly'], function(Plotly) {\r\n",
       "\n",
       "            var data = [{\"type\":\"scatter\",\"x\":[1,2,3,4,5],\"y\":[1,2,3,4,5],\"mode\":\"markers\",\"line\":{},\"marker\":{\"size\":10,\"color\":\"#636EFA\"}},{\"type\":\"scatter\",\"x\":[1,2,3,4,5],\"y\":[5,4,3,2,1],\"mode\":\"markers\",\"line\":{},\"marker\":{\"size\":100,\"color\":\"#EF553B\"}}];\n",
       "            var layout = {};\n",
       "            var config = {};\n",
       "            Plotly.newPlot('8dad437f-ee4a-4c3a-8c69-907bba64346d', data, layout, config);\r\n",
       "});\n",
       "            };\n",
       "            if ((typeof(requirejs) !==  typeof(Function)) || (typeof(requirejs.config) !== typeof(Function))) {\n",
       "                var script = document.createElement(\"script\");\n",
       "                script.setAttribute(\"src\", \"https://cdnjs.cloudflare.com/ajax/libs/require.js/2.3.6/require.min.js\");\n",
       "                script.onload = function(){\n",
       "                    renderPlotly_8dad437fee4a4c3a8c69907bba64346d();\n",
       "                };\n",
       "                document.getElementsByTagName(\"head\")[0].appendChild(script);\n",
       "            }\n",
       "            else {\n",
       "                renderPlotly_8dad437fee4a4c3a8c69907bba64346d();\n",
       "            }\r\n",
       "</script>\r\n"
      ]
     },
     "metadata": {},
     "output_type": "display_data"
    }
   ],
   "metadata": {
    "dotnet_interactive": {
     "language": "fsharp"
    }
   }
  },
  {
   "cell_type": "markdown",
   "source": [
    "# Grouped Legend Items\r\n"
   ],
   "metadata": {}
  },
  {
   "cell_type": "markdown",
   "source": [
    "Grouping legend items together by setting the legendgroup attribute of traces causes their legend entries to be next to each other, and clicking on any legend entry in the group will show or hide the whole group. The legendgrouptitle attribute can be used to give titles to groups.\r\n",
    "\r\n"
   ],
   "metadata": {}
  },
  {
   "cell_type": "code",
   "execution_count": null,
   "source": [
    "let x=[|1; 2; 3|]\r\n",
    "let marker = Marker.init(MultiSizes=[40; 60; 80; 100]);\r\n",
    "\r\n",
    "[\r\n",
    "Chart.Scatter(x,[|2;1;3;|], StyleParam.Mode.Markers, Name=\"first legend group\",Color=\"Crimson\")\r\n",
    "|> GenericChart.mapTrace(fun x -> \r\n",
    "        x.SetValue(\"legendgroup\", \"group\")\r\n",
    "        x.SetValue(\"legendgrouptitletext\", \"First Group Title\")\r\n",
    "        x)\r\n",
    "Chart.Scatter(x,[|2; 2; 2;|], StyleParam.Mode.Lines, Name=\"first legend group - average\",Color=\"Crimson\")\r\n",
    "|> GenericChart.mapTrace(fun x -> \r\n",
    "        x.SetValue(\"legendgroup\", \"group\")\r\n",
    "        x.SetValue(\"legendgrouptitletext\", \"first legend group - average\")\r\n",
    "        x)\r\n",
    "\r\n",
    "\r\n",
    "Chart.Scatter(x,[|4;9;2;|], StyleParam.Mode.Markers, Name=\"group2\",Color=\"MediumPurple\")\r\n",
    "|> GenericChart.mapTrace(fun x -> \r\n",
    "        x.SetValue(\"legendgroup\", \"group2\")\r\n",
    "        x.SetValue(\"legendgrouptitletext\", \"First Group Title\")\r\n",
    "        x)\r\n",
    "Chart.Scatter(x,[|5; 5; 5;|], StyleParam.Mode.Lines, Name=\"second legend group - average\",Color=\"MediumPurple\")\r\n",
    "|> GenericChart.mapTrace(fun x -> \r\n",
    "        x.SetValue(\"legendgroup\", \"group2\")\r\n",
    "        x.SetValue(\"legendgrouptitletext\", \"second legend group - average\")\r\n",
    "        x)\r\n",
    " ]\r\n",
    "\r\n",
    "|> Chart.combine\r\n",
    "|> Chart.withTitle(\"Try Clicking on the Legend Items!\")"
   ],
   "outputs": [
    {
     "output_type": "display_data",
     "data": {
      "text/html": [
       "<div id=\"8e755e81-688f-40b8-b103-4a3f30c50160\" style=\"width: 600px; height: 600px;\"><!-- Plotly chart will be drawn inside this DIV --></div>\r\n",
       "<script type=\"text/javascript\">\r\n",
       "\n",
       "            var renderPlotly_8e755e81688f40b8b1034a3f30c50160 = function() {\n",
       "            var fsharpPlotlyRequire = requirejs.config({context:'fsharp-plotly',paths:{plotly:'https://cdn.plot.ly/plotly-latest.min'}}) || require;\n",
       "            fsharpPlotlyRequire(['plotly'], function(Plotly) {\r\n",
       "\n",
       "            var data = [{\"type\":\"scatter\",\"x\":[1,2,3],\"y\":[2,1,3],\"mode\":\"markers\",\"name\":\"first legend group\",\"line\":{\"color\":\"Crimson\"},\"marker\":{\"color\":\"Crimson\"},\"legendgroup\":\"group\",\"legendgrouptitletext\":\"First Group Title\"},{\"type\":\"scatter\",\"x\":[1,2,3],\"y\":[2,2,2],\"mode\":\"lines\",\"name\":\"first legend group - average\",\"line\":{\"color\":\"Crimson\"},\"marker\":{\"color\":\"Crimson\"},\"legendgroup\":\"group\",\"legendgrouptitletext\":\"first legend group - average\"},{\"type\":\"scatter\",\"x\":[1,2,3],\"y\":[4,9,2],\"mode\":\"markers\",\"name\":\"group2\",\"line\":{\"color\":\"MediumPurple\"},\"marker\":{\"color\":\"MediumPurple\"},\"legendgroup\":\"group2\",\"legendgrouptitletext\":\"First Group Title\"},{\"type\":\"scatter\",\"x\":[1,2,3],\"y\":[5,5,5],\"mode\":\"lines\",\"name\":\"second legend group - average\",\"line\":{\"color\":\"MediumPurple\"},\"marker\":{\"color\":\"MediumPurple\"},\"legendgroup\":\"group2\",\"legendgrouptitletext\":\"second legend group - average\"}];\n",
       "            var layout = {\"title\":{\"text\":\"Try Clicking on the Legend Items!\"}};\n",
       "            var config = {};\n",
       "            Plotly.newPlot('8e755e81-688f-40b8-b103-4a3f30c50160', data, layout, config);\r\n",
       "});\n",
       "            };\n",
       "            if ((typeof(requirejs) !==  typeof(Function)) || (typeof(requirejs.config) !== typeof(Function))) {\n",
       "                var script = document.createElement(\"script\");\n",
       "                script.setAttribute(\"src\", \"https://cdnjs.cloudflare.com/ajax/libs/require.js/2.3.6/require.min.js\");\n",
       "                script.onload = function(){\n",
       "                    renderPlotly_8e755e81688f40b8b1034a3f30c50160();\n",
       "                };\n",
       "                document.getElementsByTagName(\"head\")[0].appendChild(script);\n",
       "            }\n",
       "            else {\n",
       "                renderPlotly_8e755e81688f40b8b1034a3f30c50160();\n",
       "            }\r\n",
       "</script>\r\n"
      ]
     },
     "metadata": {}
    }
   ],
   "metadata": {
    "dotnet_interactive": {
     "language": "fsharp"
    }
   }
  },
  {
   "cell_type": "markdown",
   "source": [
    "You can also hide entries in grouped legends, preserving the grouped show/hide behaviour. This is what Plotly Express does with its legends.\r\n",
    "\r\n"
   ],
   "metadata": {}
  },
  {
   "cell_type": "code",
   "execution_count": null,
   "source": [
    "let x=[|1; 2; 3|]\r\n",
    "let marker = Marker.init(MultiSizes=[40; 60; 80; 100]);\r\n",
    "\r\n",
    "[\r\n",
    "Chart.Scatter(x,[|2;1;3;|], StyleParam.Mode.Markers, Name=\"first legend group\",Color=\"Crimson\")\r\n",
    "|> GenericChart.mapTrace(fun x -> \r\n",
    "        x.SetValue(\"legendgroup\", \"group\")\r\n",
    "        x)\r\n",
    "Chart.Scatter(x,[|2; 2; 2;|], StyleParam.Mode.Lines, Name=\"first legend group - average\",Color=\"Crimson\")\r\n",
    "|> GenericChart.mapTrace(fun x -> \r\n",
    "        x.SetValue(\"legendgroup\", \"group\")\r\n",
    "        x)\r\n",
    "\r\n",
    "\r\n",
    "Chart.Scatter(x,[|4;9;2;|], StyleParam.Mode.Markers, Name=\"group2\",Color=\"MediumPurple\")\r\n",
    "|> GenericChart.mapTrace(fun x -> \r\n",
    "        x.SetValue(\"legendgroup\", \"group2\")\r\n",
    "        x)\r\n",
    "Chart.Scatter(x,[|5; 5; 5;|], StyleParam.Mode.Lines, Name=\"second legend group - average\",Color=\"MediumPurple\")\r\n",
    "|> GenericChart.mapTrace(fun x -> \r\n",
    "        x.SetValue(\"legendgroup\", \"group2\")\r\n",
    "        x)\r\n",
    " ]\r\n",
    "\r\n",
    "|> Chart.combine\r\n",
    "|> Chart.withTitle(\"Try Clicking on the Legend Items!\")"
   ],
   "outputs": [
    {
     "output_type": "display_data",
     "data": {
      "text/html": [
       "<div id=\"5ccfcf9e-b5f2-4d0a-98af-6f9ca909b77e\" style=\"width: 600px; height: 600px;\"><!-- Plotly chart will be drawn inside this DIV --></div>\r\n",
       "<script type=\"text/javascript\">\r\n",
       "\n",
       "            var renderPlotly_5ccfcf9eb5f24d0a98af6f9ca909b77e = function() {\n",
       "            var fsharpPlotlyRequire = requirejs.config({context:'fsharp-plotly',paths:{plotly:'https://cdn.plot.ly/plotly-latest.min'}}) || require;\n",
       "            fsharpPlotlyRequire(['plotly'], function(Plotly) {\r\n",
       "\n",
       "            var data = [{\"type\":\"scatter\",\"x\":[1,2,3],\"y\":[2,1,3],\"mode\":\"markers\",\"name\":\"first legend group\",\"line\":{\"color\":\"Crimson\"},\"marker\":{\"color\":\"Crimson\"},\"legendgroup\":\"group\"},{\"type\":\"scatter\",\"x\":[1,2,3],\"y\":[2,2,2],\"mode\":\"lines\",\"name\":\"first legend group - average\",\"line\":{\"color\":\"Crimson\"},\"marker\":{\"color\":\"Crimson\"},\"legendgroup\":\"group\"},{\"type\":\"scatter\",\"x\":[1,2,3],\"y\":[4,9,2],\"mode\":\"markers\",\"name\":\"group2\",\"line\":{\"color\":\"MediumPurple\"},\"marker\":{\"color\":\"MediumPurple\"},\"legendgroup\":\"group2\"},{\"type\":\"scatter\",\"x\":[1,2,3],\"y\":[5,5,5],\"mode\":\"lines\",\"name\":\"second legend group - average\",\"line\":{\"color\":\"MediumPurple\"},\"marker\":{\"color\":\"MediumPurple\"},\"legendgroup\":\"group2\"}];\n",
       "            var layout = {\"title\":{\"text\":\"Try Clicking on the Legend Items!\"}};\n",
       "            var config = {};\n",
       "            Plotly.newPlot('5ccfcf9e-b5f2-4d0a-98af-6f9ca909b77e', data, layout, config);\r\n",
       "});\n",
       "            };\n",
       "            if ((typeof(requirejs) !==  typeof(Function)) || (typeof(requirejs.config) !== typeof(Function))) {\n",
       "                var script = document.createElement(\"script\");\n",
       "                script.setAttribute(\"src\", \"https://cdnjs.cloudflare.com/ajax/libs/require.js/2.3.6/require.min.js\");\n",
       "                script.onload = function(){\n",
       "                    renderPlotly_5ccfcf9eb5f24d0a98af6f9ca909b77e();\n",
       "                };\n",
       "                document.getElementsByTagName(\"head\")[0].appendChild(script);\n",
       "            }\n",
       "            else {\n",
       "                renderPlotly_5ccfcf9eb5f24d0a98af6f9ca909b77e();\n",
       "            }\r\n",
       "</script>\r\n"
      ]
     },
     "metadata": {}
    }
   ],
   "metadata": {
    "dotnet_interactive": {
     "language": "fsharp"
    }
   }
  }
 ],
 "nbformat": 4,
 "nbformat_minor": 2
}