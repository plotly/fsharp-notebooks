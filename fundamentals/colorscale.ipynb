{
 "metadata": {
  "kernelspec": {
   "display_name": ".NET (F#)",
   "language": "F#",
   "name": ".net-fsharp"
  },
  "language_info": {
   "name": "F#"
  }
 },
 "cells": [
  {
   "cell_type": "code",
   "execution_count": null,
   "source": [
    "// #r \"nuget: Plotly.NET, *-*\"\r\n",
    "// #r \"nuget: Plotly.NET.Interactive, *-*\"\r\n",
    "#r \"nuget: Plotly.NET, 2.0.0-preview.6\"\r\n",
    "#r \"nuget: Plotly.NET.Interactive, 2.0.0-preview.6\"\r\n",
    "#r \"nuget: Deedle\"\r\n",
    "#r \"nuget: FSharp.Data\"\r\n",
    "open Plotly.NET\r\n"
   ],
   "outputs": [
    {
     "data": {
      "text/html": [
       "<div><div></div><div></div><div><strong>Installed Packages</strong><ul><li><span>Deedle, 2.4.2</span></li><li><span>FSharp.Data, 4.2.2</span></li><li><span>Plotly.NET, 2.0.0-preview.6</span></li><li><span>Plotly.NET.Interactive, 2.0.0-preview.6</span></li></ul></div></div>"
      ]
     },
     "metadata": {},
     "output_type": "display_data"
    },
    {
     "data": {
      "text/markdown": [
       "Loading extensions from `Plotly.NET.Interactive.dll`"
      ]
     },
     "metadata": {},
     "output_type": "display_data"
    },
    {
     "data": {
      "text/markdown": [
       "Added Kernel Extension including formatters for Plotly.NET charts."
      ]
     },
     "metadata": {},
     "output_type": "display_data"
    }
   ],
   "metadata": {
    "dotnet_interactive": {
     "language": "fsharp"
    }
   }
  },
  {
   "cell_type": "markdown",
   "source": [
    "# Custom Discretized Heatmap Color scale with Graph Objects\r\n"
   ],
   "metadata": {}
  },
  {
   "cell_type": "code",
   "execution_count": null,
   "source": [
    "let  z=[[0;1;2;3;4;5;6;7;8;9]]\r\n",
    "let customColorscale = StyleParam.Colorscale.Custom [(0.0,\"#000000\");(1.0,\"#B4B4B4\")]\r\n"
   ],
   "outputs": [],
   "metadata": {
    "dotnet_interactive": {
     "language": "fsharp"
    }
   }
  },
  {
   "cell_type": "code",
   "execution_count": null,
   "source": [
    "Chart.Heatmap(z,Colorscale=customColorscale)\r\n",
    "|> Chart.withSize(800.,600.)"
   ],
   "outputs": [
    {
     "output_type": "display_data",
     "data": {
      "text/html": ""
     },
     "metadata": {}
    }
   ],
   "metadata": {
    "dotnet_interactive": {
     "language": "fsharp"
    }
   }
  },
  {
   "cell_type": "markdown",
   "source": [
    "# Color scale for Scatter Plots with Graph Objects\r\n"
   ],
   "metadata": {}
  },
  {
   "cell_type": "code",
   "execution_count": null,
   "source": [
    "let N = 40\r\n",
    "let rnd = System.Random()\r\n",
    "let values = Array.init N (fun _ -> rnd.Next(0, 40))\r\n",
    "let marker = Marker.init(Size= 16,Colorscale=StyleParam.Colorscale.Viridis, Showscale=true);\r\n",
    "marker?color <-values; \r\n"
   ],
   "outputs": [],
   "metadata": {
    "dotnet_interactive": {
     "language": "fsharp"
    }
   }
  },
  {
   "cell_type": "code",
   "execution_count": null,
   "source": [
    "let scatter =\r\n",
    "  Chart.Scatter(values,values,StyleParam.Mode.Markers) \r\n",
    "  |> Chart.withMarker(marker)\r\n",
    "   "
   ],
   "outputs": [],
   "metadata": {
    "dotnet_interactive": {
     "language": "fsharp"
    }
   }
  },
  {
   "cell_type": "code",
   "execution_count": null,
   "source": [
    "scatter"
   ],
   "outputs": [
    {
     "output_type": "display_data",
     "data": {
      "text/html": ""
     },
     "metadata": {}
    }
   ],
   "metadata": {
    "dotnet_interactive": {
     "language": "fsharp"
    }
   }
  },
  {
   "cell_type": "markdown",
   "source": [
    "# Color scale for Contour Plot with Graph Objects\r\n"
   ],
   "metadata": {}
  },
  {
   "cell_type": "code",
   "execution_count": null,
   "source": [
    "let z=[| [|10.0; 10.625; 12.5; 15.625; 20.0;|];\r\n",
    "        [|5.625; 6.25; 8.125; 11.25; 15.625;|];\r\n",
    "        [|2.5; 3.125; 5.0; 8.125; 12.5;|];\r\n",
    "        [|0.625; 1.25; 3.125; 6.25; 10.625;|];\r\n",
    "        [|0.0; 0.625; 2.5; 5.625; 10.0|]|]\r\n",
    "\r\n",
    "\r\n",
    "let contour =\r\n",
    "    z\r\n",
    "    |> Chart.Contour\r\n",
    "    |> Chart.withSize(600.,600.)"
   ],
   "outputs": [],
   "metadata": {
    "dotnet_interactive": {
     "language": "fsharp"
    }
   }
  },
  {
   "cell_type": "code",
   "execution_count": null,
   "source": [
    "contour "
   ],
   "outputs": [
    {
     "output_type": "display_data",
     "data": {
      "text/html": ""
     },
     "metadata": {}
    }
   ],
   "metadata": {
    "dotnet_interactive": {
     "language": "fsharp"
    }
   }
  },
  {
   "cell_type": "markdown",
   "source": [
    "# Custom Heatmap Color scale with Graph Objects\r\n"
   ],
   "metadata": {}
  },
  {
   "cell_type": "code",
   "execution_count": null,
   "source": [
    "open FSharp.Data\r\n",
    "\r\n",
    "type jsondata = JsonProvider<\"https://raw.githubusercontent.com/plotly/datasets/master/custom_heatmap_colorscale.json\">\r\n",
    "let data = jsondata.Load(\"https://raw.githubusercontent.com/plotly/datasets/master/custom_heatmap_colorscale.json\")"
   ],
   "outputs": [],
   "metadata": {
    "dotnet_interactive": {
     "language": "fsharp"
    }
   }
  },
  {
   "cell_type": "code",
   "execution_count": null,
   "source": [
    "let z = data.Z\r\n",
    "//let customColorscale = StyleParam.Colorscale.Custom [(0.0,\"#A6CEE3\");(1.0,\"#E31A1C\")]\r\n",
    "let customColorscale = StyleParam.Colorscale.Custom [(0.0,\"rgb(165,0,38)\");(0.11,\"rgb(215,48,39)\");(0.22,\"rgb(244,109,67)\");\r\n",
    "                                                     (0.33,\"rgb(253,174,97)\");(0.44,\"rgb(254,224,144)\");(0.55,\"rgb(224,243,248)\");\r\n",
    "                                                     (0.66,\"rgb(171,217,233)\");(0.77,\"rgb(116,173,209)\");(0.88,\"rgb(69,117,180)\");\r\n",
    "                                                      (1.0,\"rgb(49,54,149)\");]\r\n"
   ],
   "outputs": [],
   "metadata": {
    "dotnet_interactive": {
     "language": "fsharp"
    }
   }
  },
  {
   "cell_type": "code",
   "execution_count": null,
   "source": [
    "Chart.Heatmap(z,Colorscale=customColorscale)"
   ],
   "outputs": [
    {
     "output_type": "display_data",
     "data": {
      "text/html": ""
     },
     "metadata": {}
    }
   ],
   "metadata": {
    "dotnet_interactive": {
     "language": "fsharp"
    }
   }
  },
  {
   "cell_type": "markdown",
   "source": [
    "# Setting the Midpoint of a Diverging Color scale with Graph Objects\r\n"
   ],
   "metadata": {}
  },
  {
   "cell_type": "code",
   "execution_count": null,
   "source": [
    "let N = 20\r\n",
    "let rnd = System.Random()\r\n",
    "let values = Array.init N (fun _ -> rnd.Next(-5, 15))\r\n",
    "let marker = Marker.init(Size= 25,Colorscale=StyleParam.Colorscale.Viridis, Showscale=true,Colorbar= Colorbar.init(Title=\"divergent color\"));\r\n",
    "// marker?color <-values; \r\n",
    "marker?cmid<-0;"
   ],
   "outputs": [],
   "metadata": {
    "dotnet_interactive": {
     "language": "fsharp"
    }
   }
  },
  {
   "cell_type": "code",
   "execution_count": null,
   "source": [
    "let scatter =\r\n",
    "  Chart.Scatter(values,values,StyleParam.Mode.Markers) \r\n",
    "  |> Chart.withMarker(marker)\r\n",
    "   "
   ],
   "outputs": [],
   "metadata": {
    "dotnet_interactive": {
     "language": "fsharp"
    }
   }
  },
  {
   "cell_type": "code",
   "execution_count": null,
   "source": [
    "scatter"
   ],
   "outputs": [
    {
     "data": {
      "text/html": [
       "<div id=\"e2d2aadd-9430-43d1-bc24-f0eed8579d2c\" style=\"width: 600px; height: 600px;\"><!-- Plotly chart will be drawn inside this DIV --></div>\r\n",
       "<script type=\"text/javascript\">\r\n",
       "\n",
       "            var renderPlotly_e2d2aadd943043d1bc24f0eed8579d2c = function() {\n",
       "            var fsharpPlotlyRequire = requirejs.config({context:'fsharp-plotly',paths:{plotly:'https://cdn.plot.ly/plotly-latest.min'}}) || require;\n",
       "            fsharpPlotlyRequire(['plotly'], function(Plotly) {\r\n",
       "\n",
       "            var data = [{\"type\":\"scatter\",\"x\":[-1,11,2,-1,10,-1,12,7,-2,-4,8,-2,-1,10,3,2,-2,7,11,-3],\"y\":[-1,11,2,-1,10,-1,12,7,-2,-4,8,-2,-1,10,3,2,-2,7,11,-3],\"mode\":\"markers\",\"line\":{},\"marker\":{\"size\":25,\"colorbar\":{\"title\":\"divergent color\"},\"colorscale\":\"Viridis\",\"showscale\":true,\"cmid\":0}}];\n",
       "            var layout = {};\n",
       "            var config = {};\n",
       "            Plotly.newPlot('e2d2aadd-9430-43d1-bc24-f0eed8579d2c', data, layout, config);\r\n",
       "});\n",
       "            };\n",
       "            if ((typeof(requirejs) !==  typeof(Function)) || (typeof(requirejs.config) !== typeof(Function))) {\n",
       "                var script = document.createElement(\"script\");\n",
       "                script.setAttribute(\"src\", \"https://cdnjs.cloudflare.com/ajax/libs/require.js/2.3.6/require.min.js\");\n",
       "                script.onload = function(){\n",
       "                    renderPlotly_e2d2aadd943043d1bc24f0eed8579d2c();\n",
       "                };\n",
       "                document.getElementsByTagName(\"head\")[0].appendChild(script);\n",
       "            }\n",
       "            else {\n",
       "                renderPlotly_e2d2aadd943043d1bc24f0eed8579d2c();\n",
       "            }\r\n",
       "</script>\r\n"
      ]
     },
     "metadata": {},
     "output_type": "display_data"
    }
   ],
   "metadata": {
    "dotnet_interactive": {
     "language": "fsharp"
    }
   }
  },
  {
   "cell_type": "markdown",
   "source": [
    "# Custom Contour Plot Color scale with Graph Objects\r\n"
   ],
   "metadata": {}
  },
  {
   "cell_type": "code",
   "execution_count": null,
   "source": [
    "let z=[| [|10.0; 10.625; 12.5; 15.625; 20.0;|];\r\n",
    "        [|5.625; 6.25; 8.125; 11.25; 15.625;|];\r\n",
    "        [|2.5; 3.125; 5.0; 8.125; 12.5;|];\r\n",
    "        [|0.625; 1.25; 3.125; 6.25; 10.625;|];\r\n",
    "        [|0.0; 0.625; 2.5; 5.625; 10.0|]|]\r\n",
    "\r\n",
    "//let customColorscale = StyleParam.Colorscale.Custom [(0.0,\"#A6CEE3\");(1.0,\"#E31A1C\")]\r\n",
    "\r\n",
    "\r\n",
    "let customColorscale = StyleParam.Colorscale.Custom [(0.0,\"rgb(166,206,227)\");(0.25,\"rgb(31,120,180)\");(0.45,\"rgb(178,223,138)\");\r\n",
    "                                                     (0.65,\"rgb(51,160,44)\");(0.85,\"rgb(251,154,153)\");\r\n",
    "                                                      (1.0,\"rgb(227,26,28)\");]\r\n",
    "let contour =\r\n",
    " Chart.Contour(z,Colorscale=customColorscale)\r\n",
    "    |> Chart.withSize(600.,600.)"
   ],
   "outputs": [],
   "metadata": {
    "dotnet_interactive": {
     "language": "fsharp"
    }
   }
  },
  {
   "cell_type": "code",
   "execution_count": null,
   "source": [
    "contour"
   ],
   "outputs": [
    {
     "output_type": "display_data",
     "data": {
      "text/html": ""
     },
     "metadata": {}
    }
   ],
   "metadata": {
    "dotnet_interactive": {
     "language": "fsharp"
    }
   }
  },
  {
   "cell_type": "markdown",
   "source": [
    "# Custom Color bar Title, Labels, and Ticks with Graph Objects \r\n",
    "#### (Work well on scatter and othe plots but issue on heat map)\r\n"
   ],
   "metadata": {}
  },
  {
   "cell_type": "code",
   "execution_count": null,
   "source": [
    "open FSharp.Data\r\n",
    "type jsondata = JsonProvider<\"https://raw.githubusercontent.com/plotly/datasets/master/custom_heatmap_colorscale.json\">\r\n",
    "let data = jsondata.Load(\"https://raw.githubusercontent.com/plotly/datasets/master/custom_heatmap_colorscale.json\")"
   ],
   "outputs": [],
   "metadata": {
    "dotnet_interactive": {
     "language": "fsharp"
    }
   }
  },
  {
   "cell_type": "code",
   "execution_count": null,
   "source": [
    "let z = data.Z\r\n",
    "//let customColorscale = StyleParam.Colorscale.Custom [(0.0,\"#A6CEE3\");(1.0,\"#E31A1C\")]\r\n",
    "\r\n",
    "let customColorscale = StyleParam.Colorscale.Custom [(0.0,\"rgb(165,0,38)\");\r\n",
    "                                                     (0.11,\"rgb(215,48,39)\");\r\n",
    "                                                     (0.22,\"rgb(244,109,67)\");\r\n",
    "                                                     (0.33,\"rgb(253,174,97)\");\r\n",
    "                                                     (0.44,\"rgb(254,224,144)\");\r\n",
    "                                                     (0.55,\"rgb(224,243,248)\");\r\n",
    "                                                     (0.66,\"rgb(171,217,233)\");\r\n",
    "                                                     (0.77,\"rgb(116,173,209)\");\r\n",
    "                                                     (0.88,\"rgb(69,117,180)\");\r\n",
    "                                                      (1.0,\"rgb(49,54,149)\");]\r\n",
    "\r\n",
    "// let marker = Marker.init(Showscale=true, Colorbar= Colorbar.init(Title=\"test\"));\r\n",
    "let marker = Marker.init(Size= 25,Colorscale=StyleParam.Colorscale.Viridis, Showscale=false,Colorbar= Colorbar.init(Title=\"divergent color\"));\r\n",
    "\r\n"
   ],
   "outputs": [],
   "metadata": {
    "dotnet_interactive": {
     "language": "fsharp"
    }
   }
  },
  {
   "cell_type": "code",
   "execution_count": null,
   "source": [
    "Chart.Heatmap(z,Colorscale=customColorscale)\r\n",
    "\r\n",
    "|>Chart.withMarker(marker)"
   ],
   "outputs": [
    {
     "data": {
      "text/html": [
       "<div id=\"2cc869c5-0bee-49f8-8f71-7e0d04ad14f9\" style=\"width: 600px; height: 600px;\"><!-- Plotly chart will be drawn inside this DIV --></div>\r\n",
       "<script type=\"text/javascript\">\r\n",
       "\n",
       "            var renderPlotly_2cc869c50bee49f88f717e0d04ad14f9 = function() {\n",
       "            var fsharpPlotlyRequire = requirejs.config({context:'fsharp-plotly',paths:{plotly:'https://cdn.plot.ly/plotly-latest.min'}}) || require;\n",
       "            fsharpPlotlyRequire(['plotly'], function(Plotly) {\r\n",
       "\n",
       "            var data = [{\"type\":\"heatmap\",\"z\":[[2,3,4,5,6,7,8,9,10,11,12,13,14,15,16,17,18,19,20,21,22,23,24,25,26,27,28,29,30,31,32,33,34,35,36,37,38,39,40,41,42,43,44,45,46,47,48,49,50,51],[3,4,5,6,7,8,9,10,11,12,13,14,15,16,17,18,19,20,21,22,23,24,25,26,27,28,29,30,31,32,33,34,35,36,37,38,39,40,41,42,43,44,45,46,47,48,49,50,51,52],[4,5,6,7,8,9,10,11,12,13,14,15,16,17,18,19,20,21,22,23,24,25,26,27,28,29,30,31,32,33,34,35,36,37,38,39,40,41,42,43,44,45,46,47,48,49,50,51,52,53],[5,6,7,8,9,10,11,12,13,14,15,16,17,18,19,20,21,22,23,24,25,26,27,28,29,30,31,32,33,34,35,36,37,38,39,40,41,42,43,44,45,46,47,48,49,50,51,52,53,54],[6,7,8,9,10,11,12,13,14,15,16,17,18,19,20,21,22,23,24,25,26,27,28,29,30,31,32,33,34,35,36,37,38,39,40,41,42,43,44,45,46,47,48,49,50,51,52,53,54,55],[7,8,9,10,11,12,13,14,15,16,17,18,19,20,21,22,23,24,25,26,27,28,29,30,31,32,33,34,35,36,37,38,39,40,41,42,43,44,45,46,47,48,49,50,51,52,53,54,55,56],[8,9,10,11,12,13,14,15,16,17,18,19,20,21,22,23,24,25,26,27,28,29,30,31,32,33,34,35,36,37,38,39,40,41,42,43,44,45,46,47,48,49,50,51,52,53,54,55,56,57],[9,10,11,12,13,14,15,16,17,18,19,20,21,22,23,24,25,26,27,28,29,30,31,32,33,34,35,36,37,38,39,40,41,42,43,44,45,46,47,48,49,50,51,52,53,54,55,56,57,58],[10,11,12,13,14,15,16,17,18,19,20,21,22,23,24,25,26,27,28,29,30,31,32,33,34,35,36,37,38,39,40,41,42,43,44,45,46,47,48,49,50,51,52,53,54,55,56,57,58,59],[11,12,13,14,15,16,17,18,19,20,21,22,23,24,25,26,27,28,29,30,31,32,33,34,35,36,37,38,39,40,41,42,43,44,45,46,47,48,49,50,51,52,53,54,55,56,57,58,59,60],[12,13,14,15,16,17,18,19,20,21,22,23,24,25,26,27,28,29,30,31,32,33,34,35,36,37,38,39,40,41,42,43,44,45,46,47,48,49,50,51,52,53,54,55,56,57,58,59,60,61],[13,14,15,16,17,18,19,20,21,22,23,24,25,26,27,28,29,30,31,32,33,34,35,36,37,38,39,40,41,42,43,44,45,46,47,48,49,50,51,52,53,54,55,56,57,58,59,60,61,62],[14,15,16,17,18,19,20,21,22,23,24,25,26,27,28,29,30,31,32,33,34,35,36,37,38,39,40,41,42,43,44,45,46,47,48,49,50,51,52,53,54,55,56,57,58,59,60,61,62,63],[15,16,17,18,19,20,21,22,23,24,25,26,27,28,29,30,31,32,33,34,35,36,37,38,39,40,41,42,43,44,45,46,47,48,49,50,51,52,53,54,55,56,57,58,59,60,61,62,63,64],[16,17,18,19,20,21,22,23,24,25,26,27,28,29,30,31,32,33,34,35,36,37,38,39,40,41,42,43,44,45,46,47,48,49,50,51,52,53,54,55,56,57,58,59,60,61,62,63,64,65],[17,18,19,20,21,22,23,24,25,26,27,28,29,30,31,32,33,34,35,36,37,38,39,40,41,42,43,44,45,46,47,48,49,50,51,52,53,54,55,56,57,58,59,60,61,62,63,64,65,66],[18,19,20,21,22,23,24,25,26,27,28,29,30,31,32,33,34,35,36,37,38,39,40,41,42,43,44,45,46,47,48,49,50,51,52,53,54,55,56,57,58,59,60,61,62,63,64,65,66,67],[19,20,21,22,23,24,25,26,27,28,29,30,31,32,33,34,35,36,37,38,39,40,41,42,43,44,45,46,47,48,49,50,51,52,53,54,55,56,57,58,59,60,61,62,63,64,65,66,67,68],[20,21,22,23,24,25,26,27,28,29,30,31,32,33,34,35,36,37,38,39,40,41,42,43,44,45,46,47,48,49,50,51,52,53,54,55,56,57,58,59,60,61,62,63,64,65,66,67,68,69],[21,22,23,24,25,26,27,28,29,30,31,32,33,34,35,36,37,38,39,40,41,42,43,44,45,46,47,48,49,50,51,52,53,54,55,56,57,58,59,60,61,62,63,64,65,66,67,68,69,70],[22,23,24,25,26,27,28,29,30,31,32,33,34,35,36,37,38,39,40,41,42,43,44,45,46,47,48,49,50,51,52,53,54,55,56,57,58,59,60,61,62,63,64,65,66,67,68,69,70,71],[23,24,25,26,27,28,29,30,31,32,33,34,35,36,37,38,39,40,41,42,43,44,45,46,47,48,49,50,51,52,53,54,55,56,57,58,59,60,61,62,63,64,65,66,67,68,69,70,71,72],[24,25,26,27,28,29,30,31,32,33,34,35,36,37,38,39,40,41,42,43,44,45,46,47,48,49,50,51,52,53,54,55,56,57,58,59,60,61,62,63,64,65,66,67,68,69,70,71,72,73],[25,26,27,28,29,30,31,32,33,34,35,36,37,38,39,40,41,42,43,44,45,46,47,48,49,50,51,52,53,54,55,56,57,58,59,60,61,62,63,64,65,66,67,68,69,70,71,72,73,74],[26,27,28,29,30,31,32,33,34,35,36,37,38,39,40,41,42,43,44,45,46,47,48,49,50,51,52,53,54,55,56,57,58,59,60,61,62,63,64,65,66,67,68,69,70,71,72,73,74,75],[27,28,29,30,31,32,33,34,35,36,37,38,39,40,41,42,43,44,45,46,47,48,49,50,51,52,53,54,55,56,57,58,59,60,61,62,63,64,65,66,67,68,69,70,71,72,73,74,75,76],[28,29,30,31,32,33,34,35,36,37,38,39,40,41,42,43,44,45,46,47,48,49,50,51,52,53,54,55,56,57,58,59,60,61,62,63,64,65,66,67,68,69,70,71,72,73,74,75,76,77],[29,30,31,32,33,34,35,36,37,38,39,40,41,42,43,44,45,46,47,48,49,50,51,52,53,54,55,56,57,58,59,60,61,62,63,64,65,66,67,68,69,70,71,72,73,74,75,76,77,78],[30,31,32,33,34,35,36,37,38,39,40,41,42,43,44,45,46,47,48,49,50,51,52,53,54,55,56,57,58,59,60,61,62,63,64,65,66,67,68,69,70,71,72,73,74,75,76,77,78,79],[31,32,33,34,35,36,37,38,39,40,41,42,43,44,45,46,47,48,49,50,51,52,53,54,55,56,57,58,59,60,61,62,63,64,65,66,67,68,69,70,71,72,73,74,75,76,77,78,79,80],[32,33,34,35,36,37,38,39,40,41,42,43,44,45,46,47,48,49,50,51,52,53,54,55,56,57,58,59,60,61,62,63,64,65,66,67,68,69,70,71,72,73,74,75,76,77,78,79,80,81],[33,34,35,36,37,38,39,40,41,42,43,44,45,46,47,48,49,50,51,52,53,54,55,56,57,58,59,60,61,62,63,64,65,66,67,68,69,70,71,72,73,74,75,76,77,78,79,80,81,82],[34,35,36,37,38,39,40,41,42,43,44,45,46,47,48,49,50,51,52,53,54,55,56,57,58,59,60,61,62,63,64,65,66,67,68,69,70,71,72,73,74,75,76,77,78,79,80,81,82,83],[35,36,37,38,39,40,41,42,43,44,45,46,47,48,49,50,51,52,53,54,55,56,57,58,59,60,61,62,63,64,65,66,67,68,69,70,71,72,73,74,75,76,77,78,79,80,81,82,83,84],[36,37,38,39,40,41,42,43,44,45,46,47,48,49,50,51,52,53,54,55,56,57,58,59,60,61,62,63,64,65,66,67,68,69,70,71,72,73,74,75,76,77,78,79,80,81,82,83,84,85],[37,38,39,40,41,42,43,44,45,46,47,48,49,50,51,52,53,54,55,56,57,58,59,60,61,62,63,64,65,66,67,68,69,70,71,72,73,74,75,76,77,78,79,80,81,82,83,84,85,86],[38,39,40,41,42,43,44,45,46,47,48,49,50,51,52,53,54,55,56,57,58,59,60,61,62,63,64,65,66,67,68,69,70,71,72,73,74,75,76,77,78,79,80,81,82,83,84,85,86,87],[39,40,41,42,43,44,45,46,47,48,49,50,51,52,53,54,55,56,57,58,59,60,61,62,63,64,65,66,67,68,69,70,71,72,73,74,75,76,77,78,79,80,81,82,83,84,85,86,87,88],[40,41,42,43,44,45,46,47,48,49,50,51,52,53,54,55,56,57,58,59,60,61,62,63,64,65,66,67,68,69,70,71,72,73,74,75,76,77,78,79,80,81,82,83,84,85,86,87,88,89],[41,42,43,44,45,46,47,48,49,50,51,52,53,54,55,56,57,58,59,60,61,62,63,64,65,66,67,68,69,70,71,72,73,74,75,76,77,78,79,80,81,82,83,84,85,86,87,88,89,90],[42,43,44,45,46,47,48,49,50,51,52,53,54,55,56,57,58,59,60,61,62,63,64,65,66,67,68,69,70,71,72,73,74,75,76,77,78,79,80,81,82,83,84,85,86,87,88,89,90,91],[43,44,45,46,47,48,49,50,51,52,53,54,55,56,57,58,59,60,61,62,63,64,65,66,67,68,69,70,71,72,73,74,75,76,77,78,79,80,81,82,83,84,85,86,87,88,89,90,91,92],[44,45,46,47,48,49,50,51,52,53,54,55,56,57,58,59,60,61,62,63,64,65,66,67,68,69,70,71,72,73,74,75,76,77,78,79,80,81,82,83,84,85,86,87,88,89,90,91,92,93],[45,46,47,48,49,50,51,52,53,54,55,56,57,58,59,60,61,62,63,64,65,66,67,68,69,70,71,72,73,74,75,76,77,78,79,80,81,82,83,84,85,86,87,88,89,90,91,92,93,94],[46,47,48,49,50,51,52,53,54,55,56,57,58,59,60,61,62,63,64,65,66,67,68,69,70,71,72,73,74,75,76,77,78,79,80,81,82,83,84,85,86,87,88,89,90,91,92,93,94,95],[47,48,49,50,51,52,53,54,55,56,57,58,59,60,61,62,63,64,65,66,67,68,69,70,71,72,73,74,75,76,77,78,79,80,81,82,83,84,85,86,87,88,89,90,91,92,93,94,95,96],[48,49,50,51,52,53,54,55,56,57,58,59,60,61,62,63,64,65,66,67,68,69,70,71,72,73,74,75,76,77,78,79,80,81,82,83,84,85,86,87,88,89,90,91,92,93,94,95,96,97],[49,50,51,52,53,54,55,56,57,58,59,60,61,62,63,64,65,66,67,68,69,70,71,72,73,74,75,76,77,78,79,80,81,82,83,84,85,86,87,88,89,90,91,92,93,94,95,96,97,98],[50,51,52,53,54,55,56,57,58,59,60,61,62,63,64,65,66,67,68,69,70,71,72,73,74,75,76,77,78,79,80,81,82,83,84,85,86,87,88,89,90,91,92,93,94,95,96,97,98,99],[51,52,53,54,55,56,57,58,59,60,61,62,63,64,65,66,67,68,69,70,71,72,73,74,75,76,77,78,79,80,81,82,83,84,85,86,87,88,89,90,91,92,93,94,95,96,97,98,99,100]],\"colorscale\":[[0.0,\"rgb(165,0,38)\"],[0.11,\"rgb(215,48,39)\"],[0.22,\"rgb(244,109,67)\"],[0.33,\"rgb(253,174,97)\"],[0.44,\"rgb(254,224,144)\"],[0.55,\"rgb(224,243,248)\"],[0.66,\"rgb(171,217,233)\"],[0.77,\"rgb(116,173,209)\"],[0.88,\"rgb(69,117,180)\"],[1.0,\"rgb(49,54,149)\"]],\"marker\":{\"size\":25,\"colorbar\":{\"title\":\"divergent color\"},\"colorscale\":\"Viridis\",\"showscale\":false}}];\n",
       "            var layout = {};\n",
       "            var config = {};\n",
       "            Plotly.newPlot('2cc869c5-0bee-49f8-8f71-7e0d04ad14f9', data, layout, config);\r\n",
       "});\n",
       "            };\n",
       "            if ((typeof(requirejs) !==  typeof(Function)) || (typeof(requirejs.config) !== typeof(Function))) {\n",
       "                var script = document.createElement(\"script\");\n",
       "                script.setAttribute(\"src\", \"https://cdnjs.cloudflare.com/ajax/libs/require.js/2.3.6/require.min.js\");\n",
       "                script.onload = function(){\n",
       "                    renderPlotly_2cc869c50bee49f88f717e0d04ad14f9();\n",
       "                };\n",
       "                document.getElementsByTagName(\"head\")[0].appendChild(script);\n",
       "            }\n",
       "            else {\n",
       "                renderPlotly_2cc869c50bee49f88f717e0d04ad14f9();\n",
       "            }\r\n",
       "</script>\r\n"
      ]
     },
     "metadata": {},
     "output_type": "display_data"
    }
   ],
   "metadata": {
    "dotnet_interactive": {
     "language": "fsharp"
    }
   }
  },
  {
   "cell_type": "markdown",
   "source": [
    "# Sharing a Color Axis with Graph Objects\r\n"
   ],
   "metadata": {}
  },
  {
   "cell_type": "code",
   "execution_count": null,
   "source": [
    "let z0=[|1; 2; 3; 4;4;-3;-1;1;|];\r\n",
    "let z1=[|10; 2; 1; 0;4;3;5;6;|];\r\n",
    "let seq1 = [1 ..4 ] |> Seq.map(fun _-> z0) |> Seq.toArray\r\n",
    "let seq2 = [1 ..4 ] |> Seq.map(fun _-> z1) |> Seq.toArray\r\n",
    "let marker = Marker.init(Size= 25,Colorscale=StyleParam.Colorscale.Viridis, Showscale=false);\r\n",
    "let layout =\r\n",
    "    let temp = Layout()\r\n",
    "    temp?coloraxis  <- \"coloraxis\"\r\n",
    "    temp"
   ],
   "outputs": [],
   "metadata": {
    "dotnet_interactive": {
     "language": "fsharp"
    }
   }
  },
  {
   "cell_type": "code",
   "execution_count": null,
   "source": [
    "\r\n",
    "let headmap1=\r\n",
    "           Chart.Heatmap(data=seq1)\r\n",
    "           |>Chart.withMarker(marker)\r\n",
    "           |>Chart.withLayout(layout)\r\n",
    "           \r\n",
    "headmap1\r\n",
    "\r\n"
   ],
   "outputs": [
    {
     "data": {
      "text/html": [
       "<div id=\"2428b4b8-5c62-4238-9e11-f5128424a8d3\" style=\"width: 600px; height: 600px;\"><!-- Plotly chart will be drawn inside this DIV --></div>\r\n",
       "<script type=\"text/javascript\">\r\n",
       "\n",
       "            var renderPlotly_2428b4b85c6242389e11f5128424a8d3 = function() {\n",
       "            var fsharpPlotlyRequire = requirejs.config({context:'fsharp-plotly',paths:{plotly:'https://cdn.plot.ly/plotly-latest.min'}}) || require;\n",
       "            fsharpPlotlyRequire(['plotly'], function(Plotly) {\r\n",
       "\n",
       "            var data = [{\"type\":\"heatmap\",\"z\":[[1,2,3,4,4,-3,-1,1],[1,2,3,4,4,-3,-1,1],[1,2,3,4,4,-3,-1,1],[1,2,3,4,4,-3,-1,1]],\"marker\":{\"size\":25,\"colorscale\":\"Viridis\",\"showscale\":false}}];\n",
       "            var layout = {\"coloraxis\":\"coloraxis\"};\n",
       "            var config = {};\n",
       "            Plotly.newPlot('2428b4b8-5c62-4238-9e11-f5128424a8d3', data, layout, config);\r\n",
       "});\n",
       "            };\n",
       "            if ((typeof(requirejs) !==  typeof(Function)) || (typeof(requirejs.config) !== typeof(Function))) {\n",
       "                var script = document.createElement(\"script\");\n",
       "                script.setAttribute(\"src\", \"https://cdnjs.cloudflare.com/ajax/libs/require.js/2.3.6/require.min.js\");\n",
       "                script.onload = function(){\n",
       "                    renderPlotly_2428b4b85c6242389e11f5128424a8d3();\n",
       "                };\n",
       "                document.getElementsByTagName(\"head\")[0].appendChild(script);\n",
       "            }\n",
       "            else {\n",
       "                renderPlotly_2428b4b85c6242389e11f5128424a8d3();\n",
       "            }\r\n",
       "</script>\r\n"
      ]
     },
     "metadata": {},
     "output_type": "display_data"
    }
   ],
   "metadata": {
    "dotnet_interactive": {
     "language": "fsharp"
    }
   }
  },
  {
   "cell_type": "code",
   "execution_count": null,
   "source": [
    "let headmap2=\r\n",
    "           Chart.Heatmap(seq2)\r\n",
    "           |>Chart.withMarker(marker)\r\n",
    "           |>Chart.withLayout(layout)\r\n",
    "           \r\n",
    "headmap2"
   ],
   "outputs": [
    {
     "data": {
      "text/html": [
       "<div id=\"209d3bca-ddd9-4af5-8cf7-a7dabb2eb79b\" style=\"width: 600px; height: 600px;\"><!-- Plotly chart will be drawn inside this DIV --></div>\r\n",
       "<script type=\"text/javascript\">\r\n",
       "\n",
       "            var renderPlotly_209d3bcaddd94af58cf7a7dabb2eb79b = function() {\n",
       "            var fsharpPlotlyRequire = requirejs.config({context:'fsharp-plotly',paths:{plotly:'https://cdn.plot.ly/plotly-latest.min'}}) || require;\n",
       "            fsharpPlotlyRequire(['plotly'], function(Plotly) {\r\n",
       "\n",
       "            var data = [{\"type\":\"heatmap\",\"z\":[[10,2,1,0,4,3,5,6],[10,2,1,0,4,3,5,6],[10,2,1,0,4,3,5,6],[10,2,1,0,4,3,5,6]],\"marker\":{\"size\":25,\"colorscale\":\"Viridis\",\"showscale\":false}}];\n",
       "            var layout = {\"coloraxis\":\"coloraxis\"};\n",
       "            var config = {};\n",
       "            Plotly.newPlot('209d3bca-ddd9-4af5-8cf7-a7dabb2eb79b', data, layout, config);\r\n",
       "});\n",
       "            };\n",
       "            if ((typeof(requirejs) !==  typeof(Function)) || (typeof(requirejs.config) !== typeof(Function))) {\n",
       "                var script = document.createElement(\"script\");\n",
       "                script.setAttribute(\"src\", \"https://cdnjs.cloudflare.com/ajax/libs/require.js/2.3.6/require.min.js\");\n",
       "                script.onload = function(){\n",
       "                    renderPlotly_209d3bcaddd94af58cf7a7dabb2eb79b();\n",
       "                };\n",
       "                document.getElementsByTagName(\"head\")[0].appendChild(script);\n",
       "            }\n",
       "            else {\n",
       "                renderPlotly_209d3bcaddd94af58cf7a7dabb2eb79b();\n",
       "            }\r\n",
       "</script>\r\n"
      ]
     },
     "metadata": {},
     "output_type": "display_data"
    }
   ],
   "metadata": {
    "dotnet_interactive": {
     "language": "fsharp"
    }
   }
  },
  {
   "cell_type": "markdown",
   "source": [
    "# Logarithmic Color scale with Graph Objects\r\n"
   ],
   "metadata": {}
  },
  {
   "cell_type": "code",
   "execution_count": null,
   "source": [
    "let z=[| [|10.; 100.625; 1200.5; 150.625; 2000.;|];\r\n",
    "        [|5000.625; 60.25; 8.125; 100000.0; 150.625|];\r\n",
    "        [|2000.5; 300.125; 50.; 8.125; 12.5|];\r\n",
    "        [|10.625; 1.25; 3.125; 6000.25; 100.625|];\r\n",
    "        [|0.; 0.625; 2.5; 50000.625; 10.;|]|]\r\n",
    "//let customColorscale = StyleParam.Colorscale.Custom [(0.0,\"#FAFAFA\");(1.0,\"#1C1C1C\")]\r\n",
    "\r\n",
    "let customColorscale = StyleParam.Colorscale.Custom [(0.,\"rgb(250, 250, 250)\");\r\n",
    "                                                     (1./10000.,\"rgb(200, 200, 200)\");\r\n",
    "                                                     (1./1000.,\"rgb(150, 150, 150)\");\r\n",
    "                                                     (1./100.,\"rgb(100, 100, 100)\");\r\n",
    "                                                     (1./10.,\"rgb(50, 50, 50\");\r\n",
    "                                                     (1.,\"rgb(0, 0, 0)\");\r\n",
    "                                                     ]\r\n"
   ],
   "outputs": [],
   "metadata": {
    "dotnet_interactive": {
     "language": "fsharp"
    }
   }
  },
  {
   "cell_type": "code",
   "execution_count": null,
   "source": [
    "Chart.Heatmap(z,Colorscale=customColorscale)\r\n",
    "|> Chart.withSize(800.,600.)\r\n",
    "|>Chart.withMarker(marker)"
   ],
   "outputs": [
    {
     "data": {
      "text/html": [
       "<div id=\"93d262e4-589d-443e-ac20-3159f5ee6769\" style=\"width: 800px; height: 600px;\"><!-- Plotly chart will be drawn inside this DIV --></div>\r\n",
       "<script type=\"text/javascript\">\r\n",
       "\n",
       "            var renderPlotly_93d262e4589d443eac203159f5ee6769 = function() {\n",
       "            var fsharpPlotlyRequire = requirejs.config({context:'fsharp-plotly',paths:{plotly:'https://cdn.plot.ly/plotly-latest.min'}}) || require;\n",
       "            fsharpPlotlyRequire(['plotly'], function(Plotly) {\r\n",
       "\n",
       "            var data = [{\"type\":\"heatmap\",\"z\":[[10.0,100.625,1200.5,150.625,2000.0],[5000.625,60.25,8.125,100000.0,150.625],[2000.5,300.125,50.0,8.125,12.5],[10.625,1.25,3.125,6000.25,100.625],[0.0,0.625,2.5,50000.625,10.0]],\"colorscale\":[[0.0,\"rgb(250, 250, 250)\"],[0.0001,\"rgb(200, 200, 200)\"],[0.001,\"rgb(150, 150, 150)\"],[0.01,\"rgb(100, 100, 100)\"],[0.1,\"rgb(50, 50, 50\"],[1.0,\"rgb(0, 0, 0)\"]],\"marker\":{\"size\":25,\"colorscale\":\"Viridis\",\"showscale\":false}}];\n",
       "            var layout = {\"width\":800.0,\"height\":600.0};\n",
       "            var config = {};\n",
       "            Plotly.newPlot('93d262e4-589d-443e-ac20-3159f5ee6769', data, layout, config);\r\n",
       "});\n",
       "            };\n",
       "            if ((typeof(requirejs) !==  typeof(Function)) || (typeof(requirejs.config) !== typeof(Function))) {\n",
       "                var script = document.createElement(\"script\");\n",
       "                script.setAttribute(\"src\", \"https://cdnjs.cloudflare.com/ajax/libs/require.js/2.3.6/require.min.js\");\n",
       "                script.onload = function(){\n",
       "                    renderPlotly_93d262e4589d443eac203159f5ee6769();\n",
       "                };\n",
       "                document.getElementsByTagName(\"head\")[0].appendChild(script);\n",
       "            }\n",
       "            else {\n",
       "                renderPlotly_93d262e4589d443eac203159f5ee6769();\n",
       "            }\r\n",
       "</script>\r\n"
      ]
     },
     "metadata": {},
     "output_type": "display_data"
    }
   ],
   "metadata": {
    "dotnet_interactive": {
     "language": "fsharp"
    }
   }
  }
 ],
 "nbformat": 4,
 "nbformat_minor": 2
}