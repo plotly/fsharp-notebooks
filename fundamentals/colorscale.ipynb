{
 "metadata": {
  "kernelspec": {
   "display_name": ".NET (F#)",
   "language": "F#",
   "name": ".net-fsharp"
  },
  "language_info": {
   "name": "F#"
  }
 },
 "cells": [
  {
   "cell_type": "code",
   "execution_count": null,
   "source": [
    "#r \"nuget: Plotly.NET, 2.0.0-preview.7\"\r\n",
    "#r \"nuget: Plotly.NET.Interactive, 2.0.0-preview.7\"\r\n",
    "#r \"nuget: newtonsoft.json\"\r\n",
    "#r \"nuget: Deedle\"\r\n",
    "#r \"nuget: FSharp.Data\"\r\n",
    "open Plotly.NET"
   ],
   "outputs": [
    {
     "output_type": "display_data",
     "data": {
      "text/html": [
       "<div><div></div><div></div><div><strong>Installed Packages</strong><ul><li><span>Deedle, 2.4.1</span></li><li><span>FSharp.Data, 4.2.2</span></li><li><span>newtonsoft.json, 13.0.1</span></li><li><span>Plotly.NET, 2.0.0-preview.7</span></li><li><span>Plotly.NET.Interactive, 2.0.0-preview.7</span></li></ul></div></div>"
      ]
     },
     "metadata": {}
    },
    {
     "output_type": "display_data",
     "data": {
      "text/markdown": [
       "Loading extensions from `Plotly.NET.Interactive.dll`"
      ]
     },
     "metadata": {}
    },
    {
     "output_type": "display_data",
     "data": {
      "text/markdown": [
       "Added Kernel Extension including formatters for Plotly.NET charts."
      ]
     },
     "metadata": {}
    }
   ],
   "metadata": {
    "dotnet_interactive": {
     "language": "fsharp"
    }
   }
  },
  {
   "cell_type": "markdown",
   "source": [
    "# Custom Discretized Heatmap Color scale with Graph Objects\r\n"
   ],
   "metadata": {}
  },
  {
   "cell_type": "code",
   "execution_count": null,
   "source": [
    "let  z=[[0;1;2;3;4;5;6;7;8;9]]\r\n",
    "let customColorscale = StyleParam.Colorscale.Custom [(0.0,\"#000000\");(1.0,\"#B4B4B4\")]\r\n"
   ],
   "outputs": [],
   "metadata": {
    "dotnet_interactive": {
     "language": "fsharp"
    }
   }
  },
  {
   "cell_type": "code",
   "execution_count": null,
   "source": [
    "Chart.Heatmap(z,Colorscale=customColorscale)\r\n",
    "|> Chart.withSize(800.,600.)"
   ],
   "outputs": [
    {
     "output_type": "display_data",
     "data": {
      "text/html": [
       "<div id=\"008b9802-bd7a-40df-bb34-588f6c059404\" style=\"width: 800px; height: 600px;\"><!-- Plotly chart will be drawn inside this DIV --></div>\r\n",
       "<script type=\"text/javascript\">\r\n",
       "\n",
       "            var renderPlotly_008b9802bd7a40dfbb34588f6c059404 = function() {\n",
       "            var fsharpPlotlyRequire = requirejs.config({context:'fsharp-plotly',paths:{plotly:'https://cdn.plot.ly/plotly-latest.min'}}) || require;\n",
       "            fsharpPlotlyRequire(['plotly'], function(Plotly) {\r\n",
       "\n",
       "            var data = [{\"type\":\"heatmap\",\"z\":[[0,1,2,3,4,5,6,7,8,9]],\"colorscale\":[[0.0,\"#000000\"],[1.0,\"#B4B4B4\"]]}];\n",
       "            var layout = {\"width\":800.0,\"height\":600.0};\n",
       "            var config = {};\n",
       "            Plotly.newPlot('008b9802-bd7a-40df-bb34-588f6c059404', data, layout, config);\r\n",
       "});\n",
       "            };\n",
       "            if ((typeof(requirejs) !==  typeof(Function)) || (typeof(requirejs.config) !== typeof(Function))) {\n",
       "                var script = document.createElement(\"script\");\n",
       "                script.setAttribute(\"src\", \"https://cdnjs.cloudflare.com/ajax/libs/require.js/2.3.6/require.min.js\");\n",
       "                script.onload = function(){\n",
       "                    renderPlotly_008b9802bd7a40dfbb34588f6c059404();\n",
       "                };\n",
       "                document.getElementsByTagName(\"head\")[0].appendChild(script);\n",
       "            }\n",
       "            else {\n",
       "                renderPlotly_008b9802bd7a40dfbb34588f6c059404();\n",
       "            }\r\n",
       "</script>\r\n"
      ]
     },
     "metadata": {}
    }
   ],
   "metadata": {
    "dotnet_interactive": {
     "language": "fsharp"
    }
   }
  },
  {
   "cell_type": "markdown",
   "source": [
    "# Color scale for Scatter Plots with Graph Objects\r\n"
   ],
   "metadata": {}
  },
  {
   "cell_type": "code",
   "execution_count": null,
   "source": [
    "let N = 40\r\n",
    "let rnd = System.Random()\r\n",
    "let values = Array.init N (fun _ -> rnd.Next(0, 40))\r\n",
    "let marker = Marker.init(Size= 16,Colorscale=StyleParam.Colorscale.Viridis, Showscale=true);\r\n",
    "marker?color <-values; \r\n"
   ],
   "outputs": [],
   "metadata": {
    "dotnet_interactive": {
     "language": "fsharp"
    }
   }
  },
  {
   "cell_type": "code",
   "execution_count": null,
   "source": [
    "let scatter =\r\n",
    "  Chart.Scatter(values,values,StyleParam.Mode.Markers) \r\n",
    "  |> Chart.withMarker(marker)\r\n",
    "   "
   ],
   "outputs": [],
   "metadata": {
    "dotnet_interactive": {
     "language": "fsharp"
    }
   }
  },
  {
   "cell_type": "code",
   "execution_count": null,
   "source": [
    "scatter"
   ],
   "outputs": [
    {
     "output_type": "display_data",
     "data": {
      "text/html": [
       "<div id=\"0bc7d808-a4dc-475e-8d43-e05c9bf36333\" style=\"width: 600px; height: 600px;\"><!-- Plotly chart will be drawn inside this DIV --></div>\r\n",
       "<script type=\"text/javascript\">\r\n",
       "\n",
       "            var renderPlotly_0bc7d808a4dc475e8d43e05c9bf36333 = function() {\n",
       "            var fsharpPlotlyRequire = requirejs.config({context:'fsharp-plotly',paths:{plotly:'https://cdn.plot.ly/plotly-latest.min'}}) || require;\n",
       "            fsharpPlotlyRequire(['plotly'], function(Plotly) {\r\n",
       "\n",
       "            var data = [{\"type\":\"scatter\",\"x\":[19,28,7,6,32,32,37,12,17,2,4,21,0,7,24,23,31,6,39,6,24,35,3,3,15,29,20,1,28,22,31,29,34,12,17,39,29,25,2,4],\"y\":[19,28,7,6,32,32,37,12,17,2,4,21,0,7,24,23,31,6,39,6,24,35,3,3,15,29,20,1,28,22,31,29,34,12,17,39,29,25,2,4],\"mode\":\"markers\",\"line\":{},\"marker\":{\"size\":16,\"colorscale\":\"Viridis\",\"showscale\":true,\"color\":[19,28,7,6,32,32,37,12,17,2,4,21,0,7,24,23,31,6,39,6,24,35,3,3,15,29,20,1,28,22,31,29,34,12,17,39,29,25,2,4]}}];\n",
       "            var layout = {};\n",
       "            var config = {};\n",
       "            Plotly.newPlot('0bc7d808-a4dc-475e-8d43-e05c9bf36333', data, layout, config);\r\n",
       "});\n",
       "            };\n",
       "            if ((typeof(requirejs) !==  typeof(Function)) || (typeof(requirejs.config) !== typeof(Function))) {\n",
       "                var script = document.createElement(\"script\");\n",
       "                script.setAttribute(\"src\", \"https://cdnjs.cloudflare.com/ajax/libs/require.js/2.3.6/require.min.js\");\n",
       "                script.onload = function(){\n",
       "                    renderPlotly_0bc7d808a4dc475e8d43e05c9bf36333();\n",
       "                };\n",
       "                document.getElementsByTagName(\"head\")[0].appendChild(script);\n",
       "            }\n",
       "            else {\n",
       "                renderPlotly_0bc7d808a4dc475e8d43e05c9bf36333();\n",
       "            }\r\n",
       "</script>\r\n"
      ]
     },
     "metadata": {}
    }
   ],
   "metadata": {
    "dotnet_interactive": {
     "language": "fsharp"
    }
   }
  },
  {
   "cell_type": "markdown",
   "source": [
    "# Color scale for Contour Plot with Graph Objects\r\n"
   ],
   "metadata": {}
  },
  {
   "cell_type": "code",
   "execution_count": null,
   "source": [
    "let z=[| [|10.0; 10.625; 12.5; 15.625; 20.0;|];\r\n",
    "        [|5.625; 6.25; 8.125; 11.25; 15.625;|];\r\n",
    "        [|2.5; 3.125; 5.0; 8.125; 12.5;|];\r\n",
    "        [|0.625; 1.25; 3.125; 6.25; 10.625;|];\r\n",
    "        [|0.0; 0.625; 2.5; 5.625; 10.0|]|]\r\n",
    "\r\n",
    "\r\n",
    "let contour =\r\n",
    "    z\r\n",
    "    |> Chart.Contour\r\n",
    "    |> Chart.withSize(600.,600.)"
   ],
   "outputs": [],
   "metadata": {
    "dotnet_interactive": {
     "language": "fsharp"
    }
   }
  },
  {
   "cell_type": "code",
   "execution_count": null,
   "source": [
    "contour "
   ],
   "outputs": [
    {
     "output_type": "display_data",
     "data": {
      "text/html": [
       "<div id=\"7265c5ea-df4b-476c-acda-ece00c00034b\" style=\"width: 600px; height: 600px;\"><!-- Plotly chart will be drawn inside this DIV --></div>\r\n",
       "<script type=\"text/javascript\">\r\n",
       "\n",
       "            var renderPlotly_7265c5eadf4b476cacdaece00c00034b = function() {\n",
       "            var fsharpPlotlyRequire = requirejs.config({context:'fsharp-plotly',paths:{plotly:'https://cdn.plot.ly/plotly-latest.min'}}) || require;\n",
       "            fsharpPlotlyRequire(['plotly'], function(Plotly) {\r\n",
       "\n",
       "            var data = [{\"type\":\"contour\",\"z\":[[10.0,10.625,12.5,15.625,20.0],[5.625,6.25,8.125,11.25,15.625],[2.5,3.125,5.0,8.125,12.5],[0.625,1.25,3.125,6.25,10.625],[0.0,0.625,2.5,5.625,10.0]]}];\n",
       "            var layout = {\"width\":600.0,\"height\":600.0};\n",
       "            var config = {};\n",
       "            Plotly.newPlot('7265c5ea-df4b-476c-acda-ece00c00034b', data, layout, config);\r\n",
       "});\n",
       "            };\n",
       "            if ((typeof(requirejs) !==  typeof(Function)) || (typeof(requirejs.config) !== typeof(Function))) {\n",
       "                var script = document.createElement(\"script\");\n",
       "                script.setAttribute(\"src\", \"https://cdnjs.cloudflare.com/ajax/libs/require.js/2.3.6/require.min.js\");\n",
       "                script.onload = function(){\n",
       "                    renderPlotly_7265c5eadf4b476cacdaece00c00034b();\n",
       "                };\n",
       "                document.getElementsByTagName(\"head\")[0].appendChild(script);\n",
       "            }\n",
       "            else {\n",
       "                renderPlotly_7265c5eadf4b476cacdaece00c00034b();\n",
       "            }\r\n",
       "</script>\r\n"
      ]
     },
     "metadata": {}
    }
   ],
   "metadata": {
    "dotnet_interactive": {
     "language": "fsharp"
    }
   }
  },
  {
   "cell_type": "markdown",
   "source": [
    "# Custom Heatmap Color scale with Graph Objects\r\n"
   ],
   "metadata": {}
  },
  {
   "cell_type": "code",
   "execution_count": null,
   "source": [
    "// Need to complete"
   ],
   "outputs": [],
   "metadata": {
    "dotnet_interactive": {
     "language": "fsharp"
    }
   }
  },
  {
   "cell_type": "markdown",
   "source": [
    "# Setting the Midpoint of a Diverging Color scale with Graph Objects\r\n"
   ],
   "metadata": {}
  },
  {
   "cell_type": "code",
   "execution_count": null,
   "source": [
    "let N = 20\r\n",
    "let rnd = System.Random()\r\n",
    "let values = Array.init N (fun _ -> rnd.Next(-5, 15))\r\n",
    "let marker = Marker.init(Size= 25,Colorscale=StyleParam.Colorscale.Viridis, Showscale=true);\r\n",
    "marker?color <-values; \r\n",
    "marker?cmid<-0;"
   ],
   "outputs": [],
   "metadata": {
    "dotnet_interactive": {
     "language": "fsharp"
    }
   }
  },
  {
   "cell_type": "code",
   "execution_count": null,
   "source": [
    "let scatter =\r\n",
    "  Chart.Scatter(values,values,StyleParam.Mode.Markers) \r\n",
    "  |> Chart.withMarker(marker)\r\n",
    "   "
   ],
   "outputs": [],
   "metadata": {
    "dotnet_interactive": {
     "language": "fsharp"
    }
   }
  },
  {
   "cell_type": "code",
   "execution_count": null,
   "source": [
    "scatter"
   ],
   "outputs": [
    {
     "output_type": "display_data",
     "data": {
      "text/html": [
       "<div id=\"df5e4da7-af3d-4fe3-99c3-164c301212b9\" style=\"width: 600px; height: 600px;\"><!-- Plotly chart will be drawn inside this DIV --></div>\r\n",
       "<script type=\"text/javascript\">\r\n",
       "\n",
       "            var renderPlotly_df5e4da7af3d4fe399c3164c301212b9 = function() {\n",
       "            var fsharpPlotlyRequire = requirejs.config({context:'fsharp-plotly',paths:{plotly:'https://cdn.plot.ly/plotly-latest.min'}}) || require;\n",
       "            fsharpPlotlyRequire(['plotly'], function(Plotly) {\r\n",
       "\n",
       "            var data = [{\"type\":\"scatter\",\"x\":[9,1,1,4,1,-3,8,13,10,14,2,12,-4,0,-3,9,9,14,10,12],\"y\":[9,1,1,4,1,-3,8,13,10,14,2,12,-4,0,-3,9,9,14,10,12],\"mode\":\"markers\",\"line\":{},\"marker\":{\"size\":25,\"colorscale\":\"Viridis\",\"showscale\":true,\"color\":[9,1,1,4,1,-3,8,13,10,14,2,12,-4,0,-3,9,9,14,10,12],\"cmid\":0}}];\n",
       "            var layout = {};\n",
       "            var config = {};\n",
       "            Plotly.newPlot('df5e4da7-af3d-4fe3-99c3-164c301212b9', data, layout, config);\r\n",
       "});\n",
       "            };\n",
       "            if ((typeof(requirejs) !==  typeof(Function)) || (typeof(requirejs.config) !== typeof(Function))) {\n",
       "                var script = document.createElement(\"script\");\n",
       "                script.setAttribute(\"src\", \"https://cdnjs.cloudflare.com/ajax/libs/require.js/2.3.6/require.min.js\");\n",
       "                script.onload = function(){\n",
       "                    renderPlotly_df5e4da7af3d4fe399c3164c301212b9();\n",
       "                };\n",
       "                document.getElementsByTagName(\"head\")[0].appendChild(script);\n",
       "            }\n",
       "            else {\n",
       "                renderPlotly_df5e4da7af3d4fe399c3164c301212b9();\n",
       "            }\r\n",
       "</script>\r\n"
      ]
     },
     "metadata": {}
    }
   ],
   "metadata": {
    "dotnet_interactive": {
     "language": "fsharp"
    }
   }
  },
  {
   "cell_type": "markdown",
   "source": [
    "# Custom Contour Plot Color scale with Graph Objects\r\n"
   ],
   "metadata": {}
  },
  {
   "cell_type": "code",
   "execution_count": null,
   "source": [
    "let z=[| [|10.0; 10.625; 12.5; 15.625; 20.0;|];\r\n",
    "        [|5.625; 6.25; 8.125; 11.25; 15.625;|];\r\n",
    "        [|2.5; 3.125; 5.0; 8.125; 12.5;|];\r\n",
    "        [|0.625; 1.25; 3.125; 6.25; 10.625;|];\r\n",
    "        [|0.0; 0.625; 2.5; 5.625; 10.0|]|]\r\n",
    "\r\n",
    "let customColorscale = StyleParam.Colorscale.Custom [(0.0,\"#A6CEE3\");(1.0,\"#E31A1C\")]\r\n",
    "\r\n",
    "let contour =\r\n",
    " Chart.Contour(z,Colorscale=customColorscale)\r\n",
    "    |> Chart.withSize(600.,600.)"
   ],
   "outputs": [],
   "metadata": {
    "dotnet_interactive": {
     "language": "fsharp"
    }
   }
  },
  {
   "cell_type": "code",
   "execution_count": null,
   "source": [
    "contour"
   ],
   "outputs": [
    {
     "output_type": "display_data",
     "data": {
      "text/html": [
       "<div id=\"23b28007-694a-45e7-83cf-f5c4cc3fef2e\" style=\"width: 600px; height: 600px;\"><!-- Plotly chart will be drawn inside this DIV --></div>\r\n",
       "<script type=\"text/javascript\">\r\n",
       "\n",
       "            var renderPlotly_23b28007694a45e783cff5c4cc3fef2e = function() {\n",
       "            var fsharpPlotlyRequire = requirejs.config({context:'fsharp-plotly',paths:{plotly:'https://cdn.plot.ly/plotly-latest.min'}}) || require;\n",
       "            fsharpPlotlyRequire(['plotly'], function(Plotly) {\r\n",
       "\n",
       "            var data = [{\"type\":\"contour\",\"z\":[[10.0,10.625,12.5,15.625,20.0],[5.625,6.25,8.125,11.25,15.625],[2.5,3.125,5.0,8.125,12.5],[0.625,1.25,3.125,6.25,10.625],[0.0,0.625,2.5,5.625,10.0]],\"colorscale\":[[0.0,\"#A6CEE3\"],[1.0,\"#E31A1C\"]]}];\n",
       "            var layout = {\"width\":600.0,\"height\":600.0};\n",
       "            var config = {};\n",
       "            Plotly.newPlot('23b28007-694a-45e7-83cf-f5c4cc3fef2e', data, layout, config);\r\n",
       "});\n",
       "            };\n",
       "            if ((typeof(requirejs) !==  typeof(Function)) || (typeof(requirejs.config) !== typeof(Function))) {\n",
       "                var script = document.createElement(\"script\");\n",
       "                script.setAttribute(\"src\", \"https://cdnjs.cloudflare.com/ajax/libs/require.js/2.3.6/require.min.js\");\n",
       "                script.onload = function(){\n",
       "                    renderPlotly_23b28007694a45e783cff5c4cc3fef2e();\n",
       "                };\n",
       "                document.getElementsByTagName(\"head\")[0].appendChild(script);\n",
       "            }\n",
       "            else {\n",
       "                renderPlotly_23b28007694a45e783cff5c4cc3fef2e();\n",
       "            }\r\n",
       "</script>\r\n"
      ]
     },
     "metadata": {}
    }
   ],
   "metadata": {
    "dotnet_interactive": {
     "language": "fsharp"
    }
   }
  },
  {
   "cell_type": "markdown",
   "source": [
    "# Sharing a Color Axis with Graph Objects\r\n"
   ],
   "metadata": {}
  },
  {
   "cell_type": "code",
   "execution_count": null,
   "source": [
    "let z0=[|1; 2; 3; 4;4;-3;-1;1;|];\r\n",
    "let z1=[|10; 2; 1; 0;4;3;5;6;|];\r\n",
    "let seq1 = [1 ..4 ] |> Seq.map(fun _-> z0) |> Seq.toArray\r\n",
    "let seq2 = [1 ..4 ] |> Seq.map(fun _-> z1) |> Seq.toArray\r\n",
    "let marker = Marker.init(Size= 25,Colorscale=StyleParam.Colorscale.Viridis, Showscale=true);\r\n",
    "let layout =\r\n",
    "    let temp = Layout()\r\n",
    "    temp?coloraxis  <- \"coloraxis\"\r\n",
    "    temp"
   ],
   "outputs": [],
   "metadata": {
    "dotnet_interactive": {
     "language": "fsharp"
    }
   }
  },
  {
   "cell_type": "code",
   "execution_count": null,
   "source": [
    "\r\n",
    "let headmap1=\r\n",
    "           Chart.Heatmap(seq1)\r\n",
    "           |>Chart.withMarker(marker)\r\n",
    "           |>Chart.withLayout(layout)\r\n",
    "           \r\n",
    "headmap1\r\n",
    "\r\n"
   ],
   "outputs": [
    {
     "output_type": "display_data",
     "data": {
      "text/html": [
       "<div id=\"d03c094f-f3fb-45b6-a3b6-81dd25129a64\" style=\"width: 600px; height: 600px;\"><!-- Plotly chart will be drawn inside this DIV --></div>\r\n",
       "<script type=\"text/javascript\">\r\n",
       "\n",
       "            var renderPlotly_d03c094ff3fb45b6a3b681dd25129a64 = function() {\n",
       "            var fsharpPlotlyRequire = requirejs.config({context:'fsharp-plotly',paths:{plotly:'https://cdn.plot.ly/plotly-latest.min'}}) || require;\n",
       "            fsharpPlotlyRequire(['plotly'], function(Plotly) {\r\n",
       "\n",
       "            var data = [{\"type\":\"heatmap\",\"z\":[[1,2,3,4,4,-3,-1,1],[1,2,3,4,4,-3,-1,1],[1,2,3,4,4,-3,-1,1],[1,2,3,4,4,-3,-1,1]],\"marker\":{\"size\":25,\"colorscale\":\"Viridis\",\"showscale\":true}}];\n",
       "            var layout = {\"coloraxis\":\"coloraxis\"};\n",
       "            var config = {};\n",
       "            Plotly.newPlot('d03c094f-f3fb-45b6-a3b6-81dd25129a64', data, layout, config);\r\n",
       "});\n",
       "            };\n",
       "            if ((typeof(requirejs) !==  typeof(Function)) || (typeof(requirejs.config) !== typeof(Function))) {\n",
       "                var script = document.createElement(\"script\");\n",
       "                script.setAttribute(\"src\", \"https://cdnjs.cloudflare.com/ajax/libs/require.js/2.3.6/require.min.js\");\n",
       "                script.onload = function(){\n",
       "                    renderPlotly_d03c094ff3fb45b6a3b681dd25129a64();\n",
       "                };\n",
       "                document.getElementsByTagName(\"head\")[0].appendChild(script);\n",
       "            }\n",
       "            else {\n",
       "                renderPlotly_d03c094ff3fb45b6a3b681dd25129a64();\n",
       "            }\r\n",
       "</script>\r\n"
      ]
     },
     "metadata": {}
    }
   ],
   "metadata": {
    "dotnet_interactive": {
     "language": "fsharp"
    }
   }
  },
  {
   "cell_type": "code",
   "execution_count": null,
   "source": [
    "let headmap2=\r\n",
    "           Chart.Heatmap(seq2)\r\n",
    "           |>Chart.withMarker(marker)\r\n",
    "           |>Chart.withLayout(layout)\r\n",
    "           \r\n",
    "headmap2"
   ],
   "outputs": [
    {
     "output_type": "display_data",
     "data": {
      "text/html": [
       "<div id=\"0a4b7395-0660-4a5e-8faa-56e4f99ff2aa\" style=\"width: 600px; height: 600px;\"><!-- Plotly chart will be drawn inside this DIV --></div>\r\n",
       "<script type=\"text/javascript\">\r\n",
       "\n",
       "            var renderPlotly_0a4b739506604a5e8faa56e4f99ff2aa = function() {\n",
       "            var fsharpPlotlyRequire = requirejs.config({context:'fsharp-plotly',paths:{plotly:'https://cdn.plot.ly/plotly-latest.min'}}) || require;\n",
       "            fsharpPlotlyRequire(['plotly'], function(Plotly) {\r\n",
       "\n",
       "            var data = [{\"type\":\"heatmap\",\"z\":[[10,2,1,0,4,3,5,6],[10,2,1,0,4,3,5,6],[10,2,1,0,4,3,5,6],[10,2,1,0,4,3,5,6]],\"marker\":{\"size\":25,\"colorscale\":\"Viridis\",\"showscale\":true}}];\n",
       "            var layout = {\"coloraxis\":\"coloraxis\"};\n",
       "            var config = {};\n",
       "            Plotly.newPlot('0a4b7395-0660-4a5e-8faa-56e4f99ff2aa', data, layout, config);\r\n",
       "});\n",
       "            };\n",
       "            if ((typeof(requirejs) !==  typeof(Function)) || (typeof(requirejs.config) !== typeof(Function))) {\n",
       "                var script = document.createElement(\"script\");\n",
       "                script.setAttribute(\"src\", \"https://cdnjs.cloudflare.com/ajax/libs/require.js/2.3.6/require.min.js\");\n",
       "                script.onload = function(){\n",
       "                    renderPlotly_0a4b739506604a5e8faa56e4f99ff2aa();\n",
       "                };\n",
       "                document.getElementsByTagName(\"head\")[0].appendChild(script);\n",
       "            }\n",
       "            else {\n",
       "                renderPlotly_0a4b739506604a5e8faa56e4f99ff2aa();\n",
       "            }\r\n",
       "</script>\r\n"
      ]
     },
     "metadata": {}
    }
   ],
   "metadata": {
    "dotnet_interactive": {
     "language": "fsharp"
    }
   }
  },
  {
   "cell_type": "markdown",
   "source": [
    "# Logarithmic Color scale with Graph Objects\r\n"
   ],
   "metadata": {}
  },
  {
   "cell_type": "code",
   "execution_count": null,
   "source": [
    "let z=[| [|10.; 100.625; 1200.5; 150.625; 2000.;|];\r\n",
    "        [|5000.625; 60.25; 8.125; 100000.0; 150.625|];\r\n",
    "        [|2000.5; 300.125; 50.; 8.125; 12.5|];\r\n",
    "        [|10.625; 1.25; 3.125; 6000.25; 100.625|];\r\n",
    "        [|0.; 0.625; 2.5; 50000.625; 10.;|]|]\r\n",
    "let customColorscale = StyleParam.Colorscale.Custom [(0.0,\"#FAFAFA\");(1.0,\"#1C1C1C\")]\r\n"
   ],
   "outputs": [],
   "metadata": {
    "dotnet_interactive": {
     "language": "fsharp"
    }
   }
  },
  {
   "cell_type": "code",
   "execution_count": null,
   "source": [
    "Chart.Heatmap(z,Colorscale=customColorscale)\r\n",
    "|> Chart.withSize(800.,600.)\r\n",
    "|>Chart.withMarker(marker)"
   ],
   "outputs": [
    {
     "output_type": "display_data",
     "data": {
      "text/html": [
       "<div id=\"26466c04-c73d-4126-a41c-4a8c645b1e1c\" style=\"width: 800px; height: 600px;\"><!-- Plotly chart will be drawn inside this DIV --></div>\r\n",
       "<script type=\"text/javascript\">\r\n",
       "\n",
       "            var renderPlotly_26466c04c73d4126a41c4a8c645b1e1c = function() {\n",
       "            var fsharpPlotlyRequire = requirejs.config({context:'fsharp-plotly',paths:{plotly:'https://cdn.plot.ly/plotly-latest.min'}}) || require;\n",
       "            fsharpPlotlyRequire(['plotly'], function(Plotly) {\r\n",
       "\n",
       "            var data = [{\"type\":\"heatmap\",\"z\":[[10.0,100.625,1200.5,150.625,2000.0],[5000.625,60.25,8.125,100000.0,150.625],[2000.5,300.125,50.0,8.125,12.5],[10.625,1.25,3.125,6000.25,100.625],[0.0,0.625,2.5,50000.625,10.0]],\"colorscale\":[[0.0,\"#FAFAFA\"],[1.0,\"#1C1C1C\"]],\"marker\":{\"size\":25,\"colorscale\":\"Viridis\",\"showscale\":true}}];\n",
       "            var layout = {\"width\":800.0,\"height\":600.0};\n",
       "            var config = {};\n",
       "            Plotly.newPlot('26466c04-c73d-4126-a41c-4a8c645b1e1c', data, layout, config);\r\n",
       "});\n",
       "            };\n",
       "            if ((typeof(requirejs) !==  typeof(Function)) || (typeof(requirejs.config) !== typeof(Function))) {\n",
       "                var script = document.createElement(\"script\");\n",
       "                script.setAttribute(\"src\", \"https://cdnjs.cloudflare.com/ajax/libs/require.js/2.3.6/require.min.js\");\n",
       "                script.onload = function(){\n",
       "                    renderPlotly_26466c04c73d4126a41c4a8c645b1e1c();\n",
       "                };\n",
       "                document.getElementsByTagName(\"head\")[0].appendChild(script);\n",
       "            }\n",
       "            else {\n",
       "                renderPlotly_26466c04c73d4126a41c4a8c645b1e1c();\n",
       "            }\r\n",
       "</script>\r\n"
      ]
     },
     "metadata": {}
    }
   ],
   "metadata": {
    "dotnet_interactive": {
     "language": "fsharp"
    }
   }
  }
 ],
 "nbformat": 4,
 "nbformat_minor": 2
}