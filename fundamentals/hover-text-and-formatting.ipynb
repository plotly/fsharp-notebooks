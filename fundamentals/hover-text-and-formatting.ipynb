{
 "cells": [
  {
   "cell_type": "code",
   "execution_count": null,
   "source": [
    "#r \"nuget: Plotly.NET,  2.0.0-preview.8\"\r\n",
    "#r \"nuget: Plotly.NET.Interactive,  2.0.0-preview.8\""
   ],
   "outputs": [
    {
     "output_type": "display_data",
     "data": {
      "text/html": ""
     },
     "metadata": {}
    },
    {
     "output_type": "display_data",
     "data": {
      "text/markdown": ""
     },
     "metadata": {}
    },
    {
     "output_type": "display_data",
     "data": {
      "text/markdown": ""
     },
     "metadata": {}
    }
   ],
   "metadata": {
    "dotnet_interactive": {
     "language": "fsharp"
    }
   }
  },
  {
   "cell_type": "markdown",
   "source": [
    "# Hover Labels"
   ],
   "metadata": {}
  },
  {
   "cell_type": "code",
   "execution_count": null,
   "source": [
    "open Plotly.NET\r\n",
    "\r\n",
    "let x = [for i in 0..10 -> i]\r\n",
    "let y = [for i in x -> i*2]\r\n",
    "let labels = [for i in x -> \"Text \"+ string i]\r\n",
    "\r\n",
    "Chart.Point(x,y,Labels=labels)"
   ],
   "outputs": [
    {
     "output_type": "display_data",
     "data": {
      "text/html": ""
     },
     "metadata": {}
    }
   ],
   "metadata": {
    "dotnet_interactive": {
     "language": "fsharp"
    }
   }
  },
  {
   "cell_type": "markdown",
   "source": [
    "# Customizing Hover Mode"
   ],
   "metadata": {}
  },
  {
   "cell_type": "code",
   "execution_count": null,
   "source": [
    "open Plotly.NET\r\n",
    "\r\n",
    "let x = [for i in 0..10 -> i]\r\n",
    "let y1 = [for i in x -> 2.0*Math.Cos(float i)]\r\n",
    "let y2 = [for i in x -> 5.0*Math.Sin(float i)]\r\n",
    "\r\n",
    "let labels = [for i in x -> \"Text \"+ string i]\r\n",
    "\r\n",
    "[\r\n",
    "Chart.Line(x,y1,Labels=labels,ShowMarkers=true);\r\n",
    "Chart.Line(x,y2,Labels=labels,ShowMarkers=true);\r\n",
    "]\r\n",
    "|> Chart.combine\r\n",
    "|> Chart.withLayout(Layout.init(HoverMode=StyleParam.HoverMode.X))"
   ],
   "outputs": [
    {
     "output_type": "display_data",
     "data": {
      "text/html": ""
     },
     "metadata": {}
    }
   ],
   "metadata": {
    "dotnet_interactive": {
     "language": "fsharp"
    }
   }
  }
 ],
 "metadata": {
  "orig_nbformat": 4,
  "language_info": {
   "file_extension": ".cs",
   "mimetype": "text/x-csharp",
   "name": "C#",
   "pygments_lexer": "csharp",
   "version": "9.0"
  },
  "kernelspec": {
   "display_name": ".NET (C#)",
   "language": "C#",
   "name": ".net-csharp"
  }
 },
 "nbformat": 4,
 "nbformat_minor": 2
}