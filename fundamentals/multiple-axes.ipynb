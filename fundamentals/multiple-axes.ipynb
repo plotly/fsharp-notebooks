{
 "cells": [
  {
   "cell_type": "code",
   "execution_count": null,
   "source": [
    "#r \"nuget: Plotly.NET,  2.0.0-preview.8\"\r\n",
    "#r \"nuget: Plotly.NET.Interactive,  2.0.0-preview.8\""
   ],
   "outputs": [
    {
     "output_type": "display_data",
     "data": {
      "text/html": ""
     },
     "metadata": {}
    },
    {
     "output_type": "display_data",
     "data": {
      "text/markdown": ""
     },
     "metadata": {}
    },
    {
     "output_type": "display_data",
     "data": {
      "text/markdown": ""
     },
     "metadata": {}
    }
   ],
   "metadata": {
    "dotnet_interactive": {
     "language": "fsharp"
    }
   }
  },
  {
   "cell_type": "markdown",
   "source": [
    "# Two Y Axes\r\n",
    "\r\n",
    "Multiple Axes are created by defining AxisAnchor for the plot as shown below"
   ],
   "metadata": {}
  },
  {
   "cell_type": "code",
   "execution_count": null,
   "source": [
    "open Plotly.NET\r\n",
    "open Plotly.NET.TraceObjects\r\n",
    "open Plotly.NET.LayoutObjects\r\n",
    "\r\n",
    "\r\n",
    "let x = [for i in 0..10 -> i]\r\n",
    "let y1 = [for i in x -> Math.Pow(float i,2.0)]\r\n",
    "let y2 = [for i in x -> Math.Pow(float i,3.0)]\r\n",
    "\r\n",
    "[\r\n",
    "    Chart.Line(x,y1,Name=\"anchor 1\",ShowMarkers=true) |> Chart.withAxisAnchor(Y=1);\r\n",
    "    Chart.Line(x,y2,Name=\"anchor 2\",ShowMarkers=true) |> Chart.withAxisAnchor(Y=2)       \r\n",
    "]\r\n",
    "|> Chart.combine\r\n",
    "|> Chart.withLayout(Layout.init(PlotBGColor=Color.fromString \"#e5ecf6\"))\r\n",
    "|> Chart.withYAxisStyle(\r\n",
    "        \"axis 1\",\r\n",
    "        Side=StyleParam.Side.Left,\r\n",
    "        Id=StyleParam.SubPlotId.YAxis 1\r\n",
    "    )\r\n",
    "|> Chart.withYAxisStyle(\r\n",
    "        \"axis2\",\r\n",
    "        Side=StyleParam.Side.Right,\r\n",
    "        Id=StyleParam.SubPlotId.YAxis 2,\r\n",
    "        Overlaying=StyleParam.LinearAxisId.Y 1\r\n",
    "    )"
   ],
   "outputs": [
    {
     "output_type": "display_data",
     "data": {
      "text/html": ""
     },
     "metadata": {}
    }
   ],
   "metadata": {
    "dotnet_interactive": {
     "language": "fsharp"
    }
   }
  },
  {
   "cell_type": "markdown",
   "source": [
    "# Multiple Axes"
   ],
   "metadata": {}
  },
  {
   "cell_type": "code",
   "execution_count": null,
   "source": [
    "open Plotly.NET\r\n",
    "\r\n",
    "[\r\n",
    "    for i in 1..4 -> \r\n",
    "                    Chart.Line(x=[for j in i..(i+4) -> j],y=[for j in i..(i+4) -> 2*j*j+3*j],Name=String.Format(\"anchor {0}\",i),ShowMarkers=true ) \r\n",
    "                    |> Chart.withAxisAnchor(Y=i)      \r\n",
    "]\r\n",
    "|> Chart.combine\r\n",
    "|> Chart.withXAxisStyle(\"x-axis\",Domain=(0.3, 0.7))\r\n",
    "|> Chart.withLayout(Layout.init(PlotBGColor=Color.fromString \"#e5ecf6\"))\r\n",
    "|> Chart.withYAxisStyle(\r\n",
    "        \"y axis 1\",\r\n",
    "        Side=StyleParam.Side.Left,\r\n",
    "        Id=StyleParam.SubPlotId.YAxis 1\r\n",
    "    )\r\n",
    "|> Chart.withYAxisStyle(\r\n",
    "        \"y axis 2\",\r\n",
    "        Side=StyleParam.Side.Left,\r\n",
    "        Id=StyleParam.SubPlotId.YAxis 2,\r\n",
    "        Position= 0.1,        \r\n",
    "        Overlaying=StyleParam.LinearAxisId.Y 1\r\n",
    "    )\r\n",
    "|> Chart.withYAxisStyle(\r\n",
    "        \"y axis 3\",\r\n",
    "        Side=StyleParam.Side.Right,\r\n",
    "        Id=StyleParam.SubPlotId.YAxis 3,\r\n",
    "        Overlaying=StyleParam.LinearAxisId.Y 1   \r\n",
    "    )\r\n",
    "|> Chart.withYAxisStyle(\r\n",
    "        \"y axis 4\",\r\n",
    "        Side=StyleParam.Side.Right,\r\n",
    "        Id=StyleParam.SubPlotId.YAxis 4,\r\n",
    "        Position= 0.85,\r\n",
    "        Overlaying=StyleParam.LinearAxisId.Y 1\r\n",
    "    )\r\n",
    "    "
   ],
   "outputs": [
    {
     "output_type": "display_data",
     "data": {
      "text/html": ""
     },
     "metadata": {}
    }
   ],
   "metadata": {
    "dotnet_interactive": {
     "language": "fsharp"
    }
   }
  },
  {
   "cell_type": "markdown",
   "source": [
    "# Multiple Y-Axes Subplots"
   ],
   "metadata": {}
  },
  {
   "cell_type": "code",
   "execution_count": null,
   "source": [
    "// open Plotly.NET\r\n",
    "\r\n",
    "// let x = [for i in 0..10 -> i]\r\n",
    "// let y = [for i in x -> Math.Pow(float i,2.0)]\r\n",
    "// let y2 = [for i in x -> Math.Pow(float i,3.0)]\r\n",
    "\r\n",
    "// [\r\n",
    "//     [\r\n",
    "//         Chart.Point(x,y,Name=\"1,1\") |> Chart.withAxisAnchor(Y=1) \r\n",
    "//         Chart.Point(x,y2,Name=\"1,2\") |> Chart.withAxisAnchor(Y=2) \r\n",
    "//     ]|>\r\n",
    "//     Chart.combine\r\n",
    "//     |> Chart.withYAxisStyle(\"y1\",Side=StyleParam.Side.Left,Id=StyleParam.SubPlotId.YAxis 1)    \r\n",
    "//     |> Chart.withYAxisStyle(\"y2\", Side=StyleParam.Side.Right,Id=StyleParam.SubPlotId.YAxis 2)\r\n",
    "\r\n",
    "//     Chart.Invisible()\r\n",
    "\r\n",
    "// ]\r\n",
    "// |> Chart.Grid(2,2)\r\n",
    "\r\n",
    "\r\n",
    "\r\n",
    "// let getChart i =\r\n",
    "//     [\r\n",
    "//         Chart.Line(x,y1,Name=\"anchor \"+string i,ShowMarkers=true) |> Chart.withAxisAnchor(Y=i);\r\n",
    "//         Chart.Line(x,y2,Name=\"anchor \"+string (i+1),ShowMarkers=true) |> Chart.withAxisAnchor(Y=i+1)       \r\n",
    "//     ]\r\n",
    "//     |> Chart.combine\r\n",
    "//     |> Chart.withLayout(Layout.init(Plot_bgcolor=\"#e5ecf6\"))\r\n",
    "//     |> Chart.withYAxisStyle(\r\n",
    "//             \"axis 1\",\r\n",
    "//             Side=StyleParam.Side.Left,\r\n",
    "//             Id=StyleParam.SubPlotId.YAxis i\r\n",
    "//         )\r\n",
    "//     |> Chart.withYAxisStyle(\r\n",
    "//             \"axis 2\",\r\n",
    "//             Side=StyleParam.Side.Right,\r\n",
    "//             Id=StyleParam.SubPlotId.YAxis (i+1),\r\n",
    "//             Overlaying=StyleParam.LinearAxisId.Y 1\r\n",
    "//         )\r\n",
    "\r\n",
    "// let grid = \r\n",
    "//     [\r\n",
    "//         for i in 1..1 -> (getChart i)\r\n",
    "//     ]\r\n",
    "//     |> Chart.Grid(2,2)\r\n",
    "\r\n",
    "// grid\r\n"
   ],
   "outputs": [],
   "metadata": {
    "dotnet_interactive": {
     "language": "fsharp"
    }
   }
  }
 ],
 "metadata": {
  "orig_nbformat": 4,
  "language_info": {
   "file_extension": ".cs",
   "mimetype": "text/x-csharp",
   "name": "C#",
   "pygments_lexer": "csharp",
   "version": "9.0"
  },
  "kernelspec": {
   "display_name": ".NET (C#)",
   "language": "C#",
   "name": ".net-csharp"
  }
 },
 "nbformat": 4,
 "nbformat_minor": 2
}