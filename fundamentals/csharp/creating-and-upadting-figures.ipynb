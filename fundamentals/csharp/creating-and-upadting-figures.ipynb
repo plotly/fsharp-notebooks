{
 "cells": [
  {
   "cell_type": "code",
   "execution_count": null,
   "metadata": {
    "dotnet_interactive": {
     "language": "csharp"
    }
   },
   "outputs": [
    {
     "data": {
      "text/html": [
       "<div><div></div><div></div><div><strong>Installed Packages</strong><ul><li><span>Deedle, 2.4.3</span></li><li><span>FSharp.Data, 4.2.3</span></li><li><span>Plotly.NET, 2.0.0-preview.8</span></li><li><span>Plotly.NET.Interactive, 2.0.0-preview.8</span></li></ul></div></div>"
      ]
     },
     "metadata": {},
     "output_type": "display_data"
    },
    {
     "data": {
      "text/markdown": [
       "Loading extensions from `Plotly.NET.Interactive.dll`"
      ]
     },
     "metadata": {},
     "output_type": "display_data"
    },
    {
     "data": {
      "text/markdown": [
       "Added Kernel Extension including formatters for Plotly.NET charts."
      ]
     },
     "metadata": {},
     "output_type": "display_data"
    }
   ],
   "source": [
    "#r \"nuget: Plotly.NET, 2.0.0-preview.8\"\n",
    "#r \"nuget: Plotly.NET.Interactive, 2.0.0-preview.8\"\n",
    "#r \"nuget: Deedle\"\n",
    "#r \"nuget: FSharp.Data\""
   ]
  },
  {
   "cell_type": "markdown",
   "metadata": {},
   "source": [
    "The plotly.NET package exists to create, manipulate and render graphical figures (i.e. charts, plots, maps and diagrams) represented by data structures also referred to as figures. The rendering process uses the Plotly.js JavaScript library under the hood although .NET developers using this module very rarely need to interact with the Javascript library directly, if ever. Figures can be represented as 'DynamicObj' an extension of `DynamicObject` which makes it possible to set arbitraryly named and typed properties of these objects via the `?` operator, and are serialized as text in JavaScript Object Notation (JSON) before being passed to Plotly.js."
   ]
  },
  {
   "cell_type": "markdown",
   "metadata": {},
   "source": [
    "# Creating Figures using DynamicObject"
   ]
  },
  {
   "cell_type": "code",
   "execution_count": null,
   "metadata": {
    "dotnet_interactive": {
     "language": "csharp"
    }
   },
   "outputs": [
    {
     "data": {
      "text/html": [
       "<div id=\"b4f3fa74-b042-46fb-a6fc-9b907dcc3db1\" style=\"width: 600px; height: 600px;\"><!-- Plotly chart will be drawn inside this DIV --></div>\r\n",
       "<script type=\"text/javascript\">\r\n",
       "\n",
       "            var renderPlotly_b4f3fa74b04246fba6fc9b907dcc3db1 = function() {\n",
       "            var fsharpPlotlyRequire = requirejs.config({context:'fsharp-plotly',paths:{plotly:'https://cdn.plot.ly/plotly-latest.min'}}) || require;\n",
       "            fsharpPlotlyRequire(['plotly'], function(Plotly) {\r\n",
       "\n",
       "            var data = [{\"type\":\"bar\",\"x\":[1,2,3],\"y\":[1,3,2]}];\n",
       "            var layout = {\"xaxis\":{\"title\":\"xAxis\",\"zerolinecolor\":\"#ffff\",\"gridcolor\":\"#ffff\",\"showline\":true,\"zerolinewidth\":2},\"yaxis\":{\"title\":\"yAxis\",\"zerolinecolor\":\"#ffff\",\"gridcolor\":\"#ffff\",\"showline\":true,\"zerolinewidth\":2},\"title\":\"A Figure Specified by DynamicObj\",\"plot_bgcolor\":\"#e5ecf6\",\"showlegend\":true};\n",
       "            var config = {};\n",
       "            Plotly.newPlot('b4f3fa74-b042-46fb-a6fc-9b907dcc3db1', data, layout, config);\r\n",
       "});\n",
       "            };\n",
       "            if ((typeof(requirejs) !==  typeof(Function)) || (typeof(requirejs.config) !== typeof(Function))) {\n",
       "                var script = document.createElement(\"script\");\n",
       "                script.setAttribute(\"src\", \"https://cdnjs.cloudflare.com/ajax/libs/require.js/2.3.6/require.min.js\");\n",
       "                script.onload = function(){\n",
       "                    renderPlotly_b4f3fa74b04246fba6fc9b907dcc3db1();\n",
       "                };\n",
       "                document.getElementsByTagName(\"head\")[0].appendChild(script);\n",
       "            }\n",
       "            else {\n",
       "                renderPlotly_b4f3fa74b04246fba6fc9b907dcc3db1();\n",
       "            }\r\n",
       "</script>\r\n"
      ]
     },
     "metadata": {},
     "output_type": "display_data"
    }
   ],
   "source": [
    "using Plotly.NET;\n",
    "using Plotly.NET.LayoutObjects;\n",
    "using Microsoft.FSharp.Core;\n",
    "using Microsoft.FSharp.Collections;\n",
    "\n",
    "LinearAxis xAxis = new LinearAxis();\n",
    "xAxis.SetValue(\"title\", \"xAxis\");\n",
    "xAxis.SetValue(\"zerolinecolor\", \"#ffff\");\n",
    "xAxis.SetValue(\"gridcolor\", \"#ffff\");\n",
    "xAxis.SetValue(\"showline\", true);\n",
    "xAxis.SetValue(\"zerolinewidth\",2);\n",
    "\n",
    "LinearAxis yAxis = new LinearAxis();\n",
    "yAxis.SetValue(\"title\", \"yAxis\");\n",
    "yAxis.SetValue(\"zerolinecolor\", \"#ffff\");\n",
    "yAxis.SetValue(\"gridcolor\", \"#ffff\");\n",
    "yAxis.SetValue(\"showline\", true);\n",
    "yAxis.SetValue(\"zerolinewidth\",2);\n",
    "\n",
    "Layout layout = new Layout();\n",
    "layout.SetValue(\"xaxis\", xAxis);\n",
    "layout.SetValue(\"yaxis\", yAxis);\n",
    "layout.SetValue(\"title\", \"A Figure Specified by DynamicObj\");\n",
    "layout.SetValue(\"plot_bgcolor\", \"#e5ecf6\");\n",
    "layout.SetValue(\"showlegend\", true);\n",
    "\n",
    "Trace trace = new Trace(\"bar\");\n",
    "trace.SetValue(\"x\", new []{1,2,3});\n",
    "trace.SetValue(\"y\", new []{1,3,2});\n",
    "\n",
    "\n",
    "var fig = GenericChart.Figure.create(ListModule.OfSeq(new []{trace}),layout);\n",
    "GenericChart.fromFigure(fig)"
   ]
  },
  {
   "cell_type": "markdown",
   "metadata": {},
   "source": [
    "# Figures as GenericChart Objects\n",
    "\n",
    "Plotly.NET is a .NET wrapper for creation of `plotly charts`() written in F#. This means that, under the hood, all functionality creates JSON objects that can be rendered by plotly.\n",
    "The central type that gets created by all Chart constructors is `GenericChart`, which itself represents either a single chart or a multi chart (as a Discriminate Union type). Plotly.NET has multiple abstraction layers to work with `GenericChart`s.\n",
    "\n",
    "Chart type provides an F# convience layer that abstracts dynamic object creation. Chart type covers all the plot types(i.e Scatter,Line,3D, Heatmap etc).\n",
    "The main benefit of creating charts using Chart type is; It provides strongly typed access to all the properties of Plotly figure "
   ]
  },
  {
   "cell_type": "code",
   "execution_count": null,
   "metadata": {
    "dotnet_interactive": {
     "language": "csharp"
    }
   },
   "outputs": [
    {
     "data": {
      "text/html": [
       "<div id=\"98fa3f0e-8846-4589-9237-7b178d641715\" style=\"width: 600px; height: 600px;\"><!-- Plotly chart will be drawn inside this DIV --></div>\r\n",
       "<script type=\"text/javascript\">\r\n",
       "\n",
       "            var renderPlotly_98fa3f0e8846458992377b178d641715 = function() {\n",
       "            var fsharpPlotlyRequire = requirejs.config({context:'fsharp-plotly',paths:{plotly:'https://cdn.plot.ly/plotly-latest.min'}}) || require;\n",
       "            fsharpPlotlyRequire(['plotly'], function(Plotly) {\r\n",
       "\n",
       "            var data = [{\"type\":\"bar\",\"x\":[1,2,3],\"y\":[1,3,2],\"marker\":{}}];\n",
       "            var layout = {\"xaxis\":{\"title\":{\"text\":\"xAxis\"},\"gridcolor\":\"#ffff\",\"zerolinecolor\":\"#ffff\",\"zerolinewidth\":2.0},\"yaxis\":{\"title\":{\"text\":\"yAxis\"},\"gridcolor\":\"#ffff\",\"zerolinecolor\":\"#ffff\",\"zerolinewidth\":2.0},\"title\":{\"text\":\"A Plotly.NET Chart\"},\"plot_bgcolor\":\"#e5ecf6\"};\n",
       "            var config = {};\n",
       "            Plotly.newPlot('98fa3f0e-8846-4589-9237-7b178d641715', data, layout, config);\r\n",
       "});\n",
       "            };\n",
       "            if ((typeof(requirejs) !==  typeof(Function)) || (typeof(requirejs.config) !== typeof(Function))) {\n",
       "                var script = document.createElement(\"script\");\n",
       "                script.setAttribute(\"src\", \"https://cdnjs.cloudflare.com/ajax/libs/require.js/2.3.6/require.min.js\");\n",
       "                script.onload = function(){\n",
       "                    renderPlotly_98fa3f0e8846458992377b178d641715();\n",
       "                };\n",
       "                document.getElementsByTagName(\"head\")[0].appendChild(script);\n",
       "            }\n",
       "            else {\n",
       "                renderPlotly_98fa3f0e8846458992377b178d641715();\n",
       "            }\r\n",
       "</script>\r\n"
      ]
     },
     "metadata": {},
     "output_type": "display_data"
    }
   ],
   "source": [
    "using Plotly.NET;\n",
    "using Plotly.NET.TraceObjects;\n",
    "using Plotly.NET.LayoutObjects;\n",
    "\n",
    "var xAxis = LinearAxis.init<IConvertible, IConvertible, IConvertible, IConvertible, IConvertible, IConvertible>(\n",
    "                Title:Title.init(\"xAxis\"),\n",
    "                ZeroLineColor:Color.fromString(\"#ffff\"),\n",
    "                GridColor:Color.fromString(\"#ffff\"),\n",
    "                ZeroLineWidth:2);\n",
    "\n",
    "var yAxis = LinearAxis.init<IConvertible, IConvertible, IConvertible, IConvertible, IConvertible, IConvertible>(\n",
    "                Title:Title.init(\"yAxis\"),\n",
    "                ZeroLineColor:Color.fromString(\"#ffff\"),\n",
    "                GridColor:Color.fromString(\"#ffff\"),\n",
    "                ZeroLineWidth:2);\n",
    "\n",
    "var layout = Layout.init<IConvertible>(Title:Title.init(\"A Plotly.NET Chart\"),PlotBGColor : Color.fromString(\"#e5ecf6\"));\n",
    "\n",
    "Chart2D.Chart.Column<int,int,int>(keys:new []{1,2,3},values:new []{1,3,2})\n",
    "    .WithXAxis(xAxis)\n",
    "    .WithYAxis(yAxis)\n",
    "    .WithLayout(layout)"
   ]
  },
  {
   "cell_type": "markdown",
   "metadata": {},
   "source": [
    "# Creating Figures/Charts\n",
    "\n",
    "This section summarizes several ways to create new Plotly figures with the Plotly.NET."
   ]
  },
  {
   "cell_type": "markdown",
   "metadata": {},
   "source": [
    "## Scatter Plot"
   ]
  },
  {
   "cell_type": "code",
   "execution_count": null,
   "metadata": {
    "dotnet_interactive": {
     "language": "csharp"
    }
   },
   "outputs": [
    {
     "data": {
      "text/html": [
       "<div id=\"efb6d50b-d91e-42b4-ba9f-cfa114316f39\" style=\"width: 600px; height: 600px;\"><!-- Plotly chart will be drawn inside this DIV --></div>\r\n",
       "<script type=\"text/javascript\">\r\n",
       "\n",
       "            var renderPlotly_efb6d50bd91e42b4ba9fcfa114316f39 = function() {\n",
       "            var fsharpPlotlyRequire = requirejs.config({context:'fsharp-plotly',paths:{plotly:'https://cdn.plot.ly/plotly-latest.min'}}) || require;\n",
       "            fsharpPlotlyRequire(['plotly'], function(Plotly) {\r\n",
       "\n",
       "            var data = [{\"type\":\"scatter\",\"mode\":\"markers\",\"x\":[3.5,3.0,3.2,3.1,3.6,3.9,3.4,3.4,2.9,3.1,3.7,3.4,3.0,3.0,4.0,4.4,3.9,3.5,3.8,3.8,3.4,3.7,3.6,3.3,3.4,3.0,3.4,3.5,3.4,3.2,3.1,3.4,4.1,4.2,3.1,3.2,3.5,3.1,3.0,3.4,3.5,2.3,3.2,3.5,3.8,3.0,3.8,3.2,3.7,3.3,3.2,3.2,3.1,2.3,2.8,2.8,3.3,2.4,2.9,2.7,2.0,3.0,2.2,2.9,2.9,3.1,3.0,2.7,2.2,2.5,3.2,2.8,2.5,2.8,2.9,3.0,2.8,3.0,2.9,2.6,2.4,2.4,2.7,2.7,3.0,3.4,3.1,2.3,3.0,2.5,2.6,3.0,2.6,2.3,2.7,3.0,2.9,2.9,2.5,2.8,3.3,2.7,3.0,2.9,3.0,3.0,2.5,2.9,2.5,3.6,3.2,2.7,3.0,2.5,2.8,3.2,3.0,3.8,2.6,2.2,3.2,2.8,2.8,2.7,3.3,3.2,2.8,3.0,2.8,3.0,2.8,3.8,2.8,2.8,2.6,3.0,3.4,3.1,3.0,3.1,3.1,3.1,2.7,3.2,3.3,3.0,2.5,3.0,3.4,3.0],\"y\":[5.1,4.9,4.7,4.6,5.0,5.4,4.6,5.0,4.4,4.9,5.4,4.8,4.8,4.3,5.8,5.7,5.4,5.1,5.7,5.1,5.4,5.1,4.6,5.1,4.8,5.0,5.0,5.2,5.2,4.7,4.8,5.4,5.2,5.5,4.9,5.0,5.5,4.9,4.4,5.1,5.0,4.5,4.4,5.0,5.1,4.8,5.1,4.6,5.3,5.0,7.0,6.4,6.9,5.5,6.5,5.7,6.3,4.9,6.6,5.2,5.0,5.9,6.0,6.1,5.6,6.7,5.6,5.8,6.2,5.6,5.9,6.1,6.3,6.1,6.4,6.6,6.8,6.7,6.0,5.7,5.5,5.5,5.8,6.0,5.4,6.0,6.7,6.3,5.6,5.5,5.5,6.1,5.8,5.0,5.6,5.7,5.7,6.2,5.1,5.7,6.3,5.8,7.1,6.3,6.5,7.6,4.9,7.3,6.7,7.2,6.5,6.4,6.8,5.7,5.8,6.4,6.5,7.7,7.7,6.0,6.9,5.6,7.7,6.3,6.7,7.2,6.2,6.1,6.4,7.2,7.4,7.9,6.4,6.3,6.1,7.7,6.3,6.4,6.0,6.9,6.7,6.9,5.8,6.8,6.7,6.7,6.3,6.5,6.2,5.9],\"line\":{\"color\":[\"blue\",\"blue\",\"blue\",\"blue\",\"blue\",\"blue\",\"blue\",\"blue\",\"blue\",\"blue\",\"blue\",\"blue\",\"blue\",\"blue\",\"blue\",\"blue\",\"blue\",\"blue\",\"blue\",\"blue\",\"blue\",\"blue\",\"blue\",\"blue\",\"blue\",\"blue\",\"blue\",\"blue\",\"blue\",\"blue\",\"blue\",\"blue\",\"blue\",\"blue\",\"blue\",\"blue\",\"blue\",\"blue\",\"blue\",\"blue\",\"blue\",\"blue\",\"blue\",\"blue\",\"blue\",\"blue\",\"blue\",\"blue\",\"blue\",\"blue\",\"orange\",\"orange\",\"orange\",\"orange\",\"orange\",\"orange\",\"orange\",\"orange\",\"orange\",\"orange\",\"orange\",\"orange\",\"orange\",\"orange\",\"orange\",\"orange\",\"orange\",\"orange\",\"orange\",\"orange\",\"orange\",\"orange\",\"orange\",\"orange\",\"orange\",\"orange\",\"orange\",\"orange\",\"orange\",\"orange\",\"orange\",\"orange\",\"orange\",\"orange\",\"orange\",\"orange\",\"orange\",\"orange\",\"orange\",\"orange\",\"orange\",\"orange\",\"orange\",\"orange\",\"orange\",\"orange\",\"orange\",\"orange\",\"orange\",\"orange\",\"deeppink\",\"deeppink\",\"deeppink\",\"deeppink\",\"deeppink\",\"deeppink\",\"deeppink\",\"deeppink\",\"deeppink\",\"deeppink\",\"deeppink\",\"deeppink\",\"deeppink\",\"deeppink\",\"deeppink\",\"deeppink\",\"deeppink\",\"deeppink\",\"deeppink\",\"deeppink\",\"deeppink\",\"deeppink\",\"deeppink\",\"deeppink\",\"deeppink\",\"deeppink\",\"deeppink\",\"deeppink\",\"deeppink\",\"deeppink\",\"deeppink\",\"deeppink\",\"deeppink\",\"deeppink\",\"deeppink\",\"deeppink\",\"deeppink\",\"deeppink\",\"deeppink\",\"deeppink\",\"deeppink\",\"deeppink\",\"deeppink\",\"deeppink\",\"deeppink\",\"deeppink\",\"deeppink\",\"deeppink\",\"deeppink\",\"deeppink\"]},\"marker\":{\"color\":[\"blue\",\"blue\",\"blue\",\"blue\",\"blue\",\"blue\",\"blue\",\"blue\",\"blue\",\"blue\",\"blue\",\"blue\",\"blue\",\"blue\",\"blue\",\"blue\",\"blue\",\"blue\",\"blue\",\"blue\",\"blue\",\"blue\",\"blue\",\"blue\",\"blue\",\"blue\",\"blue\",\"blue\",\"blue\",\"blue\",\"blue\",\"blue\",\"blue\",\"blue\",\"blue\",\"blue\",\"blue\",\"blue\",\"blue\",\"blue\",\"blue\",\"blue\",\"blue\",\"blue\",\"blue\",\"blue\",\"blue\",\"blue\",\"blue\",\"blue\",\"orange\",\"orange\",\"orange\",\"orange\",\"orange\",\"orange\",\"orange\",\"orange\",\"orange\",\"orange\",\"orange\",\"orange\",\"orange\",\"orange\",\"orange\",\"orange\",\"orange\",\"orange\",\"orange\",\"orange\",\"orange\",\"orange\",\"orange\",\"orange\",\"orange\",\"orange\",\"orange\",\"orange\",\"orange\",\"orange\",\"orange\",\"orange\",\"orange\",\"orange\",\"orange\",\"orange\",\"orange\",\"orange\",\"orange\",\"orange\",\"orange\",\"orange\",\"orange\",\"orange\",\"orange\",\"orange\",\"orange\",\"orange\",\"orange\",\"orange\",\"deeppink\",\"deeppink\",\"deeppink\",\"deeppink\",\"deeppink\",\"deeppink\",\"deeppink\",\"deeppink\",\"deeppink\",\"deeppink\",\"deeppink\",\"deeppink\",\"deeppink\",\"deeppink\",\"deeppink\",\"deeppink\",\"deeppink\",\"deeppink\",\"deeppink\",\"deeppink\",\"deeppink\",\"deeppink\",\"deeppink\",\"deeppink\",\"deeppink\",\"deeppink\",\"deeppink\",\"deeppink\",\"deeppink\",\"deeppink\",\"deeppink\",\"deeppink\",\"deeppink\",\"deeppink\",\"deeppink\",\"deeppink\",\"deeppink\",\"deeppink\",\"deeppink\",\"deeppink\",\"deeppink\",\"deeppink\",\"deeppink\",\"deeppink\",\"deeppink\",\"deeppink\",\"deeppink\",\"deeppink\",\"deeppink\",\"deeppink\"]}}];\n",
       "            var layout = {\"title\":{\"text\":\"A Plotly Figure\"},\"plot_bgcolor\":\"#e5ecf6\",\"xaxis\":{\"title\":{\"text\":\"xAxis\"},\"gridcolor\":\"#ffff\",\"zerolinecolor\":\"#ffff\",\"zerolinewidth\":2.0},\"yaxis\":{\"title\":{\"text\":\"yAxis\"},\"gridcolor\":\"#ffff\",\"zerolinecolor\":\"#ffff\",\"zerolinewidth\":2.0}};\n",
       "            var config = {};\n",
       "            Plotly.newPlot('efb6d50b-d91e-42b4-ba9f-cfa114316f39', data, layout, config);\r\n",
       "});\n",
       "            };\n",
       "            if ((typeof(requirejs) !==  typeof(Function)) || (typeof(requirejs.config) !== typeof(Function))) {\n",
       "                var script = document.createElement(\"script\");\n",
       "                script.setAttribute(\"src\", \"https://cdnjs.cloudflare.com/ajax/libs/require.js/2.3.6/require.min.js\");\n",
       "                script.onload = function(){\n",
       "                    renderPlotly_efb6d50bd91e42b4ba9fcfa114316f39();\n",
       "                };\n",
       "                document.getElementsByTagName(\"head\")[0].appendChild(script);\n",
       "            }\n",
       "            else {\n",
       "                renderPlotly_efb6d50bd91e42b4ba9fcfa114316f39();\n",
       "            }\r\n",
       "</script>\r\n"
      ]
     },
     "metadata": {},
     "output_type": "display_data"
    }
   ],
   "source": [
    "using Plotly.NET;\n",
    "using System.Net;\n",
    "using FSharp.Data;\n",
    "\n",
    "var title = Title.init (Text : \"A Plotly Figure\");\n",
    "var csv = CsvFile.Load(\"https://raw.githubusercontent.com/plotly/datasets/master/iris.csv\");\n",
    "\n",
    "IEnumerable<string> GetData(string column) => csv.Rows.Select(row => row.GetColumn(column));\n",
    "\n",
    "var X = Array.ConvertAll(GetData(\"SepalWidth\").ToArray(),Single.Parse);\n",
    "var Y = Array.ConvertAll(GetData(\"SepalLength\").ToArray(),Single.Parse);\n",
    "var Colors = GetData(\"Name\")\n",
    "                .Select(name => \n",
    "                        name switch{\n",
    "                                \"Iris-setosa\" => Color.fromString(\"blue\"),\n",
    "                                \"Iris-versicolor\" => Color.fromString(\"orange\"),\n",
    "                                _ => Color.fromString(\"deeppink\")});\n",
    "\n",
    "var layout = Layout.init<IConvertible>(Title:title, PlotBGColor : Color.fromString(\"#e5ecf6\"));\n",
    "\n",
    "var xAxis = LinearAxis.init<IConvertible, IConvertible, IConvertible, IConvertible, IConvertible, IConvertible>(\n",
    "        Title:Title.init(\"xAxis\"),\n",
    "        ZeroLineColor:Color.fromString(\"#ffff\"),\n",
    "        GridColor:Color.fromString(\"#ffff\"),\n",
    "        ZeroLineWidth:2);\n",
    "\n",
    "var yAxis = LinearAxis.init<IConvertible, IConvertible, IConvertible, IConvertible, IConvertible, IConvertible>(\n",
    "        Title:Title.init(\"yAxis\"),\n",
    "        ZeroLineColor:Color.fromString(\"#ffff\"),\n",
    "        GridColor:Color.fromString(\"#ffff\"),\n",
    "        ZeroLineWidth:2);\n",
    "\n",
    "Chart2D.Chart.Scatter<float,float,string>(x:X,y:Y,mode:StyleParam.Mode.Markers,Color:Color.fromColors(Colors))\n",
    "                .WithLayout(layout)        \n",
    "                .WithXAxis(xAxis)\n",
    "                .WithYAxis(yAxis)\n",
    "\n"
   ]
  },
  {
   "cell_type": "markdown",
   "metadata": {},
   "source": [
    "## Make Subplots\n",
    "\n",
    "Chart.Grid creates a grid of subplots that traces can be added to"
   ]
  },
  {
   "cell_type": "code",
   "execution_count": null,
   "metadata": {
    "dotnet_interactive": {
     "language": "csharp"
    }
   },
   "outputs": [
    {
     "data": {
      "text/html": [
       "<div id=\"8c93e389-a41f-486d-bc37-5153136d0b16\" style=\"width: 600px; height: 600px;\"><!-- Plotly chart will be drawn inside this DIV --></div>\r\n",
       "<script type=\"text/javascript\">\r\n",
       "\n",
       "            var renderPlotly_8c93e389a41f486dbc375153136d0b16 = function() {\n",
       "            var fsharpPlotlyRequire = requirejs.config({context:'fsharp-plotly',paths:{plotly:'https://cdn.plot.ly/plotly-latest.min'}}) || require;\n",
       "            fsharpPlotlyRequire(['plotly'], function(Plotly) {\r\n",
       "\n",
       "            var data = [{\"type\":\"scatter\",\"mode\":\"markers\",\"x\":[1,2,3],\"y\":[4,2,1],\"name\":\"Scatter\",\"line\":{},\"marker\":{},\"xaxis\":\"x\",\"yaxis\":\"y\"},{\"type\":\"bar\",\"x\":[1,2,3],\"y\":[4,2,1],\"marker\":{},\"name\":\"Bar\",\"xaxis\":\"x2\",\"yaxis\":\"y2\"}];\n",
       "            var layout = {\"xaxis\":{},\"yaxis\":{},\"xaxis2\":{},\"yaxis2\":{},\"grid\":{\"rows\":1,\"columns\":2,\"pattern\":\"independent\"}};\n",
       "            var config = {};\n",
       "            Plotly.newPlot('8c93e389-a41f-486d-bc37-5153136d0b16', data, layout, config);\r\n",
       "});\n",
       "            };\n",
       "            if ((typeof(requirejs) !==  typeof(Function)) || (typeof(requirejs.config) !== typeof(Function))) {\n",
       "                var script = document.createElement(\"script\");\n",
       "                script.setAttribute(\"src\", \"https://cdnjs.cloudflare.com/ajax/libs/require.js/2.3.6/require.min.js\");\n",
       "                script.onload = function(){\n",
       "                    renderPlotly_8c93e389a41f486dbc375153136d0b16();\n",
       "                };\n",
       "                document.getElementsByTagName(\"head\")[0].appendChild(script);\n",
       "            }\n",
       "            else {\n",
       "                renderPlotly_8c93e389a41f486dbc375153136d0b16();\n",
       "            }\r\n",
       "</script>\r\n"
      ]
     },
     "metadata": {},
     "output_type": "display_data"
    }
   ],
   "source": [
    "using Plotly.NET;\n",
    "\n",
    "int[] x = {1,2,3};\n",
    "int[] y = {4,2,1};\n",
    "var scatter = Chart2D.Chart.Scatter<int,int,string>(x : x, y : y, mode : StyleParam.Mode.Markers, Name : \"Scatter\");\n",
    "var bar = Chart2D.Chart.Column<int,int,int>(keys:x,values:y,Name:\"Bar\");\n",
    "\n",
    "var chartCombined = new []{scatter,bar};\n",
    "Chart.Grid<IEnumerable<GenericChart.GenericChart>>(1,2).Invoke(chartCombined)"
   ]
  },
  {
   "cell_type": "markdown",
   "metadata": {},
   "source": [
    "# Updating Figures"
   ]
  },
  {
   "cell_type": "markdown",
   "metadata": {},
   "source": [
    "## Adding Traces\n",
    "\n",
    "Traces can be added using Chart.combine that creates a GenericChart object"
   ]
  },
  {
   "cell_type": "code",
   "execution_count": null,
   "metadata": {
    "dotnet_interactive": {
     "language": "csharp"
    }
   },
   "outputs": [
    {
     "data": {
      "text/html": [
       "<div id=\"80c1b338-202e-47f9-8ec5-1f7c54907890\" style=\"width: 600px; height: 600px;\"><!-- Plotly chart will be drawn inside this DIV --></div>\r\n",
       "<script type=\"text/javascript\">\r\n",
       "\n",
       "            var renderPlotly_80c1b338202e47f98ec51f7c54907890 = function() {\n",
       "            var fsharpPlotlyRequire = requirejs.config({context:'fsharp-plotly',paths:{plotly:'https://cdn.plot.ly/plotly-latest.min'}}) || require;\n",
       "            fsharpPlotlyRequire(['plotly'], function(Plotly) {\r\n",
       "\n",
       "            var data = [{\"type\":\"scatter\",\"mode\":\"markers\",\"x\":[1,2,3],\"y\":[4,2,1],\"name\":\"Scatter\",\"line\":{},\"marker\":{\"size\":10}},{\"type\":\"bar\",\"x\":[1,2,3],\"y\":[4,2,1],\"marker\":{},\"name\":\"Bar\"}];\n",
       "            var layout = {};\n",
       "            var config = {};\n",
       "            Plotly.newPlot('80c1b338-202e-47f9-8ec5-1f7c54907890', data, layout, config);\r\n",
       "});\n",
       "            };\n",
       "            if ((typeof(requirejs) !==  typeof(Function)) || (typeof(requirejs.config) !== typeof(Function))) {\n",
       "                var script = document.createElement(\"script\");\n",
       "                script.setAttribute(\"src\", \"https://cdnjs.cloudflare.com/ajax/libs/require.js/2.3.6/require.min.js\");\n",
       "                script.onload = function(){\n",
       "                    renderPlotly_80c1b338202e47f98ec51f7c54907890();\n",
       "                };\n",
       "                document.getElementsByTagName(\"head\")[0].appendChild(script);\n",
       "            }\n",
       "            else {\n",
       "                renderPlotly_80c1b338202e47f98ec51f7c54907890();\n",
       "            }\r\n",
       "</script>\r\n"
      ]
     },
     "metadata": {},
     "output_type": "display_data"
    }
   ],
   "source": [
    "using Plotly.NET;\n",
    "\n",
    "var scatter = Chart2D.Chart.Scatter<int,int,string>(x : x, y : y, mode : StyleParam.Mode.Markers, Name : \"Scatter\")\n",
    "                .WithMarkerStyle(Size:10);\n",
    "\n",
    "var bar = Chart2D.Chart.Column<int,int,int>(keys:x,values:y,Name:\"Bar\");\n",
    "\n",
    "Chart.Combine(new []{scatter,bar})\n"
   ]
  },
  {
   "cell_type": "markdown",
   "metadata": {},
   "source": [
    "## Updating Figure Layouts\n",
    "\n",
    "Chart.withLayout updates the default Layout for the plot"
   ]
  },
  {
   "cell_type": "code",
   "execution_count": null,
   "metadata": {
    "dotnet_interactive": {
     "language": "csharp"
    }
   },
   "outputs": [
    {
     "data": {
      "text/html": [
       "<div id=\"d6979784-ef14-498a-a01e-0e5169aef28a\" style=\"width: 600px; height: 600px;\"><!-- Plotly chart will be drawn inside this DIV --></div>\r\n",
       "<script type=\"text/javascript\">\r\n",
       "\n",
       "            var renderPlotly_d6979784ef14498aa01e0e5169aef28a = function() {\n",
       "            var fsharpPlotlyRequire = requirejs.config({context:'fsharp-plotly',paths:{plotly:'https://cdn.plot.ly/plotly-latest.min'}}) || require;\n",
       "            fsharpPlotlyRequire(['plotly'], function(Plotly) {\r\n",
       "\n",
       "            var data = [{\"type\":\"bar\",\"x\":[1,2,3],\"y\":[4,2,1],\"marker\":{}}];\n",
       "            var layout = {\"title\":{\"text\":\"Using Layout() With Plotly Figures\"},\"font\":{\"size\":17.0},\"plot_bgcolor\":\"#e5ecf6\"};\n",
       "            var config = {};\n",
       "            Plotly.newPlot('d6979784-ef14-498a-a01e-0e5169aef28a', data, layout, config);\r\n",
       "});\n",
       "            };\n",
       "            if ((typeof(requirejs) !==  typeof(Function)) || (typeof(requirejs.config) !== typeof(Function))) {\n",
       "                var script = document.createElement(\"script\");\n",
       "                script.setAttribute(\"src\", \"https://cdnjs.cloudflare.com/ajax/libs/require.js/2.3.6/require.min.js\");\n",
       "                script.onload = function(){\n",
       "                    renderPlotly_d6979784ef14498aa01e0e5169aef28a();\n",
       "                };\n",
       "                document.getElementsByTagName(\"head\")[0].appendChild(script);\n",
       "            }\n",
       "            else {\n",
       "                renderPlotly_d6979784ef14498aa01e0e5169aef28a();\n",
       "            }\r\n",
       "</script>\r\n"
      ]
     },
     "metadata": {},
     "output_type": "display_data"
    }
   ],
   "source": [
    "using Plotly.NET;\n",
    "\n",
    "var title = Title.init (Text : \"Using Layout() With Plotly Figures\");\n",
    "var layout = Layout.init<IConvertible>(Title:title, \n",
    "                            PlotBGColor : Color.fromString(\"#e5ecf6\"),\n",
    "                            Font:Font.init(Size:17));\n",
    "\n",
    "Chart2D.Chart.Column<int,int,int>(keys:new []{1,2,3},values:new []{4,2,1})\n",
    "    .WithLayout(layout)"
   ]
  },
  {
   "cell_type": "markdown",
   "metadata": {},
   "source": [
    "# Updating Traces\n",
    "\n",
    "Plotly.NET provides extensions for updating properties of GenericChart\n",
    "\n",
    "To show some examples, we will start with a chart that contains bar and scatter traces across two subplots."
   ]
  },
  {
   "cell_type": "code",
   "execution_count": null,
   "metadata": {
    "dotnet_interactive": {
     "language": "csharp"
    }
   },
   "outputs": [
    {
     "data": {
      "text/html": [
       "<div id=\"d8803d49-4849-473d-bc03-c8becb3f9539\" style=\"width: 600px; height: 600px;\"><!-- Plotly chart will be drawn inside this DIV --></div>\r\n",
       "<script type=\"text/javascript\">\r\n",
       "\n",
       "            var renderPlotly_d8803d494849473dbc03c8becb3f9539 = function() {\n",
       "            var fsharpPlotlyRequire = requirejs.config({context:'fsharp-plotly',paths:{plotly:'https://cdn.plot.ly/plotly-latest.min'}}) || require;\n",
       "            fsharpPlotlyRequire(['plotly'], function(Plotly) {\r\n",
       "\n",
       "            var data = [{\"type\":\"bar\",\"x\":[0,1,2],\"y\":[2,1,3],\"marker\":{\"color\":\"red\"},\"name\":\"b\",\"xaxis\":\"x\",\"yaxis\":\"y\"},{\"type\":\"scatter\",\"mode\":\"markers\",\"x\":[0,1,2],\"y\":[4.0,2.0,3.5],\"name\":\"a\",\"line\":{},\"marker\":{\"size\":20,\"color\":\"rgb(51, 204, 51)\"},\"xaxis\":\"x\",\"yaxis\":\"y\"},{\"type\":\"bar\",\"x\":[0,1,2],\"y\":[1,3,2],\"marker\":{\"color\":\"#33cc33\"},\"name\":\"c\",\"xaxis\":\"x2\",\"yaxis\":\"y2\"},{\"type\":\"scatter\",\"mode\":\"markers\",\"x\":[0,1,2],\"y\":[2.0,3.5,4.0],\"name\":\"a\",\"line\":{},\"marker\":{\"size\":20,\"color\":\"rgb(255, 0,0)\"},\"xaxis\":\"x2\",\"yaxis\":\"y2\"}];\n",
       "            var layout = {\"xaxis\":{},\"yaxis\":{},\"xaxis2\":{},\"yaxis2\":{},\"grid\":{\"rows\":1,\"columns\":2,\"pattern\":\"independent\"}};\n",
       "            var config = {};\n",
       "            Plotly.newPlot('d8803d49-4849-473d-bc03-c8becb3f9539', data, layout, config);\r\n",
       "});\n",
       "            };\n",
       "            if ((typeof(requirejs) !==  typeof(Function)) || (typeof(requirejs.config) !== typeof(Function))) {\n",
       "                var script = document.createElement(\"script\");\n",
       "                script.setAttribute(\"src\", \"https://cdnjs.cloudflare.com/ajax/libs/require.js/2.3.6/require.min.js\");\n",
       "                script.onload = function(){\n",
       "                    renderPlotly_d8803d494849473dbc03c8becb3f9539();\n",
       "                };\n",
       "                document.getElementsByTagName(\"head\")[0].appendChild(script);\n",
       "            }\n",
       "            else {\n",
       "                renderPlotly_d8803d494849473dbc03c8becb3f9539();\n",
       "            }\r\n",
       "</script>\r\n"
      ]
     },
     "metadata": {},
     "output_type": "display_data"
    }
   ],
   "source": [
    "using Plotly.NET;\n",
    "using _2DChart = Plotly.NET.Chart2D.Chart;\n",
    "\n",
    "var fig1 = new []{ \n",
    "    _2DChart.Column<int,int,int>(keys:new []{0,1,2},values:new []{2,1,3},Name:\"b\",Color:Color.fromString(\"red\")),\n",
    "\n",
    "    _2DChart.Scatter<int,double,int>(x:new []{0,1,2},y:new[]{4,2,3.5},Name:\"a\",mode:StyleParam.Mode.Markers)\n",
    "            .WithMarkerStyle(Size:20,Color:Color.fromString(\"rgb(51, 204, 51)\"))\n",
    "    };\n",
    "\n",
    "var combinedFig1 = Chart.Combine(fig1);\n",
    "\n",
    "var fig2 = new []{ \n",
    "    _2DChart.Column<int,int,int>(keys:new []{0,1,2},values:new []{1,3,2},Name:\"c\",Color:Color.fromString(\"#33cc33\")),\n",
    "\n",
    "    _2DChart.Scatter<int,double,int>(x:new []{0,1,2},y:new[]{2,3.5,4},Name:\"a\",mode:StyleParam.Mode.Markers)\n",
    "            .WithMarkerStyle(Size:20,Color:Color.fromString(\"rgb(255, 0,0)\"))\n",
    "    };\n",
    "\n",
    "var combinedFig2 = Chart.Combine(fig2);\n",
    "\n",
    "Chart.Grid<IEnumerable<GenericChart.GenericChart>>(1,2).Invoke(new []{combinedFig1,combinedFig2})"
   ]
  },
  {
   "cell_type": "markdown",
   "metadata": {},
   "source": [
    "Note that both scatter and bar traces have a Marker Color property to control their coloring. Here is an example of using markerStyle() to modify the color of all traces."
   ]
  },
  {
   "cell_type": "code",
   "execution_count": null,
   "metadata": {
    "dotnet_interactive": {
     "language": "csharp"
    }
   },
   "outputs": [
    {
     "data": {
      "text/html": [
       "<div id=\"8c714567-3eff-4def-854c-12bc2cc12771\" style=\"width: 600px; height: 600px;\"><!-- Plotly chart will be drawn inside this DIV --></div>\r\n",
       "<script type=\"text/javascript\">\r\n",
       "\n",
       "            var renderPlotly_8c7145673eff4def854c12bc2cc12771 = function() {\n",
       "            var fsharpPlotlyRequire = requirejs.config({context:'fsharp-plotly',paths:{plotly:'https://cdn.plot.ly/plotly-latest.min'}}) || require;\n",
       "            fsharpPlotlyRequire(['plotly'], function(Plotly) {\r\n",
       "\n",
       "            var data = [{\"type\":\"bar\",\"x\":[0,1,2],\"y\":[2,1,3],\"marker\":{\"size\":20,\"color\":\"blue\"},\"name\":\"b\",\"xaxis\":\"x\",\"yaxis\":\"y\"},{\"type\":\"scatter\",\"mode\":\"markers\",\"x\":[0,1,2],\"y\":[4.0,2.0,3.5],\"name\":\"a\",\"line\":{},\"marker\":{\"size\":20,\"color\":\"blue\"},\"xaxis\":\"x\",\"yaxis\":\"y\"},{\"type\":\"bar\",\"x\":[0,1,2],\"y\":[1,3,2],\"marker\":{\"size\":20,\"color\":\"blue\"},\"name\":\"c\",\"xaxis\":\"x2\",\"yaxis\":\"y2\"},{\"type\":\"scatter\",\"mode\":\"markers\",\"x\":[0,1,2],\"y\":[2.0,3.5,4.0],\"name\":\"a\",\"line\":{},\"marker\":{\"size\":20,\"color\":\"blue\"},\"xaxis\":\"x2\",\"yaxis\":\"y2\"}];\n",
       "            var layout = {\"xaxis\":{},\"yaxis\":{},\"xaxis2\":{},\"yaxis2\":{},\"grid\":{\"rows\":1,\"columns\":2,\"pattern\":\"independent\"}};\n",
       "            var config = {};\n",
       "            Plotly.newPlot('8c714567-3eff-4def-854c-12bc2cc12771', data, layout, config);\r\n",
       "});\n",
       "            };\n",
       "            if ((typeof(requirejs) !==  typeof(Function)) || (typeof(requirejs.config) !== typeof(Function))) {\n",
       "                var script = document.createElement(\"script\");\n",
       "                script.setAttribute(\"src\", \"https://cdnjs.cloudflare.com/ajax/libs/require.js/2.3.6/require.min.js\");\n",
       "                script.onload = function(){\n",
       "                    renderPlotly_8c7145673eff4def854c12bc2cc12771();\n",
       "                };\n",
       "                document.getElementsByTagName(\"head\")[0].appendChild(script);\n",
       "            }\n",
       "            else {\n",
       "                renderPlotly_8c7145673eff4def854c12bc2cc12771();\n",
       "            }\r\n",
       "</script>\r\n"
      ]
     },
     "metadata": {},
     "output_type": "display_data"
    }
   ],
   "source": [
    "using Plotly.NET;\n",
    "using _2DChart = Plotly.NET.Chart2D.Chart;\n",
    "\n",
    "var fig1 = new []{ \n",
    "    _2DChart.Column<int,int,int>(keys:new []{0,1,2},values:new []{2,1,3},Name:\"b\",Color:Color.fromString(\"red\")),\n",
    "\n",
    "    _2DChart.Scatter<int,double,int>(x:new []{0,1,2},y:new[]{4,2,3.5},Name:\"a\",mode:StyleParam.Mode.Markers)\n",
    "            .WithMarkerStyle(Size:20,Color:Color.fromString(\"rgb(51, 204, 51)\"))\n",
    "    };\n",
    "\n",
    "var combinedFig1 = Chart.Combine(fig1)\n",
    "                        .WithMarkerStyle(Size:20,Color:Color.fromString(\"blue\"));\n",
    "\n",
    "var fig2 = new []{ \n",
    "    _2DChart.Column<int,int,int>(keys:new []{0,1,2},values:new []{1,3,2},Name:\"c\",Color:Color.fromString(\"#33cc33\")),\n",
    "\n",
    "    _2DChart.Scatter<int,double,int>(x:new []{0,1,2},y:new[]{2,3.5,4},Name:\"a\",mode:StyleParam.Mode.Markers)\n",
    "            .WithMarkerStyle(Size:20,Color:Color.fromString(\"rgb(255, 0,0)\"))\n",
    "    };\n",
    "\n",
    "var combinedFig2 = Chart.Combine(fig2)\n",
    "                        .WithMarkerStyle(Size:20,Color:Color.fromString(\"blue\"));\n",
    "\n",
    "Chart.Grid<IEnumerable<GenericChart.GenericChart>>(1,2).Invoke(new []{combinedFig1,combinedFig2})"
   ]
  },
  {
   "cell_type": "markdown",
   "metadata": {},
   "source": [
    "Individual trace marker styles can be updated with markerStyle like as shown above"
   ]
  },
  {
   "cell_type": "markdown",
   "metadata": {},
   "source": [
    "# Overwrite Existing Properties\n",
    "\n",
    "It is possible to overwrite the defined properties with the corresponding extension methods / abstractions\n",
    "\n",
    "For example, Chart.withMarker() overwrites the red color of markers as shown below"
   ]
  },
  {
   "cell_type": "code",
   "execution_count": null,
   "metadata": {
    "dotnet_interactive": {
     "language": "csharp"
    }
   },
   "outputs": [
    {
     "data": {
      "text/html": [
       "<div id=\"f65f16ae-9ab1-43e2-b0bc-6a8c15a7c7fe\" style=\"width: 600px; height: 600px;\"><!-- Plotly chart will be drawn inside this DIV --></div>\r\n",
       "<script type=\"text/javascript\">\r\n",
       "\n",
       "            var renderPlotly_f65f16ae9ab143e2b0bc6a8c15a7c7fe = function() {\n",
       "            var fsharpPlotlyRequire = requirejs.config({context:'fsharp-plotly',paths:{plotly:'https://cdn.plot.ly/plotly-latest.min'}}) || require;\n",
       "            fsharpPlotlyRequire(['plotly'], function(Plotly) {\r\n",
       "\n",
       "            var data = [{\"type\":\"bar\",\"x\":[1,2,3],\"y\":[1,3,2],\"marker\":{\"opacity\":0.4}}];\n",
       "            var layout = {};\n",
       "            var config = {};\n",
       "            Plotly.newPlot('f65f16ae-9ab1-43e2-b0bc-6a8c15a7c7fe', data, layout, config);\r\n",
       "});\n",
       "            };\n",
       "            if ((typeof(requirejs) !==  typeof(Function)) || (typeof(requirejs.config) !== typeof(Function))) {\n",
       "                var script = document.createElement(\"script\");\n",
       "                script.setAttribute(\"src\", \"https://cdnjs.cloudflare.com/ajax/libs/require.js/2.3.6/require.min.js\");\n",
       "                script.onload = function(){\n",
       "                    renderPlotly_f65f16ae9ab143e2b0bc6a8c15a7c7fe();\n",
       "                };\n",
       "                document.getElementsByTagName(\"head\")[0].appendChild(script);\n",
       "            }\n",
       "            else {\n",
       "                renderPlotly_f65f16ae9ab143e2b0bc6a8c15a7c7fe();\n",
       "            }\r\n",
       "</script>\r\n"
      ]
     },
     "metadata": {},
     "output_type": "display_data"
    }
   ],
   "source": [
    "using Plotly.NET;\n",
    "using _2DChart = Plotly.NET.Chart2D.Chart;\n",
    "\n",
    "var marker = Marker.init<int>(Opacity:0.4);\n",
    "_2DChart.Column<int,int,int>(keys:new []{1,2,3},values:new []{1,3,2},Color:Color.fromString(\"red\"))\n",
    "        .WithMarker(marker)"
   ]
  },
  {
   "cell_type": "markdown",
   "metadata": {},
   "source": [
    "# Updating Figure Axes\n",
    "\n",
    "Here is an example of using Chart.withXAxis to disable the vertical grid lines across the subplots in a figure produced by Plotly.NET"
   ]
  },
  {
   "cell_type": "code",
   "execution_count": null,
   "metadata": {
    "dotnet_interactive": {
     "language": "csharp"
    }
   },
   "outputs": [
    {
     "data": {
      "text/html": [
       "<div id=\"6505798b-29fd-4269-93bc-62f038ab4193\" style=\"width: 600px; height: 600px;\"><!-- Plotly chart will be drawn inside this DIV --></div>\r\n",
       "<script type=\"text/javascript\">\r\n",
       "\n",
       "            var renderPlotly_6505798b29fd426993bc62f038ab4193 = function() {\n",
       "            var fsharpPlotlyRequire = requirejs.config({context:'fsharp-plotly',paths:{plotly:'https://cdn.plot.ly/plotly-latest.min'}}) || require;\n",
       "            fsharpPlotlyRequire(['plotly'], function(Plotly) {\r\n",
       "\n",
       "            var data = [{\"type\":\"scatter\",\"mode\":\"markers\",\"x\":[1,2,3,4,5,6,7,8,9,10,11,12,13,14,15,16,17,18,19,20,21,22,23,24,25,26,27,28,29,30,31,32,33,34,35,36,37,38,39,40,41,42,43,44,45,46,47,48,49,50,51,52,53,54,55,56,57,58,59,60,61,62,63,64,65,66,67,68,69,70,71,72,73,74,75,76,77,78,79,80,81,82,83,84,85,86,87,88,89,90,91,92,93,94,95,96,97,98,99,100],\"y\":[13.819602038161644,9.47588723826962,8.64218483848599,9.821981147314414,13.156873969434237,5.353456121102654,10.828849526973837,12.359844142272996,13.512957710080295,10.295935773894161,14.002850432415888,11.038246902654993,11.056954556171295,10.378504435242387,7.829826843379916,14.7102977334104,7.593754694142264,7.393238419850002,7.375719264324624,11.155064057630982,9.50969343283665,8.537583883636437,8.99625813308929,8.985532994375347,10.993373364207043,8.373740163340113,5.605232091902398,5.7554743721873844,13.642803984062189,5.438993172924497,9.007949747148878,11.277837048414089,10.327598287410847,14.910592636983186,12.767511260587494,6.949171271151477,5.406598225425276,7.453650884541521,14.084428972138292,9.508201617052872,11.096426377117833,13.181133199567503,6.556473361121711,8.639227763581662,8.508674829969497,12.2494011964879,9.571023566914267,10.636123807931376,14.990866603325525,13.115518003755955,11.562585223728131,14.33652288249532,10.36484234284835,6.312554749340077,13.410011058864189,10.282018154525208,5.479629105180329,14.656651844110643,13.828607783107369,9.783133806094124,14.748224029200257,10.073375154786453,13.717040158210807,13.073964537155797,6.287986026745283,7.725013384001802,5.710648615244146,11.14636191918811,12.610993174654894,5.880655572228439,14.303699507985124,5.1401038096007445,8.308809447711711,12.86751764727175,5.05863768051315,11.328560233269148,6.981110522514726,5.357030369507629,5.47685816440585,13.743972167719143,13.802716596425844,9.969108283971021,5.76460776886186,5.5272859803062335,8.876407949196365,9.671426864653558,5.912994705565737,9.01504353807077,6.5005815781189975,7.485493106062288,6.4695421659711485,5.749946381314633,8.625043101434152,9.301295166044168,9.759977587852617,6.023051222331381,14.464093041356696,8.482508823965913,7.3512417368363785,5.783661445967695],\"name\":\"1,1\",\"marker\":{},\"xaxis\":\"x\"},{\"type\":\"scatter\",\"mode\":\"markers\",\"x\":[1,2,3,4,5,6,7,8,9,10,11,12,13,14,15,16,17,18,19,20,21,22,23,24,25,26,27,28,29,30,31,32,33,34,35,36,37,38,39,40,41,42,43,44,45,46,47,48,49,50,51,52,53,54,55,56,57,58,59,60,61,62,63,64,65,66,67,68,69,70,71,72,73,74,75,76,77,78,79,80,81,82,83,84,85,86,87,88,89,90,91,92,93,94,95,96,97,98,99,100],\"y\":[3.269376290621877,4.212330823863079,4.012565316638241,4.555105515548543,4.4059092478854165,3.211240707063694,3.0138567173918043,3.7486623477883,0.6269585344134637,1.0407254127975205,1.65045381600524,0.06129936783635028,4.589896839852397,0.042317807694113724,2.9902086048341396,2.3895578726146174,2.154383692962296,4.094877088952287,2.098778293979717,3.308279581045862,0.9060093392180323,3.3478025385866883,2.322890170534556,2.5627500342963034,4.705556703128646,4.276876563335246,3.2575303540832974,4.5037571408337715,1.5537700297095673,4.517793229090885,3.432233595956226,4.249300849274407,4.002894316335625,4.846598359219077,1.1026097932376946,0.1890274743498431,3.4719888253472693,0.8271983688823871,0.8577337422677007,3.7269632675344884,4.321856714934976,1.707835004994569,1.3805632346219212,4.7095653762619785,4.592292737025904,0.6734717151492237,0.7850763508049196,1.7702037430229614,4.160438978187944,4.990430921311691,3.357141918203394,0.6371694317260614,4.6424761180032394,2.867341287372327,4.485821383765815,4.921573752035188,1.8894406533285233,1.449815282341938,4.849548812419897,0.12903268455017017,4.953710352980397,3.5100995765580327,2.194892318078732,1.1091653053225787,2.608491816841295,2.4011529667308333,1.058405051500725,4.743298480633319,3.9397080144564196,2.8011811304842964,3.917569047267348,1.327185324079909,3.237143346684586,3.371815026445228,3.986422866110887,4.198174334223463,1.9672393039647673,2.613324794272578,2.970457297270399,4.032084987979422,3.4918002125303262,1.4873266110603356,0.3433181626458271,1.5633391083978765,1.160651310887491,2.7950641642301646,4.606824731271167,1.1355530289632982,0.3607769754532617,1.181036041202506,3.29958682102132,2.022173543005331,0.9776495564624899,0.7287010577175306,3.7732529145540914,0.8117571383769424,4.512942686915837,0.2713979292993424,2.101073559420683,2.1911397702950706],\"name\":\"1,2\",\"marker\":{},\"xaxis\":\"x2\"}];\n",
       "            var layout = {\"grid\":{\"subplots\":[[\"xy\",\"x2y\"]],\"rows\":1,\"columns\":2},\"xaxis\":{\"title\":{},\"showgrid\":false},\"xaxis2\":{\"title\":{},\"showgrid\":false}};\n",
       "            var config = {};\n",
       "            Plotly.newPlot('6505798b-29fd-4269-93bc-62f038ab4193', data, layout, config);\r\n",
       "});\n",
       "            };\n",
       "            if ((typeof(requirejs) !==  typeof(Function)) || (typeof(requirejs.config) !== typeof(Function))) {\n",
       "                var script = document.createElement(\"script\");\n",
       "                script.setAttribute(\"src\", \"https://cdnjs.cloudflare.com/ajax/libs/require.js/2.3.6/require.min.js\");\n",
       "                script.onload = function(){\n",
       "                    renderPlotly_6505798b29fd426993bc62f038ab4193();\n",
       "                };\n",
       "                document.getElementsByTagName(\"head\")[0].appendChild(script);\n",
       "            }\n",
       "            else {\n",
       "                renderPlotly_6505798b29fd426993bc62f038ab4193();\n",
       "            }\r\n",
       "</script>\r\n"
      ]
     },
     "metadata": {},
     "output_type": "display_data"
    }
   ],
   "source": [
    "using Plotly.NET;\n",
    "using _2DChart = Plotly.NET.Chart2D.Chart;\n",
    "using System;\n",
    "using LinearAxisTuple = System.Tuple<Plotly.NET.StyleParam.LinearAxisId,Plotly.NET.StyleParam.LinearAxisId>;\n",
    "\n",
    "var rand = new Random();\n",
    "var x = Enumerable.Range(1,100).ToArray();\n",
    "var y1 = x.Select(_ => rand.NextDouble()*10+5);\n",
    "var y2 = x.Select(_ => rand.NextDouble()*5);\n",
    "\n",
    "var subPlots =new []{new []{\n",
    "            new LinearAxisTuple(StyleParam.LinearAxisId.X.NewX(1),\n",
    "                                            StyleParam.LinearAxisId.X.NewY(1)),\n",
    "            new LinearAxisTuple(StyleParam.LinearAxisId.X.NewX(2),\n",
    "                                            StyleParam.LinearAxisId.X.NewY(1))}};\n",
    "\n",
    "var layoutGrid = LayoutGrid.init(Rows:1,Columns:2,SubPlots:subPlots);\n",
    "\n",
    "var chart1 = _2DChart.Point<int,double,int>(x:x,y:y1,Name:\"1,1\")\n",
    "                    .WithAxisAnchor(X:1);\n",
    "\n",
    "var chart2 = _2DChart.Point<int,double,int>(x:x,y:y2,Name:\"1,2\")\n",
    "                    .WithAxisAnchor(X:2);\n",
    "\n",
    "Chart.Combine(new []{chart1,chart2})\n",
    "    .WithLayoutGrid(layoutGrid)\n",
    "    .WithXAxisStyle(title=Title.init(),ShowGrid:false,Id:StyleParam.SubPlotId.NewXAxis(1))\n",
    "    .WithXAxisStyle(title=Title.init(),ShowGrid:false,Id:StyleParam.SubPlotId.NewXAxis(2))   \n"
   ]
  },
  {
   "cell_type": "markdown",
   "metadata": {},
   "source": [
    "# Other Update Methods\n",
    "GenericCharts created with the Plotly.NET graphing library also support:\n",
    "\n",
    "the Chart.withLayoutImages() method in order to update background layout images,\n",
    "Chart.withAnnotations() in order to update annotations,\n",
    "and Chart.withShapes() in order to update shapes."
   ]
  },
  {
   "cell_type": "markdown",
   "metadata": {},
   "source": [
    "# Chaining Figure Operations\n",
    "\n",
    "All of the Chart update operations described above are methods that return a reference to the Chart being modified. This makes it possible to chain multiple figure modification operations together into a single expression.\n",
    "\n",
    "Here is an example of a chained expression that:\n",
    "\n",
    "sets the title font size using Chart.withTitle,\n",
    "disables vertical grid lines using LinearAxis,\n",
    "updates the size and color of the markers and bar,\n",
    "and then displaying the Chart."
   ]
  },
  {
   "cell_type": "code",
   "execution_count": null,
   "metadata": {
    "dotnet_interactive": {
     "language": "csharp"
    }
   },
   "outputs": [
    {
     "data": {
      "text/html": [
       "<div id=\"d1e29296-4387-427b-a4de-76472382481c\" style=\"width: 600px; height: 600px;\"><!-- Plotly chart will be drawn inside this DIV --></div>\r\n",
       "<script type=\"text/javascript\">\r\n",
       "\n",
       "            var renderPlotly_d1e292964387427ba4de76472382481c = function() {\n",
       "            var fsharpPlotlyRequire = requirejs.config({context:'fsharp-plotly',paths:{plotly:'https://cdn.plot.ly/plotly-latest.min'}}) || require;\n",
       "            fsharpPlotlyRequire(['plotly'], function(Plotly) {\r\n",
       "\n",
       "            var data = [{\"type\":\"bar\",\"x\":[0,1,2],\"y\":[2,1,3],\"marker\":{\"size\":20,\"color\":\"yellow\",\"line\":{\"width\":1.5}},\"name\":\"b\"},{\"type\":\"scatter\",\"mode\":\"markers\",\"x\":[0,1,2],\"y\":[4.0,2.0,3.5],\"name\":\"a\",\"line\":{},\"marker\":{\"size\":20,\"color\":\"blue\"}}];\n",
       "            var layout = {\"title\":{\"text\":\"Chaining Multiple Chart Operations With A Plotly Chart\",\"font\":{\"size\":15.0}},\"xaxis\":{\"title\":{},\"showgrid\":false}};\n",
       "            var config = {};\n",
       "            Plotly.newPlot('d1e29296-4387-427b-a4de-76472382481c', data, layout, config);\r\n",
       "});\n",
       "            };\n",
       "            if ((typeof(requirejs) !==  typeof(Function)) || (typeof(requirejs.config) !== typeof(Function))) {\n",
       "                var script = document.createElement(\"script\");\n",
       "                script.setAttribute(\"src\", \"https://cdnjs.cloudflare.com/ajax/libs/require.js/2.3.6/require.min.js\");\n",
       "                script.onload = function(){\n",
       "                    renderPlotly_d1e292964387427ba4de76472382481c();\n",
       "                };\n",
       "                document.getElementsByTagName(\"head\")[0].appendChild(script);\n",
       "            }\n",
       "            else {\n",
       "                renderPlotly_d1e292964387427ba4de76472382481c();\n",
       "            }\r\n",
       "</script>\r\n"
      ]
     },
     "metadata": {},
     "output_type": "display_data"
    }
   ],
   "source": [
    "using Plotly.NET;\n",
    "using _2DChart = Plotly.NET.Chart2D.Chart;\n",
    "\n",
    "var marker = Marker.init<int>(Size:20,Color:Color.fromString(\"yellow\"),Line:Line.init(Width:1.5));\n",
    "var fig1 = new []{ \n",
    "    _2DChart.Column<int,int,int>(keys:new []{0,1,2},values:new []{2,1,3},Name:\"b\",Color:Color.fromString(\"red\"))\n",
    "            .WithMarker(marker),\n",
    "\n",
    "    _2DChart.Scatter<int,double,int>(x:new []{0,1,2},y:new[]{4,2,3.5},Name:\"a\",mode:StyleParam.Mode.Markers)\n",
    "            .WithMarkerStyle(Size:20,Color:Color.fromString(\"blue\"))\n",
    "    };\n",
    "\n",
    "Chart.Combine(fig1)\n",
    "    .WithTitle(title:\"Chaining Multiple Chart Operations With A Plotly Chart\",TitleFont:Font.init(Size:15))\n",
    "    .WithXAxisStyle(title:Title.init(),ShowGrid:false)"
   ]
  },
  {
   "cell_type": "markdown",
   "metadata": {},
   "source": [
    "# Property Assignment\n",
    "\n",
    "Trace and layout properties can be updated using property assignment syntax. Here is an example of setting the figure title using property assignment.\n",
    "\n",
    "As TraceObjects and LayoutObjects are of DynamicObj, they can be set through dynamic property assignment. But this is not a preferred way, consider using appropriate F# abstractions to set the properties"
   ]
  },
  {
   "cell_type": "code",
   "execution_count": null,
   "metadata": {
    "dotnet_interactive": {
     "language": "csharp"
    }
   },
   "outputs": [
    {
     "data": {
      "text/html": [
       "<div id=\"001cb079-a20d-4166-9715-7ecc5173e4a1\" style=\"width: 600px; height: 600px;\"><!-- Plotly chart will be drawn inside this DIV --></div>\r\n",
       "<script type=\"text/javascript\">\r\n",
       "\n",
       "            var renderPlotly_001cb079a20d416697157ecc5173e4a1 = function() {\n",
       "            var fsharpPlotlyRequire = requirejs.config({context:'fsharp-plotly',paths:{plotly:'https://cdn.plot.ly/plotly-latest.min'}}) || require;\n",
       "            fsharpPlotlyRequire(['plotly'], function(Plotly) {\r\n",
       "\n",
       "            var data = [{\"type\":\"bar\",\"x\":[1,2,3],\"y\":[1,3,2],\"marker\":{\"color\":\"red\"}}];\n",
       "            var layout = {\"title\":\"Using Property Assignment Syntax With GenericChart Object\",\"plot_bgcolor\":\"#e5ecf6\",\"showlegend\":true};\n",
       "            var config = {};\n",
       "            Plotly.newPlot('001cb079-a20d-4166-9715-7ecc5173e4a1', data, layout, config);\r\n",
       "});\n",
       "            };\n",
       "            if ((typeof(requirejs) !==  typeof(Function)) || (typeof(requirejs.config) !== typeof(Function))) {\n",
       "                var script = document.createElement(\"script\");\n",
       "                script.setAttribute(\"src\", \"https://cdnjs.cloudflare.com/ajax/libs/require.js/2.3.6/require.min.js\");\n",
       "                script.onload = function(){\n",
       "                    renderPlotly_001cb079a20d416697157ecc5173e4a1();\n",
       "                };\n",
       "                document.getElementsByTagName(\"head\")[0].appendChild(script);\n",
       "            }\n",
       "            else {\n",
       "                renderPlotly_001cb079a20d416697157ecc5173e4a1();\n",
       "            }\r\n",
       "</script>\r\n"
      ]
     },
     "metadata": {},
     "output_type": "display_data"
    }
   ],
   "source": [
    "using Plotly.NET;\n",
    "using _2DChart = Plotly.NET.Chart2D.Chart;\n",
    "\n",
    "var layout = new Layout();\n",
    "layout.SetValue(\"title\", \"Using Property Assignment Syntax With GenericChart Object\");\n",
    "layout.SetValue(\"plot_bgcolor\", \"#e5ecf6\");\n",
    "layout.SetValue(\"showlegend\", true);\n",
    "\n",
    "_2DChart.Column<int,int,int>(keys:new []{1,2,3},values:new []{1,3,2},Color:Color.fromString(\"red\"))\n",
    "        .WithLayout(layout)"
   ]
  },
  {
   "cell_type": "markdown",
   "metadata": {},
   "source": [
    "And here is an example of updating the bar outline using property assignment."
   ]
  },
  {
   "cell_type": "code",
   "execution_count": null,
   "metadata": {
    "dotnet_interactive": {
     "language": "csharp"
    }
   },
   "outputs": [
    {
     "data": {
      "text/html": [
       "<div id=\"0c84199e-d2e8-41db-ba1b-ae325f606432\" style=\"width: 600px; height: 600px;\"><!-- Plotly chart will be drawn inside this DIV --></div>\r\n",
       "<script type=\"text/javascript\">\r\n",
       "\n",
       "            var renderPlotly_0c84199ed2e841dbba1bae325f606432 = function() {\n",
       "            var fsharpPlotlyRequire = requirejs.config({context:'fsharp-plotly',paths:{plotly:'https://cdn.plot.ly/plotly-latest.min'}}) || require;\n",
       "            fsharpPlotlyRequire(['plotly'], function(Plotly) {\r\n",
       "\n",
       "            var data = [{\"type\":\"bar\",\"x\":[1,2,3],\"y\":[1,3,2],\"marker\":{\"line\":{\"width\":4,\"color\":\"black\"}}}];\n",
       "            var layout = {};\n",
       "            var config = {};\n",
       "            Plotly.newPlot('0c84199e-d2e8-41db-ba1b-ae325f606432', data, layout, config);\r\n",
       "});\n",
       "            };\n",
       "            if ((typeof(requirejs) !==  typeof(Function)) || (typeof(requirejs.config) !== typeof(Function))) {\n",
       "                var script = document.createElement(\"script\");\n",
       "                script.setAttribute(\"src\", \"https://cdnjs.cloudflare.com/ajax/libs/require.js/2.3.6/require.min.js\");\n",
       "                script.onload = function(){\n",
       "                    renderPlotly_0c84199ed2e841dbba1bae325f606432();\n",
       "                };\n",
       "                document.getElementsByTagName(\"head\")[0].appendChild(script);\n",
       "            }\n",
       "            else {\n",
       "                renderPlotly_0c84199ed2e841dbba1bae325f606432();\n",
       "            }\r\n",
       "</script>\r\n"
      ]
     },
     "metadata": {},
     "output_type": "display_data"
    }
   ],
   "source": [
    "using Plotly.NET;\n",
    "using _2DChart = Plotly.NET.Chart2D.Chart;\n",
    "\n",
    "var marker = new Marker();\n",
    "var line = new Line();\n",
    "line.SetValue(\"width\",4);\n",
    "line.SetValue(\"color\",\"black\");\n",
    "marker.SetValue(\"line\",line);\n",
    "\n",
    "_2DChart.Column<int,int,int>(keys:new []{1,2,3},values:new []{1,3,2},Color:Color.fromString(\"red\"))\n",
    "        .WithMarker(marker)"
   ]
  }
 ],
 "metadata": {
  "kernelspec": {
   "display_name": ".NET (C#)",
   "language": "C#",
   "name": ".net-csharp"
  },
  "language_info": {
   "file_extension": ".cs",
   "mimetype": "text/x-csharp",
   "name": "C#",
   "pygments_lexer": "csharp",
   "version": "9.0"
  },
  "orig_nbformat": 4
 },
 "nbformat": 4,
 "nbformat_minor": 2
}
