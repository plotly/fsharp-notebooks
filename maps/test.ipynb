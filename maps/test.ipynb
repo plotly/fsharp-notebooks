{
 "cells": [
  {
   "cell_type": "code",
   "execution_count": null,
   "id": "3dafc1a2",
   "metadata": {
    "dotnet_interactive": {
     "language": "fsharp"
    }
   },
   "outputs": [],
   "source": [
    "#r \"nuget: Plotly.NET,2.0.0-preview.8\"\n",
    "#r \"nuget: Plotly.NET.Interactive,2.0.0-preview.8\"\n",
    "#r \"nuget: FSharp.Data\"\n",
    "#r \"nuget:Deedle\"\n",
    "#r \"nuget:Newtonsoft.Json\""
   ]
  },
  {
   "cell_type": "markdown",
   "id": "c444b2c9",
   "metadata": {},
   "source": [
    "A Choropleth Map is a map composed of colored polygons. It is used to represent spatial variations of a quantity. This page documents how to build tile-map choropleth maps, but you can also build outline choropleth maps using our non-Mapbox trace types.\n",
    "\n",
    "# Mapbox Access Tokens and Base Map Configuration\n",
    "To plot on Mapbox maps with Plotly you may need a Mapbox account and a public <a href=\"url\" target=\"https://www.mapbox.com/studio\">Mapbox Access Token</a>"
   ]
  },
  {
   "cell_type": "markdown",
   "id": "c2fab2e7",
   "metadata": {},
   "source": [
    "# Introduction: main parameters for choropleth tile maps"
   ]
  },
  {
   "cell_type": "markdown",
   "id": "7960bee7",
   "metadata": {},
   "source": [
    "Making choropleth Mapbox maps requires two main types of input:\n",
    "\n",
    "GeoJSON-formatted geometry information where each feature has either an id field or some identifying value in properties.\n",
    "A list of values indexed by feature identifier."
   ]
  },
  {
   "cell_type": "markdown",
   "id": "6c58cd03",
   "metadata": {},
   "source": [
    "## GeoJSON with feature.id"
   ]
  },
  {
   "cell_type": "markdown",
   "id": "ca17b08e",
   "metadata": {},
   "source": [
    "Here we load a GeoJSON file containing the geometry information for US counties, where feature.id is a FIPS code."
   ]
  },
  {
   "cell_type": "code",
   "execution_count": null,
   "id": "70eb6585",
   "metadata": {
    "dotnet_interactive": {
     "language": "fsharp"
    }
   },
   "outputs": [],
   "source": [
    "open FSharp.Data\n",
    "\n",
    "type jsonProvider = JsonProvider<\"https://raw.githubusercontent.com/plotly/datasets/master/geojson-counties-fips.json\">\n",
    "\n",
    "let counties = jsonProvider.Load(\"https://raw.githubusercontent.com/plotly/datasets/master/geojson-counties-fips.json\")\n",
    "\n",
    "counties.Features.[0].Id\n"
   ]
  },
  {
   "cell_type": "markdown",
   "id": "90c67226",
   "metadata": {},
   "source": [
    "## Data indexed by id"
   ]
  },
  {
   "cell_type": "markdown",
   "id": "885bf0f6",
   "metadata": {},
   "source": [
    "Here we load unemployment data by county, also indexed by FIPS code."
   ]
  },
  {
   "cell_type": "code",
   "execution_count": null,
   "id": "30068f5b",
   "metadata": {
    "dotnet_interactive": {
     "language": "fsharp"
    }
   },
   "outputs": [],
   "source": [
    "open Deedle\n",
    "open FSharp.Data\n",
    "\n",
    "let data = \n",
    "    Http.RequestString \"https://raw.githubusercontent.com/plotly/datasets/master/fips-unemp-16.csv\"\n",
    "    |> fun csv -> Frame.ReadCsvString(csv,true,separators=\",\",schema=\"fips=string,unemp=float\")\n",
    "\n",
    "let getColumnData col=\n",
    "        data\n",
    "        |> Frame.getCol col\n",
    "        |> Series.values\n",
    "        |> Array.ofSeq\n",
    "\n",
    "let fips:string[] = getColumnData \"fips\" |> Array.take 5\n",
    "let unemp:float[] = getColumnData \"unemp\" |> Array.take 5\n",
    "\n",
    "Array.zip fips unemp"
   ]
  },
  {
   "cell_type": "markdown",
   "id": "f8fbfa7f",
   "metadata": {},
   "source": [
    "# Mapbox Choropleth Map Using GeoJSON"
   ]
  },
  {
   "cell_type": "markdown",
   "id": "a6e9a55b",
   "metadata": {},
   "source": [
    "With choroplethmapbox, each row of the DataFrame is represented as a region of the choropleth."
   ]
  },
  {
   "cell_type": "code",
   "execution_count": null,
   "id": "7fde2766",
   "metadata": {
    "dotnet_interactive": {
     "language": "fsharp"
    }
   },
   "outputs": [],
   "source": [
    "open Plotly.NET\n",
    "open Newtonsoft.Json\n",
    "open FSharp.Data\n",
    "open Deedle\n",
    "open Plotly.NET.LayoutObjects\n",
    "\n",
    "let data = \n",
    "    Http.RequestString \"https://raw.githubusercontent.com/plotly/datasets/master/fips-unemp-16.csv\"\n",
    "    |> fun csv -> Frame.ReadCsvString(csv,true,separators=\",\",schema=\"fips=string,unemp=float\")\n",
    "    \n",
    "let geoJson = \n",
    "    Http.RequestString \"https://raw.githubusercontent.com/plotly/datasets/master/geojson-counties-fips.json\"\n",
    "    |> JsonConvert.DeserializeObject \n",
    "    \n",
    "let locations: string [] = \n",
    "    data\n",
    "    |> Frame.getCol \"fips\"\n",
    "    |> Series.values\n",
    "    |> Array.ofSeq\n",
    "\n",
    "let z: int [] = \n",
    "    data\n",
    "    |> Frame.getCol \"unemp\"\n",
    "    |> Series.values\n",
    "    |> Array.ofSeq\n",
    "\n",
    "Chart.ChoroplethMapbox(z=z,geoJson=geoJson,locations=locations,FeatureIdKey=\"id\",Colorscale=StyleParam.Colorscale.Viridis,ZMin=0.,ZMax=12.)\n",
    "|> Chart.withMapbox(\n",
    "        Mapbox.init(Style=StyleParam.MapboxStyle.CartoPositron,Zoom=3.,Center=(-95.7129,37.0902)) \n",
    "    )\n"
   ]
  },
  {
   "cell_type": "markdown",
   "id": "150f94a3",
   "metadata": {},
   "source": [
    "# Indexing by GeoJSON Properties"
   ]
  },
  {
   "cell_type": "markdown",
   "id": "02662bc1",
   "metadata": {},
   "source": [
    "If the GeoJSON you are using either does not have an id field or you wish you use one of the keys in the properties field, you may use the featureidkey parameter to specify where to match the values of locations.\n",
    "\n",
    "In the following GeoJSON object/data-file pairing, the values of properties.district match the values of the district column:"
   ]
  },
  {
   "cell_type": "code",
   "execution_count": null,
   "id": "9cea0805",
   "metadata": {
    "dotnet_interactive": {
     "language": "fsharp"
    }
   },
   "outputs": [],
   "source": [
    "open FSharp.Data\n",
    "open Deedle\n",
    "open Newtonsoft.Json\n",
    "\n",
    "let data = \n",
    "    Http.RequestString \"https://raw.githubusercontent.com/plotly/datasets/master/election.csv\"\n",
    "    |> fun csv -> Frame.ReadCsvString(csv,true,separators=\",\")\n",
    "\n",
    "let geoJson = \n",
    "    Http.RequestString \"https://raw.githubusercontent.com/plotly/datasets/master/election.geojson\"\n",
    "    |> JsonConvert.DeserializeObject \n",
    "\n",
    "let locationsGeoJSON: string [] = \n",
    "    data\n",
    "    |> Frame.getCol \"district\"\n",
    "    |> Series.values\n",
    "    |> Array.ofSeq\n",
    "\n",
    "let zGeoJSON: int [] = \n",
    "    data\n",
    "    |> Frame.getCol \"Bergeron\"\n",
    "    |> Series.values\n",
    "    |> Array.ofSeq\n",
    "\n",
    "Chart.ChoroplethMapbox(\n",
    "    locations = locationsGeoJSON,\n",
    "    z = zGeoJSON,    \n",
    "    geoJson = geoJson,\n",
    "    Colorscale= StyleParam.Colorscale.Cividis,\n",
    "    FeatureIdKey=\"properties.district\")\n",
    " \n",
    "|> Chart.withMapbox(\n",
    "        Mapbox.init(Style=StyleParam.MapboxStyle.CartoPositron,Zoom=9.,Center=(-73.7073,45.5517)) \n",
    "    )\n",
    "|> Chart.withColorBarStyle(Title.init(Text=\"Bergeron Votes\"))\n",
    "|> Chart.withTitle(title=\"2013 Montreal Election\")\n"
   ]
  },
  {
   "cell_type": "markdown",
   "id": "ad8e8e22",
   "metadata": {},
   "source": [
    "# Mapbox Light base map: free token needed"
   ]
  },
  {
   "cell_type": "code",
   "execution_count": null,
   "id": "fb07e994",
   "metadata": {
    "dotnet_interactive": {
     "language": "fsharp"
    }
   },
   "outputs": [],
   "source": [
    "open Plotly.NET\n",
    "open Newtonsoft.Json\n",
    "\n",
    "let token = \"pk.eyJ1IjoibWFoZXNocHVubmEiLCJhIjoiY2t0NXB4eXA0MGFzYjJxcXN3b2xpNzc2ZSJ9.xliv67HWVdNd_tfmfgMXmA\" //# you will need your own token\n",
    "\n",
    "let data = \n",
    "    Http.RequestString \"https://raw.githubusercontent.com/plotly/datasets/master/fips-unemp-16.csv\"\n",
    "    |> fun csv -> Frame.ReadCsvString(csv,true,separators=\",\",schema=\"fips=string,unemp=float\")\n",
    "\n",
    "let locations: string [] = \n",
    "    data\n",
    "    |> Frame.getCol \"fips\"\n",
    "    |> Series.values\n",
    "    |> Array.ofSeq\n",
    "\n",
    "let z: int [] = \n",
    "    data\n",
    "    |> Frame.getCol \"unemp\"\n",
    "    |> Series.values\n",
    "    |> Array.ofSeq\n",
    "\n",
    "Chart.ChoroplethMapbox(z=z,geoJson=geoJson,locations=locations,FeatureIdKey=\"id\",Colorscale=StyleParam.Colorscale.Viridis,ZMin=0.,ZMax=12.)\n",
    "|> Chart.withMapbox(\n",
    "        Mapbox.init(Style=StyleParam.MapboxStyle.MapboxLight,Zoom=3.,Center=(-95.7129,37.0902),AccessToken=token) \n",
    "    )\n"
   ]
  }
 ],
 "metadata": {
  "jupytext": {
   "notebook_metadata_filter": "language_info,plotly"
  },
  "kernelspec": {
   "display_name": ".NET (F#)",
   "language": "F#",
   "name": ".net-fsharp"
  },
  "language_info": {
   "codemirror_mode": {
    "name": "ipython",
    "version": 3
   },
   "file_extension": ".fs",
   "mimetype": "text/x-fsharp",
   "name": "F#",
   "nbconvert_exporter": "fsharp",
   "pygments_lexer": "fsharp",
   "version": 5.0
  },
  "plotly": {
   "description": "How to make a Mapbox Choropleth Map of US Counties in F# with Plotly.",
   "display_as": "maps",
   "language": "fsharp",
   "layout": "base",
   "name": "Mapbox Choropleth Maps",
   "order": 1,
   "page_type": "u-guide",
   "permalink": "fsharp/mapbox-county-choropleth/",
   "thumbnail": "thumbnail/mapbox-choropleth.png"
  }
 },
 "nbformat": 4,
 "nbformat_minor": 5
}