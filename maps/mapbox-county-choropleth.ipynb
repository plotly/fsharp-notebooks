{
 "cells": [
  {
   "cell_type": "code",
   "execution_count": null,
   "source": [
    "#r \"nuget: Plotly.NET,*-*\"\r\n",
    "#r \"nuget: Plotly.NET.Interactive,*-*\"\r\n",
    "#r \"nuget: FSharp.Data\"\r\n",
    "#r \"nuget:Deedle\"\r\n",
    "#r \"nuget:Newtonsoft.Json\""
   ],
   "outputs": [
    {
     "output_type": "display_data",
     "data": {
      "text/html": ""
     },
     "metadata": {}
    },
    {
     "output_type": "display_data",
     "data": {
      "text/markdown": ""
     },
     "metadata": {}
    },
    {
     "output_type": "display_data",
     "data": {
      "text/markdown": ""
     },
     "metadata": {}
    }
   ],
   "metadata": {
    "dotnet_interactive": {
     "language": "fsharp"
    }
   }
  },
  {
   "cell_type": "markdown",
   "source": [
    "# Introduction: main parameters for choropleth tile maps"
   ],
   "metadata": {}
  },
  {
   "cell_type": "markdown",
   "source": [
    "Making choropleth Mapbox maps requires two main types of input:\r\n",
    "\r\n",
    "GeoJSON-formatted geometry information where each feature has either an id field or some identifying value in properties.\r\n",
    "A list of values indexed by feature identifier."
   ],
   "metadata": {}
  },
  {
   "cell_type": "markdown",
   "source": [
    "## GeoJSON with feature.id"
   ],
   "metadata": {}
  },
  {
   "cell_type": "markdown",
   "source": [
    "Here we load a GeoJSON file containing the geometry information for US counties, where feature.id is a FIPS code."
   ],
   "metadata": {}
  },
  {
   "cell_type": "code",
   "execution_count": null,
   "source": [
    "open FSharp.Data\r\n",
    "\r\n",
    "type jsonProvider = JsonProvider<\"https://raw.githubusercontent.com/plotly/datasets/master/geojson-counties-fips.json\">\r\n",
    "\r\n",
    "let counties = jsonProvider.Load(\"https://raw.githubusercontent.com/plotly/datasets/master/geojson-counties-fips.json\")\r\n",
    "\r\n",
    "counties.Features.[0].Id\r\n"
   ],
   "outputs": [
    {
     "output_type": "display_data",
     "data": {
      "text/html": ""
     },
     "metadata": {}
    }
   ],
   "metadata": {
    "dotnet_interactive": {
     "language": "fsharp"
    }
   }
  },
  {
   "cell_type": "markdown",
   "source": [
    "## Data indexed by id"
   ],
   "metadata": {}
  },
  {
   "cell_type": "markdown",
   "source": [
    "Here we load unemployment data by county, also indexed by FIPS code."
   ],
   "metadata": {}
  },
  {
   "cell_type": "code",
   "execution_count": null,
   "source": [
    "open Deedle\r\n",
    "open FSharp.Data\r\n",
    "\r\n",
    "let data = \r\n",
    "    Http.RequestString \"https://raw.githubusercontent.com/plotly/datasets/master/fips-unemp-16.csv\"\r\n",
    "    |> fun csv -> Frame.ReadCsvString(csv,true,separators=\",\",schema=\"fips=string,unemp=float\")\r\n",
    "\r\n",
    "let getColumnData col=\r\n",
    "        data\r\n",
    "        |> Frame.getCol col\r\n",
    "        |> Series.values\r\n",
    "        |> Array.ofSeq\r\n",
    "\r\n",
    "let fips:string[] = getColumnData \"fips\" |> Array.take 5\r\n",
    "let unemp:float[] = getColumnData \"unemp\" |> Array.take 5\r\n",
    "\r\n",
    "Array.zip fips unemp"
   ],
   "outputs": [
    {
     "output_type": "display_data",
     "data": {
      "text/html": ""
     },
     "metadata": {}
    }
   ],
   "metadata": {
    "dotnet_interactive": {
     "language": "fsharp"
    }
   }
  },
  {
   "cell_type": "markdown",
   "source": [
    "# Mapbox Choropleth Map Using GeoJSON"
   ],
   "metadata": {}
  },
  {
   "cell_type": "markdown",
   "source": [
    "With choroplethmapbox, each row of the DataFrame is represented as a region of the choropleth."
   ],
   "metadata": {}
  },
  {
   "cell_type": "code",
   "execution_count": null,
   "source": [
    "open Plotly.NET\r\n",
    "open Newtonsoft.Json\r\n",
    "open FSharp.Data\r\n",
    "open Deedle\r\n",
    "\r\n",
    "let data = \r\n",
    "    Http.RequestString \"https://raw.githubusercontent.com/plotly/datasets/master/fips-unemp-16.csv\"\r\n",
    "    |> fun csv -> Frame.ReadCsvString(csv,true,separators=\",\",schema=\"fips=string,unemp=float\")\r\n",
    "    \r\n",
    "let geoJson = \r\n",
    "    Http.RequestString \"https://raw.githubusercontent.com/plotly/datasets/master/geojson-counties-fips.json\"\r\n",
    "    |> JsonConvert.DeserializeObject \r\n",
    "    \r\n",
    "let locations: string [] = \r\n",
    "    data\r\n",
    "    |> Frame.getCol \"fips\"\r\n",
    "    |> Series.values\r\n",
    "    |> Array.ofSeq\r\n",
    "\r\n",
    "let z: int [] = \r\n",
    "    data\r\n",
    "    |> Frame.getCol \"unemp\"\r\n",
    "    |> Series.values\r\n",
    "    |> Array.ofSeq\r\n",
    "\r\n",
    "Chart.ChoroplethMapbox(z=z,geoJson=geoJson,locations=locations,FeatureIdKey=\"id\",Colorscale=StyleParam.Colorscale.Viridis,ZMin=0.,ZMax=12.)\r\n",
    "|> Chart.withMapbox(\r\n",
    "        Mapbox.init(Style=StyleParam.MapboxStyle.CartoPositron,Zoom=3.,Center=(-95.7129,37.0902)) \r\n",
    "    )\r\n",
    "|> Chart.withSize(width=1100.,height=700.)"
   ],
   "outputs": [
    {
     "output_type": "display_data",
     "data": {
      "text/html": ""
     },
     "metadata": {}
    }
   ],
   "metadata": {
    "dotnet_interactive": {
     "language": "fsharp"
    }
   }
  },
  {
   "cell_type": "markdown",
   "source": [
    "# Indexing by GeoJSON Properties"
   ],
   "metadata": {}
  },
  {
   "cell_type": "markdown",
   "source": [
    "If the GeoJSON you are using either does not have an id field or you wish you use one of the keys in the properties field, you may use the featureidkey parameter to specify where to match the values of locations.\r\n",
    "\r\n",
    "In the following GeoJSON object/data-file pairing, the values of properties.district match the values of the district column:"
   ],
   "metadata": {}
  },
  {
   "cell_type": "code",
   "execution_count": null,
   "source": [
    "open FSharp.Data\r\n",
    "open Deedle\r\n",
    "open Newtonsoft.Json\r\n",
    "\r\n",
    "let data = \r\n",
    "    Http.RequestString \"https://raw.githubusercontent.com/plotly/datasets/master/election.csv\"\r\n",
    "    |> fun csv -> Frame.ReadCsvString(csv,true,separators=\",\")\r\n",
    "\r\n",
    "let geoJson = \r\n",
    "    Http.RequestString \"https://raw.githubusercontent.com/plotly/datasets/master/election.geojson\"\r\n",
    "    |> JsonConvert.DeserializeObject \r\n",
    "\r\n",
    "let locationsGeoJSON: string [] = \r\n",
    "    data\r\n",
    "    |> Frame.getCol \"district\"\r\n",
    "    |> Series.values\r\n",
    "    |> Array.ofSeq\r\n",
    "\r\n",
    "let zGeoJSON: int [] = \r\n",
    "    data\r\n",
    "    |> Frame.getCol \"Bergeron\"\r\n",
    "    |> Series.values\r\n",
    "    |> Array.ofSeq\r\n",
    "\r\n",
    "Chart.ChoroplethMapbox(\r\n",
    "    locations = locationsGeoJSON,\r\n",
    "    z = zGeoJSON,    \r\n",
    "    geoJson = geoJson,\r\n",
    "    Colorscale= StyleParam.Colorscale.Cividis,\r\n",
    "    FeatureIdKey=\"properties.district\")\r\n",
    " \r\n",
    "|> Chart.withMapbox(\r\n",
    "        Mapbox.init(Style=StyleParam.MapboxStyle.CartoPositron,Zoom=9.,Center=(-73.7073,45.5517)) \r\n",
    "    )\r\n",
    "|> Chart.withColorBarStyle(Title.init(Text=\"Bergeron Votes\"))\r\n",
    "|> Chart.withTitle(title=\"2013 Montreal Election\")\r\n",
    "|> Chart.withSize (800.,800.)"
   ],
   "outputs": [
    {
     "output_type": "display_data",
     "data": {
      "text/html": ""
     },
     "metadata": {}
    }
   ],
   "metadata": {
    "dotnet_interactive": {
     "language": "fsharp"
    }
   }
  },
  {
   "cell_type": "markdown",
   "source": [
    "# Mapbox Light base map: free token needed"
   ],
   "metadata": {}
  },
  {
   "cell_type": "code",
   "execution_count": null,
   "source": [
    "open Plotly.NET\r\n",
    "open Newtonsoft.Json\r\n",
    "\r\n",
    "let token = File.ReadAllText(\"mapbox_token\") //# you will need your own token\r\n",
    "\r\n",
    "let data = \r\n",
    "    Http.RequestString \"https://raw.githubusercontent.com/plotly/datasets/master/fips-unemp-16.csv\"\r\n",
    "    |> fun csv -> Frame.ReadCsvString(csv,true,separators=\",\",schema=\"fips=string,unemp=float\")\r\n",
    "\r\n",
    "let locations: string [] = \r\n",
    "    data\r\n",
    "    |> Frame.getCol \"fips\"\r\n",
    "    |> Series.values\r\n",
    "    |> Array.ofSeq\r\n",
    "\r\n",
    "let z: int [] = \r\n",
    "    data\r\n",
    "    |> Frame.getCol \"unemp\"\r\n",
    "    |> Series.values\r\n",
    "    |> Array.ofSeq\r\n",
    "\r\n",
    "Chart.ChoroplethMapbox(z=z,geoJson=geoJson,locations=locations,FeatureIdKey=\"id\",Colorscale=StyleParam.Colorscale.Viridis,ZMin=0.,ZMax=12.)\r\n",
    "|> Chart.withMapbox(\r\n",
    "        Mapbox.init(Style=StyleParam.MapboxStyle.MapboxLight,Zoom=3.,Center=(-95.7129,37.0902),AccessToken=token) \r\n",
    "    )\r\n",
    "|> Chart.withSize(width=1100.,height=700.)"
   ],
   "outputs": [
    {
     "output_type": "display_data",
     "data": {
      "text/html": ""
     },
     "metadata": {}
    }
   ],
   "metadata": {
    "dotnet_interactive": {
     "language": "fsharp"
    }
   }
  }
 ],
 "metadata": {
  "orig_nbformat": 4,
  "language_info": {
   "file_extension": ".cs",
   "mimetype": "text/x-csharp",
   "name": "C#",
   "pygments_lexer": "csharp",
   "version": "9.0"
  },
  "kernelspec": {
   "display_name": ".NET (C#)",
   "language": "C#",
   "name": ".net-csharp"
  }
 },
 "nbformat": 4,
 "nbformat_minor": 2
}