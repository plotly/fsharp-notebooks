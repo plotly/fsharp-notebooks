{
 "cells": [
  {
   "cell_type": "code",
   "execution_count": null,
   "metadata": {
    "dotnet_interactive": {
     "language": "fsharp"
    }
   },
   "outputs": [
    {
     "data": {
      "text/html": [
       "<div><div></div><div></div><div><strong>Installed Packages</strong><ul><li><span>Plotly.NET, 2.0.0-preview.8</span></li><li><span>Plotly.NET.Interactive, 2.0.0-preview.8</span></li></ul></div></div>"
      ]
     },
     "metadata": {},
     "output_type": "display_data"
    },
    {
     "data": {
      "text/markdown": [
       "Loading extensions from `Plotly.NET.Interactive.dll`"
      ]
     },
     "metadata": {},
     "output_type": "display_data"
    },
    {
     "data": {
      "text/markdown": [
       "Added Kernel Extension including formatters for Plotly.NET charts."
      ]
     },
     "metadata": {},
     "output_type": "display_data"
    }
   ],
   "source": [
    "#r \"nuget: Plotly.NET,2.0.0-preview.8\"\n",
    "#r \"nuget: Plotly.NET.Interactive,2.0.0-preview.8\""
   ]
  },
  {
   "cell_type": "markdown",
   "metadata": {},
   "source": [
    "# Mapbox Access Token and Base Map Configuration\n",
    "To plot on Mapbox maps with Plotly you may need a Mapbox account and a public <a href=\"url\" target=\"https://www.mapbox.com/studio\">Mapbox Access Token</a>.\n",
    "\n",
    "There are three different ways to show a filled area in a Mapbox map:\n",
    "\n",
    "1. Use a Scattermapbox trace and set fill attribute to 'ToSelf'\n",
    "2. Use a Mapbox layout (i.e. by minimally using an empty Scattermapbox trace) and add a GeoJSON layer\n",
    "3. Use the Choroplethmapbox trace type"
   ]
  },
  {
   "cell_type": "markdown",
   "metadata": {},
   "source": [
    "# Filled Scattermapbox Trace\n",
    "\n",
    "The following example uses Scattermapbox and sets fill = 'ToSelf'"
   ]
  },
  {
   "cell_type": "code",
   "execution_count": null,
   "metadata": {
    "dotnet_interactive": {
     "language": "fsharp"
    }
   },
   "outputs": [
    {
     "data": {
      "text/html": [
       "<div id=\"1ceb0b55-d4bc-4e8e-8cd9-7e4bbc5ac3a4\" style=\"width: 600px; height: 600px;\"><!-- Plotly chart will be drawn inside this DIV --></div>\r\n",
       "<script type=\"text/javascript\">\r\n",
       "\n",
       "            var renderPlotly_1ceb0b55d4bc4e8e8cd97e4bbc5ac3a4 = function() {\n",
       "            var fsharpPlotlyRequire = requirejs.config({context:'fsharp-plotly',paths:{plotly:'https://cdn.plot.ly/plotly-latest.min'}}) || require;\n",
       "            fsharpPlotlyRequire(['plotly'], function(Plotly) {\r\n",
       "\n",
       "            var data = [{\"type\":\"scattermapbox\",\"mode\":\"lines+markers\",\"lon\":[-74,-70,-70,-74],\"lat\":[47,47,45,45],\"fill\":\"toself\",\"line\":{},\"marker\":{\"size\":10,\"color\":\"orange\"}}];\n",
       "            var layout = {\"margin\":{\"l\":0,\"r\":0,\"t\":0,\"b\":0},\"mapbox\":{\"style\":\"stamen-terrain\",\"center\":{\"lon\":-73.0,\"lat\":46.0},\"zoom\":5.0}};\n",
       "            var config = {};\n",
       "            Plotly.newPlot('1ceb0b55-d4bc-4e8e-8cd9-7e4bbc5ac3a4', data, layout, config);\r\n",
       "});\n",
       "            };\n",
       "            if ((typeof(requirejs) !==  typeof(Function)) || (typeof(requirejs.config) !== typeof(Function))) {\n",
       "                var script = document.createElement(\"script\");\n",
       "                script.setAttribute(\"src\", \"https://cdnjs.cloudflare.com/ajax/libs/require.js/2.3.6/require.min.js\");\n",
       "                script.onload = function(){\n",
       "                    renderPlotly_1ceb0b55d4bc4e8e8cd97e4bbc5ac3a4();\n",
       "                };\n",
       "                document.getElementsByTagName(\"head\")[0].appendChild(script);\n",
       "            }\n",
       "            else {\n",
       "                renderPlotly_1ceb0b55d4bc4e8e8cd97e4bbc5ac3a4();\n",
       "            }\r\n",
       "</script>\r\n"
      ]
     },
     "metadata": {},
     "output_type": "display_data"
    }
   ],
   "source": [
    "open Plotly.NET\n",
    "open Plotly.NET.LayoutObjects\n",
    "\n",
    "Chart.ScatterMapbox(\n",
    "    longitudes = [ -74; -70; -70; -74 ],\n",
    "    latitudes = [ 47; 47; 45; 45 ],\n",
    "    Fill = StyleParam.Fill.ToSelf,\n",
    "    mode = StyleParam.Mode.Lines_Markers\n",
    ")\n",
    "|> Chart.withMarkerStyle (Size = 10, Color = Color.fromString \"orange\")\n",
    "|> Chart.withMarginSize (Left = 0, Right = 0, Top = 0, Bottom = 0)\n",
    "|> Chart.withMapbox (Mapbox.init (Center = (-73., 46.), Style = StyleParam.MapboxStyle.StamenTerrain, Zoom = 5.))\n"
   ]
  },
  {
   "cell_type": "markdown",
   "metadata": {},
   "source": [
    "# Multiple Filled Areas with a Scattermapbox trace\n",
    "\n",
    "The following example shows how to use NaN in your data to draw multiple filled areas. Such gaps in trace data are unconnected by default, but this can be controlled via the connectgaps attribute."
   ]
  },
  {
   "cell_type": "code",
   "execution_count": null,
   "metadata": {
    "dotnet_interactive": {
     "language": "fsharp"
    }
   },
   "outputs": [
    {
     "data": {
      "text/html": [
       "<div id=\"7bcb3b80-d9fc-4680-8ba0-c1ff3db115ba\" style=\"width: 600px; height: 600px;\"><!-- Plotly chart will be drawn inside this DIV --></div>\r\n",
       "<script type=\"text/javascript\">\r\n",
       "\n",
       "            var renderPlotly_7bcb3b80d9fc46808ba0c1ff3db115ba = function() {\n",
       "            var fsharpPlotlyRequire = requirejs.config({context:'fsharp-plotly',paths:{plotly:'https://cdn.plot.ly/plotly-latest.min'}}) || require;\n",
       "            fsharpPlotlyRequire(['plotly'], function(Plotly) {\r\n",
       "\n",
       "            var data = [{\"type\":\"scattermapbox\",\"mode\":\"lines+markers\",\"lon\":[-10.0,-10.0,8.0,8.0,-10.0,\"NaN\",30.0,30.0,50.0,50.0,30.0,\"NaN\",100.0,100.0,80.0,80.0,100.0],\"lat\":[30.0,6.0,6.0,30.0,30.0,\"NaN\",20.0,30.0,30.0,20.0,20.0,\"NaN\",40.0,50.0,50.0,40.0,40.0],\"fill\":\"toself\",\"line\":{},\"marker\":{}}];\n",
       "            var layout = {\"margin\":{\"l\":0,\"r\":0,\"t\":0,\"b\":0},\"mapbox\":{\"style\":\"stamen-terrain\",\"center\":{\"lon\":30.0,\"lat\":30.0},\"zoom\":2.0}};\n",
       "            var config = {};\n",
       "            Plotly.newPlot('7bcb3b80-d9fc-4680-8ba0-c1ff3db115ba', data, layout, config);\r\n",
       "});\n",
       "            };\n",
       "            if ((typeof(requirejs) !==  typeof(Function)) || (typeof(requirejs.config) !== typeof(Function))) {\n",
       "                var script = document.createElement(\"script\");\n",
       "                script.setAttribute(\"src\", \"https://cdnjs.cloudflare.com/ajax/libs/require.js/2.3.6/require.min.js\");\n",
       "                script.onload = function(){\n",
       "                    renderPlotly_7bcb3b80d9fc46808ba0c1ff3db115ba();\n",
       "                };\n",
       "                document.getElementsByTagName(\"head\")[0].appendChild(script);\n",
       "            }\n",
       "            else {\n",
       "                renderPlotly_7bcb3b80d9fc46808ba0c1ff3db115ba();\n",
       "            }\r\n",
       "</script>\r\n"
      ]
     },
     "metadata": {},
     "output_type": "display_data"
    }
   ],
   "source": [
    "open Plotly.NET\n",
    "open Plotly.NET.LayoutObjects\n",
    "\n",
    "Chart.ScatterMapbox(\n",
    "    longitudes = [ -10.; -10.; 8.; 8.; -10.; Double.NaN; 30.; 30.; 50.; 50.; 30.; Double.NaN; 100.; 100.; 80.; 80.; 100. ],\n",
    "    latitudes = [ 30.; 6.; 6.; 30.; 30.;    Double.NaN; 20.; 30.; 30.; 20.; 20.; Double.NaN; 40.; 50.; 50.; 40.; 40.],\n",
    "    Fill = StyleParam.Fill.ToSelf,\n",
    "    mode = StyleParam.Mode.Lines_Markers\n",
    ")\n",
    "|> Chart.withMarginSize (Left = 0, Right = 0, Top = 0, Bottom = 0)\n",
    "|> Chart.withMapbox (Mapbox.init (Center = (30., 30.), Style = StyleParam.MapboxStyle.StamenTerrain, Zoom = 2.))\n"
   ]
  },
  {
   "cell_type": "markdown",
   "metadata": {},
   "source": [
    "# GeoJSON Layers\n",
    "In this map we add a GeoJSON layer."
   ]
  },
  {
   "cell_type": "code",
   "execution_count": null,
   "metadata": {
    "dotnet_interactive": {
     "language": "fsharp"
    }
   },
   "outputs": [
    {
     "data": {
      "text/html": [
       "<div id=\"f237992f-4b2b-456b-83f4-4acf05ba9e55\" style=\"width: 600px; height: 600px;\"><!-- Plotly chart will be drawn inside this DIV --></div>\r\n",
       "<script type=\"text/javascript\">\r\n",
       "\n",
       "            var renderPlotly_f237992f4b2b456b83f44acf05ba9e55 = function() {\n",
       "            var fsharpPlotlyRequire = requirejs.config({context:'fsharp-plotly',paths:{plotly:'https://cdn.plot.ly/plotly-latest.min'}}) || require;\n",
       "            fsharpPlotlyRequire(['plotly'], function(Plotly) {\r\n",
       "\n",
       "            var data = [{\"type\":\"scattermapbox\",\"mode\":\"markers\",\"lon\":[-73.605],\"lat\":[45.51],\"line\":{},\"marker\":{\"size\":20,\"color\":\"cyan\"}}];\n",
       "            var layout = {\"margin\":{\"l\":0,\"r\":0,\"t\":0,\"b\":0},\"mapbox\":{\"style\":\"stamen-terrain\",\"center\":{\"lon\":-73.605,\"lat\":45.51},\"zoom\":12.0,\"layers\":[{\"sourcetype\":\"vector\",\"type\":\"fill\",\"coordinates\":[{\"Item1\":-73.606352888,\"Item2\":45.507489991},{\"Item1\":-73.606133883,\"Item2\":45.506876},{\"Item1\":-73.605905904,\"Item2\":45.50677398},{\"Item1\":-73.603533905,\"Item2\":45.505698946},{\"Item1\":-73.60247587,\"Item2\":45.506856969},{\"Item1\":-73.600031904,\"Item2\":45.505696003},{\"Item1\":-73.599379992,\"Item2\":45.505389066},{\"Item1\":-73.599119902,\"Item2\":45.505632008},{\"Item1\":-73.598896977,\"Item2\":45.505514039},{\"Item1\":-73.598783894,\"Item2\":45.505617001},{\"Item1\":-73.591308727,\"Item2\":45.516246185},{\"Item1\":-73.591380782,\"Item2\":45.516280145},{\"Item1\":-73.596778656,\"Item2\":45.518690062},{\"Item1\":-73.60279677,\"Item2\":45.521348046},{\"Item1\":-73.612239983,\"Item2\":45.525564037},{\"Item1\":-73.612422919,\"Item2\":45.525642061},{\"Item1\":-73.617229085,\"Item2\":45.527751983},{\"Item1\":-73.617279234,\"Item2\":45.52777416},{\"Item1\":-73.617304713,\"Item2\":45.527741334},{\"Item1\":-73.617492052,\"Item2\":45.527498362},{\"Item1\":-73.617533258,\"Item2\":45.527512253},{\"Item1\":-73.618074188,\"Item2\":45.526759105},{\"Item1\":-73.618271651,\"Item2\":45.526500673},{\"Item1\":-73.61844632,\"Item2\":45.526287943},{\"Item1\":-73.618968507,\"Item2\":45.52569856},{\"Item1\":-73.619388002,\"Item2\":45.52521675},{\"Item1\":-73.619532966,\"Item2\":45.525064183},{\"Item1\":-73.619686662,\"Item2\":45.52488929},{\"Item1\":-73.619787038,\"Item2\":45.524770086},{\"Item1\":-73.619925742,\"Item2\":45.524584939},{\"Item1\":-73.619954486,\"Item2\":45.52455769},{\"Item1\":-73.620122362,\"Item2\":45.524377961},{\"Item1\":-73.620201713,\"Item2\":45.524298907},{\"Item1\":-73.620775593,\"Item2\":45.523650879}],\"below\":\"traces\",\"color\":\"royalblue\"}]}};\n",
       "            var config = {};\n",
       "            Plotly.newPlot('f237992f-4b2b-456b-83f4-4acf05ba9e55', data, layout, config);\r\n",
       "});\n",
       "            };\n",
       "            if ((typeof(requirejs) !==  typeof(Function)) || (typeof(requirejs.config) !== typeof(Function))) {\n",
       "                var script = document.createElement(\"script\");\n",
       "                script.setAttribute(\"src\", \"https://cdnjs.cloudflare.com/ajax/libs/require.js/2.3.6/require.min.js\");\n",
       "                script.onload = function(){\n",
       "                    renderPlotly_f237992f4b2b456b83f44acf05ba9e55();\n",
       "                };\n",
       "                document.getElementsByTagName(\"head\")[0].appendChild(script);\n",
       "            }\n",
       "            else {\n",
       "                renderPlotly_f237992f4b2b456b83f44acf05ba9e55();\n",
       "            }\r\n",
       "</script>\r\n"
      ]
     },
     "metadata": {},
     "output_type": "display_data"
    }
   ],
   "source": [
    "open Plotly.NET\n",
    "open Plotly.NET.LayoutObjects\n",
    "\n",
    "let coorindates = [(-73.606352888, 45.507489991); (-73.606133883, 45.50687600);\n",
    "                            (-73.605905904, 45.506773980); (-73.603533905, 45.505698946);\n",
    "                            (-73.602475870, 45.506856969); (-73.600031904, 45.505696003);\n",
    "                            (-73.599379992, 45.505389066); (-73.599119902, 45.505632008);\n",
    "                            (-73.598896977, 45.505514039); (-73.598783894, 45.505617001);\n",
    "                            (-73.591308727, 45.516246185); (-73.591380782, 45.516280145);\n",
    "                            (-73.596778656, 45.518690062); (-73.602796770, 45.521348046);\n",
    "                            (-73.612239983, 45.525564037); (-73.612422919, 45.525642061);\n",
    "                            (-73.617229085, 45.527751983); (-73.617279234, 45.527774160);\n",
    "                            (-73.617304713, 45.527741334); (-73.617492052, 45.527498362);\n",
    "                            (-73.617533258, 45.527512253); (-73.618074188, 45.526759105);\n",
    "                            (-73.618271651, 45.526500673); (-73.618446320, 45.526287943);\n",
    "                            (-73.618968507, 45.525698560); (-73.619388002, 45.525216750);\n",
    "                            (-73.619532966, 45.525064183); (-73.619686662, 45.524889290);\n",
    "                            (-73.619787038, 45.524770086); (-73.619925742, 45.524584939);\n",
    "                            (-73.619954486, 45.524557690); (-73.620122362, 45.524377961);\n",
    "                            (-73.620201713, 45.524298907); (-73.620775593, 45.523650879)]\n",
    "\n",
    "let layers =\n",
    "    MapboxLayer.init (\n",
    "        SourceType = StyleParam.MapboxLayerSourceType.Vector,\n",
    "        Type = StyleParam.MapboxLayerType.Fill,\n",
    "        Coordinates = coorindates,\n",
    "        Below = \"traces\",\n",
    "        Color = Color.fromString \"royalblue\"\n",
    "    )\n",
    "\n",
    "let mapBox =\n",
    "    Mapbox.init (\n",
    "        Center = (-73.605, 45.51),\n",
    "        Style = StyleParam.MapboxStyle.StamenTerrain,\n",
    "        Zoom = 12.,\n",
    "        Layers = [ layers ]\n",
    "    )\n",
    "\n",
    "Chart.ScatterMapbox(longitudes = [ -73.605 ], latitudes = [ 45.51 ], mode = StyleParam.Mode.Markers)\n",
    "|> Chart.withMarkerStyle (Size = 20, Color = Color.fromString \"cyan\")\n",
    "|> Chart.withMarginSize (Left = 0, Right = 0, Top = 0, Bottom = 0)\n",
    "|> Chart.withMapbox mapBox\n",
    "\n"
   ]
  }
 ],
 "metadata": {
  "kernelspec": {
   "display_name": ".NET (C#)",
   "language": "C#",
   "name": ".net-csharp"
  },
  "language_info": {
   "file_extension": ".cs",
   "mimetype": "text/x-csharp",
   "name": "C#",
   "pygments_lexer": "csharp",
   "version": "9.0"
  },
  "orig_nbformat": 4
 },
 "nbformat": 4,
 "nbformat_minor": 2
}
