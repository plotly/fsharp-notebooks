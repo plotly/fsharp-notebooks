{
 "cells": [
  {
   "cell_type": "code",
   "execution_count": null,
   "metadata": {
    "dotnet_interactive": {
     "language": "fsharp"
    }
   },
   "outputs": [
    {
     "data": {
      "text/html": [
       "<div><div></div><div></div><div><strong>Installed Packages</strong><ul><li><span>FSharp.Data, 4.2.4</span></li><li><span>Plotly.NET, 2.0.0-preview.8</span></li><li><span>Plotly.NET.Interactive, 2.0.0-preview.8</span></li></ul></div></div>"
      ]
     },
     "metadata": {},
     "output_type": "display_data"
    },
    {
     "data": {
      "text/markdown": [
       "Loading extensions from `Plotly.NET.Interactive.dll`"
      ]
     },
     "metadata": {},
     "output_type": "display_data"
    },
    {
     "data": {
      "text/markdown": [
       "Added Kernel Extension including formatters for Plotly.NET charts."
      ]
     },
     "metadata": {},
     "output_type": "display_data"
    }
   ],
   "source": [
    "#r \"nuget: Plotly.NET,2.0.0-preview.8\"\n",
    "#r \"nuget: Plotly.NET.Interactive,2.0.0-preview.8\"\n",
    "#r \"nuget: FSharp.Data\""
   ]
  },
  {
   "cell_type": "markdown",
   "metadata": {},
   "source": [
    "# Mapbox Access Token and Base Map Configuration\n",
    "To plot on Mapbox maps with Plotly you may need a Mapbox account and a public <a href=\"url\" target=\"https://www.mapbox.com/studio\">Mapbox Access Token</a>."
   ]
  },
  {
   "cell_type": "markdown",
   "metadata": {},
   "source": [
    "# Lines on Mapbox maps"
   ]
  },
  {
   "cell_type": "code",
   "execution_count": null,
   "metadata": {
    "dotnet_interactive": {
     "language": "fsharp"
    }
   },
   "outputs": [
    {
     "data": {
      "text/html": [
       "<div id=\"106a6abd-b9d8-4322-b324-27c0e65e41f8\" style=\"width: 600px; height: 600px;\"><!-- Plotly chart will be drawn inside this DIV --></div>\r\n",
       "<script type=\"text/javascript\">\r\n",
       "\n",
       "            var renderPlotly_106a6abdb9d84322b32427c0e65e41f8 = function() {\n",
       "            var fsharpPlotlyRequire = requirejs.config({context:'fsharp-plotly',paths:{plotly:'https://cdn.plot.ly/plotly-latest.min'}}) || require;\n",
       "            fsharpPlotlyRequire(['plotly'], function(Plotly) {\r\n",
       "\n",
       "            var data = [{\"type\":\"scattermapbox\",\"mode\":\"lines\",\"lon\":[\"-78.8783689\",\"-73.8370786\",\"-73.93956870000001\",\"-75.9179738\",\"-73.7562317\",\"-77.61092190000001\",\"-73.8987469\",\"-79.03773879999999\",\"-73.6187397\",\"-73.78235490000002\",\"-73.69178509999999\",\"-76.1474244\",\"-73.7084645\",\"-73.58318349999999\",\"-73.76290970000001\",\"-75.232664\",\"-74.00594129999999\"],\"lat\":[\"42.8864468\",\"40.9125992\",\"42.8142432\",\"42.0986867\",\"42.65257929999999\",\"43.16103\",\"40.9312099\",\"43.0962143\",\"40.706212799999996\",\"40.9114882\",\"42.7284117\",\"43.0481221\",\"40.664269899999994\",\"40.65760220000001\",\"41.0339862\",\"43.100903\",\"40.7127837\"],\"name\":\"New York\",\"line\":{},\"marker\":{}},{\"type\":\"scattermapbox\",\"mode\":\"lines\",\"lon\":[\"-81.6943605\",\"-84.1052256\",\"-82.59932940000002\",\"-84.16882740000001\",\"-82.9987942\",\"-81.48455849999999\",\"-83.09296440000001\",\"-84.56031870000001\",\"-81.72290859999998\",\"-84.5120196\",\"-83.555212\",\"-80.6495194\",\"-82.51544709999999\",\"-83.11407709999999\",\"-83.6499321\",\"-81.83569\",\"-84.1916069\",\"-81.5267873\",\"-80.81841659999999\",\"-84.1246608\",\"-84.5613355\",\"-83.8088171\",\"-81.339552\",\"-82.10764859999999\",\"-84.39827629999999\",\"-82.4012642\",\"-82.9290696\",\"-81.51900529999999\",\"-82.18237459999999\",\"-84.0632685\",\"-81.7981908\",\"-81.378447\",\"-81.556235\"],\"lat\":[\"41.499320000000004\",\"40.742551\",\"39.71367539999999\",\"39.6895036\",\"39.9611755\",\"41.133944899999996\",\"39.881451899999995\",\"39.345467299999996\",\"41.404774200000006\",\"39.103118200000004\",\"41.6639383\",\"41.0997803\",\"40.758390000000006\",\"40.0992294\",\"41.04422\",\"41.3144966\",\"39.758947799999994\",\"41.5931049\",\"41.237556899999994\",\"39.843947\",\"39.3995008\",\"39.9242266\",\"41.666157299999995\",\"41.36837979999999\",\"39.5150576\",\"40.0581205\",\"40.126174299999995\",\"41.081444700000006\",\"41.452819\",\"39.7092262\",\"41.481993200000005\",\"40.7989473\",\"41.5200518\"],\"name\":\"Ohio\",\"line\":{},\"marker\":{}}];\n",
       "            var layout = {\"mapbox\":{\"style\":\"stamen-terrain\",\"center\":{\"lon\":-80.0,\"lat\":41.0},\"zoom\":3.0},\"margin\":{\"l\":0,\"r\":0,\"t\":0,\"b\":0}};\n",
       "            var config = {};\n",
       "            Plotly.newPlot('106a6abd-b9d8-4322-b324-27c0e65e41f8', data, layout, config);\r\n",
       "});\n",
       "            };\n",
       "            if ((typeof(requirejs) !==  typeof(Function)) || (typeof(requirejs.config) !== typeof(Function))) {\n",
       "                var script = document.createElement(\"script\");\n",
       "                script.setAttribute(\"src\", \"https://cdnjs.cloudflare.com/ajax/libs/require.js/2.3.6/require.min.js\");\n",
       "                script.onload = function(){\n",
       "                    renderPlotly_106a6abdb9d84322b32427c0e65e41f8();\n",
       "                };\n",
       "                document.getElementsByTagName(\"head\")[0].appendChild(script);\n",
       "            }\n",
       "            else {\n",
       "                renderPlotly_106a6abdb9d84322b32427c0e65e41f8();\n",
       "            }\r\n",
       "</script>\r\n"
      ]
     },
     "metadata": {},
     "output_type": "display_data"
    }
   ],
   "source": [
    "open Plotly.NET\n",
    "open FSharp.Data\n",
    "open Plotly.NET.TraceObjects\n",
    "open Plotly.NET.LayoutObjects\n",
    "\n",
    "let data = CsvFile.Load(\"https://raw.githubusercontent.com/plotly/datasets/master/us-cities-top-1k.csv\")\n",
    "\n",
    "let getData state = data.Rows \n",
    "                        |> Seq.filter (fun row -> row.GetColumn(\"State\") = state)\n",
    "                        |> Seq.map (fun row -> row.GetColumn(\"lon\"),row.GetColumn(\"lat\"))\n",
    "\n",
    "let newyorkData = getData \"New York\"\n",
    "let ohioData = getData \"Ohio\"\n",
    "\n",
    "[\n",
    "    Chart.LineMapbox(newyorkData,Name=\"New York\")\n",
    "    Chart.LineMapbox(ohioData,Name=\"Ohio\")\n",
    "]\n",
    "|> Chart.combine\n",
    "|> Chart.withMapbox(mapBox = Mapbox.init(Style=StyleParam.MapboxStyle.StamenTerrain,Center=(-80.,41.),Zoom=3.))\n",
    "|> Chart.withMarginSize(Left=0,Right=0,Top=0,Bottom=0)\n"
   ]
  },
  {
   "cell_type": "markdown",
   "metadata": {},
   "source": [
    "# Lines on Mapbox maps using ScatterMapbox traces\n",
    "\n",
    "This example uses Chart.ScatterMapbox and sets the mode attribute to a combination of markers and line."
   ]
  },
  {
   "cell_type": "code",
   "execution_count": null,
   "metadata": {
    "dotnet_interactive": {
     "language": "fsharp"
    }
   },
   "outputs": [
    {
     "data": {
      "text/html": [
       "<div id=\"e509762b-022e-480f-b20f-46e7a8ab3fb9\" style=\"width: 600px; height: 600px;\"><!-- Plotly chart will be drawn inside this DIV --></div>\r\n",
       "<script type=\"text/javascript\">\r\n",
       "\n",
       "            var renderPlotly_e509762b022e480fb20f46e7a8ab3fb9 = function() {\n",
       "            var fsharpPlotlyRequire = requirejs.config({context:'fsharp-plotly',paths:{plotly:'https://cdn.plot.ly/plotly-latest.min'}}) || require;\n",
       "            fsharpPlotlyRequire(['plotly'], function(Plotly) {\r\n",
       "\n",
       "            var data = [{\"type\":\"scattermapbox\",\"mode\":\"lines+markers\",\"lon\":[10,20,30],\"lat\":[10,20,30],\"line\":{},\"marker\":{\"size\":10}},{\"type\":\"scattermapbox\",\"mode\":\"lines+markers\",\"lon\":[-50,-60,40],\"lat\":[30,10,-20],\"line\":{},\"marker\":{\"size\":10}}];\n",
       "            var layout = {\"margin\":{\"l\":0,\"r\":0,\"t\":0,\"b\":0},\"mapbox\":{\"style\":\"stamen-terrain\",\"center\":{\"lon\":10.0,\"lat\":10.0},\"zoom\":1.0}};\n",
       "            var config = {};\n",
       "            Plotly.newPlot('e509762b-022e-480f-b20f-46e7a8ab3fb9', data, layout, config);\r\n",
       "});\n",
       "            };\n",
       "            if ((typeof(requirejs) !==  typeof(Function)) || (typeof(requirejs.config) !== typeof(Function))) {\n",
       "                var script = document.createElement(\"script\");\n",
       "                script.setAttribute(\"src\", \"https://cdnjs.cloudflare.com/ajax/libs/require.js/2.3.6/require.min.js\");\n",
       "                script.onload = function(){\n",
       "                    renderPlotly_e509762b022e480fb20f46e7a8ab3fb9();\n",
       "                };\n",
       "                document.getElementsByTagName(\"head\")[0].appendChild(script);\n",
       "            }\n",
       "            else {\n",
       "                renderPlotly_e509762b022e480fb20f46e7a8ab3fb9();\n",
       "            }\r\n",
       "</script>\r\n"
      ]
     },
     "metadata": {},
     "output_type": "display_data"
    }
   ],
   "source": [
    "[ \n",
    "    Chart.ScatterMapbox(longitudes = [ 10; 20; 30 ], latitudes = [ 10; 20; 30 ], mode = StyleParam.Mode.Lines_Markers)\n",
    "    Chart.ScatterMapbox(longitudes = [ -50; -60; 40 ], latitudes = [ 30; 10; -20 ], mode = StyleParam.Mode.Lines_Markers) \n",
    "]\n",
    "\n",
    "|> Chart.combine\n",
    "|> Chart.withMarkerStyle (Size = 10)\n",
    "|> Chart.withMarginSize (Left = 0, Right = 0, Top = 0, Bottom = 0)\n",
    "|> Chart.withMapbox (Mapbox.init (Center = (10., 10.), Style = StyleParam.MapboxStyle.StamenTerrain, Zoom = 1.))\n"
   ]
  }
 ],
 "metadata": {
  "kernelspec": {
   "display_name": ".NET (C#)",
   "language": "C#",
   "name": ".net-csharp"
  },
  "language_info": {
   "file_extension": ".cs",
   "mimetype": "text/x-csharp",
   "name": "C#",
   "pygments_lexer": "csharp",
   "version": "9.0"
  },
  "orig_nbformat": 4
 },
 "nbformat": 4,
 "nbformat_minor": 2
}
