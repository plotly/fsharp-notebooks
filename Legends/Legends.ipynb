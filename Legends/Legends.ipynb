{
 "metadata": {
  "kernelspec": {
   "display_name": ".NET (F#)",
   "language": "F#",
   "name": ".net-fsharp"
  },
  "language_info": {
   "name": "F#"
  }
 },
 "cells": [
  {
   "cell_type": "code",
   "execution_count": null,
   "source": [
    "#r \"nuget: Plotly.NET, 2.0.0-preview.7\"\r\n",
    "#r \"nuget: Plotly.NET.Interactive, 2.0.0-preview.7\"\r\n",
    "#r \"nuget: newtonsoft.json\"\r\n",
    "open Plotly.NET"
   ],
   "outputs": [
    {
     "data": {
      "text/html": [
       "<div><div></div><div></div><div><strong>Installed Packages</strong><ul><li><span>newtonsoft.json, 13.0.1</span></li><li><span>Plotly.NET, 2.0.0-preview.7</span></li><li><span>Plotly.NET.Interactive, 2.0.0-preview.7</span></li></ul></div></div>"
      ]
     },
     "metadata": {},
     "output_type": "display_data"
    },
    {
     "data": {
      "text/markdown": [
       "Loading extensions from `Plotly.NET.Interactive.dll`"
      ]
     },
     "metadata": {},
     "output_type": "display_data"
    },
    {
     "data": {
      "text/markdown": [
       "Added Kernel Extension including formatters for Plotly.NET charts."
      ]
     },
     "metadata": {},
     "output_type": "display_data"
    }
   ],
   "metadata": {
    "dotnet_interactive": {
     "language": "fsharp"
    }
   }
  },
  {
   "cell_type": "markdown",
   "source": [
    "# Legend Order\r\n",
    "\r\n"
   ],
   "metadata": {}
  },
  {
   "cell_type": "code",
   "execution_count": null,
   "source": [
    "let x=[\"a\"; \"b\"]\r\n",
    "[\r\n",
    "Chart.Bar(x,[1;2], Name = \"first\")\r\n",
    "Chart.Bar(x,[2;1], Name = \"second\")  \r\n",
    "Chart.Bar(x,[1;2], Name = \"third\")\r\n",
    "Chart.Bar(x,[2;1], Name = \"fourth\")  \r\n",
    "]\r\n",
    "|> Chart.combine\r\n"
   ],
   "outputs": [
    {
     "data": {
      "text/html": [
       "<div id=\"1dfd3a1e-424c-4677-9eb6-f2e9766ac2ce\" style=\"width: 600px; height: 600px;\"><!-- Plotly chart will be drawn inside this DIV --></div>\r\n",
       "<script type=\"text/javascript\">\r\n",
       "\n",
       "            var renderPlotly_1dfd3a1e424c46779eb6f2e9766ac2ce = function() {\n",
       "            var fsharpPlotlyRequire = requirejs.config({context:'fsharp-plotly',paths:{plotly:'https://cdn.plot.ly/plotly-latest.min'}}) || require;\n",
       "            fsharpPlotlyRequire(['plotly'], function(Plotly) {\r\n",
       "\n",
       "            var data = [{\"type\":\"bar\",\"x\":[1,2],\"y\":[\"a\",\"b\"],\"orientation\":\"h\",\"marker\":{},\"name\":\"first\"},{\"type\":\"bar\",\"x\":[2,1],\"y\":[\"a\",\"b\"],\"orientation\":\"h\",\"marker\":{},\"name\":\"second\"},{\"type\":\"bar\",\"x\":[1,2],\"y\":[\"a\",\"b\"],\"orientation\":\"h\",\"marker\":{},\"name\":\"third\"},{\"type\":\"bar\",\"x\":[2,1],\"y\":[\"a\",\"b\"],\"orientation\":\"h\",\"marker\":{},\"name\":\"fourth\"}];\n",
       "            var layout = {};\n",
       "            var config = {};\n",
       "            Plotly.newPlot('1dfd3a1e-424c-4677-9eb6-f2e9766ac2ce', data, layout, config);\r\n",
       "});\n",
       "            };\n",
       "            if ((typeof(requirejs) !==  typeof(Function)) || (typeof(requirejs.config) !== typeof(Function))) {\n",
       "                var script = document.createElement(\"script\");\n",
       "                script.setAttribute(\"src\", \"https://cdnjs.cloudflare.com/ajax/libs/require.js/2.3.6/require.min.js\");\n",
       "                script.onload = function(){\n",
       "                    renderPlotly_1dfd3a1e424c46779eb6f2e9766ac2ce();\n",
       "                };\n",
       "                document.getElementsByTagName(\"head\")[0].appendChild(script);\n",
       "            }\n",
       "            else {\n",
       "                renderPlotly_1dfd3a1e424c46779eb6f2e9766ac2ce();\n",
       "            }\r\n",
       "</script>\r\n"
      ]
     },
     "metadata": {},
     "output_type": "display_data"
    }
   ],
   "metadata": {
    "dotnet_interactive": {
     "language": "fsharp"
    }
   }
  },
  {
   "cell_type": "markdown",
   "source": [
    "# Legend Item Names"
   ],
   "metadata": {}
  },
  {
   "cell_type": "markdown",
   "source": [
    "Legend items appear per trace, and the legend item name is taken from the trace's name attribute.\r\n",
    "\r\n"
   ],
   "metadata": {}
  },
  {
   "cell_type": "code",
   "execution_count": null,
   "source": [
    "let x=[|1; 2; 3; 4; 5|]\r\n",
    "[\r\n",
    "Chart.Scatter(x,[|1; 2; 3; 4; 5|], StyleParam.Mode.Lines,Name=\"Positive\")\r\n",
    "Chart.Scatter(x,[|5; 4; 3; 2; 1|], StyleParam.Mode.Lines,Name=\"Negative\")\r\n",
    " ]\r\n",
    "|> Chart.combine\r\n"
   ],
   "outputs": [
    {
     "data": {
      "text/html": [
       "<div id=\"bd6e454a-1e7a-445f-90ff-c1f16fdff69f\" style=\"width: 600px; height: 600px;\"><!-- Plotly chart will be drawn inside this DIV --></div>\r\n",
       "<script type=\"text/javascript\">\r\n",
       "\n",
       "            var renderPlotly_bd6e454a1e7a445f90ffc1f16fdff69f = function() {\n",
       "            var fsharpPlotlyRequire = requirejs.config({context:'fsharp-plotly',paths:{plotly:'https://cdn.plot.ly/plotly-latest.min'}}) || require;\n",
       "            fsharpPlotlyRequire(['plotly'], function(Plotly) {\r\n",
       "\n",
       "            var data = [{\"type\":\"scatter\",\"x\":[1,2,3,4,5],\"y\":[1,2,3,4,5],\"mode\":\"lines\",\"name\":\"Positive\",\"line\":{},\"marker\":{}},{\"type\":\"scatter\",\"x\":[1,2,3,4,5],\"y\":[5,4,3,2,1],\"mode\":\"lines\",\"name\":\"Negative\",\"line\":{},\"marker\":{}}];\n",
       "            var layout = {};\n",
       "            var config = {};\n",
       "            Plotly.newPlot('bd6e454a-1e7a-445f-90ff-c1f16fdff69f', data, layout, config);\r\n",
       "});\n",
       "            };\n",
       "            if ((typeof(requirejs) !==  typeof(Function)) || (typeof(requirejs.config) !== typeof(Function))) {\n",
       "                var script = document.createElement(\"script\");\n",
       "                script.setAttribute(\"src\", \"https://cdnjs.cloudflare.com/ajax/libs/require.js/2.3.6/require.min.js\");\n",
       "                script.onload = function(){\n",
       "                    renderPlotly_bd6e454a1e7a445f90ffc1f16fdff69f();\n",
       "                };\n",
       "                document.getElementsByTagName(\"head\")[0].appendChild(script);\n",
       "            }\n",
       "            else {\n",
       "                renderPlotly_bd6e454a1e7a445f90ffc1f16fdff69f();\n",
       "            }\r\n",
       "</script>\r\n"
      ]
     },
     "metadata": {},
     "output_type": "display_data"
    }
   ],
   "metadata": {
    "dotnet_interactive": {
     "language": "fsharp"
    }
   }
  },
  {
   "cell_type": "markdown",
   "source": [
    "# Legend titles\r\n"
   ],
   "metadata": {}
  },
  {
   "cell_type": "code",
   "execution_count": null,
   "source": [
    "let x=[|1; 2; 3; 4; 5|]\r\n",
    "[\r\n",
    "Chart.Scatter(x,[|1; 2; 3; 4; 5|], StyleParam.Mode.Lines,Name=\"Increasing\")\r\n",
    "Chart.Scatter(x,[|5; 4; 3; 2; 1|], StyleParam.Mode.Lines,Name=\"Decreasing\")\r\n",
    " ]\r\n",
    "|> Chart.combine\r\n",
    "|> Chart.withTitle(\"Trend\")"
   ],
   "outputs": [
    {
     "data": {
      "text/html": [
       "<div id=\"8ce23d40-4220-4a18-b45e-1b5dd8259d9a\" style=\"width: 600px; height: 600px;\"><!-- Plotly chart will be drawn inside this DIV --></div>\r\n",
       "<script type=\"text/javascript\">\r\n",
       "\n",
       "            var renderPlotly_8ce23d4042204a18b45e1b5dd8259d9a = function() {\n",
       "            var fsharpPlotlyRequire = requirejs.config({context:'fsharp-plotly',paths:{plotly:'https://cdn.plot.ly/plotly-latest.min'}}) || require;\n",
       "            fsharpPlotlyRequire(['plotly'], function(Plotly) {\r\n",
       "\n",
       "            var data = [{\"type\":\"scatter\",\"x\":[1,2,3,4,5],\"y\":[1,2,3,4,5],\"mode\":\"lines\",\"name\":\"Increasing\",\"line\":{},\"marker\":{}},{\"type\":\"scatter\",\"x\":[1,2,3,4,5],\"y\":[5,4,3,2,1],\"mode\":\"lines\",\"name\":\"Decreasing\",\"line\":{},\"marker\":{}}];\n",
       "            var layout = {\"title\":{\"text\":\"Trend\"}};\n",
       "            var config = {};\n",
       "            Plotly.newPlot('8ce23d40-4220-4a18-b45e-1b5dd8259d9a', data, layout, config);\r\n",
       "});\n",
       "            };\n",
       "            if ((typeof(requirejs) !==  typeof(Function)) || (typeof(requirejs.config) !== typeof(Function))) {\n",
       "                var script = document.createElement(\"script\");\n",
       "                script.setAttribute(\"src\", \"https://cdnjs.cloudflare.com/ajax/libs/require.js/2.3.6/require.min.js\");\n",
       "                script.onload = function(){\n",
       "                    renderPlotly_8ce23d4042204a18b45e1b5dd8259d9a();\n",
       "                };\n",
       "                document.getElementsByTagName(\"head\")[0].appendChild(script);\n",
       "            }\n",
       "            else {\n",
       "                renderPlotly_8ce23d4042204a18b45e1b5dd8259d9a();\n",
       "            }\r\n",
       "</script>\r\n"
      ]
     },
     "metadata": {},
     "output_type": "display_data"
    }
   ],
   "metadata": {
    "dotnet_interactive": {
     "language": "fsharp"
    }
   }
  },
  {
   "cell_type": "markdown",
   "source": [
    "# Hiding Legend Items\r\n"
   ],
   "metadata": {}
  },
  {
   "cell_type": "code",
   "execution_count": null,
   "source": [
    "let x=[|1; 2; 3; 4; 5|]\r\n",
    "[\r\n",
    "Chart.Scatter(x,[|1; 2; 3; 4; 5|], StyleParam.Mode.Lines,Showlegend=false)\r\n",
    "Chart.Scatter(x,[|5; 4; 3; 2; 1|], StyleParam.Mode.Lines)\r\n",
    " ]\r\n",
    "|> Chart.combine"
   ],
   "outputs": [
    {
     "data": {
      "text/html": [
       "<div id=\"694080e2-69ba-49c0-8d03-cb49d3c0864a\" style=\"width: 600px; height: 600px;\"><!-- Plotly chart will be drawn inside this DIV --></div>\r\n",
       "<script type=\"text/javascript\">\r\n",
       "\n",
       "            var renderPlotly_694080e269ba49c08d03cb49d3c0864a = function() {\n",
       "            var fsharpPlotlyRequire = requirejs.config({context:'fsharp-plotly',paths:{plotly:'https://cdn.plot.ly/plotly-latest.min'}}) || require;\n",
       "            fsharpPlotlyRequire(['plotly'], function(Plotly) {\r\n",
       "\n",
       "            var data = [{\"type\":\"scatter\",\"x\":[1,2,3,4,5],\"y\":[1,2,3,4,5],\"mode\":\"lines\",\"showlegend\":false,\"line\":{},\"marker\":{}},{\"type\":\"scatter\",\"x\":[1,2,3,4,5],\"y\":[5,4,3,2,1],\"mode\":\"lines\",\"line\":{},\"marker\":{}}];\n",
       "            var layout = {};\n",
       "            var config = {};\n",
       "            Plotly.newPlot('694080e2-69ba-49c0-8d03-cb49d3c0864a', data, layout, config);\r\n",
       "});\n",
       "            };\n",
       "            if ((typeof(requirejs) !==  typeof(Function)) || (typeof(requirejs.config) !== typeof(Function))) {\n",
       "                var script = document.createElement(\"script\");\n",
       "                script.setAttribute(\"src\", \"https://cdnjs.cloudflare.com/ajax/libs/require.js/2.3.6/require.min.js\");\n",
       "                script.onload = function(){\n",
       "                    renderPlotly_694080e269ba49c08d03cb49d3c0864a();\n",
       "                };\n",
       "                document.getElementsByTagName(\"head\")[0].appendChild(script);\n",
       "            }\n",
       "            else {\n",
       "                renderPlotly_694080e269ba49c08d03cb49d3c0864a();\n",
       "            }\r\n",
       "</script>\r\n"
      ]
     },
     "metadata": {},
     "output_type": "display_data"
    }
   ],
   "metadata": {
    "dotnet_interactive": {
     "language": "fsharp"
    }
   }
  },
  {
   "cell_type": "markdown",
   "source": [
    "# Hiding the Trace Initially\r\n"
   ],
   "metadata": {}
  },
  {
   "cell_type": "code",
   "execution_count": null,
   "source": [
    "let x=[|1; 2; 3; 4; 5|]\r\n",
    "[\r\n",
    "Chart.Scatter(x,[|1; 2; 3; 4; 5|], StyleParam.Mode.Lines)\r\n",
    "Chart.Scatter(x,[|5; 4; 3; 2; 1|], StyleParam.Mode.Lines)\r\n",
    " ]\r\n",
    "|> Chart.combine\r\n",
    "\r\n",
    "// visible='legendonly' neeed to be implemented"
   ],
   "outputs": [
    {
     "data": {
      "text/html": [
       "<div id=\"5baa58f4-8da3-4d07-a144-0e203080b9ea\" style=\"width: 600px; height: 600px;\"><!-- Plotly chart will be drawn inside this DIV --></div>\r\n",
       "<script type=\"text/javascript\">\r\n",
       "\n",
       "            var renderPlotly_5baa58f48da34d07a1440e203080b9ea = function() {\n",
       "            var fsharpPlotlyRequire = requirejs.config({context:'fsharp-plotly',paths:{plotly:'https://cdn.plot.ly/plotly-latest.min'}}) || require;\n",
       "            fsharpPlotlyRequire(['plotly'], function(Plotly) {\r\n",
       "\n",
       "            var data = [{\"type\":\"scatter\",\"x\":[1,2,3,4,5],\"y\":[1,2,3,4,5],\"mode\":\"lines\",\"line\":{},\"marker\":{}},{\"type\":\"scatter\",\"x\":[1,2,3,4,5],\"y\":[5,4,3,2,1],\"mode\":\"lines\",\"line\":{},\"marker\":{}}];\n",
       "            var layout = {};\n",
       "            var config = {};\n",
       "            Plotly.newPlot('5baa58f4-8da3-4d07-a144-0e203080b9ea', data, layout, config);\r\n",
       "});\n",
       "            };\n",
       "            if ((typeof(requirejs) !==  typeof(Function)) || (typeof(requirejs.config) !== typeof(Function))) {\n",
       "                var script = document.createElement(\"script\");\n",
       "                script.setAttribute(\"src\", \"https://cdnjs.cloudflare.com/ajax/libs/require.js/2.3.6/require.min.js\");\n",
       "                script.onload = function(){\n",
       "                    renderPlotly_5baa58f48da34d07a1440e203080b9ea();\n",
       "                };\n",
       "                document.getElementsByTagName(\"head\")[0].appendChild(script);\n",
       "            }\n",
       "            else {\n",
       "                renderPlotly_5baa58f48da34d07a1440e203080b9ea();\n",
       "            }\r\n",
       "</script>\r\n"
      ]
     },
     "metadata": {},
     "output_type": "display_data"
    }
   ],
   "metadata": {
    "dotnet_interactive": {
     "language": "fsharp"
    }
   }
  },
  {
   "cell_type": "markdown",
   "source": [
    "# Size of Legend Items\r\n"
   ],
   "metadata": {}
  },
  {
   "cell_type": "markdown",
   "source": [
    "In this example itemsizing attribute determines the legend items symbols remain constant, regardless of how tiny/huge the bubbles would be in the graph.\r\n",
    "\r\n"
   ],
   "metadata": {}
  },
  {
   "cell_type": "code",
   "execution_count": null,
   "source": [
    "let x=[|1; 2; 3; 4; 5|]\r\n",
    "let marker = Marker.init(MultiSizes=[40; 60; 80; 100]);\r\n",
    "\r\n",
    "[\r\n",
    "Chart.Scatter(x,[|1; 2; 3; 4; 5|], StyleParam.Mode.Markers)\r\n",
    "Chart.Scatter(x,[|5; 4; 3; 2; 1|], StyleParam.Mode.Markers)\r\n",
    " ]\r\n",
    "|> Chart.combine\r\n",
    "|> Chart.withMarker(marker)"
   ],
   "outputs": [
    {
     "data": {
      "text/html": [
       "<div id=\"35ecc43f-6382-4308-9c77-df302324487b\" style=\"width: 600px; height: 600px;\"><!-- Plotly chart will be drawn inside this DIV --></div>\r\n",
       "<script type=\"text/javascript\">\r\n",
       "\n",
       "            var renderPlotly_35ecc43f638243089c77df302324487b = function() {\n",
       "            var fsharpPlotlyRequire = requirejs.config({context:'fsharp-plotly',paths:{plotly:'https://cdn.plot.ly/plotly-latest.min'}}) || require;\n",
       "            fsharpPlotlyRequire(['plotly'], function(Plotly) {\r\n",
       "\n",
       "            var data = [{\"type\":\"scatter\",\"x\":[1,2,3,4,5],\"y\":[1,2,3,4,5],\"mode\":\"markers\",\"line\":{},\"marker\":{\"size\":[40,60,80,100]}},{\"type\":\"scatter\",\"x\":[1,2,3,4,5],\"y\":[5,4,3,2,1],\"mode\":\"markers\",\"line\":{},\"marker\":{\"size\":[40,60,80,100]}}];\n",
       "            var layout = {};\n",
       "            var config = {};\n",
       "            Plotly.newPlot('35ecc43f-6382-4308-9c77-df302324487b', data, layout, config);\r\n",
       "});\n",
       "            };\n",
       "            if ((typeof(requirejs) !==  typeof(Function)) || (typeof(requirejs.config) !== typeof(Function))) {\n",
       "                var script = document.createElement(\"script\");\n",
       "                script.setAttribute(\"src\", \"https://cdnjs.cloudflare.com/ajax/libs/require.js/2.3.6/require.min.js\");\n",
       "                script.onload = function(){\n",
       "                    renderPlotly_35ecc43f638243089c77df302324487b();\n",
       "                };\n",
       "                document.getElementsByTagName(\"head\")[0].appendChild(script);\n",
       "            }\n",
       "            else {\n",
       "                renderPlotly_35ecc43f638243089c77df302324487b();\n",
       "            }\r\n",
       "</script>\r\n"
      ]
     },
     "metadata": {},
     "output_type": "display_data"
    }
   ],
   "metadata": {
    "dotnet_interactive": {
     "language": "fsharp"
    }
   }
  },
  {
   "cell_type": "markdown",
   "source": [
    "# Grouped Legend Items\r\n"
   ],
   "metadata": {}
  },
  {
   "cell_type": "markdown",
   "source": [
    "Grouping legend items together by setting the legendgroup attribute of traces causes their legend entries to be next to each other, and clicking on any legend entry in the group will show or hide the whole group. The legendgrouptitle attribute can be used to give titles to groups.\r\n",
    "\r\n"
   ],
   "metadata": {}
  },
  {
   "cell_type": "code",
   "execution_count": null,
   "source": [
    "let x=[|1; 2; 3|]\r\n",
    "let marker = Marker.init(MultiSizes=[40; 60; 80; 100]);\r\n",
    "\r\n",
    "[\r\n",
    "Chart.Scatter(x,[|2;1;3;|], StyleParam.Mode.Markers, Name=\"first legend group\",Color=\"Crimson\")\r\n",
    "|> GenericChart.mapTrace(fun x -> \r\n",
    "        x.SetValue(\"legendgroup\", \"group\")\r\n",
    "        x.SetValue(\"legendgrouptitletext\", \"First Group Title\")\r\n",
    "        x)\r\n",
    "Chart.Scatter(x,[|2; 2; 2;|], StyleParam.Mode.Lines, Name=\"first legend group - average\",Color=\"Crimson\")\r\n",
    "|> GenericChart.mapTrace(fun x -> \r\n",
    "        x.SetValue(\"legendgroup\", \"group\")\r\n",
    "        x.SetValue(\"legendgrouptitletext\", \"first legend group - average\")\r\n",
    "        x)\r\n",
    "\r\n",
    "\r\n",
    "Chart.Scatter(x,[|4;9;2;|], StyleParam.Mode.Markers, Name=\"group2\",Color=\"MediumPurple\")\r\n",
    "|> GenericChart.mapTrace(fun x -> \r\n",
    "        x.SetValue(\"legendgroup\", \"group2\")\r\n",
    "        x.SetValue(\"legendgrouptitletext\", \"First Group Title\")\r\n",
    "        x)\r\n",
    "Chart.Scatter(x,[|5; 5; 5;|], StyleParam.Mode.Lines, Name=\"second legend group - average\",Color=\"MediumPurple\")\r\n",
    "|> GenericChart.mapTrace(fun x -> \r\n",
    "        x.SetValue(\"legendgroup\", \"group2\")\r\n",
    "        x.SetValue(\"legendgrouptitletext\", \"second legend group - average\")\r\n",
    "        x)\r\n",
    " ]\r\n",
    "\r\n",
    "|> Chart.combine\r\n",
    "|> Chart.withTitle(\"Try Clicking on the Legend Items!\")"
   ],
   "outputs": [
    {
     "data": {
      "text/html": [
       "<div id=\"acb1f030-b813-494a-bb84-d59c08f741bc\" style=\"width: 600px; height: 600px;\"><!-- Plotly chart will be drawn inside this DIV --></div>\r\n",
       "<script type=\"text/javascript\">\r\n",
       "\n",
       "            var renderPlotly_acb1f030b813494abb84d59c08f741bc = function() {\n",
       "            var fsharpPlotlyRequire = requirejs.config({context:'fsharp-plotly',paths:{plotly:'https://cdn.plot.ly/plotly-latest.min'}}) || require;\n",
       "            fsharpPlotlyRequire(['plotly'], function(Plotly) {\r\n",
       "\n",
       "            var data = [{\"type\":\"scatter\",\"x\":[1,2,3],\"y\":[2,1,3],\"mode\":\"markers\",\"name\":\"first legend group\",\"line\":{\"color\":\"Crimson\"},\"marker\":{\"color\":\"Crimson\"},\"legendgroup\":\"group\",\"legendgrouptitletext\":\"First Group Title\"},{\"type\":\"scatter\",\"x\":[1,2,3],\"y\":[2,2,2],\"mode\":\"lines\",\"name\":\"first legend group - average\",\"line\":{\"color\":\"Crimson\"},\"marker\":{\"color\":\"Crimson\"},\"legendgroup\":\"group\",\"legendgrouptitletext\":\"first legend group - average\"},{\"type\":\"scatter\",\"x\":[1,2,3],\"y\":[4,9,2],\"mode\":\"markers\",\"name\":\"group2\",\"line\":{\"color\":\"MediumPurple\"},\"marker\":{\"color\":\"MediumPurple\"},\"legendgroup\":\"group2\",\"legendgrouptitletext\":\"First Group Title\"},{\"type\":\"scatter\",\"x\":[1,2,3],\"y\":[5,5,5],\"mode\":\"lines\",\"name\":\"second legend group - average\",\"line\":{\"color\":\"MediumPurple\"},\"marker\":{\"color\":\"MediumPurple\"},\"legendgroup\":\"group2\",\"legendgrouptitletext\":\"second legend group - average\"}];\n",
       "            var layout = {\"title\":{\"text\":\"Try Clicking on the Legend Items!\"}};\n",
       "            var config = {};\n",
       "            Plotly.newPlot('acb1f030-b813-494a-bb84-d59c08f741bc', data, layout, config);\r\n",
       "});\n",
       "            };\n",
       "            if ((typeof(requirejs) !==  typeof(Function)) || (typeof(requirejs.config) !== typeof(Function))) {\n",
       "                var script = document.createElement(\"script\");\n",
       "                script.setAttribute(\"src\", \"https://cdnjs.cloudflare.com/ajax/libs/require.js/2.3.6/require.min.js\");\n",
       "                script.onload = function(){\n",
       "                    renderPlotly_acb1f030b813494abb84d59c08f741bc();\n",
       "                };\n",
       "                document.getElementsByTagName(\"head\")[0].appendChild(script);\n",
       "            }\n",
       "            else {\n",
       "                renderPlotly_acb1f030b813494abb84d59c08f741bc();\n",
       "            }\r\n",
       "</script>\r\n"
      ]
     },
     "metadata": {},
     "output_type": "display_data"
    }
   ],
   "metadata": {
    "dotnet_interactive": {
     "language": "fsharp"
    }
   }
  },
  {
   "cell_type": "markdown",
   "source": [
    "You can also hide entries in grouped legends, preserving the grouped show/hide behaviour. This is what Plotly Express does with its legends.\r\n",
    "\r\n"
   ],
   "metadata": {}
  },
  {
   "cell_type": "code",
   "execution_count": null,
   "source": [
    "let x=[|1; 2; 3|]\r\n",
    "let marker = Marker.init(MultiSizes=[40; 60; 80; 100]);\r\n",
    "\r\n",
    "[\r\n",
    "Chart.Scatter(x,[|2;1;3;|], StyleParam.Mode.Markers, Name=\"first legend group\",Color=\"Crimson\")\r\n",
    "|> GenericChart.mapTrace(fun x -> \r\n",
    "        x.SetValue(\"legendgroup\", \"group\")\r\n",
    "        x)\r\n",
    "Chart.Scatter(x,[|2; 2; 2;|], StyleParam.Mode.Lines, Name=\"first legend group - average\",Color=\"Crimson\")\r\n",
    "|> GenericChart.mapTrace(fun x -> \r\n",
    "        x.SetValue(\"legendgroup\", \"group\")\r\n",
    "        x)\r\n",
    "\r\n",
    "\r\n",
    "Chart.Scatter(x,[|4;9;2;|], StyleParam.Mode.Markers, Name=\"group2\",Color=\"MediumPurple\")\r\n",
    "|> GenericChart.mapTrace(fun x -> \r\n",
    "        x.SetValue(\"legendgroup\", \"group2\")\r\n",
    "        x)\r\n",
    "Chart.Scatter(x,[|5; 5; 5;|], StyleParam.Mode.Lines, Name=\"second legend group - average\",Color=\"MediumPurple\")\r\n",
    "|> GenericChart.mapTrace(fun x -> \r\n",
    "        x.SetValue(\"legendgroup\", \"group2\")\r\n",
    "        x)\r\n",
    " ]\r\n",
    "\r\n",
    "|> Chart.combine\r\n",
    "|> Chart.withTitle(\"Try Clicking on the Legend Items!\")"
   ],
   "outputs": [
    {
     "data": {
      "text/html": [
       "<div id=\"376b7dd9-682a-4160-9a54-7d970ac2c98b\" style=\"width: 600px; height: 600px;\"><!-- Plotly chart will be drawn inside this DIV --></div>\r\n",
       "<script type=\"text/javascript\">\r\n",
       "\n",
       "            var renderPlotly_376b7dd9682a41609a547d970ac2c98b = function() {\n",
       "            var fsharpPlotlyRequire = requirejs.config({context:'fsharp-plotly',paths:{plotly:'https://cdn.plot.ly/plotly-latest.min'}}) || require;\n",
       "            fsharpPlotlyRequire(['plotly'], function(Plotly) {\r\n",
       "\n",
       "            var data = [{\"type\":\"scatter\",\"x\":[1,2,3],\"y\":[2,1,3],\"mode\":\"markers\",\"name\":\"first legend group\",\"line\":{\"color\":\"Crimson\"},\"marker\":{\"color\":\"Crimson\"},\"legendgroup\":\"group\"},{\"type\":\"scatter\",\"x\":[1,2,3],\"y\":[2,2,2],\"mode\":\"lines\",\"name\":\"first legend group - average\",\"line\":{\"color\":\"Crimson\"},\"marker\":{\"color\":\"Crimson\"},\"legendgroup\":\"group\"},{\"type\":\"scatter\",\"x\":[1,2,3],\"y\":[4,9,2],\"mode\":\"markers\",\"name\":\"group2\",\"line\":{\"color\":\"MediumPurple\"},\"marker\":{\"color\":\"MediumPurple\"},\"legendgroup\":\"group2\"},{\"type\":\"scatter\",\"x\":[1,2,3],\"y\":[5,5,5],\"mode\":\"lines\",\"name\":\"second legend group - average\",\"line\":{\"color\":\"MediumPurple\"},\"marker\":{\"color\":\"MediumPurple\"},\"legendgroup\":\"group2\"}];\n",
       "            var layout = {\"title\":{\"text\":\"Try Clicking on the Legend Items!\"}};\n",
       "            var config = {};\n",
       "            Plotly.newPlot('376b7dd9-682a-4160-9a54-7d970ac2c98b', data, layout, config);\r\n",
       "});\n",
       "            };\n",
       "            if ((typeof(requirejs) !==  typeof(Function)) || (typeof(requirejs.config) !== typeof(Function))) {\n",
       "                var script = document.createElement(\"script\");\n",
       "                script.setAttribute(\"src\", \"https://cdnjs.cloudflare.com/ajax/libs/require.js/2.3.6/require.min.js\");\n",
       "                script.onload = function(){\n",
       "                    renderPlotly_376b7dd9682a41609a547d970ac2c98b();\n",
       "                };\n",
       "                document.getElementsByTagName(\"head\")[0].appendChild(script);\n",
       "            }\n",
       "            else {\n",
       "                renderPlotly_376b7dd9682a41609a547d970ac2c98b();\n",
       "            }\r\n",
       "</script>\r\n"
      ]
     },
     "metadata": {},
     "output_type": "display_data"
    }
   ],
   "metadata": {
    "dotnet_interactive": {
     "language": "fsharp"
    }
   }
  }
 ],
 "nbformat": 4,
 "nbformat_minor": 2
}