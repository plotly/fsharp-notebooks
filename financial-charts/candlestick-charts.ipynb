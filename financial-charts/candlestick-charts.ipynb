{
 "cells": [
  {
   "cell_type": "code",
   "execution_count": null,
   "source": [
    "#r \"nuget: Plotly.NET, *-*\"\r\n",
    "#r \"nuget: Plotly.NET.Interactive, *-*\"\r\n",
    "#r \"nuget:Deedle\"\r\n",
    "#r \"nuget: FSharp.Data\""
   ],
   "outputs": [
    {
     "output_type": "display_data",
     "data": {
      "text/html": ""
     },
     "metadata": {}
    },
    {
     "output_type": "display_data",
     "data": {
      "text/markdown": ""
     },
     "metadata": {}
    },
    {
     "output_type": "display_data",
     "data": {
      "text/markdown": ""
     },
     "metadata": {}
    }
   ],
   "metadata": {
    "dotnet_interactive": {
     "language": "fsharp"
    }
   }
  },
  {
   "cell_type": "markdown",
   "source": [
    "# Simple Candlestick"
   ],
   "metadata": {}
  },
  {
   "cell_type": "code",
   "execution_count": null,
   "source": [
    "open Deedle\r\n",
    "open FSharp.Data\r\n",
    "open Plotly.NET\r\n",
    "open System.Globalization\r\n",
    "\r\n",
    "let dataset = \r\n",
    "  Http.RequestString \"https://raw.githubusercontent.com/plotly/datasets/master/finance-charts-apple.csv\"\r\n",
    "   |> fun csv -> Frame.ReadCsvString(csv,true,separators=\",\")\r\n",
    "\r\n",
    "let getColumn column=\r\n",
    "        dataset\r\n",
    "        |> Frame.getCol column\r\n",
    "        |> Series.values\r\n",
    "        |> Array.ofSeq\r\n",
    "\r\n",
    "let format = \"MM/dd/yyyy hh:mm:ss\"\r\n",
    "let provider = CultureInfo.InvariantCulture\r\n",
    "\r\n",
    "let getDateTime d= DateTime.ParseExact(string(d),format,provider)\r\n",
    "\r\n",
    "let stockData = dataset \r\n",
    "                |> Frame.mapRows (fun k v -> (v.Get(\"Date\") |> getDateTime ,StockData.Create(v?``AAPL.Open``,v?``AAPL.High``,v?``AAPL.Low``,v?``AAPL.Close``)) )\r\n",
    "                |> Series.values \r\n",
    "                |> Array.ofSeq\r\n",
    "\r\n",
    "Chart.Candlestick(stockData)\r\n"
   ],
   "outputs": [
    {
     "output_type": "display_data",
     "data": {
      "text/html": ""
     },
     "metadata": {}
    }
   ],
   "metadata": {
    "dotnet_interactive": {
     "language": "fsharp"
    }
   }
  },
  {
   "cell_type": "markdown",
   "source": [
    "# Candlestick without Rangeslider"
   ],
   "metadata": {}
  },
  {
   "cell_type": "code",
   "execution_count": null,
   "source": [
    "\r\n",
    "Chart.Candlestick(stockData)\r\n",
    "|> Chart.withXAxisRangeSlider(RangeSlider.init(Visible=false))\r\n"
   ],
   "outputs": [
    {
     "output_type": "display_data",
     "data": {
      "text/html": ""
     },
     "metadata": {}
    }
   ],
   "metadata": {
    "dotnet_interactive": {
     "language": "fsharp"
    }
   }
  },
  {
   "cell_type": "markdown",
   "source": [
    "# Adding Customized Text and Annotations"
   ],
   "metadata": {}
  },
  {
   "cell_type": "code",
   "execution_count": null,
   "source": [
    "let annotation = Annotation.init(X=\"2016-12-09\",Y=0.05,Text=\"Increase Period Begins\",XRef=\"x\", YRef=\"paper\",ShowArrow=false)\r\n",
    "let line = Shape.init(StyleParam.ShapeType.Line, X0=\"2016-12-09\", X1=\"2016-12-09\", Y0=0, Y1=1,Xref=\"x\",Yref=\"paper\",Line=Line.init(Width=1.5))\r\n",
    "\r\n",
    "Chart.Candlestick(stockData)\r\n",
    "|> Chart.withTitle(title=\"The Great Recession\")\r\n",
    "|> Chart.withAnnotations([annotation])\r\n",
    "|> Chart.withShapes([line])\r\n",
    "|> Chart.withLayout(Layout.init(Plot_bgcolor=\"#e5ecf6\",Width=800.0))\r\n",
    "|> Chart.withXAxisRangeSlider(RangeSlider.init(Visible=false))"
   ],
   "outputs": [
    {
     "output_type": "display_data",
     "data": {
      "text/html": ""
     },
     "metadata": {}
    }
   ],
   "metadata": {
    "dotnet_interactive": {
     "language": "fsharp"
    }
   }
  },
  {
   "cell_type": "markdown",
   "source": [
    "# Custom Candlestick Colors (Not Working)"
   ],
   "metadata": {}
  },
  {
   "cell_type": "code",
   "execution_count": null,
   "source": [
    "Chart.Candlestick(stockData,Increasing=Line.init(Color=\"cyan\"),Decreasing=Line.init(Color=\"gray\"))"
   ],
   "outputs": [
    {
     "output_type": "display_data",
     "data": {
      "text/html": ""
     },
     "metadata": {}
    }
   ],
   "metadata": {
    "dotnet_interactive": {
     "language": "fsharp"
    }
   }
  },
  {
   "cell_type": "markdown",
   "source": [
    "# Simple Example"
   ],
   "metadata": {}
  },
  {
   "cell_type": "code",
   "execution_count": null,
   "source": [
    "let dates = [for i in 1..5 -> DateTime.Now.AddDays(float i)]\r\n",
    "let open_price = [10.0;5.0;7.0;12.0;10.0]\r\n",
    "let close = [20.0;3.0;12.0;21.0;5.0]\r\n",
    "let low = [5.0;1.0;5.0;12.0;3.0]\r\n",
    "let high = [25.0;10.0;15.0;27.0;15.0]\r\n",
    "\r\n",
    "let stock_data = [for i in 0..4 -> (dates.[i], StockData.Create(o=open_price.[i],h=high.[i],l=low.[i],c=close.[i]))]\r\n",
    "\r\n",
    "Chart.Candlestick(stock_data)"
   ],
   "outputs": [
    {
     "output_type": "display_data",
     "data": {
      "text/html": ""
     },
     "metadata": {}
    }
   ],
   "metadata": {
    "dotnet_interactive": {
     "language": "csharp"
    }
   }
  }
 ],
 "metadata": {
  "orig_nbformat": 4,
  "language_info": {
   "file_extension": ".cs",
   "mimetype": "text/x-csharp",
   "name": "C#",
   "pygments_lexer": "csharp",
   "version": "9.0"
  },
  "kernelspec": {
   "display_name": ".NET (C#)",
   "language": "C#",
   "name": ".net-csharp"
  }
 },
 "nbformat": 4,
 "nbformat_minor": 2
}