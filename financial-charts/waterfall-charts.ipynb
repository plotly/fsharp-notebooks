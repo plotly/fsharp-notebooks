{
 "cells": [
  {
   "cell_type": "code",
   "execution_count": null,
   "metadata": {
    "dotnet_interactive": {
     "language": "fsharp"
    }
   },
   "outputs": [
    {
     "data": {
      "text/html": [
       "<div><div></div><div></div><div><strong>Installed Packages</strong><ul><li><span>Newtonsoft.Json, 12.0.3</span></li><li><span>Plotly.NET, 2.0.0-preview.10</span></li><li><span>Plotly.NET.Interactive, 2.0.0-preview.10</span></li></ul></div></div>"
      ]
     },
     "metadata": {},
     "output_type": "display_data"
    },
    {
     "data": {
      "text/markdown": [
       "Loading extensions from `Plotly.NET.Interactive.dll`"
      ]
     },
     "metadata": {},
     "output_type": "display_data"
    },
    {
     "data": {
      "text/markdown": [
       "Added Kernel Extension including formatters for Plotly.NET charts."
      ]
     },
     "metadata": {},
     "output_type": "display_data"
    }
   ],
   "source": [
    "#r \"nuget: Newtonsoft.Json, 12.0.3\"\n",
    "#r \"nuget: Plotly.NET,  2.0.0-preview.10\"\n",
    "#r \"nuget: Plotly.NET.Interactive,  2.0.0-preview.10\""
   ]
  },
  {
   "cell_type": "markdown",
   "metadata": {},
   "source": [
    "# Simple Waterfall Chart"
   ]
  },
  {
   "cell_type": "code",
   "execution_count": null,
   "metadata": {
    "dotnet_interactive": {
     "language": "fsharp"
    }
   },
   "outputs": [
    {
     "data": {
      "text/html": [
       "<div id=\"f3b1177b-0b81-4a58-999b-6df0ea011773\" style=\"width: 600px; height: 600px;\"><!-- Plotly chart will be drawn inside this DIV --></div>\r\n",
       "<script type=\"text/javascript\">\r\n",
       "\n",
       "            var renderPlotly_f3b1177b0b814a58999b6df0ea011773 = function() {\n",
       "            var fsharpPlotlyRequire = requirejs.config({context:'fsharp-plotly',paths:{plotly:'https://cdn.plot.ly/plotly-2.4.2.min'}}) || require;\n",
       "            fsharpPlotlyRequire(['plotly'], function(Plotly) {\r\n",
       "\n",
       "            var data = [{\"type\":\"waterfall\",\"x\":[\"Sales\",\"Consulting\",\"Net revenue\",\"Purchases\",\"Other expenses\",\"Profit before tax\"],\"y\":[60,80,0,-40,-20,0],\"measure\":[\"relative\",\"relative\",\"total\",\"relative\",\"relative\",\"total\"],\"connector\":{\"line\":{\"color\":\"rgb(63, 63, 63)\"}},\"text\":[\"+60\",\"+80\",\"\",\"-40\",\"-20\",\"Total\"],\"textposition\":\"outside\"}];\n",
       "            var layout = {};\n",
       "            var config = {};\n",
       "            Plotly.newPlot('f3b1177b-0b81-4a58-999b-6df0ea011773', data, layout, config);\r\n",
       "});\n",
       "            };\n",
       "            if ((typeof(requirejs) !==  typeof(Function)) || (typeof(requirejs.config) !== typeof(Function))) {\n",
       "                var script = document.createElement(\"script\");\n",
       "                script.setAttribute(\"src\", \"https://cdnjs.cloudflare.com/ajax/libs/require.js/2.3.6/require.min.js\");\n",
       "                script.onload = function(){\n",
       "                    renderPlotly_f3b1177b0b814a58999b6df0ea011773();\n",
       "                };\n",
       "                document.getElementsByTagName(\"head\")[0].appendChild(script);\n",
       "            }\n",
       "            else {\n",
       "                renderPlotly_f3b1177b0b814a58999b6df0ea011773();\n",
       "            }\r\n",
       "</script>\r\n"
      ]
     },
     "metadata": {},
     "output_type": "display_data"
    }
   ],
   "source": [
    "open Plotly.NET\n",
    "open Plotly.NET.TraceObjects\n",
    "open Plotly.NET.LayoutObjects\n",
    "\n",
    "let x =\n",
    "    [ \"Sales\"\n",
    "      \"Consulting\"\n",
    "      \"Net revenue\"\n",
    "      \"Purchases\"\n",
    "      \"Other expenses\"\n",
    "      \"Profit before tax\" ]\n",
    "\n",
    "let y = [ 60; 80; 0; -40; -20; 0 ]\n",
    "\n",
    "let measure =\n",
    "    [ StyleParam.WaterfallMeasure.Relative\n",
    "      StyleParam.WaterfallMeasure.Relative\n",
    "      StyleParam.WaterfallMeasure.Total\n",
    "      StyleParam.WaterfallMeasure.Relative\n",
    "      StyleParam.WaterfallMeasure.Relative\n",
    "      StyleParam.WaterfallMeasure.Total ]\n",
    "\n",
    "Chart.Waterfall(\n",
    "    x = x,\n",
    "    y = y,\n",
    "    Measure = measure,\n",
    "    Connector = WaterfallConnector.init (Line = Line.init (Color = Color.fromString \"rgb(63, 63, 63)\"))\n",
    ")\n",
    "|> GenericChart.mapTrace //Workaround\n",
    "    (fun t ->\n",
    "        t?text <- [ \"+60\";\"+80\";\"\";\"-40\";\"-20\";\"Total\" ]\n",
    "        t?textposition <- \"outside\"\n",
    "        t)\n"
   ]
  },
  {
   "cell_type": "markdown",
   "metadata": {},
   "source": [
    "# Horizontal Waterfall Chart"
   ]
  },
  {
   "cell_type": "code",
   "execution_count": null,
   "metadata": {
    "dotnet_interactive": {
     "language": "fsharp"
    }
   },
   "outputs": [
    {
     "data": {
      "text/html": [
       "<div id=\"1a32625b-9aa1-4c63-8c02-2d436c5b29ac\" style=\"width: 600px; height: 600px;\"><!-- Plotly chart will be drawn inside this DIV --></div>\r\n",
       "<script type=\"text/javascript\">\r\n",
       "\n",
       "            var renderPlotly_1a32625b9aa14c638c022d436c5b29ac = function() {\n",
       "            var fsharpPlotlyRequire = requirejs.config({context:'fsharp-plotly',paths:{plotly:'https://cdn.plot.ly/plotly-2.4.2.min'}}) || require;\n",
       "            fsharpPlotlyRequire(['plotly'], function(Plotly) {\r\n",
       "\n",
       "            var data = [{\"type\":\"waterfall\",\"x\":[375.0,128.0,78.0,27.0,\"NaN\",-327.0,-12.0,-78.0,-12.0,\"NaN\",32.0,89.0,\"NaN\",-45.0,\"NaN\"],\"y\":[\"Sales\",\"Consulting\",\"Maintenance\",\"Other revenue\",\"Net revenue\",\"Purchases\",\"Material expenses\",\"Personnel expenses\",\"Other expenses\",\"Operating profit\",\"Investment income\",\"Financial income\",\"Profit before tax\",\"Income tax (15%)\",\"Profit after tax\"],\"measure\":[\"relative\",\"relative\",\"relative\",\"relative\",\"total\",\"relative\",\"relative\",\"relative\",\"relative\",\"total\",\"relative\",\"relative\",\"total\",\"relative\",\"total\"],\"orientation\":\"h\",\"connector\":{\"line\":{\"color\":\"rgb(0,0,0)\",\"width\":4.0,\"dash\":\"solid\"},\"mode\":\"between\"},\"name\":\"2018\"}];\n",
       "            var layout = {\"title\":{\"text\":\"Profit and loss statement 2018\"},\"margin\":{\"l\":150}};\n",
       "            var config = {};\n",
       "            Plotly.newPlot('1a32625b-9aa1-4c63-8c02-2d436c5b29ac', data, layout, config);\r\n",
       "});\n",
       "            };\n",
       "            if ((typeof(requirejs) !==  typeof(Function)) || (typeof(requirejs.config) !== typeof(Function))) {\n",
       "                var script = document.createElement(\"script\");\n",
       "                script.setAttribute(\"src\", \"https://cdnjs.cloudflare.com/ajax/libs/require.js/2.3.6/require.min.js\");\n",
       "                script.onload = function(){\n",
       "                    renderPlotly_1a32625b9aa14c638c022d436c5b29ac();\n",
       "                };\n",
       "                document.getElementsByTagName(\"head\")[0].appendChild(script);\n",
       "            }\n",
       "            else {\n",
       "                renderPlotly_1a32625b9aa14c638c022d436c5b29ac();\n",
       "            }\r\n",
       "</script>\r\n"
      ]
     },
     "metadata": {},
     "output_type": "display_data"
    }
   ],
   "source": [
    "open Plotly.NET\n",
    "\n",
    "let x = [375.; 128.; 78.; 27.; Double.NaN; -327.; -12.; -78.; -12.; Double.NaN; 32.; 89.; Double.NaN; -45.; Double.NaN]\n",
    "\n",
    "let measure =\n",
    "    [ StyleParam.WaterfallMeasure.Relative\n",
    "      StyleParam.WaterfallMeasure.Relative\n",
    "      StyleParam.WaterfallMeasure.Relative\n",
    "      StyleParam.WaterfallMeasure.Relative\n",
    "      StyleParam.WaterfallMeasure.Total\n",
    "      StyleParam.WaterfallMeasure.Relative\n",
    "      StyleParam.WaterfallMeasure.Relative\n",
    "      StyleParam.WaterfallMeasure.Relative\n",
    "      StyleParam.WaterfallMeasure.Relative\n",
    "      StyleParam.WaterfallMeasure.Total\n",
    "      StyleParam.WaterfallMeasure.Relative\n",
    "      StyleParam.WaterfallMeasure.Relative\n",
    "      StyleParam.WaterfallMeasure.Total\n",
    "      StyleParam.WaterfallMeasure.Relative\n",
    "      StyleParam.WaterfallMeasure.Total ]\n",
    "\n",
    "let y =\n",
    "    [ \"Sales\"\n",
    "      \"Consulting\"\n",
    "      \"Maintenance\"\n",
    "      \"Other revenue\"\n",
    "      \"Net revenue\"\n",
    "      \"Purchases\"\n",
    "      \"Material expenses\"\n",
    "      \"Personnel expenses\"\n",
    "      \"Other expenses\"\n",
    "      \"Operating profit\"\n",
    "      \"Investment income\"\n",
    "      \"Financial income\"\n",
    "      \"Profit before tax\"\n",
    "      \"Income tax (15%)\"\n",
    "      \"Profit after tax\" ]\n",
    "\n",
    "Chart.Waterfall(\n",
    "    x = x,\n",
    "    y = y,\n",
    "    Measure = measure,\n",
    "    Orientation = StyleParam.Orientation.Horizontal,\n",
    "    Connector =\n",
    "        WaterfallConnector.init (\n",
    "            ConnectorMode = StyleParam.ConnectorMode.Between,\n",
    "            Line = Line.init (Color = Color.fromString \"rgb(0,0,0)\", Dash = StyleParam.DrawingStyle.Solid, Width = 4.)\n",
    "        )\n",
    ")\n",
    "|> Chart.withTitle (\"Profit and loss statement 2018\")\n",
    "|> Chart.withTraceName (\"2018\")\n",
    "|> Chart.withMarginSize (Left = 150)\n"
   ]
  }
 ],
 "metadata": {
  "kernelspec": {
   "display_name": ".NET (C#)",
   "language": "C#",
   "name": ".net-csharp"
  },
  "language_info": {
   "file_extension": ".cs",
   "mimetype": "text/x-csharp",
   "name": "C#",
   "pygments_lexer": "csharp",
   "version": "9.0"
  },
  "orig_nbformat": 4
 },
 "nbformat": 4,
 "nbformat_minor": 2
}
