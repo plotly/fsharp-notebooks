{
 "cells": [
  {
   "cell_type": "code",
   "execution_count": null,
   "metadata": {
    "dotnet_interactive": {
     "language": "fsharp"
    }
   },
   "outputs": [
    {
     "data": {
      "text/html": [
       "<div><div></div><div></div><div><strong>Installed Packages</strong><ul><li><span>Newtonsoft.Json, 12.0.3</span></li><li><span>Plotly.NET, 2.0.0-preview.10</span></li><li><span>Plotly.NET.Interactive, 2.0.0-preview.10</span></li></ul></div></div>"
      ]
     },
     "metadata": {},
     "output_type": "display_data"
    },
    {
     "data": {
      "text/markdown": [
       "Loading extensions from `Plotly.NET.Interactive.dll`"
      ]
     },
     "metadata": {},
     "output_type": "display_data"
    },
    {
     "data": {
      "text/markdown": [
       "Added Kernel Extension including formatters for Plotly.NET charts."
      ]
     },
     "metadata": {},
     "output_type": "display_data"
    }
   ],
   "source": [
    "#r \"nuget: Newtonsoft.Json, 12.0.3\"\n",
    "#r \"nuget: Plotly.NET,  2.0.0-preview.10\"\n",
    "#r \"nuget: Plotly.NET.Interactive,  2.0.0-preview.10\""
   ]
  },
  {
   "cell_type": "markdown",
   "metadata": {},
   "source": [
    "# Introduction\n",
    "\n",
    "Funnel charts are often used to represent data in different stages of a business process. It’s an important mechanism in Business Intelligence to identify potential problem areas of a process. For example, it’s used to observe the revenue or loss in a sales process for each stage, and displays values that are decreasing progressively. Each stage is illustrated as a percentage of the total of all values."
   ]
  },
  {
   "cell_type": "markdown",
   "metadata": {},
   "source": [
    "# Basic Funnel Chart"
   ]
  },
  {
   "cell_type": "code",
   "execution_count": null,
   "metadata": {
    "dotnet_interactive": {
     "language": "fsharp"
    }
   },
   "outputs": [
    {
     "data": {
      "text/html": [
       "<div id=\"55905c8c-719f-452c-98c0-1165d76f4e27\" style=\"width: 600px; height: 600px;\"><!-- Plotly chart will be drawn inside this DIV --></div>\r\n",
       "<script type=\"text/javascript\">\r\n",
       "\n",
       "            var renderPlotly_55905c8c719f452c98c01165d76f4e27 = function() {\n",
       "            var fsharpPlotlyRequire = requirejs.config({context:'fsharp-plotly',paths:{plotly:'https://cdn.plot.ly/plotly-2.4.2.min'}}) || require;\n",
       "            fsharpPlotlyRequire(['plotly'], function(Plotly) {\r\n",
       "\n",
       "            var data = [{\"type\":\"funnel\",\"x\":[39.0,27.4,20.6,11.0,2.0],\"y\":[\"Website visit\",\"Downloads\",\"Potential customers\",\"Requested price\",\"invoice sent\"],\"marker\":{}}];\n",
       "            var layout = {\"margin\":{\"l\":150.0}};\n",
       "            var config = {};\n",
       "            Plotly.newPlot('55905c8c-719f-452c-98c0-1165d76f4e27', data, layout, config);\r\n",
       "});\n",
       "            };\n",
       "            if ((typeof(requirejs) !==  typeof(Function)) || (typeof(requirejs.config) !== typeof(Function))) {\n",
       "                var script = document.createElement(\"script\");\n",
       "                script.setAttribute(\"src\", \"https://cdnjs.cloudflare.com/ajax/libs/require.js/2.3.6/require.min.js\");\n",
       "                script.onload = function(){\n",
       "                    renderPlotly_55905c8c719f452c98c01165d76f4e27();\n",
       "                };\n",
       "                document.getElementsByTagName(\"head\")[0].appendChild(script);\n",
       "            }\n",
       "            else {\n",
       "                renderPlotly_55905c8c719f452c98c01165d76f4e27();\n",
       "            }\r\n",
       "</script>\r\n"
      ]
     },
     "metadata": {},
     "output_type": "display_data"
    }
   ],
   "source": [
    "open Plotly.NET\n",
    "\n",
    "let y = [\"Website visit\"; \"Downloads\"; \"Potential customers\"; \"Requested price\"; \"invoice sent\"]\n",
    "let x = [39.; 27.4; 20.6; 11.; 2.]\n",
    "\n",
    "Chart.Funnel(x,y)\n",
    "|> Chart.withMarginSize(Left=150.)"
   ]
  },
  {
   "cell_type": "markdown",
   "metadata": {},
   "source": [
    "# Setting Marker Size and Color\n",
    "\n",
    "This example uses TextPosition and TextInfo to determine information appears on the graph, and shows how to customize the bars."
   ]
  },
  {
   "cell_type": "code",
   "execution_count": null,
   "metadata": {
    "dotnet_interactive": {
     "language": "fsharp"
    }
   },
   "outputs": [
    {
     "data": {
      "text/html": [
       "<div id=\"09dd412f-3ece-41b6-9181-9dff1f12e9bd\" style=\"width: 600px; height: 600px;\"><!-- Plotly chart will be drawn inside this DIV --></div>\r\n",
       "<script type=\"text/javascript\">\r\n",
       "\n",
       "            var renderPlotly_09dd412f3ece41b691819dff1f12e9bd = function() {\n",
       "            var fsharpPlotlyRequire = requirejs.config({context:'fsharp-plotly',paths:{plotly:'https://cdn.plot.ly/plotly-2.4.2.min'}}) || require;\n",
       "            fsharpPlotlyRequire(['plotly'], function(Plotly) {\r\n",
       "\n",
       "            var data = [{\"type\":\"funnel\",\"x\":[39.0,27.4,20.6,11.0,2.0],\"y\":[\"Website visit\",\"Downloads\",\"Potential customers\",\"Requested price\",\"invoice sent\"],\"connector\":{\"line\":{\"color\":\"royalblue\",\"width\":3.0,\"dash\":\"dash\"}},\"opacity\":0.65,\"marker\":{\"color\":[\"deepskyblue\",\"lightsalmon\",\"tan\",\"teal\",\"silver\"],\"line\":{\"color\":[\"wheat\",\"wheat\",\"blue\",\"wheat\",\"wheat\"],\"width\":3.0}},\"textposition\":\"inside\",\"textinfo\":\"value+percent initial\"}];\n",
       "            var layout = {};\n",
       "            var config = {};\n",
       "            Plotly.newPlot('09dd412f-3ece-41b6-9181-9dff1f12e9bd', data, layout, config);\r\n",
       "});\n",
       "            };\n",
       "            if ((typeof(requirejs) !==  typeof(Function)) || (typeof(requirejs.config) !== typeof(Function))) {\n",
       "                var script = document.createElement(\"script\");\n",
       "                script.setAttribute(\"src\", \"https://cdnjs.cloudflare.com/ajax/libs/require.js/2.3.6/require.min.js\");\n",
       "                script.onload = function(){\n",
       "                    renderPlotly_09dd412f3ece41b691819dff1f12e9bd();\n",
       "                };\n",
       "                document.getElementsByTagName(\"head\")[0].appendChild(script);\n",
       "            }\n",
       "            else {\n",
       "                renderPlotly_09dd412f3ece41b691819dff1f12e9bd();\n",
       "            }\r\n",
       "</script>\r\n"
      ]
     },
     "metadata": {},
     "output_type": "display_data"
    }
   ],
   "source": [
    "open Plotly.NET\n",
    "open Plotly.NET.TraceObjects\n",
    "\n",
    "let y = [\"Website visit\"; \"Downloads\"; \"Potential customers\"; \"Requested price\"; \"invoice sent\"]\n",
    "let x = [39.; 27.4; 20.6; 11.; 2.]\n",
    "\n",
    "let colors = [\"deepskyblue\";\"lightsalmon\"; \"tan\"; \"teal\"; \"silver\"]\n",
    "                |> Seq.map (fun c -> Color.fromString c)\n",
    "                |> Color.fromColors\n",
    "\n",
    "let lineColors = [\"wheat\";\"wheat\"; \"blue\"; \"wheat\"; \"wheat\"]\n",
    "                    |> Seq.map (fun c -> Color.fromString c)\n",
    "                    |> Color.fromColors\n",
    "\n",
    "let connector =\n",
    "    FunnelConnector.init (\n",
    "        Line = Line.init (Color = Color.fromString \"royalblue\", Dash = StyleParam.DrawingStyle.Dash, Width = 3.)\n",
    "    )\n",
    "\n",
    "Chart.Funnel(x, y, TextPosition = StyleParam.TextPosition.Inside, Opacity = 0.65, Connector = connector)\n",
    "|> GenericChart.mapTrace\n",
    "    (fun t ->\n",
    "        t?textinfo <- \"value+percent initial\"\n",
    "        t)\n",
    "|> Chart.withMarkerStyle (Color = colors, Outline = Line.init (Color = lineColors, Width = 3.))\n"
   ]
  },
  {
   "cell_type": "markdown",
   "metadata": {},
   "source": [
    "# Stacked Funnel Plot"
   ]
  },
  {
   "cell_type": "code",
   "execution_count": null,
   "metadata": {
    "dotnet_interactive": {
     "language": "fsharp"
    }
   },
   "outputs": [
    {
     "data": {
      "text/html": [
       "<div id=\"7b07be54-0a4e-40d8-9d99-f055cec70ab9\" style=\"width: 600px; height: 600px;\"><!-- Plotly chart will be drawn inside this DIV --></div>\r\n",
       "<script type=\"text/javascript\">\r\n",
       "\n",
       "            var renderPlotly_7b07be540a4e40d89d99f055cec70ab9 = function() {\n",
       "            var fsharpPlotlyRequire = requirejs.config({context:'fsharp-plotly',paths:{plotly:'https://cdn.plot.ly/plotly-2.4.2.min'}}) || require;\n",
       "            fsharpPlotlyRequire(['plotly'], function(Plotly) {\r\n",
       "\n",
       "            var data = [{\"type\":\"funnel\",\"x\":[120,60,30,20],\"y\":[\"Website visit\",\"Downloads\",\"Potential customers\",\"Requested price\"],\"name\":\"Montreal\",\"marker\":{},\"textinfo\":\"value+percent initial\"},{\"type\":\"funnel\",\"x\":[100,60,40,30,20],\"y\":[\"Website visit\",\"Downloads\",\"Potential customers\",\"Requested price\"],\"orientation\":\"h\",\"name\":\"Toronto\",\"marker\":{},\"textposition\":\"inside\",\"textinfo\":\"value+percent previous\"},{\"type\":\"funnel\",\"x\":[90,70,50,30,10,5],\"y\":[\"Website visit\",\"Downloads\",\"Potential customers\",\"Requested price\",\"Finalized\"],\"orientation\":\"h\",\"name\":\"Vancouver\",\"marker\":{},\"textposition\":\"outside\",\"textinfo\":\"value+percent total\"}];\n",
       "            var layout = {\"margin\":{\"l\":150.0},\"width\":800,\"plot_bgcolor\":\"#e5ecf6\"};\n",
       "            var config = {};\n",
       "            Plotly.newPlot('7b07be54-0a4e-40d8-9d99-f055cec70ab9', data, layout, config);\r\n",
       "});\n",
       "            };\n",
       "            if ((typeof(requirejs) !==  typeof(Function)) || (typeof(requirejs.config) !== typeof(Function))) {\n",
       "                var script = document.createElement(\"script\");\n",
       "                script.setAttribute(\"src\", \"https://cdnjs.cloudflare.com/ajax/libs/require.js/2.3.6/require.min.js\");\n",
       "                script.onload = function(){\n",
       "                    renderPlotly_7b07be540a4e40d89d99f055cec70ab9();\n",
       "                };\n",
       "                document.getElementsByTagName(\"head\")[0].appendChild(script);\n",
       "            }\n",
       "            else {\n",
       "                renderPlotly_7b07be540a4e40d89d99f055cec70ab9();\n",
       "            }\r\n",
       "</script>\r\n"
      ]
     },
     "metadata": {},
     "output_type": "display_data"
    }
   ],
   "source": [
    "let y = [\"Website visit\"; \"Downloads\"; \"Potential customers\"; \"Requested price\"]\n",
    "\n",
    "let chart1 = Chart.Funnel([120; 60; 30; 20],y,Name=\"Montreal\")\n",
    "                |> GenericChart.mapTrace(fun t -> t?textinfo <- \"value+percent initial\";t)\n",
    "\n",
    "let chart2 = Chart.Funnel(\n",
    "                    [ 100; 60; 40; 30; 20 ],\n",
    "                    y,\n",
    "                    TextPosition = StyleParam.TextPosition.Inside,\n",
    "                    Orientation = StyleParam.Orientation.Horizontal,\n",
    "                    Name = \"Toronto\"\n",
    "                )|> GenericChart.mapTrace(fun t -> t?textinfo <- \"value+percent previous\";t)\n",
    "\n",
    "let final = y@ [\"Finalized\"]\n",
    "let chart3 = Chart.Funnel(\n",
    "                    [ 90; 70; 50; 30; 10; 5],\n",
    "                    final,\n",
    "                    TextPosition = StyleParam.TextPosition.Outside,\n",
    "                    Orientation = StyleParam.Orientation.Horizontal,\n",
    "                    Name = \"Vancouver\"\n",
    "                ) |> GenericChart.mapTrace(fun t -> t?textinfo <- \"value+percent total\";t)\n",
    "\n",
    "[chart1;chart2;chart3]\n",
    "|> Chart.combine\n",
    "|> Chart.withMarginSize(Left=150.)\n",
    "|> Chart.withSize(Width=800)\n",
    "|> Chart.withLayout(Layout.init(PlotBGColor=Color.fromString \"#e5ecf6\"))\n",
    "    "
   ]
  },
  {
   "cell_type": "markdown",
   "metadata": {},
   "source": [
    "# Basic Area Funnel Plot"
   ]
  },
  {
   "cell_type": "code",
   "execution_count": null,
   "metadata": {
    "dotnet_interactive": {
     "language": "fsharp"
    }
   },
   "outputs": [
    {
     "data": {
      "text/html": [
       "<div id=\"4e88e95c-72c5-4022-86aa-f0e42f14172e\" style=\"width: 600px; height: 600px;\"><!-- Plotly chart will be drawn inside this DIV --></div>\r\n",
       "<script type=\"text/javascript\">\r\n",
       "\n",
       "            var renderPlotly_4e88e95c72c5402286aaf0e42f14172e = function() {\n",
       "            var fsharpPlotlyRequire = requirejs.config({context:'fsharp-plotly',paths:{plotly:'https://cdn.plot.ly/plotly-2.4.2.min'}}) || require;\n",
       "            fsharpPlotlyRequire(['plotly'], function(Plotly) {\r\n",
       "\n",
       "            var data = [{\"type\":\"funnelarea\",\"values\":[5,4,3,2,1],\"marker\":{},\"domain\":{},\"text\":[\"The 1st\",\"The 2nd\",\"The 3rd\",\"The 4th\",\"The 5th\"]}];\n",
       "            var layout = {};\n",
       "            var config = {};\n",
       "            Plotly.newPlot('4e88e95c-72c5-4022-86aa-f0e42f14172e', data, layout, config);\r\n",
       "});\n",
       "            };\n",
       "            if ((typeof(requirejs) !==  typeof(Function)) || (typeof(requirejs.config) !== typeof(Function))) {\n",
       "                var script = document.createElement(\"script\");\n",
       "                script.setAttribute(\"src\", \"https://cdnjs.cloudflare.com/ajax/libs/require.js/2.3.6/require.min.js\");\n",
       "                script.onload = function(){\n",
       "                    renderPlotly_4e88e95c72c5402286aaf0e42f14172e();\n",
       "                };\n",
       "                document.getElementsByTagName(\"head\")[0].appendChild(script);\n",
       "            }\n",
       "            else {\n",
       "                renderPlotly_4e88e95c72c5402286aaf0e42f14172e();\n",
       "            }\r\n",
       "</script>\r\n"
      ]
     },
     "metadata": {},
     "output_type": "display_data"
    }
   ],
   "source": [
    "open Plotly.NET\n",
    "\n",
    "Chart.FunnelArea(Text=[\"The 1st\";\"The 2nd\"; \"The 3rd\"; \"The 4th\"; \"The 5th\"],Values=[5; 4; 3; 2; 1])"
   ]
  },
  {
   "cell_type": "markdown",
   "metadata": {},
   "source": [
    "# Set Marker Size and Color in Area Funnel Plots"
   ]
  },
  {
   "cell_type": "code",
   "execution_count": null,
   "metadata": {
    "dotnet_interactive": {
     "language": "fsharp"
    }
   },
   "outputs": [
    {
     "data": {
      "text/html": [
       "<div id=\"01965456-c49a-4451-88f8-0113c148f601\" style=\"width: 600px; height: 600px;\"><!-- Plotly chart will be drawn inside this DIV --></div>\r\n",
       "<script type=\"text/javascript\">\r\n",
       "\n",
       "            var renderPlotly_01965456c49a445188f80113c148f601 = function() {\n",
       "            var fsharpPlotlyRequire = requirejs.config({context:'fsharp-plotly',paths:{plotly:'https://cdn.plot.ly/plotly-2.4.2.min'}}) || require;\n",
       "            fsharpPlotlyRequire(['plotly'], function(Plotly) {\r\n",
       "\n",
       "            var data = [{\"type\":\"funnelarea\",\"values\":[5,4,3,2,1],\"insidetextfont\":{\"family\":\"Old Standard TT\",\"size\":13.0,\"color\":\"black\"},\"opacity\":0.65,\"marker\":{\"colors\":[\"deepskyblue\",\"lightsalmon\",\"tan\",\"teal\",\"silver\"],\"line\":{\"color\":[\"wheat\",\"wheat\",\"blue\",\"wheat\",\"wheat\"],\"width\":4.0}},\"domain\":{},\"text\":[\"The 1st\",\"The 2nd\",\"The 3rd\",\"The 4th\",\"The 5th\"]}];\n",
       "            var layout = {};\n",
       "            var config = {};\n",
       "            Plotly.newPlot('01965456-c49a-4451-88f8-0113c148f601', data, layout, config);\r\n",
       "});\n",
       "            };\n",
       "            if ((typeof(requirejs) !==  typeof(Function)) || (typeof(requirejs.config) !== typeof(Function))) {\n",
       "                var script = document.createElement(\"script\");\n",
       "                script.setAttribute(\"src\", \"https://cdnjs.cloudflare.com/ajax/libs/require.js/2.3.6/require.min.js\");\n",
       "                script.onload = function(){\n",
       "                    renderPlotly_01965456c49a445188f80113c148f601();\n",
       "                };\n",
       "                document.getElementsByTagName(\"head\")[0].appendChild(script);\n",
       "            }\n",
       "            else {\n",
       "                renderPlotly_01965456c49a445188f80113c148f601();\n",
       "            }\r\n",
       "</script>\r\n"
      ]
     },
     "metadata": {},
     "output_type": "display_data"
    }
   ],
   "source": [
    "open Plotly.NET\n",
    "\n",
    "let colors = [\"deepskyblue\";\"lightsalmon\"; \"tan\"; \"teal\"; \"silver\"]\n",
    "                |> Seq.map (fun c -> Color.fromString c)\n",
    "                \n",
    "let lineColors = [\"wheat\";\"wheat\"; \"blue\"; \"wheat\"; \"wheat\"]\n",
    "                    |> Seq.map (fun c -> Color.fromString c)\n",
    "                    |> Color.fromColors\n",
    "\n",
    "Chart.FunnelArea(\n",
    "    Text =\n",
    "        [ \"The 1st\"\n",
    "          \"The 2nd\"\n",
    "          \"The 3rd\"\n",
    "          \"The 4th\"\n",
    "          \"The 5th\" ],\n",
    "    Values = [ 5; 4; 3; 2; 1 ],\n",
    "    Insidetextfont =\n",
    "        Font.init (Family = StyleParam.FontFamily.Old_Standard_TT, Size = 13., Color = Color.fromString \"black\"),\n",
    "    Opacity = 0.65\n",
    ")\n",
    "|> Chart.withMarkerStyle (Colors = colors, Outline = Line.init (Color = lineColors, Width = 4.))\n"
   ]
  }
 ],
 "metadata": {
  "kernelspec": {
   "display_name": ".NET (C#)",
   "language": "C#",
   "name": ".net-csharp"
  },
  "language_info": {
   "file_extension": ".cs",
   "mimetype": "text/x-csharp",
   "name": "C#",
   "pygments_lexer": "csharp",
   "version": "9.0"
  },
  "orig_nbformat": 4
 },
 "nbformat": 4,
 "nbformat_minor": 2
}
