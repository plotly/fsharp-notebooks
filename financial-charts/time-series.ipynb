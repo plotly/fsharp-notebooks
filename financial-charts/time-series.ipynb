{
 "metadata": {
  "kernelspec": {
   "display_name": ".NET (F#)",
   "language": "F#",
   "name": ".net-fsharp"
  },
  "language_info": {
   "name": "F#"
  }
 },
 "cells": [
  {
   "cell_type": "code",
   "execution_count": null,
   "source": [
    "#r \"nuget: Plotly.NET, 2.0.0-preview.7\"\r\n",
    "#r \"nuget: Plotly.NET.Interactive, 2.0.0-preview.7\"\r\n",
    "#r \"nuget: Deedle\"\r\n",
    "#r \"nuget: FSharp.Data\"\r\n"
   ],
   "outputs": [
    {
     "data": {
      "text/html": [
       "<div><div></div><div></div><div><strong>Installed Packages</strong><ul><li><span>Deedle, 2.4.2</span></li><li><span>FSharp.Data, 4.2.2</span></li><li><span>Plotly.NET, 2.0.0-preview.7</span></li><li><span>Plotly.NET.Interactive, 2.0.0-preview.7</span></li></ul></div></div>"
      ]
     },
     "metadata": {},
     "output_type": "display_data"
    }
   ],
   "metadata": {
    "dotnet_interactive": {
     "language": "fsharp"
    }
   }
  },
  {
   "cell_type": "markdown",
   "source": [
    "# Time Series using Axes of type date\r\n"
   ],
   "metadata": {}
  },
  {
   "cell_type": "code",
   "execution_count": null,
   "source": [
    "open Plotly.NET\r\n",
    "open FSharp.Data\r\n",
    "open Deedle\r\n",
    "\r\n",
    "let dataset = \r\n",
    "  Http.RequestString \"https://raw.githubusercontent.com/plotly/datasets/master/finance-charts-apple.csv\"\r\n",
    "   |> fun csv -> Frame.ReadCsvString(csv,true,separators=\",\")\r\n"
   ],
   "outputs": [
    {
     "output_type": "error",
     "ename": "Error",
     "evalue": "input.fsx (3,24)-(3,37) typecheck error The type 'Frame' does not define the field, constructor or member 'ReadCsvString'.",
     "traceback": [
      "input.fsx (3,24)-(3,37) typecheck error The type 'Frame' does not define the field, constructor or member 'ReadCsvString'."
     ]
    }
   ],
   "metadata": {
    "dotnet_interactive": {
     "language": "fsharp"
    }
   }
  },
  {
   "cell_type": "code",
   "execution_count": null,
   "source": [
    "let getColumn column=\r\n",
    "        dataset\r\n",
    "        |> Frame.getCol column\r\n",
    "        |> Series.values\r\n",
    "        |> Array.ofSeq\r\n",
    "let scatter =\r\n",
    "            Chart.Scatter(getColumn \"Date\",getColumn \"AAPL.High\",mode = StyleParam.Mode.Lines_Markers)"
   ],
   "outputs": [
    {
     "output_type": "error",
     "ename": "Error",
     "evalue": "input.fsx (2,9)-(2,16) typecheck error The value or constructor 'dataset' is not defined. Maybe you want one of the following:\r\n   DataSetUtil\r\n   Data\r\n   date\r\n   DateTime\ninput.fsx (3,18)-(3,24) typecheck error The type 'Frame' does not define the field, constructor or member 'getCol'.\ninput.fsx (4,12)-(4,18) typecheck error The value, namespace, type or module 'Series' is not defined. Maybe you want one of the following:\r\n   ServiceModel",
     "traceback": [
      "input.fsx (2,9)-(2,16) typecheck error The value or constructor 'dataset' is not defined. Maybe you want one of the following:\r\n",
      "   DataSetUtil\r\n",
      "   Data\r\n",
      "   date\r\n",
      "   DateTime\n",
      "input.fsx (3,18)-(3,24) typecheck error The type 'Frame' does not define the field, constructor or member 'getCol'.\n",
      "input.fsx (4,12)-(4,18) typecheck error The value, namespace, type or module 'Series' is not defined. Maybe you want one of the following:\r\n",
      "   ServiceModel"
     ]
    }
   ],
   "metadata": {
    "dotnet_interactive": {
     "language": "fsharp"
    }
   }
  },
  {
   "cell_type": "code",
   "execution_count": null,
   "source": [
    "scatter"
   ],
   "outputs": [
    {
     "output_type": "error",
     "ename": "Error",
     "evalue": "input.fsx (1,1)-(1,8) typecheck error The value or constructor 'scatter' is not defined.",
     "traceback": [
      "input.fsx (1,1)-(1,8) typecheck error The value or constructor 'scatter' is not defined."
     ]
    }
   ],
   "metadata": {
    "dotnet_interactive": {
     "language": "fsharp"
    }
   }
  },
  {
   "cell_type": "markdown",
   "source": [
    "# Displaying Period Data\r\n"
   ],
   "metadata": {}
  },
  {
   "cell_type": "code",
   "execution_count": null,
   "source": [
    "let date=[\"2020-01-10\"; \"2020-02-10\"; \"2020-03-10\"; \"2020-04-10\"; \"2020-05-10\"; \"2020-06-10\"]\r\n",
    "let value=[1;2;3;1;2;3]\r\n",
    "\r\n",
    "let layout =\r\n",
    "    let temp = Layout()\r\n",
    "    temp?ticklabelmode <- \"period\"\r\n",
    "    temp?showgrid <- true\r\n",
    "    temp\r\n",
    "\r\n",
    "[\r\n",
    "Chart.Scatter(date,value,mode = StyleParam.Mode.Lines_Markers, Name=\"Raw Data\",MarkerSymbol=StyleParam.Symbol.Asterisk)\r\n",
    "Chart.Scatter(date,value,mode = StyleParam.Mode.Lines_Markers, Name=\"Start-aligned\")\r\n",
    "|> GenericChart.mapTrace(fun x -> \r\n",
    "        x.SetValue(\"xperiod\", \"M1\")\r\n",
    "        x.SetValue(\"xperiodalignment\", \"start\")\r\n",
    "        x)\r\n",
    "Chart.Scatter(date,value,mode = StyleParam.Mode.Lines_Markers, Name=\"Middle-aligned\")\r\n",
    "|> GenericChart.mapTrace(fun x -> \r\n",
    "        x.SetValue(\"xperiod\", \"M1\")\r\n",
    "        x.SetValue(\"xperiodalignment\", \"middle\")\r\n",
    "        x)\r\n",
    "Chart.Scatter(date,value,mode = StyleParam.Mode.Lines_Markers, Name=\"End-aligned\")\r\n",
    "|> GenericChart.mapTrace(fun x -> \r\n",
    "        x.SetValue(\"xperiod\", \"M1\")\r\n",
    "        x.SetValue(\"xperiodalignment\", \"end\")\r\n",
    "        x)\r\n",
    "Chart.Column(date,value, Name=\"Bar-Middle-aligned\",Color=\"rgba(247, 156, 83, 0.86)\")\r\n",
    "|> GenericChart.mapTrace(fun x -> \r\n",
    "        x.SetValue(\"xperiod\", \"M1\")\r\n",
    "        x.SetValue(\"xperiodalignment\", \"middle\")\r\n",
    "        x)\r\n",
    "]\r\n",
    "\r\n",
    "\r\n",
    "|>Chart.combine\r\n",
    "|> Chart.withLayout(layout)"
   ],
   "outputs": [
    {
     "data": {
      "text/html": [
       "<div id=\"46c888b5-46a5-42b5-8314-41a06a377302\" style=\"width: 600px; height: 600px;\"><!-- Plotly chart will be drawn inside this DIV --></div>\r\n",
       "<script type=\"text/javascript\">\r\n",
       "\n",
       "            var renderPlotly_46c888b546a542b5831441a06a377302 = function() {\n",
       "            var fsharpPlotlyRequire = requirejs.config({context:'fsharp-plotly',paths:{plotly:'https://cdn.plot.ly/plotly-latest.min'}}) || require;\n",
       "            fsharpPlotlyRequire(['plotly'], function(Plotly) {\r\n",
       "\n",
       "            var data = [{\"type\":\"scatter\",\"x\":[\"2020-01-10\",\"2020-02-10\",\"2020-03-10\",\"2020-04-10\",\"2020-05-10\",\"2020-06-10\"],\"y\":[1,2,3,1,2,3],\"mode\":\"lines+markers\",\"name\":\"Raw Data\",\"line\":{},\"marker\":{\"symbol\":35}},{\"type\":\"scatter\",\"x\":[\"2020-01-10\",\"2020-02-10\",\"2020-03-10\",\"2020-04-10\",\"2020-05-10\",\"2020-06-10\"],\"y\":[1,2,3,1,2,3],\"mode\":\"lines+markers\",\"name\":\"Start-aligned\",\"line\":{},\"marker\":{},\"xperiod\":\"M1\",\"xperiodalignment\":\"start\"},{\"type\":\"scatter\",\"x\":[\"2020-01-10\",\"2020-02-10\",\"2020-03-10\",\"2020-04-10\",\"2020-05-10\",\"2020-06-10\"],\"y\":[1,2,3,1,2,3],\"mode\":\"lines+markers\",\"name\":\"Middle-aligned\",\"line\":{},\"marker\":{},\"xperiod\":\"M1\",\"xperiodalignment\":\"middle\"},{\"type\":\"scatter\",\"x\":[\"2020-01-10\",\"2020-02-10\",\"2020-03-10\",\"2020-04-10\",\"2020-05-10\",\"2020-06-10\"],\"y\":[1,2,3,1,2,3],\"mode\":\"lines+markers\",\"name\":\"End-aligned\",\"line\":{},\"marker\":{},\"xperiod\":\"M1\",\"xperiodalignment\":\"end\"},{\"type\":\"bar\",\"x\":[\"2020-01-10\",\"2020-02-10\",\"2020-03-10\",\"2020-04-10\",\"2020-05-10\",\"2020-06-10\"],\"y\":[1,2,3,1,2,3],\"marker\":{\"color\":\"rgba(247, 156, 83, 0.86)\"},\"name\":\"Bar-Middle-aligned\",\"xperiod\":\"M1\",\"xperiodalignment\":\"middle\"}];\n",
       "            var layout = {\"ticklabelmode\":\"period\",\"showgrid\":true};\n",
       "            var config = {};\n",
       "            Plotly.newPlot('46c888b5-46a5-42b5-8314-41a06a377302', data, layout, config);\r\n",
       "});\n",
       "            };\n",
       "            if ((typeof(requirejs) !==  typeof(Function)) || (typeof(requirejs.config) !== typeof(Function))) {\n",
       "                var script = document.createElement(\"script\");\n",
       "                script.setAttribute(\"src\", \"https://cdnjs.cloudflare.com/ajax/libs/require.js/2.3.6/require.min.js\");\n",
       "                script.onload = function(){\n",
       "                    renderPlotly_46c888b546a542b5831441a06a377302();\n",
       "                };\n",
       "                document.getElementsByTagName(\"head\")[0].appendChild(script);\n",
       "            }\n",
       "            else {\n",
       "                renderPlotly_46c888b546a542b5831441a06a377302();\n",
       "            }\r\n",
       "</script>\r\n"
      ]
     },
     "metadata": {},
     "output_type": "display_data"
    }
   ],
   "metadata": {
    "dotnet_interactive": {
     "language": "fsharp"
    }
   }
  },
  {
   "cell_type": "markdown",
   "source": [
    "# Hover Templates with Mixtures of Period data\r\n"
   ],
   "metadata": {}
  },
  {
   "cell_type": "code",
   "execution_count": null,
   "source": [
    "let x0=[\"2020-01-01\"; \"2020-04-01\"; \"2020-07-01\"]\r\n",
    "let y0=[1000; 1500; 1700]\r\n",
    "let x1=[\"2020-01-01\"; \"2020-02-01\"; \"2020-03-01\";\r\n",
    "      \"2020-04-01\"; \"2020-05-01\"; \"2020-06-01\";\r\n",
    "      \"2020-07-01\"; \"2020-08-01\"; \"2020-09-01\"]\r\n",
    "let y1=[1100;1050;1200;1300;1400;1700;1500;1400;1600]\r\n",
    "\r\n",
    "[\r\n",
    "Chart.Column(x0,y0,Color=\"rgba(103, 102, 255,1)\")\r\n",
    "|> GenericChart.mapTrace(fun x -> \r\n",
    "        x.SetValue(\"xperiod\", \"M1\")\r\n",
    "        x.SetValue(\"xperiodalignment\", \"middle\")\r\n",
    "        x)\r\n",
    "Chart.Scatter(x1,y1,mode = StyleParam.Mode.Lines_Markers)\r\n",
    "|> GenericChart.mapTrace(fun x -> \r\n",
    "        x.SetValue(\"xperiod\", \"M1\")\r\n",
    "        x.SetValue(\"xperiodalignment\", \"middle\")\r\n",
    "        x)\r\n",
    "]\r\n",
    "|>Chart.combine"
   ],
   "outputs": [
    {
     "data": {
      "text/html": [
       "<div id=\"38e8b69f-fc0a-4d51-af79-da1cc7a4e940\" style=\"width: 600px; height: 600px;\"><!-- Plotly chart will be drawn inside this DIV --></div>\r\n",
       "<script type=\"text/javascript\">\r\n",
       "\n",
       "            var renderPlotly_38e8b69ffc0a4d51af79da1cc7a4e940 = function() {\n",
       "            var fsharpPlotlyRequire = requirejs.config({context:'fsharp-plotly',paths:{plotly:'https://cdn.plot.ly/plotly-latest.min'}}) || require;\n",
       "            fsharpPlotlyRequire(['plotly'], function(Plotly) {\r\n",
       "\n",
       "            var data = [{\"type\":\"bar\",\"x\":[\"2020-01-01\",\"2020-04-01\",\"2020-07-01\"],\"y\":[1000,1500,1700],\"marker\":{\"color\":\"rgba(103, 102, 255,1)\"},\"xperiod\":\"M1\",\"xperiodalignment\":\"middle\"},{\"type\":\"scatter\",\"x\":[\"2020-01-01\",\"2020-02-01\",\"2020-03-01\",\"2020-04-01\",\"2020-05-01\",\"2020-06-01\",\"2020-07-01\",\"2020-08-01\",\"2020-09-01\"],\"y\":[1100,1050,1200,1300,1400,1700,1500,1400,1600],\"mode\":\"lines+markers\",\"line\":{},\"marker\":{},\"xperiod\":\"M1\",\"xperiodalignment\":\"middle\"}];\n",
       "            var layout = {};\n",
       "            var config = {};\n",
       "            Plotly.newPlot('38e8b69f-fc0a-4d51-af79-da1cc7a4e940', data, layout, config);\r\n",
       "});\n",
       "            };\n",
       "            if ((typeof(requirejs) !==  typeof(Function)) || (typeof(requirejs.config) !== typeof(Function))) {\n",
       "                var script = document.createElement(\"script\");\n",
       "                script.setAttribute(\"src\", \"https://cdnjs.cloudflare.com/ajax/libs/require.js/2.3.6/require.min.js\");\n",
       "                script.onload = function(){\n",
       "                    renderPlotly_38e8b69ffc0a4d51af79da1cc7a4e940();\n",
       "                };\n",
       "                document.getElementsByTagName(\"head\")[0].appendChild(script);\n",
       "            }\n",
       "            else {\n",
       "                renderPlotly_38e8b69ffc0a4d51af79da1cc7a4e940();\n",
       "            }\r\n",
       "</script>\r\n"
      ]
     },
     "metadata": {},
     "output_type": "display_data"
    }
   ],
   "metadata": {
    "dotnet_interactive": {
     "language": "fsharp"
    }
   }
  }
 ],
 "nbformat": 4,
 "nbformat_minor": 2
}