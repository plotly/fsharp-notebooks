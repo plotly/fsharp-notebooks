{
 "cells": [
  {
   "cell_type": "markdown",
   "source": [
    "# Line Charts in F#\r\n",
    "\r\n",
    "How to make line charts in F# with Plotly.NET. Examples on creating and styling line charts in F# with Plotly.NET."
   ],
   "metadata": {}
  },
  {
   "cell_type": "code",
   "execution_count": null,
   "source": [
    "#r \"nuget: Plotly.NET, *-*\"\r\n",
    "#r \"nuget: newtonsoft.json\"\r\n",
    "#r \"nuget: Plotly.NET.Interactive, *-*\"\r\n",
    "\r\n",
    "open Plotly.NET\r\n",
    "open System\r\n",
    "\r\n",
    "let random = System.Random();\r\n",
    "let nextFloat (min, max) = (random.NextDouble() * (max - min) + min);"
   ],
   "outputs": [
    {
     "data": {
      "text/html": [
       "<div><div></div><div></div><div><strong>Installed Packages</strong><ul><li><span>newtonsoft.json, 13.0.1</span></li><li><span>Plotly.NET, 2.0.0-preview.7</span></li><li><span>Plotly.NET.Interactive, 2.0.0-preview.7</span></li></ul></div></div>"
      ]
     },
     "metadata": {},
     "output_type": "display_data"
    },
    {
     "data": {
      "text/markdown": [
       "Loading extensions from `Plotly.NET.Interactive.dll`"
      ]
     },
     "metadata": {},
     "output_type": "display_data"
    },
    {
     "data": {
      "text/markdown": [
       "Added Kernel Extension including formatters for Plotly.NET charts."
      ]
     },
     "metadata": {},
     "output_type": "display_data"
    }
   ],
   "metadata": {
    "dotnet_interactive": {
     "language": "fsharp"
    }
   }
  },
  {
   "cell_type": "markdown",
   "source": [
    "# Sime Line Plot\r\n",
    "\r\n",
    "Line Plots can be rendered either by Chart.Scatter or Chart.Line "
   ],
   "metadata": {}
  },
  {
   "cell_type": "code",
   "execution_count": null,
   "source": [
    "let xs = [0.0 .. 9.0]\r\n",
    "let ys = xs |> Seq.map (fun x -> x ** 2.0)\r\n",
    "\r\n",
    "Chart.Scatter(xs, ys, StyleParam.Mode.Lines_Markers)"
   ],
   "outputs": [
    {
     "data": {
      "text/html": [
       "<div id=\"55097640-3b69-47a6-8196-180c26de6625\" style=\"width: 600px; height: 600px;\"><!-- Plotly chart will be drawn inside this DIV --></div>\r\n",
       "<script type=\"text/javascript\">\r\n",
       "\n",
       "            var renderPlotly_550976403b6947a68196180c26de6625 = function() {\n",
       "            var fsharpPlotlyRequire = requirejs.config({context:'fsharp-plotly',paths:{plotly:'https://cdn.plot.ly/plotly-latest.min'}}) || require;\n",
       "            fsharpPlotlyRequire(['plotly'], function(Plotly) {\r\n",
       "\n",
       "            var data = [{\"type\":\"scatter\",\"x\":[0.0,1.0,2.0,3.0,4.0,5.0,6.0,7.0,8.0,9.0],\"y\":[0.0,1.0,4.0,9.0,16.0,25.0,36.0,49.0,64.0,81.0],\"mode\":\"lines+markers\",\"line\":{},\"marker\":{}}];\n",
       "            var layout = {};\n",
       "            var config = {};\n",
       "            Plotly.newPlot('55097640-3b69-47a6-8196-180c26de6625', data, layout, config);\r\n",
       "});\n",
       "            };\n",
       "            if ((typeof(requirejs) !==  typeof(Function)) || (typeof(requirejs.config) !== typeof(Function))) {\n",
       "                var script = document.createElement(\"script\");\n",
       "                script.setAttribute(\"src\", \"https://cdnjs.cloudflare.com/ajax/libs/require.js/2.3.6/require.min.js\");\n",
       "                script.onload = function(){\n",
       "                    renderPlotly_550976403b6947a68196180c26de6625();\n",
       "                };\n",
       "                document.getElementsByTagName(\"head\")[0].appendChild(script);\n",
       "            }\n",
       "            else {\n",
       "                renderPlotly_550976403b6947a68196180c26de6625();\n",
       "            }\r\n",
       "</script>\r\n"
      ]
     },
     "metadata": {},
     "output_type": "display_data"
    }
   ],
   "metadata": {
    "dotnet_interactive": {
     "language": "fsharp"
    }
   }
  },
  {
   "cell_type": "code",
   "execution_count": null,
   "source": [
    "open Plotly.NET\r\n",
    "\r\n",
    "let x = [1952; 1957; 1962; 1967; 1972; 1977; 1982; 1987; 1992; 1997; 2002; 2007]\r\n",
    "let y = [68.75; 69.96; 71.3; 72.13; 72.88; 74.21; 75.76; 76.86; 77.95; 78.61; 79.77; 80.653]\r\n",
    "\r\n",
    "Chart.Line(x, y)\r\n",
    "|> Chart.withXAxisStyle(\"year\")\r\n",
    "|> Chart.withYAxisStyle(\"lifeExp\")\r\n",
    "|> Chart.withTitle(\"Life expectancy in Canada\")\r\n",
    "|> Chart.withLineStyle(Width=2.0, Dash=StyleParam.DrawingStyle.Solid)"
   ],
   "outputs": [
    {
     "data": {
      "text/html": [
       "<div id=\"18ac1faf-c4a2-4470-9935-0a970fdb70ed\" style=\"width: 600px; height: 600px;\"><!-- Plotly chart will be drawn inside this DIV --></div>\r\n",
       "<script type=\"text/javascript\">\r\n",
       "\n",
       "            var renderPlotly_18ac1fafc4a2447099350a970fdb70ed = function() {\n",
       "            var fsharpPlotlyRequire = requirejs.config({context:'fsharp-plotly',paths:{plotly:'https://cdn.plot.ly/plotly-latest.min'}}) || require;\n",
       "            fsharpPlotlyRequire(['plotly'], function(Plotly) {\r\n",
       "\n",
       "            var data = [{\"type\":\"scatter\",\"x\":[1952,1957,1962,1967,1972,1977,1982,1987,1992,1997,2002,2007],\"y\":[68.75,69.96,71.3,72.13,72.88,74.21,75.76,76.86,77.95,78.61,79.77,80.653],\"mode\":\"lines\",\"line\":{\"width\":2.0,\"dash\":\"solid\"},\"marker\":{}}];\n",
       "            var layout = {\"xaxis\":{\"title\":{\"text\":\"year\"}},\"yaxis\":{\"title\":{\"text\":\"lifeExp\"}},\"title\":{\"text\":\"Life expectancy in Canada\"}};\n",
       "            var config = {};\n",
       "            Plotly.newPlot('18ac1faf-c4a2-4470-9935-0a970fdb70ed', data, layout, config);\r\n",
       "});\n",
       "            };\n",
       "            if ((typeof(requirejs) !==  typeof(Function)) || (typeof(requirejs.config) !== typeof(Function))) {\n",
       "                var script = document.createElement(\"script\");\n",
       "                script.setAttribute(\"src\", \"https://cdnjs.cloudflare.com/ajax/libs/require.js/2.3.6/require.min.js\");\n",
       "                script.onload = function(){\n",
       "                    renderPlotly_18ac1fafc4a2447099350a970fdb70ed();\n",
       "                };\n",
       "                document.getElementsByTagName(\"head\")[0].appendChild(script);\n",
       "            }\n",
       "            else {\n",
       "                renderPlotly_18ac1fafc4a2447099350a970fdb70ed();\n",
       "            }\r\n",
       "</script>\r\n"
      ]
     },
     "metadata": {},
     "output_type": "display_data"
    }
   ],
   "metadata": {
    "dotnet_interactive": {
     "language": "fsharp"
    }
   }
  },
  {
   "cell_type": "markdown",
   "source": [
    "# MultiLine Chart"
   ],
   "metadata": {}
  },
  {
   "cell_type": "code",
   "execution_count": null,
   "source": [
    "open Plotly.NET\r\n",
    "\r\n",
    "let x  = [1952; 1957; 1962; 1967; 1972; 1977; 1982; 1987; 1992; 1997; 2002; 2007]\r\n",
    "\r\n",
    "// Australia\r\n",
    "let y1 = [69.12; 70.30; 70.93; 71.1; 71.93; 73.49; 74.74; 76.32; 77.56; 78.3; 80.37; 81.235]\r\n",
    "// New Zealand\r\n",
    "let y2 = [69.39; 70.26; 71.24; 71.52; 71.89; 72.22; 73.84; 74.32; 76.33; 77.55; 79.11; 80.204]\r\n",
    "\r\n",
    "[\r\n",
    "        Chart.Line(x, y1)\r\n",
    "        |> Chart.withTraceName(Name=\"Australia\")\r\n",
    "        |> Chart.withLineStyle(Width=2.0, Dash=StyleParam.DrawingStyle.Solid)\r\n",
    "\r\n",
    "        Chart.Line(x, y2)\r\n",
    "        |> Chart.withTraceName(Name=\"New Zealand\")\r\n",
    "        |> Chart.withLineStyle(Width=2.0, Dash=StyleParam.DrawingStyle.Solid) \r\n",
    "] \r\n",
    "|> Chart.combine\r\n",
    "|> Chart.withXAxisStyle(\"year\")\r\n",
    "|> Chart.withYAxisStyle(\"lifeExp\")"
   ],
   "outputs": [
    {
     "data": {
      "text/html": [
       "<div id=\"e0326a03-086c-4665-b0e6-4604b8cf2fed\" style=\"width: 600px; height: 600px;\"><!-- Plotly chart will be drawn inside this DIV --></div>\r\n",
       "<script type=\"text/javascript\">\r\n",
       "\n",
       "            var renderPlotly_e0326a03086c4665b0e64604b8cf2fed = function() {\n",
       "            var fsharpPlotlyRequire = requirejs.config({context:'fsharp-plotly',paths:{plotly:'https://cdn.plot.ly/plotly-latest.min'}}) || require;\n",
       "            fsharpPlotlyRequire(['plotly'], function(Plotly) {\r\n",
       "\n",
       "            var data = [{\"type\":\"scatter\",\"x\":[1952,1957,1962,1967,1972,1977,1982,1987,1992,1997,2002,2007],\"y\":[69.12,70.3,70.93,71.1,71.93,73.49,74.74,76.32,77.56,78.3,80.37,81.235],\"mode\":\"lines\",\"line\":{\"width\":2.0,\"dash\":\"solid\"},\"marker\":{},\"name\":\"Australia\"},{\"type\":\"scatter\",\"x\":[1952,1957,1962,1967,1972,1977,1982,1987,1992,1997,2002,2007],\"y\":[69.39,70.26,71.24,71.52,71.89,72.22,73.84,74.32,76.33,77.55,79.11,80.204],\"mode\":\"lines\",\"line\":{\"width\":2.0,\"dash\":\"solid\"},\"marker\":{},\"name\":\"New Zealand\"}];\n",
       "            var layout = {\"xaxis\":{\"title\":{\"text\":\"year\"}},\"yaxis\":{\"title\":{\"text\":\"lifeExp\"}}};\n",
       "            var config = {};\n",
       "            Plotly.newPlot('e0326a03-086c-4665-b0e6-4604b8cf2fed', data, layout, config);\r\n",
       "});\n",
       "            };\n",
       "            if ((typeof(requirejs) !==  typeof(Function)) || (typeof(requirejs.config) !== typeof(Function))) {\n",
       "                var script = document.createElement(\"script\");\n",
       "                script.setAttribute(\"src\", \"https://cdnjs.cloudflare.com/ajax/libs/require.js/2.3.6/require.min.js\");\n",
       "                script.onload = function(){\n",
       "                    renderPlotly_e0326a03086c4665b0e64604b8cf2fed();\n",
       "                };\n",
       "                document.getElementsByTagName(\"head\")[0].appendChild(script);\n",
       "            }\n",
       "            else {\n",
       "                renderPlotly_e0326a03086c4665b0e64604b8cf2fed();\n",
       "            }\r\n",
       "</script>\r\n"
      ]
     },
     "metadata": {},
     "output_type": "display_data"
    }
   ],
   "metadata": {
    "dotnet_interactive": {
     "language": "fsharp"
    }
   }
  },
  {
   "cell_type": "markdown",
   "source": [
    "# Data Order in Line Charts\r\n",
    "\r\n",
    "Plotly line charts are implemented as connected scatterplots (see below), meaning that the points are plotted and connected with lines in the order they are provided, with no automatic reordering.\r\n",
    "\r\n",
    "This makes it possible to make charts like the one below, but also means that it may be required to explicitly sort data before passing it to Plotly.NET to avoid lines moving \"backwards\" across the chart."
   ],
   "metadata": {}
  },
  {
   "cell_type": "code",
   "execution_count": null,
   "source": [
    "open Plotly.NET\r\n",
    "\r\n",
    "let x  = [1.0; 3.0; 2.0; 4.0]\r\n",
    "let y = [1.0; 2.0; 3.0; 4.0]\r\n",
    "\r\n",
    "// How to align title to the left\r\n",
    "Chart.Line(x, y)\r\n",
    "|> Chart.withTitle(\"Unsorted Input\")\r\n",
    "|> Chart.withXAxisStyle(\"X\")\r\n",
    "|> Chart.withYAxisStyle(\"Y\")\r\n",
    "|> Chart.withLineStyle(Width=2.0, Dash=StyleParam.DrawingStyle.Solid)"
   ],
   "outputs": [
    {
     "data": {
      "text/html": [
       "<div id=\"c39166b8-b9da-4f37-a788-714ac6c95ebe\" style=\"width: 600px; height: 600px;\"><!-- Plotly chart will be drawn inside this DIV --></div>\r\n",
       "<script type=\"text/javascript\">\r\n",
       "\n",
       "            var renderPlotly_c39166b8b9da4f37a788714ac6c95ebe = function() {\n",
       "            var fsharpPlotlyRequire = requirejs.config({context:'fsharp-plotly',paths:{plotly:'https://cdn.plot.ly/plotly-latest.min'}}) || require;\n",
       "            fsharpPlotlyRequire(['plotly'], function(Plotly) {\r\n",
       "\n",
       "            var data = [{\"type\":\"scatter\",\"x\":[1.0,3.0,2.0,4.0],\"y\":[1.0,2.0,3.0,4.0],\"mode\":\"lines\",\"line\":{\"width\":2.0,\"dash\":\"solid\"},\"marker\":{}}];\n",
       "            var layout = {\"title\":{\"text\":\"Unsorted Input\"},\"xaxis\":{\"title\":{\"text\":\"X\"}},\"yaxis\":{\"title\":{\"text\":\"Y\"}}};\n",
       "            var config = {};\n",
       "            Plotly.newPlot('c39166b8-b9da-4f37-a788-714ac6c95ebe', data, layout, config);\r\n",
       "});\n",
       "            };\n",
       "            if ((typeof(requirejs) !==  typeof(Function)) || (typeof(requirejs.config) !== typeof(Function))) {\n",
       "                var script = document.createElement(\"script\");\n",
       "                script.setAttribute(\"src\", \"https://cdnjs.cloudflare.com/ajax/libs/require.js/2.3.6/require.min.js\");\n",
       "                script.onload = function(){\n",
       "                    renderPlotly_c39166b8b9da4f37a788714ac6c95ebe();\n",
       "                };\n",
       "                document.getElementsByTagName(\"head\")[0].appendChild(script);\n",
       "            }\n",
       "            else {\n",
       "                renderPlotly_c39166b8b9da4f37a788714ac6c95ebe();\n",
       "            }\r\n",
       "</script>\r\n"
      ]
     },
     "metadata": {},
     "output_type": "display_data"
    }
   ],
   "metadata": {
    "dotnet_interactive": {
     "language": "fsharp"
    }
   }
  },
  {
   "cell_type": "code",
   "execution_count": null,
   "source": [
    "open Plotly.NET\r\n",
    "\r\n",
    "let y = [1.0; 3.0; 2.0; 4.0]\r\n",
    "let x = Seq.sort x\r\n",
    "\r\n",
    "// How to align title to the left\r\n",
    "Chart.Line(x, y)\r\n",
    "|> Chart.withTitle(\"Sorted Input\")\r\n",
    "|> Chart.withXAxisStyle(\"X\")\r\n",
    "|> Chart.withYAxisStyle(\"Y\")\r\n",
    "|> Chart.withLineStyle(Width=2.0, Dash=StyleParam.DrawingStyle.Solid) "
   ],
   "outputs": [
    {
     "data": {
      "text/html": [
       "<div id=\"b2ec77ac-0a73-4f09-8a71-40c0e69e7337\" style=\"width: 600px; height: 600px;\"><!-- Plotly chart will be drawn inside this DIV --></div>\r\n",
       "<script type=\"text/javascript\">\r\n",
       "\n",
       "            var renderPlotly_b2ec77ac0a734f098a7140c0e69e7337 = function() {\n",
       "            var fsharpPlotlyRequire = requirejs.config({context:'fsharp-plotly',paths:{plotly:'https://cdn.plot.ly/plotly-latest.min'}}) || require;\n",
       "            fsharpPlotlyRequire(['plotly'], function(Plotly) {\r\n",
       "\n",
       "            var data = [{\"type\":\"scatter\",\"x\":[1.0,2.0,3.0,4.0],\"y\":[1.0,3.0,2.0,4.0],\"mode\":\"lines\",\"line\":{\"width\":2.0,\"dash\":\"solid\"},\"marker\":{}}];\n",
       "            var layout = {\"title\":{\"text\":\"Sorted Input\"},\"xaxis\":{\"title\":{\"text\":\"X\"}},\"yaxis\":{\"title\":{\"text\":\"Y\"}}};\n",
       "            var config = {};\n",
       "            Plotly.newPlot('b2ec77ac-0a73-4f09-8a71-40c0e69e7337', data, layout, config);\r\n",
       "});\n",
       "            };\n",
       "            if ((typeof(requirejs) !==  typeof(Function)) || (typeof(requirejs.config) !== typeof(Function))) {\n",
       "                var script = document.createElement(\"script\");\n",
       "                script.setAttribute(\"src\", \"https://cdnjs.cloudflare.com/ajax/libs/require.js/2.3.6/require.min.js\");\n",
       "                script.onload = function(){\n",
       "                    renderPlotly_b2ec77ac0a734f098a7140c0e69e7337();\n",
       "                };\n",
       "                document.getElementsByTagName(\"head\")[0].appendChild(script);\n",
       "            }\n",
       "            else {\n",
       "                renderPlotly_b2ec77ac0a734f098a7140c0e69e7337();\n",
       "            }\r\n",
       "</script>\r\n"
      ]
     },
     "metadata": {},
     "output_type": "display_data"
    }
   ],
   "metadata": {
    "dotnet_interactive": {
     "language": "fsharp"
    }
   }
  },
  {
   "cell_type": "markdown",
   "source": [
    "# Connected Scatterplots\r\n",
    "\r\n",
    "In a connected scatterplot, two continuous variables are plotted against each other, with a line connecting them in some meaningful order, usually a time variable. In the plot below, we show the \"trajectory\" of a pair of countries through a space defined by GDP per Capita and Life Expectancy. "
   ],
   "metadata": {}
  },
  {
   "cell_type": "code",
   "execution_count": null,
   "source": [
    "open Plotly.NET\r\n",
    "\r\n",
    "let labels = [\"1952\"; \"1957\"; \"1962\"; \"1967\"; \"1972\"; \"1977\"; \"1982\"; \"1987\"; \"1992\"; \"1997\"; \"2002\"; \"2007\"]\r\n",
    "\r\n",
    "// Botswana\r\n",
    "let x1 = [47.622; 49.618; 51.52; 53.298; 56.024; 59.319; 61.484; 63.622; 62.745; 52.556; 46.634; 50.728]\r\n",
    "let y1 = [851.2411; 918.2325; 983.654; 1214.709; 2263.611; 3214.858; 4551.142; 6205.884; 7954.112; 8647.142; 11003.61; 12569.85]\r\n",
    "// Canada\r\n",
    "let x2 = [68.75; 69.96; 71.3; 72.13; 72.88; 74.21; 75.76; 76.86; 77.95; 78.61; 79.77; 80.653]\r\n",
    "let y2 = [11367.86; 12489.95; 13462.49; 16076.59; 18970.57; 22090.88; 22898.79; 26626.52; 26342.88; 28954.93; 33328.97; 36319.24]\r\n",
    "\r\n",
    "[\r\n",
    "        Chart.Line(\r\n",
    "                x1, y1,\r\n",
    "                Name=\"Botswana\",\r\n",
    "                Labels=labels,\r\n",
    "                TextPosition=StyleParam.TextPosition.BottomRight,\r\n",
    "                ShowMarkers=true,\r\n",
    "                MarkerSymbol=StyleParam.Symbol.Circle\r\n",
    "        )\r\n",
    "\r\n",
    "\r\n",
    "        Chart.Line(\r\n",
    "                x2, y2,\r\n",
    "                Name=\"Canada\",\r\n",
    "                Labels=labels,\r\n",
    "                TextPosition=StyleParam.TextPosition.BottomRight,\r\n",
    "                ShowMarkers=true,\r\n",
    "                MarkerSymbol=StyleParam.Symbol.Circle\r\n",
    "        )\r\n",
    "]\r\n",
    "|> Chart.combine\r\n",
    "|> Chart.withXAxisStyle(\"lifeExp\")\r\n",
    "|> Chart.withYAxisStyle(\"gdpPercap\")"
   ],
   "outputs": [
    {
     "data": {
      "text/html": [
       "<div id=\"ffa1ee58-79e3-4f17-85bf-807cd765e8f9\" style=\"width: 600px; height: 600px;\"><!-- Plotly chart will be drawn inside this DIV --></div>\r\n",
       "<script type=\"text/javascript\">\r\n",
       "\n",
       "            var renderPlotly_ffa1ee5879e34f1785bf807cd765e8f9 = function() {\n",
       "            var fsharpPlotlyRequire = requirejs.config({context:'fsharp-plotly',paths:{plotly:'https://cdn.plot.ly/plotly-latest.min'}}) || require;\n",
       "            fsharpPlotlyRequire(['plotly'], function(Plotly) {\r\n",
       "\n",
       "            var data = [{\"type\":\"scatter\",\"x\":[47.622,49.618,51.52,53.298,56.024,59.319,61.484,63.622,62.745,52.556,46.634,50.728],\"y\":[851.2411,918.2325,983.654,1214.709,2263.611,3214.858,4551.142,6205.884,7954.112,8647.142,11003.61,12569.85],\"mode\":\"lines+markers+text\",\"line\":{},\"name\":\"Botswana\",\"marker\":{\"symbol\":0},\"text\":[\"1952\",\"1957\",\"1962\",\"1967\",\"1972\",\"1977\",\"1982\",\"1987\",\"1992\",\"1997\",\"2002\",\"2007\"],\"textposition\":\"bottom right\"},{\"type\":\"scatter\",\"x\":[68.75,69.96,71.3,72.13,72.88,74.21,75.76,76.86,77.95,78.61,79.77,80.653],\"y\":[11367.86,12489.95,13462.49,16076.59,18970.57,22090.88,22898.79,26626.52,26342.88,28954.93,33328.97,36319.24],\"mode\":\"lines+markers+text\",\"line\":{},\"name\":\"Canada\",\"marker\":{\"symbol\":0},\"text\":[\"1952\",\"1957\",\"1962\",\"1967\",\"1972\",\"1977\",\"1982\",\"1987\",\"1992\",\"1997\",\"2002\",\"2007\"],\"textposition\":\"bottom right\"}];\n",
       "            var layout = {\"xaxis\":{\"title\":{\"text\":\"lifeExp\"}},\"yaxis\":{\"title\":{\"text\":\"gdpPercap\"}}};\n",
       "            var config = {};\n",
       "            Plotly.newPlot('ffa1ee58-79e3-4f17-85bf-807cd765e8f9', data, layout, config);\r\n",
       "});\n",
       "            };\n",
       "            if ((typeof(requirejs) !==  typeof(Function)) || (typeof(requirejs.config) !== typeof(Function))) {\n",
       "                var script = document.createElement(\"script\");\n",
       "                script.setAttribute(\"src\", \"https://cdnjs.cloudflare.com/ajax/libs/require.js/2.3.6/require.min.js\");\n",
       "                script.onload = function(){\n",
       "                    renderPlotly_ffa1ee5879e34f1785bf807cd765e8f9();\n",
       "                };\n",
       "                document.getElementsByTagName(\"head\")[0].appendChild(script);\n",
       "            }\n",
       "            else {\n",
       "                renderPlotly_ffa1ee5879e34f1785bf807cd765e8f9();\n",
       "            }\r\n",
       "</script>\r\n"
      ]
     },
     "metadata": {},
     "output_type": "display_data"
    }
   ],
   "metadata": {
    "dotnet_interactive": {
     "language": "fsharp"
    }
   }
  },
  {
   "cell_type": "markdown",
   "source": [
    "# Line charts with markers\r\n",
    "\r\n",
    "The ShowMarkers argument can be set to True to show markers on lines.\r\n",
    "The MarkerSymbol sets the type of Marker like StyleParam.Symbol.Circle or StyleParam.Symbol.Diamond"
   ],
   "metadata": {}
  },
  {
   "cell_type": "code",
   "execution_count": null,
   "source": [
    "open Plotly.NET\r\n",
    "\r\n",
    "let x  = [1952; 1957; 1962; 1967; 1972; 1977; 1982; 1987; 1992; 1997; 2002; 2007]\r\n",
    "\r\n",
    "// Australia\r\n",
    "let y1 = [69.12; 70.30; 70.93; 71.1; 71.93; 73.49; 74.74; 76.32; 77.56; 78.3; 80.37; 81.235]\r\n",
    "// New Zealand\r\n",
    "let y2 = [69.39; 70.26; 71.24; 71.52; 71.89; 72.22; 73.84; 74.32; 76.33; 77.55; 79.11; 80.204]\r\n",
    "\r\n",
    "[\r\n",
    "        Chart.Line(x, y1, ShowMarkers=true, MarkerSymbol=StyleParam.Symbol.Circle)\r\n",
    "        |> Chart.withTraceName(Name=\"Australia\")\r\n",
    "        |> Chart.withLineStyle(Width=2.0, Dash=StyleParam.DrawingStyle.Solid)\r\n",
    "\r\n",
    "        Chart.Line(x, y2, ShowMarkers=true, MarkerSymbol=StyleParam.Symbol.Diamond)\r\n",
    "        |> Chart.withTraceName(Name=\"New Zealand\")\r\n",
    "        |> Chart.withLineStyle(Width=2.0, Dash=StyleParam.DrawingStyle.Solid) \r\n",
    "] \r\n",
    "|> Chart.combine\r\n",
    "|> Chart.withXAxisStyle(\"year\")\r\n",
    "|> Chart.withYAxisStyle(\"lifeExp\")"
   ],
   "outputs": [
    {
     "data": {
      "text/html": [
       "<div id=\"ceb66504-1778-4dee-a9fe-50d720286ad7\" style=\"width: 600px; height: 600px;\"><!-- Plotly chart will be drawn inside this DIV --></div>\r\n",
       "<script type=\"text/javascript\">\r\n",
       "\n",
       "            var renderPlotly_ceb6650417784deea9fe50d720286ad7 = function() {\n",
       "            var fsharpPlotlyRequire = requirejs.config({context:'fsharp-plotly',paths:{plotly:'https://cdn.plot.ly/plotly-latest.min'}}) || require;\n",
       "            fsharpPlotlyRequire(['plotly'], function(Plotly) {\r\n",
       "\n",
       "            var data = [{\"type\":\"scatter\",\"x\":[1952,1957,1962,1967,1972,1977,1982,1987,1992,1997,2002,2007],\"y\":[69.12,70.3,70.93,71.1,71.93,73.49,74.74,76.32,77.56,78.3,80.37,81.235],\"mode\":\"lines+markers\",\"line\":{\"width\":2.0,\"dash\":\"solid\"},\"marker\":{\"symbol\":0},\"name\":\"Australia\"},{\"type\":\"scatter\",\"x\":[1952,1957,1962,1967,1972,1977,1982,1987,1992,1997,2002,2007],\"y\":[69.39,70.26,71.24,71.52,71.89,72.22,73.84,74.32,76.33,77.55,79.11,80.204],\"mode\":\"lines+markers\",\"line\":{\"width\":2.0,\"dash\":\"solid\"},\"marker\":{\"symbol\":2},\"name\":\"New Zealand\"}];\n",
       "            var layout = {\"xaxis\":{\"title\":{\"text\":\"year\"}},\"yaxis\":{\"title\":{\"text\":\"lifeExp\"}}};\n",
       "            var config = {};\n",
       "            Plotly.newPlot('ceb66504-1778-4dee-a9fe-50d720286ad7', data, layout, config);\r\n",
       "});\n",
       "            };\n",
       "            if ((typeof(requirejs) !==  typeof(Function)) || (typeof(requirejs.config) !== typeof(Function))) {\n",
       "                var script = document.createElement(\"script\");\n",
       "                script.setAttribute(\"src\", \"https://cdnjs.cloudflare.com/ajax/libs/require.js/2.3.6/require.min.js\");\n",
       "                script.onload = function(){\n",
       "                    renderPlotly_ceb6650417784deea9fe50d720286ad7();\n",
       "                };\n",
       "                document.getElementsByTagName(\"head\")[0].appendChild(script);\n",
       "            }\n",
       "            else {\n",
       "                renderPlotly_ceb6650417784deea9fe50d720286ad7();\n",
       "            }\r\n",
       "</script>\r\n"
      ]
     },
     "metadata": {},
     "output_type": "display_data"
    }
   ],
   "metadata": {
    "dotnet_interactive": {
     "language": "fsharp"
    }
   }
  },
  {
   "cell_type": "markdown",
   "source": [
    "# Line Plot Modes"
   ],
   "metadata": {}
  },
  {
   "cell_type": "code",
   "execution_count": null,
   "source": [
    "let n = 100\r\n",
    "let series = [0..n]\r\n",
    "\r\n",
    "let generate () = series |> Seq.map (fun _-> nextFloat(-2.0, 2.0))\r\n",
    "\r\n",
    "let random_xs = series\r\n",
    "\r\n",
    "let random_ys0 = generate () |> Seq.map(fun x -> x + 5.0)\r\n",
    "let random_ys1 = generate ()\r\n",
    "let random_ys2 = generate () |> Seq.map(fun x -> x - 5.0)\r\n",
    "\r\n",
    "// Create traces\r\n",
    "[\r\n",
    "    Chart.Scatter(random_xs, random_ys0, StyleParam.Mode.Lines)\r\n",
    "    |> Chart.withTraceName(Name=\"lines\")\r\n",
    "\r\n",
    "    Chart.Scatter(random_xs, random_ys1, StyleParam.Mode.Lines_Markers)\r\n",
    "    |> Chart.withTraceName(Name=\"lines+markers\")\r\n",
    "\r\n",
    "    Chart.Scatter(random_xs, random_ys2, StyleParam.Mode.Markers)\r\n",
    "    |> Chart.withTraceName(Name=\"markers\")\r\n",
    "]\r\n",
    "|> Chart.combine\r\n",
    "|> Chart.withSize(1100.,700.)"
   ],
   "outputs": [
    {
     "data": {
      "text/html": [
       "<div id=\"f35bb9d1-a7f8-4ae8-9e49-b67956ffd965\" style=\"width: 1100px; height: 700px;\"><!-- Plotly chart will be drawn inside this DIV --></div>\r\n",
       "<script type=\"text/javascript\">\r\n",
       "\n",
       "            var renderPlotly_f35bb9d1a7f84ae89e49b67956ffd965 = function() {\n",
       "            var fsharpPlotlyRequire = requirejs.config({context:'fsharp-plotly',paths:{plotly:'https://cdn.plot.ly/plotly-latest.min'}}) || require;\n",
       "            fsharpPlotlyRequire(['plotly'], function(Plotly) {\r\n",
       "\n",
       "            var data = [{\"type\":\"scatter\",\"x\":[0,1,2,3,4,5,6,7,8,9,10,11,12,13,14,15,16,17,18,19,20,21,22,23,24,25,26,27,28,29,30,31,32,33,34,35,36,37,38,39,40,41,42,43,44,45,46,47,48,49,50,51,52,53,54,55,56,57,58,59,60,61,62,63,64,65,66,67,68,69,70,71,72,73,74,75,76,77,78,79,80,81,82,83,84,85,86,87,88,89,90,91,92,93,94,95,96,97,98,99,100],\"y\":[4.24016885517173,6.578764138547128,5.697680787508228,6.62165468168522,5.53215856595531,4.760649542212789,4.687345280166411,4.570248397798393,3.7252860873589695,3.0282965842766205,4.257286571551713,6.252940185020185,3.949774839426286,5.912682070821841,5.988580815023082,5.592782250881559,5.581587945381919,3.302308252222048,3.695016952555169,3.7465798448522483,5.291121979379618,6.270548009905288,5.890613587056572,5.218035752986575,4.8227361281508285,6.20153043009412,4.767799268368538,3.203665319925018,6.076691437082687,3.348385606123314,3.149502180586337,3.702985136165742,6.522493203879564,5.129804317899889,4.290962862452009,4.0360712655987925,5.289858491294952,3.3097392005425594,5.288823937200394,4.92091353885872,5.353355194606518,3.7780567932771785,3.1949943342222804,5.936956937861144,3.509957462786677,4.173767066175941,6.996961306779162,3.9869071864462025,3.5910561981569304,5.43090473228642,5.016718934297897,3.8868151087718155,3.1244746689332996,4.9114374881197875,6.830594032923967,4.969620845266441,3.6881505514905557,3.4796450345216527,4.798918553534392,6.33062813586119,6.992850273844251,4.483679960241393,5.493556960715706,3.3769004812356553,6.878794403690284,3.554301435385971,6.73044698114062,5.819970521526397,4.621719208369832,4.952509549424289,3.3029237595866077,5.271848744839359,5.013484315021655,5.774103413696449,5.39322465024573,4.513065186102439,6.0755536756830075,6.953656649195429,4.708078290199897,3.6489690619748876,6.2045691233149585,3.7808920819223357,6.612609121768088,3.645786704796267,5.331666671825418,6.262687071814522,3.5785104672324426,4.611055715759776,5.299210284975921,6.321342017185568,3.3479207141082363,4.810213456773298,5.510820647008168,5.958195801339203,4.928063265014469,3.8696752343651255,5.2844998325614725,6.8180938529866255,6.05816253417086,6.955656027400706,4.443320085035321],\"mode\":\"lines\",\"line\":{},\"marker\":{},\"name\":\"lines\"},{\"type\":\"scatter\",\"x\":[0,1,2,3,4,5,6,7,8,9,10,11,12,13,14,15,16,17,18,19,20,21,22,23,24,25,26,27,28,29,30,31,32,33,34,35,36,37,38,39,40,41,42,43,44,45,46,47,48,49,50,51,52,53,54,55,56,57,58,59,60,61,62,63,64,65,66,67,68,69,70,71,72,73,74,75,76,77,78,79,80,81,82,83,84,85,86,87,88,89,90,91,92,93,94,95,96,97,98,99,100],\"y\":[-0.8230092147472357,1.3651879780763703,0.6385466487326412,0.12798097269981223,1.744870189458537,0.8733307937501609,-0.6496287447631492,1.5182128378740574,0.31752884682152827,0.8940671695834337,-1.2655060977048733,0.7715667443217553,-0.8500505084404957,-1.8739409874537685,1.211958191921915,-0.12892916152669542,-0.1522297440805611,0.04523380941023758,-1.3838926681242385,1.9757909681535284,0.11939126538084421,-1.4792397634495233,0.3003771911842641,-0.3954111646839469,0.4927103028133093,1.7610280978311916,1.0552885136824512,-1.1539598513180203,-0.47645058411939556,1.2285653535409669,1.257459822696382,-1.1045058849754303,-0.24757773720080856,1.205648976939567,0.02757833806219434,-0.5842958961540348,-1.0259375269645534,0.5178057320964551,0.5867964823668808,-1.610643721935639,1.2281392119955918,0.09284287788571932,1.9816814381543928,-1.572725152397866,1.61342681181311,1.038646712451543,-0.6391288445513363,0.832136788792972,0.7161050730925544,0.9986043958918214,-1.5632704233579666,-0.2271399564236123,0.44205520229509787,1.9798650592471776,1.3239288196544763,-1.3437694512977123,-0.9351892131078938,-0.9660421865834119,1.635270669886503,1.9838420916273454,1.8180422800677096,-1.495668893445129,-0.005336578006547299,1.0889634932805614,1.6366073468870517,1.838999787270557,-0.9808555184774359,-0.05569948538006253,0.09848067448403697,-0.20374591192405012,-1.102991634562142,1.329964523822984,1.4584373270433568,-1.7732489461885994,-1.2523482438420634,-1.973451612504875,-1.4609212016039161,-0.12689765641786988,-0.008837976497056976,1.4540635903617662,0.40015694238252797,-1.7768482751105206,0.12993507558942552,0.5249450199887833,0.7918357768989335,-0.5154002208800057,0.45343891272947134,-0.22744279644798615,1.8817201572850908,-0.6286522106400934,-1.6491066830461412,1.9401046596188585,0.8825350622099521,0.6029543907395354,-1.4286860020033485,0.723808105440721,-1.9018205441077336,-1.1072820551261688,-1.2093324992849177,1.774427024542553,0.01950223092897918],\"mode\":\"lines+markers\",\"line\":{},\"marker\":{},\"name\":\"lines+markers\"},{\"type\":\"scatter\",\"x\":[0,1,2,3,4,5,6,7,8,9,10,11,12,13,14,15,16,17,18,19,20,21,22,23,24,25,26,27,28,29,30,31,32,33,34,35,36,37,38,39,40,41,42,43,44,45,46,47,48,49,50,51,52,53,54,55,56,57,58,59,60,61,62,63,64,65,66,67,68,69,70,71,72,73,74,75,76,77,78,79,80,81,82,83,84,85,86,87,88,89,90,91,92,93,94,95,96,97,98,99,100],\"y\":[-3.583429359171274,-6.266343885691065,-6.080149014983395,-4.898403969546036,-5.89323494718095,-4.685577283466969,-4.784695851516302,-3.767786696910759,-3.7026195678406486,-6.882848249693796,-3.808291556690024,-3.957204210086355,-6.818792920475263,-5.416314850755183,-3.40510944482177,-4.625603969034554,-3.5302815979953306,-6.7028722836183725,-4.847992432232942,-5.614439125458914,-3.7534127220294495,-4.937419642665153,-6.2728671148758695,-5.554639228877909,-6.043096294181001,-6.552570538386968,-6.144517063696178,-3.3445629441852507,-4.9761563492827845,-3.0716310683971417,-3.3536391464777475,-5.917565157132952,-4.783265001039609,-5.565438640567213,-4.016413698446199,-3.5105043894194554,-5.7899159094271795,-6.57665101046518,-5.314929275920116,-3.829822937413036,-6.761865235754226,-4.459656099537227,-6.415660274874261,-5.745803960946297,-5.840815126356117,-6.102691130294787,-4.298672017314784,-5.980730758505282,-6.0235765571815785,-6.650587925524725,-6.371538946112404,-6.404409771507797,-4.361340067051975,-4.611133849998533,-4.227085047041571,-5.6460097165061205,-6.993476770815196,-3.5255097861054865,-5.855307675365037,-6.340664408793982,-5.541060219770792,-4.440132907331051,-5.791630347627974,-3.630988499443507,-6.529209103216049,-4.890726399557072,-6.173939209046745,-4.25335427990805,-4.399901152308985,-6.894605055402315,-5.835688059607375,-3.9536305875301503,-4.387943007698256,-4.018169494819906,-5.852573889704688,-6.293756622492222,-5.521759367790892,-3.5270631539295723,-6.713824102521793,-6.940405163886214,-5.253898521072184,-3.1637863051908957,-4.320986387003673,-5.32556842375806,-3.7000921222847385,-3.9492293749699505,-4.556225090080977,-3.1721311510410772,-4.338353593525641,-5.370403981940077,-3.5170276186042595,-5.2644061233216926,-3.7213433351001437,-5.974264867126134,-5.288762717642245,-5.321732328423174,-5.668025751909253,-5.784671775430754,-6.216594857730248,-3.950088726799045,-6.9287519212480415],\"mode\":\"markers\",\"line\":{},\"marker\":{},\"name\":\"markers\"}];\n",
       "            var layout = {\"width\":1100.0,\"height\":700.0};\n",
       "            var config = {};\n",
       "            Plotly.newPlot('f35bb9d1-a7f8-4ae8-9e49-b67956ffd965', data, layout, config);\r\n",
       "});\n",
       "            };\n",
       "            if ((typeof(requirejs) !==  typeof(Function)) || (typeof(requirejs.config) !== typeof(Function))) {\n",
       "                var script = document.createElement(\"script\");\n",
       "                script.setAttribute(\"src\", \"https://cdnjs.cloudflare.com/ajax/libs/require.js/2.3.6/require.min.js\");\n",
       "                script.onload = function(){\n",
       "                    renderPlotly_f35bb9d1a7f84ae89e49b67956ffd965();\n",
       "                };\n",
       "                document.getElementsByTagName(\"head\")[0].appendChild(script);\n",
       "            }\n",
       "            else {\n",
       "                renderPlotly_f35bb9d1a7f84ae89e49b67956ffd965();\n",
       "            }\r\n",
       "</script>\r\n"
      ]
     },
     "metadata": {},
     "output_type": "display_data"
    }
   ],
   "metadata": {
    "dotnet_interactive": {
     "language": "fsharp"
    }
   }
  },
  {
   "cell_type": "markdown",
   "source": [
    "# Style Line Plots\r\n",
    "This example styles the color and dash of the traces, adds trace names, modifies line width, and adds plot and axes titles."
   ],
   "metadata": {}
  },
  {
   "cell_type": "code",
   "execution_count": null,
   "source": [
    "\r\n",
    "//  Add data\r\n",
    "let month = [\"January\";\"February\";\"March\";\"April\";\"May\";\"June\";\"July\";\"August\";\"September\";\"October\";\"November\";\"December\"]\r\n",
    "let high_2000 = [32.5; 37.6; 49.9; 53.0; 69.1; 75.4; 76.5; 76.6; 70.7; 60.6; 45.1; 29.3]\r\n",
    "let low_2000 = [13.8; 22.3; 32.5; 37.2; 49.9; 56.1; 57.7; 58.3; 51.2; 42.8; 31.6; 15.9]\r\n",
    "let high_2007 = [36.5; 26.6; 43.6; 52.3; 71.5; 81.4; 80.5; 82.2; 76.0; 67.3; 46.1; 35.0]\r\n",
    "let low_2007 = [23.6; 14.0; 27.0; 36.8; 47.6; 57.7; 58.9; 61.2; 53.3; 48.5; 31.0; 23.6]\r\n",
    "let high_2014 = [28.8; 28.5; 37.0; 56.8; 69.7; 79.7; 78.5; 77.8; 74.1; 62.6; 45.3; 39.9]\r\n",
    "let low_2014 = [12.7; 14.3; 18.6; 35.5; 49.9; 58.0; 60.0; 58.6; 51.7; 45.2; 32.2; 29.1]\r\n",
    "\r\n",
    "\r\n",
    "// Create and style traces\r\n",
    "let high2014Chart = Chart.Scatter(month, high_2014, StyleParam.Mode.Lines_Markers,  Name=\"High 2014\")\r\n",
    "                        |> Chart.withLineStyle(Color = \"firebrick\", Width=4.)\r\n",
    "\r\n",
    "let low2014Chart = Chart.Scatter(month, low_2014, StyleParam.Mode.Lines_Markers,  Name=\"Low 2014\")\r\n",
    "                        |> Chart.withLineStyle(Color = \"royalblue\", Width=4.)\r\n",
    "\r\n",
    "let high2007Chart = Chart.Scatter(month, high_2007, StyleParam.Mode.Lines_Markers,  Name=\"High 2007\")\r\n",
    "                        |> Chart.withLineStyle(Color = \"firebrick\", Width=4., Dash=StyleParam.DrawingStyle.Dash)  \r\n",
    "                        //dash options include 'dash', 'dot', and 'dashdot'\r\n",
    "\r\n",
    "let low2007Chart = Chart.Scatter(month, low_2007, StyleParam.Mode.Lines_Markers,  Name=\"Low 2007\")\r\n",
    "                        |> Chart.withLineStyle(Color = \"royalblue\", Width=4., Dash=StyleParam.DrawingStyle.Dash)  \r\n",
    "\r\n",
    "\r\n",
    "let high2000Chart = Chart.Scatter(month, high_2000, StyleParam.Mode.Lines_Markers,  Name=\"High 2000\")\r\n",
    "                        |> Chart.withLineStyle(Color = \"firebrick\", Width=4., Dash=StyleParam.DrawingStyle.Dot)\r\n",
    "\r\n",
    "let low2000Chart = Chart.Scatter(month, low_2000, StyleParam.Mode.Lines_Markers,  Name=\"Low 2000\")\r\n",
    "                        |> Chart.withLineStyle(Color = \"royalblue\", Width=4., Dash=StyleParam.DrawingStyle.Dot)  \r\n",
    "\r\n",
    "\r\n",
    "[\r\n",
    "    high2014Chart;\r\n",
    "    low2014Chart;\r\n",
    "    high2007Chart;\r\n",
    "    low2007Chart;\r\n",
    "    high2000Chart;\r\n",
    "    low2000Chart\r\n",
    "\r\n",
    "] \r\n",
    "    |> Chart.combine\r\n",
    "    |> Chart.withTitle(\"Average High and Low Temperatures in New York\")\r\n",
    "    |> Chart.withXAxisStyle (\"Month\")\r\n",
    "    |> Chart.withYAxisStyle (\"Temperature (degrees F)\")\r\n",
    "    |> Chart.withSize(1100.,700.)"
   ],
   "outputs": [
    {
     "data": {
      "text/html": [
       "<div id=\"7b282483-d2cc-407f-baae-a076736cbf53\" style=\"width: 1100px; height: 700px;\"><!-- Plotly chart will be drawn inside this DIV --></div>\r\n",
       "<script type=\"text/javascript\">\r\n",
       "\n",
       "            var renderPlotly_7b282483d2cc407fbaaea076736cbf53 = function() {\n",
       "            var fsharpPlotlyRequire = requirejs.config({context:'fsharp-plotly',paths:{plotly:'https://cdn.plot.ly/plotly-latest.min'}}) || require;\n",
       "            fsharpPlotlyRequire(['plotly'], function(Plotly) {\r\n",
       "\n",
       "            var data = [{\"type\":\"scatter\",\"x\":[\"January\",\"February\",\"March\",\"April\",\"May\",\"June\",\"July\",\"August\",\"September\",\"October\",\"November\",\"December\"],\"y\":[28.8,28.5,37.0,56.8,69.7,79.7,78.5,77.8,74.1,62.6,45.3,39.9],\"mode\":\"lines+markers\",\"name\":\"High 2014\",\"line\":{\"color\":\"firebrick\",\"width\":4.0},\"marker\":{}},{\"type\":\"scatter\",\"x\":[\"January\",\"February\",\"March\",\"April\",\"May\",\"June\",\"July\",\"August\",\"September\",\"October\",\"November\",\"December\"],\"y\":[12.7,14.3,18.6,35.5,49.9,58.0,60.0,58.6,51.7,45.2,32.2,29.1],\"mode\":\"lines+markers\",\"name\":\"Low 2014\",\"line\":{\"color\":\"royalblue\",\"width\":4.0},\"marker\":{}},{\"type\":\"scatter\",\"x\":[\"January\",\"February\",\"March\",\"April\",\"May\",\"June\",\"July\",\"August\",\"September\",\"October\",\"November\",\"December\"],\"y\":[36.5,26.6,43.6,52.3,71.5,81.4,80.5,82.2,76.0,67.3,46.1,35.0],\"mode\":\"lines+markers\",\"name\":\"High 2007\",\"line\":{\"color\":\"firebrick\",\"width\":4.0,\"dash\":\"dash\"},\"marker\":{}},{\"type\":\"scatter\",\"x\":[\"January\",\"February\",\"March\",\"April\",\"May\",\"June\",\"July\",\"August\",\"September\",\"October\",\"November\",\"December\"],\"y\":[23.6,14.0,27.0,36.8,47.6,57.7,58.9,61.2,53.3,48.5,31.0,23.6],\"mode\":\"lines+markers\",\"name\":\"Low 2007\",\"line\":{\"color\":\"royalblue\",\"width\":4.0,\"dash\":\"dash\"},\"marker\":{}},{\"type\":\"scatter\",\"x\":[\"January\",\"February\",\"March\",\"April\",\"May\",\"June\",\"July\",\"August\",\"September\",\"October\",\"November\",\"December\"],\"y\":[32.5,37.6,49.9,53.0,69.1,75.4,76.5,76.6,70.7,60.6,45.1,29.3],\"mode\":\"lines+markers\",\"name\":\"High 2000\",\"line\":{\"color\":\"firebrick\",\"width\":4.0,\"dash\":\"dot\"},\"marker\":{}},{\"type\":\"scatter\",\"x\":[\"January\",\"February\",\"March\",\"April\",\"May\",\"June\",\"July\",\"August\",\"September\",\"October\",\"November\",\"December\"],\"y\":[13.8,22.3,32.5,37.2,49.9,56.1,57.7,58.3,51.2,42.8,31.6,15.9],\"mode\":\"lines+markers\",\"name\":\"Low 2000\",\"line\":{\"color\":\"royalblue\",\"width\":4.0,\"dash\":\"dot\"},\"marker\":{}}];\n",
       "            var layout = {\"title\":{\"text\":\"Average High and Low Temperatures in New York\"},\"xaxis\":{\"title\":{\"text\":\"Month\"}},\"yaxis\":{\"title\":{\"text\":\"Temperature (degrees F)\"}},\"width\":1100.0,\"height\":700.0};\n",
       "            var config = {};\n",
       "            Plotly.newPlot('7b282483-d2cc-407f-baae-a076736cbf53', data, layout, config);\r\n",
       "});\n",
       "            };\n",
       "            if ((typeof(requirejs) !==  typeof(Function)) || (typeof(requirejs.config) !== typeof(Function))) {\n",
       "                var script = document.createElement(\"script\");\n",
       "                script.setAttribute(\"src\", \"https://cdnjs.cloudflare.com/ajax/libs/require.js/2.3.6/require.min.js\");\n",
       "                script.onload = function(){\n",
       "                    renderPlotly_7b282483d2cc407fbaaea076736cbf53();\n",
       "                };\n",
       "                document.getElementsByTagName(\"head\")[0].appendChild(script);\n",
       "            }\n",
       "            else {\n",
       "                renderPlotly_7b282483d2cc407fbaaea076736cbf53();\n",
       "            }\r\n",
       "</script>\r\n"
      ]
     },
     "metadata": {},
     "output_type": "display_data"
    }
   ],
   "metadata": {
    "dotnet_interactive": {
     "language": "fsharp"
    }
   }
  },
  {
   "cell_type": "markdown",
   "source": [
    "# Connect Data Gaps\r\n",
    "connectgaps determines if missing values in the provided data are shown as a gap in the graph or not"
   ],
   "metadata": {}
  },
  {
   "cell_type": "code",
   "execution_count": null,
   "source": [
    "\r\n",
    "let xs = [1; 2; 3; 4; 5; 6; 7; 8; 9; 10; 11; 12; 13; 14; 15]\r\n",
    "\r\n",
    "let chart = Chart.Scatter(xs,\r\n",
    "             [10.; 20.; nan; 15.; 10.; 5.; 15.;nan; 20.; 10.; 10.; 15.; 25.; 20.; 10.], \r\n",
    "             StyleParam.Mode.Lines_Markers, Name=\"<b>No</b> Gaps\")             \r\n",
    "             |> GenericChart.mapTrace(fun t -> \r\n",
    "                                                t?connectgaps <- true //Workaround\r\n",
    "                                                t)\r\n",
    "[\r\n",
    "    \r\n",
    "    chart;\r\n",
    "    Chart.Scatter(xs,\r\n",
    "             [5.; 15.; nan; 10.; 5.; 0.; 10.; nan; 15.; 5.; 5.; 10.; 20.; 15.; 5.], \r\n",
    "             StyleParam.Mode.Lines_Markers, Name=\"Gaps\")\r\n",
    "] |> Chart.combine"
   ],
   "outputs": [
    {
     "data": {
      "text/html": [
       "<div id=\"d7e447e6-0fb7-4c02-b8b2-c95287e3ee60\" style=\"width: 600px; height: 600px;\"><!-- Plotly chart will be drawn inside this DIV --></div>\r\n",
       "<script type=\"text/javascript\">\r\n",
       "\n",
       "            var renderPlotly_d7e447e60fb74c02b8b2c95287e3ee60 = function() {\n",
       "            var fsharpPlotlyRequire = requirejs.config({context:'fsharp-plotly',paths:{plotly:'https://cdn.plot.ly/plotly-latest.min'}}) || require;\n",
       "            fsharpPlotlyRequire(['plotly'], function(Plotly) {\r\n",
       "\n",
       "            var data = [{\"type\":\"scatter\",\"x\":[1,2,3,4,5,6,7,8,9,10,11,12,13,14,15],\"y\":[10.0,20.0,\"NaN\",15.0,10.0,5.0,15.0,\"NaN\",20.0,10.0,10.0,15.0,25.0,20.0,10.0],\"mode\":\"lines+markers\",\"name\":\"<b>No</b> Gaps\",\"line\":{},\"marker\":{},\"connectgaps\":true},{\"type\":\"scatter\",\"x\":[1,2,3,4,5,6,7,8,9,10,11,12,13,14,15],\"y\":[5.0,15.0,\"NaN\",10.0,5.0,0.0,10.0,\"NaN\",15.0,5.0,5.0,10.0,20.0,15.0,5.0],\"mode\":\"lines+markers\",\"name\":\"Gaps\",\"line\":{},\"marker\":{}}];\n",
       "            var layout = {};\n",
       "            var config = {};\n",
       "            Plotly.newPlot('d7e447e6-0fb7-4c02-b8b2-c95287e3ee60', data, layout, config);\r\n",
       "});\n",
       "            };\n",
       "            if ((typeof(requirejs) !==  typeof(Function)) || (typeof(requirejs.config) !== typeof(Function))) {\n",
       "                var script = document.createElement(\"script\");\n",
       "                script.setAttribute(\"src\", \"https://cdnjs.cloudflare.com/ajax/libs/require.js/2.3.6/require.min.js\");\n",
       "                script.onload = function(){\n",
       "                    renderPlotly_d7e447e60fb74c02b8b2c95287e3ee60();\n",
       "                };\n",
       "                document.getElementsByTagName(\"head\")[0].appendChild(script);\n",
       "            }\n",
       "            else {\n",
       "                renderPlotly_d7e447e60fb74c02b8b2c95287e3ee60();\n",
       "            }\r\n",
       "</script>\r\n"
      ]
     },
     "metadata": {},
     "output_type": "display_data"
    }
   ],
   "metadata": {
    "dotnet_interactive": {
     "language": "fsharp"
    }
   }
  },
  {
   "cell_type": "markdown",
   "source": [
    "# Interpolation with Line Plots"
   ],
   "metadata": {}
  },
  {
   "cell_type": "code",
   "execution_count": null,
   "source": [
    "let xs = [1; 2; 3; 4; 5]\r\n",
    "let ys = [1; 3; 2; 3; 1]\r\n",
    "\r\n",
    "let linear = Chart.Scatter(xs, ys, StyleParam.Mode.Lines_Markers,Name=\"linear\") \r\n",
    "            |> Chart.withLineStyle(Shape =StyleParam.Shape.Linear)\r\n",
    "\r\n",
    "let spline = Chart.Scatter(xs, ys |> Seq.map(fun y->y+5) ,StyleParam.Mode.Lines_Markers,Labels=[\"tweak line smoothness<br>with 'smoothing' in line object\"],Name=\"spline\") \r\n",
    "            |> Chart.withLineStyle(Shape =StyleParam.Shape.Spline)\r\n",
    "\r\n",
    "let vhv = Chart.Scatter(xs, ys |> Seq.map(fun y->y+10), StyleParam.Mode.Lines_Markers,Name=\"vhv\") \r\n",
    "            |> Chart.withLineStyle(Shape =StyleParam.Shape.Vhv)\r\n",
    "\r\n",
    "let hvh = Chart.Scatter(xs, ys |> Seq.map(fun y->y+15), StyleParam.Mode.Lines_Markers,Name=\"hvh\") \r\n",
    "            |> Chart.withLineStyle(Shape =StyleParam.Shape.Hvh)\r\n",
    "\r\n",
    "let vh = Chart.Scatter(xs, ys |> Seq.map(fun y->y+20), StyleParam.Mode.Lines_Markers,Name=\"vh\") \r\n",
    "            |> Chart.withLineStyle(Shape =StyleParam.Shape.Vh)\r\n",
    "\r\n",
    "let hv = Chart.Scatter(xs,  ys |> Seq.map(fun y->y+25), StyleParam.Mode.Lines_Markers,Name=\"hv\") \r\n",
    "            |> Chart.withLineStyle(Shape =StyleParam.Shape.Hv)\r\n",
    "\r\n",
    "[\r\n",
    "    linear;\r\n",
    "    spline;\r\n",
    "    vhv;\r\n",
    "    hvh;\r\n",
    "    vh;\r\n",
    "    hv  ]\r\n",
    "|> Chart.combine\r\n",
    "|> Chart.withLegend(Legend.init(Y=0.5,TraceOrder=StyleParam.TraceOrder.Reversed))\r\n",
    "|> Chart.withLayout(Layout.init(Font=Font.init(Size=16.)))\r\n",
    "|> Chart.withSize(1100.,700.)"
   ],
   "outputs": [
    {
     "data": {
      "text/html": [
       "<div id=\"d4cd1081-b59e-4498-9f3c-5a74412b29ad\" style=\"width: 1100px; height: 700px;\"><!-- Plotly chart will be drawn inside this DIV --></div>\r\n",
       "<script type=\"text/javascript\">\r\n",
       "\n",
       "            var renderPlotly_d4cd1081b59e44989f3c5a74412b29ad = function() {\n",
       "            var fsharpPlotlyRequire = requirejs.config({context:'fsharp-plotly',paths:{plotly:'https://cdn.plot.ly/plotly-latest.min'}}) || require;\n",
       "            fsharpPlotlyRequire(['plotly'], function(Plotly) {\r\n",
       "\n",
       "            var data = [{\"type\":\"scatter\",\"x\":[1,2,3,4,5],\"y\":[1,3,2,3,1],\"mode\":\"lines+markers\",\"name\":\"linear\",\"line\":{\"shape\":\"linear\"},\"marker\":{}},{\"type\":\"scatter\",\"x\":[1,2,3,4,5],\"y\":[6,8,7,8,6],\"mode\":\"lines+markers\",\"name\":\"spline\",\"line\":{\"shape\":\"spline\"},\"marker\":{},\"text\":[\"tweak line smoothness<br>with 'smoothing' in line object\"]},{\"type\":\"scatter\",\"x\":[1,2,3,4,5],\"y\":[11,13,12,13,11],\"mode\":\"lines+markers\",\"name\":\"vhv\",\"line\":{\"shape\":\"vhv\"},\"marker\":{}},{\"type\":\"scatter\",\"x\":[1,2,3,4,5],\"y\":[16,18,17,18,16],\"mode\":\"lines+markers\",\"name\":\"hvh\",\"line\":{\"shape\":\"hvh\"},\"marker\":{}},{\"type\":\"scatter\",\"x\":[1,2,3,4,5],\"y\":[21,23,22,23,21],\"mode\":\"lines+markers\",\"name\":\"vh\",\"line\":{\"shape\":\"vh\"},\"marker\":{}},{\"type\":\"scatter\",\"x\":[1,2,3,4,5],\"y\":[26,28,27,28,26],\"mode\":\"lines+markers\",\"name\":\"hv\",\"line\":{\"shape\":\"hv\"},\"marker\":{}}];\n",
       "            var layout = {\"legend\":{\"y\":0.5,\"traceorder\":\"reversed\"},\"font\":{\"size\":16.0},\"width\":1100.0,\"height\":700.0};\n",
       "            var config = {};\n",
       "            Plotly.newPlot('d4cd1081-b59e-4498-9f3c-5a74412b29ad', data, layout, config);\r\n",
       "});\n",
       "            };\n",
       "            if ((typeof(requirejs) !==  typeof(Function)) || (typeof(requirejs.config) !== typeof(Function))) {\n",
       "                var script = document.createElement(\"script\");\n",
       "                script.setAttribute(\"src\", \"https://cdnjs.cloudflare.com/ajax/libs/require.js/2.3.6/require.min.js\");\n",
       "                script.onload = function(){\n",
       "                    renderPlotly_d4cd1081b59e44989f3c5a74412b29ad();\n",
       "                };\n",
       "                document.getElementsByTagName(\"head\")[0].appendChild(script);\n",
       "            }\n",
       "            else {\n",
       "                renderPlotly_d4cd1081b59e44989f3c5a74412b29ad();\n",
       "            }\r\n",
       "</script>\r\n"
      ]
     },
     "metadata": {},
     "output_type": "display_data"
    }
   ],
   "metadata": {
    "dotnet_interactive": {
     "language": "fsharp"
    }
   }
  },
  {
   "cell_type": "markdown",
   "source": [
    "# Label Lines with Annotations"
   ],
   "metadata": {}
  },
  {
   "cell_type": "code",
   "execution_count": null,
   "source": [
    "let title = \"Main Source for News\"\r\n",
    "let labels = [\"Television\"; \"Newspaper\"; \"Internet\"; \"Radio\"]\r\n",
    "let colors = [\"rgb(67,67,67)\"; \"rgb(115,115,115)\"; \"rgb(49,130,189)\"; \"rgb(189,189,189)\"]\r\n",
    "\r\n",
    "let mode_size = [|8; 8; 12; 8|]\r\n",
    "let line_size = [|2.; 2.; 4.; 2.|]\r\n",
    "\r\n",
    "let x_data = [1 ..4 ] |> Seq.map(fun _-> [|2001 .. 2014|]) |> Seq.toArray\r\n",
    "\r\n",
    "let y_data = [|\r\n",
    "    [|74; 82; 80; 74; 73; 72; 74; 70; 70; 66; 66; 69|];\r\n",
    "    [|45; 42; 50; 46; 36; 36; 34; 35; 32; 31; 31; 28|];\r\n",
    "    [|13; 14; 20; 24; 20; 24; 24; 40; 35; 41; 43; 50|];\r\n",
    "    [|18; 21; 18; 21; 16; 14; 13; 18; 17; 16; 19; 23|]|]\r\n",
    "\r\n",
    "let annotations = seq {\r\n",
    "        for (y_trace, label, color) in Seq.zip3 y_data labels colors do\r\n",
    "\r\n",
    "        // labeling the left_side of the plot     \r\n",
    "        let a1 = Annotation.init(XRef=\"paper\", X=0.05, Y=y_trace.[0],\r\n",
    "                                  Text=  $\"{label} {y_trace.[0]}%%\",\r\n",
    "                                  ShowArrow=false,\r\n",
    "                                  Font=Font.init(Family=StyleParam.FontFamily.Arial, Size=16.))\r\n",
    "\r\n",
    "        a1?xanchor <-\"right\"  //workaround \r\n",
    "        a1?yanchor <-\"middle\" //workaround\r\n",
    "\r\n",
    "        //labeling the right_side of the plot\r\n",
    "        let a2 = Annotation.init(XRef=\"paper\", X=0.95, Y=y_trace.[11],\r\n",
    "                                  Text=  $\"{y_trace.[11]}%%\",\r\n",
    "                                  ShowArrow=false,\r\n",
    "                                  Font=Font.init(Family=StyleParam.FontFamily.Arial, Size=16.));\r\n",
    "\r\n",
    "        a2?xanchor <-\"left\"  //workaround \r\n",
    "        a2?yanchor <-\"middle\" //workaround\r\n",
    "\r\n",
    "        // Title\r\n",
    "        let a3 =  Annotation.init(XRef=\"paper\",YRef=\"paper\", X=0., Y=1.05,\r\n",
    "                                  Text=  \"Main Source for News\",\r\n",
    "                                  ShowArrow=false,\r\n",
    "                                  Font=Font.init(Family=StyleParam.FontFamily.Arial, \r\n",
    "                                                 Size=30.,\r\n",
    "                                                 Color=\"rgb(37,37,37)\"));\r\n",
    "        a3?xanchor <-\"left\"  //workaround \r\n",
    "        a3?yanchor <-\"bottom\" //workaround\r\n",
    "        \r\n",
    "\r\n",
    "        // Source\r\n",
    "        let a4 = Annotation.init(XRef=\"paper\",YRef=\"paper\", X=0.5, Y= -0.1,\r\n",
    "                                  Text=  \"Source: PewResearch Center & Storytelling with data\",\r\n",
    "                                  ShowArrow=false,\r\n",
    "                                  Font=Font.init(Family=StyleParam.FontFamily.Arial, \r\n",
    "                                                 Size=12.,\r\n",
    "                                                 Color=\"rgb(150,150,150)\"))\r\n",
    "\r\n",
    "        a4?xanchor <-\"center\"  //workaround \r\n",
    "        a4?yanchor <-\"top\" //workaround\r\n",
    "        \r\n",
    "        \r\n",
    "\r\n",
    "                                  \r\n",
    "        yield! [a1;a2;a3;a4]\r\n",
    "    }\r\n",
    "\r\n",
    "\r\n",
    "seq {\r\n",
    "    for i in 0..3 do\r\n",
    "        yield! [\r\n",
    "                Chart.Scatter(x_data.[i], y_data.[i], StyleParam.Mode.Lines,Name= labels.[i])\r\n",
    "                    |> Chart.withLineStyle(Width=line_size.[i], Color=colors.[i])\r\n",
    "\r\n",
    "                // endpoints\r\n",
    "                Chart.Scatter([x_data.[i].[0]; x_data.[i].[^0]],\r\n",
    "                              [y_data.[i].[0]; y_data.[i].[^0]],\r\n",
    "                              mode=StyleParam.Mode.Markers)\r\n",
    "                    |> Chart.withMarkerStyle(Size=mode_size.[i], Color=colors.[i])\r\n",
    "        ]        \r\n",
    "} |> Chart.combine\r\n",
    "  |> Chart.withLayout(Layout.init(Autosize=false, Showlegend=false, Plot_bgcolor=\"white\"))\r\n",
    "  |> Chart.withXAxis(Axis.LinearAxis.init(ShowLine=true,\r\n",
    "                                            ShowGrid=false,\r\n",
    "                                            ShowTickLabels=true,\r\n",
    "                                            LineColor=\"rgb(204, 204, 204)\",\r\n",
    "                                            LineWidth=2.,\r\n",
    "                                            Ticks=StyleParam.TickOptions.Outside,\r\n",
    "                                            TickFont = Font.init(Family=StyleParam.FontFamily.Arial,\r\n",
    "                                                                 Size=12.,\r\n",
    "                                                                 Color=\"rgb(82, 82, 82)\")))\r\n",
    "\r\n",
    "    |> Chart.withYAxis(Axis.LinearAxis.init(ShowGrid=false,\r\n",
    "                                             ZeroLine=false,\r\n",
    "                                             ShowLine=false,\r\n",
    "                                             ShowTickLabels=false))\r\n",
    "    |> Chart.withMarginSize(Autoexpand=false, Left=100, Right=20,Top=110)\r\n",
    "        // Adding labels\r\n",
    "    |> Chart.withAnnotations(annotations)"
   ],
   "outputs": [
    {
     "data": {
      "text/html": [
       "<div id=\"39c0edc6-c675-49ef-80b2-a92264aa416f\" style=\"width: 600px; height: 600px;\"><!-- Plotly chart will be drawn inside this DIV --></div>\r\n",
       "<script type=\"text/javascript\">\r\n",
       "\n",
       "            var renderPlotly_39c0edc6c67549ef80b2a92264aa416f = function() {\n",
       "            var fsharpPlotlyRequire = requirejs.config({context:'fsharp-plotly',paths:{plotly:'https://cdn.plot.ly/plotly-latest.min'}}) || require;\n",
       "            fsharpPlotlyRequire(['plotly'], function(Plotly) {\r\n",
       "\n",
       "            var data = [{\"type\":\"scatter\",\"x\":[2001,2002,2003,2004,2005,2006,2007,2008,2009,2010,2011,2012,2013,2014],\"y\":[74,82,80,74,73,72,74,70,70,66,66,69],\"mode\":\"lines\",\"name\":\"Television\",\"line\":{\"color\":\"rgb(67,67,67)\",\"width\":2.0},\"marker\":{}},{\"type\":\"scatter\",\"x\":[2001,2014],\"y\":[74,69],\"mode\":\"markers\",\"line\":{},\"marker\":{\"size\":8,\"color\":\"rgb(67,67,67)\"}},{\"type\":\"scatter\",\"x\":[2001,2002,2003,2004,2005,2006,2007,2008,2009,2010,2011,2012,2013,2014],\"y\":[45,42,50,46,36,36,34,35,32,31,31,28],\"mode\":\"lines\",\"name\":\"Newspaper\",\"line\":{\"color\":\"rgb(115,115,115)\",\"width\":2.0},\"marker\":{}},{\"type\":\"scatter\",\"x\":[2001,2014],\"y\":[45,28],\"mode\":\"markers\",\"line\":{},\"marker\":{\"size\":8,\"color\":\"rgb(115,115,115)\"}},{\"type\":\"scatter\",\"x\":[2001,2002,2003,2004,2005,2006,2007,2008,2009,2010,2011,2012,2013,2014],\"y\":[13,14,20,24,20,24,24,40,35,41,43,50],\"mode\":\"lines\",\"name\":\"Internet\",\"line\":{\"color\":\"rgb(49,130,189)\",\"width\":4.0},\"marker\":{}},{\"type\":\"scatter\",\"x\":[2001,2014],\"y\":[13,50],\"mode\":\"markers\",\"line\":{},\"marker\":{\"size\":12,\"color\":\"rgb(49,130,189)\"}},{\"type\":\"scatter\",\"x\":[2001,2002,2003,2004,2005,2006,2007,2008,2009,2010,2011,2012,2013,2014],\"y\":[18,21,18,21,16,14,13,18,17,16,19,23],\"mode\":\"lines\",\"name\":\"Radio\",\"line\":{\"color\":\"rgb(189,189,189)\",\"width\":2.0},\"marker\":{}},{\"type\":\"scatter\",\"x\":[2001,2014],\"y\":[18,23],\"mode\":\"markers\",\"line\":{},\"marker\":{\"size\":8,\"color\":\"rgb(189,189,189)\"}}];\n",
       "            var layout = {\"autosize\":false,\"plot_bgcolor\":\"white\",\"showlegend\":false,\"xaxis\":{\"ticks\":\"outside\",\"showticklabels\":true,\"tickfont\":{\"family\":\"Arial\",\"size\":12.0,\"color\":\"rgb(82, 82, 82)\"},\"showline\":true,\"linecolor\":\"rgb(204, 204, 204)\",\"linewidth\":2.0,\"showgrid\":false},\"yaxis\":{\"showticklabels\":false,\"showline\":false,\"showgrid\":false,\"zeroline\":false},\"margin\":{\"l\":100,\"r\":20,\"t\":110,\"autoexpand\":false},\"annotations\":[{\"x\":0.05,\"y\":74,\"xref\":\"paper\",\"showarrow\":false,\"text\":\"Television 74%\",\"font\":{\"family\":\"Arial\",\"size\":16.0},\"xanchor\":\"right\",\"yanchor\":\"middle\"},{\"x\":0.95,\"y\":69,\"xref\":\"paper\",\"showarrow\":false,\"text\":\"69%\",\"font\":{\"family\":\"Arial\",\"size\":16.0},\"xanchor\":\"left\",\"yanchor\":\"middle\"},{\"x\":0.0,\"y\":1.05,\"xref\":\"paper\",\"yref\":\"paper\",\"showarrow\":false,\"text\":\"Main Source for News\",\"font\":{\"family\":\"Arial\",\"size\":30.0,\"color\":\"rgb(37,37,37)\"},\"xanchor\":\"left\",\"yanchor\":\"bottom\"},{\"x\":0.5,\"y\":-0.1,\"xref\":\"paper\",\"yref\":\"paper\",\"showarrow\":false,\"text\":\"Source: PewResearch Center & Storytelling with data\",\"font\":{\"family\":\"Arial\",\"size\":12.0,\"color\":\"rgb(150,150,150)\"},\"xanchor\":\"center\",\"yanchor\":\"top\"},{\"x\":0.05,\"y\":45,\"xref\":\"paper\",\"showarrow\":false,\"text\":\"Newspaper 45%\",\"font\":{\"family\":\"Arial\",\"size\":16.0},\"xanchor\":\"right\",\"yanchor\":\"middle\"},{\"x\":0.95,\"y\":28,\"xref\":\"paper\",\"showarrow\":false,\"text\":\"28%\",\"font\":{\"family\":\"Arial\",\"size\":16.0},\"xanchor\":\"left\",\"yanchor\":\"middle\"},{\"x\":0.0,\"y\":1.05,\"xref\":\"paper\",\"yref\":\"paper\",\"showarrow\":false,\"text\":\"Main Source for News\",\"font\":{\"family\":\"Arial\",\"size\":30.0,\"color\":\"rgb(37,37,37)\"},\"xanchor\":\"left\",\"yanchor\":\"bottom\"},{\"x\":0.5,\"y\":-0.1,\"xref\":\"paper\",\"yref\":\"paper\",\"showarrow\":false,\"text\":\"Source: PewResearch Center & Storytelling with data\",\"font\":{\"family\":\"Arial\",\"size\":12.0,\"color\":\"rgb(150,150,150)\"},\"xanchor\":\"center\",\"yanchor\":\"top\"},{\"x\":0.05,\"y\":13,\"xref\":\"paper\",\"showarrow\":false,\"text\":\"Internet 13%\",\"font\":{\"family\":\"Arial\",\"size\":16.0},\"xanchor\":\"right\",\"yanchor\":\"middle\"},{\"x\":0.95,\"y\":50,\"xref\":\"paper\",\"showarrow\":false,\"text\":\"50%\",\"font\":{\"family\":\"Arial\",\"size\":16.0},\"xanchor\":\"left\",\"yanchor\":\"middle\"},{\"x\":0.0,\"y\":1.05,\"xref\":\"paper\",\"yref\":\"paper\",\"showarrow\":false,\"text\":\"Main Source for News\",\"font\":{\"family\":\"Arial\",\"size\":30.0,\"color\":\"rgb(37,37,37)\"},\"xanchor\":\"left\",\"yanchor\":\"bottom\"},{\"x\":0.5,\"y\":-0.1,\"xref\":\"paper\",\"yref\":\"paper\",\"showarrow\":false,\"text\":\"Source: PewResearch Center & Storytelling with data\",\"font\":{\"family\":\"Arial\",\"size\":12.0,\"color\":\"rgb(150,150,150)\"},\"xanchor\":\"center\",\"yanchor\":\"top\"},{\"x\":0.05,\"y\":18,\"xref\":\"paper\",\"showarrow\":false,\"text\":\"Radio 18%\",\"font\":{\"family\":\"Arial\",\"size\":16.0},\"xanchor\":\"right\",\"yanchor\":\"middle\"},{\"x\":0.95,\"y\":23,\"xref\":\"paper\",\"showarrow\":false,\"text\":\"23%\",\"font\":{\"family\":\"Arial\",\"size\":16.0},\"xanchor\":\"left\",\"yanchor\":\"middle\"},{\"x\":0.0,\"y\":1.05,\"xref\":\"paper\",\"yref\":\"paper\",\"showarrow\":false,\"text\":\"Main Source for News\",\"font\":{\"family\":\"Arial\",\"size\":30.0,\"color\":\"rgb(37,37,37)\"},\"xanchor\":\"left\",\"yanchor\":\"bottom\"},{\"x\":0.5,\"y\":-0.1,\"xref\":\"paper\",\"yref\":\"paper\",\"showarrow\":false,\"text\":\"Source: PewResearch Center & Storytelling with data\",\"font\":{\"family\":\"Arial\",\"size\":12.0,\"color\":\"rgb(150,150,150)\"},\"xanchor\":\"center\",\"yanchor\":\"top\"}]};\n",
       "            var config = {};\n",
       "            Plotly.newPlot('39c0edc6-c675-49ef-80b2-a92264aa416f', data, layout, config);\r\n",
       "});\n",
       "            };\n",
       "            if ((typeof(requirejs) !==  typeof(Function)) || (typeof(requirejs.config) !== typeof(Function))) {\n",
       "                var script = document.createElement(\"script\");\n",
       "                script.setAttribute(\"src\", \"https://cdnjs.cloudflare.com/ajax/libs/require.js/2.3.6/require.min.js\");\n",
       "                script.onload = function(){\n",
       "                    renderPlotly_39c0edc6c67549ef80b2a92264aa416f();\n",
       "                };\n",
       "                document.getElementsByTagName(\"head\")[0].appendChild(script);\n",
       "            }\n",
       "            else {\n",
       "                renderPlotly_39c0edc6c67549ef80b2a92264aa416f();\n",
       "            }\r\n",
       "</script>\r\n"
      ]
     },
     "metadata": {},
     "output_type": "display_data"
    }
   ],
   "metadata": {
    "dotnet_interactive": {
     "language": "fsharp"
    }
   }
  },
  {
   "cell_type": "markdown",
   "source": [
    "# Filled Lines"
   ],
   "metadata": {}
  },
  {
   "cell_type": "code",
   "execution_count": null,
   "source": [
    "let x = [1.; 2.; 3.; 4.; 5.; 6.; 7.; 8.; 9.; 10.]\r\n",
    "let x_rev = x |> Seq.rev\r\n",
    "\r\n",
    "// Line 1\r\n",
    "let y1 = [1.; 2.; 3.; 4.; 5.; 6.; 7.; 8.; 9.; 10.]\r\n",
    "let y1_upper = [2.; 3.; 4.; 5.; 6.; 7.; 8.; 9.; 10.; 11.]\r\n",
    "let y1_lower = [0.; 1.; 2.; 3.; 4.; 5.; 6.; 7.; 8.; 9.]|> Seq.rev\r\n",
    "\r\n",
    "// Line 2\r\n",
    "let y2 = [5.; 2.5; 5.; 7.5; 5.; 2.5; 7.5; 4.5; 5.5; 5.]\r\n",
    "let y2_upper = [5.5; 3.; 5.5; 8.; 6.; 3.; 8.; 5.; 6.; 5.5]\r\n",
    "let y2_lower = [4.5; 2.; 4.4; 7.; 4.; 2.; 7.; 4.; 5.; 4.75] |> Seq.rev\r\n",
    "\r\n",
    "// Line 3\r\n",
    "let y3 = [10.; 8.; 6.; 4.; 2.; 0.; 2.; 4.; 2.; 0.]\r\n",
    "let y3_upper = [11.; 9.; 7.; 5.; 3.; 1.; 3.; 5.; 3.; 1.]\r\n",
    "let y3_lower = [9.; 7.; 5.; 3.; 1.; -5.; 1.; 3.; 1.; -1.]|> Seq.rev\r\n",
    "\r\n",
    "\r\n",
    "[\r\n",
    "    Chart.Scatter((Seq.append x x_rev),\r\n",
    "                  (Seq.append y1_upper y1_lower),\r\n",
    "                  StyleParam.Mode.Lines,\r\n",
    "                   Showlegend=false,\r\n",
    "                   Name=\"Fair\") \r\n",
    "        |> Chart.withLineStyle(Color=\"rgba(255,255,255,0)\")\r\n",
    "        |> GenericChart.mapTrace(fun t->  \r\n",
    "                                        t?fill<-StyleParam.Fill.toString(StyleParam.Fill.ToSelf) //Workaround\r\n",
    "                                        t?fillcolor<-\"rgba(0,100,80,0.2)\"\r\n",
    "                                        t)\r\n",
    "\r\n",
    "    ;Chart.Scatter((Seq.append x x_rev),\r\n",
    "                  (Seq.append y2_upper y2_lower),\r\n",
    "                  StyleParam.Mode.Lines,\r\n",
    "                   Showlegend=false,\r\n",
    "                   Name=\"Premium\")\r\n",
    "        |> Chart.withLineStyle(Color=\"rgba(255,255,255,0)\")\r\n",
    "        |> GenericChart.mapTrace(fun t->  \r\n",
    "                                        t?fill<-StyleParam.Fill.toString(StyleParam.Fill.ToSelf) //Workaround\r\n",
    "                                        t?fillcolor<-\"rgba(0,176,246,0.2)\"\r\n",
    "                                        t)\r\n",
    "\r\n",
    "\r\n",
    "\r\n",
    "    ;Chart.Scatter((Seq.append x x_rev),\r\n",
    "                  (Seq.append y3_upper y3_lower),\r\n",
    "                  StyleParam.Mode.Lines,\r\n",
    "                   Showlegend=false,\r\n",
    "                   Name=\"Ideal\")\r\n",
    "        |> Chart.withLineStyle(Color=\"rgba(255,255,255,0)\")\r\n",
    "        |> GenericChart.mapTrace(fun t->  \r\n",
    "                                        t?fill<-StyleParam.Fill.toString(StyleParam.Fill.ToSelf) //Workaround\r\n",
    "                                        t?fillcolor<-\"rgba(231,107,243,0.2)\"\r\n",
    "                                        t)\r\n",
    "\r\n",
    "    ;Chart.Scatter(x,y1,StyleParam.Mode.Lines,Name=\"Fair\") \r\n",
    "        |> Chart.withLineStyle(Color=\"rgb(0,100,80)\")\r\n",
    "\r\n",
    "    ;Chart.Scatter(x,y2,StyleParam.Mode.Lines,Name=\"Premium\") \r\n",
    "        |> Chart.withLineStyle(Color=\"rgb(0,176,246)\")\r\n",
    "\r\n",
    "    ;Chart.Scatter(x,y3,StyleParam.Mode.Lines,Name=\"Ideal\") \r\n",
    "        |> Chart.withLineStyle(Color=\"rgb(231,107,243)\")\r\n",
    "\r\n",
    "] |> Chart.combine"
   ],
   "outputs": [
    {
     "data": {
      "text/html": [
       "<div id=\"dba0b1ba-cfb3-4265-8e07-1c9a2dd85636\" style=\"width: 600px; height: 600px;\"><!-- Plotly chart will be drawn inside this DIV --></div>\r\n",
       "<script type=\"text/javascript\">\r\n",
       "\n",
       "            var renderPlotly_dba0b1bacfb342658e071c9a2dd85636 = function() {\n",
       "            var fsharpPlotlyRequire = requirejs.config({context:'fsharp-plotly',paths:{plotly:'https://cdn.plot.ly/plotly-latest.min'}}) || require;\n",
       "            fsharpPlotlyRequire(['plotly'], function(Plotly) {\r\n",
       "\n",
       "            var data = [{\"type\":\"scatter\",\"x\":[1.0,2.0,3.0,4.0,5.0,6.0,7.0,8.0,9.0,10.0,10.0,9.0,8.0,7.0,6.0,5.0,4.0,3.0,2.0,1.0],\"y\":[2.0,3.0,4.0,5.0,6.0,7.0,8.0,9.0,10.0,11.0,9.0,8.0,7.0,6.0,5.0,4.0,3.0,2.0,1.0,0.0],\"mode\":\"lines\",\"name\":\"Fair\",\"showlegend\":false,\"line\":{\"color\":\"rgba(255,255,255,0)\"},\"marker\":{},\"fill\":\"toself\",\"fillcolor\":\"rgba(0,100,80,0.2)\"},{\"type\":\"scatter\",\"x\":[1.0,2.0,3.0,4.0,5.0,6.0,7.0,8.0,9.0,10.0,10.0,9.0,8.0,7.0,6.0,5.0,4.0,3.0,2.0,1.0],\"y\":[5.5,3.0,5.5,8.0,6.0,3.0,8.0,5.0,6.0,5.5,4.75,5.0,4.0,7.0,2.0,4.0,7.0,4.4,2.0,4.5],\"mode\":\"lines\",\"name\":\"Premium\",\"showlegend\":false,\"line\":{\"color\":\"rgba(255,255,255,0)\"},\"marker\":{},\"fill\":\"toself\",\"fillcolor\":\"rgba(0,176,246,0.2)\"},{\"type\":\"scatter\",\"x\":[1.0,2.0,3.0,4.0,5.0,6.0,7.0,8.0,9.0,10.0,10.0,9.0,8.0,7.0,6.0,5.0,4.0,3.0,2.0,1.0],\"y\":[11.0,9.0,7.0,5.0,3.0,1.0,3.0,5.0,3.0,1.0,-1.0,1.0,3.0,1.0,-5.0,1.0,3.0,5.0,7.0,9.0],\"mode\":\"lines\",\"name\":\"Ideal\",\"showlegend\":false,\"line\":{\"color\":\"rgba(255,255,255,0)\"},\"marker\":{},\"fill\":\"toself\",\"fillcolor\":\"rgba(231,107,243,0.2)\"},{\"type\":\"scatter\",\"x\":[1.0,2.0,3.0,4.0,5.0,6.0,7.0,8.0,9.0,10.0],\"y\":[1.0,2.0,3.0,4.0,5.0,6.0,7.0,8.0,9.0,10.0],\"mode\":\"lines\",\"name\":\"Fair\",\"line\":{\"color\":\"rgb(0,100,80)\"},\"marker\":{}},{\"type\":\"scatter\",\"x\":[1.0,2.0,3.0,4.0,5.0,6.0,7.0,8.0,9.0,10.0],\"y\":[5.0,2.5,5.0,7.5,5.0,2.5,7.5,4.5,5.5,5.0],\"mode\":\"lines\",\"name\":\"Premium\",\"line\":{\"color\":\"rgb(0,176,246)\"},\"marker\":{}},{\"type\":\"scatter\",\"x\":[1.0,2.0,3.0,4.0,5.0,6.0,7.0,8.0,9.0,10.0],\"y\":[10.0,8.0,6.0,4.0,2.0,0.0,2.0,4.0,2.0,0.0],\"mode\":\"lines\",\"name\":\"Ideal\",\"line\":{\"color\":\"rgb(231,107,243)\"},\"marker\":{}}];\n",
       "            var layout = {};\n",
       "            var config = {};\n",
       "            Plotly.newPlot('dba0b1ba-cfb3-4265-8e07-1c9a2dd85636', data, layout, config);\r\n",
       "});\n",
       "            };\n",
       "            if ((typeof(requirejs) !==  typeof(Function)) || (typeof(requirejs.config) !== typeof(Function))) {\n",
       "                var script = document.createElement(\"script\");\n",
       "                script.setAttribute(\"src\", \"https://cdnjs.cloudflare.com/ajax/libs/require.js/2.3.6/require.min.js\");\n",
       "                script.onload = function(){\n",
       "                    renderPlotly_dba0b1bacfb342658e071c9a2dd85636();\n",
       "                };\n",
       "                document.getElementsByTagName(\"head\")[0].appendChild(script);\n",
       "            }\n",
       "            else {\n",
       "                renderPlotly_dba0b1bacfb342658e071c9a2dd85636();\n",
       "            }\r\n",
       "</script>\r\n"
      ]
     },
     "metadata": {},
     "output_type": "display_data"
    }
   ],
   "metadata": {
    "dotnet_interactive": {
     "language": "fsharp"
    }
   }
  }
 ],
 "metadata": {
  "orig_nbformat": 4,
  "language_info": {
   "file_extension": ".cs",
   "mimetype": "text/x-csharp",
   "name": "C#",
   "pygments_lexer": "csharp",
   "version": "9.0"
  },
  "kernelspec": {
   "display_name": ".NET (C#)",
   "language": "C#",
   "name": ".net-csharp"
  }
 },
 "nbformat": 4,
 "nbformat_minor": 2
}