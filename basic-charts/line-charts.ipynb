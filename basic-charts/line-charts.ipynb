{
 "cells": [
  {
   "cell_type": "markdown",
   "source": [
    "# Line Charts in F#\r\n",
    "\r\n",
    "How to make line charts in F# with Plotly.NET. Examples on creating and styling line charts in F# with Plotly.NET."
   ],
   "metadata": {}
  },
  {
   "cell_type": "code",
   "execution_count": null,
   "source": [
    "#r \"nuget: Plotly.NET,  2.0.0-preview.8\"\r\n",
    "#r \"nuget: newtonsoft.json\"\r\n",
    "#r \"nuget: Plotly.NET.Interactive,  2.0.0-preview.8\"\r\n",
    "\r\n",
    "open Plotly.NET\r\n",
    "open System\r\n",
    "\r\n",
    "let random = System.Random();\r\n",
    "let nextFloat (min, max) = (random.NextDouble() * (max - min) + min);"
   ],
   "outputs": [
    {
     "data": {
      "text/html": [
       "<div><div></div><div></div><div><strong>Installed Packages</strong><ul><li><span>newtonsoft.json, 13.0.1</span></li><li><span>Plotly.NET, 2.0.0-preview.8</span></li><li><span>Plotly.NET.Interactive, 2.0.0-preview.8</span></li></ul></div></div>"
      ]
     },
     "metadata": {},
     "output_type": "display_data"
    },
    {
     "data": {
      "text/markdown": [
       "Loading extensions from `Plotly.NET.Interactive.dll`"
      ]
     },
     "metadata": {},
     "output_type": "display_data"
    },
    {
     "data": {
      "text/markdown": [
       "Added Kernel Extension including formatters for Plotly.NET charts."
      ]
     },
     "metadata": {},
     "output_type": "display_data"
    }
   ],
   "metadata": {
    "dotnet_interactive": {
     "language": "fsharp"
    }
   }
  },
  {
   "cell_type": "markdown",
   "source": [
    "# Sime Line Plot\r\n",
    "\r\n",
    "Line Plots can be rendered either by Chart.Scatter or Chart.Line "
   ],
   "metadata": {}
  },
  {
   "cell_type": "code",
   "execution_count": null,
   "source": [
    "let xs = [0.0 .. 9.0]\r\n",
    "let ys = xs |> Seq.map (fun x -> x ** 2.0)\r\n",
    "\r\n",
    "Chart.Scatter(xs, ys, StyleParam.Mode.Lines_Markers)"
   ],
   "outputs": [
    {
     "data": {
      "text/html": [
       "<div id=\"75b85bdc-fcdf-4110-8902-b56729f99e9a\" style=\"width: 600px; height: 600px;\"><!-- Plotly chart will be drawn inside this DIV --></div>\r\n",
       "<script type=\"text/javascript\">\r\n",
       "\n",
       "            var renderPlotly_75b85bdcfcdf41108902b56729f99e9a = function() {\n",
       "            var fsharpPlotlyRequire = requirejs.config({context:'fsharp-plotly',paths:{plotly:'https://cdn.plot.ly/plotly-latest.min'}}) || require;\n",
       "            fsharpPlotlyRequire(['plotly'], function(Plotly) {\r\n",
       "\n",
       "            var data = [{\"type\":\"scatter\",\"mode\":\"lines+markers\",\"x\":[0.0,1.0,2.0,3.0,4.0,5.0,6.0,7.0,8.0,9.0],\"y\":[0.0,1.0,4.0,9.0,16.0,25.0,36.0,49.0,64.0,81.0],\"line\":{},\"marker\":{}}];\n",
       "            var layout = {};\n",
       "            var config = {};\n",
       "            Plotly.newPlot('75b85bdc-fcdf-4110-8902-b56729f99e9a', data, layout, config);\r\n",
       "});\n",
       "            };\n",
       "            if ((typeof(requirejs) !==  typeof(Function)) || (typeof(requirejs.config) !== typeof(Function))) {\n",
       "                var script = document.createElement(\"script\");\n",
       "                script.setAttribute(\"src\", \"https://cdnjs.cloudflare.com/ajax/libs/require.js/2.3.6/require.min.js\");\n",
       "                script.onload = function(){\n",
       "                    renderPlotly_75b85bdcfcdf41108902b56729f99e9a();\n",
       "                };\n",
       "                document.getElementsByTagName(\"head\")[0].appendChild(script);\n",
       "            }\n",
       "            else {\n",
       "                renderPlotly_75b85bdcfcdf41108902b56729f99e9a();\n",
       "            }\r\n",
       "</script>\r\n"
      ]
     },
     "metadata": {},
     "output_type": "display_data"
    }
   ],
   "metadata": {
    "dotnet_interactive": {
     "language": "fsharp"
    }
   }
  },
  {
   "cell_type": "code",
   "execution_count": null,
   "source": [
    "open Plotly.NET\r\n",
    "\r\n",
    "let x = [1952; 1957; 1962; 1967; 1972; 1977; 1982; 1987; 1992; 1997; 2002; 2007]\r\n",
    "let y = [68.75; 69.96; 71.3; 72.13; 72.88; 74.21; 75.76; 76.86; 77.95; 78.61; 79.77; 80.653]\r\n",
    "\r\n",
    "Chart.Line(x, y)\r\n",
    "|> Chart.withXAxisStyle(\"year\")\r\n",
    "|> Chart.withYAxisStyle(\"lifeExp\")\r\n",
    "|> Chart.withTitle(\"Life expectancy in Canada\")\r\n",
    "|> Chart.withLineStyle(Width=2.0, Dash=StyleParam.DrawingStyle.Solid)"
   ],
   "outputs": [
    {
     "data": {
      "text/html": [
       "<div id=\"5651a398-f140-49c7-a5d9-21c292aa632c\" style=\"width: 600px; height: 600px;\"><!-- Plotly chart will be drawn inside this DIV --></div>\r\n",
       "<script type=\"text/javascript\">\r\n",
       "\n",
       "            var renderPlotly_5651a398f14049c7a5d921c292aa632c = function() {\n",
       "            var fsharpPlotlyRequire = requirejs.config({context:'fsharp-plotly',paths:{plotly:'https://cdn.plot.ly/plotly-latest.min'}}) || require;\n",
       "            fsharpPlotlyRequire(['plotly'], function(Plotly) {\r\n",
       "\n",
       "            var data = [{\"type\":\"scatter\",\"mode\":\"lines\",\"x\":[1952,1957,1962,1967,1972,1977,1982,1987,1992,1997,2002,2007],\"y\":[68.75,69.96,71.3,72.13,72.88,74.21,75.76,76.86,77.95,78.61,79.77,80.653],\"line\":{\"width\":2.0,\"dash\":\"solid\"},\"marker\":{}}];\n",
       "            var layout = {\"xaxis\":{\"title\":{\"text\":\"year\"}},\"yaxis\":{\"title\":{\"text\":\"lifeExp\"}},\"title\":{\"text\":\"Life expectancy in Canada\"}};\n",
       "            var config = {};\n",
       "            Plotly.newPlot('5651a398-f140-49c7-a5d9-21c292aa632c', data, layout, config);\r\n",
       "});\n",
       "            };\n",
       "            if ((typeof(requirejs) !==  typeof(Function)) || (typeof(requirejs.config) !== typeof(Function))) {\n",
       "                var script = document.createElement(\"script\");\n",
       "                script.setAttribute(\"src\", \"https://cdnjs.cloudflare.com/ajax/libs/require.js/2.3.6/require.min.js\");\n",
       "                script.onload = function(){\n",
       "                    renderPlotly_5651a398f14049c7a5d921c292aa632c();\n",
       "                };\n",
       "                document.getElementsByTagName(\"head\")[0].appendChild(script);\n",
       "            }\n",
       "            else {\n",
       "                renderPlotly_5651a398f14049c7a5d921c292aa632c();\n",
       "            }\r\n",
       "</script>\r\n"
      ]
     },
     "metadata": {},
     "output_type": "display_data"
    }
   ],
   "metadata": {
    "dotnet_interactive": {
     "language": "fsharp"
    }
   }
  },
  {
   "cell_type": "markdown",
   "source": [
    "# MultiLine Chart"
   ],
   "metadata": {}
  },
  {
   "cell_type": "code",
   "execution_count": null,
   "source": [
    "open Plotly.NET\r\n",
    "\r\n",
    "let x  = [1952; 1957; 1962; 1967; 1972; 1977; 1982; 1987; 1992; 1997; 2002; 2007]\r\n",
    "\r\n",
    "// Australia\r\n",
    "let y1 = [69.12; 70.30; 70.93; 71.1; 71.93; 73.49; 74.74; 76.32; 77.56; 78.3; 80.37; 81.235]\r\n",
    "// New Zealand\r\n",
    "let y2 = [69.39; 70.26; 71.24; 71.52; 71.89; 72.22; 73.84; 74.32; 76.33; 77.55; 79.11; 80.204]\r\n",
    "\r\n",
    "[\r\n",
    "        Chart.Line(x, y1)\r\n",
    "        |> Chart.withTraceName(Name=\"Australia\")\r\n",
    "        |> Chart.withLineStyle(Width=2.0, Dash=StyleParam.DrawingStyle.Solid)\r\n",
    "\r\n",
    "        Chart.Line(x, y2)\r\n",
    "        |> Chart.withTraceName(Name=\"New Zealand\")\r\n",
    "        |> Chart.withLineStyle(Width=2.0, Dash=StyleParam.DrawingStyle.Solid) \r\n",
    "] \r\n",
    "|> Chart.combine\r\n",
    "|> Chart.withXAxisStyle(\"year\")\r\n",
    "|> Chart.withYAxisStyle(\"lifeExp\")"
   ],
   "outputs": [
    {
     "data": {
      "text/html": [
       "<div id=\"fac1b73b-50fe-4fa5-89ee-895e926435b6\" style=\"width: 600px; height: 600px;\"><!-- Plotly chart will be drawn inside this DIV --></div>\r\n",
       "<script type=\"text/javascript\">\r\n",
       "\n",
       "            var renderPlotly_fac1b73b50fe4fa589ee895e926435b6 = function() {\n",
       "            var fsharpPlotlyRequire = requirejs.config({context:'fsharp-plotly',paths:{plotly:'https://cdn.plot.ly/plotly-latest.min'}}) || require;\n",
       "            fsharpPlotlyRequire(['plotly'], function(Plotly) {\r\n",
       "\n",
       "            var data = [{\"type\":\"scatter\",\"mode\":\"lines\",\"x\":[1952,1957,1962,1967,1972,1977,1982,1987,1992,1997,2002,2007],\"y\":[69.12,70.3,70.93,71.1,71.93,73.49,74.74,76.32,77.56,78.3,80.37,81.235],\"line\":{\"width\":2.0,\"dash\":\"solid\"},\"marker\":{},\"name\":\"Australia\"},{\"type\":\"scatter\",\"mode\":\"lines\",\"x\":[1952,1957,1962,1967,1972,1977,1982,1987,1992,1997,2002,2007],\"y\":[69.39,70.26,71.24,71.52,71.89,72.22,73.84,74.32,76.33,77.55,79.11,80.204],\"line\":{\"width\":2.0,\"dash\":\"solid\"},\"marker\":{},\"name\":\"New Zealand\"}];\n",
       "            var layout = {\"xaxis\":{\"title\":{\"text\":\"year\"}},\"yaxis\":{\"title\":{\"text\":\"lifeExp\"}}};\n",
       "            var config = {};\n",
       "            Plotly.newPlot('fac1b73b-50fe-4fa5-89ee-895e926435b6', data, layout, config);\r\n",
       "});\n",
       "            };\n",
       "            if ((typeof(requirejs) !==  typeof(Function)) || (typeof(requirejs.config) !== typeof(Function))) {\n",
       "                var script = document.createElement(\"script\");\n",
       "                script.setAttribute(\"src\", \"https://cdnjs.cloudflare.com/ajax/libs/require.js/2.3.6/require.min.js\");\n",
       "                script.onload = function(){\n",
       "                    renderPlotly_fac1b73b50fe4fa589ee895e926435b6();\n",
       "                };\n",
       "                document.getElementsByTagName(\"head\")[0].appendChild(script);\n",
       "            }\n",
       "            else {\n",
       "                renderPlotly_fac1b73b50fe4fa589ee895e926435b6();\n",
       "            }\r\n",
       "</script>\r\n"
      ]
     },
     "metadata": {},
     "output_type": "display_data"
    }
   ],
   "metadata": {
    "dotnet_interactive": {
     "language": "fsharp"
    }
   }
  },
  {
   "cell_type": "markdown",
   "source": [
    "# Data Order in Line Charts\r\n",
    "\r\n",
    "Plotly line charts are implemented as connected scatterplots (see below), meaning that the points are plotted and connected with lines in the order they are provided, with no automatic reordering.\r\n",
    "\r\n",
    "This makes it possible to make charts like the one below, but also means that it may be required to explicitly sort data before passing it to Plotly.NET to avoid lines moving \"backwards\" across the chart."
   ],
   "metadata": {}
  },
  {
   "cell_type": "code",
   "execution_count": null,
   "source": [
    "open Plotly.NET\r\n",
    "\r\n",
    "let x  = [1.0; 3.0; 2.0; 4.0]\r\n",
    "let y = [1.0; 2.0; 3.0; 4.0]\r\n",
    "\r\n",
    "// How to align title to the left\r\n",
    "Chart.Line(x, y)\r\n",
    "|> Chart.withTitle(\"Unsorted Input\")\r\n",
    "|> Chart.withXAxisStyle(\"X\")\r\n",
    "|> Chart.withYAxisStyle(\"Y\")\r\n",
    "|> Chart.withLineStyle(Width=2.0, Dash=StyleParam.DrawingStyle.Solid)"
   ],
   "outputs": [
    {
     "data": {
      "text/html": [
       "<div id=\"b5a0bebd-a8c7-4145-89c5-ff5b96aa2630\" style=\"width: 600px; height: 600px;\"><!-- Plotly chart will be drawn inside this DIV --></div>\r\n",
       "<script type=\"text/javascript\">\r\n",
       "\n",
       "            var renderPlotly_b5a0bebda8c7414589c5ff5b96aa2630 = function() {\n",
       "            var fsharpPlotlyRequire = requirejs.config({context:'fsharp-plotly',paths:{plotly:'https://cdn.plot.ly/plotly-latest.min'}}) || require;\n",
       "            fsharpPlotlyRequire(['plotly'], function(Plotly) {\r\n",
       "\n",
       "            var data = [{\"type\":\"scatter\",\"mode\":\"lines\",\"x\":[1.0,3.0,2.0,4.0],\"y\":[1.0,2.0,3.0,4.0],\"line\":{\"width\":2.0,\"dash\":\"solid\"},\"marker\":{}}];\n",
       "            var layout = {\"title\":{\"text\":\"Unsorted Input\"},\"xaxis\":{\"title\":{\"text\":\"X\"}},\"yaxis\":{\"title\":{\"text\":\"Y\"}}};\n",
       "            var config = {};\n",
       "            Plotly.newPlot('b5a0bebd-a8c7-4145-89c5-ff5b96aa2630', data, layout, config);\r\n",
       "});\n",
       "            };\n",
       "            if ((typeof(requirejs) !==  typeof(Function)) || (typeof(requirejs.config) !== typeof(Function))) {\n",
       "                var script = document.createElement(\"script\");\n",
       "                script.setAttribute(\"src\", \"https://cdnjs.cloudflare.com/ajax/libs/require.js/2.3.6/require.min.js\");\n",
       "                script.onload = function(){\n",
       "                    renderPlotly_b5a0bebda8c7414589c5ff5b96aa2630();\n",
       "                };\n",
       "                document.getElementsByTagName(\"head\")[0].appendChild(script);\n",
       "            }\n",
       "            else {\n",
       "                renderPlotly_b5a0bebda8c7414589c5ff5b96aa2630();\n",
       "            }\r\n",
       "</script>\r\n"
      ]
     },
     "metadata": {},
     "output_type": "display_data"
    }
   ],
   "metadata": {
    "dotnet_interactive": {
     "language": "fsharp"
    }
   }
  },
  {
   "cell_type": "code",
   "execution_count": null,
   "source": [
    "open Plotly.NET\r\n",
    "\r\n",
    "let y = [1.0; 3.0; 2.0; 4.0]\r\n",
    "let x = Seq.sort x\r\n",
    "\r\n",
    "// How to align title to the left\r\n",
    "Chart.Line(x, y)\r\n",
    "|> Chart.withTitle(\"Sorted Input\")\r\n",
    "|> Chart.withXAxisStyle(\"X\")\r\n",
    "|> Chart.withYAxisStyle(\"Y\")\r\n",
    "|> Chart.withLineStyle(Width=2.0, Dash=StyleParam.DrawingStyle.Solid) "
   ],
   "outputs": [
    {
     "data": {
      "text/html": [
       "<div id=\"969faa48-8dbb-4a3b-b160-94bd8dfb392f\" style=\"width: 600px; height: 600px;\"><!-- Plotly chart will be drawn inside this DIV --></div>\r\n",
       "<script type=\"text/javascript\">\r\n",
       "\n",
       "            var renderPlotly_969faa488dbb4a3bb16094bd8dfb392f = function() {\n",
       "            var fsharpPlotlyRequire = requirejs.config({context:'fsharp-plotly',paths:{plotly:'https://cdn.plot.ly/plotly-latest.min'}}) || require;\n",
       "            fsharpPlotlyRequire(['plotly'], function(Plotly) {\r\n",
       "\n",
       "            var data = [{\"type\":\"scatter\",\"mode\":\"lines\",\"x\":[1.0,2.0,3.0,4.0],\"y\":[1.0,3.0,2.0,4.0],\"line\":{\"width\":2.0,\"dash\":\"solid\"},\"marker\":{}}];\n",
       "            var layout = {\"title\":{\"text\":\"Sorted Input\"},\"xaxis\":{\"title\":{\"text\":\"X\"}},\"yaxis\":{\"title\":{\"text\":\"Y\"}}};\n",
       "            var config = {};\n",
       "            Plotly.newPlot('969faa48-8dbb-4a3b-b160-94bd8dfb392f', data, layout, config);\r\n",
       "});\n",
       "            };\n",
       "            if ((typeof(requirejs) !==  typeof(Function)) || (typeof(requirejs.config) !== typeof(Function))) {\n",
       "                var script = document.createElement(\"script\");\n",
       "                script.setAttribute(\"src\", \"https://cdnjs.cloudflare.com/ajax/libs/require.js/2.3.6/require.min.js\");\n",
       "                script.onload = function(){\n",
       "                    renderPlotly_969faa488dbb4a3bb16094bd8dfb392f();\n",
       "                };\n",
       "                document.getElementsByTagName(\"head\")[0].appendChild(script);\n",
       "            }\n",
       "            else {\n",
       "                renderPlotly_969faa488dbb4a3bb16094bd8dfb392f();\n",
       "            }\r\n",
       "</script>\r\n"
      ]
     },
     "metadata": {},
     "output_type": "display_data"
    }
   ],
   "metadata": {
    "dotnet_interactive": {
     "language": "fsharp"
    }
   }
  },
  {
   "cell_type": "markdown",
   "source": [
    "# Connected Scatterplots\r\n",
    "\r\n",
    "In a connected scatterplot, two continuous variables are plotted against each other, with a line connecting them in some meaningful order, usually a time variable. In the plot below, we show the \"trajectory\" of a pair of countries through a space defined by GDP per Capita and Life Expectancy. "
   ],
   "metadata": {}
  },
  {
   "cell_type": "code",
   "execution_count": null,
   "source": [
    "open Plotly.NET\r\n",
    "\r\n",
    "let labels = [\"1952\"; \"1957\"; \"1962\"; \"1967\"; \"1972\"; \"1977\"; \"1982\"; \"1987\"; \"1992\"; \"1997\"; \"2002\"; \"2007\"]\r\n",
    "\r\n",
    "// Botswana\r\n",
    "let x1 = [47.622; 49.618; 51.52; 53.298; 56.024; 59.319; 61.484; 63.622; 62.745; 52.556; 46.634; 50.728]\r\n",
    "let y1 = [851.2411; 918.2325; 983.654; 1214.709; 2263.611; 3214.858; 4551.142; 6205.884; 7954.112; 8647.142; 11003.61; 12569.85]\r\n",
    "// Canada\r\n",
    "let x2 = [68.75; 69.96; 71.3; 72.13; 72.88; 74.21; 75.76; 76.86; 77.95; 78.61; 79.77; 80.653]\r\n",
    "let y2 = [11367.86; 12489.95; 13462.49; 16076.59; 18970.57; 22090.88; 22898.79; 26626.52; 26342.88; 28954.93; 33328.97; 36319.24]\r\n",
    "\r\n",
    "[\r\n",
    "        Chart.Line(\r\n",
    "                x1, y1,\r\n",
    "                Name=\"Botswana\",\r\n",
    "                Labels=labels,\r\n",
    "                TextPosition=StyleParam.TextPosition.BottomRight,\r\n",
    "                ShowMarkers=true,\r\n",
    "                MarkerSymbol=StyleParam.Symbol.Circle\r\n",
    "        )\r\n",
    "\r\n",
    "\r\n",
    "        Chart.Line(\r\n",
    "                x2, y2,\r\n",
    "                Name=\"Canada\",\r\n",
    "                Labels=labels,\r\n",
    "                TextPosition=StyleParam.TextPosition.BottomRight,\r\n",
    "                ShowMarkers=true,\r\n",
    "                MarkerSymbol=StyleParam.Symbol.Circle\r\n",
    "        )\r\n",
    "]\r\n",
    "|> Chart.combine\r\n",
    "|> Chart.withXAxisStyle(\"lifeExp\")\r\n",
    "|> Chart.withYAxisStyle(\"gdpPercap\")"
   ],
   "outputs": [
    {
     "data": {
      "text/html": [
       "<div id=\"8f369948-1a7a-4f43-9ad3-3435f9e2017d\" style=\"width: 600px; height: 600px;\"><!-- Plotly chart will be drawn inside this DIV --></div>\r\n",
       "<script type=\"text/javascript\">\r\n",
       "\n",
       "            var renderPlotly_8f3699481a7a4f439ad33435f9e2017d = function() {\n",
       "            var fsharpPlotlyRequire = requirejs.config({context:'fsharp-plotly',paths:{plotly:'https://cdn.plot.ly/plotly-latest.min'}}) || require;\n",
       "            fsharpPlotlyRequire(['plotly'], function(Plotly) {\r\n",
       "\n",
       "            var data = [{\"type\":\"scatter\",\"mode\":\"lines+markers+text\",\"x\":[47.622,49.618,51.52,53.298,56.024,59.319,61.484,63.622,62.745,52.556,46.634,50.728],\"y\":[851.2411,918.2325,983.654,1214.709,2263.611,3214.858,4551.142,6205.884,7954.112,8647.142,11003.61,12569.85],\"line\":{},\"name\":\"Botswana\",\"marker\":{\"symbol\":0},\"text\":[\"1952\",\"1957\",\"1962\",\"1967\",\"1972\",\"1977\",\"1982\",\"1987\",\"1992\",\"1997\",\"2002\",\"2007\"],\"textposition\":\"bottom right\"},{\"type\":\"scatter\",\"mode\":\"lines+markers+text\",\"x\":[68.75,69.96,71.3,72.13,72.88,74.21,75.76,76.86,77.95,78.61,79.77,80.653],\"y\":[11367.86,12489.95,13462.49,16076.59,18970.57,22090.88,22898.79,26626.52,26342.88,28954.93,33328.97,36319.24],\"line\":{},\"name\":\"Canada\",\"marker\":{\"symbol\":0},\"text\":[\"1952\",\"1957\",\"1962\",\"1967\",\"1972\",\"1977\",\"1982\",\"1987\",\"1992\",\"1997\",\"2002\",\"2007\"],\"textposition\":\"bottom right\"}];\n",
       "            var layout = {\"xaxis\":{\"title\":{\"text\":\"lifeExp\"}},\"yaxis\":{\"title\":{\"text\":\"gdpPercap\"}}};\n",
       "            var config = {};\n",
       "            Plotly.newPlot('8f369948-1a7a-4f43-9ad3-3435f9e2017d', data, layout, config);\r\n",
       "});\n",
       "            };\n",
       "            if ((typeof(requirejs) !==  typeof(Function)) || (typeof(requirejs.config) !== typeof(Function))) {\n",
       "                var script = document.createElement(\"script\");\n",
       "                script.setAttribute(\"src\", \"https://cdnjs.cloudflare.com/ajax/libs/require.js/2.3.6/require.min.js\");\n",
       "                script.onload = function(){\n",
       "                    renderPlotly_8f3699481a7a4f439ad33435f9e2017d();\n",
       "                };\n",
       "                document.getElementsByTagName(\"head\")[0].appendChild(script);\n",
       "            }\n",
       "            else {\n",
       "                renderPlotly_8f3699481a7a4f439ad33435f9e2017d();\n",
       "            }\r\n",
       "</script>\r\n"
      ]
     },
     "metadata": {},
     "output_type": "display_data"
    }
   ],
   "metadata": {
    "dotnet_interactive": {
     "language": "fsharp"
    }
   }
  },
  {
   "cell_type": "markdown",
   "source": [
    "# Line charts with markers\r\n",
    "\r\n",
    "The ShowMarkers argument can be set to True to show markers on lines.\r\n",
    "The MarkerSymbol sets the type of Marker like StyleParam.Symbol.Circle or StyleParam.Symbol.Diamond"
   ],
   "metadata": {}
  },
  {
   "cell_type": "code",
   "execution_count": null,
   "source": [
    "open Plotly.NET\r\n",
    "\r\n",
    "let x  = [1952; 1957; 1962; 1967; 1972; 1977; 1982; 1987; 1992; 1997; 2002; 2007]\r\n",
    "\r\n",
    "// Australia\r\n",
    "let y1 = [69.12; 70.30; 70.93; 71.1; 71.93; 73.49; 74.74; 76.32; 77.56; 78.3; 80.37; 81.235]\r\n",
    "// New Zealand\r\n",
    "let y2 = [69.39; 70.26; 71.24; 71.52; 71.89; 72.22; 73.84; 74.32; 76.33; 77.55; 79.11; 80.204]\r\n",
    "\r\n",
    "[\r\n",
    "        Chart.Line(x, y1, ShowMarkers=true, MarkerSymbol=StyleParam.Symbol.Circle)\r\n",
    "        |> Chart.withTraceName(Name=\"Australia\")\r\n",
    "        |> Chart.withLineStyle(Width=2.0, Dash=StyleParam.DrawingStyle.Solid)\r\n",
    "\r\n",
    "        Chart.Line(x, y2, ShowMarkers=true, MarkerSymbol=StyleParam.Symbol.Diamond)\r\n",
    "        |> Chart.withTraceName(Name=\"New Zealand\")\r\n",
    "        |> Chart.withLineStyle(Width=2.0, Dash=StyleParam.DrawingStyle.Solid) \r\n",
    "] \r\n",
    "|> Chart.combine\r\n",
    "|> Chart.withXAxisStyle(\"year\")\r\n",
    "|> Chart.withYAxisStyle(\"lifeExp\")"
   ],
   "outputs": [
    {
     "data": {
      "text/html": [
       "<div id=\"21f64f81-2a9e-4c8e-ac3c-636305d8f431\" style=\"width: 600px; height: 600px;\"><!-- Plotly chart will be drawn inside this DIV --></div>\r\n",
       "<script type=\"text/javascript\">\r\n",
       "\n",
       "            var renderPlotly_21f64f812a9e4c8eac3c636305d8f431 = function() {\n",
       "            var fsharpPlotlyRequire = requirejs.config({context:'fsharp-plotly',paths:{plotly:'https://cdn.plot.ly/plotly-latest.min'}}) || require;\n",
       "            fsharpPlotlyRequire(['plotly'], function(Plotly) {\r\n",
       "\n",
       "            var data = [{\"type\":\"scatter\",\"mode\":\"lines+markers\",\"x\":[1952,1957,1962,1967,1972,1977,1982,1987,1992,1997,2002,2007],\"y\":[69.12,70.3,70.93,71.1,71.93,73.49,74.74,76.32,77.56,78.3,80.37,81.235],\"line\":{\"width\":2.0,\"dash\":\"solid\"},\"marker\":{\"symbol\":0},\"name\":\"Australia\"},{\"type\":\"scatter\",\"mode\":\"lines+markers\",\"x\":[1952,1957,1962,1967,1972,1977,1982,1987,1992,1997,2002,2007],\"y\":[69.39,70.26,71.24,71.52,71.89,72.22,73.84,74.32,76.33,77.55,79.11,80.204],\"line\":{\"width\":2.0,\"dash\":\"solid\"},\"marker\":{\"symbol\":2},\"name\":\"New Zealand\"}];\n",
       "            var layout = {\"xaxis\":{\"title\":{\"text\":\"year\"}},\"yaxis\":{\"title\":{\"text\":\"lifeExp\"}}};\n",
       "            var config = {};\n",
       "            Plotly.newPlot('21f64f81-2a9e-4c8e-ac3c-636305d8f431', data, layout, config);\r\n",
       "});\n",
       "            };\n",
       "            if ((typeof(requirejs) !==  typeof(Function)) || (typeof(requirejs.config) !== typeof(Function))) {\n",
       "                var script = document.createElement(\"script\");\n",
       "                script.setAttribute(\"src\", \"https://cdnjs.cloudflare.com/ajax/libs/require.js/2.3.6/require.min.js\");\n",
       "                script.onload = function(){\n",
       "                    renderPlotly_21f64f812a9e4c8eac3c636305d8f431();\n",
       "                };\n",
       "                document.getElementsByTagName(\"head\")[0].appendChild(script);\n",
       "            }\n",
       "            else {\n",
       "                renderPlotly_21f64f812a9e4c8eac3c636305d8f431();\n",
       "            }\r\n",
       "</script>\r\n"
      ]
     },
     "metadata": {},
     "output_type": "display_data"
    }
   ],
   "metadata": {
    "dotnet_interactive": {
     "language": "fsharp"
    }
   }
  },
  {
   "cell_type": "markdown",
   "source": [
    "# Line Plot Modes"
   ],
   "metadata": {}
  },
  {
   "cell_type": "code",
   "execution_count": null,
   "source": [
    "let n = 100\r\n",
    "let series = [0..n]\r\n",
    "\r\n",
    "let generate () = series |> Seq.map (fun _-> nextFloat(-2.0, 2.0))\r\n",
    "\r\n",
    "let random_xs = series\r\n",
    "\r\n",
    "let random_ys0 = generate () |> Seq.map(fun x -> x + 5.0)\r\n",
    "let random_ys1 = generate ()\r\n",
    "let random_ys2 = generate () |> Seq.map(fun x -> x - 5.0)\r\n",
    "\r\n",
    "// Create traces\r\n",
    "[\r\n",
    "    Chart.Scatter(random_xs, random_ys0, StyleParam.Mode.Lines)\r\n",
    "    |> Chart.withTraceName(Name=\"lines\")\r\n",
    "\r\n",
    "    Chart.Scatter(random_xs, random_ys1, StyleParam.Mode.Lines_Markers)\r\n",
    "    |> Chart.withTraceName(Name=\"lines+markers\")\r\n",
    "\r\n",
    "    Chart.Scatter(random_xs, random_ys2, StyleParam.Mode.Markers)\r\n",
    "    |> Chart.withTraceName(Name=\"markers\")\r\n",
    "]\r\n",
    "|> Chart.combine\r\n",
    "|> Chart.withSize(1100.,700.)"
   ],
   "outputs": [
    {
     "data": {
      "text/html": [
       "<div id=\"9252b814-bc89-45b5-957c-782214a66a29\" style=\"width: 600px; height: 600px;\"><!-- Plotly chart will be drawn inside this DIV --></div>\r\n",
       "<script type=\"text/javascript\">\r\n",
       "\n",
       "            var renderPlotly_9252b814bc8945b5957c782214a66a29 = function() {\n",
       "            var fsharpPlotlyRequire = requirejs.config({context:'fsharp-plotly',paths:{plotly:'https://cdn.plot.ly/plotly-latest.min'}}) || require;\n",
       "            fsharpPlotlyRequire(['plotly'], function(Plotly) {\r\n",
       "\n",
       "            var data = [{\"type\":\"scatter\",\"mode\":\"lines\",\"x\":[0,1,2,3,4,5,6,7,8,9,10,11,12,13,14,15,16,17,18,19,20,21,22,23,24,25,26,27,28,29,30,31,32,33,34,35,36,37,38,39,40,41,42,43,44,45,46,47,48,49,50,51,52,53,54,55,56,57,58,59,60,61,62,63,64,65,66,67,68,69,70,71,72,73,74,75,76,77,78,79,80,81,82,83,84,85,86,87,88,89,90,91,92,93,94,95,96,97,98,99,100],\"y\":[4.625712868583255,4.240006246250125,4.101501429966419,3.0093170851512427,5.9104477162055895,5.945389423028281,4.458192967557438,5.724568694236021,6.385265541907989,4.419261743044137,3.9593371101465715,6.293141893713336,4.001998780761845,6.879670090917344,3.331240654145945,6.762751020380645,5.635636373719031,4.108907567853531,4.349142239125977,4.409823110983624,3.645440623464734,4.844681958595608,5.995395410338135,3.643562339545955,4.886851997062029,5.208893266603766,3.694947954590874,6.261579380958145,5.550134594808395,3.9101697173482597,4.4191971465103315,6.497818205271763,5.736835874028893,3.319403652250489,5.1213662652863965,4.229999360269867,3.235524304320814,6.7868473975857935,6.743306428074513,6.055450235984964,4.304641217600853,6.790288634500601,5.007954471748301,5.3806310754179165,3.608211407721141,3.3909751793327625,4.263107101089837,5.277819293680517,6.134251962944051,4.965285404569137,6.805431431068774,6.520449321493716,4.899665486952134,4.596915292365903,3.1380933467941796,6.7810309099876465,5.24461083591199,3.4579390904204637,5.122465088089213,3.7015544496018227,5.250441468437408,5.196613586599293,3.1744340994276268,5.475095824559729,3.0000645965338055,4.461518904874809,3.5563060196844423,3.682595128511356,4.758303825630948,6.101241293876079,6.527226716059831,5.848788976133237,4.365601139779017,5.293692003141014,3.1051818933827717,3.855151988964133,6.836727486847307,3.6147643349202183,3.035350931824814,4.4958768177292665,3.94578616551393,5.4171286609103575,3.1273274180140938,3.5848491902392587,4.104738286279486,4.898747825016616,4.5981527183196285,4.139920581662991,3.18131030545631,5.34033535529875,5.985388524357877,6.77758521390035,4.664382309496581,6.041751978472691,3.8050087675475557,6.10802763100156,6.615854535072974,6.532858647188572,5.380566478884111,6.146692502846332,6.83466915964832],\"line\":{},\"marker\":{},\"name\":\"lines\"},{\"type\":\"scatter\",\"mode\":\"lines+markers\",\"x\":[0,1,2,3,4,5,6,7,8,9,10,11,12,13,14,15,16,17,18,19,20,21,22,23,24,25,26,27,28,29,30,31,32,33,34,35,36,37,38,39,40,41,42,43,44,45,46,47,48,49,50,51,52,53,54,55,56,57,58,59,60,61,62,63,64,65,66,67,68,69,70,71,72,73,74,75,76,77,78,79,80,81,82,83,84,85,86,87,88,89,90,91,92,93,94,95,96,97,98,99,100],\"y\":[-1.4194880274215191,-1.4804845319504312,-1.9669893309320274,0.4380586885093054,-1.0433575450644632,0.15484818171469872,1.6059734838111202,-0.508266601016869,1.2829413578300466,1.9443034231403393,-0.3701534990082278,-1.5774118414043503,-1.3734117296400534,1.7557682840878925,1.8333128075270508,0.06928616858519909,1.589584909188368,-0.6296424617197562,0.10131677151718943,1.8633661865551798,1.416385438021452,-1.498715176944954,1.4179684703321982,-1.8841472304817974,1.7496415021594807,-0.8155933333633436,0.3238491613063257,-0.5113167644065417,-1.002845737618788,-0.7607025461088412,-1.6961311603412643,0.23419785603610688,-1.1113415710215184,-0.3387923419190535,-1.6347258070645507,-0.10238680713921178,-1.9056832510538786,0.14679050172995334,-1.8519041686560511,1.743899643301917,-0.007820765491491466,1.6481871826798598,-1.1016310523737367,0.3960319321584107,-0.644457976633896,1.3549970553047008,-0.9622059608633657,1.2859836943847984,-1.0283040399794952,-0.9612585375836391,-1.9737303741153938,0.16250110890832792,-1.7207502926330782,1.2833263162911526,-1.5817162783731318,-1.9207728504765653,-0.8984530022826294,1.9171578995497702,0.6884171863498247,1.7722357882988806,1.830999020408373,0.1172902482176621,-1.505420863398081,0.04364390393888762,1.6404345834816034,1.3956486449556653,1.5339297296171681,0.9653806122790001,1.3904940911524437,-0.06430038533373761,-0.025030580360922317,-0.5572055925415855,-0.7777382930637049,0.3574171282152725,-0.1288130479533287,1.7681982553415923,1.6029158754287827,-0.9780634618262125,0.7603107461520988,-1.6053555531452202,-1.8533873724999779,1.0378654669215277,-1.4830127244270466,1.9584127999648513,-0.7869721719934475,0.14136773075040798,-0.04505185133081491,-0.3946678873126712,-0.7570760635459219,-1.7139529565879856,-1.2039338048565824,-1.8228411506036488,1.4583733153801286,-1.6241399569549317,1.9129006228935443,1.8748889862908467,1.1536080460779408,0.8547250436873757,0.7555973486768068,-0.04010662158956135,1.8210673256875327],\"line\":{},\"marker\":{},\"name\":\"lines+markers\"},{\"type\":\"scatter\",\"mode\":\"markers\",\"x\":[0,1,2,3,4,5,6,7,8,9,10,11,12,13,14,15,16,17,18,19,20,21,22,23,24,25,26,27,28,29,30,31,32,33,34,35,36,37,38,39,40,41,42,43,44,45,46,47,48,49,50,51,52,53,54,55,56,57,58,59,60,61,62,63,64,65,66,67,68,69,70,71,72,73,74,75,76,77,78,79,80,81,82,83,84,85,86,87,88,89,90,91,92,93,94,95,96,97,98,99,100],\"y\":[-4.927586573142365,-3.1045103967676453,-3.9640036546457575,-3.936227957222717,-4.416524781573808,-6.059760598027967,-5.0781674208483505,-5.5878606357555185,-6.349914533714724,-6.523688725905348,-6.920389540456417,-5.843152846602329,-4.706227260504955,-3.3743768392011417,-6.206866446513155,-5.399697027355291,-6.463833663362932,-6.169383924067665,-5.500933147268804,-5.55929950371352,-5.071402383070161,-5.277543324175078,-3.8955529522595707,-5.860366580477155,-5.202189429757274,-5.015578907921714,-6.153598336108773,-4.555483494678272,-5.003702034244175,-6.3854097907363485,-6.251809168258593,-4.73366081050302,-6.19958263225834,-6.426422878832753,-4.925800799357612,-3.857624136310827,-5.519009069781289,-6.1053592428124315,-4.370447390419639,-5.798871671221625,-6.966884430482464,-6.806807251557153,-6.407161529831198,-3.190264230682638,-6.283544264400166,-3.9796883040013205,-5.835399424114916,-6.2497631177537905,-3.880232930593301,-4.725413986353862,-4.3825582905591265,-4.975891032244959,-5.743469504054389,-6.480807117876042,-5.107530291242306,-6.650043248967288,-6.208957444508075,-5.103637074168603,-5.734038527465444,-6.400945873652094,-6.906162261919194,-3.522683926170079,-3.584158601511344,-6.9645047429783755,-3.2718795576467548,-5.186728729953398,-6.643570214343988,-5.279804381672202,-5.4485760398435295,-5.349242310202328,-6.880687957574002,-3.3584744205505004,-4.798936533648026,-6.702061476047179,-5.592415073231056,-5.264595131513008,-5.8703817943438805,-3.7052887215769332,-6.576822316076989,-4.222501125755953,-6.180179483806798,-6.903835218354983,-3.675250564084971,-3.278288047890313,-5.002851500177221,-4.275918136013633,-5.990191306448631,-6.718775514382299,-4.318892587590447,-5.275757550390324,-4.648666691802752,-3.4153719956126865,-3.3713207153469886,-4.969501516767545,-5.892709409302431,-6.444200504312385,-6.222648650045809,-6.442656786852822,-6.918384673035883,-4.096815534446768,-4.336118089657331],\"line\":{},\"marker\":{},\"name\":\"markers\"}];\n",
       "            var layout = {\"width\":1100,\"height\":700};\n",
       "            var config = {};\n",
       "            Plotly.newPlot('9252b814-bc89-45b5-957c-782214a66a29', data, layout, config);\r\n",
       "});\n",
       "            };\n",
       "            if ((typeof(requirejs) !==  typeof(Function)) || (typeof(requirejs.config) !== typeof(Function))) {\n",
       "                var script = document.createElement(\"script\");\n",
       "                script.setAttribute(\"src\", \"https://cdnjs.cloudflare.com/ajax/libs/require.js/2.3.6/require.min.js\");\n",
       "                script.onload = function(){\n",
       "                    renderPlotly_9252b814bc8945b5957c782214a66a29();\n",
       "                };\n",
       "                document.getElementsByTagName(\"head\")[0].appendChild(script);\n",
       "            }\n",
       "            else {\n",
       "                renderPlotly_9252b814bc8945b5957c782214a66a29();\n",
       "            }\r\n",
       "</script>\r\n"
      ]
     },
     "metadata": {},
     "output_type": "display_data"
    }
   ],
   "metadata": {
    "dotnet_interactive": {
     "language": "fsharp"
    }
   }
  },
  {
   "cell_type": "markdown",
   "source": [
    "# Style Line Plots\r\n",
    "This example styles the color and dash of the traces, adds trace names, modifies line width, and adds plot and axes titles."
   ],
   "metadata": {}
  },
  {
   "cell_type": "code",
   "execution_count": null,
   "source": [
    "\r\n",
    "//  Add data\r\n",
    "let month = [\"January\";\"February\";\"March\";\"April\";\"May\";\"June\";\"July\";\"August\";\"September\";\"October\";\"November\";\"December\"]\r\n",
    "let high_2000 = [32.5; 37.6; 49.9; 53.0; 69.1; 75.4; 76.5; 76.6; 70.7; 60.6; 45.1; 29.3]\r\n",
    "let low_2000 = [13.8; 22.3; 32.5; 37.2; 49.9; 56.1; 57.7; 58.3; 51.2; 42.8; 31.6; 15.9]\r\n",
    "let high_2007 = [36.5; 26.6; 43.6; 52.3; 71.5; 81.4; 80.5; 82.2; 76.0; 67.3; 46.1; 35.0]\r\n",
    "let low_2007 = [23.6; 14.0; 27.0; 36.8; 47.6; 57.7; 58.9; 61.2; 53.3; 48.5; 31.0; 23.6]\r\n",
    "let high_2014 = [28.8; 28.5; 37.0; 56.8; 69.7; 79.7; 78.5; 77.8; 74.1; 62.6; 45.3; 39.9]\r\n",
    "let low_2014 = [12.7; 14.3; 18.6; 35.5; 49.9; 58.0; 60.0; 58.6; 51.7; 45.2; 32.2; 29.1]\r\n",
    "\r\n",
    "\r\n",
    "// Create and style traces\r\n",
    "let high2014Chart = Chart.Scatter(month, high_2014, StyleParam.Mode.Lines_Markers,  Name=\"High 2014\")\r\n",
    "                        |> Chart.withLineStyle(Color =Color.fromString \"firebrick\", Width=4.)\r\n",
    "\r\n",
    "let low2014Chart = Chart.Scatter(month, low_2014, StyleParam.Mode.Lines_Markers,  Name=\"Low 2014\")\r\n",
    "                        |> Chart.withLineStyle(Color = Color.fromString \"royalblue\", Width=4.)\r\n",
    "\r\n",
    "let high2007Chart = Chart.Scatter(month, high_2007, StyleParam.Mode.Lines_Markers,  Name=\"High 2007\")\r\n",
    "                        |> Chart.withLineStyle(Color =Color.fromString \"firebrick\", Width=4., Dash=StyleParam.DrawingStyle.Dash)  \r\n",
    "                        //dash options include 'dash', 'dot', and 'dashdot'\r\n",
    "\r\n",
    "let low2007Chart = Chart.Scatter(month, low_2007, StyleParam.Mode.Lines_Markers,  Name=\"Low 2007\")\r\n",
    "                        |> Chart.withLineStyle(Color = Color.fromString \"royalblue\", Width=4., Dash=StyleParam.DrawingStyle.Dash)  \r\n",
    "\r\n",
    "\r\n",
    "let high2000Chart = Chart.Scatter(month, high_2000, StyleParam.Mode.Lines_Markers,  Name=\"High 2000\")\r\n",
    "                        |> Chart.withLineStyle(Color = Color.fromString \"firebrick\", Width=4., Dash=StyleParam.DrawingStyle.Dot)\r\n",
    "\r\n",
    "let low2000Chart = Chart.Scatter(month, low_2000, StyleParam.Mode.Lines_Markers,  Name=\"Low 2000\")\r\n",
    "                        |> Chart.withLineStyle(Color = Color.fromString \"royalblue\", Width=4., Dash=StyleParam.DrawingStyle.Dot)  \r\n",
    "\r\n",
    "\r\n",
    "[\r\n",
    "    high2014Chart;\r\n",
    "    low2014Chart;\r\n",
    "    high2007Chart;\r\n",
    "    low2007Chart;\r\n",
    "    high2000Chart;\r\n",
    "    low2000Chart\r\n",
    "\r\n",
    "] \r\n",
    "    |> Chart.combine\r\n",
    "    |> Chart.withTitle(\"Average High and Low Temperatures in New York\")\r\n",
    "    |> Chart.withXAxisStyle (\"Month\")\r\n",
    "    |> Chart.withYAxisStyle (\"Temperature (degrees F)\")\r\n",
    "    |> Chart.withSize(1100.,700.)"
   ],
   "outputs": [
    {
     "data": {
      "text/html": [
       "<div id=\"3c8726bc-6fd1-4894-b98e-0601b20c6f64\" style=\"width: 600px; height: 600px;\"><!-- Plotly chart will be drawn inside this DIV --></div>\r\n",
       "<script type=\"text/javascript\">\r\n",
       "\n",
       "            var renderPlotly_3c8726bc6fd14894b98e0601b20c6f64 = function() {\n",
       "            var fsharpPlotlyRequire = requirejs.config({context:'fsharp-plotly',paths:{plotly:'https://cdn.plot.ly/plotly-latest.min'}}) || require;\n",
       "            fsharpPlotlyRequire(['plotly'], function(Plotly) {\r\n",
       "\n",
       "            var data = [{\"type\":\"scatter\",\"mode\":\"lines+markers\",\"x\":[\"January\",\"February\",\"March\",\"April\",\"May\",\"June\",\"July\",\"August\",\"September\",\"October\",\"November\",\"December\"],\"y\":[28.8,28.5,37.0,56.8,69.7,79.7,78.5,77.8,74.1,62.6,45.3,39.9],\"name\":\"High 2014\",\"line\":{\"color\":\"firebrick\",\"width\":4.0},\"marker\":{}},{\"type\":\"scatter\",\"mode\":\"lines+markers\",\"x\":[\"January\",\"February\",\"March\",\"April\",\"May\",\"June\",\"July\",\"August\",\"September\",\"October\",\"November\",\"December\"],\"y\":[12.7,14.3,18.6,35.5,49.9,58.0,60.0,58.6,51.7,45.2,32.2,29.1],\"name\":\"Low 2014\",\"line\":{\"color\":\"royalblue\",\"width\":4.0},\"marker\":{}},{\"type\":\"scatter\",\"mode\":\"lines+markers\",\"x\":[\"January\",\"February\",\"March\",\"April\",\"May\",\"June\",\"July\",\"August\",\"September\",\"October\",\"November\",\"December\"],\"y\":[36.5,26.6,43.6,52.3,71.5,81.4,80.5,82.2,76.0,67.3,46.1,35.0],\"name\":\"High 2007\",\"line\":{\"color\":\"firebrick\",\"width\":4.0,\"dash\":\"dash\"},\"marker\":{}},{\"type\":\"scatter\",\"mode\":\"lines+markers\",\"x\":[\"January\",\"February\",\"March\",\"April\",\"May\",\"June\",\"July\",\"August\",\"September\",\"October\",\"November\",\"December\"],\"y\":[23.6,14.0,27.0,36.8,47.6,57.7,58.9,61.2,53.3,48.5,31.0,23.6],\"name\":\"Low 2007\",\"line\":{\"color\":\"royalblue\",\"width\":4.0,\"dash\":\"dash\"},\"marker\":{}},{\"type\":\"scatter\",\"mode\":\"lines+markers\",\"x\":[\"January\",\"February\",\"March\",\"April\",\"May\",\"June\",\"July\",\"August\",\"September\",\"October\",\"November\",\"December\"],\"y\":[32.5,37.6,49.9,53.0,69.1,75.4,76.5,76.6,70.7,60.6,45.1,29.3],\"name\":\"High 2000\",\"line\":{\"color\":\"firebrick\",\"width\":4.0,\"dash\":\"dot\"},\"marker\":{}},{\"type\":\"scatter\",\"mode\":\"lines+markers\",\"x\":[\"January\",\"February\",\"March\",\"April\",\"May\",\"June\",\"July\",\"August\",\"September\",\"October\",\"November\",\"December\"],\"y\":[13.8,22.3,32.5,37.2,49.9,56.1,57.7,58.3,51.2,42.8,31.6,15.9],\"name\":\"Low 2000\",\"line\":{\"color\":\"royalblue\",\"width\":4.0,\"dash\":\"dot\"},\"marker\":{}}];\n",
       "            var layout = {\"title\":{\"text\":\"Average High and Low Temperatures in New York\"},\"xaxis\":{\"title\":{\"text\":\"Month\"}},\"yaxis\":{\"title\":{\"text\":\"Temperature (degrees F)\"}},\"width\":1100,\"height\":700};\n",
       "            var config = {};\n",
       "            Plotly.newPlot('3c8726bc-6fd1-4894-b98e-0601b20c6f64', data, layout, config);\r\n",
       "});\n",
       "            };\n",
       "            if ((typeof(requirejs) !==  typeof(Function)) || (typeof(requirejs.config) !== typeof(Function))) {\n",
       "                var script = document.createElement(\"script\");\n",
       "                script.setAttribute(\"src\", \"https://cdnjs.cloudflare.com/ajax/libs/require.js/2.3.6/require.min.js\");\n",
       "                script.onload = function(){\n",
       "                    renderPlotly_3c8726bc6fd14894b98e0601b20c6f64();\n",
       "                };\n",
       "                document.getElementsByTagName(\"head\")[0].appendChild(script);\n",
       "            }\n",
       "            else {\n",
       "                renderPlotly_3c8726bc6fd14894b98e0601b20c6f64();\n",
       "            }\r\n",
       "</script>\r\n"
      ]
     },
     "metadata": {},
     "output_type": "display_data"
    }
   ],
   "metadata": {
    "dotnet_interactive": {
     "language": "fsharp"
    }
   }
  },
  {
   "cell_type": "markdown",
   "source": [
    "# Connect Data Gaps\r\n",
    "ConnectGaps determines if missing values in the provided data are shown as a gap in the graph or not"
   ],
   "metadata": {}
  },
  {
   "cell_type": "code",
   "execution_count": null,
   "source": [
    "open Plotly.NET.TraceObjects\r\n",
    "\r\n",
    "let xs = [1; 2; 3; 4; 5; 6; 7; 8; 9; 10; 11; 12; 13; 14; 15]\r\n",
    "\r\n",
    "let chart = Chart.Scatter(xs,\r\n",
    "             [10.; 20.; nan; 15.; 10.; 5.; 15.;nan; 20.; 10.; 10.; 15.; 25.; 20.; 10.], \r\n",
    "             StyleParam.Mode.Lines_Markers, Name=\"<b>No</b> Gaps\")             \r\n",
    "             |> GenericChart.mapTrace (Trace2DStyle.Scatter(ConnectGaps = true))\r\n",
    "[\r\n",
    "    \r\n",
    "    chart;\r\n",
    "    Chart.Scatter(xs,\r\n",
    "             [5.; 15.; nan; 10.; 5.; 0.; 10.; nan; 15.; 5.; 5.; 10.; 20.; 15.; 5.], \r\n",
    "             StyleParam.Mode.Lines_Markers, Name=\"Gaps\")\r\n",
    "] |> Chart.combine"
   ],
   "outputs": [
    {
     "data": {
      "text/html": [
       "<div id=\"4740c5eb-3cb1-41ef-82f0-df35368077ab\" style=\"width: 600px; height: 600px;\"><!-- Plotly chart will be drawn inside this DIV --></div>\r\n",
       "<script type=\"text/javascript\">\r\n",
       "\n",
       "            var renderPlotly_4740c5eb3cb141ef82f0df35368077ab = function() {\n",
       "            var fsharpPlotlyRequire = requirejs.config({context:'fsharp-plotly',paths:{plotly:'https://cdn.plot.ly/plotly-latest.min'}}) || require;\n",
       "            fsharpPlotlyRequire(['plotly'], function(Plotly) {\r\n",
       "\n",
       "            var data = [{\"type\":\"scatter\",\"mode\":\"lines+markers\",\"x\":[1,2,3,4,5,6,7,8,9,10,11,12,13,14,15],\"y\":[10.0,20.0,\"NaN\",15.0,10.0,5.0,15.0,\"NaN\",20.0,10.0,10.0,15.0,25.0,20.0,10.0],\"name\":\"<b>No</b> Gaps\",\"line\":{},\"marker\":{},\"connectgaps\":true},{\"type\":\"scatter\",\"mode\":\"lines+markers\",\"x\":[1,2,3,4,5,6,7,8,9,10,11,12,13,14,15],\"y\":[5.0,15.0,\"NaN\",10.0,5.0,0.0,10.0,\"NaN\",15.0,5.0,5.0,10.0,20.0,15.0,5.0],\"name\":\"Gaps\",\"line\":{},\"marker\":{}}];\n",
       "            var layout = {};\n",
       "            var config = {};\n",
       "            Plotly.newPlot('4740c5eb-3cb1-41ef-82f0-df35368077ab', data, layout, config);\r\n",
       "});\n",
       "            };\n",
       "            if ((typeof(requirejs) !==  typeof(Function)) || (typeof(requirejs.config) !== typeof(Function))) {\n",
       "                var script = document.createElement(\"script\");\n",
       "                script.setAttribute(\"src\", \"https://cdnjs.cloudflare.com/ajax/libs/require.js/2.3.6/require.min.js\");\n",
       "                script.onload = function(){\n",
       "                    renderPlotly_4740c5eb3cb141ef82f0df35368077ab();\n",
       "                };\n",
       "                document.getElementsByTagName(\"head\")[0].appendChild(script);\n",
       "            }\n",
       "            else {\n",
       "                renderPlotly_4740c5eb3cb141ef82f0df35368077ab();\n",
       "            }\r\n",
       "</script>\r\n"
      ]
     },
     "metadata": {},
     "output_type": "display_data"
    }
   ],
   "metadata": {
    "dotnet_interactive": {
     "language": "fsharp"
    }
   }
  },
  {
   "cell_type": "markdown",
   "source": [
    "# Interpolation with Line Plots"
   ],
   "metadata": {}
  },
  {
   "cell_type": "code",
   "execution_count": null,
   "source": [
    "open Plotly.NET.LayoutObjects\r\n",
    "\r\n",
    "let xs = [1; 2; 3; 4; 5]\r\n",
    "let ys = [1; 3; 2; 3; 1]\r\n",
    "\r\n",
    "let linear = Chart.Scatter(xs, ys, StyleParam.Mode.Lines_Markers,Name=\"linear\") \r\n",
    "            |> Chart.withLineStyle(Shape =StyleParam.Shape.Linear)\r\n",
    "\r\n",
    "let spline = Chart.Scatter(xs, ys |> Seq.map(fun y->y+5) ,StyleParam.Mode.Lines_Markers,Labels=[\"tweak line smoothness<br>with 'smoothing' in line object\"],Name=\"spline\") \r\n",
    "            |> Chart.withLineStyle(Shape =StyleParam.Shape.Spline)\r\n",
    "\r\n",
    "let vhv = Chart.Scatter(xs, ys |> Seq.map(fun y->y+10), StyleParam.Mode.Lines_Markers,Name=\"vhv\") \r\n",
    "            |> Chart.withLineStyle(Shape =StyleParam.Shape.Vhv)\r\n",
    "\r\n",
    "let hvh = Chart.Scatter(xs, ys |> Seq.map(fun y->y+15), StyleParam.Mode.Lines_Markers,Name=\"hvh\") \r\n",
    "            |> Chart.withLineStyle(Shape =StyleParam.Shape.Hvh)\r\n",
    "\r\n",
    "let vh = Chart.Scatter(xs, ys |> Seq.map(fun y->y+20), StyleParam.Mode.Lines_Markers,Name=\"vh\") \r\n",
    "            |> Chart.withLineStyle(Shape =StyleParam.Shape.Vh)\r\n",
    "\r\n",
    "let hv = Chart.Scatter(xs,  ys |> Seq.map(fun y->y+25), StyleParam.Mode.Lines_Markers,Name=\"hv\") \r\n",
    "            |> Chart.withLineStyle(Shape =StyleParam.Shape.Hv)\r\n",
    "\r\n",
    "[\r\n",
    "    linear;\r\n",
    "    spline;\r\n",
    "    vhv;\r\n",
    "    hvh;\r\n",
    "    vh;\r\n",
    "    hv  ]\r\n",
    "|> Chart.combine\r\n",
    "|> Chart.withLegend(Legend.init(Y=0.5,TraceOrder=StyleParam.TraceOrder.Reversed))\r\n",
    "|> Chart.withLayout(Layout.init(Font=Font.init(Size=16.)))\r\n",
    "|> Chart.withSize(1100.,700.)"
   ],
   "outputs": [
    {
     "data": {
      "text/html": [
       "<div id=\"dd5528d7-5bbe-44f1-95a7-12cbd6a3f83b\" style=\"width: 600px; height: 600px;\"><!-- Plotly chart will be drawn inside this DIV --></div>\r\n",
       "<script type=\"text/javascript\">\r\n",
       "\n",
       "            var renderPlotly_dd5528d75bbe44f195a712cbd6a3f83b = function() {\n",
       "            var fsharpPlotlyRequire = requirejs.config({context:'fsharp-plotly',paths:{plotly:'https://cdn.plot.ly/plotly-latest.min'}}) || require;\n",
       "            fsharpPlotlyRequire(['plotly'], function(Plotly) {\r\n",
       "\n",
       "            var data = [{\"type\":\"scatter\",\"mode\":\"lines+markers\",\"x\":[1,2,3,4,5],\"y\":[1,3,2,3,1],\"name\":\"linear\",\"line\":{\"shape\":\"linear\"},\"marker\":{}},{\"type\":\"scatter\",\"mode\":\"lines+markers\",\"x\":[1,2,3,4,5],\"y\":[6,8,7,8,6],\"name\":\"spline\",\"line\":{\"shape\":\"spline\"},\"marker\":{},\"text\":[\"tweak line smoothness<br>with 'smoothing' in line object\"]},{\"type\":\"scatter\",\"mode\":\"lines+markers\",\"x\":[1,2,3,4,5],\"y\":[11,13,12,13,11],\"name\":\"vhv\",\"line\":{\"shape\":\"vhv\"},\"marker\":{}},{\"type\":\"scatter\",\"mode\":\"lines+markers\",\"x\":[1,2,3,4,5],\"y\":[16,18,17,18,16],\"name\":\"hvh\",\"line\":{\"shape\":\"hvh\"},\"marker\":{}},{\"type\":\"scatter\",\"mode\":\"lines+markers\",\"x\":[1,2,3,4,5],\"y\":[21,23,22,23,21],\"name\":\"vh\",\"line\":{\"shape\":\"vh\"},\"marker\":{}},{\"type\":\"scatter\",\"mode\":\"lines+markers\",\"x\":[1,2,3,4,5],\"y\":[26,28,27,28,26],\"name\":\"hv\",\"line\":{\"shape\":\"hv\"},\"marker\":{}}];\n",
       "            var layout = {\"legend\":{\"y\":0.5,\"traceorder\":\"reversed\"},\"font\":{\"size\":16.0},\"width\":1100,\"height\":700};\n",
       "            var config = {};\n",
       "            Plotly.newPlot('dd5528d7-5bbe-44f1-95a7-12cbd6a3f83b', data, layout, config);\r\n",
       "});\n",
       "            };\n",
       "            if ((typeof(requirejs) !==  typeof(Function)) || (typeof(requirejs.config) !== typeof(Function))) {\n",
       "                var script = document.createElement(\"script\");\n",
       "                script.setAttribute(\"src\", \"https://cdnjs.cloudflare.com/ajax/libs/require.js/2.3.6/require.min.js\");\n",
       "                script.onload = function(){\n",
       "                    renderPlotly_dd5528d75bbe44f195a712cbd6a3f83b();\n",
       "                };\n",
       "                document.getElementsByTagName(\"head\")[0].appendChild(script);\n",
       "            }\n",
       "            else {\n",
       "                renderPlotly_dd5528d75bbe44f195a712cbd6a3f83b();\n",
       "            }\r\n",
       "</script>\r\n"
      ]
     },
     "metadata": {},
     "output_type": "display_data"
    }
   ],
   "metadata": {
    "dotnet_interactive": {
     "language": "fsharp"
    }
   }
  },
  {
   "cell_type": "markdown",
   "source": [
    "# Label Lines with Annotations"
   ],
   "metadata": {}
  },
  {
   "cell_type": "code",
   "execution_count": null,
   "source": [
    "open Plotly.NET.TraceObjects\r\n",
    "\r\n",
    "let title = \"Main Source for News\"\r\n",
    "let labels = [\"Television\"; \"Newspaper\"; \"Internet\"; \"Radio\"]\r\n",
    "let colors = [\"rgb(67,67,67)\"; \"rgb(115,115,115)\"; \"rgb(49,130,189)\"; \"rgb(189,189,189)\"]\r\n",
    "                |> Seq.map (fun c -> Color.fromString c)\r\n",
    "                |> Seq.toArray\r\n",
    "\r\n",
    "let mode_size = [|8; 8; 12; 8|]\r\n",
    "let line_size = [|2.; 2.; 4.; 2.|]\r\n",
    "\r\n",
    "let x_data = [1 ..4 ] |> Seq.map(fun _-> [|2001 .. 2014|]) |> Seq.toArray\r\n",
    "\r\n",
    "let y_data = [|\r\n",
    "    [|74; 82; 80; 74; 73; 72; 74; 70; 70; 66; 66; 69|];\r\n",
    "    [|45; 42; 50; 46; 36; 36; 34; 35; 32; 31; 31; 28|];\r\n",
    "    [|13; 14; 20; 24; 20; 24; 24; 40; 35; 41; 43; 50|];\r\n",
    "    [|18; 21; 18; 21; 16; 14; 13; 18; 17; 16; 19; 23|]|]\r\n",
    "\r\n",
    "let annotations = seq {\r\n",
    "        for (y_trace, label, color) in Seq.zip3 y_data labels colors do\r\n",
    "\r\n",
    "        // labeling the left_side of the plot     \r\n",
    "        let a1 = Annotation.init(XRef=\"paper\", X=0.05, Y=y_trace.[0],\r\n",
    "                                  Text=  $\"{label} {y_trace.[0]}%%\",\r\n",
    "                                  ShowArrow=false,\r\n",
    "                                  Font=Font.init(Family=StyleParam.FontFamily.Arial, Size=16.), \r\n",
    "                                  XAnchor = StyleParam.XAnchorPosition.Right,\r\n",
    "                                  YAnchor = StyleParam.YAnchorPosition.Middle)\r\n",
    "\r\n",
    "        //labeling the right_side of the plot\r\n",
    "        let a2 = Annotation.init(XRef=\"paper\", X=0.95, Y=y_trace.[11],\r\n",
    "                                  Text=  $\"{y_trace.[11]}%%\",\r\n",
    "                                  ShowArrow=false,\r\n",
    "                                  Font=Font.init(Family=StyleParam.FontFamily.Arial, Size=16.),\r\n",
    "                                  XAnchor = StyleParam.XAnchorPosition.Left,\r\n",
    "                                  YAnchor = StyleParam.YAnchorPosition.Middle);\r\n",
    "\r\n",
    "        // Title\r\n",
    "        let a3 =  Annotation.init(XRef=\"paper\",YRef=\"paper\", X=0., Y=1.05,\r\n",
    "                                  Text=  \"Main Source for News\",\r\n",
    "                                  ShowArrow=false,\r\n",
    "                                  Font=Font.init(Family=StyleParam.FontFamily.Arial, \r\n",
    "                                                 Size=30.,\r\n",
    "                                                 Color=Color.fromString \"rgb(37,37,37)\"),\r\n",
    "                                  XAnchor=StyleParam.XAnchorPosition.Left,\r\n",
    "                                  YAnchor = StyleParam.YAnchorPosition.Bottom);\r\n",
    "        \r\n",
    "        // Source\r\n",
    "        let a4 = Annotation.init(XRef=\"paper\",YRef=\"paper\", X=0.5, Y= -0.1,\r\n",
    "                                  Text=  \"Source: PewResearch Center & Storytelling with data\",\r\n",
    "                                  ShowArrow=false,\r\n",
    "                                  Font=Font.init(Family=StyleParam.FontFamily.Arial, \r\n",
    "                                                 Size=12.,\r\n",
    "                                                 Color=Color.fromString \"rgb(150,150,150)\"),\r\n",
    "                                  XAnchor=StyleParam.XAnchorPosition.Center,\r\n",
    "                                  YAnchor = StyleParam.YAnchorPosition.Top)\r\n",
    "\r\n",
    "                            \r\n",
    "        yield! [a1;a2;a3;a4]\r\n",
    "    }\r\n",
    "\r\n",
    "\r\n",
    "seq {\r\n",
    "    for i in 0..3 do\r\n",
    "        yield! [\r\n",
    "                Chart.Scatter(x_data.[i], y_data.[i], StyleParam.Mode.Lines,Name= labels.[i])\r\n",
    "                    |> Chart.withLineStyle(Width=line_size.[i], Color=colors.[i])\r\n",
    "\r\n",
    "                // endpoints\r\n",
    "                Chart.Scatter([x_data.[i].[0]; x_data.[i].[^0]],\r\n",
    "                              [y_data.[i].[0]; y_data.[i].[^0]],\r\n",
    "                              mode=StyleParam.Mode.Markers)\r\n",
    "                    \r\n",
    "                |> Chart.withMarkerStyle(Size=mode_size.[i], Color=colors.[i])\r\n",
    "        ]        \r\n",
    "} |> Chart.combine\r\n",
    "  |> Chart.withLayout(Layout.init(AutoSize=false, ShowLegend=false, PlotBGColor=Color.fromString \"white\"))\r\n",
    "  |> Chart.withXAxis(LinearAxis.init(ShowLine=true,\r\n",
    "                                            ShowGrid=false,\r\n",
    "                                            ShowTickLabels=true,\r\n",
    "                                            LineColor=Color.fromString \"rgb(204, 204, 204)\",\r\n",
    "                                            LineWidth=2.,\r\n",
    "                                            Ticks=StyleParam.TickOptions.Outside,\r\n",
    "                                            TickFont = Font.init(Family=StyleParam.FontFamily.Arial,\r\n",
    "                                                                 Size=12.,\r\n",
    "                                                                 Color=Color.fromString \"rgb(82, 82, 82)\")))\r\n",
    "\r\n",
    "    |> Chart.withYAxis(LinearAxis.init(ShowGrid=false,\r\n",
    "                                             ZeroLine=false,\r\n",
    "                                             ShowLine=false,\r\n",
    "                                             ShowTickLabels=false))\r\n",
    "    |> Chart.withMarginSize(Autoexpand=false, Left=100, Right=20,Top=110)\r\n",
    "        // Adding labels\r\n",
    "    |> Chart.withAnnotations(annotations)"
   ],
   "outputs": [
    {
     "data": {
      "text/html": [
       "<div id=\"e29b4cb1-c197-466f-837e-a3179325e0dc\" style=\"width: 600px; height: 600px;\"><!-- Plotly chart will be drawn inside this DIV --></div>\r\n",
       "<script type=\"text/javascript\">\r\n",
       "\n",
       "            var renderPlotly_e29b4cb1c197466f837ea3179325e0dc = function() {\n",
       "            var fsharpPlotlyRequire = requirejs.config({context:'fsharp-plotly',paths:{plotly:'https://cdn.plot.ly/plotly-latest.min'}}) || require;\n",
       "            fsharpPlotlyRequire(['plotly'], function(Plotly) {\r\n",
       "\n",
       "            var data = [{\"type\":\"scatter\",\"mode\":\"lines\",\"x\":[2001,2002,2003,2004,2005,2006,2007,2008,2009,2010,2011,2012,2013,2014],\"y\":[74,82,80,74,73,72,74,70,70,66,66,69],\"name\":\"Television\",\"line\":{\"color\":\"rgb(67,67,67)\",\"width\":2.0},\"marker\":{}},{\"type\":\"scatter\",\"mode\":\"markers\",\"x\":[2001,2014],\"y\":[74,69],\"line\":{},\"marker\":{\"size\":8,\"color\":\"rgb(67,67,67)\"}},{\"type\":\"scatter\",\"mode\":\"lines\",\"x\":[2001,2002,2003,2004,2005,2006,2007,2008,2009,2010,2011,2012,2013,2014],\"y\":[45,42,50,46,36,36,34,35,32,31,31,28],\"name\":\"Newspaper\",\"line\":{\"color\":\"rgb(115,115,115)\",\"width\":2.0},\"marker\":{}},{\"type\":\"scatter\",\"mode\":\"markers\",\"x\":[2001,2014],\"y\":[45,28],\"line\":{},\"marker\":{\"size\":8,\"color\":\"rgb(115,115,115)\"}},{\"type\":\"scatter\",\"mode\":\"lines\",\"x\":[2001,2002,2003,2004,2005,2006,2007,2008,2009,2010,2011,2012,2013,2014],\"y\":[13,14,20,24,20,24,24,40,35,41,43,50],\"name\":\"Internet\",\"line\":{\"color\":\"rgb(49,130,189)\",\"width\":4.0},\"marker\":{}},{\"type\":\"scatter\",\"mode\":\"markers\",\"x\":[2001,2014],\"y\":[13,50],\"line\":{},\"marker\":{\"size\":12,\"color\":\"rgb(49,130,189)\"}},{\"type\":\"scatter\",\"mode\":\"lines\",\"x\":[2001,2002,2003,2004,2005,2006,2007,2008,2009,2010,2011,2012,2013,2014],\"y\":[18,21,18,21,16,14,13,18,17,16,19,23],\"name\":\"Radio\",\"line\":{\"color\":\"rgb(189,189,189)\",\"width\":2.0},\"marker\":{}},{\"type\":\"scatter\",\"mode\":\"markers\",\"x\":[2001,2014],\"y\":[18,23],\"line\":{},\"marker\":{\"size\":8,\"color\":\"rgb(189,189,189)\"}}];\n",
       "            var layout = {\"showlegend\":false,\"autosize\":false,\"plot_bgcolor\":\"white\",\"xaxis\":{\"ticks\":\"outside\",\"showticklabels\":true,\"tickfont\":{\"family\":\"Arial\",\"size\":12.0,\"color\":\"rgb(82, 82, 82)\"},\"showline\":true,\"linecolor\":\"rgb(204, 204, 204)\",\"linewidth\":2.0,\"showgrid\":false},\"yaxis\":{\"showticklabels\":false,\"showline\":false,\"showgrid\":false,\"zeroline\":false},\"margin\":{\"l\":100,\"r\":20,\"t\":110,\"autoexpand\":false},\"annotations\":[{\"x\":0.05,\"y\":74,\"font\":{\"family\":\"Arial\",\"size\":16.0},\"showarrow\":false,\"text\":\"Television 74%\",\"xanchor\":\"right\",\"xref\":\"paper\",\"yanchor\":\"middle\"},{\"x\":0.95,\"y\":69,\"font\":{\"family\":\"Arial\",\"size\":16.0},\"showarrow\":false,\"text\":\"69%\",\"xanchor\":\"left\",\"xref\":\"paper\",\"yanchor\":\"middle\"},{\"x\":0.0,\"y\":1.05,\"font\":{\"family\":\"Arial\",\"size\":30.0,\"color\":\"rgb(37,37,37)\"},\"showarrow\":false,\"text\":\"Main Source for News\",\"xanchor\":\"left\",\"xref\":\"paper\",\"yanchor\":\"bottom\",\"yref\":\"paper\"},{\"x\":0.5,\"y\":-0.1,\"font\":{\"family\":\"Arial\",\"size\":12.0,\"color\":\"rgb(150,150,150)\"},\"showarrow\":false,\"text\":\"Source: PewResearch Center & Storytelling with data\",\"xanchor\":\"center\",\"xref\":\"paper\",\"yanchor\":\"top\",\"yref\":\"paper\"},{\"x\":0.05,\"y\":45,\"font\":{\"family\":\"Arial\",\"size\":16.0},\"showarrow\":false,\"text\":\"Newspaper 45%\",\"xanchor\":\"right\",\"xref\":\"paper\",\"yanchor\":\"middle\"},{\"x\":0.95,\"y\":28,\"font\":{\"family\":\"Arial\",\"size\":16.0},\"showarrow\":false,\"text\":\"28%\",\"xanchor\":\"left\",\"xref\":\"paper\",\"yanchor\":\"middle\"},{\"x\":0.0,\"y\":1.05,\"font\":{\"family\":\"Arial\",\"size\":30.0,\"color\":\"rgb(37,37,37)\"},\"showarrow\":false,\"text\":\"Main Source for News\",\"xanchor\":\"left\",\"xref\":\"paper\",\"yanchor\":\"bottom\",\"yref\":\"paper\"},{\"x\":0.5,\"y\":-0.1,\"font\":{\"family\":\"Arial\",\"size\":12.0,\"color\":\"rgb(150,150,150)\"},\"showarrow\":false,\"text\":\"Source: PewResearch Center & Storytelling with data\",\"xanchor\":\"center\",\"xref\":\"paper\",\"yanchor\":\"top\",\"yref\":\"paper\"},{\"x\":0.05,\"y\":13,\"font\":{\"family\":\"Arial\",\"size\":16.0},\"showarrow\":false,\"text\":\"Internet 13%\",\"xanchor\":\"right\",\"xref\":\"paper\",\"yanchor\":\"middle\"},{\"x\":0.95,\"y\":50,\"font\":{\"family\":\"Arial\",\"size\":16.0},\"showarrow\":false,\"text\":\"50%\",\"xanchor\":\"left\",\"xref\":\"paper\",\"yanchor\":\"middle\"},{\"x\":0.0,\"y\":1.05,\"font\":{\"family\":\"Arial\",\"size\":30.0,\"color\":\"rgb(37,37,37)\"},\"showarrow\":false,\"text\":\"Main Source for News\",\"xanchor\":\"left\",\"xref\":\"paper\",\"yanchor\":\"bottom\",\"yref\":\"paper\"},{\"x\":0.5,\"y\":-0.1,\"font\":{\"family\":\"Arial\",\"size\":12.0,\"color\":\"rgb(150,150,150)\"},\"showarrow\":false,\"text\":\"Source: PewResearch Center & Storytelling with data\",\"xanchor\":\"center\",\"xref\":\"paper\",\"yanchor\":\"top\",\"yref\":\"paper\"},{\"x\":0.05,\"y\":18,\"font\":{\"family\":\"Arial\",\"size\":16.0},\"showarrow\":false,\"text\":\"Radio 18%\",\"xanchor\":\"right\",\"xref\":\"paper\",\"yanchor\":\"middle\"},{\"x\":0.95,\"y\":23,\"font\":{\"family\":\"Arial\",\"size\":16.0},\"showarrow\":false,\"text\":\"23%\",\"xanchor\":\"left\",\"xref\":\"paper\",\"yanchor\":\"middle\"},{\"x\":0.0,\"y\":1.05,\"font\":{\"family\":\"Arial\",\"size\":30.0,\"color\":\"rgb(37,37,37)\"},\"showarrow\":false,\"text\":\"Main Source for News\",\"xanchor\":\"left\",\"xref\":\"paper\",\"yanchor\":\"bottom\",\"yref\":\"paper\"},{\"x\":0.5,\"y\":-0.1,\"font\":{\"family\":\"Arial\",\"size\":12.0,\"color\":\"rgb(150,150,150)\"},\"showarrow\":false,\"text\":\"Source: PewResearch Center & Storytelling with data\",\"xanchor\":\"center\",\"xref\":\"paper\",\"yanchor\":\"top\",\"yref\":\"paper\"}]};\n",
       "            var config = {};\n",
       "            Plotly.newPlot('e29b4cb1-c197-466f-837e-a3179325e0dc', data, layout, config);\r\n",
       "});\n",
       "            };\n",
       "            if ((typeof(requirejs) !==  typeof(Function)) || (typeof(requirejs.config) !== typeof(Function))) {\n",
       "                var script = document.createElement(\"script\");\n",
       "                script.setAttribute(\"src\", \"https://cdnjs.cloudflare.com/ajax/libs/require.js/2.3.6/require.min.js\");\n",
       "                script.onload = function(){\n",
       "                    renderPlotly_e29b4cb1c197466f837ea3179325e0dc();\n",
       "                };\n",
       "                document.getElementsByTagName(\"head\")[0].appendChild(script);\n",
       "            }\n",
       "            else {\n",
       "                renderPlotly_e29b4cb1c197466f837ea3179325e0dc();\n",
       "            }\r\n",
       "</script>\r\n"
      ]
     },
     "metadata": {},
     "output_type": "display_data"
    }
   ],
   "metadata": {
    "dotnet_interactive": {
     "language": "fsharp"
    }
   }
  },
  {
   "cell_type": "markdown",
   "source": [
    "# Filled Lines"
   ],
   "metadata": {}
  },
  {
   "cell_type": "code",
   "execution_count": null,
   "source": [
    "let x = [1.; 2.; 3.; 4.; 5.; 6.; 7.; 8.; 9.; 10.]\r\n",
    "let x_rev = x |> Seq.rev\r\n",
    "\r\n",
    "// Line 1\r\n",
    "let y1 = [1.; 2.; 3.; 4.; 5.; 6.; 7.; 8.; 9.; 10.]\r\n",
    "let y1_upper = [2.; 3.; 4.; 5.; 6.; 7.; 8.; 9.; 10.; 11.]\r\n",
    "let y1_lower = [0.; 1.; 2.; 3.; 4.; 5.; 6.; 7.; 8.; 9.]|> Seq.rev\r\n",
    "\r\n",
    "// Line 2\r\n",
    "let y2 = [5.; 2.5; 5.; 7.5; 5.; 2.5; 7.5; 4.5; 5.5; 5.]\r\n",
    "let y2_upper = [5.5; 3.; 5.5; 8.; 6.; 3.; 8.; 5.; 6.; 5.5]\r\n",
    "let y2_lower = [4.5; 2.; 4.4; 7.; 4.; 2.; 7.; 4.; 5.; 4.75] |> Seq.rev\r\n",
    "\r\n",
    "// Line 3\r\n",
    "let y3 = [10.; 8.; 6.; 4.; 2.; 0.; 2.; 4.; 2.; 0.]\r\n",
    "let y3_upper = [11.; 9.; 7.; 5.; 3.; 1.; 3.; 5.; 3.; 1.]\r\n",
    "let y3_lower = [9.; 7.; 5.; 3.; 1.; -5.; 1.; 3.; 1.; -1.]|> Seq.rev\r\n",
    "\r\n",
    "\r\n",
    "[\r\n",
    "    Chart.Scatter((Seq.append x x_rev),\r\n",
    "                  (Seq.append y1_upper y1_lower),\r\n",
    "                  StyleParam.Mode.Lines,\r\n",
    "                   ShowLegend=false,\r\n",
    "                   Name=\"Fair\") \r\n",
    "        |> Chart.withLineStyle(Color=Color.fromString \"rgba(255,255,255,0)\")\r\n",
    "        |> GenericChart.mapTrace(Trace2DStyle.Scatter(Fill = StyleParam.Fill.ToSelf,FillColor= Color.fromString \"rgba(0,100,80,0.2)\"))\r\n",
    "        \r\n",
    "\r\n",
    "    ;Chart.Scatter((Seq.append x x_rev),\r\n",
    "                  (Seq.append y2_upper y2_lower),\r\n",
    "                  StyleParam.Mode.Lines,\r\n",
    "                   ShowLegend=false,\r\n",
    "                   Name=\"Premium\")\r\n",
    "        |> Chart.withLineStyle(Color=Color.fromString \"rgba(255,255,255,0)\")\r\n",
    "        |> GenericChart.mapTrace(Trace2DStyle.Scatter(Fill = StyleParam.Fill.ToSelf,FillColor= Color.fromString \"rgba(rgba(0,176,246,0.2))\"))\r\n",
    "        \r\n",
    "        \r\n",
    "    ;Chart.Scatter((Seq.append x x_rev),\r\n",
    "                  (Seq.append y3_upper y3_lower),\r\n",
    "                  StyleParam.Mode.Lines,\r\n",
    "                   ShowLegend=false,\r\n",
    "                   Name=\"Ideal\")\r\n",
    "        |> Chart.withLineStyle(Color=Color.fromString \"rgba(255,255,255,0)\")\r\n",
    "        |> GenericChart.mapTrace(Trace2DStyle.Scatter(Fill = StyleParam.Fill.ToSelf,FillColor= Color.fromString \"rgba(231,107,243,0.2)\"))\r\n",
    "            \r\n",
    "\r\n",
    "    ;Chart.Scatter(x,y1,StyleParam.Mode.Lines,Name=\"Fair\") \r\n",
    "        |> Chart.withLineStyle(Color=Color.fromString \"rgb(0,100,80)\")\r\n",
    "\r\n",
    "    ;Chart.Scatter(x,y2,StyleParam.Mode.Lines,Name=\"Premium\") \r\n",
    "        |> Chart.withLineStyle(Color=Color.fromString \"rgb(0,176,246)\")\r\n",
    "\r\n",
    "    ;Chart.Scatter(x,y3,StyleParam.Mode.Lines,Name=\"Ideal\") \r\n",
    "        |> Chart.withLineStyle(Color=Color.fromString \"rgb(231,107,243)\")\r\n",
    "\r\n",
    "] |> Chart.combine"
   ],
   "outputs": [
    {
     "data": {
      "text/html": [
       "<div id=\"5cdbc21d-66a9-4d48-ac60-c6e091c12d43\" style=\"width: 600px; height: 600px;\"><!-- Plotly chart will be drawn inside this DIV --></div>\r\n",
       "<script type=\"text/javascript\">\r\n",
       "\n",
       "            var renderPlotly_5cdbc21d66a94d48ac60c6e091c12d43 = function() {\n",
       "            var fsharpPlotlyRequire = requirejs.config({context:'fsharp-plotly',paths:{plotly:'https://cdn.plot.ly/plotly-latest.min'}}) || require;\n",
       "            fsharpPlotlyRequire(['plotly'], function(Plotly) {\r\n",
       "\n",
       "            var data = [{\"type\":\"scatter\",\"mode\":\"lines\",\"x\":[1.0,2.0,3.0,4.0,5.0,6.0,7.0,8.0,9.0,10.0,10.0,9.0,8.0,7.0,6.0,5.0,4.0,3.0,2.0,1.0],\"y\":[2.0,3.0,4.0,5.0,6.0,7.0,8.0,9.0,10.0,11.0,9.0,8.0,7.0,6.0,5.0,4.0,3.0,2.0,1.0,0.0],\"name\":\"Fair\",\"showlegend\":false,\"line\":{\"color\":\"rgba(255,255,255,0)\"},\"marker\":{},\"fill\":\"toself\",\"fillcolor\":\"rgba(0,100,80,0.2)\"},{\"type\":\"scatter\",\"mode\":\"lines\",\"x\":[1.0,2.0,3.0,4.0,5.0,6.0,7.0,8.0,9.0,10.0,10.0,9.0,8.0,7.0,6.0,5.0,4.0,3.0,2.0,1.0],\"y\":[5.5,3.0,5.5,8.0,6.0,3.0,8.0,5.0,6.0,5.5,4.75,5.0,4.0,7.0,2.0,4.0,7.0,4.4,2.0,4.5],\"name\":\"Premium\",\"showlegend\":false,\"line\":{\"color\":\"rgba(255,255,255,0)\"},\"marker\":{},\"fill\":\"toself\",\"fillcolor\":\"rgba(rgba(0,176,246,0.2))\"},{\"type\":\"scatter\",\"mode\":\"lines\",\"x\":[1.0,2.0,3.0,4.0,5.0,6.0,7.0,8.0,9.0,10.0,10.0,9.0,8.0,7.0,6.0,5.0,4.0,3.0,2.0,1.0],\"y\":[11.0,9.0,7.0,5.0,3.0,1.0,3.0,5.0,3.0,1.0,-1.0,1.0,3.0,1.0,-5.0,1.0,3.0,5.0,7.0,9.0],\"name\":\"Ideal\",\"showlegend\":false,\"line\":{\"color\":\"rgba(255,255,255,0)\"},\"marker\":{},\"fill\":\"toself\",\"fillcolor\":\"rgba(231,107,243,0.2)\"},{\"type\":\"scatter\",\"mode\":\"lines\",\"x\":[1.0,2.0,3.0,4.0,5.0,6.0,7.0,8.0,9.0,10.0],\"y\":[1.0,2.0,3.0,4.0,5.0,6.0,7.0,8.0,9.0,10.0],\"name\":\"Fair\",\"line\":{\"color\":\"rgb(0,100,80)\"},\"marker\":{}},{\"type\":\"scatter\",\"mode\":\"lines\",\"x\":[1.0,2.0,3.0,4.0,5.0,6.0,7.0,8.0,9.0,10.0],\"y\":[5.0,2.5,5.0,7.5,5.0,2.5,7.5,4.5,5.5,5.0],\"name\":\"Premium\",\"line\":{\"color\":\"rgb(0,176,246)\"},\"marker\":{}},{\"type\":\"scatter\",\"mode\":\"lines\",\"x\":[1.0,2.0,3.0,4.0,5.0,6.0,7.0,8.0,9.0,10.0],\"y\":[10.0,8.0,6.0,4.0,2.0,0.0,2.0,4.0,2.0,0.0],\"name\":\"Ideal\",\"line\":{\"color\":\"rgb(231,107,243)\"},\"marker\":{}}];\n",
       "            var layout = {};\n",
       "            var config = {};\n",
       "            Plotly.newPlot('5cdbc21d-66a9-4d48-ac60-c6e091c12d43', data, layout, config);\r\n",
       "});\n",
       "            };\n",
       "            if ((typeof(requirejs) !==  typeof(Function)) || (typeof(requirejs.config) !== typeof(Function))) {\n",
       "                var script = document.createElement(\"script\");\n",
       "                script.setAttribute(\"src\", \"https://cdnjs.cloudflare.com/ajax/libs/require.js/2.3.6/require.min.js\");\n",
       "                script.onload = function(){\n",
       "                    renderPlotly_5cdbc21d66a94d48ac60c6e091c12d43();\n",
       "                };\n",
       "                document.getElementsByTagName(\"head\")[0].appendChild(script);\n",
       "            }\n",
       "            else {\n",
       "                renderPlotly_5cdbc21d66a94d48ac60c6e091c12d43();\n",
       "            }\r\n",
       "</script>\r\n"
      ]
     },
     "metadata": {},
     "output_type": "display_data"
    }
   ],
   "metadata": {
    "dotnet_interactive": {
     "language": "fsharp"
    }
   }
  }
 ],
 "metadata": {
  "orig_nbformat": 4,
  "language_info": {
   "file_extension": ".cs",
   "mimetype": "text/x-csharp",
   "name": "C#",
   "pygments_lexer": "csharp",
   "version": "9.0"
  },
  "kernelspec": {
   "display_name": ".NET (C#)",
   "language": "C#",
   "name": ".net-csharp"
  }
 },
 "nbformat": 4,
 "nbformat_minor": 2
}