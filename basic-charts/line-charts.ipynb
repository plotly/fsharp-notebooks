{
 "cells": [
  {
   "cell_type": "markdown",
   "source": [
    "# Line Charts in F#\r\n",
    "\r\n",
    "How to make line charts in F# with Plotly.NET. Examples on creating and styling line charts in F# with Plotly.NET."
   ],
   "metadata": {}
  },
  {
   "cell_type": "code",
   "execution_count": null,
   "source": [
    "#r \"nuget: Plotly.NET,  2.0.0-preview.8\"\r\n",
    "#r \"nuget: newtonsoft.json\"\r\n",
    "#r \"nuget: Plotly.NET.Interactive,  2.0.0-preview.8\"\r\n",
    "\r\n",
    "open Plotly.NET\r\n",
    "open System\r\n",
    "\r\n",
    "let random = System.Random();\r\n",
    "let nextFloat (min, max) = (random.NextDouble() * (max - min) + min);"
   ],
   "outputs": [
    {
     "data": {
      "text/html": [
       "<div><div></div><div></div><div><strong>Installed Packages</strong><ul><li><span>newtonsoft.json, 13.0.1</span></li><li><span>Plotly.NET, 2.0.0-preview.8</span></li><li><span>Plotly.NET.Interactive, 2.0.0-preview.8</span></li></ul></div></div>"
      ]
     },
     "metadata": {},
     "output_type": "display_data"
    },
    {
     "data": {
      "text/markdown": [
       "Loading extensions from `Plotly.NET.Interactive.dll`"
      ]
     },
     "metadata": {},
     "output_type": "display_data"
    },
    {
     "data": {
      "text/markdown": [
       "Added Kernel Extension including formatters for Plotly.NET charts."
      ]
     },
     "metadata": {},
     "output_type": "display_data"
    }
   ],
   "metadata": {
    "dotnet_interactive": {
     "language": "fsharp"
    }
   }
  },
  {
   "cell_type": "markdown",
   "source": [
    "# Sime Line Plot\r\n",
    "\r\n",
    "Line Plots can be rendered either by Chart.Scatter or Chart.Line "
   ],
   "metadata": {}
  },
  {
   "cell_type": "code",
   "execution_count": null,
   "source": [
    "let xs = [0.0 .. 9.0]\r\n",
    "let ys = xs |> Seq.map (fun x -> x ** 2.0)\r\n",
    "\r\n",
    "Chart.Scatter(xs, ys, StyleParam.Mode.Lines_Markers)"
   ],
   "outputs": [
    {
     "data": {
      "text/html": [
       "<div id=\"c9c815fe-9056-4b41-bb52-d60a2fcb9200\" style=\"width: 600px; height: 600px;\"><!-- Plotly chart will be drawn inside this DIV --></div>\r\n",
       "<script type=\"text/javascript\">\r\n",
       "\n",
       "            var renderPlotly_c9c815fe90564b41bb52d60a2fcb9200 = function() {\n",
       "            var fsharpPlotlyRequire = requirejs.config({context:'fsharp-plotly',paths:{plotly:'https://cdn.plot.ly/plotly-latest.min'}}) || require;\n",
       "            fsharpPlotlyRequire(['plotly'], function(Plotly) {\r\n",
       "\n",
       "            var data = [{\"type\":\"scatter\",\"mode\":\"lines+markers\",\"x\":[0.0,1.0,2.0,3.0,4.0,5.0,6.0,7.0,8.0,9.0],\"y\":[0.0,1.0,4.0,9.0,16.0,25.0,36.0,49.0,64.0,81.0],\"line\":{},\"marker\":{}}];\n",
       "            var layout = {};\n",
       "            var config = {};\n",
       "            Plotly.newPlot('c9c815fe-9056-4b41-bb52-d60a2fcb9200', data, layout, config);\r\n",
       "});\n",
       "            };\n",
       "            if ((typeof(requirejs) !==  typeof(Function)) || (typeof(requirejs.config) !== typeof(Function))) {\n",
       "                var script = document.createElement(\"script\");\n",
       "                script.setAttribute(\"src\", \"https://cdnjs.cloudflare.com/ajax/libs/require.js/2.3.6/require.min.js\");\n",
       "                script.onload = function(){\n",
       "                    renderPlotly_c9c815fe90564b41bb52d60a2fcb9200();\n",
       "                };\n",
       "                document.getElementsByTagName(\"head\")[0].appendChild(script);\n",
       "            }\n",
       "            else {\n",
       "                renderPlotly_c9c815fe90564b41bb52d60a2fcb9200();\n",
       "            }\r\n",
       "</script>\r\n"
      ]
     },
     "metadata": {},
     "output_type": "display_data"
    }
   ],
   "metadata": {
    "dotnet_interactive": {
     "language": "fsharp"
    }
   }
  },
  {
   "cell_type": "code",
   "execution_count": null,
   "source": [
    "open Plotly.NET\r\n",
    "\r\n",
    "let x = [1952; 1957; 1962; 1967; 1972; 1977; 1982; 1987; 1992; 1997; 2002; 2007]\r\n",
    "let y = [68.75; 69.96; 71.3; 72.13; 72.88; 74.21; 75.76; 76.86; 77.95; 78.61; 79.77; 80.653]\r\n",
    "\r\n",
    "Chart.Line(x, y)\r\n",
    "|> Chart.withXAxisStyle(\"year\")\r\n",
    "|> Chart.withYAxisStyle(\"lifeExp\")\r\n",
    "|> Chart.withTitle(\"Life expectancy in Canada\")\r\n",
    "|> Chart.withLineStyle(Width=2.0, Dash=StyleParam.DrawingStyle.Solid)"
   ],
   "outputs": [
    {
     "data": {
      "text/html": [
       "<div id=\"251ef68c-ee14-455e-9628-4a0b19d04042\" style=\"width: 600px; height: 600px;\"><!-- Plotly chart will be drawn inside this DIV --></div>\r\n",
       "<script type=\"text/javascript\">\r\n",
       "\n",
       "            var renderPlotly_251ef68cee14455e96284a0b19d04042 = function() {\n",
       "            var fsharpPlotlyRequire = requirejs.config({context:'fsharp-plotly',paths:{plotly:'https://cdn.plot.ly/plotly-latest.min'}}) || require;\n",
       "            fsharpPlotlyRequire(['plotly'], function(Plotly) {\r\n",
       "\n",
       "            var data = [{\"type\":\"scatter\",\"mode\":\"lines\",\"x\":[1952,1957,1962,1967,1972,1977,1982,1987,1992,1997,2002,2007],\"y\":[68.75,69.96,71.3,72.13,72.88,74.21,75.76,76.86,77.95,78.61,79.77,80.653],\"line\":{\"width\":2.0,\"dash\":\"solid\"},\"marker\":{}}];\n",
       "            var layout = {\"xaxis\":{\"title\":{\"text\":\"year\"}},\"yaxis\":{\"title\":{\"text\":\"lifeExp\"}},\"title\":{\"text\":\"Life expectancy in Canada\"}};\n",
       "            var config = {};\n",
       "            Plotly.newPlot('251ef68c-ee14-455e-9628-4a0b19d04042', data, layout, config);\r\n",
       "});\n",
       "            };\n",
       "            if ((typeof(requirejs) !==  typeof(Function)) || (typeof(requirejs.config) !== typeof(Function))) {\n",
       "                var script = document.createElement(\"script\");\n",
       "                script.setAttribute(\"src\", \"https://cdnjs.cloudflare.com/ajax/libs/require.js/2.3.6/require.min.js\");\n",
       "                script.onload = function(){\n",
       "                    renderPlotly_251ef68cee14455e96284a0b19d04042();\n",
       "                };\n",
       "                document.getElementsByTagName(\"head\")[0].appendChild(script);\n",
       "            }\n",
       "            else {\n",
       "                renderPlotly_251ef68cee14455e96284a0b19d04042();\n",
       "            }\r\n",
       "</script>\r\n"
      ]
     },
     "metadata": {},
     "output_type": "display_data"
    }
   ],
   "metadata": {
    "dotnet_interactive": {
     "language": "fsharp"
    }
   }
  },
  {
   "cell_type": "markdown",
   "source": [
    "# MultiLine Chart"
   ],
   "metadata": {}
  },
  {
   "cell_type": "code",
   "execution_count": null,
   "source": [
    "open Plotly.NET\r\n",
    "\r\n",
    "let x  = [1952; 1957; 1962; 1967; 1972; 1977; 1982; 1987; 1992; 1997; 2002; 2007]\r\n",
    "\r\n",
    "// Australia\r\n",
    "let y1 = [69.12; 70.30; 70.93; 71.1; 71.93; 73.49; 74.74; 76.32; 77.56; 78.3; 80.37; 81.235]\r\n",
    "// New Zealand\r\n",
    "let y2 = [69.39; 70.26; 71.24; 71.52; 71.89; 72.22; 73.84; 74.32; 76.33; 77.55; 79.11; 80.204]\r\n",
    "\r\n",
    "[\r\n",
    "        Chart.Line(x, y1)\r\n",
    "        |> Chart.withTraceName(Name=\"Australia\")\r\n",
    "        |> Chart.withLineStyle(Width=2.0, Dash=StyleParam.DrawingStyle.Solid)\r\n",
    "\r\n",
    "        Chart.Line(x, y2)\r\n",
    "        |> Chart.withTraceName(Name=\"New Zealand\")\r\n",
    "        |> Chart.withLineStyle(Width=2.0, Dash=StyleParam.DrawingStyle.Solid) \r\n",
    "] \r\n",
    "|> Chart.combine\r\n",
    "|> Chart.withXAxisStyle(\"year\")\r\n",
    "|> Chart.withYAxisStyle(\"lifeExp\")"
   ],
   "outputs": [
    {
     "data": {
      "text/html": [
       "<div id=\"733638b5-34d0-4c8a-90f6-f77f5efa84ca\" style=\"width: 600px; height: 600px;\"><!-- Plotly chart will be drawn inside this DIV --></div>\r\n",
       "<script type=\"text/javascript\">\r\n",
       "\n",
       "            var renderPlotly_733638b534d04c8a90f6f77f5efa84ca = function() {\n",
       "            var fsharpPlotlyRequire = requirejs.config({context:'fsharp-plotly',paths:{plotly:'https://cdn.plot.ly/plotly-latest.min'}}) || require;\n",
       "            fsharpPlotlyRequire(['plotly'], function(Plotly) {\r\n",
       "\n",
       "            var data = [{\"type\":\"scatter\",\"mode\":\"lines\",\"x\":[1952,1957,1962,1967,1972,1977,1982,1987,1992,1997,2002,2007],\"y\":[69.12,70.3,70.93,71.1,71.93,73.49,74.74,76.32,77.56,78.3,80.37,81.235],\"line\":{\"width\":2.0,\"dash\":\"solid\"},\"marker\":{},\"name\":\"Australia\"},{\"type\":\"scatter\",\"mode\":\"lines\",\"x\":[1952,1957,1962,1967,1972,1977,1982,1987,1992,1997,2002,2007],\"y\":[69.39,70.26,71.24,71.52,71.89,72.22,73.84,74.32,76.33,77.55,79.11,80.204],\"line\":{\"width\":2.0,\"dash\":\"solid\"},\"marker\":{},\"name\":\"New Zealand\"}];\n",
       "            var layout = {\"xaxis\":{\"title\":{\"text\":\"year\"}},\"yaxis\":{\"title\":{\"text\":\"lifeExp\"}}};\n",
       "            var config = {};\n",
       "            Plotly.newPlot('733638b5-34d0-4c8a-90f6-f77f5efa84ca', data, layout, config);\r\n",
       "});\n",
       "            };\n",
       "            if ((typeof(requirejs) !==  typeof(Function)) || (typeof(requirejs.config) !== typeof(Function))) {\n",
       "                var script = document.createElement(\"script\");\n",
       "                script.setAttribute(\"src\", \"https://cdnjs.cloudflare.com/ajax/libs/require.js/2.3.6/require.min.js\");\n",
       "                script.onload = function(){\n",
       "                    renderPlotly_733638b534d04c8a90f6f77f5efa84ca();\n",
       "                };\n",
       "                document.getElementsByTagName(\"head\")[0].appendChild(script);\n",
       "            }\n",
       "            else {\n",
       "                renderPlotly_733638b534d04c8a90f6f77f5efa84ca();\n",
       "            }\r\n",
       "</script>\r\n"
      ]
     },
     "metadata": {},
     "output_type": "display_data"
    }
   ],
   "metadata": {
    "dotnet_interactive": {
     "language": "fsharp"
    }
   }
  },
  {
   "cell_type": "markdown",
   "source": [
    "# Data Order in Line Charts\r\n",
    "\r\n",
    "Plotly line charts are implemented as connected scatterplots (see below), meaning that the points are plotted and connected with lines in the order they are provided, with no automatic reordering.\r\n",
    "\r\n",
    "This makes it possible to make charts like the one below, but also means that it may be required to explicitly sort data before passing it to Plotly.NET to avoid lines moving \"backwards\" across the chart."
   ],
   "metadata": {}
  },
  {
   "cell_type": "code",
   "execution_count": null,
   "source": [
    "open Plotly.NET\r\n",
    "\r\n",
    "let x  = [1.0; 3.0; 2.0; 4.0]\r\n",
    "let y = [1.0; 2.0; 3.0; 4.0]\r\n",
    "\r\n",
    "// How to align title to the left\r\n",
    "Chart.Line(x, y)\r\n",
    "|> Chart.withTitle(\"Unsorted Input\")\r\n",
    "|> Chart.withXAxisStyle(\"X\")\r\n",
    "|> Chart.withYAxisStyle(\"Y\")\r\n",
    "|> Chart.withLineStyle(Width=2.0, Dash=StyleParam.DrawingStyle.Solid)"
   ],
   "outputs": [
    {
     "data": {
      "text/html": [
       "<div id=\"92aaabfd-c851-423a-9b72-606331de2f7c\" style=\"width: 600px; height: 600px;\"><!-- Plotly chart will be drawn inside this DIV --></div>\r\n",
       "<script type=\"text/javascript\">\r\n",
       "\n",
       "            var renderPlotly_92aaabfdc851423a9b72606331de2f7c = function() {\n",
       "            var fsharpPlotlyRequire = requirejs.config({context:'fsharp-plotly',paths:{plotly:'https://cdn.plot.ly/plotly-latest.min'}}) || require;\n",
       "            fsharpPlotlyRequire(['plotly'], function(Plotly) {\r\n",
       "\n",
       "            var data = [{\"type\":\"scatter\",\"mode\":\"lines\",\"x\":[1.0,3.0,2.0,4.0],\"y\":[1.0,2.0,3.0,4.0],\"line\":{\"width\":2.0,\"dash\":\"solid\"},\"marker\":{}}];\n",
       "            var layout = {\"title\":{\"text\":\"Unsorted Input\"},\"xaxis\":{\"title\":{\"text\":\"X\"}},\"yaxis\":{\"title\":{\"text\":\"Y\"}}};\n",
       "            var config = {};\n",
       "            Plotly.newPlot('92aaabfd-c851-423a-9b72-606331de2f7c', data, layout, config);\r\n",
       "});\n",
       "            };\n",
       "            if ((typeof(requirejs) !==  typeof(Function)) || (typeof(requirejs.config) !== typeof(Function))) {\n",
       "                var script = document.createElement(\"script\");\n",
       "                script.setAttribute(\"src\", \"https://cdnjs.cloudflare.com/ajax/libs/require.js/2.3.6/require.min.js\");\n",
       "                script.onload = function(){\n",
       "                    renderPlotly_92aaabfdc851423a9b72606331de2f7c();\n",
       "                };\n",
       "                document.getElementsByTagName(\"head\")[0].appendChild(script);\n",
       "            }\n",
       "            else {\n",
       "                renderPlotly_92aaabfdc851423a9b72606331de2f7c();\n",
       "            }\r\n",
       "</script>\r\n"
      ]
     },
     "metadata": {},
     "output_type": "display_data"
    }
   ],
   "metadata": {
    "dotnet_interactive": {
     "language": "fsharp"
    }
   }
  },
  {
   "cell_type": "code",
   "execution_count": null,
   "source": [
    "open Plotly.NET\r\n",
    "\r\n",
    "let y = [1.0; 3.0; 2.0; 4.0]\r\n",
    "let x = Seq.sort x\r\n",
    "\r\n",
    "// How to align title to the left\r\n",
    "Chart.Line(x, y)\r\n",
    "|> Chart.withTitle(\"Sorted Input\")\r\n",
    "|> Chart.withXAxisStyle(\"X\")\r\n",
    "|> Chart.withYAxisStyle(\"Y\")\r\n",
    "|> Chart.withLineStyle(Width=2.0, Dash=StyleParam.DrawingStyle.Solid) "
   ],
   "outputs": [
    {
     "data": {
      "text/html": [
       "<div id=\"93e523de-a121-4aaa-ba0e-c70718d87f74\" style=\"width: 600px; height: 600px;\"><!-- Plotly chart will be drawn inside this DIV --></div>\r\n",
       "<script type=\"text/javascript\">\r\n",
       "\n",
       "            var renderPlotly_93e523dea1214aaaba0ec70718d87f74 = function() {\n",
       "            var fsharpPlotlyRequire = requirejs.config({context:'fsharp-plotly',paths:{plotly:'https://cdn.plot.ly/plotly-latest.min'}}) || require;\n",
       "            fsharpPlotlyRequire(['plotly'], function(Plotly) {\r\n",
       "\n",
       "            var data = [{\"type\":\"scatter\",\"mode\":\"lines\",\"x\":[1.0,2.0,3.0,4.0],\"y\":[1.0,3.0,2.0,4.0],\"line\":{\"width\":2.0,\"dash\":\"solid\"},\"marker\":{}}];\n",
       "            var layout = {\"title\":{\"text\":\"Sorted Input\"},\"xaxis\":{\"title\":{\"text\":\"X\"}},\"yaxis\":{\"title\":{\"text\":\"Y\"}}};\n",
       "            var config = {};\n",
       "            Plotly.newPlot('93e523de-a121-4aaa-ba0e-c70718d87f74', data, layout, config);\r\n",
       "});\n",
       "            };\n",
       "            if ((typeof(requirejs) !==  typeof(Function)) || (typeof(requirejs.config) !== typeof(Function))) {\n",
       "                var script = document.createElement(\"script\");\n",
       "                script.setAttribute(\"src\", \"https://cdnjs.cloudflare.com/ajax/libs/require.js/2.3.6/require.min.js\");\n",
       "                script.onload = function(){\n",
       "                    renderPlotly_93e523dea1214aaaba0ec70718d87f74();\n",
       "                };\n",
       "                document.getElementsByTagName(\"head\")[0].appendChild(script);\n",
       "            }\n",
       "            else {\n",
       "                renderPlotly_93e523dea1214aaaba0ec70718d87f74();\n",
       "            }\r\n",
       "</script>\r\n"
      ]
     },
     "metadata": {},
     "output_type": "display_data"
    }
   ],
   "metadata": {
    "dotnet_interactive": {
     "language": "fsharp"
    }
   }
  },
  {
   "cell_type": "markdown",
   "source": [
    "# Connected Scatterplots\r\n",
    "\r\n",
    "In a connected scatterplot, two continuous variables are plotted against each other, with a line connecting them in some meaningful order, usually a time variable. In the plot below, we show the \"trajectory\" of a pair of countries through a space defined by GDP per Capita and Life Expectancy. "
   ],
   "metadata": {}
  },
  {
   "cell_type": "code",
   "execution_count": null,
   "source": [
    "open Plotly.NET\r\n",
    "\r\n",
    "let labels = [\"1952\"; \"1957\"; \"1962\"; \"1967\"; \"1972\"; \"1977\"; \"1982\"; \"1987\"; \"1992\"; \"1997\"; \"2002\"; \"2007\"]\r\n",
    "\r\n",
    "// Botswana\r\n",
    "let x1 = [47.622; 49.618; 51.52; 53.298; 56.024; 59.319; 61.484; 63.622; 62.745; 52.556; 46.634; 50.728]\r\n",
    "let y1 = [851.2411; 918.2325; 983.654; 1214.709; 2263.611; 3214.858; 4551.142; 6205.884; 7954.112; 8647.142; 11003.61; 12569.85]\r\n",
    "// Canada\r\n",
    "let x2 = [68.75; 69.96; 71.3; 72.13; 72.88; 74.21; 75.76; 76.86; 77.95; 78.61; 79.77; 80.653]\r\n",
    "let y2 = [11367.86; 12489.95; 13462.49; 16076.59; 18970.57; 22090.88; 22898.79; 26626.52; 26342.88; 28954.93; 33328.97; 36319.24]\r\n",
    "\r\n",
    "[\r\n",
    "        Chart.Line(\r\n",
    "                x1, y1,\r\n",
    "                Name=\"Botswana\",\r\n",
    "                Labels=labels,\r\n",
    "                TextPosition=StyleParam.TextPosition.BottomRight,\r\n",
    "                ShowMarkers=true,\r\n",
    "                MarkerSymbol=StyleParam.Symbol.Circle\r\n",
    "        )\r\n",
    "\r\n",
    "\r\n",
    "        Chart.Line(\r\n",
    "                x2, y2,\r\n",
    "                Name=\"Canada\",\r\n",
    "                Labels=labels,\r\n",
    "                TextPosition=StyleParam.TextPosition.BottomRight,\r\n",
    "                ShowMarkers=true,\r\n",
    "                MarkerSymbol=StyleParam.Symbol.Circle\r\n",
    "        )\r\n",
    "]\r\n",
    "|> Chart.combine\r\n",
    "|> Chart.withXAxisStyle(\"lifeExp\")\r\n",
    "|> Chart.withYAxisStyle(\"gdpPercap\")"
   ],
   "outputs": [
    {
     "data": {
      "text/html": [
       "<div id=\"73d7a7e4-01ec-4383-a7f4-da1575a8c8c0\" style=\"width: 600px; height: 600px;\"><!-- Plotly chart will be drawn inside this DIV --></div>\r\n",
       "<script type=\"text/javascript\">\r\n",
       "\n",
       "            var renderPlotly_73d7a7e401ec4383a7f4da1575a8c8c0 = function() {\n",
       "            var fsharpPlotlyRequire = requirejs.config({context:'fsharp-plotly',paths:{plotly:'https://cdn.plot.ly/plotly-latest.min'}}) || require;\n",
       "            fsharpPlotlyRequire(['plotly'], function(Plotly) {\r\n",
       "\n",
       "            var data = [{\"type\":\"scatter\",\"mode\":\"lines+markers+text\",\"x\":[47.622,49.618,51.52,53.298,56.024,59.319,61.484,63.622,62.745,52.556,46.634,50.728],\"y\":[851.2411,918.2325,983.654,1214.709,2263.611,3214.858,4551.142,6205.884,7954.112,8647.142,11003.61,12569.85],\"line\":{},\"name\":\"Botswana\",\"marker\":{\"symbol\":0},\"text\":[\"1952\",\"1957\",\"1962\",\"1967\",\"1972\",\"1977\",\"1982\",\"1987\",\"1992\",\"1997\",\"2002\",\"2007\"],\"textposition\":\"bottom right\"},{\"type\":\"scatter\",\"mode\":\"lines+markers+text\",\"x\":[68.75,69.96,71.3,72.13,72.88,74.21,75.76,76.86,77.95,78.61,79.77,80.653],\"y\":[11367.86,12489.95,13462.49,16076.59,18970.57,22090.88,22898.79,26626.52,26342.88,28954.93,33328.97,36319.24],\"line\":{},\"name\":\"Canada\",\"marker\":{\"symbol\":0},\"text\":[\"1952\",\"1957\",\"1962\",\"1967\",\"1972\",\"1977\",\"1982\",\"1987\",\"1992\",\"1997\",\"2002\",\"2007\"],\"textposition\":\"bottom right\"}];\n",
       "            var layout = {\"xaxis\":{\"title\":{\"text\":\"lifeExp\"}},\"yaxis\":{\"title\":{\"text\":\"gdpPercap\"}}};\n",
       "            var config = {};\n",
       "            Plotly.newPlot('73d7a7e4-01ec-4383-a7f4-da1575a8c8c0', data, layout, config);\r\n",
       "});\n",
       "            };\n",
       "            if ((typeof(requirejs) !==  typeof(Function)) || (typeof(requirejs.config) !== typeof(Function))) {\n",
       "                var script = document.createElement(\"script\");\n",
       "                script.setAttribute(\"src\", \"https://cdnjs.cloudflare.com/ajax/libs/require.js/2.3.6/require.min.js\");\n",
       "                script.onload = function(){\n",
       "                    renderPlotly_73d7a7e401ec4383a7f4da1575a8c8c0();\n",
       "                };\n",
       "                document.getElementsByTagName(\"head\")[0].appendChild(script);\n",
       "            }\n",
       "            else {\n",
       "                renderPlotly_73d7a7e401ec4383a7f4da1575a8c8c0();\n",
       "            }\r\n",
       "</script>\r\n"
      ]
     },
     "metadata": {},
     "output_type": "display_data"
    }
   ],
   "metadata": {
    "dotnet_interactive": {
     "language": "fsharp"
    }
   }
  },
  {
   "cell_type": "markdown",
   "source": [
    "# Line charts with markers\r\n",
    "\r\n",
    "The ShowMarkers argument can be set to True to show markers on lines.\r\n",
    "The MarkerSymbol sets the type of Marker like StyleParam.Symbol.Circle or StyleParam.Symbol.Diamond"
   ],
   "metadata": {}
  },
  {
   "cell_type": "code",
   "execution_count": null,
   "source": [
    "open Plotly.NET\r\n",
    "\r\n",
    "let x  = [1952; 1957; 1962; 1967; 1972; 1977; 1982; 1987; 1992; 1997; 2002; 2007]\r\n",
    "\r\n",
    "// Australia\r\n",
    "let y1 = [69.12; 70.30; 70.93; 71.1; 71.93; 73.49; 74.74; 76.32; 77.56; 78.3; 80.37; 81.235]\r\n",
    "// New Zealand\r\n",
    "let y2 = [69.39; 70.26; 71.24; 71.52; 71.89; 72.22; 73.84; 74.32; 76.33; 77.55; 79.11; 80.204]\r\n",
    "\r\n",
    "[\r\n",
    "        Chart.Line(x, y1, ShowMarkers=true, MarkerSymbol=StyleParam.Symbol.Circle)\r\n",
    "        |> Chart.withTraceName(Name=\"Australia\")\r\n",
    "        |> Chart.withLineStyle(Width=2.0, Dash=StyleParam.DrawingStyle.Solid)\r\n",
    "\r\n",
    "        Chart.Line(x, y2, ShowMarkers=true, MarkerSymbol=StyleParam.Symbol.Diamond)\r\n",
    "        |> Chart.withTraceName(Name=\"New Zealand\")\r\n",
    "        |> Chart.withLineStyle(Width=2.0, Dash=StyleParam.DrawingStyle.Solid) \r\n",
    "] \r\n",
    "|> Chart.combine\r\n",
    "|> Chart.withXAxisStyle(\"year\")\r\n",
    "|> Chart.withYAxisStyle(\"lifeExp\")"
   ],
   "outputs": [
    {
     "data": {
      "text/html": [
       "<div id=\"038b45e6-c26d-431d-b7c8-71b2f0256d3e\" style=\"width: 600px; height: 600px;\"><!-- Plotly chart will be drawn inside this DIV --></div>\r\n",
       "<script type=\"text/javascript\">\r\n",
       "\n",
       "            var renderPlotly_038b45e6c26d431db7c871b2f0256d3e = function() {\n",
       "            var fsharpPlotlyRequire = requirejs.config({context:'fsharp-plotly',paths:{plotly:'https://cdn.plot.ly/plotly-latest.min'}}) || require;\n",
       "            fsharpPlotlyRequire(['plotly'], function(Plotly) {\r\n",
       "\n",
       "            var data = [{\"type\":\"scatter\",\"mode\":\"lines+markers\",\"x\":[1952,1957,1962,1967,1972,1977,1982,1987,1992,1997,2002,2007],\"y\":[69.12,70.3,70.93,71.1,71.93,73.49,74.74,76.32,77.56,78.3,80.37,81.235],\"line\":{\"width\":2.0,\"dash\":\"solid\"},\"marker\":{\"symbol\":0},\"name\":\"Australia\"},{\"type\":\"scatter\",\"mode\":\"lines+markers\",\"x\":[1952,1957,1962,1967,1972,1977,1982,1987,1992,1997,2002,2007],\"y\":[69.39,70.26,71.24,71.52,71.89,72.22,73.84,74.32,76.33,77.55,79.11,80.204],\"line\":{\"width\":2.0,\"dash\":\"solid\"},\"marker\":{\"symbol\":2},\"name\":\"New Zealand\"}];\n",
       "            var layout = {\"xaxis\":{\"title\":{\"text\":\"year\"}},\"yaxis\":{\"title\":{\"text\":\"lifeExp\"}}};\n",
       "            var config = {};\n",
       "            Plotly.newPlot('038b45e6-c26d-431d-b7c8-71b2f0256d3e', data, layout, config);\r\n",
       "});\n",
       "            };\n",
       "            if ((typeof(requirejs) !==  typeof(Function)) || (typeof(requirejs.config) !== typeof(Function))) {\n",
       "                var script = document.createElement(\"script\");\n",
       "                script.setAttribute(\"src\", \"https://cdnjs.cloudflare.com/ajax/libs/require.js/2.3.6/require.min.js\");\n",
       "                script.onload = function(){\n",
       "                    renderPlotly_038b45e6c26d431db7c871b2f0256d3e();\n",
       "                };\n",
       "                document.getElementsByTagName(\"head\")[0].appendChild(script);\n",
       "            }\n",
       "            else {\n",
       "                renderPlotly_038b45e6c26d431db7c871b2f0256d3e();\n",
       "            }\r\n",
       "</script>\r\n"
      ]
     },
     "metadata": {},
     "output_type": "display_data"
    }
   ],
   "metadata": {
    "dotnet_interactive": {
     "language": "fsharp"
    }
   }
  },
  {
   "cell_type": "markdown",
   "source": [
    "# Line Plot Modes"
   ],
   "metadata": {}
  },
  {
   "cell_type": "code",
   "execution_count": null,
   "source": [
    "let n = 100\r\n",
    "let series = [0..n]\r\n",
    "\r\n",
    "let generate () = series |> Seq.map (fun _-> nextFloat(-2.0, 2.0))\r\n",
    "\r\n",
    "let random_xs = series\r\n",
    "\r\n",
    "let random_ys0 = generate () |> Seq.map(fun x -> x + 5.0)\r\n",
    "let random_ys1 = generate ()\r\n",
    "let random_ys2 = generate () |> Seq.map(fun x -> x - 5.0)\r\n",
    "\r\n",
    "// Create traces\r\n",
    "[\r\n",
    "    Chart.Scatter(random_xs, random_ys0, StyleParam.Mode.Lines)\r\n",
    "    |> Chart.withTraceName(Name=\"lines\")\r\n",
    "\r\n",
    "    Chart.Scatter(random_xs, random_ys1, StyleParam.Mode.Lines_Markers)\r\n",
    "    |> Chart.withTraceName(Name=\"lines+markers\")\r\n",
    "\r\n",
    "    Chart.Scatter(random_xs, random_ys2, StyleParam.Mode.Markers)\r\n",
    "    |> Chart.withTraceName(Name=\"markers\")\r\n",
    "]\r\n",
    "|> Chart.combine\r\n",
    "|> Chart.withSize(1100.,700.)"
   ],
   "outputs": [
    {
     "data": {
      "text/html": [
       "<div id=\"f6b0a2d2-3641-4686-ac75-eb5609b71766\" style=\"width: 600px; height: 600px;\"><!-- Plotly chart will be drawn inside this DIV --></div>\r\n",
       "<script type=\"text/javascript\">\r\n",
       "\n",
       "            var renderPlotly_f6b0a2d236414686ac75eb5609b71766 = function() {\n",
       "            var fsharpPlotlyRequire = requirejs.config({context:'fsharp-plotly',paths:{plotly:'https://cdn.plot.ly/plotly-latest.min'}}) || require;\n",
       "            fsharpPlotlyRequire(['plotly'], function(Plotly) {\r\n",
       "\n",
       "            var data = [{\"type\":\"scatter\",\"mode\":\"lines\",\"x\":[0,1,2,3,4,5,6,7,8,9,10,11,12,13,14,15,16,17,18,19,20,21,22,23,24,25,26,27,28,29,30,31,32,33,34,35,36,37,38,39,40,41,42,43,44,45,46,47,48,49,50,51,52,53,54,55,56,57,58,59,60,61,62,63,64,65,66,67,68,69,70,71,72,73,74,75,76,77,78,79,80,81,82,83,84,85,86,87,88,89,90,91,92,93,94,95,96,97,98,99,100],\"y\":[4.40200426494796,4.974278134281876,6.324573097436025,3.933522338482329,4.277991690336723,5.360427175816348,6.888674914785044,6.525379385578157,6.112419431615816,6.90976642813057,4.332939347872948,5.414297581843239,3.79822696782566,4.588024134555843,3.5898923075710854,3.2544893809847952,6.41024345504597,3.0572715606807135,5.080623162016563,6.144694819648143,4.966772533006394,3.7398196387755775,3.473274719190446,3.224299106851359,4.214358693554233,3.556113370021858,5.3414327624912525,5.7297628851280376,4.794915574507283,5.004606767559707,6.913020048249988,4.86110812139749,5.414849628887534,4.379618058623568,6.030443420182189,6.181401481470745,5.398696270956982,5.87331018916951,5.708255538115397,3.777833158512522,6.130125917089231,5.307935849906847,4.877557407076265,3.865578826919933,6.173341715323432,3.90142456297829,3.7263925060287084,3.851628275984725,6.233077430740501,4.198454103059347,4.80600248733815,5.248774970997486,3.5248620456666044,4.241283074599357,3.9587293718749326,3.6621846261723827,4.50100341509143,6.100273990584665,6.719163644928096,3.7218783203148647,3.0189944133250948,4.158912029657007,4.730463811070875,4.10781266405611,6.996746379880582,6.471831226475459,6.999447952955704,6.418608909202092,5.557580714373654,4.40849082610034,4.855793110027813,3.5369332658764594,4.3490160225653165,4.3027900035040405,3.0145689025589117,6.658836683099548,5.862262231699313,6.607695892270513,4.050957391527927,3.3129341305759428,6.829720863993149,4.489804486506527,6.496685454387537,3.596461471447936,3.1986042802215575,4.664245077252502,4.336246075730886,4.173566554288178,3.4208886867486354,5.368258794009806,4.680398066379315,6.298422280372317,6.1541465442414145,4.986377217800532,3.758838745187427,4.971213887432224,3.5774720388359724,3.769744743020155,3.868832447039351,6.701510488847974,3.901976610022586],\"line\":{},\"marker\":{},\"name\":\"lines\"},{\"type\":\"scatter\",\"mode\":\"lines+markers\",\"x\":[0,1,2,3,4,5,6,7,8,9,10,11,12,13,14,15,16,17,18,19,20,21,22,23,24,25,26,27,28,29,30,31,32,33,34,35,36,37,38,39,40,41,42,43,44,45,46,47,48,49,50,51,52,53,54,55,56,57,58,59,60,61,62,63,64,65,66,67,68,69,70,71,72,73,74,75,76,77,78,79,80,81,82,83,84,85,86,87,88,89,90,91,92,93,94,95,96,97,98,99,100],\"y\":[-0.6922164031733835,0.29404756161107093,-0.17541339535983913,1.3426609930315339,-0.7309307785383103,-1.1002410515678305,1.2220720421625635,-0.7732858279595551,-0.7001073112246148,-0.20007760552693044,-0.10669247717908226,0.04931659905673769,1.406229514352153,-1.1078425436782848,0.5291899268185674,-0.3377734247305306,-0.8659976603770618,-1.0907916161654478,0.3325013026280801,0.13558515074457267,0.825881398667526,0.9977202224534563,-1.810678079636152,1.7280927597210245,0.557370829655496,-0.6172132783649551,1.3626388047647842,-1.4560487416833867,0.043355015126687935,1.0813646442635751,0.09251748867915843,0.7388634452311615,-0.6505530973200468,1.4109575205533567,0.5219372671665332,1.1957569248954565,-0.3279011502526241,-0.7461995215835979,0.9295350587598676,-1.2355138711796672,0.11417403356832168,1.9468523822477333,1.12099599797325,-1.4316636004632635,1.7870905435583975,-0.7508943186844208,1.747917029889262,-0.9057802385211831,0.22964881836885986,-1.6910126878372453,1.4434696992130345,1.8605363591856028,0.536331144411271,-0.43407466189659893,0.07609521135506014,0.31006337437316,0.10472564124722306,0.0964938449191366,-1.214709836623962,1.886282499826645,-0.46287985633261486,0.6781207838459502,1.183359156913757,0.21852804451180985,1.7074049057939114,1.1544440775897558,-1.3001303036232155,1.995271993798796,0.37022018915518196,1.3334330019231109,1.9901277255220933,1.8802018612065363,-0.02032667492531548,-0.43198482619225276,-1.978588882823749,0.8790290164197931,1.8767242244802063,1.6209855208271118,1.9410022161626266,-0.6917348516600834,-0.365130308254217,0.26841904328596744,0.3143024399477534,-0.2656322970360667,1.6378949450505407,0.23198112949355565,-1.7974676991801093,1.783521564576552,-0.6651376908017033,-1.7881261072066268,-0.9089687163517666,1.5756050048282395,-1.531489684959636,1.043252558933223,1.227365985152948,1.4360532497223715,-1.2365067746660237,-1.0975320465385598,-1.1390685062571748,-1.3673535340313583,-1.4507640150612051],\"line\":{},\"marker\":{},\"name\":\"lines+markers\"},{\"type\":\"scatter\",\"mode\":\"markers\",\"x\":[0,1,2,3,4,5,6,7,8,9,10,11,12,13,14,15,16,17,18,19,20,21,22,23,24,25,26,27,28,29,30,31,32,33,34,35,36,37,38,39,40,41,42,43,44,45,46,47,48,49,50,51,52,53,54,55,56,57,58,59,60,61,62,63,64,65,66,67,68,69,70,71,72,73,74,75,76,77,78,79,80,81,82,83,84,85,86,87,88,89,90,91,92,93,94,95,96,97,98,99,100],\"y\":[-3.247354963909534,-4.276000427676365,-4.103784183554251,-6.681140413359339,-3.436732161993502,-5.119136965889082,-6.031684029396477,-5.45548577907285,-3.802933805064733,-4.566660850107047,-4.516259879579889,-4.84450837124349,-3.5229749849638785,-4.748587191919139,-3.731298899618582,-6.636181656101803,-5.551008546050176,-4.419366900538731,-5.524576223699644,-4.048088223230135,-6.083651868199768,-4.339590315399501,-4.841653703638191,-4.757598281725123,-6.585477279306146,-3.588308453833828,-4.063579233858539,-4.659350811345201,-6.4146421325461205,-4.884464208914183,-4.025743728981234,-4.239945972915714,-3.691644249806015,-6.240970836598878,-5.1177753443446825,-3.4555805290376678,-3.5819133764979956,-5.584491883676728,-6.9253728929559575,-6.648881904617363,-3.765783669783633,-4.760992656350599,-4.86220388573697,-5.221465257099581,-4.392708836771877,-5.579886623928271,-6.008514699995757,-6.208160249147639,-3.04133511522847,-3.9277650941758253,-3.6854982286158475,-4.678165145999829,-3.6144922825575305,-5.319265310801224,-3.367112146861438,-5.9077646485100335,-6.434346724038174,-6.346185901829128,-3.0956631340531926,-6.8484237081596735,-4.055557732030543,-4.372333218051276,-6.04084364652673,-5.918469596150549,-3.5409171211258124,-3.276313906664175,-4.152864121437475,-4.282004148365001,-6.6308118475744555,-3.2757183705809148,-6.054268279603807,-6.966516662373448,-4.493994007582773,-5.875694319082282,-3.282304553446502,-4.322659211849169,-6.4773864296625305,-6.620188446538611,-3.3648894449532447,-4.005590655377875,-4.579793753838071,-4.8554189847109,-4.61801569611673,-5.486877038370295,-4.198965980298336,-6.347578582981405,-3.6254536903581833,-5.372378939004792,-5.873858689737441,-6.210010695834649,-4.021233804999493,-4.235727474668868,-5.4888287496235355,-3.0769491847962835,-5.5933241725868195,-6.393450451732358,-5.720149009823869,-5.94373428958642,-4.680548135973768,-4.1163949301077025,-4.427022502490796],\"line\":{},\"marker\":{},\"name\":\"markers\"}];\n",
       "            var layout = {\"width\":1100,\"height\":700};\n",
       "            var config = {};\n",
       "            Plotly.newPlot('f6b0a2d2-3641-4686-ac75-eb5609b71766', data, layout, config);\r\n",
       "});\n",
       "            };\n",
       "            if ((typeof(requirejs) !==  typeof(Function)) || (typeof(requirejs.config) !== typeof(Function))) {\n",
       "                var script = document.createElement(\"script\");\n",
       "                script.setAttribute(\"src\", \"https://cdnjs.cloudflare.com/ajax/libs/require.js/2.3.6/require.min.js\");\n",
       "                script.onload = function(){\n",
       "                    renderPlotly_f6b0a2d236414686ac75eb5609b71766();\n",
       "                };\n",
       "                document.getElementsByTagName(\"head\")[0].appendChild(script);\n",
       "            }\n",
       "            else {\n",
       "                renderPlotly_f6b0a2d236414686ac75eb5609b71766();\n",
       "            }\r\n",
       "</script>\r\n"
      ]
     },
     "metadata": {},
     "output_type": "display_data"
    }
   ],
   "metadata": {
    "dotnet_interactive": {
     "language": "fsharp"
    }
   }
  },
  {
   "cell_type": "markdown",
   "source": [
    "# Style Line Plots\r\n",
    "This example styles the color and dash of the traces, adds trace names, modifies line width, and adds plot and axes titles."
   ],
   "metadata": {}
  },
  {
   "cell_type": "code",
   "execution_count": null,
   "source": [
    "\r\n",
    "//  Add data\r\n",
    "let month = [\"January\";\"February\";\"March\";\"April\";\"May\";\"June\";\"July\";\"August\";\"September\";\"October\";\"November\";\"December\"]\r\n",
    "let high_2000 = [32.5; 37.6; 49.9; 53.0; 69.1; 75.4; 76.5; 76.6; 70.7; 60.6; 45.1; 29.3]\r\n",
    "let low_2000 = [13.8; 22.3; 32.5; 37.2; 49.9; 56.1; 57.7; 58.3; 51.2; 42.8; 31.6; 15.9]\r\n",
    "let high_2007 = [36.5; 26.6; 43.6; 52.3; 71.5; 81.4; 80.5; 82.2; 76.0; 67.3; 46.1; 35.0]\r\n",
    "let low_2007 = [23.6; 14.0; 27.0; 36.8; 47.6; 57.7; 58.9; 61.2; 53.3; 48.5; 31.0; 23.6]\r\n",
    "let high_2014 = [28.8; 28.5; 37.0; 56.8; 69.7; 79.7; 78.5; 77.8; 74.1; 62.6; 45.3; 39.9]\r\n",
    "let low_2014 = [12.7; 14.3; 18.6; 35.5; 49.9; 58.0; 60.0; 58.6; 51.7; 45.2; 32.2; 29.1]\r\n",
    "\r\n",
    "\r\n",
    "// Create and style traces\r\n",
    "let high2014Chart = Chart.Scatter(month, high_2014, StyleParam.Mode.Lines_Markers,  Name=\"High 2014\")\r\n",
    "                        |> Chart.withLineStyle(Color =Color.fromString \"firebrick\", Width=4.)\r\n",
    "\r\n",
    "let low2014Chart = Chart.Scatter(month, low_2014, StyleParam.Mode.Lines_Markers,  Name=\"Low 2014\")\r\n",
    "                        |> Chart.withLineStyle(Color = Color.fromString \"royalblue\", Width=4.)\r\n",
    "\r\n",
    "let high2007Chart = Chart.Scatter(month, high_2007, StyleParam.Mode.Lines_Markers,  Name=\"High 2007\")\r\n",
    "                        |> Chart.withLineStyle(Color =Color.fromString \"firebrick\", Width=4., Dash=StyleParam.DrawingStyle.Dash)  \r\n",
    "                        //dash options include 'dash', 'dot', and 'dashdot'\r\n",
    "\r\n",
    "let low2007Chart = Chart.Scatter(month, low_2007, StyleParam.Mode.Lines_Markers,  Name=\"Low 2007\")\r\n",
    "                        |> Chart.withLineStyle(Color = Color.fromString \"royalblue\", Width=4., Dash=StyleParam.DrawingStyle.Dash)  \r\n",
    "\r\n",
    "\r\n",
    "let high2000Chart = Chart.Scatter(month, high_2000, StyleParam.Mode.Lines_Markers,  Name=\"High 2000\")\r\n",
    "                        |> Chart.withLineStyle(Color = Color.fromString \"firebrick\", Width=4., Dash=StyleParam.DrawingStyle.Dot)\r\n",
    "\r\n",
    "let low2000Chart = Chart.Scatter(month, low_2000, StyleParam.Mode.Lines_Markers,  Name=\"Low 2000\")\r\n",
    "                        |> Chart.withLineStyle(Color = Color.fromString \"royalblue\", Width=4., Dash=StyleParam.DrawingStyle.Dot)  \r\n",
    "\r\n",
    "\r\n",
    "[\r\n",
    "    high2014Chart;\r\n",
    "    low2014Chart;\r\n",
    "    high2007Chart;\r\n",
    "    low2007Chart;\r\n",
    "    high2000Chart;\r\n",
    "    low2000Chart\r\n",
    "\r\n",
    "] \r\n",
    "    |> Chart.combine\r\n",
    "    |> Chart.withTitle(\"Average High and Low Temperatures in New York\")\r\n",
    "    |> Chart.withXAxisStyle (\"Month\")\r\n",
    "    |> Chart.withYAxisStyle (\"Temperature (degrees F)\")\r\n",
    "    |> Chart.withSize(1100.,700.)"
   ],
   "outputs": [
    {
     "data": {
      "text/html": [
       "<div id=\"ce2c01a2-f283-41bb-b6fa-3b72cfdb6b40\" style=\"width: 600px; height: 600px;\"><!-- Plotly chart will be drawn inside this DIV --></div>\r\n",
       "<script type=\"text/javascript\">\r\n",
       "\n",
       "            var renderPlotly_ce2c01a2f28341bbb6fa3b72cfdb6b40 = function() {\n",
       "            var fsharpPlotlyRequire = requirejs.config({context:'fsharp-plotly',paths:{plotly:'https://cdn.plot.ly/plotly-latest.min'}}) || require;\n",
       "            fsharpPlotlyRequire(['plotly'], function(Plotly) {\r\n",
       "\n",
       "            var data = [{\"type\":\"scatter\",\"mode\":\"lines+markers\",\"x\":[\"January\",\"February\",\"March\",\"April\",\"May\",\"June\",\"July\",\"August\",\"September\",\"October\",\"November\",\"December\"],\"y\":[28.8,28.5,37.0,56.8,69.7,79.7,78.5,77.8,74.1,62.6,45.3,39.9],\"name\":\"High 2014\",\"line\":{\"color\":\"firebrick\",\"width\":4.0},\"marker\":{}},{\"type\":\"scatter\",\"mode\":\"lines+markers\",\"x\":[\"January\",\"February\",\"March\",\"April\",\"May\",\"June\",\"July\",\"August\",\"September\",\"October\",\"November\",\"December\"],\"y\":[12.7,14.3,18.6,35.5,49.9,58.0,60.0,58.6,51.7,45.2,32.2,29.1],\"name\":\"Low 2014\",\"line\":{\"color\":\"royalblue\",\"width\":4.0},\"marker\":{}},{\"type\":\"scatter\",\"mode\":\"lines+markers\",\"x\":[\"January\",\"February\",\"March\",\"April\",\"May\",\"June\",\"July\",\"August\",\"September\",\"October\",\"November\",\"December\"],\"y\":[36.5,26.6,43.6,52.3,71.5,81.4,80.5,82.2,76.0,67.3,46.1,35.0],\"name\":\"High 2007\",\"line\":{\"color\":\"firebrick\",\"width\":4.0,\"dash\":\"dash\"},\"marker\":{}},{\"type\":\"scatter\",\"mode\":\"lines+markers\",\"x\":[\"January\",\"February\",\"March\",\"April\",\"May\",\"June\",\"July\",\"August\",\"September\",\"October\",\"November\",\"December\"],\"y\":[23.6,14.0,27.0,36.8,47.6,57.7,58.9,61.2,53.3,48.5,31.0,23.6],\"name\":\"Low 2007\",\"line\":{\"color\":\"royalblue\",\"width\":4.0,\"dash\":\"dash\"},\"marker\":{}},{\"type\":\"scatter\",\"mode\":\"lines+markers\",\"x\":[\"January\",\"February\",\"March\",\"April\",\"May\",\"June\",\"July\",\"August\",\"September\",\"October\",\"November\",\"December\"],\"y\":[32.5,37.6,49.9,53.0,69.1,75.4,76.5,76.6,70.7,60.6,45.1,29.3],\"name\":\"High 2000\",\"line\":{\"color\":\"firebrick\",\"width\":4.0,\"dash\":\"dot\"},\"marker\":{}},{\"type\":\"scatter\",\"mode\":\"lines+markers\",\"x\":[\"January\",\"February\",\"March\",\"April\",\"May\",\"June\",\"July\",\"August\",\"September\",\"October\",\"November\",\"December\"],\"y\":[13.8,22.3,32.5,37.2,49.9,56.1,57.7,58.3,51.2,42.8,31.6,15.9],\"name\":\"Low 2000\",\"line\":{\"color\":\"royalblue\",\"width\":4.0,\"dash\":\"dot\"},\"marker\":{}}];\n",
       "            var layout = {\"title\":{\"text\":\"Average High and Low Temperatures in New York\"},\"xaxis\":{\"title\":{\"text\":\"Month\"}},\"yaxis\":{\"title\":{\"text\":\"Temperature (degrees F)\"}},\"width\":1100,\"height\":700};\n",
       "            var config = {};\n",
       "            Plotly.newPlot('ce2c01a2-f283-41bb-b6fa-3b72cfdb6b40', data, layout, config);\r\n",
       "});\n",
       "            };\n",
       "            if ((typeof(requirejs) !==  typeof(Function)) || (typeof(requirejs.config) !== typeof(Function))) {\n",
       "                var script = document.createElement(\"script\");\n",
       "                script.setAttribute(\"src\", \"https://cdnjs.cloudflare.com/ajax/libs/require.js/2.3.6/require.min.js\");\n",
       "                script.onload = function(){\n",
       "                    renderPlotly_ce2c01a2f28341bbb6fa3b72cfdb6b40();\n",
       "                };\n",
       "                document.getElementsByTagName(\"head\")[0].appendChild(script);\n",
       "            }\n",
       "            else {\n",
       "                renderPlotly_ce2c01a2f28341bbb6fa3b72cfdb6b40();\n",
       "            }\r\n",
       "</script>\r\n"
      ]
     },
     "metadata": {},
     "output_type": "display_data"
    }
   ],
   "metadata": {
    "dotnet_interactive": {
     "language": "fsharp"
    }
   }
  },
  {
   "cell_type": "markdown",
   "source": [
    "# Connect Data Gaps\r\n",
    "ConnectGaps determines if missing values in the provided data are shown as a gap in the graph or not"
   ],
   "metadata": {}
  },
  {
   "cell_type": "code",
   "execution_count": null,
   "source": [
    "open Plotly.NET.TraceObjects\r\n",
    "\r\n",
    "let xs = [1; 2; 3; 4; 5; 6; 7; 8; 9; 10; 11; 12; 13; 14; 15]\r\n",
    "\r\n",
    "let chart = Chart.Scatter(xs,\r\n",
    "             [10.; 20.; nan; 15.; 10.; 5.; 15.;nan; 20.; 10.; 10.; 15.; 25.; 20.; 10.], \r\n",
    "             StyleParam.Mode.Lines_Markers, Name=\"<b>No</b> Gaps\")             \r\n",
    "             |> GenericChart.mapTrace (Trace2DStyle.Scatter(ConnectGaps = true))\r\n",
    "[\r\n",
    "    \r\n",
    "    chart;\r\n",
    "    Chart.Scatter(xs,\r\n",
    "             [5.; 15.; nan; 10.; 5.; 0.; 10.; nan; 15.; 5.; 5.; 10.; 20.; 15.; 5.], \r\n",
    "             StyleParam.Mode.Lines_Markers, Name=\"Gaps\")\r\n",
    "] |> Chart.combine"
   ],
   "outputs": [
    {
     "data": {
      "text/html": [
       "<div id=\"fc06eab2-7a9e-4794-9a09-cc75a4887f84\" style=\"width: 600px; height: 600px;\"><!-- Plotly chart will be drawn inside this DIV --></div>\r\n",
       "<script type=\"text/javascript\">\r\n",
       "\n",
       "            var renderPlotly_fc06eab27a9e47949a09cc75a4887f84 = function() {\n",
       "            var fsharpPlotlyRequire = requirejs.config({context:'fsharp-plotly',paths:{plotly:'https://cdn.plot.ly/plotly-latest.min'}}) || require;\n",
       "            fsharpPlotlyRequire(['plotly'], function(Plotly) {\r\n",
       "\n",
       "            var data = [{\"type\":\"scatter\",\"mode\":\"lines+markers\",\"x\":[1,2,3,4,5,6,7,8,9,10,11,12,13,14,15],\"y\":[10.0,20.0,\"NaN\",15.0,10.0,5.0,15.0,\"NaN\",20.0,10.0,10.0,15.0,25.0,20.0,10.0],\"name\":\"<b>No</b> Gaps\",\"line\":{},\"marker\":{},\"connectgaps\":true},{\"type\":\"scatter\",\"mode\":\"lines+markers\",\"x\":[1,2,3,4,5,6,7,8,9,10,11,12,13,14,15],\"y\":[5.0,15.0,\"NaN\",10.0,5.0,0.0,10.0,\"NaN\",15.0,5.0,5.0,10.0,20.0,15.0,5.0],\"name\":\"Gaps\",\"line\":{},\"marker\":{}}];\n",
       "            var layout = {};\n",
       "            var config = {};\n",
       "            Plotly.newPlot('fc06eab2-7a9e-4794-9a09-cc75a4887f84', data, layout, config);\r\n",
       "});\n",
       "            };\n",
       "            if ((typeof(requirejs) !==  typeof(Function)) || (typeof(requirejs.config) !== typeof(Function))) {\n",
       "                var script = document.createElement(\"script\");\n",
       "                script.setAttribute(\"src\", \"https://cdnjs.cloudflare.com/ajax/libs/require.js/2.3.6/require.min.js\");\n",
       "                script.onload = function(){\n",
       "                    renderPlotly_fc06eab27a9e47949a09cc75a4887f84();\n",
       "                };\n",
       "                document.getElementsByTagName(\"head\")[0].appendChild(script);\n",
       "            }\n",
       "            else {\n",
       "                renderPlotly_fc06eab27a9e47949a09cc75a4887f84();\n",
       "            }\r\n",
       "</script>\r\n"
      ]
     },
     "metadata": {},
     "output_type": "display_data"
    }
   ],
   "metadata": {
    "dotnet_interactive": {
     "language": "fsharp"
    }
   }
  },
  {
   "cell_type": "markdown",
   "source": [
    "# Interpolation with Line Plots"
   ],
   "metadata": {}
  },
  {
   "cell_type": "code",
   "execution_count": null,
   "source": [
    "open Plotly.NET.LayoutObjects\r\n",
    "\r\n",
    "let xs = [1; 2; 3; 4; 5]\r\n",
    "let ys = [1; 3; 2; 3; 1]\r\n",
    "\r\n",
    "let linear = Chart.Scatter(xs, ys, StyleParam.Mode.Lines_Markers,Name=\"linear\") \r\n",
    "            |> Chart.withLineStyle(Shape =StyleParam.Shape.Linear)\r\n",
    "\r\n",
    "let spline = Chart.Scatter(xs, ys |> Seq.map(fun y->y+5) ,StyleParam.Mode.Lines_Markers,Labels=[\"tweak line smoothness<br>with 'smoothing' in line object\"],Name=\"spline\") \r\n",
    "            |> Chart.withLineStyle(Shape =StyleParam.Shape.Spline)\r\n",
    "\r\n",
    "let vhv = Chart.Scatter(xs, ys |> Seq.map(fun y->y+10), StyleParam.Mode.Lines_Markers,Name=\"vhv\") \r\n",
    "            |> Chart.withLineStyle(Shape =StyleParam.Shape.Vhv)\r\n",
    "\r\n",
    "let hvh = Chart.Scatter(xs, ys |> Seq.map(fun y->y+15), StyleParam.Mode.Lines_Markers,Name=\"hvh\") \r\n",
    "            |> Chart.withLineStyle(Shape =StyleParam.Shape.Hvh)\r\n",
    "\r\n",
    "let vh = Chart.Scatter(xs, ys |> Seq.map(fun y->y+20), StyleParam.Mode.Lines_Markers,Name=\"vh\") \r\n",
    "            |> Chart.withLineStyle(Shape =StyleParam.Shape.Vh)\r\n",
    "\r\n",
    "let hv = Chart.Scatter(xs,  ys |> Seq.map(fun y->y+25), StyleParam.Mode.Lines_Markers,Name=\"hv\") \r\n",
    "            |> Chart.withLineStyle(Shape =StyleParam.Shape.Hv)\r\n",
    "\r\n",
    "[\r\n",
    "    linear;\r\n",
    "    spline;\r\n",
    "    vhv;\r\n",
    "    hvh;\r\n",
    "    vh;\r\n",
    "    hv  ]\r\n",
    "|> Chart.combine\r\n",
    "|> Chart.withLegend(Legend.init(Y=0.5,TraceOrder=StyleParam.TraceOrder.Reversed))\r\n",
    "|> Chart.withLayout(Layout.init(Font=Font.init(Size=16.)))\r\n",
    "|> Chart.withSize(1100.,700.)"
   ],
   "outputs": [
    {
     "data": {
      "text/html": [
       "<div id=\"63638f76-bcd1-4800-9872-8985d0b4be39\" style=\"width: 600px; height: 600px;\"><!-- Plotly chart will be drawn inside this DIV --></div>\r\n",
       "<script type=\"text/javascript\">\r\n",
       "\n",
       "            var renderPlotly_63638f76bcd1480098728985d0b4be39 = function() {\n",
       "            var fsharpPlotlyRequire = requirejs.config({context:'fsharp-plotly',paths:{plotly:'https://cdn.plot.ly/plotly-latest.min'}}) || require;\n",
       "            fsharpPlotlyRequire(['plotly'], function(Plotly) {\r\n",
       "\n",
       "            var data = [{\"type\":\"scatter\",\"mode\":\"lines+markers\",\"x\":[1,2,3,4,5],\"y\":[1,3,2,3,1],\"name\":\"linear\",\"line\":{\"shape\":\"linear\"},\"marker\":{}},{\"type\":\"scatter\",\"mode\":\"lines+markers\",\"x\":[1,2,3,4,5],\"y\":[6,8,7,8,6],\"name\":\"spline\",\"line\":{\"shape\":\"spline\"},\"marker\":{},\"text\":[\"tweak line smoothness<br>with 'smoothing' in line object\"]},{\"type\":\"scatter\",\"mode\":\"lines+markers\",\"x\":[1,2,3,4,5],\"y\":[11,13,12,13,11],\"name\":\"vhv\",\"line\":{\"shape\":\"vhv\"},\"marker\":{}},{\"type\":\"scatter\",\"mode\":\"lines+markers\",\"x\":[1,2,3,4,5],\"y\":[16,18,17,18,16],\"name\":\"hvh\",\"line\":{\"shape\":\"hvh\"},\"marker\":{}},{\"type\":\"scatter\",\"mode\":\"lines+markers\",\"x\":[1,2,3,4,5],\"y\":[21,23,22,23,21],\"name\":\"vh\",\"line\":{\"shape\":\"vh\"},\"marker\":{}},{\"type\":\"scatter\",\"mode\":\"lines+markers\",\"x\":[1,2,3,4,5],\"y\":[26,28,27,28,26],\"name\":\"hv\",\"line\":{\"shape\":\"hv\"},\"marker\":{}}];\n",
       "            var layout = {\"legend\":{\"y\":0.5,\"traceorder\":\"reversed\"},\"font\":{\"size\":16.0},\"width\":1100,\"height\":700};\n",
       "            var config = {};\n",
       "            Plotly.newPlot('63638f76-bcd1-4800-9872-8985d0b4be39', data, layout, config);\r\n",
       "});\n",
       "            };\n",
       "            if ((typeof(requirejs) !==  typeof(Function)) || (typeof(requirejs.config) !== typeof(Function))) {\n",
       "                var script = document.createElement(\"script\");\n",
       "                script.setAttribute(\"src\", \"https://cdnjs.cloudflare.com/ajax/libs/require.js/2.3.6/require.min.js\");\n",
       "                script.onload = function(){\n",
       "                    renderPlotly_63638f76bcd1480098728985d0b4be39();\n",
       "                };\n",
       "                document.getElementsByTagName(\"head\")[0].appendChild(script);\n",
       "            }\n",
       "            else {\n",
       "                renderPlotly_63638f76bcd1480098728985d0b4be39();\n",
       "            }\r\n",
       "</script>\r\n"
      ]
     },
     "metadata": {},
     "output_type": "display_data"
    }
   ],
   "metadata": {
    "dotnet_interactive": {
     "language": "fsharp"
    }
   }
  },
  {
   "cell_type": "markdown",
   "source": [
    "# Label Lines with Annotations"
   ],
   "metadata": {}
  },
  {
   "cell_type": "code",
   "execution_count": null,
   "source": [
    "open Plotly.NET.TraceObjects\r\n",
    "\r\n",
    "let title = \"Main Source for News\"\r\n",
    "let labels = [\"Television\"; \"Newspaper\"; \"Internet\"; \"Radio\"]\r\n",
    "let colors = [\"rgb(67,67,67)\"; \"rgb(115,115,115)\"; \"rgb(49,130,189)\"; \"rgb(189,189,189)\"]\r\n",
    "                |> Seq.map (fun c -> Color.fromString c)\r\n",
    "                |> Seq.toArray\r\n",
    "\r\n",
    "let mode_size = [|8; 8; 12; 8|]\r\n",
    "let line_size = [|2.; 2.; 4.; 2.|]\r\n",
    "\r\n",
    "let x_data = [1 ..4 ] |> Seq.map(fun _-> [|2001 .. 2014|]) |> Seq.toArray\r\n",
    "\r\n",
    "let y_data = [|\r\n",
    "    [|74; 82; 80; 74; 73; 72; 74; 70; 70; 66; 66; 69|];\r\n",
    "    [|45; 42; 50; 46; 36; 36; 34; 35; 32; 31; 31; 28|];\r\n",
    "    [|13; 14; 20; 24; 20; 24; 24; 40; 35; 41; 43; 50|];\r\n",
    "    [|18; 21; 18; 21; 16; 14; 13; 18; 17; 16; 19; 23|]|]\r\n",
    "\r\n",
    "let annotations = seq {\r\n",
    "        for (y_trace, label, color) in Seq.zip3 y_data labels colors do\r\n",
    "\r\n",
    "        // labeling the left_side of the plot     \r\n",
    "        let a1 = Annotation.init(XRef=\"paper\", X=0.05, Y=y_trace.[0],\r\n",
    "                                  Text=  $\"{label} {y_trace.[0]}%%\",\r\n",
    "                                  ShowArrow=false,\r\n",
    "                                  Font=Font.init(Family=StyleParam.FontFamily.Arial, Size=16.), \r\n",
    "                                  XAnchor = StyleParam.XAnchorPosition.Right,\r\n",
    "                                  YAnchor = StyleParam.YAnchorPosition.Middle)\r\n",
    "\r\n",
    "        //labeling the right_side of the plot\r\n",
    "        let a2 = Annotation.init(XRef=\"paper\", X=0.95, Y=y_trace.[11],\r\n",
    "                                  Text=  $\"{y_trace.[11]}%%\",\r\n",
    "                                  ShowArrow=false,\r\n",
    "                                  Font=Font.init(Family=StyleParam.FontFamily.Arial, Size=16.),\r\n",
    "                                  XAnchor = StyleParam.XAnchorPosition.Left,\r\n",
    "                                  YAnchor = StyleParam.YAnchorPosition.Middle);\r\n",
    "\r\n",
    "        // Title\r\n",
    "        let a3 =  Annotation.init(XRef=\"paper\",YRef=\"paper\", X=0., Y=1.05,\r\n",
    "                                  Text=  \"Main Source for News\",\r\n",
    "                                  ShowArrow=false,\r\n",
    "                                  Font=Font.init(Family=StyleParam.FontFamily.Arial, \r\n",
    "                                                 Size=30.,\r\n",
    "                                                 Color=Color.fromString \"rgb(37,37,37)\"),\r\n",
    "                                  XAnchor=StyleParam.XAnchorPosition.Left,\r\n",
    "                                  YAnchor = StyleParam.YAnchorPosition.Bottom);\r\n",
    "        \r\n",
    "        // Source\r\n",
    "        let a4 = Annotation.init(XRef=\"paper\",YRef=\"paper\", X=0.5, Y= -0.1,\r\n",
    "                                  Text=  \"Source: PewResearch Center & Storytelling with data\",\r\n",
    "                                  ShowArrow=false,\r\n",
    "                                  Font=Font.init(Family=StyleParam.FontFamily.Arial, \r\n",
    "                                                 Size=12.,\r\n",
    "                                                 Color=Color.fromString \"rgb(150,150,150)\"),\r\n",
    "                                  XAnchor=StyleParam.XAnchorPosition.Center,\r\n",
    "                                  YAnchor = StyleParam.YAnchorPosition.Top)\r\n",
    "\r\n",
    "                            \r\n",
    "        yield! [a1;a2;a3;a4]\r\n",
    "    }\r\n",
    "\r\n",
    "\r\n",
    "seq {\r\n",
    "    for i in 0..3 do\r\n",
    "        yield! [\r\n",
    "                Chart.Scatter(x_data.[i], y_data.[i], StyleParam.Mode.Lines,Name= labels.[i])\r\n",
    "                    |> Chart.withLineStyle(Width=line_size.[i], Color=colors.[i])\r\n",
    "\r\n",
    "                // endpoints\r\n",
    "                Chart.Scatter([x_data.[i].[0]; x_data.[i].[^0]],\r\n",
    "                              [y_data.[i].[0]; y_data.[i].[^0]],\r\n",
    "                              mode=StyleParam.Mode.Markers)\r\n",
    "                    \r\n",
    "                |> Chart.withMarkerStyle(Size=mode_size.[i], Color=colors.[i])\r\n",
    "        ]        \r\n",
    "} |> Chart.combine\r\n",
    "  |> Chart.withLayout(Layout.init(AutoSize=false, ShowLegend=false, PlotBGColor=Color.fromString \"white\"))\r\n",
    "  |> Chart.withXAxis(LinearAxis.init(ShowLine=true,\r\n",
    "                                            ShowGrid=false,\r\n",
    "                                            ShowTickLabels=true,\r\n",
    "                                            LineColor=Color.fromString \"rgb(204, 204, 204)\",\r\n",
    "                                            LineWidth=2.,\r\n",
    "                                            Ticks=StyleParam.TickOptions.Outside,\r\n",
    "                                            TickFont = Font.init(Family=StyleParam.FontFamily.Arial,\r\n",
    "                                                                 Size=12.,\r\n",
    "                                                                 Color=Color.fromString \"rgb(82, 82, 82)\")))\r\n",
    "\r\n",
    "    |> Chart.withYAxis(LinearAxis.init(ShowGrid=false,\r\n",
    "                                             ZeroLine=false,\r\n",
    "                                             ShowLine=false,\r\n",
    "                                             ShowTickLabels=false))\r\n",
    "    |> Chart.withMarginSize(Autoexpand=false, Left=100, Right=20,Top=110)\r\n",
    "        // Adding labels\r\n",
    "    |> Chart.withAnnotations(annotations)"
   ],
   "outputs": [
    {
     "data": {
      "text/html": [
       "<div id=\"9d5b44f4-1638-4ba8-838f-d9afab06188b\" style=\"width: 600px; height: 600px;\"><!-- Plotly chart will be drawn inside this DIV --></div>\r\n",
       "<script type=\"text/javascript\">\r\n",
       "\n",
       "            var renderPlotly_9d5b44f416384ba8838fd9afab06188b = function() {\n",
       "            var fsharpPlotlyRequire = requirejs.config({context:'fsharp-plotly',paths:{plotly:'https://cdn.plot.ly/plotly-latest.min'}}) || require;\n",
       "            fsharpPlotlyRequire(['plotly'], function(Plotly) {\r\n",
       "\n",
       "            var data = [{\"type\":\"scatter\",\"mode\":\"lines\",\"x\":[2001,2002,2003,2004,2005,2006,2007,2008,2009,2010,2011,2012,2013,2014],\"y\":[74,82,80,74,73,72,74,70,70,66,66,69],\"name\":\"Television\",\"line\":{\"color\":\"rgb(67,67,67)\",\"width\":2.0},\"marker\":{}},{\"type\":\"scatter\",\"mode\":\"markers\",\"x\":[2001,2014],\"y\":[74,69],\"line\":{},\"marker\":{\"size\":8,\"color\":\"rgb(67,67,67)\"}},{\"type\":\"scatter\",\"mode\":\"lines\",\"x\":[2001,2002,2003,2004,2005,2006,2007,2008,2009,2010,2011,2012,2013,2014],\"y\":[45,42,50,46,36,36,34,35,32,31,31,28],\"name\":\"Newspaper\",\"line\":{\"color\":\"rgb(115,115,115)\",\"width\":2.0},\"marker\":{}},{\"type\":\"scatter\",\"mode\":\"markers\",\"x\":[2001,2014],\"y\":[45,28],\"line\":{},\"marker\":{\"size\":8,\"color\":\"rgb(115,115,115)\"}},{\"type\":\"scatter\",\"mode\":\"lines\",\"x\":[2001,2002,2003,2004,2005,2006,2007,2008,2009,2010,2011,2012,2013,2014],\"y\":[13,14,20,24,20,24,24,40,35,41,43,50],\"name\":\"Internet\",\"line\":{\"color\":\"rgb(49,130,189)\",\"width\":4.0},\"marker\":{}},{\"type\":\"scatter\",\"mode\":\"markers\",\"x\":[2001,2014],\"y\":[13,50],\"line\":{},\"marker\":{\"size\":12,\"color\":\"rgb(49,130,189)\"}},{\"type\":\"scatter\",\"mode\":\"lines\",\"x\":[2001,2002,2003,2004,2005,2006,2007,2008,2009,2010,2011,2012,2013,2014],\"y\":[18,21,18,21,16,14,13,18,17,16,19,23],\"name\":\"Radio\",\"line\":{\"color\":\"rgb(189,189,189)\",\"width\":2.0},\"marker\":{}},{\"type\":\"scatter\",\"mode\":\"markers\",\"x\":[2001,2014],\"y\":[18,23],\"line\":{},\"marker\":{\"size\":8,\"color\":\"rgb(189,189,189)\"}}];\n",
       "            var layout = {\"showlegend\":false,\"autosize\":false,\"plot_bgcolor\":\"white\",\"xaxis\":{\"ticks\":\"outside\",\"showticklabels\":true,\"tickfont\":{\"family\":\"Arial\",\"size\":12.0,\"color\":\"rgb(82, 82, 82)\"},\"showline\":true,\"linecolor\":\"rgb(204, 204, 204)\",\"linewidth\":2.0,\"showgrid\":false},\"yaxis\":{\"showticklabels\":false,\"showline\":false,\"showgrid\":false,\"zeroline\":false},\"margin\":{\"l\":100,\"r\":20,\"t\":110,\"autoexpand\":false},\"annotations\":[{\"x\":0.05,\"y\":74,\"font\":{\"family\":\"Arial\",\"size\":16.0},\"showarrow\":false,\"text\":\"Television 74%\",\"xanchor\":\"right\",\"xref\":\"paper\",\"yanchor\":\"middle\"},{\"x\":0.95,\"y\":69,\"font\":{\"family\":\"Arial\",\"size\":16.0},\"showarrow\":false,\"text\":\"69%\",\"xanchor\":\"left\",\"xref\":\"paper\",\"yanchor\":\"middle\"},{\"x\":0.0,\"y\":1.05,\"font\":{\"family\":\"Arial\",\"size\":30.0,\"color\":\"rgb(37,37,37)\"},\"showarrow\":false,\"text\":\"Main Source for News\",\"xanchor\":\"left\",\"xref\":\"paper\",\"yanchor\":\"bottom\",\"yref\":\"paper\"},{\"x\":0.5,\"y\":-0.1,\"font\":{\"family\":\"Arial\",\"size\":12.0,\"color\":\"rgb(150,150,150)\"},\"showarrow\":false,\"text\":\"Source: PewResearch Center & Storytelling with data\",\"xanchor\":\"center\",\"xref\":\"paper\",\"yanchor\":\"top\",\"yref\":\"paper\"},{\"x\":0.05,\"y\":45,\"font\":{\"family\":\"Arial\",\"size\":16.0},\"showarrow\":false,\"text\":\"Newspaper 45%\",\"xanchor\":\"right\",\"xref\":\"paper\",\"yanchor\":\"middle\"},{\"x\":0.95,\"y\":28,\"font\":{\"family\":\"Arial\",\"size\":16.0},\"showarrow\":false,\"text\":\"28%\",\"xanchor\":\"left\",\"xref\":\"paper\",\"yanchor\":\"middle\"},{\"x\":0.0,\"y\":1.05,\"font\":{\"family\":\"Arial\",\"size\":30.0,\"color\":\"rgb(37,37,37)\"},\"showarrow\":false,\"text\":\"Main Source for News\",\"xanchor\":\"left\",\"xref\":\"paper\",\"yanchor\":\"bottom\",\"yref\":\"paper\"},{\"x\":0.5,\"y\":-0.1,\"font\":{\"family\":\"Arial\",\"size\":12.0,\"color\":\"rgb(150,150,150)\"},\"showarrow\":false,\"text\":\"Source: PewResearch Center & Storytelling with data\",\"xanchor\":\"center\",\"xref\":\"paper\",\"yanchor\":\"top\",\"yref\":\"paper\"},{\"x\":0.05,\"y\":13,\"font\":{\"family\":\"Arial\",\"size\":16.0},\"showarrow\":false,\"text\":\"Internet 13%\",\"xanchor\":\"right\",\"xref\":\"paper\",\"yanchor\":\"middle\"},{\"x\":0.95,\"y\":50,\"font\":{\"family\":\"Arial\",\"size\":16.0},\"showarrow\":false,\"text\":\"50%\",\"xanchor\":\"left\",\"xref\":\"paper\",\"yanchor\":\"middle\"},{\"x\":0.0,\"y\":1.05,\"font\":{\"family\":\"Arial\",\"size\":30.0,\"color\":\"rgb(37,37,37)\"},\"showarrow\":false,\"text\":\"Main Source for News\",\"xanchor\":\"left\",\"xref\":\"paper\",\"yanchor\":\"bottom\",\"yref\":\"paper\"},{\"x\":0.5,\"y\":-0.1,\"font\":{\"family\":\"Arial\",\"size\":12.0,\"color\":\"rgb(150,150,150)\"},\"showarrow\":false,\"text\":\"Source: PewResearch Center & Storytelling with data\",\"xanchor\":\"center\",\"xref\":\"paper\",\"yanchor\":\"top\",\"yref\":\"paper\"},{\"x\":0.05,\"y\":18,\"font\":{\"family\":\"Arial\",\"size\":16.0},\"showarrow\":false,\"text\":\"Radio 18%\",\"xanchor\":\"right\",\"xref\":\"paper\",\"yanchor\":\"middle\"},{\"x\":0.95,\"y\":23,\"font\":{\"family\":\"Arial\",\"size\":16.0},\"showarrow\":false,\"text\":\"23%\",\"xanchor\":\"left\",\"xref\":\"paper\",\"yanchor\":\"middle\"},{\"x\":0.0,\"y\":1.05,\"font\":{\"family\":\"Arial\",\"size\":30.0,\"color\":\"rgb(37,37,37)\"},\"showarrow\":false,\"text\":\"Main Source for News\",\"xanchor\":\"left\",\"xref\":\"paper\",\"yanchor\":\"bottom\",\"yref\":\"paper\"},{\"x\":0.5,\"y\":-0.1,\"font\":{\"family\":\"Arial\",\"size\":12.0,\"color\":\"rgb(150,150,150)\"},\"showarrow\":false,\"text\":\"Source: PewResearch Center & Storytelling with data\",\"xanchor\":\"center\",\"xref\":\"paper\",\"yanchor\":\"top\",\"yref\":\"paper\"}]};\n",
       "            var config = {};\n",
       "            Plotly.newPlot('9d5b44f4-1638-4ba8-838f-d9afab06188b', data, layout, config);\r\n",
       "});\n",
       "            };\n",
       "            if ((typeof(requirejs) !==  typeof(Function)) || (typeof(requirejs.config) !== typeof(Function))) {\n",
       "                var script = document.createElement(\"script\");\n",
       "                script.setAttribute(\"src\", \"https://cdnjs.cloudflare.com/ajax/libs/require.js/2.3.6/require.min.js\");\n",
       "                script.onload = function(){\n",
       "                    renderPlotly_9d5b44f416384ba8838fd9afab06188b();\n",
       "                };\n",
       "                document.getElementsByTagName(\"head\")[0].appendChild(script);\n",
       "            }\n",
       "            else {\n",
       "                renderPlotly_9d5b44f416384ba8838fd9afab06188b();\n",
       "            }\r\n",
       "</script>\r\n"
      ]
     },
     "metadata": {},
     "output_type": "display_data"
    }
   ],
   "metadata": {
    "dotnet_interactive": {
     "language": "fsharp"
    }
   }
  },
  {
   "cell_type": "markdown",
   "source": [
    "# Filled Lines"
   ],
   "metadata": {}
  },
  {
   "cell_type": "code",
   "execution_count": null,
   "source": [
    "let x = [1.; 2.; 3.; 4.; 5.; 6.; 7.; 8.; 9.; 10.]\r\n",
    "let x_rev = x |> Seq.rev\r\n",
    "\r\n",
    "// Line 1\r\n",
    "let y1 = [1.; 2.; 3.; 4.; 5.; 6.; 7.; 8.; 9.; 10.]\r\n",
    "let y1_upper = [2.; 3.; 4.; 5.; 6.; 7.; 8.; 9.; 10.; 11.]\r\n",
    "let y1_lower = [0.; 1.; 2.; 3.; 4.; 5.; 6.; 7.; 8.; 9.]|> Seq.rev\r\n",
    "\r\n",
    "// Line 2\r\n",
    "let y2 = [5.; 2.5; 5.; 7.5; 5.; 2.5; 7.5; 4.5; 5.5; 5.]\r\n",
    "let y2_upper = [5.5; 3.; 5.5; 8.; 6.; 3.; 8.; 5.; 6.; 5.5]\r\n",
    "let y2_lower = [4.5; 2.; 4.4; 7.; 4.; 2.; 7.; 4.; 5.; 4.75] |> Seq.rev\r\n",
    "\r\n",
    "// Line 3\r\n",
    "let y3 = [10.; 8.; 6.; 4.; 2.; 0.; 2.; 4.; 2.; 0.]\r\n",
    "let y3_upper = [11.; 9.; 7.; 5.; 3.; 1.; 3.; 5.; 3.; 1.]\r\n",
    "let y3_lower = [9.; 7.; 5.; 3.; 1.; -5.; 1.; 3.; 1.; -1.]|> Seq.rev\r\n",
    "\r\n",
    "\r\n",
    "[\r\n",
    "    Chart.Scatter((Seq.append x x_rev),\r\n",
    "                  (Seq.append y1_upper y1_lower),\r\n",
    "                  StyleParam.Mode.Lines,\r\n",
    "                   ShowLegend=false,\r\n",
    "                   Name=\"Fair\") \r\n",
    "        |> Chart.withLineStyle(Color=Color.fromString \"rgba(255,255,255,0)\")\r\n",
    "        |> GenericChart.mapTrace(Trace2DStyle.Scatter(Fill = StyleParam.Fill.ToSelf,FillColor= Color.fromString \"rgba(0,100,80,0.2)\"))\r\n",
    "        \r\n",
    "\r\n",
    "    ;Chart.Scatter((Seq.append x x_rev),\r\n",
    "                  (Seq.append y2_upper y2_lower),\r\n",
    "                  StyleParam.Mode.Lines,\r\n",
    "                   ShowLegend=false,\r\n",
    "                   Name=\"Premium\")\r\n",
    "        |> Chart.withLineStyle(Color=Color.fromString \"rgba(255,255,255,0)\")\r\n",
    "        |> GenericChart.mapTrace(Trace2DStyle.Scatter(Fill = StyleParam.Fill.ToSelf,FillColor= Color.fromString \"rgba(rgba(0,176,246,0.2))\"))\r\n",
    "        \r\n",
    "        \r\n",
    "    ;Chart.Scatter((Seq.append x x_rev),\r\n",
    "                  (Seq.append y3_upper y3_lower),\r\n",
    "                  StyleParam.Mode.Lines,\r\n",
    "                   ShowLegend=false,\r\n",
    "                   Name=\"Ideal\")\r\n",
    "        |> Chart.withLineStyle(Color=Color.fromString \"rgba(255,255,255,0)\")\r\n",
    "        |> GenericChart.mapTrace(Trace2DStyle.Scatter(Fill = StyleParam.Fill.ToSelf,FillColor= Color.fromString \"rgba(231,107,243,0.2)\"))\r\n",
    "            \r\n",
    "\r\n",
    "    ;Chart.Scatter(x,y1,StyleParam.Mode.Lines,Name=\"Fair\") \r\n",
    "        |> Chart.withLineStyle(Color=Color.fromString \"rgb(0,100,80)\")\r\n",
    "\r\n",
    "    ;Chart.Scatter(x,y2,StyleParam.Mode.Lines,Name=\"Premium\") \r\n",
    "        |> Chart.withLineStyle(Color=Color.fromString \"rgb(0,176,246)\")\r\n",
    "\r\n",
    "    ;Chart.Scatter(x,y3,StyleParam.Mode.Lines,Name=\"Ideal\") \r\n",
    "        |> Chart.withLineStyle(Color=Color.fromString \"rgb(231,107,243)\")\r\n",
    "\r\n",
    "] |> Chart.combine"
   ],
   "outputs": [
    {
     "data": {
      "text/html": [
       "<div id=\"8307edb2-e720-4634-837e-668b70b540bf\" style=\"width: 600px; height: 600px;\"><!-- Plotly chart will be drawn inside this DIV --></div>\r\n",
       "<script type=\"text/javascript\">\r\n",
       "\n",
       "            var renderPlotly_8307edb2e7204634837e668b70b540bf = function() {\n",
       "            var fsharpPlotlyRequire = requirejs.config({context:'fsharp-plotly',paths:{plotly:'https://cdn.plot.ly/plotly-latest.min'}}) || require;\n",
       "            fsharpPlotlyRequire(['plotly'], function(Plotly) {\r\n",
       "\n",
       "            var data = [{\"type\":\"scatter\",\"mode\":\"lines\",\"x\":[1.0,2.0,3.0,4.0,5.0,6.0,7.0,8.0,9.0,10.0,10.0,9.0,8.0,7.0,6.0,5.0,4.0,3.0,2.0,1.0],\"y\":[2.0,3.0,4.0,5.0,6.0,7.0,8.0,9.0,10.0,11.0,9.0,8.0,7.0,6.0,5.0,4.0,3.0,2.0,1.0,0.0],\"name\":\"Fair\",\"showlegend\":false,\"line\":{\"color\":\"rgba(255,255,255,0)\"},\"marker\":{},\"fill\":\"toself\",\"fillcolor\":\"rgba(0,100,80,0.2)\"},{\"type\":\"scatter\",\"mode\":\"lines\",\"x\":[1.0,2.0,3.0,4.0,5.0,6.0,7.0,8.0,9.0,10.0,10.0,9.0,8.0,7.0,6.0,5.0,4.0,3.0,2.0,1.0],\"y\":[5.5,3.0,5.5,8.0,6.0,3.0,8.0,5.0,6.0,5.5,4.75,5.0,4.0,7.0,2.0,4.0,7.0,4.4,2.0,4.5],\"name\":\"Premium\",\"showlegend\":false,\"line\":{\"color\":\"rgba(255,255,255,0)\"},\"marker\":{},\"fill\":\"toself\",\"fillcolor\":\"rgba(rgba(0,176,246,0.2))\"},{\"type\":\"scatter\",\"mode\":\"lines\",\"x\":[1.0,2.0,3.0,4.0,5.0,6.0,7.0,8.0,9.0,10.0,10.0,9.0,8.0,7.0,6.0,5.0,4.0,3.0,2.0,1.0],\"y\":[11.0,9.0,7.0,5.0,3.0,1.0,3.0,5.0,3.0,1.0,-1.0,1.0,3.0,1.0,-5.0,1.0,3.0,5.0,7.0,9.0],\"name\":\"Ideal\",\"showlegend\":false,\"line\":{\"color\":\"rgba(255,255,255,0)\"},\"marker\":{},\"fill\":\"toself\",\"fillcolor\":\"rgba(231,107,243,0.2)\"},{\"type\":\"scatter\",\"mode\":\"lines\",\"x\":[1.0,2.0,3.0,4.0,5.0,6.0,7.0,8.0,9.0,10.0],\"y\":[1.0,2.0,3.0,4.0,5.0,6.0,7.0,8.0,9.0,10.0],\"name\":\"Fair\",\"line\":{\"color\":\"rgb(0,100,80)\"},\"marker\":{}},{\"type\":\"scatter\",\"mode\":\"lines\",\"x\":[1.0,2.0,3.0,4.0,5.0,6.0,7.0,8.0,9.0,10.0],\"y\":[5.0,2.5,5.0,7.5,5.0,2.5,7.5,4.5,5.5,5.0],\"name\":\"Premium\",\"line\":{\"color\":\"rgb(0,176,246)\"},\"marker\":{}},{\"type\":\"scatter\",\"mode\":\"lines\",\"x\":[1.0,2.0,3.0,4.0,5.0,6.0,7.0,8.0,9.0,10.0],\"y\":[10.0,8.0,6.0,4.0,2.0,0.0,2.0,4.0,2.0,0.0],\"name\":\"Ideal\",\"line\":{\"color\":\"rgb(231,107,243)\"},\"marker\":{}}];\n",
       "            var layout = {};\n",
       "            var config = {};\n",
       "            Plotly.newPlot('8307edb2-e720-4634-837e-668b70b540bf', data, layout, config);\r\n",
       "});\n",
       "            };\n",
       "            if ((typeof(requirejs) !==  typeof(Function)) || (typeof(requirejs.config) !== typeof(Function))) {\n",
       "                var script = document.createElement(\"script\");\n",
       "                script.setAttribute(\"src\", \"https://cdnjs.cloudflare.com/ajax/libs/require.js/2.3.6/require.min.js\");\n",
       "                script.onload = function(){\n",
       "                    renderPlotly_8307edb2e7204634837e668b70b540bf();\n",
       "                };\n",
       "                document.getElementsByTagName(\"head\")[0].appendChild(script);\n",
       "            }\n",
       "            else {\n",
       "                renderPlotly_8307edb2e7204634837e668b70b540bf();\n",
       "            }\r\n",
       "</script>\r\n"
      ]
     },
     "metadata": {},
     "output_type": "display_data"
    }
   ],
   "metadata": {
    "dotnet_interactive": {
     "language": "fsharp"
    }
   }
  }
 ],
 "metadata": {
  "orig_nbformat": 4,
  "language_info": {
   "file_extension": ".cs",
   "mimetype": "text/x-csharp",
   "name": "C#",
   "pygments_lexer": "csharp",
   "version": "9.0"
  },
  "kernelspec": {
   "display_name": ".NET (C#)",
   "language": "C#",
   "name": ".net-csharp"
  }
 },
 "nbformat": 4,
 "nbformat_minor": 2
}