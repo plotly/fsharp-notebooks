{
 "cells": [
  {
   "cell_type": "markdown",
   "source": [
    "# Line Charts in F#\r\n",
    "\r\n",
    "How to make line charts in F# with Plotly.NET. Examples on creating and styling line charts in F# with Plotly.NET."
   ],
   "metadata": {}
  },
  {
   "cell_type": "code",
   "execution_count": null,
   "source": [
    "#r \"nuget: Plotly.NET, *-*\"\r\n",
    "#r \"nuget: newtonsoft.json\"\r\n",
    "#r \"nuget: Plotly.NET.Interactive, *-*\"\r\n",
    "\r\n",
    "open Plotly.NET\r\n",
    "open System\r\n",
    "\r\n",
    "let random = System.Random();\r\n",
    "let nextFloat (min, max) = (random.NextDouble() * (max - min) + min);"
   ],
   "outputs": [
    {
     "output_type": "display_data",
     "data": {
      "text/html": ""
     },
     "metadata": {}
    },
    {
     "output_type": "display_data",
     "data": {
      "text/markdown": ""
     },
     "metadata": {}
    },
    {
     "output_type": "display_data",
     "data": {
      "text/markdown": ""
     },
     "metadata": {}
    }
   ],
   "metadata": {
    "dotnet_interactive": {
     "language": "fsharp"
    }
   }
  },
  {
   "cell_type": "markdown",
   "source": [
    "# Sime Line Plot\r\n",
    "\r\n",
    "Line Plots can be rendered either by Chart.Scatter or Chart.Line "
   ],
   "metadata": {}
  },
  {
   "cell_type": "code",
   "execution_count": null,
   "source": [
    "let xs = [0.0 .. 9.0]\r\n",
    "let ys = xs |> Seq.map (fun x -> x ** 2.0)\r\n",
    "\r\n",
    "Chart.Scatter(xs, ys, StyleParam.Mode.Lines_Markers)"
   ],
   "outputs": [
    {
     "output_type": "display_data",
     "data": {
      "text/html": ""
     },
     "metadata": {}
    }
   ],
   "metadata": {
    "dotnet_interactive": {
     "language": "fsharp"
    }
   }
  },
  {
   "cell_type": "code",
   "execution_count": null,
   "source": [
    "open Plotly.NET\r\n",
    "\r\n",
    "let x = [1952; 1957; 1962; 1967; 1972; 1977; 1982; 1987; 1992; 1997; 2002; 2007]\r\n",
    "let y = [68.75; 69.96; 71.3; 72.13; 72.88; 74.21; 75.76; 76.86; 77.95; 78.61; 79.77; 80.653]\r\n",
    "\r\n",
    "Chart.Line(x, y)\r\n",
    "|> Chart.withXAxisStyle(\"year\")\r\n",
    "|> Chart.withYAxisStyle(\"lifeExp\")\r\n",
    "|> Chart.withTitle(\"Life expectancy in Canada\")\r\n",
    "|> Chart.withLineStyle(Width=2.0, Dash=StyleParam.DrawingStyle.Solid)"
   ],
   "outputs": [
    {
     "output_type": "display_data",
     "data": {
      "text/html": ""
     },
     "metadata": {}
    }
   ],
   "metadata": {
    "dotnet_interactive": {
     "language": "fsharp"
    }
   }
  },
  {
   "cell_type": "markdown",
   "source": [
    "# MultiLine Chart"
   ],
   "metadata": {}
  },
  {
   "cell_type": "code",
   "execution_count": null,
   "source": [
    "open Plotly.NET\r\n",
    "\r\n",
    "let x  = [1952; 1957; 1962; 1967; 1972; 1977; 1982; 1987; 1992; 1997; 2002; 2007]\r\n",
    "\r\n",
    "// Australia\r\n",
    "let y1 = [69.12; 70.30; 70.93; 71.1; 71.93; 73.49; 74.74; 76.32; 77.56; 78.3; 80.37; 81.235]\r\n",
    "// New Zealand\r\n",
    "let y2 = [69.39; 70.26; 71.24; 71.52; 71.89; 72.22; 73.84; 74.32; 76.33; 77.55; 79.11; 80.204]\r\n",
    "\r\n",
    "[\r\n",
    "        Chart.Line(x, y1)\r\n",
    "        |> Chart.withTraceName(Name=\"Australia\")\r\n",
    "        |> Chart.withLineStyle(Width=2.0, Dash=StyleParam.DrawingStyle.Solid)\r\n",
    "\r\n",
    "        Chart.Line(x, y2)\r\n",
    "        |> Chart.withTraceName(Name=\"New Zealand\")\r\n",
    "        |> Chart.withLineStyle(Width=2.0, Dash=StyleParam.DrawingStyle.Solid) \r\n",
    "] \r\n",
    "|> Chart.combine\r\n",
    "|> Chart.withXAxisStyle(\"year\")\r\n",
    "|> Chart.withYAxisStyle(\"lifeExp\")"
   ],
   "outputs": [
    {
     "output_type": "display_data",
     "data": {
      "text/html": ""
     },
     "metadata": {}
    }
   ],
   "metadata": {
    "dotnet_interactive": {
     "language": "fsharp"
    }
   }
  },
  {
   "cell_type": "markdown",
   "source": [
    "# Data Order in Line Charts\r\n",
    "\r\n",
    "Plotly line charts are implemented as connected scatterplots (see below), meaning that the points are plotted and connected with lines in the order they are provided, with no automatic reordering.\r\n",
    "\r\n",
    "This makes it possible to make charts like the one below, but also means that it may be required to explicitly sort data before passing it to Plotly.NET to avoid lines moving \"backwards\" across the chart."
   ],
   "metadata": {}
  },
  {
   "cell_type": "code",
   "execution_count": null,
   "source": [
    "open Plotly.NET\r\n",
    "\r\n",
    "let x  = [1.0; 3.0; 2.0; 4.0]\r\n",
    "let y = [1.0; 2.0; 3.0; 4.0]\r\n",
    "\r\n",
    "// How to align title to the left\r\n",
    "Chart.Line(x, y)\r\n",
    "|> Chart.withTitle(\"Unsorted Input\")\r\n",
    "|> Chart.withXAxisStyle(\"X\")\r\n",
    "|> Chart.withYAxisStyle(\"Y\")\r\n",
    "|> Chart.withLineStyle(Width=2.0, Dash=StyleParam.DrawingStyle.Solid)"
   ],
   "outputs": [
    {
     "output_type": "display_data",
     "data": {
      "text/html": ""
     },
     "metadata": {}
    }
   ],
   "metadata": {
    "dotnet_interactive": {
     "language": "fsharp"
    }
   }
  },
  {
   "cell_type": "code",
   "execution_count": null,
   "source": [
    "open Plotly.NET\r\n",
    "\r\n",
    "let y = [1.0; 3.0; 2.0; 4.0]\r\n",
    "let x = Seq.sort x\r\n",
    "\r\n",
    "// How to align title to the left\r\n",
    "Chart.Line(x, y)\r\n",
    "|> Chart.withTitle(\"Sorted Input\")\r\n",
    "|> Chart.withXAxisStyle(\"X\")\r\n",
    "|> Chart.withYAxisStyle(\"Y\")\r\n",
    "|> Chart.withLineStyle(Width=2.0, Dash=StyleParam.DrawingStyle.Solid) "
   ],
   "outputs": [
    {
     "output_type": "display_data",
     "data": {
      "text/html": ""
     },
     "metadata": {}
    }
   ],
   "metadata": {
    "dotnet_interactive": {
     "language": "fsharp"
    }
   }
  },
  {
   "cell_type": "markdown",
   "source": [
    "# Connected Scatterplots\r\n",
    "\r\n",
    "In a connected scatterplot, two continuous variables are plotted against each other, with a line connecting them in some meaningful order, usually a time variable. In the plot below, we show the \"trajectory\" of a pair of countries through a space defined by GDP per Capita and Life Expectancy. "
   ],
   "metadata": {}
  },
  {
   "cell_type": "code",
   "execution_count": null,
   "source": [
    "open Plotly.NET\r\n",
    "\r\n",
    "let labels = [\"1952\"; \"1957\"; \"1962\"; \"1967\"; \"1972\"; \"1977\"; \"1982\"; \"1987\"; \"1992\"; \"1997\"; \"2002\"; \"2007\"]\r\n",
    "\r\n",
    "// Botswana\r\n",
    "let x1 = [47.622; 49.618; 51.52; 53.298; 56.024; 59.319; 61.484; 63.622; 62.745; 52.556; 46.634; 50.728]\r\n",
    "let y1 = [851.2411; 918.2325; 983.654; 1214.709; 2263.611; 3214.858; 4551.142; 6205.884; 7954.112; 8647.142; 11003.61; 12569.85]\r\n",
    "// Canada\r\n",
    "let x2 = [68.75; 69.96; 71.3; 72.13; 72.88; 74.21; 75.76; 76.86; 77.95; 78.61; 79.77; 80.653]\r\n",
    "let y2 = [11367.86; 12489.95; 13462.49; 16076.59; 18970.57; 22090.88; 22898.79; 26626.52; 26342.88; 28954.93; 33328.97; 36319.24]\r\n",
    "\r\n",
    "[\r\n",
    "        Chart.Line(\r\n",
    "                x1, y1,\r\n",
    "                Name=\"Botswana\",\r\n",
    "                Labels=labels,\r\n",
    "                TextPosition=StyleParam.TextPosition.BottomRight,\r\n",
    "                ShowMarkers=true,\r\n",
    "                MarkerSymbol=StyleParam.Symbol.Circle\r\n",
    "        )\r\n",
    "\r\n",
    "\r\n",
    "        Chart.Line(\r\n",
    "                x2, y2,\r\n",
    "                Name=\"Canada\",\r\n",
    "                Labels=labels,\r\n",
    "                TextPosition=StyleParam.TextPosition.BottomRight,\r\n",
    "                ShowMarkers=true,\r\n",
    "                MarkerSymbol=StyleParam.Symbol.Circle\r\n",
    "        )\r\n",
    "]\r\n",
    "|> Chart.combine\r\n",
    "|> Chart.withXAxisStyle(\"lifeExp\")\r\n",
    "|> Chart.withYAxisStyle(\"gdpPercap\")"
   ],
   "outputs": [
    {
     "output_type": "display_data",
     "data": {
      "text/html": ""
     },
     "metadata": {}
    }
   ],
   "metadata": {
    "dotnet_interactive": {
     "language": "fsharp"
    }
   }
  },
  {
   "cell_type": "markdown",
   "source": [
    "# Line charts with markers\r\n",
    "\r\n",
    "The ShowMarkers argument can be set to True to show markers on lines.\r\n",
    "The MarkerSymbol sets the type of Marker like StyleParam.Symbol.Circle or StyleParam.Symbol.Diamond"
   ],
   "metadata": {}
  },
  {
   "cell_type": "code",
   "execution_count": null,
   "source": [
    "open Plotly.NET\r\n",
    "\r\n",
    "let x  = [1952; 1957; 1962; 1967; 1972; 1977; 1982; 1987; 1992; 1997; 2002; 2007]\r\n",
    "\r\n",
    "// Australia\r\n",
    "let y1 = [69.12; 70.30; 70.93; 71.1; 71.93; 73.49; 74.74; 76.32; 77.56; 78.3; 80.37; 81.235]\r\n",
    "// New Zealand\r\n",
    "let y2 = [69.39; 70.26; 71.24; 71.52; 71.89; 72.22; 73.84; 74.32; 76.33; 77.55; 79.11; 80.204]\r\n",
    "\r\n",
    "[\r\n",
    "        Chart.Line(x, y1, ShowMarkers=true, MarkerSymbol=StyleParam.Symbol.Circle)\r\n",
    "        |> Chart.withTraceName(Name=\"Australia\")\r\n",
    "        |> Chart.withLineStyle(Width=2.0, Dash=StyleParam.DrawingStyle.Solid)\r\n",
    "\r\n",
    "        Chart.Line(x, y2, ShowMarkers=true, MarkerSymbol=StyleParam.Symbol.Diamond)\r\n",
    "        |> Chart.withTraceName(Name=\"New Zealand\")\r\n",
    "        |> Chart.withLineStyle(Width=2.0, Dash=StyleParam.DrawingStyle.Solid) \r\n",
    "] \r\n",
    "|> Chart.combine\r\n",
    "|> Chart.withXAxisStyle(\"year\")\r\n",
    "|> Chart.withYAxisStyle(\"lifeExp\")"
   ],
   "outputs": [
    {
     "output_type": "display_data",
     "data": {
      "text/html": ""
     },
     "metadata": {}
    }
   ],
   "metadata": {
    "dotnet_interactive": {
     "language": "fsharp"
    }
   }
  },
  {
   "cell_type": "markdown",
   "source": [
    "# Line Plot Modes"
   ],
   "metadata": {}
  },
  {
   "cell_type": "code",
   "execution_count": null,
   "source": [
    "let n = 100\r\n",
    "let series = [0..n]\r\n",
    "\r\n",
    "let generate () = series |> Seq.map (fun _-> nextFloat(-2.0, 2.0))\r\n",
    "\r\n",
    "let random_xs = series\r\n",
    "\r\n",
    "let random_ys0 = generate () |> Seq.map(fun x -> x + 5.0)\r\n",
    "let random_ys1 = generate ()\r\n",
    "let random_ys2 = generate () |> Seq.map(fun x -> x - 5.0)\r\n",
    "\r\n",
    "// Create traces\r\n",
    "[\r\n",
    "    Chart.Scatter(random_xs, random_ys0, StyleParam.Mode.Lines)\r\n",
    "    |> Chart.withTraceName(Name=\"lines\")\r\n",
    "\r\n",
    "    Chart.Scatter(random_xs, random_ys1, StyleParam.Mode.Lines_Markers)\r\n",
    "    |> Chart.withTraceName(Name=\"lines+markers\")\r\n",
    "\r\n",
    "    Chart.Scatter(random_xs, random_ys2, StyleParam.Mode.Markers)\r\n",
    "    |> Chart.withTraceName(Name=\"markers\")\r\n",
    "]\r\n",
    "|> Chart.combine\r\n",
    "|> Chart.withSize(1100.,700.)"
   ],
   "outputs": [
    {
     "output_type": "display_data",
     "data": {
      "text/html": ""
     },
     "metadata": {}
    }
   ],
   "metadata": {
    "dotnet_interactive": {
     "language": "fsharp"
    }
   }
  },
  {
   "cell_type": "markdown",
   "source": [
    "# Style Line Plots\r\n",
    "This example styles the color and dash of the traces, adds trace names, modifies line width, and adds plot and axes titles."
   ],
   "metadata": {}
  },
  {
   "cell_type": "code",
   "execution_count": null,
   "source": [
    "\r\n",
    "//  Add data\r\n",
    "let month = [\"January\";\"February\";\"March\";\"April\";\"May\";\"June\";\"July\";\"August\";\"September\";\"October\";\"November\";\"December\"]\r\n",
    "let high_2000 = [32.5; 37.6; 49.9; 53.0; 69.1; 75.4; 76.5; 76.6; 70.7; 60.6; 45.1; 29.3]\r\n",
    "let low_2000 = [13.8; 22.3; 32.5; 37.2; 49.9; 56.1; 57.7; 58.3; 51.2; 42.8; 31.6; 15.9]\r\n",
    "let high_2007 = [36.5; 26.6; 43.6; 52.3; 71.5; 81.4; 80.5; 82.2; 76.0; 67.3; 46.1; 35.0]\r\n",
    "let low_2007 = [23.6; 14.0; 27.0; 36.8; 47.6; 57.7; 58.9; 61.2; 53.3; 48.5; 31.0; 23.6]\r\n",
    "let high_2014 = [28.8; 28.5; 37.0; 56.8; 69.7; 79.7; 78.5; 77.8; 74.1; 62.6; 45.3; 39.9]\r\n",
    "let low_2014 = [12.7; 14.3; 18.6; 35.5; 49.9; 58.0; 60.0; 58.6; 51.7; 45.2; 32.2; 29.1]\r\n",
    "\r\n",
    "\r\n",
    "// Create and style traces\r\n",
    "let high2014Chart = Chart.Scatter(month, high_2014, StyleParam.Mode.Lines_Markers,  Name=\"High 2014\")\r\n",
    "                        |> Chart.withLineStyle(Color = \"firebrick\", Width=4.)\r\n",
    "\r\n",
    "let low2014Chart = Chart.Scatter(month, low_2014, StyleParam.Mode.Lines_Markers,  Name=\"Low 2014\")\r\n",
    "                        |> Chart.withLineStyle(Color = \"royalblue\", Width=4.)\r\n",
    "\r\n",
    "let high2007Chart = Chart.Scatter(month, high_2007, StyleParam.Mode.Lines_Markers,  Name=\"High 2007\")\r\n",
    "                        |> Chart.withLineStyle(Color = \"firebrick\", Width=4., Dash=StyleParam.DrawingStyle.Dash)  \r\n",
    "                        //dash options include 'dash', 'dot', and 'dashdot'\r\n",
    "\r\n",
    "let low2007Chart = Chart.Scatter(month, low_2007, StyleParam.Mode.Lines_Markers,  Name=\"Low 2007\")\r\n",
    "                        |> Chart.withLineStyle(Color = \"royalblue\", Width=4., Dash=StyleParam.DrawingStyle.Dash)  \r\n",
    "\r\n",
    "\r\n",
    "let high2000Chart = Chart.Scatter(month, high_2000, StyleParam.Mode.Lines_Markers,  Name=\"High 2000\")\r\n",
    "                        |> Chart.withLineStyle(Color = \"firebrick\", Width=4., Dash=StyleParam.DrawingStyle.Dot)\r\n",
    "\r\n",
    "let low2000Chart = Chart.Scatter(month, low_2000, StyleParam.Mode.Lines_Markers,  Name=\"Low 2000\")\r\n",
    "                        |> Chart.withLineStyle(Color = \"royalblue\", Width=4., Dash=StyleParam.DrawingStyle.Dot)  \r\n",
    "\r\n",
    "\r\n",
    "[\r\n",
    "    high2014Chart;\r\n",
    "    low2014Chart;\r\n",
    "    high2007Chart;\r\n",
    "    low2007Chart;\r\n",
    "    high2000Chart;\r\n",
    "    low2000Chart\r\n",
    "\r\n",
    "] \r\n",
    "    |> Chart.combine\r\n",
    "    |> Chart.withTitle(\"Average High and Low Temperatures in New York\")\r\n",
    "    |> Chart.withXAxisStyle (\"Month\")\r\n",
    "    |> Chart.withYAxisStyle (\"Temperature (degrees F)\")\r\n",
    "    |> Chart.withSize(1100.,700.)"
   ],
   "outputs": [
    {
     "output_type": "display_data",
     "data": {
      "text/html": ""
     },
     "metadata": {}
    }
   ],
   "metadata": {
    "dotnet_interactive": {
     "language": "fsharp"
    }
   }
  },
  {
   "cell_type": "markdown",
   "source": [
    "# Connect Data Gaps\r\n",
    "connectgaps determines if missing values in the provided data are shown as a gap in the graph or not"
   ],
   "metadata": {}
  },
  {
   "cell_type": "code",
   "execution_count": null,
   "source": [
    "\r\n",
    "let xs = [1; 2; 3; 4; 5; 6; 7; 8; 9; 10; 11; 12; 13; 14; 15]\r\n",
    "\r\n",
    "let chart = Chart.Scatter(xs,\r\n",
    "             [10.; 20.; nan; 15.; 10.; 5.; 15.;nan; 20.; 10.; 10.; 15.; 25.; 20.; 10.], \r\n",
    "             StyleParam.Mode.Lines_Markers, Name=\"<b>No</b> Gaps\")             \r\n",
    "             |> GenericChart.mapTrace(fun t -> \r\n",
    "                                                t?connectgaps <- true //Workaround\r\n",
    "                                                t)\r\n",
    "[\r\n",
    "    \r\n",
    "    chart;\r\n",
    "    Chart.Scatter(xs,\r\n",
    "             [5.; 15.; nan; 10.; 5.; 0.; 10.; nan; 15.; 5.; 5.; 10.; 20.; 15.; 5.], \r\n",
    "             StyleParam.Mode.Lines_Markers, Name=\"Gaps\")\r\n",
    "] |> Chart.combine"
   ],
   "outputs": [
    {
     "output_type": "display_data",
     "data": {
      "text/html": ""
     },
     "metadata": {}
    }
   ],
   "metadata": {
    "dotnet_interactive": {
     "language": "fsharp"
    }
   }
  },
  {
   "cell_type": "markdown",
   "source": [
    "# Interpolation with Line Plots"
   ],
   "metadata": {}
  },
  {
   "cell_type": "code",
   "execution_count": null,
   "source": [
    "let xs = [1; 2; 3; 4; 5]\r\n",
    "let ys = [1; 3; 2; 3; 1]\r\n",
    "\r\n",
    "let linear = Chart.Scatter(xs, ys, StyleParam.Mode.Lines_Markers,Name=\"linear\") \r\n",
    "            |> Chart.withLineStyle(Shape =StyleParam.Shape.Linear)\r\n",
    "\r\n",
    "let spline = Chart.Scatter(xs, ys |> Seq.map(fun y->y+5) ,StyleParam.Mode.Lines_Markers,Labels=[\"tweak line smoothness<br>with 'smoothing' in line object\"],Name=\"spline\") \r\n",
    "            |> Chart.withLineStyle(Shape =StyleParam.Shape.Spline)\r\n",
    "\r\n",
    "let vhv = Chart.Scatter(xs, ys |> Seq.map(fun y->y+10), StyleParam.Mode.Lines_Markers,Name=\"vhv\") \r\n",
    "            |> Chart.withLineStyle(Shape =StyleParam.Shape.Vhv)\r\n",
    "\r\n",
    "let hvh = Chart.Scatter(xs, ys |> Seq.map(fun y->y+15), StyleParam.Mode.Lines_Markers,Name=\"hvh\") \r\n",
    "            |> Chart.withLineStyle(Shape =StyleParam.Shape.Hvh)\r\n",
    "\r\n",
    "let vh = Chart.Scatter(xs, ys |> Seq.map(fun y->y+20), StyleParam.Mode.Lines_Markers,Name=\"vh\") \r\n",
    "            |> Chart.withLineStyle(Shape =StyleParam.Shape.Vh)\r\n",
    "\r\n",
    "let hv = Chart.Scatter(xs,  ys |> Seq.map(fun y->y+25), StyleParam.Mode.Lines_Markers,Name=\"hv\") \r\n",
    "            |> Chart.withLineStyle(Shape =StyleParam.Shape.Hv)\r\n",
    "\r\n",
    "[\r\n",
    "    linear;\r\n",
    "    spline;\r\n",
    "    vhv;\r\n",
    "    hvh;\r\n",
    "    vh;\r\n",
    "    hv  ]\r\n",
    "|> Chart.combine\r\n",
    "|> Chart.withLegend(Legend.init(Y=0.5,TraceOrder=StyleParam.TraceOrder.Reversed))\r\n",
    "|> Chart.withLayout(Layout.init(Font=Font.init(Size=16.)))\r\n",
    "|> Chart.withSize(1100.,700.)"
   ],
   "outputs": [
    {
     "output_type": "display_data",
     "data": {
      "text/html": ""
     },
     "metadata": {}
    }
   ],
   "metadata": {
    "dotnet_interactive": {
     "language": "fsharp"
    }
   }
  },
  {
   "cell_type": "markdown",
   "source": [
    "# Label Lines with Annotations"
   ],
   "metadata": {}
  },
  {
   "cell_type": "code",
   "execution_count": null,
   "source": [
    "let title = \"Main Source for News\"\r\n",
    "let labels = [\"Television\"; \"Newspaper\"; \"Internet\"; \"Radio\"]\r\n",
    "let colors = [\"rgb(67,67,67)\"; \"rgb(115,115,115)\"; \"rgb(49,130,189)\"; \"rgb(189,189,189)\"]\r\n",
    "\r\n",
    "let mode_size = [|8; 8; 12; 8|]\r\n",
    "let line_size = [|2.; 2.; 4.; 2.|]\r\n",
    "\r\n",
    "let x_data = [1 ..4 ] |> Seq.map(fun _-> [|2001 .. 2014|]) |> Seq.toArray\r\n",
    "\r\n",
    "let y_data = [|\r\n",
    "    [|74; 82; 80; 74; 73; 72; 74; 70; 70; 66; 66; 69|];\r\n",
    "    [|45; 42; 50; 46; 36; 36; 34; 35; 32; 31; 31; 28|];\r\n",
    "    [|13; 14; 20; 24; 20; 24; 24; 40; 35; 41; 43; 50|];\r\n",
    "    [|18; 21; 18; 21; 16; 14; 13; 18; 17; 16; 19; 23|]|]\r\n",
    "\r\n",
    "let annotations = seq {\r\n",
    "        for (y_trace, label, color) in Seq.zip3 y_data labels colors do\r\n",
    "\r\n",
    "        // labeling the left_side of the plot     \r\n",
    "        let a1 = Annotation.init(XRef=\"paper\", X=0.05, Y=y_trace.[0],\r\n",
    "                                  Text=  $\"{label} {y_trace.[0]}%%\",\r\n",
    "                                  ShowArrow=false,\r\n",
    "                                  Font=Font.init(Family=StyleParam.FontFamily.Arial, Size=16.))\r\n",
    "\r\n",
    "        a1?xanchor <-\"right\"  //workaround \r\n",
    "        a1?yanchor <-\"middle\" //workaround\r\n",
    "\r\n",
    "        //labeling the right_side of the plot\r\n",
    "        let a2 = Annotation.init(XRef=\"paper\", X=0.95, Y=y_trace.[11],\r\n",
    "                                  Text=  $\"{y_trace.[11]}%%\",\r\n",
    "                                  ShowArrow=false,\r\n",
    "                                  Font=Font.init(Family=StyleParam.FontFamily.Arial, Size=16.));\r\n",
    "\r\n",
    "        a2?xanchor <-\"left\"  //workaround \r\n",
    "        a2?yanchor <-\"middle\" //workaround\r\n",
    "\r\n",
    "        // Title\r\n",
    "        let a3 =  Annotation.init(XRef=\"paper\",YRef=\"paper\", X=0., Y=1.05,\r\n",
    "                                  Text=  \"Main Source for News\",\r\n",
    "                                  ShowArrow=false,\r\n",
    "                                  Font=Font.init(Family=StyleParam.FontFamily.Arial, \r\n",
    "                                                 Size=30.,\r\n",
    "                                                 Color=\"rgb(37,37,37)\"));\r\n",
    "        a3?xanchor <-\"left\"  //workaround \r\n",
    "        a3?yanchor <-\"bottom\" //workaround\r\n",
    "        \r\n",
    "\r\n",
    "        // Source\r\n",
    "        let a4 = Annotation.init(XRef=\"paper\",YRef=\"paper\", X=0.5, Y= -0.1,\r\n",
    "                                  Text=  \"Source: PewResearch Center & Storytelling with data\",\r\n",
    "                                  ShowArrow=false,\r\n",
    "                                  Font=Font.init(Family=StyleParam.FontFamily.Arial, \r\n",
    "                                                 Size=12.,\r\n",
    "                                                 Color=\"rgb(150,150,150)\"))\r\n",
    "\r\n",
    "        a4?xanchor <-\"center\"  //workaround \r\n",
    "        a4?yanchor <-\"top\" //workaround\r\n",
    "        \r\n",
    "        \r\n",
    "\r\n",
    "                                  \r\n",
    "        yield! [a1;a2;a3;a4]\r\n",
    "    }\r\n",
    "\r\n",
    "\r\n",
    "seq {\r\n",
    "    for i in 0..3 do\r\n",
    "        yield! [\r\n",
    "                Chart.Scatter(x_data.[i], y_data.[i], StyleParam.Mode.Lines,Name= labels.[i])\r\n",
    "                    |> Chart.withLineStyle(Width=line_size.[i], Color=colors.[i])\r\n",
    "\r\n",
    "                // endpoints\r\n",
    "                Chart.Scatter([x_data.[i].[0]; x_data.[i].[^0]],\r\n",
    "                              [y_data.[i].[0]; y_data.[i].[^0]],\r\n",
    "                              mode=StyleParam.Mode.Markers)\r\n",
    "                    |> Chart.withMarkerStyle(Size=mode_size.[i], Color=colors.[i])\r\n",
    "        ]        \r\n",
    "} |> Chart.combine\r\n",
    "  |> Chart.withLayout(Layout.init(Autosize=false, Showlegend=false, Plot_bgcolor=\"white\"))\r\n",
    "  |> Chart.withXAxis(Axis.LinearAxis.init(ShowLine=true,\r\n",
    "                                            ShowGrid=false,\r\n",
    "                                            ShowTickLabels=true,\r\n",
    "                                            LineColor=\"rgb(204, 204, 204)\",\r\n",
    "                                            LineWidth=2.,\r\n",
    "                                            Ticks=StyleParam.TickOptions.Outside,\r\n",
    "                                            TickFont = Font.init(Family=StyleParam.FontFamily.Arial,\r\n",
    "                                                                 Size=12.,\r\n",
    "                                                                 Color=\"rgb(82, 82, 82)\")))\r\n",
    "\r\n",
    "    |> Chart.withYAxis(Axis.LinearAxis.init(ShowGrid=false,\r\n",
    "                                             ZeroLine=false,\r\n",
    "                                             ShowLine=false,\r\n",
    "                                             ShowTickLabels=false))\r\n",
    "    |> Chart.withMarginSize(Autoexpand=false, Left=100, Right=20,Top=110)\r\n",
    "        // Adding labels\r\n",
    "    |> Chart.withAnnotations(annotations)"
   ],
   "outputs": [
    {
     "output_type": "display_data",
     "data": {
      "text/html": ""
     },
     "metadata": {}
    }
   ],
   "metadata": {
    "dotnet_interactive": {
     "language": "fsharp"
    }
   }
  },
  {
   "cell_type": "markdown",
   "source": [
    "# Filled Lines"
   ],
   "metadata": {}
  },
  {
   "cell_type": "code",
   "execution_count": null,
   "source": [
    "let x = [1.; 2.; 3.; 4.; 5.; 6.; 7.; 8.; 9.; 10.]\r\n",
    "let x_rev = x |> Seq.rev\r\n",
    "\r\n",
    "// Line 1\r\n",
    "let y1 = [1.; 2.; 3.; 4.; 5.; 6.; 7.; 8.; 9.; 10.]\r\n",
    "let y1_upper = [2.; 3.; 4.; 5.; 6.; 7.; 8.; 9.; 10.; 11.]\r\n",
    "let y1_lower = [0.; 1.; 2.; 3.; 4.; 5.; 6.; 7.; 8.; 9.]|> Seq.rev\r\n",
    "\r\n",
    "// Line 2\r\n",
    "let y2 = [5.; 2.5; 5.; 7.5; 5.; 2.5; 7.5; 4.5; 5.5; 5.]\r\n",
    "let y2_upper = [5.5; 3.; 5.5; 8.; 6.; 3.; 8.; 5.; 6.; 5.5]\r\n",
    "let y2_lower = [4.5; 2.; 4.4; 7.; 4.; 2.; 7.; 4.; 5.; 4.75] |> Seq.rev\r\n",
    "\r\n",
    "// Line 3\r\n",
    "let y3 = [10.; 8.; 6.; 4.; 2.; 0.; 2.; 4.; 2.; 0.]\r\n",
    "let y3_upper = [11.; 9.; 7.; 5.; 3.; 1.; 3.; 5.; 3.; 1.]\r\n",
    "let y3_lower = [9.; 7.; 5.; 3.; 1.; -5.; 1.; 3.; 1.; -1.]|> Seq.rev\r\n",
    "\r\n",
    "\r\n",
    "[\r\n",
    "    Chart.Scatter((Seq.append x x_rev),\r\n",
    "                  (Seq.append y1_upper y1_lower),\r\n",
    "                  StyleParam.Mode.Lines,\r\n",
    "                   Showlegend=false,\r\n",
    "                   Name=\"Fair\") \r\n",
    "        |> Chart.withLineStyle(Color=\"rgba(255,255,255,0)\")\r\n",
    "        |> GenericChart.mapTrace(fun t->  \r\n",
    "                                        t?fill<-StyleParam.Fill.toString(StyleParam.Fill.ToSelf) //Workaround\r\n",
    "                                        t?fillcolor<-\"rgba(0,100,80,0.2)\"\r\n",
    "                                        t)\r\n",
    "\r\n",
    "    ;Chart.Scatter((Seq.append x x_rev),\r\n",
    "                  (Seq.append y2_upper y2_lower),\r\n",
    "                  StyleParam.Mode.Lines,\r\n",
    "                   Showlegend=false,\r\n",
    "                   Name=\"Premium\")\r\n",
    "        |> Chart.withLineStyle(Color=\"rgba(255,255,255,0)\")\r\n",
    "        |> GenericChart.mapTrace(fun t->  \r\n",
    "                                        t?fill<-StyleParam.Fill.toString(StyleParam.Fill.ToSelf) //Workaround\r\n",
    "                                        t?fillcolor<-\"rgba(0,176,246,0.2)\"\r\n",
    "                                        t)\r\n",
    "\r\n",
    "\r\n",
    "\r\n",
    "    ;Chart.Scatter((Seq.append x x_rev),\r\n",
    "                  (Seq.append y3_upper y3_lower),\r\n",
    "                  StyleParam.Mode.Lines,\r\n",
    "                   Showlegend=false,\r\n",
    "                   Name=\"Ideal\")\r\n",
    "        |> Chart.withLineStyle(Color=\"rgba(255,255,255,0)\")\r\n",
    "        |> GenericChart.mapTrace(fun t->  \r\n",
    "                                        t?fill<-StyleParam.Fill.toString(StyleParam.Fill.ToSelf) //Workaround\r\n",
    "                                        t?fillcolor<-\"rgba(231,107,243,0.2)\"\r\n",
    "                                        t)\r\n",
    "\r\n",
    "    ;Chart.Scatter(x,y1,StyleParam.Mode.Lines,Name=\"Fair\") \r\n",
    "        |> Chart.withLineStyle(Color=\"rgb(0,100,80)\")\r\n",
    "\r\n",
    "    ;Chart.Scatter(x,y2,StyleParam.Mode.Lines,Name=\"Premium\") \r\n",
    "        |> Chart.withLineStyle(Color=\"rgb(0,176,246)\")\r\n",
    "\r\n",
    "    ;Chart.Scatter(x,y3,StyleParam.Mode.Lines,Name=\"Ideal\") \r\n",
    "        |> Chart.withLineStyle(Color=\"rgb(231,107,243)\")\r\n",
    "\r\n",
    "] |> Chart.combine"
   ],
   "outputs": [
    {
     "output_type": "display_data",
     "data": {
      "text/html": ""
     },
     "metadata": {}
    }
   ],
   "metadata": {
    "dotnet_interactive": {
     "language": "fsharp"
    }
   }
  }
 ],
 "metadata": {
  "orig_nbformat": 4,
  "language_info": {
   "file_extension": ".cs",
   "mimetype": "text/x-csharp",
   "name": "C#",
   "pygments_lexer": "csharp",
   "version": "9.0"
  },
  "kernelspec": {
   "display_name": ".NET (C#)",
   "language": "C#",
   "name": ".net-csharp"
  }
 },
 "nbformat": 4,
 "nbformat_minor": 2
}