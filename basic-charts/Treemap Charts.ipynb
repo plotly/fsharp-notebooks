{
 "metadata": {
  "kernelspec": {
   "display_name": ".NET (F#)",
   "language": "F#",
   "name": ".net-fsharp"
  },
  "language_info": {
   "name": "F#"
  }
 },
 "cells": [
  {
   "cell_type": "markdown",
   "source": [
    "# Treemap Charts"
   ],
   "metadata": {}
  },
  {
   "cell_type": "markdown",
   "source": [
    "## Imports"
   ],
   "metadata": {}
  },
  {
   "cell_type": "code",
   "execution_count": null,
   "source": [
    "#r \"nuget: Plotly.NET, 2.0.0-preview.6\"\r\n",
    "#r \"nuget: Plotly.NET.Interactive, 2.0.0-preview.6\"\r\n",
    "open Plotly.NET"
   ],
   "outputs": [
    {
     "output_type": "display_data",
     "data": {
      "text/html": ""
     },
     "metadata": {}
    }
   ],
   "metadata": {
    "dotnet_interactive": {
     "language": "fsharp"
    }
   }
  },
  {
   "cell_type": "markdown",
   "source": [
    "## Basic Treemap with go.Treemap"
   ],
   "metadata": {}
  },
  {
   "cell_type": "code",
   "execution_count": null,
   "source": [
    "open Plotly.NET\r\n",
    "\r\n",
    "let values = [0.0; 11.0; 12.0; 13.0; 14.0; 15.0; 20.0; 30.0]\r\n",
    "let labels = [\"container\"; \"A1\"; \"A2\"; \"A3\"; \"A4\"; \"A5\"; \"B1\"; \"B2\"]\r\n",
    "let parents = [\"\"; \"container\"; \"A1\"; \"A2\"; \"A3\"; \"A4\"; \"container\"; \"B1\"]  \r\n",
    "\r\n",
    "Chart.Treemap(labels,\r\n",
    "              parents,\r\n",
    "              Values = values,\r\n",
    "              Colors = [\"lightgray\"])"
   ],
   "outputs": [
    {
     "output_type": "display_data",
     "data": {
      "text/html": ""
     },
     "metadata": {}
    }
   ],
   "metadata": {
    "dotnet_interactive": {
     "language": "fsharp"
    }
   }
  },
  {
   "cell_type": "markdown",
   "source": [
    "## Set Different Attributes in Treemap"
   ],
   "metadata": {}
  },
  {
   "cell_type": "code",
   "execution_count": null,
   "source": [
    "open Plotly.NET\r\n",
    "\r\n",
    "let labels = [\"Eve\"; \"Cain\"; \"Seth\"; \"Enos\"; \"Noam\"; \"Abel\"; \"Awan\"; \"Enoch\"; \"Azura\"]\r\n",
    "let parents = [\"\"; \"Eve\"; \"Eve\"; \"Seth\"; \"Seth\"; \"Eve\"; \"Eve\"; \"Awan\"; \"Eve\"]\r\n",
    "\r\n",
    "let values1 = [10.0; 14.0; 12.0; 10.0; 2.0; 6.0; 6.0; 1.0; 4.0]\r\n",
    "let values2 = [65.0; 14.0; 12.0; 10.0; 2.0; 6.0; 6.0; 1.0; 4.0]\r\n",
    "\r\n",
    "[\r\n",
    "    Chart.Treemap(labels,\r\n",
    "            parents,\r\n",
    "            Values = values1,                  \r\n",
    "            Text = [\"label+value+percent parent+percent entry+percent root\"],\r\n",
    "            Colors = [\"lightgray\"] ) \r\n",
    "\r\n",
    "    Chart.Treemap(labels,\r\n",
    "            parents,\r\n",
    "            Branchvalues = StyleParam.BranchValues.Total,\r\n",
    "            Values = values2, \r\n",
    "            Text = [\"label+value+percent parent+percent entry\"],\r\n",
    "            Colors = [\"lightgray\"]) \r\n",
    "]"
   ],
   "outputs": [
    {
     "output_type": "display_data",
     "data": {
      "text/html": ""
     },
     "metadata": {}
    }
   ],
   "metadata": {
    "dotnet_interactive": {
     "language": "fsharp"
    }
   }
  },
  {
   "cell_type": "markdown",
   "source": [
    "## Set Color of Treemap Sectors"
   ],
   "metadata": {}
  },
  {
   "cell_type": "markdown",
   "source": [
    "### marker.colors"
   ],
   "metadata": {}
  },
  {
   "cell_type": "code",
   "execution_count": null,
   "source": [
    "open Plotly.NET\r\n",
    "\r\n",
    "let values = [0.0; 11.0; 12.0; 13.0; 14.0; 15.0; 20.0; 30.0]\r\n",
    "let labels = [\"container\"; \"A1\"; \"A2\"; \"A3\"; \"A4\"; \"A5\"; \"B1\"; \"B2\"]\r\n",
    "let parents = [\"\"; \"container\"; \"A1\"; \"A2\"; \"A3\"; \"A4\"; \"container\"; \"B1\"]\r\n",
    "\r\n",
    "Chart.Treemap(labels,\r\n",
    "              parents,\r\n",
    "              Values = values, \r\n",
    "              Colors = [\"pink\"; \"royalblue\"; \"lightgray\"; \"purple\"; \r\n",
    "                        \"cyan\"; \"lightgray\"; \"lightblue\"; \"lightgreen\"]) "
   ],
   "outputs": [
    {
     "output_type": "display_data",
     "data": {
      "text/html": ""
     },
     "metadata": {}
    }
   ],
   "metadata": {
    "dotnet_interactive": {
     "language": "fsharp"
    }
   }
  },
  {
   "cell_type": "markdown",
   "source": [
    "### colorway"
   ],
   "metadata": {}
  },
  {
   "cell_type": "code",
   "execution_count": null,
   "source": [
    "let labels = [\"container\"; \"A1\"; \"A2\"; \"A3\"; \"A4\"; \"A5\"; \"B1\"; \"B2\"]\r\n",
    "let parents = [\"\"; \"container\"; \"A1\"; \"A2\"; \"A3\"; \"A4\"; \"container\"; \"B1\"]\r\n",
    "let values = [0.0; 11.0; 12.0; 13.0; 14.0; 15.0; 20.0; 30.0]\r\n",
    "\r\n",
    "let layout = Layout.init ()\r\n",
    "let template = Template.init(layout) |> \r\n",
    "               Template.withColorWay [|\"pink\"; \"lightgray\"|]\r\n",
    "\r\n",
    "Chart.Treemap(labels,\r\n",
    "              parents,\r\n",
    "              Values = values, \r\n",
    "              Colors = [\"lightblue\"] ) \r\n",
    "|> Chart.withTemplate template\r\n"
   ],
   "outputs": [
    {
     "output_type": "display_data",
     "data": {
      "text/html": ""
     },
     "metadata": {}
    }
   ],
   "metadata": {
    "dotnet_interactive": {
     "language": "fsharp"
    }
   }
  },
  {
   "cell_type": "markdown",
   "source": [
    "### colorscale"
   ],
   "metadata": {}
  },
  {
   "cell_type": "code",
   "execution_count": null,
   "source": [
    "let values = [0.0; 11.0; 12.0; 13.0; 14.0; 15.0; 20.0; 30.0]\r\n",
    "let labels = [\"container\"; \"A1\"; \"A2\"; \"A3\"; \"A4\"; \"A5\"; \"B1\"; \"B2\"]\r\n",
    "let parents = [\"\"; \"container\"; \"A1\"; \"A2\"; \"A3\"; \"A4\"; \"container\"; \"B1\"]\r\n",
    "\r\n",
    "Chart.Treemap(labels,\r\n",
    "              parents,\r\n",
    "              Values = values//, \r\n",
    "              (*Colorscale = StyleParam.Colorscale.Bluered*) ) "
   ],
   "outputs": [
    {
     "output_type": "display_data",
     "data": {
      "text/html": ""
     },
     "metadata": {}
    }
   ],
   "metadata": {
    "dotnet_interactive": {
     "language": "fsharp"
    }
   }
  }
 ],
 "nbformat": 4,
 "nbformat_minor": 2
}