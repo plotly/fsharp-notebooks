{
 "cells": [
  {
   "cell_type": "code",
   "execution_count": null,
   "metadata": {
    "dotnet_interactive": {
     "language": "fsharp"
    }
   },
   "outputs": [
    {
     "data": {
      "text/html": [
       "<div><div></div><div></div><div><strong>Installed Packages</strong><ul><li><span>Deedle, 2.4.3</span></li><li><span>FSharp.Data, 4.2.3</span></li><li><span>Plotly.NET, 2.0.0-preview.8</span></li><li><span>Plotly.NET.Interactive, 2.0.0-preview.8</span></li></ul></div></div>"
      ]
     },
     "metadata": {},
     "output_type": "display_data"
    }
   ],
   "source": [
    "#r \"nuget: Plotly.NET, 2.0.0-preview.8\"\n",
    "#r \"nuget: Plotly.NET.Interactive, 2.0.0-preview.8\"\n",
    "#r \"nuget: Deedle\"\n",
    "#r \"nuget: FSharp.Data\""
   ]
  },
  {
   "cell_type": "markdown",
   "metadata": {},
   "source": [
    "Treemap charts visualize hierarchical data using nested rectangles. The input data format is the same as for Sunburst Charts and Icicle Charts: the hierarchy is defined by labels and parents attributes. Click on one sector to zoom in/out, which also displays a pathbar in the upper-left corner of your treemap. To zoom out you can use the path bar as well."
   ]
  },
  {
   "cell_type": "markdown",
   "metadata": {},
   "source": [
    "# Basic Treemap"
   ]
  },
  {
   "cell_type": "code",
   "execution_count": null,
   "metadata": {
    "dotnet_interactive": {
     "language": "fsharp"
    }
   },
   "outputs": [
    {
     "data": {
      "text/html": [
       "<div id=\"942bae57-0039-4536-8ed1-354f9acf37d6\" style=\"width: 600px; height: 600px;\"><!-- Plotly chart will be drawn inside this DIV --></div>\r\n",
       "<script type=\"text/javascript\">\r\n",
       "\n",
       "            var renderPlotly_942bae57003945368ed1354f9acf37d6 = function() {\n",
       "            var fsharpPlotlyRequire = requirejs.config({context:'fsharp-plotly',paths:{plotly:'https://cdn.plot.ly/plotly-latest.min'}}) || require;\n",
       "            fsharpPlotlyRequire(['plotly'], function(Plotly) {\r\n",
       "\n",
       "            var data = [{\"type\":\"treemap\",\"labels\":[\"Eve\",\"Cain\",\"Seth\",\"Enos\",\"Noam\",\"Abel\",\"Awan\",\"Enoch\",\"Azura\"],\"parents\":[\"\",\"Eve\",\"Eve\",\"Seth\",\"Seth\",\"Eve\",\"Eve\",\"Awan\",\"Eve\"],\"marker\":{}}];\n",
       "            var layout = {\"margin\":{\"l\":25,\"r\":25,\"t\":50,\"b\":25}};\n",
       "            var config = {};\n",
       "            Plotly.newPlot('942bae57-0039-4536-8ed1-354f9acf37d6', data, layout, config);\r\n",
       "});\n",
       "            };\n",
       "            if ((typeof(requirejs) !==  typeof(Function)) || (typeof(requirejs.config) !== typeof(Function))) {\n",
       "                var script = document.createElement(\"script\");\n",
       "                script.setAttribute(\"src\", \"https://cdnjs.cloudflare.com/ajax/libs/require.js/2.3.6/require.min.js\");\n",
       "                script.onload = function(){\n",
       "                    renderPlotly_942bae57003945368ed1354f9acf37d6();\n",
       "                };\n",
       "                document.getElementsByTagName(\"head\")[0].appendChild(script);\n",
       "            }\n",
       "            else {\n",
       "                renderPlotly_942bae57003945368ed1354f9acf37d6();\n",
       "            }\r\n",
       "</script>\r\n"
      ]
     },
     "metadata": {},
     "output_type": "display_data"
    }
   ],
   "source": [
    "open Plotly.NET\n",
    "\n",
    "let labels = [\"Eve\";\"Cain\"; \"Seth\"; \"Enos\"; \"Noam\"; \"Abel\"; \"Awan\"; \"Enoch\"; \"Azura\"]\n",
    "let parents = [\"\"; \"Eve\"; \"Eve\"; \"Seth\"; \"Seth\"; \"Eve\"; \"Eve\"; \"Awan\"; \"Eve\"] \n",
    "\n",
    "Chart.Treemap(labels,parents)\n",
    "|> Chart.withMarginSize(Top=50,Left=25,Right=25,Bottom=25)"
   ]
  },
  {
   "cell_type": "markdown",
   "metadata": {},
   "source": [
    "# Set Different Attributes in Treemap\n",
    "\n",
    "This example uses the following attributes:\n",
    "\n",
    "* Values: sets the values associated with each of the sectors.\n",
    "* Text: determines which trace information appear on the graph that can be 'text', 'value', 'current path', 'percent root', 'percent entry', and 'percent parent', or any combination of them.\n",
    "* PathBar: a main extra feature of treemap to display the current path of the visible portion of the hierarchical map. It may also be useful for zooming out of the graph.\n",
    "* Branchvalues: determines how the items in values are summed. When set to \"total\", items in values are taken to be value of all its descendants. In the example below Eva = 65, which is equal to 14 + 12 + 10 + 2 + 6 + 6 + 1 + 4. When set to \"remainder\", items in values corresponding to the root and the branches sectors are taken to be the extra part not part of the sum of the values at their leaves."
   ]
  },
  {
   "cell_type": "code",
   "execution_count": null,
   "metadata": {
    "dotnet_interactive": {
     "language": "fsharp"
    }
   },
   "outputs": [
    {
     "data": {
      "text/html": [
       "<div id=\"125226d3-9c72-452b-ad9c-b38f1435d6ad\" style=\"width: 600px; height: 600px;\"><!-- Plotly chart will be drawn inside this DIV --></div>\r\n",
       "<script type=\"text/javascript\">\r\n",
       "\n",
       "            var renderPlotly_125226d39c72452bad9cb38f1435d6ad = function() {\n",
       "            var fsharpPlotlyRequire = requirejs.config({context:'fsharp-plotly',paths:{plotly:'https://cdn.plot.ly/plotly-latest.min'}}) || require;\n",
       "            fsharpPlotlyRequire(['plotly'], function(Plotly) {\r\n",
       "\n",
       "            var data = [{\"type\":\"treemap\",\"labels\":[\"Eve\",\"Cain\",\"Seth\",\"Enos\",\"Noam\",\"Abel\",\"Awan\",\"Enoch\",\"Azura\"],\"parents\":[\"\",\"Eve\",\"Eve\",\"Seth\",\"Seth\",\"Eve\",\"Eve\",\"Awan\",\"Eve\"],\"values\":[10.0,14.0,12.0,10.0,2.0,6.0,6.0,1.0,4.0],\"text\":[\"label+value+percent parent+percent entry+percent root\"],\"marker\":{\"color\":\"lightgray\"},\"domain\":{\"row\":0,\"column\":0}},{\"type\":\"treemap\",\"labels\":[\"Eve\",\"Cain\",\"Seth\",\"Enos\",\"Noam\",\"Abel\",\"Awan\",\"Enoch\",\"Azura\"],\"parents\":[\"\",\"Eve\",\"Eve\",\"Seth\",\"Seth\",\"Eve\",\"Eve\",\"Awan\",\"Eve\"],\"values\":[65.0,14.0,12.0,10.0,2.0,6.0,6.0,1.0,4.0],\"text\":[\"label+value+percent parent+percent entry\"],\"branchvalues\":\"total\",\"marker\":{\"color\":\"lightgray\"},\"domain\":{\"row\":0,\"column\":1}}];\n",
       "            var layout = {\"grid\":{\"rows\":1,\"columns\":2},\"width\":1100,\"margin\":{\"l\":25,\"r\":25,\"t\":50,\"b\":25}};\n",
       "            var config = {};\n",
       "            Plotly.newPlot('125226d3-9c72-452b-ad9c-b38f1435d6ad', data, layout, config);\r\n",
       "});\n",
       "            };\n",
       "            if ((typeof(requirejs) !==  typeof(Function)) || (typeof(requirejs.config) !== typeof(Function))) {\n",
       "                var script = document.createElement(\"script\");\n",
       "                script.setAttribute(\"src\", \"https://cdnjs.cloudflare.com/ajax/libs/require.js/2.3.6/require.min.js\");\n",
       "                script.onload = function(){\n",
       "                    renderPlotly_125226d39c72452bad9cb38f1435d6ad();\n",
       "                };\n",
       "                document.getElementsByTagName(\"head\")[0].appendChild(script);\n",
       "            }\n",
       "            else {\n",
       "                renderPlotly_125226d39c72452bad9cb38f1435d6ad();\n",
       "            }\r\n",
       "</script>\r\n"
      ]
     },
     "metadata": {},
     "output_type": "display_data"
    }
   ],
   "source": [
    "open Plotly.NET\n",
    "open Plotly.NET.LayoutObjects\n",
    "\n",
    "let labels = [\"Eve\"; \"Cain\"; \"Seth\"; \"Enos\"; \"Noam\"; \"Abel\"; \"Awan\"; \"Enoch\"; \"Azura\"]\n",
    "let parents = [\"\"; \"Eve\"; \"Eve\"; \"Seth\"; \"Seth\"; \"Eve\"; \"Eve\"; \"Awan\"; \"Eve\"]\n",
    "\n",
    "let values1 = [10.0; 14.0; 12.0; 10.0; 2.0; 6.0; 6.0; 1.0; 4.0]\n",
    "let values2 = [65.0; 14.0; 12.0; 10.0; 2.0; 6.0; 6.0; 1.0; 4.0]\n",
    "\n",
    "[\n",
    "    Chart.Treemap(labels,\n",
    "            parents,\n",
    "            Values = values1,                  \n",
    "            Text = [\"label+value+percent parent+percent entry+percent root\"],\n",
    "            Color = Color.fromString \"lightgray\" )\n",
    "        |> GenericChart.mapTrace((fun x -> x.SetValue(\"domain\", Domain.init (Row = 0, Column = 0)); x) ) //Workaround\n",
    "\n",
    "    Chart.Treemap(labels,\n",
    "            parents,\n",
    "            Branchvalues = StyleParam.BranchValues.Total,\n",
    "            Values = values2, \n",
    "            Text = [\"label+value+percent parent+percent entry\"],\n",
    "            Color = Color.fromString \"lightgray\") \n",
    "            |> GenericChart.mapTrace((fun x -> x.SetValue(\"domain\", Domain.init (Row = 0, Column = 1)); x) ) //Workaround\n",
    "]\n",
    "|> Chart.combine\n",
    "|> Chart.withLayoutGridStyle(Rows=1,Columns=2)\n",
    "|> Chart.withSize(Width=1100)\n",
    "|> Chart.withMarginSize(Top=50,Left=25,Right=25,Bottom=25)"
   ]
  },
  {
   "cell_type": "markdown",
   "metadata": {},
   "source": [
    "# Set Color of Treemap Sectors\n",
    "\n",
    "There are three different ways to change the color of the sectors in Treemap:\n",
    "\n",
    "1. Marker Color through Color property, \n",
    "2. ColorWay \n",
    "3. Colorscale\n",
    " \n",
    "The following examples show how to use each of them."
   ]
  },
  {
   "cell_type": "markdown",
   "metadata": {},
   "source": [
    "## Marker Colors (Not Working)"
   ]
  },
  {
   "cell_type": "code",
   "execution_count": null,
   "metadata": {
    "dotnet_interactive": {
     "language": "fsharp"
    }
   },
   "outputs": [
    {
     "data": {
      "text/html": [
       "<div id=\"e41f77ef-ccd7-4ab3-97cd-fa02ebb5cb51\" style=\"width: 600px; height: 600px;\"><!-- Plotly chart will be drawn inside this DIV --></div>\r\n",
       "<script type=\"text/javascript\">\r\n",
       "\n",
       "            var renderPlotly_e41f77efccd74ab397cdfa02ebb5cb51 = function() {\n",
       "            var fsharpPlotlyRequire = requirejs.config({context:'fsharp-plotly',paths:{plotly:'https://cdn.plot.ly/plotly-latest.min'}}) || require;\n",
       "            fsharpPlotlyRequire(['plotly'], function(Plotly) {\r\n",
       "\n",
       "            var data = [{\"type\":\"treemap\",\"labels\":[\"container\",\"A1\",\"A2\",\"A3\",\"A4\",\"A5\",\"B1\",\"B2\"],\"parents\":[\"\",\"container\",\"A1\",\"A2\",\"A3\",\"A4\",\"container\",\"B1\"],\"values\":[0.0,11.0,12.0,13.0,14.0,15.0,20.0,30.0],\"marker\":{\"color\":[\"pink\",\"royalblue\",\"lightgray\",\"purple\",\"cyan\",\"lightgray\",\"lightblue\",\"lightgreen\"]}}];\n",
       "            var layout = {\"margin\":{\"l\":25,\"r\":25,\"t\":50,\"b\":25}};\n",
       "            var config = {};\n",
       "            Plotly.newPlot('e41f77ef-ccd7-4ab3-97cd-fa02ebb5cb51', data, layout, config);\r\n",
       "});\n",
       "            };\n",
       "            if ((typeof(requirejs) !==  typeof(Function)) || (typeof(requirejs.config) !== typeof(Function))) {\n",
       "                var script = document.createElement(\"script\");\n",
       "                script.setAttribute(\"src\", \"https://cdnjs.cloudflare.com/ajax/libs/require.js/2.3.6/require.min.js\");\n",
       "                script.onload = function(){\n",
       "                    renderPlotly_e41f77efccd74ab397cdfa02ebb5cb51();\n",
       "                };\n",
       "                document.getElementsByTagName(\"head\")[0].appendChild(script);\n",
       "            }\n",
       "            else {\n",
       "                renderPlotly_e41f77efccd74ab397cdfa02ebb5cb51();\n",
       "            }\r\n",
       "</script>\r\n"
      ]
     },
     "metadata": {},
     "output_type": "display_data"
    }
   ],
   "source": [
    "open Plotly.NET\n",
    "\n",
    "let values = [0.0; 11.0; 12.0; 13.0; 14.0; 15.0; 20.0; 30.0]\n",
    "let labels = [\"container\"; \"A1\"; \"A2\"; \"A3\"; \"A4\"; \"A5\"; \"B1\"; \"B2\"]\n",
    "let parents = [\"\"; \"container\"; \"A1\"; \"A2\"; \"A3\"; \"A4\"; \"container\"; \"B1\"]\n",
    "\n",
    "let markerColors = [\"pink\"; \"royalblue\"; \"lightgray\"; \"purple\"; \n",
    "                        \"cyan\"; \"lightgray\"; \"lightblue\"; \"lightgreen\"]\n",
    "                        |> Seq.map (fun c-> Color.fromString c)\n",
    "                        |> Color.fromColors\n",
    "\n",
    "Chart.Treemap(labels,\n",
    "              parents,\n",
    "              Values = values, \n",
    "              Color = markerColors) \n",
    "\n",
    "|> Chart.withMarginSize(Top=50,Left=25,Right=25,Bottom=25)\n"
   ]
  },
  {
   "cell_type": "markdown",
   "metadata": {},
   "source": [
    "## TreemapColorWay"
   ]
  },
  {
   "cell_type": "code",
   "execution_count": null,
   "metadata": {
    "dotnet_interactive": {
     "language": "fsharp"
    }
   },
   "outputs": [
    {
     "data": {
      "text/html": [
       "<div id=\"948200cc-4a4c-483c-b360-23a99479313c\" style=\"width: 600px; height: 600px;\"><!-- Plotly chart will be drawn inside this DIV --></div>\r\n",
       "<script type=\"text/javascript\">\r\n",
       "\n",
       "            var renderPlotly_948200cc4a4c483cb36023a99479313c = function() {\n",
       "            var fsharpPlotlyRequire = requirejs.config({context:'fsharp-plotly',paths:{plotly:'https://cdn.plot.ly/plotly-latest.min'}}) || require;\n",
       "            fsharpPlotlyRequire(['plotly'], function(Plotly) {\r\n",
       "\n",
       "            var data = [{\"type\":\"treemap\",\"labels\":[\"container\",\"A1\",\"A2\",\"A3\",\"A4\",\"A5\",\"B1\",\"B2\"],\"parents\":[\"\",\"container\",\"A1\",\"A2\",\"A3\",\"A4\",\"container\",\"B1\"],\"values\":[0.0,11.0,12.0,13.0,14.0,15.0,20.0,30.0],\"marker\":{}}];\n",
       "            var layout = {\"treemapcolorway\":[\"pink\",\"lightgray\"],\"margin\":{\"l\":25,\"r\":25,\"t\":50,\"b\":25}};\n",
       "            var config = {};\n",
       "            Plotly.newPlot('948200cc-4a4c-483c-b360-23a99479313c', data, layout, config);\r\n",
       "});\n",
       "            };\n",
       "            if ((typeof(requirejs) !==  typeof(Function)) || (typeof(requirejs.config) !== typeof(Function))) {\n",
       "                var script = document.createElement(\"script\");\n",
       "                script.setAttribute(\"src\", \"https://cdnjs.cloudflare.com/ajax/libs/require.js/2.3.6/require.min.js\");\n",
       "                script.onload = function(){\n",
       "                    renderPlotly_948200cc4a4c483cb36023a99479313c();\n",
       "                };\n",
       "                document.getElementsByTagName(\"head\")[0].appendChild(script);\n",
       "            }\n",
       "            else {\n",
       "                renderPlotly_948200cc4a4c483cb36023a99479313c();\n",
       "            }\r\n",
       "</script>\r\n"
      ]
     },
     "metadata": {},
     "output_type": "display_data"
    }
   ],
   "source": [
    "let labels = [\"container\"; \"A1\"; \"A2\"; \"A3\"; \"A4\"; \"A5\"; \"B1\"; \"B2\"]\n",
    "let parents = [\"\"; \"container\"; \"A1\"; \"A2\"; \"A3\"; \"A4\"; \"container\"; \"B1\"]\n",
    "let values = [0.0; 11.0; 12.0; 13.0; 14.0; 15.0; 20.0; 30.0]\n",
    "\n",
    "let markerColor = [Color.fromString \"pink\";Color.fromString \"lightgray\"] |> Color.fromColors\n",
    "Chart.Treemap(labels,\n",
    "              parents,\n",
    "              Values = values) \n",
    "              \n",
    "|> Chart.withLayout(Layout.init(TreeMapColorWay= markerColor))\n",
    "|> Chart.withMarginSize(Top=50,Left=25,Right=25,Bottom=25)"
   ]
  },
  {
   "cell_type": "markdown",
   "metadata": {},
   "source": [
    "## Colorscale (Not Working)"
   ]
  },
  {
   "cell_type": "code",
   "execution_count": null,
   "metadata": {
    "dotnet_interactive": {
     "language": "fsharp"
    }
   },
   "outputs": [
    {
     "data": {
      "text/html": [
       "<div id=\"d6045f95-f97d-4cb0-adef-1fe277ca7c97\" style=\"width: 600px; height: 600px;\"><!-- Plotly chart will be drawn inside this DIV --></div>\r\n",
       "<script type=\"text/javascript\">\r\n",
       "\n",
       "            var renderPlotly_d6045f95f97d4cb0adef1fe277ca7c97 = function() {\n",
       "            var fsharpPlotlyRequire = requirejs.config({context:'fsharp-plotly',paths:{plotly:'https://cdn.plot.ly/plotly-latest.min'}}) || require;\n",
       "            fsharpPlotlyRequire(['plotly'], function(Plotly) {\r\n",
       "\n",
       "            var data = [{\"type\":\"treemap\",\"labels\":[\"container\",\"A1\",\"A2\",\"A3\",\"A4\",\"A5\",\"B1\",\"B2\"],\"parents\":[\"\",\"container\",\"A1\",\"A2\",\"A3\",\"A4\",\"container\",\"B1\"],\"values\":[0.0,11.0,12.0,13.0,14.0,15.0,20.0,30.0],\"marker\":{}}];\n",
       "            var layout = {\"margin\":{\"l\":25,\"r\":25,\"t\":50,\"b\":25}};\n",
       "            var config = {};\n",
       "            Plotly.newPlot('d6045f95-f97d-4cb0-adef-1fe277ca7c97', data, layout, config);\r\n",
       "});\n",
       "            };\n",
       "            if ((typeof(requirejs) !==  typeof(Function)) || (typeof(requirejs.config) !== typeof(Function))) {\n",
       "                var script = document.createElement(\"script\");\n",
       "                script.setAttribute(\"src\", \"https://cdnjs.cloudflare.com/ajax/libs/require.js/2.3.6/require.min.js\");\n",
       "                script.onload = function(){\n",
       "                    renderPlotly_d6045f95f97d4cb0adef1fe277ca7c97();\n",
       "                };\n",
       "                document.getElementsByTagName(\"head\")[0].appendChild(script);\n",
       "            }\n",
       "            else {\n",
       "                renderPlotly_d6045f95f97d4cb0adef1fe277ca7c97();\n",
       "            }\r\n",
       "</script>\r\n"
      ]
     },
     "metadata": {},
     "output_type": "display_data"
    }
   ],
   "source": [
    "let values = [0.0; 11.0; 12.0; 13.0; 14.0; 15.0; 20.0; 30.0]\n",
    "let labels = [\"container\"; \"A1\"; \"A2\"; \"A3\"; \"A4\"; \"A5\"; \"B1\"; \"B2\"]\n",
    "let parents = [\"\"; \"container\"; \"A1\"; \"A2\"; \"A3\"; \"A4\"; \"container\"; \"B1\"]\n",
    "\n",
    "Chart.Treemap(labels,\n",
    "              parents,\n",
    "              Values = values ) \n",
    "//|> Chart.withLayout(Layout.init(Colorscale= DefaultColorScales.init(Diverging=StyleParam.Colorscale.Viridis)))\n",
    "|> Chart.withMarginSize(Top=50,Left=25,Right=25,Bottom=25)"
   ]
  },
  {
   "cell_type": "markdown",
   "metadata": {},
   "source": [
    "# Nested Layers in Treemap\n",
    "\n",
    "The following example uses hierarchical data that includes layers and grouping. Treemap and Sunburst charts reveal insights into the data, and the format of your hierarchical data. maxdepth attribute sets the number of rendered sectors from the given level."
   ]
  },
  {
   "cell_type": "code",
   "execution_count": null,
   "metadata": {
    "dotnet_interactive": {
     "language": "fsharp"
    }
   },
   "outputs": [
    {
     "data": {
      "text/html": [
       "<div id=\"4c1b748a-0cfb-4070-b62c-f23ec3afeac1\" style=\"width: 600px; height: 600px;\"><!-- Plotly chart will be drawn inside this DIV --></div>\r\n",
       "<script type=\"text/javascript\">\r\n",
       "\n",
       "            var renderPlotly_4c1b748a0cfb4070b62cf23ec3afeac1 = function() {\n",
       "            var fsharpPlotlyRequire = requirejs.config({context:'fsharp-plotly',paths:{plotly:'https://cdn.plot.ly/plotly-latest.min'}}) || require;\n",
       "            fsharpPlotlyRequire(['plotly'], function(Plotly) {\r\n",
       "\n",
       "            var data = [{\"type\":\"treemap\",\"labels\":[\"Coffee Flavors\",\"Aromas\",\"Tastes\",\"Enzymatic\",\"Sugar Browning\",\"Dry Distillation\",\"Bitter\",\"Salt\",\"Sweet\",\"Sour\",\"Flowery\",\"Fruity\",\"Herby\",\"Nutty\",\"Carmelly\",\"Chocolatey\",\"Resinous\",\"Spicy\",\"Carbony\",\"Pungent\",\"Harsh\",\"Sharp\",\"Bland\",\"Mellow\",\"Acidy\",\"Winey\",\"Soury\",\"Floral\",\"Fragrant\",\"Citrus\",\"Berry-like\",\"Alliaceous\",\"Leguminous\",\"Nut-like\",\"Malt-like\",\"Candy-like\",\"Syrup-like\",\"Chocolate-like\",\"Vanilla-like\",\"Turpeny\",\"Medicinal\",\"Warming\",\"Pungent\",\"Smokey\",\"Ashy\",\"Creosol\",\"Phenolic\",\"Caustic\",\"Alkaline\",\"Astringent\",\"Rough\",\"Neutral\",\"Soft\",\"Delicate\",\"Mild\",\"Nippy\",\"Piquant\",\"Tangy\",\"Tart\",\"Hard\",\"Acrid\",\"Coffee Blossom\",\"Tea Rose\",\"Cardamon Caraway\",\"Coriander Seeds\",\"Lemon\",\"Apple\",\"Apricot\",\"Blackberry\",\"Onion\",\"Garlic\",\"Cucumber\",\"Garden Peas\",\"Roasted Peanuts\",\"Walnuts\",\"Balsamic Rice\",\"Toast\",\"Roasted Hazelnut\",\"Roasted Almond\",\"Honey\",\"Maple Syrup\",\"Bakers\",\"Dark Chocolate\",\"Swiss\",\"Butter\",\"Piney\",\"Blackcurrant-like\",\"Camphoric\",\"Cineolic\",\"Cedar\",\"Pepper\",\"Clove\",\"Thyme\",\"Tarry\",\"Pipe Tobacco\",\"Burnt\",\"Charred\"],\"parents\":[\"\",\"Coffee\",\"Coffee\",\"Aromas\",\"Aromas\",\"Aromas\",\"Tastes\",\"Tastes\",\"Tastes\",\"Tastes\",\"Aromas-Enzymatic\",\"Aromas-Enzymatic\",\"Aromas-Enzymatic\",\"Aromas-Sugar Browning\",\"Aromas-Sugar Browning\",\"Aromas-Sugar Browning\",\"Aromas-Dry Distillation\",\"Aromas-Dry Distillation\",\"Aromas-Dry Distillation\",\"Tastes-Bitter\",\"Tastes-Bitter\",\"Tastes-Salt\",\"Tastes-Salt\",\"Tastes-Sweet\",\"Tastes-Sweet\",\"Tastes-Sour\",\"Tastes-Sour\",\"Enzymatic-Flowery\",\"Enzymatic-Flowery\",\"Enzymatic-Fruity\",\"Enzymatic-Fruity\",\"Enzymatic-Herby\",\"Enzymatic-Herby\",\"Sugar Browning-Nutty\",\"Sugar Browning-Nutty\",\"Sugar Browning-Carmelly\",\"Sugar Browning-Carmelly\",\"Sugar Browning-Chocolatey\",\"Sugar Browning-Chocolatey\",\"Dry Distillation-Resinous\",\"Dry Distillation-Resinous\",\"Dry Distillation-Spicy\",\"Dry Distillation-Spicy\",\"Dry Distillation-Carbony\",\"Dry Distillation-Carbony\",\"Bitter-Pungent\",\"Bitter-Pungent\",\"Bitter-Harsh\",\"Bitter-Harsh\",\"Salt-Sharp\",\"Salt-Sharp\",\"Salt-Bland\",\"Salt-Bland\",\"Sweet-Mellow\",\"Sweet-Mellow\",\"Sweet-Acidy\",\"Sweet-Acidy\",\"Sour-Winey\",\"Sour-Winey\",\"Sour-Soury\",\"Sour-Soury\",\"Flowery-Floral\",\"Flowery-Floral\",\"Flowery-Fragrant\",\"Flowery-Fragrant\",\"Fruity-Citrus\",\"Fruity-Citrus\",\"Fruity-Berry-like\",\"Fruity-Berry-like\",\"Herby-Alliaceous\",\"Herby-Alliaceous\",\"Herby-Leguminous\",\"Herby-Leguminous\",\"Nutty-Nut-like\",\"Nutty-Nut-like\",\"Nutty-Malt-like\",\"Nutty-Malt-like\",\"Carmelly-Candy-like\",\"Carmelly-Candy-like\",\"Carmelly-Syrup-like\",\"Carmelly-Syrup-like\",\"Chocolatey-Chocolate-like\",\"Chocolatey-Chocolate-like\",\"Chocolatey-Vanilla-like\",\"Chocolatey-Vanilla-like\",\"Resinous-Turpeny\",\"Resinous-Turpeny\",\"Resinous-Medicinal\",\"Resinous-Medicinal\",\"Spicy-Warming\",\"Spicy-Warming\",\"Spicy-Pungent\",\"Spicy-Pungent\",\"Carbony-Smokey\",\"Carbony-Smokey\",\"Carbony-Ashy\",\"Carbony-Ashy\"],\"ids\":[\"Coffee\",\"Aromas\",\"Tastes\",\"Aromas-Enzymatic\",\"Aromas-Sugar Browning\",\"Aromas-Dry Distillation\",\"Tastes-Bitter\",\"Tastes-Salt\",\"Tastes-Sweet\",\"Tastes-Sour\",\"Enzymatic-Flowery\",\"Enzymatic-Fruity\",\"Enzymatic-Herby\",\"Sugar Browning-Nutty\",\"Sugar Browning-Carmelly\",\"Sugar Browning-Chocolatey\",\"Dry Distillation-Resinous\",\"Dry Distillation-Spicy\",\"Dry Distillation-Carbony\",\"Bitter-Pungent\",\"Bitter-Harsh\",\"Salt-Sharp\",\"Salt-Bland\",\"Sweet-Mellow\",\"Sweet-Acidy\",\"Sour-Winey\",\"Sour-Soury\",\"Flowery-Floral\",\"Flowery-Fragrant\",\"Fruity-Citrus\",\"Fruity-Berry-like\",\"Herby-Alliaceous\",\"Herby-Leguminous\",\"Nutty-Nut-like\",\"Nutty-Malt-like\",\"Carmelly-Candy-like\",\"Carmelly-Syrup-like\",\"Chocolatey-Chocolate-like\",\"Chocolatey-Vanilla-like\",\"Resinous-Turpeny\",\"Resinous-Medicinal\",\"Spicy-Warming\",\"Spicy-Pungent\",\"Carbony-Smokey\",\"Carbony-Ashy\",\"Pungent-Creosol\",\"Pungent-Phenolic\",\"Harsh-Caustic\",\"Harsh-Alkaline\",\"Sharp-Astringent\",\"Sharp-Rough\",\"Bland-Neutral\",\"Bland-Soft\",\"Mellow-Delicate\",\"Mellow-Mild\",\"Acidy-Nippy\",\"Acidy-Piquant\",\"Winey-Tangy\",\"Winey-Tart\",\"Soury-Hard\",\"Soury-Acrid\",\"Floral-Coffee Blossom\",\"Floral-Tea Rose\",\"Fragrant-Cardamon Caraway\",\"Fragrant-Coriander Seeds\",\"Citrus-Lemon\",\"Citrus-Apple\",\"Berry-like-Apricot\",\"Berry-like-Blackberry\",\"Alliaceous-Onion\",\"Alliaceous-Garlic\",\"Leguminous-Cucumber\",\"Leguminous-Garden Peas\",\"Nut-like-Roasted Peanuts\",\"Nut-like-Walnuts\",\"Malt-like-Balsamic Rice\",\"Malt-like-Toast\",\"Candy-like-Roasted Hazelnut\",\"Candy-like-Roasted Almond\",\"Syrup-like-Honey\",\"Syrup-like-Maple Syrup\",\"Chocolate-like-Bakers\",\"Chocolate-like-Dark Chocolate\",\"Vanilla-like-Swiss\",\"Vanilla-like-Butter\",\"Turpeny-Piney\",\"Turpeny-Blackcurrant-like\",\"Medicinal-Camphoric\",\"Medicinal-Cineolic\",\"Warming-Cedar\",\"Warming-Pepper\",\"Pungent-Clove\",\"Pungent-Thyme\",\"Smokey-Tarry\",\"Smokey-Pipe Tobacco\",\"Ashy-Burnt\",\"Ashy-Charred\"],\"maxdepth\":3,\"marker\":{}}];\n",
       "            var layout = {\"width\":1100,\"margin\":{\"l\":25,\"r\":25,\"t\":50,\"b\":25}};\n",
       "            var config = {};\n",
       "            Plotly.newPlot('4c1b748a-0cfb-4070-b62c-f23ec3afeac1', data, layout, config);\r\n",
       "});\n",
       "            };\n",
       "            if ((typeof(requirejs) !==  typeof(Function)) || (typeof(requirejs.config) !== typeof(Function))) {\n",
       "                var script = document.createElement(\"script\");\n",
       "                script.setAttribute(\"src\", \"https://cdnjs.cloudflare.com/ajax/libs/require.js/2.3.6/require.min.js\");\n",
       "                script.onload = function(){\n",
       "                    renderPlotly_4c1b748a0cfb4070b62cf23ec3afeac1();\n",
       "                };\n",
       "                document.getElementsByTagName(\"head\")[0].appendChild(script);\n",
       "            }\n",
       "            else {\n",
       "                renderPlotly_4c1b748a0cfb4070b62cf23ec3afeac1();\n",
       "            }\r\n",
       "</script>\r\n"
      ]
     },
     "metadata": {},
     "output_type": "display_data"
    }
   ],
   "source": [
    "open FSharp.Data\n",
    "\n",
    "let data = CsvFile.Load(\"https://raw.githubusercontent.com/plotly/datasets/96c0bd/sunburst-coffee-flavors-complete.csv\")\n",
    "\n",
    "let Ids = [for row in data.Rows -> row.GetColumn(\"ids\")]\n",
    "let labels = [for row in data.Rows -> row.GetColumn(\"labels\")]\n",
    "let parents = [for row in data.Rows -> row.GetColumn(\"parents\")]\n",
    "\n",
    "Chart.Treemap(labels=labels,            \n",
    "            parents=parents,\n",
    "            Ids=Ids,\n",
    "            Maxdepth=3) \n",
    "|> Chart.withSize(Width=1100)\n",
    "|> Chart.withMarginSize(Top=50,Left=25,Right=25,Bottom=25)"
   ]
  },
  {
   "cell_type": "markdown",
   "metadata": {},
   "source": [
    "# Controlling text fontsize with uniformtext\n",
    "\n",
    "If you want all the text labels to have the same size, you can use the uniformtext layout parameter. The minsize attribute sets the font size, and the mode attribute sets what happens for labels which cannot fit with the desired fontsize: either hide them or show them with overflow."
   ]
  },
  {
   "cell_type": "code",
   "execution_count": null,
   "metadata": {
    "dotnet_interactive": {
     "language": "fsharp"
    }
   },
   "outputs": [
    {
     "data": {
      "text/html": [
       "<div id=\"80815a7c-20ca-4cdb-aa82-4c174440ddac\" style=\"width: 600px; height: 600px;\"><!-- Plotly chart will be drawn inside this DIV --></div>\r\n",
       "<script type=\"text/javascript\">\r\n",
       "\n",
       "            var renderPlotly_80815a7c20ca4cdbaa824c174440ddac = function() {\n",
       "            var fsharpPlotlyRequire = requirejs.config({context:'fsharp-plotly',paths:{plotly:'https://cdn.plot.ly/plotly-latest.min'}}) || require;\n",
       "            fsharpPlotlyRequire(['plotly'], function(Plotly) {\r\n",
       "\n",
       "            var data = [{\"type\":\"treemap\",\"labels\":[\"Coffee Flavors\",\"Aromas\",\"Tastes\",\"Enzymatic\",\"Sugar Browning\",\"Dry Distillation\",\"Bitter\",\"Salt\",\"Sweet\",\"Sour\",\"Flowery\",\"Fruity\",\"Herby\",\"Nutty\",\"Carmelly\",\"Chocolatey\",\"Resinous\",\"Spicy\",\"Carbony\",\"Pungent\",\"Harsh\",\"Sharp\",\"Bland\",\"Mellow\",\"Acidy\",\"Winey\",\"Soury\",\"Floral\",\"Fragrant\",\"Citrus\",\"Berry-like\",\"Alliaceous\",\"Leguminous\",\"Nut-like\",\"Malt-like\",\"Candy-like\",\"Syrup-like\",\"Chocolate-like\",\"Vanilla-like\",\"Turpeny\",\"Medicinal\",\"Warming\",\"Pungent\",\"Smokey\",\"Ashy\",\"Creosol\",\"Phenolic\",\"Caustic\",\"Alkaline\",\"Astringent\",\"Rough\",\"Neutral\",\"Soft\",\"Delicate\",\"Mild\",\"Nippy\",\"Piquant\",\"Tangy\",\"Tart\",\"Hard\",\"Acrid\",\"Coffee Blossom\",\"Tea Rose\",\"Cardamon Caraway\",\"Coriander Seeds\",\"Lemon\",\"Apple\",\"Apricot\",\"Blackberry\",\"Onion\",\"Garlic\",\"Cucumber\",\"Garden Peas\",\"Roasted Peanuts\",\"Walnuts\",\"Balsamic Rice\",\"Toast\",\"Roasted Hazelnut\",\"Roasted Almond\",\"Honey\",\"Maple Syrup\",\"Bakers\",\"Dark Chocolate\",\"Swiss\",\"Butter\",\"Piney\",\"Blackcurrant-like\",\"Camphoric\",\"Cineolic\",\"Cedar\",\"Pepper\",\"Clove\",\"Thyme\",\"Tarry\",\"Pipe Tobacco\",\"Burnt\",\"Charred\"],\"parents\":[\"\",\"Coffee\",\"Coffee\",\"Aromas\",\"Aromas\",\"Aromas\",\"Tastes\",\"Tastes\",\"Tastes\",\"Tastes\",\"Aromas-Enzymatic\",\"Aromas-Enzymatic\",\"Aromas-Enzymatic\",\"Aromas-Sugar Browning\",\"Aromas-Sugar Browning\",\"Aromas-Sugar Browning\",\"Aromas-Dry Distillation\",\"Aromas-Dry Distillation\",\"Aromas-Dry Distillation\",\"Tastes-Bitter\",\"Tastes-Bitter\",\"Tastes-Salt\",\"Tastes-Salt\",\"Tastes-Sweet\",\"Tastes-Sweet\",\"Tastes-Sour\",\"Tastes-Sour\",\"Enzymatic-Flowery\",\"Enzymatic-Flowery\",\"Enzymatic-Fruity\",\"Enzymatic-Fruity\",\"Enzymatic-Herby\",\"Enzymatic-Herby\",\"Sugar Browning-Nutty\",\"Sugar Browning-Nutty\",\"Sugar Browning-Carmelly\",\"Sugar Browning-Carmelly\",\"Sugar Browning-Chocolatey\",\"Sugar Browning-Chocolatey\",\"Dry Distillation-Resinous\",\"Dry Distillation-Resinous\",\"Dry Distillation-Spicy\",\"Dry Distillation-Spicy\",\"Dry Distillation-Carbony\",\"Dry Distillation-Carbony\",\"Bitter-Pungent\",\"Bitter-Pungent\",\"Bitter-Harsh\",\"Bitter-Harsh\",\"Salt-Sharp\",\"Salt-Sharp\",\"Salt-Bland\",\"Salt-Bland\",\"Sweet-Mellow\",\"Sweet-Mellow\",\"Sweet-Acidy\",\"Sweet-Acidy\",\"Sour-Winey\",\"Sour-Winey\",\"Sour-Soury\",\"Sour-Soury\",\"Flowery-Floral\",\"Flowery-Floral\",\"Flowery-Fragrant\",\"Flowery-Fragrant\",\"Fruity-Citrus\",\"Fruity-Citrus\",\"Fruity-Berry-like\",\"Fruity-Berry-like\",\"Herby-Alliaceous\",\"Herby-Alliaceous\",\"Herby-Leguminous\",\"Herby-Leguminous\",\"Nutty-Nut-like\",\"Nutty-Nut-like\",\"Nutty-Malt-like\",\"Nutty-Malt-like\",\"Carmelly-Candy-like\",\"Carmelly-Candy-like\",\"Carmelly-Syrup-like\",\"Carmelly-Syrup-like\",\"Chocolatey-Chocolate-like\",\"Chocolatey-Chocolate-like\",\"Chocolatey-Vanilla-like\",\"Chocolatey-Vanilla-like\",\"Resinous-Turpeny\",\"Resinous-Turpeny\",\"Resinous-Medicinal\",\"Resinous-Medicinal\",\"Spicy-Warming\",\"Spicy-Warming\",\"Spicy-Pungent\",\"Spicy-Pungent\",\"Carbony-Smokey\",\"Carbony-Smokey\",\"Carbony-Ashy\",\"Carbony-Ashy\"],\"ids\":[\"Coffee\",\"Aromas\",\"Tastes\",\"Aromas-Enzymatic\",\"Aromas-Sugar Browning\",\"Aromas-Dry Distillation\",\"Tastes-Bitter\",\"Tastes-Salt\",\"Tastes-Sweet\",\"Tastes-Sour\",\"Enzymatic-Flowery\",\"Enzymatic-Fruity\",\"Enzymatic-Herby\",\"Sugar Browning-Nutty\",\"Sugar Browning-Carmelly\",\"Sugar Browning-Chocolatey\",\"Dry Distillation-Resinous\",\"Dry Distillation-Spicy\",\"Dry Distillation-Carbony\",\"Bitter-Pungent\",\"Bitter-Harsh\",\"Salt-Sharp\",\"Salt-Bland\",\"Sweet-Mellow\",\"Sweet-Acidy\",\"Sour-Winey\",\"Sour-Soury\",\"Flowery-Floral\",\"Flowery-Fragrant\",\"Fruity-Citrus\",\"Fruity-Berry-like\",\"Herby-Alliaceous\",\"Herby-Leguminous\",\"Nutty-Nut-like\",\"Nutty-Malt-like\",\"Carmelly-Candy-like\",\"Carmelly-Syrup-like\",\"Chocolatey-Chocolate-like\",\"Chocolatey-Vanilla-like\",\"Resinous-Turpeny\",\"Resinous-Medicinal\",\"Spicy-Warming\",\"Spicy-Pungent\",\"Carbony-Smokey\",\"Carbony-Ashy\",\"Pungent-Creosol\",\"Pungent-Phenolic\",\"Harsh-Caustic\",\"Harsh-Alkaline\",\"Sharp-Astringent\",\"Sharp-Rough\",\"Bland-Neutral\",\"Bland-Soft\",\"Mellow-Delicate\",\"Mellow-Mild\",\"Acidy-Nippy\",\"Acidy-Piquant\",\"Winey-Tangy\",\"Winey-Tart\",\"Soury-Hard\",\"Soury-Acrid\",\"Floral-Coffee Blossom\",\"Floral-Tea Rose\",\"Fragrant-Cardamon Caraway\",\"Fragrant-Coriander Seeds\",\"Citrus-Lemon\",\"Citrus-Apple\",\"Berry-like-Apricot\",\"Berry-like-Blackberry\",\"Alliaceous-Onion\",\"Alliaceous-Garlic\",\"Leguminous-Cucumber\",\"Leguminous-Garden Peas\",\"Nut-like-Roasted Peanuts\",\"Nut-like-Walnuts\",\"Malt-like-Balsamic Rice\",\"Malt-like-Toast\",\"Candy-like-Roasted Hazelnut\",\"Candy-like-Roasted Almond\",\"Syrup-like-Honey\",\"Syrup-like-Maple Syrup\",\"Chocolate-like-Bakers\",\"Chocolate-like-Dark Chocolate\",\"Vanilla-like-Swiss\",\"Vanilla-like-Butter\",\"Turpeny-Piney\",\"Turpeny-Blackcurrant-like\",\"Medicinal-Camphoric\",\"Medicinal-Cineolic\",\"Warming-Cedar\",\"Warming-Pepper\",\"Pungent-Clove\",\"Pungent-Thyme\",\"Smokey-Tarry\",\"Smokey-Pipe Tobacco\",\"Ashy-Burnt\",\"Ashy-Charred\"],\"pathbar\":{\"textfont \":{\"size\":15.0}},\"marker\":{}}];\n",
       "            var layout = {\"width\":1100,\"margin\":{\"l\":25,\"r\":25,\"t\":50,\"b\":25},\"uniformtext\":{\"minsize\":10,\"mode\":\"hide\"}};\n",
       "            var config = {};\n",
       "            Plotly.newPlot('80815a7c-20ca-4cdb-aa82-4c174440ddac', data, layout, config);\r\n",
       "});\n",
       "            };\n",
       "            if ((typeof(requirejs) !==  typeof(Function)) || (typeof(requirejs.config) !== typeof(Function))) {\n",
       "                var script = document.createElement(\"script\");\n",
       "                script.setAttribute(\"src\", \"https://cdnjs.cloudflare.com/ajax/libs/require.js/2.3.6/require.min.js\");\n",
       "                script.onload = function(){\n",
       "                    renderPlotly_80815a7c20ca4cdbaa824c174440ddac();\n",
       "                };\n",
       "                document.getElementsByTagName(\"head\")[0].appendChild(script);\n",
       "            }\n",
       "            else {\n",
       "                renderPlotly_80815a7c20ca4cdbaa824c174440ddac();\n",
       "            }\r\n",
       "</script>\r\n"
      ]
     },
     "metadata": {},
     "output_type": "display_data"
    }
   ],
   "source": [
    "open FSharp.Data\n",
    "open Plotly.NET.TraceObjects\n",
    "\n",
    "let data = CsvFile.Load(\"https://raw.githubusercontent.com/plotly/datasets/96c0bd/sunburst-coffee-flavors-complete.csv\")\n",
    "\n",
    "let Ids = [for row in data.Rows -> row.GetColumn(\"ids\")]\n",
    "let labels = [for row in data.Rows -> row.GetColumn(\"labels\")]\n",
    "let parents = [for row in data.Rows -> row.GetColumn(\"parents\")]\n",
    "\n",
    "Chart.Treemap(labels=labels,            \n",
    "            parents=parents,\n",
    "            Ids=Ids,            \n",
    "            PathBar=Pathbar.init(Textfont=Font.init(Size=15.))) \n",
    "|> Chart.withSize(Width=1100)\n",
    "|> Chart.withLayout(Layout.init(\n",
    "                            UniformText=UniformText.init(MinSize=10,Mode=StyleParam.UniformTextMode.Hide),\n",
    "                            Margin = Margin.init(Top=50,Left=25,Right=25,Bottom=25)))"
   ]
  }
 ],
 "metadata": {
  "kernelspec": {
   "display_name": ".NET (F#)",
   "language": "F#",
   "name": ".net-fsharp"
  },
  "language_info": {
   "name": "F#"
  }
 },
 "nbformat": 4,
 "nbformat_minor": 2
}
