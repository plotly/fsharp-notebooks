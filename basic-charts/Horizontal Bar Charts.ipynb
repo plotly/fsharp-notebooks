{
 "cells": [
  {
   "cell_type": "code",
   "execution_count": null,
   "source": [
    "#r \"nuget: Plotly.NET, 2.0.0-preview.8\"\r\n",
    "#r \"nuget: Plotly.NET.Interactive, 2.0.0-preview.8\"\r\n",
    "open Plotly.NET"
   ],
   "outputs": [
    {
     "output_type": "display_data",
     "data": {
      "text/html": ""
     },
     "metadata": {}
    },
    {
     "output_type": "display_data",
     "data": {
      "text/markdown": ""
     },
     "metadata": {}
    },
    {
     "output_type": "display_data",
     "data": {
      "text/markdown": ""
     },
     "metadata": {}
    }
   ],
   "metadata": {
    "dotnet_interactive": {
     "language": "fsharp"
    }
   }
  },
  {
   "cell_type": "markdown",
   "source": [
    "# Basic Horizontal Bar Chart"
   ],
   "metadata": {}
  },
  {
   "cell_type": "code",
   "execution_count": null,
   "source": [
    "Chart.Bar([\"giraffes\"; \"orangutans\"; \"monkeys\"], [20;14;23])"
   ],
   "outputs": [
    {
     "output_type": "display_data",
     "data": {
      "text/html": ""
     },
     "metadata": {}
    }
   ],
   "metadata": {
    "dotnet_interactive": {
     "language": "fsharp"
    }
   }
  },
  {
   "cell_type": "markdown",
   "source": [
    "# Colored Horizontal Bar Chart\r\n"
   ],
   "metadata": {}
  },
  {
   "cell_type": "code",
   "execution_count": null,
   "source": [
    "open Plotly.NET.TraceObjects\r\n",
    "\r\n",
    "let markerStyle1 = Marker.init(Color=Color.fromString \"rgba(246, 78, 139, 0.6)\",Line=Line.init(Color=Color.fromString \"rgba(246, 78, 139, 1.0)\",Width=3.))\r\n",
    "let markerStyle2 = Marker.init(Color=Color.fromString \"rgba(58, 71, 80, 0.6)\",Line=Line.init(Color=Color.fromString \"rgba(58, 71, 80, 1.0)\",Width=3.))\r\n",
    "\r\n",
    "[\r\n",
    "    Chart.Bar([\"giraffes\"; \"orangutans\"; \"monkeys\"], [20;14;23],Marker=markerStyle1,Name=\"SF Zoo\")    \r\n",
    "    Chart.Bar([\"giraffes\"; \"orangutans\"; \"monkeys\"], [12;18;29],Marker=markerStyle2,Name=\"LA Zoo\")    \r\n",
    "]\r\n",
    "|> Chart.combine\r\n",
    "|> Chart.withLayout(Layout.init(BarMode = StyleParam.BarMode.Stack))\r\n"
   ],
   "outputs": [
    {
     "output_type": "display_data",
     "data": {
      "text/html": ""
     },
     "metadata": {}
    }
   ],
   "metadata": {
    "dotnet_interactive": {
     "language": "fsharp"
    }
   }
  },
  {
   "cell_type": "markdown",
   "source": [
    "# Color Palette for Bar Chart"
   ],
   "metadata": {}
  },
  {
   "cell_type": "code",
   "execution_count": null,
   "source": [
    "open Plotly.NET.TraceObjects\r\n",
    "open Plotly.NET.LayoutObjects\r\n",
    "\r\n",
    "let n = 4\r\n",
    "let topLabels = [\"Strongly<br>agree\"; \"Agree\"; \"Neutral\"; \"Disagree\"; \"Strongly<br>disagree\"]\r\n",
    "let colors = [|\"rgba(38, 24, 74, 0.8)\"; \"rgba(71, 58, 131, 0.8)\"; \"rgba(122, 120, 168, 0.8)\"; \"rgba(164, 163, 204, 0.85)\"; \"rgba(190, 192, 213, 1)\"|]\r\n",
    "let xData = [[|21; 30; 21; 16; 12;|];\r\n",
    "             [|24; 31; 19; 15; 11;|];\r\n",
    "             [|27; 26; 23; 11; 13;|];\r\n",
    "             [|29; 24; 15; 18; 14;|]]\r\n",
    "let yData = [\"The course was effectively<br>organized\";\r\n",
    "             \"The course developed my<br>abilities and skills \" +\r\n",
    "             \"for<br>the subject\"; \"The course developed \" +\r\n",
    "             \"my<br>ability to think critically about<br>the subject\";\r\n",
    "             \"I would recommend this<br>course to a friend\"]\r\n",
    "\r\n",
    "let fSum x = (Array.scan (+) 0 x).[0..n]\r\n",
    "\r\n",
    "let cumX j= fSum xData.[j]\r\n",
    "            |> Array.mapi (fun i x -> if i > 0 then x+xData.[0].[i]/2 else xData.[0].[0]/2)\r\n",
    "\r\n",
    "let top_annotation =[ for i in 0..4 -> Annotation.init(XRef=\"x\",YRef=\"paper\",\r\n",
    "                                                        X=(cumX 0 |> Array.item i),\r\n",
    "                                                        Y=1.1,\r\n",
    "                                                        ShowArrow = false,\r\n",
    "                                                        Text=topLabels.[i])]\r\n",
    "\r\n",
    "let label_annotations = [for i in 0..4 -> \r\n",
    "                                [for j in 0..3 -> \r\n",
    "                                        Annotation.init(XRef=\"x\",YRef=\"y\",\r\n",
    "                                                        X=(cumX j |> Array.item i),\r\n",
    "                                                        Y=yData.[j],\r\n",
    "                                                        ShowArrow = false,\r\n",
    "                                                        Font = Font.init(Family = StyleParam.FontFamily.Arial, Size=14., Color =Color.fromString \"white\"),\r\n",
    "                                                        Text=string xData.[j].[i]+\"%\")]] |> Seq.concat |> Seq.toList\r\n",
    "\r\n",
    "let annotations = top_annotation @ label_annotations\r\n",
    "\r\n",
    "let markerStyle i= Marker.init(Color=Color.fromString (colors.[i]),Line=Line.init(Color=Color.fromString \"rgb(248, 248, 249)\",Width=1.))\r\n",
    "\r\n",
    "let y i= Array.init n (fun _ -> yData.[i])\r\n",
    "\r\n",
    "[for j in 0..n  -> [for i in 0..3 -> Chart.Bar(keys=y i,values=[xData.[i].[j]],Marker=markerStyle j)] ] |> Seq.concat\r\n",
    "|> Chart.combine\r\n",
    "|> Chart.withLayout(Layout.init(BarMode=StyleParam.BarMode.Stack,\r\n",
    "                        Margin = Margin.init(Left = 120, Right = 10, Top = 140, Bottom = 80),\r\n",
    "                        ShowLegend=false,\r\n",
    "                        Annotations=annotations,\r\n",
    "                        PaperBGColor =Color.fromString \"rgb(248, 248, 255)\", PlotBGColor =Color.fromString \"rgb(248, 248, 255)\",\r\n",
    "                        Font = Font.init(Family = StyleParam.FontFamily.Arial, Size=14., Color =Color.fromString \"rgb(67, 67, 67)\")))\r\n",
    "|> Chart.withSize(1100,700)\r\n",
    "|> Chart.withXAxis(LinearAxis.init(Domain = StyleParam.Range.MinMax (0.15, 1.), ZeroLine = false, ShowTickLabels = false, ShowLine = false, ShowGrid = false ))\r\n",
    "|> Chart.withYAxis(LinearAxis.init(ZeroLine = false, ShowTickLabels = false, ShowLine = false, ShowGrid = false ))\r\n"
   ],
   "outputs": [
    {
     "output_type": "display_data",
     "data": {
      "text/html": ""
     },
     "metadata": {}
    }
   ],
   "metadata": {
    "dotnet_interactive": {
     "language": "fsharp"
    }
   }
  },
  {
   "cell_type": "markdown",
   "source": [
    "# Bar Chart with Line Plot"
   ],
   "metadata": {}
  },
  {
   "cell_type": "code",
   "execution_count": null,
   "source": [
    "open Plotly.NET\r\n",
    "\r\n",
    "let ySaving = [|1.3586; 2.2623000000000002; 4.9821999999999997; 6.5096999999999996; 7.4812000000000003; 7.5133000000000001;15.2148;17.520499999999998|]\r\n",
    "let yNetWorth = [|93453.919999999998; 81666.570000000007; 69889.619999999995; 78381.529999999999; 141395.29999999999; 92969.020000000004; 66090.179999999993; 122379.3|]\r\n",
    "let x = [|\"Japan\"; \"United Kingdom\"; \"Canada\"; \"Netherlands\"; \"United States\"; \"Belgium\"; \"Sweden\"; \"Switzerland\"|]\r\n",
    "let xs = Seq.zip yNetWorth x\r\n",
    "\r\n",
    "let barChart = (Chart.Bar(x, ySaving, Name=\"Household savings, percentage of household disposable income\", Marker = Marker.init(Color =Color.fromString \"rgba(50, 171, 96, 0.6)\", Line = Line.init(Color =Color.fromString \"rgba(50, 171, 96, 1.0)\", Width =1.)))\r\n",
    "                |> Chart.withYAxis(LinearAxis.init(ShowGrid = false, ShowLine = false, ShowTickLabels = true,Domain=StyleParam.Range.MinMax(0.,0.85)))\r\n",
    "                |> Chart.withXAxis(LinearAxis.init(ShowGrid = true, ShowLine = false, ShowTickLabels = true, ZeroLine = false,Domain=StyleParam.Range.MinMax(0.,0.42))))\r\n",
    "\r\n",
    "let lineChart =  (Chart.Line(xs, Color =Color.fromString \"rgb(128, 0, 128)\", Name = \"Household net worth, Million USD/capita\")\r\n",
    "                    |> Chart.withYAxis(LinearAxis.init(ShowGrid = false, ShowLine = true, ShowTickLabels = false, LineColor =Color.fromString \"rgba(102, 102, 102, 0.8)\", LineWidth = 2.,Domain=StyleParam.Range.MinMax(0.,0.85)))\r\n",
    "                    |> Chart.withXAxis(LinearAxis.init(ShowGrid = true, ShowLine = false, ShowTickLabels = true, ZeroLine = false, Side = StyleParam.Side.Top, DTick = 25000,Domain=StyleParam.Range.MinMax(0.47,1.))))\r\n",
    "\r\n",
    "\r\n",
    "let annotations = [for (ydn, yd, xd) in Array.zip3 yNetWorth ySaving x->\r\n",
    "\r\n",
    "                                                     [|Annotation.init(XRef=\"x1\",YRef=\"y1\",\r\n",
    "                                                        X=yd+3.,\r\n",
    "                                                        Y=xd,\r\n",
    "                                                        ShowArrow = false,\r\n",
    "                                                        Font = Font.init(Family = StyleParam.FontFamily.Arial, Size=14., Color =Color.fromString \"rgb(50, 171, 96)\"),\r\n",
    "                                                        Text=string yd+\"%\");\r\n",
    "\r\n",
    "                                                        Annotation.init(XRef=\"x2\",YRef=\"y2\",\r\n",
    "                                                        X=ydn-20000.,\r\n",
    "                                                        Y=xd,\r\n",
    "                                                        ShowArrow = false,\r\n",
    "                                                        Font = Font.init(Family = StyleParam.FontFamily.Arial, Size=14., Color =Color.fromString \"rgb(128, 0, 128)\"),\r\n",
    "                                                        Text=string ydn+\"M\")|] ] |> Array.concat\r\n",
    "\r\n",
    "let labelAnnotation = Annotation.init(XRef=\"paper\",YRef=\"paper\",\r\n",
    "                                            X= 0,\r\n",
    "                                            Y= -0.109,\r\n",
    "                                            ShowArrow = false,\r\n",
    "                                            Font = Font.init(Family = StyleParam.FontFamily.Arial, Size=10., Color =Color.fromString \"rgb(150,150,150)\"),\r\n",
    "                                            Text=\"OECD (2015), Household savings (indicator), Household net worth (indicator). doi: 10.1787/cfc6f499-en (Accessed on 05 June 2015\")\r\n",
    "\r\n",
    "let allAnnotations = annotations|> Array.append [|labelAnnotation|]\r\n",
    "\r\n",
    "[barChart;lineChart]\r\n",
    "|> Chart.Grid(1,2)\r\n",
    "|> Chart.withLayout(Layout.init(Width = 1000, Margin = Margin.init(Top = 70., Bottom = 70., Left = 100., Right = 20.), Legend = Legend.init(X = 0.029, Y = 1.100)))\r\n",
    "|> Chart.withAnnotations(allAnnotations)"
   ],
   "outputs": [
    {
     "output_type": "display_data",
     "data": {
      "text/html": ""
     },
     "metadata": {}
    }
   ],
   "metadata": {
    "dotnet_interactive": {
     "language": "fsharp"
    }
   }
  }
 ],
 "metadata": {
  "orig_nbformat": 4,
  "language_info": {
   "file_extension": ".cs",
   "mimetype": "text/x-csharp",
   "name": "C#",
   "pygments_lexer": "csharp",
   "version": "9.0"
  },
  "kernelspec": {
   "display_name": ".NET (C#)",
   "language": "C#",
   "name": ".net-csharp"
  }
 },
 "nbformat": 4,
 "nbformat_minor": 2
}