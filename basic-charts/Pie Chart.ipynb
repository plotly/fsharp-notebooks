{
 "cells": [
  {
   "cell_type": "code",
   "execution_count": null,
   "source": [
    "#r \"nuget: Plotly.NET, 2.0.0-preview.8\"\r\n",
    "#r \"nuget: Plotly.NET.Interactive, 2.0.0-preview.8\""
   ],
   "outputs": [
    {
     "output_type": "display_data",
     "data": {
      "text/html": ""
     },
     "metadata": {}
    },
    {
     "output_type": "display_data",
     "data": {
      "text/markdown": ""
     },
     "metadata": {}
    },
    {
     "output_type": "display_data",
     "data": {
      "text/markdown": ""
     },
     "metadata": {}
    }
   ],
   "metadata": {
    "dotnet_interactive": {
     "language": "fsharp"
    }
   }
  },
  {
   "cell_type": "markdown",
   "source": [
    "A pie chart is a circular statistical chart, which is divided into sectors to illustrate numerical proportion.\r\n",
    "\r\n",
    "If you're looking instead for a multilevel hierarchical pie-like chart, go to the Sunburst tutorial."
   ],
   "metadata": {}
  },
  {
   "cell_type": "markdown",
   "source": [
    "# Basic Pie Chart\r\n",
    "\r\n",
    "In Chart.Pie, data visualized by the sectors of the pie is set in values. The sector labels are set in labels. The sector colors are set in SectionColors."
   ],
   "metadata": {}
  },
  {
   "cell_type": "code",
   "execution_count": null,
   "source": [
    "open Plotly.NET\r\n",
    "\r\n",
    "let labels = [\"Oxygen\"; \"Hydrogen\"; \"Carbon_Dioxide\"; \"Nitrogen\"]\r\n",
    "let values = [4500; 2500; 1053; 500]\r\n",
    "\r\n",
    "Chart.Pie(Labels=labels, values=values)"
   ],
   "outputs": [
    {
     "output_type": "display_data",
     "data": {
      "text/html": ""
     },
     "metadata": {}
    }
   ],
   "metadata": {
    "dotnet_interactive": {
     "language": "fsharp"
    }
   }
  },
  {
   "cell_type": "markdown",
   "source": [
    "# Styled Pie Chart\r\n",
    "\r\n",
    "Colors can be given as RGB triplets or hexadecimal strings, or with CSS color names as below."
   ],
   "metadata": {}
  },
  {
   "cell_type": "code",
   "execution_count": null,
   "source": [
    "open Plotly.NET\r\n",
    "open Plotly.NET.TraceObjects\r\n",
    "\r\n",
    "let colors = [\"gold\"; \"mediumturquoise\"; \"darkorange\"; \"lightgreen\"] |> Seq.map (fun c -> Color.fromString c)\r\n",
    "let labels = [\"Oxygen\"; \"Hydrogen\"; \"Carbon_Dioxide\"; \"Nitrogen\"]\r\n",
    "let values = [4500; 2500; 1053; 500]\r\n",
    "\r\n",
    "\r\n",
    "let marker = Marker.init(Line=Line.init(Color=Color.fromString \"black\",Width=2.)) \r\n",
    "Chart.Pie(Labels=labels, values=values,SectionColors = colors)\r\n",
    "|> GenericChart.mapTrace (TraceDomainStyle.Pie(HoverInfo= \"label+percent\",TextInfo=StyleParam.TextInfo.Value,TextFont=Font.init(Size=20.),Marker=marker))"
   ],
   "outputs": [
    {
     "output_type": "display_data",
     "data": {
      "text/html": ""
     },
     "metadata": {}
    }
   ],
   "metadata": {
    "dotnet_interactive": {
     "language": "fsharp"
    }
   }
  },
  {
   "cell_type": "markdown",
   "source": [
    "# Controlling text orientation inside pie sectors\r\n",
    "\r\n",
    "The InsideTextOrientation attribute controls the orientation of text inside sectors. With \"Auto\" the texts may automatically be rotated to fit with the maximum size inside the slice. Using \"Horizontal\" (resp. \"Radial\", \"Tangential\") forces text to be horizontal (resp. radial or tangential)\r\n",
    "\r\n",
    "Example below shows how to change Inside text orientation"
   ],
   "metadata": {}
  },
  {
   "cell_type": "code",
   "execution_count": null,
   "source": [
    "open Plotly.NET\r\n",
    "\r\n",
    "\r\n",
    "let labels = [\"Oxygen\"; \"Hydrogen\"; \"Carbon_Dioxide\"; \"Nitrogen\"]\r\n",
    "let values = [4500; 2500; 1053; 500]\r\n",
    "\r\n",
    "Chart.Pie(Labels=labels, values=values)\r\n",
    "|> GenericChart.mapTrace (TraceDomainStyle.Pie(InsideTextOrientation=StyleParam.InsideTextOrientation.Radial))"
   ],
   "outputs": [
    {
     "output_type": "display_data",
     "data": {
      "text/html": ""
     },
     "metadata": {}
    }
   ],
   "metadata": {
    "dotnet_interactive": {
     "language": "fsharp"
    }
   }
  },
  {
   "cell_type": "markdown",
   "source": [
    "# Donut Chart"
   ],
   "metadata": {}
  },
  {
   "cell_type": "code",
   "execution_count": null,
   "source": [
    "open Plotly.NET\r\n",
    "\r\n",
    "let labels = [\"Oxygen\"; \"Hydrogen\"; \"Carbon_Dioxide\"; \"Nitrogen\"]\r\n",
    "let values = [4500; 2500; 1053; 500]\r\n",
    "\r\n",
    "let colors = [\"gold\"; \"mediumturquoise\"; \"darkorange\"; \"lightgreen\"] |> Seq.map (fun c -> Color.fromString c)\r\n",
    "Chart.Doughnut(Labels=labels, values=values, Hole=0.3,SectionColors=colors)"
   ],
   "outputs": [
    {
     "output_type": "display_data",
     "data": {
      "text/html": ""
     },
     "metadata": {}
    }
   ],
   "metadata": {
    "dotnet_interactive": {
     "language": "fsharp"
    }
   }
  },
  {
   "cell_type": "markdown",
   "source": [
    "# Pulling sectors out from the center\r\n",
    "\r\n",
    "For a \"pulled-out\" or \"exploded\" layout of the pie chart, use the pull argument. "
   ],
   "metadata": {}
  },
  {
   "cell_type": "code",
   "execution_count": null,
   "source": [
    "\r\n",
    "open Plotly.NET\r\n",
    "\r\n",
    "let labels = [\"Oxygen\"; \"Hydrogen\"; \"Carbon_Dioxide\"; \"Nitrogen\"]\r\n",
    "let values = [4500.; 2500.; 1053.; 500.]\r\n",
    "\r\n",
    "Chart.Doughnut(Labels=labels, values=values)\r\n",
    "|> GenericChart.mapTrace(fun t -> t?pull <- [0.;0.;0.2;0.];t) //Workaround"
   ],
   "outputs": [
    {
     "output_type": "display_data",
     "data": {
      "text/html": ""
     },
     "metadata": {}
    }
   ],
   "metadata": {
    "dotnet_interactive": {
     "language": "fsharp"
    }
   }
  },
  {
   "cell_type": "markdown",
   "source": [
    "# Pie Charts in subplots\r\n",
    "\r\n",
    "Domain=Domain.init(Row=0,Column=0) or Domain.init(X=StyleParam.Range.MinMax(0.,0.5),Y=StyleParam.Range.MinMax(0.5,1.)) & Chart.withLayoutGrid() can be set configure sub plots for multiple pie charts\r\n"
   ],
   "metadata": {}
  },
  {
   "cell_type": "code",
   "execution_count": null,
   "source": [
    "open Plotly.NET\r\n",
    "open Plotly.NET.LayoutObjects\r\n",
    "\r\n",
    "let labels = [\"US\"; \"China\"; \"European Union\"; \"Russian Federation\"; \"Brazil\"; \"India\"; \"Rest of the World\"]\r\n",
    "\r\n",
    "let CHG = Chart.Pie(Name=\"CHG Emissions\",Labels=labels,values=[16; 15; 12; 6; 5; 4; 42])\r\n",
    "            |> GenericChart.mapTrace(TraceDomainStyle.Pie(Domain=Domain.init(Row=0,Column=0),HoverInfo=\"label+percent+name\",Hole=0.4))\r\n",
    "            \r\n",
    "let CO2 = Chart.Pie(Name=\"CO2 Emissions\",Labels=labels,values=[27; 11; 25; 8; 1; 3; 25])\r\n",
    "            |> GenericChart.mapTrace(TraceDomainStyle.Pie(Domain=Domain.init(Row=0,Column=1),HoverInfo=\"label+percent+name\",Hole=0.4))\r\n",
    "\r\n",
    "let CHGAnnotation = Annotation.init(X= 0.20,Y = 0.5,ShowArrow=false,Text=\"CHG\",Font=Font.init(Size=20.))\r\n",
    "let CO2Annotation = Annotation.init(X= 0.80,Y = 0.5,ShowArrow=false,Text=\"CO2\",Font=Font.init(Size=20.))\r\n",
    "\r\n",
    "[CHG;CO2] \r\n",
    "|> Chart.combine\r\n",
    "|> Chart.withLayoutGrid(LayoutGrid.init(Rows=1,Columns=2))\r\n",
    "|> Chart.withAnnotations([CHGAnnotation;CO2Annotation])\r\n",
    "|> Chart.withSize(Width=1100,Height=700)\r\n",
    "|> Chart.withTitle(\"Global Emissions 1990-2011\")\r\n"
   ],
   "outputs": [
    {
     "output_type": "display_data",
     "data": {
      "text/html": ""
     },
     "metadata": {}
    }
   ],
   "metadata": {
    "dotnet_interactive": {
     "language": "fsharp"
    }
   }
  },
  {
   "cell_type": "code",
   "execution_count": null,
   "source": [
    "open Plotly.NET\r\n",
    "\r\n",
    "let labels = [\"1st\"; \"2nd\"; \"3rd\"; \"4th\"; \"5th\"]\r\n",
    "let nightColors = [\"rgb(56, 75, 126)\"; \"rgb(18, 36, 37)\"; \"rgb(34, 53, 101)\"; \"rgb(36, 55, 57)\"; \"rgb(6, 4, 4)\"] |> Seq.map (fun c -> Color.fromString c)\r\n",
    "let sunflowersColors = [\"rgb(177; 127; 38)\"; \"rgb(205; 152; 36)\"; \"rgb(99; 79; 37)\"; \"rgb(129; 180; 179)\"; \"rgb(124; 103; 37)\"] |> Seq.map (fun c -> Color.fromString c)\r\n",
    "let irisesColors = [\"rgb(33; 75; 99)\"; \"rgb(79; 129; 102)\"; \"rgb(151; 179; 100)\";\"rgb(175; 49; 35)\"; \"rgb(36; 73; 147)\"] |> Seq.map (fun c -> Color.fromString c)\r\n",
    "let cafeColors =  [\"rgb(146; 123; 21)\"; \"rgb(177; 180; 34)\"; \"rgb(206; 206; 40)\"; \"rgb(175; 51; 21)\"; \"rgb(35; 36; 21)\"] |> Seq.map (fun c -> Color.fromString c)\r\n",
    "\r\n",
    "let starryNight = Chart.Pie(Name=\"Starry Night\",Labels=labels,values=[38; 27; 18; 10; 7],SectionColors=nightColors)\r\n",
    "                    |> GenericChart.mapTrace(TraceDomainStyle.Pie(Domain=Domain.init(X=StyleParam.Range.MinMax(0.,0.5),Y=StyleParam.Range.MinMax(0.5,1.)),HoverInfo=\"label+percent+name\",TextInfo=StyleParam.TextInfo.None))\r\n",
    "\r\n",
    "let sunflowers = Chart.Pie(Name=\"Sunflowers\",Labels=labels,values=[28; 26; 21; 15; 10],SectionColors=sunflowersColors)\r\n",
    "                    |> GenericChart.mapTrace(TraceDomainStyle.Pie(Domain=Domain.init(X=StyleParam.Range.MinMax(0.5,1.),Y=StyleParam.Range.MinMax(0.5,1.)),HoverInfo=\"label+percent+name\",TextInfo=StyleParam.TextInfo.None))\r\n",
    "\r\n",
    "let irises = Chart.Pie(Name=\"Irises\",Labels=labels,values=[38; 19; 16; 14; 13],SectionColors=irisesColors)\r\n",
    "                    |> GenericChart.mapTrace(TraceDomainStyle.Pie(Domain=Domain.init(X=StyleParam.Range.MinMax(0.,0.5),Y=StyleParam.Range.MinMax(0.0,0.5)),HoverInfo=\"label+percent+name\",TextInfo=StyleParam.TextInfo.None))\r\n",
    "\r\n",
    "let nightCafe = Chart.Pie(Name=\"The Night Cafe\",Labels=labels,values=[31; 24; 19; 18; 8],SectionColors=cafeColors)\r\n",
    "                    |> GenericChart.mapTrace(TraceDomainStyle.Pie(Domain=Domain.init(X=StyleParam.Range.MinMax(0.5,1.0),Y=StyleParam.Range.MinMax(0.0,0.5)),HoverInfo=\"label+percent+name\",TextInfo=StyleParam.TextInfo.None))\r\n",
    "    \r\n",
    "[starryNight;sunflowers;irises;nightCafe] \r\n",
    "|> Chart.combine\r\n",
    "|> Chart.withLayoutGrid(LayoutGrid.init(Rows=2,Columns=2))\r\n",
    "|> Chart.withTitle(\"Van Gogh: 5 Most Prominent Colors Shown Proportionally\")"
   ],
   "outputs": [
    {
     "output_type": "display_data",
     "data": {
      "text/html": ""
     },
     "metadata": {}
    }
   ],
   "metadata": {
    "dotnet_interactive": {
     "language": "fsharp"
    }
   }
  },
  {
   "cell_type": "markdown",
   "source": [
    "# Plot chart with area proportional to total count\r\n",
    "\r\n",
    "ScaleGroup property can be set to scale pie charts according to the area"
   ],
   "metadata": {}
  },
  {
   "cell_type": "code",
   "execution_count": null,
   "source": [
    "open Plotly.NET\r\n",
    "\r\n",
    "let labels = [\"Asia\"; \"Europe\"; \"Africa\"; \"Americas\"; \"Oceania\"]\r\n",
    "\r\n",
    "let gdp1980 = Chart.Pie(Name=\"World GDP 1980\",Labels=labels,values=[4.;7.;1.;7.;0.5])\r\n",
    "            |> GenericChart.mapTrace(TraceDomainStyle.Pie(Domain=Domain.init(Row=0,Column=0),HoverInfo=\"label+percent+name\",ScaleGroup=\"one\"))\r\n",
    "            \r\n",
    "let gdp2007 = Chart.Pie(Name=\"World GDP 2007\",Labels=labels,values=[21.;15.;3.;19.;1.])\r\n",
    "            |> GenericChart.mapTrace(TraceDomainStyle.Pie(Domain=Domain.init(Row=0,Column=1),HoverInfo=\"label+percent+name\",ScaleGroup=\"one\"))\r\n",
    "\r\n",
    "[gdp1980;gdp2007] \r\n",
    "|> Chart.combine\r\n",
    "|> Chart.withLayoutGrid(LayoutGrid.init(Rows=1,Columns=2))\r\n",
    "|> Chart.withSize(Width=1100,Height=700)\r\n",
    "|> Chart.withTitle(\"World GDP\")"
   ],
   "outputs": [
    {
     "output_type": "display_data",
     "data": {
      "text/html": ""
     },
     "metadata": {}
    }
   ],
   "metadata": {
    "dotnet_interactive": {
     "language": "fsharp"
    }
   }
  },
  {
   "cell_type": "markdown",
   "source": [
    "# Sunburst charts\r\n",
    "\r\n",
    "For multilevel pie charts representing hierarchical data, you can use the Sunburst chart. A simple example is given below, for more information see the tutorial on Sunburst charts."
   ],
   "metadata": {}
  },
  {
   "cell_type": "code",
   "execution_count": null,
   "source": [
    "open Plotly.NET\r\n",
    "\r\n",
    "let labels = [\"Eve\"; \"Cain\"; \"Seth\"; \"Enos\"; \"Noam\"; \"Abel\"; \"Awan\"; \"Enoch\"; \"Azura\"]\r\n",
    "let parents = [\"\"; \"Eve\"; \"Eve\"; \"Seth\"; \"Seth\"; \"Eve\"; \"Eve\"; \"Awan\"; \"Eve\"]\r\n",
    "let values = [10.;14.;12.;10.;2.;6.;6.;4.;4.]\r\n",
    "\r\n",
    "Chart.Sunburst(labels = labels, parents = parents, Values = values)\r\n",
    "|> Chart.withMarginSize(0)"
   ],
   "outputs": [
    {
     "output_type": "display_data",
     "data": {
      "text/html": ""
     },
     "metadata": {}
    }
   ],
   "metadata": {
    "dotnet_interactive": {
     "language": "fsharp"
    }
   }
  }
 ],
 "metadata": {
  "orig_nbformat": 4,
  "language_info": {
   "file_extension": ".cs",
   "mimetype": "text/x-csharp",
   "name": "C#",
   "pygments_lexer": "csharp",
   "version": "9.0"
  },
  "kernelspec": {
   "display_name": ".NET (C#)",
   "language": "C#",
   "name": ".net-csharp"
  }
 },
 "nbformat": 4,
 "nbformat_minor": 2
}