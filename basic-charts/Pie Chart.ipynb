{
 "cells": [
  {
   "cell_type": "markdown",
   "source": [
    "## Basic Pie Chart with go.Pie"
   ],
   "metadata": {}
  },
  {
   "cell_type": "code",
   "execution_count": null,
   "source": [
    "#r \"nuget: Plotly.NET, 2.0.0-preview.6\"\r\n",
    "#r \"nuget: Plotly.NET.Interactive, 2.0.0-preview.6\"\r\n",
    "open Plotly.NET\r\n",
    "\r\n",
    "let labels = [\"Oxygen\"; \"Hydrogen\"; \"Carbon_Dioxide\"; \"Nitrogen\"]\r\n",
    "let values = [4500; 2500; 1053; 500]\r\n",
    "\r\n",
    "Chart.Pie(Labels=labels, values=values)"
   ],
   "outputs": [
    {
     "output_type": "display_data",
     "data": {
      "text/html": ""
     },
     "metadata": {}
    },
    {
     "output_type": "display_data",
     "data": {
      "text/markdown": ""
     },
     "metadata": {}
    },
    {
     "output_type": "display_data",
     "data": {
      "text/markdown": ""
     },
     "metadata": {}
    },
    {
     "output_type": "display_data",
     "data": {
      "text/html": ""
     },
     "metadata": {}
    }
   ],
   "metadata": {
    "dotnet_interactive": {
     "language": "fsharp"
    }
   }
  },
  {
   "cell_type": "markdown",
   "source": [
    "## Styled Pie Chart"
   ],
   "metadata": {}
  },
  {
   "cell_type": "code",
   "execution_count": null,
   "source": [
    "#r \"nuget: Plotly.NET, 2.0.0-preview.6\"\r\n",
    "#r \"nuget: Plotly.NET.Interactive, 2.0.0-preview.6\"\r\n",
    "open Plotly.NET\r\n",
    "\r\n",
    "let colors = [\"gold\"; \"mediumturquoise\"; \"darkorange\"; \"lightgreen\"]\r\n",
    "let labels = [\"Oxygen\"; \"Hydrogen\"; \"Carbon_Dioxide\"; \"Nitrogen\"]\r\n",
    "let values = [4500; 2500; 1053; 500]\r\n",
    "\r\n",
    "let layout = \r\n",
    "    let obj = Layout()\r\n",
    "    obj?hoverinfo <- \"label+percent\"\r\n",
    "    obj?textinfo <- \"value\"\r\n",
    "    obj?textfont_size <- 20\r\n",
    "    obj\r\n",
    "\r\n",
    "Chart.Pie(Labels=labels, values=values, Colors = colors)\r\n",
    "|> Chart.withLayout(layout)"
   ],
   "outputs": [
    {
     "output_type": "display_data",
     "data": {
      "text/html": ""
     },
     "metadata": {}
    },
    {
     "output_type": "display_data",
     "data": {
      "text/html": ""
     },
     "metadata": {}
    }
   ],
   "metadata": {
    "dotnet_interactive": {
     "language": "fsharp"
    }
   }
  },
  {
   "cell_type": "markdown",
   "source": [
    "## Controlling text orientation inside pie sectors"
   ],
   "metadata": {}
  },
  {
   "cell_type": "code",
   "execution_count": null,
   "source": [
    "#r \"nuget: Plotly.NET, 2.0.0-preview.6\"\r\n",
    "#r \"nuget: Plotly.NET.Interactive, 2.0.0-preview.6\"\r\n",
    "open Plotly.NET\r\n",
    "\r\n",
    "let colors = [\"gold\"; \"mediumturquoise\"; \"darkorange\"; \"lightgreen\"]\r\n",
    "let labels = [\"Oxygen\"; \"Hydrogen\"; \"Carbon_Dioxide\"; \"Nitrogen\"]\r\n",
    "let values = [4500; 2500; 1053; 500]\r\n",
    "\r\n",
    "let layout = \r\n",
    "    let obj = Layout()\r\n",
    "    obj?insidetextorientation <- \"radial\"\r\n",
    "    obj\r\n",
    "\r\n",
    "Chart.Pie(Labels=labels, values=values, Textinfo=\"label+percent\")\r\n",
    "|> Chart.withLayout(layout)"
   ],
   "outputs": [
    {
     "output_type": "display_data",
     "data": {
      "text/html": ""
     },
     "metadata": {}
    },
    {
     "output_type": "display_data",
     "data": {
      "text/html": ""
     },
     "metadata": {}
    }
   ],
   "metadata": {
    "dotnet_interactive": {
     "language": "fsharp"
    }
   }
  },
  {
   "cell_type": "markdown",
   "source": [
    "## Donut Chart"
   ],
   "metadata": {}
  },
  {
   "cell_type": "code",
   "execution_count": null,
   "source": [
    "#r \"nuget: Plotly.NET, 2.0.0-preview.6\"\r\n",
    "#r \"nuget: Plotly.NET.Interactive, 2.0.0-preview.6\"\r\n",
    "open Plotly.NET\r\n",
    "\r\n",
    "let labels = [\"Oxygen\"; \"Hydrogen\"; \"Carbon_Dioxide\"; \"Nitrogen\"]\r\n",
    "let values = [4500; 2500; 1053; 500]\r\n",
    "\r\n",
    "\r\n",
    "Chart.Doughnut(Labels=labels, values=values, Hole=0.3)"
   ],
   "outputs": [
    {
     "output_type": "display_data",
     "data": {
      "text/html": ""
     },
     "metadata": {}
    },
    {
     "output_type": "display_data",
     "data": {
      "text/html": ""
     },
     "metadata": {}
    }
   ],
   "metadata": {
    "dotnet_interactive": {
     "language": "fsharp"
    }
   }
  },
  {
   "cell_type": "markdown",
   "source": [
    "## Pulling sectors out from the center"
   ],
   "metadata": {}
  },
  {
   "cell_type": "code",
   "execution_count": null,
   "source": [
    "\r\n",
    "#r \"nuget: Plotly.NET, 2.0.0-preview.6\"\r\n",
    "#r \"nuget: Plotly.NET.Interactive, 2.0.0-preview.6\"\r\n",
    "open Plotly.NET\r\n",
    "\r\n",
    "let labels = [\"Oxygen\"; \"Hydrogen\"; \"Carbon_Dioxide\"; \"Nitrogen\"]\r\n",
    "let values = [4500.; 2500.; 1053.; 500.]\r\n",
    "\r\n",
    "\r\n",
    "let trace = \r\n",
    "    let tmp = Trace(\"pie\")\r\n",
    "    tmp?labels <- labels\r\n",
    "    tmp?values <- values\r\n",
    "    tmp?pull <- [0.;0.;0.2;0.]\r\n",
    "    tmp\r\n",
    "\r\n",
    "GenericChart.ofTraceObject(trace)"
   ],
   "outputs": [
    {
     "output_type": "display_data",
     "data": {
      "text/html": ""
     },
     "metadata": {}
    },
    {
     "output_type": "display_data",
     "data": {
      "text/html": ""
     },
     "metadata": {}
    }
   ],
   "metadata": {
    "dotnet_interactive": {
     "language": "fsharp"
    }
   }
  },
  {
   "cell_type": "markdown",
   "source": [
    "## Pie Charts in subplots"
   ],
   "metadata": {}
  },
  {
   "cell_type": "code",
   "execution_count": null,
   "source": [
    "#r \"nuget: Plotly.NET, 2.0.0-preview.6\"\r\n",
    "#r \"nuget: Plotly.NET.Interactive, 2.0.0-preview.6\"\r\n",
    "open Plotly.NET\r\n",
    "\r\n",
    "let labels = [\"US\"; \"China\"; \"European Union\"; \"Russian Federation\"; \"Brazil\"; \"India\"; \"Rest of the World\"]\r\n",
    "let values = [4500.; 2500.; 1053.; 500.]\r\n",
    "\r\n",
    "let layout =\r\n",
    "    let tmp = Layout()\r\n",
    "    tmp?title_text <- \"Global Emissions 1990-2011\"\r\n",
    "    tmp?annotations <- [{|text = \"CHG\"; x = 0.18; y = 0.5; font_size = 20; showarrow = false|};{|text = \"CO2\"; x = 0.82; y = 0.5; font_size = 20; showarrow = false|}]\r\n",
    "    tmp\r\n",
    "    \r\n",
    "let chg = \r\n",
    "    let tmp = Trace(\"pie\")\r\n",
    "    tmp?labels <- labels\r\n",
    "    tmp?domain <- {|x = [0.; 0.5]|}\r\n",
    "    tmp?hole <- 0.4\r\n",
    "    tmp?hoverinfo <- \"label+percent+name\"\r\n",
    "    tmp?name <- \"CHG Emissions\"\r\n",
    "    tmp?values <- [16; 15; 12; 6; 5; 4; 42]\r\n",
    "    tmp\r\n",
    "\r\n",
    "let co2 = \r\n",
    "    let tmp = Trace(\"pie\")\r\n",
    "    tmp?labels <- labels\r\n",
    "    tmp?domain <- {|x = [0.5; 1.0]|}\r\n",
    "    tmp?hole <- 0.4\r\n",
    "    tmp?hoverinfo <- \"label+percent+name\"\r\n",
    "    tmp?name <- \"CO2 Emissions\"\r\n",
    "    tmp?values <- [27; 11; 25; 8; 1; 3; 25]\r\n",
    "    tmp\r\n",
    "\r\n",
    "Chart.Grid(\r\n",
    "    [\r\n",
    "        [GenericChart.ofTraceObject(chg); GenericChart.ofTraceObject(co2)]\r\n",
    "    ]\r\n",
    ") |> Chart.withLayout(layout)"
   ],
   "outputs": [
    {
     "output_type": "display_data",
     "data": {
      "text/html": ""
     },
     "metadata": {}
    },
    {
     "output_type": "display_data",
     "data": {
      "text/html": ""
     },
     "metadata": {}
    }
   ],
   "metadata": {
    "dotnet_interactive": {
     "language": "fsharp"
    }
   }
  },
  {
   "cell_type": "code",
   "execution_count": null,
   "source": [
    "#r \"nuget: Plotly.NET, 2.0.0-preview.6\"\r\n",
    "#r \"nuget: Plotly.NET.Interactive, 2.0.0-preview.6\"\r\n",
    "open Plotly.NET\r\n",
    "\r\n",
    "let labels = [\"1st\"; \"2nd\"; \"3rd\"; \"4th\"; \"5th\"]\r\n",
    "let nightColors = [\"rgb(56, 75, 126)\"; \"rgb(18, 36, 37)\"; \"rgb(34, 53, 101)\"; \"rgb(36, 55, 57)\"; \"rgb(6, 4, 4)\"]\r\n",
    "let sunflowersColors = [\"rgb(177; 127; 38)\"; \"rgb(205; 152; 36)\"; \"rgb(99; 79; 37)\"; \"rgb(129; 180; 179)\"; \"rgb(124; 103; 37)\"]\r\n",
    "let irisesColors = [\"rgb(33; 75; 99)\"; \"rgb(79; 129; 102)\"; \"rgb(151; 179; 100)\";\"rgb(175; 49; 35)\"; \"rgb(36; 73; 147)\"]\r\n",
    "let cafeColors =  [\"rgb(146; 123; 21)\"; \"rgb(177; 180; 34)\"; \"rgb(206; 206; 40)\"; \"rgb(175; 51; 21)\"; \"rgb(35; 36; 21)\"]\r\n",
    "\r\n",
    "let layout =\r\n",
    "    let tmp = Layout()\r\n",
    "    tmp?title_text <- \"Van Gogh: 5 Most Prominent Colors Shown Proportionally\"\r\n",
    "    tmp?showlegend <- false\r\n",
    "    tmp?width <- 1000.\r\n",
    "    tmp?height <- 500.\r\n",
    "    tmp\r\n",
    "    \r\n",
    "let starryNight = \r\n",
    "    let tmp = Trace(\"pie\")\r\n",
    "    tmp?labels <- labels\r\n",
    "    tmp?domain <- {|x = [0.; 0.5]; y = [0.5; 1.0]|}\r\n",
    "    tmp?name <- \"Starry Night\"\r\n",
    "    tmp?marker_colors <- nightColors\r\n",
    "    tmp?values <- [38; 27; 18; 10; 7]\r\n",
    "    tmp\r\n",
    "\r\n",
    "let sunflowers = \r\n",
    "    let tmp = Trace(\"pie\")\r\n",
    "    tmp?labels <- labels\r\n",
    "    tmp?domain <- {|x = [0.5; 1.0]; y = [0.5; 1.0]|}\r\n",
    "    tmp?marker_colors <- sunflowersColors\r\n",
    "    tmp?name <- \"Sunflowers\"\r\n",
    "    tmp?values <- [28; 26; 21; 15; 10]\r\n",
    "    tmp\r\n",
    "\r\n",
    "let irises = \r\n",
    "    let tmp = Trace(\"pie\")\r\n",
    "    tmp?labels <- labels\r\n",
    "    tmp?domain <- {|x = [0.0; 0.5]; y = [0.0; 0.5]|}\r\n",
    "    tmp?marker_colors <- irisesColors\r\n",
    "    tmp?name <- \"Irises\"\r\n",
    "    tmp?values <- [38; 19; 16; 14; 13]\r\n",
    "    tmp\r\n",
    "\r\n",
    "let nightCafe = \r\n",
    "    let tmp = Trace(\"pie\")\r\n",
    "    tmp?labels <- labels\r\n",
    "    tmp?domain <- {|x = [0.5; 1.0]; y = [0.0; 0.5]|}\r\n",
    "    tmp?marker_colors <- cafeColors\r\n",
    "    tmp?name <- \"The Night Café\"\r\n",
    "    tmp?values <- [31; 24; 19; 18; 8]\r\n",
    "    tmp\r\n",
    "\r\n",
    "Chart.Grid(\r\n",
    "    [\r\n",
    "        [GenericChart.ofTraceObject(starryNight); GenericChart.ofTraceObject(sunflowers)]\r\n",
    "        [GenericChart.ofTraceObject(irises); GenericChart.ofTraceObject(nightCafe)]\r\n",
    "    ]\r\n",
    ")\r\n",
    "|> Chart.withLayout(layout)\r\n",
    "|> Chart.withLayoutGrid(LayoutGrid.init(Rows=2, Columns=2))"
   ],
   "outputs": [
    {
     "output_type": "display_data",
     "data": {
      "text/html": ""
     },
     "metadata": {}
    },
    {
     "output_type": "display_data",
     "data": {
      "text/html": ""
     },
     "metadata": {}
    }
   ],
   "metadata": {
    "dotnet_interactive": {
     "language": "fsharp"
    }
   }
  },
  {
   "cell_type": "markdown",
   "source": [
    "## Plot chart with area proportional to total count"
   ],
   "metadata": {}
  },
  {
   "cell_type": "code",
   "execution_count": null,
   "source": [
    "#r \"nuget: Plotly.NET, 2.0.0-preview.6\"\r\n",
    "#r \"nuget: Plotly.NET.Interactive, 2.0.0-preview.6\"\r\n",
    "open Plotly.NET\r\n",
    "\r\n",
    "let labels = [\"Asia\"; \"Europe\"; \"Africa\"; \"Americas\"; \"Oceania\"]\r\n",
    "\r\n",
    "let layout =\r\n",
    "    let tmp = Layout()\r\n",
    "    tmp?title <- \"World GDP\"\r\n",
    "    tmp?width <- 1700.\r\n",
    "    tmp\r\n",
    "    \r\n",
    "let gdp1980 = \r\n",
    "    let tmp = Trace(\"pie\")\r\n",
    "    tmp?labels <- labels\r\n",
    "    tmp?domain <- Domain.init(Row = 1, Column = 2)\r\n",
    "    tmp?title <- \"World GDP 1980\"\r\n",
    "    tmp?scalegroup <- \"one\"\r\n",
    "    tmp?values <- [4.;7.;1.;7.;0.5]\r\n",
    "    tmp\r\n",
    "\r\n",
    "let gdp2007 = \r\n",
    "    let tmp = Trace(\"pie\")\r\n",
    "    tmp?labels <- labels\r\n",
    "    tmp?domain <- Domain.init(Row = 1, Column = 1)\r\n",
    "    tmp?title <- \"World GDP 2007\"\r\n",
    "    tmp?scalegroup <- \"one\"\r\n",
    "    tmp?values <- [21.;15.;3.;19.;1.]\r\n",
    "    tmp\r\n",
    "\r\n",
    "[\r\n",
    "    GenericChart.ofTraceObject(gdp1980)\r\n",
    "    GenericChart.ofTraceObject(gdp2007)\r\n",
    "]\r\n",
    "|> Chart.Combine\r\n",
    "|> Chart.withLayout(layout)\r\n",
    "|> Chart.withLayoutGrid(LayoutGrid.init(Rows = 1, Columns = 2))"
   ],
   "outputs": [
    {
     "output_type": "display_data",
     "data": {
      "text/html": ""
     },
     "metadata": {}
    },
    {
     "output_type": "display_data",
     "data": {
      "text/html": ""
     },
     "metadata": {}
    }
   ],
   "metadata": {
    "dotnet_interactive": {
     "language": "fsharp"
    }
   }
  },
  {
   "cell_type": "markdown",
   "source": [
    "## Sunburst charts"
   ],
   "metadata": {}
  },
  {
   "cell_type": "code",
   "execution_count": null,
   "source": [
    "#r \"nuget: Plotly.NET, 2.0.0-preview.6\"\r\n",
    "#r \"nuget: Plotly.NET.Interactive, 2.0.0-preview.6\"\r\n",
    "open Plotly.NET\r\n",
    "\r\n",
    "let labels = [\"Eve\"; \"Cain\"; \"Seth\"; \"Enos\"; \"Noam\"; \"Abel\"; \"Awan\"; \"Enoch\"; \"Azura\"]\r\n",
    "let parents = [\"\"; \"Eve\"; \"Eve\"; \"Seth\"; \"Seth\"; \"Eve\"; \"Eve\"; \"Awan\"; \"Eve\"]\r\n",
    "let values = [10.;14.;12.;10.;2.;6.;6.;4.;4.]\r\n",
    "\r\n",
    "let layout =\r\n",
    "    let tmp = Layout()\r\n",
    "    tmp?margin <- {|t = 0.; l = 0.;  r = 0.; b = 0.|}\r\n",
    "    tmp\r\n",
    "\r\n",
    "Chart.Sunburst(labels = labels, parents = parents, Values = values)\r\n",
    "|> Chart.withLayout(layout)"
   ],
   "outputs": [
    {
     "output_type": "display_data",
     "data": {
      "text/html": ""
     },
     "metadata": {}
    },
    {
     "output_type": "display_data",
     "data": {
      "text/html": ""
     },
     "metadata": {}
    }
   ],
   "metadata": {
    "dotnet_interactive": {
     "language": "fsharp"
    }
   }
  }
 ],
 "metadata": {
  "orig_nbformat": 4,
  "language_info": {
   "file_extension": ".cs",
   "mimetype": "text/x-csharp",
   "name": "C#",
   "pygments_lexer": "csharp",
   "version": "9.0"
  },
  "kernelspec": {
   "display_name": ".NET (C#)",
   "language": "C#",
   "name": ".net-csharp"
  }
 },
 "nbformat": 4,
 "nbformat_minor": 2
}