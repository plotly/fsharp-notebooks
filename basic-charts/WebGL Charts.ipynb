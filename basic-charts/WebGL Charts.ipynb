{
 "cells": [
  {
   "cell_type": "markdown",
   "source": [
    "## WebGL with 100,000 points with Graph Objects"
   ],
   "metadata": {}
  },
  {
   "cell_type": "code",
   "execution_count": null,
   "source": [
    "#r \"nuget: Plotly.NET, 2.0.0-preview.6\"\r\n",
    "#r \"nuget: Plotly.NET.Interactive, 2.0.0-preview.6\"\r\n",
    "open Plotly.NET\r\n",
    "open System\r\n",
    "\r\n",
    "let N = 100000\r\n",
    "\r\n",
    "let genRandomNumbers count =\r\n",
    "    let rnd = System.Random()\r\n",
    "    (Seq.init count (fun _ -> (rnd.NextDouble ()) * (5. - (-5.)) + (-5.)))\r\n",
    "\r\n",
    "let x = genRandomNumbers N\r\n",
    "let y = genRandomNumbers N\r\n",
    "\r\n",
    "let marker = Marker.init(Colorscale=StyleParam.Colorscale.Bluered, Line=Line.init(Width=1.))\r\n",
    "marker?color <- \"DarkSlateGrey\"\r\n",
    "marker?width <- 1\r\n",
    "\r\n",
    "Chart.Scatter(x, y, StyleParam.Mode.Markers, UseWebGL= true)\r\n",
    "|> Chart.withMarker(marker)\r\n",
    "|> Chart.withLayout(Layout.init(Width = 1000.))"
   ],
   "outputs": [],
   "metadata": {
    "dotnet_interactive": {
     "language": "fsharp"
    }
   }
  },
  {
   "cell_type": "markdown",
   "source": [
    "## WebGL Rendering with 1 Million Points"
   ],
   "metadata": {}
  },
  {
   "cell_type": "code",
   "execution_count": null,
   "source": [
    "#r \"nuget: Plotly.NET, 2.0.0-preview.6\"\r\n",
    "#r \"nuget: Plotly.NET.Interactive, 2.0.0-preview.6\"\r\n",
    "open Plotly.NET\r\n",
    "open System\r\n",
    "\r\n",
    "let N = 1000000\r\n",
    "\r\n",
    "let genRandomNumbers count =\r\n",
    "    let rnd = System.Random()\r\n",
    "    (Seq.init count (fun _ -> (rnd.NextDouble ()) * (5. - (-5.)) + (-5.)))\r\n",
    "\r\n",
    "let x = genRandomNumbers N\r\n",
    "let y = genRandomNumbers N\r\n",
    "\r\n",
    "let marker = Marker.init(Colorscale=StyleParam.Colorscale.Bluered, Line=Line.init(Width=1.))\r\n",
    "marker?color <- \"DarkSlateGrey\"\r\n",
    "marker?width <- 1\r\n",
    "\r\n",
    "Chart.Scatter(x, y, StyleParam.Mode.Markers, UseWebGL= true)\r\n",
    "|> Chart.withMarker(marker)\r\n",
    "|> Chart.withLayout(Layout.init(Width = 1000.))"
   ],
   "outputs": [],
   "metadata": {
    "dotnet_interactive": {
     "language": "fsharp"
    }
   }
  },
  {
   "cell_type": "markdown",
   "source": [
    "## WebGL Rendering with 1 Million Points"
   ],
   "metadata": {}
  },
  {
   "cell_type": "code",
   "execution_count": null,
   "source": [
    "#r \"nuget: Plotly.NET, 2.0.0-preview.6\"\n",
    "#r \"nuget: Plotly.NET.Interactive, 2.0.0-preview.6\"\n",
    "open Plotly.NET\n",
    "open System\n",
    "\n",
    "let N = 500\n",
    "\n",
    "let genRandomNumbers count =\n",
    "    let rnd = System.Random()\n",
    "    (Seq.init count (fun _ -> (rnd.NextDouble ()) * (5. - (-5.)) + (-5.)))\n",
    "\n",
    "let x = genRandomNumbers N\n",
    "let y = genRandomNumbers N\n",
    "\n",
    "Chart.Grid(\n",
    "    [\n",
    "        for _ in 0..10 do \n",
    "            [Chart.Scatter(x, y, StyleParam.Mode.Markers, UseWebGL= true)]\n",
    "    ],\n",
    "    sharedAxes=true\n",
    ")\n",
    "|> Chart.withLayout(Layout.init(Width = 1000., Height = 1000., Showlegend = false))\n",
    "|> Chart.Show"
   ],
   "outputs": [],
   "metadata": {
    "dotnet_interactive": {
     "language": "fsharp"
    }
   }
  }
 ],
 "metadata": {
  "orig_nbformat": 4,
  "language_info": {
   "file_extension": ".cs",
   "mimetype": "text/x-csharp",
   "name": "C#",
   "pygments_lexer": "csharp",
   "version": "9.0"
  },
  "kernelspec": {
   "display_name": ".NET (C#)",
   "language": "C#",
   "name": ".net-csharp"
  }
 },
 "nbformat": 4,
 "nbformat_minor": 2
}