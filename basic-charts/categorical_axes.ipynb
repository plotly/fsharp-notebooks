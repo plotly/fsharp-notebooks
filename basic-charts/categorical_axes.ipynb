{
 "cells": [
  {
   "cell_type": "code",
   "execution_count": null,
   "source": [
    "#r \"nuget: Plotly.NET,  2.0.0-preview.8\"\r\n",
    "#r \"nuget: Plotly.NET.Interactive,  2.0.0-preview.8\"\r\n"
   ],
   "outputs": [
    {
     "data": {
      "text/html": [
       "<div><div></div><div></div><div><strong>Installed Packages</strong><ul><li><span>Plotly.NET, 2.0.0-preview.8</span></li><li><span>Plotly.NET.Interactive, 2.0.0-preview.8</span></li></ul></div></div>"
      ]
     },
     "metadata": {},
     "output_type": "display_data"
    },
    {
     "data": {
      "text/markdown": [
       "Loading extensions from `Plotly.NET.Interactive.dll`"
      ]
     },
     "metadata": {},
     "output_type": "display_data"
    },
    {
     "data": {
      "text/markdown": [
       "Added Kernel Extension including formatters for Plotly.NET charts."
      ]
     },
     "metadata": {},
     "output_type": "display_data"
    }
   ],
   "metadata": {
    "dotnet_interactive": {
     "language": "fsharp"
    }
   }
  },
  {
   "cell_type": "markdown",
   "source": [
    "This page shows examples of how to configure 2-dimensional Cartesian axes to visualize categorical (i.e. qualitative, nominal or ordinal data as opposed to continuous numerical data). Such axes are a natural fit for bar charts, waterfall charts, funnel charts, heatmaps, violin charts and box plots, but can also be used with scatter plots and line charts. Configuring gridlines, ticks, tick labels and axis titles on logarithmic axes is done the same was as with linear axes."
   ],
   "metadata": {}
  },
  {
   "cell_type": "markdown",
   "source": [
    "# 2-D Cartesian Axis Type and Auto-Detection\r\n",
    "\r\n",
    "The different types of Cartesian axes are configured via the LinearAxis.AxisType attribute, which can take on the following values:\r\n",
    "\r\n",
    "'Linear' (see the linear axes tutorial)\r\n",
    "'Log' (see the log plot tutorial)\r\n",
    "'Date' (see the tutorial on timeseries)\r\n",
    "'Category' see below\r\n",
    "'MultiCategory' see below\r\n",
    "The axis type is auto-detected by looking at data from the first trace linked to this axis:\r\n",
    "\r\n",
    "First check for MultiCategory, then date, then category, else default to linear (log is never automatically selected)\r\n",
    "MultiCategory is just a shape test: is the array nested?\r\n",
    "date and category: require more than twice as many distinct date or category strings as distinct numbers in order to choose that axis type.\r\n",
    "Both of these test an evenly-spaced sample of at most 1000 values"
   ],
   "metadata": {}
  },
  {
   "cell_type": "markdown",
   "source": [
    "# Forcing an axis to be categorical\r\n",
    "\r\n",
    "It is possible to force the axis type by setting explicitly AxisType. In the example below the automatic X axis type would be linear (because there are not more than twice as many unique strings as unique numbers) but we force it to be category."
   ],
   "metadata": {}
  },
  {
   "cell_type": "code",
   "execution_count": null,
   "source": [
    "open Plotly.NET\r\n",
    "open Plotly.NET.LayoutObjects\r\n",
    "\r\n",
    "\r\n",
    "let x = [|\"a\"; \"a\"; \"b\"; \"c\"|]\r\n",
    "let y = [|1;2;3;4|]\r\n",
    "let xy = Array.zip x y\r\n",
    "Chart.Bar(xy)\r\n",
    "|> Chart.withYAxis(LinearAxis.init(AxisType=StyleParam.AxisType.Category))\r\n"
   ],
   "outputs": [
    {
     "output_type": "error",
     "ename": "Error",
     "evalue": "input.fsx (8,20)-(8,30) typecheck error The value, namespace, type or module 'LinearAxis' is not defined. Maybe you want one of the following:\r\n   Line\r\n   Linen",
     "traceback": [
      "input.fsx (8,20)-(8,30) typecheck error The value, namespace, type or module 'LinearAxis' is not defined. Maybe you want one of the following:\r\n",
      "   Line\r\n",
      "   Linen"
     ]
    }
   ],
   "metadata": {
    "dotnet_interactive": {
     "language": "fsharp"
    }
   }
  },
  {
   "cell_type": "markdown",
   "source": [
    "Box plots and violin plots are often shown with one categorical and one continuous axis."
   ],
   "metadata": {}
  },
  {
   "cell_type": "code",
   "execution_count": null,
   "source": [
    "#r \"nuget: Deedle\"\r\n",
    "#r \"nuget: FSharp.Data\""
   ],
   "outputs": [
    {
     "data": {
      "text/html": [
       "<div><div></div><div></div><div><strong>Installed Packages</strong><ul><li><span>Deedle, 2.4.3</span></li><li><span>FSharp.Data, 4.2.3</span></li></ul></div></div>"
      ]
     },
     "metadata": {},
     "output_type": "display_data"
    }
   ],
   "metadata": {
    "dotnet_interactive": {
     "language": "fsharp"
    }
   }
  },
  {
   "cell_type": "code",
   "execution_count": null,
   "source": [
    "open Deedle\r\n",
    "open FSharp.Data\r\n",
    "\r\n",
    "let data=\r\n",
    "    Http.RequestString \"https://raw.githubusercontent.com/plotly/datasets/master/tips.csv\"\r\n",
    "    |> fun csv -> Frame.ReadCsvString(csv,true,separators=\",\")\r\n",
    "    \r\n",
    "\r\n",
    "let getColumnData column=\r\n",
    "        data\r\n",
    "        |> Frame.getCol column\r\n",
    "        |> Series.values\r\n",
    "        |> Array.ofSeq\r\n",
    "\r\n",
    "let x = getColumnData \"sex\" |> Seq.cast<string>\r\n",
    "let y = getColumnData \"total_bill\" |> Seq.cast<decimal>\r\n",
    "\r\n",
    "\r\n",
    "Chart.BoxPlot(x,y,Jitter=0.1,Boxpoints=StyleParam.Boxpoints.All)"
   ],
   "outputs": [
    {
     "output_type": "error",
     "ename": "Error",
     "evalue": "input.fsx (19,1)-(19,6) typecheck error The value, namespace, type or module 'Chart' is not defined. Maybe you want one of the following:\r\n   Char\r\n   char\r\n   Char\r\n   char\r\n   CharEnumerator",
     "traceback": [
      "input.fsx (19,1)-(19,6) typecheck error The value, namespace, type or module 'Chart' is not defined. Maybe you want one of the following:\r\n",
      "   Char\r\n",
      "   char\r\n",
      "   Char\r\n",
      "   char\r\n",
      "   CharEnumerator"
     ]
    }
   ],
   "metadata": {
    "dotnet_interactive": {
     "language": "fsharp"
    }
   }
  },
  {
   "cell_type": "code",
   "execution_count": null,
   "source": [
    "open Plotly.NET\r\n",
    "\r\n",
    "Chart.Violin(x=x,y=y)"
   ],
   "outputs": [
    {
     "output_type": "error",
     "ename": "Error",
     "evalue": "input.fsx (3,16)-(3,17) typecheck error The value or constructor 'x' is not defined.\ninput.fsx (3,20)-(3,21) typecheck error The value or constructor 'y' is not defined.",
     "traceback": [
      "input.fsx (3,16)-(3,17) typecheck error The value or constructor 'x' is not defined.\n",
      "input.fsx (3,20)-(3,21) typecheck error The value or constructor 'y' is not defined."
     ]
    }
   ],
   "metadata": {
    "dotnet_interactive": {
     "language": "fsharp"
    }
   }
  },
  {
   "cell_type": "markdown",
   "source": [
    "# Automatically Sorting Categories by Name or Total Value\r\n",
    "\r\n",
    "Categories can be sorted alphabetically or by value using the CategoryOrder attribute for Axis:\r\n",
    "\r\n",
    "Set CategoryOrder to \"StyleParam.CategoryOrder.CategoryAscending\" or \"StyleParam.CategoryOrder.CategoryDecending\" for the alphanumerical order of the category names or \"TotalAscending\" or \"TotalDescending\" for numerical order of values. CategoryOrder for more information. Note that sorting the bars by a particular trace isn't possible right now - it's only possible to sort by the total values. Of course, you can always sort your data before plotting it if you need more customization.\r\n",
    "\r\n",
    "This example orders the categories alphabetically with CategoryOrder: 'CategoryAscending'"
   ],
   "metadata": {}
  },
  {
   "cell_type": "code",
   "execution_count": null,
   "source": [
    "\r\n",
    "open Plotly.NET\r\n",
    "open Plotly.NET.LayoutObjects\r\n",
    "\r\n",
    "let x = ['b'; 'a'; 'c'; 'd']\r\n",
    "\r\n",
    "[\r\n",
    "    Chart.Column(x, [2.;5.;1.;9.], Name = \"Montreal\")\r\n",
    "    Chart.Column(x, [1.;4.;9.;16.], Name = \"Ottawa\")\r\n",
    "    Chart.Column(x, [6.;8.;4.5;8.], Name = \"Toronto\")\r\n",
    "]\r\n",
    "|> Chart.combine\r\n",
    "|> Chart.withLayout(Layout.init(BarMode=StyleParam.BarMode.Stack))\r\n",
    "|> Chart.withXAxis(LinearAxis.init(CategoryOrder=StyleParam.CategoryOrder.CategoryAscending))"
   ],
   "outputs": [
    {
     "data": {
      "text/html": [
       "<div id=\"dbddfdf1-2a70-41a7-a592-bc01282c4a89\" style=\"width: 600px; height: 600px;\"><!-- Plotly chart will be drawn inside this DIV --></div>\r\n",
       "<script type=\"text/javascript\">\r\n",
       "\n",
       "            var renderPlotly_dbddfdf12a7041a7a592bc01282c4a89 = function() {\n",
       "            var fsharpPlotlyRequire = requirejs.config({context:'fsharp-plotly',paths:{plotly:'https://cdn.plot.ly/plotly-latest.min'}}) || require;\n",
       "            fsharpPlotlyRequire(['plotly'], function(Plotly) {\r\n",
       "\n",
       "            var data = [{\"type\":\"bar\",\"x\":[\"b\",\"a\",\"c\",\"d\"],\"y\":[2.0,5.0,1.0,9.0],\"marker\":{},\"name\":\"Montreal\"},{\"type\":\"bar\",\"x\":[\"b\",\"a\",\"c\",\"d\"],\"y\":[1.0,4.0,9.0,16.0],\"marker\":{},\"name\":\"Ottawa\"},{\"type\":\"bar\",\"x\":[\"b\",\"a\",\"c\",\"d\"],\"y\":[6.0,8.0,4.5,8.0],\"marker\":{},\"name\":\"Toronto\"}];\n",
       "            var layout = {\"barmode\":\"stack\",\"xaxis\":{\"categoryorder\":\"category ascending\"}};\n",
       "            var config = {};\n",
       "            Plotly.newPlot('dbddfdf1-2a70-41a7-a592-bc01282c4a89', data, layout, config);\r\n",
       "});\n",
       "            };\n",
       "            if ((typeof(requirejs) !==  typeof(Function)) || (typeof(requirejs.config) !== typeof(Function))) {\n",
       "                var script = document.createElement(\"script\");\n",
       "                script.setAttribute(\"src\", \"https://cdnjs.cloudflare.com/ajax/libs/require.js/2.3.6/require.min.js\");\n",
       "                script.onload = function(){\n",
       "                    renderPlotly_dbddfdf12a7041a7a592bc01282c4a89();\n",
       "                };\n",
       "                document.getElementsByTagName(\"head\")[0].appendChild(script);\n",
       "            }\n",
       "            else {\n",
       "                renderPlotly_dbddfdf12a7041a7a592bc01282c4a89();\n",
       "            }\r\n",
       "</script>\r\n"
      ]
     },
     "metadata": {},
     "output_type": "display_data"
    }
   ],
   "metadata": {
    "dotnet_interactive": {
     "language": "fsharp"
    }
   }
  },
  {
   "cell_type": "code",
   "execution_count": null,
   "source": [
    "open Plotly.NET\r\n",
    "\r\n",
    "let x = ['b'; 'a'; 'c'; 'd']\r\n",
    "\r\n",
    "[\r\n",
    "    Chart.Column(x, [2.;5.;1.;9.], Name = \"Montreal\")\r\n",
    "    Chart.Column(x, [1.;4.;9.;16.], Name = \"Ottawa\")\r\n",
    "    Chart.Column(x, [6.;8.;4.5;8.], Name = \"Toronto\")\r\n",
    "]\r\n",
    "|> Chart.combine\r\n",
    "|> Chart.withXAxis(LinearAxis.init(CategoryOrder=StyleParam.CategoryOrder.TotalAscending))"
   ],
   "outputs": [
    {
     "data": {
      "text/html": [
       "<div id=\"23f114ac-969b-4d6e-8fa3-9e0430c7e6b4\" style=\"width: 600px; height: 600px;\"><!-- Plotly chart will be drawn inside this DIV --></div>\r\n",
       "<script type=\"text/javascript\">\r\n",
       "\n",
       "            var renderPlotly_23f114ac969b4d6e8fa39e0430c7e6b4 = function() {\n",
       "            var fsharpPlotlyRequire = requirejs.config({context:'fsharp-plotly',paths:{plotly:'https://cdn.plot.ly/plotly-latest.min'}}) || require;\n",
       "            fsharpPlotlyRequire(['plotly'], function(Plotly) {\r\n",
       "\n",
       "            var data = [{\"type\":\"bar\",\"x\":[\"b\",\"a\",\"c\",\"d\"],\"y\":[2.0,5.0,1.0,9.0],\"marker\":{},\"name\":\"Montreal\"},{\"type\":\"bar\",\"x\":[\"b\",\"a\",\"c\",\"d\"],\"y\":[1.0,4.0,9.0,16.0],\"marker\":{},\"name\":\"Ottawa\"},{\"type\":\"bar\",\"x\":[\"b\",\"a\",\"c\",\"d\"],\"y\":[6.0,8.0,4.5,8.0],\"marker\":{},\"name\":\"Toronto\"}];\n",
       "            var layout = {\"xaxis\":{\"categoryorder\":\"total ascending\"}};\n",
       "            var config = {};\n",
       "            Plotly.newPlot('23f114ac-969b-4d6e-8fa3-9e0430c7e6b4', data, layout, config);\r\n",
       "});\n",
       "            };\n",
       "            if ((typeof(requirejs) !==  typeof(Function)) || (typeof(requirejs.config) !== typeof(Function))) {\n",
       "                var script = document.createElement(\"script\");\n",
       "                script.setAttribute(\"src\", \"https://cdnjs.cloudflare.com/ajax/libs/require.js/2.3.6/require.min.js\");\n",
       "                script.onload = function(){\n",
       "                    renderPlotly_23f114ac969b4d6e8fa39e0430c7e6b4();\n",
       "                };\n",
       "                document.getElementsByTagName(\"head\")[0].appendChild(script);\n",
       "            }\n",
       "            else {\n",
       "                renderPlotly_23f114ac969b4d6e8fa39e0430c7e6b4();\n",
       "            }\r\n",
       "</script>\r\n"
      ]
     },
     "metadata": {},
     "output_type": "display_data"
    }
   ],
   "metadata": {
    "dotnet_interactive": {
     "language": "fsharp"
    }
   }
  },
  {
   "cell_type": "markdown",
   "source": [
    "This example shows how to control category order by defining CategoryOrder to \"Array\" to derive the ordering from the attribute CategoryArray."
   ],
   "metadata": {}
  },
  {
   "cell_type": "code",
   "execution_count": null,
   "source": [
    "open Plotly.NET\r\n",
    "\r\n",
    "let x = ['b'; 'a'; 'c'; 'd']\r\n",
    "\r\n",
    "[\r\n",
    "    Chart.Column(x, [2.;5.;1.;9.], Name = \"Montreal\")\r\n",
    "    Chart.Column(x, [1.;4.;9.;16.], Name = \"Ottawa\")\r\n",
    "    Chart.Column(x, [6.;8.;4.5;8.], Name = \"Toronto\")\r\n",
    "]\r\n",
    "|> Chart.combine\r\n",
    "|> Chart.withLayout(Layout.init(BarMode=StyleParam.BarMode.Stack))\r\n",
    "|> Chart.withXAxis(LinearAxis.init(CategoryOrder=StyleParam.CategoryOrder.Array,CategoryArray=['d';'a';'c';'b']))"
   ],
   "outputs": [
    {
     "data": {
      "text/html": [
       "<div id=\"50a8f28a-ddcf-4048-8826-5885e7e1c207\" style=\"width: 600px; height: 600px;\"><!-- Plotly chart will be drawn inside this DIV --></div>\r\n",
       "<script type=\"text/javascript\">\r\n",
       "\n",
       "            var renderPlotly_50a8f28addcf404888265885e7e1c207 = function() {\n",
       "            var fsharpPlotlyRequire = requirejs.config({context:'fsharp-plotly',paths:{plotly:'https://cdn.plot.ly/plotly-latest.min'}}) || require;\n",
       "            fsharpPlotlyRequire(['plotly'], function(Plotly) {\r\n",
       "\n",
       "            var data = [{\"type\":\"bar\",\"x\":[\"b\",\"a\",\"c\",\"d\"],\"y\":[2.0,5.0,1.0,9.0],\"marker\":{},\"name\":\"Montreal\"},{\"type\":\"bar\",\"x\":[\"b\",\"a\",\"c\",\"d\"],\"y\":[1.0,4.0,9.0,16.0],\"marker\":{},\"name\":\"Ottawa\"},{\"type\":\"bar\",\"x\":[\"b\",\"a\",\"c\",\"d\"],\"y\":[6.0,8.0,4.5,8.0],\"marker\":{},\"name\":\"Toronto\"}];\n",
       "            var layout = {\"barmode\":\"stack\",\"xaxis\":{\"categoryorder\":\"array\",\"categoryarray\":[\"d\",\"a\",\"c\",\"b\"]}};\n",
       "            var config = {};\n",
       "            Plotly.newPlot('50a8f28a-ddcf-4048-8826-5885e7e1c207', data, layout, config);\r\n",
       "});\n",
       "            };\n",
       "            if ((typeof(requirejs) !==  typeof(Function)) || (typeof(requirejs.config) !== typeof(Function))) {\n",
       "                var script = document.createElement(\"script\");\n",
       "                script.setAttribute(\"src\", \"https://cdnjs.cloudflare.com/ajax/libs/require.js/2.3.6/require.min.js\");\n",
       "                script.onload = function(){\n",
       "                    renderPlotly_50a8f28addcf404888265885e7e1c207();\n",
       "                };\n",
       "                document.getElementsByTagName(\"head\")[0].appendChild(script);\n",
       "            }\n",
       "            else {\n",
       "                renderPlotly_50a8f28addcf404888265885e7e1c207();\n",
       "            }\r\n",
       "</script>\r\n"
      ]
     },
     "metadata": {},
     "output_type": "display_data"
    }
   ],
   "metadata": {
    "dotnet_interactive": {
     "language": "fsharp"
    }
   }
  },
  {
   "cell_type": "markdown",
   "source": [
    "# Gridlines, Ticks and Tick Labels\r\n",
    "\r\n",
    "By default, gridlines and ticks are not shown on categorical axes but they can be activated:"
   ],
   "metadata": {}
  },
  {
   "cell_type": "code",
   "execution_count": null,
   "source": [
    "open Plotly.NET\r\n",
    "\r\n",
    "let x = ['b'; 'a'; 'c'; 'd']\r\n",
    "\r\n",
    "Chart.Column([\"A\";\"B\";\"C\"], [1;3;2])\r\n",
    "|> Chart.withXAxis(LinearAxis.init(ShowGrid = true, Ticks = StyleParam.TickOptions.Outside))"
   ],
   "outputs": [
    {
     "data": {
      "text/html": [
       "<div id=\"980e888e-546b-4765-af76-40143c433384\" style=\"width: 600px; height: 600px;\"><!-- Plotly chart will be drawn inside this DIV --></div>\r\n",
       "<script type=\"text/javascript\">\r\n",
       "\n",
       "            var renderPlotly_980e888e546b4765af7640143c433384 = function() {\n",
       "            var fsharpPlotlyRequire = requirejs.config({context:'fsharp-plotly',paths:{plotly:'https://cdn.plot.ly/plotly-latest.min'}}) || require;\n",
       "            fsharpPlotlyRequire(['plotly'], function(Plotly) {\r\n",
       "\n",
       "            var data = [{\"type\":\"bar\",\"x\":[\"A\",\"B\",\"C\"],\"y\":[1,3,2],\"marker\":{}}];\n",
       "            var layout = {\"xaxis\":{\"ticks\":\"outside\",\"showgrid\":true}};\n",
       "            var config = {};\n",
       "            Plotly.newPlot('980e888e-546b-4765-af76-40143c433384', data, layout, config);\r\n",
       "});\n",
       "            };\n",
       "            if ((typeof(requirejs) !==  typeof(Function)) || (typeof(requirejs.config) !== typeof(Function))) {\n",
       "                var script = document.createElement(\"script\");\n",
       "                script.setAttribute(\"src\", \"https://cdnjs.cloudflare.com/ajax/libs/require.js/2.3.6/require.min.js\");\n",
       "                script.onload = function(){\n",
       "                    renderPlotly_980e888e546b4765af7640143c433384();\n",
       "                };\n",
       "                document.getElementsByTagName(\"head\")[0].appendChild(script);\n",
       "            }\n",
       "            else {\n",
       "                renderPlotly_980e888e546b4765af7640143c433384();\n",
       "            }\r\n",
       "</script>\r\n"
      ]
     },
     "metadata": {},
     "output_type": "display_data"
    }
   ],
   "metadata": {
    "dotnet_interactive": {
     "language": "fsharp"
    }
   }
  },
  {
   "cell_type": "markdown",
   "source": [
    "# Multi-categorical Axes\r\n",
    "\r\n",
    "A two-level categorical axis (also known as grouped or hierarchical categories, or sub-categories) can be created by specifying a trace's x or y property as a 2-dimensional lists. The first sublist represents the outer categorical value while the second sublist represents the inner categorical value. \r\n",
    "\r\n",
    "Passing in a two-dimensional list as the x or y value of a trace causes the type of the corresponding axis to be set to multicategory.\r\n",
    "\r\n",
    "Here is an example that creates a figure with a 2-level categorical x-axis."
   ],
   "metadata": {}
  },
  {
   "cell_type": "code",
   "execution_count": null,
   "source": [
    "open Plotly.NET\r\n",
    "\r\n",
    "let trace x y name =  //Workaround\r\n",
    "    let tmp = Trace(\"bar\")\r\n",
    "    tmp?x <- x\r\n",
    "    tmp?y <- y\r\n",
    "    tmp?name <- name\r\n",
    "    tmp\r\n",
    "[\r\n",
    "    GenericChart.ofTraceObject(trace [[\"First\"; \"First\";\"Second\";\"Second\"];[\"A\"; \"B\"; \"A\"; \"B\"]] [2;3;1;5] \"Adults\")\r\n",
    "    GenericChart.ofTraceObject(trace [[\"First\"; \"First\";\"Second\";\"Second\"];[\"A\"; \"B\"; \"A\"; \"B\"]] [8;3;6;5] \"Children\")        \r\n",
    "]\r\n",
    "|> Chart.combine\r\n",
    "|> Chart.withLayout(Layout.init(Title = Title.init(\"Multi-category axis\"), Width = 700))\r\n"
   ],
   "outputs": [
    {
     "data": {
      "text/html": [
       "<div id=\"68e16651-dc45-4cfb-8a3c-f4856383f61f\" style=\"width: 600px; height: 600px;\"><!-- Plotly chart will be drawn inside this DIV --></div>\r\n",
       "<script type=\"text/javascript\">\r\n",
       "\n",
       "            var renderPlotly_68e16651dc454cfb8a3cf4856383f61f = function() {\n",
       "            var fsharpPlotlyRequire = requirejs.config({context:'fsharp-plotly',paths:{plotly:'https://cdn.plot.ly/plotly-latest.min'}}) || require;\n",
       "            fsharpPlotlyRequire(['plotly'], function(Plotly) {\r\n",
       "\n",
       "            var data = [{\"type\":\"bar\",\"x\":[[\"First\",\"First\",\"Second\",\"Second\"],[\"A\",\"B\",\"A\",\"B\"]],\"y\":[2,3,1,5],\"name\":\"Adults\"},{\"type\":\"bar\",\"x\":[[\"First\",\"First\",\"Second\",\"Second\"],[\"A\",\"B\",\"A\",\"B\"]],\"y\":[8,3,6,5],\"name\":\"Children\"}];\n",
       "            var layout = {\"title\":{\"text\":\"Multi-category axis\"},\"width\":700};\n",
       "            var config = {};\n",
       "            Plotly.newPlot('68e16651-dc45-4cfb-8a3c-f4856383f61f', data, layout, config);\r\n",
       "});\n",
       "            };\n",
       "            if ((typeof(requirejs) !==  typeof(Function)) || (typeof(requirejs.config) !== typeof(Function))) {\n",
       "                var script = document.createElement(\"script\");\n",
       "                script.setAttribute(\"src\", \"https://cdnjs.cloudflare.com/ajax/libs/require.js/2.3.6/require.min.js\");\n",
       "                script.onload = function(){\n",
       "                    renderPlotly_68e16651dc454cfb8a3cf4856383f61f();\n",
       "                };\n",
       "                document.getElementsByTagName(\"head\")[0].appendChild(script);\n",
       "            }\n",
       "            else {\n",
       "                renderPlotly_68e16651dc454cfb8a3cf4856383f61f();\n",
       "            }\r\n",
       "</script>\r\n"
      ]
     },
     "metadata": {},
     "output_type": "display_data"
    }
   ],
   "metadata": {
    "dotnet_interactive": {
     "language": "fsharp"
    }
   }
  }
 ],
 "metadata": {
  "orig_nbformat": 4,
  "language_info": {
   "file_extension": ".cs",
   "mimetype": "text/x-csharp",
   "name": "C#",
   "pygments_lexer": "csharp",
   "version": "9.0"
  },
  "kernelspec": {
   "display_name": ".NET (C#)",
   "language": "C#",
   "name": ".net-csharp"
  }
 },
 "nbformat": 4,
 "nbformat_minor": 2
}