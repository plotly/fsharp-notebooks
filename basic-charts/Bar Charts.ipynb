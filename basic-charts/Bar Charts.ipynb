{
 "cells": [
  {
   "cell_type": "code",
   "execution_count": null,
   "source": [
    "#r \"nuget: Plotly.NET, *-*\"\r\n",
    "#r \"nuget: Plotly.NET.Interactive, *-*\"\r\n",
    "open Plotly.NET\r\n"
   ],
   "outputs": [
    {
     "data": {
      "text/html": [
       "<div><div></div><div></div><div><strong>Installed Packages</strong><ul><li><span>Plotly.NET, 2.0.0-preview.7</span></li><li><span>Plotly.NET.Interactive, 2.0.0-preview.7</span></li></ul></div></div>"
      ]
     },
     "metadata": {},
     "output_type": "display_data"
    },
    {
     "data": {
      "text/markdown": [
       "Loading extensions from `Plotly.NET.Interactive.dll`"
      ]
     },
     "metadata": {},
     "output_type": "display_data"
    },
    {
     "data": {
      "text/markdown": [
       "Added Kernel Extension including formatters for Plotly.NET charts."
      ]
     },
     "metadata": {},
     "output_type": "display_data"
    }
   ],
   "metadata": {
    "dotnet_interactive": {
     "language": "fsharp"
    }
   }
  },
  {
   "cell_type": "markdown",
   "source": [
    "# Basic Bar Chart\r\n",
    "\r\n",
    "you can use F# arrays to construct your bar charts"
   ],
   "metadata": {
    "dotnet_interactive": {
     "language": "fsharp"
    }
   }
  },
  {
   "cell_type": "code",
   "execution_count": null,
   "source": [
    "let animals = [\"giraffes\"; \"orangutans\"; \"monkeys\"];\r\n",
    "let sfValues = [20; 14; 23]\r\n",
    "Chart.Column (animals, sfValues);\r\n"
   ],
   "outputs": [
    {
     "data": {
      "text/html": [
       "<div id=\"f5d070b0-23e0-4c52-a033-061e89a08b9b\" style=\"width: 600px; height: 600px;\"><!-- Plotly chart will be drawn inside this DIV --></div>\r\n",
       "<script type=\"text/javascript\">\r\n",
       "\n",
       "            var renderPlotly_f5d070b023e04c52a033061e89a08b9b = function() {\n",
       "            var fsharpPlotlyRequire = requirejs.config({context:'fsharp-plotly',paths:{plotly:'https://cdn.plot.ly/plotly-latest.min'}}) || require;\n",
       "            fsharpPlotlyRequire(['plotly'], function(Plotly) {\r\n",
       "\n",
       "            var data = [{\"type\":\"bar\",\"x\":[\"giraffes\",\"orangutans\",\"monkeys\"],\"y\":[20,14,23],\"marker\":{}}];\n",
       "            var layout = {};\n",
       "            var config = {};\n",
       "            Plotly.newPlot('f5d070b0-23e0-4c52-a033-061e89a08b9b', data, layout, config);\r\n",
       "});\n",
       "            };\n",
       "            if ((typeof(requirejs) !==  typeof(Function)) || (typeof(requirejs.config) !== typeof(Function))) {\n",
       "                var script = document.createElement(\"script\");\n",
       "                script.setAttribute(\"src\", \"https://cdnjs.cloudflare.com/ajax/libs/require.js/2.3.6/require.min.js\");\n",
       "                script.onload = function(){\n",
       "                    renderPlotly_f5d070b023e04c52a033061e89a08b9b();\n",
       "                };\n",
       "                document.getElementsByTagName(\"head\")[0].appendChild(script);\n",
       "            }\n",
       "            else {\n",
       "                renderPlotly_f5d070b023e04c52a033061e89a08b9b();\n",
       "            }\r\n",
       "</script>\r\n"
      ]
     },
     "metadata": {},
     "output_type": "display_data"
    }
   ],
   "metadata": {
    "dotnet_interactive": {
     "language": "fsharp"
    }
   }
  },
  {
   "cell_type": "markdown",
   "source": [
    "# Grouped Bar Chart\r\n",
    "\r\n",
    "Chart.combine for grouping the charts"
   ],
   "metadata": {
    "dotnet_interactive": {
     "language": "fsharp"
    }
   }
  },
  {
   "cell_type": "code",
   "execution_count": null,
   "source": [
    "let animals = [\"giraffes\"; \"orangutans\"; \"monkeys\"];\r\n",
    "let sfValues = [20; 14; 23]\r\n",
    "let laValues = [12; 18; 29]\r\n",
    "\r\n",
    "[\r\n",
    "    Chart.Column (animals, sfValues, Name=\"SF Zoo\");\r\n",
    "    Chart.Column (animals, laValues, Name=\"LA Zoo\")\r\n",
    "]\r\n",
    "|> Chart.combine\r\n"
   ],
   "outputs": [
    {
     "data": {
      "text/html": [
       "<div id=\"cf9bd8ab-83d2-456e-9f78-a562bfd9c651\" style=\"width: 600px; height: 600px;\"><!-- Plotly chart will be drawn inside this DIV --></div>\r\n",
       "<script type=\"text/javascript\">\r\n",
       "\n",
       "            var renderPlotly_cf9bd8ab83d2456e9f78a562bfd9c651 = function() {\n",
       "            var fsharpPlotlyRequire = requirejs.config({context:'fsharp-plotly',paths:{plotly:'https://cdn.plot.ly/plotly-latest.min'}}) || require;\n",
       "            fsharpPlotlyRequire(['plotly'], function(Plotly) {\r\n",
       "\n",
       "            var data = [{\"type\":\"bar\",\"x\":[\"giraffes\",\"orangutans\",\"monkeys\"],\"y\":[20,14,23],\"marker\":{},\"name\":\"SF Zoo\"},{\"type\":\"bar\",\"x\":[\"giraffes\",\"orangutans\",\"monkeys\"],\"y\":[12,18,29],\"marker\":{},\"name\":\"LA Zoo\"}];\n",
       "            var layout = {};\n",
       "            var config = {};\n",
       "            Plotly.newPlot('cf9bd8ab-83d2-456e-9f78-a562bfd9c651', data, layout, config);\r\n",
       "});\n",
       "            };\n",
       "            if ((typeof(requirejs) !==  typeof(Function)) || (typeof(requirejs.config) !== typeof(Function))) {\n",
       "                var script = document.createElement(\"script\");\n",
       "                script.setAttribute(\"src\", \"https://cdnjs.cloudflare.com/ajax/libs/require.js/2.3.6/require.min.js\");\n",
       "                script.onload = function(){\n",
       "                    renderPlotly_cf9bd8ab83d2456e9f78a562bfd9c651();\n",
       "                };\n",
       "                document.getElementsByTagName(\"head\")[0].appendChild(script);\n",
       "            }\n",
       "            else {\n",
       "                renderPlotly_cf9bd8ab83d2456e9f78a562bfd9c651();\n",
       "            }\r\n",
       "</script>\r\n"
      ]
     },
     "metadata": {},
     "output_type": "display_data"
    }
   ],
   "metadata": {
    "dotnet_interactive": {
     "language": "fsharp"
    }
   }
  },
  {
   "cell_type": "markdown",
   "source": [
    "# Stacked Bar Chart\r\n",
    "\r\n",
    "Chart.StackedColumn for constructing stacked bars as shown below"
   ],
   "metadata": {}
  },
  {
   "cell_type": "code",
   "execution_count": null,
   "source": [
    "let animals = [\"giraffes\"; \"orangutans\"; \"monkeys\"];\r\n",
    "let sfValues = [20; 14; 23]\r\n",
    "let laValues = [12; 18; 29]\r\n",
    "\r\n",
    "[\r\n",
    "    Chart.StackedColumn (animals, sfValues, Name=\"SF Zoo\");\r\n",
    "    Chart.StackedColumn (animals, laValues, Name=\"LA Zoo\")\r\n",
    "]\r\n",
    "|> Chart.combine\r\n"
   ],
   "outputs": [
    {
     "data": {
      "text/html": [
       "<div id=\"c5b99a23-cb4d-40a4-9c40-fd1c9d24610a\" style=\"width: 600px; height: 600px;\"><!-- Plotly chart will be drawn inside this DIV --></div>\r\n",
       "<script type=\"text/javascript\">\r\n",
       "\n",
       "            var renderPlotly_c5b99a23cb4d40a49c40fd1c9d24610a = function() {\n",
       "            var fsharpPlotlyRequire = requirejs.config({context:'fsharp-plotly',paths:{plotly:'https://cdn.plot.ly/plotly-latest.min'}}) || require;\n",
       "            fsharpPlotlyRequire(['plotly'], function(Plotly) {\r\n",
       "\n",
       "            var data = [{\"type\":\"bar\",\"x\":[\"giraffes\",\"orangutans\",\"monkeys\"],\"y\":[20,14,23],\"marker\":{},\"name\":\"SF Zoo\"},{\"type\":\"bar\",\"x\":[\"giraffes\",\"orangutans\",\"monkeys\"],\"y\":[12,18,29],\"marker\":{},\"name\":\"LA Zoo\"}];\n",
       "            var layout = {\"barmode\":\"stack\"};\n",
       "            var config = {};\n",
       "            Plotly.newPlot('c5b99a23-cb4d-40a4-9c40-fd1c9d24610a', data, layout, config);\r\n",
       "});\n",
       "            };\n",
       "            if ((typeof(requirejs) !==  typeof(Function)) || (typeof(requirejs.config) !== typeof(Function))) {\n",
       "                var script = document.createElement(\"script\");\n",
       "                script.setAttribute(\"src\", \"https://cdnjs.cloudflare.com/ajax/libs/require.js/2.3.6/require.min.js\");\n",
       "                script.onload = function(){\n",
       "                    renderPlotly_c5b99a23cb4d40a49c40fd1c9d24610a();\n",
       "                };\n",
       "                document.getElementsByTagName(\"head\")[0].appendChild(script);\n",
       "            }\n",
       "            else {\n",
       "                renderPlotly_c5b99a23cb4d40a49c40fd1c9d24610a();\n",
       "            }\r\n",
       "</script>\r\n"
      ]
     },
     "metadata": {},
     "output_type": "display_data"
    }
   ],
   "metadata": {
    "dotnet_interactive": {
     "language": "fsharp"
    }
   }
  },
  {
   "cell_type": "markdown",
   "source": [
    "# Bar Chart with Hover Text"
   ],
   "metadata": {}
  },
  {
   "cell_type": "code",
   "execution_count": null,
   "source": [
    "let products = [\"Product A\"; \"Product B\"; \"Product C\"];\r\n",
    "let labels = [\"27% market share\"; \"24% market share\"; \"19% market share\"]\r\n",
    "let sfValues = [20; 14; 23]\r\n",
    "\r\n",
    "Chart.Column (\r\n",
    "    products,\r\n",
    "    sfValues,\r\n",
    "    Labels=labels,\r\n",
    "    Opacity=0.6\r\n",
    ")\r\n",
    "|> Chart.withMarker (\r\n",
    "    Marker.init (\r\n",
    "        Color=\"rgb(158,202,225)\", \r\n",
    "        Line=Line.init (Width=1.5, Color=\"rgb(8,48,107)\")\r\n",
    "    )\r\n",
    ")\r\n",
    "|> Chart.withTitle (\"January 2013 Sales Report\")\r\n"
   ],
   "outputs": [
    {
     "data": {
      "text/html": [
       "<div id=\"a87f3a36-8209-4df4-9ed3-6bf6721e5348\" style=\"width: 600px; height: 600px;\"><!-- Plotly chart will be drawn inside this DIV --></div>\r\n",
       "<script type=\"text/javascript\">\r\n",
       "\n",
       "            var renderPlotly_a87f3a3682094df49ed36bf6721e5348 = function() {\n",
       "            var fsharpPlotlyRequire = requirejs.config({context:'fsharp-plotly',paths:{plotly:'https://cdn.plot.ly/plotly-latest.min'}}) || require;\n",
       "            fsharpPlotlyRequire(['plotly'], function(Plotly) {\r\n",
       "\n",
       "            var data = [{\"type\":\"bar\",\"x\":[\"Product A\",\"Product B\",\"Product C\"],\"y\":[20,14,23],\"marker\":{\"color\":\"rgb(158,202,225)\",\"line\":{\"color\":\"rgb(8,48,107)\",\"width\":1.5}},\"opacity\":0.6,\"text\":[\"27% market share\",\"24% market share\",\"19% market share\"]}];\n",
       "            var layout = {\"title\":{\"text\":\"January 2013 Sales Report\"}};\n",
       "            var config = {};\n",
       "            Plotly.newPlot('a87f3a36-8209-4df4-9ed3-6bf6721e5348', data, layout, config);\r\n",
       "});\n",
       "            };\n",
       "            if ((typeof(requirejs) !==  typeof(Function)) || (typeof(requirejs.config) !== typeof(Function))) {\n",
       "                var script = document.createElement(\"script\");\n",
       "                script.setAttribute(\"src\", \"https://cdnjs.cloudflare.com/ajax/libs/require.js/2.3.6/require.min.js\");\n",
       "                script.onload = function(){\n",
       "                    renderPlotly_a87f3a3682094df49ed36bf6721e5348();\n",
       "                };\n",
       "                document.getElementsByTagName(\"head\")[0].appendChild(script);\n",
       "            }\n",
       "            else {\n",
       "                renderPlotly_a87f3a3682094df49ed36bf6721e5348();\n",
       "            }\r\n",
       "</script>\r\n"
      ]
     },
     "metadata": {},
     "output_type": "display_data"
    }
   ],
   "metadata": {
    "dotnet_interactive": {
     "language": "fsharp"
    }
   }
  },
  {
   "cell_type": "markdown",
   "source": [
    "# Bar Chart with Direct Labels"
   ],
   "metadata": {}
  },
  {
   "cell_type": "code",
   "execution_count": null,
   "source": [
    "let products = [\"Product A\"; \"Product B\"; \"Product C\"];\r\n",
    "let sfValues = [20; 14; 23]\r\n",
    "Chart.Column (    products,\r\n",
    "    sfValues,\r\n",
    "    Labels= sfValues,\r\n",
    "    TextPosition = StyleParam.TextPosition.TopCenter\r\n",
    ") \r\n",
    "\r\n",
    "    |> GenericChart.mapTrace(fun t-> \r\n",
    "                            t?textposition<- \"auto\" //workaround\r\n",
    "                            t)\r\n"
   ],
   "outputs": [
    {
     "data": {
      "text/html": [
       "<div id=\"54a7fb4a-8770-443e-8479-e38b391dfe87\" style=\"width: 600px; height: 600px;\"><!-- Plotly chart will be drawn inside this DIV --></div>\r\n",
       "<script type=\"text/javascript\">\r\n",
       "\n",
       "            var renderPlotly_54a7fb4a8770443e8479e38b391dfe87 = function() {\n",
       "            var fsharpPlotlyRequire = requirejs.config({context:'fsharp-plotly',paths:{plotly:'https://cdn.plot.ly/plotly-latest.min'}}) || require;\n",
       "            fsharpPlotlyRequire(['plotly'], function(Plotly) {\r\n",
       "\n",
       "            var data = [{\"type\":\"bar\",\"x\":[\"Product A\",\"Product B\",\"Product C\"],\"y\":[20,14,23],\"marker\":{},\"text\":[20,14,23],\"textposition\":\"auto\"}];\n",
       "            var layout = {};\n",
       "            var config = {};\n",
       "            Plotly.newPlot('54a7fb4a-8770-443e-8479-e38b391dfe87', data, layout, config);\r\n",
       "});\n",
       "            };\n",
       "            if ((typeof(requirejs) !==  typeof(Function)) || (typeof(requirejs.config) !== typeof(Function))) {\n",
       "                var script = document.createElement(\"script\");\n",
       "                script.setAttribute(\"src\", \"https://cdnjs.cloudflare.com/ajax/libs/require.js/2.3.6/require.min.js\");\n",
       "                script.onload = function(){\n",
       "                    renderPlotly_54a7fb4a8770443e8479e38b391dfe87();\n",
       "                };\n",
       "                document.getElementsByTagName(\"head\")[0].appendChild(script);\n",
       "            }\n",
       "            else {\n",
       "                renderPlotly_54a7fb4a8770443e8479e38b391dfe87();\n",
       "            }\r\n",
       "</script>\r\n"
      ]
     },
     "metadata": {},
     "output_type": "display_data"
    }
   ],
   "metadata": {
    "dotnet_interactive": {
     "language": "fsharp"
    }
   }
  },
  {
   "cell_type": "markdown",
   "source": [
    "# Rotated Bar Chart Labels"
   ],
   "metadata": {}
  },
  {
   "cell_type": "code",
   "execution_count": null,
   "source": [
    "let months = [\"Jan\"; \"Feb\"; \"Mar\"; \"Apr\"; \"May\"; \"Jun\";\r\n",
    "              \"Jul\"; \"Aug\"; \"Sep\"; \"Oct\"; \"Nov\"; \"Dec\"]\r\n",
    "let primaryProduct = [20; 14; 25; 16; 18; 22; 19; 15; 12; 16; 14; 17]\r\n",
    "let secondProduct = [19; 14; 22; 14; 16; 19; 15; 14; 10; 12; 12; 16]\r\n",
    "\r\n",
    "[\r\n",
    "    Chart.Column (months, primaryProduct, Name=\"Primary Product\")\r\n",
    "    |> Chart.withMarker (Marker.init (Color=\"indianred\"));\r\n",
    "\r\n",
    "    Chart.Column (months, secondProduct, Name=\"Second Product\")\r\n",
    "    |> Chart.withMarker (Marker.init (Color=\"lightSalmon\"))\r\n",
    "]\r\n",
    "|> Chart.combine\r\n",
    "|> Chart.withXAxis(Axis.LinearAxis.init(TickAngle= -45))\r\n"
   ],
   "outputs": [
    {
     "data": {
      "text/html": [
       "<div id=\"98016417-ab85-4870-bb3b-df8ccda2b162\" style=\"width: 600px; height: 600px;\"><!-- Plotly chart will be drawn inside this DIV --></div>\r\n",
       "<script type=\"text/javascript\">\r\n",
       "\n",
       "            var renderPlotly_98016417ab854870bb3bdf8ccda2b162 = function() {\n",
       "            var fsharpPlotlyRequire = requirejs.config({context:'fsharp-plotly',paths:{plotly:'https://cdn.plot.ly/plotly-latest.min'}}) || require;\n",
       "            fsharpPlotlyRequire(['plotly'], function(Plotly) {\r\n",
       "\n",
       "            var data = [{\"type\":\"bar\",\"x\":[\"Jan\",\"Feb\",\"Mar\",\"Apr\",\"May\",\"Jun\",\"Jul\",\"Aug\",\"Sep\",\"Oct\",\"Nov\",\"Dec\"],\"y\":[20,14,25,16,18,22,19,15,12,16,14,17],\"marker\":{\"color\":\"indianred\"},\"name\":\"Primary Product\"},{\"type\":\"bar\",\"x\":[\"Jan\",\"Feb\",\"Mar\",\"Apr\",\"May\",\"Jun\",\"Jul\",\"Aug\",\"Sep\",\"Oct\",\"Nov\",\"Dec\"],\"y\":[19,14,22,14,16,19,15,14,10,12,12,16],\"marker\":{\"color\":\"lightSalmon\"},\"name\":\"Second Product\"}];\n",
       "            var layout = {\"xaxis\":{\"tickangle\":-45}};\n",
       "            var config = {};\n",
       "            Plotly.newPlot('98016417-ab85-4870-bb3b-df8ccda2b162', data, layout, config);\r\n",
       "});\n",
       "            };\n",
       "            if ((typeof(requirejs) !==  typeof(Function)) || (typeof(requirejs.config) !== typeof(Function))) {\n",
       "                var script = document.createElement(\"script\");\n",
       "                script.setAttribute(\"src\", \"https://cdnjs.cloudflare.com/ajax/libs/require.js/2.3.6/require.min.js\");\n",
       "                script.onload = function(){\n",
       "                    renderPlotly_98016417ab854870bb3bdf8ccda2b162();\n",
       "                };\n",
       "                document.getElementsByTagName(\"head\")[0].appendChild(script);\n",
       "            }\n",
       "            else {\n",
       "                renderPlotly_98016417ab854870bb3bdf8ccda2b162();\n",
       "            }\r\n",
       "</script>\r\n"
      ]
     },
     "metadata": {},
     "output_type": "display_data"
    }
   ],
   "metadata": {
    "dotnet_interactive": {
     "language": "fsharp"
    }
   }
  },
  {
   "cell_type": "markdown",
   "source": [
    "# Customizing Individual Bar Colors"
   ],
   "metadata": {}
  },
  {
   "cell_type": "code",
   "execution_count": null,
   "source": [
    "\r\n",
    "let featureKeys = [\"Feature A\"; \"Feature B\"; \"Feature C\";\r\n",
    "                   \"Feature D\"; \"Feature E\"]\r\n",
    "let featureValues = [20; 14; 23; 25; 22]\r\n",
    "\r\n",
    "let colors = \r\n",
    "    [1..5]\r\n",
    "    |> List.mapi (fun i x -> if i = 1 then \"crimson\" else \"lightslategray\" )\r\n",
    "    |> List.toSeq\r\n",
    "\r\n",
    "let marker = Marker.init(Colors = colors);\r\n",
    "marker?color<-colors\r\n",
    "\r\n",
    "Chart.Column (featureKeys, featureValues, Marker=marker)\r\n"
   ],
   "outputs": [
    {
     "data": {
      "text/html": [
       "<div id=\"e793a455-deaf-493c-9291-d13fc7704174\" style=\"width: 600px; height: 600px;\"><!-- Plotly chart will be drawn inside this DIV --></div>\r\n",
       "<script type=\"text/javascript\">\r\n",
       "\n",
       "            var renderPlotly_e793a455deaf493c9291d13fc7704174 = function() {\n",
       "            var fsharpPlotlyRequire = requirejs.config({context:'fsharp-plotly',paths:{plotly:'https://cdn.plot.ly/plotly-latest.min'}}) || require;\n",
       "            fsharpPlotlyRequire(['plotly'], function(Plotly) {\r\n",
       "\n",
       "            var data = [{\"type\":\"bar\",\"x\":[\"Feature A\",\"Feature B\",\"Feature C\",\"Feature D\",\"Feature E\"],\"y\":[20,14,23,25,22],\"marker\":{\"colors\":[\"lightslategray\",\"crimson\",\"lightslategray\",\"lightslategray\",\"lightslategray\"],\"color\":[\"lightslategray\",\"crimson\",\"lightslategray\",\"lightslategray\",\"lightslategray\"]}}];\n",
       "            var layout = {};\n",
       "            var config = {};\n",
       "            Plotly.newPlot('e793a455-deaf-493c-9291-d13fc7704174', data, layout, config);\r\n",
       "});\n",
       "            };\n",
       "            if ((typeof(requirejs) !==  typeof(Function)) || (typeof(requirejs.config) !== typeof(Function))) {\n",
       "                var script = document.createElement(\"script\");\n",
       "                script.setAttribute(\"src\", \"https://cdnjs.cloudflare.com/ajax/libs/require.js/2.3.6/require.min.js\");\n",
       "                script.onload = function(){\n",
       "                    renderPlotly_e793a455deaf493c9291d13fc7704174();\n",
       "                };\n",
       "                document.getElementsByTagName(\"head\")[0].appendChild(script);\n",
       "            }\n",
       "            else {\n",
       "                renderPlotly_e793a455deaf493c9291d13fc7704174();\n",
       "            }\r\n",
       "</script>\r\n"
      ]
     },
     "metadata": {},
     "output_type": "display_data"
    }
   ],
   "metadata": {
    "dotnet_interactive": {
     "language": "fsharp"
    }
   }
  },
  {
   "cell_type": "markdown",
   "source": [
    "# Customizing Individual Bar Widths"
   ],
   "metadata": {}
  },
  {
   "cell_type": "code",
   "execution_count": null,
   "source": [
    "let featureKeys = [1.; 2.; 3.; 5.5; 10.]\r\n",
    "let featureValues = [10; 8; 6; 4; 2]\r\n",
    "let width = [0.8; 0.8; 0.8; 3.5; 4.]\r\n",
    "Chart.Column (featureKeys, \r\n",
    "              featureValues)\r\n",
    "|> Chart.withMarker(Marker.init(MultiSizes= width))\r\n",
    "\r\n",
    "//|> Chart.withLineStyle(Width = width) Doesnt accept float list\r\n",
    "\r\n",
    "|> GenericChart.mapTrace(fun t-> \r\n",
    "                                t?width<-width;\r\n",
    "                                t)  // workaround\r\n",
    "\r\n"
   ],
   "outputs": [
    {
     "data": {
      "text/html": [
       "<div id=\"f654a8d2-4957-434f-a872-583a89cee6b8\" style=\"width: 600px; height: 600px;\"><!-- Plotly chart will be drawn inside this DIV --></div>\r\n",
       "<script type=\"text/javascript\">\r\n",
       "\n",
       "            var renderPlotly_f654a8d24957434fa872583a89cee6b8 = function() {\n",
       "            var fsharpPlotlyRequire = requirejs.config({context:'fsharp-plotly',paths:{plotly:'https://cdn.plot.ly/plotly-latest.min'}}) || require;\n",
       "            fsharpPlotlyRequire(['plotly'], function(Plotly) {\r\n",
       "\n",
       "            var data = [{\"type\":\"bar\",\"x\":[1.0,2.0,3.0,5.5,10.0],\"y\":[10,8,6,4,2],\"marker\":{\"size\":[0.8,0.8,0.8,3.5,4.0]},\"width\":[0.8,0.8,0.8,3.5,4.0]}];\n",
       "            var layout = {};\n",
       "            var config = {};\n",
       "            Plotly.newPlot('f654a8d2-4957-434f-a872-583a89cee6b8', data, layout, config);\r\n",
       "});\n",
       "            };\n",
       "            if ((typeof(requirejs) !==  typeof(Function)) || (typeof(requirejs.config) !== typeof(Function))) {\n",
       "                var script = document.createElement(\"script\");\n",
       "                script.setAttribute(\"src\", \"https://cdnjs.cloudflare.com/ajax/libs/require.js/2.3.6/require.min.js\");\n",
       "                script.onload = function(){\n",
       "                    renderPlotly_f654a8d24957434fa872583a89cee6b8();\n",
       "                };\n",
       "                document.getElementsByTagName(\"head\")[0].appendChild(script);\n",
       "            }\n",
       "            else {\n",
       "                renderPlotly_f654a8d24957434fa872583a89cee6b8();\n",
       "            }\r\n",
       "</script>\r\n"
      ]
     },
     "metadata": {},
     "output_type": "display_data"
    }
   ],
   "metadata": {
    "dotnet_interactive": {
     "language": "fsharp"
    }
   }
  },
  {
   "cell_type": "markdown",
   "source": [
    "Bar charts with custom widths can be used to make mekko charts (also known as marimekko charts, mosaic plots, or variwide charts)."
   ],
   "metadata": {}
  },
  {
   "cell_type": "code",
   "execution_count": null,
   "source": [
    "open Plotly.NET\r\n",
    "\r\n",
    "let labels = [|\"apples\"; \"oranges\"; \"pears\"; \"bananas\"|]\r\n",
    "let widths = [|10.; 20.; 20.; 50.|]\r\n",
    "\r\n",
    "let data = \r\n",
    "   new Map<string,float[]>([\r\n",
    "        \"South\", [|50.;80.;60.;70.|]\r\n",
    "        \"North\", [|50.; 20.;40.;30.|]]\r\n",
    "   )\r\n",
    "\r\n",
    "let cumSum x=\r\n",
    "   (Array.scan (+) 0. x).[1..]\r\n",
    "\r\n",
    "let tickVals = Array.map2 (fun x y-> x-y/2.) (cumSum(widths)) widths\r\n",
    "let ticks = Array.map2 (fun l w -> $\"{l} <br> {w}\") labels widths\r\n",
    "let textLabels key= Array.map2 (fun h w -> $\"{h} x {w} = <br>\"+ string (h*w))  data.[key] widths\r\n",
    "\r\n",
    "[ \r\n",
    "   for kvp in data ->               \r\n",
    "               let keys = Array.map2 (fun x y-> x-y) (cumSum(widths)) widths\r\n",
    "               Chart.Column(values=kvp.Value,keys=keys,Marker=Marker.init(Line=Line.init(Color=\"white\",Width=0.5)),Labels=textLabels kvp.Key)\r\n",
    "               |> GenericChart.mapTrace(fun t-> \r\n",
    "                                                \r\n",
    "                                                t.SetValue(\"width\", widths)\r\n",
    "                                                t.SetValue(\"offset\", 0.)\r\n",
    "                                                t.SetValue(\"name\", kvp.Key)\r\n",
    "                                                t.SetValue(\"textangle\", 0)\r\n",
    "                                                t.SetValue(\"textposition\", \"inside\")\r\n",
    "                                                t)  // workaround \r\n",
    "]\r\n",
    "|> Chart.combine\r\n",
    "|> Chart.withLayout(Layout.init(Barmode=StyleParam.Barmode.Stack))\r\n",
    "|> Chart.withXAxis(LinearAxis.init(TickVals=tickVals,TickText=ticks,ShowGrid=true))\r\n",
    "|> Chart.withSize(1100.0,700.)\r\n",
    "\r\n"
   ],
   "outputs": [
    {
     "data": {
      "text/html": [
       "<div id=\"7912d1c9-4191-4e59-9875-85f132f01526\" style=\"width: 1100px; height: 700px;\"><!-- Plotly chart will be drawn inside this DIV --></div>\r\n",
       "<script type=\"text/javascript\">\r\n",
       "\n",
       "            var renderPlotly_7912d1c941914e59987585f132f01526 = function() {\n",
       "            var fsharpPlotlyRequire = requirejs.config({context:'fsharp-plotly',paths:{plotly:'https://cdn.plot.ly/plotly-latest.min'}}) || require;\n",
       "            fsharpPlotlyRequire(['plotly'], function(Plotly) {\r\n",
       "\n",
       "            var data = [{\"type\":\"bar\",\"x\":[0.0,10.0,30.0,50.0],\"y\":[50.0,20.0,40.0,30.0],\"marker\":{\"line\":{\"color\":\"white\",\"width\":0.5}},\"text\":[\"50 x 10 = <br>500\",\"20 x 20 = <br>400\",\"40 x 20 = <br>800\",\"30 x 50 = <br>1500\"],\"width\":[10.0,20.0,20.0,50.0],\"offset\":0.0,\"name\":\"North\",\"textangle\":0,\"textposition\":\"inside\"},{\"type\":\"bar\",\"x\":[0.0,10.0,30.0,50.0],\"y\":[50.0,80.0,60.0,70.0],\"marker\":{\"line\":{\"color\":\"white\",\"width\":0.5}},\"text\":[\"50 x 10 = <br>500\",\"80 x 20 = <br>1600\",\"60 x 20 = <br>1200\",\"70 x 50 = <br>3500\"],\"width\":[10.0,20.0,20.0,50.0],\"offset\":0.0,\"name\":\"South\",\"textangle\":0,\"textposition\":\"inside\"}];\n",
       "            var layout = {\"barmode\":\"stack\",\"xaxis\":{\"tickvals\":[5.0,20.0,40.0,75.0],\"ticktext\":[\"apples <br> 10\",\"oranges <br> 20\",\"pears <br> 20\",\"bananas <br> 50\"],\"showgrid\":true},\"width\":1100.0,\"height\":700.0};\n",
       "            var config = {};\n",
       "            Plotly.newPlot('7912d1c9-4191-4e59-9875-85f132f01526', data, layout, config);\r\n",
       "});\n",
       "            };\n",
       "            if ((typeof(requirejs) !==  typeof(Function)) || (typeof(requirejs.config) !== typeof(Function))) {\n",
       "                var script = document.createElement(\"script\");\n",
       "                script.setAttribute(\"src\", \"https://cdnjs.cloudflare.com/ajax/libs/require.js/2.3.6/require.min.js\");\n",
       "                script.onload = function(){\n",
       "                    renderPlotly_7912d1c941914e59987585f132f01526();\n",
       "                };\n",
       "                document.getElementsByTagName(\"head\")[0].appendChild(script);\n",
       "            }\n",
       "            else {\n",
       "                renderPlotly_7912d1c941914e59987585f132f01526();\n",
       "            }\r\n",
       "</script>\r\n"
      ]
     },
     "metadata": {},
     "output_type": "display_data"
    }
   ],
   "metadata": {
    "dotnet_interactive": {
     "language": "fsharp"
    }
   }
  },
  {
   "cell_type": "markdown",
   "source": [
    "# Customizing Individual Bar Base"
   ],
   "metadata": {}
  },
  {
   "cell_type": "code",
   "execution_count": null,
   "source": [
    "open Plotly.NET\r\n",
    "\r\n",
    "let years = [ \"2016\"; \"2017\"; \"2018\" ]\r\n",
    "\r\n",
    "[\r\n",
    "    Chart.Column(years, [500; 600; 700], Name=\"expenses\", Marker=Marker.init(Color=\"crimson\"))\r\n",
    "        |> GenericChart.mapTrace(fun t-> \r\n",
    "                        t.SetValue(\"base\",[-500;-600;-700])// workaround\r\n",
    "                        t) \r\n",
    "\r\n",
    "    ;Chart.Column(years, [300; 400; 700], Name=\"revenue\", Marker=Marker.init(Color=\"lightslategrey\"))\r\n",
    "         |> GenericChart.mapTrace(fun t-> \r\n",
    "                            t.SetValue(\"base\",0)\r\n",
    "                            t)  // workaround\r\n",
    "]\r\n",
    "|> Chart.combine"
   ],
   "outputs": [
    {
     "data": {
      "text/html": [
       "<div id=\"f389f5de-ab0c-44fd-992b-9d9b3dea34cf\" style=\"width: 600px; height: 600px;\"><!-- Plotly chart will be drawn inside this DIV --></div>\r\n",
       "<script type=\"text/javascript\">\r\n",
       "\n",
       "            var renderPlotly_f389f5deab0c44fd992b9d9b3dea34cf = function() {\n",
       "            var fsharpPlotlyRequire = requirejs.config({context:'fsharp-plotly',paths:{plotly:'https://cdn.plot.ly/plotly-latest.min'}}) || require;\n",
       "            fsharpPlotlyRequire(['plotly'], function(Plotly) {\r\n",
       "\n",
       "            var data = [{\"type\":\"bar\",\"x\":[\"2016\",\"2017\",\"2018\"],\"y\":[500,600,700],\"marker\":{\"color\":\"crimson\"},\"name\":\"expenses\",\"base\":[-500,-600,-700]},{\"type\":\"bar\",\"x\":[\"2016\",\"2017\",\"2018\"],\"y\":[300,400,700],\"marker\":{\"color\":\"lightslategrey\"},\"name\":\"revenue\",\"base\":0}];\n",
       "            var layout = {};\n",
       "            var config = {};\n",
       "            Plotly.newPlot('f389f5de-ab0c-44fd-992b-9d9b3dea34cf', data, layout, config);\r\n",
       "});\n",
       "            };\n",
       "            if ((typeof(requirejs) !==  typeof(Function)) || (typeof(requirejs.config) !== typeof(Function))) {\n",
       "                var script = document.createElement(\"script\");\n",
       "                script.setAttribute(\"src\", \"https://cdnjs.cloudflare.com/ajax/libs/require.js/2.3.6/require.min.js\");\n",
       "                script.onload = function(){\n",
       "                    renderPlotly_f389f5deab0c44fd992b9d9b3dea34cf();\n",
       "                };\n",
       "                document.getElementsByTagName(\"head\")[0].appendChild(script);\n",
       "            }\n",
       "            else {\n",
       "                renderPlotly_f389f5deab0c44fd992b9d9b3dea34cf();\n",
       "            }\r\n",
       "</script>\r\n"
      ]
     },
     "metadata": {},
     "output_type": "display_data"
    }
   ],
   "metadata": {
    "dotnet_interactive": {
     "language": "fsharp"
    }
   }
  },
  {
   "cell_type": "markdown",
   "source": [
    "# Bar Chart with Relative Barmode"
   ],
   "metadata": {}
  },
  {
   "cell_type": "markdown",
   "source": [
    "With \"relative\" barmode, the bars are stacked on top of one another, with negative values below the axis, positive values above."
   ],
   "metadata": {}
  },
  {
   "cell_type": "code",
   "execution_count": null,
   "source": [
    "open Plotly.NET\r\n",
    "\r\n",
    "let x = [1; 2; 3; 4]\r\n",
    "\r\n",
    "let layout = \r\n",
    "    let obj = Layout()\r\n",
    "    obj?barmode <- \"relative\"// wordaround\r\n",
    "    obj?title_text <- \"Relative Barmode\"// wordaround\r\n",
    "    obj\r\n",
    "\r\n",
    "[\r\n",
    "    Chart.Column(keys=x, values= [1.; 4.; 9.; 16.])\r\n",
    "    Chart.Column(keys=x, values= [6.; -8.; -4.5; 8.])\r\n",
    "    Chart.Column(keys=x, values= [-15.; -3.; 4.5; -8.])\r\n",
    "    Chart.Column(keys=x, values= [-1.; 3.; -3.; -4.])\r\n",
    "]\r\n",
    "|> Chart.combine\r\n",
    "|> Chart.withLayout(layout)"
   ],
   "outputs": [
    {
     "data": {
      "text/html": [
       "<div id=\"14f06de8-3fea-4a2d-81da-379cad7f1336\" style=\"width: 600px; height: 600px;\"><!-- Plotly chart will be drawn inside this DIV --></div>\r\n",
       "<script type=\"text/javascript\">\r\n",
       "\n",
       "            var renderPlotly_14f06de83fea4a2d81da379cad7f1336 = function() {\n",
       "            var fsharpPlotlyRequire = requirejs.config({context:'fsharp-plotly',paths:{plotly:'https://cdn.plot.ly/plotly-latest.min'}}) || require;\n",
       "            fsharpPlotlyRequire(['plotly'], function(Plotly) {\r\n",
       "\n",
       "            var data = [{\"type\":\"bar\",\"x\":[1,2,3,4],\"y\":[1.0,4.0,9.0,16.0],\"marker\":{}},{\"type\":\"bar\",\"x\":[1,2,3,4],\"y\":[6.0,-8.0,-4.5,8.0],\"marker\":{}},{\"type\":\"bar\",\"x\":[1,2,3,4],\"y\":[-15.0,-3.0,4.5,-8.0],\"marker\":{}},{\"type\":\"bar\",\"x\":[1,2,3,4],\"y\":[-1.0,3.0,-3.0,-4.0],\"marker\":{}}];\n",
       "            var layout = {\"barmode\":\"relative\",\"title_text\":\"Relative Barmode\"};\n",
       "            var config = {};\n",
       "            Plotly.newPlot('14f06de8-3fea-4a2d-81da-379cad7f1336', data, layout, config);\r\n",
       "});\n",
       "            };\n",
       "            if ((typeof(requirejs) !==  typeof(Function)) || (typeof(requirejs.config) !== typeof(Function))) {\n",
       "                var script = document.createElement(\"script\");\n",
       "                script.setAttribute(\"src\", \"https://cdnjs.cloudflare.com/ajax/libs/require.js/2.3.6/require.min.js\");\n",
       "                script.onload = function(){\n",
       "                    renderPlotly_14f06de83fea4a2d81da379cad7f1336();\n",
       "                };\n",
       "                document.getElementsByTagName(\"head\")[0].appendChild(script);\n",
       "            }\n",
       "            else {\n",
       "                renderPlotly_14f06de83fea4a2d81da379cad7f1336();\n",
       "            }\r\n",
       "</script>\r\n"
      ]
     },
     "metadata": {},
     "output_type": "display_data"
    }
   ],
   "metadata": {
    "dotnet_interactive": {
     "language": "fsharp"
    }
   }
  },
  {
   "cell_type": "markdown",
   "source": [
    "# Bar Chart with Sorted or Ordered Categories"
   ],
   "metadata": {}
  },
  {
   "cell_type": "markdown",
   "source": [
    "Set CategoryOrder to CategoryOrder.CategoryAscending or CategoryDescending for the alphanumerical order of the category names or TotalAscending or TotalDescending for numerical order of values. CategoryOrder for more information. Note that sorting the bars by a particular trace isn\"t possible right now - it\"s only possible to sort by the total values. Of course, you can always sort your data before plotting it if you need more customization.\r\n",
    "\r\n",
    "This example orders the bar chart alphabetically with CategoryOrder= StyleParam.CategoryOrder.CategoryAscending"
   ],
   "metadata": {}
  },
  {
   "cell_type": "code",
   "execution_count": null,
   "source": [
    "open Plotly.NET\r\n",
    "open Plotly.NET.Axis\r\n",
    "\r\n",
    "let x = ['b'; 'a'; 'c'; 'd']\r\n",
    "\r\n",
    "[\r\n",
    "    Chart.Column(x, [2.;5.;1.;9.], Name = \"Montreal\")\r\n",
    "    Chart.Column(x, [1.;4.;9.;16.], Name = \"Ottawa\")\r\n",
    "    Chart.Column(x, [6.;8.;4.5;8.], Name = \"Toronto\")\r\n",
    "]\r\n",
    "|> Chart.combine\r\n",
    "|> Chart.withLayout(Layout.init(Barmode=StyleParam.Barmode.Stack))\r\n",
    "|> Chart.withXAxis(LinearAxis.init(CategoryOrder=StyleParam.CategoryOrder.CategoryAscending))"
   ],
   "outputs": [
    {
     "data": {
      "text/html": [
       "<div id=\"9b810b91-ce63-4819-a94e-58fc4f035cbd\" style=\"width: 600px; height: 600px;\"><!-- Plotly chart will be drawn inside this DIV --></div>\r\n",
       "<script type=\"text/javascript\">\r\n",
       "\n",
       "            var renderPlotly_9b810b91ce634819a94e58fc4f035cbd = function() {\n",
       "            var fsharpPlotlyRequire = requirejs.config({context:'fsharp-plotly',paths:{plotly:'https://cdn.plot.ly/plotly-latest.min'}}) || require;\n",
       "            fsharpPlotlyRequire(['plotly'], function(Plotly) {\r\n",
       "\n",
       "            var data = [{\"type\":\"bar\",\"x\":[\"b\",\"a\",\"c\",\"d\"],\"y\":[2.0,5.0,1.0,9.0],\"marker\":{},\"name\":\"Montreal\"},{\"type\":\"bar\",\"x\":[\"b\",\"a\",\"c\",\"d\"],\"y\":[1.0,4.0,9.0,16.0],\"marker\":{},\"name\":\"Ottawa\"},{\"type\":\"bar\",\"x\":[\"b\",\"a\",\"c\",\"d\"],\"y\":[6.0,8.0,4.5,8.0],\"marker\":{},\"name\":\"Toronto\"}];\n",
       "            var layout = {\"barmode\":\"stack\",\"xaxis\":{\"categoryorder\":\"category ascending\"}};\n",
       "            var config = {};\n",
       "            Plotly.newPlot('9b810b91-ce63-4819-a94e-58fc4f035cbd', data, layout, config);\r\n",
       "});\n",
       "            };\n",
       "            if ((typeof(requirejs) !==  typeof(Function)) || (typeof(requirejs.config) !== typeof(Function))) {\n",
       "                var script = document.createElement(\"script\");\n",
       "                script.setAttribute(\"src\", \"https://cdnjs.cloudflare.com/ajax/libs/require.js/2.3.6/require.min.js\");\n",
       "                script.onload = function(){\n",
       "                    renderPlotly_9b810b91ce634819a94e58fc4f035cbd();\n",
       "                };\n",
       "                document.getElementsByTagName(\"head\")[0].appendChild(script);\n",
       "            }\n",
       "            else {\n",
       "                renderPlotly_9b810b91ce634819a94e58fc4f035cbd();\n",
       "            }\r\n",
       "</script>\r\n"
      ]
     },
     "metadata": {},
     "output_type": "display_data"
    }
   ],
   "metadata": {
    "dotnet_interactive": {
     "language": "fsharp"
    }
   }
  },
  {
   "cell_type": "markdown",
   "source": [
    "This example shows how to customise sort ordering by defining CategoryOrder to StyleParam.CategoryOrder.Array to derive the ordering from the attribute CategoryArray."
   ],
   "metadata": {}
  },
  {
   "cell_type": "code",
   "execution_count": null,
   "source": [
    "open Plotly.NET\r\n",
    "\r\n",
    "let x = ['b'; 'a'; 'c'; 'd']\r\n",
    "\r\n",
    "[\r\n",
    "    Chart.Column(x, [2.;5.;1.;9.], Name = \"Montreal\")\r\n",
    "    Chart.Column(x, [1.;4.;9.;16.], Name = \"Ottawa\")\r\n",
    "    Chart.Column(x, [6.;8.;4.5;8.], Name = \"Toronto\")\r\n",
    "]\r\n",
    "|> Chart.combine\r\n",
    "|> Chart.withLayout(Layout.init(Barmode=StyleParam.Barmode.Stack))\r\n",
    "|> Chart.withXAxis(LinearAxis.init(CategoryOrder=StyleParam.CategoryOrder.Array,CategoryArray=['d';'a';'c';'b']))"
   ],
   "outputs": [
    {
     "data": {
      "text/html": [
       "<div id=\"810ab53d-ba95-4488-94c3-fa193e188cf7\" style=\"width: 600px; height: 600px;\"><!-- Plotly chart will be drawn inside this DIV --></div>\r\n",
       "<script type=\"text/javascript\">\r\n",
       "\n",
       "            var renderPlotly_810ab53dba95448894c3fa193e188cf7 = function() {\n",
       "            var fsharpPlotlyRequire = requirejs.config({context:'fsharp-plotly',paths:{plotly:'https://cdn.plot.ly/plotly-latest.min'}}) || require;\n",
       "            fsharpPlotlyRequire(['plotly'], function(Plotly) {\r\n",
       "\n",
       "            var data = [{\"type\":\"bar\",\"x\":[\"b\",\"a\",\"c\",\"d\"],\"y\":[2.0,5.0,1.0,9.0],\"marker\":{},\"name\":\"Montreal\"},{\"type\":\"bar\",\"x\":[\"b\",\"a\",\"c\",\"d\"],\"y\":[1.0,4.0,9.0,16.0],\"marker\":{},\"name\":\"Ottawa\"},{\"type\":\"bar\",\"x\":[\"b\",\"a\",\"c\",\"d\"],\"y\":[6.0,8.0,4.5,8.0],\"marker\":{},\"name\":\"Toronto\"}];\n",
       "            var layout = {\"barmode\":\"stack\",\"xaxis\":{\"categoryorder\":\"array\",\"categoryarray\":[\"d\",\"a\",\"c\",\"b\"]}};\n",
       "            var config = {};\n",
       "            Plotly.newPlot('810ab53d-ba95-4488-94c3-fa193e188cf7', data, layout, config);\r\n",
       "});\n",
       "            };\n",
       "            if ((typeof(requirejs) !==  typeof(Function)) || (typeof(requirejs.config) !== typeof(Function))) {\n",
       "                var script = document.createElement(\"script\");\n",
       "                script.setAttribute(\"src\", \"https://cdnjs.cloudflare.com/ajax/libs/require.js/2.3.6/require.min.js\");\n",
       "                script.onload = function(){\n",
       "                    renderPlotly_810ab53dba95448894c3fa193e188cf7();\n",
       "                };\n",
       "                document.getElementsByTagName(\"head\")[0].appendChild(script);\n",
       "            }\n",
       "            else {\n",
       "                renderPlotly_810ab53dba95448894c3fa193e188cf7();\n",
       "            }\r\n",
       "</script>\r\n"
      ]
     },
     "metadata": {},
     "output_type": "display_data"
    }
   ],
   "metadata": {
    "dotnet_interactive": {
     "language": "fsharp"
    }
   }
  },
  {
   "cell_type": "markdown",
   "source": [
    "This example orders the bar chart by descending value with CategoryOrder=StyleParam.CategoryOrder.TotalDescending"
   ],
   "metadata": {}
  },
  {
   "cell_type": "code",
   "execution_count": null,
   "source": [
    "open Plotly.NET\r\n",
    "\r\n",
    "let x = ['b'; 'a'; 'c'; 'd']\r\n",
    "\r\n",
    "[\r\n",
    "    Chart.Column(x, [2.;5.;1.;9.], Name = \"Montreal\")\r\n",
    "    Chart.Column(x, [1.;4.;9.;16.], Name = \"Ottawa\")\r\n",
    "    Chart.Column(x, [6.;8.;4.5;8.], Name = \"Toronto\")\r\n",
    "]\r\n",
    "|> Chart.combine\r\n",
    "|> Chart.withLayout(Layout.init(Barmode=StyleParam.Barmode.Stack))\r\n",
    "|> Chart.withXAxis(LinearAxis.init(CategoryOrder=StyleParam.CategoryOrder.TotalDescending))"
   ],
   "outputs": [
    {
     "data": {
      "text/html": [
       "<div id=\"9d6f5400-1bf9-4734-abdd-58b3f5d9f33c\" style=\"width: 600px; height: 600px;\"><!-- Plotly chart will be drawn inside this DIV --></div>\r\n",
       "<script type=\"text/javascript\">\r\n",
       "\n",
       "            var renderPlotly_9d6f54001bf94734abdd58b3f5d9f33c = function() {\n",
       "            var fsharpPlotlyRequire = requirejs.config({context:'fsharp-plotly',paths:{plotly:'https://cdn.plot.ly/plotly-latest.min'}}) || require;\n",
       "            fsharpPlotlyRequire(['plotly'], function(Plotly) {\r\n",
       "\n",
       "            var data = [{\"type\":\"bar\",\"x\":[\"b\",\"a\",\"c\",\"d\"],\"y\":[2.0,5.0,1.0,9.0],\"marker\":{},\"name\":\"Montreal\"},{\"type\":\"bar\",\"x\":[\"b\",\"a\",\"c\",\"d\"],\"y\":[1.0,4.0,9.0,16.0],\"marker\":{},\"name\":\"Ottawa\"},{\"type\":\"bar\",\"x\":[\"b\",\"a\",\"c\",\"d\"],\"y\":[6.0,8.0,4.5,8.0],\"marker\":{},\"name\":\"Toronto\"}];\n",
       "            var layout = {\"barmode\":\"stack\",\"xaxis\":{\"categoryorder\":\"total descending\"}};\n",
       "            var config = {};\n",
       "            Plotly.newPlot('9d6f5400-1bf9-4734-abdd-58b3f5d9f33c', data, layout, config);\r\n",
       "});\n",
       "            };\n",
       "            if ((typeof(requirejs) !==  typeof(Function)) || (typeof(requirejs.config) !== typeof(Function))) {\n",
       "                var script = document.createElement(\"script\");\n",
       "                script.setAttribute(\"src\", \"https://cdnjs.cloudflare.com/ajax/libs/require.js/2.3.6/require.min.js\");\n",
       "                script.onload = function(){\n",
       "                    renderPlotly_9d6f54001bf94734abdd58b3f5d9f33c();\n",
       "                };\n",
       "                document.getElementsByTagName(\"head\")[0].appendChild(script);\n",
       "            }\n",
       "            else {\n",
       "                renderPlotly_9d6f54001bf94734abdd58b3f5d9f33c();\n",
       "            }\r\n",
       "</script>\r\n"
      ]
     },
     "metadata": {},
     "output_type": "display_data"
    }
   ],
   "metadata": {
    "dotnet_interactive": {
     "language": "fsharp"
    }
   }
  },
  {
   "cell_type": "markdown",
   "source": [
    "# Horizontal Bar Charts\r\n",
    "\r\n",
    "See examples of horizontal bar charts here.\r\n",
    "\r\n",
    "# Bar Charts With Multicategory Axis Type\r\n",
    "\r\n",
    "If your plots have arrays for x or y, then the axis type is automatically inferred to be multicategory."
   ],
   "metadata": {}
  },
  {
   "cell_type": "code",
   "execution_count": null,
   "source": [
    "open Plotly.NET\r\n",
    "\r\n",
    "let x :Object list = [[\"BB+\"; \"BB+\"; \"BB+\"; \"BB\"; \"BB\"; \"BB\"];[16; 17; 18; 16; 17; 18;]]\r\n",
    "\r\n",
    "[\r\n",
    "    Chart.Column(keys=[], values = [1;2;3;4;5;6])\r\n",
    "    Chart.Column(keys=[], values = [6;5;4;3;2;1])\r\n",
    "] \r\n",
    "|> Chart.combine \r\n",
    "// |> Chart.withX_Axis(Axis.LinearAxis.init(Tickvals = [\"BB+\"; \"BB+\"; \"BB+\"; \"BB\"; \"BB\"; \"BB\"]))\r\n",
    "|> GenericChart.mapTrace(fun t-> \r\n",
    "                                t?x<-x // workaround\r\n",
    "                                t) \r\n",
    "|> Chart.withLayout( Layout.init(Barmode = StyleParam.Barmode.Stack))"
   ],
   "outputs": [
    {
     "data": {
      "text/html": [
       "<div id=\"1fb3db7c-72a7-49e5-9173-64e40c61f513\" style=\"width: 600px; height: 600px;\"><!-- Plotly chart will be drawn inside this DIV --></div>\r\n",
       "<script type=\"text/javascript\">\r\n",
       "\n",
       "            var renderPlotly_1fb3db7c72a749e5917364e40c61f513 = function() {\n",
       "            var fsharpPlotlyRequire = requirejs.config({context:'fsharp-plotly',paths:{plotly:'https://cdn.plot.ly/plotly-latest.min'}}) || require;\n",
       "            fsharpPlotlyRequire(['plotly'], function(Plotly) {\r\n",
       "\n",
       "            var data = [{\"type\":\"bar\",\"x\":[[\"BB+\",\"BB+\",\"BB+\",\"BB\",\"BB\",\"BB\"],[16,17,18,16,17,18]],\"y\":[1,2,3,4,5,6],\"marker\":{}},{\"type\":\"bar\",\"x\":[[\"BB+\",\"BB+\",\"BB+\",\"BB\",\"BB\",\"BB\"],[16,17,18,16,17,18]],\"y\":[6,5,4,3,2,1],\"marker\":{}}];\n",
       "            var layout = {\"barmode\":\"stack\"};\n",
       "            var config = {};\n",
       "            Plotly.newPlot('1fb3db7c-72a7-49e5-9173-64e40c61f513', data, layout, config);\r\n",
       "});\n",
       "            };\n",
       "            if ((typeof(requirejs) !==  typeof(Function)) || (typeof(requirejs.config) !== typeof(Function))) {\n",
       "                var script = document.createElement(\"script\");\n",
       "                script.setAttribute(\"src\", \"https://cdnjs.cloudflare.com/ajax/libs/require.js/2.3.6/require.min.js\");\n",
       "                script.onload = function(){\n",
       "                    renderPlotly_1fb3db7c72a749e5917364e40c61f513();\n",
       "                };\n",
       "                document.getElementsByTagName(\"head\")[0].appendChild(script);\n",
       "            }\n",
       "            else {\n",
       "                renderPlotly_1fb3db7c72a749e5917364e40c61f513();\n",
       "            }\r\n",
       "</script>\r\n"
      ]
     },
     "metadata": {},
     "output_type": "display_data"
    }
   ],
   "metadata": {
    "dotnet_interactive": {
     "language": "fsharp"
    }
   }
  }
 ],
 "metadata": {
  "kernelspec": {
   "display_name": ".NET (C#)",
   "language": "C#",
   "name": ".net-csharp"
  },
  "language_info": {
   "file_extension": ".cs",
   "mimetype": "text/x-csharp",
   "name": "C#",
   "pygments_lexer": "csharp",
   "version": "9.0"
  },
  "orig_nbformat": 4
 },
 "nbformat": 4,
 "nbformat_minor": 2
}