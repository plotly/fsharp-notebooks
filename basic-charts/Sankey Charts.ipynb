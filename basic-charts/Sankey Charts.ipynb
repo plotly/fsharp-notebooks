{
 "cells": [
  {
   "cell_type": "markdown",
   "source": [
    "# Basic Sankey Diagram"
   ],
   "metadata": {}
  },
  {
   "cell_type": "code",
   "execution_count": null,
   "source": [
    "#r \"nuget: Plotly.NET,*-*\"\r\n",
    "#r \"nuget: Plotly.NET.Interactive,*-*\"\r\n",
    "#r \"nuget: FSharp.Data\""
   ],
   "outputs": [
    {
     "output_type": "display_data",
     "data": {
      "text/html": ""
     },
     "metadata": {}
    },
    {
     "output_type": "display_data",
     "data": {
      "text/markdown": ""
     },
     "metadata": {}
    },
    {
     "output_type": "display_data",
     "data": {
      "text/markdown": ""
     },
     "metadata": {}
    }
   ],
   "metadata": {
    "dotnet_interactive": {
     "language": "fsharp"
    }
   }
  },
  {
   "cell_type": "code",
   "execution_count": null,
   "source": [
    "\r\n",
    "open Plotly.NET\r\n",
    "\r\n",
    "let nodes = [|\r\n",
    " Node.Create(\"A1\")\r\n",
    " Node.Create(\"A2\")\r\n",
    " Node.Create(\"B1\")\r\n",
    " Node.Create(\"B2\")\r\n",
    " Node.Create(\"C1\")\r\n",
    " Node.Create(\"C2\")\r\n",
    "|]\r\n",
    "\r\n",
    "Chart.Sankey(\r\n",
    "    nodePadding = 15.,    \r\n",
    "    nodeColor = \"blue\",\r\n",
    "    nodeThickness = 20.0,\r\n",
    "    nodeLineWidth = 0.5,\r\n",
    "    nodes = (nodes |> Seq.ofArray),\r\n",
    "    links = [\r\n",
    "        Link.Create(src = nodes.[0], tgt = nodes.[2], value = 8.)\r\n",
    "        Link.Create(src = nodes.[1], tgt = nodes.[3], value = 4.)\r\n",
    "        Link.Create(src = nodes.[0], tgt = nodes.[3], value = 3.)\r\n",
    "        Link.Create(src = nodes.[2], tgt = nodes.[4], value = 8.)\r\n",
    "        Link.Create(src = nodes.[3], tgt = nodes.[4], value = 4.)\r\n",
    "        Link.Create(src = nodes.[3], tgt = nodes.[5], value = 2.)\r\n",
    "])\r\n",
    "|> Chart.withLayout(Layout.init(Title = Title.init(\"Basic Sankey Diagram\"), Font = Font.init(Size = 10.)))"
   ],
   "outputs": [
    {
     "output_type": "display_data",
     "data": {
      "text/html": ""
     },
     "metadata": {}
    }
   ],
   "metadata": {
    "dotnet_interactive": {
     "language": "fsharp"
    }
   }
  },
  {
   "cell_type": "markdown",
   "source": [
    "# More complex Sankey diagram with colored links"
   ],
   "metadata": {}
  },
  {
   "cell_type": "code",
   "execution_count": null,
   "source": [
    "\r\n",
    "open FSharp.Data\r\n",
    "\r\n",
    "type remoteData = JsonProvider<\"https://raw.githubusercontent.com/plotly/plotly.js/master/test/image/mocks/sankey_energy.json\">\r\n",
    "let data = remoteData.Load(\"https://raw.githubusercontent.com/plotly/plotly.js/master/test/image/mocks/sankey_energy.json\")\r\n",
    "\r\n",
    "let node = data.Data.[0].Node\r\n",
    "let node_labels = data.Data.[0].Node.Label\r\n",
    "let node_color = data.Data.[0].Node.Color\r\n",
    "let source = data.Data.[0].Link.Source\r\n",
    "let target = data.Data.[0].Link.Target\r\n",
    "let values = data.Data.[0].Link.Value\r\n",
    "\r\n",
    "let nodes = [for i in 0..node_labels.Length-1 -> Node.Create(label=node_labels.[i],color=node_color.[i])]\r\n",
    "let links = [for i in 0..source.Length-1 -> Link.Create(src=nodes.[source.[i]],tgt=nodes.[target.[i]],value=float values.[i])]\r\n",
    "\r\n",
    "let title = \"Energy forecast for 2050<br>Source: Department of Energy & Climate Change, Tom Counsell via <a href='https://bost.ocks.org/mike/sankey/'>Mike Bostock</a>\"\r\n",
    "Chart.Sankey(nodes=nodes,links=links,\r\n",
    "    nodePadding=float node.Pad,\r\n",
    "    nodeThickness=float node.Thickness\r\n",
    "    )\r\n",
    "// |> GenericChart.mapTrace (fun x ->  x.SetValue(\"valueformat\", \".0f\")\r\n",
    "//                                     x.SetValue(\"valuesuffix\", \".TWh\")\r\n",
    "//                                     x)\r\n",
    "|> Chart.withLayout(Layout.init(Width = 1000., Font = Font.init(Size = 10.), Title = Title.init(title)))"
   ],
   "outputs": [
    {
     "output_type": "display_data",
     "data": {
      "text/html": ""
     },
     "metadata": {}
    }
   ],
   "metadata": {
    "dotnet_interactive": {
     "language": "fsharp"
    }
   }
  },
  {
   "cell_type": "markdown",
   "source": [
    "# Style Sankey Diagram"
   ],
   "metadata": {}
  },
  {
   "cell_type": "code",
   "execution_count": null,
   "source": [
    "open FSharp.Data\r\n",
    "\r\n",
    "type remoteData = JsonProvider<\"https://raw.githubusercontent.com/plotly/plotly.js/master/test/image/mocks/sankey_energy.json\">\r\n",
    "let data = remoteData.Load(\"https://raw.githubusercontent.com/plotly/plotly.js/master/test/image/mocks/sankey_energy.json\")\r\n",
    "\r\n",
    "let node = data.Data.[0].Node\r\n",
    "let node_labels = data.Data.[0].Node.Label\r\n",
    "let node_color = data.Data.[0].Node.Color\r\n",
    "let source = data.Data.[0].Link.Source\r\n",
    "let target = data.Data.[0].Link.Target\r\n",
    "let values = data.Data.[0].Link.Value\r\n",
    "\r\n",
    "let nodes = [for i in 0..node_labels.Length-1 -> Node.Create(label=node_labels.[i],color=node_color.[i])]\r\n",
    "let links = [for i in 0..source.Length-1 -> Link.Create(src=nodes.[source.[i]],tgt=nodes.[target.[i]],value=float values.[i])]\r\n",
    "\r\n",
    "let title = \"Energy forecast for 2050<br>Source: Department of Energy & Climate Change, Tom Counsell via <a href='https://bost.ocks.org/mike/sankey/'>Mike Bostock</a>\"\r\n",
    "Chart.Sankey(nodes=nodes,links=links,\r\n",
    "    nodePadding=float node.Pad,\r\n",
    "    nodeThickness=float node.Thickness\r\n",
    "    )\r\n",
    "// |> GenericChart.mapTrace (fun x ->  x.SetValue(\"valueformat\", \".0f\")\r\n",
    "//                                     x.SetValue(\"valuesuffix\", \".TWh\")\r\n",
    "//                                     x)\r\n",
    "|> Chart.withLayout(Layout.init(Width = 1000., Font = Font.init(Size = 10.,Color=\"white\"), Title = Title.init(title),Plot_bgcolor=\"gray\",Paper_bgcolor=\"gray\",Hovermode=StyleParam.HoverMode.X))"
   ],
   "outputs": [
    {
     "output_type": "display_data",
     "data": {
      "text/html": ""
     },
     "metadata": {}
    }
   ],
   "metadata": {
    "dotnet_interactive": {
     "language": "fsharp"
    }
   }
  },
  {
   "cell_type": "markdown",
   "source": [
    "# Define Node Position"
   ],
   "metadata": {}
  }
 ],
 "metadata": {
  "orig_nbformat": 4,
  "language_info": {
   "file_extension": ".cs",
   "mimetype": "text/x-csharp",
   "name": "C#",
   "pygments_lexer": "csharp",
   "version": "9.0"
  },
  "kernelspec": {
   "display_name": ".NET (C#)",
   "language": "C#",
   "name": ".net-csharp"
  }
 },
 "nbformat": 4,
 "nbformat_minor": 2
}