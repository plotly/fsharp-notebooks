{
 "cells": [
  {
   "cell_type": "markdown",
   "source": [
    "## Basic Sankey Diagram"
   ],
   "metadata": {}
  },
  {
   "cell_type": "markdown",
   "source": [
    "## Basic Sankey Diagram"
   ],
   "metadata": {}
  },
  {
   "cell_type": "code",
   "execution_count": null,
   "source": [
    "#r \"nuget: Plotly.NET, 2.0.0-preview.6\"\r\n",
    "#r \"nuget: Plotly.NET.Interactive, 2.0.0-preview.6\"\r\n",
    "open Plotly.NET\r\n",
    "\r\n",
    "let nodes = [|\r\n",
    " Node.Create(\"A1\")\r\n",
    " Node.Create(\"A2\")\r\n",
    " Node.Create(\"B1\")\r\n",
    " Node.Create(\"B2\")\r\n",
    " Node.Create(\"C1\")\r\n",
    " Node.Create(\"C2\")\r\n",
    "|]\r\n",
    "\r\n",
    "Chart.Sankey(\r\n",
    "    nodeColor = \"blue\",\r\n",
    "    nodePadding = 15.,\r\n",
    "    nodeThicknes = 20.,\r\n",
    "    nodeLineColor = \"black\",\r\n",
    "    nodeLineWidth = 0.5,\r\n",
    "    nodes = (nodes |> Seq.ofArray),\r\n",
    "    links = [\r\n",
    "        Link.Create(src = nodes.[0], tgt = nodes.[2], value = 8.)\r\n",
    "        Link.Create(src = nodes.[1], tgt = nodes.[3], value = 4.)\r\n",
    "        Link.Create(src = nodes.[0], tgt = nodes.[3], value = 3.)\r\n",
    "        Link.Create(src = nodes.[2], tgt = nodes.[4], value = 8.)\r\n",
    "        Link.Create(src = nodes.[3], tgt = nodes.[4], value = 4.)\r\n",
    "        Link.Create(src = nodes.[3], tgt = nodes.[5], value = 2.)\r\n",
    "])\r\n",
    "|> Chart.withLayout(Layout.init(Title = \"Basic Sankey Diagram\", Font = Font.init(Size = 10.)))"
   ],
   "outputs": [
    {
     "output_type": "display_data",
     "data": {
      "text/html": [
       "<div><div></div><div></div><div><strong>Installed Packages</strong><ul><li><span>Plotly.NET, 2.0.0-preview.6</span></li><li><span>Plotly.NET.Interactive, 2.0.0-preview.6</span></li></ul></div></div>"
      ]
     },
     "metadata": {}
    },
    {
     "output_type": "display_data",
     "data": {
      "text/markdown": [
       "Loading extensions from `Plotly.NET.Interactive.dll`"
      ]
     },
     "metadata": {}
    },
    {
     "output_type": "display_data",
     "data": {
      "text/markdown": [
       "Added Kernel Extension including formatters for Plotly.NET charts."
      ]
     },
     "metadata": {}
    },
    {
     "output_type": "display_data",
     "data": {
      "text/html": [
       "<div id=\"0fc65e21-2d4f-4f9f-9085-abc83c2ff5c7\" style=\"width: 600px; height: 600px;\"><!-- Plotly chart will be drawn inside this DIV --></div>\r\n",
       "<script type=\"text/javascript\">\r\n",
       "\n",
       "            var renderPlotly_0fc65e212d4f4f9f9085abc83c2ff5c7 = function() {\n",
       "            var fsharpPlotlyRequire = requirejs.config({context:'fsharp-plotly',paths:{plotly:'https://cdn.plot.ly/plotly-latest.min'}}) || require;\n",
       "            fsharpPlotlyRequire(['plotly'], function(Plotly) {\r\n",
       "\n",
       "            var data = [{\"type\":\"sankey\",\"node\":{\"label\":[\"A1\",\"A2\",\"B1\",\"B2\",\"C1\",\"C2\"],\"pad\":15.0,\"thickness\":20.0,\"color\":[\"blue\",\"blue\",\"blue\",\"blue\",\"blue\",\"blue\"],\"line\":{\"color\":[\"black\",\"black\",\"black\",\"black\",\"black\",\"black\"]}},\"link\":{\"source\":[0,1,0,2,3,3],\"target\":[2,3,3,4,4,5],\"value\":[8.0,4.0,3.0,8.0,4.0,2.0]}}];\n",
       "            var layout = {\"title\":\"Basic Sankey Diagram\",\"font\":{\"size\":10.0}};\n",
       "            var config = {};\n",
       "            Plotly.newPlot('0fc65e21-2d4f-4f9f-9085-abc83c2ff5c7', data, layout, config);\r\n",
       "});\n",
       "            };\n",
       "            if ((typeof(requirejs) !==  typeof(Function)) || (typeof(requirejs.config) !== typeof(Function))) {\n",
       "                var script = document.createElement(\"script\");\n",
       "                script.setAttribute(\"src\", \"https://cdnjs.cloudflare.com/ajax/libs/require.js/2.3.6/require.min.js\");\n",
       "                script.onload = function(){\n",
       "                    renderPlotly_0fc65e212d4f4f9f9085abc83c2ff5c7();\n",
       "                };\n",
       "                document.getElementsByTagName(\"head\")[0].appendChild(script);\n",
       "            }\n",
       "            else {\n",
       "                renderPlotly_0fc65e212d4f4f9f9085abc83c2ff5c7();\n",
       "            }\r\n",
       "</script>\r\n"
      ]
     },
     "metadata": {}
    }
   ],
   "metadata": {
    "dotnet_interactive": {
     "language": "fsharp"
    }
   }
  },
  {
   "cell_type": "markdown",
   "source": [
    "## More complex Sankey diagram with colored links"
   ],
   "metadata": {}
  },
  {
   "cell_type": "code",
   "execution_count": null,
   "source": [
    "#r \"nuget: FSharp.Data\"\r\n",
    "open FSharp.Data\r\n",
    "\r\n",
    "type remoteData = JsonProvider<\"https://raw.githubusercontent.com/plotly/plotly.js/master/test/image/mocks/sankey_energy.json\">\r\n",
    "let data = remoteData.Load(\"https://raw.githubusercontent.com/plotly/plotly.js/master/test/image/mocks/sankey_energy.json\")\r\n",
    "\r\n",
    "let trace = \r\n",
    "    let vals = Seq.head data.Data\r\n",
    "    let tmp = Trace(\"sankey\")\r\n",
    "    tmp?valueFormat <- \".0f\"\r\n",
    "    tmp?valuesuffix <- \"TWh\"\r\n",
    "    tmp?node <- {|pad = 15.; thickness = 15.; line = {| color = \"black\"; width = 0.5 |}; label = vals.Node.Label; color = vals.Node.Color |}\r\n",
    "    tmp?link <- {| source = vals.Link.Source; target = vals.Link.Target; value = vals.Link.Value; color = vals.Link.Color; label = vals.Link.Label |}\r\n",
    "    tmp\r\n",
    "\r\n",
    "GenericChart.ofTraceObject(trace)\r\n",
    "|> Chart.withLayout(Layout.init(Width = 1000., Font = Font.init(Size = 10.), Title = \"Energy forecast for 2050<br>Source: Department of Energy & Climate Change, Tom Counsell via <a href='https://bost.ocks.org/mike/sankey/'>Mike Bostock</a>\"))"
   ],
   "outputs": [
    {
     "output_type": "display_data",
     "data": {
      "text/html": [
       "<div><div></div><div></div><div><strong>Installed Packages</strong><ul><li><span>FSharp.Data, 4.2.2</span></li></ul></div></div>"
      ]
     },
     "metadata": {}
    },
    {
     "output_type": "display_data",
     "data": {
      "text/html": [
       "<div id=\"e81362f3-f7bf-4ee1-b804-0039a9aa845a\" style=\"width: 600px; height: 600px;\"><!-- Plotly chart will be drawn inside this DIV --></div>\n",
       "<script type=\"text/javascript\">\n",
       "\n",
       "            var renderPlotly_e81362f3f7bf4ee1b8040039a9aa845a = function() {\n",
       "            var fsharpPlotlyRequire = requirejs.config({context:'fsharp-plotly',paths:{plotly:'https://cdn.plot.ly/plotly-latest.min'}}) || require;\n",
       "            fsharpPlotlyRequire(['plotly'], function(Plotly) {\n",
       "\n",
       "            var data = [{\"type\":\"sankey\",\"valueFormat\":\".0f\",\"valuesuffix\":\"TWh\",\"node\":{\"color\":[\"rgba(31, 119, 180, 0.8)\",\"rgba(255, 127, 14, 0.8)\",\"rgba(44, 160, 44, 0.8)\",\"rgba(214, 39, 40, 0.8)\",\"rgba(148, 103, 189, 0.8)\",\"rgba(140, 86, 75, 0.8)\",\"rgba(227, 119, 194, 0.8)\",\"rgba(127, 127, 127, 0.8)\",\"rgba(188, 189, 34, 0.8)\",\"rgba(23, 190, 207, 0.8)\",\"rgba(31, 119, 180, 0.8)\",\"rgba(255, 127, 14, 0.8)\",\"rgba(44, 160, 44, 0.8)\",\"rgba(214, 39, 40, 0.8)\",\"rgba(148, 103, 189, 0.8)\",\"rgba(140, 86, 75, 0.8)\",\"rgba(227, 119, 194, 0.8)\",\"rgba(127, 127, 127, 0.8)\",\"rgba(188, 189, 34, 0.8)\",\"rgba(23, 190, 207, 0.8)\",\"rgba(31, 119, 180, 0.8)\",\"rgba(255, 127, 14, 0.8)\",\"rgba(44, 160, 44, 0.8)\",\"rgba(214, 39, 40, 0.8)\",\"rgba(148, 103, 189, 0.8)\",\"rgba(140, 86, 75, 0.8)\",\"rgba(227, 119, 194, 0.8)\",\"rgba(127, 127, 127, 0.8)\",\"rgba(188, 189, 34, 0.8)\",\"rgba(23, 190, 207, 0.8)\",\"rgba(31, 119, 180, 0.8)\",\"rgba(255, 127, 14, 0.8)\",\"rgba(44, 160, 44, 0.8)\",\"rgba(214, 39, 40, 0.8)\",\"rgba(148, 103, 189, 0.8)\",\"magenta\",\"rgba(227, 119, 194, 0.8)\",\"rgba(127, 127, 127, 0.8)\",\"rgba(188, 189, 34, 0.8)\",\"rgba(23, 190, 207, 0.8)\",\"rgba(31, 119, 180, 0.8)\",\"rgba(255, 127, 14, 0.8)\",\"rgba(44, 160, 44, 0.8)\",\"rgba(214, 39, 40, 0.8)\",\"rgba(148, 103, 189, 0.8)\",\"rgba(140, 86, 75, 0.8)\",\"rgba(227, 119, 194, 0.8)\",\"rgba(127, 127, 127, 0.8)\"],\"label\":[\"Agricultural 'waste'\",\"Bio-conversion\",\"Liquid\",\"Losses\",\"Solid\",\"Gas\",\"Biofuel imports\",\"Biomass imports\",\"Coal imports\",\"Coal\",\"Coal reserves\",\"District heating\",\"Industry\",\"Heating and cooling - commercial\",\"Heating and cooling - homes\",\"Electricity grid\",\"Over generation / exports\",\"H2 conversion\",\"Road transport\",\"Agriculture\",\"Rail transport\",\"Lighting & appliances - commercial\",\"Lighting & appliances - homes\",\"Gas imports\",\"Ngas\",\"Gas reserves\",\"Thermal generation\",\"Geothermal\",\"H2\",\"Hydro\",\"International shipping\",\"Domestic aviation\",\"International aviation\",\"National navigation\",\"Marine algae\",\"Nuclear\",\"Oil imports\",\"Oil\",\"Oil reserves\",\"Other waste\",\"Pumped heat\",\"Solar PV\",\"Solar Thermal\",\"Solar\",\"Tidal\",\"UK land based bioenergy\",\"Wave\",\"Wind\"],\"line\":{\"color\":\"black\",\"width\":0.5},\"pad\":15.0,\"thickness\":15.0},\"link\":{\"color\":[\"rgba(0,0,96,0.2)\",\"rgba(0,0,96,0.2)\",\"rgba(0,0,96,0.2)\",\"rgba(0,0,96,0.2)\",\"rgba(0,0,96,0.2)\",\"rgba(0,0,96,0.2)\",\"rgba(0,0,96,0.2)\",\"rgba(0,0,96,0.2)\",\"rgba(0,0,96,0.2)\",\"rgba(0,0,96,0.2)\",\"rgba(0,0,96,0.2)\",\"rgba(0,0,96,0.2)\",\"rgba(0,0,96,0.2)\",\"rgba(0,0,96,0.2)\",\"rgba(0,0,96,0.2)\",\"rgba(0,0,96,0.2)\",\"rgba(0,0,96,0.2)\",\"rgba(0,0,96,0.2)\",\"rgba(0,0,96,0.2)\",\"rgba(0,0,96,0.2)\",\"rgba(0,0,96,0.2)\",\"rgba(0,0,96,0.2)\",\"rgba(0,0,96,0.2)\",\"rgba(0,0,96,0.2)\",\"rgba(0,0,96,0.2)\",\"rgba(0,0,96,0.2)\",\"rgba(0,0,96,0.2)\",\"rgba(0,0,96,0.2)\",\"rgba(0,0,96,0.2)\",\"rgba(0,0,96,0.2)\",\"rgba(0,0,96,0.2)\",\"rgba(0,0,96,0.2)\",\"rgba(0,0,96,0.2)\",\"rgba(0,0,96,0.2)\",\"rgba(0,0,96,0.2)\",\"rgba(0,0,96,0.2)\",\"rgba(0,0,96,0.2)\",\"rgba(0,0,96,0.2)\",\"rgba(0,0,96,0.2)\",\"rgba(0,0,96,0.2)\",\"rgba(0,0,96,0.2)\",\"rgba(0,0,96,0.2)\",\"rgba(0,0,96,0.2)\",\"rgba(0,0,96,0.2)\",\"rgba(0,0,96,0.2)\",\"rgba(0,0,96,0.2)\",\"rgba(33,102,172,0.35)\",\"rgba(178,24,43,0.35)\",\"rgba(0,0,96,0.2)\",\"rgba(0,0,96,0.2)\",\"rgba(0,0,96,0.2)\",\"rgba(0,0,96,0.2)\",\"rgba(0,0,96,0.2)\",\"rgba(0,0,96,0.2)\",\"rgba(0,0,96,0.2)\",\"rgba(0,0,96,0.2)\",\"rgba(0,0,96,0.2)\",\"rgba(0,0,96,0.2)\",\"rgba(0,0,96,0.2)\",\"rgba(0,0,96,0.2)\",\"rgba(0,0,96,0.2)\",\"rgba(0,0,96,0.2)\",\"rgba(0,0,96,0.2)\",\"rgba(0,0,96,0.2)\",\"rgba(0,0,96,0.2)\",\"rgba(0,0,96,0.2)\",\"rgba(0,0,96,0.2)\",\"rgba(0,0,96,0.2)\",\"rgba(0,0,96,0.2)\",\"lightgreen\",\"goldenrod\"],\"label\":[\"stream 1\",\"stream 1\",\"stream 1\",\"Old generation plant (made-up)\",\"New generation plant (made-up)\"],\"source\":[0,1,1,1,1,6,7,8,10,9,11,11,11,15,15,15,15,15,15,15,15,15,15,15,23,25,5,5,5,5,5,27,17,17,28,29,2,2,2,2,2,2,2,2,34,24,35,35,36,38,37,39,39,40,40,41,42,43,43,4,4,4,26,26,26,44,45,46,47,35,35],\"target\":[1,2,3,4,5,2,4,9,9,4,12,13,14,16,14,17,12,18,19,13,3,20,21,22,24,24,13,3,26,19,12,15,28,3,18,15,12,30,18,31,32,19,33,20,1,5,26,26,37,37,2,4,1,14,13,15,14,42,41,19,26,12,15,3,11,15,1,15,15,26,26],\"value\":[124.729,0.597,26.862,280.322,81.144,35.0,35.0,11.606,63.965,75.571,10.639,22.505,46.184,104.453,113.726,27.14,342.165,37.797,4.412,40.858,56.691,7.863,90.008,93.494,40.719,82.233,0.129,1.401,151.891,2.096,48.58,7.013,20.897,6.242,20.897,6.995,121.066,128.69,135.835,14.458,206.267,3.64,33.218,4.413,14.375,122.952,500.0,139.978,504.287,107.703,611.99,56.587,77.81,193.026,70.672,59.901,19.263,19.263,59.901,0.882,400.12,46.477,525.531,787.129,79.329,9.452,182.01,19.013,289.366,100.0,100.0]}}];\n",
       "            var layout = {\"title\":\"Energy forecast for 2050<br>Source: Department of Energy & Climate Change, Tom Counsell via <a href='https://bost.ocks.org/mike/sankey/'>Mike Bostock</a>\",\"width\":1000.0,\"font\":{\"size\":10.0}};\n",
       "            var config = {};\n",
       "            Plotly.newPlot('e81362f3-f7bf-4ee1-b804-0039a9aa845a', data, layout, config);\n",
       "});\n",
       "            };\n",
       "            if ((typeof(requirejs) !==  typeof(Function)) || (typeof(requirejs.config) !== typeof(Function))) {\n",
       "                var script = document.createElement(\"script\");\n",
       "                script.setAttribute(\"src\", \"https://cdnjs.cloudflare.com/ajax/libs/require.js/2.3.6/require.min.js\");\n",
       "                script.onload = function(){\n",
       "                    renderPlotly_e81362f3f7bf4ee1b8040039a9aa845a();\n",
       "                };\n",
       "                document.getElementsByTagName(\"head\")[0].appendChild(script);\n",
       "            }\n",
       "            else {\n",
       "                renderPlotly_e81362f3f7bf4ee1b8040039a9aa845a();\n",
       "            }\n",
       "</script>\n"
      ]
     },
     "metadata": {}
    }
   ],
   "metadata": {
    "dotnet_interactive": {
     "language": "fsharp"
    }
   }
  },
  {
   "cell_type": "markdown",
   "source": [
    "## Style Sankey Diagram"
   ],
   "metadata": {}
  },
  {
   "cell_type": "code",
   "execution_count": null,
   "source": [
    "#r \"nuget: FSharp.Data\"\r\n",
    "#r \"nuget: Plotly.NET, 2.0.0-preview.6\"\r\n",
    "#r \"nuget: Plotly.NET.Interactive, 2.0.0-preview.6\"\r\n",
    "open Plotly.NET\r\n",
    "\r\n",
    "let nodes = [|\r\n",
    " Node.Create(\"A1\")\r\n",
    " Node.Create(\"A2\")\r\n",
    " Node.Create(\"B1\")\r\n",
    " Node.Create(\"B2\")\r\n",
    " Node.Create(\"C1\")\r\n",
    " Node.Create(\"C2\")\r\n",
    "|]\r\n",
    "let links = [\r\n",
    "        Link.Create(src = nodes.[0], tgt = nodes.[2], value = 8.)\r\n",
    "        Link.Create(src = nodes.[1], tgt = nodes.[3], value = 4.)\r\n",
    "        Link.Create(src = nodes.[0], tgt = nodes.[3], value = 3.)\r\n",
    "        Link.Create(src = nodes.[2], tgt = nodes.[4], value = 8.)\r\n",
    "        Link.Create(src = nodes.[3], tgt = nodes.[4], value = 4.)\r\n",
    "        Link.Create(src = nodes.[3], tgt = nodes.[5], value = 2.)\r\n",
    "]\r\n",
    "\r\n",
    "Chart.Sankey(\r\n",
    "    nodes = nodes,\r\n",
    "    links = links,\r\n",
    "    nodePadding = 15.,\r\n",
    "    nodeThicknes = 20.,\r\n",
    "    nodeLineColor = \"black\",\r\n",
    "    nodeLineWidth = 0.5,\r\n",
    "    nodeColor = \"blue\")\r\n",
    "|> Chart.withLayout(Layout.init(Title = \"Basic Sankey Diagram\", Font = Font.init(Size = 10.)))"
   ],
   "outputs": [
    {
     "output_type": "display_data",
     "data": {
      "text/html": [
       "<div><div></div><div></div><div><strong>Installed Packages</strong><ul><li><span>FSharp.Data, 4.2.2</span></li><li><span>Plotly.NET, 2.0.0-preview.6</span></li><li><span>Plotly.NET.Interactive, 2.0.0-preview.6</span></li></ul></div></div>"
      ]
     },
     "metadata": {}
    },
    {
     "output_type": "display_data",
     "data": {
      "text/html": [
       "<div id=\"583047ae-375f-487a-aa1d-f1815395298a\" style=\"width: 600px; height: 600px;\"><!-- Plotly chart will be drawn inside this DIV --></div>\r\n",
       "<script type=\"text/javascript\">\r\n",
       "\n",
       "            var renderPlotly_583047ae375f487aaa1df1815395298a = function() {\n",
       "            var fsharpPlotlyRequire = requirejs.config({context:'fsharp-plotly',paths:{plotly:'https://cdn.plot.ly/plotly-latest.min'}}) || require;\n",
       "            fsharpPlotlyRequire(['plotly'], function(Plotly) {\r\n",
       "\n",
       "            var data = [{\"type\":\"sankey\",\"node\":{\"label\":[\"A1\",\"A2\",\"B1\",\"B2\",\"C1\",\"C2\"],\"pad\":15.0,\"thickness\":20.0,\"color\":[\"blue\",\"blue\",\"blue\",\"blue\",\"blue\",\"blue\"],\"line\":{\"color\":[\"black\",\"black\",\"black\",\"black\",\"black\",\"black\"]}},\"link\":{\"source\":[0,1,0,2,3,3],\"target\":[2,3,3,4,4,5],\"value\":[8.0,4.0,3.0,8.0,4.0,2.0]}}];\n",
       "            var layout = {\"title\":\"Basic Sankey Diagram\",\"font\":{\"size\":10.0}};\n",
       "            var config = {};\n",
       "            Plotly.newPlot('583047ae-375f-487a-aa1d-f1815395298a', data, layout, config);\r\n",
       "});\n",
       "            };\n",
       "            if ((typeof(requirejs) !==  typeof(Function)) || (typeof(requirejs.config) !== typeof(Function))) {\n",
       "                var script = document.createElement(\"script\");\n",
       "                script.setAttribute(\"src\", \"https://cdnjs.cloudflare.com/ajax/libs/require.js/2.3.6/require.min.js\");\n",
       "                script.onload = function(){\n",
       "                    renderPlotly_583047ae375f487aaa1df1815395298a();\n",
       "                };\n",
       "                document.getElementsByTagName(\"head\")[0].appendChild(script);\n",
       "            }\n",
       "            else {\n",
       "                renderPlotly_583047ae375f487aaa1df1815395298a();\n",
       "            }\r\n",
       "</script>\r\n"
      ]
     },
     "metadata": {}
    }
   ],
   "metadata": {
    "dotnet_interactive": {
     "language": "fsharp"
    }
   }
  },
  {
   "cell_type": "markdown",
   "source": [
    "## Define Node Position"
   ],
   "metadata": {}
  },
  {
   "cell_type": "code",
   "execution_count": null,
   "source": [
    "#r \"nuget: FSharp.Data\"\r\n",
    "#r \"nuget: Plotly.NET, 2.0.0-preview.6\"\r\n",
    "#r \"nuget: Plotly.NET.Interactive, 2.0.0-preview.6\"\r\n",
    "open Plotly.NET\r\n",
    "\r\n",
    "let trace = \r\n",
    "    let tmp = Trace(\"sankey\")\r\n",
    "    tmp?node <- {|\r\n",
    "                                label = [\"A\"; \"B\"; \"C\"; \"D\"; \"E\"; \"F\"]\r\n",
    "                                x = [0.2; 0.1; 0.5; 0.7; 0.3; 0.5]\r\n",
    "                                y = [0.7; 0.5; 0.2; 0.4; 0.2; 0.3]\r\n",
    "                                pad =10.\r\n",
    "                            |}\r\n",
    "    tmp?link <- {| source = [0; 0; 1; 2; 5; 4; 3; 5]\r\n",
    "                            target = [5; 3; 4; 3; 0; 2; 2; 3]\r\n",
    "                            value = [1; 2; 1; 1; 1; 1; 1; 2]|}\r\n",
    "    tmp?arrangement <- \"snap\"\r\n",
    "    tmp\r\n",
    "GenericChart.ofTraceObject(trace)\r\n"
   ],
   "outputs": [
    {
     "output_type": "display_data",
     "data": {
      "text/html": [
       "<div><div></div><div></div><div><strong>Installed Packages</strong><ul><li><span>FSharp.Data, 4.2.2</span></li><li><span>Plotly.NET, 2.0.0-preview.6</span></li><li><span>Plotly.NET.Interactive, 2.0.0-preview.6</span></li></ul></div></div>"
      ]
     },
     "metadata": {}
    },
    {
     "output_type": "display_data",
     "data": {
      "text/html": [
       "<div id=\"04ec96c1-405e-4c1c-9dd7-1618898245bf\" style=\"width: 600px; height: 600px;\"><!-- Plotly chart will be drawn inside this DIV --></div>\r\n",
       "<script type=\"text/javascript\">\r\n",
       "\n",
       "            var renderPlotly_04ec96c1405e4c1c9dd71618898245bf = function() {\n",
       "            var fsharpPlotlyRequire = requirejs.config({context:'fsharp-plotly',paths:{plotly:'https://cdn.plot.ly/plotly-latest.min'}}) || require;\n",
       "            fsharpPlotlyRequire(['plotly'], function(Plotly) {\r\n",
       "\n",
       "            var data = [{\"type\":\"sankey\",\"node\":{\"label\":[\"A\",\"B\",\"C\",\"D\",\"E\",\"F\"],\"pad\":10.0,\"x\":[0.2,0.1,0.5,0.7,0.3,0.5],\"y\":[0.7,0.5,0.2,0.4,0.2,0.3]},\"link\":{\"source\":[0,0,1,2,5,4,3,5],\"target\":[5,3,4,3,0,2,2,3],\"value\":[1,2,1,1,1,1,1,2]},\"arrangement\":\"snap\"}];\n",
       "            var layout = {};\n",
       "            var config = {};\n",
       "            Plotly.newPlot('04ec96c1-405e-4c1c-9dd7-1618898245bf', data, layout, config);\r\n",
       "});\n",
       "            };\n",
       "            if ((typeof(requirejs) !==  typeof(Function)) || (typeof(requirejs.config) !== typeof(Function))) {\n",
       "                var script = document.createElement(\"script\");\n",
       "                script.setAttribute(\"src\", \"https://cdnjs.cloudflare.com/ajax/libs/require.js/2.3.6/require.min.js\");\n",
       "                script.onload = function(){\n",
       "                    renderPlotly_04ec96c1405e4c1c9dd71618898245bf();\n",
       "                };\n",
       "                document.getElementsByTagName(\"head\")[0].appendChild(script);\n",
       "            }\n",
       "            else {\n",
       "                renderPlotly_04ec96c1405e4c1c9dd71618898245bf();\n",
       "            }\r\n",
       "</script>\r\n"
      ]
     },
     "metadata": {}
    }
   ],
   "metadata": {
    "dotnet_interactive": {
     "language": "fsharp"
    }
   }
  }
 ],
 "metadata": {
  "orig_nbformat": 4,
  "language_info": {
   "file_extension": ".cs",
   "mimetype": "text/x-csharp",
   "name": "C#",
   "pygments_lexer": "csharp",
   "version": "9.0"
  },
  "kernelspec": {
   "display_name": ".NET (C#)",
   "language": "C#",
   "name": ".net-csharp"
  }
 },
 "nbformat": 4,
 "nbformat_minor": 2
}