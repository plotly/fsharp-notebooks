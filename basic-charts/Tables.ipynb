{
 "metadata": {
  "kernelspec": {
   "display_name": ".NET (F#)",
   "language": "F#",
   "name": ".net-fsharp"
  },
  "language_info": {
   "name": "F#"
  }
 },
 "cells": [
  {
   "cell_type": "code",
   "execution_count": null,
   "source": [
    "#r \"nuget: Plotly.NET, 2.0.0-preview.6\"\r\n",
    "#r \"nuget: Plotly.NET.Interactive, 2.0.0-preview.6\"\r\n",
    "#r \"nuget: FSharp.Data, 4.2.2\"\r\n",
    "\r\n",
    "open Plotly.NET"
   ],
   "outputs": [
    {
     "output_type": "display_data",
     "data": {
      "text/html": ""
     },
     "metadata": {}
    },
    {
     "output_type": "display_data",
     "data": {
      "text/markdown": ""
     },
     "metadata": {}
    },
    {
     "output_type": "display_data",
     "data": {
      "text/markdown": ""
     },
     "metadata": {}
    }
   ],
   "metadata": {
    "dotnet_interactive": {
     "language": "fsharp"
    }
   }
  },
  {
   "cell_type": "markdown",
   "source": [
    "## Basic Table"
   ],
   "metadata": {}
  },
  {
   "cell_type": "code",
   "execution_count": null,
   "source": [
    "open Plotly.NET\r\n",
    "\r\n",
    "let header = [\"A Scores\";\"B Scores\"]\r\n",
    "let rows = \r\n",
    "    [\r\n",
    "        [100; 95]\r\n",
    "        [90; 85]\r\n",
    "        [80; 75]\r\n",
    "        [90; 95]\r\n",
    "    ]\r\n",
    "\r\n",
    "Chart.Table(header, rows)"
   ],
   "outputs": [
    {
     "output_type": "display_data",
     "data": {
      "text/html": ""
     },
     "metadata": {}
    }
   ],
   "metadata": {
    "dotnet_interactive": {
     "language": "fsharp"
    }
   }
  },
  {
   "cell_type": "markdown",
   "source": [
    "## Styled Table"
   ],
   "metadata": {}
  },
  {
   "cell_type": "code",
   "execution_count": null,
   "source": [
    "let header = [\"A Scores\";\"B Scores\"]\r\n",
    "let rows = \r\n",
    "    [\r\n",
    "        [100; 95]\r\n",
    "        [90; 85]\r\n",
    "        [80; 75]\r\n",
    "        [90; 95]\r\n",
    "    ]\r\n",
    "\r\n",
    "let headerLineStyle = Line.init(Color=\"#2f4f4f\")    \r\n",
    "let cellLineStyle = Line.init(Color=\"#2f4f4f\")    \r\n",
    "let width = 500.0\r\n",
    "let height = 300.0\r\n",
    "\r\n",
    "Chart.Table(header, \r\n",
    "            rows,\r\n",
    "            AlignHeader = [StyleParam.HorizontalAlign.Left],\r\n",
    "            AlignCells = [StyleParam.HorizontalAlign.Left],\r\n",
    "            ColorHeader = \"#87CEFA\",\r\n",
    "            ColorCells = \"#E0FFFF\",\r\n",
    "            LineHeader = headerLineStyle,\r\n",
    "            LineCells = cellLineStyle) \r\n",
    "    |> Chart.withSize (width, height)"
   ],
   "outputs": [
    {
     "output_type": "display_data",
     "data": {
      "text/html": ""
     },
     "metadata": {}
    }
   ],
   "metadata": {
    "dotnet_interactive": {
     "language": "fsharp"
    }
   }
  },
  {
   "cell_type": "markdown",
   "source": [
    "## Use a Pandas Dataframe"
   ],
   "metadata": {}
  },
  {
   "cell_type": "code",
   "execution_count": null,
   "source": [
    "open FSharp.Data\n",
    "open Plotly.NET\n",
    "\n",
    "type UsaStatesDataset = CsvProvider<\"https://raw.githubusercontent.com/plotly/datasets/master/2014_usa_states.csv\">\n",
    "\n",
    "let data = UsaStatesDataset.GetSample()\n",
    "let headers = match data.Headers with \n",
    "              | Some h -> h \n",
    "              | None -> [||]\n",
    "\n",
    "let rows = data.Rows |> Seq.map(fun r -> [r.Rank.ToString()\n",
    "                                          r.State\n",
    "                                          r.Postal\n",
    "                                          r.Population.ToString(\"0\")])\n",
    "\n",
    "Chart.Table(headers, \n",
    "            rows,\n",
    "            AlignHeader = [StyleParam.HorizontalAlign.Left],\n",
    "            AlignCells = [StyleParam.HorizontalAlign.Left],\n",
    "            ColorHeader = \"#AFEEEE\",\n",
    "            ColorCells = \"#E6E6FA\")        "
   ],
   "outputs": [
    {
     "output_type": "display_data",
     "data": {
      "text/html": ""
     },
     "metadata": {}
    }
   ],
   "metadata": {
    "dotnet_interactive": {
     "language": "fsharp"
    }
   }
  },
  {
   "cell_type": "markdown",
   "source": [
    "## Changing Row and Column Size"
   ],
   "metadata": {}
  },
  {
   "cell_type": "code",
   "execution_count": null,
   "source": [
    "open Plotly.NET\n",
    "\n",
    "let loremIpsum = \"Lorem ipsum dolor sit amet, tollit discere inermis pri ut. Eos ea iusto timeam, an prima laboramus vim. Id usu aeterno adversarium, summo mollis timeam vel ad\"\n",
    "\n",
    "let headers = [ \"<b>EXPENSES</b><br>as of July 2017\"; \"<b>DESCRIPTION</b>\"]\n",
    "let rows = [\n",
    "     [\"Salaries\"; loremIpsum]\n",
    "     [\"Office\"; loremIpsum]\n",
    "     [\"Merchandise\"; loremIpsum]\n",
    "     [\"Legal\"; loremIpsum]\n",
    "     [\"<b>TOTAL<br>EXPENSES</b>\"; loremIpsum]\n",
    "]\n",
    "\n",
    "Chart.Table(headers, \n",
    "            rows,\n",
    "            AlignHeader = [StyleParam.HorizontalAlign.Left],\n",
    "            AlignCells = [StyleParam.HorizontalAlign.Left],\n",
    "            ColumnWidth = [80; 400],\n",
    "            ColumnOrder = [1;2],\n",
    "            ColorHeader = \"#4169E1\",\n",
    "            FontHeader = Font.init(Color=\"#FFFFFF\"),            \n",
    "            ColorCells = [\"#AFEEEE\"; \"#FFFFFF\"])  \n",
    "    |> Chart.withSize (800.0, 500.0)  "
   ],
   "outputs": [
    {
     "output_type": "display_data",
     "data": {
      "text/html": ""
     },
     "metadata": {}
    }
   ],
   "metadata": {
    "dotnet_interactive": {
     "language": "fsharp"
    }
   }
  },
  {
   "cell_type": "markdown",
   "source": [
    "## Alternating Row Colors"
   ],
   "metadata": {}
  },
  {
   "cell_type": "code",
   "execution_count": null,
   "source": [
    "open Plotly.NET\n",
    "open System\n",
    "\n",
    "let headers = [\"<b>EXPENSES</b>\";\"<b>Q1</b>\";\"<b>Q2</b>\";\"<b>Q3</b>\";\"<b>Q4</b>\"]\n",
    "\n",
    "type CellValue = | Subtitle of string | Amount of int\n",
    "let renderCellValue value = match value with \n",
    "                            | Subtitle v -> v \n",
    "                            | Amount v -> v.ToString()\n",
    "\n",
    "let rows = [ [\"Salaries\"; \"1200000\" ;  \"1300000\" ;  \"1300000\" ;  \"1400000\" ];    \n",
    "             [ \"Office\"; \"20000\"; \"20000\"; \"20000\"; \"20000\"];\n",
    "             [ \"Merchandise\"; \"80000\"; \"70000\"; \"120000\"; \"90000\"];\n",
    "             [\"Legal\"; \"2000\"; \"2000\"; \"2000\"; \"2000\" ];\n",
    "             [\"<b>TOTAL</b>\"; \"12120000\"; \"130902000\"; \"131222000\"; \"1410200\"] ]\n",
    "\n",
    "let headerColor = \"grey\"\n",
    "let rowEvenColor = \"lightgrey\"\n",
    "let rowOddColor = \"white\"\n",
    "\n",
    "Chart.Table(headers, \n",
    "            rows,\n",
    "            AlignHeader = [StyleParam.HorizontalAlign.Left],\n",
    "            AlignCells = [StyleParam.HorizontalAlign.Left; StyleParam.HorizontalAlign.Center],\n",
    "            ColorHeader = headerColor,\n",
    "            FontHeader = Font.init(Color=\"#FFFFFF\"),            \n",
    "            ColorCells = [\n",
    "                            [rowOddColor; rowEvenColor; rowOddColor; rowEvenColor; rowOddColor]\n",
    "                         ])  "
   ],
   "outputs": [
    {
     "output_type": "display_data",
     "data": {
      "text/html": ""
     },
     "metadata": {}
    }
   ],
   "metadata": {
    "dotnet_interactive": {
     "language": "fsharp"
    }
   }
  },
  {
   "cell_type": "markdown",
   "source": [
    "## Row Color Based on Variable"
   ],
   "metadata": {}
  },
  {
   "cell_type": "code",
   "execution_count": null,
   "source": [
    "let headers = [\"Color\"; \"<b>YEAR</b>\"]\r\n",
    "\r\n",
    "let rows = [\r\n",
    "                [\"#EFF3FF\"; \"2010\"];\r\n",
    "                [\"#BDD7E7\"; \"2011\"];\r\n",
    "                [\"#6BAED6\"; \"2012\"];\r\n",
    "                [\"#3182BD\"; \"2013\"];\r\n",
    "                [\"#08519C\"; \"2014\"]\r\n",
    "            ];\r\n",
    "\r\n",
    "Chart.Table(headers, \r\n",
    "            rows,\r\n",
    "            ColorCells = [[\"#EFF3FF\"; \"#BDD7E7\"; \"#6BAED6\"; \"#3182BD\"; \"#08519C\"]] )  "
   ],
   "outputs": [
    {
     "output_type": "display_data",
     "data": {
      "text/html": ""
     },
     "metadata": {}
    }
   ],
   "metadata": {
    "dotnet_interactive": {
     "language": "fsharp"
    }
   }
  },
  {
   "cell_type": "markdown",
   "source": [
    "## Cell Color Based on Variable"
   ],
   "metadata": {}
  },
  {
   "cell_type": "code",
   "execution_count": null,
   "source": [
    "let headers = [\"<b>Column A</b>\"; \"<b>Column B</b>\"; \"<b>Column C</b>\"]\r\n",
    "\r\n",
    "let rows = [\r\n",
    "                [\"5\"; \"5\"; \"6\"]\r\n",
    "                [\"8\"; \"2\"; \"7\"]\r\n",
    "                [\"5\"; \"4\"; \"6\"]\r\n",
    "                [\"0\"; \"2\"; \"1\"]\r\n",
    "                [\"0\"; \"4\"; \"0\"]\r\n",
    "                [\"1\"; \"7\"; \"1\"]\r\n",
    "                [\"7\"; \"7\"; \"8\"]\r\n",
    "                [\"6\"; \"1\"; \"8\"]\r\n",
    "                [\"2\"; \"7\"; \"3\"]\r\n",
    "                [\"4\"; \"0\"; \"8\"]\r\n",
    "            ];\r\n",
    "\r\n",
    "Chart.Table(headers, \r\n",
    "            rows,\r\n",
    "            ColorCells = [[\"#FFC8C8\"; \"#FFC8C8\"; \"#D63232\"]\r\n",
    "                          [\"#FFC8C8\";\"#F19696\"; \"#F8AFAF\"]\r\n",
    "                          [\"#D63232\"; \"#E46464\"; \"#D63232\"]],\r\n",
    "            FontCells = Font.init(Color=\"#FFFFFF\"))  "
   ],
   "outputs": [
    {
     "output_type": "display_data",
     "data": {
      "text/html": ""
     },
     "metadata": {}
    }
   ],
   "metadata": {
    "dotnet_interactive": {
     "language": "fsharp"
    }
   }
  }
 ],
 "nbformat": 4,
 "nbformat_minor": 2
}