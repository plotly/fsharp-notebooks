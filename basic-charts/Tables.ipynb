{
 "metadata": {
  "kernelspec": {
   "display_name": ".NET (F#)",
   "language": "F#",
   "name": ".net-fsharp"
  },
  "language_info": {
   "name": "F#"
  }
 },
 "cells": [
  {
   "cell_type": "code",
   "execution_count": null,
   "source": [
    "#r \"nuget: Plotly.NET, 2.0.0-preview.8\"\r\n",
    "#r \"nuget: Plotly.NET.Interactive, 2.0.0-preview.8\"\r\n",
    "#r \"nuget: FSharp.Data\"\r\n",
    "#r \"nuget:Deedle\""
   ],
   "outputs": [
    {
     "data": {
      "text/html": [
       "<div><div></div><div></div><div><strong>Installed Packages</strong><ul><li><span>Deedle, 2.4.3</span></li><li><span>FSharp.Data, 4.2.3</span></li><li><span>Plotly.NET, 2.0.0-preview.8</span></li><li><span>Plotly.NET.Interactive, 2.0.0-preview.8</span></li></ul></div></div>"
      ]
     },
     "metadata": {},
     "output_type": "display_data"
    },
    {
     "data": {
      "text/markdown": [
       "Loading extensions from `Plotly.NET.Interactive.dll`"
      ]
     },
     "metadata": {},
     "output_type": "display_data"
    },
    {
     "data": {
      "text/markdown": [
       "Added Kernel Extension including formatters for Plotly.NET charts."
      ]
     },
     "metadata": {},
     "output_type": "display_data"
    }
   ],
   "metadata": {
    "dotnet_interactive": {
     "language": "fsharp"
    }
   }
  },
  {
   "cell_type": "markdown",
   "source": [
    "# Basic Table\r\n",
    "\r\n",
    "Chart.Table provides a Table object for detailed data viewing. The data are arranged in a grid of rows and columns. Most styling can be specified for header, columns, rows or individual cells. Table is using a column-major order, ie. the grid is represented as a vector of column vectors."
   ],
   "metadata": {}
  },
  {
   "cell_type": "code",
   "execution_count": null,
   "source": [
    "open Plotly.NET\r\n",
    "\r\n",
    "let header = [\"A Scores\";\"B Scores\"]\r\n",
    "let rows = \r\n",
    "    [\r\n",
    "        [100; 95]\r\n",
    "        [90; 85]\r\n",
    "        [80; 75]\r\n",
    "        [90; 95]\r\n",
    "    ]\r\n",
    "\r\n",
    "Chart.Table(header, rows)"
   ],
   "outputs": [
    {
     "output_type": "display_data",
     "data": {
      "text/html": ""
     },
     "metadata": {}
    }
   ],
   "metadata": {
    "dotnet_interactive": {
     "language": "fsharp"
    }
   }
  },
  {
   "cell_type": "markdown",
   "source": [
    "# Styled Table\r\n",
    "\r\n",
    "Chart.Table provides several properties for styling as shown below"
   ],
   "metadata": {}
  },
  {
   "cell_type": "code",
   "execution_count": null,
   "source": [
    "let header = [\"A Scores\";\"B Scores\"]\r\n",
    "let rows = \r\n",
    "    [\r\n",
    "        [100; 95]\r\n",
    "        [90; 85]\r\n",
    "        [80; 75]\r\n",
    "        [90; 95]\r\n",
    "    ]\r\n",
    "\r\n",
    "let headerLineStyle = Line.init(Color=Color.fromString \"#2f4f4f\")    \r\n",
    "let cellLineStyle = Line.init(Color=Color.fromString \"#2f4f4f\")    \r\n",
    "let width = 500.0\r\n",
    "let height = 300.0\r\n",
    "\r\n",
    "Chart.Table(header, \r\n",
    "            rows,\r\n",
    "            AlignHeader = [StyleParam.HorizontalAlign.Left],\r\n",
    "            AlignCells = [StyleParam.HorizontalAlign.Left],\r\n",
    "            ColorHeader = Color.fromString \"#87CEFA\",\r\n",
    "            ColorCells = Color.fromString \"#E0FFFF\",\r\n",
    "            LineHeader = headerLineStyle,\r\n",
    "            LineCells = cellLineStyle) \r\n",
    "    |> Chart.withSize (width, height)"
   ],
   "outputs": [
    {
     "output_type": "display_data",
     "data": {
      "text/html": ""
     },
     "metadata": {}
    }
   ],
   "metadata": {
    "dotnet_interactive": {
     "language": "fsharp"
    }
   }
  },
  {
   "cell_type": "markdown",
   "source": [
    "# Using a Dataframe"
   ],
   "metadata": {}
  },
  {
   "cell_type": "code",
   "execution_count": null,
   "source": [
    "open FSharp.Data\r\n",
    "open Plotly.NET\r\n",
    "open Deedle\r\n",
    "\r\n",
    "let data = CsvFile.Load(@\"https://raw.githubusercontent.com/plotly/datasets/master/2014_usa_states.csv\")\r\n",
    "\r\n",
    "let headers = match data.Headers with \r\n",
    "              | Some h -> h \r\n",
    "              | None -> [||]\r\n",
    "\r\n",
    "let rows = data.Rows |> Seq.map(fun r -> [r.GetColumn(\"Rank\")\r\n",
    "                                          r.GetColumn(\"State\")\r\n",
    "                                          r.GetColumn(\"Postal\")\r\n",
    "                                          r.GetColumn(\"Population\")])\r\n",
    "\r\n",
    "Chart.Table(headers, \r\n",
    "            rows,\r\n",
    "            AlignHeader = [StyleParam.HorizontalAlign.Left],\r\n",
    "            AlignCells = [StyleParam.HorizontalAlign.Left],\r\n",
    "            ColorHeader = Color.fromString \"#AFEEEE\",\r\n",
    "            ColorCells = Color.fromString \"#E6E6FA\")        "
   ],
   "outputs": [
    {
     "data": {
      "text/html": [
       "<div id=\"ebd18d09-da78-43b9-876e-eaa2d5051558\" style=\"width: 600px; height: 600px;\"><!-- Plotly chart will be drawn inside this DIV --></div>\r\n",
       "<script type=\"text/javascript\">\r\n",
       "\n",
       "            var renderPlotly_ebd18d09da7843b9876eeaa2d5051558 = function() {\n",
       "            var fsharpPlotlyRequire = requirejs.config({context:'fsharp-plotly',paths:{plotly:'https://cdn.plot.ly/plotly-latest.min'}}) || require;\n",
       "            fsharpPlotlyRequire(['plotly'], function(Plotly) {\r\n",
       "\n",
       "            var data = [{\"type\":\"table\",\"header\":{\"values\":[\"Rank\",\"State\",\"Postal\",\"Population\"],\"align\":[\"left\"],\"fill\":{\"color\":\"#AFEEEE\"}},\"cells\":{\"values\":[[\"1\",\"2\",\"3\",\"4\",\"5\",\"6\",\"7\",\"8\",\"9\",\"10\",\"11\",\"12\",\"13\",\"14\",\"15\",\"16\",\"17\",\"18\",\"19\",\"20\",\"21\",\"22\",\"23\",\"24\",\"25\",\"26\",\"27\",\"28\",\"29\",\"30\",\"31\",\"32\",\"33\",\"34\",\"35\",\"36\",\"37\",\"38\",\"39\",\"40\",\"41\",\"42\",\"43\",\"44\",\"45\",\"46\",\"47\",\"48\",\"49\",\"50\",\"51\",\"52\"],[\"Alabama\",\"Alaska\",\"Arizona\",\"Arkansas\",\"California\",\"Colorado\",\"Connecticut\",\"Delaware\",\"District of Columbia\",\"Florida\",\"Georgia\",\"Hawaii\",\"Idaho\",\"Illinois\",\"Indiana\",\"Iowa\",\"Kansas\",\"Kentucky\",\"Louisiana\",\"Maine\",\"Maryland\",\"Massachusetts\",\"Michigan\",\"Minnesota\",\"Mississippi\",\"Missouri\",\"Montana\",\"Nebraska\",\"Nevada\",\"New Hampshire\",\"New Jersey\",\"New Mexico\",\"New York\",\"North Carolina\",\"North Dakota\",\"Ohio\",\"Oklahoma\",\"Oregon\",\"Pennsylvania\",\"Puerto Rico\",\"Rhode Island\",\"South Carolina\",\"South Dakota\",\"Tennessee\",\"Texas\",\"Utah\",\"Vermont\",\"Virginia\",\"Washington\",\"West Virginia\",\"Wisconsin\",\"Wyoming\"],[\"AL\",\"AK\",\"AZ\",\"AR\",\"CA\",\"CO\",\"CT\",\"DE\",\"DC\",\"FL\",\"GA\",\"HI\",\"ID\",\"IL\",\"IN\",\"IA\",\"KS\",\"KY\",\"LA\",\"ME\",\"MD\",\"MA\",\"MI\",\"MN\",\"MS\",\"MO\",\"MT\",\"NE\",\"NV\",\"NH\",\"NJ\",\"NM\",\"NY\",\"NC\",\"ND\",\"OH\",\"OK\",\"OR\",\"PA\",\"PR\",\"RI\",\"SC\",\"SD\",\"TN\",\"TX\",\"UT\",\"VT\",\"VA\",\"WA\",\"WV\",\"WI\",\"WY\"],[\"4849377.0\",\"736732.0\",\"6731484.0\",\"2966369.0\",\"38802500.0\",\"5355866.0\",\"3596677.0\",\"935614.0\",\"658893.0\",\"19893297.0\",\"10097343.0\",\"1419561.0\",\"1634464.0\",\"12880580.0\",\"6596855.0\",\"3107126.0\",\"2904021.0\",\"4413457.0\",\"4649676.0\",\"1330089.0\",\"5976407.0\",\"6745408.0\",\"9909877.0\",\"5457173.0\",\"2994079.0\",\"6063589.0\",\"1023579.0\",\"1881503.0\",\"2839098.0\",\"1326813.0\",\"8938175.0\",\"2085572.0\",\"19746227.0\",\"9943964.0\",\"739482.0\",\"11594163.0\",\"3878051.0\",\"3970239.0\",\"12787209.0\",\"3548397.0\",\"1055173.0\",\"4832482.0\",\"853175.0\",\"6549352.0\",\"26956958.0\",\"2942902.0\",\"626562.0\",\"8326289.0\",\"7061530.0\",\"1850326.0\",\"5757564.0\",\"584153.0\"]],\"align\":[\"left\"],\"fill\":{\"color\":\"#E6E6FA\"}}}];\n",
       "            var layout = {};\n",
       "            var config = {};\n",
       "            Plotly.newPlot('ebd18d09-da78-43b9-876e-eaa2d5051558', data, layout, config);\r\n",
       "});\n",
       "            };\n",
       "            if ((typeof(requirejs) !==  typeof(Function)) || (typeof(requirejs.config) !== typeof(Function))) {\n",
       "                var script = document.createElement(\"script\");\n",
       "                script.setAttribute(\"src\", \"https://cdnjs.cloudflare.com/ajax/libs/require.js/2.3.6/require.min.js\");\n",
       "                script.onload = function(){\n",
       "                    renderPlotly_ebd18d09da7843b9876eeaa2d5051558();\n",
       "                };\n",
       "                document.getElementsByTagName(\"head\")[0].appendChild(script);\n",
       "            }\n",
       "            else {\n",
       "                renderPlotly_ebd18d09da7843b9876eeaa2d5051558();\n",
       "            }\r\n",
       "</script>\r\n"
      ]
     },
     "metadata": {},
     "output_type": "display_data"
    }
   ],
   "metadata": {
    "dotnet_interactive": {
     "language": "fsharp"
    }
   }
  },
  {
   "cell_type": "markdown",
   "source": [
    "# Changing Row and Column Size"
   ],
   "metadata": {}
  },
  {
   "cell_type": "code",
   "execution_count": null,
   "source": [
    "open Plotly.NET\r\n",
    "\r\n",
    "let loremIpsum = \"Lorem ipsum dolor sit amet, tollit discere inermis pri ut. Eos ea iusto timeam, an prima laboramus vim. Id usu aeterno adversarium, summo mollis timeam vel ad\"\r\n",
    "\r\n",
    "let headers = [ \"<b>EXPENSES</b><br>as of July 2017\"; \"<b>DESCRIPTION</b>\"]\r\n",
    "let rows = [\r\n",
    "     [\"Salaries\"; loremIpsum]\r\n",
    "     [\"Office\"; loremIpsum]\r\n",
    "     [\"Merchandise\"; loremIpsum]\r\n",
    "     [\"Legal\"; loremIpsum]\r\n",
    "     [\"<b>TOTAL<br>EXPENSES</b>\"; loremIpsum]\r\n",
    "]\r\n",
    "let cellColors =  [Color.fromString \"#AFEEEE\"; Color.fromString \"#FFFFFF\"]\r\n",
    "                  |> Color.fromColors\r\n",
    "\r\n",
    "Chart.Table(headers, \r\n",
    "            rows,\r\n",
    "            AlignHeader = [StyleParam.HorizontalAlign.Left],\r\n",
    "            AlignCells = [StyleParam.HorizontalAlign.Left],\r\n",
    "            ColumnWidth = [80; 400],\r\n",
    "            ColumnOrder = [1;2],\r\n",
    "            ColorHeader = Color.fromString \"#4169E1\",\r\n",
    "            FontHeader = Font.init(Color=Color.fromString \"#FFFFFF\"),            \r\n",
    "            ColorCells = cellColors)  \r\n",
    "    |> Chart.withSize (800.0, 500.0)  "
   ],
   "outputs": [
    {
     "data": {
      "text/html": [
       "<div id=\"aebe6fc4-2127-4962-a7fd-77d278290bdf\" style=\"width: 600px; height: 600px;\"><!-- Plotly chart will be drawn inside this DIV --></div>\r\n",
       "<script type=\"text/javascript\">\r\n",
       "\n",
       "            var renderPlotly_aebe6fc421274962a7fd77d278290bdf = function() {\n",
       "            var fsharpPlotlyRequire = requirejs.config({context:'fsharp-plotly',paths:{plotly:'https://cdn.plot.ly/plotly-latest.min'}}) || require;\n",
       "            fsharpPlotlyRequire(['plotly'], function(Plotly) {\r\n",
       "\n",
       "            var data = [{\"type\":\"table\",\"header\":{\"values\":[\"<b>EXPENSES</b><br>as of July 2017\",\"<b>DESCRIPTION</b>\"],\"align\":[\"left\"],\"fill\":{\"color\":\"#4169E1\"},\"font\":{\"color\":\"#FFFFFF\"}},\"cells\":{\"values\":[[\"Salaries\",\"Office\",\"Merchandise\",\"Legal\",\"<b>TOTAL<br>EXPENSES</b>\"],[\"Lorem ipsum dolor sit amet, tollit discere inermis pri ut. Eos ea iusto timeam, an prima laboramus vim. Id usu aeterno adversarium, summo mollis timeam vel ad\",\"Lorem ipsum dolor sit amet, tollit discere inermis pri ut. Eos ea iusto timeam, an prima laboramus vim. Id usu aeterno adversarium, summo mollis timeam vel ad\",\"Lorem ipsum dolor sit amet, tollit discere inermis pri ut. Eos ea iusto timeam, an prima laboramus vim. Id usu aeterno adversarium, summo mollis timeam vel ad\",\"Lorem ipsum dolor sit amet, tollit discere inermis pri ut. Eos ea iusto timeam, an prima laboramus vim. Id usu aeterno adversarium, summo mollis timeam vel ad\",\"Lorem ipsum dolor sit amet, tollit discere inermis pri ut. Eos ea iusto timeam, an prima laboramus vim. Id usu aeterno adversarium, summo mollis timeam vel ad\"]],\"align\":[\"left\"],\"fill\":{\"color\":[\"#AFEEEE\",\"#FFFFFF\"]}},\"columnwidth\":[80,400],\"columnorder\":[1,2]}];\n",
       "            var layout = {\"width\":800,\"height\":500};\n",
       "            var config = {};\n",
       "            Plotly.newPlot('aebe6fc4-2127-4962-a7fd-77d278290bdf', data, layout, config);\r\n",
       "});\n",
       "            };\n",
       "            if ((typeof(requirejs) !==  typeof(Function)) || (typeof(requirejs.config) !== typeof(Function))) {\n",
       "                var script = document.createElement(\"script\");\n",
       "                script.setAttribute(\"src\", \"https://cdnjs.cloudflare.com/ajax/libs/require.js/2.3.6/require.min.js\");\n",
       "                script.onload = function(){\n",
       "                    renderPlotly_aebe6fc421274962a7fd77d278290bdf();\n",
       "                };\n",
       "                document.getElementsByTagName(\"head\")[0].appendChild(script);\n",
       "            }\n",
       "            else {\n",
       "                renderPlotly_aebe6fc421274962a7fd77d278290bdf();\n",
       "            }\r\n",
       "</script>\r\n"
      ]
     },
     "metadata": {},
     "output_type": "display_data"
    }
   ],
   "metadata": {
    "dotnet_interactive": {
     "language": "fsharp"
    }
   }
  },
  {
   "cell_type": "markdown",
   "source": [
    "# Alternating Row Colors\r\n",
    "\r\n",
    "setting a 2D color array for ColorCells can create an alternaring row colors as shown below"
   ],
   "metadata": {}
  },
  {
   "cell_type": "code",
   "execution_count": null,
   "source": [
    "open Plotly.NET\r\n",
    "open System\r\n",
    "\r\n",
    "let headers = [\"<b>EXPENSES</b>\";\"<b>Q1</b>\";\"<b>Q2</b>\";\"<b>Q3</b>\";\"<b>Q4</b>\"]\r\n",
    "\r\n",
    "type CellValue = | Subtitle of string | Amount of int\r\n",
    "let renderCellValue value = match value with \r\n",
    "                            | Subtitle v -> v \r\n",
    "                            | Amount v -> v.ToString()\r\n",
    "\r\n",
    "let rows = [ [\"Salaries\"; \"1200000\" ;  \"1300000\" ;  \"1300000\" ;  \"1400000\" ];    \r\n",
    "             [ \"Office\"; \"20000\"; \"20000\"; \"20000\"; \"20000\"];\r\n",
    "             [ \"Merchandise\"; \"80000\"; \"70000\"; \"120000\"; \"90000\"];\r\n",
    "             [\"Legal\"; \"2000\"; \"2000\"; \"2000\"; \"2000\" ];\r\n",
    "             [\"<b>TOTAL</b>\"; \"12120000\"; \"130902000\"; \"131222000\"; \"1410200\"] ]\r\n",
    "\r\n",
    "let headerColor = Color.fromString \"grey\"\r\n",
    "let rowEvenColor = Color.fromString \"lightgrey\"\r\n",
    "let rowOddColor = Color.fromString \"white\"\r\n",
    "\r\n",
    "let cellColors = [[for i in 0..rows.Length-1 -> if (i%2 = 0) then rowEvenColor else rowOddColor]\r\n",
    "                  |> Color.fromColors] |> Color.fromColors\r\n",
    "\r\n",
    "Chart.Table(headers, \r\n",
    "            rows,\r\n",
    "            AlignHeader = [StyleParam.HorizontalAlign.Left],\r\n",
    "            AlignCells = [StyleParam.HorizontalAlign.Left; StyleParam.HorizontalAlign.Center],\r\n",
    "            ColorHeader = headerColor,\r\n",
    "            FontHeader = Font.init(Color=Color.fromString \"#FFFFFF\"),            \r\n",
    "            ColorCells = cellColors)  "
   ],
   "outputs": [
    {
     "data": {
      "text/html": [
       "<div id=\"a578ec5f-682f-440c-8548-372b82b978e2\" style=\"width: 600px; height: 600px;\"><!-- Plotly chart will be drawn inside this DIV --></div>\r\n",
       "<script type=\"text/javascript\">\r\n",
       "\n",
       "            var renderPlotly_a578ec5f682f440c8548372b82b978e2 = function() {\n",
       "            var fsharpPlotlyRequire = requirejs.config({context:'fsharp-plotly',paths:{plotly:'https://cdn.plot.ly/plotly-latest.min'}}) || require;\n",
       "            fsharpPlotlyRequire(['plotly'], function(Plotly) {\r\n",
       "\n",
       "            var data = [{\"type\":\"table\",\"header\":{\"values\":[\"<b>EXPENSES</b>\",\"<b>Q1</b>\",\"<b>Q2</b>\",\"<b>Q3</b>\",\"<b>Q4</b>\"],\"align\":[\"left\"],\"fill\":{\"color\":\"grey\"},\"font\":{\"color\":\"#FFFFFF\"}},\"cells\":{\"values\":[[\"Salaries\",\"Office\",\"Merchandise\",\"Legal\",\"<b>TOTAL</b>\"],[\"1200000\",\"20000\",\"80000\",\"2000\",\"12120000\"],[\"1300000\",\"20000\",\"70000\",\"2000\",\"130902000\"],[\"1300000\",\"20000\",\"120000\",\"2000\",\"131222000\"],[\"1400000\",\"20000\",\"90000\",\"2000\",\"1410200\"]],\"align\":[\"left\",\"center\"],\"fill\":{\"color\":[[\"lightgrey\",\"white\",\"lightgrey\",\"white\",\"lightgrey\"]]}}}];\n",
       "            var layout = {};\n",
       "            var config = {};\n",
       "            Plotly.newPlot('a578ec5f-682f-440c-8548-372b82b978e2', data, layout, config);\r\n",
       "});\n",
       "            };\n",
       "            if ((typeof(requirejs) !==  typeof(Function)) || (typeof(requirejs.config) !== typeof(Function))) {\n",
       "                var script = document.createElement(\"script\");\n",
       "                script.setAttribute(\"src\", \"https://cdnjs.cloudflare.com/ajax/libs/require.js/2.3.6/require.min.js\");\n",
       "                script.onload = function(){\n",
       "                    renderPlotly_a578ec5f682f440c8548372b82b978e2();\n",
       "                };\n",
       "                document.getElementsByTagName(\"head\")[0].appendChild(script);\n",
       "            }\n",
       "            else {\n",
       "                renderPlotly_a578ec5f682f440c8548372b82b978e2();\n",
       "            }\r\n",
       "</script>\r\n"
      ]
     },
     "metadata": {},
     "output_type": "display_data"
    }
   ],
   "metadata": {
    "dotnet_interactive": {
     "language": "fsharp"
    }
   }
  },
  {
   "cell_type": "markdown",
   "source": [
    "# Row Color Based on Variable"
   ],
   "metadata": {}
  },
  {
   "cell_type": "code",
   "execution_count": null,
   "source": [
    "open Plotly.NET\r\n",
    "\r\n",
    "let headers = [\"Color\"; \"<b>YEAR</b>\"]\r\n",
    "\r\n",
    "let rows = [\r\n",
    "                [\"#EFF3FF\"; \"2010\"];\r\n",
    "                [\"#BDD7E7\"; \"2011\"];\r\n",
    "                [\"#6BAED6\"; \"2012\"];\r\n",
    "                [\"#3182BD\"; \"2013\"];\r\n",
    "                [\"#08519C\"; \"2014\"]\r\n",
    "            ];\r\n",
    "\r\n",
    "let cellColors = [[\"#EFF3FF\"; \"#BDD7E7\"; \"#6BAED6\"; \"#3182BD\"; \"#08519C\"]]\r\n",
    "                    |> Seq.map (fun ca -> ca \r\n",
    "                                            |> Seq.map (fun c -> Color.fromString c) \r\n",
    "                                            |> Color.fromColors)\r\n",
    "                    |> Color.fromColors\r\n",
    "\r\n",
    "Chart.Table(headers, \r\n",
    "            rows,\r\n",
    "            ColorCells = cellColors )  "
   ],
   "outputs": [
    {
     "data": {
      "text/html": [
       "<div id=\"c4a674f1-d1da-49a3-936f-be41e8af876e\" style=\"width: 600px; height: 600px;\"><!-- Plotly chart will be drawn inside this DIV --></div>\r\n",
       "<script type=\"text/javascript\">\r\n",
       "\n",
       "            var renderPlotly_c4a674f1d1da49a3936fbe41e8af876e = function() {\n",
       "            var fsharpPlotlyRequire = requirejs.config({context:'fsharp-plotly',paths:{plotly:'https://cdn.plot.ly/plotly-latest.min'}}) || require;\n",
       "            fsharpPlotlyRequire(['plotly'], function(Plotly) {\r\n",
       "\n",
       "            var data = [{\"type\":\"table\",\"header\":{\"values\":[\"Color\",\"<b>YEAR</b>\"]},\"cells\":{\"values\":[[\"#EFF3FF\",\"#BDD7E7\",\"#6BAED6\",\"#3182BD\",\"#08519C\"],[\"2010\",\"2011\",\"2012\",\"2013\",\"2014\"]],\"fill\":{\"color\":[[\"#EFF3FF\",\"#BDD7E7\",\"#6BAED6\",\"#3182BD\",\"#08519C\"]]}}}];\n",
       "            var layout = {};\n",
       "            var config = {};\n",
       "            Plotly.newPlot('c4a674f1-d1da-49a3-936f-be41e8af876e', data, layout, config);\r\n",
       "});\n",
       "            };\n",
       "            if ((typeof(requirejs) !==  typeof(Function)) || (typeof(requirejs.config) !== typeof(Function))) {\n",
       "                var script = document.createElement(\"script\");\n",
       "                script.setAttribute(\"src\", \"https://cdnjs.cloudflare.com/ajax/libs/require.js/2.3.6/require.min.js\");\n",
       "                script.onload = function(){\n",
       "                    renderPlotly_c4a674f1d1da49a3936fbe41e8af876e();\n",
       "                };\n",
       "                document.getElementsByTagName(\"head\")[0].appendChild(script);\n",
       "            }\n",
       "            else {\n",
       "                renderPlotly_c4a674f1d1da49a3936fbe41e8af876e();\n",
       "            }\r\n",
       "</script>\r\n"
      ]
     },
     "metadata": {},
     "output_type": "display_data"
    }
   ],
   "metadata": {
    "dotnet_interactive": {
     "language": "fsharp"
    }
   }
  },
  {
   "cell_type": "markdown",
   "source": [
    "# Cell Color Based on Variable"
   ],
   "metadata": {}
  },
  {
   "cell_type": "code",
   "execution_count": null,
   "source": [
    "let headers = [\"<b>Column A</b>\"; \"<b>Column B</b>\"; \"<b>Column C</b>\"]\r\n",
    "\r\n",
    "let rows = [\r\n",
    "                [\"5\"; \"5\"; \"6\"]\r\n",
    "                [\"8\"; \"2\"; \"7\"]\r\n",
    "                [\"5\"; \"4\"; \"6\"]\r\n",
    "                [\"0\"; \"2\"; \"1\"]\r\n",
    "                [\"0\"; \"4\"; \"0\"]\r\n",
    "                [\"1\"; \"7\"; \"1\"]\r\n",
    "                [\"7\"; \"7\"; \"8\"]\r\n",
    "                [\"6\"; \"1\"; \"8\"]\r\n",
    "                [\"2\"; \"7\"; \"3\"]\r\n",
    "                [\"4\"; \"0\"; \"8\"]\r\n",
    "            ];\r\n",
    "\r\n",
    "let random = new Random()\r\n",
    "\r\n",
    "let cellColors = [for i in 0..rows.Length-1 ->\r\n",
    "                    [for j in 0..2 -> Color.fromString (String.Format(\"#{0:X6}\", random.Next(0x1000000)))]\r\n",
    "                    |> Color.fromColors]\r\n",
    "                 |> Color.fromColors\r\n",
    "\r\n",
    "Chart.Table(headers, \r\n",
    "            rows,\r\n",
    "            ColorCells = cellColors,\r\n",
    "            FontCells = Font.init(Color=Color.fromString \"#FFFFFF\"))  "
   ],
   "outputs": [
    {
     "data": {
      "text/html": [
       "<div id=\"cd52511f-59e7-47b4-b38c-49a828f782ff\" style=\"width: 600px; height: 600px;\"><!-- Plotly chart will be drawn inside this DIV --></div>\r\n",
       "<script type=\"text/javascript\">\r\n",
       "\n",
       "            var renderPlotly_cd52511f59e747b4b38c49a828f782ff = function() {\n",
       "            var fsharpPlotlyRequire = requirejs.config({context:'fsharp-plotly',paths:{plotly:'https://cdn.plot.ly/plotly-latest.min'}}) || require;\n",
       "            fsharpPlotlyRequire(['plotly'], function(Plotly) {\r\n",
       "\n",
       "            var data = [{\"type\":\"table\",\"header\":{\"values\":[\"<b>Column A</b>\",\"<b>Column B</b>\",\"<b>Column C</b>\"]},\"cells\":{\"values\":[[\"5\",\"8\",\"5\",\"0\",\"0\",\"1\",\"7\",\"6\",\"2\",\"4\"],[\"5\",\"2\",\"4\",\"2\",\"4\",\"7\",\"7\",\"1\",\"7\",\"0\"],[\"6\",\"7\",\"6\",\"1\",\"0\",\"1\",\"8\",\"8\",\"3\",\"8\"]],\"fill\":{\"color\":[[\"#F97F3B\",\"#BAAF06\",\"#C7DB1B\"],[\"#DF54E5\",\"#8A48C7\",\"#99271D\"],[\"#4E8F3E\",\"#1B7D2D\",\"#A38D44\"],[\"#211ABE\",\"#A0E930\",\"#32FE71\"],[\"#CFD81B\",\"#3ABBCC\",\"#CDD77A\"],[\"#D4C14F\",\"#5340FB\",\"#0AADC8\"],[\"#352F66\",\"#9BB626\",\"#2C1477\"],[\"#69272E\",\"#D21F2B\",\"#0407D8\"],[\"#F97B98\",\"#8BDD19\",\"#729EE6\"],[\"#6816A3\",\"#958E6F\",\"#1AFE8B\"]]},\"font\":{\"color\":\"#FFFFFF\"}}}];\n",
       "            var layout = {};\n",
       "            var config = {};\n",
       "            Plotly.newPlot('cd52511f-59e7-47b4-b38c-49a828f782ff', data, layout, config);\r\n",
       "});\n",
       "            };\n",
       "            if ((typeof(requirejs) !==  typeof(Function)) || (typeof(requirejs.config) !== typeof(Function))) {\n",
       "                var script = document.createElement(\"script\");\n",
       "                script.setAttribute(\"src\", \"https://cdnjs.cloudflare.com/ajax/libs/require.js/2.3.6/require.min.js\");\n",
       "                script.onload = function(){\n",
       "                    renderPlotly_cd52511f59e747b4b38c49a828f782ff();\n",
       "                };\n",
       "                document.getElementsByTagName(\"head\")[0].appendChild(script);\n",
       "            }\n",
       "            else {\n",
       "                renderPlotly_cd52511f59e747b4b38c49a828f782ff();\n",
       "            }\r\n",
       "</script>\r\n"
      ]
     },
     "metadata": {},
     "output_type": "display_data"
    }
   ],
   "metadata": {
    "dotnet_interactive": {
     "language": "fsharp"
    }
   }
  }
 ],
 "nbformat": 4,
 "nbformat_minor": 2
}