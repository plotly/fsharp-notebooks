{
 "metadata": {
  "kernelspec": {
   "display_name": ".NET (F#)",
   "language": "F#",
   "name": ".net-fsharp"
  },
  "language_info": {
   "name": "F#"
  }
 },
 "cells": [
  {
   "cell_type": "code",
   "execution_count": null,
   "source": [
    "#r \"nuget: Plotly.NET, 2.0.0-preview.8\"\r\n",
    "#r \"nuget: Plotly.NET.Interactive, 2.0.0-preview.8\"\r\n",
    "#r \"nuget: FSharp.Data\"\r\n",
    "#r \"nuget:Deedle\""
   ],
   "outputs": [
    {
     "output_type": "display_data",
     "data": {
      "text/html": ""
     },
     "metadata": {}
    },
    {
     "output_type": "display_data",
     "data": {
      "text/markdown": ""
     },
     "metadata": {}
    },
    {
     "output_type": "display_data",
     "data": {
      "text/markdown": ""
     },
     "metadata": {}
    }
   ],
   "metadata": {
    "dotnet_interactive": {
     "language": "fsharp"
    }
   }
  },
  {
   "cell_type": "markdown",
   "source": [
    "# Basic Table\r\n",
    "\r\n",
    "Chart.Table provides a Table object for detailed data viewing. The data are arranged in a grid of rows and columns. Most styling can be specified for header, columns, rows or individual cells. Table is using a column-major order, ie. the grid is represented as a vector of column vectors."
   ],
   "metadata": {}
  },
  {
   "cell_type": "code",
   "execution_count": null,
   "source": [
    "open Plotly.NET\r\n",
    "\r\n",
    "let header = [\"A Scores\";\"B Scores\"]\r\n",
    "let rows = \r\n",
    "    [\r\n",
    "        [100; 95]\r\n",
    "        [90; 85]\r\n",
    "        [80; 75]\r\n",
    "        [90; 95]\r\n",
    "    ]\r\n",
    "\r\n",
    "Chart.Table(header, rows)"
   ],
   "outputs": [
    {
     "output_type": "display_data",
     "data": {
      "text/html": ""
     },
     "metadata": {}
    }
   ],
   "metadata": {
    "dotnet_interactive": {
     "language": "fsharp"
    }
   }
  },
  {
   "cell_type": "markdown",
   "source": [
    "# Styled Table\r\n",
    "\r\n",
    "Chart.Table provides several properties for styling as shown below"
   ],
   "metadata": {}
  },
  {
   "cell_type": "code",
   "execution_count": null,
   "source": [
    "let header = [\"A Scores\";\"B Scores\"]\r\n",
    "let rows = \r\n",
    "    [\r\n",
    "        [100; 95]\r\n",
    "        [90; 85]\r\n",
    "        [80; 75]\r\n",
    "        [90; 95]\r\n",
    "    ]\r\n",
    "\r\n",
    "let headerLineStyle = Line.init(Color=Color.fromString \"#2f4f4f\")    \r\n",
    "let cellLineStyle = Line.init(Color=Color.fromString \"#2f4f4f\")    \r\n",
    "let width = 500.0\r\n",
    "let height = 300.0\r\n",
    "\r\n",
    "Chart.Table(header, \r\n",
    "            rows,\r\n",
    "            AlignHeader = [StyleParam.HorizontalAlign.Left],\r\n",
    "            AlignCells = [StyleParam.HorizontalAlign.Left],\r\n",
    "            ColorHeader = Color.fromString \"#87CEFA\",\r\n",
    "            ColorCells = Color.fromString \"#E0FFFF\",\r\n",
    "            LineHeader = headerLineStyle,\r\n",
    "            LineCells = cellLineStyle) \r\n",
    "    |> Chart.withSize (width, height)"
   ],
   "outputs": [
    {
     "output_type": "display_data",
     "data": {
      "text/html": ""
     },
     "metadata": {}
    }
   ],
   "metadata": {
    "dotnet_interactive": {
     "language": "fsharp"
    }
   }
  },
  {
   "cell_type": "markdown",
   "source": [
    "# Using a Dataframe"
   ],
   "metadata": {}
  },
  {
   "cell_type": "code",
   "execution_count": null,
   "source": [
    "open FSharp.Data\r\n",
    "open Plotly.NET\r\n",
    "open Deedle\r\n",
    "\r\n",
    "let data = CsvFile.Load(@\"https://raw.githubusercontent.com/plotly/datasets/master/2014_usa_states.csv\")\r\n",
    "\r\n",
    "let headers = match data.Headers with \r\n",
    "              | Some h -> h \r\n",
    "              | None -> [||]\r\n",
    "\r\n",
    "let rows = data.Rows |> Seq.map(fun r -> [r.GetColumn(\"Rank\")\r\n",
    "                                          r.GetColumn(\"State\")\r\n",
    "                                          r.GetColumn(\"Postal\")\r\n",
    "                                          r.GetColumn(\"Population\")])\r\n",
    "\r\n",
    "Chart.Table(headers, \r\n",
    "            rows,\r\n",
    "            AlignHeader = [StyleParam.HorizontalAlign.Left],\r\n",
    "            AlignCells = [StyleParam.HorizontalAlign.Left],\r\n",
    "            ColorHeader = Color.fromString \"#AFEEEE\",\r\n",
    "            ColorCells = Color.fromString \"#E6E6FA\")        "
   ],
   "outputs": [
    {
     "output_type": "display_data",
     "data": {
      "text/html": ""
     },
     "metadata": {}
    }
   ],
   "metadata": {
    "dotnet_interactive": {
     "language": "fsharp"
    }
   }
  },
  {
   "cell_type": "markdown",
   "source": [
    "# Changing Row and Column Size"
   ],
   "metadata": {}
  },
  {
   "cell_type": "code",
   "execution_count": null,
   "source": [
    "open Plotly.NET\r\n",
    "\r\n",
    "let loremIpsum = \"Lorem ipsum dolor sit amet, tollit discere inermis pri ut. Eos ea iusto timeam, an prima laboramus vim. Id usu aeterno adversarium, summo mollis timeam vel ad\"\r\n",
    "\r\n",
    "let headers = [ \"<b>EXPENSES</b><br>as of July 2017\"; \"<b>DESCRIPTION</b>\"]\r\n",
    "let rows = [\r\n",
    "     [\"Salaries\"; loremIpsum]\r\n",
    "     [\"Office\"; loremIpsum]\r\n",
    "     [\"Merchandise\"; loremIpsum]\r\n",
    "     [\"Legal\"; loremIpsum]\r\n",
    "     [\"<b>TOTAL<br>EXPENSES</b>\"; loremIpsum]\r\n",
    "]\r\n",
    "let cellColors =  [Color.fromString \"#AFEEEE\"; Color.fromString \"#FFFFFF\"]\r\n",
    "                  |> Color.fromColors\r\n",
    "\r\n",
    "Chart.Table(headers, \r\n",
    "            rows,\r\n",
    "            AlignHeader = [StyleParam.HorizontalAlign.Left],\r\n",
    "            AlignCells = [StyleParam.HorizontalAlign.Left],\r\n",
    "            ColumnWidth = [80; 400],\r\n",
    "            ColumnOrder = [1;2],\r\n",
    "            ColorHeader = Color.fromString \"#4169E1\",\r\n",
    "            FontHeader = Font.init(Color=Color.fromString \"#FFFFFF\"),            \r\n",
    "            ColorCells = cellColors)  \r\n",
    "    |> Chart.withSize (800.0, 500.0)  "
   ],
   "outputs": [
    {
     "output_type": "display_data",
     "data": {
      "text/html": ""
     },
     "metadata": {}
    }
   ],
   "metadata": {
    "dotnet_interactive": {
     "language": "fsharp"
    }
   }
  },
  {
   "cell_type": "markdown",
   "source": [
    "# Alternating Row Colors\r\n",
    "\r\n",
    "setting a 2D color array for ColorCells can create an alternaring row colors as shown below"
   ],
   "metadata": {}
  },
  {
   "cell_type": "code",
   "execution_count": null,
   "source": [
    "open Plotly.NET\r\n",
    "open System\r\n",
    "\r\n",
    "let headers = [\"<b>EXPENSES</b>\";\"<b>Q1</b>\";\"<b>Q2</b>\";\"<b>Q3</b>\";\"<b>Q4</b>\"]\r\n",
    "\r\n",
    "type CellValue = | Subtitle of string | Amount of int\r\n",
    "let renderCellValue value = match value with \r\n",
    "                            | Subtitle v -> v \r\n",
    "                            | Amount v -> v.ToString()\r\n",
    "\r\n",
    "let rows = [ [\"Salaries\"; \"1200000\" ;  \"1300000\" ;  \"1300000\" ;  \"1400000\" ];    \r\n",
    "             [ \"Office\"; \"20000\"; \"20000\"; \"20000\"; \"20000\"];\r\n",
    "             [ \"Merchandise\"; \"80000\"; \"70000\"; \"120000\"; \"90000\"];\r\n",
    "             [\"Legal\"; \"2000\"; \"2000\"; \"2000\"; \"2000\" ];\r\n",
    "             [\"<b>TOTAL</b>\"; \"12120000\"; \"130902000\"; \"131222000\"; \"1410200\"] ]\r\n",
    "\r\n",
    "let headerColor = Color.fromString \"grey\"\r\n",
    "let rowEvenColor = Color.fromString \"lightgrey\"\r\n",
    "let rowOddColor = Color.fromString \"white\"\r\n",
    "\r\n",
    "let cellColors = [[for i in 0..rows.Length-1 -> if (i%2 = 0) then rowEvenColor else rowOddColor]\r\n",
    "                  |> Color.fromColors] |> Color.fromColors\r\n",
    "\r\n",
    "Chart.Table(headers, \r\n",
    "            rows,\r\n",
    "            AlignHeader = [StyleParam.HorizontalAlign.Left],\r\n",
    "            AlignCells = [StyleParam.HorizontalAlign.Left; StyleParam.HorizontalAlign.Center],\r\n",
    "            ColorHeader = headerColor,\r\n",
    "            FontHeader = Font.init(Color=Color.fromString \"#FFFFFF\"),            \r\n",
    "            ColorCells = cellColors)  "
   ],
   "outputs": [
    {
     "output_type": "display_data",
     "data": {
      "text/html": ""
     },
     "metadata": {}
    }
   ],
   "metadata": {
    "dotnet_interactive": {
     "language": "fsharp"
    }
   }
  },
  {
   "cell_type": "markdown",
   "source": [
    "# Row Color Based on Variable"
   ],
   "metadata": {}
  },
  {
   "cell_type": "code",
   "execution_count": null,
   "source": [
    "open Plotly.NET\r\n",
    "\r\n",
    "let headers = [\"Color\"; \"<b>YEAR</b>\"]\r\n",
    "\r\n",
    "let rows = [\r\n",
    "                [\"#EFF3FF\"; \"2010\"];\r\n",
    "                [\"#BDD7E7\"; \"2011\"];\r\n",
    "                [\"#6BAED6\"; \"2012\"];\r\n",
    "                [\"#3182BD\"; \"2013\"];\r\n",
    "                [\"#08519C\"; \"2014\"]\r\n",
    "            ];\r\n",
    "\r\n",
    "let cellColors = [[\"#EFF3FF\"; \"#BDD7E7\"; \"#6BAED6\"; \"#3182BD\"; \"#08519C\"]]\r\n",
    "                    |> Seq.map (fun ca -> ca \r\n",
    "                                            |> Seq.map (fun c -> Color.fromString c) \r\n",
    "                                            |> Color.fromColors)\r\n",
    "                    |> Color.fromColors\r\n",
    "\r\n",
    "Chart.Table(headers, \r\n",
    "            rows,\r\n",
    "            ColorCells = cellColors )  "
   ],
   "outputs": [
    {
     "output_type": "display_data",
     "data": {
      "text/html": ""
     },
     "metadata": {}
    }
   ],
   "metadata": {
    "dotnet_interactive": {
     "language": "fsharp"
    }
   }
  },
  {
   "cell_type": "markdown",
   "source": [
    "# Cell Color Based on Variable"
   ],
   "metadata": {}
  },
  {
   "cell_type": "code",
   "execution_count": null,
   "source": [
    "let headers = [\"<b>Column A</b>\"; \"<b>Column B</b>\"; \"<b>Column C</b>\"]\r\n",
    "\r\n",
    "let rows = [\r\n",
    "                [\"5\"; \"5\"; \"6\"]\r\n",
    "                [\"8\"; \"2\"; \"7\"]\r\n",
    "                [\"5\"; \"4\"; \"6\"]\r\n",
    "                [\"0\"; \"2\"; \"1\"]\r\n",
    "                [\"0\"; \"4\"; \"0\"]\r\n",
    "                [\"1\"; \"7\"; \"1\"]\r\n",
    "                [\"7\"; \"7\"; \"8\"]\r\n",
    "                [\"6\"; \"1\"; \"8\"]\r\n",
    "                [\"2\"; \"7\"; \"3\"]\r\n",
    "                [\"4\"; \"0\"; \"8\"]\r\n",
    "            ];\r\n",
    "\r\n",
    "let random = new Random()\r\n",
    "\r\n",
    "let cellColors = [for i in 0..rows.Length-1 ->\r\n",
    "                    [for j in 0..2 -> Color.fromString (String.Format(\"#{0:X6}\", random.Next(0x1000000)))]\r\n",
    "                    |> Color.fromColors]\r\n",
    "                 |> Color.fromColors\r\n",
    "\r\n",
    "Chart.Table(headers, \r\n",
    "            rows,\r\n",
    "            ColorCells = cellColors,\r\n",
    "            FontCells = Font.init(Color=Color.fromString \"#FFFFFF\"))  "
   ],
   "outputs": [
    {
     "output_type": "display_data",
     "data": {
      "text/html": ""
     },
     "metadata": {}
    }
   ],
   "metadata": {
    "dotnet_interactive": {
     "language": "fsharp"
    }
   }
  }
 ],
 "nbformat": 4,
 "nbformat_minor": 2
}