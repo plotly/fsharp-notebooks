{
 "metadata": {
  "kernelspec": {
   "display_name": ".NET (F#)",
   "language": "F#",
   "name": ".net-fsharp"
  },
  "language_info": {
   "name": "F#"
  }
 },
 "cells": [
  {
   "cell_type": "markdown",
   "source": [
    "# Filled Area Charts"
   ],
   "metadata": {}
  },
  {
   "cell_type": "markdown",
   "source": [
    "## Imports"
   ],
   "metadata": {}
  },
  {
   "cell_type": "code",
   "execution_count": null,
   "source": [
    "#r \"nuget: Plotly.NET, 2.0.0-preview.6\"\r\n",
    "#r \"nuget: Plotly.NET.Interactive, 2.0.0-preview.6\"\r\n",
    "open Plotly.NET"
   ],
   "outputs": [
    {
     "data": {
      "text/html": [
       "<div><div></div><div></div><div><strong>Installed Packages</strong><ul><li><span>Plotly.NET, 2.0.0-preview.6</span></li><li><span>Plotly.NET.Interactive, 2.0.0-preview.6</span></li></ul></div></div>"
      ]
     },
     "metadata": {},
     "output_type": "display_data"
    },
    {
     "data": {
      "text/markdown": [
       "Loading extensions from `Plotly.NET.Interactive.dll`"
      ]
     },
     "metadata": {},
     "output_type": "display_data"
    },
    {
     "data": {
      "text/markdown": [
       "Added Kernel Extension including formatters for Plotly.NET charts."
      ]
     },
     "metadata": {},
     "output_type": "display_data"
    }
   ],
   "metadata": {
    "dotnet_interactive": {
     "language": "fsharp"
    }
   }
  },
  {
   "cell_type": "markdown",
   "source": [
    "## Filled area chart with plotly.graph_objects"
   ],
   "metadata": {}
  },
  {
   "cell_type": "code",
   "execution_count": null,
   "source": [
    "open Plotly.NET\r\n",
    "\r\n",
    "let x = [1; 2; 3; 4]\r\n",
    "let y0 = [0; 2; 3; 5]\r\n",
    "let y1 = [3; 5; 1; 7]\r\n",
    "\r\n",
    "[\r\n",
    "    Chart.Area(x, y0) \r\n",
    "    Chart.Area(x, y1)\r\n",
    "] \r\n",
    "|> Chart.Combine"
   ],
   "outputs": [
    {
     "data": {
      "text/html": [
       "<div id=\"fdeaf216-266d-4b1c-9c0c-3ceb85b1b0b4\" style=\"width: 600px; height: 600px;\"><!-- Plotly chart will be drawn inside this DIV --></div>\r\n",
       "<script type=\"text/javascript\">\r\n",
       "\n",
       "            var renderPlotly_fdeaf216266d4b1c9c0c3ceb85b1b0b4 = function() {\n",
       "            var fsharpPlotlyRequire = requirejs.config({context:'fsharp-plotly',paths:{plotly:'https://cdn.plot.ly/plotly-latest.min'}}) || require;\n",
       "            fsharpPlotlyRequire(['plotly'], function(Plotly) {\r\n",
       "\n",
       "            var data = [{\"type\":\"scatter\",\"x\":[1,2,3,4],\"y\":[0,2,3,5],\"mode\":\"lines\",\"fill\":\"tozeroy\",\"line\":{},\"marker\":{}},{\"type\":\"scatter\",\"x\":[1,2,3,4],\"y\":[3,5,1,7],\"mode\":\"lines\",\"fill\":\"tozeroy\",\"line\":{},\"marker\":{}}];\n",
       "            var layout = {};\n",
       "            var config = {};\n",
       "            Plotly.newPlot('fdeaf216-266d-4b1c-9c0c-3ceb85b1b0b4', data, layout, config);\r\n",
       "});\n",
       "            };\n",
       "            if ((typeof(requirejs) !==  typeof(Function)) || (typeof(requirejs.config) !== typeof(Function))) {\n",
       "                var script = document.createElement(\"script\");\n",
       "                script.setAttribute(\"src\", \"https://cdnjs.cloudflare.com/ajax/libs/require.js/2.3.6/require.min.js\");\n",
       "                script.onload = function(){\n",
       "                    renderPlotly_fdeaf216266d4b1c9c0c3ceb85b1b0b4();\n",
       "                };\n",
       "                document.getElementsByTagName(\"head\")[0].appendChild(script);\n",
       "            }\n",
       "            else {\n",
       "                renderPlotly_fdeaf216266d4b1c9c0c3ceb85b1b0b4();\n",
       "            }\r\n",
       "</script>\r\n"
      ]
     },
     "metadata": {},
     "output_type": "display_data"
    }
   ],
   "metadata": {
    "dotnet_interactive": {
     "language": "fsharp"
    }
   }
  },
  {
   "cell_type": "markdown",
   "source": [
    "## Overlaid Area Chart Without Boundary Lines"
   ],
   "metadata": {}
  },
  {
   "cell_type": "code",
   "execution_count": null,
   "source": [
    "open Plotly.NET\r\n",
    "\r\n",
    "let x = [1; 2; 3; 4]\r\n",
    "let y0 = [0; 2; 3; 5]\r\n",
    "let y1 = [3; 5; 1; 7]\r\n",
    "\r\n",
    "[\r\n",
    "    Chart.Area(x, y0) \r\n",
    "    Chart.Area(x, y1)\r\n",
    "] \r\n",
    "|> Chart.Combine\r\n",
    "|> Chart.withLineStyle(Width=0.0)"
   ],
   "outputs": [
    {
     "data": {
      "text/html": [
       "<div id=\"632dca87-3538-487d-83a1-dbc76e4e0da0\" style=\"width: 600px; height: 600px;\"><!-- Plotly chart will be drawn inside this DIV --></div>\r\n",
       "<script type=\"text/javascript\">\r\n",
       "\n",
       "            var renderPlotly_632dca873538487d83a1dbc76e4e0da0 = function() {\n",
       "            var fsharpPlotlyRequire = requirejs.config({context:'fsharp-plotly',paths:{plotly:'https://cdn.plot.ly/plotly-latest.min'}}) || require;\n",
       "            fsharpPlotlyRequire(['plotly'], function(Plotly) {\r\n",
       "\n",
       "            var data = [{\"type\":\"scatter\",\"x\":[1,2,3,4],\"y\":[0,2,3,5],\"mode\":\"lines\",\"fill\":\"tozeroy\",\"line\":{\"width\":0.0},\"marker\":{}},{\"type\":\"scatter\",\"x\":[1,2,3,4],\"y\":[3,5,1,7],\"mode\":\"lines\",\"fill\":\"tozeroy\",\"line\":{\"width\":0.0},\"marker\":{}}];\n",
       "            var layout = {};\n",
       "            var config = {};\n",
       "            Plotly.newPlot('632dca87-3538-487d-83a1-dbc76e4e0da0', data, layout, config);\r\n",
       "});\n",
       "            };\n",
       "            if ((typeof(requirejs) !==  typeof(Function)) || (typeof(requirejs.config) !== typeof(Function))) {\n",
       "                var script = document.createElement(\"script\");\n",
       "                script.setAttribute(\"src\", \"https://cdnjs.cloudflare.com/ajax/libs/require.js/2.3.6/require.min.js\");\n",
       "                script.onload = function(){\n",
       "                    renderPlotly_632dca873538487d83a1dbc76e4e0da0();\n",
       "                };\n",
       "                document.getElementsByTagName(\"head\")[0].appendChild(script);\n",
       "            }\n",
       "            else {\n",
       "                renderPlotly_632dca873538487d83a1dbc76e4e0da0();\n",
       "            }\r\n",
       "</script>\r\n"
      ]
     },
     "metadata": {},
     "output_type": "display_data"
    }
   ],
   "metadata": {
    "dotnet_interactive": {
     "language": "fsharp"
    }
   }
  },
  {
   "cell_type": "markdown",
   "source": [
    "## Interior Filling for Area Chart"
   ],
   "metadata": {}
  },
  {
   "cell_type": "code",
   "execution_count": null,
   "source": [
    "open Plotly.NET\r\n",
    "\r\n",
    "let x = [1; 2; 3; 4]\r\n",
    "let y0 = [3; 4; 8; 3]\r\n",
    "let y1 = [1; 6; 2; 6]\r\n",
    "\r\n",
    "let stackGroup = \"filling\"\r\n",
    "\r\n",
    "[\r\n",
    "    Chart.Scatter(x, y0, Plotly.NET.StyleParam.Mode.Lines, Color = \"indigo\")\r\n",
    "    Chart.Scatter(x, y1, Plotly.NET.StyleParam.Mode.Lines, Color = \"indigo\") |> GenericChart.mapTrace(fun x -> x.SetValue(\"fill\", \"tonexty\"); x)\r\n",
    "]\r\n",
    "|> Chart.Combine\r\n",
    "\r\n"
   ],
   "outputs": [
    {
     "data": {
      "text/html": [
       "<div id=\"9d827e7f-5e83-43bb-a493-49fd1a66cce6\" style=\"width: 600px; height: 600px;\"><!-- Plotly chart will be drawn inside this DIV --></div>\r\n",
       "<script type=\"text/javascript\">\r\n",
       "\n",
       "            var renderPlotly_9d827e7f5e8343bba49349fd1a66cce6 = function() {\n",
       "            var fsharpPlotlyRequire = requirejs.config({context:'fsharp-plotly',paths:{plotly:'https://cdn.plot.ly/plotly-latest.min'}}) || require;\n",
       "            fsharpPlotlyRequire(['plotly'], function(Plotly) {\r\n",
       "\n",
       "            var data = [{\"type\":\"scatter\",\"x\":[1,2,3,4],\"y\":[3,4,8,3],\"mode\":\"lines\",\"line\":{\"color\":\"indigo\"},\"marker\":{\"color\":\"indigo\"}},{\"type\":\"scatter\",\"x\":[1,2,3,4],\"y\":[1,6,2,6],\"mode\":\"lines\",\"line\":{\"color\":\"indigo\"},\"marker\":{\"color\":\"indigo\"},\"fill\":\"tonexty\"}];\n",
       "            var layout = {};\n",
       "            var config = {};\n",
       "            Plotly.newPlot('9d827e7f-5e83-43bb-a493-49fd1a66cce6', data, layout, config);\r\n",
       "});\n",
       "            };\n",
       "            if ((typeof(requirejs) !==  typeof(Function)) || (typeof(requirejs.config) !== typeof(Function))) {\n",
       "                var script = document.createElement(\"script\");\n",
       "                script.setAttribute(\"src\", \"https://cdnjs.cloudflare.com/ajax/libs/require.js/2.3.6/require.min.js\");\n",
       "                script.onload = function(){\n",
       "                    renderPlotly_9d827e7f5e8343bba49349fd1a66cce6();\n",
       "                };\n",
       "                document.getElementsByTagName(\"head\")[0].appendChild(script);\n",
       "            }\n",
       "            else {\n",
       "                renderPlotly_9d827e7f5e8343bba49349fd1a66cce6();\n",
       "            }\r\n",
       "</script>\r\n"
      ]
     },
     "metadata": {},
     "output_type": "display_data"
    }
   ],
   "metadata": {
    "dotnet_interactive": {
     "language": "fsharp"
    }
   }
  },
  {
   "cell_type": "markdown",
   "source": [
    "## Stacked Area Chart"
   ],
   "metadata": {}
  },
  {
   "cell_type": "code",
   "execution_count": null,
   "source": [
    "open Plotly.NET\r\n",
    "\r\n",
    "let x = [\"Winter\"; \"Spring\"; \"Summer\"; \"Fall\"]\r\n",
    "let y0 = [40; 60; 40; 10]\r\n",
    "let y1 = [20; 10; 10; 60]\r\n",
    "let y2 = [40; 30; 50; 30]\r\n",
    "\r\n",
    "[\r\n",
    "    Chart.StackedArea(x, y0, Color=\"#B4A3F4\") \r\n",
    "    Chart.StackedArea(x, y1, Color=\"#AAE9E8\")\r\n",
    "    Chart.StackedArea(x, y2, Color=\"#CEF2E5\")\r\n",
    "] \r\n",
    "|> Chart.Combine\r\n",
    "|> Chart.withLineStyle(Width=0.0)"
   ],
   "outputs": [
    {
     "data": {
      "text/html": [
       "<div id=\"e3b07fa8-60eb-4409-bdd3-ea1c367ab378\" style=\"width: 600px; height: 600px;\"><!-- Plotly chart will be drawn inside this DIV --></div>\r\n",
       "<script type=\"text/javascript\">\r\n",
       "\n",
       "            var renderPlotly_e3b07fa860eb4409bdd3ea1c367ab378 = function() {\n",
       "            var fsharpPlotlyRequire = requirejs.config({context:'fsharp-plotly',paths:{plotly:'https://cdn.plot.ly/plotly-latest.min'}}) || require;\n",
       "            fsharpPlotlyRequire(['plotly'], function(Plotly) {\r\n",
       "\n",
       "            var data = [{\"type\":\"scatter\",\"x\":[\"Winter\",\"Spring\",\"Summer\",\"Fall\"],\"y\":[40,60,40,10],\"mode\":\"lines\",\"line\":{\"width\":0.0},\"marker\":{\"color\":\"#B4A3F4\"},\"stackgroup\":\"static\"},{\"type\":\"scatter\",\"x\":[\"Winter\",\"Spring\",\"Summer\",\"Fall\"],\"y\":[20,10,10,60],\"mode\":\"lines\",\"line\":{\"width\":0.0},\"marker\":{\"color\":\"#AAE9E8\"},\"stackgroup\":\"static\"},{\"type\":\"scatter\",\"x\":[\"Winter\",\"Spring\",\"Summer\",\"Fall\"],\"y\":[40,30,50,30],\"mode\":\"lines\",\"line\":{\"width\":0.0},\"marker\":{\"color\":\"#CEF2E5\"},\"stackgroup\":\"static\"}];\n",
       "            var layout = {};\n",
       "            var config = {};\n",
       "            Plotly.newPlot('e3b07fa8-60eb-4409-bdd3-ea1c367ab378', data, layout, config);\r\n",
       "});\n",
       "            };\n",
       "            if ((typeof(requirejs) !==  typeof(Function)) || (typeof(requirejs.config) !== typeof(Function))) {\n",
       "                var script = document.createElement(\"script\");\n",
       "                script.setAttribute(\"src\", \"https://cdnjs.cloudflare.com/ajax/libs/require.js/2.3.6/require.min.js\");\n",
       "                script.onload = function(){\n",
       "                    renderPlotly_e3b07fa860eb4409bdd3ea1c367ab378();\n",
       "                };\n",
       "                document.getElementsByTagName(\"head\")[0].appendChild(script);\n",
       "            }\n",
       "            else {\n",
       "                renderPlotly_e3b07fa860eb4409bdd3ea1c367ab378();\n",
       "            }\r\n",
       "</script>\r\n"
      ]
     },
     "metadata": {},
     "output_type": "display_data"
    }
   ],
   "metadata": {
    "dotnet_interactive": {
     "language": "fsharp"
    }
   }
  },
  {
   "cell_type": "markdown",
   "source": [
    "## Stacked Area Chart with Normalized Values"
   ],
   "metadata": {}
  },
  {
   "cell_type": "code",
   "execution_count": null,
   "source": [
    "open Plotly.NET\r\n",
    "\r\n",
    "let x = [\"Winter\"; \"Spring\"; \"Summer\"; \"Fall\"]\r\n",
    "let y0 = [40; 20; 30; 40]\r\n",
    "let y1 = [50; 70; 40; 60]\r\n",
    "let y2 = [70; 80; 60; 70]\r\n",
    "let y3 = [100; 100; 100; 100]\r\n",
    "\r\n",
    "let xAxis = Axis.LinearAxis.init(AxisType = StyleParam.AxisType.Category)\r\n",
    "\r\n",
    "let yAxis = Axis.LinearAxis.init(AxisType = StyleParam.AxisType.Linear,\r\n",
    "                                 Range = StyleParam.Range.MinMax(1.0, 100.0),\r\n",
    "                                 Ticksuffix = \"%\")\r\n",
    "\r\n",
    "[\r\n",
    "    Chart.Scatter(x, \r\n",
    "                  y0, \r\n",
    "                  StyleParam.Mode.Lines,\r\n",
    "                  StackGroup = stackGroup,\r\n",
    "                  GroupNorm = StyleParam.GroupNorm.Percent,\r\n",
    "                  Color=\"#B4A3F4\")\r\n",
    "    Chart.Scatter(x, \r\n",
    "                  y1, \r\n",
    "                  StyleParam.Mode.Lines,\r\n",
    "                  StackGroup = stackGroup,\r\n",
    "                  Color=\"#B2C9F2\")\r\n",
    "    Chart.Scatter(x, \r\n",
    "                  y2, \r\n",
    "                  StyleParam.Mode.Lines,\r\n",
    "                  StackGroup = stackGroup,\r\n",
    "                  Color=\"#AAE9E8\")\r\n",
    "    Chart.Scatter(x, \r\n",
    "                  y3, \r\n",
    "                  StyleParam.Mode.Lines,\r\n",
    "                  StackGroup = stackGroup,\r\n",
    "                  Color=\"#CEF2E5\")\r\n",
    "] \r\n",
    "|> Chart.Combine\r\n",
    "|> Chart.withLineStyle(Width=0.0)\r\n",
    "|> Chart.withX_Axis xAxis\r\n",
    "|> Chart.withY_Axis yAxis"
   ],
   "outputs": [
    {
     "data": {
      "text/html": [
       "<div id=\"2015c420-6d23-4913-a69a-05635a5f827c\" style=\"width: 600px; height: 600px;\"><!-- Plotly chart will be drawn inside this DIV --></div>\r\n",
       "<script type=\"text/javascript\">\r\n",
       "\n",
       "            var renderPlotly_2015c4206d234913a69a05635a5f827c = function() {\n",
       "            var fsharpPlotlyRequire = requirejs.config({context:'fsharp-plotly',paths:{plotly:'https://cdn.plot.ly/plotly-latest.min'}}) || require;\n",
       "            fsharpPlotlyRequire(['plotly'], function(Plotly) {\r\n",
       "\n",
       "            var data = [{\"type\":\"scatter\",\"x\":[\"Winter\",\"Spring\",\"Summer\",\"Fall\"],\"y\":[40,20,30,40],\"mode\":\"lines\",\"stackgroup\":\"filling\",\"groupnorm\":\"percent\",\"line\":{\"width\":0.0},\"marker\":{\"color\":\"#B4A3F4\"}},{\"type\":\"scatter\",\"x\":[\"Winter\",\"Spring\",\"Summer\",\"Fall\"],\"y\":[50,70,40,60],\"mode\":\"lines\",\"stackgroup\":\"filling\",\"line\":{\"width\":0.0},\"marker\":{\"color\":\"#B2C9F2\"}},{\"type\":\"scatter\",\"x\":[\"Winter\",\"Spring\",\"Summer\",\"Fall\"],\"y\":[70,80,60,70],\"mode\":\"lines\",\"stackgroup\":\"filling\",\"line\":{\"width\":0.0},\"marker\":{\"color\":\"#AAE9E8\"}},{\"type\":\"scatter\",\"x\":[\"Winter\",\"Spring\",\"Summer\",\"Fall\"],\"y\":[100,100,100,100],\"mode\":\"lines\",\"stackgroup\":\"filling\",\"line\":{\"width\":0.0},\"marker\":{\"color\":\"#CEF2E5\"}}];\n",
       "            var layout = {\"xaxis\":{\"type\":\"category\"},\"yaxis\":{\"type\":\"linear\",\"range\":[1.0,100.0],\"ticksuffix\":\"%\"}};\n",
       "            var config = {};\n",
       "            Plotly.newPlot('2015c420-6d23-4913-a69a-05635a5f827c', data, layout, config);\r\n",
       "});\n",
       "            };\n",
       "            if ((typeof(requirejs) !==  typeof(Function)) || (typeof(requirejs.config) !== typeof(Function))) {\n",
       "                var script = document.createElement(\"script\");\n",
       "                script.setAttribute(\"src\", \"https://cdnjs.cloudflare.com/ajax/libs/require.js/2.3.6/require.min.js\");\n",
       "                script.onload = function(){\n",
       "                    renderPlotly_2015c4206d234913a69a05635a5f827c();\n",
       "                };\n",
       "                document.getElementsByTagName(\"head\")[0].appendChild(script);\n",
       "            }\n",
       "            else {\n",
       "                renderPlotly_2015c4206d234913a69a05635a5f827c();\n",
       "            }\r\n",
       "</script>\r\n"
      ]
     },
     "metadata": {},
     "output_type": "display_data"
    }
   ],
   "metadata": {
    "dotnet_interactive": {
     "language": "fsharp"
    }
   }
  },
  {
   "cell_type": "markdown",
   "source": [
    "## Select Hover Points"
   ],
   "metadata": {}
  },
  {
   "cell_type": "code",
   "execution_count": null,
   "source": [
    "let x0 = [0.0; 0.5; 1.0; 1.5; 2.0]\r\n",
    "let y = [0.0; 1.0; 2.0; 1.0; 0.0]\r\n",
    "let x1 = [3.0; 3.5; 4.0; 4.5; 5.0]\r\n",
    "\r\n",
    "let xAxis = Axis.LinearAxis.init(AxisType = StyleParam.AxisType.Linear,\r\n",
    "                                 Range = StyleParam.Range.MinMax(0.0, 5.2))\r\n",
    "\r\n",
    "let yAxis = Axis.LinearAxis.init(AxisType = StyleParam.AxisType.Linear,\r\n",
    "                                 Range = StyleParam.Range.MinMax(0.0, 3.0))\r\n",
    "\r\n",
    "[\r\n",
    "    Chart.Area(x0, \r\n",
    "               y, \r\n",
    "               Color=\"#9400D3\")\r\n",
    "               |> GenericChart.mapTrace(fun x -> x.SetValue(\"hoveron\", \"points+fills\"); x.SetValue(\"text\", \"Points + Fills\"); x.SetValue(\"hoverinfo\", \"text+x+y\"); x)\r\n",
    "    Chart.Area(x1, \r\n",
    "               y, \r\n",
    "               Color=\"#EE82EE\")\r\n",
    "               |> GenericChart.mapTrace(fun x -> x.SetValue(\"hoveron\", \"points\"); x.SetValue(\"text\", \"Points only\"); x.SetValue(\"hoverinfo\", \"text+x+y\"); x)\r\n",
    "] \r\n",
    "|> Chart.Combine\r\n",
    "|> Chart.withX_Axis xAxis\r\n",
    "|> Chart.withY_Axis yAxis\r\n",
    "|> Chart.withLayout(Layout.init(Width = 1000.))"
   ],
   "outputs": [
    {
     "data": {
      "text/html": [
       "<div id=\"9112e8cd-95ae-46d3-8f83-029a9dbd4849\" style=\"width: 600px; height: 600px;\"><!-- Plotly chart will be drawn inside this DIV --></div>\r\n",
       "<script type=\"text/javascript\">\r\n",
       "\n",
       "            var renderPlotly_9112e8cd95ae46d38f83029a9dbd4849 = function() {\n",
       "            var fsharpPlotlyRequire = requirejs.config({context:'fsharp-plotly',paths:{plotly:'https://cdn.plot.ly/plotly-latest.min'}}) || require;\n",
       "            fsharpPlotlyRequire(['plotly'], function(Plotly) {\r\n",
       "\n",
       "            var data = [{\"type\":\"scatter\",\"x\":[0.0,0.5,1.0,1.5,2.0],\"y\":[0.0,1.0,2.0,1.0,0.0],\"mode\":\"lines\",\"fill\":\"tozeroy\",\"line\":{\"color\":\"#9400D3\"},\"marker\":{\"color\":\"#9400D3\"},\"hoveron\":\"points+fills\",\"text\":\"Points + Fills\",\"hoverinfo\":\"text+x+y\"},{\"type\":\"scatter\",\"x\":[3.0,3.5,4.0,4.5,5.0],\"y\":[0.0,1.0,2.0,1.0,0.0],\"mode\":\"lines\",\"fill\":\"tozeroy\",\"line\":{\"color\":\"#EE82EE\"},\"marker\":{\"color\":\"#EE82EE\"},\"hoveron\":\"points\",\"text\":\"Points only\",\"hoverinfo\":\"text+x+y\"}];\n",
       "            var layout = {\"xaxis\":{\"type\":\"linear\",\"range\":[0.0,5.2]},\"yaxis\":{\"type\":\"linear\",\"range\":[0.0,3.0]},\"width\":1000.0};\n",
       "            var config = {};\n",
       "            Plotly.newPlot('9112e8cd-95ae-46d3-8f83-029a9dbd4849', data, layout, config);\r\n",
       "});\n",
       "            };\n",
       "            if ((typeof(requirejs) !==  typeof(Function)) || (typeof(requirejs.config) !== typeof(Function))) {\n",
       "                var script = document.createElement(\"script\");\n",
       "                script.setAttribute(\"src\", \"https://cdnjs.cloudflare.com/ajax/libs/require.js/2.3.6/require.min.js\");\n",
       "                script.onload = function(){\n",
       "                    renderPlotly_9112e8cd95ae46d38f83029a9dbd4849();\n",
       "                };\n",
       "                document.getElementsByTagName(\"head\")[0].appendChild(script);\n",
       "            }\n",
       "            else {\n",
       "                renderPlotly_9112e8cd95ae46d38f83029a9dbd4849();\n",
       "            }\r\n",
       "</script>\r\n"
      ]
     },
     "metadata": {},
     "output_type": "display_data"
    }
   ],
   "metadata": {
    "dotnet_interactive": {
     "language": "fsharp"
    }
   }
  }
 ],
 "nbformat": 4,
 "nbformat_minor": 2
}