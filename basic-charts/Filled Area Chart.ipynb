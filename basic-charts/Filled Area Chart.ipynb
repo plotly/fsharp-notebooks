{
 "metadata": {
  "kernelspec": {
   "display_name": ".NET (F#)",
   "language": "F#",
   "name": ".net-fsharp"
  },
  "language_info": {
   "name": "F#"
  }
 },
 "cells": [
  {
   "cell_type": "markdown",
   "source": [
    "This example shows how to fill the area enclosed by traces."
   ],
   "metadata": {}
  },
  {
   "cell_type": "code",
   "execution_count": null,
   "source": [
    "#r \"nuget: Plotly.NET, 2.0.0-preview.8\"\r\n",
    "#r \"nuget: Plotly.NET.Interactive, 2.0.0-preview.8\"\r\n",
    "open Plotly.NET"
   ],
   "outputs": [
    {
     "output_type": "display_data",
     "data": {
      "text/html": ""
     },
     "metadata": {}
    }
   ],
   "metadata": {
    "dotnet_interactive": {
     "language": "fsharp"
    }
   }
  },
  {
   "cell_type": "markdown",
   "source": [
    "# Basic Filled Area Chart"
   ],
   "metadata": {}
  },
  {
   "cell_type": "code",
   "execution_count": null,
   "source": [
    "open Plotly.NET\r\n",
    "\r\n",
    "let x = [1; 2; 3; 4]\r\n",
    "let y0 = [0; 2; 3; 5]\r\n",
    "let y1 = [3; 5; 1; 7]\r\n",
    "\r\n",
    "[\r\n",
    "    Chart.Area(x, y0)\r\n",
    "    Chart.Area(x, y1)\r\n",
    "] \r\n",
    "|> Chart.combine"
   ],
   "outputs": [
    {
     "output_type": "display_data",
     "data": {
      "text/html": ""
     },
     "metadata": {}
    }
   ],
   "metadata": {
    "dotnet_interactive": {
     "language": "fsharp"
    }
   }
  },
  {
   "cell_type": "markdown",
   "source": [
    "# Overlaid Area Chart Without Boundary Lines"
   ],
   "metadata": {}
  },
  {
   "cell_type": "code",
   "execution_count": null,
   "source": [
    "open Plotly.NET\r\n",
    "\r\n",
    "let x = [1; 2; 3; 4]\r\n",
    "let y0 = [0; 2; 3; 5]\r\n",
    "let y1 = [3; 5; 1; 7]\r\n",
    "\r\n",
    "[\r\n",
    "    Chart.Area(x, y0) \r\n",
    "    Chart.Area(x, y1)\r\n",
    "] \r\n",
    "|> Chart.combine\r\n",
    "|> Chart.withLineStyle(Width=0.0)"
   ],
   "outputs": [
    {
     "output_type": "display_data",
     "data": {
      "text/html": ""
     },
     "metadata": {}
    }
   ],
   "metadata": {
    "dotnet_interactive": {
     "language": "fsharp"
    }
   }
  },
  {
   "cell_type": "markdown",
   "source": [
    "# Interior Filling for Area Chart\r\n",
    "\r\n",
    "Setting Fill=StyleParam.Fill.ToNext_y makes two traces fill only interior"
   ],
   "metadata": {}
  },
  {
   "cell_type": "code",
   "execution_count": null,
   "source": [
    "open Plotly.NET\r\n",
    "open Plotly.NET\r\n",
    "\r\n",
    "let x = [1; 2; 3; 4]\r\n",
    "let y0 = [3; 4; 8; 3]\r\n",
    "let y1 = [1; 6; 2; 6]\r\n",
    "\r\n",
    "[\r\n",
    "    Chart.Scatter(x, y0, Plotly.NET.StyleParam.Mode.Lines, Color = Color.fromString \"indigo\")    \r\n",
    "    Chart.Scatter(x, y1, Plotly.NET.StyleParam.Mode.Lines, Color = Color.fromString \"indigo\")     \r\n",
    "    |> GenericChart.mapTrace(Trace2DStyle.Scatter(Fill=StyleParam.Fill.ToNext_y))    \r\n",
    "]\r\n",
    "|> Chart.combine\r\n",
    "\r\n",
    "\r\n"
   ],
   "outputs": [
    {
     "output_type": "display_data",
     "data": {
      "text/html": ""
     },
     "metadata": {}
    }
   ],
   "metadata": {
    "dotnet_interactive": {
     "language": "fsharp"
    }
   }
  },
  {
   "cell_type": "markdown",
   "source": [
    "# Stacked Area Chart"
   ],
   "metadata": {}
  },
  {
   "cell_type": "code",
   "execution_count": null,
   "source": [
    "open Plotly.NET\r\n",
    "\r\n",
    "let x = [\"Winter\"; \"Spring\"; \"Summer\"; \"Fall\"]\r\n",
    "let y0 = [40; 60; 40; 10]\r\n",
    "let y1 = [20; 10; 10; 60]\r\n",
    "let y2 = [40; 30; 50; 30]\r\n",
    "\r\n",
    "[\r\n",
    "    Chart.StackedArea(x, y0, Color=Color.fromString \"#B4A3F4\") \r\n",
    "    Chart.StackedArea(x, y1, Color=Color.fromString \"#AAE9E8\")\r\n",
    "    Chart.StackedArea(x, y2, Color=Color.fromString \"#CEF2E5\")\r\n",
    "] \r\n",
    "|> Chart.combine\r\n",
    "|> Chart.withLineStyle(Width=0.0)"
   ],
   "outputs": [
    {
     "output_type": "display_data",
     "data": {
      "text/html": ""
     },
     "metadata": {}
    }
   ],
   "metadata": {
    "dotnet_interactive": {
     "language": "fsharp"
    }
   }
  },
  {
   "cell_type": "markdown",
   "source": [
    "# Stacked Area Chart with Normalized Values\r\n",
    "Stacked Area Chart can be created using Chart.Scatter with same StackGroup property set for all traces. For example same StackGroup=\"one\" set for all Chart.Scatter traces"
   ],
   "metadata": {}
  },
  {
   "cell_type": "code",
   "execution_count": null,
   "source": [
    "open Plotly.NET\r\n",
    "open Plotly.NET.LayoutObjects\r\n",
    "\r\n",
    "let x = [\"Winter\"; \"Spring\"; \"Summer\"; \"Fall\"]\r\n",
    "let y0 = [40; 20; 30; 40]\r\n",
    "let y1 = [20; 10; 10; 60]\r\n",
    "let y2 = [40; 30; 50; 30]\r\n",
    "\r\n",
    "let yAxis = LinearAxis.init(AxisType = StyleParam.AxisType.Linear,\r\n",
    "                                 Range = StyleParam.Range.MinMax(1.0, 100.0),\r\n",
    "                                 TickSuffix = \"%\")\r\n",
    "\r\n",
    "[\r\n",
    "    Chart.Scatter(x, \r\n",
    "                  y0, \r\n",
    "                  StyleParam.Mode.Lines,\r\n",
    "                  StackGroup = \"one\",\r\n",
    "                  GroupNorm = StyleParam.GroupNorm.Percent,\r\n",
    "                  Color=Color.fromString \"rgb(131, 90, 241)\")\r\n",
    "    Chart.Scatter(x, \r\n",
    "                  y1, \r\n",
    "                  StyleParam.Mode.Lines,\r\n",
    "                  StackGroup = \"one\",\r\n",
    "                  Color=Color.fromString \"rgb(111, 231, 219)\")\r\n",
    "    Chart.Scatter(x, \r\n",
    "                  y2, \r\n",
    "                  StyleParam.Mode.Lines,\r\n",
    "                  StackGroup = \"one\",\r\n",
    "                  Color=Color.fromString \"rgb(184, 247, 2121)\")\r\n",
    "] \r\n",
    "|> Chart.combine\r\n",
    "|> Chart.withLineStyle(Width=0.0)\r\n",
    "|> Chart.withYAxis yAxis"
   ],
   "outputs": [
    {
     "output_type": "display_data",
     "data": {
      "text/html": ""
     },
     "metadata": {}
    }
   ],
   "metadata": {
    "dotnet_interactive": {
     "language": "fsharp"
    }
   }
  },
  {
   "cell_type": "markdown",
   "source": [
    "# Select Hover Points\r\n",
    "\r\n",
    "Chart.Area uses Chart.Scatter, hence setting Trace2DStyle.Scatter will apply area trace styles. HoverInformation can be set by the following properties in Trace2DStyle.Scatter"
   ],
   "metadata": {}
  },
  {
   "cell_type": "code",
   "execution_count": null,
   "source": [
    "open Plotly.NET.TraceObjects\r\n",
    "\r\n",
    "let x0 = [0.0; 0.5; 1.0; 1.5; 2.0]\r\n",
    "let y = [0.0; 1.0; 2.0; 1.0; 0.0]\r\n",
    "let x1 = [3.0; 3.5; 4.0; 4.5; 5.0]\r\n",
    "\r\n",
    "[\r\n",
    "    Chart.Area(x0, \r\n",
    "               y, \r\n",
    "               Color=Color.fromString \"#9400D3\")\r\n",
    "    |> GenericChart.mapTrace (Trace2DStyle.Scatter(HoverOn=StyleParam.HoverOn.PointsFills,HoverInfo=StyleParam.HoverInfo.All,Text=\"Points + Fills\"))\r\n",
    "                               \r\n",
    "    Chart.Area(x1, \r\n",
    "               y, \r\n",
    "               Color=Color.fromString \"#EE82EE\")\r\n",
    "    |> GenericChart.mapTrace (Trace2DStyle.Scatter(HoverOn=StyleParam.HoverOn.Points,HoverInfo=StyleParam.HoverInfo.All,Text=\"Points Only\"))               \r\n",
    "] \r\n",
    "|> Chart.combine\r\n",
    "|> Chart.withXAxisStyle(title=\"X\",MinMax=(0.0, 5.2))\r\n",
    "|> Chart.withYAxisStyle(title=\"Y\",MinMax=(0.0, 3.0))\r\n",
    "|> Chart.withSize(Width = 1000)"
   ],
   "outputs": [
    {
     "output_type": "display_data",
     "data": {
      "text/html": ""
     },
     "metadata": {}
    }
   ],
   "metadata": {
    "dotnet_interactive": {
     "language": "fsharp"
    }
   }
  }
 ],
 "nbformat": 4,
 "nbformat_minor": 2
}