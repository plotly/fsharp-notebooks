{
 "cells": [
  {
   "cell_type": "code",
   "execution_count": null,
   "source": [
    "#r \"nuget: Plotly.NET,  2.0.0-preview.8\"\r\n",
    "#r \"nuget: Plotly.NET.Interactive,  2.0.0-preview.8\"\r\n",
    "open Plotly.NET\r\n"
   ],
   "outputs": [
    {
     "output_type": "display_data",
     "data": {
      "text/html": ""
     },
     "metadata": {}
    },
    {
     "output_type": "display_data",
     "data": {
      "text/markdown": ""
     },
     "metadata": {}
    },
    {
     "output_type": "display_data",
     "data": {
      "text/markdown": ""
     },
     "metadata": {}
    }
   ],
   "metadata": {
    "dotnet_interactive": {
     "language": "fsharp"
    }
   }
  },
  {
   "cell_type": "markdown",
   "source": [
    "# Basic Bar Chart\r\n",
    "\r\n",
    "you can use F# arrays to construct your bar charts"
   ],
   "metadata": {
    "dotnet_interactive": {
     "language": "fsharp"
    }
   }
  },
  {
   "cell_type": "code",
   "execution_count": null,
   "source": [
    "let animals = [\"giraffes\"; \"orangutans\"; \"monkeys\"];\r\n",
    "let sfValues = [20; 14; 23]\r\n",
    "Chart.Column (animals, sfValues);\r\n"
   ],
   "outputs": [
    {
     "output_type": "display_data",
     "data": {
      "text/html": ""
     },
     "metadata": {}
    }
   ],
   "metadata": {
    "dotnet_interactive": {
     "language": "fsharp"
    }
   }
  },
  {
   "cell_type": "markdown",
   "source": [
    "# Grouped Bar Chart\r\n",
    "\r\n",
    "Chart.combine for grouping the charts"
   ],
   "metadata": {
    "dotnet_interactive": {
     "language": "fsharp"
    }
   }
  },
  {
   "cell_type": "code",
   "execution_count": null,
   "source": [
    "let animals = [\"giraffes\"; \"orangutans\"; \"monkeys\"];\r\n",
    "let sfValues = [20; 14; 23]\r\n",
    "let laValues = [12; 18; 29]\r\n",
    "\r\n",
    "[\r\n",
    "    Chart.Column (animals, sfValues, Name=\"SF Zoo\");\r\n",
    "    Chart.Column (animals, laValues, Name=\"LA Zoo\")\r\n",
    "]\r\n",
    "|> Chart.combine\r\n"
   ],
   "outputs": [
    {
     "output_type": "display_data",
     "data": {
      "text/html": ""
     },
     "metadata": {}
    }
   ],
   "metadata": {
    "dotnet_interactive": {
     "language": "fsharp"
    }
   }
  },
  {
   "cell_type": "markdown",
   "source": [
    "# Stacked Bar Chart\r\n",
    "\r\n",
    "Chart.StackedColumn for constructing stacked bars as shown below"
   ],
   "metadata": {}
  },
  {
   "cell_type": "code",
   "execution_count": null,
   "source": [
    "let animals = [\"giraffes\"; \"orangutans\"; \"monkeys\"];\r\n",
    "let sfValues = [20; 14; 23]\r\n",
    "let laValues = [12; 18; 29]\r\n",
    "\r\n",
    "[\r\n",
    "    Chart.StackedColumn (animals, sfValues, Name=\"SF Zoo\");\r\n",
    "    Chart.StackedColumn (animals, laValues, Name=\"LA Zoo\")\r\n",
    "]\r\n",
    "|> Chart.combine\r\n"
   ],
   "outputs": [
    {
     "output_type": "display_data",
     "data": {
      "text/html": ""
     },
     "metadata": {}
    }
   ],
   "metadata": {
    "dotnet_interactive": {
     "language": "fsharp"
    }
   }
  },
  {
   "cell_type": "markdown",
   "source": [
    "# Bar Chart with Hover Text"
   ],
   "metadata": {}
  },
  {
   "cell_type": "code",
   "execution_count": null,
   "source": [
    "open Plotly.NET.TraceObjects\r\n",
    "\r\n",
    "let products = [\"Product A\"; \"Product B\"; \"Product C\"];\r\n",
    "let labels = [\"27% market share\"; \"24% market share\"; \"19% market share\"]\r\n",
    "let sfValues = [20; 14; 23]\r\n",
    "\r\n",
    "Chart.Column (\r\n",
    "    products,\r\n",
    "    sfValues,\r\n",
    "    Labels=labels,\r\n",
    "    Opacity=0.6\r\n",
    ")\r\n",
    "|> Chart.withMarker (\r\n",
    "    Marker.init (\r\n",
    "        Color=Color.fromString \"rgb(158,202,225)\", \r\n",
    "        Line=Line.init (Width=1.5, Color=Color.fromString \"rgb(8,48,107)\")\r\n",
    "    )\r\n",
    ")\r\n",
    "|> Chart.withTitle (\"January 2013 Sales Report\")\r\n"
   ],
   "outputs": [
    {
     "output_type": "display_data",
     "data": {
      "text/html": ""
     },
     "metadata": {}
    }
   ],
   "metadata": {
    "dotnet_interactive": {
     "language": "fsharp"
    }
   }
  },
  {
   "cell_type": "markdown",
   "source": [
    "# Bar Chart with Direct Labels"
   ],
   "metadata": {}
  },
  {
   "cell_type": "code",
   "execution_count": null,
   "source": [
    "let products = [\"Product A\"; \"Product B\"; \"Product C\"];\r\n",
    "let sfValues = [20; 14; 23]\r\n",
    "Chart.Column (    products,\r\n",
    "    sfValues,\r\n",
    "    Labels= sfValues,\r\n",
    "    TextPosition = StyleParam.TextPosition.Auto\r\n",
    ") \r\n",
    "\r\n",
    "    \r\n"
   ],
   "outputs": [
    {
     "output_type": "display_data",
     "data": {
      "text/html": ""
     },
     "metadata": {}
    }
   ],
   "metadata": {
    "dotnet_interactive": {
     "language": "fsharp"
    }
   }
  },
  {
   "cell_type": "markdown",
   "source": [
    "# Rotated Bar Chart Labels"
   ],
   "metadata": {}
  },
  {
   "cell_type": "code",
   "execution_count": null,
   "source": [
    "open Plotly.NET.TraceObjects\r\n",
    "open Plotly.NET.LayoutObjects\r\n",
    "\r\n",
    "let months = [\"Jan\"; \"Feb\"; \"Mar\"; \"Apr\"; \"May\"; \"Jun\";\r\n",
    "              \"Jul\"; \"Aug\"; \"Sep\"; \"Oct\"; \"Nov\"; \"Dec\"]\r\n",
    "let primaryProduct = [20; 14; 25; 16; 18; 22; 19; 15; 12; 16; 14; 17]\r\n",
    "let secondProduct = [19; 14; 22; 14; 16; 19; 15; 14; 10; 12; 12; 16]\r\n",
    "\r\n",
    "[\r\n",
    "    Chart.Column (months, primaryProduct, Name=\"Primary Product\")\r\n",
    "    |> Chart.withMarker (Marker.init (Color=Color.fromString \"indianred\"));\r\n",
    "\r\n",
    "    Chart.Column (months, secondProduct, Name=\"Second Product\")\r\n",
    "    |> Chart.withMarker (Marker.init (Color=Color.fromString \"lightSalmon\"))\r\n",
    "]\r\n",
    "|> Chart.combine\r\n",
    "|> Chart.withXAxis(LinearAxis.init(TickAngle= -45))\r\n"
   ],
   "outputs": [
    {
     "output_type": "display_data",
     "data": {
      "text/html": ""
     },
     "metadata": {}
    }
   ],
   "metadata": {
    "dotnet_interactive": {
     "language": "fsharp"
    }
   }
  },
  {
   "cell_type": "markdown",
   "source": [
    "# Customizing Individual Bar Colors"
   ],
   "metadata": {}
  },
  {
   "cell_type": "code",
   "execution_count": null,
   "source": [
    "open Plotly.NET.TraceObjects\r\n",
    "\r\n",
    "let featureKeys = [\"Feature A\"; \"Feature B\"; \"Feature C\";\r\n",
    "                   \"Feature D\"; \"Feature E\"]\r\n",
    "let featureValues = [20; 14; 23; 25; 22]\r\n",
    "\r\n",
    "let colors = \r\n",
    "    [1..5]\r\n",
    "    |> List.mapi (fun i x -> if i = 1 then Color.fromString \"crimson\" else Color.fromString \"lightslategray\" )\r\n",
    "    |> List.toSeq\r\n",
    "\r\n",
    "let marker = Marker.init(Colors = colors);\r\n",
    "marker?color<-colors\r\n",
    "\r\n",
    "Chart.Column (featureKeys, featureValues, Marker=marker)\r\n"
   ],
   "outputs": [
    {
     "output_type": "display_data",
     "data": {
      "text/html": ""
     },
     "metadata": {}
    }
   ],
   "metadata": {
    "dotnet_interactive": {
     "language": "fsharp"
    }
   }
  },
  {
   "cell_type": "markdown",
   "source": [
    "# Customizing Individual Bar Widths"
   ],
   "metadata": {}
  },
  {
   "cell_type": "code",
   "execution_count": null,
   "source": [
    "let featureKeys = [1.; 2.; 3.; 5.5; 10.]\r\n",
    "let featureValues = [10; 8; 6; 4; 2]\r\n",
    "let width = [0.8; 0.8; 0.8; 3.5; 4.]\r\n",
    "Chart.Column (featureKeys, \r\n",
    "              featureValues)\r\n",
    "|> Chart.withMarker(Marker.init(MultiSizes= width))\r\n",
    "\r\n",
    "//|> Chart.withLineStyle(Width = width) Doesnt accept float list\r\n",
    "\r\n",
    "|> GenericChart.mapTrace(fun t-> \r\n",
    "                                t?width<-width;\r\n",
    "                                t)  // workaround\r\n",
    "\r\n"
   ],
   "outputs": [
    {
     "output_type": "display_data",
     "data": {
      "text/html": ""
     },
     "metadata": {}
    }
   ],
   "metadata": {
    "dotnet_interactive": {
     "language": "fsharp"
    }
   }
  },
  {
   "cell_type": "markdown",
   "source": [
    "Bar charts with custom widths can be used to make mekko charts (also known as marimekko charts, mosaic plots, or variwide charts)."
   ],
   "metadata": {}
  },
  {
   "cell_type": "code",
   "execution_count": null,
   "source": [
    "open Plotly.NET\r\n",
    "\r\n",
    "let labels = [|\"apples\"; \"oranges\"; \"pears\"; \"bananas\"|]\r\n",
    "let widths = [|10.; 20.; 20.; 50.|]\r\n",
    "\r\n",
    "let data = \r\n",
    "   new Map<string,float[]>([\r\n",
    "        \"South\", [|50.;80.;60.;70.|]\r\n",
    "        \"North\", [|50.; 20.;40.;30.|]]\r\n",
    "   )\r\n",
    "\r\n",
    "let cumSum x=\r\n",
    "   (Array.scan (+) 0. x).[1..]\r\n",
    "\r\n",
    "let tickVals = Array.map2 (fun x y-> x-y/2.) (cumSum(widths)) widths\r\n",
    "let ticks = Array.map2 (fun l w -> $\"{l} <br> {w}\") labels widths\r\n",
    "let textLabels key= Array.map2 (fun h w -> $\"{h} x {w} = <br>\"+ string (h*w))  data.[key] widths\r\n",
    "\r\n",
    "[ \r\n",
    "   for kvp in data ->               \r\n",
    "               let keys = Array.map2 (fun x y-> x-y) (cumSum(widths)) widths\r\n",
    "               Chart.Column(values=kvp.Value,keys=keys,Marker=Marker.init(Line=Line.init(Color= Color.fromString \"white\",Width=0.5)),Labels=textLabels kvp.Key)\r\n",
    "               |> GenericChart.mapTrace(fun t-> \r\n",
    "                                                \r\n",
    "                                                t.SetValue(\"width\", widths)\r\n",
    "                                                t.SetValue(\"offset\", 0.)\r\n",
    "                                                t.SetValue(\"name\", kvp.Key)\r\n",
    "                                                t.SetValue(\"textangle\", 0)\r\n",
    "                                                t.SetValue(\"textposition\", \"inside\")\r\n",
    "                                                t)  // workaround \r\n",
    "]\r\n",
    "|> Chart.combine\r\n",
    "|> Chart.withLayout(Layout.init(BarMode=StyleParam.BarMode.Stack))\r\n",
    "|> Chart.withXAxis(LinearAxis.init(TickVals=tickVals,TickText=ticks,ShowGrid=true))\r\n",
    "|> Chart.withSize(1100.0,700.)\r\n",
    "\r\n"
   ],
   "outputs": [
    {
     "output_type": "display_data",
     "data": {
      "text/html": ""
     },
     "metadata": {}
    }
   ],
   "metadata": {
    "dotnet_interactive": {
     "language": "fsharp"
    }
   }
  },
  {
   "cell_type": "markdown",
   "source": [
    "# Customizing Individual Bar Base"
   ],
   "metadata": {}
  },
  {
   "cell_type": "code",
   "execution_count": null,
   "source": [
    "open Plotly.NET\r\n",
    "\r\n",
    "let years = [ \"2016\"; \"2017\"; \"2018\" ]\r\n",
    "\r\n",
    "[\r\n",
    "    Chart.Column(years, [500; 600; 700], Name=\"expenses\", Marker=Marker.init(Color=Color.fromString \"crimson\"))\r\n",
    "        |> GenericChart.mapTrace(fun t-> \r\n",
    "                        t.SetValue(\"base\",[-500;-600;-700])// workaround\r\n",
    "                        t) \r\n",
    "\r\n",
    "    ;Chart.Column(years, [300; 400; 700], Name=\"revenue\", Marker=Marker.init(Color=Color.fromString \"lightslategrey\"))\r\n",
    "         |> GenericChart.mapTrace(fun t-> \r\n",
    "                            t.SetValue(\"base\",0)\r\n",
    "                            t)  // workaround\r\n",
    "]\r\n",
    "|> Chart.combine"
   ],
   "outputs": [
    {
     "output_type": "display_data",
     "data": {
      "text/html": ""
     },
     "metadata": {}
    }
   ],
   "metadata": {
    "dotnet_interactive": {
     "language": "fsharp"
    }
   }
  },
  {
   "cell_type": "markdown",
   "source": [
    "# Bar Chart with Relative Barmode"
   ],
   "metadata": {}
  },
  {
   "cell_type": "markdown",
   "source": [
    "With \"relative\" barmode, the bars are stacked on top of one another, with negative values below the axis, positive values above."
   ],
   "metadata": {}
  },
  {
   "cell_type": "code",
   "execution_count": null,
   "source": [
    "open Plotly.NET\r\n",
    "\r\n",
    "let x = [1; 2; 3; 4]\r\n",
    "\r\n",
    "[\r\n",
    "    Chart.Column(keys=x, values= [1.; 4.; 9.; 16.])\r\n",
    "    Chart.Column(keys=x, values= [6.; -8.; -4.5; 8.])\r\n",
    "    Chart.Column(keys=x, values= [-15.; -3.; 4.5; -8.])\r\n",
    "    Chart.Column(keys=x, values= [-1.; 3.; -3.; -4.])\r\n",
    "]\r\n",
    "|> Chart.combine\r\n",
    "|> Chart.withLayout(Layout.init(BarMode=StyleParam.BarMode.Relative,Title=Title.init(\"Relative BarMode\")))"
   ],
   "outputs": [
    {
     "output_type": "display_data",
     "data": {
      "text/html": ""
     },
     "metadata": {}
    }
   ],
   "metadata": {
    "dotnet_interactive": {
     "language": "fsharp"
    }
   }
  },
  {
   "cell_type": "markdown",
   "source": [
    "# Bar Chart with Sorted or Ordered Categories"
   ],
   "metadata": {}
  },
  {
   "cell_type": "markdown",
   "source": [
    "Set CategoryOrder to CategoryOrder.CategoryAscending or CategoryDescending for the alphanumerical order of the category names or TotalAscending or TotalDescending for numerical order of values. CategoryOrder for more information. Note that sorting the bars by a particular trace isn\"t possible right now - it\"s only possible to sort by the total values. Of course, you can always sort your data before plotting it if you need more customization.\r\n",
    "\r\n",
    "This example orders the bar chart alphabetically with CategoryOrder= StyleParam.CategoryOrder.CategoryAscending"
   ],
   "metadata": {}
  },
  {
   "cell_type": "code",
   "execution_count": null,
   "source": [
    "open Plotly.NET\r\n",
    "\r\n",
    "let x = ['b'; 'a'; 'c'; 'd']\r\n",
    "\r\n",
    "[\r\n",
    "    Chart.Column(x, [2.;5.;1.;9.], Name = \"Montreal\")\r\n",
    "    Chart.Column(x, [1.;4.;9.;16.], Name = \"Ottawa\")\r\n",
    "    Chart.Column(x, [6.;8.;4.5;8.], Name = \"Toronto\")\r\n",
    "]\r\n",
    "|> Chart.combine\r\n",
    "|> Chart.withLayout(Layout.init(BarMode=StyleParam.BarMode.Stack))\r\n",
    "|> Chart.withXAxis(LinearAxis.init(CategoryOrder=StyleParam.CategoryOrder.CategoryAscending))"
   ],
   "outputs": [
    {
     "output_type": "display_data",
     "data": {
      "text/html": ""
     },
     "metadata": {}
    }
   ],
   "metadata": {
    "dotnet_interactive": {
     "language": "fsharp"
    }
   }
  },
  {
   "cell_type": "markdown",
   "source": [
    "This example shows how to customise sort ordering by defining CategoryOrder to StyleParam.CategoryOrder.Array to derive the ordering from the attribute CategoryArray."
   ],
   "metadata": {}
  },
  {
   "cell_type": "code",
   "execution_count": null,
   "source": [
    "open Plotly.NET\r\n",
    "\r\n",
    "let x = ['b'; 'a'; 'c'; 'd']\r\n",
    "\r\n",
    "[\r\n",
    "    Chart.Column(x, [2.;5.;1.;9.], Name = \"Montreal\")\r\n",
    "    Chart.Column(x, [1.;4.;9.;16.], Name = \"Ottawa\")\r\n",
    "    Chart.Column(x, [6.;8.;4.5;8.], Name = \"Toronto\")\r\n",
    "]\r\n",
    "|> Chart.combine\r\n",
    "|> Chart.withLayout(Layout.init(BarMode=StyleParam.BarMode.Stack))\r\n",
    "|> Chart.withXAxis(LinearAxis.init(CategoryOrder=StyleParam.CategoryOrder.Array,CategoryArray=['d';'a';'c';'b']))"
   ],
   "outputs": [
    {
     "output_type": "display_data",
     "data": {
      "text/html": ""
     },
     "metadata": {}
    }
   ],
   "metadata": {
    "dotnet_interactive": {
     "language": "fsharp"
    }
   }
  },
  {
   "cell_type": "markdown",
   "source": [
    "This example orders the bar chart by descending value with CategoryOrder=StyleParam.CategoryOrder.TotalDescending"
   ],
   "metadata": {}
  },
  {
   "cell_type": "code",
   "execution_count": null,
   "source": [
    "open Plotly.NET\r\n",
    "\r\n",
    "let x = ['b'; 'a'; 'c'; 'd']\r\n",
    "\r\n",
    "[\r\n",
    "    Chart.Column(x, [2.;5.;1.;9.], Name = \"Montreal\")\r\n",
    "    Chart.Column(x, [1.;4.;9.;16.], Name = \"Ottawa\")\r\n",
    "    Chart.Column(x, [6.;8.;4.5;8.], Name = \"Toronto\")\r\n",
    "]\r\n",
    "|> Chart.combine\r\n",
    "|> Chart.withLayout(Layout.init(BarMode=StyleParam.BarMode.Stack))\r\n",
    "|> Chart.withXAxis(LinearAxis.init(CategoryOrder=StyleParam.CategoryOrder.TotalDescending))"
   ],
   "outputs": [
    {
     "output_type": "display_data",
     "data": {
      "text/html": ""
     },
     "metadata": {}
    }
   ],
   "metadata": {
    "dotnet_interactive": {
     "language": "fsharp"
    }
   }
  },
  {
   "cell_type": "markdown",
   "source": [
    "# Horizontal Bar Charts\r\n",
    "\r\n",
    "See examples of horizontal bar charts here.\r\n",
    "\r\n",
    "# Bar Charts With Multicategory Axis Type\r\n",
    "\r\n",
    "If your plots have arrays for x or y, then the axis type is automatically inferred to be multicategory."
   ],
   "metadata": {}
  },
  {
   "cell_type": "code",
   "execution_count": null,
   "source": [
    "open Plotly.NET\r\n",
    "\r\n",
    "let x :Object list = [[\"BB+\"; \"BB+\"; \"BB+\"; \"BB\"; \"BB\"; \"BB\"];[16; 17; 18; 16; 17; 18;]]\r\n",
    "\r\n",
    "[\r\n",
    "    Chart.Column(keys=[], values = [1;2;3;4;5;6])\r\n",
    "    Chart.Column(keys=[], values = [6;5;4;3;2;1])\r\n",
    "] \r\n",
    "|> Chart.combine \r\n",
    "// |> Chart.withX_Axis(Axis.LinearAxis.init(Tickvals = [\"BB+\"; \"BB+\"; \"BB+\"; \"BB\"; \"BB\"; \"BB\"]))\r\n",
    "|> GenericChart.mapTrace(fun t-> \r\n",
    "                                t?x<-x // workaround\r\n",
    "                                t) \r\n",
    "|> Chart.withLayout( Layout.init(BarMode = StyleParam.BarMode.Stack))"
   ],
   "outputs": [
    {
     "output_type": "display_data",
     "data": {
      "text/html": ""
     },
     "metadata": {}
    }
   ],
   "metadata": {
    "dotnet_interactive": {
     "language": "fsharp"
    }
   }
  }
 ],
 "metadata": {
  "kernelspec": {
   "display_name": ".NET (C#)",
   "language": "C#",
   "name": ".net-csharp"
  },
  "language_info": {
   "file_extension": ".cs",
   "mimetype": "text/x-csharp",
   "name": "C#",
   "pygments_lexer": "csharp",
   "version": "9.0"
  },
  "orig_nbformat": 4
 },
 "nbformat": 4,
 "nbformat_minor": 2
}