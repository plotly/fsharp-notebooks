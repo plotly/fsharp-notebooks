{
 "cells": [
  {
   "cell_type": "code",
   "execution_count": null,
   "source": [
    "#r \"nuget: Plotly.NET,  2.0.0-preview.8\"\r\n",
    "#r \"nuget: newtonsoft.json\"\r\n",
    "#r \"nuget: Plotly.NET.Interactive,  2.0.0-preview.8\"\r\n",
    "open Plotly.NET"
   ],
   "outputs": [
    {
     "output_type": "display_data",
     "data": {
      "text/html": ""
     },
     "metadata": {}
    },
    {
     "output_type": "display_data",
     "data": {
      "text/markdown": ""
     },
     "metadata": {}
    },
    {
     "output_type": "display_data",
     "data": {
      "text/markdown": ""
     },
     "metadata": {}
    }
   ],
   "metadata": {
    "dotnet_interactive": {
     "language": "fsharp"
    }
   }
  },
  {
   "cell_type": "markdown",
   "source": [
    "# Simple Bubble Chart"
   ],
   "metadata": {}
  },
  {
   "cell_type": "code",
   "execution_count": null,
   "source": [
    "\r\n",
    "open Plotly.NET\r\n",
    "\r\n",
    "Chart.Bubble([1;2;3;4], [10;11;12;13], [40;60;80;100])"
   ],
   "outputs": [
    {
     "output_type": "display_data",
     "data": {
      "text/html": ""
     },
     "metadata": {}
    }
   ],
   "metadata": {
    "dotnet_interactive": {
     "language": "fsharp"
    }
   }
  },
  {
   "cell_type": "markdown",
   "source": [
    "# Setting Marker Size and Color"
   ],
   "metadata": {}
  },
  {
   "cell_type": "code",
   "execution_count": null,
   "source": [
    "open Plotly.NET\r\n",
    "open Plotly.NET.TraceObjects\r\n",
    "\r\n",
    "let colors = \r\n",
    "    [|\"#4287f5\";\"#cb23fa\";\"#23fabd\";\"#ff7b00\"|] \r\n",
    "    |> Seq.map Color.fromString\r\n",
    "    |> Color.fromColors\r\n",
    "\r\n",
    "Chart.Bubble(x=[1;2;3;4], y=[10;11;12;13], sizes=[40;60;80;100],Color=colors)"
   ],
   "outputs": [
    {
     "output_type": "display_data",
     "data": {
      "text/html": ""
     },
     "metadata": {}
    }
   ],
   "metadata": {
    "dotnet_interactive": {
     "language": "fsharp"
    }
   }
  },
  {
   "cell_type": "markdown",
   "source": [
    "# Scaling the size of bubble charts\r\n",
    "\r\n",
    "To scale the bubble size, use the attribute Marker Sizeref property. We recommend using the following formula to calculate a sizeref value:\r\n",
    "sizeref = 2. * max(array of size values) / (desired maximum marker size ** 2)\r\n",
    "\r\n",
    "Note that setting 'Sizeref' to a value greater than 1, decreases the rendered marker sizes, while setting 'Sizeref' to less than 1, increases the rendered marker sizes. See https://plotly.com/fsharp/reference/scatter/#scatter-marker-sizeref for more information. Additionally, we recommend setting the sizemode attribute: https://plotly.com/fsharp/reference/scatter/#scatter-marker-sizemode to area."
   ],
   "metadata": {}
  },
  {
   "cell_type": "code",
   "execution_count": null,
   "source": [
    "\r\n",
    "open Plotly.NET\r\n",
    "\r\n",
    "let sizes = [20.; 40.; 60.; 80.; 100.; 80.; 60.; 40.; 20.; 40.]\r\n",
    "let x = [1.; 2.; 3.; 4.; 5.; 6.; 7.; 8.; 9.; 10.]\r\n",
    "let y = [11.; 12.; 10.; 11.; 12.; 11.; 12.; 13.; 12.; 11.]\r\n",
    "\r\n",
    "Chart.Bubble(x, y, sizes)\r\n",
    "\r\n",
    "|> Chart.withMarker(Marker.init(//Opacity = [1.; 0.8; 0.6; 0.4],\r\n",
    "                                MultiSizes = sizes,\r\n",
    "                                Sizeref = 2. * (Seq.max sizes) / System.Math.Pow(40., 2.),\r\n",
    "                                Sizemode = StyleParam.MarkerSizeMode.Area,\r\n",
    "                                Sizemin = 4.0\r\n",
    "                                ))"
   ],
   "outputs": [
    {
     "output_type": "display_data",
     "data": {
      "text/html": ""
     },
     "metadata": {}
    }
   ],
   "metadata": {
    "dotnet_interactive": {
     "language": "fsharp"
    }
   }
  },
  {
   "cell_type": "markdown",
   "source": [
    "# Hover Text with Bubble Charts"
   ],
   "metadata": {}
  },
  {
   "cell_type": "code",
   "execution_count": null,
   "source": [
    "open Plotly.NET.TraceObjects\r\n",
    "\r\n",
    "let x=[1; 2; 3; 4]\r\n",
    "let y=[10; 11; 12; 13]\r\n",
    "\r\n",
    "let colors = \r\n",
    "    [\"rgb(160, 164, 214)\"; \"rgb(255, 144, 14)\";  \"rgb(44, 160, 101)\"; \"rgb(255, 65, 54)\"]\r\n",
    "    |> Seq.map (fun c -> Color.fromString(c))\r\n",
    "    |> Color.fromColors\r\n",
    "\r\n",
    "let marker = Marker.init(MultiSizes=[40; 60; 80; 100],Color=colors)\r\n",
    "\r\n",
    "let labels = [\"A<br>size: 40\"; \"B<br>size: 60\"; \"C<br>size: 80\"; \"D<br>size: 100\"];\r\n",
    "\r\n",
    "Chart.Scatter(x,y,StyleParam.Mode.Markers, Labels=labels)\r\n",
    "    |> Chart.withMarker(marker)\r\n"
   ],
   "outputs": [
    {
     "output_type": "display_data",
     "data": {
      "text/html": ""
     },
     "metadata": {}
    }
   ],
   "metadata": {
    "dotnet_interactive": {
     "language": "fsharp"
    }
   }
  },
  {
   "cell_type": "markdown",
   "source": [
    "# Bubble Charts with Colorscale"
   ],
   "metadata": {}
  },
  {
   "cell_type": "code",
   "execution_count": null,
   "source": [
    "open Plotly.NET.TraceObjects\r\n",
    "\r\n",
    "let x=[1.; 3.2; 5.4; 7.6; 9.8; 12.5;]\r\n",
    "let y=[1.; 3.2; 5.4; 7.6; 9.8; 12.5;]\r\n",
    "\r\n",
    "let colors=\r\n",
    "    [120; 125; 130; 135; 140; 145] \r\n",
    "    |> Seq.cast<IConvertible>\r\n",
    "    |> Color.fromColorScaleValues\r\n",
    "    \r\n",
    "\r\n",
    "let marker = Marker.init(MultiSizes=[15; 30; 55; 70; 90; 110],Showscale=true,Color=colors)\r\n",
    "\r\n",
    "\r\n",
    "Chart.Scatter(x,y,StyleParam.Mode.Markers)\r\n",
    "    |> Chart.withMarker(marker)\r\n"
   ],
   "outputs": [
    {
     "output_type": "display_data",
     "data": {
      "text/html": ""
     },
     "metadata": {}
    }
   ],
   "metadata": {
    "dotnet_interactive": {
     "language": "fsharp"
    }
   }
  }
 ],
 "metadata": {
  "orig_nbformat": 4,
  "language_info": {
   "file_extension": ".cs",
   "mimetype": "text/x-csharp",
   "name": "C#",
   "pygments_lexer": "csharp",
   "version": "9.0"
  },
  "kernelspec": {
   "display_name": ".NET (C#)",
   "language": "C#",
   "name": ".net-csharp"
  }
 },
 "nbformat": 4,
 "nbformat_minor": 2
}