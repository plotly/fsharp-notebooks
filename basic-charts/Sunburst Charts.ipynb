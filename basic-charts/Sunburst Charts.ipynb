{
 "cells": [
  {
   "cell_type": "markdown",
   "source": [
    "## Basic Sunburst Plot with go.Sunburst"
   ],
   "metadata": {}
  },
  {
   "cell_type": "code",
   "execution_count": null,
   "source": [
    "#r \"nuget: Plotly.NET, 2.0.0-preview.6\"\r\n",
    "#r \"nuget: Plotly.NET.Interactive, 2.0.0-preview.6\"\r\n",
    "open Plotly.NET\r\n",
    "\r\n",
    "let labels=[\"Eve\"; \"Cain\"; \"Seth\"; \"Enos\"; \"Noam\"; \"Abel\"; \"Awan\"; \"Enoch\"; \"Azura\"]\r\n",
    "let parents=[\"\"; \"Eve\"; \"Eve\"; \"Seth\"; \"Seth\"; \"Eve\"; \"Eve\"; \"Awan\"; \"Eve\" ]\r\n",
    "let values=[10.; 14.; 12.; 10.; 2.; 6.; 6.; 4.; 4.]\r\n",
    "\r\n",
    "Chart.Sunburst(labels=labels, Values=values, parents=parents)\r\n",
    "|> Chart.withLayout(Layout.init(Margin = Margin.init(Top = 0., Left = 0., Right = 0., Bottom = 0.)))"
   ],
   "outputs": [
    {
     "data": {
      "text/html": [
       "<div><div></div><div></div><div><strong>Installed Packages</strong><ul><li><span>Plotly.NET, 2.0.0-preview.6</span></li><li><span>Plotly.NET.Interactive, 2.0.0-preview.6</span></li></ul></div></div>"
      ]
     },
     "metadata": {},
     "output_type": "display_data"
    },
    {
     "data": {
      "text/markdown": [
       "Loading extensions from `Plotly.NET.Interactive.dll`"
      ]
     },
     "metadata": {},
     "output_type": "display_data"
    },
    {
     "data": {
      "text/markdown": [
       "Added Kernel Extension including formatters for Plotly.NET charts."
      ]
     },
     "metadata": {},
     "output_type": "display_data"
    },
    {
     "data": {
      "text/html": [
       "<div id=\"6085b63d-7b44-4716-8a60-09daeb350ad2\" style=\"width: 600px; height: 600px;\"><!-- Plotly chart will be drawn inside this DIV --></div>\r\n",
       "<script type=\"text/javascript\">\r\n",
       "\n",
       "            var renderPlotly_6085b63d7b4447168a6009daeb350ad2 = function() {\n",
       "            var fsharpPlotlyRequire = requirejs.config({context:'fsharp-plotly',paths:{plotly:'https://cdn.plot.ly/plotly-latest.min'}}) || require;\n",
       "            fsharpPlotlyRequire(['plotly'], function(Plotly) {\r\n",
       "\n",
       "            var data = [{\"type\":\"sunburst\",\"labels\":[\"Eve\",\"Cain\",\"Seth\",\"Enos\",\"Noam\",\"Abel\",\"Awan\",\"Enoch\",\"Azura\"],\"parents\":[\"\",\"Eve\",\"Eve\",\"Seth\",\"Seth\",\"Eve\",\"Eve\",\"Awan\",\"Eve\"],\"values\":[10.0,14.0,12.0,10.0,2.0,6.0,6.0,4.0,4.0],\"marker\":{}}];\n",
       "            var layout = {\"margin\":{\"l\":0.0,\"r\":0.0,\"t\":0.0,\"b\":0.0}};\n",
       "            var config = {};\n",
       "            Plotly.newPlot('6085b63d-7b44-4716-8a60-09daeb350ad2', data, layout, config);\r\n",
       "});\n",
       "            };\n",
       "            if ((typeof(requirejs) !==  typeof(Function)) || (typeof(requirejs.config) !== typeof(Function))) {\n",
       "                var script = document.createElement(\"script\");\n",
       "                script.setAttribute(\"src\", \"https://cdnjs.cloudflare.com/ajax/libs/require.js/2.3.6/require.min.js\");\n",
       "                script.onload = function(){\n",
       "                    renderPlotly_6085b63d7b4447168a6009daeb350ad2();\n",
       "                };\n",
       "                document.getElementsByTagName(\"head\")[0].appendChild(script);\n",
       "            }\n",
       "            else {\n",
       "                renderPlotly_6085b63d7b4447168a6009daeb350ad2();\n",
       "            }\r\n",
       "</script>\r\n"
      ]
     },
     "metadata": {},
     "output_type": "display_data"
    }
   ],
   "metadata": {
    "dotnet_interactive": {
     "language": "fsharp"
    }
   }
  },
  {
   "cell_type": "markdown",
   "source": [
    "## Sunburst with Repeated Labels"
   ],
   "metadata": {}
  },
  {
   "cell_type": "code",
   "execution_count": null,
   "source": [
    "#r \"nuget: Plotly.NET, 2.0.0-preview.6\"\r\n",
    "#r \"nuget: Plotly.NET.Interactive, 2.0.0-preview.6\"\r\n",
    "open Plotly.NET\r\n",
    "\r\n",
    "let ids=[\r\n",
    "    \"North America\"; \"Europe\"; \"Australia\"; \"North America - Football\"; \"Soccer\";\r\n",
    "    \"North America - Rugby\"; \"Europe - Football\"; \"Rugby\";\r\n",
    "    \"Europe - American Football\";\"Australia - Football\"; \"Association\";\r\n",
    "    \"Australian Rules\"; \"Autstralia - American Football\"; \"Australia - Rugby\";\r\n",
    "    \"Rugby League\"; \"Rugby Union\"\r\n",
    "]\r\n",
    "let labels= [\r\n",
    "    \"North<br>America\"; \"Europe\"; \"Australia\"; \"Football\"; \"Soccer\"; \"Rugby\";\r\n",
    "    \"Football\"; \"Rugby\"; \"American<br>Football\"; \"Football\"; \"Association\";\r\n",
    "    \"Australian<br>Rules\"; \"American<br>Football\"; \"Rugby\"; \"Rugby<br>League\";\r\n",
    "    \"Rugby<br>Union\"\r\n",
    "]\r\n",
    "let  parents=[\r\n",
    "    \"\"; \"\"; \"\"; \"North America\"; \"North America\"; \"North America\"; \"Europe\";\r\n",
    "    \"Europe\"; \"Europe\";\"Australia\"; \"Australia - Football\"; \"Australia - Football\";\r\n",
    "    \"Australia - Football\"; \"Australia - Football\"; \"Australia - Rugby\";\r\n",
    "    \"Australia - Rugby\"\r\n",
    "]\r\n",
    "\r\n",
    "Chart.Sunburst(Ids=ids, labels=labels, parents=parents)\r\n",
    "|> Chart.withLayout(Layout.init(Margin = Margin.init(Top = 0., Left = 0., Right = 0., Bottom = 0.)))"
   ],
   "outputs": [
    {
     "data": {
      "text/html": [
       "<div><div></div><div></div><div><strong>Installed Packages</strong><ul><li><span>Plotly.NET, 2.0.0-preview.6</span></li><li><span>Plotly.NET.Interactive, 2.0.0-preview.6</span></li></ul></div></div>"
      ]
     },
     "metadata": {},
     "output_type": "display_data"
    },
    {
     "data": {
      "text/html": [
       "<div id=\"7edf579d-96bf-465c-bfe0-7affdfaef28c\" style=\"width: 600px; height: 600px;\"><!-- Plotly chart will be drawn inside this DIV --></div>\r\n",
       "<script type=\"text/javascript\">\r\n",
       "\n",
       "            var renderPlotly_7edf579d96bf465cbfe07affdfaef28c = function() {\n",
       "            var fsharpPlotlyRequire = requirejs.config({context:'fsharp-plotly',paths:{plotly:'https://cdn.plot.ly/plotly-latest.min'}}) || require;\n",
       "            fsharpPlotlyRequire(['plotly'], function(Plotly) {\r\n",
       "\n",
       "            var data = [{\"type\":\"sunburst\",\"labels\":[\"North<br>America\",\"Europe\",\"Australia\",\"Football\",\"Soccer\",\"Rugby\",\"Football\",\"Rugby\",\"American<br>Football\",\"Football\",\"Association\",\"Australian<br>Rules\",\"American<br>Football\",\"Rugby\",\"Rugby<br>League\",\"Rugby<br>Union\"],\"parents\":[\"\",\"\",\"\",\"North America\",\"North America\",\"North America\",\"Europe\",\"Europe\",\"Europe\",\"Australia\",\"Australia - Football\",\"Australia - Football\",\"Australia - Football\",\"Australia - Football\",\"Australia - Rugby\",\"Australia - Rugby\"],\"ids\":[\"North America\",\"Europe\",\"Australia\",\"North America - Football\",\"Soccer\",\"North America - Rugby\",\"Europe - Football\",\"Rugby\",\"Europe - American Football\",\"Australia - Football\",\"Association\",\"Australian Rules\",\"Autstralia - American Football\",\"Australia - Rugby\",\"Rugby League\",\"Rugby Union\"],\"marker\":{}}];\n",
       "            var layout = {\"margin\":{\"l\":0.0,\"r\":0.0,\"t\":0.0,\"b\":0.0}};\n",
       "            var config = {};\n",
       "            Plotly.newPlot('7edf579d-96bf-465c-bfe0-7affdfaef28c', data, layout, config);\r\n",
       "});\n",
       "            };\n",
       "            if ((typeof(requirejs) !==  typeof(Function)) || (typeof(requirejs.config) !== typeof(Function))) {\n",
       "                var script = document.createElement(\"script\");\n",
       "                script.setAttribute(\"src\", \"https://cdnjs.cloudflare.com/ajax/libs/require.js/2.3.6/require.min.js\");\n",
       "                script.onload = function(){\n",
       "                    renderPlotly_7edf579d96bf465cbfe07affdfaef28c();\n",
       "                };\n",
       "                document.getElementsByTagName(\"head\")[0].appendChild(script);\n",
       "            }\n",
       "            else {\n",
       "                renderPlotly_7edf579d96bf465cbfe07affdfaef28c();\n",
       "            }\r\n",
       "</script>\r\n"
      ]
     },
     "metadata": {},
     "output_type": "display_data"
    }
   ],
   "metadata": {
    "dotnet_interactive": {
     "language": "fsharp"
    }
   }
  },
  {
   "cell_type": "markdown",
   "source": [
    "## Branchvalues"
   ],
   "metadata": {}
  },
  {
   "cell_type": "code",
   "execution_count": null,
   "source": [
    "#r \"nuget: Plotly.NET, 2.0.0-preview.6\"\r\n",
    "#r \"nuget: Plotly.NET.Interactive, 2.0.0-preview.6\"\r\n",
    "open Plotly.NET\r\n",
    "\r\n",
    "let labels = [ \"Eve\"; \"Cain\"; \"Seth\"; \"Enos\"; \"Noam\"; \"Abel\"; \"Awan\"; \"Enoch\"; \"Azura\"]\r\n",
    "let parents = [\"\";    \"Eve\";  \"Eve\";  \"Seth\"; \"Seth\"; \"Eve\";  \"Eve\";  \"Awan\";  \"Eve\" ]\r\n",
    "let values = [  65.;  14.;  12.;  10.;  2.;  6.;  6.;  4.;  4.]\r\n",
    "\r\n",
    "Chart.Sunburst(Values=values, labels=labels, parents=parents, Branchvalues = StyleParam.BranchValues.Total)\r\n",
    "|> Chart.withLayout(Layout.init(Margin = Margin.init(Top = 0., Left = 0., Right = 0., Bottom = 0.)))"
   ],
   "outputs": [
    {
     "data": {
      "text/html": [
       "<div><div></div><div></div><div><strong>Installed Packages</strong><ul><li><span>Plotly.NET, 2.0.0-preview.6</span></li><li><span>Plotly.NET.Interactive, 2.0.0-preview.6</span></li></ul></div></div>"
      ]
     },
     "metadata": {},
     "output_type": "display_data"
    },
    {
     "data": {
      "text/html": [
       "<div id=\"fbe51ca9-41b9-42f2-9bc7-19dda631bb91\" style=\"width: 600px; height: 600px;\"><!-- Plotly chart will be drawn inside this DIV --></div>\r\n",
       "<script type=\"text/javascript\">\r\n",
       "\n",
       "            var renderPlotly_fbe51ca941b942f29bc719dda631bb91 = function() {\n",
       "            var fsharpPlotlyRequire = requirejs.config({context:'fsharp-plotly',paths:{plotly:'https://cdn.plot.ly/plotly-latest.min'}}) || require;\n",
       "            fsharpPlotlyRequire(['plotly'], function(Plotly) {\r\n",
       "\n",
       "            var data = [{\"type\":\"sunburst\",\"labels\":[\"Eve\",\"Cain\",\"Seth\",\"Enos\",\"Noam\",\"Abel\",\"Awan\",\"Enoch\",\"Azura\"],\"parents\":[\"\",\"Eve\",\"Eve\",\"Seth\",\"Seth\",\"Eve\",\"Eve\",\"Awan\",\"Eve\"],\"values\":[65.0,14.0,12.0,10.0,2.0,6.0,6.0,4.0,4.0],\"branchvalues\":\"total\",\"marker\":{}}];\n",
       "            var layout = {\"margin\":{\"l\":0.0,\"r\":0.0,\"t\":0.0,\"b\":0.0}};\n",
       "            var config = {};\n",
       "            Plotly.newPlot('fbe51ca9-41b9-42f2-9bc7-19dda631bb91', data, layout, config);\r\n",
       "});\n",
       "            };\n",
       "            if ((typeof(requirejs) !==  typeof(Function)) || (typeof(requirejs.config) !== typeof(Function))) {\n",
       "                var script = document.createElement(\"script\");\n",
       "                script.setAttribute(\"src\", \"https://cdnjs.cloudflare.com/ajax/libs/require.js/2.3.6/require.min.js\");\n",
       "                script.onload = function(){\n",
       "                    renderPlotly_fbe51ca941b942f29bc719dda631bb91();\n",
       "                };\n",
       "                document.getElementsByTagName(\"head\")[0].appendChild(script);\n",
       "            }\n",
       "            else {\n",
       "                renderPlotly_fbe51ca941b942f29bc719dda631bb91();\n",
       "            }\r\n",
       "</script>\r\n"
      ]
     },
     "metadata": {},
     "output_type": "display_data"
    }
   ],
   "metadata": {
    "dotnet_interactive": {
     "language": "fsharp"
    }
   }
  },
  {
   "cell_type": "markdown",
   "source": [
    "## Large Number of Slices"
   ],
   "metadata": {}
  },
  {
   "cell_type": "code",
   "execution_count": null,
   "source": [
    "#r \"nuget: Plotly.NET, 2.0.0-preview.6\"\r\n",
    "#r \"nuget: Plotly.NET.Interactive, 2.0.0-preview.6\"\r\n",
    "#r \"nuget: FSharp.Data\"\r\n",
    "open Plotly.NET\r\n",
    "open FSharp.Data\r\n",
    "\r\n",
    "type DFI = CsvProvider<\"https://raw.githubusercontent.com/plotly/datasets/718417069ead87650b90472464c7565dc8c2cb1c/sunburst-coffee-flavors-complete.csv\">\r\n",
    "type DFII = CsvProvider<\"https://raw.githubusercontent.com/plotly/datasets/718417069ead87650b90472464c7565dc8c2cb1c/coffee-flavors.csv\">\r\n",
    "let df1 = DFI.Load(\"https://raw.githubusercontent.com/plotly/datasets/718417069ead87650b90472464c7565dc8c2cb1c/sunburst-coffee-flavors-complete.csv\")\r\n",
    "let df2 = DFII.Load(\"https://raw.githubusercontent.com/plotly/datasets/718417069ead87650b90472464c7565dc8c2cb1c/coffee-flavors.csv\")\r\n",
    "\r\n",
    "\r\n",
    "\r\n",
    "\r\n",
    "[\r\n",
    "            (Chart.Sunburst(Ids=[for row in df1.Rows do row.Ids], labels=[for row in df1.Rows do row.Labels], parents=[for row in df1.Rows do row.Parents])\r\n",
    "                |> GenericChart.mapTrace(fun x -> x.SetValue(\"domain\", Domain.init(Row = 1, Column = 1)); x))\r\n",
    "            (Chart.Sunburst(Ids=[for row in df2.Rows do row.Ids], labels=[for row in df2.Rows do row.Labels], parents=[for row in df2.Rows do row.Parents], Maxdepth = 2)\r\n",
    "                |> GenericChart.mapTrace(fun x -> x.SetValue(\"domain\", Domain.init(Row = 1, Column = 2)); x))\r\n",
    "]\r\n",
    "|> Chart.Combine\r\n",
    "|> Chart.withLayout(Layout.init(Width = 1500., Margin = Margin.init(Top = 0., Left = 0., Right = 0., Bottom = 0.)))\r\n",
    "|> Chart.withLayoutGrid(LayoutGrid.init(Rows = 1, Columns = 2))"
   ],
   "outputs": [
    {
     "data": {
      "text/html": [
       "<div><div></div><div></div><div><strong>Installed Packages</strong><ul><li><span>FSharp.Data, 4.2.3</span></li><li><span>Plotly.NET, 2.0.0-preview.6</span></li><li><span>Plotly.NET.Interactive, 2.0.0-preview.6</span></li></ul></div></div>"
      ]
     },
     "metadata": {},
     "output_type": "display_data"
    },
    {
     "data": {
      "text/html": [
       "<div id=\"b0a66b99-2a33-4afe-97ac-bcb7075c31b2\" style=\"width: 600px; height: 600px;\"><!-- Plotly chart will be drawn inside this DIV --></div>\r\n",
       "<script type=\"text/javascript\">\r\n",
       "\n",
       "            var renderPlotly_b0a66b992a334afe97acbcb7075c31b2 = function() {\n",
       "            var fsharpPlotlyRequire = requirejs.config({context:'fsharp-plotly',paths:{plotly:'https://cdn.plot.ly/plotly-latest.min'}}) || require;\n",
       "            fsharpPlotlyRequire(['plotly'], function(Plotly) {\r\n",
       "\n",
       "            var data = [{\"type\":\"sunburst\",\"labels\":[\"Aromas\",\"Tastes\",\"Enzymatic\",\"Sugar Browning\",\"Dry Distillation\",\"Bitter\",\"Salt\",\"Sweet\",\"Sour\",\"Flowery\",\"Fruity\",\"Herby\",\"Nutty\",\"Carmelly\",\"Chocolatey\",\"Resinous\",\"Spicy\",\"Carbony\",\"Pungent\",\"Harsh\",\"Sharp\",\"Bland\",\"Mellow\",\"Acidy\",\"Winey\",\"Soury\",\"Floral\",\"Fragrant\",\"Citrus\",\"Berry-like\",\"Alliaceous\",\"Leguminous\",\"Nut-like\",\"Malt-like\",\"Candy-like\",\"Syrup-like\",\"Chocolate-like\",\"Vanilla-like\",\"Turpeny\",\"Medicinal\",\"Warming\",\"Pungent\",\"Smokey\",\"Ashy\",\"Creosol\",\"Phenolic\",\"Caustic\",\"Alkaline\",\"Astringent\",\"Rough\",\"Neutral\",\"Soft\",\"Delicate\",\"Mild\",\"Nippy\",\"Piquant\",\"Tangy\",\"Tart\",\"Hard\",\"Acrid\",\"Coffee Blossom\",\"Tea Rose\",\"Cardamon Caraway\",\"Coriander Seeds\",\"Lemon\",\"Apple\",\"Apricot\",\"Blackberry\",\"Onion\",\"Garlic\",\"Cucumber\",\"Garden Peas\",\"Roasted Peanuts\",\"Walnuts\",\"Balsamic Rice\",\"Toast\",\"Roasted Hazelnut\",\"Roasted Almond\",\"Honey\",\"Maple Syrup\",\"Bakers\",\"Dark Chocolate\",\"Swiss\",\"Butter\",\"Piney\",\"Blackcurrant-like\",\"Camphoric\",\"Cineolic\",\"Cedar\",\"Pepper\",\"Clove\",\"Thyme\",\"Tarry\",\"Pipe Tobacco\",\"Burnt\",\"Charred\"],\"parents\":[\"\",\"\",\"Aromas\",\"Aromas\",\"Aromas\",\"Tastes\",\"Tastes\",\"Tastes\",\"Tastes\",\"Aromas-Enzymatic\",\"Aromas-Enzymatic\",\"Aromas-Enzymatic\",\"Aromas-Sugar Browning\",\"Aromas-Sugar Browning\",\"Aromas-Sugar Browning\",\"Aromas-Dry Distillation\",\"Aromas-Dry Distillation\",\"Aromas-Dry Distillation\",\"Tastes-Bitter\",\"Tastes-Bitter\",\"Tastes-Salt\",\"Tastes-Salt\",\"Tastes-Sweet\",\"Tastes-Sweet\",\"Tastes-Sour\",\"Tastes-Sour\",\"Enzymatic-Flowery\",\"Enzymatic-Flowery\",\"Enzymatic-Fruity\",\"Enzymatic-Fruity\",\"Enzymatic-Herby\",\"Enzymatic-Herby\",\"Sugar Browning-Nutty\",\"Sugar Browning-Nutty\",\"Sugar Browning-Carmelly\",\"Sugar Browning-Carmelly\",\"Sugar Browning-Chocolatey\",\"Sugar Browning-Chocolatey\",\"Dry Distillation-Resinous\",\"Dry Distillation-Resinous\",\"Dry Distillation-Spicy\",\"Dry Distillation-Spicy\",\"Dry Distillation-Carbony\",\"Dry Distillation-Carbony\",\"Bitter-Pungent\",\"Bitter-Pungent\",\"Bitter-Harsh\",\"Bitter-Harsh\",\"Salt-Sharp\",\"Salt-Sharp\",\"Salt-Bland\",\"Salt-Bland\",\"Sweet-Mellow\",\"Sweet-Mellow\",\"Sweet-Acidy\",\"Sweet-Acidy\",\"Sour-Winey\",\"Sour-Winey\",\"Sour-Soury\",\"Sour-Soury\",\"Flowery-Floral\",\"Flowery-Floral\",\"Flowery-Fragrant\",\"Flowery-Fragrant\",\"Fruity-Citrus\",\"Fruity-Citrus\",\"Fruity-Berry-like\",\"Fruity-Berry-like\",\"Herby-Alliaceous\",\"Herby-Alliaceous\",\"Herby-Leguminous\",\"Herby-Leguminous\",\"Nutty-Nut-like\",\"Nutty-Nut-like\",\"Nutty-Malt-like\",\"Nutty-Malt-like\",\"Carmelly-Candy-like\",\"Carmelly-Candy-like\",\"Carmelly-Syrup-like\",\"Carmelly-Syrup-like\",\"Chocolatey-Chocolate-like\",\"Chocolatey-Chocolate-like\",\"Chocolatey-Vanilla-like\",\"Chocolatey-Vanilla-like\",\"Resinous-Turpeny\",\"Resinous-Turpeny\",\"Resinous-Medicinal\",\"Resinous-Medicinal\",\"Spicy-Warming\",\"Spicy-Warming\",\"Spicy-Pungent\",\"Spicy-Pungent\",\"Carbony-Smokey\",\"Carbony-Smokey\",\"Carbony-Ashy\",\"Carbony-Ashy\"],\"ids\":[\"Aromas\",\"Tastes\",\"Aromas-Enzymatic\",\"Aromas-Sugar Browning\",\"Aromas-Dry Distillation\",\"Tastes-Bitter\",\"Tastes-Salt\",\"Tastes-Sweet\",\"Tastes-Sour\",\"Enzymatic-Flowery\",\"Enzymatic-Fruity\",\"Enzymatic-Herby\",\"Sugar Browning-Nutty\",\"Sugar Browning-Carmelly\",\"Sugar Browning-Chocolatey\",\"Dry Distillation-Resinous\",\"Dry Distillation-Spicy\",\"Dry Distillation-Carbony\",\"Bitter-Pungent\",\"Bitter-Harsh\",\"Salt-Sharp\",\"Salt-Bland\",\"Sweet-Mellow\",\"Sweet-Acidy\",\"Sour-Winey\",\"Sour-Soury\",\"Flowery-Floral\",\"Flowery-Fragrant\",\"Fruity-Citrus\",\"Fruity-Berry-like\",\"Herby-Alliaceous\",\"Herby-Leguminous\",\"Nutty-Nut-like\",\"Nutty-Malt-like\",\"Carmelly-Candy-like\",\"Carmelly-Syrup-like\",\"Chocolatey-Chocolate-like\",\"Chocolatey-Vanilla-like\",\"Resinous-Turpeny\",\"Resinous-Medicinal\",\"Spicy-Warming\",\"Spicy-Pungent\",\"Carbony-Smokey\",\"Carbony-Ashy\",\"Pungent-Creosol\",\"Pungent-Phenolic\",\"Harsh-Caustic\",\"Harsh-Alkaline\",\"Sharp-Astringent\",\"Sharp-Rough\",\"Bland-Neutral\",\"Bland-Soft\",\"Mellow-Delicate\",\"Mellow-Mild\",\"Acidy-Nippy\",\"Acidy-Piquant\",\"Winey-Tangy\",\"Winey-Tart\",\"Soury-Hard\",\"Soury-Acrid\",\"Floral-Coffee Blossom\",\"Floral-Tea Rose\",\"Fragrant-Cardamon Caraway\",\"Fragrant-Coriander Seeds\",\"Citrus-Lemon\",\"Citrus-Apple\",\"Berry-like-Apricot\",\"Berry-like-Blackberry\",\"Alliaceous-Onion\",\"Alliaceous-Garlic\",\"Leguminous-Cucumber\",\"Leguminous-Garden Peas\",\"Nut-like-Roasted Peanuts\",\"Nut-like-Walnuts\",\"Malt-like-Balsamic Rice\",\"Malt-like-Toast\",\"Candy-like-Roasted Hazelnut\",\"Candy-like-Roasted Almond\",\"Syrup-like-Honey\",\"Syrup-like-Maple Syrup\",\"Chocolate-like-Bakers\",\"Chocolate-like-Dark Chocolate\",\"Vanilla-like-Swiss\",\"Vanilla-like-Butter\",\"Turpeny-Piney\",\"Turpeny-Blackcurrant-like\",\"Medicinal-Camphoric\",\"Medicinal-Cineolic\",\"Warming-Cedar\",\"Warming-Pepper\",\"Pungent-Clove\",\"Pungent-Thyme\",\"Smokey-Tarry\",\"Smokey-Pipe Tobacco\",\"Ashy-Burnt\",\"Ashy-Charred\"],\"marker\":{},\"domain\":{\"row\":1,\"column\":1}},{\"type\":\"sunburst\",\"labels\":[\"Flowery\",\"Fruity\",\"Herby\",\"Nutty\",\"Carmelly\",\"Chocolatey\",\"Resinous\",\"Spicy\",\"Carbony\",\"Pungent\",\"Harsh\",\"Sharp\",\"Bland\",\"Mellow\",\"Acidy\",\"Winey\",\"Soury\",\"Floral\",\"Fragrant\",\"Citrus\",\"Berry-like\",\"Alliaceous\",\"Leguminous\",\"Nut-like\",\"Malt-like\",\"Candy-like\",\"Syrup-like\",\"Chocolate-like\",\"Vanilla-like\",\"Turpeny\",\"Medicinal\",\"Warming\",\"Pungent\",\"Smokey\",\"Ashy\",\"Creosol\",\"Phenolic\",\"Caustic\",\"Alkaline\",\"Astringent\",\"Rough\",\"Neutral\",\"Soft\",\"Delicate\",\"Mild\",\"Nippy\",\"Piquant\",\"Tangy\",\"Tart\",\"Hard\",\"Acrid\",\"Coffee Blossom\",\"Tea Rose\",\"Cardamon Caraway\",\"Coriander Seeds\",\"Lemon\",\"Apple\",\"Apricot\",\"Blackberry\",\"Onion\",\"Garlic\",\"Cucumber\",\"Garden Peas\",\"Roasted Peanuts\",\"Walnuts\",\"Balsamic Rice\",\"Toast\",\"Roasted Hazelnut\",\"Roasted Almond\",\"Honey\",\"Maple Syrup\",\"Bakers\",\"Dark Chocolate\",\"Swiss\",\"Butter\",\"Piney\",\"Blackcurrant-like\",\"Camphoric\",\"Cineolic\",\"Cedar\",\"Pepper\",\"Clove\",\"Thyme\",\"Tarry\",\"Pipe Tobacco\",\"Burnt\",\"Charred\"],\"parents\":[\"\",\"\",\"\",\"\",\"\",\"\",\"\",\"\",\"\",\"\",\"\",\"\",\"\",\"\",\"\",\"\",\"\",\"Enzymatic-Flowery\",\"Enzymatic-Flowery\",\"Enzymatic-Fruity\",\"Enzymatic-Fruity\",\"Enzymatic-Herby\",\"Enzymatic-Herby\",\"Sugar Browning-Nutty\",\"Sugar Browning-Nutty\",\"Sugar Browning-Carmelly\",\"Sugar Browning-Carmelly\",\"Sugar Browning-Chocolatey\",\"Sugar Browning-Chocolatey\",\"Dry Distillation-Resinous\",\"Dry Distillation-Resinous\",\"Dry Distillation-Spicy\",\"Dry Distillation-Spicy\",\"Dry Distillation-Carbony\",\"Dry Distillation-Carbony\",\"Bitter-Pungent\",\"Bitter-Pungent\",\"Bitter-Harsh\",\"Bitter-Harsh\",\"Salt-Sharp\",\"Salt-Sharp\",\"Salt-Bland\",\"Salt-Bland\",\"Sweet-Mellow\",\"Sweet-Mellow\",\"Sweet-Acidy\",\"Sweet-Acidy\",\"Sour-Winey\",\"Sour-Winey\",\"Sour-Soury\",\"Sour-Soury\",\"Flowery-Floral\",\"Flowery-Floral\",\"Flowery-Fragrant\",\"Flowery-Fragrant\",\"Fruity-Citrus\",\"Fruity-Citrus\",\"Fruity-Berry-like\",\"Fruity-Berry-like\",\"Herby-Alliaceous\",\"Herby-Alliaceous\",\"Herby-Leguminous\",\"Herby-Leguminous\",\"Nutty-Nut-like\",\"Nutty-Nut-like\",\"Nutty-Malt-like\",\"Nutty-Malt-like\",\"Carmelly-Candy-like\",\"Carmelly-Candy-like\",\"Carmelly-Syrup-like\",\"Carmelly-Syrup-like\",\"Chocolatey-Chocolate-like\",\"Chocolatey-Chocolate-like\",\"Chocolatey-Vanilla-like\",\"Chocolatey-Vanilla-like\",\"Resinous-Turpeny\",\"Resinous-Turpeny\",\"Resinous-Medicinal\",\"Resinous-Medicinal\",\"Spicy-Warming\",\"Spicy-Warming\",\"Spicy-Pungent\",\"Spicy-Pungent\",\"Carbony-Smokey\",\"Carbony-Smokey\",\"Carbony-Ashy\",\"Carbony-Ashy\"],\"ids\":[\"Enzymatic-Flowery\",\"Enzymatic-Fruity\",\"Enzymatic-Herby\",\"Sugar Browning-Nutty\",\"Sugar Browning-Carmelly\",\"Sugar Browning-Chocolatey\",\"Dry Distillation-Resinous\",\"Dry Distillation-Spicy\",\"Dry Distillation-Carbony\",\"Bitter-Pungent\",\"Bitter-Harsh\",\"Salt-Sharp\",\"Salt-Bland\",\"Sweet-Mellow\",\"Sweet-Acidy\",\"Sour-Winey\",\"Sour-Soury\",\"Flowery-Floral\",\"Flowery-Fragrant\",\"Fruity-Citrus\",\"Fruity-Berry-like\",\"Herby-Alliaceous\",\"Herby-Leguminous\",\"Nutty-Nut-like\",\"Nutty-Malt-like\",\"Carmelly-Candy-like\",\"Carmelly-Syrup-like\",\"Chocolatey-Chocolate-like\",\"Chocolatey-Vanilla-like\",\"Resinous-Turpeny\",\"Resinous-Medicinal\",\"Spicy-Warming\",\"Spicy-Pungent\",\"Carbony-Smokey\",\"Carbony-Ashy\",\"Pungent-Creosol\",\"Pungent-Phenolic\",\"Harsh-Caustic\",\"Harsh-Alkaline\",\"Sharp-Astringent\",\"Sharp-Rough\",\"Bland-Neutral\",\"Bland-Soft\",\"Mellow-Delicate\",\"Mellow-Mild\",\"Acidy-Nippy\",\"Acidy-Piquant\",\"Winey-Tangy\",\"Winey-Tart\",\"Soury-Hard\",\"Soury-Acrid\",\"Floral-Coffee Blossom\",\"Floral-Tea Rose\",\"Fragrant-Cardamon Caraway\",\"Fragrant-Coriander Seeds\",\"Citrus-Lemon\",\"Citrus-Apple\",\"Berry-like-Apricot\",\"Berry-like-Blackberry\",\"Alliaceous-Onion\",\"Alliaceous-Garlic\",\"Leguminous-Cucumber\",\"Leguminous-Garden Peas\",\"Nut-like-Roasted Peanuts\",\"Nut-like-Walnuts\",\"Malt-like-Balsamic Rice\",\"Malt-like-Toast\",\"Candy-like-Roasted Hazelnut\",\"Candy-like-Roasted Almond\",\"Syrup-like-Honey\",\"Syrup-like-Maple Syrup\",\"Chocolate-like-Bakers\",\"Chocolate-like-Dark Chocolate\",\"Vanilla-like-Swiss\",\"Vanilla-like-Butter\",\"Turpeny-Piney\",\"Turpeny-Blackcurrant-like\",\"Medicinal-Camphoric\",\"Medicinal-Cineolic\",\"Warming-Cedar\",\"Warming-Pepper\",\"Pungent-Clove\",\"Pungent-Thyme\",\"Smokey-Tarry\",\"Smokey-Pipe Tobacco\",\"Ashy-Burnt\",\"Ashy-Charred\"],\"maxdepth\":2,\"marker\":{},\"domain\":{\"row\":1,\"column\":2}}];\n",
       "            var layout = {\"width\":1500.0,\"margin\":{\"l\":0.0,\"r\":0.0,\"t\":0.0,\"b\":0.0},\"grid\":{\"rows\":1,\"columns\":2}};\n",
       "            var config = {};\n",
       "            Plotly.newPlot('b0a66b99-2a33-4afe-97ac-bcb7075c31b2', data, layout, config);\r\n",
       "});\n",
       "            };\n",
       "            if ((typeof(requirejs) !==  typeof(Function)) || (typeof(requirejs.config) !== typeof(Function))) {\n",
       "                var script = document.createElement(\"script\");\n",
       "                script.setAttribute(\"src\", \"https://cdnjs.cloudflare.com/ajax/libs/require.js/2.3.6/require.min.js\");\n",
       "                script.onload = function(){\n",
       "                    renderPlotly_b0a66b992a334afe97acbcb7075c31b2();\n",
       "                };\n",
       "                document.getElementsByTagName(\"head\")[0].appendChild(script);\n",
       "            }\n",
       "            else {\n",
       "                renderPlotly_b0a66b992a334afe97acbcb7075c31b2();\n",
       "            }\r\n",
       "</script>\r\n"
      ]
     },
     "metadata": {},
     "output_type": "display_data"
    }
   ],
   "metadata": {
    "dotnet_interactive": {
     "language": "fsharp"
    }
   }
  },
  {
   "cell_type": "markdown",
   "source": [
    "## Controlling text orientation inside sunburst sectors"
   ],
   "metadata": {}
  },
  {
   "cell_type": "code",
   "execution_count": null,
   "source": [
    "#r \"nuget: Plotly.NET, 2.0.0-preview.6\"\r\n",
    "#r \"nuget: Plotly.NET.Interactive, 2.0.0-preview.6\"\r\n",
    "open Plotly.NET\r\n",
    "\r\n",
    "type DFI = CsvProvider<\"https://raw.githubusercontent.com/plotly/datasets/718417069ead87650b90472464c7565dc8c2cb1c/coffee-flavors.csv\">\r\n",
    "let df1 = DFI.Load(\"https://raw.githubusercontent.com/plotly/datasets/718417069ead87650b90472464c7565dc8c2cb1c/coffee-flavors.csv\")\r\n",
    "\r\n",
    "Chart.Sunburst(Ids=[for row in df1.Rows do row.Ids], labels=[for row in df1.Rows do row.Labels], parents=[for row in df1.Rows do row.Parents], Maxdepth = 2)\r\n",
    "|> GenericChart.mapTrace(fun x -> x.SetValue(\"insidetextorientation\", \"radial\"); x)\r\n",
    "|> Chart.withLayout(Layout.init(Margin = Margin.init(Top = 10., Left = 10., Right = 10., Bottom = 10.)))"
   ],
   "outputs": [
    {
     "data": {
      "text/html": [
       "<div><div></div><div></div><div><strong>Installed Packages</strong><ul><li><span>Plotly.NET, 2.0.0-preview.6</span></li><li><span>Plotly.NET.Interactive, 2.0.0-preview.6</span></li></ul></div></div>"
      ]
     },
     "metadata": {},
     "output_type": "display_data"
    },
    {
     "data": {
      "text/html": [
       "<div id=\"c8fc6ca2-7312-4530-a79f-a512886cf82f\" style=\"width: 600px; height: 600px;\"><!-- Plotly chart will be drawn inside this DIV --></div>\r\n",
       "<script type=\"text/javascript\">\r\n",
       "\n",
       "            var renderPlotly_c8fc6ca273124530a79fa512886cf82f = function() {\n",
       "            var fsharpPlotlyRequire = requirejs.config({context:'fsharp-plotly',paths:{plotly:'https://cdn.plot.ly/plotly-latest.min'}}) || require;\n",
       "            fsharpPlotlyRequire(['plotly'], function(Plotly) {\r\n",
       "\n",
       "            var data = [{\"type\":\"sunburst\",\"labels\":[\"Flowery\",\"Fruity\",\"Herby\",\"Nutty\",\"Carmelly\",\"Chocolatey\",\"Resinous\",\"Spicy\",\"Carbony\",\"Pungent\",\"Harsh\",\"Sharp\",\"Bland\",\"Mellow\",\"Acidy\",\"Winey\",\"Soury\",\"Floral\",\"Fragrant\",\"Citrus\",\"Berry-like\",\"Alliaceous\",\"Leguminous\",\"Nut-like\",\"Malt-like\",\"Candy-like\",\"Syrup-like\",\"Chocolate-like\",\"Vanilla-like\",\"Turpeny\",\"Medicinal\",\"Warming\",\"Pungent\",\"Smokey\",\"Ashy\",\"Creosol\",\"Phenolic\",\"Caustic\",\"Alkaline\",\"Astringent\",\"Rough\",\"Neutral\",\"Soft\",\"Delicate\",\"Mild\",\"Nippy\",\"Piquant\",\"Tangy\",\"Tart\",\"Hard\",\"Acrid\",\"Coffee Blossom\",\"Tea Rose\",\"Cardamon Caraway\",\"Coriander Seeds\",\"Lemon\",\"Apple\",\"Apricot\",\"Blackberry\",\"Onion\",\"Garlic\",\"Cucumber\",\"Garden Peas\",\"Roasted Peanuts\",\"Walnuts\",\"Balsamic Rice\",\"Toast\",\"Roasted Hazelnut\",\"Roasted Almond\",\"Honey\",\"Maple Syrup\",\"Bakers\",\"Dark Chocolate\",\"Swiss\",\"Butter\",\"Piney\",\"Blackcurrant-like\",\"Camphoric\",\"Cineolic\",\"Cedar\",\"Pepper\",\"Clove\",\"Thyme\",\"Tarry\",\"Pipe Tobacco\",\"Burnt\",\"Charred\"],\"parents\":[\"\",\"\",\"\",\"\",\"\",\"\",\"\",\"\",\"\",\"\",\"\",\"\",\"\",\"\",\"\",\"\",\"\",\"Enzymatic-Flowery\",\"Enzymatic-Flowery\",\"Enzymatic-Fruity\",\"Enzymatic-Fruity\",\"Enzymatic-Herby\",\"Enzymatic-Herby\",\"Sugar Browning-Nutty\",\"Sugar Browning-Nutty\",\"Sugar Browning-Carmelly\",\"Sugar Browning-Carmelly\",\"Sugar Browning-Chocolatey\",\"Sugar Browning-Chocolatey\",\"Dry Distillation-Resinous\",\"Dry Distillation-Resinous\",\"Dry Distillation-Spicy\",\"Dry Distillation-Spicy\",\"Dry Distillation-Carbony\",\"Dry Distillation-Carbony\",\"Bitter-Pungent\",\"Bitter-Pungent\",\"Bitter-Harsh\",\"Bitter-Harsh\",\"Salt-Sharp\",\"Salt-Sharp\",\"Salt-Bland\",\"Salt-Bland\",\"Sweet-Mellow\",\"Sweet-Mellow\",\"Sweet-Acidy\",\"Sweet-Acidy\",\"Sour-Winey\",\"Sour-Winey\",\"Sour-Soury\",\"Sour-Soury\",\"Flowery-Floral\",\"Flowery-Floral\",\"Flowery-Fragrant\",\"Flowery-Fragrant\",\"Fruity-Citrus\",\"Fruity-Citrus\",\"Fruity-Berry-like\",\"Fruity-Berry-like\",\"Herby-Alliaceous\",\"Herby-Alliaceous\",\"Herby-Leguminous\",\"Herby-Leguminous\",\"Nutty-Nut-like\",\"Nutty-Nut-like\",\"Nutty-Malt-like\",\"Nutty-Malt-like\",\"Carmelly-Candy-like\",\"Carmelly-Candy-like\",\"Carmelly-Syrup-like\",\"Carmelly-Syrup-like\",\"Chocolatey-Chocolate-like\",\"Chocolatey-Chocolate-like\",\"Chocolatey-Vanilla-like\",\"Chocolatey-Vanilla-like\",\"Resinous-Turpeny\",\"Resinous-Turpeny\",\"Resinous-Medicinal\",\"Resinous-Medicinal\",\"Spicy-Warming\",\"Spicy-Warming\",\"Spicy-Pungent\",\"Spicy-Pungent\",\"Carbony-Smokey\",\"Carbony-Smokey\",\"Carbony-Ashy\",\"Carbony-Ashy\"],\"ids\":[\"Enzymatic-Flowery\",\"Enzymatic-Fruity\",\"Enzymatic-Herby\",\"Sugar Browning-Nutty\",\"Sugar Browning-Carmelly\",\"Sugar Browning-Chocolatey\",\"Dry Distillation-Resinous\",\"Dry Distillation-Spicy\",\"Dry Distillation-Carbony\",\"Bitter-Pungent\",\"Bitter-Harsh\",\"Salt-Sharp\",\"Salt-Bland\",\"Sweet-Mellow\",\"Sweet-Acidy\",\"Sour-Winey\",\"Sour-Soury\",\"Flowery-Floral\",\"Flowery-Fragrant\",\"Fruity-Citrus\",\"Fruity-Berry-like\",\"Herby-Alliaceous\",\"Herby-Leguminous\",\"Nutty-Nut-like\",\"Nutty-Malt-like\",\"Carmelly-Candy-like\",\"Carmelly-Syrup-like\",\"Chocolatey-Chocolate-like\",\"Chocolatey-Vanilla-like\",\"Resinous-Turpeny\",\"Resinous-Medicinal\",\"Spicy-Warming\",\"Spicy-Pungent\",\"Carbony-Smokey\",\"Carbony-Ashy\",\"Pungent-Creosol\",\"Pungent-Phenolic\",\"Harsh-Caustic\",\"Harsh-Alkaline\",\"Sharp-Astringent\",\"Sharp-Rough\",\"Bland-Neutral\",\"Bland-Soft\",\"Mellow-Delicate\",\"Mellow-Mild\",\"Acidy-Nippy\",\"Acidy-Piquant\",\"Winey-Tangy\",\"Winey-Tart\",\"Soury-Hard\",\"Soury-Acrid\",\"Floral-Coffee Blossom\",\"Floral-Tea Rose\",\"Fragrant-Cardamon Caraway\",\"Fragrant-Coriander Seeds\",\"Citrus-Lemon\",\"Citrus-Apple\",\"Berry-like-Apricot\",\"Berry-like-Blackberry\",\"Alliaceous-Onion\",\"Alliaceous-Garlic\",\"Leguminous-Cucumber\",\"Leguminous-Garden Peas\",\"Nut-like-Roasted Peanuts\",\"Nut-like-Walnuts\",\"Malt-like-Balsamic Rice\",\"Malt-like-Toast\",\"Candy-like-Roasted Hazelnut\",\"Candy-like-Roasted Almond\",\"Syrup-like-Honey\",\"Syrup-like-Maple Syrup\",\"Chocolate-like-Bakers\",\"Chocolate-like-Dark Chocolate\",\"Vanilla-like-Swiss\",\"Vanilla-like-Butter\",\"Turpeny-Piney\",\"Turpeny-Blackcurrant-like\",\"Medicinal-Camphoric\",\"Medicinal-Cineolic\",\"Warming-Cedar\",\"Warming-Pepper\",\"Pungent-Clove\",\"Pungent-Thyme\",\"Smokey-Tarry\",\"Smokey-Pipe Tobacco\",\"Ashy-Burnt\",\"Ashy-Charred\"],\"maxdepth\":2,\"marker\":{},\"insidetextorientation\":\"radial\"}];\n",
       "            var layout = {\"margin\":{\"l\":10.0,\"r\":10.0,\"t\":10.0,\"b\":10.0}};\n",
       "            var config = {};\n",
       "            Plotly.newPlot('c8fc6ca2-7312-4530-a79f-a512886cf82f', data, layout, config);\r\n",
       "});\n",
       "            };\n",
       "            if ((typeof(requirejs) !==  typeof(Function)) || (typeof(requirejs.config) !== typeof(Function))) {\n",
       "                var script = document.createElement(\"script\");\n",
       "                script.setAttribute(\"src\", \"https://cdnjs.cloudflare.com/ajax/libs/require.js/2.3.6/require.min.js\");\n",
       "                script.onload = function(){\n",
       "                    renderPlotly_c8fc6ca273124530a79fa512886cf82f();\n",
       "                };\n",
       "                document.getElementsByTagName(\"head\")[0].appendChild(script);\n",
       "            }\n",
       "            else {\n",
       "                renderPlotly_c8fc6ca273124530a79fa512886cf82f();\n",
       "            }\r\n",
       "</script>\r\n"
      ]
     },
     "metadata": {},
     "output_type": "display_data"
    }
   ],
   "metadata": {
    "dotnet_interactive": {
     "language": "fsharp"
    }
   }
  },
  {
   "cell_type": "markdown",
   "source": [
    "## Controlling text fontsize with uniformtext"
   ],
   "metadata": {}
  },
  {
   "cell_type": "code",
   "execution_count": null,
   "source": [
    "#r \"nuget: Plotly.NET, 2.0.0-preview.6\"\r\n",
    "#r \"nuget: Plotly.NET.Interactive, 2.0.0-preview.6\"\r\n",
    "open Plotly.NET\r\n",
    "\r\n",
    "type DFI = CsvProvider<\"https://raw.githubusercontent.com/plotly/datasets/718417069ead87650b90472464c7565dc8c2cb1c/sunburst-coffee-flavors-complete.csv\">\r\n",
    "let df1 = DFI.Load(\"https://raw.githubusercontent.com/plotly/datasets/718417069ead87650b90472464c7565dc8c2cb1c/sunburst-coffee-flavors-complete.csv\")\r\n",
    "\r\n",
    "let layout = \r\n",
    "    let tmp = Layout()\r\n",
    "    tmp?uniformtext <- {| minsize = 10; mode = \"hide\" |}\r\n",
    "    tmp\r\n",
    "\r\n",
    "Chart.Sunburst(Ids=[for row in df1.Rows do row.Ids], labels=[for row in df1.Rows do row.Labels], parents=[for row in df1.Rows do row.Parents])\r\n",
    "|> Chart.withLayout(layout)"
   ],
   "outputs": [
    {
     "data": {
      "text/html": [
       "<div><div></div><div></div><div><strong>Installed Packages</strong><ul><li><span>Plotly.NET, 2.0.0-preview.6</span></li><li><span>Plotly.NET.Interactive, 2.0.0-preview.6</span></li></ul></div></div>"
      ]
     },
     "metadata": {},
     "output_type": "display_data"
    },
    {
     "data": {
      "text/html": [
       "<div id=\"21b6b86b-3d06-401c-98c7-6c109b56d3db\" style=\"width: 600px; height: 600px;\"><!-- Plotly chart will be drawn inside this DIV --></div>\r\n",
       "<script type=\"text/javascript\">\r\n",
       "\n",
       "            var renderPlotly_21b6b86b3d06401c98c76c109b56d3db = function() {\n",
       "            var fsharpPlotlyRequire = requirejs.config({context:'fsharp-plotly',paths:{plotly:'https://cdn.plot.ly/plotly-latest.min'}}) || require;\n",
       "            fsharpPlotlyRequire(['plotly'], function(Plotly) {\r\n",
       "\n",
       "            var data = [{\"type\":\"sunburst\",\"labels\":[\"Aromas\",\"Tastes\",\"Enzymatic\",\"Sugar Browning\",\"Dry Distillation\",\"Bitter\",\"Salt\",\"Sweet\",\"Sour\",\"Flowery\",\"Fruity\",\"Herby\",\"Nutty\",\"Carmelly\",\"Chocolatey\",\"Resinous\",\"Spicy\",\"Carbony\",\"Pungent\",\"Harsh\",\"Sharp\",\"Bland\",\"Mellow\",\"Acidy\",\"Winey\",\"Soury\",\"Floral\",\"Fragrant\",\"Citrus\",\"Berry-like\",\"Alliaceous\",\"Leguminous\",\"Nut-like\",\"Malt-like\",\"Candy-like\",\"Syrup-like\",\"Chocolate-like\",\"Vanilla-like\",\"Turpeny\",\"Medicinal\",\"Warming\",\"Pungent\",\"Smokey\",\"Ashy\",\"Creosol\",\"Phenolic\",\"Caustic\",\"Alkaline\",\"Astringent\",\"Rough\",\"Neutral\",\"Soft\",\"Delicate\",\"Mild\",\"Nippy\",\"Piquant\",\"Tangy\",\"Tart\",\"Hard\",\"Acrid\",\"Coffee Blossom\",\"Tea Rose\",\"Cardamon Caraway\",\"Coriander Seeds\",\"Lemon\",\"Apple\",\"Apricot\",\"Blackberry\",\"Onion\",\"Garlic\",\"Cucumber\",\"Garden Peas\",\"Roasted Peanuts\",\"Walnuts\",\"Balsamic Rice\",\"Toast\",\"Roasted Hazelnut\",\"Roasted Almond\",\"Honey\",\"Maple Syrup\",\"Bakers\",\"Dark Chocolate\",\"Swiss\",\"Butter\",\"Piney\",\"Blackcurrant-like\",\"Camphoric\",\"Cineolic\",\"Cedar\",\"Pepper\",\"Clove\",\"Thyme\",\"Tarry\",\"Pipe Tobacco\",\"Burnt\",\"Charred\"],\"parents\":[\"\",\"\",\"Aromas\",\"Aromas\",\"Aromas\",\"Tastes\",\"Tastes\",\"Tastes\",\"Tastes\",\"Aromas-Enzymatic\",\"Aromas-Enzymatic\",\"Aromas-Enzymatic\",\"Aromas-Sugar Browning\",\"Aromas-Sugar Browning\",\"Aromas-Sugar Browning\",\"Aromas-Dry Distillation\",\"Aromas-Dry Distillation\",\"Aromas-Dry Distillation\",\"Tastes-Bitter\",\"Tastes-Bitter\",\"Tastes-Salt\",\"Tastes-Salt\",\"Tastes-Sweet\",\"Tastes-Sweet\",\"Tastes-Sour\",\"Tastes-Sour\",\"Enzymatic-Flowery\",\"Enzymatic-Flowery\",\"Enzymatic-Fruity\",\"Enzymatic-Fruity\",\"Enzymatic-Herby\",\"Enzymatic-Herby\",\"Sugar Browning-Nutty\",\"Sugar Browning-Nutty\",\"Sugar Browning-Carmelly\",\"Sugar Browning-Carmelly\",\"Sugar Browning-Chocolatey\",\"Sugar Browning-Chocolatey\",\"Dry Distillation-Resinous\",\"Dry Distillation-Resinous\",\"Dry Distillation-Spicy\",\"Dry Distillation-Spicy\",\"Dry Distillation-Carbony\",\"Dry Distillation-Carbony\",\"Bitter-Pungent\",\"Bitter-Pungent\",\"Bitter-Harsh\",\"Bitter-Harsh\",\"Salt-Sharp\",\"Salt-Sharp\",\"Salt-Bland\",\"Salt-Bland\",\"Sweet-Mellow\",\"Sweet-Mellow\",\"Sweet-Acidy\",\"Sweet-Acidy\",\"Sour-Winey\",\"Sour-Winey\",\"Sour-Soury\",\"Sour-Soury\",\"Flowery-Floral\",\"Flowery-Floral\",\"Flowery-Fragrant\",\"Flowery-Fragrant\",\"Fruity-Citrus\",\"Fruity-Citrus\",\"Fruity-Berry-like\",\"Fruity-Berry-like\",\"Herby-Alliaceous\",\"Herby-Alliaceous\",\"Herby-Leguminous\",\"Herby-Leguminous\",\"Nutty-Nut-like\",\"Nutty-Nut-like\",\"Nutty-Malt-like\",\"Nutty-Malt-like\",\"Carmelly-Candy-like\",\"Carmelly-Candy-like\",\"Carmelly-Syrup-like\",\"Carmelly-Syrup-like\",\"Chocolatey-Chocolate-like\",\"Chocolatey-Chocolate-like\",\"Chocolatey-Vanilla-like\",\"Chocolatey-Vanilla-like\",\"Resinous-Turpeny\",\"Resinous-Turpeny\",\"Resinous-Medicinal\",\"Resinous-Medicinal\",\"Spicy-Warming\",\"Spicy-Warming\",\"Spicy-Pungent\",\"Spicy-Pungent\",\"Carbony-Smokey\",\"Carbony-Smokey\",\"Carbony-Ashy\",\"Carbony-Ashy\"],\"ids\":[\"Aromas\",\"Tastes\",\"Aromas-Enzymatic\",\"Aromas-Sugar Browning\",\"Aromas-Dry Distillation\",\"Tastes-Bitter\",\"Tastes-Salt\",\"Tastes-Sweet\",\"Tastes-Sour\",\"Enzymatic-Flowery\",\"Enzymatic-Fruity\",\"Enzymatic-Herby\",\"Sugar Browning-Nutty\",\"Sugar Browning-Carmelly\",\"Sugar Browning-Chocolatey\",\"Dry Distillation-Resinous\",\"Dry Distillation-Spicy\",\"Dry Distillation-Carbony\",\"Bitter-Pungent\",\"Bitter-Harsh\",\"Salt-Sharp\",\"Salt-Bland\",\"Sweet-Mellow\",\"Sweet-Acidy\",\"Sour-Winey\",\"Sour-Soury\",\"Flowery-Floral\",\"Flowery-Fragrant\",\"Fruity-Citrus\",\"Fruity-Berry-like\",\"Herby-Alliaceous\",\"Herby-Leguminous\",\"Nutty-Nut-like\",\"Nutty-Malt-like\",\"Carmelly-Candy-like\",\"Carmelly-Syrup-like\",\"Chocolatey-Chocolate-like\",\"Chocolatey-Vanilla-like\",\"Resinous-Turpeny\",\"Resinous-Medicinal\",\"Spicy-Warming\",\"Spicy-Pungent\",\"Carbony-Smokey\",\"Carbony-Ashy\",\"Pungent-Creosol\",\"Pungent-Phenolic\",\"Harsh-Caustic\",\"Harsh-Alkaline\",\"Sharp-Astringent\",\"Sharp-Rough\",\"Bland-Neutral\",\"Bland-Soft\",\"Mellow-Delicate\",\"Mellow-Mild\",\"Acidy-Nippy\",\"Acidy-Piquant\",\"Winey-Tangy\",\"Winey-Tart\",\"Soury-Hard\",\"Soury-Acrid\",\"Floral-Coffee Blossom\",\"Floral-Tea Rose\",\"Fragrant-Cardamon Caraway\",\"Fragrant-Coriander Seeds\",\"Citrus-Lemon\",\"Citrus-Apple\",\"Berry-like-Apricot\",\"Berry-like-Blackberry\",\"Alliaceous-Onion\",\"Alliaceous-Garlic\",\"Leguminous-Cucumber\",\"Leguminous-Garden Peas\",\"Nut-like-Roasted Peanuts\",\"Nut-like-Walnuts\",\"Malt-like-Balsamic Rice\",\"Malt-like-Toast\",\"Candy-like-Roasted Hazelnut\",\"Candy-like-Roasted Almond\",\"Syrup-like-Honey\",\"Syrup-like-Maple Syrup\",\"Chocolate-like-Bakers\",\"Chocolate-like-Dark Chocolate\",\"Vanilla-like-Swiss\",\"Vanilla-like-Butter\",\"Turpeny-Piney\",\"Turpeny-Blackcurrant-like\",\"Medicinal-Camphoric\",\"Medicinal-Cineolic\",\"Warming-Cedar\",\"Warming-Pepper\",\"Pungent-Clove\",\"Pungent-Thyme\",\"Smokey-Tarry\",\"Smokey-Pipe Tobacco\",\"Ashy-Burnt\",\"Ashy-Charred\"],\"marker\":{}}];\n",
       "            var layout = {\"uniformtext\":{\"minsize\":10,\"mode\":\"hide\"}};\n",
       "            var config = {};\n",
       "            Plotly.newPlot('21b6b86b-3d06-401c-98c7-6c109b56d3db', data, layout, config);\r\n",
       "});\n",
       "            };\n",
       "            if ((typeof(requirejs) !==  typeof(Function)) || (typeof(requirejs.config) !== typeof(Function))) {\n",
       "                var script = document.createElement(\"script\");\n",
       "                script.setAttribute(\"src\", \"https://cdnjs.cloudflare.com/ajax/libs/require.js/2.3.6/require.min.js\");\n",
       "                script.onload = function(){\n",
       "                    renderPlotly_21b6b86b3d06401c98c76c109b56d3db();\n",
       "                };\n",
       "                document.getElementsByTagName(\"head\")[0].appendChild(script);\n",
       "            }\n",
       "            else {\n",
       "                renderPlotly_21b6b86b3d06401c98c76c109b56d3db();\n",
       "            }\r\n",
       "</script>\r\n"
      ]
     },
     "metadata": {},
     "output_type": "display_data"
    }
   ],
   "metadata": {
    "dotnet_interactive": {
     "language": "fsharp"
    }
   }
  },
  {
   "cell_type": "markdown",
   "source": [
    "## Sunburst chart with a continuous colorscale"
   ],
   "metadata": {}
  },
  {
   "cell_type": "code",
   "execution_count": null,
   "source": [
    "#r \"nuget: Plotly.NET, 2.0.0-preview.6\"\r\n",
    "#r \"nuget: Plotly.NET.Interactive, 2.0.0-preview.6\"\r\n",
    "#r \"nuget: FSharp.Data\"\r\n",
    "open Plotly.NET\r\n",
    "open FSharp.Data\r\n",
    "\r\n",
    "type DFI = CsvProvider<\"https://raw.githubusercontent.com/plotly/datasets/master/sales_success.csv\">\r\n",
    "let df1 = DFI.Load(\"https://raw.githubusercontent.com/plotly/datasets/master/sales_success.csv\")\r\n",
    "type Record = {region: string; county: string; salesperson: string; calls: int; sales: int}\r\n",
    "\r\n",
    "let buildHierarchicalDataframe = \r\n",
    "    let ids = [ for row in df1.Rows do {region = row.Item2; county = row.Item3; salesperson = row.Item4; calls = row.Item5; sales = row.Item6} ]\r\n",
    "    ids\r\n",
    "\r\n",
    "let regions = [for x in df1.Rows do x.Item2, \"total\"] |> Set.ofList\r\n",
    "let counties = [for x in df1.Rows do x.Item3, x.Item2] |> Set.ofList\r\n",
    "let salesperson = [for x in df1.Rows do x.Item4, x.Item3] |> Set.ofList\r\n",
    "\r\n",
    "let byRegion = [ for region in regions do fst region, snd region, List.sumBy (fun (x: Record) -> if x.region = fst region then x.calls else 0) buildHierarchicalDataframe]\r\n",
    "let byCounties = [ for county in counties do fst county, snd county, List.sumBy (fun (x: Record) -> if x.county = fst county then x.calls else 0) buildHierarchicalDataframe]\r\n",
    "let bySalesperson = [ for sp in salesperson do fst sp, snd sp, List.sumBy (fun (x: Record) -> if x.salesperson = fst sp then x.calls else 0) buildHierarchicalDataframe]\r\n",
    "let data = List.append (List.append (List.append byRegion byCounties) bySalesperson)  [\"total\", \"\", List.sumBy (fun x -> x.calls) buildHierarchicalDataframe] |> Array.ofList\r\n",
    "let ids = [for x, _, _ in data do x]\r\n",
    "let parents = [for _, y, _ in data do y]\r\n",
    "let values = [for _, _, z in data do z |> float]\r\n",
    "[\r\n",
    "    Chart.Sunburst(Ids = ids, labels = ids, parents = parents, Values = values, Branchvalues = StyleParam.BranchValues.Total)\r\n",
    "    Chart.Sunburst(Ids = ids, labels = ids, parents = parents, Values = values, Branchvalues = StyleParam.BranchValues.Total, Maxdepth = 1)\r\n",
    "]\r\n",
    "|>Chart.Combine\r\n",
    "\r\n"
   ],
   "outputs": [
    {
     "data": {
      "text/html": [
       "<div><div></div><div></div><div><strong>Installed Packages</strong><ul><li><span>FSharp.Data, 4.2.3</span></li><li><span>Plotly.NET, 2.0.0-preview.6</span></li><li><span>Plotly.NET.Interactive, 2.0.0-preview.6</span></li></ul></div></div>"
      ]
     },
     "metadata": {},
     "output_type": "display_data"
    },
    {
     "data": {
      "text/html": [
       "<div id=\"c2609972-25a1-4279-8e3b-89fdd6128632\" style=\"width: 600px; height: 600px;\"><!-- Plotly chart will be drawn inside this DIV --></div>\r\n",
       "<script type=\"text/javascript\">\r\n",
       "\n",
       "            var renderPlotly_c260997225a142798e3b89fdd6128632 = function() {\n",
       "            var fsharpPlotlyRequire = requirejs.config({context:'fsharp-plotly',paths:{plotly:'https://cdn.plot.ly/plotly-latest.min'}}) || require;\n",
       "            fsharpPlotlyRequire(['plotly'], function(Plotly) {\r\n",
       "\n",
       "            var data = [{\"type\":\"sunburst\",\"labels\":[\"East\",\"North\",\"South\",\"West\",\"Brewster\",\"Dallam\",\"Duval\",\"Floyd\",\"Gray\",\"Hartley\",\"Hidalgo\",\"Houston\",\"Moore\",\"Motley\",\"Pecos\",\"Presidio\",\"Rusk\",\"Shelby\",\"Tyler\",\"Webb\",\"Zavala\",\"AX\",\"BI\",\"BS\",\"DQ\",\"DS\",\"EH\",\"ES\",\"FJ\",\"FL\",\"GT\",\"GW\",\"HW\",\"IJ\",\"IK\",\"IV\",\"JC\",\"JE\",\"JF\",\"KR\",\"LQ\",\"LR\",\"LV\",\"MW\",\"NY\",\"NZ\",\"OH\",\"OT\",\"OY\",\"PL\",\"QJ\",\"QK\",\"QM\",\"RR\",\"SV\",\"TW\",\"TZ\",\"UA\",\"UF\",\"UM\",\"VN\",\"WE\",\"WH\",\"WV\",\"WZ\",\"XH\",\"XY\",\"YA\",\"YJ\",\"YN\",\"ZM\",\"ZQ\",\"total\"],\"parents\":[\"total\",\"total\",\"total\",\"total\",\"West\",\"North\",\"South\",\"North\",\"North\",\"North\",\"South\",\"East\",\"North\",\"North\",\"West\",\"West\",\"East\",\"East\",\"East\",\"South\",\"South\",\"Houston\",\"Hartley\",\"Brewster\",\"Presidio\",\"Duval\",\"Motley\",\"Gray\",\"Duval\",\"Zavala\",\"Tyler\",\"Duval\",\"Rusk\",\"Dallam\",\"Brewster\",\"Zavala\",\"Tyler\",\"Dallam\",\"Brewster\",\"Webb\",\"Hidalgo\",\"Hidalgo\",\"Hidalgo\",\"Motley\",\"Motley\",\"Shelby\",\"Floyd\",\"Presidio\",\"Rusk\",\"Hartley\",\"Webb\",\"Houston\",\"Pecos\",\"Webb\",\"Presidio\",\"Moore\",\"Moore\",\"Floyd\",\"Tyler\",\"Rusk\",\"Shelby\",\"Hartley\",\"Floyd\",\"Pecos\",\"Pecos\",\"Shelby\",\"Gray\",\"Zavala\",\"Gray\",\"Houston\",\"Moore\",\"Dallam\",\"\"],\"ids\":[\"East\",\"North\",\"South\",\"West\",\"Brewster\",\"Dallam\",\"Duval\",\"Floyd\",\"Gray\",\"Hartley\",\"Hidalgo\",\"Houston\",\"Moore\",\"Motley\",\"Pecos\",\"Presidio\",\"Rusk\",\"Shelby\",\"Tyler\",\"Webb\",\"Zavala\",\"AX\",\"BI\",\"BS\",\"DQ\",\"DS\",\"EH\",\"ES\",\"FJ\",\"FL\",\"GT\",\"GW\",\"HW\",\"IJ\",\"IK\",\"IV\",\"JC\",\"JE\",\"JF\",\"KR\",\"LQ\",\"LR\",\"LV\",\"MW\",\"NY\",\"NZ\",\"OH\",\"OT\",\"OY\",\"PL\",\"QJ\",\"QK\",\"QM\",\"RR\",\"SV\",\"TW\",\"TZ\",\"UA\",\"UF\",\"UM\",\"VN\",\"WE\",\"WH\",\"WV\",\"WZ\",\"XH\",\"XY\",\"YA\",\"YJ\",\"YN\",\"ZM\",\"ZQ\",\"total\"],\"values\":[407.0,631.0,381.0,321.0,86.0,104.0,82.0,119.0,115.0,105.0,101.0,102.0,87.0,101.0,115.0,120.0,84.0,121.0,100.0,114.0,84.0,42.0,24.0,33.0,40.0,42.0,44.0,49.0,20.0,31.0,30.0,20.0,20.0,20.0,33.0,28.0,21.0,35.0,20.0,20.0,41.0,39.0,21.0,22.0,35.0,45.0,31.0,35.0,40.0,42.0,46.0,22.0,48.0,48.0,45.0,33.0,33.0,44.0,49.0,24.0,29.0,39.0,44.0,30.0,37.0,47.0,31.0,25.0,35.0,38.0,21.0,49.0,1740.0],\"branchvalues\":\"total\",\"marker\":{}},{\"type\":\"sunburst\",\"labels\":[\"East\",\"North\",\"South\",\"West\",\"Brewster\",\"Dallam\",\"Duval\",\"Floyd\",\"Gray\",\"Hartley\",\"Hidalgo\",\"Houston\",\"Moore\",\"Motley\",\"Pecos\",\"Presidio\",\"Rusk\",\"Shelby\",\"Tyler\",\"Webb\",\"Zavala\",\"AX\",\"BI\",\"BS\",\"DQ\",\"DS\",\"EH\",\"ES\",\"FJ\",\"FL\",\"GT\",\"GW\",\"HW\",\"IJ\",\"IK\",\"IV\",\"JC\",\"JE\",\"JF\",\"KR\",\"LQ\",\"LR\",\"LV\",\"MW\",\"NY\",\"NZ\",\"OH\",\"OT\",\"OY\",\"PL\",\"QJ\",\"QK\",\"QM\",\"RR\",\"SV\",\"TW\",\"TZ\",\"UA\",\"UF\",\"UM\",\"VN\",\"WE\",\"WH\",\"WV\",\"WZ\",\"XH\",\"XY\",\"YA\",\"YJ\",\"YN\",\"ZM\",\"ZQ\",\"total\"],\"parents\":[\"total\",\"total\",\"total\",\"total\",\"West\",\"North\",\"South\",\"North\",\"North\",\"North\",\"South\",\"East\",\"North\",\"North\",\"West\",\"West\",\"East\",\"East\",\"East\",\"South\",\"South\",\"Houston\",\"Hartley\",\"Brewster\",\"Presidio\",\"Duval\",\"Motley\",\"Gray\",\"Duval\",\"Zavala\",\"Tyler\",\"Duval\",\"Rusk\",\"Dallam\",\"Brewster\",\"Zavala\",\"Tyler\",\"Dallam\",\"Brewster\",\"Webb\",\"Hidalgo\",\"Hidalgo\",\"Hidalgo\",\"Motley\",\"Motley\",\"Shelby\",\"Floyd\",\"Presidio\",\"Rusk\",\"Hartley\",\"Webb\",\"Houston\",\"Pecos\",\"Webb\",\"Presidio\",\"Moore\",\"Moore\",\"Floyd\",\"Tyler\",\"Rusk\",\"Shelby\",\"Hartley\",\"Floyd\",\"Pecos\",\"Pecos\",\"Shelby\",\"Gray\",\"Zavala\",\"Gray\",\"Houston\",\"Moore\",\"Dallam\",\"\"],\"ids\":[\"East\",\"North\",\"South\",\"West\",\"Brewster\",\"Dallam\",\"Duval\",\"Floyd\",\"Gray\",\"Hartley\",\"Hidalgo\",\"Houston\",\"Moore\",\"Motley\",\"Pecos\",\"Presidio\",\"Rusk\",\"Shelby\",\"Tyler\",\"Webb\",\"Zavala\",\"AX\",\"BI\",\"BS\",\"DQ\",\"DS\",\"EH\",\"ES\",\"FJ\",\"FL\",\"GT\",\"GW\",\"HW\",\"IJ\",\"IK\",\"IV\",\"JC\",\"JE\",\"JF\",\"KR\",\"LQ\",\"LR\",\"LV\",\"MW\",\"NY\",\"NZ\",\"OH\",\"OT\",\"OY\",\"PL\",\"QJ\",\"QK\",\"QM\",\"RR\",\"SV\",\"TW\",\"TZ\",\"UA\",\"UF\",\"UM\",\"VN\",\"WE\",\"WH\",\"WV\",\"WZ\",\"XH\",\"XY\",\"YA\",\"YJ\",\"YN\",\"ZM\",\"ZQ\",\"total\"],\"values\":[407.0,631.0,381.0,321.0,86.0,104.0,82.0,119.0,115.0,105.0,101.0,102.0,87.0,101.0,115.0,120.0,84.0,121.0,100.0,114.0,84.0,42.0,24.0,33.0,40.0,42.0,44.0,49.0,20.0,31.0,30.0,20.0,20.0,20.0,33.0,28.0,21.0,35.0,20.0,20.0,41.0,39.0,21.0,22.0,35.0,45.0,31.0,35.0,40.0,42.0,46.0,22.0,48.0,48.0,45.0,33.0,33.0,44.0,49.0,24.0,29.0,39.0,44.0,30.0,37.0,47.0,31.0,25.0,35.0,38.0,21.0,49.0,1740.0],\"branchvalues\":\"total\",\"maxdepth\":1,\"marker\":{}}];\n",
       "            var layout = {};\n",
       "            var config = {};\n",
       "            Plotly.newPlot('c2609972-25a1-4279-8e3b-89fdd6128632', data, layout, config);\r\n",
       "});\n",
       "            };\n",
       "            if ((typeof(requirejs) !==  typeof(Function)) || (typeof(requirejs.config) !== typeof(Function))) {\n",
       "                var script = document.createElement(\"script\");\n",
       "                script.setAttribute(\"src\", \"https://cdnjs.cloudflare.com/ajax/libs/require.js/2.3.6/require.min.js\");\n",
       "                script.onload = function(){\n",
       "                    renderPlotly_c260997225a142798e3b89fdd6128632();\n",
       "                };\n",
       "                document.getElementsByTagName(\"head\")[0].appendChild(script);\n",
       "            }\n",
       "            else {\n",
       "                renderPlotly_c260997225a142798e3b89fdd6128632();\n",
       "            }\r\n",
       "</script>\r\n"
      ]
     },
     "metadata": {},
     "output_type": "display_data"
    }
   ],
   "metadata": {
    "dotnet_interactive": {
     "language": "fsharp"
    }
   }
  }
 ],
 "metadata": {
  "orig_nbformat": 4,
  "language_info": {
   "file_extension": ".cs",
   "mimetype": "text/x-csharp",
   "name": "C#",
   "pygments_lexer": "csharp",
   "version": "9.0"
  },
  "kernelspec": {
   "display_name": ".NET (C#)",
   "language": "C#",
   "name": ".net-csharp"
  }
 },
 "nbformat": 4,
 "nbformat_minor": 2
}